{
 "cells": [
  {
   "cell_type": "markdown",
   "metadata": {},
   "source": [
    "### **Semantic Math Types from unstructured text**\n",
    "\n",
    "This is an overview of the Mathematics Stack Exchange Dataset and a showroom for semantic annotations of mathematical expressions"
   ]
  },
  {
   "cell_type": "code",
   "execution_count": 1,
   "metadata": {},
   "outputs": [],
   "source": [
    "from mse_db import MSE_DBS # provides an interface for interaction with a local MongoDB instance\n",
    "import funcs               # provides data processing functions\n",
    "from sem_math import PostThread, \\\n",
    "                     FormulaContextType, \\\n",
    "                     FormulaType, \\\n",
    "                     Comparer\n",
    "import matplotlib.pyplot as plt\n",
    "from matplotlib.ticker import ScalarFormatter"
   ]
  },
  {
   "cell_type": "markdown",
   "metadata": {},
   "source": [
    "The PostThread class encapsulates one question post and all corresponding answers. The three other classes (FormulaContextType, FormulaType and Comparer) are used to determine a semantic type."
   ]
  },
  {
   "cell_type": "markdown",
   "metadata": {},
   "source": [
    "#### **1. Dataset Overview**"
   ]
  },
  {
   "cell_type": "markdown",
   "metadata": {},
   "source": [
    "The basic unit of the processed MSE dataset is a PostThread instance which includes one question post and all corresponding answer posts. All of these are stored within the **posts** attribute. \n",
    "\n",
    "![Post Thread Entry in DB](<images/post_thread_entry.png>)"
   ]
  },
  {
   "cell_type": "markdown",
   "metadata": {},
   "source": [
    "A **post** entry includes general post metadata, as well as a set of tags and a **PostTypeId** which has the value 1 for question posts and a value of 2 for answer posts."
   ]
  },
  {
   "cell_type": "markdown",
   "metadata": {},
   "source": [
    "![Post Entry in DB](images/post_entry.png)"
   ]
  },
  {
   "cell_type": "code",
   "execution_count": 2,
   "metadata": {},
   "outputs": [
    {
     "name": "stdout",
     "output_type": "stream",
     "text": [
      "ENTIRE dataset has 1502850 post-threads\n"
     ]
    }
   ],
   "source": [
    "log_file_name = \"conf\\log.txt\"                          # processing log\n",
    "db_settings_file_name = \"conf\\db_conf.json\"             # settings file for the database connection (local)\n",
    "\n",
    "data = MSE_DBS(db_settings_file_name, log_file_name) \n",
    "total_count = data.apply_once(\"threads\", funcs.count_all_post_threads_once)      # counts all documents in threads collection -> ENTIRE DATASET\n",
    "print(\"ENTIRE dataset has {} post-threads\".format(total_count))\n",
    "data.reset_count()"
   ]
  },
  {
   "cell_type": "code",
   "execution_count": 3,
   "metadata": {},
   "outputs": [
    {
     "name": "stdout",
     "output_type": "stream",
     "text": [
      "\"algebra-precalculus\": 43604 post-threads, number of posts: 126404 , average: 2.90\n",
      "\"analytic-geometry\": 5934 post-threads, number of posts: 14297 , average: 2.41\n",
      "\"elementary-functions\": 515 post-threads, number of posts: 1225 , average: 2.38\n",
      "\"elementary-number-theory\": 34454 post-threads, number of posts: 90098 , average: 2.62\n",
      "\"elementary-set-theory\": 26535 post-threads, number of posts: 66175 , average: 2.49\n",
      "\"euclidean-geometry\": 8188 post-threads, number of posts: 19052 , average: 2.33\n",
      "\"trigonometry\": 27356 post-threads, number of posts: 75653 , average: 2.77\n",
      "\n",
      "\n",
      "146586 post-threads\n",
      "selected data is 9.75 % of ENTIRE dataset\n"
     ]
    }
   ],
   "source": [
    "sel_coll_names = [\"algebra-precalculus\", \"analytic-geometry\", \"elementary-functions\", \"elementary-number-theory\", \\\n",
    "                  \"elementary-set-theory\", \"euclidean-geometry\", \"trigonometry\"]\n",
    "\n",
    "sel_data_size = 0\n",
    "for coll in sel_coll_names:\n",
    "    coll_size = data.apply_once(coll, funcs.count_all_post_threads_once)\n",
    "    posts_len, posts_av = data.apply_once(coll, funcs.count_av_all_posts_once)  \n",
    "    print(\"\\\"{}\\\": {} post-threads, number of posts: {} , average: {:.2f}\".format(coll,coll_size, posts_len, posts_av))\n",
    "    sel_data_size += coll_size\n",
    "\n",
    "print(\"\\n\")\n",
    "print(\"{} post-threads\".format(sel_data_size))\n",
    "print(\"selected data is {:.2f} % of ENTIRE dataset\".format(100* (sel_data_size/total_count)))"
   ]
  },
  {
   "cell_type": "markdown",
   "metadata": {},
   "source": [
    "The project will be using only this subset of data because it is sufficiently large to demonstrate a working prototype and because questions and answers from the selected categories include the most common and widely used mathematical types and notations."
   ]
  },
  {
   "cell_type": "markdown",
   "metadata": {},
   "source": [
    "#### **2. Formula Occurence**"
   ]
  },
  {
   "cell_type": "markdown",
   "metadata": {},
   "source": [
    "The **Post Thread** entry also includes a formulas attribute, which is a list of all extracted formulas / mathematical expressions. Each formula entry has an **id**, and a **latex string**, but also a **mathematical type**, a **relevant string** (if found) that describes the value and a **decision string** that explains how the program determined the type."
   ]
  },
  {
   "cell_type": "markdown",
   "metadata": {},
   "source": [
    "![Formula Entry in DB](images/formulas_entry.PNG)\n"
   ]
  },
  {
   "cell_type": "markdown",
   "metadata": {},
   "source": []
  },
  {
   "cell_type": "code",
   "execution_count": 4,
   "metadata": {},
   "outputs": [
    {
     "name": "stdout",
     "output_type": "stream",
     "text": [
      "\"algebra-precalculus\": 1014466 formulas , average: 23.27 \n",
      "\"analytic-geometry\": 145334 formulas , average: 24.49 \n",
      "\"elementary-functions\": 11125 formulas , average: 21.60 \n",
      "\"elementary-number-theory\": 1144251 formulas , average: 33.21 \n",
      "\"elementary-set-theory\": 715175 formulas , average: 26.95 \n",
      "\"euclidean-geometry\": 224931 formulas , average: 27.47 \n",
      "\"trigonometry\": 565353 formulas , average: 20.67 \n",
      "\n",
      "\n",
      "selected data has a total of 3820635 formulas\n"
     ]
    }
   ],
   "source": [
    "sel_coll_names = [\"algebra-precalculus\", \"analytic-geometry\", \"elementary-functions\", \"elementary-number-theory\", \\\n",
    "                  \"elementary-set-theory\", \"euclidean-geometry\", \"trigonometry\"]\n",
    "\n",
    "sel_formulas_total = 0\n",
    "formula_counts_list = []\n",
    "for coll in sel_coll_names:\n",
    "    num_formulas = data.apply_once(coll, funcs.count_all_formulas_once)\n",
    "    av_formulas = data.apply_once(coll, funcs.formulas_av_once)  \n",
    "    formula_counts_list.append(num_formulas)\n",
    "    print(\"\\\"{}\\\": {} formulas , average: {:.2f} \".format(coll,num_formulas, av_formulas))\n",
    "    sel_formulas_total += num_formulas\n",
    "\n",
    "print(\"\\n\")\n",
    "print(\"selected data has a total of {} formulas\".format(sel_formulas_total))"
   ]
  },
  {
   "cell_type": "markdown",
   "metadata": {},
   "source": [
    "#### **3. Semantic Types Extraction**"
   ]
  },
  {
   "cell_type": "code",
   "execution_count": 8,
   "metadata": {},
   "outputs": [],
   "source": [
    "def plot_types(labels, val_lists, types, title_str):\n",
    "\n",
    "    fig = plt.figure(figsize=(10,5))\n",
    "    ax = fig.add_subplot(111)\n",
    "    width = 0.5 \n",
    "\n",
    "    sums = [0 for i in range(len(val_lists[0]))]\n",
    "    for i in range(len(val_lists)):\n",
    "        if not i == 0:\n",
    "            sums = [ v1 + v2 for v1, v2 in zip(sums, val_lists[i-1])]\n",
    "        ax.bar(labels, val_lists[i], width, label=types[i], bottom=sums)\n",
    "   \n",
    "    y_formatter = ScalarFormatter(useOffset=False)\n",
    "    y_formatter.set_scientific(False)\n",
    "    ax.yaxis.set_major_formatter(y_formatter)\n",
    "    ax.set_ylabel('Absolute numbers')\n",
    "    ax.set_title(title_str)\n",
    "    ax.legend()\n",
    "    plt.show()"
   ]
  },
  {
   "cell_type": "code",
   "execution_count": 9,
   "metadata": {},
   "outputs": [
    {
     "data": {
      "image/png": "[encoded data removed]",
      "text/plain": [
       "<Figure size 1000x500 with 1 Axes>"
      ]
     },
     "metadata": {},
     "output_type": "display_data"
    }
   ],
   "source": [
    "sel_coll_names = [\"algebra-precalculus\", \"analytic-geometry\", \"elementary-functions\", \"elementary-number-theory\", \\\n",
    "                  \"elementary-set-theory\", \"euclidean-geometry\", \"trigonometry\"]\n",
    "\n",
    "sel_coll_labels = [\"algebra-\\nprecalculus\", \"analytic-\\ngeometry\", \"elementary-\\nfunctions\", \"elementary-\\nnumber-\\ntheory\", \\\n",
    "                  \"elementary-\\nset-\\ntheory\", \"euclidean-\\ngeometry\", \"trigonometry\"]\n",
    "                  \n",
    "m_type_labels  = [\"SET\", \"FUNC\", \"SCAL\", \"UNK\"]\n",
    "translation_dict = { \"TypeBothCount\": \"both\", \\\n",
    "                     \"TypeContextCount\": \"context\", \\\n",
    "                     \"TypeContextR2Count\": \"context-rule 2\", \\\n",
    "                     \"TypeFormulaCount\": \"formula\"}\n",
    "\n",
    "categories = list(translation_dict.values())\n",
    "vals_list = []\n",
    "for t_label in m_type_labels:\n",
    "    t_all_counts_list = []\n",
    "    for coll in sel_coll_names:\n",
    "        type_count_dict = data.apply_once(coll, funcs.count_m_type_occurences_once, {\"m_type\": t_label})\n",
    "        type_count_total = type_count_dict[\"TypeBothCount\"] + \\\n",
    "                           type_count_dict[\"TypeContextCount\"] + \\\n",
    "                           type_count_dict[\"TypeContextR2Count\"] + \\\n",
    "                           type_count_dict[\"TypeFormulaCount\"]\n",
    "        t_all_counts_list.append(type_count_total)\n",
    "    vals_list.append(t_all_counts_list)\n",
    "\n",
    "title_str = \"Distribution of mathematical types\"\n",
    "plot_types(sel_coll_labels, vals_list, m_type_labels, title_str)"
   ]
  },
  {
   "cell_type": "code",
   "execution_count": null,
   "metadata": {},
   "outputs": [],
   "source": [
    "sel_coll_names = [\"algebra-precalculus\", \"analytic-geometry\", \"elementary-functions\", \"elementary-number-theory\", \\\n",
    "                  \"elementary-set-theory\", \"euclidean-geometry\", \"trigonometry\"]\n",
    "\n",
    "sel_coll_labels = [\"algebra-\\nprecalculus\", \"analytic-\\ngeometry\", \"elementary-\\nfunctions\", \"elementary-\\nnumber-\\ntheory\", \\\n",
    "                  \"elementary-\\nset-\\ntheory\", \"euclidean-\\ngeometry\", \"trigonometry\"]\n",
    "                  \n",
    "m_type_labels  = [\"SET\", \"FUNC\", \"SCAL\", \"UNK\"]\n",
    "translation_dict = { \"TypeBothCount\": \"both\", \\\n",
    "                     \"TypeContextCount\": \"context\", \\\n",
    "                     \"TypeContextR2Count\": \"context-rule 2\", \\\n",
    "                     \"TypeFormulaCount\": \"formula\"}\n",
    "\n",
    "categories = list(translation_dict.values())\n",
    "vals_list = [[] for cat in categories]\n",
    "for coll in sel_coll_names:\n",
    "    type_count_dict = data.apply_once(coll, funcs.count_m_type_occurences_once, {\"m_type\": \"FUNC\"})\n",
    "    vals_list[0].append(type_count_dict[\"TypeBothCount\"])\n",
    "    vals_list[1].append(type_count_dict[\"TypeContextCount\"])\n",
    "    vals_list[2].append(type_count_dict[\"TypeContextR2Count\"])\n",
    "    vals_list[3].append(type_count_dict[\"TypeFormulaCount\"])\n",
    "\n",
    "\n",
    "title_str = \"Determining factors in choosing FUNC as the formula type\"\n",
    "plot_types(sel_coll_labels, vals_list, categories, title_str)"
   ]
  },
  {
   "cell_type": "code",
   "execution_count": null,
   "metadata": {},
   "outputs": [],
   "source": [
    "categories = list(translation_dict.values())\n",
    "vals_list = [[] for cat in categories]\n",
    "for coll in sel_coll_names:\n",
    "    type_count_dict = data.apply_once(coll, funcs.count_m_type_occurences_once, {\"m_type\": \"SET\"})\n",
    "    vals_list[0].append(type_count_dict[\"TypeBothCount\"])\n",
    "    vals_list[1].append(type_count_dict[\"TypeContextCount\"])\n",
    "    vals_list[2].append(type_count_dict[\"TypeContextR2Count\"])\n",
    "    vals_list[3].append(type_count_dict[\"TypeFormulaCount\"])\n",
    "\n",
    "\n",
    "title_str = \"Determining factors in choosing FUNC as the formula type\"\n",
    "plot_types(sel_coll_labels, vals_list, categories, title_str)"
   ]
  },
  {
   "cell_type": "code",
   "execution_count": null,
   "metadata": {},
   "outputs": [],
   "source": [
    "categories = list(translation_dict.values())\n",
    "vals_list = [[] for cat in categories]\n",
    "for coll in sel_coll_names:\n",
    "    type_count_dict = data.apply_once(coll, funcs.count_m_type_occurences_once, {\"m_type\": \"SCAL\"})\n",
    "    vals_list[0].append(type_count_dict[\"TypeBothCount\"])\n",
    "    vals_list[1].append(type_count_dict[\"TypeContextCount\"])\n",
    "    vals_list[2].append(type_count_dict[\"TypeContextR2Count\"])\n",
    "    vals_list[3].append(type_count_dict[\"TypeFormulaCount\"])\n",
    "\n",
    "\n",
    "title_str = \"Determining factors in choosing FUNC as the formula type\"\n",
    "plot_types(sel_coll_labels, vals_list, categories, title_str)"
   ]
  }
 ],
 "metadata": {
  "kernelspec": {
   "display_name": "Python 3.10.8 ('sem_math_env': venv)",
   "language": "python",
   "name": "python3"
  },
  "language_info": {
   "codemirror_mode": {
    "name": "ipython",
    "version": 3
   },
   "file_extension": ".py",
   "mimetype": "text/x-python",
   "name": "python",
   "nbconvert_exporter": "python",
   "pygments_lexer": "ipython3",
   "version": "3.10.8"
  },
  "orig_nbformat": 4,
  "vscode": {
   "interpreter": {
    "hash": "71a9a05a8d236729134f51de1f1fd612c9215f2a378954bc400639bac96e00eb"
   }
  }
 },
 "nbformat": 4,
 "nbformat_minor": 2
}
