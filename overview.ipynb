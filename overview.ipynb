{
 "cells": [
  {
   "cell_type": "markdown",
   "metadata": {},
   "source": [
    "### **Semantic Math Types from unstructured text**\n",
    "\n",
    "This is an overview of the Mathematics Stack Exchange Dataset and a showroom for semantic annotations of mathematical expressions"
   ]
  },
  {
   "cell_type": "code",
   "execution_count": 22,
   "metadata": {},
   "outputs": [],
   "source": [
    "from mse_db import MSE_DBS # provides an interface for interaction with a local MongoDB instance\n",
    "import funcs               # provides data processing functions\n",
    "from sem_math import PostThread, \\\n",
    "                     FormulaContextType, \\\n",
    "                     FormulaType, \\\n",
    "                     Comparer"
   ]
  },
  {
   "cell_type": "markdown",
   "metadata": {},
   "source": [
    "The PostThread class encapsulates one question post and all corresponding answers. The three other classes (FormulaContextType, FormulaType and Comparer) are used to determine a semantic type."
   ]
  },
  {
   "cell_type": "markdown",
   "metadata": {},
   "source": [
    "#### **1. Dataset Overview**"
   ]
  },
  {
   "cell_type": "markdown",
   "metadata": {},
   "source": [
    "The basic unit of the processed MSE dataset is a PostThread instance which includes one question post and all corresponding answer posts. All of these are stored within the **posts** attribute. \n",
    "\n",
    "![Post Thread Entry in DB](images/post_thread_entry.png)"
   ]
  },
  {
   "cell_type": "markdown",
   "metadata": {},
   "source": [
    "A **post** entry includes general post metadata, as well as a set of tags and a **PostTypeId** which has the value 1 for question posts and a value of 2 for answer posts."
   ]
  },
  {
   "cell_type": "markdown",
   "metadata": {},
   "source": [
    "![Post Entry in DB](images/post_entry.png)"
   ]
  },
  {
   "cell_type": "code",
   "execution_count": 23,
   "metadata": {},
   "outputs": [
    {
     "name": "stdout",
     "output_type": "stream",
     "text": [
      "ENTIRE dataset has 1502850 post-threads\n"
     ]
    }
   ],
   "source": [
    "log_file_name = \"conf\\log.txt\"                          # processing log\n",
    "db_settings_file_name = \"conf\\db_conf.json\"             # settings file for the database connection (local)\n",
    "\n",
    "data = MSE_DBS(db_settings_file_name, log_file_name) \n",
    "total_count = data.apply_once(\"threads\", funcs.count_all_post_threads)      # counts all documents in threads collection -> ENTIRE DATASET\n",
    "print(\"ENTIRE dataset has {} post-threads\".format(total_count))\n",
    "data.reset_count()"
   ]
  },
  {
   "cell_type": "code",
   "execution_count": 24,
   "metadata": {},
   "outputs": [
    {
     "name": "stdout",
     "output_type": "stream",
     "text": [
      "\"algebra-precalculus\" has 43604 post-threads. \t |  Total number of posts: 126404 with average of 2.90 for each post-thread\n",
      "\"analytic-geometry\" has 5934 post-threads. \t |  Total number of posts: 14297 with average of 2.41 for each post-thread\n",
      "\"elementary-functions\" has 515 post-threads. \t |  Total number of posts: 1225 with average of 2.38 for each post-thread\n",
      "\"elementary-number-theory\" has 34454 post-threads. \t |  Total number of posts: 90098 with average of 2.62 for each post-thread\n",
      "\"elementary-set-theory\" has 26535 post-threads. \t |  Total number of posts: 66175 with average of 2.49 for each post-thread\n",
      "\"euclidean-geometry\" has 8188 post-threads. \t |  Total number of posts: 19052 with average of 2.33 for each post-thread\n",
      "\"trigonometry\" has 27356 post-threads. \t |  Total number of posts: 75653 with average of 2.77 for each post-thread\n",
      "\n",
      "\n",
      "selected data includes a total of 146586 post-threads\n",
      "selected data is 9.75 % of ENTIRE dataset\n"
     ]
    }
   ],
   "source": [
    "sel_coll_names = [\"algebra-precalculus\", \"analytic-geometry\", \"elementary-functions\", \"elementary-number-theory\", \\\n",
    "                  \"elementary-set-theory\", \"euclidean-geometry\", \"trigonometry\"]\n",
    "\n",
    "sel_data_size = 0\n",
    "for coll in sel_coll_names:\n",
    "    coll_size = data.apply_once(coll, funcs.count_all_post_threads)\n",
    "    posts_len, posts_av = data.apply_once(coll, funcs.count_av_all_posts_once)  \n",
    "    print(\"\\\"{}\\\" has {} post-threads. \\t |  Total number of posts: {} with average of {:.2f} for each post-thread\".format(coll,coll_size, posts_len, posts_av))\n",
    "    sel_data_size += coll_size\n",
    "\n",
    "print(\"\\n\")\n",
    "print(\"selected data includes a total of {} post-threads\".format(sel_data_size))\n",
    "print(\"selected data is {:.2f} % of ENTIRE dataset\".format(100* (sel_data_size/total_count)))"
   ]
  },
  {
   "cell_type": "markdown",
   "metadata": {},
   "source": [
    "The project will be using only this subset of data because it is sufficiently large to demonstrate a working prototype and because questions and answers from the selected categories include the most common and widely used mathematical types and notations."
   ]
  },
  {
   "cell_type": "markdown",
   "metadata": {},
   "source": [
    "#### **2. Formula Occurence**"
   ]
  },
  {
   "cell_type": "markdown",
   "metadata": {},
   "source": [
    "The **Post Thread** entry also includes a formulas attribute, which is a list of all extracted formulas / mathematical expressions. Each formula entry has an **id**, and a **latex string**, but also a **mathematical type**, a **relevant string** (if found) that describes the value and a **decision string** that explains how the program determined the type."
   ]
  },
  {
   "cell_type": "markdown",
   "metadata": {},
   "source": [
    "![Formula Entry in DB](./images/formulas_entry.PNG)\n"
   ]
  },
  {
   "cell_type": "code",
   "execution_count": 26,
   "metadata": {},
   "outputs": [
    {
     "name": "stdout",
     "output_type": "stream",
     "text": [
      "\"algebra-precalculus\" has 1014466 formulas with an average of 23.27 formulas for each post-thread\n",
      "\"analytic-geometry\" has 145334 formulas with an average of 24.49 formulas for each post-thread\n",
      "\"elementary-functions\" has 11125 formulas with an average of 21.60 formulas for each post-thread\n",
      "\"elementary-number-theory\" has 1144251 formulas with an average of 33.21 formulas for each post-thread\n",
      "\"elementary-set-theory\" has 715175 formulas with an average of 26.95 formulas for each post-thread\n",
      "\"euclidean-geometry\" has 224931 formulas with an average of 27.47 formulas for each post-thread\n",
      "\"trigonometry\" has 565353 formulas with an average of 20.67 formulas for each post-thread\n",
      "\n",
      "\n",
      "selected data has a total of 3820635 formulas\n"
     ]
    }
   ],
   "source": [
    "sel_coll_names = [\"algebra-precalculus\", \"analytic-geometry\", \"elementary-functions\", \"elementary-number-theory\", \\\n",
    "                  \"elementary-set-theory\", \"euclidean-geometry\", \"trigonometry\"]\n",
    "\n",
    "sel_formulas_total = 0\n",
    "for coll in sel_coll_names:\n",
    "    num_formulas = data.apply_once(coll, funcs.count_all_formulas_once)\n",
    "    av_formulas = data.apply_once(coll, funcs.formulas_av_once)  \n",
    "    print(\"\\\"{}\\\" has {} formulas with an average of {:.2f} formulas for each post-thread\".format(coll,num_formulas, av_formulas))\n",
    "    sel_formulas_total += num_formulas\n",
    "\n",
    "print(\"\\n\")\n",
    "print(\"selected data has a total of {} formulas\".format(sel_formulas_total))"
   ]
  },
  {
   "cell_type": "markdown",
   "metadata": {},
   "source": [
    "#### **3. Semantic Types Extraction**"
   ]
  },
  {
   "cell_type": "code",
   "execution_count": null,
   "metadata": {},
   "outputs": [],
   "source": []
  },
  {
   "cell_type": "markdown",
   "metadata": {},
   "source": [
    "#### **4. Posts titles**"
   ]
  }
 ],
 "metadata": {
  "kernelspec": {
   "display_name": "Python 3.10.8 ('sem_math_env': venv)",
   "language": "python",
   "name": "python3"
  },
  "language_info": {
   "codemirror_mode": {
    "name": "ipython",
    "version": 3
   },
   "file_extension": ".py",
   "mimetype": "text/x-python",
   "name": "python",
   "nbconvert_exporter": "python",
   "pygments_lexer": "ipython3",
   "version": "3.10.8"
  },
  "orig_nbformat": 4,
  "vscode": {
   "interpreter": {
    "hash": "71a9a05a8d236729134f51de1f1fd612c9215f2a378954bc400639bac96e00eb"
   }
  }
 },
 "nbformat": 4,
 "nbformat_minor": 2
}
