{
 "cells": [
  {
   "cell_type": "code",
   "execution_count": 1,
   "metadata": {},
   "outputs": [],
   "source": [
    "import os\n",
    "\n",
    "# takes care of annoying TF-GPU warnings\n",
    "os.environ[\"CUDA_VISIBLE_DEVICES\"] = \"-1\"\n",
    "os.environ[\"TF_CPP_MIN_LOG_LEVEL\"] = \"3\"\n",
    "\n",
    "# remove useless Tensorflow warning:\n",
    "# WARNING:absl:Found untraced functions such as _update_step_xla, lstm_cell_1_layer_call_fn, \n",
    "# lstm_cell_1_layer_call_and_return_conditional_losses, lstm_cell_2_layer_call_fn, \n",
    "# lstm_cell_2_layer_call_and_return_conditional_losses while saving (showing 5 of 5). \n",
    "# These functions will not be directly callable after loading.\n",
    "import absl.logging\n",
    "absl.logging.set_verbosity(absl.logging.ERROR)"
   ]
  },
  {
   "cell_type": "code",
   "execution_count": 2,
   "metadata": {},
   "outputs": [],
   "source": [
    "# very useful for managing wandb runs: https://stackoverflow.com/questions/71106179/log-two-model-runs-with-keras-wandb\n",
    "import wandb\n",
    "from wandb.keras import WandbCallback\n",
    "os.environ[\"WANDB_SILENT\"] = \"true\""
   ]
  },
  {
   "attachments": {},
   "cell_type": "markdown",
   "metadata": {},
   "source": [
    "#### RNN: Formula Label Prediction "
   ]
  },
  {
   "cell_type": "code",
   "execution_count": 3,
   "metadata": {},
   "outputs": [],
   "source": [
    "import numpy as np \n",
    "import pandas as pd\n",
    "from pathlib import Path \n",
    "\n",
    "import tensorflow as tf\n",
    "\n",
    "from tensorflow.keras import layers \n",
    "from tensorflow.keras import utils\n",
    "\n",
    "import tensorflow_datasets as tfds\n",
    "import tensorflow_text as tf_text\n",
    "\n",
    "import datetime\n",
    "\n",
    "tfds.disable_progress_bar()\n",
    "wandb_project_name = \"binary_formula_classification\""
   ]
  },
  {
   "cell_type": "code",
   "execution_count": 4,
   "metadata": {},
   "outputs": [],
   "source": [
    "import matplotlib.pyplot as plt\n",
    "\n",
    "def plot_graphs(history, metric):\n",
    "    plt.plot(history.history[metric])\n",
    "    plt.plot(history.history[\"val_\"+metric], \"\")\n",
    "    plt.xlabel(\"Epochs\")\n",
    "    plt.ylabel(metric)\n",
    "    plt.legend([metric, \"val_\"+metric])"
   ]
  },
  {
   "attachments": {},
   "cell_type": "markdown",
   "metadata": {},
   "source": [
    "#### Import Data and Preprocess Dataframe"
   ]
  },
  {
   "cell_type": "code",
   "execution_count": 5,
   "metadata": {},
   "outputs": [],
   "source": [
    "def preprocess_data(corpus,\n",
    "                    irrelevant_features=[\"mtype\",]):\n",
    "    # drop irrelevant columns\n",
    "    corpus.drop(irrelevant_features, inplace=True, axis=1)\n",
    "\n",
    "    # filter strings\n",
    "    def process_cell(cell_str):\n",
    "        stripped_f_str = cell_str[1:-1].replace(\"\\\\\\\\\", \"\\\\\")\n",
    "        f_list = stripped_f_str.split(\",\")\n",
    "        f_list = [token.replace(\"'\", \"\").replace(\" \", \"\") for token in f_list]\n",
    "        f_list = [\"{\" if token == \"\\\\{\" else token for token in f_list]\n",
    "        f_list = [\"}\" if token == \"\\\\}\" else token for token in f_list]\n",
    "        cell_str = \" \".join(f_list)\n",
    "        return cell_str\n",
    "\n",
    "    corpus[\"tokens\"] = corpus[\"tokens\"].map(process_cell)"
   ]
  },
  {
   "cell_type": "code",
   "execution_count": 6,
   "metadata": {},
   "outputs": [
    {
     "data": {
      "text/html": [
       "<div>\n",
       "<style scoped>\n",
       "    .dataframe tbody tr th:only-of-type {\n",
       "        vertical-align: middle;\n",
       "    }\n",
       "\n",
       "    .dataframe tbody tr th {\n",
       "        vertical-align: top;\n",
       "    }\n",
       "\n",
       "    .dataframe thead th {\n",
       "        text-align: right;\n",
       "    }\n",
       "</style>\n",
       "<table border=\"1\" class=\"dataframe\">\n",
       "  <thead>\n",
       "    <tr style=\"text-align: right;\">\n",
       "      <th></th>\n",
       "      <th>tokens</th>\n",
       "      <th>type_tokens</th>\n",
       "      <th>label</th>\n",
       "    </tr>\n",
       "  </thead>\n",
       "  <tbody>\n",
       "    <tr>\n",
       "      <th>0</th>\n",
       "      <td>f : A \\to B</td>\n",
       "      <td>['func_def', 'func_name', '__ANON_1', 'COLON',...</td>\n",
       "      <td>1</td>\n",
       "    </tr>\n",
       "    <tr>\n",
       "      <th>1</th>\n",
       "      <td>f</td>\n",
       "      <td>['func_name', '__ANON_1']</td>\n",
       "      <td>1</td>\n",
       "    </tr>\n",
       "    <tr>\n",
       "      <th>2</th>\n",
       "      <td>g \\colon B \\to I</td>\n",
       "      <td>['func_def', 'func_name', '__ANON_1', 'COLON',...</td>\n",
       "      <td>1</td>\n",
       "    </tr>\n",
       "    <tr>\n",
       "      <th>3</th>\n",
       "      <td>\\frac { 8 ! } { ( 8 - 4 ) ! }</td>\n",
       "      <td>['expr_atom', 'CMD_FRAC', 'L_BRACE', 'postfix'...</td>\n",
       "      <td>1</td>\n",
       "    </tr>\n",
       "    <tr>\n",
       "      <th>4</th>\n",
       "      <td>f</td>\n",
       "      <td>['func_name', '__ANON_1']</td>\n",
       "      <td>1</td>\n",
       "    </tr>\n",
       "  </tbody>\n",
       "</table>\n",
       "</div>"
      ],
      "text/plain": [
       "                          tokens  \\\n",
       "0                    f : A \\to B   \n",
       "1                              f   \n",
       "2               g \\colon B \\to I   \n",
       "3  \\frac { 8 ! } { ( 8 - 4 ) ! }   \n",
       "4                              f   \n",
       "\n",
       "                                         type_tokens  label  \n",
       "0  ['func_def', 'func_name', '__ANON_1', 'COLON',...      1  \n",
       "1                          ['func_name', '__ANON_1']      1  \n",
       "2  ['func_def', 'func_name', '__ANON_1', 'COLON',...      1  \n",
       "3  ['expr_atom', 'CMD_FRAC', 'L_BRACE', 'postfix'...      1  \n",
       "4                          ['func_name', '__ANON_1']      1  "
      ]
     },
     "execution_count": 6,
     "metadata": {},
     "output_type": "execute_result"
    }
   ],
   "source": [
    "#print(os.getcwd())\n",
    "data_p = Path(\"../data/\") / \"bin_class_data_TOKENIZED_SET_V1.csv\"\n",
    "data = pd.read_csv(data_p)\n",
    "preprocess_data(data)\n",
    "data.head()\n"
   ]
  },
  {
   "cell_type": "code",
   "execution_count": 7,
   "metadata": {},
   "outputs": [],
   "source": [
    "SIZE_TRAIN_DS = 10000\n",
    "SIZE_TEST_DS = 1000\n",
    "data_as_ds = tf.data.Dataset.from_tensor_slices((data[\"tokens\"], data[\"label\"])) \n",
    "test_dataset = data_as_ds.take(SIZE_TEST_DS)\n",
    "train_dataset = data_as_ds.skip(SIZE_TEST_DS)"
   ]
  },
  {
   "attachments": {},
   "cell_type": "markdown",
   "metadata": {},
   "source": [
    "##### Setup and Data Preparation"
   ]
  },
  {
   "cell_type": "code",
   "execution_count": 8,
   "metadata": {},
   "outputs": [
    {
     "name": "stdout",
     "output_type": "stream",
     "text": [
      "text:  b'f'\n",
      "label:  1\n"
     ]
    }
   ],
   "source": [
    "for example, label in train_dataset.take(1):\n",
    "    print(\"text: \", example.numpy())\n",
    "    print(\"label: \", label.numpy())"
   ]
  },
  {
   "cell_type": "code",
   "execution_count": 9,
   "metadata": {},
   "outputs": [],
   "source": [
    "BUFFER_SIZE = SIZE_TRAIN_DS\n",
    "BATCH_SIZE = 64\n",
    "STEPS_PER_EPOCH = np.floor(SIZE_TRAIN_DS/BATCH_SIZE)\n",
    "VAL_STEPS_PER_EPOCH = np.floor(SIZE_TEST_DS/BATCH_SIZE)\n",
    "train_dataset = train_dataset.shuffle(BUFFER_SIZE).batch(BATCH_SIZE, drop_remainder=True).prefetch(tf.data.AUTOTUNE)\n",
    "test_dataset = test_dataset.batch(BATCH_SIZE, drop_remainder=True).prefetch(tf.data.AUTOTUNE)"
   ]
  },
  {
   "attachments": {},
   "cell_type": "markdown",
   "metadata": {},
   "source": [
    "##### Text Encoding"
   ]
  },
  {
   "cell_type": "code",
   "execution_count": 10,
   "metadata": {},
   "outputs": [],
   "source": [
    "def create_encoder(output_mode_str, n_grams):\n",
    "    VOCAB_SIZE = 1000\n",
    "    encoder = tf.keras.layers.TextVectorization(\n",
    "        standardize=None,\n",
    "        output_mode=output_mode_str,\n",
    "        ngrams = n_grams,\n",
    "        split=\"whitespace\",\n",
    "        max_tokens=VOCAB_SIZE)\n",
    "    encoder.adapt(train_dataset.map(lambda tokens, label: tokens)) # removes the label column through transformation: text, label -> text\n",
    "    return encoder"
   ]
  },
  {
   "attachments": {},
   "cell_type": "markdown",
   "metadata": {},
   "source": [
    "##### Representation 1: Use integer indices encoding"
   ]
  },
  {
   "cell_type": "code",
   "execution_count": 11,
   "metadata": {},
   "outputs": [
    {
     "name": "stdout",
     "output_type": "stream",
     "text": [
      "WARNING:tensorflow:From /home/paul_d/Sources/sem_math_repo/sem_math_env/lib/python3.10/site-packages/tensorflow/python/autograph/pyct/static_analysis/liveness.py:83: Analyzer.lamba_check (from tensorflow.python.autograph.pyct.static_analysis.liveness) is deprecated and will be removed after 2023-09-23.\n",
      "Instructions for updating:\n",
      "Lambda fuctions will be no more assumed to be used in the statement where they are used, or at least in the same block. https://github.com/tensorflow/tensorflow/issues/56089\n"
     ]
    },
    {
     "data": {
      "text/plain": [
       "array(['', '[UNK]', 'f', '1', '2', 'x', '}', '{', ':', '^', '(', ')', '0',\n",
       "       '\\\\to', '+', '3', 'A', '-', 'g', 'n', 'B', '4', 'a', 'X', '=', '5',\n",
       "       '\\\\rightarrow', 'b', '6', 'Y', '7', '\\\\frac', '\\\\mathbb', '9',\n",
       "       '\\\\mathbb{N}', '\\\\mathbb{R}', 'h', '8', 'y', 'R', '\\\\colon', 'N',\n",
       "       'S', 'c', 'F', '\\\\times', 'p', 'k', 'm', '/', 'C', 't', 'i', 'd',\n",
       "       'z', 'e', 's', ']', '[', 'q', '\\\\mathbb{Z}', '\\\\cup', 'mathbb{N',\n",
       "       '\\\\cap', 'r', '\\\\cdot', 'T', '\\\\dfrac', '\\\\circ', 'P', '!', 'D',\n",
       "       'Z', 'varnothin', 'u', 'I', 'G', 'Q', 'co', 'E', 'M',\n",
       "       '\\\\mathbb{Q}', 'mathbb{R', 'U', 'si', '*', 'mathbb{Z', 'j', 'V',\n",
       "       'H', 'v', 'W', 'o', 'l', '\\\\varnothing)', 'Token(sets__SET_EMPTY',\n",
       "       'w', 'K', 'mathbb{Q', 'L', 'arcta', '\\\\mathbb{C}', 'ta', 'arcsi',\n",
       "       'J', '\\\\varnothing', '\\\\binom', 'lo', 'ex', 'O', 'arcco', '\\\\sin',\n",
       "       '\\\\exp', 'sin', '\\\\tfrac', '\\\\tanh', '\\\\cos', 'mathbb{C',\n",
       "       'mathbb{A', 'cos', '\\\\sec', '\\\\arctan', '\\\\arcsin'], dtype='<U21')"
      ]
     },
     "execution_count": 11,
     "metadata": {},
     "output_type": "execute_result"
    }
   ],
   "source": [
    "encoder_int = create_encoder(\"int\", None)\n",
    "vocab = np.array(encoder_int.get_vocabulary())\n",
    "vocab[:200]"
   ]
  },
  {
   "cell_type": "code",
   "execution_count": 12,
   "metadata": {},
   "outputs": [
    {
     "name": "stdout",
     "output_type": "stream",
     "text": [
      "tf.Tensor(b'f', shape=(), dtype=string)\n",
      "[2]\n"
     ]
    }
   ],
   "source": [
    "encoded_example = encoder_int(example).numpy()\n",
    "print(example)\n",
    "print(encoded_example)"
   ]
  },
  {
   "cell_type": "code",
   "execution_count": 13,
   "metadata": {},
   "outputs": [
    {
     "name": "stdout",
     "output_type": "stream",
     "text": [
      "Original:  b'f'\n",
      "After reverse lookup:  f\n"
     ]
    }
   ],
   "source": [
    "print(\"Original: \", example.numpy())\n",
    "print(\"After reverse lookup: \", \" \".join(vocab[encoded_example]))"
   ]
  },
  {
   "attachments": {},
   "cell_type": "markdown",
   "metadata": {},
   "source": [
    "##### Representation 2: Binary Count Vectorizer"
   ]
  },
  {
   "cell_type": "code",
   "execution_count": 14,
   "metadata": {},
   "outputs": [
    {
     "data": {
      "text/plain": [
       "array(['[UNK]', 'f', '1', '2', 'x', '}', '{', ':', '^', '(', ')', '0',\n",
       "       '\\\\to', '+', '3', 'A', '-', 'g', 'n', 'B', '4', 'a', 'X', '=', '5',\n",
       "       '\\\\rightarrow', 'b', '6', 'Y', '7', '\\\\frac', '\\\\mathbb', '9',\n",
       "       '\\\\mathbb{N}', '\\\\mathbb{R}', 'h', '8', 'y', 'R', '\\\\colon', 'N',\n",
       "       'S', 'c', 'F', '\\\\times', 'p', 'k', 'm', '/', 'C', 't', 'i', 'd',\n",
       "       'z', 'e', 's', ']', '[', 'q', '\\\\mathbb{Z}', '\\\\cup', 'mathbb{N',\n",
       "       '\\\\cap', 'r', '\\\\cdot', 'T', '\\\\dfrac', '!', '\\\\circ', 'P', 'D',\n",
       "       'Z', 'varnothin', 'u', 'I', 'G', 'Q', 'co', 'E', 'M',\n",
       "       '\\\\mathbb{Q}', 'si', 'mathbb{R', 'U', '*', 'mathbb{Z', 'j', 'V',\n",
       "       'H', 'v', 'W', 'o', 'l', '\\\\varnothing)', 'Token(sets__SET_EMPTY',\n",
       "       'w', 'K', 'mathbb{Q', 'L', 'arcta', '\\\\mathbb{C}', 'ta', 'arcsi',\n",
       "       'J', '\\\\varnothing', '\\\\binom', 'lo', 'ex', 'O', 'arcco', '\\\\sin',\n",
       "       '\\\\exp', 'sin', '\\\\tfrac', '\\\\tanh', '\\\\cos', 'mathbb{C',\n",
       "       'mathbb{A', 'cos', '\\\\sec', '\\\\arctan', '\\\\arcsin'], dtype='<U21')"
      ]
     },
     "execution_count": 14,
     "metadata": {},
     "output_type": "execute_result"
    }
   ],
   "source": [
    "encoder_multi_hot = create_encoder(\"multi_hot\", None)\n",
    "vocab = np.array(encoder_multi_hot.get_vocabulary())\n",
    "vocab[:200]"
   ]
  },
  {
   "cell_type": "code",
   "execution_count": 15,
   "metadata": {},
   "outputs": [
    {
     "name": "stdout",
     "output_type": "stream",
     "text": [
      "tf.Tensor(b'f', shape=(), dtype=string)\n",
      "[0. 1. 0. 0. 0. 0. 0. 0. 0. 0. 0. 0. 0. 0. 0. 0. 0. 0. 0. 0. 0. 0. 0. 0.\n",
      " 0. 0. 0. 0. 0. 0. 0. 0. 0. 0. 0. 0. 0. 0. 0. 0. 0. 0. 0. 0. 0. 0. 0. 0.\n",
      " 0. 0. 0. 0. 0. 0. 0. 0. 0. 0. 0. 0. 0. 0. 0. 0. 0. 0. 0. 0. 0. 0. 0. 0.\n",
      " 0. 0. 0. 0. 0. 0. 0. 0. 0. 0. 0. 0. 0. 0. 0. 0. 0. 0. 0. 0. 0. 0. 0. 0.\n",
      " 0. 0. 0. 0. 0. 0. 0. 0. 0. 0. 0. 0. 0. 0. 0. 0. 0. 0. 0. 0. 0. 0. 0. 0.\n",
      " 0. 0.]\n"
     ]
    }
   ],
   "source": [
    "encoded_example = encoder_multi_hot(example).numpy()\n",
    "print(example)\n",
    "print(encoded_example)"
   ]
  },
  {
   "attachments": {},
   "cell_type": "markdown",
   "metadata": {},
   "source": [
    "##### Representation 3: Frequency Count Vectorizer"
   ]
  },
  {
   "cell_type": "code",
   "execution_count": 16,
   "metadata": {},
   "outputs": [
    {
     "data": {
      "text/plain": [
       "array(['[UNK]', 'f', '1', '2', 'x', '}', '{', ':', '^', '(', ')', '0',\n",
       "       '\\\\to', '+', '3', 'A', '-', 'g', 'n', 'B', '4', 'a', 'X', '=', '5',\n",
       "       '\\\\rightarrow', 'b', '6', 'Y', '7', '\\\\frac', '\\\\mathbb', '9',\n",
       "       '\\\\mathbb{N}', '\\\\mathbb{R}', 'h', '8', 'y', 'R', '\\\\colon', 'N',\n",
       "       'S', 'c', 'F', '\\\\times', 'p', 'k', 'm', '/', 'C', 't', 'i', 'd',\n",
       "       'z', 'e', 's', ']', '[', 'q', '\\\\mathbb{Z}', '\\\\cup', 'mathbb{N',\n",
       "       '\\\\cap', 'r', '\\\\cdot', 'T', '\\\\dfrac', '!', 'P', '\\\\circ', 'D',\n",
       "       'Z', 'varnothin', 'u', 'I', 'G', 'Q', 'co', 'E', 'M',\n",
       "       '\\\\mathbb{Q}', 'mathbb{R', 'U', 'si', '*', 'mathbb{Z', 'j', 'V',\n",
       "       'H', 'v', 'W', 'o', 'l', '\\\\varnothing)', 'Token(sets__SET_EMPTY',\n",
       "       'w', 'K', 'mathbb{Q', 'L', 'arcta', '\\\\mathbb{C}', 'ta', 'arcsi',\n",
       "       'J', '\\\\varnothing', '\\\\binom', 'lo', 'ex', 'O', 'arcco', '\\\\sin',\n",
       "       '\\\\exp', 'sin', '\\\\tfrac', '\\\\tanh', '\\\\cos', 'mathbb{C',\n",
       "       'mathbb{A', 'cos', '\\\\sec', '\\\\arctan', '\\\\arcsin'], dtype='<U21')"
      ]
     },
     "execution_count": 16,
     "metadata": {},
     "output_type": "execute_result"
    }
   ],
   "source": [
    "encoder_count = create_encoder(\"count\", None)\n",
    "vocab = np.array(encoder_count.get_vocabulary())\n",
    "vocab[:200]"
   ]
  },
  {
   "cell_type": "code",
   "execution_count": 17,
   "metadata": {},
   "outputs": [
    {
     "name": "stdout",
     "output_type": "stream",
     "text": [
      "tf.Tensor(b'f', shape=(), dtype=string)\n",
      "[0. 1. 0. 0. 0. 0. 0. 0. 0. 0. 0. 0. 0. 0. 0. 0. 0. 0. 0. 0. 0. 0. 0. 0.\n",
      " 0. 0. 0. 0. 0. 0. 0. 0. 0. 0. 0. 0. 0. 0. 0. 0. 0. 0. 0. 0. 0. 0. 0. 0.\n",
      " 0. 0. 0. 0. 0. 0. 0. 0. 0. 0. 0. 0. 0. 0. 0. 0. 0. 0. 0. 0. 0. 0. 0. 0.\n",
      " 0. 0. 0. 0. 0. 0. 0. 0. 0. 0. 0. 0. 0. 0. 0. 0. 0. 0. 0. 0. 0. 0. 0. 0.\n",
      " 0. 0. 0. 0. 0. 0. 0. 0. 0. 0. 0. 0. 0. 0. 0. 0. 0. 0. 0. 0. 0. 0. 0. 0.\n",
      " 0. 0.]\n"
     ]
    }
   ],
   "source": [
    "encoded_example = encoder_count(example).numpy()\n",
    "print(example)\n",
    "print(encoded_example)"
   ]
  },
  {
   "attachments": {},
   "cell_type": "markdown",
   "metadata": {},
   "source": [
    "##### Representation 4: Bigrams Frequency Count Vectorizer"
   ]
  },
  {
   "cell_type": "code",
   "execution_count": 18,
   "metadata": {},
   "outputs": [
    {
     "data": {
      "text/plain": [
       "array(['[UNK]', 'f', '1', '2', 'x', '}', '{', ':', '^', '(', ')', '0',\n",
       "       '\\\\to', 'f :', '+', '3', 'A', '-', 'g', 'n', '( x', 'B', '4',\n",
       "       'f (', 'x )', 'a', 'X', '=', ') =', '5', '\\\\rightarrow', '^ 2',\n",
       "       '} {', 'b', ': A', '6', 'Y', '7', '\\\\frac {', '\\\\frac', '\\\\mathbb',\n",
       "       '9', '- 1', 'A \\\\to', ': X', '\\\\mathbb{N}', '1 }', '\\\\mathbb{R}',\n",
       "       'x ^', '+ 1', 'h', '^ {', '{ 1', '1 0', '\\\\to B', '0 0', '8',\n",
       "       'X \\\\to', 'y', 'R', '\\\\colon', 'g :', '\\\\to Y', '0 1', 'N', 'S',\n",
       "       '2 }', 'c', 'F', '1 )', '\\\\times', 'x +', '{ x', '{ 2', 'p', '2 ^',\n",
       "       'k', '\\\\mathbb R', 'f \\\\colon', 'm', '( n', '2 +', '1 2', '/',\n",
       "       '\\\\mathbb N', '{ a', 'x -', 'C', ': \\\\mathbb{N}', 'n )', '= x',\n",
       "       'A \\\\rightarrow', 'a b', '\\\\to A', 'n +', ': \\\\mathbb{R}', 't',\n",
       "       'i', 'X \\\\rightarrow', '1 1', 'x }', '^ n', ': \\\\mathbb',\n",
       "       '\\\\to \\\\mathbb{R}', 'd', '\\\\to \\\\mathbb', '\\\\mathbb{N} \\\\to',\n",
       "       '3 }', '\\\\rightarrow B', '2 0', 'z', '^ 3', 'e', '= \\\\frac', 's',\n",
       "       'h :', '+ b', ']', '\\\\rightarrow Y', '\\\\mathbb{R} \\\\to', 'b }',\n",
       "       '[', '2 -', 'g (', '2 3', '\\\\to X', '- 2', ') ^', 'a ^', '2 x',\n",
       "       '+ 2', '{ n', 'q', '^ x', '- x', 'n -', 'a +', '\\\\mathbb{Z}',\n",
       "       '\\\\cup', ': S', ': B', '{ 3', '\\\\to \\\\mathbb{N}', 'mathbb{N',\n",
       "       'B \\\\to', '\\\\cap', 'a }', '( a', 'r', '\\\\cdot', '} +', 'n ^',\n",
       "       '1 3', 'x y', '1 ]', '( 1', '1 7', '\\\\colon A', '} -', '( 0',\n",
       "       '1 6', '{ 0', 'T', 'N \\\\to', 'e ^', '\\\\colon X', '3 ^',\n",
       "       '\\\\dfrac {', '\\\\dfrac', 'S \\\\to', '9 9', '{ b', '4 }', '1 4',\n",
       "       '0 ^', '+ x', '1 /', '{ (', 'b ^', '\\\\mathbb{N} \\\\rightarrow',\n",
       "       '+ 3', ') (', '!', 'b c', '\\\\circ', 'P', 'A \\\\times', '= 2', '( 2',\n",
       "       'y )', 'n }', '[ 0', ') }', 'D', '2 n', 'Z', '3 4', '{ 4', '0 }',\n",
       "       '3 +'], dtype='<U34')"
      ]
     },
     "execution_count": 18,
     "metadata": {},
     "output_type": "execute_result"
    }
   ],
   "source": [
    "encoder_bigrams = create_encoder(\"count\", (2))\n",
    "vocab = np.array(encoder_bigrams.get_vocabulary())\n",
    "vocab[:200]"
   ]
  },
  {
   "cell_type": "code",
   "execution_count": 19,
   "metadata": {},
   "outputs": [
    {
     "name": "stdout",
     "output_type": "stream",
     "text": [
      "tf.Tensor(b'f', shape=(), dtype=string)\n",
      "[0. 1. 0. 0. 0. 0. 0. 0. 0. 0. 0. 0. 0. 0. 0. 0. 0. 0. 0. 0. 0. 0. 0. 0.\n",
      " 0. 0. 0. 0. 0. 0. 0. 0. 0. 0. 0. 0. 0. 0. 0. 0. 0. 0. 0. 0. 0. 0. 0. 0.\n",
      " 0. 0. 0. 0. 0. 0. 0. 0. 0. 0. 0. 0. 0. 0. 0. 0. 0. 0. 0. 0. 0. 0. 0. 0.\n",
      " 0. 0. 0. 0. 0. 0. 0. 0. 0. 0. 0. 0. 0. 0. 0. 0. 0. 0. 0. 0. 0. 0. 0. 0.\n",
      " 0. 0. 0. 0. 0. 0. 0. 0. 0. 0. 0. 0. 0. 0. 0. 0. 0. 0. 0. 0. 0. 0. 0. 0.\n",
      " 0. 0. 0. 0. 0. 0. 0. 0. 0. 0. 0. 0. 0. 0. 0. 0. 0. 0. 0. 0. 0. 0. 0. 0.\n",
      " 0. 0. 0. 0. 0. 0. 0. 0. 0. 0. 0. 0. 0. 0. 0. 0. 0. 0. 0. 0. 0. 0. 0. 0.\n",
      " 0. 0. 0. 0. 0. 0. 0. 0. 0. 0. 0. 0. 0. 0. 0. 0. 0. 0. 0. 0. 0. 0. 0. 0.\n",
      " 0. 0. 0. 0. 0. 0. 0. 0. 0. 0. 0. 0. 0. 0. 0. 0. 0. 0. 0. 0. 0. 0. 0. 0.\n",
      " 0. 0. 0. 0. 0. 0. 0. 0. 0. 0. 0. 0. 0. 0. 0. 0. 0. 0. 0. 0. 0. 0. 0. 0.\n",
      " 0. 0. 0. 0. 0. 0. 0. 0. 0. 0. 0. 0. 0. 0. 0. 0. 0. 0. 0. 0. 0. 0. 0. 0.\n",
      " 0. 0. 0. 0. 0. 0. 0. 0. 0. 0. 0. 0. 0. 0. 0. 0. 0. 0. 0. 0. 0. 0. 0. 0.\n",
      " 0. 0. 0. 0. 0. 0. 0. 0. 0. 0. 0. 0. 0. 0. 0. 0. 0. 0. 0. 0. 0. 0. 0. 0.\n",
      " 0. 0. 0. 0. 0. 0. 0. 0. 0. 0. 0. 0. 0. 0. 0. 0. 0. 0. 0. 0. 0. 0. 0. 0.\n",
      " 0. 0. 0. 0. 0. 0. 0. 0. 0. 0. 0. 0. 0. 0. 0. 0. 0. 0. 0. 0. 0. 0. 0. 0.\n",
      " 0. 0. 0. 0. 0. 0. 0. 0. 0. 0. 0. 0. 0. 0. 0. 0. 0. 0. 0. 0. 0. 0. 0. 0.\n",
      " 0. 0. 0. 0. 0. 0. 0. 0. 0. 0. 0. 0. 0. 0. 0. 0. 0. 0. 0. 0. 0. 0. 0. 0.\n",
      " 0. 0. 0. 0. 0. 0. 0. 0. 0. 0. 0. 0. 0. 0. 0. 0. 0. 0. 0. 0. 0. 0. 0. 0.\n",
      " 0. 0. 0. 0. 0. 0. 0. 0. 0. 0. 0. 0. 0. 0. 0. 0. 0. 0. 0. 0. 0. 0. 0. 0.\n",
      " 0. 0. 0. 0. 0. 0. 0. 0. 0. 0. 0. 0. 0. 0. 0. 0. 0. 0. 0. 0. 0. 0. 0. 0.\n",
      " 0. 0. 0. 0. 0. 0. 0. 0. 0. 0. 0. 0. 0. 0. 0. 0. 0. 0. 0. 0. 0. 0. 0. 0.\n",
      " 0. 0. 0. 0. 0. 0. 0. 0. 0. 0. 0. 0. 0. 0. 0. 0. 0. 0. 0. 0. 0. 0. 0. 0.\n",
      " 0. 0. 0. 0. 0. 0. 0. 0. 0. 0. 0. 0. 0. 0. 0. 0. 0. 0. 0. 0. 0. 0. 0. 0.\n",
      " 0. 0. 0. 0. 0. 0. 0. 0. 0. 0. 0. 0. 0. 0. 0. 0. 0. 0. 0. 0. 0. 0. 0. 0.\n",
      " 0. 0. 0. 0. 0. 0. 0. 0. 0. 0. 0. 0. 0. 0. 0. 0. 0. 0. 0. 0. 0. 0. 0. 0.\n",
      " 0. 0. 0. 0. 0. 0. 0. 0. 0. 0. 0. 0. 0. 0. 0. 0. 0. 0. 0. 0. 0. 0. 0. 0.\n",
      " 0. 0. 0. 0. 0. 0. 0. 0. 0. 0. 0. 0. 0. 0. 0. 0. 0. 0. 0. 0. 0. 0. 0. 0.\n",
      " 0. 0. 0. 0. 0. 0. 0. 0. 0. 0. 0. 0. 0. 0. 0. 0. 0. 0. 0. 0. 0. 0. 0. 0.\n",
      " 0. 0. 0. 0. 0. 0. 0. 0. 0. 0. 0. 0. 0. 0. 0. 0. 0. 0. 0. 0. 0. 0. 0. 0.\n",
      " 0. 0. 0. 0. 0. 0. 0. 0. 0. 0. 0. 0. 0. 0. 0. 0. 0. 0. 0. 0. 0. 0. 0. 0.\n",
      " 0. 0. 0. 0. 0. 0. 0. 0. 0. 0. 0. 0. 0. 0. 0. 0. 0. 0. 0. 0. 0. 0. 0. 0.\n",
      " 0. 0. 0. 0. 0. 0. 0. 0. 0. 0. 0. 0. 0. 0. 0. 0. 0. 0. 0. 0. 0. 0. 0. 0.\n",
      " 0. 0. 0. 0. 0. 0. 0. 0. 0. 0. 0. 0. 0. 0. 0. 0. 0. 0. 0. 0. 0. 0. 0. 0.\n",
      " 0. 0. 0. 0. 0. 0. 0. 0. 0. 0. 0. 0. 0. 0. 0. 0. 0. 0. 0. 0. 0. 0. 0. 0.\n",
      " 0. 0. 0. 0. 0. 0. 0. 0. 0. 0. 0. 0. 0. 0. 0. 0. 0. 0. 0. 0. 0. 0. 0. 0.\n",
      " 0. 0. 0. 0. 0. 0. 0. 0. 0. 0. 0. 0. 0. 0. 0. 0. 0. 0. 0. 0. 0. 0. 0. 0.\n",
      " 0. 0. 0. 0. 0. 0. 0. 0. 0. 0. 0. 0. 0. 0. 0. 0. 0. 0. 0. 0. 0. 0. 0. 0.\n",
      " 0. 0. 0. 0. 0. 0. 0. 0. 0. 0. 0. 0. 0. 0. 0. 0. 0. 0. 0. 0. 0. 0. 0. 0.\n",
      " 0. 0. 0. 0. 0. 0. 0. 0. 0. 0. 0. 0. 0. 0. 0. 0. 0. 0. 0. 0. 0. 0. 0. 0.\n",
      " 0. 0. 0. 0. 0. 0. 0. 0. 0. 0. 0. 0. 0. 0. 0. 0. 0. 0. 0. 0. 0. 0. 0. 0.\n",
      " 0. 0. 0. 0. 0. 0. 0. 0. 0. 0. 0. 0. 0. 0. 0. 0. 0. 0. 0. 0. 0. 0. 0. 0.\n",
      " 0. 0. 0. 0. 0. 0. 0. 0. 0. 0. 0. 0. 0. 0. 0. 0.]\n"
     ]
    }
   ],
   "source": [
    "encoded_example = encoder_bigrams(example).numpy()\n",
    "print(example)\n",
    "print(encoded_example)"
   ]
  },
  {
   "attachments": {},
   "cell_type": "markdown",
   "metadata": {},
   "source": [
    "##### Representation 5: Tf-Idf Vectorizer"
   ]
  },
  {
   "cell_type": "code",
   "execution_count": 20,
   "metadata": {},
   "outputs": [
    {
     "data": {
      "text/plain": [
       "array(['[UNK]', 'f', '1', '2', 'x', '}', '{', ':', '^', '(', ')', '0',\n",
       "       '\\\\to', '+', '3', 'A', '-', 'g', 'n', 'B', '4', 'a', 'X', '=', '5',\n",
       "       '\\\\rightarrow', 'b', '6', 'Y', '7', '\\\\frac', '\\\\mathbb', '9',\n",
       "       '\\\\mathbb{N}', '\\\\mathbb{R}', 'h', '8', 'y', 'R', '\\\\colon', 'N',\n",
       "       'S', 'c', 'F', '\\\\times', 'p', 'k', 'm', '/', 'C', 't', 'i', 'd',\n",
       "       'z', 'e', 's', ']', '[', 'q', '\\\\mathbb{Z}', '\\\\cup', 'mathbb{N',\n",
       "       '\\\\cap', 'r', '\\\\cdot', 'T', '\\\\dfrac', '!', '\\\\circ', 'P', 'D',\n",
       "       'Z', 'varnothin', 'u', 'I', 'G', 'Q', 'co', 'E', 'M',\n",
       "       '\\\\mathbb{Q}', 'si', 'mathbb{R', 'U', '*', 'mathbb{Z', 'j', 'V',\n",
       "       'H', 'v', 'W', 'o', 'l', '\\\\varnothing)', 'Token(sets__SET_EMPTY',\n",
       "       'w', 'K', 'mathbb{Q', 'L', 'arcta', '\\\\mathbb{C}', 'ta', 'arcsi',\n",
       "       'J', '\\\\varnothing', '\\\\binom', 'lo', 'ex', 'O', 'arcco', '\\\\sin',\n",
       "       '\\\\exp', 'sin', '\\\\tfrac', '\\\\tanh', '\\\\cos', 'mathbb{C',\n",
       "       'mathbb{A', 'cos', '\\\\sec', '\\\\arctan', '\\\\arcsin'], dtype='<U21')"
      ]
     },
     "execution_count": 20,
     "metadata": {},
     "output_type": "execute_result"
    }
   ],
   "source": [
    "encoder_tf_idf = create_encoder(\"tf_idf\", None)\n",
    "vocab = np.array(encoder_tf_idf.get_vocabulary())\n",
    "vocab[:200]"
   ]
  },
  {
   "cell_type": "code",
   "execution_count": 21,
   "metadata": {},
   "outputs": [
    {
     "name": "stdout",
     "output_type": "stream",
     "text": [
      "tf.Tensor(b'f', shape=(), dtype=string)\n",
      "[0.        1.3797942 0.        0.        0.        0.        0.\n",
      " 0.        0.        0.        0.        0.        0.        0.\n",
      " 0.        0.        0.        0.        0.        0.        0.\n",
      " 0.        0.        0.        0.        0.        0.        0.\n",
      " 0.        0.        0.        0.        0.        0.        0.\n",
      " 0.        0.        0.        0.        0.        0.        0.\n",
      " 0.        0.        0.        0.        0.        0.        0.\n",
      " 0.        0.        0.        0.        0.        0.        0.\n",
      " 0.        0.        0.        0.        0.        0.        0.\n",
      " 0.        0.        0.        0.        0.        0.        0.\n",
      " 0.        0.        0.        0.        0.        0.        0.\n",
      " 0.        0.        0.        0.        0.        0.        0.\n",
      " 0.        0.        0.        0.        0.        0.        0.\n",
      " 0.        0.        0.        0.        0.        0.        0.\n",
      " 0.        0.        0.        0.        0.        0.        0.\n",
      " 0.        0.        0.        0.        0.        0.        0.\n",
      " 0.        0.        0.        0.        0.        0.        0.\n",
      " 0.        0.        0.       ]\n"
     ]
    }
   ],
   "source": [
    "encoded_example = encoder_tf_idf(example).numpy()\n",
    "print(example)\n",
    "print(encoded_example)"
   ]
  },
  {
   "attachments": {},
   "cell_type": "markdown",
   "metadata": {},
   "source": [
    "##### Model (Bidirectional LSTM with one layer)"
   ]
  },
  {
   "attachments": {},
   "cell_type": "markdown",
   "metadata": {},
   "source": [
    " **Define and compile model**"
   ]
  },
  {
   "cell_type": "code",
   "execution_count": 22,
   "metadata": {},
   "outputs": [],
   "source": [
    "def create_model(vec_encoder):\n",
    "    model = tf.keras.Sequential([\n",
    "        vec_encoder,\n",
    "        tf.keras.layers.Embedding(\n",
    "            input_dim=len(vec_encoder.get_vocabulary()),\n",
    "            output_dim=64,\n",
    "            # user masking to handle the variable sequence lengths\n",
    "            mask_zero=True),\n",
    "        tf.keras.layers.Bidirectional(tf.keras.layers.LSTM(64)),\n",
    "        tf.keras.layers.Dense(64, activation=\"relu\"),\n",
    "        tf.keras.layers.Dense(1)\n",
    "    ])\n",
    "    return model"
   ]
  },
  {
   "attachments": {},
   "cell_type": "markdown",
   "metadata": {},
   "source": [
    " **Train the model**"
   ]
  },
  {
   "attachments": {},
   "cell_type": "markdown",
   "metadata": {},
   "source": [
    "##### Experiment 1: Use integer indices for encoding tokens"
   ]
  },
  {
   "cell_type": "code",
   "execution_count": 23,
   "metadata": {},
   "outputs": [],
   "source": [
    "### TENSORBOARD USAGE\n",
    "#log_dir = \"4_nlp_rnns/logs/fit/\" + datetime.datetime.now().strftime(\"%Y%m%d-%H%M%S\")\n",
    "#tensorboard_callback = tf.keras.callbacks.TensorBoard(log_dir=log_dir)"
   ]
  },
  {
   "cell_type": "code",
   "execution_count": 24,
   "metadata": {},
   "outputs": [
    {
     "name": "stdout",
     "output_type": "stream",
     "text": [
      "1/1 [==============================] - 1s 1s/step\n",
      "[-0.00070652]\n"
     ]
    }
   ],
   "source": [
    "model = create_model(encoder_int)\n",
    "# predict on a sample formula using untrained model\n",
    "sample_text = (\"g ( x ) = x ^ 3\")\n",
    "predictions = model.predict(np.array([sample_text]))\n",
    "print(predictions[0])"
   ]
  },
  {
   "cell_type": "code",
   "execution_count": 25,
   "metadata": {},
   "outputs": [
    {
     "name": "stdout",
     "output_type": "stream",
     "text": [
      "Model: \"sequential\"\n",
      "_________________________________________________________________\n",
      " Layer (type)                Output Shape              Param #   \n",
      "=================================================================\n",
      " text_vectorization (TextVec  (None, None)             0         \n",
      " torization)                                                     \n",
      "                                                                 \n",
      " embedding (Embedding)       (None, None, 64)          7872      \n",
      "                                                                 \n",
      " bidirectional (Bidirectiona  (None, 128)              66048     \n",
      " l)                                                              \n",
      "                                                                 \n",
      " dense (Dense)               (None, 64)                8256      \n",
      "                                                                 \n",
      " dense_1 (Dense)             (None, 1)                 65        \n",
      "                                                                 \n",
      "=================================================================\n",
      "Total params: 82,241\n",
      "Trainable params: 82,241\n",
      "Non-trainable params: 0\n",
      "_________________________________________________________________\n"
     ]
    }
   ],
   "source": [
    "model.summary()"
   ]
  },
  {
   "cell_type": "code",
   "execution_count": 26,
   "metadata": {},
   "outputs": [],
   "source": [
    "model.compile(loss=tf.keras.losses.BinaryCrossentropy(from_logits=True),\n",
    "              optimizer=tf.keras.optimizers.Adam(1e-4),\n",
    "              metrics=[\"accuracy\"])"
   ]
  },
  {
   "cell_type": "code",
   "execution_count": 27,
   "metadata": {},
   "outputs": [
    {
     "name": "stdout",
     "output_type": "stream",
     "text": [
      "Epoch 1/15\n",
      "156/156 [==============================] - ETA: 0s - loss: 0.6675 - accuracy: 0.5501INFO:tensorflow:Assets written to: /home/paul_d/Sources/sem_math_repo/classification_formulas/wandb/run-20230305_170345-ws2o3bbh/files/model-best/assets\n"
     ]
    },
    {
     "name": "stderr",
     "output_type": "stream",
     "text": [
      "INFO:tensorflow:Assets written to: /home/paul_d/Sources/sem_math_repo/classification_formulas/wandb/run-20230305_170345-ws2o3bbh/files/model-best/assets\n"
     ]
    },
    {
     "name": "stdout",
     "output_type": "stream",
     "text": [
      "156/156 [==============================] - 24s 124ms/step - loss: 0.6675 - accuracy: 0.5501 - val_loss: 0.6920 - val_accuracy: 0.0000e+00\n",
      "Epoch 2/15\n",
      "154/156 [============================>.] - ETA: 0s - loss: 0.5498 - accuracy: 0.6553INFO:tensorflow:Assets written to: /home/paul_d/Sources/sem_math_repo/classification_formulas/wandb/run-20230305_170345-ws2o3bbh/files/model-best/assets\n"
     ]
    },
    {
     "name": "stderr",
     "output_type": "stream",
     "text": [
      "INFO:tensorflow:Assets written to: /home/paul_d/Sources/sem_math_repo/classification_formulas/wandb/run-20230305_170345-ws2o3bbh/files/model-best/assets\n"
     ]
    },
    {
     "name": "stdout",
     "output_type": "stream",
     "text": [
      "156/156 [==============================] - 17s 113ms/step - loss: 0.5499 - accuracy: 0.6564 - val_loss: 0.5402 - val_accuracy: 0.3969\n",
      "Epoch 3/15\n",
      "156/156 [==============================] - ETA: 0s - loss: 0.4989 - accuracy: 0.7090INFO:tensorflow:Assets written to: /home/paul_d/Sources/sem_math_repo/classification_formulas/wandb/run-20230305_170345-ws2o3bbh/files/model-best/assets\n"
     ]
    },
    {
     "name": "stderr",
     "output_type": "stream",
     "text": [
      "INFO:tensorflow:Assets written to: /home/paul_d/Sources/sem_math_repo/classification_formulas/wandb/run-20230305_170345-ws2o3bbh/files/model-best/assets\n"
     ]
    },
    {
     "name": "stdout",
     "output_type": "stream",
     "text": [
      "156/156 [==============================] - 17s 111ms/step - loss: 0.4989 - accuracy: 0.7090 - val_loss: 0.5204 - val_accuracy: 0.4292\n",
      "Epoch 4/15\n",
      "155/156 [============================>.] - ETA: 0s - loss: 0.4779 - accuracy: 0.7284INFO:tensorflow:Assets written to: /home/paul_d/Sources/sem_math_repo/classification_formulas/wandb/run-20230305_170345-ws2o3bbh/files/model-best/assets\n"
     ]
    },
    {
     "name": "stderr",
     "output_type": "stream",
     "text": [
      "INFO:tensorflow:Assets written to: /home/paul_d/Sources/sem_math_repo/classification_formulas/wandb/run-20230305_170345-ws2o3bbh/files/model-best/assets\n"
     ]
    },
    {
     "name": "stdout",
     "output_type": "stream",
     "text": [
      "156/156 [==============================] - 17s 111ms/step - loss: 0.4780 - accuracy: 0.7280 - val_loss: 0.5131 - val_accuracy: 0.5302\n",
      "Epoch 5/15\n",
      "155/156 [============================>.] - ETA: 0s - loss: 0.4643 - accuracy: 0.7484INFO:tensorflow:Assets written to: /home/paul_d/Sources/sem_math_repo/classification_formulas/wandb/run-20230305_170345-ws2o3bbh/files/model-best/assets\n"
     ]
    },
    {
     "name": "stderr",
     "output_type": "stream",
     "text": [
      "INFO:tensorflow:Assets written to: /home/paul_d/Sources/sem_math_repo/classification_formulas/wandb/run-20230305_170345-ws2o3bbh/files/model-best/assets\n"
     ]
    },
    {
     "name": "stdout",
     "output_type": "stream",
     "text": [
      "156/156 [==============================] - 18s 116ms/step - loss: 0.4640 - accuracy: 0.7484 - val_loss: 0.4995 - val_accuracy: 0.5740\n",
      "Epoch 6/15\n",
      "156/156 [==============================] - ETA: 0s - loss: 0.4542 - accuracy: 0.7545INFO:tensorflow:Assets written to: /home/paul_d/Sources/sem_math_repo/classification_formulas/wandb/run-20230305_170345-ws2o3bbh/files/model-best/assets\n"
     ]
    },
    {
     "name": "stderr",
     "output_type": "stream",
     "text": [
      "INFO:tensorflow:Assets written to: /home/paul_d/Sources/sem_math_repo/classification_formulas/wandb/run-20230305_170345-ws2o3bbh/files/model-best/assets\n"
     ]
    },
    {
     "name": "stdout",
     "output_type": "stream",
     "text": [
      "156/156 [==============================] - 20s 126ms/step - loss: 0.4542 - accuracy: 0.7545 - val_loss: 0.4852 - val_accuracy: 0.5854\n",
      "Epoch 7/15\n",
      "156/156 [==============================] - ETA: 0s - loss: 0.4468 - accuracy: 0.7816INFO:tensorflow:Assets written to: /home/paul_d/Sources/sem_math_repo/classification_formulas/wandb/run-20230305_170345-ws2o3bbh/files/model-best/assets\n"
     ]
    },
    {
     "name": "stderr",
     "output_type": "stream",
     "text": [
      "INFO:tensorflow:Assets written to: /home/paul_d/Sources/sem_math_repo/classification_formulas/wandb/run-20230305_170345-ws2o3bbh/files/model-best/assets\n"
     ]
    },
    {
     "name": "stdout",
     "output_type": "stream",
     "text": [
      "156/156 [==============================] - 18s 119ms/step - loss: 0.4468 - accuracy: 0.7816 - val_loss: 0.4799 - val_accuracy: 0.6000\n",
      "Epoch 8/15\n",
      "156/156 [==============================] - ETA: 0s - loss: 0.4404 - accuracy: 0.7601INFO:tensorflow:Assets written to: /home/paul_d/Sources/sem_math_repo/classification_formulas/wandb/run-20230305_170345-ws2o3bbh/files/model-best/assets\n"
     ]
    },
    {
     "name": "stderr",
     "output_type": "stream",
     "text": [
      "INFO:tensorflow:Assets written to: /home/paul_d/Sources/sem_math_repo/classification_formulas/wandb/run-20230305_170345-ws2o3bbh/files/model-best/assets\n"
     ]
    },
    {
     "name": "stdout",
     "output_type": "stream",
     "text": [
      "156/156 [==============================] - 18s 117ms/step - loss: 0.4404 - accuracy: 0.7601 - val_loss: 0.4652 - val_accuracy: 0.8177\n",
      "Epoch 9/15\n",
      "156/156 [==============================] - 3s 17ms/step - loss: 0.4369 - accuracy: 0.7648 - val_loss: 0.4814 - val_accuracy: 0.6073\n",
      "Epoch 10/15\n",
      "156/156 [==============================] - 2s 15ms/step - loss: 0.4345 - accuracy: 0.7670 - val_loss: 0.4914 - val_accuracy: 0.6073\n",
      "Epoch 11/15\n",
      "154/156 [============================>.] - ETA: 0s - loss: 0.4331 - accuracy: 0.7638INFO:tensorflow:Assets written to: /home/paul_d/Sources/sem_math_repo/classification_formulas/wandb/run-20230305_170345-ws2o3bbh/files/model-best/assets\n"
     ]
    },
    {
     "name": "stderr",
     "output_type": "stream",
     "text": [
      "INFO:tensorflow:Assets written to: /home/paul_d/Sources/sem_math_repo/classification_formulas/wandb/run-20230305_170345-ws2o3bbh/files/model-best/assets\n"
     ]
    },
    {
     "name": "stdout",
     "output_type": "stream",
     "text": [
      "156/156 [==============================] - 17s 110ms/step - loss: 0.4331 - accuracy: 0.7644 - val_loss: 0.4487 - val_accuracy: 0.6125\n",
      "Epoch 12/15\n",
      "156/156 [==============================] - 2s 13ms/step - loss: 0.4317 - accuracy: 0.7645 - val_loss: 0.4646 - val_accuracy: 0.6094\n",
      "Epoch 13/15\n",
      "156/156 [==============================] - 2s 14ms/step - loss: 0.4294 - accuracy: 0.7700 - val_loss: 0.4650 - val_accuracy: 0.6104\n",
      "Epoch 14/15\n",
      "156/156 [==============================] - 2s 14ms/step - loss: 0.4290 - accuracy: 0.7660 - val_loss: 0.4657 - val_accuracy: 0.6115\n",
      "Epoch 15/15\n",
      "156/156 [==============================] - 2s 15ms/step - loss: 0.4277 - accuracy: 0.7661 - val_loss: 0.4844 - val_accuracy: 0.6094\n"
     ]
    }
   ],
   "source": [
    "configs_dict = {\n",
    "    \"learning_rate\": 1e-4,\n",
    "    \"algorithm\": \"BiLstm\",\n",
    "    \"configuration\": \"1-tokens\",\n",
    "    \"optimizer\": \"adam\",\n",
    "    \"loss\": \"binary_crossentropy\",\n",
    "    \"epochs\": 15,\n",
    "    \"batch_size\": 64,\n",
    "    \"vectorizer\": \"int\",\n",
    "    \"dataset\": \"TOKENIZED_SET_V1\"\n",
    "}\n",
    "run = wandb.init(project=wandb_project_name, reinit=True, config=configs_dict)\n",
    "\n",
    "history = model.fit(train_dataset, \n",
    "                    epochs=15,\n",
    "                    validation_data=test_dataset,\n",
    "                    steps_per_epoch = STEPS_PER_EPOCH,\n",
    "                    validation_steps = VAL_STEPS_PER_EPOCH,\n",
    "                    callbacks= [WandbCallback()])#[tensorboard_callback])\n",
    "run.finish()"
   ]
  },
  {
   "cell_type": "code",
   "execution_count": 28,
   "metadata": {},
   "outputs": [
    {
     "name": "stdout",
     "output_type": "stream",
     "text": [
      "15/15 [==============================] - 0s 4ms/step - loss: 0.4844 - accuracy: 0.6094\n",
      "Test Loss: 0.48443862795829773\n",
      "Test Accuracy: 0.609375\n"
     ]
    }
   ],
   "source": [
    "test_loss, test_acc = model.evaluate(test_dataset)\n",
    "\n",
    "print(\"Test Loss:\", test_loss)\n",
    "print(\"Test Accuracy:\", test_acc)"
   ]
  },
  {
   "cell_type": "code",
   "execution_count": 29,
   "metadata": {},
   "outputs": [
    {
     "data": {
      "text/plain": [
       "(0.0, 0.705235929787159)"
      ]
     },
     "execution_count": 29,
     "metadata": {},
     "output_type": "execute_result"
    },
    {
     "data": {
      "image/png": "[encoded data removed]",
      "text/plain": [
       "<Figure size 1600x800 with 2 Axes>"
      ]
     },
     "metadata": {},
     "output_type": "display_data"
    }
   ],
   "source": [
    "plt.figure(figsize=(16,8))\n",
    "plt.subplot(1,2,1)\n",
    "plot_graphs(history, \"accuracy\")\n",
    "plt.ylim(None, 1)\n",
    "plt.subplot(1,2,2)\n",
    "plot_graphs(history, \"loss\")\n",
    "plt.ylim(0, None)"
   ]
  },
  {
   "cell_type": "code",
   "execution_count": 30,
   "metadata": {},
   "outputs": [
    {
     "name": "stdout",
     "output_type": "stream",
     "text": [
      "1/1 [==============================] - 3s 3s/step\n",
      "[-2.0298734]\n"
     ]
    }
   ],
   "source": [
    "# predict on a sample text without padding\n",
    "sample_text = (\"g ( x ) = x ^ 3\")\n",
    "predictions = model.predict(np.array([sample_text]))\n",
    "print(predictions[0])"
   ]
  },
  {
   "attachments": {},
   "cell_type": "markdown",
   "metadata": {},
   "source": [
    "##### Experiment 2: Use binary count vectorizer for encoding"
   ]
  },
  {
   "cell_type": "code",
   "execution_count": 31,
   "metadata": {},
   "outputs": [
    {
     "name": "stdout",
     "output_type": "stream",
     "text": [
      "1/1 [==============================] - 1s 1s/step\n",
      "[-0.0085412]\n"
     ]
    }
   ],
   "source": [
    "model = create_model(encoder_multi_hot)\n",
    "# predict on a sample formula using untrained model\n",
    "sample_text = (\"g ( x ) = x ^ 3\")\n",
    "predictions = model.predict(np.array([sample_text]))\n",
    "print(predictions[0])"
   ]
  },
  {
   "cell_type": "code",
   "execution_count": 32,
   "metadata": {},
   "outputs": [],
   "source": [
    "model.compile(loss=tf.keras.losses.BinaryCrossentropy(from_logits=True),\n",
    "              optimizer=tf.keras.optimizers.Adam(1e-4),\n",
    "              metrics=[\"accuracy\"])"
   ]
  },
  {
   "cell_type": "code",
   "execution_count": 33,
   "metadata": {},
   "outputs": [
    {
     "name": "stdout",
     "output_type": "stream",
     "text": [
      "Epoch 1/15\n",
      "156/156 [==============================] - ETA: 0s - loss: 0.6905 - accuracy: 0.5501INFO:tensorflow:Assets written to: /home/paul_d/Sources/sem_math_repo/classification_formulas/wandb/run-20230305_170705-ajmjcrhx/files/model-best/assets\n"
     ]
    },
    {
     "name": "stderr",
     "output_type": "stream",
     "text": [
      "INFO:tensorflow:Assets written to: /home/paul_d/Sources/sem_math_repo/classification_formulas/wandb/run-20230305_170705-ajmjcrhx/files/model-best/assets\n"
     ]
    },
    {
     "name": "stdout",
     "output_type": "stream",
     "text": [
      "156/156 [==============================] - 30s 165ms/step - loss: 0.6905 - accuracy: 0.5501 - val_loss: 0.7560 - val_accuracy: 0.0000e+00\n",
      "Epoch 2/15\n",
      "156/156 [==============================] - 11s 69ms/step - loss: 0.6845 - accuracy: 0.5498 - val_loss: 0.7807 - val_accuracy: 0.0000e+00\n",
      "Epoch 3/15\n",
      "156/156 [==============================] - ETA: 0s - loss: 0.6740 - accuracy: 0.5499INFO:tensorflow:Assets written to: /home/paul_d/Sources/sem_math_repo/classification_formulas/wandb/run-20230305_170705-ajmjcrhx/files/model-best/assets\n"
     ]
    },
    {
     "name": "stderr",
     "output_type": "stream",
     "text": [
      "INFO:tensorflow:Assets written to: /home/paul_d/Sources/sem_math_repo/classification_formulas/wandb/run-20230305_170705-ajmjcrhx/files/model-best/assets\n"
     ]
    },
    {
     "name": "stdout",
     "output_type": "stream",
     "text": [
      "156/156 [==============================] - 25s 160ms/step - loss: 0.6740 - accuracy: 0.5499 - val_loss: 0.7219 - val_accuracy: 0.0000e+00\n",
      "Epoch 4/15\n",
      "156/156 [==============================] - 10s 63ms/step - loss: 0.6664 - accuracy: 0.5500 - val_loss: 0.7531 - val_accuracy: 0.0000e+00\n",
      "Epoch 5/15\n",
      "156/156 [==============================] - 11s 68ms/step - loss: 0.6595 - accuracy: 0.5552 - val_loss: 0.7223 - val_accuracy: 0.2562\n",
      "Epoch 6/15\n",
      "156/156 [==============================] - 10s 62ms/step - loss: 0.6547 - accuracy: 0.5850 - val_loss: 0.7505 - val_accuracy: 0.2562\n",
      "Epoch 7/15\n",
      "156/156 [==============================] - 9s 60ms/step - loss: 0.6527 - accuracy: 0.6125 - val_loss: 0.7827 - val_accuracy: 0.2562\n",
      "Epoch 8/15\n",
      "156/156 [==============================] - 10s 61ms/step - loss: 0.6522 - accuracy: 0.6158 - val_loss: 0.7619 - val_accuracy: 0.2562\n",
      "Epoch 9/15\n",
      "156/156 [==============================] - 10s 61ms/step - loss: 0.6500 - accuracy: 0.6172 - val_loss: 0.8077 - val_accuracy: 0.2562\n",
      "Epoch 10/15\n",
      "156/156 [==============================] - 9s 61ms/step - loss: 0.6501 - accuracy: 0.6171 - val_loss: 0.7887 - val_accuracy: 0.2562\n",
      "Epoch 11/15\n",
      "156/156 [==============================] - 10s 65ms/step - loss: 0.6484 - accuracy: 0.6173 - val_loss: 0.8167 - val_accuracy: 0.2562\n",
      "Epoch 12/15\n",
      "156/156 [==============================] - 11s 69ms/step - loss: 0.6487 - accuracy: 0.6171 - val_loss: 0.7776 - val_accuracy: 0.2562\n",
      "Epoch 13/15\n",
      "156/156 [==============================] - 11s 68ms/step - loss: 0.6478 - accuracy: 0.6171 - val_loss: 0.7400 - val_accuracy: 0.2562\n",
      "Epoch 14/15\n",
      "156/156 [==============================] - 10s 65ms/step - loss: 0.6473 - accuracy: 0.6169 - val_loss: 0.7569 - val_accuracy: 0.2562\n",
      "Epoch 15/15\n",
      "156/156 [==============================] - 10s 62ms/step - loss: 0.6469 - accuracy: 0.6171 - val_loss: 0.7590 - val_accuracy: 0.2562\n"
     ]
    }
   ],
   "source": [
    "configs_dict = {\n",
    "    \"learning_rate\": 1e-4,\n",
    "    \"algorithm\": \"BiLstm\",\n",
    "    \"configuration\": \"1-tokens\",\n",
    "    \"optimizer\": \"adam\",\n",
    "    \"loss\": \"binary_crossentropy\",\n",
    "    \"epochs\": 15,\n",
    "    \"batch_size\": 64,\n",
    "    \"vectorizer\": \"multi_hot\",\n",
    "    \"dataset\": \"TOKENIZED_SET_V1\"\n",
    "}\n",
    "run = wandb.init(project=wandb_project_name, reinit=True, config=configs_dict)\n",
    "\n",
    "\n",
    "history = model.fit(train_dataset, \n",
    "                    epochs=15,\n",
    "                    validation_data=test_dataset,\n",
    "                    steps_per_epoch = STEPS_PER_EPOCH,\n",
    "                    validation_steps = VAL_STEPS_PER_EPOCH,\n",
    "                    callbacks= [WandbCallback()])#[tensorboard_callback])\n",
    "run.finish()"
   ]
  },
  {
   "cell_type": "code",
   "execution_count": 34,
   "metadata": {},
   "outputs": [
    {
     "name": "stdout",
     "output_type": "stream",
     "text": [
      "15/15 [==============================] - 0s 19ms/step - loss: 0.7590 - accuracy: 0.2562\n",
      "Test Loss: 0.7589781880378723\n",
      "Test Accuracy: 0.2562499940395355\n"
     ]
    }
   ],
   "source": [
    "test_loss, test_acc = model.evaluate(test_dataset)\n",
    "\n",
    "print(\"Test Loss:\", test_loss)\n",
    "print(\"Test Accuracy:\", test_acc)"
   ]
  },
  {
   "cell_type": "code",
   "execution_count": 35,
   "metadata": {},
   "outputs": [
    {
     "data": {
      "text/plain": [
       "(0.0, 0.8251823604106903)"
      ]
     },
     "execution_count": 35,
     "metadata": {},
     "output_type": "execute_result"
    },
    {
     "data": {
      "image/png": "[encoded data removed]",
      "text/plain": [
       "<Figure size 1600x800 with 2 Axes>"
      ]
     },
     "metadata": {},
     "output_type": "display_data"
    }
   ],
   "source": [
    "plt.figure(figsize=(16,8))\n",
    "plt.subplot(1,2,1)\n",
    "plot_graphs(history, \"accuracy\")\n",
    "plt.ylim(None, 1)\n",
    "plt.subplot(1,2,2)\n",
    "plot_graphs(history, \"loss\")\n",
    "plt.ylim(0, None)"
   ]
  },
  {
   "cell_type": "code",
   "execution_count": 36,
   "metadata": {},
   "outputs": [
    {
     "name": "stdout",
     "output_type": "stream",
     "text": [
      "1/1 [==============================] - 1s 1s/step\n",
      "[-0.58520484]\n"
     ]
    }
   ],
   "source": [
    "# predict on a sample text without padding\n",
    "sample_text = (\"g ( x ) = x ^ 3\")\n",
    "predictions = model.predict(np.array([sample_text]))\n",
    "print(predictions[0])"
   ]
  },
  {
   "attachments": {},
   "cell_type": "markdown",
   "metadata": {},
   "source": [
    "##### Experiment 3:"
   ]
  },
  {
   "cell_type": "code",
   "execution_count": 37,
   "metadata": {},
   "outputs": [
    {
     "name": "stdout",
     "output_type": "stream",
     "text": [
      "WARNING:tensorflow:5 out of the last 5 calls to <function Model.make_predict_function.<locals>.predict_function at 0x7fe10ded6440> triggered tf.function retracing. Tracing is expensive and the excessive number of tracings could be due to (1) creating @tf.function repeatedly in a loop, (2) passing tensors with different shapes, (3) passing Python objects instead of tensors. For (1), please define your @tf.function outside of the loop. For (2), @tf.function has reduce_retracing=True option that can avoid unnecessary retracing. For (3), please refer to https://www.tensorflow.org/guide/function#controlling_retracing and https://www.tensorflow.org/api_docs/python/tf/function for  more details.\n"
     ]
    },
    {
     "name": "stderr",
     "output_type": "stream",
     "text": [
      "WARNING:tensorflow:5 out of the last 5 calls to <function Model.make_predict_function.<locals>.predict_function at 0x7fe10ded6440> triggered tf.function retracing. Tracing is expensive and the excessive number of tracings could be due to (1) creating @tf.function repeatedly in a loop, (2) passing tensors with different shapes, (3) passing Python objects instead of tensors. For (1), please define your @tf.function outside of the loop. For (2), @tf.function has reduce_retracing=True option that can avoid unnecessary retracing. For (3), please refer to https://www.tensorflow.org/guide/function#controlling_retracing and https://www.tensorflow.org/api_docs/python/tf/function for  more details.\n"
     ]
    },
    {
     "name": "stdout",
     "output_type": "stream",
     "text": [
      "1/1 [==============================] - 1s 1s/step\n",
      "[-0.00201415]\n"
     ]
    }
   ],
   "source": [
    "model = create_model(encoder_count)\n",
    "# predict on a sample formula using untrained model\n",
    "sample_text = (\"g ( x ) = x ^ 3\")\n",
    "predictions = model.predict(np.array([sample_text]))\n",
    "print(predictions[0])"
   ]
  },
  {
   "cell_type": "code",
   "execution_count": 38,
   "metadata": {},
   "outputs": [],
   "source": [
    "model.compile(loss=tf.keras.losses.BinaryCrossentropy(from_logits=True),\n",
    "              optimizer=tf.keras.optimizers.Adam(1e-4),\n",
    "              metrics=[\"accuracy\"])"
   ]
  },
  {
   "cell_type": "code",
   "execution_count": 39,
   "metadata": {},
   "outputs": [
    {
     "name": "stdout",
     "output_type": "stream",
     "text": [
      "Epoch 1/15\n",
      "156/156 [==============================] - ETA: 0s - loss: 0.6893 - accuracy: 0.5501INFO:tensorflow:Assets written to: /home/paul_d/Sources/sem_math_repo/classification_formulas/wandb/run-20230305_171021-jguc2n3l/files/model-best/assets\n"
     ]
    },
    {
     "name": "stderr",
     "output_type": "stream",
     "text": [
      "INFO:tensorflow:Assets written to: /home/paul_d/Sources/sem_math_repo/classification_formulas/wandb/run-20230305_171021-jguc2n3l/files/model-best/assets\n"
     ]
    },
    {
     "name": "stdout",
     "output_type": "stream",
     "text": [
      "156/156 [==============================] - 30s 158ms/step - loss: 0.6893 - accuracy: 0.5501 - val_loss: 0.7390 - val_accuracy: 0.0000e+00\n",
      "Epoch 2/15\n",
      "156/156 [==============================] - 10s 62ms/step - loss: 0.6719 - accuracy: 0.5500 - val_loss: 0.7530 - val_accuracy: 0.0000e+00\n",
      "Epoch 3/15\n",
      "156/156 [==============================] - ETA: 0s - loss: 0.6573 - accuracy: 0.5498INFO:tensorflow:Assets written to: /home/paul_d/Sources/sem_math_repo/classification_formulas/wandb/run-20230305_171021-jguc2n3l/files/model-best/assets\n"
     ]
    },
    {
     "name": "stderr",
     "output_type": "stream",
     "text": [
      "INFO:tensorflow:Assets written to: /home/paul_d/Sources/sem_math_repo/classification_formulas/wandb/run-20230305_171021-jguc2n3l/files/model-best/assets\n"
     ]
    },
    {
     "name": "stdout",
     "output_type": "stream",
     "text": [
      "156/156 [==============================] - 25s 158ms/step - loss: 0.6573 - accuracy: 0.5498 - val_loss: 0.6969 - val_accuracy: 0.0302\n",
      "Epoch 4/15\n",
      "156/156 [==============================] - 10s 67ms/step - loss: 0.6499 - accuracy: 0.5610 - val_loss: 0.6973 - val_accuracy: 0.2896\n",
      "Epoch 5/15\n",
      "156/156 [==============================] - 10s 64ms/step - loss: 0.6448 - accuracy: 0.6213 - val_loss: 0.7265 - val_accuracy: 0.2865\n",
      "Epoch 6/15\n",
      "156/156 [==============================] - 10s 65ms/step - loss: 0.6411 - accuracy: 0.6318 - val_loss: 0.7167 - val_accuracy: 0.2844\n",
      "Epoch 7/15\n",
      "156/156 [==============================] - 10s 62ms/step - loss: 0.6383 - accuracy: 0.6308 - val_loss: 0.7484 - val_accuracy: 0.2750\n",
      "Epoch 8/15\n",
      "156/156 [==============================] - 10s 62ms/step - loss: 0.6365 - accuracy: 0.6304 - val_loss: 0.7439 - val_accuracy: 0.2812\n",
      "Epoch 9/15\n",
      "156/156 [==============================] - 10s 63ms/step - loss: 0.6352 - accuracy: 0.6298 - val_loss: 0.7172 - val_accuracy: 0.2958\n",
      "Epoch 10/15\n",
      "156/156 [==============================] - 10s 62ms/step - loss: 0.6338 - accuracy: 0.6294 - val_loss: 0.7374 - val_accuracy: 0.2958\n",
      "Epoch 11/15\n",
      "156/156 [==============================] - 10s 62ms/step - loss: 0.6332 - accuracy: 0.6293 - val_loss: 0.7430 - val_accuracy: 0.2844\n",
      "Epoch 12/15\n",
      "156/156 [==============================] - 10s 64ms/step - loss: 0.6314 - accuracy: 0.6290 - val_loss: 0.7490 - val_accuracy: 0.2844\n",
      "Epoch 13/15\n",
      "156/156 [==============================] - 10s 61ms/step - loss: 0.6301 - accuracy: 0.6294 - val_loss: 0.7331 - val_accuracy: 0.2885\n",
      "Epoch 14/15\n",
      "156/156 [==============================] - 10s 65ms/step - loss: 0.6292 - accuracy: 0.6290 - val_loss: 0.7202 - val_accuracy: 0.2906\n",
      "Epoch 15/15\n",
      "156/156 [==============================] - 10s 62ms/step - loss: 0.6285 - accuracy: 0.6297 - val_loss: 0.7160 - val_accuracy: 0.2948\n"
     ]
    }
   ],
   "source": [
    "configs_dict = {\n",
    "    \"learning_rate\": 1e-4,\n",
    "    \"algorithm\": \"BiLstm\",\n",
    "    \"configuration\": \"1-tokens\",\n",
    "    \"optimizer\": \"adam\",\n",
    "    \"loss\": \"binary_crossentropy\",\n",
    "    \"epochs\": 15,\n",
    "    \"batch_size\": 64,\n",
    "    \"vectorizer\": \"count\",\n",
    "    \"dataset\": \"TOKENIZED_SET_V1\"\n",
    "}\n",
    "run = wandb.init(project=wandb_project_name, reinit=True, config=configs_dict)\n",
    "\n",
    "\n",
    "history = model.fit(train_dataset, \n",
    "                    epochs=15,\n",
    "                    validation_data=test_dataset,\n",
    "                    steps_per_epoch = STEPS_PER_EPOCH,\n",
    "                    validation_steps = VAL_STEPS_PER_EPOCH,\n",
    "                    callbacks= [WandbCallback()])#[tensorboard_callback])\n",
    "run.finish()"
   ]
  },
  {
   "cell_type": "code",
   "execution_count": 40,
   "metadata": {},
   "outputs": [
    {
     "name": "stdout",
     "output_type": "stream",
     "text": [
      "15/15 [==============================] - 0s 24ms/step - loss: 0.7160 - accuracy: 0.2948\n",
      "Test Loss: 0.7160069346427917\n",
      "Test Accuracy: 0.29479166865348816\n"
     ]
    }
   ],
   "source": [
    "test_loss, test_acc = model.evaluate(test_dataset)\n",
    "\n",
    "print(\"Test Loss:\", test_loss)\n",
    "print(\"Test Accuracy:\", test_acc)"
   ]
  },
  {
   "cell_type": "code",
   "execution_count": 41,
   "metadata": {},
   "outputs": [
    {
     "data": {
      "text/plain": [
       "(0.0, 0.7592517256736755)"
      ]
     },
     "execution_count": 41,
     "metadata": {},
     "output_type": "execute_result"
    },
    {
     "data": {
      "image/png": "[encoded data removed]",
      "text/plain": [
       "<Figure size 1600x800 with 2 Axes>"
      ]
     },
     "metadata": {},
     "output_type": "display_data"
    }
   ],
   "source": [
    "plt.figure(figsize=(16,8))\n",
    "plt.subplot(1,2,1)\n",
    "plot_graphs(history, \"accuracy\")\n",
    "plt.ylim(None, 1)\n",
    "plt.subplot(1,2,2)\n",
    "plot_graphs(history, \"loss\")\n",
    "plt.ylim(0, None)"
   ]
  },
  {
   "cell_type": "code",
   "execution_count": 42,
   "metadata": {},
   "outputs": [
    {
     "name": "stdout",
     "output_type": "stream",
     "text": [
      "WARNING:tensorflow:6 out of the last 6 calls to <function Model.make_predict_function.<locals>.predict_function at 0x7fe0b1ec0430> triggered tf.function retracing. Tracing is expensive and the excessive number of tracings could be due to (1) creating @tf.function repeatedly in a loop, (2) passing tensors with different shapes, (3) passing Python objects instead of tensors. For (1), please define your @tf.function outside of the loop. For (2), @tf.function has reduce_retracing=True option that can avoid unnecessary retracing. For (3), please refer to https://www.tensorflow.org/guide/function#controlling_retracing and https://www.tensorflow.org/api_docs/python/tf/function for  more details.\n"
     ]
    },
    {
     "name": "stderr",
     "output_type": "stream",
     "text": [
      "WARNING:tensorflow:6 out of the last 6 calls to <function Model.make_predict_function.<locals>.predict_function at 0x7fe0b1ec0430> triggered tf.function retracing. Tracing is expensive and the excessive number of tracings could be due to (1) creating @tf.function repeatedly in a loop, (2) passing tensors with different shapes, (3) passing Python objects instead of tensors. For (1), please define your @tf.function outside of the loop. For (2), @tf.function has reduce_retracing=True option that can avoid unnecessary retracing. For (3), please refer to https://www.tensorflow.org/guide/function#controlling_retracing and https://www.tensorflow.org/api_docs/python/tf/function for  more details.\n"
     ]
    },
    {
     "name": "stdout",
     "output_type": "stream",
     "text": [
      "1/1 [==============================] - 3s 3s/step\n",
      "[-1.3840569]\n"
     ]
    }
   ],
   "source": [
    "# predict on a sample text without padding\n",
    "sample_text = (\"g ( x ) = x ^ 3\")\n",
    "predictions = model.predict(np.array([sample_text]))\n",
    "print(predictions[0])"
   ]
  },
  {
   "attachments": {},
   "cell_type": "markdown",
   "metadata": {},
   "source": [
    "##### Experiment 4:"
   ]
  },
  {
   "cell_type": "code",
   "execution_count": 43,
   "metadata": {},
   "outputs": [
    {
     "name": "stdout",
     "output_type": "stream",
     "text": [
      "1/1 [==============================] - 1s 1s/step\n",
      "[-0.01132661]\n"
     ]
    }
   ],
   "source": [
    "model = create_model(encoder_bigrams)\n",
    "# predict on a sample formula using untrained model\n",
    "sample_text = (\"g ( x ) = x ^ 3\")\n",
    "predictions = model.predict(np.array([sample_text]))\n",
    "print(predictions[0])"
   ]
  },
  {
   "cell_type": "code",
   "execution_count": 44,
   "metadata": {},
   "outputs": [
    {
     "name": "stdout",
     "output_type": "stream",
     "text": [
      "Model: \"sequential_3\"\n",
      "_________________________________________________________________\n",
      " Layer (type)                Output Shape              Param #   \n",
      "=================================================================\n",
      " text_vectorization_3 (TextV  (None, 1000)             0         \n",
      " ectorization)                                                   \n",
      "                                                                 \n",
      " embedding_3 (Embedding)     (None, 1000, 64)          64000     \n",
      "                                                                 \n",
      " bidirectional_3 (Bidirectio  (None, 128)              66048     \n",
      " nal)                                                            \n",
      "                                                                 \n",
      " dense_6 (Dense)             (None, 64)                8256      \n",
      "                                                                 \n",
      " dense_7 (Dense)             (None, 1)                 65        \n",
      "                                                                 \n",
      "=================================================================\n",
      "Total params: 138,369\n",
      "Trainable params: 138,369\n",
      "Non-trainable params: 0\n",
      "_________________________________________________________________\n"
     ]
    }
   ],
   "source": [
    "model.summary()"
   ]
  },
  {
   "cell_type": "code",
   "execution_count": 45,
   "metadata": {},
   "outputs": [],
   "source": [
    "model.compile(loss=tf.keras.losses.BinaryCrossentropy(from_logits=True),\n",
    "              optimizer=tf.keras.optimizers.Adam(1e-4),\n",
    "              metrics=[\"accuracy\"])"
   ]
  },
  {
   "cell_type": "code",
   "execution_count": 46,
   "metadata": {},
   "outputs": [
    {
     "name": "stdout",
     "output_type": "stream",
     "text": [
      "Epoch 1/15\n",
      "156/156 [==============================] - ETA: 0s - loss: 0.6888 - accuracy: 0.5499INFO:tensorflow:Assets written to: /home/paul_d/Sources/sem_math_repo/classification_formulas/wandb/run-20230305_171337-hjckmgef/files/model-best/assets\n"
     ]
    },
    {
     "name": "stderr",
     "output_type": "stream",
     "text": [
      "INFO:tensorflow:Assets written to: /home/paul_d/Sources/sem_math_repo/classification_formulas/wandb/run-20230305_171337-hjckmgef/files/model-best/assets\n"
     ]
    },
    {
     "name": "stdout",
     "output_type": "stream",
     "text": [
      "156/156 [==============================] - 102s 627ms/step - loss: 0.6888 - accuracy: 0.5499 - val_loss: 0.7597 - val_accuracy: 0.0000e+00\n",
      "Epoch 2/15\n",
      "156/156 [==============================] - ETA: 0s - loss: 0.6665 - accuracy: 0.5501INFO:tensorflow:Assets written to: /home/paul_d/Sources/sem_math_repo/classification_formulas/wandb/run-20230305_171337-hjckmgef/files/model-best/assets\n"
     ]
    },
    {
     "name": "stderr",
     "output_type": "stream",
     "text": [
      "INFO:tensorflow:Assets written to: /home/paul_d/Sources/sem_math_repo/classification_formulas/wandb/run-20230305_171337-hjckmgef/files/model-best/assets\n"
     ]
    },
    {
     "name": "stdout",
     "output_type": "stream",
     "text": [
      "156/156 [==============================] - 98s 630ms/step - loss: 0.6665 - accuracy: 0.5501 - val_loss: 0.6993 - val_accuracy: 0.0000e+00\n",
      "Epoch 3/15\n",
      "156/156 [==============================] - ETA: 0s - loss: 0.6491 - accuracy: 0.5749INFO:tensorflow:Assets written to: /home/paul_d/Sources/sem_math_repo/classification_formulas/wandb/run-20230305_171337-hjckmgef/files/model-best/assets\n"
     ]
    },
    {
     "name": "stderr",
     "output_type": "stream",
     "text": [
      "INFO:tensorflow:Assets written to: /home/paul_d/Sources/sem_math_repo/classification_formulas/wandb/run-20230305_171337-hjckmgef/files/model-best/assets\n"
     ]
    },
    {
     "name": "stdout",
     "output_type": "stream",
     "text": [
      "156/156 [==============================] - 89s 570ms/step - loss: 0.6491 - accuracy: 0.5749 - val_loss: 0.6979 - val_accuracy: 0.2656\n",
      "Epoch 4/15\n",
      "156/156 [==============================] - 74s 472ms/step - loss: 0.6390 - accuracy: 0.6278 - val_loss: 0.7185 - val_accuracy: 0.2583\n",
      "Epoch 5/15\n",
      "156/156 [==============================] - 74s 472ms/step - loss: 0.6324 - accuracy: 0.6297 - val_loss: 0.7232 - val_accuracy: 0.2594\n",
      "Epoch 6/15\n",
      "156/156 [==============================] - 74s 476ms/step - loss: 0.6294 - accuracy: 0.6290 - val_loss: 0.7388 - val_accuracy: 0.2594\n",
      "Epoch 7/15\n",
      "156/156 [==============================] - 75s 480ms/step - loss: 0.6264 - accuracy: 0.6293 - val_loss: 0.7557 - val_accuracy: 0.2573\n",
      "Epoch 8/15\n",
      "156/156 [==============================] - 74s 476ms/step - loss: 0.6250 - accuracy: 0.6288 - val_loss: 0.7120 - val_accuracy: 0.2656\n",
      "Epoch 9/15\n",
      "156/156 [==============================] - 82s 526ms/step - loss: 0.6233 - accuracy: 0.6307 - val_loss: 0.7248 - val_accuracy: 0.2646\n",
      "Epoch 10/15\n",
      "156/156 [==============================] - 72s 459ms/step - loss: 0.6218 - accuracy: 0.6292 - val_loss: 0.7305 - val_accuracy: 0.2583\n",
      "Epoch 11/15\n",
      "156/156 [==============================] - ETA: 0s - loss: 0.6217 - accuracy: 0.6294INFO:tensorflow:Assets written to: /home/paul_d/Sources/sem_math_repo/classification_formulas/wandb/run-20230305_171337-hjckmgef/files/model-best/assets\n"
     ]
    },
    {
     "name": "stderr",
     "output_type": "stream",
     "text": [
      "INFO:tensorflow:Assets written to: /home/paul_d/Sources/sem_math_repo/classification_formulas/wandb/run-20230305_171337-hjckmgef/files/model-best/assets\n"
     ]
    },
    {
     "name": "stdout",
     "output_type": "stream",
     "text": [
      "156/156 [==============================] - 89s 572ms/step - loss: 0.6217 - accuracy: 0.6294 - val_loss: 0.6919 - val_accuracy: 0.2990\n",
      "Epoch 12/15\n",
      "156/156 [==============================] - ETA: 0s - loss: 0.6205 - accuracy: 0.6298INFO:tensorflow:Assets written to: /home/paul_d/Sources/sem_math_repo/classification_formulas/wandb/run-20230305_171337-hjckmgef/files/model-best/assets\n"
     ]
    },
    {
     "name": "stderr",
     "output_type": "stream",
     "text": [
      "INFO:tensorflow:Assets written to: /home/paul_d/Sources/sem_math_repo/classification_formulas/wandb/run-20230305_171337-hjckmgef/files/model-best/assets\n"
     ]
    },
    {
     "name": "stdout",
     "output_type": "stream",
     "text": [
      "156/156 [==============================] - 90s 579ms/step - loss: 0.6205 - accuracy: 0.6298 - val_loss: 0.6912 - val_accuracy: 0.2990\n",
      "Epoch 13/15\n",
      "156/156 [==============================] - 81s 521ms/step - loss: 0.6201 - accuracy: 0.6320 - val_loss: 0.7084 - val_accuracy: 0.2646\n",
      "Epoch 14/15\n",
      "156/156 [==============================] - 69s 442ms/step - loss: 0.6193 - accuracy: 0.6298 - val_loss: 0.6915 - val_accuracy: 0.2979\n",
      "Epoch 15/15\n",
      "156/156 [==============================] - 72s 461ms/step - loss: 0.6191 - accuracy: 0.6316 - val_loss: 0.7178 - val_accuracy: 0.2604\n"
     ]
    }
   ],
   "source": [
    "configs_dict = {\n",
    "    \"learning_rate\": 1e-4,\n",
    "    \"algorithm\": \"BiLstm\",\n",
    "    \"configuration\": \"1-tokens\",\n",
    "    \"optimizer\": \"adam\",\n",
    "    \"loss\": \"binary_crossentropy\",\n",
    "    \"epochs\": 15,\n",
    "    \"batch_size\": 64,\n",
    "    \"vectorizer\": \"bigram_count\",\n",
    "    \"dataset\": \"TOKENIZED_SET_V1\"\n",
    "}\n",
    "run = wandb.init(project=wandb_project_name, reinit=True, config=configs_dict)\n",
    "\n",
    "\n",
    "history = model.fit(train_dataset, \n",
    "                    epochs=15,\n",
    "                    validation_data=test_dataset,\n",
    "                    steps_per_epoch = STEPS_PER_EPOCH,\n",
    "                    validation_steps = VAL_STEPS_PER_EPOCH,\n",
    "                    callbacks= [WandbCallback()])#[tensorboard_callback])\n",
    "run.finish()"
   ]
  },
  {
   "cell_type": "code",
   "execution_count": 47,
   "metadata": {},
   "outputs": [
    {
     "name": "stdout",
     "output_type": "stream",
     "text": [
      "15/15 [==============================] - 2s 139ms/step - loss: 0.7178 - accuracy: 0.2604\n",
      "Test Loss: 0.7177892923355103\n",
      "Test Accuracy: 0.2604166567325592\n"
     ]
    }
   ],
   "source": [
    "test_loss, test_acc = model.evaluate(test_dataset)\n",
    "\n",
    "print(\"Test Loss:\", test_loss)\n",
    "print(\"Test Accuracy:\", test_acc)"
   ]
  },
  {
   "cell_type": "code",
   "execution_count": 48,
   "metadata": {},
   "outputs": [
    {
     "data": {
      "text/plain": [
       "(0.0, 0.7667637795209885)"
      ]
     },
     "execution_count": 48,
     "metadata": {},
     "output_type": "execute_result"
    },
    {
     "data": {
      "image/png": "[encoded data removed]",
      "text/plain": [
       "<Figure size 1600x800 with 2 Axes>"
      ]
     },
     "metadata": {},
     "output_type": "display_data"
    }
   ],
   "source": [
    "plt.figure(figsize=(16,8))\n",
    "plt.subplot(1,2,1)\n",
    "plot_graphs(history, \"accuracy\")\n",
    "plt.ylim(None, 1)\n",
    "plt.subplot(1,2,2)\n",
    "plot_graphs(history, \"loss\")\n",
    "plt.ylim(0, None)"
   ]
  },
  {
   "cell_type": "code",
   "execution_count": 49,
   "metadata": {},
   "outputs": [
    {
     "name": "stdout",
     "output_type": "stream",
     "text": [
      "1/1 [==============================] - 2s 2s/step\n",
      "[-1.0524367]\n"
     ]
    }
   ],
   "source": [
    "# predict on a sample text without padding\n",
    "sample_text = (\"g ( x ) = x ^ 3\")\n",
    "predictions = model.predict(np.array([sample_text]))\n",
    "print(predictions[0])"
   ]
  },
  {
   "attachments": {},
   "cell_type": "markdown",
   "metadata": {},
   "source": [
    "##### Experiment 5:"
   ]
  },
  {
   "cell_type": "code",
   "execution_count": 50,
   "metadata": {},
   "outputs": [
    {
     "name": "stdout",
     "output_type": "stream",
     "text": [
      "1/1 [==============================] - 2s 2s/step\n",
      "[-0.00906602]\n"
     ]
    }
   ],
   "source": [
    "model = create_model(encoder_tf_idf)\n",
    "# predict on a sample formula using untrained model\n",
    "sample_text = (\"g ( x ) = x ^ 3\")\n",
    "predictions = model.predict(np.array([sample_text]))\n",
    "print(predictions[0])"
   ]
  },
  {
   "cell_type": "code",
   "execution_count": 51,
   "metadata": {},
   "outputs": [],
   "source": [
    "model.compile(loss=tf.keras.losses.BinaryCrossentropy(from_logits=True),\n",
    "              optimizer=tf.keras.optimizers.Adam(1e-4),\n",
    "              metrics=[\"accuracy\"])"
   ]
  },
  {
   "cell_type": "code",
   "execution_count": 52,
   "metadata": {},
   "outputs": [
    {
     "name": "stdout",
     "output_type": "stream",
     "text": [
      "Epoch 1/15\n",
      "156/156 [==============================] - ETA: 0s - loss: 0.6886 - accuracy: 0.5497INFO:tensorflow:Assets written to: /home/paul_d/Sources/sem_math_repo/classification_formulas/wandb/run-20230305_173412-z1j9919y/files/model-best/assets\n"
     ]
    },
    {
     "name": "stderr",
     "output_type": "stream",
     "text": [
      "INFO:tensorflow:Assets written to: /home/paul_d/Sources/sem_math_repo/classification_formulas/wandb/run-20230305_173412-z1j9919y/files/model-best/assets\n"
     ]
    },
    {
     "name": "stdout",
     "output_type": "stream",
     "text": [
      "156/156 [==============================] - 35s 194ms/step - loss: 0.6886 - accuracy: 0.5497 - val_loss: 0.7482 - val_accuracy: 0.0000e+00\n",
      "Epoch 2/15\n",
      "156/156 [==============================] - ETA: 0s - loss: 0.6752 - accuracy: 0.5497INFO:tensorflow:Assets written to: /home/paul_d/Sources/sem_math_repo/classification_formulas/wandb/run-20230305_173412-z1j9919y/files/model-best/assets\n"
     ]
    },
    {
     "name": "stderr",
     "output_type": "stream",
     "text": [
      "INFO:tensorflow:Assets written to: /home/paul_d/Sources/sem_math_repo/classification_formulas/wandb/run-20230305_173412-z1j9919y/files/model-best/assets\n"
     ]
    },
    {
     "name": "stdout",
     "output_type": "stream",
     "text": [
      "156/156 [==============================] - 26s 164ms/step - loss: 0.6752 - accuracy: 0.5497 - val_loss: 0.7415 - val_accuracy: 0.0000e+00\n",
      "Epoch 3/15\n",
      "156/156 [==============================] - ETA: 0s - loss: 0.6599 - accuracy: 0.5500INFO:tensorflow:Assets written to: /home/paul_d/Sources/sem_math_repo/classification_formulas/wandb/run-20230305_173412-z1j9919y/files/model-best/assets\n"
     ]
    },
    {
     "name": "stderr",
     "output_type": "stream",
     "text": [
      "INFO:tensorflow:Assets written to: /home/paul_d/Sources/sem_math_repo/classification_formulas/wandb/run-20230305_173412-z1j9919y/files/model-best/assets\n"
     ]
    },
    {
     "name": "stdout",
     "output_type": "stream",
     "text": [
      "156/156 [==============================] - 26s 168ms/step - loss: 0.6599 - accuracy: 0.5500 - val_loss: 0.6950 - val_accuracy: 0.0010\n",
      "Epoch 4/15\n",
      "156/156 [==============================] - ETA: 0s - loss: 0.6489 - accuracy: 0.5650INFO:tensorflow:Assets written to: /home/paul_d/Sources/sem_math_repo/classification_formulas/wandb/run-20230305_173412-z1j9919y/files/model-best/assets\n"
     ]
    },
    {
     "name": "stderr",
     "output_type": "stream",
     "text": [
      "INFO:tensorflow:Assets written to: /home/paul_d/Sources/sem_math_repo/classification_formulas/wandb/run-20230305_173412-z1j9919y/files/model-best/assets\n"
     ]
    },
    {
     "name": "stdout",
     "output_type": "stream",
     "text": [
      "156/156 [==============================] - 26s 165ms/step - loss: 0.6489 - accuracy: 0.5650 - val_loss: 0.6882 - val_accuracy: 0.1937\n",
      "Epoch 5/15\n",
      "156/156 [==============================] - 9s 58ms/step - loss: 0.6391 - accuracy: 0.6052 - val_loss: 0.7328 - val_accuracy: 0.1990\n",
      "Epoch 6/15\n",
      "156/156 [==============================] - 9s 59ms/step - loss: 0.6321 - accuracy: 0.6129 - val_loss: 0.7258 - val_accuracy: 0.2698\n",
      "Epoch 7/15\n",
      "156/156 [==============================] - 9s 58ms/step - loss: 0.6262 - accuracy: 0.6278 - val_loss: 0.7422 - val_accuracy: 0.2656\n",
      "Epoch 8/15\n",
      "156/156 [==============================] - 9s 58ms/step - loss: 0.6218 - accuracy: 0.6311 - val_loss: 0.7196 - val_accuracy: 0.2906\n",
      "Epoch 9/15\n",
      "156/156 [==============================] - 9s 56ms/step - loss: 0.6180 - accuracy: 0.6317 - val_loss: 0.7272 - val_accuracy: 0.2896\n",
      "Epoch 10/15\n",
      "156/156 [==============================] - 9s 57ms/step - loss: 0.6144 - accuracy: 0.6335 - val_loss: 0.7117 - val_accuracy: 0.2969\n",
      "Epoch 11/15\n",
      "156/156 [==============================] - 9s 56ms/step - loss: 0.6117 - accuracy: 0.6363 - val_loss: 0.7105 - val_accuracy: 0.2937\n",
      "Epoch 12/15\n",
      "156/156 [==============================] - 9s 57ms/step - loss: 0.6095 - accuracy: 0.6395 - val_loss: 0.7153 - val_accuracy: 0.3000\n",
      "Epoch 13/15\n",
      "156/156 [==============================] - 10s 62ms/step - loss: 0.6088 - accuracy: 0.6379 - val_loss: 0.7451 - val_accuracy: 0.2823\n",
      "Epoch 14/15\n",
      "156/156 [==============================] - 10s 66ms/step - loss: 0.6064 - accuracy: 0.6407 - val_loss: 0.7177 - val_accuracy: 0.2927\n",
      "Epoch 15/15\n",
      "156/156 [==============================] - 10s 63ms/step - loss: 0.6050 - accuracy: 0.6417 - val_loss: 0.7237 - val_accuracy: 0.2833\n"
     ]
    }
   ],
   "source": [
    "configs_dict = {\n",
    "    \"learning_rate\": 1e-4,\n",
    "    \"algorithm\": \"BiLstm\",\n",
    "    \"configuration\": \"1-tokens\",\n",
    "    \"optimizer\": \"adam\",\n",
    "    \"loss\": \"binary_crossentropy\",\n",
    "    \"epochs\": 15,\n",
    "    \"batch_size\": 64,\n",
    "    \"vectorizer\": \"tf_idf\",\n",
    "    \"dataset\": \"TOKENIZED_SET_V1\"\n",
    "}\n",
    "run = wandb.init(project=wandb_project_name, reinit=True, config=configs_dict)\n",
    "\n",
    "history = model.fit(train_dataset, \n",
    "                    epochs=15,\n",
    "                    validation_data=test_dataset,\n",
    "                    steps_per_epoch = STEPS_PER_EPOCH,\n",
    "                    validation_steps = VAL_STEPS_PER_EPOCH,\n",
    "                    callbacks= [WandbCallback()])#[tensorboard_callback])\n",
    "run.finish()"
   ]
  },
  {
   "cell_type": "code",
   "execution_count": 53,
   "metadata": {},
   "outputs": [
    {
     "name": "stdout",
     "output_type": "stream",
     "text": [
      "15/15 [==============================] - 0s 21ms/step - loss: 0.7237 - accuracy: 0.2833\n",
      "Test Loss: 0.7236614227294922\n",
      "Test Accuracy: 0.28333333134651184\n"
     ]
    }
   ],
   "source": [
    "test_loss, test_acc = model.evaluate(test_dataset)\n",
    "\n",
    "print(\"Test Loss:\", test_loss)\n",
    "print(\"Test Accuracy:\", test_acc)"
   ]
  },
  {
   "cell_type": "code",
   "execution_count": 54,
   "metadata": {},
   "outputs": [
    {
     "data": {
      "text/plain": [
       "(0.0, 0.755372378230095)"
      ]
     },
     "execution_count": 54,
     "metadata": {},
     "output_type": "execute_result"
    },
    {
     "data": {
      "image/png": "[encoded data removed]",
      "text/plain": [
       "<Figure size 1600x800 with 2 Axes>"
      ]
     },
     "metadata": {},
     "output_type": "display_data"
    }
   ],
   "source": [
    "plt.figure(figsize=(16,8))\n",
    "plt.subplot(1,2,1)\n",
    "plot_graphs(history, \"accuracy\")\n",
    "plt.ylim(None, 1)\n",
    "plt.subplot(1,2,2)\n",
    "plot_graphs(history, \"loss\")\n",
    "plt.ylim(0, None)"
   ]
  },
  {
   "cell_type": "code",
   "execution_count": 55,
   "metadata": {},
   "outputs": [
    {
     "name": "stdout",
     "output_type": "stream",
     "text": [
      "1/1 [==============================] - 2s 2s/step\n",
      "[-1.5316707]\n"
     ]
    }
   ],
   "source": [
    "# predict on a sample text without padding\n",
    "sample_text = (\"g ( x ) = x ^ 3\")\n",
    "predictions = model.predict(np.array([sample_text]))\n",
    "print(predictions[0])"
   ]
  }
 ],
 "metadata": {
  "kernelspec": {
   "display_name": "sem_math_env",
   "language": "python",
   "name": "python3"
  },
  "language_info": {
   "codemirror_mode": {
    "name": "ipython",
    "version": 3
   },
   "file_extension": ".py",
   "mimetype": "text/x-python",
   "name": "python",
   "nbconvert_exporter": "python",
   "pygments_lexer": "ipython3",
   "version": "3.10.9"
  },
  "orig_nbformat": 4,
  "vscode": {
   "interpreter": {
    "hash": "71a9a05a8d236729134f51de1f1fd612c9215f2a378954bc400639bac96e00eb"
   }
  }
 },
 "nbformat": 4,
 "nbformat_minor": 2
}
