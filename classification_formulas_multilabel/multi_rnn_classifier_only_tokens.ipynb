{
 "cells": [
  {
   "cell_type": "code",
   "execution_count": 307,
   "metadata": {},
   "outputs": [],
   "source": [
    "import os\n",
    "\n",
    "# takes care of annoying TF-GPU warnings\n",
    "os.environ[\"CUDA_VISIBLE_DEVICES\"] = \"-1\"\n",
    "os.environ[\"TF_CPP_MIN_LOG_LEVEL\"] = \"3\""
   ]
  },
  {
   "cell_type": "code",
   "execution_count": 308,
   "metadata": {},
   "outputs": [],
   "source": [
    "# very useful for managing wandb runs: https://stackoverflow.com/questions/71106179/log-two-model-runs-with-keras-wandb\n",
    "import wandb\n",
    "from wandb.keras import WandbCallback\n",
    "os.environ[\"WANDB_SILENT\"] = \"true\""
   ]
  },
  {
   "attachments": {},
   "cell_type": "markdown",
   "metadata": {},
   "source": [
    "#### RNN: Formula Label Prediction "
   ]
  },
  {
   "cell_type": "code",
   "execution_count": 309,
   "metadata": {},
   "outputs": [],
   "source": [
    "import numpy as np \n",
    "import pandas as pd\n",
    "from pathlib import Path \n",
    "import ast\n",
    "\n",
    "import tensorflow as tf\n",
    "\n",
    "from tensorflow.keras import layers \n",
    "from tensorflow.keras import utils\n",
    "\n",
    "import tensorflow_datasets as tfds\n",
    "import tensorflow_text as tf_text\n",
    "\n",
    "import datetime\n",
    "\n",
    "tfds.disable_progress_bar()"
   ]
  },
  {
   "cell_type": "code",
   "execution_count": 310,
   "metadata": {},
   "outputs": [],
   "source": [
    "import matplotlib.pyplot as plt\n",
    "\n",
    "def plot_graphs(history, metric):\n",
    "    plt.plot(history.history[metric])\n",
    "    plt.plot(history.history[\"val_\"+metric], \"\")\n",
    "    plt.xlabel(\"Epochs\")\n",
    "    plt.ylabel(metric)\n",
    "    plt.legend([metric, \"val_\"+metric])"
   ]
  },
  {
   "attachments": {},
   "cell_type": "markdown",
   "metadata": {},
   "source": [
    "#### Import Data and Preprocess Dataframe"
   ]
  },
  {
   "cell_type": "code",
   "execution_count": 311,
   "metadata": {},
   "outputs": [],
   "source": [
    "def preprocess_data(corpus,\n",
    "                    irrelevant_features=[]):\n",
    "    # drop irrelevant columns\n",
    "    corpus.drop(irrelevant_features, inplace=True, axis=1)\n",
    "    def cell_str_to_list(cell_val):\n",
    "        return ast.literal_eval(cell_val)\n",
    "\n",
    "    # filter strings\n",
    "    def process_cell(cell_str):\n",
    "        stripped_f_str = cell_str[1:-1].replace(\"\\\\\\\\\", \"\\\\\")\n",
    "        f_list = stripped_f_str.split(\",\")\n",
    "        f_list = [token.replace(\"'\", \"\").replace(\" \", \"\") for token in f_list]\n",
    "        f_list = [\"{\" if token == \"\\\\{\" else token for token in f_list]\n",
    "        f_list = [\"}\" if token == \"\\\\}\" else token for token in f_list]\n",
    "        cell_str = \" \".join(f_list)\n",
    "        return cell_str\n",
    "\n",
    "    corpus[\"tokens\"] = corpus[\"tokens\"].map(process_cell)\n",
    "    corpus[\"labels\"] = corpus[\"labels\"].map(cell_str_to_list)\n",
    "    corpus = corpus.loc[(corpus[\"tokens\"].str.len() > 0) & (corpus[\"tokens\"] != \" \")]"
   ]
  },
  {
   "cell_type": "code",
   "execution_count": 312,
   "metadata": {},
   "outputs": [
    {
     "data": {
      "text/html": [
       "<div>\n",
       "<style scoped>\n",
       "    .dataframe tbody tr th:only-of-type {\n",
       "        vertical-align: middle;\n",
       "    }\n",
       "\n",
       "    .dataframe tbody tr th {\n",
       "        vertical-align: top;\n",
       "    }\n",
       "\n",
       "    .dataframe thead th {\n",
       "        text-align: right;\n",
       "    }\n",
       "</style>\n",
       "<table border=\"1\" class=\"dataframe\">\n",
       "  <thead>\n",
       "    <tr style=\"text-align: right;\">\n",
       "      <th></th>\n",
       "      <th>mtype</th>\n",
       "      <th>tokens</th>\n",
       "      <th>type_tokens</th>\n",
       "      <th>labels</th>\n",
       "      <th>labels_str</th>\n",
       "    </tr>\n",
       "  </thead>\n",
       "  <tbody>\n",
       "    <tr>\n",
       "      <th>0</th>\n",
       "      <td>FUNC</td>\n",
       "      <td>f</td>\n",
       "      <td>['func_name', '__ANON_1']</td>\n",
       "      <td>[1, 0, 0, 0, 0, 0, 0, 0, 0, 0, 0, 0, 0, 0, 0, ...</td>\n",
       "      <td>['elementary-set-theory']</td>\n",
       "    </tr>\n",
       "    <tr>\n",
       "      <th>1</th>\n",
       "      <td>FUNC</td>\n",
       "      <td>j : \\mathbb{N} \\rightarrow [ 0   1 ]</td>\n",
       "      <td>['func_def', 'func_name', '__ANON_1', 'COLON',...</td>\n",
       "      <td>[1, 0, 0, 0, 0, 0, 0, 0, 0, 0, 0, 0, 0, 0, 0, ...</td>\n",
       "      <td>['elementary-set-theory']</td>\n",
       "    </tr>\n",
       "    <tr>\n",
       "      <th>2</th>\n",
       "      <td>FUNC</td>\n",
       "      <td>b</td>\n",
       "      <td>['func_name', '__ANON_1']</td>\n",
       "      <td>[1, 0, 0, 0, 0, 0, 0, 0, 0, 0, 0, 0, 0, 0, 0, ...</td>\n",
       "      <td>['elementary-set-theory']</td>\n",
       "    </tr>\n",
       "    <tr>\n",
       "      <th>3</th>\n",
       "      <td>SET</td>\n",
       "      <td>mathbb{Q</td>\n",
       "      <td>['set_constant', 'SET_BASIC']</td>\n",
       "      <td>[1, 0, 0, 0, 0, 0, 0, 0, 0, 0, 0, 0, 0, 0, 0, ...</td>\n",
       "      <td>['elementary-set-theory']</td>\n",
       "    </tr>\n",
       "    <tr>\n",
       "      <th>4</th>\n",
       "      <td>FUNC</td>\n",
       "      <td>f</td>\n",
       "      <td>['func_name', '__ANON_1']</td>\n",
       "      <td>[1, 0, 0, 1, 0, 0, 0, 0, 0, 0, 0, 0, 0, 0, 0, ...</td>\n",
       "      <td>['functions', 'elementary-set-theory']</td>\n",
       "    </tr>\n",
       "  </tbody>\n",
       "</table>\n",
       "</div>"
      ],
      "text/plain": [
       "  mtype                                tokens  \\\n",
       "0  FUNC                                     f   \n",
       "1  FUNC  j : \\mathbb{N} \\rightarrow [ 0   1 ]   \n",
       "2  FUNC                                     b   \n",
       "3   SET                              mathbb{Q   \n",
       "4  FUNC                                     f   \n",
       "\n",
       "                                         type_tokens  \\\n",
       "0                          ['func_name', '__ANON_1']   \n",
       "1  ['func_def', 'func_name', '__ANON_1', 'COLON',...   \n",
       "2                          ['func_name', '__ANON_1']   \n",
       "3                      ['set_constant', 'SET_BASIC']   \n",
       "4                          ['func_name', '__ANON_1']   \n",
       "\n",
       "                                              labels  \\\n",
       "0  [1, 0, 0, 0, 0, 0, 0, 0, 0, 0, 0, 0, 0, 0, 0, ...   \n",
       "1  [1, 0, 0, 0, 0, 0, 0, 0, 0, 0, 0, 0, 0, 0, 0, ...   \n",
       "2  [1, 0, 0, 0, 0, 0, 0, 0, 0, 0, 0, 0, 0, 0, 0, ...   \n",
       "3  [1, 0, 0, 0, 0, 0, 0, 0, 0, 0, 0, 0, 0, 0, 0, ...   \n",
       "4  [1, 0, 0, 1, 0, 0, 0, 0, 0, 0, 0, 0, 0, 0, 0, ...   \n",
       "\n",
       "                               labels_str  \n",
       "0               ['elementary-set-theory']  \n",
       "1               ['elementary-set-theory']  \n",
       "2               ['elementary-set-theory']  \n",
       "3               ['elementary-set-theory']  \n",
       "4  ['functions', 'elementary-set-theory']  "
      ]
     },
     "execution_count": 312,
     "metadata": {},
     "output_type": "execute_result"
    }
   ],
   "source": [
    "data_p = Path(\"..\") / \"data\" / \"multi_class_data_TOKENIZED_V1.csv\"\n",
    "data = pd.read_csv(data_p)\n",
    "preprocess_data(data)\n",
    "data.head()\n"
   ]
  },
  {
   "cell_type": "code",
   "execution_count": 313,
   "metadata": {},
   "outputs": [],
   "source": [
    "num_classes = 40\n",
    "labels_array = np.array(data[\"labels\"].to_list())\n",
    "data_as_ds = tf.data.Dataset.from_tensor_slices((data[\"tokens\"], labels_array)) \n",
    "test_dataset = data_as_ds.take(3000)\n",
    "train_dataset = data_as_ds.skip(3000)"
   ]
  },
  {
   "attachments": {},
   "cell_type": "markdown",
   "metadata": {},
   "source": [
    "##### Setup and Data Preparation"
   ]
  },
  {
   "cell_type": "code",
   "execution_count": 314,
   "metadata": {},
   "outputs": [
    {
     "name": "stdout",
     "output_type": "stream",
     "text": [
      "text:  b'\\\\frac { j ( j - 1 ) } { 2 } + 1'\n",
      "labels:  [1 0 0 1 0 0 0 0 0 1 0 0 0 0 0 0 0 0 0 0 0 0 0 0 0 0 0 0 0 0 0 0 0 0 0 0 0\n",
      " 0 0 0]\n"
     ]
    }
   ],
   "source": [
    "for example, label in train_dataset.take(1):\n",
    "    print(\"text: \", example.numpy())\n",
    "    print(\"labels: \", label.numpy())"
   ]
  },
  {
   "cell_type": "code",
   "execution_count": 315,
   "metadata": {},
   "outputs": [],
   "source": [
    "BUFFER_SIZE = 10000\n",
    "BATCH_SIZE = 64\n",
    "train_dataset = train_dataset.shuffle(BUFFER_SIZE).batch(BATCH_SIZE).prefetch(tf.data.AUTOTUNE)\n",
    "test_dataset = test_dataset.batch(BATCH_SIZE).prefetch(tf.data.AUTOTUNE)"
   ]
  },
  {
   "attachments": {},
   "cell_type": "markdown",
   "metadata": {},
   "source": [
    "##### Text Encoding"
   ]
  },
  {
   "cell_type": "code",
   "execution_count": 316,
   "metadata": {},
   "outputs": [],
   "source": [
    "def create_encoder(output_mode_str, n_grams):\n",
    "    VOCAB_SIZE = 1000\n",
    "    encoder = tf.keras.layers.TextVectorization(\n",
    "        standardize=None,\n",
    "        output_mode=output_mode_str,\n",
    "        ngrams = n_grams,\n",
    "        split=\"whitespace\",\n",
    "        max_tokens=VOCAB_SIZE)\n",
    "    encoder.adapt(train_dataset.map(lambda tokens, label: tokens)) # removes the label column through transformation: text, label -> text\n",
    "    return encoder"
   ]
  },
  {
   "attachments": {},
   "cell_type": "markdown",
   "metadata": {},
   "source": [
    "##### Representation 1: Use integer indices encoding"
   ]
  },
  {
   "cell_type": "code",
   "execution_count": 317,
   "metadata": {},
   "outputs": [
    {
     "name": "stdout",
     "output_type": "stream",
     "text": [
      "vocabulary size:  128\n"
     ]
    },
    {
     "data": {
      "text/plain": [
       "array(['', '[UNK]', 'f', '1', '2', 'x', '}', '{', '^', ')', '(', ':', '+',\n",
       "       '0', '\\\\to', '-', '3', 'n', 'A', 'g', '=', 'a', '4', '5', 'B', 'b',\n",
       "       '\\\\frac', '\\\\rightarrow', 'X', '6', '9', '7', '\\\\mathbb',\n",
       "       '\\\\mathbb{R}', 'y', 'Y', '8', '\\\\mathbb{N}', 'h', 'c', 'p', 'R',\n",
       "       'k', '/', '\\\\times', '\\\\colon', 'm', 'N', 'S', 'F', 'i', 't', 'd',\n",
       "       'C', 'z', 's', 'e', 'q', '[', ']', 'r', '\\\\cdot', '\\\\cup', '!',\n",
       "       '\\\\mathbb{Z}', 'mathbb{N', 'T', '\\\\dfrac', 'Z', '\\\\circ', '\\\\cap',\n",
       "       'u', 'P', 'si', 'G', 'D', 'M', 'I', 'varnothin', 'co', 'E', 'Q',\n",
       "       'U', '*', 'mathbb{R', 'j', 'H', 'V', 'v', 'W', 'l', 'w',\n",
       "       '\\\\mathbb{Q}', 'mathbb{Z', '\\\\binom', 'J', 'ta', '\\\\mathbb{C}',\n",
       "       'o', 'arcta', 'arcsi', 'L', 'K', 'mathbb{Q', 'lo', '\\\\varnothing)',\n",
       "       'Token(sets__SET_EMPTY', 'ex', '\\\\varnothing', '\\\\sin', '\\\\exp',\n",
       "       'O', 'arcco', '\\\\tfrac', 'mathbb{A', 'cos', '\\\\arcsin', 'tan',\n",
       "       'sin', '\\\\tanh', '\\\\log', '\\\\div', '\\\\cos', 'se', 'mathbb{C',\n",
       "       '\\\\sec', '\\\\dbinom', '\\\\arctan'], dtype='<U21')"
      ]
     },
     "execution_count": 317,
     "metadata": {},
     "output_type": "execute_result"
    }
   ],
   "source": [
    "encoder_int = create_encoder(\"int\", None)\n",
    "vocab = np.array(encoder_int.get_vocabulary())\n",
    "print(\"vocabulary size: \", len(vocab))\n",
    "vocab[:200]"
   ]
  },
  {
   "cell_type": "code",
   "execution_count": 318,
   "metadata": {},
   "outputs": [
    {
     "name": "stdout",
     "output_type": "stream",
     "text": [
      "tf.Tensor(b'\\\\frac { j ( j - 1 ) } { 2 } + 1', shape=(), dtype=string)\n",
      "[26  7 85 10 85 15  3  9  6  7  4  6 12  3]\n"
     ]
    }
   ],
   "source": [
    "encoded_example = encoder_int(example).numpy()\n",
    "print(example)\n",
    "print(encoded_example)"
   ]
  },
  {
   "cell_type": "code",
   "execution_count": 319,
   "metadata": {},
   "outputs": [
    {
     "name": "stdout",
     "output_type": "stream",
     "text": [
      "Original:  b'\\\\frac { j ( j - 1 ) } { 2 } + 1'\n",
      "After reverse lookup:  \\frac { j ( j - 1 ) } { 2 } + 1\n"
     ]
    }
   ],
   "source": [
    "print(\"Original: \", example.numpy())\n",
    "print(\"After reverse lookup: \", \" \".join(vocab[encoded_example]))"
   ]
  },
  {
   "attachments": {},
   "cell_type": "markdown",
   "metadata": {},
   "source": [
    "##### Representation 2: Binary Count Vectorizer"
   ]
  },
  {
   "cell_type": "code",
   "execution_count": 221,
   "metadata": {},
   "outputs": [
    {
     "data": {
      "text/plain": [
       "array(['[UNK]', \"['f',\", \"'x',\", \"'^',\", \"['f']\", \"'{',\", \"'(',\", \"'1',\",\n",
       "       \"':',\", \"'2',\", \"'+',\", \"')',\", \"'\\\\\\\\to',\", \"'-',\", \"'0',\",\n",
       "       \"'}',\", \"'=',\", \"',',\", \"'}']\", \"'3',\", '1', \"['1',\", \"'n',\",\n",
       "       \"')']\", \"'1']\", \"'\\\\\\\\rightarrow',\", \"'4',\", \"'A',\", \"'a',\",\n",
       "       \"['2',\", \"'B']\", \"'b',\", \"'2']\", \"'5',\", '0', \"['g']\", \"'\\\\\\\\}']\",\n",
       "       \"'0']\", \"['g',\", \"'X',\", \"['\\\\\\\\{',\", \"'\\\\\\\\mathbb',\",\n",
       "       \"['\\\\\\\\frac',\", '2', \"'6',\", \"'7',\", \"'Y']\", \"'9',\", \"'/',\",\n",
       "       \"'y',\", \"['a',\", \"'\\\\\\\\frac',\", '3', \"'8',\", \"['(',\",\n",
       "       \"'\\\\\\\\colon',\", \"'\\\\\\\\times',\", \"'3']\", \"'\\\\\\\\mathbb{N}',\",\n",
       "       \"'\\\\\\\\mathbb{R}',\", \"'x']\", \"'\\\\\\\\mathbb{R}']\", \"['3',\", \"['n',\",\n",
       "       \"'c',\", \"'A']\", \"'n']\", \"'5']\", '5', \"'4']\", \"['h']\", \"['4',\",\n",
       "       \"['-',\", \"'k',\", \"'\\\\\\\\mathbb{N}']\", \"'B',\", \"['x',\", '4', \"['A',\",\n",
       "       \"['F']\", \"'t',\", \"'R']\", \"'m',\", \"'7']\", \"'6']\", \"['h',\", \"'p',\",\n",
       "       \"'b']\", \"'X']\", \"'R',\", \"['p',\", '9', \"'N']\", \"'N',\", \"'z',\",\n",
       "       \"'9']\", '6', \"['5',\", \"'e',\", \"'i',\", \"['9',\", \"['\\\\\\\\mathbb',\",\n",
       "       \"'\\\\\\\\cdot',\", \"['x']\", '7', '[]', \"'d',\", \"'8']\", \"'S',\", \"'[',\",\n",
       "       \"'c']\", \"'s',\", \"'\\\\\\\\cup',\", \"['6',\", '\\\\mathbb{N}', \"'\\\\\\\\{',\",\n",
       "       \"['A']\", \"'y']\", \"'\\\\\\\\circ',\", \"']']\", \"'\\\\\\\\cap',\", \"'C']\",\n",
       "       \"'f',\", \"'q',\", '8', \"'k']\", '\\\\sin', \"'g',\", \"['F',\", \"['m',\",\n",
       "       \"['7',\", \"'S']\", \"'!',\", \"'Y',\", \"'a']\", \"'C',\", \"['y']\", \"'i']\",\n",
       "       \"['8',\", \"['d',\", '\\\\varnothing', \"']',\", \"['S']\", \"['b',\",\n",
       "       \"['k',\", \"['\\\\\\\\dfrac',\", \"'r',\", '\\\\cos', \"['0',\",\n",
       "       \"'\\\\\\\\mathbb{Z}']\", \"['n']\", \"'f']\", \"'\\\\\\\\mathbb{Z}',\", \"['[',\",\n",
       "       \"'Z']\", \"['r',\", \"'\\\\\\\\dfrac',\", \"'h',\", \"'q']\", \"'*',\",\n",
       "       '\\\\mathbb{R}', \"'T']\", \"['i',\", \"['X']\", \"'p']\", \"'m']\", \"'Z',\",\n",
       "       \"['a']\", \"['p']\", \"['X',\", \"['S',\", \"['e',\", \"['R']\", \"'u',\",\n",
       "       \"['s',\", \"'g']\", \"'!']\", \"['G']\", \"['k']\", \"['T']\", '\\\\mathbb{Z}',\n",
       "       \"['s']\", \"'z']\", \"'d']\", \"'M',\", \"['y',\", \"'\\\\\\\\}',\", \"['P',\",\n",
       "       \"'Q']\", \"'E',\", \"['u']\", \"['B']\", \"'I',\", \"['d']\", \"'r']\", '\\\\tan',\n",
       "       \"['C',\", \"['c',\", \"['H']\", \"'t']\"], dtype='<U24')"
      ]
     },
     "execution_count": 221,
     "metadata": {},
     "output_type": "execute_result"
    }
   ],
   "source": [
    "encoder_multi_hot = create_encoder(\"multi_hot\", None)\n",
    "vocab = np.array(encoder_multi_hot.get_vocabulary())\n",
    "vocab[:200]"
   ]
  },
  {
   "cell_type": "code",
   "execution_count": 222,
   "metadata": {},
   "outputs": [
    {
     "name": "stdout",
     "output_type": "stream",
     "text": [
      "tf.Tensor(b\"['\\\\\\\\frac', '{', 'j', '(', 'j', '-', '1', ')', '}', '{', '2', '}', '+', '1']\", shape=(), dtype=string)\n",
      "[0. 0. 0. 0. 0. 1. 1. 1. 0. 1. 1. 1. 0. 1. 0. 1. 0. 0. 0. 0. 0. 0. 0. 0.\n",
      " 1. 0. 0. 0. 0. 0. 0. 0. 0. 0. 0. 0. 0. 0. 0. 0. 0. 0. 1. 0. 0. 0. 0. 0.\n",
      " 0. 0. 0. 0. 0. 0. 0. 0. 0. 0. 0. 0. 0. 0. 0. 0. 0. 0. 0. 0. 0. 0. 0. 0.\n",
      " 0. 0. 0. 0. 0. 0. 0. 0. 0. 0. 0. 0. 0. 0. 0. 0. 0. 0. 0. 0. 0. 0. 0. 0.\n",
      " 0. 0. 0. 0. 0. 0. 0. 0. 0. 0. 0. 0. 0. 0. 0. 0. 0. 0. 0. 0. 0. 0. 0. 0.\n",
      " 0. 0. 0. 0. 0. 0. 0. 0. 0. 0. 0. 0. 0. 0. 0. 0. 0. 0. 0. 0. 0. 0. 0. 0.\n",
      " 0. 0. 0. 0. 0. 0. 0. 0. 0. 0. 0. 0. 0. 0. 0. 0. 0. 0. 0. 0. 0. 0. 0. 0.\n",
      " 0. 0. 0. 0. 0. 0. 0. 0. 0. 0. 0. 0. 0. 0. 0. 0. 0. 0. 0. 0. 0. 0. 0. 0.\n",
      " 0. 0. 0. 0. 0. 0. 0. 0. 0. 0. 0. 0. 0. 0. 0. 0. 0. 0. 0. 0. 0. 0. 0. 0.\n",
      " 0. 0. 0. 0. 0. 0. 0. 0. 0. 0. 0. 0. 0. 0. 0. 0. 0. 1. 0. 0. 0. 0. 0. 0.\n",
      " 0. 0. 0. 0. 0. 0. 0. 0. 0. 0. 0. 0. 0. 0. 0. 0. 0. 0. 0. 0. 0. 0. 0. 0.\n",
      " 0. 0. 0. 0. 0. 0. 0. 0. 0. 0. 0. 0. 0. 0. 0. 0. 0. 0. 0. 0. 0. 0. 0. 0.\n",
      " 0. 0. 0. 0. 0. 0. 0. 0. 0. 0. 0. 0. 0. 0. 0. 0. 0. 0. 0. 0. 0. 0. 0. 0.\n",
      " 0. 0. 0. 0. 0. 0. 0. 0. 0. 0. 0. 0. 0. 0. 0. 0. 0. 0. 0. 0. 0. 0. 0. 0.\n",
      " 0. 0. 0. 0. 0. 0. 0. 0. 0. 0. 0. 0. 0. 0. 0. 0. 0. 0. 0. 0. 0. 0. 0.]\n"
     ]
    }
   ],
   "source": [
    "encoded_example = encoder_multi_hot(example).numpy()\n",
    "print(example)\n",
    "print(encoded_example)"
   ]
  },
  {
   "attachments": {},
   "cell_type": "markdown",
   "metadata": {},
   "source": [
    "##### Representation 3: Frequency Count Vectorizer"
   ]
  },
  {
   "cell_type": "code",
   "execution_count": 223,
   "metadata": {},
   "outputs": [
    {
     "data": {
      "text/plain": [
       "array(['[UNK]', \"['f',\", \"'x',\", \"'^',\", \"['f']\", \"'{',\", \"'(',\", \"'1',\",\n",
       "       \"':',\", \"'2',\", \"'+',\", \"')',\", \"'\\\\\\\\to',\", \"'-',\", \"'0',\",\n",
       "       \"'}',\", \"'=',\", \"',',\", \"'}']\", \"'3',\", '1', \"['1',\", \"'n',\",\n",
       "       \"')']\", \"'1']\", \"'\\\\\\\\rightarrow',\", \"'4',\", \"'A',\", \"'a',\",\n",
       "       \"['2',\", \"'B']\", \"'b',\", \"'2']\", \"'5',\", '0', \"['g']\", \"'\\\\\\\\}']\",\n",
       "       \"'0']\", \"['g',\", \"'X',\", \"['\\\\\\\\{',\", \"'\\\\\\\\mathbb',\",\n",
       "       \"['\\\\\\\\frac',\", '2', \"'6',\", \"'7',\", \"'Y']\", \"'9',\", \"'/',\",\n",
       "       \"'y',\", \"['a',\", \"'\\\\\\\\frac',\", '3', \"'8',\", \"['(',\",\n",
       "       \"'\\\\\\\\colon',\", \"'\\\\\\\\times',\", \"'3']\", \"'\\\\\\\\mathbb{N}',\",\n",
       "       \"'\\\\\\\\mathbb{R}',\", \"'x']\", \"'\\\\\\\\mathbb{R}']\", \"['3',\", \"['n',\",\n",
       "       \"'c',\", \"'A']\", \"'n']\", \"'5']\", '5', \"'4']\", \"['h']\", \"['4',\",\n",
       "       \"['-',\", \"'k',\", \"'\\\\\\\\mathbb{N}']\", \"'B',\", \"['x',\", '4', \"['A',\",\n",
       "       \"['F']\", \"'t',\", \"'R']\", \"'m',\", \"'7']\", \"'6']\", \"['h',\", \"'p',\",\n",
       "       \"'b']\", \"'X']\", \"'R',\", \"['p',\", '9', \"'N']\", \"'N',\", \"'z',\",\n",
       "       \"'9']\", '6', \"['5',\", \"'e',\", \"'i',\", \"['9',\", \"['\\\\\\\\mathbb',\",\n",
       "       \"'\\\\\\\\cdot',\", \"['x']\", '7', '[]', \"'d',\", \"'8']\", \"'S',\", \"'[',\",\n",
       "       \"'c']\", \"'s',\", \"'\\\\\\\\cup',\", \"['6',\", '\\\\mathbb{N}', \"'\\\\\\\\{',\",\n",
       "       \"['A']\", \"'y']\", \"'\\\\\\\\circ',\", \"']']\", \"'\\\\\\\\cap',\", \"'C']\",\n",
       "       \"'f',\", \"'q',\", '8', \"'k']\", '\\\\sin', \"'g',\", \"['F',\", \"['m',\",\n",
       "       \"['7',\", \"'S']\", \"'!',\", \"'Y',\", \"'a']\", \"'C',\", \"['y']\", \"'i']\",\n",
       "       \"['8',\", \"['d',\", '\\\\varnothing', \"']',\", \"['S']\", \"['b',\",\n",
       "       \"['k',\", \"['\\\\\\\\dfrac',\", \"'r',\", '\\\\cos', \"['0',\",\n",
       "       \"'\\\\\\\\mathbb{Z}']\", \"['n']\", \"'f']\", \"'\\\\\\\\mathbb{Z}',\", \"['[',\",\n",
       "       \"'Z']\", \"['r',\", \"'\\\\\\\\dfrac',\", \"'h',\", \"'q']\", \"'*',\",\n",
       "       '\\\\mathbb{R}', \"'T']\", \"['i',\", \"['X']\", \"'p']\", \"'m']\", \"'Z',\",\n",
       "       \"['a']\", \"['p']\", \"['X',\", \"['S',\", \"['e',\", \"['R']\", \"'u',\",\n",
       "       \"['s',\", \"'g']\", \"'!']\", \"['G']\", \"['k']\", \"['T']\", '\\\\mathbb{Z}',\n",
       "       \"['s']\", \"'z']\", \"'d']\", \"'M',\", \"['y',\", \"'\\\\\\\\}',\", \"['P',\",\n",
       "       \"'Q']\", \"'E',\", \"['u']\", \"['B']\", \"'I',\", \"['d']\", \"'r']\", '\\\\tan',\n",
       "       \"['C',\", \"['c',\", \"['H']\", \"'t']\"], dtype='<U24')"
      ]
     },
     "execution_count": 223,
     "metadata": {},
     "output_type": "execute_result"
    }
   ],
   "source": [
    "encoder_count = create_encoder(\"count\", None)\n",
    "vocab = np.array(encoder_count.get_vocabulary())\n",
    "vocab[:200]"
   ]
  },
  {
   "cell_type": "code",
   "execution_count": 224,
   "metadata": {},
   "outputs": [
    {
     "name": "stdout",
     "output_type": "stream",
     "text": [
      "tf.Tensor(b\"['\\\\\\\\frac', '{', 'j', '(', 'j', '-', '1', ')', '}', '{', '2', '}', '+', '1']\", shape=(), dtype=string)\n",
      "[0. 0. 0. 0. 0. 2. 1. 1. 0. 1. 1. 1. 0. 1. 0. 2. 0. 0. 0. 0. 0. 0. 0. 0.\n",
      " 1. 0. 0. 0. 0. 0. 0. 0. 0. 0. 0. 0. 0. 0. 0. 0. 0. 0. 1. 0. 0. 0. 0. 0.\n",
      " 0. 0. 0. 0. 0. 0. 0. 0. 0. 0. 0. 0. 0. 0. 0. 0. 0. 0. 0. 0. 0. 0. 0. 0.\n",
      " 0. 0. 0. 0. 0. 0. 0. 0. 0. 0. 0. 0. 0. 0. 0. 0. 0. 0. 0. 0. 0. 0. 0. 0.\n",
      " 0. 0. 0. 0. 0. 0. 0. 0. 0. 0. 0. 0. 0. 0. 0. 0. 0. 0. 0. 0. 0. 0. 0. 0.\n",
      " 0. 0. 0. 0. 0. 0. 0. 0. 0. 0. 0. 0. 0. 0. 0. 0. 0. 0. 0. 0. 0. 0. 0. 0.\n",
      " 0. 0. 0. 0. 0. 0. 0. 0. 0. 0. 0. 0. 0. 0. 0. 0. 0. 0. 0. 0. 0. 0. 0. 0.\n",
      " 0. 0. 0. 0. 0. 0. 0. 0. 0. 0. 0. 0. 0. 0. 0. 0. 0. 0. 0. 0. 0. 0. 0. 0.\n",
      " 0. 0. 0. 0. 0. 0. 0. 0. 0. 0. 0. 0. 0. 0. 0. 0. 0. 0. 0. 0. 0. 0. 0. 0.\n",
      " 0. 0. 0. 0. 0. 0. 0. 0. 0. 0. 0. 0. 0. 0. 0. 0. 0. 2. 0. 0. 0. 0. 0. 0.\n",
      " 0. 0. 0. 0. 0. 0. 0. 0. 0. 0. 0. 0. 0. 0. 0. 0. 0. 0. 0. 0. 0. 0. 0. 0.\n",
      " 0. 0. 0. 0. 0. 0. 0. 0. 0. 0. 0. 0. 0. 0. 0. 0. 0. 0. 0. 0. 0. 0. 0. 0.\n",
      " 0. 0. 0. 0. 0. 0. 0. 0. 0. 0. 0. 0. 0. 0. 0. 0. 0. 0. 0. 0. 0. 0. 0. 0.\n",
      " 0. 0. 0. 0. 0. 0. 0. 0. 0. 0. 0. 0. 0. 0. 0. 0. 0. 0. 0. 0. 0. 0. 0. 0.\n",
      " 0. 0. 0. 0. 0. 0. 0. 0. 0. 0. 0. 0. 0. 0. 0. 0. 0. 0. 0. 0. 0. 0. 0.]\n"
     ]
    }
   ],
   "source": [
    "encoded_example = encoder_count(example).numpy()\n",
    "print(example)\n",
    "print(encoded_example)"
   ]
  },
  {
   "attachments": {},
   "cell_type": "markdown",
   "metadata": {},
   "source": [
    "##### Representation 4: Bigrams Frequency Count Vectorizer"
   ]
  },
  {
   "cell_type": "code",
   "execution_count": 225,
   "metadata": {},
   "outputs": [
    {
     "data": {
      "text/plain": [
       "array(['[UNK]', \"['f',\", \"'x',\", \"'^',\", \"['f']\", \"'{',\", \"'(',\", \"'1',\",\n",
       "       \"':',\", \"'2',\", \"'+',\", \"')',\", \"'\\\\\\\\to',\", \"['f', ':',\", \"'-',\",\n",
       "       \"'0',\", \"'}',\", \"'(', 'x',\", \"'=',\", \"')', '=',\", \"',',\",\n",
       "       \"['f', '(',\", \"'}']\", \"'3',\", '1', \"['1',\", \"'x', ')',\",\n",
       "       \"'}', '{',\", \"'n',\", \"')']\", \"'1']\", \"'\\\\\\\\rightarrow',\",\n",
       "       \"'^', '2',\", \"'4',\", \"'A',\", \"'a',\", \"['2',\", \"'B']\", \"'b',\",\n",
       "       \"'x', '^',\", \"'^', '{',\", \"'2']\", \"'5',\", '0', \"['g']\",\n",
       "       \"':', 'A',\", \"'\\\\\\\\}']\", \"'0']\", \"['g',\", \"'X',\", \"['\\\\\\\\{',\",\n",
       "       \"'\\\\\\\\mathbb',\", \"['\\\\\\\\frac', '{',\", \"['\\\\\\\\frac',\", '2',\n",
       "       \"'{', '1',\", \"'A', '\\\\\\\\to',\", \"':', 'X',\", \"'6',\", \"'7',\", \"'Y']\",\n",
       "       \"'9',\", \"'/',\", \"'2', '+',\", \"'-', '1',\", \"'y',\", \"'x', '+',\",\n",
       "       \"['a',\", \"'{', '2',\", \"'\\\\\\\\to', 'B']\", \"'^', '2']\",\n",
       "       \"'\\\\\\\\frac', '{',\", \"'\\\\\\\\frac',\", '3', \"'8',\", \"'1', '}',\",\n",
       "       \"'+', '1',\", \"'X', '\\\\\\\\to',\", \"['(',\", \"'\\\\\\\\colon',\",\n",
       "       \"'\\\\\\\\times',\", \"'0', '0',\", \"'{', 'x',\", \"',', '1',\", \"'(', 'n',\",\n",
       "       \"'3']\", \"'=', 'x',\", \"'+', '1']\", \"'\\\\\\\\mathbb{N}',\",\n",
       "       \"'\\\\\\\\mathbb{R}',\", \"['g', ':',\", \"'x']\", \"'\\\\\\\\mathbb{R}']\",\n",
       "       \"'\\\\\\\\to', 'Y']\", \"['3',\", \"'x', '-',\", \"['n',\", \"'c',\", \"'A']\",\n",
       "       \"['1', '0',\", \"'0', ',',\", \"'n']\", \"'n', '+',\",\n",
       "       \"['f', '\\\\\\\\colon',\", \"'x', ')']\", \"'5']\", \"':', '\\\\\\\\mathbb{R}',\",\n",
       "       \"':', '\\\\\\\\mathbb{N}',\", '5', \"'4']\", \"'1', ')',\", \"['h']\",\n",
       "       \"['4',\", \"['-',\", \"'A', '\\\\\\\\rightarrow',\", \"'k',\",\n",
       "       \"'\\\\\\\\mathbb{N}']\", \"'B',\", \"['2', '^',\", \"'1', '0',\", \"'1', ',',\",\n",
       "       \"['x',\", \"'-', '1']\", '4', \"['A',\", \"['F']\", \"'=', '\\\\\\\\frac',\",\n",
       "       \"':', '\\\\\\\\mathbb',\", \"'\\\\\\\\to', '\\\\\\\\mathbb{R}']\", \"'t',\",\n",
       "       \"'2', '-',\", \"'R']\", \"'m',\", \"')', '^',\",\n",
       "       \"'\\\\\\\\to', '\\\\\\\\mathbb',\", \"'\\\\\\\\mathbb{N}', '\\\\\\\\to',\", \"'7']\",\n",
       "       \"'6']\", \"['h',\", \"'2', '}']\", \"'\\\\\\\\rightarrow', 'B']\",\n",
       "       \"'{', 'n',\", \"'p',\", \"'^', '3',\", \"'b']\", \"'+', '2',\",\n",
       "       \"['g', '(',\", \"'X', '\\\\\\\\rightarrow',\", \"'2', '}',\", \"'X']\",\n",
       "       \"'R',\", \"'1', '}']\", \"'n', ')']\", \"'+', 'b',\", \"['p',\",\n",
       "       \"'\\\\\\\\to', 'A']\", \"'\\\\\\\\mathbb{R}', '\\\\\\\\to',\", '9', \"'1', ')']\",\n",
       "       \"'a', ',',\", \"'0', '0']\", \"['1', '0']\", \"'N']\", \"'2', '^',\",\n",
       "       \"'N',\", \"'}', '+',\", \"'-', '2',\", \"'z',\", \"'9']\", '6', \"'-', 'x',\",\n",
       "       \"',', 'b',\", \"',', '2',\", \"'{', 'a',\", \"'n', '-',\", \"'2', 'x',\",\n",
       "       \"['5',\", \"'{', '3',\", \"'e',\", \"['\\\\\\\\{', '1',\", \"'i',\", \"['9',\",\n",
       "       \"'\\\\\\\\mathbb', 'R']\", \"['\\\\\\\\mathbb',\", \"'\\\\\\\\cdot',\",\n",
       "       \"'\\\\\\\\rightarrow', 'Y']\", \"['x']\", \"'\\\\\\\\to', '\\\\\\\\mathbb{N}']\",\n",
       "       '7', '[]', \"'d',\", \"'8']\", \"'\\\\\\\\mathbb', 'N',\", \"'S',\",\n",
       "       \"'^', 'n',\", \"'\\\\\\\\mathbb', 'R',\", \"'[',\", \"')', '(',\",\n",
       "       \"'}', '-',\", \"'c']\"], dtype='<U41')"
      ]
     },
     "execution_count": 225,
     "metadata": {},
     "output_type": "execute_result"
    }
   ],
   "source": [
    "encoder_bigrams = create_encoder(\"count\", (2))\n",
    "vocab = np.array(encoder_bigrams.get_vocabulary())\n",
    "vocab[:200]"
   ]
  },
  {
   "cell_type": "code",
   "execution_count": 226,
   "metadata": {},
   "outputs": [
    {
     "name": "stdout",
     "output_type": "stream",
     "text": [
      "tf.Tensor(b\"['\\\\\\\\frac', '{', 'j', '(', 'j', '-', '1', ')', '}', '{', '2', '}', '+', '1']\", shape=(), dtype=string)\n",
      "[4. 0. 0. 0. 0. 2. 1. 1. 0. 1. 1. 1. 0. 0. 1. 0. 2. 0. 0. 0. 0. 0. 0. 0.\n",
      " 0. 0. 0. 1. 0. 0. 1. 0. 0. 0. 0. 0. 0. 0. 0. 0. 0. 0. 0. 0. 0. 0. 0. 0.\n",
      " 0. 0. 0. 0. 1. 1. 0. 0. 0. 0. 0. 0. 0. 0. 0. 0. 1. 0. 0. 0. 1. 0. 0. 0.\n",
      " 0. 0. 0. 0. 0. 0. 0. 0. 0. 0. 0. 0. 0. 0. 0. 1. 0. 0. 0. 0. 0. 0. 0. 0.\n",
      " 0. 0. 0. 0. 0. 0. 0. 0. 0. 0. 0. 0. 0. 0. 1. 0. 0. 0. 0. 0. 0. 0. 0. 0.\n",
      " 0. 0. 0. 0. 0. 0. 0. 0. 0. 0. 0. 0. 0. 0. 0. 0. 0. 0. 0. 0. 0. 0. 0. 0.\n",
      " 0. 0. 0. 0. 1. 0. 0. 0. 0. 0. 0. 0. 0. 0. 0. 0. 0. 0. 0. 0. 0. 1. 0. 0.\n",
      " 0. 0. 0. 0. 0. 0. 0. 0. 0. 0. 0. 0. 0. 0. 0. 0. 0. 0. 0. 0. 0. 0. 0. 0.\n",
      " 0. 0. 0. 0. 0. 0. 0. 0. 0. 0. 0. 0. 0. 0. 0. 0. 0. 0. 0. 0. 0. 0. 0. 0.\n",
      " 0. 0. 0. 0. 0. 0. 0. 0. 0. 0. 0. 0. 0. 0. 0. 0. 0. 0. 0. 0. 0. 0. 0. 0.\n",
      " 0. 0. 0. 0. 0. 0. 0. 0. 0. 0. 0. 0. 0. 0. 0. 0. 0. 0. 0. 0. 0. 0. 0. 0.\n",
      " 0. 0. 0. 0. 0. 0. 0. 0. 0. 0. 0. 0. 0. 0. 0. 0. 0. 0. 0. 0. 0. 0. 1. 0.\n",
      " 0. 0. 0. 0. 0. 0. 0. 0. 0. 0. 0. 0. 0. 0. 0. 0. 0. 0. 0. 0. 0. 0. 0. 0.\n",
      " 0. 0. 0. 0. 0. 0. 0. 0. 0. 0. 0. 0. 0. 0. 0. 0. 0. 0. 0. 0. 0. 0. 0. 0.\n",
      " 0. 0. 0. 0. 0. 0. 0. 0. 0. 0. 0. 0. 0. 0. 0. 0. 0. 0. 0. 0. 0. 0. 0. 0.\n",
      " 0. 0. 0. 0. 0. 0. 0. 0. 0. 0. 0. 0. 0. 0. 0. 0. 0. 0. 0. 0. 0. 0. 0. 0.\n",
      " 0. 0. 0. 0. 0. 0. 0. 0. 0. 0. 0. 0. 0. 0. 0. 0. 0. 0. 0. 0. 0. 0. 0. 0.\n",
      " 0. 0. 0. 0. 0. 0. 0. 0. 0. 0. 0. 0. 0. 0. 0. 0. 0. 0. 0. 0. 0. 0. 0. 0.\n",
      " 0. 0. 0. 0. 0. 0. 0. 0. 0. 0. 0. 0. 0. 0. 0. 0. 0. 0. 0. 0. 0. 0. 0. 0.\n",
      " 0. 0. 0. 0. 0. 0. 0. 0. 0. 0. 0. 0. 0. 0. 0. 0. 0. 0. 0. 0. 0. 0. 0. 0.\n",
      " 0. 0. 0. 0. 0. 0. 0. 0. 0. 0. 0. 0. 0. 0. 0. 0. 0. 0. 0. 0. 0. 0. 0. 0.\n",
      " 0. 0. 0. 0. 0. 0. 0. 0. 0. 0. 0. 0. 0. 0. 0. 0. 0. 0. 0. 0. 0. 0. 0. 0.\n",
      " 0. 0. 0. 0. 0. 0. 0. 0. 0. 0. 0. 0. 0. 0. 0. 0. 0. 0. 0. 0. 0. 0. 0. 0.\n",
      " 0. 0. 0. 0. 0. 0. 0. 0. 0. 0. 0. 0. 0. 0. 0. 0. 0. 0. 0. 0. 0. 0. 0. 0.\n",
      " 0. 0. 0. 0. 0. 0. 0. 0. 0. 0. 0. 0. 0. 0. 0. 0. 0. 0. 0. 0. 0. 0. 0. 0.\n",
      " 0. 0. 0. 0. 0. 0. 0. 0. 0. 0. 0. 0. 0. 0. 0. 0. 0. 0. 0. 0. 0. 0. 0. 0.\n",
      " 0. 0. 0. 0. 0. 0. 0. 0. 0. 0. 0. 0. 0. 0. 0. 0. 0. 0. 0. 0. 0. 0. 0. 0.\n",
      " 0. 0. 0. 0. 0. 0. 0. 0. 0. 0. 0. 0. 0. 0. 0. 0. 0. 0. 0. 0. 0. 0. 0. 0.\n",
      " 0. 0. 0. 0. 0. 0. 0. 0. 0. 0. 0. 0. 0. 0. 0. 0. 0. 0. 0. 0. 0. 0. 0. 0.\n",
      " 0. 0. 0. 0. 0. 0. 0. 0. 0. 0. 0. 0. 0. 0. 0. 0. 0. 0. 0. 0. 0. 0. 0. 0.\n",
      " 0. 0. 0. 0. 0. 0. 0. 0. 0. 0. 0. 0. 0. 0. 0. 0. 0. 0. 0. 0. 0. 0. 0. 0.\n",
      " 0. 0. 0. 0. 0. 0. 0. 0. 0. 0. 0. 0. 0. 0. 0. 0. 0. 0. 0. 0. 0. 0. 0. 0.\n",
      " 0. 0. 0. 0. 0. 0. 0. 0. 0. 0. 0. 0. 0. 0. 0. 0. 0. 0. 0. 0. 0. 0. 0. 0.\n",
      " 0. 0. 0. 0. 0. 0. 0. 0. 0. 0. 0. 0. 0. 0. 0. 0. 0. 0. 0. 0. 0. 0. 0. 0.\n",
      " 0. 0. 0. 0. 0. 0. 0. 0. 0. 0. 0. 0. 0. 0. 0. 0. 0. 0. 0. 0. 0. 0. 0. 0.\n",
      " 0. 0. 0. 0. 0. 0. 0. 0. 0. 0. 0. 0. 0. 0. 0. 0. 0. 0. 0. 0. 0. 0. 0. 0.\n",
      " 0. 0. 0. 0. 0. 0. 2. 0. 0. 0. 0. 0. 0. 0. 0. 0. 0. 0. 0. 0. 0. 0. 0. 0.\n",
      " 0. 0. 0. 0. 0. 0. 0. 0. 0. 0. 0. 0. 0. 0. 0. 0. 0. 0. 0. 0. 0. 0. 0. 0.\n",
      " 0. 0. 0. 0. 0. 0. 0. 0. 0. 0. 0. 0. 0. 0. 0. 0. 0. 0. 0. 0. 0. 0. 0. 0.\n",
      " 0. 0. 0. 0. 0. 0. 0. 0. 0. 0. 0. 0. 0. 0. 0. 0. 0. 0. 0. 0. 0. 0. 0. 0.\n",
      " 0. 0. 0. 0. 0. 0. 0. 0. 0. 0. 0. 0. 0. 0. 0. 0. 0. 0. 0. 0. 0. 0. 0. 0.\n",
      " 0. 0. 0. 0. 0. 0. 0. 0. 0. 0. 0. 0. 0. 0. 0. 0.]\n"
     ]
    }
   ],
   "source": [
    "encoded_example = encoder_bigrams(example).numpy()\n",
    "print(example)\n",
    "print(encoded_example)"
   ]
  },
  {
   "attachments": {},
   "cell_type": "markdown",
   "metadata": {},
   "source": [
    "##### Representation 5: Tf-Idf Vectorizer"
   ]
  },
  {
   "cell_type": "code",
   "execution_count": 227,
   "metadata": {},
   "outputs": [
    {
     "data": {
      "text/plain": [
       "array(['[UNK]', \"['f',\", \"'x',\", \"'^',\", \"['f']\", \"'{',\", \"'(',\", \"'1',\",\n",
       "       \"':',\", \"'2',\", \"'+',\", \"')',\", \"'\\\\\\\\to',\", \"'-',\", \"'0',\",\n",
       "       \"'}',\", \"'=',\", \"',',\", \"'}']\", \"'3',\", '1', \"['1',\", \"'n',\",\n",
       "       \"')']\", \"'1']\", \"'\\\\\\\\rightarrow',\", \"'4',\", \"'A',\", \"'a',\",\n",
       "       \"['2',\", \"'B']\", \"'b',\", \"'2']\", \"'5',\", '0', \"['g']\", \"'\\\\\\\\}']\",\n",
       "       \"'0']\", \"['g',\", \"'X',\", \"['\\\\\\\\{',\", \"'\\\\\\\\mathbb',\",\n",
       "       \"['\\\\\\\\frac',\", '2', \"'6',\", \"'7',\", \"'Y']\", \"'9',\", \"'/',\",\n",
       "       \"'y',\", \"['a',\", \"'\\\\\\\\frac',\", '3', \"'8',\", \"['(',\",\n",
       "       \"'\\\\\\\\colon',\", \"'\\\\\\\\times',\", \"'3']\", \"'\\\\\\\\mathbb{N}',\",\n",
       "       \"'\\\\\\\\mathbb{R}',\", \"'x']\", \"'\\\\\\\\mathbb{R}']\", \"['3',\", \"['n',\",\n",
       "       \"'c',\", \"'A']\", \"'n']\", \"'5']\", '5', \"'4']\", \"['h']\", \"['4',\",\n",
       "       \"['-',\", \"'k',\", \"'\\\\\\\\mathbb{N}']\", \"'B',\", \"['x',\", '4', \"['A',\",\n",
       "       \"['F']\", \"'t',\", \"'R']\", \"'m',\", \"'7']\", \"'6']\", \"['h',\", \"'p',\",\n",
       "       \"'b']\", \"'X']\", \"'R',\", \"['p',\", '9', \"'N']\", \"'N',\", \"'z',\",\n",
       "       \"'9']\", '6', \"['5',\", \"'e',\", \"'i',\", \"['9',\", \"['\\\\\\\\mathbb',\",\n",
       "       \"'\\\\\\\\cdot',\", \"['x']\", '7', '[]', \"'d',\", \"'8']\", \"'S',\", \"'[',\",\n",
       "       \"'c']\", \"'s',\", \"'\\\\\\\\cup',\", \"['6',\", '\\\\mathbb{N}', \"'\\\\\\\\{',\",\n",
       "       \"['A']\", \"'y']\", \"'\\\\\\\\circ',\", \"']']\", \"'\\\\\\\\cap',\", \"'C']\",\n",
       "       \"'f',\", \"'q',\", '8', \"'k']\", '\\\\sin', \"'g',\", \"['F',\", \"['m',\",\n",
       "       \"['7',\", \"'S']\", \"'!',\", \"'Y',\", \"'a']\", \"'C',\", \"['y']\", \"'i']\",\n",
       "       \"['8',\", \"['d',\", '\\\\varnothing', \"']',\", \"['S']\", \"['b',\",\n",
       "       \"['k',\", \"['\\\\\\\\dfrac',\", \"'r',\", '\\\\cos', \"['0',\",\n",
       "       \"'\\\\\\\\mathbb{Z}']\", \"['n']\", \"'f']\", \"'\\\\\\\\mathbb{Z}',\", \"['[',\",\n",
       "       \"'Z']\", \"['r',\", \"'\\\\\\\\dfrac',\", \"'h',\", \"'q']\", \"'*',\",\n",
       "       '\\\\mathbb{R}', \"'T']\", \"['i',\", \"['X']\", \"'p']\", \"'m']\", \"'Z',\",\n",
       "       \"['a']\", \"['p']\", \"['X',\", \"['S',\", \"['e',\", \"['R']\", \"'u',\",\n",
       "       \"['s',\", \"'g']\", \"'!']\", \"['G']\", \"['k']\", \"['T']\", '\\\\mathbb{Z}',\n",
       "       \"['s']\", \"'z']\", \"'d']\", \"'M',\", \"['y',\", \"'\\\\\\\\}',\", \"['P',\",\n",
       "       \"'Q']\", \"'E',\", \"['u']\", \"['B']\", \"'I',\", \"['d']\", \"'r']\", '\\\\tan',\n",
       "       \"['C',\", \"['c',\", \"['H']\", \"'t']\"], dtype='<U24')"
      ]
     },
     "execution_count": 227,
     "metadata": {},
     "output_type": "execute_result"
    }
   ],
   "source": [
    "encoder_tf_idf = create_encoder(\"tf_idf\", None)\n",
    "vocab = np.array(encoder_tf_idf.get_vocabulary())\n",
    "vocab[:200]"
   ]
  },
  {
   "cell_type": "code",
   "execution_count": 228,
   "metadata": {},
   "outputs": [
    {
     "name": "stdout",
     "output_type": "stream",
     "text": [
      "tf.Tensor(b\"['\\\\\\\\frac', '{', 'j', '(', 'j', '-', '1', ')', '}', '{', '2', '}', '+', '1']\", shape=(), dtype=string)\n",
      "[ 0.         0.         0.         0.         0.         5.512187\n",
      "  2.3759446  2.5485842  0.         2.5839868  2.6291504  2.6068108\n",
      "  0.         2.8355234  0.         5.9615707  0.         0.\n",
      "  0.         0.         0.         0.         0.         0.\n",
      "  3.18321    0.         0.         0.         0.         0.\n",
      "  0.         0.         0.         0.         0.         0.\n",
      "  0.         0.         0.         0.         0.         0.\n",
      "  3.7476091  0.         0.         0.         0.         0.\n",
      "  0.         0.         0.         0.         0.         0.\n",
      "  0.         0.         0.         0.         0.         0.\n",
      "  0.         0.         0.         0.         0.         0.\n",
      "  0.         0.         0.         0.         0.         0.\n",
      "  0.         0.         0.         0.         0.         0.\n",
      "  0.         0.         0.         0.         0.         0.\n",
      "  0.         0.         0.         0.         0.         0.\n",
      "  0.         0.         0.         0.         0.         0.\n",
      "  0.         0.         0.         0.         0.         0.\n",
      "  0.         0.         0.         0.         0.         0.\n",
      "  0.         0.         0.         0.         0.         0.\n",
      "  0.         0.         0.         0.         0.         0.\n",
      "  0.         0.         0.         0.         0.         0.\n",
      "  0.         0.         0.         0.         0.         0.\n",
      "  0.         0.         0.         0.         0.         0.\n",
      "  0.         0.         0.         0.         0.         0.\n",
      "  0.         0.         0.         0.         0.         0.\n",
      "  0.         0.         0.         0.         0.         0.\n",
      "  0.         0.         0.         0.         0.         0.\n",
      "  0.         0.         0.         0.         0.         0.\n",
      "  0.         0.         0.         0.         0.         0.\n",
      "  0.         0.         0.         0.         0.         0.\n",
      "  0.         0.         0.         0.         0.         0.\n",
      "  0.         0.         0.         0.         0.         0.\n",
      "  0.         0.         0.         0.         0.         0.\n",
      "  0.         0.         0.         0.         0.         0.\n",
      "  0.         0.         0.         0.         0.         0.\n",
      "  0.         0.         0.         0.         0.         0.\n",
      "  0.         0.         0.         0.         0.         0.\n",
      "  0.         0.         0.         0.         0.         0.\n",
      "  0.         0.         0.         0.         0.        14.419143\n",
      "  0.         0.         0.         0.         0.         0.\n",
      "  0.         0.         0.         0.         0.         0.\n",
      "  0.         0.         0.         0.         0.         0.\n",
      "  0.         0.         0.         0.         0.         0.\n",
      "  0.         0.         0.         0.         0.         0.\n",
      "  0.         0.         0.         0.         0.         0.\n",
      "  0.         0.         0.         0.         0.         0.\n",
      "  0.         0.         0.         0.         0.         0.\n",
      "  0.         0.         0.         0.         0.         0.\n",
      "  0.         0.         0.         0.         0.         0.\n",
      "  0.         0.         0.         0.         0.         0.\n",
      "  0.         0.         0.         0.         0.         0.\n",
      "  0.         0.         0.         0.         0.         0.\n",
      "  0.         0.         0.         0.         0.         0.\n",
      "  0.         0.         0.         0.         0.         0.\n",
      "  0.         0.         0.         0.         0.         0.\n",
      "  0.         0.         0.         0.         0.         0.\n",
      "  0.         0.         0.         0.         0.         0.\n",
      "  0.         0.         0.         0.         0.         0.\n",
      "  0.         0.         0.         0.         0.         0.\n",
      "  0.         0.         0.         0.         0.       ]\n"
     ]
    }
   ],
   "source": [
    "encoded_example = encoder_tf_idf(example).numpy()\n",
    "print(example)\n",
    "print(encoded_example)"
   ]
  },
  {
   "attachments": {},
   "cell_type": "markdown",
   "metadata": {},
   "source": [
    "##### Model (Bidirectional LSTM with one layer)"
   ]
  },
  {
   "attachments": {},
   "cell_type": "markdown",
   "metadata": {},
   "source": [
    " **Define and compile model**"
   ]
  },
  {
   "cell_type": "code",
   "execution_count": 321,
   "metadata": {},
   "outputs": [],
   "source": [
    "def create_model(vec_encoder):\n",
    "    model = tf.keras.Sequential([\n",
    "        vec_encoder,\n",
    "        tf.keras.layers.Embedding(\n",
    "            input_dim=len(vec_encoder.get_vocabulary()),\n",
    "            output_dim=64,\n",
    "            # user masking to handle the variable sequence lengths\n",
    "            mask_zero=True),\n",
    "        tf.keras.layers.Bidirectional(tf.keras.layers.LSTM(64)),\n",
    "        tf.keras.layers.Dense(64, activation=\"relu\"),\n",
    "        tf.keras.layers.Dense(40)\n",
    "    ])\n",
    "    return model"
   ]
  },
  {
   "attachments": {},
   "cell_type": "markdown",
   "metadata": {},
   "source": [
    " **Train the model**"
   ]
  },
  {
   "attachments": {},
   "cell_type": "markdown",
   "metadata": {},
   "source": [
    "##### Experiment 1: Use integer indices for encoding tokens"
   ]
  },
  {
   "cell_type": "code",
   "execution_count": 230,
   "metadata": {},
   "outputs": [],
   "source": [
    "### TENSORBOARD USAGE\n",
    "#log_dir = \"4_nlp_rnns/logs/fit/\" + datetime.datetime.now().strftime(\"%Y%m%d-%H%M%S\")\n",
    "#tensorboard_callback = tf.keras.callbacks.TensorBoard(log_dir=log_dir)"
   ]
  },
  {
   "cell_type": "code",
   "execution_count": 322,
   "metadata": {},
   "outputs": [
    {
     "name": "stdout",
     "output_type": "stream",
     "text": [
      "1/1 [==============================] - 2s 2s/step\n",
      "[ 1.6582372e-03  6.2778126e-04 -2.7862552e-03 -5.8722273e-03\n",
      "  1.2377028e-02 -2.1434089e-03  1.2793786e-02  4.3071364e-03\n",
      "  2.2178516e-03  1.3701826e-02  3.9551067e-03 -1.8063015e-03\n",
      " -5.2499082e-03 -3.4854887e-03  8.1927581e-03  1.3902756e-02\n",
      "  7.0966617e-03 -2.0434964e-03 -7.1388241e-03 -3.4556554e-03\n",
      " -5.3802761e-03 -5.2787655e-06 -1.2853208e-02 -2.4950656e-03\n",
      "  4.1533648e-03 -2.0475134e-03  1.4426299e-02 -1.8913840e-03\n",
      "  5.7074390e-03 -7.2349492e-04  3.6168073e-03 -4.6964288e-03\n",
      " -7.8344960e-03 -3.5198703e-03 -1.3287126e-03  2.2764369e-03\n",
      "  1.9176981e-03  3.4419880e-03 -3.7052738e-03 -2.9125421e-03]\n"
     ]
    }
   ],
   "source": [
    "model = create_model(encoder_int)\n",
    "# predict on a sample formula using untrained model\n",
    "sample_text = (\"g ( x ) = x ^ 3\")\n",
    "predictions = model.predict(np.array([sample_text]))\n",
    "print(predictions[0])"
   ]
  },
  {
   "cell_type": "code",
   "execution_count": 323,
   "metadata": {},
   "outputs": [],
   "source": [
    "model.compile(loss=tf.keras.losses.BinaryCrossentropy(from_logits=True),\n",
    "              optimizer=tf.keras.optimizers.Adam(1e-3),\n",
    "              metrics=[\"accuracy\"])"
   ]
  },
  {
   "cell_type": "code",
   "execution_count": 324,
   "metadata": {},
   "outputs": [
    {
     "name": "stdout",
     "output_type": "stream",
     "text": [
      "Epoch 1/15\n",
      "337/338 [============================>.] - ETA: 0s - loss: 0.2520 - accuracy: 0.4173"
     ]
    },
    {
     "name": "stderr",
     "output_type": "stream",
     "text": [
      "WARNING:absl:Found untraced functions such as lstm_cell_28_layer_call_fn, lstm_cell_28_layer_call_and_return_conditional_losses, lstm_cell_29_layer_call_fn, lstm_cell_29_layer_call_and_return_conditional_losses while saving (showing 4 of 4). These functions will not be directly callable after loading.\n"
     ]
    },
    {
     "name": "stdout",
     "output_type": "stream",
     "text": [
      "INFO:tensorflow:Assets written to: c:\\Users\\prdie\\OneDrive\\Sources\\sem_math_repo\\classification\\wandb\\run-20230109_132746-1ojy3kxw\\files\\model-best\\assets\n"
     ]
    },
    {
     "name": "stderr",
     "output_type": "stream",
     "text": [
      "INFO:tensorflow:Assets written to: c:\\Users\\prdie\\OneDrive\\Sources\\sem_math_repo\\classification\\wandb\\run-20230109_132746-1ojy3kxw\\files\\model-best\\assets\n"
     ]
    },
    {
     "name": "stdout",
     "output_type": "stream",
     "text": [
      "338/338 [==============================] - 49s 123ms/step - loss: 0.2518 - accuracy: 0.4176 - val_loss: 0.1478 - val_accuracy: 0.6172\n",
      "Epoch 2/15\n",
      "338/338 [==============================] - ETA: 0s - loss: 0.1394 - accuracy: 0.5816"
     ]
    },
    {
     "name": "stderr",
     "output_type": "stream",
     "text": [
      "WARNING:absl:Found untraced functions such as lstm_cell_28_layer_call_fn, lstm_cell_28_layer_call_and_return_conditional_losses, lstm_cell_29_layer_call_fn, lstm_cell_29_layer_call_and_return_conditional_losses while saving (showing 4 of 4). These functions will not be directly callable after loading.\n"
     ]
    },
    {
     "name": "stdout",
     "output_type": "stream",
     "text": [
      "INFO:tensorflow:Assets written to: c:\\Users\\prdie\\OneDrive\\Sources\\sem_math_repo\\classification\\wandb\\run-20230109_132746-1ojy3kxw\\files\\model-best\\assets\n"
     ]
    },
    {
     "name": "stderr",
     "output_type": "stream",
     "text": [
      "INFO:tensorflow:Assets written to: c:\\Users\\prdie\\OneDrive\\Sources\\sem_math_repo\\classification\\wandb\\run-20230109_132746-1ojy3kxw\\files\\model-best\\assets\n"
     ]
    },
    {
     "name": "stdout",
     "output_type": "stream",
     "text": [
      "338/338 [==============================] - 43s 127ms/step - loss: 0.1394 - accuracy: 0.5816 - val_loss: 0.1222 - val_accuracy: 0.8057\n",
      "Epoch 3/15\n",
      "338/338 [==============================] - 14s 41ms/step - loss: 0.1292 - accuracy: 0.6098 - val_loss: 0.1248 - val_accuracy: 0.7896\n",
      "Epoch 4/15\n",
      "337/338 [============================>.] - ETA: 0s - loss: 0.1268 - accuracy: 0.6219"
     ]
    },
    {
     "name": "stderr",
     "output_type": "stream",
     "text": [
      "WARNING:absl:Found untraced functions such as lstm_cell_28_layer_call_fn, lstm_cell_28_layer_call_and_return_conditional_losses, lstm_cell_29_layer_call_fn, lstm_cell_29_layer_call_and_return_conditional_losses while saving (showing 4 of 4). These functions will not be directly callable after loading.\n"
     ]
    },
    {
     "name": "stdout",
     "output_type": "stream",
     "text": [
      "INFO:tensorflow:Assets written to: c:\\Users\\prdie\\OneDrive\\Sources\\sem_math_repo\\classification\\wandb\\run-20230109_132746-1ojy3kxw\\files\\model-best\\assets\n"
     ]
    },
    {
     "name": "stderr",
     "output_type": "stream",
     "text": [
      "INFO:tensorflow:Assets written to: c:\\Users\\prdie\\OneDrive\\Sources\\sem_math_repo\\classification\\wandb\\run-20230109_132746-1ojy3kxw\\files\\model-best\\assets\n"
     ]
    },
    {
     "name": "stdout",
     "output_type": "stream",
     "text": [
      "338/338 [==============================] - 45s 133ms/step - loss: 0.1268 - accuracy: 0.6216 - val_loss: 0.1208 - val_accuracy: 0.7969\n",
      "Epoch 5/15\n",
      "338/338 [==============================] - ETA: 0s - loss: 0.1257 - accuracy: 0.6290"
     ]
    },
    {
     "name": "stderr",
     "output_type": "stream",
     "text": [
      "WARNING:absl:Found untraced functions such as lstm_cell_28_layer_call_fn, lstm_cell_28_layer_call_and_return_conditional_losses, lstm_cell_29_layer_call_fn, lstm_cell_29_layer_call_and_return_conditional_losses while saving (showing 4 of 4). These functions will not be directly callable after loading.\n"
     ]
    },
    {
     "name": "stdout",
     "output_type": "stream",
     "text": [
      "INFO:tensorflow:Assets written to: c:\\Users\\prdie\\OneDrive\\Sources\\sem_math_repo\\classification\\wandb\\run-20230109_132746-1ojy3kxw\\files\\model-best\\assets\n"
     ]
    },
    {
     "name": "stderr",
     "output_type": "stream",
     "text": [
      "INFO:tensorflow:Assets written to: c:\\Users\\prdie\\OneDrive\\Sources\\sem_math_repo\\classification\\wandb\\run-20230109_132746-1ojy3kxw\\files\\model-best\\assets\n"
     ]
    },
    {
     "name": "stdout",
     "output_type": "stream",
     "text": [
      "338/338 [==============================] - 44s 130ms/step - loss: 0.1257 - accuracy: 0.6290 - val_loss: 0.1183 - val_accuracy: 0.8083\n",
      "Epoch 6/15\n",
      "338/338 [==============================] - 13s 39ms/step - loss: 0.1250 - accuracy: 0.6320 - val_loss: 0.1219 - val_accuracy: 0.7979\n",
      "Epoch 7/15\n",
      "338/338 [==============================] - 14s 40ms/step - loss: 0.1248 - accuracy: 0.6317 - val_loss: 0.1212 - val_accuracy: 0.7974\n",
      "Epoch 8/15\n",
      "338/338 [==============================] - 13s 39ms/step - loss: 0.1240 - accuracy: 0.6366 - val_loss: 0.1241 - val_accuracy: 0.7906\n",
      "Epoch 9/15\n",
      "338/338 [==============================] - 13s 40ms/step - loss: 0.1239 - accuracy: 0.6372 - val_loss: 0.1186 - val_accuracy: 0.8000\n",
      "Epoch 10/15\n",
      "338/338 [==============================] - 13s 40ms/step - loss: 0.1232 - accuracy: 0.6374 - val_loss: 0.1216 - val_accuracy: 0.7901\n",
      "Epoch 11/15\n",
      "337/338 [============================>.] - ETA: 0s - loss: 0.1230 - accuracy: 0.6385"
     ]
    },
    {
     "name": "stderr",
     "output_type": "stream",
     "text": [
      "WARNING:absl:Found untraced functions such as lstm_cell_28_layer_call_fn, lstm_cell_28_layer_call_and_return_conditional_losses, lstm_cell_29_layer_call_fn, lstm_cell_29_layer_call_and_return_conditional_losses while saving (showing 4 of 4). These functions will not be directly callable after loading.\n"
     ]
    },
    {
     "name": "stdout",
     "output_type": "stream",
     "text": [
      "INFO:tensorflow:Assets written to: c:\\Users\\prdie\\OneDrive\\Sources\\sem_math_repo\\classification\\wandb\\run-20230109_132746-1ojy3kxw\\files\\model-best\\assets\n"
     ]
    },
    {
     "name": "stderr",
     "output_type": "stream",
     "text": [
      "INFO:tensorflow:Assets written to: c:\\Users\\prdie\\OneDrive\\Sources\\sem_math_repo\\classification\\wandb\\run-20230109_132746-1ojy3kxw\\files\\model-best\\assets\n"
     ]
    },
    {
     "name": "stdout",
     "output_type": "stream",
     "text": [
      "338/338 [==============================] - 40s 119ms/step - loss: 0.1230 - accuracy: 0.6382 - val_loss: 0.1178 - val_accuracy: 0.8083\n",
      "Epoch 12/15\n",
      "338/338 [==============================] - 13s 39ms/step - loss: 0.1226 - accuracy: 0.6381 - val_loss: 0.1209 - val_accuracy: 0.7953\n",
      "Epoch 13/15\n",
      "338/338 [==============================] - 13s 39ms/step - loss: 0.1223 - accuracy: 0.6395 - val_loss: 0.1186 - val_accuracy: 0.8094\n",
      "Epoch 14/15\n",
      "338/338 [==============================] - 13s 40ms/step - loss: 0.1219 - accuracy: 0.6400 - val_loss: 0.1216 - val_accuracy: 0.8036\n",
      "Epoch 15/15\n",
      "338/338 [==============================] - 13s 39ms/step - loss: 0.1216 - accuracy: 0.6382 - val_loss: 0.1195 - val_accuracy: 0.8010\n"
     ]
    }
   ],
   "source": [
    "configs_dict = {\n",
    "    \"learning_rate\": 1e-3,\n",
    "    \"optimizer\": \"adam\",\n",
    "    \"epochs\": 15,\n",
    "    \"batch_size\": 64,\n",
    "    \"vectorizer\": \"int\",\n",
    "    \"sample_id\": \"2\",\n",
    "    \"num_labels\": \"40\"\n",
    "}\n",
    "\n",
    "run = wandb.init(project=\"multi_label_everything_v1\", reinit=True, config=configs_dict)\n",
    "\n",
    "history = model.fit(train_dataset, epochs=15,\n",
    "                    validation_data=test_dataset,\n",
    "                    validation_steps=30,callbacks= [WandbCallback()])#[tensorboard_callback])\n",
    "run.finish()"
   ]
  },
  {
   "cell_type": "code",
   "execution_count": 325,
   "metadata": {},
   "outputs": [
    {
     "name": "stdout",
     "output_type": "stream",
     "text": [
      "47/47 [==============================] - 0s 6ms/step - loss: 0.1202 - accuracy: 0.8060\n",
      "Test Loss: 0.12019454687833786\n",
      "Test Accuracy: 0.8059999942779541\n"
     ]
    }
   ],
   "source": [
    "test_loss, test_acc = model.evaluate(test_dataset)\n",
    "\n",
    "print(\"Test Loss:\", test_loss)\n",
    "print(\"Test Accuracy:\", test_acc)"
   ]
  },
  {
   "cell_type": "code",
   "execution_count": 326,
   "metadata": {},
   "outputs": [
    {
     "data": {
      "text/plain": [
       "(0.0, 0.2585169721394777)"
      ]
     },
     "execution_count": 326,
     "metadata": {},
     "output_type": "execute_result"
    },
    {
     "data": {
      "image/png": "[encoded data removed]",
      "text/plain": [
       "<Figure size 1600x800 with 2 Axes>"
      ]
     },
     "metadata": {},
     "output_type": "display_data"
    }
   ],
   "source": [
    "plt.figure(figsize=(16,8))\n",
    "plt.subplot(1,2,1)\n",
    "plot_graphs(history, \"accuracy\")\n",
    "plt.ylim(None, 1)\n",
    "plt.subplot(1,2,2)\n",
    "plot_graphs(history, \"loss\")\n",
    "plt.ylim(0, None)"
   ]
  },
  {
   "cell_type": "code",
   "execution_count": 327,
   "metadata": {},
   "outputs": [],
   "source": [
    "labels_list = [\"elementary-set-theory\", \"elementary-number-theory\", \"algebra-precalculus\", \"functions\", \"trigonometry\", \\\n",
    "               \"number-theory\", \"calculus\", \"real-analysis\", \"discrete-mathematics\", \"combinatorics\", \"proof-verification\", \\\n",
    "               \"prime-numbers\", \"cardinals\", \"proof-writing\", \"contest-math\", \"divisibility\", \"solution-verification\", \"modular-arithmetic\", \\\n",
    "               \"inequality\", \"notation\", \"geometry\", \"general-topology\", \"sequences-and-series\", \"polynomials\", \"logic\", \"euclidean-geometry\", \\\n",
    "               \"abstract-algebra\", \"arithmetic\", \"relations\", \"definition\", \"analytic-geometry\", \"decimal-expansion\", \"recreational-mathematics\", \\\n",
    "               \"proof-explanation\", \"functional-equations\", \"elementary-functions\", \"limits\", \"induction\", \"complex-numbers\", \"terminology\"]"
   ]
  },
  {
   "cell_type": "code",
   "execution_count": 335,
   "metadata": {},
   "outputs": [],
   "source": [
    "def predictions_to_labels(prediction_arr):\n",
    "    def sort_index(lst, rev=True):\n",
    "        index = range(len(lst))\n",
    "        s = sorted(index, reverse=rev, key=lambda i: lst[i]) \n",
    "        return s\n",
    "    prediction_ls = list(prediction_arr)\n",
    "    top_3_indices = sort_index(prediction_ls)[:3]\n",
    "    return [(labels_list[elem],prediction_ls[elem]) for elem in top_3_indices]"
   ]
  },
  {
   "cell_type": "code",
   "execution_count": 336,
   "metadata": {},
   "outputs": [
    {
     "name": "stdout",
     "output_type": "stream",
     "text": [
      "1/1 [==============================] - 0s 25ms/step\n",
      "[('algebra-precalculus', 0.25392962), ('trigonometry', -0.8927269), ('functions', -1.0184162)]\n"
     ]
    }
   ],
   "source": [
    "sample_text = (\"g ( x ) = x ^ 3\")\n",
    "predictions = model.predict(np.array([sample_text]))\n",
    "print(predictions_to_labels(predictions[0]))"
   ]
  },
  {
   "cell_type": "code",
   "execution_count": 337,
   "metadata": {},
   "outputs": [
    {
     "name": "stdout",
     "output_type": "stream",
     "text": [
      "1/1 [==============================] - 0s 22ms/step\n",
      "[('elementary-set-theory', 0.6662782), ('elementary-number-theory', -1.1404643), ('functions', -1.3648176)]\n"
     ]
    }
   ],
   "source": [
    "sample_text = (\"\\\\{ \\\\varnothing \\\\}\")\n",
    "predictions = model.predict(np.array([sample_text]))\n",
    "print(predictions_to_labels(predictions[0]))"
   ]
  },
  {
   "cell_type": "code",
   "execution_count": 338,
   "metadata": {},
   "outputs": [
    {
     "name": "stdout",
     "output_type": "stream",
     "text": [
      "1/1 [==============================] - 0s 23ms/step\n",
      "[('algebra-precalculus', 0.30892295), ('elementary-number-theory', -1.6004566), ('functions', -1.6851017)]\n"
     ]
    }
   ],
   "source": [
    "sample_text = (\"f ( x ) = x * x\")\n",
    "predictions = model.predict(np.array([sample_text]))\n",
    "print(predictions_to_labels(predictions[0]))"
   ]
  },
  {
   "cell_type": "code",
   "execution_count": 339,
   "metadata": {},
   "outputs": [
    {
     "name": "stdout",
     "output_type": "stream",
     "text": [
      "1/1 [==============================] - 0s 24ms/step\n",
      "[('algebra-precalculus', 0.018969364), ('trigonometry', -0.29382795), ('functions', -1.3319225)]\n"
     ]
    }
   ],
   "source": [
    "sample_text = (\"f ( x ) = \\\\sin ( x )\")\n",
    "predictions = model.predict(np.array([sample_text]))\n",
    "print(predictions_to_labels(predictions[0]))"
   ]
  },
  {
   "cell_type": "code",
   "execution_count": 340,
   "metadata": {},
   "outputs": [
    {
     "name": "stdout",
     "output_type": "stream",
     "text": [
      "1/1 [==============================] - 0s 24ms/step\n",
      "[('elementary-set-theory', 2.517617), ('functions', -1.6924803), ('cardinals', -1.8402693)]\n"
     ]
    }
   ],
   "source": [
    "sample_text = (\"f : N \\\\to X \\\\times X\")\n",
    "predictions = model.predict(np.array([sample_text]))\n",
    "print(predictions_to_labels(predictions[0]))"
   ]
  },
  {
   "cell_type": "code",
   "execution_count": 342,
   "metadata": {},
   "outputs": [
    {
     "name": "stdout",
     "output_type": "stream",
     "text": [
      "1/1 [==============================] - 0s 25ms/step\n",
      "[('elementary-number-theory', -0.09290438), ('algebra-precalculus', -0.29742151), ('trigonometry', -1.870779)]\n"
     ]
    }
   ],
   "source": [
    "sample_text = (\"\\\\frac { a + b } { c - d } \")\n",
    "predictions = model.predict(np.array([sample_text]))\n",
    "print(predictions_to_labels(predictions[0]))"
   ]
  },
  {
   "cell_type": "code",
   "execution_count": 343,
   "metadata": {},
   "outputs": [
    {
     "name": "stdout",
     "output_type": "stream",
     "text": [
      "Model: \"sequential_9\"\n",
      "_________________________________________________________________\n",
      " Layer (type)                Output Shape              Param #   \n",
      "=================================================================\n",
      " text_vectorization_26 (Text  (None, None)             0         \n",
      " Vectorization)                                                  \n",
      "                                                                 \n",
      " embedding_9 (Embedding)     (None, None, 64)          8192      \n",
      "                                                                 \n",
      " bidirectional_9 (Bidirectio  (None, 128)              66048     \n",
      " nal)                                                            \n",
      "                                                                 \n",
      " dense_18 (Dense)            (None, 64)                8256      \n",
      "                                                                 \n",
      " dense_19 (Dense)            (None, 40)                2600      \n",
      "                                                                 \n",
      "=================================================================\n",
      "Total params: 85,096\n",
      "Trainable params: 85,096\n",
      "Non-trainable params: 0\n",
      "_________________________________________________________________\n",
      "None\n"
     ]
    }
   ],
   "source": [
    "print(model.summary())"
   ]
  },
  {
   "cell_type": "code",
   "execution_count": null,
   "metadata": {},
   "outputs": [],
   "source": [
    "weights = model.get_layer(\"embedding_9\").get_weights()[0]\n",
    "vocab = encoder_int.get_vocabulary()"
   ]
  },
  {
   "cell_type": "code",
   "execution_count": null,
   "metadata": {},
   "outputs": [],
   "source": [
    "import io\n",
    "out_v = io.open('vectors.tsv', 'w', encoding='utf-8')\n",
    "out_m = io.open('metadata.tsv', 'w', encoding='utf-8')\n",
    "\n",
    "for index, word in enumerate(vocab):\n",
    "  if index == 0:\n",
    "    continue  # skip 0, it's padding.\n",
    "  vec = weights[index]\n",
    "  out_v.write('\\t'.join([str(x) for x in vec]) + \"\\n\")\n",
    "  out_m.write(word + \"\\n\")\n",
    "out_v.close()\n",
    "out_m.close()\n"
   ]
  },
  {
   "attachments": {},
   "cell_type": "markdown",
   "metadata": {},
   "source": [
    "##### Experiment 2: Use binary count vectorizer for encoding"
   ]
  },
  {
   "cell_type": "code",
   "execution_count": 243,
   "metadata": {},
   "outputs": [
    {
     "name": "stdout",
     "output_type": "stream",
     "text": [
      "1/1 [==============================] - 2s 2s/step\n",
      "[-9.8992800e-03 -1.2591374e-03  5.9022238e-03  1.0879994e-02\n",
      " -7.0673898e-03 -1.0374987e-03 -7.1757259e-03 -9.3838107e-03\n",
      " -1.3152701e-02  1.2541844e-03  8.0972658e-03 -3.1892029e-03\n",
      "  2.1310928e-04  5.9648030e-03 -5.0134254e-03  2.7442155e-03\n",
      "  5.4294986e-05 -3.7586770e-03  1.2586103e-02  1.0172410e-02\n",
      " -6.3387427e-04  9.3825758e-03 -1.3013278e-02  1.2944211e-02\n",
      " -1.3997213e-02  5.0704979e-04 -2.4676381e-04 -1.5183514e-03\n",
      " -1.1595828e-02 -1.6502874e-02 -2.0208942e-02  5.9619178e-03\n",
      " -1.1128376e-02 -6.7477799e-03 -1.5183290e-02 -8.0857156e-03\n",
      " -5.6071198e-03  1.3085045e-02 -1.9954909e-03 -7.6873098e-03]\n"
     ]
    }
   ],
   "source": [
    "model = create_model(encoder_multi_hot)\n",
    "# predict on a sample formula using untrained model\n",
    "sample_text = (\"g ( x ) = x ^ 3\")\n",
    "predictions = model.predict(np.array([sample_text]))\n",
    "print(predictions[0])"
   ]
  },
  {
   "cell_type": "code",
   "execution_count": 244,
   "metadata": {},
   "outputs": [],
   "source": [
    "model.compile(loss=tf.keras.losses.BinaryCrossentropy(from_logits=True),\n",
    "              optimizer=tf.keras.optimizers.Adam(1e-3),\n",
    "              metrics=[\"accuracy\"])"
   ]
  },
  {
   "cell_type": "code",
   "execution_count": 245,
   "metadata": {},
   "outputs": [
    {
     "name": "stdout",
     "output_type": "stream",
     "text": [
      "Epoch 1/15\n",
      "338/338 [==============================] - ETA: 0s - loss: 0.2008 - accuracy: 0.3679"
     ]
    },
    {
     "name": "stderr",
     "output_type": "stream",
     "text": [
      "WARNING:absl:Found untraced functions such as lstm_cell_16_layer_call_fn, lstm_cell_16_layer_call_and_return_conditional_losses, lstm_cell_17_layer_call_fn, lstm_cell_17_layer_call_and_return_conditional_losses while saving (showing 4 of 4). These functions will not be directly callable after loading.\n"
     ]
    },
    {
     "name": "stdout",
     "output_type": "stream",
     "text": [
      "INFO:tensorflow:Assets written to: c:\\Users\\prdie\\OneDrive\\Sources\\sem_math_repo\\classification\\wandb\\run-20230108_225720-282adjh1\\files\\model-best\\assets\n"
     ]
    },
    {
     "name": "stderr",
     "output_type": "stream",
     "text": [
      "INFO:tensorflow:Assets written to: c:\\Users\\prdie\\OneDrive\\Sources\\sem_math_repo\\classification\\wandb\\run-20230108_225720-282adjh1\\files\\model-best\\assets\n"
     ]
    },
    {
     "name": "stdout",
     "output_type": "stream",
     "text": [
      "338/338 [==============================] - 202s 576ms/step - loss: 0.2008 - accuracy: 0.3679 - val_loss: 0.1521 - val_accuracy: 0.0000e+00\n",
      "Epoch 2/15\n",
      "338/338 [==============================] - 168s 498ms/step - loss: 0.1430 - accuracy: 0.4290 - val_loss: 0.1528 - val_accuracy: 0.0000e+00\n",
      "Epoch 3/15\n",
      "338/338 [==============================] - ETA: 0s - loss: 0.1413 - accuracy: 0.4703"
     ]
    },
    {
     "name": "stderr",
     "output_type": "stream",
     "text": [
      "WARNING:absl:Found untraced functions such as lstm_cell_16_layer_call_fn, lstm_cell_16_layer_call_and_return_conditional_losses, lstm_cell_17_layer_call_fn, lstm_cell_17_layer_call_and_return_conditional_losses while saving (showing 4 of 4). These functions will not be directly callable after loading.\n"
     ]
    },
    {
     "name": "stdout",
     "output_type": "stream",
     "text": [
      "INFO:tensorflow:Assets written to: c:\\Users\\prdie\\OneDrive\\Sources\\sem_math_repo\\classification\\wandb\\run-20230108_225720-282adjh1\\files\\model-best\\assets\n"
     ]
    },
    {
     "name": "stderr",
     "output_type": "stream",
     "text": [
      "INFO:tensorflow:Assets written to: c:\\Users\\prdie\\OneDrive\\Sources\\sem_math_repo\\classification\\wandb\\run-20230108_225720-282adjh1\\files\\model-best\\assets\n"
     ]
    },
    {
     "name": "stdout",
     "output_type": "stream",
     "text": [
      "338/338 [==============================] - 193s 570ms/step - loss: 0.1413 - accuracy: 0.4703 - val_loss: 0.1476 - val_accuracy: 0.2984\n",
      "Epoch 4/15\n",
      "338/338 [==============================] - ETA: 0s - loss: 0.1406 - accuracy: 0.4717"
     ]
    },
    {
     "name": "stderr",
     "output_type": "stream",
     "text": [
      "WARNING:absl:Found untraced functions such as lstm_cell_16_layer_call_fn, lstm_cell_16_layer_call_and_return_conditional_losses, lstm_cell_17_layer_call_fn, lstm_cell_17_layer_call_and_return_conditional_losses while saving (showing 4 of 4). These functions will not be directly callable after loading.\n"
     ]
    },
    {
     "name": "stdout",
     "output_type": "stream",
     "text": [
      "INFO:tensorflow:Assets written to: c:\\Users\\prdie\\OneDrive\\Sources\\sem_math_repo\\classification\\wandb\\run-20230108_225720-282adjh1\\files\\model-best\\assets\n"
     ]
    },
    {
     "name": "stderr",
     "output_type": "stream",
     "text": [
      "INFO:tensorflow:Assets written to: c:\\Users\\prdie\\OneDrive\\Sources\\sem_math_repo\\classification\\wandb\\run-20230108_225720-282adjh1\\files\\model-best\\assets\n"
     ]
    },
    {
     "name": "stdout",
     "output_type": "stream",
     "text": [
      "338/338 [==============================] - 229s 677ms/step - loss: 0.1406 - accuracy: 0.4717 - val_loss: 0.1433 - val_accuracy: 0.2984\n",
      "Epoch 5/15\n",
      "338/338 [==============================] - ETA: 0s - loss: 0.1402 - accuracy: 0.4819"
     ]
    },
    {
     "name": "stderr",
     "output_type": "stream",
     "text": [
      "WARNING:absl:Found untraced functions such as lstm_cell_16_layer_call_fn, lstm_cell_16_layer_call_and_return_conditional_losses, lstm_cell_17_layer_call_fn, lstm_cell_17_layer_call_and_return_conditional_losses while saving (showing 4 of 4). These functions will not be directly callable after loading.\n"
     ]
    },
    {
     "name": "stdout",
     "output_type": "stream",
     "text": [
      "INFO:tensorflow:Assets written to: c:\\Users\\prdie\\OneDrive\\Sources\\sem_math_repo\\classification\\wandb\\run-20230108_225720-282adjh1\\files\\model-best\\assets\n"
     ]
    },
    {
     "name": "stderr",
     "output_type": "stream",
     "text": [
      "INFO:tensorflow:Assets written to: c:\\Users\\prdie\\OneDrive\\Sources\\sem_math_repo\\classification\\wandb\\run-20230108_225720-282adjh1\\files\\model-best\\assets\n"
     ]
    },
    {
     "name": "stdout",
     "output_type": "stream",
     "text": [
      "338/338 [==============================] - 230s 681ms/step - loss: 0.1402 - accuracy: 0.4819 - val_loss: 0.1425 - val_accuracy: 0.2984\n",
      "Epoch 6/15\n",
      "338/338 [==============================] - 194s 574ms/step - loss: 0.1400 - accuracy: 0.4800 - val_loss: 0.1446 - val_accuracy: 0.2984\n",
      "Epoch 7/15\n",
      "338/338 [==============================] - 185s 547ms/step - loss: 0.1401 - accuracy: 0.4777 - val_loss: 0.1428 - val_accuracy: 0.2984\n",
      "Epoch 8/15\n",
      "338/338 [==============================] - 189s 558ms/step - loss: 0.1399 - accuracy: 0.4781 - val_loss: 0.1426 - val_accuracy: 0.2984\n",
      "Epoch 9/15\n",
      "338/338 [==============================] - 188s 556ms/step - loss: 0.1402 - accuracy: 0.4740 - val_loss: 0.1437 - val_accuracy: 0.2984\n",
      "Epoch 10/15\n",
      "338/338 [==============================] - 187s 554ms/step - loss: 0.1402 - accuracy: 0.4779 - val_loss: 0.1444 - val_accuracy: 0.2984\n",
      "Epoch 11/15\n",
      "338/338 [==============================] - 187s 553ms/step - loss: 0.1401 - accuracy: 0.4762 - val_loss: 0.1440 - val_accuracy: 0.2984\n",
      "Epoch 12/15\n",
      "338/338 [==============================] - ETA: 0s - loss: 0.1401 - accuracy: 0.4765"
     ]
    },
    {
     "name": "stderr",
     "output_type": "stream",
     "text": [
      "WARNING:absl:Found untraced functions such as lstm_cell_16_layer_call_fn, lstm_cell_16_layer_call_and_return_conditional_losses, lstm_cell_17_layer_call_fn, lstm_cell_17_layer_call_and_return_conditional_losses while saving (showing 4 of 4). These functions will not be directly callable after loading.\n"
     ]
    },
    {
     "name": "stdout",
     "output_type": "stream",
     "text": [
      "INFO:tensorflow:Assets written to: c:\\Users\\prdie\\OneDrive\\Sources\\sem_math_repo\\classification\\wandb\\run-20230108_225720-282adjh1\\files\\model-best\\assets\n"
     ]
    },
    {
     "name": "stderr",
     "output_type": "stream",
     "text": [
      "INFO:tensorflow:Assets written to: c:\\Users\\prdie\\OneDrive\\Sources\\sem_math_repo\\classification\\wandb\\run-20230108_225720-282adjh1\\files\\model-best\\assets\n"
     ]
    },
    {
     "name": "stdout",
     "output_type": "stream",
     "text": [
      "338/338 [==============================] - 205s 606ms/step - loss: 0.1401 - accuracy: 0.4765 - val_loss: 0.1409 - val_accuracy: 0.2984\n",
      "Epoch 13/15\n",
      "338/338 [==============================] - 169s 499ms/step - loss: 0.1403 - accuracy: 0.4745 - val_loss: 0.1415 - val_accuracy: 0.2984\n",
      "Epoch 14/15\n",
      "338/338 [==============================] - 169s 499ms/step - loss: 0.1402 - accuracy: 0.4770 - val_loss: 0.1419 - val_accuracy: 0.2984\n",
      "Epoch 15/15\n",
      "338/338 [==============================] - 170s 502ms/step - loss: 0.1403 - accuracy: 0.4741 - val_loss: 0.1429 - val_accuracy: 0.2984\n"
     ]
    }
   ],
   "source": [
    "run = wandb.init(project=\"multi_label_everything_v1\", reinit=True)\n",
    "wandb.config = {\n",
    "    \"learning_rate\": 1e-3,\n",
    "    \"optimizer\": \"adam\",\n",
    "    \"epochs\": 15,\n",
    "    \"batch_size\": 64,\n",
    "    \"vectorizer\": \"multi_hot\",\n",
    "    \"sample_id\": \"2\"\n",
    "}\n",
    "\n",
    "history = model.fit(train_dataset, epochs=15,\n",
    "                    validation_data=test_dataset,\n",
    "                    validation_steps=30,callbacks= [WandbCallback()])#[tensorboard_callback])\n",
    "run.finish()"
   ]
  },
  {
   "cell_type": "code",
   "execution_count": 246,
   "metadata": {},
   "outputs": [
    {
     "name": "stdout",
     "output_type": "stream",
     "text": [
      "47/47 [==============================] - 5s 102ms/step - loss: 0.1445 - accuracy: 0.2970\n",
      "Test Loss: 0.14449208974838257\n",
      "Test Accuracy: 0.296999990940094\n"
     ]
    }
   ],
   "source": [
    "test_loss, test_acc = model.evaluate(test_dataset)\n",
    "\n",
    "print(\"Test Loss:\", test_loss)\n",
    "print(\"Test Accuracy:\", test_acc)"
   ]
  },
  {
   "cell_type": "code",
   "execution_count": 247,
   "metadata": {},
   "outputs": [
    {
     "data": {
      "text/plain": [
       "(0.0, 0.20379702523350715)"
      ]
     },
     "execution_count": 247,
     "metadata": {},
     "output_type": "execute_result"
    },
    {
     "data": {
      "image/png": "[encoded data removed]",
      "text/plain": [
       "<Figure size 1600x800 with 2 Axes>"
      ]
     },
     "metadata": {},
     "output_type": "display_data"
    }
   ],
   "source": [
    "plt.figure(figsize=(16,8))\n",
    "plt.subplot(1,2,1)\n",
    "plot_graphs(history, \"accuracy\")\n",
    "plt.ylim(None, 1)\n",
    "plt.subplot(1,2,2)\n",
    "plot_graphs(history, \"loss\")\n",
    "plt.ylim(0, None)"
   ]
  },
  {
   "cell_type": "code",
   "execution_count": 248,
   "metadata": {},
   "outputs": [
    {
     "name": "stdout",
     "output_type": "stream",
     "text": [
      "WARNING:tensorflow:5 out of the last 26 calls to <function Model.make_predict_function.<locals>.predict_function at 0x000002378DA59510> triggered tf.function retracing. Tracing is expensive and the excessive number of tracings could be due to (1) creating @tf.function repeatedly in a loop, (2) passing tensors with different shapes, (3) passing Python objects instead of tensors. For (1), please define your @tf.function outside of the loop. For (2), @tf.function has reduce_retracing=True option that can avoid unnecessary retracing. For (3), please refer to https://www.tensorflow.org/guide/function#controlling_retracing and https://www.tensorflow.org/api_docs/python/tf/function for  more details.\n"
     ]
    },
    {
     "name": "stderr",
     "output_type": "stream",
     "text": [
      "WARNING:tensorflow:5 out of the last 26 calls to <function Model.make_predict_function.<locals>.predict_function at 0x000002378DA59510> triggered tf.function retracing. Tracing is expensive and the excessive number of tracings could be due to (1) creating @tf.function repeatedly in a loop, (2) passing tensors with different shapes, (3) passing Python objects instead of tensors. For (1), please define your @tf.function outside of the loop. For (2), @tf.function has reduce_retracing=True option that can avoid unnecessary retracing. For (3), please refer to https://www.tensorflow.org/guide/function#controlling_retracing and https://www.tensorflow.org/api_docs/python/tf/function for  more details.\n"
     ]
    },
    {
     "name": "stdout",
     "output_type": "stream",
     "text": [
      "1/1 [==============================] - 3s 3s/step\n",
      "[-1.3531058   0.30209833 -1.4726005  -3.2256439  -2.5685356  -2.241483\n",
      " -3.8509758  -3.6979842  -3.0975428  -3.1920385  -3.978696   -2.633955\n",
      " -5.1075997  -4.121196   -3.4524913  -3.1710644  -4.378172   -3.4443107\n",
      " -3.8705769  -4.3274074  -3.6615484  -4.2722254  -3.874273   -4.6846633\n",
      " -4.7134967  -3.749981   -4.458452   -3.7068353  -4.58309    -4.960247\n",
      " -4.756445   -4.052264   -3.4968317  -4.518767   -5.8304505  -6.127541\n",
      " -5.4694405  -4.2557626  -4.6092916  -5.7345376 ]\n"
     ]
    }
   ],
   "source": [
    "# predict on a sample text without padding\n",
    "sample_text = (\"g ( x ) = x ^ 3\")\n",
    "predictions = model.predict(np.array([sample_text]))\n",
    "print(predictions[0])"
   ]
  },
  {
   "attachments": {},
   "cell_type": "markdown",
   "metadata": {},
   "source": [
    "##### Experiment 3:"
   ]
  },
  {
   "cell_type": "code",
   "execution_count": 249,
   "metadata": {},
   "outputs": [
    {
     "name": "stdout",
     "output_type": "stream",
     "text": [
      "1/1 [==============================] - 2s 2s/step\n",
      "[ 1.5049626e-03 -9.7161224e-03  1.1495914e-03  1.5763764e-04\n",
      "  6.0587274e-03 -1.2012719e-03 -8.6602634e-03  5.4164054e-03\n",
      "  9.2748329e-03 -4.4858875e-03 -8.8869699e-04 -1.9208589e-03\n",
      "  1.2710802e-02  3.0258147e-03 -1.8271089e-03  3.8838687e-03\n",
      "  4.0030451e-03  3.0023104e-05 -4.1399677e-03 -4.6849943e-04\n",
      " -1.8059844e-03  5.8975965e-03  1.1954630e-03 -3.7405971e-03\n",
      "  8.8598207e-04 -3.7824691e-03 -7.1163839e-03  6.0644913e-03\n",
      "  8.7079918e-03 -1.3188720e-03 -4.3441923e-03 -4.4630375e-03\n",
      "  4.1324710e-03  1.9196665e-03  6.3913814e-03  6.0049212e-03\n",
      " -1.5104626e-05 -1.3244487e-03 -5.3564487e-03 -1.0348719e-02]\n"
     ]
    }
   ],
   "source": [
    "model = create_model(encoder_count)\n",
    "# predict on a sample formula using untrained model\n",
    "sample_text = (\"g ( x ) = x ^ 3\")\n",
    "predictions = model.predict(np.array([sample_text]))\n",
    "print(predictions[0])"
   ]
  },
  {
   "cell_type": "code",
   "execution_count": 250,
   "metadata": {},
   "outputs": [],
   "source": [
    "model.compile(loss=tf.keras.losses.BinaryCrossentropy(from_logits=True),\n",
    "              optimizer=tf.keras.optimizers.Adam(1e-3),\n",
    "              metrics=[\"accuracy\"])"
   ]
  },
  {
   "cell_type": "code",
   "execution_count": 251,
   "metadata": {},
   "outputs": [
    {
     "name": "stdout",
     "output_type": "stream",
     "text": [
      "Epoch 1/15\n",
      "338/338 [==============================] - ETA: 0s - loss: 0.2028 - accuracy: 0.3636"
     ]
    },
    {
     "name": "stderr",
     "output_type": "stream",
     "text": [
      "WARNING:absl:Found untraced functions such as lstm_cell_19_layer_call_fn, lstm_cell_19_layer_call_and_return_conditional_losses, lstm_cell_20_layer_call_fn, lstm_cell_20_layer_call_and_return_conditional_losses while saving (showing 4 of 4). These functions will not be directly callable after loading.\n"
     ]
    },
    {
     "name": "stdout",
     "output_type": "stream",
     "text": [
      "INFO:tensorflow:Assets written to: c:\\Users\\prdie\\OneDrive\\Sources\\sem_math_repo\\classification\\wandb\\run-20230108_234522-2chlt2tr\\files\\model-best\\assets\n"
     ]
    },
    {
     "name": "stderr",
     "output_type": "stream",
     "text": [
      "INFO:tensorflow:Assets written to: c:\\Users\\prdie\\OneDrive\\Sources\\sem_math_repo\\classification\\wandb\\run-20230108_234522-2chlt2tr\\files\\model-best\\assets\n"
     ]
    },
    {
     "name": "stdout",
     "output_type": "stream",
     "text": [
      "338/338 [==============================] - 203s 571ms/step - loss: 0.2028 - accuracy: 0.3636 - val_loss: 0.1495 - val_accuracy: 0.0000e+00\n",
      "Epoch 2/15\n",
      "338/338 [==============================] - 167s 495ms/step - loss: 0.1429 - accuracy: 0.4434 - val_loss: 0.1513 - val_accuracy: 0.3573\n",
      "Epoch 3/15\n",
      "338/338 [==============================] - ETA: 0s - loss: 0.1409 - accuracy: 0.4791"
     ]
    },
    {
     "name": "stderr",
     "output_type": "stream",
     "text": [
      "WARNING:absl:Found untraced functions such as lstm_cell_19_layer_call_fn, lstm_cell_19_layer_call_and_return_conditional_losses, lstm_cell_20_layer_call_fn, lstm_cell_20_layer_call_and_return_conditional_losses while saving (showing 4 of 4). These functions will not be directly callable after loading.\n"
     ]
    },
    {
     "name": "stdout",
     "output_type": "stream",
     "text": [
      "INFO:tensorflow:Assets written to: c:\\Users\\prdie\\OneDrive\\Sources\\sem_math_repo\\classification\\wandb\\run-20230108_234522-2chlt2tr\\files\\model-best\\assets\n"
     ]
    },
    {
     "name": "stderr",
     "output_type": "stream",
     "text": [
      "INFO:tensorflow:Assets written to: c:\\Users\\prdie\\OneDrive\\Sources\\sem_math_repo\\classification\\wandb\\run-20230108_234522-2chlt2tr\\files\\model-best\\assets\n"
     ]
    },
    {
     "name": "stdout",
     "output_type": "stream",
     "text": [
      "338/338 [==============================] - 191s 565ms/step - loss: 0.1409 - accuracy: 0.4791 - val_loss: 0.1460 - val_accuracy: 0.3276\n",
      "Epoch 4/15\n",
      "338/338 [==============================] - ETA: 0s - loss: 0.1401 - accuracy: 0.4830"
     ]
    },
    {
     "name": "stderr",
     "output_type": "stream",
     "text": [
      "WARNING:absl:Found untraced functions such as lstm_cell_19_layer_call_fn, lstm_cell_19_layer_call_and_return_conditional_losses, lstm_cell_20_layer_call_fn, lstm_cell_20_layer_call_and_return_conditional_losses while saving (showing 4 of 4). These functions will not be directly callable after loading.\n"
     ]
    },
    {
     "name": "stdout",
     "output_type": "stream",
     "text": [
      "INFO:tensorflow:Assets written to: c:\\Users\\prdie\\OneDrive\\Sources\\sem_math_repo\\classification\\wandb\\run-20230108_234522-2chlt2tr\\files\\model-best\\assets\n"
     ]
    },
    {
     "name": "stderr",
     "output_type": "stream",
     "text": [
      "INFO:tensorflow:Assets written to: c:\\Users\\prdie\\OneDrive\\Sources\\sem_math_repo\\classification\\wandb\\run-20230108_234522-2chlt2tr\\files\\model-best\\assets\n"
     ]
    },
    {
     "name": "stdout",
     "output_type": "stream",
     "text": [
      "338/338 [==============================] - 208s 616ms/step - loss: 0.1401 - accuracy: 0.4830 - val_loss: 0.1444 - val_accuracy: 0.3349\n",
      "Epoch 5/15\n",
      "338/338 [==============================] - ETA: 0s - loss: 0.1396 - accuracy: 0.4872"
     ]
    },
    {
     "name": "stderr",
     "output_type": "stream",
     "text": [
      "WARNING:absl:Found untraced functions such as lstm_cell_19_layer_call_fn, lstm_cell_19_layer_call_and_return_conditional_losses, lstm_cell_20_layer_call_fn, lstm_cell_20_layer_call_and_return_conditional_losses while saving (showing 4 of 4). These functions will not be directly callable after loading.\n"
     ]
    },
    {
     "name": "stdout",
     "output_type": "stream",
     "text": [
      "INFO:tensorflow:Assets written to: c:\\Users\\prdie\\OneDrive\\Sources\\sem_math_repo\\classification\\wandb\\run-20230108_234522-2chlt2tr\\files\\model-best\\assets\n"
     ]
    },
    {
     "name": "stderr",
     "output_type": "stream",
     "text": [
      "INFO:tensorflow:Assets written to: c:\\Users\\prdie\\OneDrive\\Sources\\sem_math_repo\\classification\\wandb\\run-20230108_234522-2chlt2tr\\files\\model-best\\assets\n"
     ]
    },
    {
     "name": "stdout",
     "output_type": "stream",
     "text": [
      "338/338 [==============================] - 218s 645ms/step - loss: 0.1396 - accuracy: 0.4872 - val_loss: 0.1415 - val_accuracy: 0.3141\n",
      "Epoch 6/15\n",
      "338/338 [==============================] - 175s 518ms/step - loss: 0.1391 - accuracy: 0.4901 - val_loss: 0.1469 - val_accuracy: 0.3063\n",
      "Epoch 7/15\n",
      "338/338 [==============================] - 171s 505ms/step - loss: 0.1390 - accuracy: 0.4922 - val_loss: 0.1421 - val_accuracy: 0.3083\n",
      "Epoch 8/15\n",
      "338/338 [==============================] - ETA: 0s - loss: 0.1390 - accuracy: 0.4910"
     ]
    },
    {
     "name": "stderr",
     "output_type": "stream",
     "text": [
      "WARNING:absl:Found untraced functions such as lstm_cell_19_layer_call_fn, lstm_cell_19_layer_call_and_return_conditional_losses, lstm_cell_20_layer_call_fn, lstm_cell_20_layer_call_and_return_conditional_losses while saving (showing 4 of 4). These functions will not be directly callable after loading.\n"
     ]
    },
    {
     "name": "stdout",
     "output_type": "stream",
     "text": [
      "INFO:tensorflow:Assets written to: c:\\Users\\prdie\\OneDrive\\Sources\\sem_math_repo\\classification\\wandb\\run-20230108_234522-2chlt2tr\\files\\model-best\\assets\n"
     ]
    },
    {
     "name": "stderr",
     "output_type": "stream",
     "text": [
      "INFO:tensorflow:Assets written to: c:\\Users\\prdie\\OneDrive\\Sources\\sem_math_repo\\classification\\wandb\\run-20230108_234522-2chlt2tr\\files\\model-best\\assets\n"
     ]
    },
    {
     "name": "stdout",
     "output_type": "stream",
     "text": [
      "338/338 [==============================] - 193s 570ms/step - loss: 0.1390 - accuracy: 0.4910 - val_loss: 0.1414 - val_accuracy: 0.3125\n",
      "Epoch 9/15\n",
      "338/338 [==============================] - 182s 538ms/step - loss: 0.1389 - accuracy: 0.4955 - val_loss: 0.1448 - val_accuracy: 0.3125\n",
      "Epoch 10/15\n",
      "338/338 [==============================] - 170s 502ms/step - loss: 0.1390 - accuracy: 0.4882 - val_loss: 0.1459 - val_accuracy: 0.3135\n",
      "Epoch 11/15\n",
      "338/338 [==============================] - ETA: 0s - loss: 0.1391 - accuracy: 0.4920"
     ]
    },
    {
     "name": "stderr",
     "output_type": "stream",
     "text": [
      "WARNING:absl:Found untraced functions such as lstm_cell_19_layer_call_fn, lstm_cell_19_layer_call_and_return_conditional_losses, lstm_cell_20_layer_call_fn, lstm_cell_20_layer_call_and_return_conditional_losses while saving (showing 4 of 4). These functions will not be directly callable after loading.\n"
     ]
    },
    {
     "name": "stdout",
     "output_type": "stream",
     "text": [
      "INFO:tensorflow:Assets written to: c:\\Users\\prdie\\OneDrive\\Sources\\sem_math_repo\\classification\\wandb\\run-20230108_234522-2chlt2tr\\files\\model-best\\assets\n"
     ]
    },
    {
     "name": "stderr",
     "output_type": "stream",
     "text": [
      "INFO:tensorflow:Assets written to: c:\\Users\\prdie\\OneDrive\\Sources\\sem_math_repo\\classification\\wandb\\run-20230108_234522-2chlt2tr\\files\\model-best\\assets\n"
     ]
    },
    {
     "name": "stdout",
     "output_type": "stream",
     "text": [
      "338/338 [==============================] - 191s 566ms/step - loss: 0.1391 - accuracy: 0.4920 - val_loss: 0.1372 - val_accuracy: 0.3510\n",
      "Epoch 12/15\n",
      "338/338 [==============================] - 169s 499ms/step - loss: 0.1388 - accuracy: 0.4973 - val_loss: 0.1423 - val_accuracy: 0.3151\n",
      "Epoch 13/15\n",
      "338/338 [==============================] - 169s 500ms/step - loss: 0.1389 - accuracy: 0.4897 - val_loss: 0.1384 - val_accuracy: 0.3240\n",
      "Epoch 14/15\n",
      "338/338 [==============================] - 169s 500ms/step - loss: 0.1388 - accuracy: 0.4948 - val_loss: 0.1401 - val_accuracy: 0.3187\n",
      "Epoch 15/15\n",
      "338/338 [==============================] - 171s 505ms/step - loss: 0.1390 - accuracy: 0.4903 - val_loss: 0.1426 - val_accuracy: 0.3161\n"
     ]
    }
   ],
   "source": [
    "run = wandb.init(project=\"multi_label_everything_v1\", reinit=True)\n",
    "wandb.config = {\n",
    "    \"learning_rate\": 1e-3,\n",
    "    \"optimizer\": \"adam\",\n",
    "    \"epochs\": 15,\n",
    "    \"batch_size\": 64,\n",
    "    \"vectorizer\": \"count\",\n",
    "    \"sample_id\": \"2\"\n",
    "}\n",
    "\n",
    "history = model.fit(train_dataset, epochs=15,\n",
    "                    validation_data=test_dataset,\n",
    "                    validation_steps=30,callbacks= [WandbCallback()])#[tensorboard_callback])\n",
    "run.finish()"
   ]
  },
  {
   "cell_type": "code",
   "execution_count": 252,
   "metadata": {},
   "outputs": [
    {
     "name": "stdout",
     "output_type": "stream",
     "text": [
      "47/47 [==============================] - 5s 105ms/step - loss: 0.1441 - accuracy: 0.3123\n",
      "Test Loss: 0.14413337409496307\n",
      "Test Accuracy: 0.312333345413208\n"
     ]
    }
   ],
   "source": [
    "test_loss, test_acc = model.evaluate(test_dataset)\n",
    "\n",
    "print(\"Test Loss:\", test_loss)\n",
    "print(\"Test Accuracy:\", test_acc)"
   ]
  },
  {
   "cell_type": "code",
   "execution_count": 253,
   "metadata": {},
   "outputs": [
    {
     "data": {
      "text/plain": [
       "(0.0, 0.2060897871851921)"
      ]
     },
     "execution_count": 253,
     "metadata": {},
     "output_type": "execute_result"
    },
    {
     "data": {
      "image/png": "[encoded data removed]",
      "text/plain": [
       "<Figure size 1600x800 with 2 Axes>"
      ]
     },
     "metadata": {},
     "output_type": "display_data"
    }
   ],
   "source": [
    "plt.figure(figsize=(16,8))\n",
    "plt.subplot(1,2,1)\n",
    "plot_graphs(history, \"accuracy\")\n",
    "plt.ylim(None, 1)\n",
    "plt.subplot(1,2,2)\n",
    "plot_graphs(history, \"loss\")\n",
    "plt.ylim(0, None)"
   ]
  },
  {
   "cell_type": "code",
   "execution_count": 254,
   "metadata": {},
   "outputs": [
    {
     "name": "stdout",
     "output_type": "stream",
     "text": [
      "1/1 [==============================] - 2s 2s/step\n",
      "[-2.2857416   0.27856848 -1.2231424  -3.6064527  -1.8771025  -2.6031597\n",
      " -3.2978287  -3.582226   -3.7783802  -2.7651303  -4.1119404  -2.8591523\n",
      " -5.3769155  -4.675372   -3.045183   -2.5604577  -4.211062   -3.3093452\n",
      " -3.6335995  -4.389809   -3.8251827  -5.439752   -3.6905093  -4.1822796\n",
      " -5.276904   -3.8208854  -5.707915   -3.8667262  -5.227036   -5.8146634\n",
      " -5.1493535  -3.9319835  -3.663801   -4.6595945  -5.5645876  -5.770327\n",
      " -4.753028   -4.429707   -4.779221   -6.3784766 ]\n"
     ]
    }
   ],
   "source": [
    "# predict on a sample text without padding\n",
    "sample_text = (\"g ( x ) = x ^ 3\")\n",
    "predictions = model.predict(np.array([sample_text]))\n",
    "print(predictions[0])"
   ]
  },
  {
   "attachments": {},
   "cell_type": "markdown",
   "metadata": {},
   "source": [
    "##### Experiment 4:"
   ]
  },
  {
   "cell_type": "code",
   "execution_count": 255,
   "metadata": {},
   "outputs": [
    {
     "name": "stdout",
     "output_type": "stream",
     "text": [
      "1/1 [==============================] - 2s 2s/step\n",
      "[ 4.7439667e-03  1.2241086e-02  7.8384886e-03  7.9077696e-03\n",
      "  8.5314792e-03  2.4340740e-04 -2.7568860e-03 -2.9614968e-03\n",
      " -2.2304498e-03  4.3717972e-03 -8.9839427e-03 -6.7369378e-04\n",
      "  2.6009039e-03 -1.1432599e-02  9.7173513e-05 -3.1474354e-03\n",
      "  3.1539748e-04  1.3181512e-02 -4.6049464e-03 -6.0835425e-03\n",
      "  2.3203206e-04 -1.8103212e-05 -8.9895232e-03  9.5824338e-04\n",
      " -9.8468075e-03  2.1982149e-03  1.7872183e-03 -3.2229323e-03\n",
      " -1.0248180e-02  4.1743289e-03 -5.9486418e-03 -3.8340988e-03\n",
      "  6.8061105e-03  3.5543751e-03  4.6961379e-04 -3.3012708e-04\n",
      " -1.0822192e-03  1.3790767e-02 -5.2160872e-03 -8.6492123e-03]\n"
     ]
    }
   ],
   "source": [
    "model = create_model(encoder_bigrams)\n",
    "# predict on a sample formula using untrained model\n",
    "sample_text = (\"g ( x ) = x ^ 3\")\n",
    "predictions = model.predict(np.array([sample_text]))\n",
    "print(predictions[0])"
   ]
  },
  {
   "cell_type": "code",
   "execution_count": 256,
   "metadata": {},
   "outputs": [],
   "source": [
    "model.compile(loss=tf.keras.losses.BinaryCrossentropy(from_logits=True),\n",
    "              optimizer=tf.keras.optimizers.Adam(1e-3),\n",
    "              metrics=[\"accuracy\"])"
   ]
  },
  {
   "cell_type": "code",
   "execution_count": 257,
   "metadata": {},
   "outputs": [
    {
     "name": "stdout",
     "output_type": "stream",
     "text": [
      "Epoch 1/15\n",
      "338/338 [==============================] - ETA: 0s - loss: 0.2014 - accuracy: 0.4192"
     ]
    },
    {
     "name": "stderr",
     "output_type": "stream",
     "text": [
      "WARNING:absl:Found untraced functions such as lstm_cell_22_layer_call_fn, lstm_cell_22_layer_call_and_return_conditional_losses, lstm_cell_23_layer_call_fn, lstm_cell_23_layer_call_and_return_conditional_losses while saving (showing 4 of 4). These functions will not be directly callable after loading.\n"
     ]
    },
    {
     "name": "stdout",
     "output_type": "stream",
     "text": [
      "INFO:tensorflow:Assets written to: c:\\Users\\prdie\\OneDrive\\Sources\\sem_math_repo\\classification\\wandb\\run-20230109_003129-egvlbgq9\\files\\model-best\\assets\n"
     ]
    },
    {
     "name": "stderr",
     "output_type": "stream",
     "text": [
      "INFO:tensorflow:Assets written to: c:\\Users\\prdie\\OneDrive\\Sources\\sem_math_repo\\classification\\wandb\\run-20230109_003129-egvlbgq9\\files\\model-best\\assets\n"
     ]
    },
    {
     "name": "stdout",
     "output_type": "stream",
     "text": [
      "338/338 [==============================] - 544s 2s/step - loss: 0.2014 - accuracy: 0.4192 - val_loss: 0.1544 - val_accuracy: 0.0000e+00\n",
      "Epoch 2/15\n",
      "338/338 [==============================] - ETA: 0s - loss: 0.1437 - accuracy: 0.4225"
     ]
    },
    {
     "name": "stderr",
     "output_type": "stream",
     "text": [
      "WARNING:absl:Found untraced functions such as lstm_cell_22_layer_call_fn, lstm_cell_22_layer_call_and_return_conditional_losses, lstm_cell_23_layer_call_fn, lstm_cell_23_layer_call_and_return_conditional_losses while saving (showing 4 of 4). These functions will not be directly callable after loading.\n"
     ]
    },
    {
     "name": "stdout",
     "output_type": "stream",
     "text": [
      "INFO:tensorflow:Assets written to: c:\\Users\\prdie\\OneDrive\\Sources\\sem_math_repo\\classification\\wandb\\run-20230109_003129-egvlbgq9\\files\\model-best\\assets\n"
     ]
    },
    {
     "name": "stderr",
     "output_type": "stream",
     "text": [
      "INFO:tensorflow:Assets written to: c:\\Users\\prdie\\OneDrive\\Sources\\sem_math_repo\\classification\\wandb\\run-20230109_003129-egvlbgq9\\files\\model-best\\assets\n"
     ]
    },
    {
     "name": "stdout",
     "output_type": "stream",
     "text": [
      "338/338 [==============================] - 537s 2s/step - loss: 0.1437 - accuracy: 0.4225 - val_loss: 0.1542 - val_accuracy: 0.0000e+00\n",
      "Epoch 3/15\n",
      "338/338 [==============================] - ETA: 0s - loss: 0.1433 - accuracy: 0.4300"
     ]
    },
    {
     "name": "stderr",
     "output_type": "stream",
     "text": [
      "WARNING:absl:Found untraced functions such as lstm_cell_22_layer_call_fn, lstm_cell_22_layer_call_and_return_conditional_losses, lstm_cell_23_layer_call_fn, lstm_cell_23_layer_call_and_return_conditional_losses while saving (showing 4 of 4). These functions will not be directly callable after loading.\n"
     ]
    },
    {
     "name": "stdout",
     "output_type": "stream",
     "text": [
      "INFO:tensorflow:Assets written to: c:\\Users\\prdie\\OneDrive\\Sources\\sem_math_repo\\classification\\wandb\\run-20230109_003129-egvlbgq9\\files\\model-best\\assets\n"
     ]
    },
    {
     "name": "stderr",
     "output_type": "stream",
     "text": [
      "INFO:tensorflow:Assets written to: c:\\Users\\prdie\\OneDrive\\Sources\\sem_math_repo\\classification\\wandb\\run-20230109_003129-egvlbgq9\\files\\model-best\\assets\n"
     ]
    },
    {
     "name": "stdout",
     "output_type": "stream",
     "text": [
      "338/338 [==============================] - 532s 2s/step - loss: 0.1433 - accuracy: 0.4300 - val_loss: 0.1461 - val_accuracy: 0.3198\n",
      "Epoch 4/15\n",
      "338/338 [==============================] - 512s 2s/step - loss: 0.1415 - accuracy: 0.4712 - val_loss: 0.1474 - val_accuracy: 0.2953\n",
      "Epoch 5/15\n",
      "338/338 [==============================] - ETA: 0s - loss: 0.1405 - accuracy: 0.4751"
     ]
    },
    {
     "name": "stderr",
     "output_type": "stream",
     "text": [
      "WARNING:absl:Found untraced functions such as lstm_cell_22_layer_call_fn, lstm_cell_22_layer_call_and_return_conditional_losses, lstm_cell_23_layer_call_fn, lstm_cell_23_layer_call_and_return_conditional_losses while saving (showing 4 of 4). These functions will not be directly callable after loading.\n"
     ]
    },
    {
     "name": "stdout",
     "output_type": "stream",
     "text": [
      "INFO:tensorflow:Assets written to: c:\\Users\\prdie\\OneDrive\\Sources\\sem_math_repo\\classification\\wandb\\run-20230109_003129-egvlbgq9\\files\\model-best\\assets\n"
     ]
    },
    {
     "name": "stderr",
     "output_type": "stream",
     "text": [
      "INFO:tensorflow:Assets written to: c:\\Users\\prdie\\OneDrive\\Sources\\sem_math_repo\\classification\\wandb\\run-20230109_003129-egvlbgq9\\files\\model-best\\assets\n"
     ]
    },
    {
     "name": "stdout",
     "output_type": "stream",
     "text": [
      "338/338 [==============================] - 533s 2s/step - loss: 0.1405 - accuracy: 0.4751 - val_loss: 0.1413 - val_accuracy: 0.3047\n",
      "Epoch 6/15\n",
      "338/338 [==============================] - 498s 1s/step - loss: 0.1400 - accuracy: 0.4789 - val_loss: 0.1442 - val_accuracy: 0.2812\n",
      "Epoch 7/15\n",
      "338/338 [==============================] - 498s 1s/step - loss: 0.1401 - accuracy: 0.4824 - val_loss: 0.1436 - val_accuracy: 0.2964\n",
      "Epoch 8/15\n",
      "338/338 [==============================] - 500s 1s/step - loss: 0.1398 - accuracy: 0.4793 - val_loss: 0.1452 - val_accuracy: 0.2786\n",
      "Epoch 9/15\n",
      "338/338 [==============================] - ETA: 0s - loss: 0.1397 - accuracy: 0.4768"
     ]
    },
    {
     "name": "stderr",
     "output_type": "stream",
     "text": [
      "WARNING:absl:Found untraced functions such as lstm_cell_22_layer_call_fn, lstm_cell_22_layer_call_and_return_conditional_losses, lstm_cell_23_layer_call_fn, lstm_cell_23_layer_call_and_return_conditional_losses while saving (showing 4 of 4). These functions will not be directly callable after loading.\n"
     ]
    },
    {
     "name": "stdout",
     "output_type": "stream",
     "text": [
      "INFO:tensorflow:Assets written to: c:\\Users\\prdie\\OneDrive\\Sources\\sem_math_repo\\classification\\wandb\\run-20230109_003129-egvlbgq9\\files\\model-best\\assets\n"
     ]
    },
    {
     "name": "stderr",
     "output_type": "stream",
     "text": [
      "INFO:tensorflow:Assets written to: c:\\Users\\prdie\\OneDrive\\Sources\\sem_math_repo\\classification\\wandb\\run-20230109_003129-egvlbgq9\\files\\model-best\\assets\n"
     ]
    },
    {
     "name": "stdout",
     "output_type": "stream",
     "text": [
      "338/338 [==============================] - 524s 2s/step - loss: 0.1397 - accuracy: 0.4768 - val_loss: 0.1382 - val_accuracy: 0.2974\n",
      "Epoch 10/15\n",
      "338/338 [==============================] - 508s 2s/step - loss: 0.1394 - accuracy: 0.4838 - val_loss: 0.1429 - val_accuracy: 0.2828\n",
      "Epoch 11/15\n",
      "338/338 [==============================] - 521s 2s/step - loss: 0.1397 - accuracy: 0.4800 - val_loss: 0.1395 - val_accuracy: 0.2979\n",
      "Epoch 12/15\n",
      "338/338 [==============================] - 516s 2s/step - loss: 0.1397 - accuracy: 0.4813 - val_loss: 0.1414 - val_accuracy: 0.3120\n",
      "Epoch 13/15\n",
      "338/338 [==============================] - 515s 2s/step - loss: 0.1396 - accuracy: 0.4785 - val_loss: 0.1453 - val_accuracy: 0.2948\n",
      "Epoch 14/15\n",
      "338/338 [==============================] - 515s 2s/step - loss: 0.1397 - accuracy: 0.4823 - val_loss: 0.1383 - val_accuracy: 0.3135\n",
      "Epoch 15/15\n",
      "338/338 [==============================] - 515s 2s/step - loss: 0.1395 - accuracy: 0.4812 - val_loss: 0.1437 - val_accuracy: 0.2948\n"
     ]
    }
   ],
   "source": [
    "run = wandb.init(project=\"multi_label_everything_v1\", reinit=True)\n",
    "wandb.config = {\n",
    "    \"learning_rate\": 1e-3,\n",
    "    \"optimizer\": \"adam\",\n",
    "    \"epochs\": 15,\n",
    "    \"batch_size\": 64,\n",
    "    \"vectorizer\": \"bigram_count\",\n",
    "    \"sample_id\": \"2\"\n",
    "}\n",
    "\n",
    "history = model.fit(train_dataset, epochs=15,\n",
    "                    validation_data=test_dataset,\n",
    "                    validation_steps=30,callbacks= [WandbCallback()])#[tensorboard_callback])\n",
    "run.finish()"
   ]
  },
  {
   "cell_type": "code",
   "execution_count": 258,
   "metadata": {},
   "outputs": [
    {
     "name": "stdout",
     "output_type": "stream",
     "text": [
      "47/47 [==============================] - 15s 315ms/step - loss: 0.1451 - accuracy: 0.2933\n",
      "Test Loss: 0.14508698880672455\n",
      "Test Accuracy: 0.2933333218097687\n"
     ]
    }
   ],
   "source": [
    "test_loss, test_acc = model.evaluate(test_dataset)\n",
    "\n",
    "print(\"Test Loss:\", test_loss)\n",
    "print(\"Test Accuracy:\", test_acc)"
   ]
  },
  {
   "cell_type": "code",
   "execution_count": 259,
   "metadata": {},
   "outputs": [
    {
     "data": {
      "text/plain": [
       "(0.0, 0.20453665629029275)"
      ]
     },
     "execution_count": 259,
     "metadata": {},
     "output_type": "execute_result"
    },
    {
     "data": {
      "image/png": "[encoded data removed]",
      "text/plain": [
       "<Figure size 1600x800 with 2 Axes>"
      ]
     },
     "metadata": {},
     "output_type": "display_data"
    }
   ],
   "source": [
    "plt.figure(figsize=(16,8))\n",
    "plt.subplot(1,2,1)\n",
    "plot_graphs(history, \"accuracy\")\n",
    "plt.ylim(None, 1)\n",
    "plt.subplot(1,2,2)\n",
    "plot_graphs(history, \"loss\")\n",
    "plt.ylim(0, None)"
   ]
  },
  {
   "cell_type": "code",
   "execution_count": 260,
   "metadata": {},
   "outputs": [
    {
     "name": "stdout",
     "output_type": "stream",
     "text": [
      "1/1 [==============================] - 2s 2s/step\n",
      "[-0.83230174 -0.5881312  -0.72808385 -1.3766881  -0.47701406 -1.691016\n",
      " -1.6386398  -2.0899758  -2.22078    -1.992463   -2.2498891  -2.1709085\n",
      " -2.7985034  -2.4707227  -1.913232   -2.2461414  -2.4142122  -2.259098\n",
      " -2.0527062  -2.7270398  -1.841383   -2.7015228  -2.4662309  -2.6163442\n",
      " -2.7581553  -2.0925198  -2.7239645  -2.6892343  -3.3885093  -3.1600597\n",
      " -2.5799189  -2.6601634  -2.6896782  -2.745635   -2.7574818  -2.440563\n",
      " -2.4531722  -2.9910467  -2.855484   -3.187737  ]\n"
     ]
    }
   ],
   "source": [
    "# predict on a sample text without padding\n",
    "sample_text = (\"g ( x ) = x ^ 3\")\n",
    "predictions = model.predict(np.array([sample_text]))\n",
    "print(predictions[0])"
   ]
  },
  {
   "attachments": {},
   "cell_type": "markdown",
   "metadata": {},
   "source": [
    "##### Experiment 5:"
   ]
  },
  {
   "cell_type": "code",
   "execution_count": 261,
   "metadata": {},
   "outputs": [
    {
     "name": "stdout",
     "output_type": "stream",
     "text": [
      "1/1 [==============================] - 2s 2s/step\n",
      "[-0.00707474  0.00284117 -0.00330093  0.00567339 -0.00058172  0.00245612\n",
      " -0.00207327  0.00090798 -0.00084923 -0.00125988  0.0058551   0.01314341\n",
      "  0.00127046 -0.0014255   0.00964162  0.00651603  0.00428762 -0.00120967\n",
      " -0.00345879  0.00617907  0.00515835  0.00058763 -0.00381829 -0.00329466\n",
      "  0.00562609  0.00418637 -0.00450963 -0.00588533  0.0004542  -0.00071292\n",
      " -0.00261393 -0.0053218  -0.00392864  0.00104584  0.01221902 -0.00182201\n",
      "  0.00376329 -0.002002   -0.01178719  0.001547  ]\n"
     ]
    }
   ],
   "source": [
    "model = create_model(encoder_tf_idf)\n",
    "# predict on a sample formula using untrained model\n",
    "sample_text = (\"g ( x ) = x ^ 3\")\n",
    "predictions = model.predict(np.array([sample_text]))\n",
    "print(predictions[0])"
   ]
  },
  {
   "cell_type": "code",
   "execution_count": 262,
   "metadata": {},
   "outputs": [],
   "source": [
    "model.compile(loss=tf.keras.losses.BinaryCrossentropy(from_logits=True),\n",
    "              optimizer=tf.keras.optimizers.Adam(1e-3),\n",
    "              metrics=[\"accuracy\"])"
   ]
  },
  {
   "cell_type": "code",
   "execution_count": 263,
   "metadata": {},
   "outputs": [
    {
     "name": "stdout",
     "output_type": "stream",
     "text": [
      "Epoch 1/15\n",
      "338/338 [==============================] - ETA: 0s - loss: 0.2064 - accuracy: 0.4108"
     ]
    },
    {
     "name": "stderr",
     "output_type": "stream",
     "text": [
      "WARNING:absl:Found untraced functions such as lstm_cell_25_layer_call_fn, lstm_cell_25_layer_call_and_return_conditional_losses, lstm_cell_26_layer_call_fn, lstm_cell_26_layer_call_and_return_conditional_losses while saving (showing 4 of 4). These functions will not be directly callable after loading.\n"
     ]
    },
    {
     "name": "stdout",
     "output_type": "stream",
     "text": [
      "INFO:tensorflow:Assets written to: c:\\Users\\prdie\\OneDrive\\Sources\\sem_math_repo\\classification\\wandb\\run-20230109_024127-ydg3l7td\\files\\model-best\\assets\n"
     ]
    },
    {
     "name": "stderr",
     "output_type": "stream",
     "text": [
      "INFO:tensorflow:Assets written to: c:\\Users\\prdie\\OneDrive\\Sources\\sem_math_repo\\classification\\wandb\\run-20230109_024127-ydg3l7td\\files\\model-best\\assets\n"
     ]
    },
    {
     "name": "stdout",
     "output_type": "stream",
     "text": [
      "338/338 [==============================] - 198s 564ms/step - loss: 0.2064 - accuracy: 0.4108 - val_loss: 0.1464 - val_accuracy: 0.2698\n",
      "Epoch 2/15\n",
      "338/338 [==============================] - 168s 497ms/step - loss: 0.1417 - accuracy: 0.4613 - val_loss: 0.1464 - val_accuracy: 0.4828\n",
      "Epoch 3/15\n",
      "338/338 [==============================] - ETA: 0s - loss: 0.1393 - accuracy: 0.4958"
     ]
    },
    {
     "name": "stderr",
     "output_type": "stream",
     "text": [
      "WARNING:absl:Found untraced functions such as lstm_cell_25_layer_call_fn, lstm_cell_25_layer_call_and_return_conditional_losses, lstm_cell_26_layer_call_fn, lstm_cell_26_layer_call_and_return_conditional_losses while saving (showing 4 of 4). These functions will not be directly callable after loading.\n"
     ]
    },
    {
     "name": "stdout",
     "output_type": "stream",
     "text": [
      "INFO:tensorflow:Assets written to: c:\\Users\\prdie\\OneDrive\\Sources\\sem_math_repo\\classification\\wandb\\run-20230109_024127-ydg3l7td\\files\\model-best\\assets\n"
     ]
    },
    {
     "name": "stderr",
     "output_type": "stream",
     "text": [
      "INFO:tensorflow:Assets written to: c:\\Users\\prdie\\OneDrive\\Sources\\sem_math_repo\\classification\\wandb\\run-20230109_024127-ydg3l7td\\files\\model-best\\assets\n"
     ]
    },
    {
     "name": "stdout",
     "output_type": "stream",
     "text": [
      "338/338 [==============================] - 190s 561ms/step - loss: 0.1393 - accuracy: 0.4958 - val_loss: 0.1416 - val_accuracy: 0.5339\n",
      "Epoch 4/15\n",
      "338/338 [==============================] - 170s 502ms/step - loss: 0.1379 - accuracy: 0.5045 - val_loss: 0.1432 - val_accuracy: 0.5349\n",
      "Epoch 5/15\n",
      "338/338 [==============================] - ETA: 0s - loss: 0.1371 - accuracy: 0.5112"
     ]
    },
    {
     "name": "stderr",
     "output_type": "stream",
     "text": [
      "WARNING:absl:Found untraced functions such as lstm_cell_25_layer_call_fn, lstm_cell_25_layer_call_and_return_conditional_losses, lstm_cell_26_layer_call_fn, lstm_cell_26_layer_call_and_return_conditional_losses while saving (showing 4 of 4). These functions will not be directly callable after loading.\n"
     ]
    },
    {
     "name": "stdout",
     "output_type": "stream",
     "text": [
      "INFO:tensorflow:Assets written to: c:\\Users\\prdie\\OneDrive\\Sources\\sem_math_repo\\classification\\wandb\\run-20230109_024127-ydg3l7td\\files\\model-best\\assets\n"
     ]
    },
    {
     "name": "stderr",
     "output_type": "stream",
     "text": [
      "INFO:tensorflow:Assets written to: c:\\Users\\prdie\\OneDrive\\Sources\\sem_math_repo\\classification\\wandb\\run-20230109_024127-ydg3l7td\\files\\model-best\\assets\n"
     ]
    },
    {
     "name": "stdout",
     "output_type": "stream",
     "text": [
      "338/338 [==============================] - 191s 565ms/step - loss: 0.1371 - accuracy: 0.5112 - val_loss: 0.1399 - val_accuracy: 0.5771\n",
      "Epoch 6/15\n",
      "338/338 [==============================] - 168s 496ms/step - loss: 0.1367 - accuracy: 0.5156 - val_loss: 0.1410 - val_accuracy: 0.5714\n",
      "Epoch 7/15\n",
      "338/338 [==============================] - 168s 497ms/step - loss: 0.1360 - accuracy: 0.5192 - val_loss: 0.1420 - val_accuracy: 0.3130\n",
      "Epoch 8/15\n",
      "338/338 [==============================] - ETA: 0s - loss: 0.1357 - accuracy: 0.5198"
     ]
    },
    {
     "name": "stderr",
     "output_type": "stream",
     "text": [
      "WARNING:absl:Found untraced functions such as lstm_cell_25_layer_call_fn, lstm_cell_25_layer_call_and_return_conditional_losses, lstm_cell_26_layer_call_fn, lstm_cell_26_layer_call_and_return_conditional_losses while saving (showing 4 of 4). These functions will not be directly callable after loading.\n"
     ]
    },
    {
     "name": "stdout",
     "output_type": "stream",
     "text": [
      "INFO:tensorflow:Assets written to: c:\\Users\\prdie\\OneDrive\\Sources\\sem_math_repo\\classification\\wandb\\run-20230109_024127-ydg3l7td\\files\\model-best\\assets\n"
     ]
    },
    {
     "name": "stderr",
     "output_type": "stream",
     "text": [
      "INFO:tensorflow:Assets written to: c:\\Users\\prdie\\OneDrive\\Sources\\sem_math_repo\\classification\\wandb\\run-20230109_024127-ydg3l7td\\files\\model-best\\assets\n"
     ]
    },
    {
     "name": "stdout",
     "output_type": "stream",
     "text": [
      "338/338 [==============================] - 191s 565ms/step - loss: 0.1357 - accuracy: 0.5198 - val_loss: 0.1385 - val_accuracy: 0.5344\n",
      "Epoch 9/15\n",
      "338/338 [==============================] - ETA: 0s - loss: 0.1354 - accuracy: 0.5250"
     ]
    },
    {
     "name": "stderr",
     "output_type": "stream",
     "text": [
      "WARNING:absl:Found untraced functions such as lstm_cell_25_layer_call_fn, lstm_cell_25_layer_call_and_return_conditional_losses, lstm_cell_26_layer_call_fn, lstm_cell_26_layer_call_and_return_conditional_losses while saving (showing 4 of 4). These functions will not be directly callable after loading.\n"
     ]
    },
    {
     "name": "stdout",
     "output_type": "stream",
     "text": [
      "INFO:tensorflow:Assets written to: c:\\Users\\prdie\\OneDrive\\Sources\\sem_math_repo\\classification\\wandb\\run-20230109_024127-ydg3l7td\\files\\model-best\\assets\n"
     ]
    },
    {
     "name": "stderr",
     "output_type": "stream",
     "text": [
      "INFO:tensorflow:Assets written to: c:\\Users\\prdie\\OneDrive\\Sources\\sem_math_repo\\classification\\wandb\\run-20230109_024127-ydg3l7td\\files\\model-best\\assets\n"
     ]
    },
    {
     "name": "stdout",
     "output_type": "stream",
     "text": [
      "338/338 [==============================] - 188s 556ms/step - loss: 0.1354 - accuracy: 0.5250 - val_loss: 0.1361 - val_accuracy: 0.5703\n",
      "Epoch 10/15\n",
      "338/338 [==============================] - 168s 497ms/step - loss: 0.1352 - accuracy: 0.5225 - val_loss: 0.1409 - val_accuracy: 0.3422\n",
      "Epoch 11/15\n",
      "338/338 [==============================] - 167s 495ms/step - loss: 0.1350 - accuracy: 0.5232 - val_loss: 0.1411 - val_accuracy: 0.3464\n",
      "Epoch 12/15\n",
      "338/338 [==============================] - 168s 496ms/step - loss: 0.1348 - accuracy: 0.5240 - val_loss: 0.1393 - val_accuracy: 0.5484\n",
      "Epoch 13/15\n",
      "338/338 [==============================] - 169s 500ms/step - loss: 0.1346 - accuracy: 0.5251 - val_loss: 0.1370 - val_accuracy: 0.3552\n",
      "Epoch 14/15\n",
      "338/338 [==============================] - ETA: 0s - loss: 0.1345 - accuracy: 0.5215"
     ]
    },
    {
     "name": "stderr",
     "output_type": "stream",
     "text": [
      "WARNING:absl:Found untraced functions such as lstm_cell_25_layer_call_fn, lstm_cell_25_layer_call_and_return_conditional_losses, lstm_cell_26_layer_call_fn, lstm_cell_26_layer_call_and_return_conditional_losses while saving (showing 4 of 4). These functions will not be directly callable after loading.\n"
     ]
    },
    {
     "name": "stdout",
     "output_type": "stream",
     "text": [
      "INFO:tensorflow:Assets written to: c:\\Users\\prdie\\OneDrive\\Sources\\sem_math_repo\\classification\\wandb\\run-20230109_024127-ydg3l7td\\files\\model-best\\assets\n"
     ]
    },
    {
     "name": "stderr",
     "output_type": "stream",
     "text": [
      "INFO:tensorflow:Assets written to: c:\\Users\\prdie\\OneDrive\\Sources\\sem_math_repo\\classification\\wandb\\run-20230109_024127-ydg3l7td\\files\\model-best\\assets\n"
     ]
    },
    {
     "name": "stdout",
     "output_type": "stream",
     "text": [
      "338/338 [==============================] - 189s 561ms/step - loss: 0.1345 - accuracy: 0.5215 - val_loss: 0.1360 - val_accuracy: 0.6047\n",
      "Epoch 15/15\n",
      "338/338 [==============================] - ETA: 0s - loss: 0.1343 - accuracy: 0.5246"
     ]
    },
    {
     "name": "stderr",
     "output_type": "stream",
     "text": [
      "WARNING:absl:Found untraced functions such as lstm_cell_25_layer_call_fn, lstm_cell_25_layer_call_and_return_conditional_losses, lstm_cell_26_layer_call_fn, lstm_cell_26_layer_call_and_return_conditional_losses while saving (showing 4 of 4). These functions will not be directly callable after loading.\n"
     ]
    },
    {
     "name": "stdout",
     "output_type": "stream",
     "text": [
      "INFO:tensorflow:Assets written to: c:\\Users\\prdie\\OneDrive\\Sources\\sem_math_repo\\classification\\wandb\\run-20230109_024127-ydg3l7td\\files\\model-best\\assets\n"
     ]
    },
    {
     "name": "stderr",
     "output_type": "stream",
     "text": [
      "INFO:tensorflow:Assets written to: c:\\Users\\prdie\\OneDrive\\Sources\\sem_math_repo\\classification\\wandb\\run-20230109_024127-ydg3l7td\\files\\model-best\\assets\n"
     ]
    },
    {
     "name": "stdout",
     "output_type": "stream",
     "text": [
      "338/338 [==============================] - 190s 561ms/step - loss: 0.1343 - accuracy: 0.5246 - val_loss: 0.1352 - val_accuracy: 0.5807\n"
     ]
    }
   ],
   "source": [
    "run = wandb.init(project=\"multi_label_everything_v1\", reinit=True)\n",
    "wandb.config = {\n",
    "    \"learning_rate\": 1e-3,\n",
    "    \"optimizer\": \"adam\",\n",
    "    \"epochs\": 15,\n",
    "    \"batch_size\": 64,\n",
    "    \"vectorizer\": \"tf_idf\",\n",
    "    \"sample_id\": \"2\"\n",
    "}\n",
    "\n",
    "history = model.fit(train_dataset, epochs=15,\n",
    "                    validation_data=test_dataset,\n",
    "                    validation_steps=30,callbacks= [WandbCallback()])#[tensorboard_callback])\n",
    "run.finish()"
   ]
  },
  {
   "cell_type": "code",
   "execution_count": 264,
   "metadata": {},
   "outputs": [
    {
     "name": "stdout",
     "output_type": "stream",
     "text": [
      "47/47 [==============================] - 4s 93ms/step - loss: 0.1367 - accuracy: 0.5767\n",
      "Test Loss: 0.13673630356788635\n",
      "Test Accuracy: 0.5766666531562805\n"
     ]
    }
   ],
   "source": [
    "test_loss, test_acc = model.evaluate(test_dataset)\n",
    "\n",
    "print(\"Test Loss:\", test_loss)\n",
    "print(\"Test Accuracy:\", test_acc)"
   ]
  },
  {
   "cell_type": "code",
   "execution_count": 265,
   "metadata": {},
   "outputs": [
    {
     "data": {
      "text/plain": [
       "(0.0, 0.21004279404878617)"
      ]
     },
     "execution_count": 265,
     "metadata": {},
     "output_type": "execute_result"
    },
    {
     "data": {
      "image/png": "[encoded data removed]",
      "text/plain": [
       "<Figure size 1600x800 with 2 Axes>"
      ]
     },
     "metadata": {},
     "output_type": "display_data"
    }
   ],
   "source": [
    "plt.figure(figsize=(16,8))\n",
    "plt.subplot(1,2,1)\n",
    "plot_graphs(history, \"accuracy\")\n",
    "plt.ylim(None, 1)\n",
    "plt.subplot(1,2,2)\n",
    "plot_graphs(history, \"loss\")\n",
    "plt.ylim(0, None)"
   ]
  },
  {
   "cell_type": "code",
   "execution_count": 266,
   "metadata": {},
   "outputs": [
    {
     "name": "stdout",
     "output_type": "stream",
     "text": [
      "1/1 [==============================] - 3s 3s/step\n",
      "[-2.1666944   0.03069463 -1.0758876  -3.1969934  -2.2509148  -2.4395015\n",
      " -3.5541692  -3.7295766  -3.7613022  -3.6314368  -4.2550774  -3.1800485\n",
      " -5.1689234  -4.5936933  -3.3040614  -3.7817369  -5.0883136  -3.4443617\n",
      " -3.6924982  -4.986865   -4.272576   -5.6622834  -3.9385839  -4.292074\n",
      " -5.323247   -4.3891463  -5.0754786  -3.980844   -6.0996666  -5.6994963\n",
      " -5.3923173  -4.243978   -4.085831   -5.2278075  -5.6907144  -6.0844593\n",
      " -5.0961313  -4.559098   -4.5952706  -6.203444  ]\n"
     ]
    }
   ],
   "source": [
    "# predict on a sample text without padding\n",
    "sample_text = (\"g ( x ) = x ^ 3\")\n",
    "predictions = model.predict(np.array([sample_text]))\n",
    "print(predictions[0])"
   ]
  }
 ],
 "metadata": {
  "kernelspec": {
   "display_name": "sem_math_env",
   "language": "python",
   "name": "python3"
  },
  "language_info": {
   "codemirror_mode": {
    "name": "ipython",
    "version": 3
   },
   "file_extension": ".py",
   "mimetype": "text/x-python",
   "name": "python",
   "nbconvert_exporter": "python",
   "pygments_lexer": "ipython3",
   "version": "3.10.9"
  },
  "orig_nbformat": 4,
  "vscode": {
   "interpreter": {
    "hash": "71a9a05a8d236729134f51de1f1fd612c9215f2a378954bc400639bac96e00eb"
   }
  }
 },
 "nbformat": 4,
 "nbformat_minor": 2
}
