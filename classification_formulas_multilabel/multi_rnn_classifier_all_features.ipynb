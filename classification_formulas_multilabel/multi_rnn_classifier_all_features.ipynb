{
 "cells": [
  {
   "cell_type": "code",
   "execution_count": 33,
   "metadata": {},
   "outputs": [],
   "source": [
    "import os\n",
    "\n",
    "# takes care of annoying TF-GPU warnings\n",
    "os.environ[\"CUDA_VISIBLE_DEVICES\"] = \"-1\"\n",
    "os.environ[\"TF_CPP_MIN_LOG_LEVEL\"] = \"3\"\n",
    "\n",
    "# remove useless Tensorflow warning:\n",
    "# WARNING:absl:Found untraced functions such as _update_step_xla, lstm_cell_1_layer_call_fn, \n",
    "# lstm_cell_1_layer_call_and_return_conditional_losses, lstm_cell_2_layer_call_fn, \n",
    "# lstm_cell_2_layer_call_and_return_conditional_losses while saving (showing 5 of 5). \n",
    "# These functions will not be directly callable after loading.\n",
    "import absl.logging\n",
    "absl.logging.set_verbosity(absl.logging.ERROR)"
   ]
  },
  {
   "cell_type": "code",
   "execution_count": 34,
   "metadata": {},
   "outputs": [],
   "source": [
    "# very useful for managing wandb runs: https://stackoverflow.com/questions/71106179/log-two-model-runs-with-keras-wandb\n",
    "import wandb\n",
    "from wandb.keras import WandbCallback\n",
    "os.environ[\"WANDB_SILENT\"] = \"true\""
   ]
  },
  {
   "attachments": {},
   "cell_type": "markdown",
   "metadata": {},
   "source": [
    "#### RNN: Formula Label Prediction (multi-label, all features)"
   ]
  },
  {
   "cell_type": "code",
   "execution_count": 35,
   "metadata": {},
   "outputs": [],
   "source": [
    "import numpy as np \n",
    "import pandas as pd\n",
    "from pathlib import Path \n",
    "import ast\n",
    "\n",
    "import tensorflow as tf\n",
    "\n",
    "import tensorflow_datasets as tfds\n",
    "import tensorflow_text as tf_text\n",
    "import keras_tuner as kt\n",
    "\n",
    "import datetime\n",
    "\n",
    "tfds.disable_progress_bar()\n",
    "wandb_project_name = \"multi_label_formula_classification\""
   ]
  },
  {
   "cell_type": "code",
   "execution_count": 36,
   "metadata": {},
   "outputs": [],
   "source": [
    "import matplotlib.pyplot as plt\n",
    "\n",
    "def plot_graphs(history, metric):\n",
    "    plt.plot(history.history[metric])\n",
    "    plt.plot(history.history[\"val_\"+metric], \"\")\n",
    "    plt.xlabel(\"Epochs\")\n",
    "    plt.ylabel(metric)\n",
    "    plt.legend([metric, \"val_\"+metric])"
   ]
  },
  {
   "attachments": {},
   "cell_type": "markdown",
   "metadata": {},
   "source": [
    "#### Import Data and Preprocess Dataframe"
   ]
  },
  {
   "cell_type": "code",
   "execution_count": 37,
   "metadata": {},
   "outputs": [],
   "source": [
    "def preprocess_data(corpus,\n",
    "                    irrelevant_features=[\"mtype\",]):\n",
    "    # drop irrelevant columns\n",
    "    corpus.drop(irrelevant_features, inplace=True, axis=1)\n",
    "\n",
    "    def cell_str_to_list(cell_val):\n",
    "        return ast.literal_eval(cell_val)\n",
    "\n",
    "    # filter strings\n",
    "    def process_cell(cell_str):\n",
    "        stripped_f_str = cell_str[1:-1].replace(\"\\\\\\\\\", \"\\\\\")\n",
    "        f_list = stripped_f_str.split(\",\")\n",
    "        f_list = [token.replace(\"'\", \"\").replace(\" \", \"\") for token in f_list]\n",
    "        f_list = [\"{\" if token == \"\\\\{\" else token for token in f_list]\n",
    "        f_list = [\"}\" if token == \"\\\\}\" else token for token in f_list]\n",
    "        cell_str = \" \".join(f_list)\n",
    "        return cell_str\n",
    "\n",
    "    corpus[\"type_tokens\"] = corpus[\"type_tokens\"].map(process_cell)\n",
    "    corpus[\"tokens\"] = corpus[\"tokens\"].map(process_cell)\n",
    "    corpus[\"mtype_one_hot\"] = corpus[\"mtype_one_hot\"].map(cell_str_to_list)\n",
    "    corpus[\"labels\"] = corpus[\"labels\"].map(cell_str_to_list)\n",
    "    corpus = corpus.loc[(corpus[\"tokens\"].str.len() > 0) & (corpus[\"tokens\"] != \" \")]\n"
   ]
  },
  {
   "cell_type": "code",
   "execution_count": 38,
   "metadata": {},
   "outputs": [
    {
     "data": {
      "text/html": [
       "<div>\n",
       "<style scoped>\n",
       "    .dataframe tbody tr th:only-of-type {\n",
       "        vertical-align: middle;\n",
       "    }\n",
       "\n",
       "    .dataframe tbody tr th {\n",
       "        vertical-align: top;\n",
       "    }\n",
       "\n",
       "    .dataframe thead th {\n",
       "        text-align: right;\n",
       "    }\n",
       "</style>\n",
       "<table border=\"1\" class=\"dataframe\">\n",
       "  <thead>\n",
       "    <tr style=\"text-align: right;\">\n",
       "      <th></th>\n",
       "      <th>tokens</th>\n",
       "      <th>type_tokens</th>\n",
       "      <th>labels</th>\n",
       "      <th>labels_str</th>\n",
       "      <th>mtype_one_hot</th>\n",
       "    </tr>\n",
       "  </thead>\n",
       "  <tbody>\n",
       "    <tr>\n",
       "      <th>0</th>\n",
       "      <td>f</td>\n",
       "      <td>func_name __ANON_1</td>\n",
       "      <td>[1, 0, 0, 0, 0, 0, 0, 0, 0, 0, 0, 0, 0, 0, 0, ...</td>\n",
       "      <td>['elementary-set-theory']</td>\n",
       "      <td>[0, 0, 1]</td>\n",
       "    </tr>\n",
       "    <tr>\n",
       "      <th>1</th>\n",
       "      <td>j : \\mathbb{N} \\rightarrow [ 0   1 ]</td>\n",
       "      <td>func_def func_name __ANON_1 COLON mapping set_...</td>\n",
       "      <td>[1, 0, 0, 0, 0, 0, 0, 0, 0, 0, 0, 0, 0, 0, 0, ...</td>\n",
       "      <td>['elementary-set-theory']</td>\n",
       "      <td>[0, 0, 1]</td>\n",
       "    </tr>\n",
       "    <tr>\n",
       "      <th>2</th>\n",
       "      <td>b</td>\n",
       "      <td>func_name __ANON_1</td>\n",
       "      <td>[1, 0, 0, 0, 0, 0, 0, 0, 0, 0, 0, 0, 0, 0, 0, ...</td>\n",
       "      <td>['elementary-set-theory']</td>\n",
       "      <td>[0, 0, 1]</td>\n",
       "    </tr>\n",
       "    <tr>\n",
       "      <th>3</th>\n",
       "      <td>mathbb{Q</td>\n",
       "      <td>set_constant SET_BASIC</td>\n",
       "      <td>[1, 0, 0, 0, 0, 0, 0, 0, 0, 0, 0, 0, 0, 0, 0, ...</td>\n",
       "      <td>['elementary-set-theory']</td>\n",
       "      <td>[1, 0, 0]</td>\n",
       "    </tr>\n",
       "    <tr>\n",
       "      <th>4</th>\n",
       "      <td>f</td>\n",
       "      <td>func_name __ANON_1</td>\n",
       "      <td>[1, 0, 0, 1, 0, 0, 0, 0, 0, 0, 0, 0, 0, 0, 0, ...</td>\n",
       "      <td>['functions', 'elementary-set-theory']</td>\n",
       "      <td>[0, 0, 1]</td>\n",
       "    </tr>\n",
       "  </tbody>\n",
       "</table>\n",
       "</div>"
      ],
      "text/plain": [
       "                                 tokens  \\\n",
       "0                                     f   \n",
       "1  j : \\mathbb{N} \\rightarrow [ 0   1 ]   \n",
       "2                                     b   \n",
       "3                              mathbb{Q   \n",
       "4                                     f   \n",
       "\n",
       "                                         type_tokens  \\\n",
       "0                                 func_name __ANON_1   \n",
       "1  func_def func_name __ANON_1 COLON mapping set_...   \n",
       "2                                 func_name __ANON_1   \n",
       "3                             set_constant SET_BASIC   \n",
       "4                                 func_name __ANON_1   \n",
       "\n",
       "                                              labels  \\\n",
       "0  [1, 0, 0, 0, 0, 0, 0, 0, 0, 0, 0, 0, 0, 0, 0, ...   \n",
       "1  [1, 0, 0, 0, 0, 0, 0, 0, 0, 0, 0, 0, 0, 0, 0, ...   \n",
       "2  [1, 0, 0, 0, 0, 0, 0, 0, 0, 0, 0, 0, 0, 0, 0, ...   \n",
       "3  [1, 0, 0, 0, 0, 0, 0, 0, 0, 0, 0, 0, 0, 0, 0, ...   \n",
       "4  [1, 0, 0, 1, 0, 0, 0, 0, 0, 0, 0, 0, 0, 0, 0, ...   \n",
       "\n",
       "                               labels_str mtype_one_hot  \n",
       "0               ['elementary-set-theory']     [0, 0, 1]  \n",
       "1               ['elementary-set-theory']     [0, 0, 1]  \n",
       "2               ['elementary-set-theory']     [0, 0, 1]  \n",
       "3               ['elementary-set-theory']     [1, 0, 0]  \n",
       "4  ['functions', 'elementary-set-theory']     [0, 0, 1]  "
      ]
     },
     "execution_count": 38,
     "metadata": {},
     "output_type": "execute_result"
    }
   ],
   "source": [
    "#print(os.getcwd())\n",
    "data_p = Path(\"../data/\") / \"multi_class_unbalanced_data_TOKENIZED_V1.csv\"\n",
    "data = pd.read_csv(data_p)\n",
    "preprocess_data(data)\n",
    "data.head()"
   ]
  },
  {
   "cell_type": "code",
   "execution_count": 39,
   "metadata": {},
   "outputs": [
    {
     "name": "stdout",
     "output_type": "stream",
     "text": [
      "254\n",
      "252\n"
     ]
    }
   ],
   "source": [
    "print(data[\"type_tokens\"].map(lambda x: len((x.split(\" \")))).max())\n",
    "print(data[\"tokens\"].map(lambda x: len((x.split(\" \")))).max())"
   ]
  },
  {
   "cell_type": "code",
   "execution_count": 40,
   "metadata": {},
   "outputs": [],
   "source": [
    "# ordinary datasets\n",
    "SMALL_TRAIN_SIZE = 24620 - 2460\n",
    "SMALL_TEST_SIZE = 2460\n",
    "LARGE_TRAIN_SIZE = 106523 - 10650\n",
    "LARGE_TEST_SIZE = 10650\n",
    "# compact datasets\n",
    "NUM_CLASSES = 40\n",
    "\n",
    "labels_array = np.array(data[\"labels\"].to_list())\n",
    "m_type_array = np.array(data[\"mtype_one_hot\"].to_list())\n",
    "data_as_ds = tf.data.Dataset.from_tensor_slices((data[\"tokens\"],data[\"type_tokens\"],m_type_array))\n",
    "labels_ds = tf.data.Dataset.from_tensor_slices(labels_array)\n",
    "data_as_ds = tf.data.Dataset.zip((data_as_ds, labels_ds))\n",
    "\n",
    "test_dataset = data_as_ds.take(SMALL_TEST_SIZE)\n",
    "train_dataset = data_as_ds.skip(SMALL_TEST_SIZE)"
   ]
  },
  {
   "cell_type": "code",
   "execution_count": 41,
   "metadata": {},
   "outputs": [
    {
     "data": {
      "text/plain": [
       "((TensorSpec(shape=(), dtype=tf.string, name=None),\n",
       "  TensorSpec(shape=(), dtype=tf.string, name=None),\n",
       "  TensorSpec(shape=(3,), dtype=tf.int64, name=None)),\n",
       " TensorSpec(shape=(40,), dtype=tf.int64, name=None))"
      ]
     },
     "execution_count": 41,
     "metadata": {},
     "output_type": "execute_result"
    }
   ],
   "source": [
    "data_as_ds.element_spec"
   ]
  },
  {
   "attachments": {},
   "cell_type": "markdown",
   "metadata": {},
   "source": [
    "##### Setup and Data Preparation"
   ]
  },
  {
   "cell_type": "code",
   "execution_count": 42,
   "metadata": {},
   "outputs": [
    {
     "name": "stdout",
     "output_type": "stream",
     "text": [
      "text:  b'{ 2   4 }'\n",
      "type:  b'explset L_BRACE_LITERAL set_enumeration item __ANON_3 COMMA item __ANON_3 R_BRACE_LITERAL'\n",
      "m_type:  [1 0 0]\n",
      "label:  [1 0 0 0 0 0 0 0 0 0 0 0 0 0 0 0 0 0 0 0 0 0 0 0 0 0 0 0 0 0 0 0 0 0 0 0 0\n",
      " 0 0 0]\n",
      "text:  b'f : I \\\\to X'\n",
      "type:  b'func_def func_name __ANON_1 COLON mapping __ANON_0 TO __ANON_0'\n",
      "m_type:  [0 0 1]\n",
      "label:  [1 0 0 0 0 0 0 0 0 0 0 0 0 0 0 0 0 0 0 0 0 0 0 0 0 0 0 0 0 0 0 0 0 0 0 0 0\n",
      " 0 0 0]\n",
      "text:  b'f ( a ) = 1'\n",
      "type:  b'func_expr func_name_arg func_name __ANON_1 L_PAREN __ANON_1 R_PAREN EQUAL expr_atom __ANON_3'\n",
      "m_type:  [0 0 1]\n",
      "label:  [1 0 0 0 0 0 0 0 0 0 0 0 1 0 0 0 0 0 0 0 0 0 0 0 0 0 0 0 0 0 0 0 0 0 0 0 0\n",
      " 0 0 0]\n",
      "text:  b'x'\n",
      "type:  b'func_name __ANON_1'\n",
      "m_type:  [0 0 1]\n",
      "label:  [1 0 0 0 0 0 0 0 0 0 0 0 0 0 0 0 0 0 0 0 0 0 0 0 0 0 0 0 0 0 0 0 0 0 0 0 0\n",
      " 0 0 0]\n",
      "text:  b'f : X \\\\to Y'\n",
      "type:  b'func_def func_name __ANON_1 COLON mapping __ANON_0 TO __ANON_0'\n",
      "m_type:  [0 0 1]\n",
      "label:  [1 0 0 0 0 0 0 0 0 0 0 0 1 0 0 0 0 0 0 0 0 0 0 0 0 0 0 0 0 0 0 0 0 0 0 0 0\n",
      " 0 0 0]\n"
     ]
    }
   ],
   "source": [
    "for (example_token, example_type, example_m_type), label in train_dataset.take(5):\n",
    "    print(\"text: \", example_token.numpy())\n",
    "    print(\"type: \", example_type.numpy())\n",
    "    print(\"m_type: \", example_m_type.numpy())\n",
    "    print(\"label: \", label.numpy())"
   ]
  },
  {
   "cell_type": "code",
   "execution_count": 43,
   "metadata": {},
   "outputs": [],
   "source": [
    "BUFFER_SIZE = 2000\n",
    "BATCH_SIZE = 64\n",
    "STEPS_PER_EPOCH = np.floor(SMALL_TRAIN_SIZE/BATCH_SIZE)\n",
    "VAL_STEPS_PER_EPOCH = np.floor(SMALL_TEST_SIZE/BATCH_SIZE)\n",
    "train_dataset = train_dataset.shuffle(BUFFER_SIZE).batch(BATCH_SIZE, drop_remainder=True).prefetch(tf.data.AUTOTUNE)\n",
    "test_dataset = test_dataset.batch(BATCH_SIZE, drop_remainder=True).prefetch(tf.data.AUTOTUNE)"
   ]
  },
  {
   "attachments": {},
   "cell_type": "markdown",
   "metadata": {},
   "source": [
    "##### Text Encoding"
   ]
  },
  {
   "cell_type": "code",
   "execution_count": 44,
   "metadata": {},
   "outputs": [],
   "source": [
    "# for int encoder\n",
    "TYPE_TOKENS_MAX_SEQ_LEN = 260\n",
    "TOKENS_MAX_SEQ_LEN = 260\n",
    "\n",
    "# for other encoders \n",
    "TYPE_TOKENS_PAD_TO_MAX_TOKENS = 80\n",
    "TOKENS_PAD_TO_MAX_TOKENS = 200\n",
    "BIGRAM_PAD_TO_MAX_TOKENS = 350"
   ]
  },
  {
   "cell_type": "code",
   "execution_count": 45,
   "metadata": {},
   "outputs": [],
   "source": [
    "def create_encoder(output_mode_str, n_grams, mode):\n",
    "    if output_mode_str == \"int\":\n",
    "        VOCAB_SIZE = 200\n",
    "        if mode == \"token\":\n",
    "            max_seq_len = TOKENS_MAX_SEQ_LEN\n",
    "        elif mode == \"type\":\n",
    "            max_seq_len = TYPE_TOKENS_MAX_SEQ_LEN\n",
    "\n",
    "        encoder = tf.keras.layers.TextVectorization(\n",
    "            standardize=None,\n",
    "            output_mode=output_mode_str,\n",
    "            ngrams = n_grams,\n",
    "            output_sequence_length = max_seq_len,\n",
    "            split=\"whitespace\",\n",
    "            max_tokens=VOCAB_SIZE)\n",
    "        #TODO: adapt for different inputs\n",
    "        if mode == \"token\": \n",
    "            encoder.adapt(train_dataset.map(lambda inputs, label: inputs[0])) # removes the label column through transformation: text, label -> text\n",
    "        elif mode == \"type\":\n",
    "            encoder.adapt(train_dataset.map(lambda inputs, label: inputs[1])) # removes the label column through transformation: text, label -> text\n",
    "        return encoder\n",
    "    \n",
    "    if output_mode_str == \"count\" and n_grams == 2:\n",
    "        max_seq_len = BIGRAM_PAD_TO_MAX_TOKENS\n",
    "        encoder = tf.keras.layers.TextVectorization(\n",
    "            standardize=None,\n",
    "            output_mode=output_mode_str,\n",
    "            ngrams = n_grams,\n",
    "            pad_to_max_tokens = max_seq_len,\n",
    "            split=\"whitespace\",\n",
    "            max_tokens=max_seq_len)\n",
    "        \n",
    "        #TODO: adapt for different inputs\n",
    "        if mode == \"token\": \n",
    "            encoder.adapt(train_dataset.map(lambda inputs, label: inputs[0])) # removes the label column through transformation: text, label -> text\n",
    "        elif mode == \"type\":\n",
    "            encoder.adapt(train_dataset.map(lambda inputs, label: inputs[1])) # removes the label column through transformation: text, label -> text\n",
    "        return encoder\n",
    "    \n",
    "    if mode == \"token\":\n",
    "        max_seq_len = TOKENS_PAD_TO_MAX_TOKENS\n",
    "    elif mode == \"type\":\n",
    "        max_seq_len = TYPE_TOKENS_PAD_TO_MAX_TOKENS\n",
    "\n",
    "    encoder = tf.keras.layers.TextVectorization(\n",
    "        standardize=None,\n",
    "        output_mode=output_mode_str,\n",
    "        ngrams = n_grams,\n",
    "        pad_to_max_tokens = max_seq_len,\n",
    "        split=\"whitespace\",\n",
    "        max_tokens=max_seq_len)\n",
    "    #TODO: adapt for different inputs\n",
    "    if mode == \"token\": \n",
    "        encoder.adapt(train_dataset.map(lambda inputs, label: inputs[0])) # removes the label column through transformation: text, label -> text\n",
    "    elif mode == \"type\":\n",
    "        encoder.adapt(train_dataset.map(lambda inputs, label: inputs[1])) # removes the label column through transformation: text, label -> text\n",
    "    \n",
    "    return encoder\n",
    "\n",
    "\n",
    "    "
   ]
  },
  {
   "attachments": {},
   "cell_type": "markdown",
   "metadata": {},
   "source": [
    "##### Representation 1: Use integer indices encoding"
   ]
  },
  {
   "cell_type": "code",
   "execution_count": 46,
   "metadata": {},
   "outputs": [
    {
     "name": "stdout",
     "output_type": "stream",
     "text": [
      "tokens (voc size):  128\n",
      "types (voc size):  61\n"
     ]
    }
   ],
   "source": [
    "encoder_int_tokens = create_encoder(\"int\", None, \"token\")\n",
    "encoder_int_types = create_encoder(\"int\", None, \"type\")\n",
    "\n",
    "vocab_tokens = np.array(encoder_int_tokens.get_vocabulary())\n",
    "vocab_size_tokens = len(encoder_int_tokens.get_vocabulary())\n",
    "vocab_types = np.array(encoder_int_types.get_vocabulary())\n",
    "vocab_size_types = len(encoder_int_types.get_vocabulary())\n",
    "\n",
    "print(\"tokens (voc size): \", vocab_size_tokens)\n",
    "print(\"types (voc size): \", vocab_size_types)"
   ]
  },
  {
   "cell_type": "code",
   "execution_count": 47,
   "metadata": {},
   "outputs": [
    {
     "name": "stdout",
     "output_type": "stream",
     "text": [
      "tokens: \n",
      "tf.Tensor(b'f : X \\\\to Y', shape=(), dtype=string)\n",
      "[ 2 11 26 14 35  0  0  0  0  0  0  0  0  0  0  0  0  0  0  0  0  0  0  0\n",
      "  0  0  0  0  0  0  0  0  0  0  0  0  0  0  0  0  0  0  0  0  0  0  0  0\n",
      "  0  0  0  0  0  0  0  0  0  0  0  0  0  0  0  0  0  0  0  0  0  0  0  0\n",
      "  0  0  0  0  0  0  0  0  0  0  0  0  0  0  0  0  0  0  0  0  0  0  0  0\n",
      "  0  0  0  0  0  0  0  0  0  0  0  0  0  0  0  0  0  0  0  0  0  0  0  0\n",
      "  0  0  0  0  0  0  0  0  0  0  0  0  0  0  0  0  0  0  0  0  0  0  0  0\n",
      "  0  0  0  0  0  0  0  0  0  0  0  0  0  0  0  0  0  0  0  0  0  0  0  0\n",
      "  0  0  0  0  0  0  0  0  0  0  0  0  0  0  0  0  0  0  0  0  0  0  0  0\n",
      "  0  0  0  0  0  0  0  0  0  0  0  0  0  0  0  0  0  0  0  0  0  0  0  0\n",
      "  0  0  0  0  0  0  0  0  0  0  0  0  0  0  0  0  0  0  0  0  0  0  0  0\n",
      "  0  0  0  0  0  0  0  0  0  0  0  0  0  0  0  0  0  0  0  0]\n",
      "(260,)\n",
      "types: \n",
      "tf.Tensor(b'func_def func_name __ANON_1 COLON mapping __ANON_0 TO __ANON_0', shape=(), dtype=string)\n",
      "[15  5  3 13 14  6 16  6  0  0  0  0  0  0  0  0  0  0  0  0  0  0  0  0\n",
      "  0  0  0  0  0  0  0  0  0  0  0  0  0  0  0  0  0  0  0  0  0  0  0  0\n",
      "  0  0  0  0  0  0  0  0  0  0  0  0  0  0  0  0  0  0  0  0  0  0  0  0\n",
      "  0  0  0  0  0  0  0  0  0  0  0  0  0  0  0  0  0  0  0  0  0  0  0  0\n",
      "  0  0  0  0  0  0  0  0  0  0  0  0  0  0  0  0  0  0  0  0  0  0  0  0\n",
      "  0  0  0  0  0  0  0  0  0  0  0  0  0  0  0  0  0  0  0  0  0  0  0  0\n",
      "  0  0  0  0  0  0  0  0  0  0  0  0  0  0  0  0  0  0  0  0  0  0  0  0\n",
      "  0  0  0  0  0  0  0  0  0  0  0  0  0  0  0  0  0  0  0  0  0  0  0  0\n",
      "  0  0  0  0  0  0  0  0  0  0  0  0  0  0  0  0  0  0  0  0  0  0  0  0\n",
      "  0  0  0  0  0  0  0  0  0  0  0  0  0  0  0  0  0  0  0  0  0  0  0  0\n",
      "  0  0  0  0  0  0  0  0  0  0  0  0  0  0  0  0  0  0  0  0]\n",
      "(260,)\n"
     ]
    }
   ],
   "source": [
    "encoded_example_token = encoder_int_tokens(example_token).numpy()\n",
    "encoded_example_types = encoder_int_types(example_type).numpy()\n",
    "\n",
    "print(\"tokens: \")\n",
    "print(example_token)\n",
    "print(encoded_example_token)\n",
    "print(encoded_example_token.shape)\n",
    "\n",
    "print(\"types: \")\n",
    "print(example_type)\n",
    "print(encoded_example_types)\n",
    "print(encoded_example_types.shape)"
   ]
  },
  {
   "attachments": {},
   "cell_type": "markdown",
   "metadata": {},
   "source": [
    "##### Representation 2: Count Vectorizer"
   ]
  },
  {
   "cell_type": "code",
   "execution_count": 48,
   "metadata": {},
   "outputs": [
    {
     "name": "stdout",
     "output_type": "stream",
     "text": [
      "tokens (voc size):  127\n",
      "types (voc size):  60\n"
     ]
    }
   ],
   "source": [
    "encoder_count_tokens = create_encoder(\"count\", None, \"token\")\n",
    "encoder_count_types = create_encoder(\"count\", None, \"type\")\n",
    "\n",
    "vocab_tokens = np.array(encoder_count_tokens.get_vocabulary())\n",
    "vocab_size_tokens = len(encoder_count_tokens.get_vocabulary())\n",
    "vocab_types = np.array(encoder_count_types.get_vocabulary())\n",
    "vocab_size_types = len(encoder_count_types.get_vocabulary())\n",
    "\n",
    "print(\"tokens (voc size): \", vocab_size_tokens)\n",
    "print(\"types (voc size): \", vocab_size_types)"
   ]
  },
  {
   "cell_type": "code",
   "execution_count": 49,
   "metadata": {},
   "outputs": [
    {
     "name": "stdout",
     "output_type": "stream",
     "text": [
      "tokens: \n",
      "tf.Tensor(b'f : X \\\\to Y', shape=(), dtype=string)\n",
      "[0. 1. 0. 0. 0. 0. 0. 0. 0. 0. 1. 0. 0. 1. 0. 0. 0. 0. 0. 0. 0. 0. 0. 0.\n",
      " 0. 1. 0. 0. 0. 0. 0. 0. 0. 0. 1. 0. 0. 0. 0. 0. 0. 0. 0. 0. 0. 0. 0. 0.\n",
      " 0. 0. 0. 0. 0. 0. 0. 0. 0. 0. 0. 0. 0. 0. 0. 0. 0. 0. 0. 0. 0. 0. 0. 0.\n",
      " 0. 0. 0. 0. 0. 0. 0. 0. 0. 0. 0. 0. 0. 0. 0. 0. 0. 0. 0. 0. 0. 0. 0. 0.\n",
      " 0. 0. 0. 0. 0. 0. 0. 0. 0. 0. 0. 0. 0. 0. 0. 0. 0. 0. 0. 0. 0. 0. 0. 0.\n",
      " 0. 0. 0. 0. 0. 0. 0. 0. 0. 0. 0. 0. 0. 0. 0. 0. 0. 0. 0. 0. 0. 0. 0. 0.\n",
      " 0. 0. 0. 0. 0. 0. 0. 0. 0. 0. 0. 0. 0. 0. 0. 0. 0. 0. 0. 0. 0. 0. 0. 0.\n",
      " 0. 0. 0. 0. 0. 0. 0. 0. 0. 0. 0. 0. 0. 0. 0. 0. 0. 0. 0. 0. 0. 0. 0. 0.\n",
      " 0. 0. 0. 0. 0. 0. 0. 0.]\n",
      "(200,)\n",
      "types: \n",
      "tf.Tensor(b'func_def func_name __ANON_1 COLON mapping __ANON_0 TO __ANON_0', shape=(), dtype=string)\n",
      "[0. 0. 1. 0. 1. 2. 0. 0. 0. 0. 0. 0. 1. 1. 1. 1. 0. 0. 0. 0. 0. 0. 0. 0.\n",
      " 0. 0. 0. 0. 0. 0. 0. 0. 0. 0. 0. 0. 0. 0. 0. 0. 0. 0. 0. 0. 0. 0. 0. 0.\n",
      " 0. 0. 0. 0. 0. 0. 0. 0. 0. 0. 0. 0. 0. 0. 0. 0. 0. 0. 0. 0. 0. 0. 0. 0.\n",
      " 0. 0. 0. 0. 0. 0. 0. 0.]\n",
      "(80,)\n"
     ]
    }
   ],
   "source": [
    "encoded_example_token = encoder_count_tokens(example_token).numpy()\n",
    "encoded_example_types = encoder_count_types(example_type).numpy()\n",
    "\n",
    "print(\"tokens: \")\n",
    "print(example_token)\n",
    "print(encoded_example_token)\n",
    "print(encoded_example_token.shape)\n",
    "\n",
    "print(\"types: \")\n",
    "print(example_type)\n",
    "print(encoded_example_types)\n",
    "print(encoded_example_types.shape)"
   ]
  },
  {
   "attachments": {},
   "cell_type": "markdown",
   "metadata": {},
   "source": [
    "##### Model (Bidirectional LSTM with one layer)"
   ]
  },
  {
   "attachments": {},
   "cell_type": "markdown",
   "metadata": {},
   "source": [
    " **Define and compile model**"
   ]
  },
  {
   "cell_type": "code",
   "execution_count": 50,
   "metadata": {},
   "outputs": [],
   "source": [
    "def create_model(tokens_encoder, types_encoder, tokens_size, types_size, input_type, add_inp_emb_dim=1):\n",
    "    # model = create_model(encoder_count_tokens, encoder_count_types,tokens_input_len, \"float\", type_input_len)\n",
    "    embedding_input_dim = tokens_size + types_size + add_inp_emb_dim + 3 # 3 size of sem_type_model_input\n",
    "\n",
    "    tokens_model_input = tf.keras.layers.Input(dtype=tf.string, shape=(1,))\n",
    "    tokens_vectorized = tokens_encoder(tokens_model_input)\n",
    "\n",
    "    types_model_input = tf.keras.layers.Input(dtype=tf.string, shape=(1,))\n",
    "    types_vectorized = types_encoder(types_model_input)\n",
    "\n",
    "    if input_type == \"float\":\n",
    "        sem_type_model_input = tf.keras.layers.Input(dtype=tf.float32, shape=(3,))\n",
    "    elif input_type == \"int\":\n",
    "        sem_type_model_input = tf.keras.layers.Input(dtype=tf.int64, shape=(3,))\n",
    "\n",
    "    merged = tf.keras.layers.Concatenate(axis=1)([tokens_vectorized, types_vectorized, sem_type_model_input])\n",
    "\n",
    "    embedded = tf.keras.layers.Embedding(input_dim= embedding_input_dim,\n",
    "                                         output_dim=64,\n",
    "                                         # user masking to handle the variable sequence lengths\n",
    "                                         mask_zero=True)(merged)\n",
    "    bilstmed = tf.keras.layers.Bidirectional(tf.keras.layers.LSTM(64))(embedded)\n",
    "    densed1 = tf.keras.layers.Dense(64, activation=\"relu\")(bilstmed)\n",
    "    model_output = tf.keras.layers.Dense(40)(densed1)\n",
    "\n",
    "\n",
    "    model = tf.keras.models.Model(inputs=[tokens_model_input, types_model_input, sem_type_model_input], outputs=model_output)\n",
    "    return model\n"
   ]
  },
  {
   "attachments": {},
   "cell_type": "markdown",
   "metadata": {},
   "source": [
    " **Train the model**"
   ]
  },
  {
   "attachments": {},
   "cell_type": "markdown",
   "metadata": {},
   "source": [
    "##### Experiment 1: Use integer indices for encoding tokens"
   ]
  },
  {
   "cell_type": "code",
   "execution_count": 51,
   "metadata": {},
   "outputs": [],
   "source": [
    "### TENSORBOARD USAGE\n",
    "#log_dir = \"4_nlp_rnns/logs/fit/\" + datetime.datetime.now().strftime(\"%Y%m%d-%H%M%S\")\n",
    "#tensorboard_callback = tf.keras.callbacks.TensorBoard(log_dir=log_dir)"
   ]
  },
  {
   "cell_type": "code",
   "execution_count": 52,
   "metadata": {},
   "outputs": [
    {
     "data": {
      "text/plain": [
       "'\\nsample_text = \"( A \\\\cup B ) \\\\cap (C \\\\cup D )\"\\n# predict on a sample formula using untrained model\\npredictions = model.predict(np.array([sample_text]))\\nprint(predictions[0])\\n'"
      ]
     },
     "execution_count": 52,
     "metadata": {},
     "output_type": "execute_result"
    }
   ],
   "source": [
    "tokens_input_len = TOKENS_MAX_SEQ_LEN \n",
    "type_input_len = TYPE_TOKENS_MAX_SEQ_LEN\n",
    "\n",
    "model = create_model(encoder_int_tokens, encoder_int_types,tokens_input_len, type_input_len, \"int\")\n",
    "\"\"\"\n",
    "sample_text = \"( A \\cup B ) \\cap (C \\cup D )\"\n",
    "# predict on a sample formula using untrained model\n",
    "predictions = model.predict(np.array([sample_text]))\n",
    "print(predictions[0])\n",
    "\"\"\""
   ]
  },
  {
   "cell_type": "code",
   "execution_count": 53,
   "metadata": {},
   "outputs": [
    {
     "name": "stdout",
     "output_type": "stream",
     "text": [
      "Model: \"model_2\"\n",
      "__________________________________________________________________________________________________\n",
      " Layer (type)                   Output Shape         Param #     Connected to                     \n",
      "==================================================================================================\n",
      " input_7 (InputLayer)           [(None, 1)]          0           []                               \n",
      "                                                                                                  \n",
      " input_8 (InputLayer)           [(None, 1)]          0           []                               \n",
      "                                                                                                  \n",
      " text_vectorization_4 (TextVect  (None, 260)         0           ['input_7[0][0]']                \n",
      " orization)                                                                                       \n",
      "                                                                                                  \n",
      " text_vectorization_5 (TextVect  (None, 260)         0           ['input_8[0][0]']                \n",
      " orization)                                                                                       \n",
      "                                                                                                  \n",
      " input_9 (InputLayer)           [(None, 3)]          0           []                               \n",
      "                                                                                                  \n",
      " concatenate_2 (Concatenate)    (None, 523)          0           ['text_vectorization_4[0][0]',   \n",
      "                                                                  'text_vectorization_5[0][0]',   \n",
      "                                                                  'input_9[0][0]']                \n",
      "                                                                                                  \n",
      " embedding_2 (Embedding)        (None, 523, 64)      33536       ['concatenate_2[0][0]']          \n",
      "                                                                                                  \n",
      " bidirectional_2 (Bidirectional  (None, 128)         66048       ['embedding_2[0][0]']            \n",
      " )                                                                                                \n",
      "                                                                                                  \n",
      " dense_4 (Dense)                (None, 64)           8256        ['bidirectional_2[0][0]']        \n",
      "                                                                                                  \n",
      " dense_5 (Dense)                (None, 40)           2600        ['dense_4[0][0]']                \n",
      "                                                                                                  \n",
      "==================================================================================================\n",
      "Total params: 110,440\n",
      "Trainable params: 110,440\n",
      "Non-trainable params: 0\n",
      "__________________________________________________________________________________________________\n"
     ]
    }
   ],
   "source": [
    "model.summary()"
   ]
  },
  {
   "cell_type": "code",
   "execution_count": 54,
   "metadata": {},
   "outputs": [],
   "source": [
    "LEARNING_RATE = 1e-4\n",
    "NUM_EPOCHS = 60\n",
    "\n",
    "model.compile(loss=tf.keras.losses.BinaryCrossentropy(from_logits=True),\n",
    "              optimizer=tf.keras.optimizers.Adam(LEARNING_RATE),\n",
    "              metrics=[\"accuracy\"])"
   ]
  },
  {
   "cell_type": "code",
   "execution_count": 55,
   "metadata": {},
   "outputs": [
    {
     "name": "stdout",
     "output_type": "stream",
     "text": [
      "Epoch 1/60\n",
      "346/346 [==============================] - ETA: 0s - loss: 0.4337 - accuracy: 0.4047INFO:tensorflow:Assets written to: /home/paul_d/Sources/sem_math_repo/classification_formulas_multilabel/wandb/run-20230312_191148-8p0tpjdr/files/model-best/assets\n"
     ]
    },
    {
     "name": "stderr",
     "output_type": "stream",
     "text": [
      "INFO:tensorflow:Assets written to: /home/paul_d/Sources/sem_math_repo/classification_formulas_multilabel/wandb/run-20230312_191148-8p0tpjdr/files/model-best/assets\n"
     ]
    },
    {
     "name": "stdout",
     "output_type": "stream",
     "text": [
      "346/346 [==============================] - 98s 273ms/step - loss: 0.4337 - accuracy: 0.4047 - val_loss: 0.1834 - val_accuracy: 0.0979\n",
      "Epoch 2/60\n",
      "346/346 [==============================] - 80s 231ms/step - loss: 0.1500 - accuracy: 0.5968 - val_loss: 0.1886 - val_accuracy: 0.0000e+00\n",
      "Epoch 3/60\n",
      "346/346 [==============================] - 79s 229ms/step - loss: 0.1456 - accuracy: 0.5287 - val_loss: 0.1835 - val_accuracy: 0.0000e+00\n",
      "Epoch 4/60\n",
      "346/346 [==============================] - ETA: 0s - loss: 0.1452 - accuracy: 0.5014INFO:tensorflow:Assets written to: /home/paul_d/Sources/sem_math_repo/classification_formulas_multilabel/wandb/run-20230312_191148-8p0tpjdr/files/model-best/assets\n"
     ]
    },
    {
     "name": "stderr",
     "output_type": "stream",
     "text": [
      "INFO:tensorflow:Assets written to: /home/paul_d/Sources/sem_math_repo/classification_formulas_multilabel/wandb/run-20230312_191148-8p0tpjdr/files/model-best/assets\n"
     ]
    },
    {
     "name": "stdout",
     "output_type": "stream",
     "text": [
      "346/346 [==============================] - 94s 272ms/step - loss: 0.1452 - accuracy: 0.5014 - val_loss: 0.1801 - val_accuracy: 0.0000e+00\n",
      "Epoch 5/60\n",
      "346/346 [==============================] - ETA: 0s - loss: 0.1452 - accuracy: 0.4925INFO:tensorflow:Assets written to: /home/paul_d/Sources/sem_math_repo/classification_formulas_multilabel/wandb/run-20230312_191148-8p0tpjdr/files/model-best/assets\n"
     ]
    },
    {
     "name": "stderr",
     "output_type": "stream",
     "text": [
      "INFO:tensorflow:Assets written to: /home/paul_d/Sources/sem_math_repo/classification_formulas_multilabel/wandb/run-20230312_191148-8p0tpjdr/files/model-best/assets\n"
     ]
    },
    {
     "name": "stdout",
     "output_type": "stream",
     "text": [
      "346/346 [==============================] - 96s 277ms/step - loss: 0.1452 - accuracy: 0.4925 - val_loss: 0.1778 - val_accuracy: 0.0000e+00\n",
      "Epoch 6/60\n",
      "346/346 [==============================] - ETA: 0s - loss: 0.1456 - accuracy: 0.4730INFO:tensorflow:Assets written to: /home/paul_d/Sources/sem_math_repo/classification_formulas_multilabel/wandb/run-20230312_191148-8p0tpjdr/files/model-best/assets\n"
     ]
    },
    {
     "name": "stderr",
     "output_type": "stream",
     "text": [
      "INFO:tensorflow:Assets written to: /home/paul_d/Sources/sem_math_repo/classification_formulas_multilabel/wandb/run-20230312_191148-8p0tpjdr/files/model-best/assets\n"
     ]
    },
    {
     "name": "stdout",
     "output_type": "stream",
     "text": [
      "346/346 [==============================] - 95s 273ms/step - loss: 0.1456 - accuracy: 0.4730 - val_loss: 0.1768 - val_accuracy: 0.0000e+00\n",
      "Epoch 7/60\n",
      "346/346 [==============================] - 79s 228ms/step - loss: 0.1444 - accuracy: 0.4848 - val_loss: 0.1909 - val_accuracy: 0.0000e+00\n",
      "Epoch 8/60\n",
      "346/346 [==============================] - 79s 229ms/step - loss: 0.1455 - accuracy: 0.4704 - val_loss: 0.1817 - val_accuracy: 0.0000e+00\n",
      "Epoch 9/60\n",
      "346/346 [==============================] - 79s 228ms/step - loss: 0.1452 - accuracy: 0.4645 - val_loss: 0.1784 - val_accuracy: 0.0000e+00\n",
      "Epoch 10/60\n",
      "346/346 [==============================] - 79s 228ms/step - loss: 0.1446 - accuracy: 0.4817 - val_loss: 0.1785 - val_accuracy: 0.0000e+00\n",
      "Epoch 11/60\n",
      "346/346 [==============================] - ETA: 0s - loss: 0.1447 - accuracy: 0.4687INFO:tensorflow:Assets written to: /home/paul_d/Sources/sem_math_repo/classification_formulas_multilabel/wandb/run-20230312_191148-8p0tpjdr/files/model-best/assets\n"
     ]
    },
    {
     "name": "stderr",
     "output_type": "stream",
     "text": [
      "INFO:tensorflow:Assets written to: /home/paul_d/Sources/sem_math_repo/classification_formulas_multilabel/wandb/run-20230312_191148-8p0tpjdr/files/model-best/assets\n"
     ]
    },
    {
     "name": "stdout",
     "output_type": "stream",
     "text": [
      "346/346 [==============================] - 94s 271ms/step - loss: 0.1447 - accuracy: 0.4687 - val_loss: 0.1767 - val_accuracy: 0.0000e+00\n",
      "Epoch 12/60\n",
      "346/346 [==============================] - 79s 229ms/step - loss: 0.1438 - accuracy: 0.4947 - val_loss: 0.1777 - val_accuracy: 0.0000e+00\n",
      "Epoch 13/60\n",
      "346/346 [==============================] - ETA: 0s - loss: 0.1441 - accuracy: 0.4723INFO:tensorflow:Assets written to: /home/paul_d/Sources/sem_math_repo/classification_formulas_multilabel/wandb/run-20230312_191148-8p0tpjdr/files/model-best/assets\n"
     ]
    },
    {
     "name": "stderr",
     "output_type": "stream",
     "text": [
      "INFO:tensorflow:Assets written to: /home/paul_d/Sources/sem_math_repo/classification_formulas_multilabel/wandb/run-20230312_191148-8p0tpjdr/files/model-best/assets\n"
     ]
    },
    {
     "name": "stdout",
     "output_type": "stream",
     "text": [
      "346/346 [==============================] - 94s 272ms/step - loss: 0.1441 - accuracy: 0.4723 - val_loss: 0.1746 - val_accuracy: 0.0000e+00\n",
      "Epoch 14/60\n",
      "346/346 [==============================] - ETA: 0s - loss: 0.1428 - accuracy: 0.5016INFO:tensorflow:Assets written to: /home/paul_d/Sources/sem_math_repo/classification_formulas_multilabel/wandb/run-20230312_191148-8p0tpjdr/files/model-best/assets\n"
     ]
    },
    {
     "name": "stderr",
     "output_type": "stream",
     "text": [
      "INFO:tensorflow:Assets written to: /home/paul_d/Sources/sem_math_repo/classification_formulas_multilabel/wandb/run-20230312_191148-8p0tpjdr/files/model-best/assets\n"
     ]
    },
    {
     "name": "stdout",
     "output_type": "stream",
     "text": [
      "346/346 [==============================] - 94s 273ms/step - loss: 0.1428 - accuracy: 0.5016 - val_loss: 0.1711 - val_accuracy: 0.0000e+00\n",
      "Epoch 15/60\n",
      "346/346 [==============================] - 79s 229ms/step - loss: 0.1411 - accuracy: 0.5308 - val_loss: 0.1717 - val_accuracy: 0.0000e+00\n",
      "Epoch 16/60\n",
      "346/346 [==============================] - ETA: 0s - loss: 0.1402 - accuracy: 0.5353INFO:tensorflow:Assets written to: /home/paul_d/Sources/sem_math_repo/classification_formulas_multilabel/wandb/run-20230312_191148-8p0tpjdr/files/model-best/assets\n"
     ]
    },
    {
     "name": "stderr",
     "output_type": "stream",
     "text": [
      "INFO:tensorflow:Assets written to: /home/paul_d/Sources/sem_math_repo/classification_formulas_multilabel/wandb/run-20230312_191148-8p0tpjdr/files/model-best/assets\n"
     ]
    },
    {
     "name": "stdout",
     "output_type": "stream",
     "text": [
      "346/346 [==============================] - 95s 273ms/step - loss: 0.1402 - accuracy: 0.5353 - val_loss: 0.1702 - val_accuracy: 0.0000e+00\n",
      "Epoch 17/60\n",
      "346/346 [==============================] - 80s 231ms/step - loss: 0.1372 - accuracy: 0.5637 - val_loss: 0.1713 - val_accuracy: 0.0000e+00\n",
      "Epoch 18/60\n",
      "346/346 [==============================] - ETA: 0s - loss: 0.1362 - accuracy: 0.5675INFO:tensorflow:Assets written to: /home/paul_d/Sources/sem_math_repo/classification_formulas_multilabel/wandb/run-20230312_191148-8p0tpjdr/files/model-best/assets\n"
     ]
    },
    {
     "name": "stderr",
     "output_type": "stream",
     "text": [
      "INFO:tensorflow:Assets written to: /home/paul_d/Sources/sem_math_repo/classification_formulas_multilabel/wandb/run-20230312_191148-8p0tpjdr/files/model-best/assets\n"
     ]
    },
    {
     "name": "stdout",
     "output_type": "stream",
     "text": [
      "346/346 [==============================] - 95s 275ms/step - loss: 0.1362 - accuracy: 0.5675 - val_loss: 0.1638 - val_accuracy: 0.0000e+00\n",
      "Epoch 19/60\n",
      "346/346 [==============================] - ETA: 0s - loss: 0.1353 - accuracy: 0.5720INFO:tensorflow:Assets written to: /home/paul_d/Sources/sem_math_repo/classification_formulas_multilabel/wandb/run-20230312_191148-8p0tpjdr/files/model-best/assets\n"
     ]
    },
    {
     "name": "stderr",
     "output_type": "stream",
     "text": [
      "INFO:tensorflow:Assets written to: /home/paul_d/Sources/sem_math_repo/classification_formulas_multilabel/wandb/run-20230312_191148-8p0tpjdr/files/model-best/assets\n"
     ]
    },
    {
     "name": "stdout",
     "output_type": "stream",
     "text": [
      "346/346 [==============================] - 94s 273ms/step - loss: 0.1353 - accuracy: 0.5720 - val_loss: 0.1633 - val_accuracy: 0.0000e+00\n",
      "Epoch 20/60\n",
      "346/346 [==============================] - ETA: 0s - loss: 0.1344 - accuracy: 0.5769INFO:tensorflow:Assets written to: /home/paul_d/Sources/sem_math_repo/classification_formulas_multilabel/wandb/run-20230312_191148-8p0tpjdr/files/model-best/assets\n"
     ]
    },
    {
     "name": "stderr",
     "output_type": "stream",
     "text": [
      "INFO:tensorflow:Assets written to: /home/paul_d/Sources/sem_math_repo/classification_formulas_multilabel/wandb/run-20230312_191148-8p0tpjdr/files/model-best/assets\n"
     ]
    },
    {
     "name": "stdout",
     "output_type": "stream",
     "text": [
      "346/346 [==============================] - 94s 273ms/step - loss: 0.1344 - accuracy: 0.5769 - val_loss: 0.1623 - val_accuracy: 0.0000e+00\n",
      "Epoch 21/60\n",
      "346/346 [==============================] - ETA: 0s - loss: 0.1339 - accuracy: 0.5772INFO:tensorflow:Assets written to: /home/paul_d/Sources/sem_math_repo/classification_formulas_multilabel/wandb/run-20230312_191148-8p0tpjdr/files/model-best/assets\n"
     ]
    },
    {
     "name": "stderr",
     "output_type": "stream",
     "text": [
      "INFO:tensorflow:Assets written to: /home/paul_d/Sources/sem_math_repo/classification_formulas_multilabel/wandb/run-20230312_191148-8p0tpjdr/files/model-best/assets\n"
     ]
    },
    {
     "name": "stdout",
     "output_type": "stream",
     "text": [
      "346/346 [==============================] - 102s 295ms/step - loss: 0.1339 - accuracy: 0.5772 - val_loss: 0.1603 - val_accuracy: 0.0000e+00\n",
      "Epoch 22/60\n",
      "346/346 [==============================] - ETA: 0s - loss: 0.1327 - accuracy: 0.5845INFO:tensorflow:Assets written to: /home/paul_d/Sources/sem_math_repo/classification_formulas_multilabel/wandb/run-20230312_191148-8p0tpjdr/files/model-best/assets\n"
     ]
    },
    {
     "name": "stderr",
     "output_type": "stream",
     "text": [
      "INFO:tensorflow:Assets written to: /home/paul_d/Sources/sem_math_repo/classification_formulas_multilabel/wandb/run-20230312_191148-8p0tpjdr/files/model-best/assets\n"
     ]
    },
    {
     "name": "stdout",
     "output_type": "stream",
     "text": [
      "346/346 [==============================] - 94s 272ms/step - loss: 0.1327 - accuracy: 0.5845 - val_loss: 0.1598 - val_accuracy: 0.0267\n",
      "Epoch 23/60\n",
      "346/346 [==============================] - ETA: 0s - loss: 0.1325 - accuracy: 0.5863INFO:tensorflow:Assets written to: /home/paul_d/Sources/sem_math_repo/classification_formulas_multilabel/wandb/run-20230312_191148-8p0tpjdr/files/model-best/assets\n"
     ]
    },
    {
     "name": "stderr",
     "output_type": "stream",
     "text": [
      "INFO:tensorflow:Assets written to: /home/paul_d/Sources/sem_math_repo/classification_formulas_multilabel/wandb/run-20230312_191148-8p0tpjdr/files/model-best/assets\n"
     ]
    },
    {
     "name": "stdout",
     "output_type": "stream",
     "text": [
      "346/346 [==============================] - 91s 264ms/step - loss: 0.1325 - accuracy: 0.5863 - val_loss: 0.1583 - val_accuracy: 0.1628\n",
      "Epoch 24/60\n",
      "346/346 [==============================] - ETA: 0s - loss: 0.1322 - accuracy: 0.5893INFO:tensorflow:Assets written to: /home/paul_d/Sources/sem_math_repo/classification_formulas_multilabel/wandb/run-20230312_191148-8p0tpjdr/files/model-best/assets\n"
     ]
    },
    {
     "name": "stderr",
     "output_type": "stream",
     "text": [
      "INFO:tensorflow:Assets written to: /home/paul_d/Sources/sem_math_repo/classification_formulas_multilabel/wandb/run-20230312_191148-8p0tpjdr/files/model-best/assets\n"
     ]
    },
    {
     "name": "stdout",
     "output_type": "stream",
     "text": [
      "346/346 [==============================] - 93s 268ms/step - loss: 0.1322 - accuracy: 0.5893 - val_loss: 0.1575 - val_accuracy: 0.1805\n",
      "Epoch 25/60\n",
      "346/346 [==============================] - ETA: 0s - loss: 0.1322 - accuracy: 0.5863INFO:tensorflow:Assets written to: /home/paul_d/Sources/sem_math_repo/classification_formulas_multilabel/wandb/run-20230312_191148-8p0tpjdr/files/model-best/assets\n"
     ]
    },
    {
     "name": "stderr",
     "output_type": "stream",
     "text": [
      "INFO:tensorflow:Assets written to: /home/paul_d/Sources/sem_math_repo/classification_formulas_multilabel/wandb/run-20230312_191148-8p0tpjdr/files/model-best/assets\n"
     ]
    },
    {
     "name": "stdout",
     "output_type": "stream",
     "text": [
      "346/346 [==============================] - 91s 264ms/step - loss: 0.1322 - accuracy: 0.5863 - val_loss: 0.1544 - val_accuracy: 0.2019\n",
      "Epoch 26/60\n",
      "346/346 [==============================] - ETA: 0s - loss: 0.1319 - accuracy: 0.5863INFO:tensorflow:Assets written to: /home/paul_d/Sources/sem_math_repo/classification_formulas_multilabel/wandb/run-20230312_191148-8p0tpjdr/files/model-best/assets\n"
     ]
    },
    {
     "name": "stderr",
     "output_type": "stream",
     "text": [
      "INFO:tensorflow:Assets written to: /home/paul_d/Sources/sem_math_repo/classification_formulas_multilabel/wandb/run-20230312_191148-8p0tpjdr/files/model-best/assets\n"
     ]
    },
    {
     "name": "stdout",
     "output_type": "stream",
     "text": [
      "346/346 [==============================] - 93s 267ms/step - loss: 0.1319 - accuracy: 0.5863 - val_loss: 0.1533 - val_accuracy: 0.2056\n",
      "Epoch 27/60\n",
      "346/346 [==============================] - ETA: 0s - loss: 0.1314 - accuracy: 0.5914INFO:tensorflow:Assets written to: /home/paul_d/Sources/sem_math_repo/classification_formulas_multilabel/wandb/run-20230312_191148-8p0tpjdr/files/model-best/assets\n"
     ]
    },
    {
     "name": "stderr",
     "output_type": "stream",
     "text": [
      "INFO:tensorflow:Assets written to: /home/paul_d/Sources/sem_math_repo/classification_formulas_multilabel/wandb/run-20230312_191148-8p0tpjdr/files/model-best/assets\n"
     ]
    },
    {
     "name": "stdout",
     "output_type": "stream",
     "text": [
      "346/346 [==============================] - 92s 266ms/step - loss: 0.1314 - accuracy: 0.5914 - val_loss: 0.1512 - val_accuracy: 0.2233\n",
      "Epoch 28/60\n",
      "346/346 [==============================] - ETA: 0s - loss: 0.1316 - accuracy: 0.5870INFO:tensorflow:Assets written to: /home/paul_d/Sources/sem_math_repo/classification_formulas_multilabel/wandb/run-20230312_191148-8p0tpjdr/files/model-best/assets\n"
     ]
    },
    {
     "name": "stderr",
     "output_type": "stream",
     "text": [
      "INFO:tensorflow:Assets written to: /home/paul_d/Sources/sem_math_repo/classification_formulas_multilabel/wandb/run-20230312_191148-8p0tpjdr/files/model-best/assets\n"
     ]
    },
    {
     "name": "stdout",
     "output_type": "stream",
     "text": [
      "346/346 [==============================] - 92s 265ms/step - loss: 0.1316 - accuracy: 0.5870 - val_loss: 0.1498 - val_accuracy: 0.2475\n",
      "Epoch 29/60\n",
      "346/346 [==============================] - 77s 222ms/step - loss: 0.1303 - accuracy: 0.5993 - val_loss: 0.1501 - val_accuracy: 0.2775\n",
      "Epoch 30/60\n",
      "346/346 [==============================] - ETA: 0s - loss: 0.1301 - accuracy: 0.6013INFO:tensorflow:Assets written to: /home/paul_d/Sources/sem_math_repo/classification_formulas_multilabel/wandb/run-20230312_191148-8p0tpjdr/files/model-best/assets\n"
     ]
    },
    {
     "name": "stderr",
     "output_type": "stream",
     "text": [
      "INFO:tensorflow:Assets written to: /home/paul_d/Sources/sem_math_repo/classification_formulas_multilabel/wandb/run-20230312_191148-8p0tpjdr/files/model-best/assets\n"
     ]
    },
    {
     "name": "stdout",
     "output_type": "stream",
     "text": [
      "346/346 [==============================] - 92s 265ms/step - loss: 0.1301 - accuracy: 0.6013 - val_loss: 0.1487 - val_accuracy: 0.2956\n",
      "Epoch 31/60\n",
      "346/346 [==============================] - 78s 224ms/step - loss: 0.1301 - accuracy: 0.5951 - val_loss: 0.1523 - val_accuracy: 0.3084\n",
      "Epoch 32/60\n",
      "346/346 [==============================] - ETA: 0s - loss: 0.1300 - accuracy: 0.5971INFO:tensorflow:Assets written to: /home/paul_d/Sources/sem_math_repo/classification_formulas_multilabel/wandb/run-20230312_191148-8p0tpjdr/files/model-best/assets\n"
     ]
    },
    {
     "name": "stderr",
     "output_type": "stream",
     "text": [
      "INFO:tensorflow:Assets written to: /home/paul_d/Sources/sem_math_repo/classification_formulas_multilabel/wandb/run-20230312_191148-8p0tpjdr/files/model-best/assets\n"
     ]
    },
    {
     "name": "stdout",
     "output_type": "stream",
     "text": [
      "346/346 [==============================] - 94s 271ms/step - loss: 0.1300 - accuracy: 0.5971 - val_loss: 0.1485 - val_accuracy: 0.3647\n",
      "Epoch 33/60\n",
      "346/346 [==============================] - ETA: 0s - loss: 0.1298 - accuracy: 0.5959INFO:tensorflow:Assets written to: /home/paul_d/Sources/sem_math_repo/classification_formulas_multilabel/wandb/run-20230312_191148-8p0tpjdr/files/model-best/assets\n"
     ]
    },
    {
     "name": "stderr",
     "output_type": "stream",
     "text": [
      "INFO:tensorflow:Assets written to: /home/paul_d/Sources/sem_math_repo/classification_formulas_multilabel/wandb/run-20230312_191148-8p0tpjdr/files/model-best/assets\n"
     ]
    },
    {
     "name": "stdout",
     "output_type": "stream",
     "text": [
      "346/346 [==============================] - 100s 290ms/step - loss: 0.1298 - accuracy: 0.5959 - val_loss: 0.1470 - val_accuracy: 0.3869\n",
      "Epoch 34/60\n",
      "346/346 [==============================] - ETA: 0s - loss: 0.1297 - accuracy: 0.5942INFO:tensorflow:Assets written to: /home/paul_d/Sources/sem_math_repo/classification_formulas_multilabel/wandb/run-20230312_191148-8p0tpjdr/files/model-best/assets\n"
     ]
    },
    {
     "name": "stderr",
     "output_type": "stream",
     "text": [
      "INFO:tensorflow:Assets written to: /home/paul_d/Sources/sem_math_repo/classification_formulas_multilabel/wandb/run-20230312_191148-8p0tpjdr/files/model-best/assets\n"
     ]
    },
    {
     "name": "stdout",
     "output_type": "stream",
     "text": [
      "346/346 [==============================] - 106s 307ms/step - loss: 0.1297 - accuracy: 0.5942 - val_loss: 0.1459 - val_accuracy: 0.4153\n",
      "Epoch 35/60\n",
      "346/346 [==============================] - 93s 270ms/step - loss: 0.1294 - accuracy: 0.6003 - val_loss: 0.1476 - val_accuracy: 0.3380\n",
      "Epoch 36/60\n",
      "346/346 [==============================] - 92s 266ms/step - loss: 0.1291 - accuracy: 0.5967 - val_loss: 0.1459 - val_accuracy: 0.3713\n",
      "Epoch 37/60\n",
      "346/346 [==============================] - 91s 264ms/step - loss: 0.1289 - accuracy: 0.6002 - val_loss: 0.1488 - val_accuracy: 0.2648\n",
      "Epoch 38/60\n",
      "346/346 [==============================] - 91s 262ms/step - loss: 0.1290 - accuracy: 0.5949 - val_loss: 0.1469 - val_accuracy: 0.2738\n",
      "Epoch 39/60\n",
      "346/346 [==============================] - ETA: 0s - loss: 0.1293 - accuracy: 0.5964INFO:tensorflow:Assets written to: /home/paul_d/Sources/sem_math_repo/classification_formulas_multilabel/wandb/run-20230312_191148-8p0tpjdr/files/model-best/assets\n"
     ]
    },
    {
     "name": "stderr",
     "output_type": "stream",
     "text": [
      "INFO:tensorflow:Assets written to: /home/paul_d/Sources/sem_math_repo/classification_formulas_multilabel/wandb/run-20230312_191148-8p0tpjdr/files/model-best/assets\n"
     ]
    },
    {
     "name": "stdout",
     "output_type": "stream",
     "text": [
      "346/346 [==============================] - 118s 341ms/step - loss: 0.1293 - accuracy: 0.5964 - val_loss: 0.1435 - val_accuracy: 0.3762\n",
      "Epoch 40/60\n",
      "346/346 [==============================] - 110s 318ms/step - loss: 0.1292 - accuracy: 0.5951 - val_loss: 0.1436 - val_accuracy: 0.3499\n",
      "Epoch 41/60\n",
      "346/346 [==============================] - ETA: 0s - loss: 0.1289 - accuracy: 0.5967INFO:tensorflow:Assets written to: /home/paul_d/Sources/sem_math_repo/classification_formulas_multilabel/wandb/run-20230312_191148-8p0tpjdr/files/model-best/assets\n"
     ]
    },
    {
     "name": "stderr",
     "output_type": "stream",
     "text": [
      "INFO:tensorflow:Assets written to: /home/paul_d/Sources/sem_math_repo/classification_formulas_multilabel/wandb/run-20230312_191148-8p0tpjdr/files/model-best/assets\n"
     ]
    },
    {
     "name": "stdout",
     "output_type": "stream",
     "text": [
      "346/346 [==============================] - 144s 416ms/step - loss: 0.1289 - accuracy: 0.5967 - val_loss: 0.1430 - val_accuracy: 0.3660\n",
      "Epoch 42/60\n",
      "346/346 [==============================] - 105s 304ms/step - loss: 0.1286 - accuracy: 0.6001 - val_loss: 0.1437 - val_accuracy: 0.4449\n",
      "Epoch 43/60\n",
      "346/346 [==============================] - 93s 268ms/step - loss: 0.1285 - accuracy: 0.6013 - val_loss: 0.1436 - val_accuracy: 0.3684\n",
      "Epoch 44/60\n",
      "346/346 [==============================] - 88s 254ms/step - loss: 0.1284 - accuracy: 0.5973 - val_loss: 0.1434 - val_accuracy: 0.3503\n",
      "Epoch 45/60\n",
      "346/346 [==============================] - 96s 278ms/step - loss: 0.1284 - accuracy: 0.5972 - val_loss: 0.1432 - val_accuracy: 0.3030\n",
      "Epoch 46/60\n",
      "346/346 [==============================] - ETA: 0s - loss: 0.1285 - accuracy: 0.5991INFO:tensorflow:Assets written to: /home/paul_d/Sources/sem_math_repo/classification_formulas_multilabel/wandb/run-20230312_191148-8p0tpjdr/files/model-best/assets\n"
     ]
    },
    {
     "name": "stderr",
     "output_type": "stream",
     "text": [
      "INFO:tensorflow:Assets written to: /home/paul_d/Sources/sem_math_repo/classification_formulas_multilabel/wandb/run-20230312_191148-8p0tpjdr/files/model-best/assets\n"
     ]
    },
    {
     "name": "stdout",
     "output_type": "stream",
     "text": [
      "346/346 [==============================] - 115s 333ms/step - loss: 0.1285 - accuracy: 0.5991 - val_loss: 0.1420 - val_accuracy: 0.3174\n",
      "Epoch 47/60\n",
      "346/346 [==============================] - ETA: 0s - loss: 0.1283 - accuracy: 0.5993INFO:tensorflow:Assets written to: /home/paul_d/Sources/sem_math_repo/classification_formulas_multilabel/wandb/run-20230312_191148-8p0tpjdr/files/model-best/assets\n"
     ]
    },
    {
     "name": "stderr",
     "output_type": "stream",
     "text": [
      "INFO:tensorflow:Assets written to: /home/paul_d/Sources/sem_math_repo/classification_formulas_multilabel/wandb/run-20230312_191148-8p0tpjdr/files/model-best/assets\n"
     ]
    },
    {
     "name": "stdout",
     "output_type": "stream",
     "text": [
      "346/346 [==============================] - 122s 353ms/step - loss: 0.1283 - accuracy: 0.5993 - val_loss: 0.1392 - val_accuracy: 0.4560\n",
      "Epoch 48/60\n",
      "346/346 [==============================] - ETA: 0s - loss: 0.1281 - accuracy: 0.6031INFO:tensorflow:Assets written to: /home/paul_d/Sources/sem_math_repo/classification_formulas_multilabel/wandb/run-20230312_191148-8p0tpjdr/files/model-best/assets\n"
     ]
    },
    {
     "name": "stderr",
     "output_type": "stream",
     "text": [
      "INFO:tensorflow:Assets written to: /home/paul_d/Sources/sem_math_repo/classification_formulas_multilabel/wandb/run-20230312_191148-8p0tpjdr/files/model-best/assets\n"
     ]
    },
    {
     "name": "stdout",
     "output_type": "stream",
     "text": [
      "346/346 [==============================] - 134s 388ms/step - loss: 0.1281 - accuracy: 0.6031 - val_loss: 0.1391 - val_accuracy: 0.4576\n",
      "Epoch 49/60\n",
      "346/346 [==============================] - 119s 344ms/step - loss: 0.1281 - accuracy: 0.6034 - val_loss: 0.1397 - val_accuracy: 0.3775\n",
      "Epoch 50/60\n",
      "346/346 [==============================] - ETA: 0s - loss: 0.1279 - accuracy: 0.6066INFO:tensorflow:Assets written to: /home/paul_d/Sources/sem_math_repo/classification_formulas_multilabel/wandb/run-20230312_191148-8p0tpjdr/files/model-best/assets\n"
     ]
    },
    {
     "name": "stderr",
     "output_type": "stream",
     "text": [
      "INFO:tensorflow:Assets written to: /home/paul_d/Sources/sem_math_repo/classification_formulas_multilabel/wandb/run-20230312_191148-8p0tpjdr/files/model-best/assets\n"
     ]
    },
    {
     "name": "stdout",
     "output_type": "stream",
     "text": [
      "346/346 [==============================] - 124s 359ms/step - loss: 0.1279 - accuracy: 0.6066 - val_loss: 0.1389 - val_accuracy: 0.4260\n",
      "Epoch 51/60\n",
      "346/346 [==============================] - ETA: 0s - loss: 0.1280 - accuracy: 0.6042INFO:tensorflow:Assets written to: /home/paul_d/Sources/sem_math_repo/classification_formulas_multilabel/wandb/run-20230312_191148-8p0tpjdr/files/model-best/assets\n"
     ]
    },
    {
     "name": "stderr",
     "output_type": "stream",
     "text": [
      "INFO:tensorflow:Assets written to: /home/paul_d/Sources/sem_math_repo/classification_formulas_multilabel/wandb/run-20230312_191148-8p0tpjdr/files/model-best/assets\n"
     ]
    },
    {
     "name": "stdout",
     "output_type": "stream",
     "text": [
      "346/346 [==============================] - 121s 349ms/step - loss: 0.1280 - accuracy: 0.6042 - val_loss: 0.1376 - val_accuracy: 0.4753\n",
      "Epoch 52/60\n",
      "346/346 [==============================] - ETA: 0s - loss: 0.1278 - accuracy: 0.6052INFO:tensorflow:Assets written to: /home/paul_d/Sources/sem_math_repo/classification_formulas_multilabel/wandb/run-20230312_191148-8p0tpjdr/files/model-best/assets\n"
     ]
    },
    {
     "name": "stderr",
     "output_type": "stream",
     "text": [
      "INFO:tensorflow:Assets written to: /home/paul_d/Sources/sem_math_repo/classification_formulas_multilabel/wandb/run-20230312_191148-8p0tpjdr/files/model-best/assets\n"
     ]
    },
    {
     "name": "stdout",
     "output_type": "stream",
     "text": [
      "346/346 [==============================] - 111s 320ms/step - loss: 0.1278 - accuracy: 0.6052 - val_loss: 0.1375 - val_accuracy: 0.4766\n",
      "Epoch 53/60\n",
      "346/346 [==============================] - ETA: 0s - loss: 0.1276 - accuracy: 0.6063INFO:tensorflow:Assets written to: /home/paul_d/Sources/sem_math_repo/classification_formulas_multilabel/wandb/run-20230312_191148-8p0tpjdr/files/model-best/assets\n"
     ]
    },
    {
     "name": "stderr",
     "output_type": "stream",
     "text": [
      "INFO:tensorflow:Assets written to: /home/paul_d/Sources/sem_math_repo/classification_formulas_multilabel/wandb/run-20230312_191148-8p0tpjdr/files/model-best/assets\n"
     ]
    },
    {
     "name": "stdout",
     "output_type": "stream",
     "text": [
      "346/346 [==============================] - 110s 318ms/step - loss: 0.1276 - accuracy: 0.6063 - val_loss: 0.1371 - val_accuracy: 0.4774\n",
      "Epoch 54/60\n",
      "346/346 [==============================] - ETA: 0s - loss: 0.1276 - accuracy: 0.6091INFO:tensorflow:Assets written to: /home/paul_d/Sources/sem_math_repo/classification_formulas_multilabel/wandb/run-20230312_191148-8p0tpjdr/files/model-best/assets\n"
     ]
    },
    {
     "name": "stderr",
     "output_type": "stream",
     "text": [
      "INFO:tensorflow:Assets written to: /home/paul_d/Sources/sem_math_repo/classification_formulas_multilabel/wandb/run-20230312_191148-8p0tpjdr/files/model-best/assets\n"
     ]
    },
    {
     "name": "stdout",
     "output_type": "stream",
     "text": [
      "346/346 [==============================] - 117s 337ms/step - loss: 0.1276 - accuracy: 0.6091 - val_loss: 0.1362 - val_accuracy: 0.4819\n",
      "Epoch 55/60\n",
      "346/346 [==============================] - ETA: 0s - loss: 0.1274 - accuracy: 0.6117INFO:tensorflow:Assets written to: /home/paul_d/Sources/sem_math_repo/classification_formulas_multilabel/wandb/run-20230312_191148-8p0tpjdr/files/model-best/assets\n"
     ]
    },
    {
     "name": "stderr",
     "output_type": "stream",
     "text": [
      "INFO:tensorflow:Assets written to: /home/paul_d/Sources/sem_math_repo/classification_formulas_multilabel/wandb/run-20230312_191148-8p0tpjdr/files/model-best/assets\n"
     ]
    },
    {
     "name": "stdout",
     "output_type": "stream",
     "text": [
      "346/346 [==============================] - 118s 341ms/step - loss: 0.1274 - accuracy: 0.6117 - val_loss: 0.1353 - val_accuracy: 0.4864\n",
      "Epoch 56/60\n",
      "346/346 [==============================] - 107s 308ms/step - loss: 0.1274 - accuracy: 0.6115 - val_loss: 0.1354 - val_accuracy: 0.4951\n",
      "Epoch 57/60\n",
      "346/346 [==============================] - ETA: 0s - loss: 0.1274 - accuracy: 0.6105INFO:tensorflow:Assets written to: /home/paul_d/Sources/sem_math_repo/classification_formulas_multilabel/wandb/run-20230312_191148-8p0tpjdr/files/model-best/assets\n"
     ]
    },
    {
     "name": "stderr",
     "output_type": "stream",
     "text": [
      "INFO:tensorflow:Assets written to: /home/paul_d/Sources/sem_math_repo/classification_formulas_multilabel/wandb/run-20230312_191148-8p0tpjdr/files/model-best/assets\n"
     ]
    },
    {
     "name": "stdout",
     "output_type": "stream",
     "text": [
      "346/346 [==============================] - 125s 362ms/step - loss: 0.1274 - accuracy: 0.6105 - val_loss: 0.1341 - val_accuracy: 0.4984\n",
      "Epoch 58/60\n",
      "346/346 [==============================] - 111s 321ms/step - loss: 0.1269 - accuracy: 0.6114 - val_loss: 0.1347 - val_accuracy: 0.4996\n",
      "Epoch 59/60\n",
      "346/346 [==============================] - ETA: 0s - loss: 0.1271 - accuracy: 0.6091INFO:tensorflow:Assets written to: /home/paul_d/Sources/sem_math_repo/classification_formulas_multilabel/wandb/run-20230312_191148-8p0tpjdr/files/model-best/assets\n"
     ]
    },
    {
     "name": "stderr",
     "output_type": "stream",
     "text": [
      "INFO:tensorflow:Assets written to: /home/paul_d/Sources/sem_math_repo/classification_formulas_multilabel/wandb/run-20230312_191148-8p0tpjdr/files/model-best/assets\n"
     ]
    },
    {
     "name": "stdout",
     "output_type": "stream",
     "text": [
      "346/346 [==============================] - 118s 341ms/step - loss: 0.1271 - accuracy: 0.6091 - val_loss: 0.1337 - val_accuracy: 0.5000\n",
      "Epoch 60/60\n",
      "346/346 [==============================] - 107s 309ms/step - loss: 0.1271 - accuracy: 0.6105 - val_loss: 0.1338 - val_accuracy: 0.5021\n"
     ]
    }
   ],
   "source": [
    "configs_dict = {\n",
    "    \"learning_rate\": LEARNING_RATE,\n",
    "    \"algorithm\": \"BiLstm\",\n",
    "    \"configuration\": \"small-ordinary-unbalanced-all-inputs\",\n",
    "    \"optimizer\": \"adam\",\n",
    "    \"loss\": \"binary_crossentropy\",\n",
    "    \"epochs\": NUM_EPOCHS,\n",
    "    \"batch_size\": 64,\n",
    "    \"vectorizer\": \"int\",\n",
    "    \"dataset\": \"multi_class_unbalanced_data_TOKENIZED_V1\"\n",
    "}\n",
    "\n",
    "run = wandb.init(project=wandb_project_name, reinit=True, config=configs_dict)\n",
    "\n",
    "history = model.fit(train_dataset, \n",
    "                    epochs=NUM_EPOCHS,\n",
    "                    validation_data=test_dataset,\n",
    "                    #steps_per_epoch = STEPS_PER_EPOCH,\n",
    "                    validation_steps = VAL_STEPS_PER_EPOCH,\n",
    "                    callbacks= [WandbCallback()])#[tensorboard_callback])\n",
    "run.finish()"
   ]
  },
  {
   "cell_type": "code",
   "execution_count": 56,
   "metadata": {},
   "outputs": [
    {
     "name": "stdout",
     "output_type": "stream",
     "text": [
      "38/38 [==============================] - 3s 88ms/step - loss: 0.1338 - accuracy: 0.5021\n",
      "Test Loss: 0.13376925885677338\n",
      "Test Accuracy: 0.5020559430122375\n"
     ]
    }
   ],
   "source": [
    "test_loss, test_acc = model.evaluate(test_dataset)\n",
    "\n",
    "print(\"Test Loss:\", test_loss)\n",
    "print(\"Test Accuracy:\", test_acc)"
   ]
  },
  {
   "cell_type": "code",
   "execution_count": 57,
   "metadata": {},
   "outputs": [
    {
     "data": {
      "text/plain": [
       "(0.0, 0.44901426434516906)"
      ]
     },
     "execution_count": 57,
     "metadata": {},
     "output_type": "execute_result"
    },
    {
     "data": {
      "image/png": "[encoded data removed]",
      "text/plain": [
       "<Figure size 1600x800 with 2 Axes>"
      ]
     },
     "metadata": {},
     "output_type": "display_data"
    }
   ],
   "source": [
    "plt.figure(figsize=(16,8))\n",
    "plt.subplot(1,2,1)\n",
    "plot_graphs(history, \"accuracy\")\n",
    "plt.ylim(None, 1)\n",
    "plt.subplot(1,2,2)\n",
    "plot_graphs(history, \"loss\")\n",
    "plt.ylim(0, None)"
   ]
  },
  {
   "cell_type": "code",
   "execution_count": 26,
   "metadata": {},
   "outputs": [
    {
     "data": {
      "text/plain": [
       "'\\npredictions = model.predict((np.array([example_token]), np.array([example_type])))\\nprint(predictions[0])\\n'"
      ]
     },
     "execution_count": 26,
     "metadata": {},
     "output_type": "execute_result"
    }
   ],
   "source": [
    "\n",
    "# predict on a sample text without padding\n",
    "\"\"\"\n",
    "predictions = model.predict((np.array([example_token]), np.array([example_type])))\n",
    "print(predictions[0])\n",
    "\"\"\""
   ]
  },
  {
   "attachments": {},
   "cell_type": "markdown",
   "metadata": {},
   "source": [
    "##### Experiment 2:"
   ]
  },
  {
   "cell_type": "code",
   "execution_count": 27,
   "metadata": {},
   "outputs": [],
   "source": [
    "tokens_input_len = TOKENS_PAD_TO_MAX_TOKENS \n",
    "type_input_len = TYPE_TOKENS_PAD_TO_MAX_TOKENS\n",
    "\n",
    "model = create_model(encoder_count_tokens, encoder_count_types,tokens_input_len, type_input_len, \"float\") # maybe add 30\n",
    "# predict on a sample formula using untrained model\n",
    "#predictions = model.predict(np.array([sample_text]))\n",
    "#print(predictions[0])"
   ]
  },
  {
   "cell_type": "code",
   "execution_count": 28,
   "metadata": {},
   "outputs": [],
   "source": [
    "LEARNING_RATE = 1e-4\n",
    "NUM_EPOCHS = 25\n",
    "model.compile(loss=tf.keras.losses.BinaryCrossentropy(from_logits=True),\n",
    "              optimizer=tf.keras.optimizers.Adam(LEARNING_RATE),\n",
    "              metrics=[\"accuracy\"])"
   ]
  },
  {
   "cell_type": "code",
   "execution_count": 29,
   "metadata": {},
   "outputs": [
    {
     "name": "stdout",
     "output_type": "stream",
     "text": [
      "Epoch 1/25\n",
      "346/346 [==============================] - ETA: 0s - loss: 0.4301 - accuracy: 0.2208INFO:tensorflow:Assets written to: /home/paul_d/Sources/sem_math_repo/classification_formulas_multilabel/wandb/run-20230312_182317-2o2mpr5q/files/model-best/assets\n"
     ]
    },
    {
     "name": "stderr",
     "output_type": "stream",
     "text": [
      "INFO:tensorflow:Assets written to: /home/paul_d/Sources/sem_math_repo/classification_formulas_multilabel/wandb/run-20230312_182317-2o2mpr5q/files/model-best/assets\n"
     ]
    },
    {
     "name": "stdout",
     "output_type": "stream",
     "text": [
      "346/346 [==============================] - 62s 171ms/step - loss: 0.4301 - accuracy: 0.2208 - val_loss: 0.2122 - val_accuracy: 0.0000e+00\n",
      "Epoch 2/25\n",
      "346/346 [==============================] - ETA: 0s - loss: 0.1594 - accuracy: 0.5362INFO:tensorflow:Assets written to: /home/paul_d/Sources/sem_math_repo/classification_formulas_multilabel/wandb/run-20230312_182317-2o2mpr5q/files/model-best/assets\n"
     ]
    },
    {
     "name": "stderr",
     "output_type": "stream",
     "text": [
      "INFO:tensorflow:Assets written to: /home/paul_d/Sources/sem_math_repo/classification_formulas_multilabel/wandb/run-20230312_182317-2o2mpr5q/files/model-best/assets\n"
     ]
    },
    {
     "name": "stdout",
     "output_type": "stream",
     "text": [
      "346/346 [==============================] - 58s 167ms/step - loss: 0.1594 - accuracy: 0.5362 - val_loss: 0.1864 - val_accuracy: 0.0000e+00\n",
      "Epoch 3/25\n",
      "346/346 [==============================] - ETA: 0s - loss: 0.1483 - accuracy: 0.5250INFO:tensorflow:Assets written to: /home/paul_d/Sources/sem_math_repo/classification_formulas_multilabel/wandb/run-20230312_182317-2o2mpr5q/files/model-best/assets\n"
     ]
    },
    {
     "name": "stderr",
     "output_type": "stream",
     "text": [
      "INFO:tensorflow:Assets written to: /home/paul_d/Sources/sem_math_repo/classification_formulas_multilabel/wandb/run-20230312_182317-2o2mpr5q/files/model-best/assets\n"
     ]
    },
    {
     "name": "stdout",
     "output_type": "stream",
     "text": [
      "346/346 [==============================] - 59s 171ms/step - loss: 0.1483 - accuracy: 0.5250 - val_loss: 0.1747 - val_accuracy: 0.0000e+00\n",
      "Epoch 4/25\n",
      "346/346 [==============================] - ETA: 0s - loss: 0.1468 - accuracy: 0.5109INFO:tensorflow:Assets written to: /home/paul_d/Sources/sem_math_repo/classification_formulas_multilabel/wandb/run-20230312_182317-2o2mpr5q/files/model-best/assets\n"
     ]
    },
    {
     "name": "stderr",
     "output_type": "stream",
     "text": [
      "INFO:tensorflow:Assets written to: /home/paul_d/Sources/sem_math_repo/classification_formulas_multilabel/wandb/run-20230312_182317-2o2mpr5q/files/model-best/assets\n"
     ]
    },
    {
     "name": "stdout",
     "output_type": "stream",
     "text": [
      "346/346 [==============================] - 61s 177ms/step - loss: 0.1468 - accuracy: 0.5109 - val_loss: 0.1708 - val_accuracy: 0.0000e+00\n",
      "Epoch 5/25\n",
      "346/346 [==============================] - ETA: 0s - loss: 0.1461 - accuracy: 0.5079INFO:tensorflow:Assets written to: /home/paul_d/Sources/sem_math_repo/classification_formulas_multilabel/wandb/run-20230312_182317-2o2mpr5q/files/model-best/assets\n"
     ]
    },
    {
     "name": "stderr",
     "output_type": "stream",
     "text": [
      "INFO:tensorflow:Assets written to: /home/paul_d/Sources/sem_math_repo/classification_formulas_multilabel/wandb/run-20230312_182317-2o2mpr5q/files/model-best/assets\n"
     ]
    },
    {
     "name": "stdout",
     "output_type": "stream",
     "text": [
      "346/346 [==============================] - 59s 171ms/step - loss: 0.1461 - accuracy: 0.5079 - val_loss: 0.1699 - val_accuracy: 0.0000e+00\n",
      "Epoch 6/25\n",
      "346/346 [==============================] - 44s 127ms/step - loss: 0.1458 - accuracy: 0.5070 - val_loss: 0.1703 - val_accuracy: 0.0000e+00\n",
      "Epoch 7/25\n",
      "346/346 [==============================] - 44s 127ms/step - loss: 0.1457 - accuracy: 0.5037 - val_loss: 0.1703 - val_accuracy: 0.0000e+00\n",
      "Epoch 8/25\n",
      "346/346 [==============================] - 43s 125ms/step - loss: 0.1457 - accuracy: 0.4984 - val_loss: 0.1709 - val_accuracy: 0.0000e+00\n",
      "Epoch 9/25\n",
      "346/346 [==============================] - 44s 126ms/step - loss: 0.1458 - accuracy: 0.4937 - val_loss: 0.1717 - val_accuracy: 0.0000e+00\n",
      "Epoch 10/25\n",
      "346/346 [==============================] - 44s 127ms/step - loss: 0.1459 - accuracy: 0.4855 - val_loss: 0.1722 - val_accuracy: 0.0000e+00\n",
      "Epoch 11/25\n",
      "346/346 [==============================] - 44s 127ms/step - loss: 0.1459 - accuracy: 0.4819 - val_loss: 0.1724 - val_accuracy: 0.0000e+00\n",
      "Epoch 12/25\n",
      "346/346 [==============================] - 44s 127ms/step - loss: 0.1461 - accuracy: 0.4737 - val_loss: 0.1728 - val_accuracy: 0.0000e+00\n",
      "Epoch 13/25\n",
      "346/346 [==============================] - 44s 127ms/step - loss: 0.1462 - accuracy: 0.4659 - val_loss: 0.1730 - val_accuracy: 0.0000e+00\n",
      "Epoch 14/25\n",
      "346/346 [==============================] - 44s 128ms/step - loss: 0.1463 - accuracy: 0.4618 - val_loss: 0.1729 - val_accuracy: 0.0000e+00\n",
      "Epoch 15/25\n",
      "346/346 [==============================] - 45s 129ms/step - loss: 0.1465 - accuracy: 0.4538 - val_loss: 0.1723 - val_accuracy: 0.0000e+00\n",
      "Epoch 16/25\n",
      "346/346 [==============================] - 44s 128ms/step - loss: 0.1466 - accuracy: 0.4469 - val_loss: 0.1716 - val_accuracy: 0.0000e+00\n",
      "Epoch 17/25\n",
      "346/346 [==============================] - 45s 129ms/step - loss: 0.1466 - accuracy: 0.4427 - val_loss: 0.1714 - val_accuracy: 0.0000e+00\n",
      "Epoch 18/25\n",
      "346/346 [==============================] - 45s 129ms/step - loss: 0.1468 - accuracy: 0.4346 - val_loss: 0.1705 - val_accuracy: 0.0000e+00\n",
      "Epoch 19/25\n",
      "346/346 [==============================] - ETA: 0s - loss: 0.1468 - accuracy: 0.4306INFO:tensorflow:Assets written to: /home/paul_d/Sources/sem_math_repo/classification_formulas_multilabel/wandb/run-20230312_182317-2o2mpr5q/files/model-best/assets\n"
     ]
    },
    {
     "name": "stderr",
     "output_type": "stream",
     "text": [
      "INFO:tensorflow:Assets written to: /home/paul_d/Sources/sem_math_repo/classification_formulas_multilabel/wandb/run-20230312_182317-2o2mpr5q/files/model-best/assets\n"
     ]
    },
    {
     "name": "stdout",
     "output_type": "stream",
     "text": [
      "346/346 [==============================] - 60s 172ms/step - loss: 0.1468 - accuracy: 0.4306 - val_loss: 0.1697 - val_accuracy: 0.0000e+00\n",
      "Epoch 20/25\n",
      "346/346 [==============================] - ETA: 0s - loss: 0.1471 - accuracy: 0.4236INFO:tensorflow:Assets written to: /home/paul_d/Sources/sem_math_repo/classification_formulas_multilabel/wandb/run-20230312_182317-2o2mpr5q/files/model-best/assets\n"
     ]
    },
    {
     "name": "stderr",
     "output_type": "stream",
     "text": [
      "INFO:tensorflow:Assets written to: /home/paul_d/Sources/sem_math_repo/classification_formulas_multilabel/wandb/run-20230312_182317-2o2mpr5q/files/model-best/assets\n"
     ]
    },
    {
     "name": "stdout",
     "output_type": "stream",
     "text": [
      "346/346 [==============================] - 58s 168ms/step - loss: 0.1471 - accuracy: 0.4236 - val_loss: 0.1682 - val_accuracy: 0.0000e+00\n",
      "Epoch 21/25\n",
      "346/346 [==============================] - ETA: 0s - loss: 0.1470 - accuracy: 0.4201INFO:tensorflow:Assets written to: /home/paul_d/Sources/sem_math_repo/classification_formulas_multilabel/wandb/run-20230312_182317-2o2mpr5q/files/model-best/assets\n"
     ]
    },
    {
     "name": "stderr",
     "output_type": "stream",
     "text": [
      "INFO:tensorflow:Assets written to: /home/paul_d/Sources/sem_math_repo/classification_formulas_multilabel/wandb/run-20230312_182317-2o2mpr5q/files/model-best/assets\n"
     ]
    },
    {
     "name": "stdout",
     "output_type": "stream",
     "text": [
      "346/346 [==============================] - 58s 169ms/step - loss: 0.1470 - accuracy: 0.4201 - val_loss: 0.1667 - val_accuracy: 0.0000e+00\n",
      "Epoch 22/25\n",
      "346/346 [==============================] - ETA: 0s - loss: 0.1469 - accuracy: 0.4191INFO:tensorflow:Assets written to: /home/paul_d/Sources/sem_math_repo/classification_formulas_multilabel/wandb/run-20230312_182317-2o2mpr5q/files/model-best/assets\n"
     ]
    },
    {
     "name": "stderr",
     "output_type": "stream",
     "text": [
      "INFO:tensorflow:Assets written to: /home/paul_d/Sources/sem_math_repo/classification_formulas_multilabel/wandb/run-20230312_182317-2o2mpr5q/files/model-best/assets\n"
     ]
    },
    {
     "name": "stdout",
     "output_type": "stream",
     "text": [
      "346/346 [==============================] - 58s 169ms/step - loss: 0.1469 - accuracy: 0.4191 - val_loss: 0.1664 - val_accuracy: 0.0000e+00\n",
      "Epoch 23/25\n",
      "346/346 [==============================] - ETA: 0s - loss: 0.1470 - accuracy: 0.4160INFO:tensorflow:Assets written to: /home/paul_d/Sources/sem_math_repo/classification_formulas_multilabel/wandb/run-20230312_182317-2o2mpr5q/files/model-best/assets\n"
     ]
    },
    {
     "name": "stderr",
     "output_type": "stream",
     "text": [
      "INFO:tensorflow:Assets written to: /home/paul_d/Sources/sem_math_repo/classification_formulas_multilabel/wandb/run-20230312_182317-2o2mpr5q/files/model-best/assets\n"
     ]
    },
    {
     "name": "stdout",
     "output_type": "stream",
     "text": [
      "346/346 [==============================] - 58s 168ms/step - loss: 0.1470 - accuracy: 0.4160 - val_loss: 0.1656 - val_accuracy: 0.0000e+00\n",
      "Epoch 24/25\n",
      "346/346 [==============================] - ETA: 0s - loss: 0.1470 - accuracy: 0.4127INFO:tensorflow:Assets written to: /home/paul_d/Sources/sem_math_repo/classification_formulas_multilabel/wandb/run-20230312_182317-2o2mpr5q/files/model-best/assets\n"
     ]
    },
    {
     "name": "stderr",
     "output_type": "stream",
     "text": [
      "INFO:tensorflow:Assets written to: /home/paul_d/Sources/sem_math_repo/classification_formulas_multilabel/wandb/run-20230312_182317-2o2mpr5q/files/model-best/assets\n"
     ]
    },
    {
     "name": "stdout",
     "output_type": "stream",
     "text": [
      "346/346 [==============================] - 59s 170ms/step - loss: 0.1470 - accuracy: 0.4127 - val_loss: 0.1647 - val_accuracy: 0.0000e+00\n",
      "Epoch 25/25\n",
      "346/346 [==============================] - ETA: 0s - loss: 0.1469 - accuracy: 0.4073INFO:tensorflow:Assets written to: /home/paul_d/Sources/sem_math_repo/classification_formulas_multilabel/wandb/run-20230312_182317-2o2mpr5q/files/model-best/assets\n"
     ]
    },
    {
     "name": "stderr",
     "output_type": "stream",
     "text": [
      "INFO:tensorflow:Assets written to: /home/paul_d/Sources/sem_math_repo/classification_formulas_multilabel/wandb/run-20230312_182317-2o2mpr5q/files/model-best/assets\n"
     ]
    },
    {
     "name": "stdout",
     "output_type": "stream",
     "text": [
      "346/346 [==============================] - 58s 168ms/step - loss: 0.1469 - accuracy: 0.4073 - val_loss: 0.1637 - val_accuracy: 0.0000e+00\n"
     ]
    }
   ],
   "source": [
    "configs_dict = {\n",
    "    \"learning_rate\": LEARNING_RATE,\n",
    "    \"algorithm\": \"BiLstm\",\n",
    "    \"configuration\": \"small-ordinary-unbalanced-all-inputs\",\n",
    "    \"optimizer\": \"adam\",\n",
    "    \"loss\": \"binary_crossentropy\",\n",
    "    \"epochs\": NUM_EPOCHS,\n",
    "    \"batch_size\": 64,\n",
    "    \"vectorizer\": \"count\",\n",
    "    \"dataset\": \"multi_class_unbalanced_data_TOKENIZED_V1\"\n",
    "}\n",
    "run = wandb.init(project=wandb_project_name, reinit=True, config=configs_dict)\n",
    "\n",
    "history = model.fit(train_dataset, \n",
    "                    epochs=NUM_EPOCHS,\n",
    "                    validation_data=test_dataset,\n",
    "                    steps_per_epoch = STEPS_PER_EPOCH,\n",
    "                    validation_steps = VAL_STEPS_PER_EPOCH,\n",
    "                    callbacks= [WandbCallback()])#[tensorboard_callback])\n",
    "run.finish()"
   ]
  },
  {
   "cell_type": "code",
   "execution_count": 30,
   "metadata": {},
   "outputs": [
    {
     "name": "stdout",
     "output_type": "stream",
     "text": [
      "38/38 [==============================] - 1s 39ms/step - loss: 0.1637 - accuracy: 0.0000e+00\n",
      "Test Loss: 0.1637251377105713\n",
      "Test Accuracy: 0.0\n"
     ]
    }
   ],
   "source": [
    "test_loss, test_acc = model.evaluate(test_dataset)\n",
    "\n",
    "print(\"Test Loss:\", test_loss)\n",
    "print(\"Test Accuracy:\", test_acc)"
   ]
  },
  {
   "cell_type": "code",
   "execution_count": 31,
   "metadata": {},
   "outputs": [
    {
     "data": {
      "text/plain": [
       "(0.0, 0.4443638429045677)"
      ]
     },
     "execution_count": 31,
     "metadata": {},
     "output_type": "execute_result"
    },
    {
     "data": {
      "image/png": "[encoded data removed]",
      "text/plain": [
       "<Figure size 1600x800 with 2 Axes>"
      ]
     },
     "metadata": {},
     "output_type": "display_data"
    }
   ],
   "source": [
    "plt.figure(figsize=(16,8))\n",
    "plt.subplot(1,2,1)\n",
    "plot_graphs(history, \"accuracy\")\n",
    "plt.ylim(None, 1)\n",
    "plt.subplot(1,2,2)\n",
    "plot_graphs(history, \"loss\")\n",
    "plt.ylim(0, None)"
   ]
  },
  {
   "cell_type": "code",
   "execution_count": 32,
   "metadata": {},
   "outputs": [
    {
     "data": {
      "text/plain": [
       "'\\n# predict on a sample text without padding\\npredictions = model.predict(np.array([sample_text]))\\nprint(predictions[0])\\n'"
      ]
     },
     "execution_count": 32,
     "metadata": {},
     "output_type": "execute_result"
    }
   ],
   "source": [
    "\"\"\"\n",
    "# predict on a sample text without padding\n",
    "predictions = model.predict(np.array([sample_text]))\n",
    "print(predictions[0])\n",
    "\"\"\""
   ]
  }
 ],
 "metadata": {
  "kernelspec": {
   "display_name": "sem_math_env",
   "language": "python",
   "name": "python3"
  },
  "language_info": {
   "codemirror_mode": {
    "name": "ipython",
    "version": 3
   },
   "file_extension": ".py",
   "mimetype": "text/x-python",
   "name": "python",
   "nbconvert_exporter": "python",
   "pygments_lexer": "ipython3",
   "version": "3.10.9"
  },
  "orig_nbformat": 4,
  "vscode": {
   "interpreter": {
    "hash": "71a9a05a8d236729134f51de1f1fd612c9215f2a378954bc400639bac96e00eb"
   }
  }
 },
 "nbformat": 4,
 "nbformat_minor": 2
}
