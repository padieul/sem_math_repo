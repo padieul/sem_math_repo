{
 "cells": [
  {
   "cell_type": "code",
   "execution_count": 19,
   "metadata": {},
   "outputs": [],
   "source": [
    "import os\n",
    "\n",
    "# takes care of annoying TF-GPU warnings\n",
    "os.environ[\"CUDA_VISIBLE_DEVICES\"] = \"-1\"\n",
    "os.environ[\"TF_CPP_MIN_LOG_LEVEL\"] = \"3\"\n",
    "\n",
    "# remove useless Tensorflow warning:\n",
    "# WARNING:absl:Found untraced functions such as _update_step_xla, lstm_cell_1_layer_call_fn, \n",
    "# lstm_cell_1_layer_call_and_return_conditional_losses, lstm_cell_2_layer_call_fn, \n",
    "# lstm_cell_2_layer_call_and_return_conditional_losses while saving (showing 5 of 5). \n",
    "# These functions will not be directly callable after loading.\n",
    "import absl.logging\n",
    "absl.logging.set_verbosity(absl.logging.ERROR)"
   ]
  },
  {
   "cell_type": "code",
   "execution_count": 20,
   "metadata": {},
   "outputs": [],
   "source": [
    "# very useful for managing wandb runs: https://stackoverflow.com/questions/71106179/log-two-model-runs-with-keras-wandb\n",
    "import wandb\n",
    "from wandb.keras import WandbCallback\n",
    "os.environ[\"WANDB_SILENT\"] = \"true\""
   ]
  },
  {
   "cell_type": "code",
   "execution_count": 21,
   "metadata": {},
   "outputs": [],
   "source": [
    "import multi_classifier_utils as mc_u"
   ]
  },
  {
   "attachments": {},
   "cell_type": "markdown",
   "metadata": {},
   "source": [
    "#### Logistic Regression: Formula Label Prediction (multi-label, all features)"
   ]
  },
  {
   "cell_type": "code",
   "execution_count": 22,
   "metadata": {},
   "outputs": [],
   "source": [
    "import numpy as np \n",
    "import pandas as pd\n",
    "from pathlib import Path \n",
    "import ast\n",
    "\n",
    "import tensorflow as tf\n",
    "import keras_tuner as kt\n",
    "\n",
    "import tensorflow_datasets as tfds\n",
    "import tensorflow_text as tf_text\n",
    "\n",
    "import datetime\n",
    "\n",
    "tfds.disable_progress_bar()\n",
    "wandb_project_name = \"multi_label_formula_classification\""
   ]
  },
  {
   "cell_type": "code",
   "execution_count": 23,
   "metadata": {},
   "outputs": [],
   "source": [
    "import matplotlib.pyplot as plt\n",
    "\n",
    "def plot_graphs(history, metric):\n",
    "    plt.plot(history.history[metric])\n",
    "    plt.plot(history.history[\"val_\"+metric], \"\")\n",
    "    plt.xlabel(\"Epochs\")\n",
    "    plt.ylabel(metric)\n",
    "    plt.legend([metric, \"val_\"+metric])"
   ]
  },
  {
   "attachments": {},
   "cell_type": "markdown",
   "metadata": {},
   "source": [
    "#### Import Data and Preprocess Dataframe"
   ]
  },
  {
   "cell_type": "code",
   "execution_count": 24,
   "metadata": {},
   "outputs": [],
   "source": [
    "def preprocess_data(corpus,\n",
    "                    irrelevant_features=[\"mtype\",]):\n",
    "    # drop irrelevant columns\n",
    "    corpus.drop(irrelevant_features, inplace=True, axis=1)\n",
    "\n",
    "    def cell_str_to_list(cell_val):\n",
    "        return ast.literal_eval(cell_val)\n",
    "\n",
    "    # filter strings\n",
    "    def process_cell(cell_str):\n",
    "        stripped_f_str = cell_str[1:-1].replace(\"\\\\\\\\\", \"\\\\\")\n",
    "        f_list = stripped_f_str.split(\",\")\n",
    "        f_list = [token.replace(\"'\", \"\").replace(\" \", \"\") for token in f_list]\n",
    "        f_list = [\"{\" if token == \"\\\\{\" else token for token in f_list]\n",
    "        f_list = [\"}\" if token == \"\\\\}\" else token for token in f_list]\n",
    "        cell_str = \" \".join(f_list)\n",
    "        return cell_str\n",
    "\n",
    "    corpus[\"type_tokens\"] = corpus[\"type_tokens\"].map(process_cell)\n",
    "    corpus[\"tokens\"] = corpus[\"tokens\"].map(process_cell)\n",
    "    corpus[\"mtype_one_hot\"] = corpus[\"mtype_one_hot\"].map(cell_str_to_list)\n",
    "    corpus[\"labels\"] = corpus[\"labels\"].map(cell_str_to_list)\n",
    "    corpus = corpus.loc[(corpus[\"tokens\"].str.len() > 0) & (corpus[\"tokens\"] != \" \")]\n"
   ]
  },
  {
   "cell_type": "code",
   "execution_count": 25,
   "metadata": {},
   "outputs": [
    {
     "data": {
      "text/html": [
       "<div>\n",
       "<style scoped>\n",
       "    .dataframe tbody tr th:only-of-type {\n",
       "        vertical-align: middle;\n",
       "    }\n",
       "\n",
       "    .dataframe tbody tr th {\n",
       "        vertical-align: top;\n",
       "    }\n",
       "\n",
       "    .dataframe thead th {\n",
       "        text-align: right;\n",
       "    }\n",
       "</style>\n",
       "<table border=\"1\" class=\"dataframe\">\n",
       "  <thead>\n",
       "    <tr style=\"text-align: right;\">\n",
       "      <th></th>\n",
       "      <th>tokens</th>\n",
       "      <th>type_tokens</th>\n",
       "      <th>labels</th>\n",
       "      <th>labels_str</th>\n",
       "      <th>mtype_one_hot</th>\n",
       "    </tr>\n",
       "  </thead>\n",
       "  <tbody>\n",
       "    <tr>\n",
       "      <th>0</th>\n",
       "      <td>f</td>\n",
       "      <td>func_name __ANON_1</td>\n",
       "      <td>[1, 0, 0, 0, 0, 0, 0, 0, 0, 0, 0, 0, 0, 0, 0, ...</td>\n",
       "      <td>['elementary-set-theory']</td>\n",
       "      <td>[0, 0, 1]</td>\n",
       "    </tr>\n",
       "    <tr>\n",
       "      <th>1</th>\n",
       "      <td>j : \\mathbb{N} \\rightarrow [ 0   1 ]</td>\n",
       "      <td>func_def func_name __ANON_1 COLON mapping set_...</td>\n",
       "      <td>[1, 0, 0, 0, 0, 0, 0, 0, 0, 0, 0, 0, 0, 0, 0, ...</td>\n",
       "      <td>['elementary-set-theory']</td>\n",
       "      <td>[0, 0, 1]</td>\n",
       "    </tr>\n",
       "    <tr>\n",
       "      <th>2</th>\n",
       "      <td>b</td>\n",
       "      <td>func_name __ANON_1</td>\n",
       "      <td>[1, 0, 0, 0, 0, 0, 0, 0, 0, 0, 0, 0, 0, 0, 0, ...</td>\n",
       "      <td>['elementary-set-theory']</td>\n",
       "      <td>[0, 0, 1]</td>\n",
       "    </tr>\n",
       "    <tr>\n",
       "      <th>3</th>\n",
       "      <td>mathbb{Q</td>\n",
       "      <td>set_constant SET_BASIC</td>\n",
       "      <td>[1, 0, 0, 0, 0, 0, 0, 0, 0, 0, 0, 0, 0, 0, 0, ...</td>\n",
       "      <td>['elementary-set-theory']</td>\n",
       "      <td>[1, 0, 0]</td>\n",
       "    </tr>\n",
       "    <tr>\n",
       "      <th>4</th>\n",
       "      <td>f</td>\n",
       "      <td>func_name __ANON_1</td>\n",
       "      <td>[1, 0, 0, 1, 0, 0, 0, 0, 0, 0, 0, 0, 0, 0, 0, ...</td>\n",
       "      <td>['functions', 'elementary-set-theory']</td>\n",
       "      <td>[0, 0, 1]</td>\n",
       "    </tr>\n",
       "  </tbody>\n",
       "</table>\n",
       "</div>"
      ],
      "text/plain": [
       "                                 tokens  \\\n",
       "0                                     f   \n",
       "1  j : \\mathbb{N} \\rightarrow [ 0   1 ]   \n",
       "2                                     b   \n",
       "3                              mathbb{Q   \n",
       "4                                     f   \n",
       "\n",
       "                                         type_tokens  \\\n",
       "0                                 func_name __ANON_1   \n",
       "1  func_def func_name __ANON_1 COLON mapping set_...   \n",
       "2                                 func_name __ANON_1   \n",
       "3                             set_constant SET_BASIC   \n",
       "4                                 func_name __ANON_1   \n",
       "\n",
       "                                              labels  \\\n",
       "0  [1, 0, 0, 0, 0, 0, 0, 0, 0, 0, 0, 0, 0, 0, 0, ...   \n",
       "1  [1, 0, 0, 0, 0, 0, 0, 0, 0, 0, 0, 0, 0, 0, 0, ...   \n",
       "2  [1, 0, 0, 0, 0, 0, 0, 0, 0, 0, 0, 0, 0, 0, 0, ...   \n",
       "3  [1, 0, 0, 0, 0, 0, 0, 0, 0, 0, 0, 0, 0, 0, 0, ...   \n",
       "4  [1, 0, 0, 1, 0, 0, 0, 0, 0, 0, 0, 0, 0, 0, 0, ...   \n",
       "\n",
       "                               labels_str mtype_one_hot  \n",
       "0               ['elementary-set-theory']     [0, 0, 1]  \n",
       "1               ['elementary-set-theory']     [0, 0, 1]  \n",
       "2               ['elementary-set-theory']     [0, 0, 1]  \n",
       "3               ['elementary-set-theory']     [1, 0, 0]  \n",
       "4  ['functions', 'elementary-set-theory']     [0, 0, 1]  "
      ]
     },
     "execution_count": 25,
     "metadata": {},
     "output_type": "execute_result"
    }
   ],
   "source": [
    "#print(os.getcwd())\n",
    "data_p = Path(\"../data/\") / \"multi_class_unbalanced_data_TOKENIZED_V1.csv\"\n",
    "data = pd.read_csv(data_p)\n",
    "preprocess_data(data)\n",
    "data.head()"
   ]
  },
  {
   "cell_type": "code",
   "execution_count": 26,
   "metadata": {},
   "outputs": [
    {
     "name": "stdout",
     "output_type": "stream",
     "text": [
      "254\n",
      "252\n"
     ]
    }
   ],
   "source": [
    "print(data[\"type_tokens\"].map(lambda x: len((x.split(\" \")))).max())\n",
    "print(data[\"tokens\"].map(lambda x: len((x.split(\" \")))).max())"
   ]
  },
  {
   "cell_type": "code",
   "execution_count": 27,
   "metadata": {},
   "outputs": [],
   "source": [
    "# ordinary datasets\n",
    "SMALL_TRAIN_SIZE = 24620 - 2460\n",
    "SMALL_TEST_SIZE = 2460\n",
    "LARGE_TRAIN_SIZE = 106523 - 10650\n",
    "LARGE_TEST_SIZE = 10650\n",
    "# compact datasets\n",
    "NUM_CLASSES = 40\n",
    "\n",
    "labels_array = np.array(data[\"labels\"].to_list())\n",
    "m_type_array = np.array(data[\"mtype_one_hot\"].to_list())\n",
    "\n",
    "dataset4_all_features = tf.data.Dataset.from_tensor_slices((data[\"tokens\"],data[\"type_tokens\"],m_type_array), name=\"data\")\n",
    "dataset3_tokens_types = tf.data.Dataset.from_tensor_slices((data[\"tokens\"],data[\"type_tokens\"]), name=\"data\")\n",
    "dataset2_types = tf.data.Dataset.from_tensor_slices((data[\"type_tokens\"]), name=\"data\")\n",
    "dataset1_tokens = tf.data.Dataset.from_tensor_slices((data[\"tokens\"]), name=\"data\")\n",
    "\n",
    "labels_ds = tf.data.Dataset.from_tensor_slices(labels_array, name=\"label\")\n",
    "#data_as_ds = tf.data.Dataset.zip((dat_as_ds, labels_ds))\n",
    "\n",
    "dataset1_tokens_l = tf.data.Dataset.zip((dataset1_tokens, labels_ds))\n",
    "dataset2_types_l = tf.data.Dataset.zip((dataset2_types, labels_ds))\n",
    "dataset3_tokens_types_l = tf.data.Dataset.zip((dataset3_tokens_types, labels_ds))\n",
    "dataset4_all_features_l = tf.data.Dataset.zip((dataset4_all_features, labels_ds))"
   ]
  },
  {
   "cell_type": "code",
   "execution_count": 28,
   "metadata": {},
   "outputs": [],
   "source": [
    "test_dataset1 = dataset1_tokens_l.take(SMALL_TEST_SIZE)\n",
    "train_dataset1 = dataset1_tokens_l.skip(SMALL_TEST_SIZE)\n",
    "test_dataset2 = dataset2_types_l.take(SMALL_TEST_SIZE)\n",
    "train_dataset2 = dataset2_types_l.skip(SMALL_TEST_SIZE)\n",
    "test_dataset3 = dataset3_tokens_types_l.take(SMALL_TEST_SIZE)\n",
    "train_dataset3 = dataset3_tokens_types_l.skip(SMALL_TEST_SIZE)\n",
    "test_dataset4 = dataset4_all_features_l.take(SMALL_TEST_SIZE)\n",
    "train_dataset4 = dataset4_all_features_l.skip(SMALL_TEST_SIZE)"
   ]
  },
  {
   "attachments": {},
   "cell_type": "markdown",
   "metadata": {},
   "source": [
    "##### Setup and Data Preparation"
   ]
  },
  {
   "cell_type": "code",
   "execution_count": 29,
   "metadata": {},
   "outputs": [
    {
     "name": "stdout",
     "output_type": "stream",
     "text": [
      "text:  b'{ 2   4 }'\n",
      "type:  b'explset L_BRACE_LITERAL set_enumeration item __ANON_3 COMMA item __ANON_3 R_BRACE_LITERAL'\n",
      "m_type:  [1 0 0]\n",
      "label:  [1 0 0 0 0 0 0 0 0 0 0 0 0 0 0 0 0 0 0 0 0 0 0 0 0 0 0 0 0 0 0 0 0 0 0 0 0\n",
      " 0 0 0]\n",
      "text:  b'f : I \\\\to X'\n",
      "type:  b'func_def func_name __ANON_1 COLON mapping __ANON_0 TO __ANON_0'\n",
      "m_type:  [0 0 1]\n",
      "label:  [1 0 0 0 0 0 0 0 0 0 0 0 0 0 0 0 0 0 0 0 0 0 0 0 0 0 0 0 0 0 0 0 0 0 0 0 0\n",
      " 0 0 0]\n",
      "text:  b'f ( a ) = 1'\n",
      "type:  b'func_expr func_name_arg func_name __ANON_1 L_PAREN __ANON_1 R_PAREN EQUAL expr_atom __ANON_3'\n",
      "m_type:  [0 0 1]\n",
      "label:  [1 0 0 0 0 0 0 0 0 0 0 0 1 0 0 0 0 0 0 0 0 0 0 0 0 0 0 0 0 0 0 0 0 0 0 0 0\n",
      " 0 0 0]\n",
      "text:  b'x'\n",
      "type:  b'func_name __ANON_1'\n",
      "m_type:  [0 0 1]\n",
      "label:  [1 0 0 0 0 0 0 0 0 0 0 0 0 0 0 0 0 0 0 0 0 0 0 0 0 0 0 0 0 0 0 0 0 0 0 0 0\n",
      " 0 0 0]\n",
      "text:  b'f : X \\\\to Y'\n",
      "type:  b'func_def func_name __ANON_1 COLON mapping __ANON_0 TO __ANON_0'\n",
      "m_type:  [0 0 1]\n",
      "label:  [1 0 0 0 0 0 0 0 0 0 0 0 1 0 0 0 0 0 0 0 0 0 0 0 0 0 0 0 0 0 0 0 0 0 0 0 0\n",
      " 0 0 0]\n"
     ]
    }
   ],
   "source": [
    "for (example_token, example_type, example_m_type), label in train_dataset4.take(5):\n",
    "    print(\"text: \", example_token.numpy())\n",
    "    print(\"type: \", example_type.numpy())\n",
    "    print(\"m_type: \", example_m_type.numpy())\n",
    "    print(\"label: \", label.numpy())"
   ]
  },
  {
   "cell_type": "code",
   "execution_count": 30,
   "metadata": {},
   "outputs": [],
   "source": [
    "BUFFER_SIZE = 2000\n",
    "BATCH_SIZE = 64\n",
    "STEPS_PER_EPOCH = np.floor(SMALL_TRAIN_SIZE/BATCH_SIZE)\n",
    "VAL_STEPS_PER_EPOCH = np.floor(SMALL_TEST_SIZE/BATCH_SIZE)\n",
    "#train_dataset = train_dataset.shuffle(BUFFER_SIZE).batch(BATCH_SIZE, drop_remainder=True).prefetch(tf.data.AUTOTUNE)\n",
    "#test_dataset = test_dataset.batch(BATCH_SIZE, drop_remainder=True).prefetch(tf.data.AUTOTUNE)"
   ]
  },
  {
   "cell_type": "code",
   "execution_count": 31,
   "metadata": {},
   "outputs": [],
   "source": [
    "test_dataset1 = test_dataset1.batch(BATCH_SIZE, drop_remainder=True).prefetch(tf.data.AUTOTUNE)\n",
    "train_dataset1 = train_dataset1.shuffle(BUFFER_SIZE).batch(BATCH_SIZE, drop_remainder=True).prefetch(tf.data.AUTOTUNE)\n",
    "test_dataset2 = test_dataset2.batch(BATCH_SIZE, drop_remainder=True).prefetch(tf.data.AUTOTUNE)\n",
    "train_dataset2 = train_dataset2.shuffle(BUFFER_SIZE).batch(BATCH_SIZE, drop_remainder=True).prefetch(tf.data.AUTOTUNE)\n",
    "test_dataset3 = test_dataset3.batch(BATCH_SIZE, drop_remainder=True).prefetch(tf.data.AUTOTUNE)\n",
    "train_dataset3 = train_dataset3.shuffle(BUFFER_SIZE).batch(BATCH_SIZE, drop_remainder=True).prefetch(tf.data.AUTOTUNE)\n",
    "test_dataset4 = test_dataset4.batch(BATCH_SIZE, drop_remainder=True).prefetch(tf.data.AUTOTUNE)\n",
    "train_dataset4 = train_dataset4.shuffle(BUFFER_SIZE).batch(BATCH_SIZE, drop_remainder=True).prefetch(tf.data.AUTOTUNE)"
   ]
  },
  {
   "attachments": {},
   "cell_type": "markdown",
   "metadata": {},
   "source": [
    "##### Text Encoding"
   ]
  },
  {
   "cell_type": "code",
   "execution_count": 32,
   "metadata": {},
   "outputs": [],
   "source": [
    "# for int encoder\n",
    "TYPE_TOKENS_MAX_SEQ_LEN = 260\n",
    "TOKENS_MAX_SEQ_LEN = 260\n",
    "\n",
    "\n",
    "# for other encoders \n",
    "TYPE_TOKENS_PAD_TO_MAX_TOKENS = 80\n",
    "TOKENS_PAD_TO_MAX_TOKENS = 200\n",
    "BIGRAM_PAD_TO_MAX_TOKENS = 350"
   ]
  },
  {
   "cell_type": "code",
   "execution_count": 33,
   "metadata": {},
   "outputs": [],
   "source": [
    "def adapt_encoder(encoder, mode, dataset, dataset_type):\n",
    "    if mode == \"token\": \n",
    "\n",
    "        if dataset_type == 1:\n",
    "            encoder.adapt(dataset.map(lambda inputs, label: inputs))\n",
    "        elif dataset_type == 2:\n",
    "            ...\n",
    "        elif dataset_type == 3:\n",
    "            encoder.adapt(dataset.map(lambda inputs, label: inputs[0])) # removes the label column through transformation: text, label -> text\n",
    "        elif dataset_type == 4:\n",
    "            encoder.adapt(dataset.map(lambda inputs, label: inputs[0])) # removes the label column through transformation: text, label -> text  \n",
    "    elif mode == \"type\":\n",
    "        \n",
    "        if dataset_type == 1:\n",
    "            ...\n",
    "        elif dataset_type == 2:\n",
    "            encoder.adapt(dataset.map(lambda inputs, label: inputs))\n",
    "        elif dataset_type == 3:\n",
    "            encoder.adapt(dataset.map(lambda inputs, label: inputs[1])) # removes the label column through transformation: text, label -> text\n",
    "        elif dataset_type == 4:\n",
    "            encoder.adapt(dataset.map(lambda inputs, label: inputs[1])) # removes the label column through transformation: text, label -> text\n",
    "\n",
    "    return encoder"
   ]
  },
  {
   "cell_type": "code",
   "execution_count": 34,
   "metadata": {},
   "outputs": [],
   "source": [
    "def create_encoder(output_mode_str, n_grams, mode, dataset, dataset_type):\n",
    "    if output_mode_str == \"int\":\n",
    "        VOCAB_SIZE = 200\n",
    "        if mode == \"token\":\n",
    "            max_seq_len = TOKENS_MAX_SEQ_LEN\n",
    "        elif mode == \"type\":\n",
    "            max_seq_len = TYPE_TOKENS_MAX_SEQ_LEN\n",
    "\n",
    "        encoder = tf.keras.layers.TextVectorization(\n",
    "            standardize=None,\n",
    "            output_mode=output_mode_str,\n",
    "            ngrams = n_grams,\n",
    "            output_sequence_length = max_seq_len,\n",
    "            split=\"whitespace\",\n",
    "            max_tokens=VOCAB_SIZE)\n",
    "        #TODO: adapt for different inputs\n",
    "        encoder = adapt_encoder(encoder, mode, dataset, dataset_type)\n",
    "        return encoder\n",
    "    \n",
    "    if output_mode_str == \"count\" and n_grams == 2:\n",
    "        max_seq_len = BIGRAM_PAD_TO_MAX_TOKENS\n",
    "        encoder = tf.keras.layers.TextVectorization(\n",
    "            standardize=None,\n",
    "            output_mode=output_mode_str,\n",
    "            ngrams = n_grams,\n",
    "            pad_to_max_tokens = max_seq_len,\n",
    "            split=\"whitespace\",\n",
    "            max_tokens=max_seq_len)\n",
    "        \n",
    "        \n",
    "        encoder = adapt_encoder(encoder, mode, dataset, dataset_type)\n",
    "        return encoder\n",
    "    \n",
    "    if mode == \"token\":\n",
    "        max_seq_len = TOKENS_PAD_TO_MAX_TOKENS\n",
    "    elif mode == \"type\":\n",
    "        max_seq_len = TYPE_TOKENS_PAD_TO_MAX_TOKENS\n",
    "\n",
    "    encoder = tf.keras.layers.TextVectorization(\n",
    "        standardize=None,\n",
    "        output_mode=output_mode_str,\n",
    "        ngrams = n_grams,\n",
    "        pad_to_max_tokens = max_seq_len,\n",
    "        split=\"whitespace\",\n",
    "        max_tokens=max_seq_len)\n",
    "    #TODO: adapt for different inputs\n",
    "    encoder = adapt_encoder(encoder, mode, dataset, dataset_type)\n",
    "    return encoder\n",
    "\n",
    "\n",
    "    "
   ]
  },
  {
   "attachments": {},
   "cell_type": "markdown",
   "metadata": {},
   "source": [
    "##### Representation 1: Use integer indices encoding"
   ]
  },
  {
   "cell_type": "code",
   "execution_count": 35,
   "metadata": {},
   "outputs": [
    {
     "name": "stdout",
     "output_type": "stream",
     "text": [
      "tokens (voc size):  128\n",
      "types (voc size):  61\n"
     ]
    }
   ],
   "source": [
    "encoder_int_tokens = create_encoder(\"int\", None, \"token\", train_dataset1, 1)\n",
    "encoder_int_types = create_encoder(\"int\", None, \"type\", train_dataset2, 2)\n",
    "\n",
    "vocab_tokens = np.array(encoder_int_tokens.get_vocabulary())\n",
    "vocab_size_tokens = len(encoder_int_tokens.get_vocabulary())\n",
    "vocab_types = np.array(encoder_int_types.get_vocabulary())\n",
    "vocab_size_types = len(encoder_int_types.get_vocabulary())\n",
    "\n",
    "print(\"tokens (voc size): \", vocab_size_tokens)\n",
    "print(\"types (voc size): \", vocab_size_types)"
   ]
  },
  {
   "cell_type": "code",
   "execution_count": 36,
   "metadata": {},
   "outputs": [
    {
     "name": "stdout",
     "output_type": "stream",
     "text": [
      "tokens: \n",
      "tf.Tensor(b'f : X \\\\to Y', shape=(), dtype=string)\n",
      "[ 2 11 26 14 35  0  0  0  0  0  0  0  0  0  0  0  0  0  0  0  0  0  0  0\n",
      "  0  0  0  0  0  0  0  0  0  0  0  0  0  0  0  0  0  0  0  0  0  0  0  0\n",
      "  0  0  0  0  0  0  0  0  0  0  0  0  0  0  0  0  0  0  0  0  0  0  0  0\n",
      "  0  0  0  0  0  0  0  0  0  0  0  0  0  0  0  0  0  0  0  0  0  0  0  0\n",
      "  0  0  0  0  0  0  0  0  0  0  0  0  0  0  0  0  0  0  0  0  0  0  0  0\n",
      "  0  0  0  0  0  0  0  0  0  0  0  0  0  0  0  0  0  0  0  0  0  0  0  0\n",
      "  0  0  0  0  0  0  0  0  0  0  0  0  0  0  0  0  0  0  0  0  0  0  0  0\n",
      "  0  0  0  0  0  0  0  0  0  0  0  0  0  0  0  0  0  0  0  0  0  0  0  0\n",
      "  0  0  0  0  0  0  0  0  0  0  0  0  0  0  0  0  0  0  0  0  0  0  0  0\n",
      "  0  0  0  0  0  0  0  0  0  0  0  0  0  0  0  0  0  0  0  0  0  0  0  0\n",
      "  0  0  0  0  0  0  0  0  0  0  0  0  0  0  0  0  0  0  0  0]\n",
      "(260,)\n",
      "types: \n",
      "tf.Tensor(b'func_def func_name __ANON_1 COLON mapping __ANON_0 TO __ANON_0', shape=(), dtype=string)\n",
      "[15  5  3 13 14  6 16  6  0  0  0  0  0  0  0  0  0  0  0  0  0  0  0  0\n",
      "  0  0  0  0  0  0  0  0  0  0  0  0  0  0  0  0  0  0  0  0  0  0  0  0\n",
      "  0  0  0  0  0  0  0  0  0  0  0  0  0  0  0  0  0  0  0  0  0  0  0  0\n",
      "  0  0  0  0  0  0  0  0  0  0  0  0  0  0  0  0  0  0  0  0  0  0  0  0\n",
      "  0  0  0  0  0  0  0  0  0  0  0  0  0  0  0  0  0  0  0  0  0  0  0  0\n",
      "  0  0  0  0  0  0  0  0  0  0  0  0  0  0  0  0  0  0  0  0  0  0  0  0\n",
      "  0  0  0  0  0  0  0  0  0  0  0  0  0  0  0  0  0  0  0  0  0  0  0  0\n",
      "  0  0  0  0  0  0  0  0  0  0  0  0  0  0  0  0  0  0  0  0  0  0  0  0\n",
      "  0  0  0  0  0  0  0  0  0  0  0  0  0  0  0  0  0  0  0  0  0  0  0  0\n",
      "  0  0  0  0  0  0  0  0  0  0  0  0  0  0  0  0  0  0  0  0  0  0  0  0\n",
      "  0  0  0  0  0  0  0  0  0  0  0  0  0  0  0  0  0  0  0  0]\n",
      "(260,)\n"
     ]
    }
   ],
   "source": [
    "encoded_example_token = encoder_int_tokens(example_token).numpy()\n",
    "encoded_example_types = encoder_int_types(example_type).numpy()\n",
    "\n",
    "print(\"tokens: \")\n",
    "print(example_token)\n",
    "print(encoded_example_token)\n",
    "print(encoded_example_token.shape)\n",
    "\n",
    "print(\"types: \")\n",
    "print(example_type)\n",
    "print(encoded_example_types)\n",
    "print(encoded_example_types.shape)"
   ]
  },
  {
   "attachments": {},
   "cell_type": "markdown",
   "metadata": {},
   "source": [
    "##### Representation 2: Count Vectorizer"
   ]
  },
  {
   "cell_type": "code",
   "execution_count": 37,
   "metadata": {},
   "outputs": [
    {
     "name": "stdout",
     "output_type": "stream",
     "text": [
      "tokens (voc size):  127\n",
      "types (voc size):  60\n"
     ]
    }
   ],
   "source": [
    "encoder_count_tokens = create_encoder(\"count\", None, \"token\", train_dataset1, 1)\n",
    "encoder_count_types = create_encoder(\"count\", None, \"type\", train_dataset2, 2)\n",
    "\n",
    "vocab_tokens = np.array(encoder_count_tokens.get_vocabulary())\n",
    "vocab_size_tokens = len(encoder_count_tokens.get_vocabulary())\n",
    "vocab_types = np.array(encoder_count_types.get_vocabulary())\n",
    "vocab_size_types = len(encoder_count_types.get_vocabulary())\n",
    "\n",
    "print(\"tokens (voc size): \", vocab_size_tokens)\n",
    "print(\"types (voc size): \", vocab_size_types)"
   ]
  },
  {
   "cell_type": "code",
   "execution_count": 38,
   "metadata": {},
   "outputs": [
    {
     "name": "stdout",
     "output_type": "stream",
     "text": [
      "tokens: \n",
      "tf.Tensor(b'f : X \\\\to Y', shape=(), dtype=string)\n",
      "[0. 1. 0. 0. 0. 0. 0. 0. 0. 0. 1. 0. 0. 1. 0. 0. 0. 0. 0. 0. 0. 0. 0. 0.\n",
      " 0. 1. 0. 0. 0. 0. 0. 0. 0. 0. 1. 0. 0. 0. 0. 0. 0. 0. 0. 0. 0. 0. 0. 0.\n",
      " 0. 0. 0. 0. 0. 0. 0. 0. 0. 0. 0. 0. 0. 0. 0. 0. 0. 0. 0. 0. 0. 0. 0. 0.\n",
      " 0. 0. 0. 0. 0. 0. 0. 0. 0. 0. 0. 0. 0. 0. 0. 0. 0. 0. 0. 0. 0. 0. 0. 0.\n",
      " 0. 0. 0. 0. 0. 0. 0. 0. 0. 0. 0. 0. 0. 0. 0. 0. 0. 0. 0. 0. 0. 0. 0. 0.\n",
      " 0. 0. 0. 0. 0. 0. 0. 0. 0. 0. 0. 0. 0. 0. 0. 0. 0. 0. 0. 0. 0. 0. 0. 0.\n",
      " 0. 0. 0. 0. 0. 0. 0. 0. 0. 0. 0. 0. 0. 0. 0. 0. 0. 0. 0. 0. 0. 0. 0. 0.\n",
      " 0. 0. 0. 0. 0. 0. 0. 0. 0. 0. 0. 0. 0. 0. 0. 0. 0. 0. 0. 0. 0. 0. 0. 0.\n",
      " 0. 0. 0. 0. 0. 0. 0. 0.]\n",
      "(200,)\n",
      "types: \n",
      "tf.Tensor(b'func_def func_name __ANON_1 COLON mapping __ANON_0 TO __ANON_0', shape=(), dtype=string)\n",
      "[0. 0. 1. 0. 1. 2. 0. 0. 0. 0. 0. 0. 1. 1. 1. 1. 0. 0. 0. 0. 0. 0. 0. 0.\n",
      " 0. 0. 0. 0. 0. 0. 0. 0. 0. 0. 0. 0. 0. 0. 0. 0. 0. 0. 0. 0. 0. 0. 0. 0.\n",
      " 0. 0. 0. 0. 0. 0. 0. 0. 0. 0. 0. 0. 0. 0. 0. 0. 0. 0. 0. 0. 0. 0. 0. 0.\n",
      " 0. 0. 0. 0. 0. 0. 0. 0.]\n",
      "(80,)\n"
     ]
    }
   ],
   "source": [
    "encoded_example_token = encoder_count_tokens(example_token).numpy()\n",
    "encoded_example_types = encoder_count_types(example_type).numpy()\n",
    "\n",
    "print(\"tokens: \")\n",
    "print(example_token)\n",
    "print(encoded_example_token)\n",
    "print(encoded_example_token.shape)\n",
    "\n",
    "print(\"types: \")\n",
    "print(example_type)\n",
    "print(encoded_example_types)\n",
    "print(encoded_example_types.shape)"
   ]
  },
  {
   "attachments": {},
   "cell_type": "markdown",
   "metadata": {},
   "source": [
    "##### Model (Logistic Regression)"
   ]
  },
  {
   "attachments": {},
   "cell_type": "markdown",
   "metadata": {},
   "source": [
    " **Train the model**"
   ]
  },
  {
   "attachments": {},
   "cell_type": "markdown",
   "metadata": {},
   "source": [
    "#### Experiment 1: Use integer indices for encoding tokens"
   ]
  },
  {
   "attachments": {},
   "cell_type": "markdown",
   "metadata": {},
   "source": [
    "##### Model 1: ONLY TOKENS\n",
    "Find best hyperparameters"
   ]
  },
  {
   "cell_type": "code",
   "execution_count": 39,
   "metadata": {},
   "outputs": [],
   "source": [
    "tokens_input_len = TOKENS_MAX_SEQ_LEN \n",
    "type_input_len = TYPE_TOKENS_MAX_SEQ_LEN\n",
    "NUM_CLASSES = 40\n",
    "\n",
    "encoder_int_tokens1 = create_encoder(\"int\", None, \"token\", train_dataset1, 1)\n",
    "model_builder1 = mc_u.create_model_builder1_LR(NUM_CLASSES, encoder_int_tokens1, tokens_input_len)"
   ]
  },
  {
   "cell_type": "code",
   "execution_count": 40,
   "metadata": {},
   "outputs": [],
   "source": [
    "tuner = kt.Hyperband(model_builder1,\n",
    "                     objective=kt.Objective(\"val_accuracy\", direction=\"max\"),\n",
    "                     max_epochs=20,\n",
    "                     factor=3,\n",
    "                     directory='meta_dir/model1_lr',\n",
    "                     project_name='model1_lr')\n",
    "stop_early = tf.keras.callbacks.EarlyStopping(monitor='val_loss', patience=3)"
   ]
  },
  {
   "cell_type": "code",
   "execution_count": 41,
   "metadata": {},
   "outputs": [
    {
     "name": "stdout",
     "output_type": "stream",
     "text": [
      "Trial 30 Complete [00h 00m 44s]\n",
      "val_accuracy: 0.2331414520740509\n",
      "\n",
      "Best val_accuracy So Far: 0.8725329041481018\n",
      "Total elapsed time: 00h 12m 53s\n",
      "INFO:tensorflow:Oracle triggered exit\n"
     ]
    }
   ],
   "source": [
    "tuner.search(train_dataset1,\n",
    "             epochs=30,\n",
    "             validation_data=test_dataset1,\n",
    "             #steps_per_epoch = STEPS_PER_EPOCH,\n",
    "             validation_steps = VAL_STEPS_PER_EPOCH,\n",
    "             callbacks= [stop_early])#[tensorboard_callback])"
   ]
  },
  {
   "cell_type": "code",
   "execution_count": 42,
   "metadata": {},
   "outputs": [
    {
     "name": "stdout",
     "output_type": "stream",
     "text": [
      "0.0001\n",
      "96\n",
      "0.2\n",
      "0.3\n"
     ]
    }
   ],
   "source": [
    "best_hps=tuner.get_best_hyperparameters(num_trials=1)[0]\n",
    "optimal_lr = best_hps.get(\"learning_rate\")\n",
    "optimal_emb_dims = best_hps.get(\"emb_dims\")\n",
    "dp1 = best_hps.get(\"dropout1\")\n",
    "dp2 = best_hps.get(\"dropout2\")\n",
    "print(optimal_lr)\n",
    "print(optimal_emb_dims)\n",
    "print(dp1)\n",
    "print(dp2)"
   ]
  },
  {
   "attachments": {},
   "cell_type": "markdown",
   "metadata": {},
   "source": [
    "Train with best hyperparameters"
   ]
  },
  {
   "cell_type": "code",
   "execution_count": 43,
   "metadata": {},
   "outputs": [],
   "source": [
    "NUM_EPOCHS = 80\n",
    "model1 = mc_u.create_model1_LR(NUM_CLASSES, optimal_emb_dims, dp1, dp2, encoder_int_tokens1, tokens_input_len)\n",
    "model1.compile(loss=tf.keras.losses.BinaryCrossentropy(from_logits=True),\n",
    "              optimizer=tf.keras.optimizers.Adam(optimal_lr),\n",
    "              metrics=[\"accuracy\", tf.keras.metrics.Recall()])"
   ]
  },
  {
   "cell_type": "code",
   "execution_count": 44,
   "metadata": {},
   "outputs": [
    {
     "name": "stdout",
     "output_type": "stream",
     "text": [
      "Epoch 1/80\n",
      "344/346 [============================>.] - ETA: 0s - loss: 0.6459 - accuracy: 0.0849 - recall_1: 0.0000e+00INFO:tensorflow:Assets written to: /home/paul_d/Sources/sem_math_repo/classification_formulas_multilabel/wandb/run-20230315_233129-0o2wxjlb/files/model-best/assets\n"
     ]
    },
    {
     "name": "stderr",
     "output_type": "stream",
     "text": [
      "INFO:tensorflow:Assets written to: /home/paul_d/Sources/sem_math_repo/classification_formulas_multilabel/wandb/run-20230315_233129-0o2wxjlb/files/model-best/assets\n"
     ]
    },
    {
     "name": "stdout",
     "output_type": "stream",
     "text": [
      "346/346 [==============================] - 5s 15ms/step - loss: 0.6456 - accuracy: 0.0861 - recall_1: 0.0000e+00 - val_loss: 0.6061 - val_accuracy: 0.0000e+00 - val_recall_1: 0.0000e+00\n",
      "Epoch 2/80\n",
      "341/346 [============================>.] - ETA: 0s - loss: 0.5073 - accuracy: 0.2422 - recall_1: 0.0000e+00INFO:tensorflow:Assets written to: /home/paul_d/Sources/sem_math_repo/classification_formulas_multilabel/wandb/run-20230315_233129-0o2wxjlb/files/model-best/assets\n"
     ]
    },
    {
     "name": "stderr",
     "output_type": "stream",
     "text": [
      "INFO:tensorflow:Assets written to: /home/paul_d/Sources/sem_math_repo/classification_formulas_multilabel/wandb/run-20230315_233129-0o2wxjlb/files/model-best/assets\n"
     ]
    },
    {
     "name": "stdout",
     "output_type": "stream",
     "text": [
      "346/346 [==============================] - 5s 14ms/step - loss: 0.5061 - accuracy: 0.2436 - recall_1: 0.0000e+00 - val_loss: 0.4540 - val_accuracy: 0.0000e+00 - val_recall_1: 0.0000e+00\n",
      "Epoch 3/80\n",
      "344/346 [============================>.] - ETA: 0s - loss: 0.3460 - accuracy: 0.2890 - recall_1: 0.0000e+00INFO:tensorflow:Assets written to: /home/paul_d/Sources/sem_math_repo/classification_formulas_multilabel/wandb/run-20230315_233129-0o2wxjlb/files/model-best/assets\n"
     ]
    },
    {
     "name": "stderr",
     "output_type": "stream",
     "text": [
      "INFO:tensorflow:Assets written to: /home/paul_d/Sources/sem_math_repo/classification_formulas_multilabel/wandb/run-20230315_233129-0o2wxjlb/files/model-best/assets\n"
     ]
    },
    {
     "name": "stdout",
     "output_type": "stream",
     "text": [
      "346/346 [==============================] - 5s 14ms/step - loss: 0.3458 - accuracy: 0.2888 - recall_1: 0.0000e+00 - val_loss: 0.3167 - val_accuracy: 0.0518 - val_recall_1: 0.0000e+00\n",
      "Epoch 4/80\n",
      "345/346 [============================>.] - ETA: 0s - loss: 0.2438 - accuracy: 0.3131 - recall_1: 0.0000e+00INFO:tensorflow:Assets written to: /home/paul_d/Sources/sem_math_repo/classification_formulas_multilabel/wandb/run-20230315_233129-0o2wxjlb/files/model-best/assets\n"
     ]
    },
    {
     "name": "stderr",
     "output_type": "stream",
     "text": [
      "INFO:tensorflow:Assets written to: /home/paul_d/Sources/sem_math_repo/classification_formulas_multilabel/wandb/run-20230315_233129-0o2wxjlb/files/model-best/assets\n"
     ]
    },
    {
     "name": "stdout",
     "output_type": "stream",
     "text": [
      "346/346 [==============================] - 5s 15ms/step - loss: 0.2438 - accuracy: 0.3130 - recall_1: 0.0000e+00 - val_loss: 0.2363 - val_accuracy: 0.1468 - val_recall_1: 0.0000e+00\n",
      "Epoch 5/80\n",
      "344/346 [============================>.] - ETA: 0s - loss: 0.1951 - accuracy: 0.3391 - recall_1: 0.0000e+00INFO:tensorflow:Assets written to: /home/paul_d/Sources/sem_math_repo/classification_formulas_multilabel/wandb/run-20230315_233129-0o2wxjlb/files/model-best/assets\n"
     ]
    },
    {
     "name": "stderr",
     "output_type": "stream",
     "text": [
      "INFO:tensorflow:Assets written to: /home/paul_d/Sources/sem_math_repo/classification_formulas_multilabel/wandb/run-20230315_233129-0o2wxjlb/files/model-best/assets\n"
     ]
    },
    {
     "name": "stdout",
     "output_type": "stream",
     "text": [
      "346/346 [==============================] - 5s 15ms/step - loss: 0.1952 - accuracy: 0.3386 - recall_1: 0.0000e+00 - val_loss: 0.1945 - val_accuracy: 0.6069 - val_recall_1: 0.0000e+00\n",
      "Epoch 6/80\n",
      "343/346 [============================>.] - ETA: 0s - loss: 0.1726 - accuracy: 0.3494 - recall_1: 0.0000e+00INFO:tensorflow:Assets written to: /home/paul_d/Sources/sem_math_repo/classification_formulas_multilabel/wandb/run-20230315_233129-0o2wxjlb/files/model-best/assets\n"
     ]
    },
    {
     "name": "stderr",
     "output_type": "stream",
     "text": [
      "INFO:tensorflow:Assets written to: /home/paul_d/Sources/sem_math_repo/classification_formulas_multilabel/wandb/run-20230315_233129-0o2wxjlb/files/model-best/assets\n"
     ]
    },
    {
     "name": "stdout",
     "output_type": "stream",
     "text": [
      "346/346 [==============================] - 5s 16ms/step - loss: 0.1726 - accuracy: 0.3487 - recall_1: 0.0000e+00 - val_loss: 0.1724 - val_accuracy: 0.6970 - val_recall_1: 0.0000e+00\n",
      "Epoch 7/80\n",
      "346/346 [==============================] - ETA: 0s - loss: 0.1620 - accuracy: 0.3595 - recall_1: 0.0000e+00INFO:tensorflow:Assets written to: /home/paul_d/Sources/sem_math_repo/classification_formulas_multilabel/wandb/run-20230315_233129-0o2wxjlb/files/model-best/assets\n"
     ]
    },
    {
     "name": "stderr",
     "output_type": "stream",
     "text": [
      "INFO:tensorflow:Assets written to: /home/paul_d/Sources/sem_math_repo/classification_formulas_multilabel/wandb/run-20230315_233129-0o2wxjlb/files/model-best/assets\n"
     ]
    },
    {
     "name": "stdout",
     "output_type": "stream",
     "text": [
      "346/346 [==============================] - 6s 16ms/step - loss: 0.1620 - accuracy: 0.3595 - recall_1: 0.0000e+00 - val_loss: 0.1601 - val_accuracy: 0.7060 - val_recall_1: 0.0000e+00\n",
      "Epoch 8/80\n",
      "345/346 [============================>.] - ETA: 0s - loss: 0.1566 - accuracy: 0.3737 - recall_1: 0.0000e+00INFO:tensorflow:Assets written to: /home/paul_d/Sources/sem_math_repo/classification_formulas_multilabel/wandb/run-20230315_233129-0o2wxjlb/files/model-best/assets\n"
     ]
    },
    {
     "name": "stderr",
     "output_type": "stream",
     "text": [
      "INFO:tensorflow:Assets written to: /home/paul_d/Sources/sem_math_repo/classification_formulas_multilabel/wandb/run-20230315_233129-0o2wxjlb/files/model-best/assets\n"
     ]
    },
    {
     "name": "stdout",
     "output_type": "stream",
     "text": [
      "346/346 [==============================] - 5s 15ms/step - loss: 0.1567 - accuracy: 0.3731 - recall_1: 0.0000e+00 - val_loss: 0.1530 - val_accuracy: 0.7031 - val_recall_1: 0.0000e+00\n",
      "Epoch 9/80\n",
      "346/346 [==============================] - ETA: 0s - loss: 0.1536 - accuracy: 0.3844 - recall_1: 0.0000e+00INFO:tensorflow:Assets written to: /home/paul_d/Sources/sem_math_repo/classification_formulas_multilabel/wandb/run-20230315_233129-0o2wxjlb/files/model-best/assets\n"
     ]
    },
    {
     "name": "stderr",
     "output_type": "stream",
     "text": [
      "INFO:tensorflow:Assets written to: /home/paul_d/Sources/sem_math_repo/classification_formulas_multilabel/wandb/run-20230315_233129-0o2wxjlb/files/model-best/assets\n"
     ]
    },
    {
     "name": "stdout",
     "output_type": "stream",
     "text": [
      "346/346 [==============================] - 5s 14ms/step - loss: 0.1536 - accuracy: 0.3844 - recall_1: 0.0000e+00 - val_loss: 0.1485 - val_accuracy: 0.6986 - val_recall_1: 0.0000e+00\n",
      "Epoch 10/80\n",
      "345/346 [============================>.] - ETA: 0s - loss: 0.1517 - accuracy: 0.4015 - recall_1: 0.0000e+00INFO:tensorflow:Assets written to: /home/paul_d/Sources/sem_math_repo/classification_formulas_multilabel/wandb/run-20230315_233129-0o2wxjlb/files/model-best/assets\n"
     ]
    },
    {
     "name": "stderr",
     "output_type": "stream",
     "text": [
      "INFO:tensorflow:Assets written to: /home/paul_d/Sources/sem_math_repo/classification_formulas_multilabel/wandb/run-20230315_233129-0o2wxjlb/files/model-best/assets\n"
     ]
    },
    {
     "name": "stdout",
     "output_type": "stream",
     "text": [
      "346/346 [==============================] - 5s 14ms/step - loss: 0.1518 - accuracy: 0.4010 - recall_1: 0.0000e+00 - val_loss: 0.1456 - val_accuracy: 0.6978 - val_recall_1: 0.0000e+00\n",
      "Epoch 11/80\n",
      "345/346 [============================>.] - ETA: 0s - loss: 0.1505 - accuracy: 0.4153 - recall_1: 2.4161e-05INFO:tensorflow:Assets written to: /home/paul_d/Sources/sem_math_repo/classification_formulas_multilabel/wandb/run-20230315_233129-0o2wxjlb/files/model-best/assets\n"
     ]
    },
    {
     "name": "stderr",
     "output_type": "stream",
     "text": [
      "INFO:tensorflow:Assets written to: /home/paul_d/Sources/sem_math_repo/classification_formulas_multilabel/wandb/run-20230315_233129-0o2wxjlb/files/model-best/assets\n"
     ]
    },
    {
     "name": "stdout",
     "output_type": "stream",
     "text": [
      "346/346 [==============================] - 5s 15ms/step - loss: 0.1505 - accuracy: 0.4148 - recall_1: 2.4099e-05 - val_loss: 0.1435 - val_accuracy: 0.6953 - val_recall_1: 0.0000e+00\n",
      "Epoch 12/80\n",
      "346/346 [==============================] - ETA: 0s - loss: 0.1495 - accuracy: 0.4253 - recall_1: 4.8190e-05INFO:tensorflow:Assets written to: /home/paul_d/Sources/sem_math_repo/classification_formulas_multilabel/wandb/run-20230315_233129-0o2wxjlb/files/model-best/assets\n"
     ]
    },
    {
     "name": "stderr",
     "output_type": "stream",
     "text": [
      "INFO:tensorflow:Assets written to: /home/paul_d/Sources/sem_math_repo/classification_formulas_multilabel/wandb/run-20230315_233129-0o2wxjlb/files/model-best/assets\n"
     ]
    },
    {
     "name": "stdout",
     "output_type": "stream",
     "text": [
      "346/346 [==============================] - 5s 13ms/step - loss: 0.1495 - accuracy: 0.4253 - recall_1: 4.8190e-05 - val_loss: 0.1418 - val_accuracy: 0.6982 - val_recall_1: 0.0000e+00\n",
      "Epoch 13/80\n",
      "344/346 [============================>.] - ETA: 0s - loss: 0.1483 - accuracy: 0.4432 - recall_1: 1.9393e-04INFO:tensorflow:Assets written to: /home/paul_d/Sources/sem_math_repo/classification_formulas_multilabel/wandb/run-20230315_233129-0o2wxjlb/files/model-best/assets\n"
     ]
    },
    {
     "name": "stderr",
     "output_type": "stream",
     "text": [
      "INFO:tensorflow:Assets written to: /home/paul_d/Sources/sem_math_repo/classification_formulas_multilabel/wandb/run-20230315_233129-0o2wxjlb/files/model-best/assets\n"
     ]
    },
    {
     "name": "stdout",
     "output_type": "stream",
     "text": [
      "346/346 [==============================] - 5s 13ms/step - loss: 0.1484 - accuracy: 0.4424 - recall_1: 1.9275e-04 - val_loss: 0.1404 - val_accuracy: 0.7081 - val_recall_1: 0.0000e+00\n",
      "Epoch 14/80\n",
      "346/346 [==============================] - ETA: 0s - loss: 0.1476 - accuracy: 0.4565 - recall_1: 4.8203e-04INFO:tensorflow:Assets written to: /home/paul_d/Sources/sem_math_repo/classification_formulas_multilabel/wandb/run-20230315_233129-0o2wxjlb/files/model-best/assets\n"
     ]
    },
    {
     "name": "stderr",
     "output_type": "stream",
     "text": [
      "INFO:tensorflow:Assets written to: /home/paul_d/Sources/sem_math_repo/classification_formulas_multilabel/wandb/run-20230315_233129-0o2wxjlb/files/model-best/assets\n"
     ]
    },
    {
     "name": "stdout",
     "output_type": "stream",
     "text": [
      "346/346 [==============================] - 5s 13ms/step - loss: 0.1476 - accuracy: 0.4565 - recall_1: 4.8203e-04 - val_loss: 0.1391 - val_accuracy: 0.7056 - val_recall_1: 0.0000e+00\n",
      "Epoch 15/80\n",
      "344/346 [============================>.] - ETA: 0s - loss: 0.1467 - accuracy: 0.4734 - recall_1: 0.0016INFO:tensorflow:Assets written to: /home/paul_d/Sources/sem_math_repo/classification_formulas_multilabel/wandb/run-20230315_233129-0o2wxjlb/files/model-best/assets\n"
     ]
    },
    {
     "name": "stderr",
     "output_type": "stream",
     "text": [
      "INFO:tensorflow:Assets written to: /home/paul_d/Sources/sem_math_repo/classification_formulas_multilabel/wandb/run-20230315_233129-0o2wxjlb/files/model-best/assets\n"
     ]
    },
    {
     "name": "stdout",
     "output_type": "stream",
     "text": [
      "346/346 [==============================] - 5s 13ms/step - loss: 0.1468 - accuracy: 0.4724 - recall_1: 0.0016 - val_loss: 0.1381 - val_accuracy: 0.7364 - val_recall_1: 0.0000e+00\n",
      "Epoch 16/80\n",
      "346/346 [==============================] - ETA: 0s - loss: 0.1462 - accuracy: 0.4855 - recall_1: 0.0035INFO:tensorflow:Assets written to: /home/paul_d/Sources/sem_math_repo/classification_formulas_multilabel/wandb/run-20230315_233129-0o2wxjlb/files/model-best/assets\n"
     ]
    },
    {
     "name": "stderr",
     "output_type": "stream",
     "text": [
      "INFO:tensorflow:Assets written to: /home/paul_d/Sources/sem_math_repo/classification_formulas_multilabel/wandb/run-20230315_233129-0o2wxjlb/files/model-best/assets\n"
     ]
    },
    {
     "name": "stdout",
     "output_type": "stream",
     "text": [
      "346/346 [==============================] - 5s 14ms/step - loss: 0.1462 - accuracy: 0.4855 - recall_1: 0.0035 - val_loss: 0.1370 - val_accuracy: 0.7434 - val_recall_1: 0.0000e+00\n",
      "Epoch 17/80\n",
      "346/346 [==============================] - ETA: 0s - loss: 0.1453 - accuracy: 0.4942 - recall_1: 0.0070INFO:tensorflow:Assets written to: /home/paul_d/Sources/sem_math_repo/classification_formulas_multilabel/wandb/run-20230315_233129-0o2wxjlb/files/model-best/assets\n"
     ]
    },
    {
     "name": "stderr",
     "output_type": "stream",
     "text": [
      "INFO:tensorflow:Assets written to: /home/paul_d/Sources/sem_math_repo/classification_formulas_multilabel/wandb/run-20230315_233129-0o2wxjlb/files/model-best/assets\n"
     ]
    },
    {
     "name": "stdout",
     "output_type": "stream",
     "text": [
      "346/346 [==============================] - 5s 13ms/step - loss: 0.1453 - accuracy: 0.4942 - recall_1: 0.0070 - val_loss: 0.1359 - val_accuracy: 0.7467 - val_recall_1: 0.0000e+00\n",
      "Epoch 18/80\n",
      "343/346 [============================>.] - ETA: 0s - loss: 0.1444 - accuracy: 0.5076 - recall_1: 0.0111INFO:tensorflow:Assets written to: /home/paul_d/Sources/sem_math_repo/classification_formulas_multilabel/wandb/run-20230315_233129-0o2wxjlb/files/model-best/assets\n"
     ]
    },
    {
     "name": "stderr",
     "output_type": "stream",
     "text": [
      "INFO:tensorflow:Assets written to: /home/paul_d/Sources/sem_math_repo/classification_formulas_multilabel/wandb/run-20230315_233129-0o2wxjlb/files/model-best/assets\n"
     ]
    },
    {
     "name": "stdout",
     "output_type": "stream",
     "text": [
      "346/346 [==============================] - 5s 14ms/step - loss: 0.1446 - accuracy: 0.5059 - recall_1: 0.0110 - val_loss: 0.1348 - val_accuracy: 0.7508 - val_recall_1: 0.0000e+00\n",
      "Epoch 19/80\n",
      "344/346 [============================>.] - ETA: 0s - loss: 0.1437 - accuracy: 0.5165 - recall_1: 0.0167INFO:tensorflow:Assets written to: /home/paul_d/Sources/sem_math_repo/classification_formulas_multilabel/wandb/run-20230315_233129-0o2wxjlb/files/model-best/assets\n"
     ]
    },
    {
     "name": "stderr",
     "output_type": "stream",
     "text": [
      "INFO:tensorflow:Assets written to: /home/paul_d/Sources/sem_math_repo/classification_formulas_multilabel/wandb/run-20230315_233129-0o2wxjlb/files/model-best/assets\n"
     ]
    },
    {
     "name": "stdout",
     "output_type": "stream",
     "text": [
      "346/346 [==============================] - 5s 13ms/step - loss: 0.1438 - accuracy: 0.5152 - recall_1: 0.0167 - val_loss: 0.1339 - val_accuracy: 0.7553 - val_recall_1: 0.0000e+00\n",
      "Epoch 20/80\n",
      "345/346 [============================>.] - ETA: 0s - loss: 0.1429 - accuracy: 0.5250 - recall_1: 0.0222INFO:tensorflow:Assets written to: /home/paul_d/Sources/sem_math_repo/classification_formulas_multilabel/wandb/run-20230315_233129-0o2wxjlb/files/model-best/assets\n"
     ]
    },
    {
     "name": "stderr",
     "output_type": "stream",
     "text": [
      "INFO:tensorflow:Assets written to: /home/paul_d/Sources/sem_math_repo/classification_formulas_multilabel/wandb/run-20230315_233129-0o2wxjlb/files/model-best/assets\n"
     ]
    },
    {
     "name": "stdout",
     "output_type": "stream",
     "text": [
      "346/346 [==============================] - 5s 14ms/step - loss: 0.1430 - accuracy: 0.5243 - recall_1: 0.0221 - val_loss: 0.1330 - val_accuracy: 0.7558 - val_recall_1: 0.0000e+00\n",
      "Epoch 21/80\n",
      "343/346 [============================>.] - ETA: 0s - loss: 0.1422 - accuracy: 0.5347 - recall_1: 0.0295INFO:tensorflow:Assets written to: /home/paul_d/Sources/sem_math_repo/classification_formulas_multilabel/wandb/run-20230315_233129-0o2wxjlb/files/model-best/assets\n"
     ]
    },
    {
     "name": "stderr",
     "output_type": "stream",
     "text": [
      "INFO:tensorflow:Assets written to: /home/paul_d/Sources/sem_math_repo/classification_formulas_multilabel/wandb/run-20230315_233129-0o2wxjlb/files/model-best/assets\n"
     ]
    },
    {
     "name": "stdout",
     "output_type": "stream",
     "text": [
      "346/346 [==============================] - 5s 13ms/step - loss: 0.1424 - accuracy: 0.5326 - recall_1: 0.0292 - val_loss: 0.1321 - val_accuracy: 0.7558 - val_recall_1: 0.0363\n",
      "Epoch 22/80\n",
      "345/346 [============================>.] - ETA: 0s - loss: 0.1417 - accuracy: 0.5400 - recall_1: 0.0338INFO:tensorflow:Assets written to: /home/paul_d/Sources/sem_math_repo/classification_formulas_multilabel/wandb/run-20230315_233129-0o2wxjlb/files/model-best/assets\n"
     ]
    },
    {
     "name": "stderr",
     "output_type": "stream",
     "text": [
      "INFO:tensorflow:Assets written to: /home/paul_d/Sources/sem_math_repo/classification_formulas_multilabel/wandb/run-20230315_233129-0o2wxjlb/files/model-best/assets\n"
     ]
    },
    {
     "name": "stdout",
     "output_type": "stream",
     "text": [
      "346/346 [==============================] - 5s 13ms/step - loss: 0.1418 - accuracy: 0.5392 - recall_1: 0.0337 - val_loss: 0.1312 - val_accuracy: 0.7566 - val_recall_1: 0.0855\n",
      "Epoch 23/80\n",
      "343/346 [============================>.] - ETA: 0s - loss: 0.1412 - accuracy: 0.5471 - recall_1: 0.0399INFO:tensorflow:Assets written to: /home/paul_d/Sources/sem_math_repo/classification_formulas_multilabel/wandb/run-20230315_233129-0o2wxjlb/files/model-best/assets\n"
     ]
    },
    {
     "name": "stderr",
     "output_type": "stream",
     "text": [
      "INFO:tensorflow:Assets written to: /home/paul_d/Sources/sem_math_repo/classification_formulas_multilabel/wandb/run-20230315_233129-0o2wxjlb/files/model-best/assets\n"
     ]
    },
    {
     "name": "stdout",
     "output_type": "stream",
     "text": [
      "346/346 [==============================] - 5s 14ms/step - loss: 0.1414 - accuracy: 0.5452 - recall_1: 0.0396 - val_loss: 0.1304 - val_accuracy: 0.7566 - val_recall_1: 0.1116\n",
      "Epoch 24/80\n",
      "342/346 [============================>.] - ETA: 0s - loss: 0.1405 - accuracy: 0.5505 - recall_1: 0.0441INFO:tensorflow:Assets written to: /home/paul_d/Sources/sem_math_repo/classification_formulas_multilabel/wandb/run-20230315_233129-0o2wxjlb/files/model-best/assets\n"
     ]
    },
    {
     "name": "stderr",
     "output_type": "stream",
     "text": [
      "INFO:tensorflow:Assets written to: /home/paul_d/Sources/sem_math_repo/classification_formulas_multilabel/wandb/run-20230315_233129-0o2wxjlb/files/model-best/assets\n"
     ]
    },
    {
     "name": "stdout",
     "output_type": "stream",
     "text": [
      "346/346 [==============================] - 4s 13ms/step - loss: 0.1407 - accuracy: 0.5479 - recall_1: 0.0437 - val_loss: 0.1298 - val_accuracy: 0.7566 - val_recall_1: 0.1267\n",
      "Epoch 25/80\n",
      "346/346 [==============================] - ETA: 0s - loss: 0.1403 - accuracy: 0.5526 - recall_1: 0.0486INFO:tensorflow:Assets written to: /home/paul_d/Sources/sem_math_repo/classification_formulas_multilabel/wandb/run-20230315_233129-0o2wxjlb/files/model-best/assets\n"
     ]
    },
    {
     "name": "stderr",
     "output_type": "stream",
     "text": [
      "INFO:tensorflow:Assets written to: /home/paul_d/Sources/sem_math_repo/classification_formulas_multilabel/wandb/run-20230315_233129-0o2wxjlb/files/model-best/assets\n"
     ]
    },
    {
     "name": "stdout",
     "output_type": "stream",
     "text": [
      "346/346 [==============================] - 5s 16ms/step - loss: 0.1403 - accuracy: 0.5526 - recall_1: 0.0486 - val_loss: 0.1290 - val_accuracy: 0.7566 - val_recall_1: 0.1375\n",
      "Epoch 26/80\n",
      "343/346 [============================>.] - ETA: 0s - loss: 0.1397 - accuracy: 0.5556 - recall_1: 0.0526INFO:tensorflow:Assets written to: /home/paul_d/Sources/sem_math_repo/classification_formulas_multilabel/wandb/run-20230315_233129-0o2wxjlb/files/model-best/assets\n"
     ]
    },
    {
     "name": "stderr",
     "output_type": "stream",
     "text": [
      "INFO:tensorflow:Assets written to: /home/paul_d/Sources/sem_math_repo/classification_formulas_multilabel/wandb/run-20230315_233129-0o2wxjlb/files/model-best/assets\n"
     ]
    },
    {
     "name": "stdout",
     "output_type": "stream",
     "text": [
      "346/346 [==============================] - 5s 13ms/step - loss: 0.1399 - accuracy: 0.5535 - recall_1: 0.0524 - val_loss: 0.1286 - val_accuracy: 0.7566 - val_recall_1: 0.1490\n",
      "Epoch 27/80\n",
      "346/346 [==============================] - ETA: 0s - loss: 0.1395 - accuracy: 0.5570 - recall_1: 0.0571INFO:tensorflow:Assets written to: /home/paul_d/Sources/sem_math_repo/classification_formulas_multilabel/wandb/run-20230315_233129-0o2wxjlb/files/model-best/assets\n"
     ]
    },
    {
     "name": "stderr",
     "output_type": "stream",
     "text": [
      "INFO:tensorflow:Assets written to: /home/paul_d/Sources/sem_math_repo/classification_formulas_multilabel/wandb/run-20230315_233129-0o2wxjlb/files/model-best/assets\n"
     ]
    },
    {
     "name": "stdout",
     "output_type": "stream",
     "text": [
      "346/346 [==============================] - 5s 14ms/step - loss: 0.1395 - accuracy: 0.5570 - recall_1: 0.0571 - val_loss: 0.1280 - val_accuracy: 0.7566 - val_recall_1: 0.1547\n",
      "Epoch 28/80\n",
      "343/346 [============================>.] - ETA: 0s - loss: 0.1392 - accuracy: 0.5614 - recall_1: 0.0612INFO:tensorflow:Assets written to: /home/paul_d/Sources/sem_math_repo/classification_formulas_multilabel/wandb/run-20230315_233129-0o2wxjlb/files/model-best/assets\n"
     ]
    },
    {
     "name": "stderr",
     "output_type": "stream",
     "text": [
      "INFO:tensorflow:Assets written to: /home/paul_d/Sources/sem_math_repo/classification_formulas_multilabel/wandb/run-20230315_233129-0o2wxjlb/files/model-best/assets\n"
     ]
    },
    {
     "name": "stdout",
     "output_type": "stream",
     "text": [
      "346/346 [==============================] - 5s 13ms/step - loss: 0.1393 - accuracy: 0.5597 - recall_1: 0.0609 - val_loss: 0.1276 - val_accuracy: 0.7574 - val_recall_1: 0.1592\n",
      "Epoch 29/80\n",
      "346/346 [==============================] - ETA: 0s - loss: 0.1389 - accuracy: 0.5621 - recall_1: 0.0648INFO:tensorflow:Assets written to: /home/paul_d/Sources/sem_math_repo/classification_formulas_multilabel/wandb/run-20230315_233129-0o2wxjlb/files/model-best/assets\n"
     ]
    },
    {
     "name": "stderr",
     "output_type": "stream",
     "text": [
      "INFO:tensorflow:Assets written to: /home/paul_d/Sources/sem_math_repo/classification_formulas_multilabel/wandb/run-20230315_233129-0o2wxjlb/files/model-best/assets\n"
     ]
    },
    {
     "name": "stdout",
     "output_type": "stream",
     "text": [
      "346/346 [==============================] - 5s 15ms/step - loss: 0.1389 - accuracy: 0.5621 - recall_1: 0.0648 - val_loss: 0.1272 - val_accuracy: 0.7595 - val_recall_1: 0.1648\n",
      "Epoch 30/80\n",
      "346/346 [==============================] - ETA: 0s - loss: 0.1386 - accuracy: 0.5634 - recall_1: 0.0690INFO:tensorflow:Assets written to: /home/paul_d/Sources/sem_math_repo/classification_formulas_multilabel/wandb/run-20230315_233129-0o2wxjlb/files/model-best/assets\n"
     ]
    },
    {
     "name": "stderr",
     "output_type": "stream",
     "text": [
      "INFO:tensorflow:Assets written to: /home/paul_d/Sources/sem_math_repo/classification_formulas_multilabel/wandb/run-20230315_233129-0o2wxjlb/files/model-best/assets\n"
     ]
    },
    {
     "name": "stdout",
     "output_type": "stream",
     "text": [
      "346/346 [==============================] - 5s 15ms/step - loss: 0.1386 - accuracy: 0.5634 - recall_1: 0.0690 - val_loss: 0.1266 - val_accuracy: 0.7595 - val_recall_1: 0.1684\n",
      "Epoch 31/80\n",
      "342/346 [============================>.] - ETA: 0s - loss: 0.1381 - accuracy: 0.5688 - recall_1: 0.0719INFO:tensorflow:Assets written to: /home/paul_d/Sources/sem_math_repo/classification_formulas_multilabel/wandb/run-20230315_233129-0o2wxjlb/files/model-best/assets\n"
     ]
    },
    {
     "name": "stderr",
     "output_type": "stream",
     "text": [
      "INFO:tensorflow:Assets written to: /home/paul_d/Sources/sem_math_repo/classification_formulas_multilabel/wandb/run-20230315_233129-0o2wxjlb/files/model-best/assets\n"
     ]
    },
    {
     "name": "stdout",
     "output_type": "stream",
     "text": [
      "346/346 [==============================] - 5s 15ms/step - loss: 0.1383 - accuracy: 0.5661 - recall_1: 0.0716 - val_loss: 0.1264 - val_accuracy: 0.7590 - val_recall_1: 0.1763\n",
      "Epoch 32/80\n",
      "345/346 [============================>.] - ETA: 0s - loss: 0.1380 - accuracy: 0.5675 - recall_1: 0.0751INFO:tensorflow:Assets written to: /home/paul_d/Sources/sem_math_repo/classification_formulas_multilabel/wandb/run-20230315_233129-0o2wxjlb/files/model-best/assets\n"
     ]
    },
    {
     "name": "stderr",
     "output_type": "stream",
     "text": [
      "INFO:tensorflow:Assets written to: /home/paul_d/Sources/sem_math_repo/classification_formulas_multilabel/wandb/run-20230315_233129-0o2wxjlb/files/model-best/assets\n"
     ]
    },
    {
     "name": "stdout",
     "output_type": "stream",
     "text": [
      "346/346 [==============================] - 6s 17ms/step - loss: 0.1381 - accuracy: 0.5667 - recall_1: 0.0749 - val_loss: 0.1261 - val_accuracy: 0.7636 - val_recall_1: 0.1775\n",
      "Epoch 33/80\n",
      "343/346 [============================>.] - ETA: 0s - loss: 0.1374 - accuracy: 0.5721 - recall_1: 0.0795INFO:tensorflow:Assets written to: /home/paul_d/Sources/sem_math_repo/classification_formulas_multilabel/wandb/run-20230315_233129-0o2wxjlb/files/model-best/assets\n"
     ]
    },
    {
     "name": "stderr",
     "output_type": "stream",
     "text": [
      "INFO:tensorflow:Assets written to: /home/paul_d/Sources/sem_math_repo/classification_formulas_multilabel/wandb/run-20230315_233129-0o2wxjlb/files/model-best/assets\n"
     ]
    },
    {
     "name": "stdout",
     "output_type": "stream",
     "text": [
      "346/346 [==============================] - 5s 16ms/step - loss: 0.1376 - accuracy: 0.5696 - recall_1: 0.0791 - val_loss: 0.1256 - val_accuracy: 0.7644 - val_recall_1: 0.1799\n",
      "Epoch 34/80\n",
      "341/346 [============================>.] - ETA: 0s - loss: 0.1371 - accuracy: 0.5744 - recall_1: 0.0828INFO:tensorflow:Assets written to: /home/paul_d/Sources/sem_math_repo/classification_formulas_multilabel/wandb/run-20230315_233129-0o2wxjlb/files/model-best/assets\n"
     ]
    },
    {
     "name": "stderr",
     "output_type": "stream",
     "text": [
      "INFO:tensorflow:Assets written to: /home/paul_d/Sources/sem_math_repo/classification_formulas_multilabel/wandb/run-20230315_233129-0o2wxjlb/files/model-best/assets\n"
     ]
    },
    {
     "name": "stdout",
     "output_type": "stream",
     "text": [
      "346/346 [==============================] - 5s 14ms/step - loss: 0.1376 - accuracy: 0.5709 - recall_1: 0.0823 - val_loss: 0.1253 - val_accuracy: 0.7644 - val_recall_1: 0.1817\n",
      "Epoch 35/80\n",
      "343/346 [============================>.] - ETA: 0s - loss: 0.1370 - accuracy: 0.5726 - recall_1: 0.0859INFO:tensorflow:Assets written to: /home/paul_d/Sources/sem_math_repo/classification_formulas_multilabel/wandb/run-20230315_233129-0o2wxjlb/files/model-best/assets\n"
     ]
    },
    {
     "name": "stderr",
     "output_type": "stream",
     "text": [
      "INFO:tensorflow:Assets written to: /home/paul_d/Sources/sem_math_repo/classification_formulas_multilabel/wandb/run-20230315_233129-0o2wxjlb/files/model-best/assets\n"
     ]
    },
    {
     "name": "stdout",
     "output_type": "stream",
     "text": [
      "346/346 [==============================] - 5s 13ms/step - loss: 0.1373 - accuracy: 0.5698 - recall_1: 0.0855 - val_loss: 0.1251 - val_accuracy: 0.7648 - val_recall_1: 0.1914\n",
      "Epoch 36/80\n",
      "343/346 [============================>.] - ETA: 0s - loss: 0.1369 - accuracy: 0.5733 - recall_1: 0.0882INFO:tensorflow:Assets written to: /home/paul_d/Sources/sem_math_repo/classification_formulas_multilabel/wandb/run-20230315_233129-0o2wxjlb/files/model-best/assets\n"
     ]
    },
    {
     "name": "stderr",
     "output_type": "stream",
     "text": [
      "INFO:tensorflow:Assets written to: /home/paul_d/Sources/sem_math_repo/classification_formulas_multilabel/wandb/run-20230315_233129-0o2wxjlb/files/model-best/assets\n"
     ]
    },
    {
     "name": "stdout",
     "output_type": "stream",
     "text": [
      "346/346 [==============================] - 5s 14ms/step - loss: 0.1372 - accuracy: 0.5710 - recall_1: 0.0876 - val_loss: 0.1249 - val_accuracy: 0.7652 - val_recall_1: 0.1923\n",
      "Epoch 37/80\n",
      "343/346 [============================>.] - ETA: 0s - loss: 0.1368 - accuracy: 0.5738 - recall_1: 0.0913INFO:tensorflow:Assets written to: /home/paul_d/Sources/sem_math_repo/classification_formulas_multilabel/wandb/run-20230315_233129-0o2wxjlb/files/model-best/assets\n"
     ]
    },
    {
     "name": "stderr",
     "output_type": "stream",
     "text": [
      "INFO:tensorflow:Assets written to: /home/paul_d/Sources/sem_math_repo/classification_formulas_multilabel/wandb/run-20230315_233129-0o2wxjlb/files/model-best/assets\n"
     ]
    },
    {
     "name": "stdout",
     "output_type": "stream",
     "text": [
      "346/346 [==============================] - 5s 13ms/step - loss: 0.1370 - accuracy: 0.5717 - recall_1: 0.0909 - val_loss: 0.1246 - val_accuracy: 0.7652 - val_recall_1: 0.1939\n",
      "Epoch 38/80\n",
      "343/346 [============================>.] - ETA: 0s - loss: 0.1367 - accuracy: 0.5756 - recall_1: 0.0940INFO:tensorflow:Assets written to: /home/paul_d/Sources/sem_math_repo/classification_formulas_multilabel/wandb/run-20230315_233129-0o2wxjlb/files/model-best/assets\n"
     ]
    },
    {
     "name": "stderr",
     "output_type": "stream",
     "text": [
      "INFO:tensorflow:Assets written to: /home/paul_d/Sources/sem_math_repo/classification_formulas_multilabel/wandb/run-20230315_233129-0o2wxjlb/files/model-best/assets\n"
     ]
    },
    {
     "name": "stdout",
     "output_type": "stream",
     "text": [
      "346/346 [==============================] - 5s 13ms/step - loss: 0.1369 - accuracy: 0.5737 - recall_1: 0.0939 - val_loss: 0.1245 - val_accuracy: 0.7652 - val_recall_1: 0.1946\n",
      "Epoch 39/80\n",
      "341/346 [============================>.] - ETA: 0s - loss: 0.1362 - accuracy: 0.5770 - recall_1: 0.0965INFO:tensorflow:Assets written to: /home/paul_d/Sources/sem_math_repo/classification_formulas_multilabel/wandb/run-20230315_233129-0o2wxjlb/files/model-best/assets\n"
     ]
    },
    {
     "name": "stderr",
     "output_type": "stream",
     "text": [
      "INFO:tensorflow:Assets written to: /home/paul_d/Sources/sem_math_repo/classification_formulas_multilabel/wandb/run-20230315_233129-0o2wxjlb/files/model-best/assets\n"
     ]
    },
    {
     "name": "stdout",
     "output_type": "stream",
     "text": [
      "346/346 [==============================] - 5s 14ms/step - loss: 0.1367 - accuracy: 0.5730 - recall_1: 0.0957 - val_loss: 0.1242 - val_accuracy: 0.7652 - val_recall_1: 0.1971\n",
      "Epoch 40/80\n",
      "345/346 [============================>.] - ETA: 0s - loss: 0.1363 - accuracy: 0.5765 - recall_1: 0.0985INFO:tensorflow:Assets written to: /home/paul_d/Sources/sem_math_repo/classification_formulas_multilabel/wandb/run-20230315_233129-0o2wxjlb/files/model-best/assets\n"
     ]
    },
    {
     "name": "stderr",
     "output_type": "stream",
     "text": [
      "INFO:tensorflow:Assets written to: /home/paul_d/Sources/sem_math_repo/classification_formulas_multilabel/wandb/run-20230315_233129-0o2wxjlb/files/model-best/assets\n"
     ]
    },
    {
     "name": "stdout",
     "output_type": "stream",
     "text": [
      "346/346 [==============================] - 5s 14ms/step - loss: 0.1364 - accuracy: 0.5759 - recall_1: 0.0984 - val_loss: 0.1241 - val_accuracy: 0.7660 - val_recall_1: 0.1973\n",
      "Epoch 41/80\n",
      "346/346 [==============================] - ETA: 0s - loss: 0.1364 - accuracy: 0.5750 - recall_1: 0.0986INFO:tensorflow:Assets written to: /home/paul_d/Sources/sem_math_repo/classification_formulas_multilabel/wandb/run-20230315_233129-0o2wxjlb/files/model-best/assets\n"
     ]
    },
    {
     "name": "stderr",
     "output_type": "stream",
     "text": [
      "INFO:tensorflow:Assets written to: /home/paul_d/Sources/sem_math_repo/classification_formulas_multilabel/wandb/run-20230315_233129-0o2wxjlb/files/model-best/assets\n"
     ]
    },
    {
     "name": "stdout",
     "output_type": "stream",
     "text": [
      "346/346 [==============================] - 6s 16ms/step - loss: 0.1364 - accuracy: 0.5750 - recall_1: 0.0986 - val_loss: 0.1240 - val_accuracy: 0.7660 - val_recall_1: 0.1977\n",
      "Epoch 42/80\n",
      "342/346 [============================>.] - ETA: 0s - loss: 0.1359 - accuracy: 0.5794 - recall_1: 0.1012INFO:tensorflow:Assets written to: /home/paul_d/Sources/sem_math_repo/classification_formulas_multilabel/wandb/run-20230315_233129-0o2wxjlb/files/model-best/assets\n"
     ]
    },
    {
     "name": "stderr",
     "output_type": "stream",
     "text": [
      "INFO:tensorflow:Assets written to: /home/paul_d/Sources/sem_math_repo/classification_formulas_multilabel/wandb/run-20230315_233129-0o2wxjlb/files/model-best/assets\n"
     ]
    },
    {
     "name": "stdout",
     "output_type": "stream",
     "text": [
      "346/346 [==============================] - 5s 14ms/step - loss: 0.1362 - accuracy: 0.5765 - recall_1: 0.1006 - val_loss: 0.1237 - val_accuracy: 0.7660 - val_recall_1: 0.1962\n",
      "Epoch 43/80\n",
      "343/346 [============================>.] - ETA: 0s - loss: 0.1360 - accuracy: 0.5776 - recall_1: 0.1043INFO:tensorflow:Assets written to: /home/paul_d/Sources/sem_math_repo/classification_formulas_multilabel/wandb/run-20230315_233129-0o2wxjlb/files/model-best/assets\n"
     ]
    },
    {
     "name": "stderr",
     "output_type": "stream",
     "text": [
      "INFO:tensorflow:Assets written to: /home/paul_d/Sources/sem_math_repo/classification_formulas_multilabel/wandb/run-20230315_233129-0o2wxjlb/files/model-best/assets\n"
     ]
    },
    {
     "name": "stdout",
     "output_type": "stream",
     "text": [
      "346/346 [==============================] - 5s 14ms/step - loss: 0.1362 - accuracy: 0.5753 - recall_1: 0.1038 - val_loss: 0.1236 - val_accuracy: 0.7648 - val_recall_1: 0.1962\n",
      "Epoch 44/80\n",
      "345/346 [============================>.] - ETA: 0s - loss: 0.1359 - accuracy: 0.5785 - recall_1: 0.1054INFO:tensorflow:Assets written to: /home/paul_d/Sources/sem_math_repo/classification_formulas_multilabel/wandb/run-20230315_233129-0o2wxjlb/files/model-best/assets\n"
     ]
    },
    {
     "name": "stderr",
     "output_type": "stream",
     "text": [
      "INFO:tensorflow:Assets written to: /home/paul_d/Sources/sem_math_repo/classification_formulas_multilabel/wandb/run-20230315_233129-0o2wxjlb/files/model-best/assets\n"
     ]
    },
    {
     "name": "stdout",
     "output_type": "stream",
     "text": [
      "346/346 [==============================] - 5s 13ms/step - loss: 0.1360 - accuracy: 0.5776 - recall_1: 0.1052 - val_loss: 0.1235 - val_accuracy: 0.7656 - val_recall_1: 0.1973\n",
      "Epoch 45/80\n",
      "343/346 [============================>.] - ETA: 0s - loss: 0.1359 - accuracy: 0.5776 - recall_1: 0.1065INFO:tensorflow:Assets written to: /home/paul_d/Sources/sem_math_repo/classification_formulas_multilabel/wandb/run-20230315_233129-0o2wxjlb/files/model-best/assets\n"
     ]
    },
    {
     "name": "stderr",
     "output_type": "stream",
     "text": [
      "INFO:tensorflow:Assets written to: /home/paul_d/Sources/sem_math_repo/classification_formulas_multilabel/wandb/run-20230315_233129-0o2wxjlb/files/model-best/assets\n"
     ]
    },
    {
     "name": "stdout",
     "output_type": "stream",
     "text": [
      "346/346 [==============================] - 5s 14ms/step - loss: 0.1360 - accuracy: 0.5757 - recall_1: 0.1063 - val_loss: 0.1234 - val_accuracy: 0.7656 - val_recall_1: 0.1973\n",
      "Epoch 46/80\n",
      "346/346 [==============================] - ETA: 0s - loss: 0.1357 - accuracy: 0.5770 - recall_1: 0.1080INFO:tensorflow:Assets written to: /home/paul_d/Sources/sem_math_repo/classification_formulas_multilabel/wandb/run-20230315_233129-0o2wxjlb/files/model-best/assets\n"
     ]
    },
    {
     "name": "stderr",
     "output_type": "stream",
     "text": [
      "INFO:tensorflow:Assets written to: /home/paul_d/Sources/sem_math_repo/classification_formulas_multilabel/wandb/run-20230315_233129-0o2wxjlb/files/model-best/assets\n"
     ]
    },
    {
     "name": "stdout",
     "output_type": "stream",
     "text": [
      "346/346 [==============================] - 5s 15ms/step - loss: 0.1357 - accuracy: 0.5770 - recall_1: 0.1080 - val_loss: 0.1232 - val_accuracy: 0.7656 - val_recall_1: 0.1971\n",
      "Epoch 47/80\n",
      "343/346 [============================>.] - ETA: 0s - loss: 0.1357 - accuracy: 0.5809 - recall_1: 0.1104INFO:tensorflow:Assets written to: /home/paul_d/Sources/sem_math_repo/classification_formulas_multilabel/wandb/run-20230315_233129-0o2wxjlb/files/model-best/assets\n"
     ]
    },
    {
     "name": "stderr",
     "output_type": "stream",
     "text": [
      "INFO:tensorflow:Assets written to: /home/paul_d/Sources/sem_math_repo/classification_formulas_multilabel/wandb/run-20230315_233129-0o2wxjlb/files/model-best/assets\n"
     ]
    },
    {
     "name": "stdout",
     "output_type": "stream",
     "text": [
      "346/346 [==============================] - 5s 13ms/step - loss: 0.1359 - accuracy: 0.5789 - recall_1: 0.1101 - val_loss: 0.1232 - val_accuracy: 0.7660 - val_recall_1: 0.1966\n",
      "Epoch 48/80\n",
      "346/346 [==============================] - ETA: 0s - loss: 0.1356 - accuracy: 0.5787 - recall_1: 0.1127INFO:tensorflow:Assets written to: /home/paul_d/Sources/sem_math_repo/classification_formulas_multilabel/wandb/run-20230315_233129-0o2wxjlb/files/model-best/assets\n"
     ]
    },
    {
     "name": "stderr",
     "output_type": "stream",
     "text": [
      "INFO:tensorflow:Assets written to: /home/paul_d/Sources/sem_math_repo/classification_formulas_multilabel/wandb/run-20230315_233129-0o2wxjlb/files/model-best/assets\n"
     ]
    },
    {
     "name": "stdout",
     "output_type": "stream",
     "text": [
      "346/346 [==============================] - 5s 13ms/step - loss: 0.1356 - accuracy: 0.5787 - recall_1: 0.1127 - val_loss: 0.1231 - val_accuracy: 0.7664 - val_recall_1: 0.1964\n",
      "Epoch 49/80\n",
      "342/346 [============================>.] - ETA: 0s - loss: 0.1352 - accuracy: 0.5842 - recall_1: 0.1133INFO:tensorflow:Assets written to: /home/paul_d/Sources/sem_math_repo/classification_formulas_multilabel/wandb/run-20230315_233129-0o2wxjlb/files/model-best/assets\n"
     ]
    },
    {
     "name": "stderr",
     "output_type": "stream",
     "text": [
      "INFO:tensorflow:Assets written to: /home/paul_d/Sources/sem_math_repo/classification_formulas_multilabel/wandb/run-20230315_233129-0o2wxjlb/files/model-best/assets\n"
     ]
    },
    {
     "name": "stdout",
     "output_type": "stream",
     "text": [
      "346/346 [==============================] - 4s 13ms/step - loss: 0.1355 - accuracy: 0.5807 - recall_1: 0.1125 - val_loss: 0.1230 - val_accuracy: 0.7664 - val_recall_1: 0.1964\n",
      "Epoch 50/80\n",
      "343/346 [============================>.] - ETA: 0s - loss: 0.1352 - accuracy: 0.5840 - recall_1: 0.1150INFO:tensorflow:Assets written to: /home/paul_d/Sources/sem_math_repo/classification_formulas_multilabel/wandb/run-20230315_233129-0o2wxjlb/files/model-best/assets\n"
     ]
    },
    {
     "name": "stderr",
     "output_type": "stream",
     "text": [
      "INFO:tensorflow:Assets written to: /home/paul_d/Sources/sem_math_repo/classification_formulas_multilabel/wandb/run-20230315_233129-0o2wxjlb/files/model-best/assets\n"
     ]
    },
    {
     "name": "stdout",
     "output_type": "stream",
     "text": [
      "346/346 [==============================] - 5s 13ms/step - loss: 0.1354 - accuracy: 0.5816 - recall_1: 0.1145 - val_loss: 0.1229 - val_accuracy: 0.7664 - val_recall_1: 0.1964\n",
      "Epoch 51/80\n",
      "343/346 [============================>.] - ETA: 0s - loss: 0.1351 - accuracy: 0.5820 - recall_1: 0.1159INFO:tensorflow:Assets written to: /home/paul_d/Sources/sem_math_repo/classification_formulas_multilabel/wandb/run-20230315_233129-0o2wxjlb/files/model-best/assets\n"
     ]
    },
    {
     "name": "stderr",
     "output_type": "stream",
     "text": [
      "INFO:tensorflow:Assets written to: /home/paul_d/Sources/sem_math_repo/classification_formulas_multilabel/wandb/run-20230315_233129-0o2wxjlb/files/model-best/assets\n"
     ]
    },
    {
     "name": "stdout",
     "output_type": "stream",
     "text": [
      "346/346 [==============================] - 4s 13ms/step - loss: 0.1352 - accuracy: 0.5803 - recall_1: 0.1155 - val_loss: 0.1228 - val_accuracy: 0.7669 - val_recall_1: 0.1962\n",
      "Epoch 52/80\n",
      "345/346 [============================>.] - ETA: 0s - loss: 0.1351 - accuracy: 0.5810 - recall_1: 0.1158INFO:tensorflow:Assets written to: /home/paul_d/Sources/sem_math_repo/classification_formulas_multilabel/wandb/run-20230315_233129-0o2wxjlb/files/model-best/assets\n"
     ]
    },
    {
     "name": "stderr",
     "output_type": "stream",
     "text": [
      "INFO:tensorflow:Assets written to: /home/paul_d/Sources/sem_math_repo/classification_formulas_multilabel/wandb/run-20230315_233129-0o2wxjlb/files/model-best/assets\n"
     ]
    },
    {
     "name": "stdout",
     "output_type": "stream",
     "text": [
      "346/346 [==============================] - 4s 13ms/step - loss: 0.1352 - accuracy: 0.5802 - recall_1: 0.1156 - val_loss: 0.1227 - val_accuracy: 0.7669 - val_recall_1: 0.1962\n",
      "Epoch 53/80\n",
      "343/346 [============================>.] - ETA: 0s - loss: 0.1350 - accuracy: 0.5831 - recall_1: 0.1193INFO:tensorflow:Assets written to: /home/paul_d/Sources/sem_math_repo/classification_formulas_multilabel/wandb/run-20230315_233129-0o2wxjlb/files/model-best/assets\n"
     ]
    },
    {
     "name": "stderr",
     "output_type": "stream",
     "text": [
      "INFO:tensorflow:Assets written to: /home/paul_d/Sources/sem_math_repo/classification_formulas_multilabel/wandb/run-20230315_233129-0o2wxjlb/files/model-best/assets\n"
     ]
    },
    {
     "name": "stdout",
     "output_type": "stream",
     "text": [
      "346/346 [==============================] - 5s 15ms/step - loss: 0.1351 - accuracy: 0.5812 - recall_1: 0.1188 - val_loss: 0.1226 - val_accuracy: 0.7669 - val_recall_1: 0.1962\n",
      "Epoch 54/80\n",
      "344/346 [============================>.] - ETA: 0s - loss: 0.1351 - accuracy: 0.5820 - recall_1: 0.1173INFO:tensorflow:Assets written to: /home/paul_d/Sources/sem_math_repo/classification_formulas_multilabel/wandb/run-20230315_233129-0o2wxjlb/files/model-best/assets\n"
     ]
    },
    {
     "name": "stderr",
     "output_type": "stream",
     "text": [
      "INFO:tensorflow:Assets written to: /home/paul_d/Sources/sem_math_repo/classification_formulas_multilabel/wandb/run-20230315_233129-0o2wxjlb/files/model-best/assets\n"
     ]
    },
    {
     "name": "stdout",
     "output_type": "stream",
     "text": [
      "346/346 [==============================] - 5s 15ms/step - loss: 0.1352 - accuracy: 0.5811 - recall_1: 0.1170 - val_loss: 0.1225 - val_accuracy: 0.7681 - val_recall_1: 0.2000\n",
      "Epoch 55/80\n",
      "341/346 [============================>.] - ETA: 0s - loss: 0.1347 - accuracy: 0.5852 - recall_1: 0.1193INFO:tensorflow:Assets written to: /home/paul_d/Sources/sem_math_repo/classification_formulas_multilabel/wandb/run-20230315_233129-0o2wxjlb/files/model-best/assets\n"
     ]
    },
    {
     "name": "stderr",
     "output_type": "stream",
     "text": [
      "INFO:tensorflow:Assets written to: /home/paul_d/Sources/sem_math_repo/classification_formulas_multilabel/wandb/run-20230315_233129-0o2wxjlb/files/model-best/assets\n"
     ]
    },
    {
     "name": "stdout",
     "output_type": "stream",
     "text": [
      "346/346 [==============================] - 5s 13ms/step - loss: 0.1351 - accuracy: 0.5813 - recall_1: 0.1184 - val_loss: 0.1224 - val_accuracy: 0.7685 - val_recall_1: 0.2005\n",
      "Epoch 56/80\n",
      "346/346 [==============================] - ETA: 0s - loss: 0.1350 - accuracy: 0.5812 - recall_1: 0.1191INFO:tensorflow:Assets written to: /home/paul_d/Sources/sem_math_repo/classification_formulas_multilabel/wandb/run-20230315_233129-0o2wxjlb/files/model-best/assets\n"
     ]
    },
    {
     "name": "stderr",
     "output_type": "stream",
     "text": [
      "INFO:tensorflow:Assets written to: /home/paul_d/Sources/sem_math_repo/classification_formulas_multilabel/wandb/run-20230315_233129-0o2wxjlb/files/model-best/assets\n"
     ]
    },
    {
     "name": "stdout",
     "output_type": "stream",
     "text": [
      "346/346 [==============================] - 5s 14ms/step - loss: 0.1350 - accuracy: 0.5812 - recall_1: 0.1191 - val_loss: 0.1224 - val_accuracy: 0.7706 - val_recall_1: 0.2036\n",
      "Epoch 57/80\n",
      "343/346 [============================>.] - ETA: 0s - loss: 0.1347 - accuracy: 0.5851 - recall_1: 0.1206INFO:tensorflow:Assets written to: /home/paul_d/Sources/sem_math_repo/classification_formulas_multilabel/wandb/run-20230315_233129-0o2wxjlb/files/model-best/assets\n"
     ]
    },
    {
     "name": "stderr",
     "output_type": "stream",
     "text": [
      "INFO:tensorflow:Assets written to: /home/paul_d/Sources/sem_math_repo/classification_formulas_multilabel/wandb/run-20230315_233129-0o2wxjlb/files/model-best/assets\n"
     ]
    },
    {
     "name": "stdout",
     "output_type": "stream",
     "text": [
      "346/346 [==============================] - 5s 15ms/step - loss: 0.1349 - accuracy: 0.5827 - recall_1: 0.1202 - val_loss: 0.1222 - val_accuracy: 0.7718 - val_recall_1: 0.2043\n",
      "Epoch 58/80\n",
      "345/346 [============================>.] - ETA: 0s - loss: 0.1347 - accuracy: 0.5841 - recall_1: 0.1216INFO:tensorflow:Assets written to: /home/paul_d/Sources/sem_math_repo/classification_formulas_multilabel/wandb/run-20230315_233129-0o2wxjlb/files/model-best/assets\n"
     ]
    },
    {
     "name": "stderr",
     "output_type": "stream",
     "text": [
      "INFO:tensorflow:Assets written to: /home/paul_d/Sources/sem_math_repo/classification_formulas_multilabel/wandb/run-20230315_233129-0o2wxjlb/files/model-best/assets\n"
     ]
    },
    {
     "name": "stdout",
     "output_type": "stream",
     "text": [
      "346/346 [==============================] - 5s 15ms/step - loss: 0.1347 - accuracy: 0.5833 - recall_1: 0.1213 - val_loss: 0.1222 - val_accuracy: 0.7718 - val_recall_1: 0.2041\n",
      "Epoch 59/80\n",
      "343/346 [============================>.] - ETA: 0s - loss: 0.1345 - accuracy: 0.5850 - recall_1: 0.1228INFO:tensorflow:Assets written to: /home/paul_d/Sources/sem_math_repo/classification_formulas_multilabel/wandb/run-20230315_233129-0o2wxjlb/files/model-best/assets\n"
     ]
    },
    {
     "name": "stderr",
     "output_type": "stream",
     "text": [
      "INFO:tensorflow:Assets written to: /home/paul_d/Sources/sem_math_repo/classification_formulas_multilabel/wandb/run-20230315_233129-0o2wxjlb/files/model-best/assets\n"
     ]
    },
    {
     "name": "stdout",
     "output_type": "stream",
     "text": [
      "346/346 [==============================] - 5s 14ms/step - loss: 0.1347 - accuracy: 0.5826 - recall_1: 0.1222 - val_loss: 0.1221 - val_accuracy: 0.7722 - val_recall_1: 0.2122\n",
      "Epoch 60/80\n",
      "343/346 [============================>.] - ETA: 0s - loss: 0.1344 - accuracy: 0.5858 - recall_1: 0.1248INFO:tensorflow:Assets written to: /home/paul_d/Sources/sem_math_repo/classification_formulas_multilabel/wandb/run-20230315_233129-0o2wxjlb/files/model-best/assets\n"
     ]
    },
    {
     "name": "stderr",
     "output_type": "stream",
     "text": [
      "INFO:tensorflow:Assets written to: /home/paul_d/Sources/sem_math_repo/classification_formulas_multilabel/wandb/run-20230315_233129-0o2wxjlb/files/model-best/assets\n"
     ]
    },
    {
     "name": "stdout",
     "output_type": "stream",
     "text": [
      "346/346 [==============================] - 5s 13ms/step - loss: 0.1346 - accuracy: 0.5833 - recall_1: 0.1242 - val_loss: 0.1220 - val_accuracy: 0.7718 - val_recall_1: 0.2129\n",
      "Epoch 61/80\n",
      "343/346 [============================>.] - ETA: 0s - loss: 0.1342 - accuracy: 0.5871 - recall_1: 0.1234INFO:tensorflow:Assets written to: /home/paul_d/Sources/sem_math_repo/classification_formulas_multilabel/wandb/run-20230315_233129-0o2wxjlb/files/model-best/assets\n"
     ]
    },
    {
     "name": "stderr",
     "output_type": "stream",
     "text": [
      "INFO:tensorflow:Assets written to: /home/paul_d/Sources/sem_math_repo/classification_formulas_multilabel/wandb/run-20230315_233129-0o2wxjlb/files/model-best/assets\n"
     ]
    },
    {
     "name": "stdout",
     "output_type": "stream",
     "text": [
      "346/346 [==============================] - 5s 15ms/step - loss: 0.1344 - accuracy: 0.5845 - recall_1: 0.1229 - val_loss: 0.1220 - val_accuracy: 0.7718 - val_recall_1: 0.2129\n",
      "Epoch 62/80\n",
      "346/346 [==============================] - 4s 11ms/step - loss: 0.1345 - accuracy: 0.5824 - recall_1: 0.1235 - val_loss: 0.1220 - val_accuracy: 0.7722 - val_recall_1: 0.2131\n",
      "Epoch 63/80\n",
      "346/346 [==============================] - ETA: 0s - loss: 0.1344 - accuracy: 0.5837 - recall_1: 0.1249INFO:tensorflow:Assets written to: /home/paul_d/Sources/sem_math_repo/classification_formulas_multilabel/wandb/run-20230315_233129-0o2wxjlb/files/model-best/assets\n"
     ]
    },
    {
     "name": "stderr",
     "output_type": "stream",
     "text": [
      "INFO:tensorflow:Assets written to: /home/paul_d/Sources/sem_math_repo/classification_formulas_multilabel/wandb/run-20230315_233129-0o2wxjlb/files/model-best/assets\n"
     ]
    },
    {
     "name": "stdout",
     "output_type": "stream",
     "text": [
      "346/346 [==============================] - 5s 15ms/step - loss: 0.1344 - accuracy: 0.5837 - recall_1: 0.1249 - val_loss: 0.1219 - val_accuracy: 0.7722 - val_recall_1: 0.2131\n",
      "Epoch 64/80\n",
      "346/346 [==============================] - ETA: 0s - loss: 0.1344 - accuracy: 0.5848 - recall_1: 0.1250INFO:tensorflow:Assets written to: /home/paul_d/Sources/sem_math_repo/classification_formulas_multilabel/wandb/run-20230315_233129-0o2wxjlb/files/model-best/assets\n"
     ]
    },
    {
     "name": "stderr",
     "output_type": "stream",
     "text": [
      "INFO:tensorflow:Assets written to: /home/paul_d/Sources/sem_math_repo/classification_formulas_multilabel/wandb/run-20230315_233129-0o2wxjlb/files/model-best/assets\n"
     ]
    },
    {
     "name": "stdout",
     "output_type": "stream",
     "text": [
      "346/346 [==============================] - 4s 13ms/step - loss: 0.1344 - accuracy: 0.5848 - recall_1: 0.1250 - val_loss: 0.1217 - val_accuracy: 0.7718 - val_recall_1: 0.2124\n",
      "Epoch 65/80\n",
      "346/346 [==============================] - 4s 12ms/step - loss: 0.1343 - accuracy: 0.5830 - recall_1: 0.1251 - val_loss: 0.1218 - val_accuracy: 0.7718 - val_recall_1: 0.2124\n",
      "Epoch 66/80\n",
      "345/346 [============================>.] - ETA: 0s - loss: 0.1342 - accuracy: 0.5857 - recall_1: 0.1275INFO:tensorflow:Assets written to: /home/paul_d/Sources/sem_math_repo/classification_formulas_multilabel/wandb/run-20230315_233129-0o2wxjlb/files/model-best/assets\n"
     ]
    },
    {
     "name": "stderr",
     "output_type": "stream",
     "text": [
      "INFO:tensorflow:Assets written to: /home/paul_d/Sources/sem_math_repo/classification_formulas_multilabel/wandb/run-20230315_233129-0o2wxjlb/files/model-best/assets\n"
     ]
    },
    {
     "name": "stdout",
     "output_type": "stream",
     "text": [
      "346/346 [==============================] - 5s 14ms/step - loss: 0.1343 - accuracy: 0.5850 - recall_1: 0.1273 - val_loss: 0.1217 - val_accuracy: 0.7710 - val_recall_1: 0.2153\n",
      "Epoch 67/80\n",
      "345/346 [============================>.] - ETA: 0s - loss: 0.1342 - accuracy: 0.5865 - recall_1: 0.1287INFO:tensorflow:Assets written to: /home/paul_d/Sources/sem_math_repo/classification_formulas_multilabel/wandb/run-20230315_233129-0o2wxjlb/files/model-best/assets\n"
     ]
    },
    {
     "name": "stderr",
     "output_type": "stream",
     "text": [
      "INFO:tensorflow:Assets written to: /home/paul_d/Sources/sem_math_repo/classification_formulas_multilabel/wandb/run-20230315_233129-0o2wxjlb/files/model-best/assets\n"
     ]
    },
    {
     "name": "stdout",
     "output_type": "stream",
     "text": [
      "346/346 [==============================] - 5s 16ms/step - loss: 0.1342 - accuracy: 0.5859 - recall_1: 0.1286 - val_loss: 0.1216 - val_accuracy: 0.7706 - val_recall_1: 0.2160\n",
      "Epoch 68/80\n",
      "344/346 [============================>.] - ETA: 0s - loss: 0.1340 - accuracy: 0.5877 - recall_1: 0.1270INFO:tensorflow:Assets written to: /home/paul_d/Sources/sem_math_repo/classification_formulas_multilabel/wandb/run-20230315_233129-0o2wxjlb/files/model-best/assets\n"
     ]
    },
    {
     "name": "stderr",
     "output_type": "stream",
     "text": [
      "INFO:tensorflow:Assets written to: /home/paul_d/Sources/sem_math_repo/classification_formulas_multilabel/wandb/run-20230315_233129-0o2wxjlb/files/model-best/assets\n"
     ]
    },
    {
     "name": "stdout",
     "output_type": "stream",
     "text": [
      "346/346 [==============================] - 6s 19ms/step - loss: 0.1342 - accuracy: 0.5861 - recall_1: 0.1267 - val_loss: 0.1215 - val_accuracy: 0.7755 - val_recall_1: 0.2165\n",
      "Epoch 69/80\n",
      "346/346 [==============================] - 5s 13ms/step - loss: 0.1342 - accuracy: 0.5872 - recall_1: 0.1267 - val_loss: 0.1216 - val_accuracy: 0.7755 - val_recall_1: 0.2169\n",
      "Epoch 70/80\n",
      "344/346 [============================>.] - ETA: 0s - loss: 0.1340 - accuracy: 0.5883 - recall_1: 0.1292INFO:tensorflow:Assets written to: /home/paul_d/Sources/sem_math_repo/classification_formulas_multilabel/wandb/run-20230315_233129-0o2wxjlb/files/model-best/assets\n"
     ]
    },
    {
     "name": "stderr",
     "output_type": "stream",
     "text": [
      "INFO:tensorflow:Assets written to: /home/paul_d/Sources/sem_math_repo/classification_formulas_multilabel/wandb/run-20230315_233129-0o2wxjlb/files/model-best/assets\n"
     ]
    },
    {
     "name": "stdout",
     "output_type": "stream",
     "text": [
      "346/346 [==============================] - 6s 18ms/step - loss: 0.1341 - accuracy: 0.5868 - recall_1: 0.1288 - val_loss: 0.1215 - val_accuracy: 0.7755 - val_recall_1: 0.2169\n",
      "Epoch 71/80\n",
      "343/346 [============================>.] - ETA: 0s - loss: 0.1338 - accuracy: 0.5879 - recall_1: 0.1284INFO:tensorflow:Assets written to: /home/paul_d/Sources/sem_math_repo/classification_formulas_multilabel/wandb/run-20230315_233129-0o2wxjlb/files/model-best/assets\n"
     ]
    },
    {
     "name": "stderr",
     "output_type": "stream",
     "text": [
      "INFO:tensorflow:Assets written to: /home/paul_d/Sources/sem_math_repo/classification_formulas_multilabel/wandb/run-20230315_233129-0o2wxjlb/files/model-best/assets\n"
     ]
    },
    {
     "name": "stdout",
     "output_type": "stream",
     "text": [
      "346/346 [==============================] - 5s 15ms/step - loss: 0.1340 - accuracy: 0.5860 - recall_1: 0.1277 - val_loss: 0.1214 - val_accuracy: 0.7759 - val_recall_1: 0.2171\n",
      "Epoch 72/80\n",
      "342/346 [============================>.] - ETA: 0s - loss: 0.1336 - accuracy: 0.5898 - recall_1: 0.1310INFO:tensorflow:Assets written to: /home/paul_d/Sources/sem_math_repo/classification_formulas_multilabel/wandb/run-20230315_233129-0o2wxjlb/files/model-best/assets\n"
     ]
    },
    {
     "name": "stderr",
     "output_type": "stream",
     "text": [
      "INFO:tensorflow:Assets written to: /home/paul_d/Sources/sem_math_repo/classification_formulas_multilabel/wandb/run-20230315_233129-0o2wxjlb/files/model-best/assets\n"
     ]
    },
    {
     "name": "stdout",
     "output_type": "stream",
     "text": [
      "346/346 [==============================] - 5s 14ms/step - loss: 0.1339 - accuracy: 0.5868 - recall_1: 0.1302 - val_loss: 0.1214 - val_accuracy: 0.7759 - val_recall_1: 0.2171\n",
      "Epoch 73/80\n",
      "344/346 [============================>.] - ETA: 0s - loss: 0.1337 - accuracy: 0.5896 - recall_1: 0.1293INFO:tensorflow:Assets written to: /home/paul_d/Sources/sem_math_repo/classification_formulas_multilabel/wandb/run-20230315_233129-0o2wxjlb/files/model-best/assets\n"
     ]
    },
    {
     "name": "stderr",
     "output_type": "stream",
     "text": [
      "INFO:tensorflow:Assets written to: /home/paul_d/Sources/sem_math_repo/classification_formulas_multilabel/wandb/run-20230315_233129-0o2wxjlb/files/model-best/assets\n"
     ]
    },
    {
     "name": "stdout",
     "output_type": "stream",
     "text": [
      "346/346 [==============================] - 5s 14ms/step - loss: 0.1339 - accuracy: 0.5879 - recall_1: 0.1289 - val_loss: 0.1213 - val_accuracy: 0.7759 - val_recall_1: 0.2176\n",
      "Epoch 74/80\n",
      "343/346 [============================>.] - ETA: 0s - loss: 0.1336 - accuracy: 0.5912 - recall_1: 0.1310INFO:tensorflow:Assets written to: /home/paul_d/Sources/sem_math_repo/classification_formulas_multilabel/wandb/run-20230315_233129-0o2wxjlb/files/model-best/assets\n"
     ]
    },
    {
     "name": "stderr",
     "output_type": "stream",
     "text": [
      "INFO:tensorflow:Assets written to: /home/paul_d/Sources/sem_math_repo/classification_formulas_multilabel/wandb/run-20230315_233129-0o2wxjlb/files/model-best/assets\n"
     ]
    },
    {
     "name": "stdout",
     "output_type": "stream",
     "text": [
      "346/346 [==============================] - 5s 13ms/step - loss: 0.1337 - accuracy: 0.5892 - recall_1: 0.1305 - val_loss: 0.1213 - val_accuracy: 0.7759 - val_recall_1: 0.2187\n",
      "Epoch 75/80\n",
      "342/346 [============================>.] - ETA: 0s - loss: 0.1334 - accuracy: 0.5895 - recall_1: 0.1307INFO:tensorflow:Assets written to: /home/paul_d/Sources/sem_math_repo/classification_formulas_multilabel/wandb/run-20230315_233129-0o2wxjlb/files/model-best/assets\n"
     ]
    },
    {
     "name": "stderr",
     "output_type": "stream",
     "text": [
      "INFO:tensorflow:Assets written to: /home/paul_d/Sources/sem_math_repo/classification_formulas_multilabel/wandb/run-20230315_233129-0o2wxjlb/files/model-best/assets\n"
     ]
    },
    {
     "name": "stdout",
     "output_type": "stream",
     "text": [
      "346/346 [==============================] - 5s 13ms/step - loss: 0.1337 - accuracy: 0.5866 - recall_1: 0.1301 - val_loss: 0.1212 - val_accuracy: 0.7738 - val_recall_1: 0.2189\n",
      "Epoch 76/80\n",
      "342/346 [============================>.] - ETA: 0s - loss: 0.1333 - accuracy: 0.5941 - recall_1: 0.1320INFO:tensorflow:Assets written to: /home/paul_d/Sources/sem_math_repo/classification_formulas_multilabel/wandb/run-20230315_233129-0o2wxjlb/files/model-best/assets\n"
     ]
    },
    {
     "name": "stderr",
     "output_type": "stream",
     "text": [
      "INFO:tensorflow:Assets written to: /home/paul_d/Sources/sem_math_repo/classification_formulas_multilabel/wandb/run-20230315_233129-0o2wxjlb/files/model-best/assets\n"
     ]
    },
    {
     "name": "stdout",
     "output_type": "stream",
     "text": [
      "346/346 [==============================] - 5s 15ms/step - loss: 0.1337 - accuracy: 0.5908 - recall_1: 0.1311 - val_loss: 0.1212 - val_accuracy: 0.7738 - val_recall_1: 0.2189\n",
      "Epoch 77/80\n",
      "346/346 [==============================] - 4s 12ms/step - loss: 0.1336 - accuracy: 0.5888 - recall_1: 0.1311 - val_loss: 0.1212 - val_accuracy: 0.7738 - val_recall_1: 0.2194\n",
      "Epoch 78/80\n",
      "342/346 [============================>.] - ETA: 0s - loss: 0.1333 - accuracy: 0.5912 - recall_1: 0.1316INFO:tensorflow:Assets written to: /home/paul_d/Sources/sem_math_repo/classification_formulas_multilabel/wandb/run-20230315_233129-0o2wxjlb/files/model-best/assets\n"
     ]
    },
    {
     "name": "stderr",
     "output_type": "stream",
     "text": [
      "INFO:tensorflow:Assets written to: /home/paul_d/Sources/sem_math_repo/classification_formulas_multilabel/wandb/run-20230315_233129-0o2wxjlb/files/model-best/assets\n"
     ]
    },
    {
     "name": "stdout",
     "output_type": "stream",
     "text": [
      "346/346 [==============================] - 5s 13ms/step - loss: 0.1337 - accuracy: 0.5886 - recall_1: 0.1308 - val_loss: 0.1210 - val_accuracy: 0.7738 - val_recall_1: 0.2196\n",
      "Epoch 79/80\n",
      "343/346 [============================>.] - ETA: 0s - loss: 0.1332 - accuracy: 0.5915 - recall_1: 0.1328INFO:tensorflow:Assets written to: /home/paul_d/Sources/sem_math_repo/classification_formulas_multilabel/wandb/run-20230315_233129-0o2wxjlb/files/model-best/assets\n"
     ]
    },
    {
     "name": "stderr",
     "output_type": "stream",
     "text": [
      "INFO:tensorflow:Assets written to: /home/paul_d/Sources/sem_math_repo/classification_formulas_multilabel/wandb/run-20230315_233129-0o2wxjlb/files/model-best/assets\n"
     ]
    },
    {
     "name": "stdout",
     "output_type": "stream",
     "text": [
      "346/346 [==============================] - 5s 15ms/step - loss: 0.1335 - accuracy: 0.5890 - recall_1: 0.1322 - val_loss: 0.1210 - val_accuracy: 0.7738 - val_recall_1: 0.2196\n",
      "Epoch 80/80\n",
      "346/346 [==============================] - ETA: 0s - loss: 0.1335 - accuracy: 0.5890 - recall_1: 0.1314INFO:tensorflow:Assets written to: /home/paul_d/Sources/sem_math_repo/classification_formulas_multilabel/wandb/run-20230315_233129-0o2wxjlb/files/model-best/assets\n"
     ]
    },
    {
     "name": "stderr",
     "output_type": "stream",
     "text": [
      "INFO:tensorflow:Assets written to: /home/paul_d/Sources/sem_math_repo/classification_formulas_multilabel/wandb/run-20230315_233129-0o2wxjlb/files/model-best/assets\n"
     ]
    },
    {
     "name": "stdout",
     "output_type": "stream",
     "text": [
      "346/346 [==============================] - 5s 14ms/step - loss: 0.1335 - accuracy: 0.5890 - recall_1: 0.1314 - val_loss: 0.1209 - val_accuracy: 0.7743 - val_recall_1: 0.2196\n"
     ]
    }
   ],
   "source": [
    "configs_dict = {\n",
    "    \"learning_rate\": optimal_lr,\n",
    "    \"emb_dim\": optimal_emb_dims,\n",
    "    \"dp1\": dp1, \n",
    "    \"dp2\": dp2,\n",
    "    \"algorithm\": \"LogReg\",\n",
    "    \"configuration\": \"multi_only_tokens\",\n",
    "    \"optimizer\": \"adam\",\n",
    "    \"loss\": \"binary_crossentropy\",\n",
    "    \"epochs\": NUM_EPOCHS,\n",
    "    \"batch_size\": 64,\n",
    "    \"vectorizer\": \"int\",\n",
    "    \"dataset\": \"multi_class_unbalanced_data_TOKENIZED_V1\"\n",
    "}\n",
    "\n",
    "run = wandb.init(project=wandb_project_name, reinit=True, config=configs_dict)\n",
    "\n",
    "history = model1.fit(train_dataset1, \n",
    "                    epochs=NUM_EPOCHS,\n",
    "                    validation_data=test_dataset1,\n",
    "                    #steps_per_epoch = STEPS_PER_EPOCH,\n",
    "                    validation_steps = VAL_STEPS_PER_EPOCH,\n",
    "                    callbacks= [WandbCallback()])#[tensorboard_callback])\n",
    "run.finish()"
   ]
  },
  {
   "attachments": {},
   "cell_type": "markdown",
   "metadata": {},
   "source": [
    "##### Model 2: ONLY TYPES\n",
    "Find best hyperparameters"
   ]
  },
  {
   "cell_type": "code",
   "execution_count": 50,
   "metadata": {},
   "outputs": [],
   "source": [
    "tokens_input_len = TOKENS_MAX_SEQ_LEN \n",
    "type_input_len = TYPE_TOKENS_MAX_SEQ_LEN\n",
    "NUM_CLASSES = 40\n",
    "\n",
    "encoder_int_types2 = create_encoder(\"int\", None, \"type\", train_dataset2, 2)    \n",
    "model_builder2 = mc_u.create_model_builder2_LR(NUM_CLASSES, encoder_int_types2,type_input_len)"
   ]
  },
  {
   "cell_type": "code",
   "execution_count": 51,
   "metadata": {},
   "outputs": [
    {
     "name": "stdout",
     "output_type": "stream",
     "text": [
      "INFO:tensorflow:Reloading Tuner from meta_dir/model2_lr/model2_lr/tuner0.json\n"
     ]
    },
    {
     "name": "stderr",
     "output_type": "stream",
     "text": [
      "INFO:tensorflow:Reloading Tuner from meta_dir/model2_lr/model2_lr/tuner0.json\n"
     ]
    }
   ],
   "source": [
    "tuner = kt.Hyperband(model_builder2,\n",
    "                     objective=kt.Objective(\"val_accuracy\", direction=\"max\"),\n",
    "                     max_epochs=20,\n",
    "                     factor=3,\n",
    "                     directory='meta_dir/model2_lr',\n",
    "                     project_name='model2_lr')\n",
    "stop_early = tf.keras.callbacks.EarlyStopping(monitor='val_loss', patience=3)\n"
   ]
  },
  {
   "cell_type": "code",
   "execution_count": 52,
   "metadata": {},
   "outputs": [
    {
     "name": "stdout",
     "output_type": "stream",
     "text": [
      "Trial 25 Complete [00h 01m 15s]\n",
      "val_accuracy: 0.5353618264198303\n",
      "\n",
      "Best val_accuracy So Far: 0.875\n",
      "Total elapsed time: 00h 11m 07s\n",
      "INFO:tensorflow:Oracle triggered exit\n"
     ]
    },
    {
     "name": "stderr",
     "output_type": "stream",
     "text": [
      "INFO:tensorflow:Oracle triggered exit\n"
     ]
    }
   ],
   "source": [
    "tuner.search(train_dataset2,\n",
    "             epochs=30,\n",
    "             validation_data=test_dataset2,\n",
    "             #steps_per_epoch = STEPS_PER_EPOCH,\n",
    "             validation_steps = VAL_STEPS_PER_EPOCH,\n",
    "             callbacks= [stop_early])#[tensorboard_callback])"
   ]
  },
  {
   "cell_type": "code",
   "execution_count": 53,
   "metadata": {},
   "outputs": [
    {
     "name": "stdout",
     "output_type": "stream",
     "text": [
      "0.0001\n",
      "64\n",
      "0.2\n",
      "0.3\n"
     ]
    }
   ],
   "source": [
    "best_hps=tuner.get_best_hyperparameters(num_trials=1)[0]\n",
    "optimal_lr = best_hps.get(\"learning_rate\")\n",
    "optimal_emb_dims = best_hps.get(\"emb_dims\")\n",
    "dp1 = best_hps.get(\"dropout1\")\n",
    "dp2 = best_hps.get(\"dropout2\")\n",
    "print(optimal_lr)\n",
    "print(optimal_emb_dims)\n",
    "print(dp1)\n",
    "print(dp2)"
   ]
  },
  {
   "attachments": {},
   "cell_type": "markdown",
   "metadata": {},
   "source": [
    "Train with best hyperparameters"
   ]
  },
  {
   "cell_type": "code",
   "execution_count": 54,
   "metadata": {},
   "outputs": [],
   "source": [
    "NUM_EPOCHS = 80\n",
    "model2 = mc_u.create_model2_LR(NUM_CLASSES, optimal_emb_dims, dp1, dp2, encoder_int_types2, type_input_len)\n",
    "model2.compile(loss=tf.keras.losses.BinaryCrossentropy(from_logits=True),\n",
    "              optimizer=tf.keras.optimizers.Adam(optimal_lr),\n",
    "              metrics=[\"accuracy\", tf.keras.metrics.Recall()])"
   ]
  },
  {
   "cell_type": "code",
   "execution_count": 55,
   "metadata": {},
   "outputs": [
    {
     "name": "stdout",
     "output_type": "stream",
     "text": [
      "Epoch 1/80\n",
      "341/346 [============================>.] - ETA: 0s - loss: 0.6561 - accuracy: 0.0669 - recall_1: 0.0000e+00INFO:tensorflow:Assets written to: /home/paul_d/Sources/sem_math_repo/classification_formulas_multilabel/wandb/run-20230315_235239-39ogj0p4/files/model-best/assets\n"
     ]
    },
    {
     "name": "stderr",
     "output_type": "stream",
     "text": [
      "INFO:tensorflow:Assets written to: /home/paul_d/Sources/sem_math_repo/classification_formulas_multilabel/wandb/run-20230315_235239-39ogj0p4/files/model-best/assets\n"
     ]
    },
    {
     "name": "stdout",
     "output_type": "stream",
     "text": [
      "346/346 [==============================] - 4s 10ms/step - loss: 0.6554 - accuracy: 0.0662 - recall_1: 0.0000e+00 - val_loss: 0.6184 - val_accuracy: 0.2410 - val_recall_1: 0.0000e+00\n",
      "Epoch 2/80\n",
      "345/346 [============================>.] - ETA: 0s - loss: 0.5360 - accuracy: 0.2428 - recall_1: 0.0000e+00INFO:tensorflow:Assets written to: /home/paul_d/Sources/sem_math_repo/classification_formulas_multilabel/wandb/run-20230315_235239-39ogj0p4/files/model-best/assets\n"
     ]
    },
    {
     "name": "stderr",
     "output_type": "stream",
     "text": [
      "INFO:tensorflow:Assets written to: /home/paul_d/Sources/sem_math_repo/classification_formulas_multilabel/wandb/run-20230315_235239-39ogj0p4/files/model-best/assets\n"
     ]
    },
    {
     "name": "stdout",
     "output_type": "stream",
     "text": [
      "346/346 [==============================] - 3s 10ms/step - loss: 0.5358 - accuracy: 0.2422 - recall_1: 0.0000e+00 - val_loss: 0.4843 - val_accuracy: 1.0000 - val_recall_1: 0.0000e+00\n",
      "Epoch 3/80\n",
      "345/346 [============================>.] - ETA: 0s - loss: 0.3834 - accuracy: 0.3574 - recall_1: 0.0000e+00INFO:tensorflow:Assets written to: /home/paul_d/Sources/sem_math_repo/classification_formulas_multilabel/wandb/run-20230315_235239-39ogj0p4/files/model-best/assets\n"
     ]
    },
    {
     "name": "stderr",
     "output_type": "stream",
     "text": [
      "INFO:tensorflow:Assets written to: /home/paul_d/Sources/sem_math_repo/classification_formulas_multilabel/wandb/run-20230315_235239-39ogj0p4/files/model-best/assets\n"
     ]
    },
    {
     "name": "stdout",
     "output_type": "stream",
     "text": [
      "346/346 [==============================] - 3s 9ms/step - loss: 0.3832 - accuracy: 0.3566 - recall_1: 0.0000e+00 - val_loss: 0.3490 - val_accuracy: 0.9396 - val_recall_1: 0.0000e+00\n",
      "Epoch 4/80\n",
      "344/346 [============================>.] - ETA: 0s - loss: 0.2702 - accuracy: 0.3694 - recall_1: 0.0000e+00INFO:tensorflow:Assets written to: /home/paul_d/Sources/sem_math_repo/classification_formulas_multilabel/wandb/run-20230315_235239-39ogj0p4/files/model-best/assets\n"
     ]
    },
    {
     "name": "stderr",
     "output_type": "stream",
     "text": [
      "INFO:tensorflow:Assets written to: /home/paul_d/Sources/sem_math_repo/classification_formulas_multilabel/wandb/run-20230315_235239-39ogj0p4/files/model-best/assets\n"
     ]
    },
    {
     "name": "stdout",
     "output_type": "stream",
     "text": [
      "346/346 [==============================] - 3s 9ms/step - loss: 0.2701 - accuracy: 0.3683 - recall_1: 0.0000e+00 - val_loss: 0.2575 - val_accuracy: 0.9330 - val_recall_1: 0.0000e+00\n",
      "Epoch 5/80\n",
      "345/346 [============================>.] - ETA: 0s - loss: 0.2084 - accuracy: 0.3785 - recall_1: 0.0000e+00INFO:tensorflow:Assets written to: /home/paul_d/Sources/sem_math_repo/classification_formulas_multilabel/wandb/run-20230315_235239-39ogj0p4/files/model-best/assets\n"
     ]
    },
    {
     "name": "stderr",
     "output_type": "stream",
     "text": [
      "INFO:tensorflow:Assets written to: /home/paul_d/Sources/sem_math_repo/classification_formulas_multilabel/wandb/run-20230315_235239-39ogj0p4/files/model-best/assets\n"
     ]
    },
    {
     "name": "stdout",
     "output_type": "stream",
     "text": [
      "346/346 [==============================] - 3s 10ms/step - loss: 0.2084 - accuracy: 0.3778 - recall_1: 0.0000e+00 - val_loss: 0.2060 - val_accuracy: 0.9280 - val_recall_1: 0.0000e+00\n",
      "Epoch 6/80\n",
      "342/346 [============================>.] - ETA: 0s - loss: 0.1781 - accuracy: 0.3921 - recall_1: 0.0000e+00INFO:tensorflow:Assets written to: /home/paul_d/Sources/sem_math_repo/classification_formulas_multilabel/wandb/run-20230315_235239-39ogj0p4/files/model-best/assets\n"
     ]
    },
    {
     "name": "stderr",
     "output_type": "stream",
     "text": [
      "INFO:tensorflow:Assets written to: /home/paul_d/Sources/sem_math_repo/classification_formulas_multilabel/wandb/run-20230315_235239-39ogj0p4/files/model-best/assets\n"
     ]
    },
    {
     "name": "stdout",
     "output_type": "stream",
     "text": [
      "346/346 [==============================] - 3s 10ms/step - loss: 0.1783 - accuracy: 0.3894 - recall_1: 0.0000e+00 - val_loss: 0.1780 - val_accuracy: 0.9194 - val_recall_1: 0.0000e+00\n",
      "Epoch 7/80\n",
      "339/346 [============================>.] - ETA: 0s - loss: 0.1634 - accuracy: 0.4067 - recall_1: 0.0000e+00INFO:tensorflow:Assets written to: /home/paul_d/Sources/sem_math_repo/classification_formulas_multilabel/wandb/run-20230315_235239-39ogj0p4/files/model-best/assets\n"
     ]
    },
    {
     "name": "stderr",
     "output_type": "stream",
     "text": [
      "INFO:tensorflow:Assets written to: /home/paul_d/Sources/sem_math_repo/classification_formulas_multilabel/wandb/run-20230315_235239-39ogj0p4/files/model-best/assets\n"
     ]
    },
    {
     "name": "stdout",
     "output_type": "stream",
     "text": [
      "346/346 [==============================] - 4s 11ms/step - loss: 0.1638 - accuracy: 0.4026 - recall_1: 0.0000e+00 - val_loss: 0.1625 - val_accuracy: 0.9100 - val_recall_1: 0.0000e+00\n",
      "Epoch 8/80\n",
      "341/346 [============================>.] - ETA: 0s - loss: 0.1562 - accuracy: 0.4187 - recall_1: 0.0000e+00INFO:tensorflow:Assets written to: /home/paul_d/Sources/sem_math_repo/classification_formulas_multilabel/wandb/run-20230315_235239-39ogj0p4/files/model-best/assets\n"
     ]
    },
    {
     "name": "stderr",
     "output_type": "stream",
     "text": [
      "INFO:tensorflow:Assets written to: /home/paul_d/Sources/sem_math_repo/classification_formulas_multilabel/wandb/run-20230315_235239-39ogj0p4/files/model-best/assets\n"
     ]
    },
    {
     "name": "stdout",
     "output_type": "stream",
     "text": [
      "346/346 [==============================] - 3s 9ms/step - loss: 0.1565 - accuracy: 0.4160 - recall_1: 0.0000e+00 - val_loss: 0.1535 - val_accuracy: 0.8997 - val_recall_1: 0.0000e+00\n",
      "Epoch 9/80\n",
      "341/346 [============================>.] - ETA: 0s - loss: 0.1523 - accuracy: 0.4327 - recall_1: 0.0000e+00INFO:tensorflow:Assets written to: /home/paul_d/Sources/sem_math_repo/classification_formulas_multilabel/wandb/run-20230315_235239-39ogj0p4/files/model-best/assets\n"
     ]
    },
    {
     "name": "stderr",
     "output_type": "stream",
     "text": [
      "INFO:tensorflow:Assets written to: /home/paul_d/Sources/sem_math_repo/classification_formulas_multilabel/wandb/run-20230315_235239-39ogj0p4/files/model-best/assets\n"
     ]
    },
    {
     "name": "stdout",
     "output_type": "stream",
     "text": [
      "346/346 [==============================] - 3s 10ms/step - loss: 0.1526 - accuracy: 0.4300 - recall_1: 0.0000e+00 - val_loss: 0.1481 - val_accuracy: 0.8964 - val_recall_1: 0.0000e+00\n",
      "Epoch 10/80\n",
      "344/346 [============================>.] - ETA: 0s - loss: 0.1502 - accuracy: 0.4410 - recall_1: 0.0000e+00INFO:tensorflow:Assets written to: /home/paul_d/Sources/sem_math_repo/classification_formulas_multilabel/wandb/run-20230315_235239-39ogj0p4/files/model-best/assets\n"
     ]
    },
    {
     "name": "stderr",
     "output_type": "stream",
     "text": [
      "INFO:tensorflow:Assets written to: /home/paul_d/Sources/sem_math_repo/classification_formulas_multilabel/wandb/run-20230315_235239-39ogj0p4/files/model-best/assets\n"
     ]
    },
    {
     "name": "stdout",
     "output_type": "stream",
     "text": [
      "346/346 [==============================] - 3s 9ms/step - loss: 0.1504 - accuracy: 0.4400 - recall_1: 0.0000e+00 - val_loss: 0.1446 - val_accuracy: 0.8931 - val_recall_1: 0.0000e+00\n",
      "Epoch 11/80\n",
      "340/346 [============================>.] - ETA: 0s - loss: 0.1486 - accuracy: 0.4585 - recall_1: 0.0000e+00INFO:tensorflow:Assets written to: /home/paul_d/Sources/sem_math_repo/classification_formulas_multilabel/wandb/run-20230315_235239-39ogj0p4/files/model-best/assets\n"
     ]
    },
    {
     "name": "stderr",
     "output_type": "stream",
     "text": [
      "INFO:tensorflow:Assets written to: /home/paul_d/Sources/sem_math_repo/classification_formulas_multilabel/wandb/run-20230315_235239-39ogj0p4/files/model-best/assets\n"
     ]
    },
    {
     "name": "stdout",
     "output_type": "stream",
     "text": [
      "346/346 [==============================] - 3s 9ms/step - loss: 0.1490 - accuracy: 0.4557 - recall_1: 0.0000e+00 - val_loss: 0.1423 - val_accuracy: 0.8853 - val_recall_1: 0.0000e+00\n",
      "Epoch 12/80\n",
      "342/346 [============================>.] - ETA: 0s - loss: 0.1478 - accuracy: 0.4680 - recall_1: 0.0000e+00INFO:tensorflow:Assets written to: /home/paul_d/Sources/sem_math_repo/classification_formulas_multilabel/wandb/run-20230315_235239-39ogj0p4/files/model-best/assets\n"
     ]
    },
    {
     "name": "stderr",
     "output_type": "stream",
     "text": [
      "INFO:tensorflow:Assets written to: /home/paul_d/Sources/sem_math_repo/classification_formulas_multilabel/wandb/run-20230315_235239-39ogj0p4/files/model-best/assets\n"
     ]
    },
    {
     "name": "stdout",
     "output_type": "stream",
     "text": [
      "346/346 [==============================] - 4s 10ms/step - loss: 0.1480 - accuracy: 0.4657 - recall_1: 0.0000e+00 - val_loss: 0.1406 - val_accuracy: 0.8766 - val_recall_1: 0.0000e+00\n",
      "Epoch 13/80\n",
      "339/346 [============================>.] - ETA: 0s - loss: 0.1464 - accuracy: 0.4787 - recall_1: 1.7230e-04INFO:tensorflow:Assets written to: /home/paul_d/Sources/sem_math_repo/classification_formulas_multilabel/wandb/run-20230315_235239-39ogj0p4/files/model-best/assets\n"
     ]
    },
    {
     "name": "stderr",
     "output_type": "stream",
     "text": [
      "INFO:tensorflow:Assets written to: /home/paul_d/Sources/sem_math_repo/classification_formulas_multilabel/wandb/run-20230315_235239-39ogj0p4/files/model-best/assets\n"
     ]
    },
    {
     "name": "stdout",
     "output_type": "stream",
     "text": [
      "346/346 [==============================] - 3s 9ms/step - loss: 0.1470 - accuracy: 0.4746 - recall_1: 1.6869e-04 - val_loss: 0.1392 - val_accuracy: 0.8762 - val_recall_1: 0.0000e+00\n",
      "Epoch 14/80\n",
      "341/346 [============================>.] - ETA: 0s - loss: 0.1458 - accuracy: 0.4927 - recall_1: 6.1147e-04INFO:tensorflow:Assets written to: /home/paul_d/Sources/sem_math_repo/classification_formulas_multilabel/wandb/run-20230315_235239-39ogj0p4/files/model-best/assets\n"
     ]
    },
    {
     "name": "stderr",
     "output_type": "stream",
     "text": [
      "INFO:tensorflow:Assets written to: /home/paul_d/Sources/sem_math_repo/classification_formulas_multilabel/wandb/run-20230315_235239-39ogj0p4/files/model-best/assets\n"
     ]
    },
    {
     "name": "stdout",
     "output_type": "stream",
     "text": [
      "346/346 [==============================] - 4s 11ms/step - loss: 0.1462 - accuracy: 0.4897 - recall_1: 6.0241e-04 - val_loss: 0.1379 - val_accuracy: 0.8680 - val_recall_1: 0.0000e+00\n",
      "Epoch 15/80\n",
      "341/346 [============================>.] - ETA: 0s - loss: 0.1451 - accuracy: 0.5037 - recall_1: 0.0017INFO:tensorflow:Assets written to: /home/paul_d/Sources/sem_math_repo/classification_formulas_multilabel/wandb/run-20230315_235239-39ogj0p4/files/model-best/assets\n"
     ]
    },
    {
     "name": "stderr",
     "output_type": "stream",
     "text": [
      "INFO:tensorflow:Assets written to: /home/paul_d/Sources/sem_math_repo/classification_formulas_multilabel/wandb/run-20230315_235239-39ogj0p4/files/model-best/assets\n"
     ]
    },
    {
     "name": "stdout",
     "output_type": "stream",
     "text": [
      "346/346 [==============================] - 3s 10ms/step - loss: 0.1455 - accuracy: 0.5001 - recall_1: 0.0017 - val_loss: 0.1367 - val_accuracy: 0.8680 - val_recall_1: 0.0000e+00\n",
      "Epoch 16/80\n",
      "344/346 [============================>.] - ETA: 0s - loss: 0.1446 - accuracy: 0.5082 - recall_1: 0.0029INFO:tensorflow:Assets written to: /home/paul_d/Sources/sem_math_repo/classification_formulas_multilabel/wandb/run-20230315_235239-39ogj0p4/files/model-best/assets\n"
     ]
    },
    {
     "name": "stderr",
     "output_type": "stream",
     "text": [
      "INFO:tensorflow:Assets written to: /home/paul_d/Sources/sem_math_repo/classification_formulas_multilabel/wandb/run-20230315_235239-39ogj0p4/files/model-best/assets\n"
     ]
    },
    {
     "name": "stdout",
     "output_type": "stream",
     "text": [
      "346/346 [==============================] - 3s 9ms/step - loss: 0.1447 - accuracy: 0.5067 - recall_1: 0.0028 - val_loss: 0.1357 - val_accuracy: 0.8680 - val_recall_1: 0.0000e+00\n",
      "Epoch 17/80\n",
      "339/346 [============================>.] - ETA: 0s - loss: 0.1436 - accuracy: 0.5212 - recall_1: 0.0060INFO:tensorflow:Assets written to: /home/paul_d/Sources/sem_math_repo/classification_formulas_multilabel/wandb/run-20230315_235239-39ogj0p4/files/model-best/assets\n"
     ]
    },
    {
     "name": "stderr",
     "output_type": "stream",
     "text": [
      "INFO:tensorflow:Assets written to: /home/paul_d/Sources/sem_math_repo/classification_formulas_multilabel/wandb/run-20230315_235239-39ogj0p4/files/model-best/assets\n"
     ]
    },
    {
     "name": "stdout",
     "output_type": "stream",
     "text": [
      "346/346 [==============================] - 3s 9ms/step - loss: 0.1440 - accuracy: 0.5170 - recall_1: 0.0059 - val_loss: 0.1347 - val_accuracy: 0.8680 - val_recall_1: 0.0000e+00\n",
      "Epoch 18/80\n",
      "342/346 [============================>.] - ETA: 0s - loss: 0.1432 - accuracy: 0.5224 - recall_1: 0.0102INFO:tensorflow:Assets written to: /home/paul_d/Sources/sem_math_repo/classification_formulas_multilabel/wandb/run-20230315_235239-39ogj0p4/files/model-best/assets\n"
     ]
    },
    {
     "name": "stderr",
     "output_type": "stream",
     "text": [
      "INFO:tensorflow:Assets written to: /home/paul_d/Sources/sem_math_repo/classification_formulas_multilabel/wandb/run-20230315_235239-39ogj0p4/files/model-best/assets\n"
     ]
    },
    {
     "name": "stdout",
     "output_type": "stream",
     "text": [
      "346/346 [==============================] - 3s 10ms/step - loss: 0.1435 - accuracy: 0.5199 - recall_1: 0.0101 - val_loss: 0.1337 - val_accuracy: 0.8680 - val_recall_1: 0.0000e+00\n",
      "Epoch 19/80\n",
      "343/346 [============================>.] - ETA: 0s - loss: 0.1425 - accuracy: 0.5286 - recall_1: 0.0155INFO:tensorflow:Assets written to: /home/paul_d/Sources/sem_math_repo/classification_formulas_multilabel/wandb/run-20230315_235239-39ogj0p4/files/model-best/assets\n"
     ]
    },
    {
     "name": "stderr",
     "output_type": "stream",
     "text": [
      "INFO:tensorflow:Assets written to: /home/paul_d/Sources/sem_math_repo/classification_formulas_multilabel/wandb/run-20230315_235239-39ogj0p4/files/model-best/assets\n"
     ]
    },
    {
     "name": "stdout",
     "output_type": "stream",
     "text": [
      "346/346 [==============================] - 3s 9ms/step - loss: 0.1428 - accuracy: 0.5266 - recall_1: 0.0154 - val_loss: 0.1328 - val_accuracy: 0.8676 - val_recall_1: 0.0000e+00\n",
      "Epoch 20/80\n",
      "346/346 [==============================] - ETA: 0s - loss: 0.1419 - accuracy: 0.5352 - recall_1: 0.0230INFO:tensorflow:Assets written to: /home/paul_d/Sources/sem_math_repo/classification_formulas_multilabel/wandb/run-20230315_235239-39ogj0p4/files/model-best/assets\n"
     ]
    },
    {
     "name": "stderr",
     "output_type": "stream",
     "text": [
      "INFO:tensorflow:Assets written to: /home/paul_d/Sources/sem_math_repo/classification_formulas_multilabel/wandb/run-20230315_235239-39ogj0p4/files/model-best/assets\n"
     ]
    },
    {
     "name": "stdout",
     "output_type": "stream",
     "text": [
      "346/346 [==============================] - 3s 10ms/step - loss: 0.1419 - accuracy: 0.5352 - recall_1: 0.0230 - val_loss: 0.1319 - val_accuracy: 0.8672 - val_recall_1: 0.0000e+00\n",
      "Epoch 21/80\n",
      "345/346 [============================>.] - ETA: 0s - loss: 0.1414 - accuracy: 0.5415 - recall_1: 0.0294INFO:tensorflow:Assets written to: /home/paul_d/Sources/sem_math_repo/classification_formulas_multilabel/wandb/run-20230315_235239-39ogj0p4/files/model-best/assets\n"
     ]
    },
    {
     "name": "stderr",
     "output_type": "stream",
     "text": [
      "INFO:tensorflow:Assets written to: /home/paul_d/Sources/sem_math_repo/classification_formulas_multilabel/wandb/run-20230315_235239-39ogj0p4/files/model-best/assets\n"
     ]
    },
    {
     "name": "stdout",
     "output_type": "stream",
     "text": [
      "346/346 [==============================] - 4s 12ms/step - loss: 0.1415 - accuracy: 0.5410 - recall_1: 0.0293 - val_loss: 0.1310 - val_accuracy: 0.8672 - val_recall_1: 0.0000e+00\n",
      "Epoch 22/80\n",
      "343/346 [============================>.] - ETA: 0s - loss: 0.1407 - accuracy: 0.5451 - recall_1: 0.0362INFO:tensorflow:Assets written to: /home/paul_d/Sources/sem_math_repo/classification_formulas_multilabel/wandb/run-20230315_235239-39ogj0p4/files/model-best/assets\n"
     ]
    },
    {
     "name": "stderr",
     "output_type": "stream",
     "text": [
      "INFO:tensorflow:Assets written to: /home/paul_d/Sources/sem_math_repo/classification_formulas_multilabel/wandb/run-20230315_235239-39ogj0p4/files/model-best/assets\n"
     ]
    },
    {
     "name": "stdout",
     "output_type": "stream",
     "text": [
      "346/346 [==============================] - 4s 12ms/step - loss: 0.1409 - accuracy: 0.5428 - recall_1: 0.0359 - val_loss: 0.1302 - val_accuracy: 0.8672 - val_recall_1: 0.0050\n",
      "Epoch 23/80\n",
      "345/346 [============================>.] - ETA: 0s - loss: 0.1403 - accuracy: 0.5485 - recall_1: 0.0440INFO:tensorflow:Assets written to: /home/paul_d/Sources/sem_math_repo/classification_formulas_multilabel/wandb/run-20230315_235239-39ogj0p4/files/model-best/assets\n"
     ]
    },
    {
     "name": "stderr",
     "output_type": "stream",
     "text": [
      "INFO:tensorflow:Assets written to: /home/paul_d/Sources/sem_math_repo/classification_formulas_multilabel/wandb/run-20230315_235239-39ogj0p4/files/model-best/assets\n"
     ]
    },
    {
     "name": "stdout",
     "output_type": "stream",
     "text": [
      "346/346 [==============================] - 4s 11ms/step - loss: 0.1404 - accuracy: 0.5474 - recall_1: 0.0439 - val_loss: 0.1294 - val_accuracy: 0.8672 - val_recall_1: 0.0106\n",
      "Epoch 24/80\n",
      "346/346 [==============================] - ETA: 0s - loss: 0.1400 - accuracy: 0.5512 - recall_1: 0.0480INFO:tensorflow:Assets written to: /home/paul_d/Sources/sem_math_repo/classification_formulas_multilabel/wandb/run-20230315_235239-39ogj0p4/files/model-best/assets\n"
     ]
    },
    {
     "name": "stderr",
     "output_type": "stream",
     "text": [
      "INFO:tensorflow:Assets written to: /home/paul_d/Sources/sem_math_repo/classification_formulas_multilabel/wandb/run-20230315_235239-39ogj0p4/files/model-best/assets\n"
     ]
    },
    {
     "name": "stdout",
     "output_type": "stream",
     "text": [
      "346/346 [==============================] - 4s 12ms/step - loss: 0.1400 - accuracy: 0.5512 - recall_1: 0.0480 - val_loss: 0.1287 - val_accuracy: 0.8651 - val_recall_1: 0.0192\n",
      "Epoch 25/80\n",
      "345/346 [============================>.] - ETA: 0s - loss: 0.1396 - accuracy: 0.5570 - recall_1: 0.0552INFO:tensorflow:Assets written to: /home/paul_d/Sources/sem_math_repo/classification_formulas_multilabel/wandb/run-20230315_235239-39ogj0p4/files/model-best/assets\n"
     ]
    },
    {
     "name": "stderr",
     "output_type": "stream",
     "text": [
      "INFO:tensorflow:Assets written to: /home/paul_d/Sources/sem_math_repo/classification_formulas_multilabel/wandb/run-20230315_235239-39ogj0p4/files/model-best/assets\n"
     ]
    },
    {
     "name": "stdout",
     "output_type": "stream",
     "text": [
      "346/346 [==============================] - 4s 11ms/step - loss: 0.1397 - accuracy: 0.5560 - recall_1: 0.0550 - val_loss: 0.1280 - val_accuracy: 0.8651 - val_recall_1: 0.1287\n",
      "Epoch 26/80\n",
      "340/346 [============================>.] - ETA: 0s - loss: 0.1388 - accuracy: 0.5625 - recall_1: 0.0597INFO:tensorflow:Assets written to: /home/paul_d/Sources/sem_math_repo/classification_formulas_multilabel/wandb/run-20230315_235239-39ogj0p4/files/model-best/assets\n"
     ]
    },
    {
     "name": "stderr",
     "output_type": "stream",
     "text": [
      "INFO:tensorflow:Assets written to: /home/paul_d/Sources/sem_math_repo/classification_formulas_multilabel/wandb/run-20230315_235239-39ogj0p4/files/model-best/assets\n"
     ]
    },
    {
     "name": "stdout",
     "output_type": "stream",
     "text": [
      "346/346 [==============================] - 3s 10ms/step - loss: 0.1393 - accuracy: 0.5579 - recall_1: 0.0587 - val_loss: 0.1274 - val_accuracy: 0.8651 - val_recall_1: 0.1669\n",
      "Epoch 27/80\n",
      "343/346 [============================>.] - ETA: 0s - loss: 0.1388 - accuracy: 0.5622 - recall_1: 0.0638INFO:tensorflow:Assets written to: /home/paul_d/Sources/sem_math_repo/classification_formulas_multilabel/wandb/run-20230315_235239-39ogj0p4/files/model-best/assets\n"
     ]
    },
    {
     "name": "stderr",
     "output_type": "stream",
     "text": [
      "INFO:tensorflow:Assets written to: /home/paul_d/Sources/sem_math_repo/classification_formulas_multilabel/wandb/run-20230315_235239-39ogj0p4/files/model-best/assets\n"
     ]
    },
    {
     "name": "stdout",
     "output_type": "stream",
     "text": [
      "346/346 [==============================] - 4s 11ms/step - loss: 0.1389 - accuracy: 0.5603 - recall_1: 0.0634 - val_loss: 0.1269 - val_accuracy: 0.8651 - val_recall_1: 0.1707\n",
      "Epoch 28/80\n",
      "345/346 [============================>.] - ETA: 0s - loss: 0.1385 - accuracy: 0.5629 - recall_1: 0.0686INFO:tensorflow:Assets written to: /home/paul_d/Sources/sem_math_repo/classification_formulas_multilabel/wandb/run-20230315_235239-39ogj0p4/files/model-best/assets\n"
     ]
    },
    {
     "name": "stderr",
     "output_type": "stream",
     "text": [
      "INFO:tensorflow:Assets written to: /home/paul_d/Sources/sem_math_repo/classification_formulas_multilabel/wandb/run-20230315_235239-39ogj0p4/files/model-best/assets\n"
     ]
    },
    {
     "name": "stdout",
     "output_type": "stream",
     "text": [
      "346/346 [==============================] - 4s 11ms/step - loss: 0.1386 - accuracy: 0.5622 - recall_1: 0.0685 - val_loss: 0.1264 - val_accuracy: 0.8651 - val_recall_1: 0.1727\n",
      "Epoch 29/80\n",
      "343/346 [============================>.] - ETA: 0s - loss: 0.1382 - accuracy: 0.5659 - recall_1: 0.0707INFO:tensorflow:Assets written to: /home/paul_d/Sources/sem_math_repo/classification_formulas_multilabel/wandb/run-20230315_235239-39ogj0p4/files/model-best/assets\n"
     ]
    },
    {
     "name": "stderr",
     "output_type": "stream",
     "text": [
      "INFO:tensorflow:Assets written to: /home/paul_d/Sources/sem_math_repo/classification_formulas_multilabel/wandb/run-20230315_235239-39ogj0p4/files/model-best/assets\n"
     ]
    },
    {
     "name": "stdout",
     "output_type": "stream",
     "text": [
      "346/346 [==============================] - 4s 12ms/step - loss: 0.1384 - accuracy: 0.5637 - recall_1: 0.0705 - val_loss: 0.1259 - val_accuracy: 0.8651 - val_recall_1: 0.1871\n",
      "Epoch 30/80\n",
      "340/346 [============================>.] - ETA: 0s - loss: 0.1376 - accuracy: 0.5670 - recall_1: 0.0763INFO:tensorflow:Assets written to: /home/paul_d/Sources/sem_math_repo/classification_formulas_multilabel/wandb/run-20230315_235239-39ogj0p4/files/model-best/assets\n"
     ]
    },
    {
     "name": "stderr",
     "output_type": "stream",
     "text": [
      "INFO:tensorflow:Assets written to: /home/paul_d/Sources/sem_math_repo/classification_formulas_multilabel/wandb/run-20230315_235239-39ogj0p4/files/model-best/assets\n"
     ]
    },
    {
     "name": "stdout",
     "output_type": "stream",
     "text": [
      "346/346 [==============================] - 4s 10ms/step - loss: 0.1380 - accuracy: 0.5617 - recall_1: 0.0752 - val_loss: 0.1255 - val_accuracy: 0.8651 - val_recall_1: 0.1885\n",
      "Epoch 31/80\n",
      "344/346 [============================>.] - ETA: 0s - loss: 0.1377 - accuracy: 0.5684 - recall_1: 0.0785INFO:tensorflow:Assets written to: /home/paul_d/Sources/sem_math_repo/classification_formulas_multilabel/wandb/run-20230315_235239-39ogj0p4/files/model-best/assets\n"
     ]
    },
    {
     "name": "stderr",
     "output_type": "stream",
     "text": [
      "INFO:tensorflow:Assets written to: /home/paul_d/Sources/sem_math_repo/classification_formulas_multilabel/wandb/run-20230315_235239-39ogj0p4/files/model-best/assets\n"
     ]
    },
    {
     "name": "stdout",
     "output_type": "stream",
     "text": [
      "346/346 [==============================] - 4s 11ms/step - loss: 0.1378 - accuracy: 0.5667 - recall_1: 0.0781 - val_loss: 0.1252 - val_accuracy: 0.8651 - val_recall_1: 0.1908\n",
      "Epoch 32/80\n",
      "344/346 [============================>.] - ETA: 0s - loss: 0.1375 - accuracy: 0.5718 - recall_1: 0.0822INFO:tensorflow:Assets written to: /home/paul_d/Sources/sem_math_repo/classification_formulas_multilabel/wandb/run-20230315_235239-39ogj0p4/files/model-best/assets\n"
     ]
    },
    {
     "name": "stderr",
     "output_type": "stream",
     "text": [
      "INFO:tensorflow:Assets written to: /home/paul_d/Sources/sem_math_repo/classification_formulas_multilabel/wandb/run-20230315_235239-39ogj0p4/files/model-best/assets\n"
     ]
    },
    {
     "name": "stdout",
     "output_type": "stream",
     "text": [
      "346/346 [==============================] - 3s 10ms/step - loss: 0.1376 - accuracy: 0.5703 - recall_1: 0.0818 - val_loss: 0.1248 - val_accuracy: 0.8651 - val_recall_1: 0.1908\n",
      "Epoch 33/80\n",
      "346/346 [==============================] - ETA: 0s - loss: 0.1376 - accuracy: 0.5684 - recall_1: 0.0837INFO:tensorflow:Assets written to: /home/paul_d/Sources/sem_math_repo/classification_formulas_multilabel/wandb/run-20230315_235239-39ogj0p4/files/model-best/assets\n"
     ]
    },
    {
     "name": "stderr",
     "output_type": "stream",
     "text": [
      "INFO:tensorflow:Assets written to: /home/paul_d/Sources/sem_math_repo/classification_formulas_multilabel/wandb/run-20230315_235239-39ogj0p4/files/model-best/assets\n"
     ]
    },
    {
     "name": "stdout",
     "output_type": "stream",
     "text": [
      "346/346 [==============================] - 4s 11ms/step - loss: 0.1376 - accuracy: 0.5684 - recall_1: 0.0837 - val_loss: 0.1245 - val_accuracy: 0.8651 - val_recall_1: 0.2005\n",
      "Epoch 34/80\n",
      "343/346 [============================>.] - ETA: 0s - loss: 0.1373 - accuracy: 0.5712 - recall_1: 0.0856INFO:tensorflow:Assets written to: /home/paul_d/Sources/sem_math_repo/classification_formulas_multilabel/wandb/run-20230315_235239-39ogj0p4/files/model-best/assets\n"
     ]
    },
    {
     "name": "stderr",
     "output_type": "stream",
     "text": [
      "INFO:tensorflow:Assets written to: /home/paul_d/Sources/sem_math_repo/classification_formulas_multilabel/wandb/run-20230315_235239-39ogj0p4/files/model-best/assets\n"
     ]
    },
    {
     "name": "stdout",
     "output_type": "stream",
     "text": [
      "346/346 [==============================] - 3s 10ms/step - loss: 0.1374 - accuracy: 0.5689 - recall_1: 0.0851 - val_loss: 0.1243 - val_accuracy: 0.8651 - val_recall_1: 0.2005\n",
      "Epoch 35/80\n",
      "345/346 [============================>.] - ETA: 0s - loss: 0.1370 - accuracy: 0.5699 - recall_1: 0.0883INFO:tensorflow:Assets written to: /home/paul_d/Sources/sem_math_repo/classification_formulas_multilabel/wandb/run-20230315_235239-39ogj0p4/files/model-best/assets\n"
     ]
    },
    {
     "name": "stderr",
     "output_type": "stream",
     "text": [
      "INFO:tensorflow:Assets written to: /home/paul_d/Sources/sem_math_repo/classification_formulas_multilabel/wandb/run-20230315_235239-39ogj0p4/files/model-best/assets\n"
     ]
    },
    {
     "name": "stdout",
     "output_type": "stream",
     "text": [
      "346/346 [==============================] - 3s 10ms/step - loss: 0.1371 - accuracy: 0.5691 - recall_1: 0.0882 - val_loss: 0.1240 - val_accuracy: 0.8651 - val_recall_1: 0.2005\n",
      "Epoch 36/80\n",
      "339/346 [============================>.] - ETA: 0s - loss: 0.1366 - accuracy: 0.5772 - recall_1: 0.0897INFO:tensorflow:Assets written to: /home/paul_d/Sources/sem_math_repo/classification_formulas_multilabel/wandb/run-20230315_235239-39ogj0p4/files/model-best/assets\n"
     ]
    },
    {
     "name": "stderr",
     "output_type": "stream",
     "text": [
      "INFO:tensorflow:Assets written to: /home/paul_d/Sources/sem_math_repo/classification_formulas_multilabel/wandb/run-20230315_235239-39ogj0p4/files/model-best/assets\n"
     ]
    },
    {
     "name": "stdout",
     "output_type": "stream",
     "text": [
      "346/346 [==============================] - 3s 10ms/step - loss: 0.1371 - accuracy: 0.5720 - recall_1: 0.0885 - val_loss: 0.1238 - val_accuracy: 0.8734 - val_recall_1: 0.2005\n",
      "Epoch 37/80\n",
      "343/346 [============================>.] - ETA: 0s - loss: 0.1366 - accuracy: 0.5745 - recall_1: 0.0915INFO:tensorflow:Assets written to: /home/paul_d/Sources/sem_math_repo/classification_formulas_multilabel/wandb/run-20230315_235239-39ogj0p4/files/model-best/assets\n"
     ]
    },
    {
     "name": "stderr",
     "output_type": "stream",
     "text": [
      "INFO:tensorflow:Assets written to: /home/paul_d/Sources/sem_math_repo/classification_formulas_multilabel/wandb/run-20230315_235239-39ogj0p4/files/model-best/assets\n"
     ]
    },
    {
     "name": "stdout",
     "output_type": "stream",
     "text": [
      "346/346 [==============================] - 5s 13ms/step - loss: 0.1368 - accuracy: 0.5720 - recall_1: 0.0910 - val_loss: 0.1236 - val_accuracy: 0.8734 - val_recall_1: 0.2442\n",
      "Epoch 38/80\n",
      "344/346 [============================>.] - ETA: 0s - loss: 0.1364 - accuracy: 0.5734 - recall_1: 0.0933INFO:tensorflow:Assets written to: /home/paul_d/Sources/sem_math_repo/classification_formulas_multilabel/wandb/run-20230315_235239-39ogj0p4/files/model-best/assets\n"
     ]
    },
    {
     "name": "stderr",
     "output_type": "stream",
     "text": [
      "INFO:tensorflow:Assets written to: /home/paul_d/Sources/sem_math_repo/classification_formulas_multilabel/wandb/run-20230315_235239-39ogj0p4/files/model-best/assets\n"
     ]
    },
    {
     "name": "stdout",
     "output_type": "stream",
     "text": [
      "346/346 [==============================] - 4s 11ms/step - loss: 0.1366 - accuracy: 0.5717 - recall_1: 0.0929 - val_loss: 0.1235 - val_accuracy: 0.8717 - val_recall_1: 0.2442\n",
      "Epoch 39/80\n",
      "343/346 [============================>.] - ETA: 0s - loss: 0.1366 - accuracy: 0.5760 - recall_1: 0.0952INFO:tensorflow:Assets written to: /home/paul_d/Sources/sem_math_repo/classification_formulas_multilabel/wandb/run-20230315_235239-39ogj0p4/files/model-best/assets\n"
     ]
    },
    {
     "name": "stderr",
     "output_type": "stream",
     "text": [
      "INFO:tensorflow:Assets written to: /home/paul_d/Sources/sem_math_repo/classification_formulas_multilabel/wandb/run-20230315_235239-39ogj0p4/files/model-best/assets\n"
     ]
    },
    {
     "name": "stdout",
     "output_type": "stream",
     "text": [
      "346/346 [==============================] - 4s 10ms/step - loss: 0.1367 - accuracy: 0.5739 - recall_1: 0.0949 - val_loss: 0.1233 - val_accuracy: 0.8717 - val_recall_1: 0.2442\n",
      "Epoch 40/80\n",
      "346/346 [==============================] - ETA: 0s - loss: 0.1368 - accuracy: 0.5749 - recall_1: 0.0953INFO:tensorflow:Assets written to: /home/paul_d/Sources/sem_math_repo/classification_formulas_multilabel/wandb/run-20230315_235239-39ogj0p4/files/model-best/assets\n"
     ]
    },
    {
     "name": "stderr",
     "output_type": "stream",
     "text": [
      "INFO:tensorflow:Assets written to: /home/paul_d/Sources/sem_math_repo/classification_formulas_multilabel/wandb/run-20230315_235239-39ogj0p4/files/model-best/assets\n"
     ]
    },
    {
     "name": "stdout",
     "output_type": "stream",
     "text": [
      "346/346 [==============================] - 4s 11ms/step - loss: 0.1368 - accuracy: 0.5749 - recall_1: 0.0953 - val_loss: 0.1232 - val_accuracy: 0.8717 - val_recall_1: 0.2444\n",
      "Epoch 41/80\n",
      "339/346 [============================>.] - ETA: 0s - loss: 0.1360 - accuracy: 0.5800 - recall_1: 0.0977INFO:tensorflow:Assets written to: /home/paul_d/Sources/sem_math_repo/classification_formulas_multilabel/wandb/run-20230315_235239-39ogj0p4/files/model-best/assets\n"
     ]
    },
    {
     "name": "stderr",
     "output_type": "stream",
     "text": [
      "INFO:tensorflow:Assets written to: /home/paul_d/Sources/sem_math_repo/classification_formulas_multilabel/wandb/run-20230315_235239-39ogj0p4/files/model-best/assets\n"
     ]
    },
    {
     "name": "stdout",
     "output_type": "stream",
     "text": [
      "346/346 [==============================] - 3s 10ms/step - loss: 0.1365 - accuracy: 0.5748 - recall_1: 0.0967 - val_loss: 0.1230 - val_accuracy: 0.8717 - val_recall_1: 0.2446\n",
      "Epoch 42/80\n",
      "346/346 [==============================] - ETA: 0s - loss: 0.1363 - accuracy: 0.5741 - recall_1: 0.0977INFO:tensorflow:Assets written to: /home/paul_d/Sources/sem_math_repo/classification_formulas_multilabel/wandb/run-20230315_235239-39ogj0p4/files/model-best/assets\n"
     ]
    },
    {
     "name": "stderr",
     "output_type": "stream",
     "text": [
      "INFO:tensorflow:Assets written to: /home/paul_d/Sources/sem_math_repo/classification_formulas_multilabel/wandb/run-20230315_235239-39ogj0p4/files/model-best/assets\n"
     ]
    },
    {
     "name": "stdout",
     "output_type": "stream",
     "text": [
      "346/346 [==============================] - 4s 10ms/step - loss: 0.1363 - accuracy: 0.5741 - recall_1: 0.0977 - val_loss: 0.1228 - val_accuracy: 0.8717 - val_recall_1: 0.2449\n",
      "Epoch 43/80\n",
      "345/346 [============================>.] - ETA: 0s - loss: 0.1363 - accuracy: 0.5766 - recall_1: 0.1010INFO:tensorflow:Assets written to: /home/paul_d/Sources/sem_math_repo/classification_formulas_multilabel/wandb/run-20230315_235239-39ogj0p4/files/model-best/assets\n"
     ]
    },
    {
     "name": "stderr",
     "output_type": "stream",
     "text": [
      "INFO:tensorflow:Assets written to: /home/paul_d/Sources/sem_math_repo/classification_formulas_multilabel/wandb/run-20230315_235239-39ogj0p4/files/model-best/assets\n"
     ]
    },
    {
     "name": "stdout",
     "output_type": "stream",
     "text": [
      "346/346 [==============================] - 4s 10ms/step - loss: 0.1363 - accuracy: 0.5756 - recall_1: 0.1008 - val_loss: 0.1228 - val_accuracy: 0.8717 - val_recall_1: 0.2449\n",
      "Epoch 44/80\n",
      "339/346 [============================>.] - ETA: 0s - loss: 0.1357 - accuracy: 0.5817 - recall_1: 0.1015INFO:tensorflow:Assets written to: /home/paul_d/Sources/sem_math_repo/classification_formulas_multilabel/wandb/run-20230315_235239-39ogj0p4/files/model-best/assets\n"
     ]
    },
    {
     "name": "stderr",
     "output_type": "stream",
     "text": [
      "INFO:tensorflow:Assets written to: /home/paul_d/Sources/sem_math_repo/classification_formulas_multilabel/wandb/run-20230315_235239-39ogj0p4/files/model-best/assets\n"
     ]
    },
    {
     "name": "stdout",
     "output_type": "stream",
     "text": [
      "346/346 [==============================] - 4s 11ms/step - loss: 0.1362 - accuracy: 0.5764 - recall_1: 0.1003 - val_loss: 0.1227 - val_accuracy: 0.8717 - val_recall_1: 0.2469\n",
      "Epoch 45/80\n",
      "340/346 [============================>.] - ETA: 0s - loss: 0.1356 - accuracy: 0.5838 - recall_1: 0.1031INFO:tensorflow:Assets written to: /home/paul_d/Sources/sem_math_repo/classification_formulas_multilabel/wandb/run-20230315_235239-39ogj0p4/files/model-best/assets\n"
     ]
    },
    {
     "name": "stderr",
     "output_type": "stream",
     "text": [
      "INFO:tensorflow:Assets written to: /home/paul_d/Sources/sem_math_repo/classification_formulas_multilabel/wandb/run-20230315_235239-39ogj0p4/files/model-best/assets\n"
     ]
    },
    {
     "name": "stdout",
     "output_type": "stream",
     "text": [
      "346/346 [==============================] - 3s 10ms/step - loss: 0.1361 - accuracy: 0.5791 - recall_1: 0.1021 - val_loss: 0.1226 - val_accuracy: 0.8717 - val_recall_1: 0.2474\n",
      "Epoch 46/80\n",
      "342/346 [============================>.] - ETA: 0s - loss: 0.1357 - accuracy: 0.5826 - recall_1: 0.1031INFO:tensorflow:Assets written to: /home/paul_d/Sources/sem_math_repo/classification_formulas_multilabel/wandb/run-20230315_235239-39ogj0p4/files/model-best/assets\n"
     ]
    },
    {
     "name": "stderr",
     "output_type": "stream",
     "text": [
      "INFO:tensorflow:Assets written to: /home/paul_d/Sources/sem_math_repo/classification_formulas_multilabel/wandb/run-20230315_235239-39ogj0p4/files/model-best/assets\n"
     ]
    },
    {
     "name": "stdout",
     "output_type": "stream",
     "text": [
      "346/346 [==============================] - 4s 10ms/step - loss: 0.1360 - accuracy: 0.5792 - recall_1: 0.1024 - val_loss: 0.1225 - val_accuracy: 0.8717 - val_recall_1: 0.2480\n",
      "Epoch 47/80\n",
      "345/346 [============================>.] - ETA: 0s - loss: 0.1360 - accuracy: 0.5803 - recall_1: 0.1030INFO:tensorflow:Assets written to: /home/paul_d/Sources/sem_math_repo/classification_formulas_multilabel/wandb/run-20230315_235239-39ogj0p4/files/model-best/assets\n"
     ]
    },
    {
     "name": "stderr",
     "output_type": "stream",
     "text": [
      "INFO:tensorflow:Assets written to: /home/paul_d/Sources/sem_math_repo/classification_formulas_multilabel/wandb/run-20230315_235239-39ogj0p4/files/model-best/assets\n"
     ]
    },
    {
     "name": "stdout",
     "output_type": "stream",
     "text": [
      "346/346 [==============================] - 3s 10ms/step - loss: 0.1361 - accuracy: 0.5793 - recall_1: 0.1028 - val_loss: 0.1224 - val_accuracy: 0.8717 - val_recall_1: 0.2485\n",
      "Epoch 48/80\n",
      "343/346 [============================>.] - ETA: 0s - loss: 0.1357 - accuracy: 0.5815 - recall_1: 0.1048INFO:tensorflow:Assets written to: /home/paul_d/Sources/sem_math_repo/classification_formulas_multilabel/wandb/run-20230315_235239-39ogj0p4/files/model-best/assets\n"
     ]
    },
    {
     "name": "stderr",
     "output_type": "stream",
     "text": [
      "INFO:tensorflow:Assets written to: /home/paul_d/Sources/sem_math_repo/classification_formulas_multilabel/wandb/run-20230315_235239-39ogj0p4/files/model-best/assets\n"
     ]
    },
    {
     "name": "stdout",
     "output_type": "stream",
     "text": [
      "346/346 [==============================] - 3s 10ms/step - loss: 0.1359 - accuracy: 0.5794 - recall_1: 0.1043 - val_loss: 0.1223 - val_accuracy: 0.8717 - val_recall_1: 0.2503\n",
      "Epoch 49/80\n",
      "343/346 [============================>.] - ETA: 0s - loss: 0.1358 - accuracy: 0.5825 - recall_1: 0.1039INFO:tensorflow:Assets written to: /home/paul_d/Sources/sem_math_repo/classification_formulas_multilabel/wandb/run-20230315_235239-39ogj0p4/files/model-best/assets\n"
     ]
    },
    {
     "name": "stderr",
     "output_type": "stream",
     "text": [
      "INFO:tensorflow:Assets written to: /home/paul_d/Sources/sem_math_repo/classification_formulas_multilabel/wandb/run-20230315_235239-39ogj0p4/files/model-best/assets\n"
     ]
    },
    {
     "name": "stdout",
     "output_type": "stream",
     "text": [
      "346/346 [==============================] - 3s 10ms/step - loss: 0.1360 - accuracy: 0.5803 - recall_1: 0.1034 - val_loss: 0.1222 - val_accuracy: 0.8717 - val_recall_1: 0.2503\n",
      "Epoch 50/80\n",
      "342/346 [============================>.] - ETA: 0s - loss: 0.1355 - accuracy: 0.5795 - recall_1: 0.1046INFO:tensorflow:Assets written to: /home/paul_d/Sources/sem_math_repo/classification_formulas_multilabel/wandb/run-20230315_235239-39ogj0p4/files/model-best/assets\n"
     ]
    },
    {
     "name": "stderr",
     "output_type": "stream",
     "text": [
      "INFO:tensorflow:Assets written to: /home/paul_d/Sources/sem_math_repo/classification_formulas_multilabel/wandb/run-20230315_235239-39ogj0p4/files/model-best/assets\n"
     ]
    },
    {
     "name": "stdout",
     "output_type": "stream",
     "text": [
      "346/346 [==============================] - 3s 10ms/step - loss: 0.1357 - accuracy: 0.5768 - recall_1: 0.1039 - val_loss: 0.1222 - val_accuracy: 0.8717 - val_recall_1: 0.2503\n",
      "Epoch 51/80\n",
      "345/346 [============================>.] - ETA: 0s - loss: 0.1356 - accuracy: 0.5795 - recall_1: 0.1065INFO:tensorflow:Assets written to: /home/paul_d/Sources/sem_math_repo/classification_formulas_multilabel/wandb/run-20230315_235239-39ogj0p4/files/model-best/assets\n"
     ]
    },
    {
     "name": "stderr",
     "output_type": "stream",
     "text": [
      "INFO:tensorflow:Assets written to: /home/paul_d/Sources/sem_math_repo/classification_formulas_multilabel/wandb/run-20230315_235239-39ogj0p4/files/model-best/assets\n"
     ]
    },
    {
     "name": "stdout",
     "output_type": "stream",
     "text": [
      "346/346 [==============================] - 3s 10ms/step - loss: 0.1357 - accuracy: 0.5786 - recall_1: 0.1064 - val_loss: 0.1221 - val_accuracy: 0.8717 - val_recall_1: 0.2503\n",
      "Epoch 52/80\n",
      "345/346 [============================>.] - ETA: 0s - loss: 0.1355 - accuracy: 0.5822 - recall_1: 0.1066INFO:tensorflow:Assets written to: /home/paul_d/Sources/sem_math_repo/classification_formulas_multilabel/wandb/run-20230315_235239-39ogj0p4/files/model-best/assets\n"
     ]
    },
    {
     "name": "stderr",
     "output_type": "stream",
     "text": [
      "INFO:tensorflow:Assets written to: /home/paul_d/Sources/sem_math_repo/classification_formulas_multilabel/wandb/run-20230315_235239-39ogj0p4/files/model-best/assets\n"
     ]
    },
    {
     "name": "stdout",
     "output_type": "stream",
     "text": [
      "346/346 [==============================] - 4s 11ms/step - loss: 0.1356 - accuracy: 0.5815 - recall_1: 0.1065 - val_loss: 0.1220 - val_accuracy: 0.8717 - val_recall_1: 0.2503\n",
      "Epoch 53/80\n",
      "341/346 [============================>.] - ETA: 0s - loss: 0.1350 - accuracy: 0.5844 - recall_1: 0.1084INFO:tensorflow:Assets written to: /home/paul_d/Sources/sem_math_repo/classification_formulas_multilabel/wandb/run-20230315_235239-39ogj0p4/files/model-best/assets\n"
     ]
    },
    {
     "name": "stderr",
     "output_type": "stream",
     "text": [
      "INFO:tensorflow:Assets written to: /home/paul_d/Sources/sem_math_repo/classification_formulas_multilabel/wandb/run-20230315_235239-39ogj0p4/files/model-best/assets\n"
     ]
    },
    {
     "name": "stdout",
     "output_type": "stream",
     "text": [
      "346/346 [==============================] - 4s 10ms/step - loss: 0.1355 - accuracy: 0.5804 - recall_1: 0.1075 - val_loss: 0.1220 - val_accuracy: 0.8717 - val_recall_1: 0.2503\n",
      "Epoch 54/80\n",
      "339/346 [============================>.] - ETA: 0s - loss: 0.1351 - accuracy: 0.5857 - recall_1: 0.1095INFO:tensorflow:Assets written to: /home/paul_d/Sources/sem_math_repo/classification_formulas_multilabel/wandb/run-20230315_235239-39ogj0p4/files/model-best/assets\n"
     ]
    },
    {
     "name": "stderr",
     "output_type": "stream",
     "text": [
      "INFO:tensorflow:Assets written to: /home/paul_d/Sources/sem_math_repo/classification_formulas_multilabel/wandb/run-20230315_235239-39ogj0p4/files/model-best/assets\n"
     ]
    },
    {
     "name": "stdout",
     "output_type": "stream",
     "text": [
      "346/346 [==============================] - 3s 10ms/step - loss: 0.1356 - accuracy: 0.5803 - recall_1: 0.1085 - val_loss: 0.1220 - val_accuracy: 0.8717 - val_recall_1: 0.2510\n",
      "Epoch 55/80\n",
      "346/346 [==============================] - ETA: 0s - loss: 0.1354 - accuracy: 0.5822 - recall_1: 0.1082INFO:tensorflow:Assets written to: /home/paul_d/Sources/sem_math_repo/classification_formulas_multilabel/wandb/run-20230315_235239-39ogj0p4/files/model-best/assets\n"
     ]
    },
    {
     "name": "stderr",
     "output_type": "stream",
     "text": [
      "INFO:tensorflow:Assets written to: /home/paul_d/Sources/sem_math_repo/classification_formulas_multilabel/wandb/run-20230315_235239-39ogj0p4/files/model-best/assets\n"
     ]
    },
    {
     "name": "stdout",
     "output_type": "stream",
     "text": [
      "346/346 [==============================] - 3s 10ms/step - loss: 0.1354 - accuracy: 0.5822 - recall_1: 0.1082 - val_loss: 0.1219 - val_accuracy: 0.8717 - val_recall_1: 0.2688\n",
      "Epoch 56/80\n",
      "342/346 [============================>.] - ETA: 0s - loss: 0.1351 - accuracy: 0.5838 - recall_1: 0.1101INFO:tensorflow:Assets written to: /home/paul_d/Sources/sem_math_repo/classification_formulas_multilabel/wandb/run-20230315_235239-39ogj0p4/files/model-best/assets\n"
     ]
    },
    {
     "name": "stderr",
     "output_type": "stream",
     "text": [
      "INFO:tensorflow:Assets written to: /home/paul_d/Sources/sem_math_repo/classification_formulas_multilabel/wandb/run-20230315_235239-39ogj0p4/files/model-best/assets\n"
     ]
    },
    {
     "name": "stdout",
     "output_type": "stream",
     "text": [
      "346/346 [==============================] - 3s 10ms/step - loss: 0.1353 - accuracy: 0.5809 - recall_1: 0.1095 - val_loss: 0.1218 - val_accuracy: 0.8717 - val_recall_1: 0.2692\n",
      "Epoch 57/80\n",
      "341/346 [============================>.] - ETA: 0s - loss: 0.1348 - accuracy: 0.5874 - recall_1: 0.1101INFO:tensorflow:Assets written to: /home/paul_d/Sources/sem_math_repo/classification_formulas_multilabel/wandb/run-20230315_235239-39ogj0p4/files/model-best/assets\n"
     ]
    },
    {
     "name": "stderr",
     "output_type": "stream",
     "text": [
      "INFO:tensorflow:Assets written to: /home/paul_d/Sources/sem_math_repo/classification_formulas_multilabel/wandb/run-20230315_235239-39ogj0p4/files/model-best/assets\n"
     ]
    },
    {
     "name": "stdout",
     "output_type": "stream",
     "text": [
      "346/346 [==============================] - 3s 10ms/step - loss: 0.1352 - accuracy: 0.5841 - recall_1: 0.1093 - val_loss: 0.1218 - val_accuracy: 0.8717 - val_recall_1: 0.2694\n",
      "Epoch 58/80\n",
      "343/346 [============================>.] - ETA: 0s - loss: 0.1350 - accuracy: 0.5848 - recall_1: 0.1108INFO:tensorflow:Assets written to: /home/paul_d/Sources/sem_math_repo/classification_formulas_multilabel/wandb/run-20230315_235239-39ogj0p4/files/model-best/assets\n"
     ]
    },
    {
     "name": "stderr",
     "output_type": "stream",
     "text": [
      "INFO:tensorflow:Assets written to: /home/paul_d/Sources/sem_math_repo/classification_formulas_multilabel/wandb/run-20230315_235239-39ogj0p4/files/model-best/assets\n"
     ]
    },
    {
     "name": "stdout",
     "output_type": "stream",
     "text": [
      "346/346 [==============================] - 3s 10ms/step - loss: 0.1352 - accuracy: 0.5818 - recall_1: 0.1103 - val_loss: 0.1218 - val_accuracy: 0.8717 - val_recall_1: 0.2694\n",
      "Epoch 59/80\n",
      "343/346 [============================>.] - ETA: 0s - loss: 0.1350 - accuracy: 0.5841 - recall_1: 0.1124INFO:tensorflow:Assets written to: /home/paul_d/Sources/sem_math_repo/classification_formulas_multilabel/wandb/run-20230315_235239-39ogj0p4/files/model-best/assets\n"
     ]
    },
    {
     "name": "stderr",
     "output_type": "stream",
     "text": [
      "INFO:tensorflow:Assets written to: /home/paul_d/Sources/sem_math_repo/classification_formulas_multilabel/wandb/run-20230315_235239-39ogj0p4/files/model-best/assets\n"
     ]
    },
    {
     "name": "stdout",
     "output_type": "stream",
     "text": [
      "346/346 [==============================] - 4s 10ms/step - loss: 0.1352 - accuracy: 0.5815 - recall_1: 0.1118 - val_loss: 0.1217 - val_accuracy: 0.8713 - val_recall_1: 0.2694\n",
      "Epoch 60/80\n",
      "344/346 [============================>.] - ETA: 0s - loss: 0.1350 - accuracy: 0.5862 - recall_1: 0.1099INFO:tensorflow:Assets written to: /home/paul_d/Sources/sem_math_repo/classification_formulas_multilabel/wandb/run-20230315_235239-39ogj0p4/files/model-best/assets\n"
     ]
    },
    {
     "name": "stderr",
     "output_type": "stream",
     "text": [
      "INFO:tensorflow:Assets written to: /home/paul_d/Sources/sem_math_repo/classification_formulas_multilabel/wandb/run-20230315_235239-39ogj0p4/files/model-best/assets\n"
     ]
    },
    {
     "name": "stdout",
     "output_type": "stream",
     "text": [
      "346/346 [==============================] - 4s 12ms/step - loss: 0.1351 - accuracy: 0.5850 - recall_1: 0.1097 - val_loss: 0.1217 - val_accuracy: 0.8713 - val_recall_1: 0.2719\n",
      "Epoch 61/80\n",
      "346/346 [==============================] - ETA: 0s - loss: 0.1351 - accuracy: 0.5832 - recall_1: 0.1123INFO:tensorflow:Assets written to: /home/paul_d/Sources/sem_math_repo/classification_formulas_multilabel/wandb/run-20230315_235239-39ogj0p4/files/model-best/assets\n"
     ]
    },
    {
     "name": "stderr",
     "output_type": "stream",
     "text": [
      "INFO:tensorflow:Assets written to: /home/paul_d/Sources/sem_math_repo/classification_formulas_multilabel/wandb/run-20230315_235239-39ogj0p4/files/model-best/assets\n"
     ]
    },
    {
     "name": "stdout",
     "output_type": "stream",
     "text": [
      "346/346 [==============================] - 4s 10ms/step - loss: 0.1351 - accuracy: 0.5832 - recall_1: 0.1123 - val_loss: 0.1216 - val_accuracy: 0.8713 - val_recall_1: 0.2715\n",
      "Epoch 62/80\n",
      "346/346 [==============================] - 3s 7ms/step - loss: 0.1351 - accuracy: 0.5854 - recall_1: 0.1131 - val_loss: 0.1216 - val_accuracy: 0.8713 - val_recall_1: 0.2715\n",
      "Epoch 63/80\n",
      "339/346 [============================>.] - ETA: 0s - loss: 0.1347 - accuracy: 0.5891 - recall_1: 0.1123INFO:tensorflow:Assets written to: /home/paul_d/Sources/sem_math_repo/classification_formulas_multilabel/wandb/run-20230315_235239-39ogj0p4/files/model-best/assets\n"
     ]
    },
    {
     "name": "stderr",
     "output_type": "stream",
     "text": [
      "INFO:tensorflow:Assets written to: /home/paul_d/Sources/sem_math_repo/classification_formulas_multilabel/wandb/run-20230315_235239-39ogj0p4/files/model-best/assets\n"
     ]
    },
    {
     "name": "stdout",
     "output_type": "stream",
     "text": [
      "346/346 [==============================] - 4s 11ms/step - loss: 0.1352 - accuracy: 0.5842 - recall_1: 0.1112 - val_loss: 0.1216 - val_accuracy: 0.8713 - val_recall_1: 0.2715\n",
      "Epoch 64/80\n",
      "344/346 [============================>.] - ETA: 0s - loss: 0.1347 - accuracy: 0.5868 - recall_1: 0.1120INFO:tensorflow:Assets written to: /home/paul_d/Sources/sem_math_repo/classification_formulas_multilabel/wandb/run-20230315_235239-39ogj0p4/files/model-best/assets\n"
     ]
    },
    {
     "name": "stderr",
     "output_type": "stream",
     "text": [
      "INFO:tensorflow:Assets written to: /home/paul_d/Sources/sem_math_repo/classification_formulas_multilabel/wandb/run-20230315_235239-39ogj0p4/files/model-best/assets\n"
     ]
    },
    {
     "name": "stdout",
     "output_type": "stream",
     "text": [
      "346/346 [==============================] - 3s 10ms/step - loss: 0.1349 - accuracy: 0.5857 - recall_1: 0.1116 - val_loss: 0.1216 - val_accuracy: 0.8713 - val_recall_1: 0.2717\n",
      "Epoch 65/80\n",
      "340/346 [============================>.] - ETA: 0s - loss: 0.1346 - accuracy: 0.5883 - recall_1: 0.1124INFO:tensorflow:Assets written to: /home/paul_d/Sources/sem_math_repo/classification_formulas_multilabel/wandb/run-20230315_235239-39ogj0p4/files/model-best/assets\n"
     ]
    },
    {
     "name": "stderr",
     "output_type": "stream",
     "text": [
      "INFO:tensorflow:Assets written to: /home/paul_d/Sources/sem_math_repo/classification_formulas_multilabel/wandb/run-20230315_235239-39ogj0p4/files/model-best/assets\n"
     ]
    },
    {
     "name": "stdout",
     "output_type": "stream",
     "text": [
      "346/346 [==============================] - 3s 10ms/step - loss: 0.1350 - accuracy: 0.5838 - recall_1: 0.1113 - val_loss: 0.1216 - val_accuracy: 0.8713 - val_recall_1: 0.2717\n",
      "Epoch 66/80\n",
      "344/346 [============================>.] - ETA: 0s - loss: 0.1347 - accuracy: 0.5847 - recall_1: 0.1137INFO:tensorflow:Assets written to: /home/paul_d/Sources/sem_math_repo/classification_formulas_multilabel/wandb/run-20230315_235239-39ogj0p4/files/model-best/assets\n"
     ]
    },
    {
     "name": "stderr",
     "output_type": "stream",
     "text": [
      "INFO:tensorflow:Assets written to: /home/paul_d/Sources/sem_math_repo/classification_formulas_multilabel/wandb/run-20230315_235239-39ogj0p4/files/model-best/assets\n"
     ]
    },
    {
     "name": "stdout",
     "output_type": "stream",
     "text": [
      "346/346 [==============================] - 4s 10ms/step - loss: 0.1349 - accuracy: 0.5830 - recall_1: 0.1134 - val_loss: 0.1215 - val_accuracy: 0.8713 - val_recall_1: 0.2717\n",
      "Epoch 67/80\n",
      "346/346 [==============================] - 3s 7ms/step - loss: 0.1350 - accuracy: 0.5843 - recall_1: 0.1117 - val_loss: 0.1216 - val_accuracy: 0.8713 - val_recall_1: 0.2717\n",
      "Epoch 68/80\n",
      "346/346 [==============================] - 3s 8ms/step - loss: 0.1350 - accuracy: 0.5862 - recall_1: 0.1135 - val_loss: 0.1215 - val_accuracy: 0.8713 - val_recall_1: 0.2717\n",
      "Epoch 69/80\n",
      "344/346 [============================>.] - ETA: 0s - loss: 0.1346 - accuracy: 0.5870 - recall_1: 0.1154INFO:tensorflow:Assets written to: /home/paul_d/Sources/sem_math_repo/classification_formulas_multilabel/wandb/run-20230315_235239-39ogj0p4/files/model-best/assets\n"
     ]
    },
    {
     "name": "stderr",
     "output_type": "stream",
     "text": [
      "INFO:tensorflow:Assets written to: /home/paul_d/Sources/sem_math_repo/classification_formulas_multilabel/wandb/run-20230315_235239-39ogj0p4/files/model-best/assets\n"
     ]
    },
    {
     "name": "stdout",
     "output_type": "stream",
     "text": [
      "346/346 [==============================] - 3s 10ms/step - loss: 0.1348 - accuracy: 0.5856 - recall_1: 0.1150 - val_loss: 0.1215 - val_accuracy: 0.8713 - val_recall_1: 0.2717\n",
      "Epoch 70/80\n",
      "346/346 [==============================] - 3s 8ms/step - loss: 0.1347 - accuracy: 0.5877 - recall_1: 0.1136 - val_loss: 0.1215 - val_accuracy: 0.8713 - val_recall_1: 0.2717\n",
      "Epoch 71/80\n",
      "341/346 [============================>.] - ETA: 0s - loss: 0.1343 - accuracy: 0.5899 - recall_1: 0.1152INFO:tensorflow:Assets written to: /home/paul_d/Sources/sem_math_repo/classification_formulas_multilabel/wandb/run-20230315_235239-39ogj0p4/files/model-best/assets\n"
     ]
    },
    {
     "name": "stderr",
     "output_type": "stream",
     "text": [
      "INFO:tensorflow:Assets written to: /home/paul_d/Sources/sem_math_repo/classification_formulas_multilabel/wandb/run-20230315_235239-39ogj0p4/files/model-best/assets\n"
     ]
    },
    {
     "name": "stdout",
     "output_type": "stream",
     "text": [
      "346/346 [==============================] - 3s 10ms/step - loss: 0.1346 - accuracy: 0.5867 - recall_1: 0.1144 - val_loss: 0.1215 - val_accuracy: 0.8713 - val_recall_1: 0.2717\n",
      "Epoch 72/80\n",
      "346/346 [==============================] - ETA: 0s - loss: 0.1348 - accuracy: 0.5850 - recall_1: 0.1144INFO:tensorflow:Assets written to: /home/paul_d/Sources/sem_math_repo/classification_formulas_multilabel/wandb/run-20230315_235239-39ogj0p4/files/model-best/assets\n"
     ]
    },
    {
     "name": "stderr",
     "output_type": "stream",
     "text": [
      "INFO:tensorflow:Assets written to: /home/paul_d/Sources/sem_math_repo/classification_formulas_multilabel/wandb/run-20230315_235239-39ogj0p4/files/model-best/assets\n"
     ]
    },
    {
     "name": "stdout",
     "output_type": "stream",
     "text": [
      "346/346 [==============================] - 4s 11ms/step - loss: 0.1348 - accuracy: 0.5850 - recall_1: 0.1144 - val_loss: 0.1214 - val_accuracy: 0.8713 - val_recall_1: 0.2717\n",
      "Epoch 73/80\n",
      "339/346 [============================>.] - ETA: 0s - loss: 0.1341 - accuracy: 0.5940 - recall_1: 0.1175INFO:tensorflow:Assets written to: /home/paul_d/Sources/sem_math_repo/classification_formulas_multilabel/wandb/run-20230315_235239-39ogj0p4/files/model-best/assets\n"
     ]
    },
    {
     "name": "stderr",
     "output_type": "stream",
     "text": [
      "INFO:tensorflow:Assets written to: /home/paul_d/Sources/sem_math_repo/classification_formulas_multilabel/wandb/run-20230315_235239-39ogj0p4/files/model-best/assets\n"
     ]
    },
    {
     "name": "stdout",
     "output_type": "stream",
     "text": [
      "346/346 [==============================] - 3s 10ms/step - loss: 0.1346 - accuracy: 0.5896 - recall_1: 0.1163 - val_loss: 0.1214 - val_accuracy: 0.8713 - val_recall_1: 0.2717\n",
      "Epoch 74/80\n",
      "345/346 [============================>.] - ETA: 0s - loss: 0.1343 - accuracy: 0.5899 - recall_1: 0.1151INFO:tensorflow:Assets written to: /home/paul_d/Sources/sem_math_repo/classification_formulas_multilabel/wandb/run-20230315_235239-39ogj0p4/files/model-best/assets\n"
     ]
    },
    {
     "name": "stderr",
     "output_type": "stream",
     "text": [
      "INFO:tensorflow:Assets written to: /home/paul_d/Sources/sem_math_repo/classification_formulas_multilabel/wandb/run-20230315_235239-39ogj0p4/files/model-best/assets\n"
     ]
    },
    {
     "name": "stdout",
     "output_type": "stream",
     "text": [
      "346/346 [==============================] - 4s 10ms/step - loss: 0.1343 - accuracy: 0.5891 - recall_1: 0.1150 - val_loss: 0.1212 - val_accuracy: 0.8692 - val_recall_1: 0.2593\n",
      "Epoch 75/80\n",
      "346/346 [==============================] - 2s 7ms/step - loss: 0.1344 - accuracy: 0.5884 - recall_1: 0.1157 - val_loss: 0.1213 - val_accuracy: 0.8692 - val_recall_1: 0.2593\n",
      "Epoch 76/80\n",
      "346/346 [==============================] - 3s 7ms/step - loss: 0.1343 - accuracy: 0.5873 - recall_1: 0.1165 - val_loss: 0.1213 - val_accuracy: 0.8697 - val_recall_1: 0.2593\n",
      "Epoch 77/80\n",
      "346/346 [==============================] - 3s 8ms/step - loss: 0.1345 - accuracy: 0.5870 - recall_1: 0.1158 - val_loss: 0.1213 - val_accuracy: 0.8697 - val_recall_1: 0.2593\n",
      "Epoch 78/80\n",
      "346/346 [==============================] - 3s 8ms/step - loss: 0.1345 - accuracy: 0.5899 - recall_1: 0.1156 - val_loss: 0.1213 - val_accuracy: 0.8697 - val_recall_1: 0.2593\n",
      "Epoch 79/80\n",
      "346/346 [==============================] - 3s 7ms/step - loss: 0.1343 - accuracy: 0.5879 - recall_1: 0.1160 - val_loss: 0.1213 - val_accuracy: 0.8697 - val_recall_1: 0.2593\n",
      "Epoch 80/80\n",
      "345/346 [============================>.] - ETA: 0s - loss: 0.1341 - accuracy: 0.5920 - recall_1: 0.1162INFO:tensorflow:Assets written to: /home/paul_d/Sources/sem_math_repo/classification_formulas_multilabel/wandb/run-20230315_235239-39ogj0p4/files/model-best/assets\n"
     ]
    },
    {
     "name": "stderr",
     "output_type": "stream",
     "text": [
      "INFO:tensorflow:Assets written to: /home/paul_d/Sources/sem_math_repo/classification_formulas_multilabel/wandb/run-20230315_235239-39ogj0p4/files/model-best/assets\n"
     ]
    },
    {
     "name": "stdout",
     "output_type": "stream",
     "text": [
      "346/346 [==============================] - 3s 10ms/step - loss: 0.1342 - accuracy: 0.5914 - recall_1: 0.1159 - val_loss: 0.1211 - val_accuracy: 0.8697 - val_recall_1: 0.2593\n"
     ]
    }
   ],
   "source": [
    "configs_dict = {\n",
    "    \"learning_rate\": optimal_lr,\n",
    "    \"emb_dim\": optimal_emb_dims,\n",
    "    \"dp1\": dp1, \n",
    "    \"dp2\": dp2,\n",
    "    \"algorithm\": \"LogReg\",\n",
    "    \"configuration\": \"multi_only_types\",\n",
    "    \"optimizer\": \"adam\",\n",
    "    \"loss\": \"binary_crossentropy\",\n",
    "    \"epochs\": NUM_EPOCHS,\n",
    "    \"batch_size\": 64,\n",
    "    \"vectorizer\": \"int\",\n",
    "    \"dataset\": \"multi_class_unbalanced_data_TOKENIZED_V1\"\n",
    "}\n",
    "\n",
    "run = wandb.init(project=wandb_project_name, reinit=True, config=configs_dict)\n",
    "\n",
    "history = model2.fit(train_dataset2, \n",
    "                    epochs=NUM_EPOCHS,\n",
    "                    validation_data=test_dataset2,\n",
    "                    #steps_per_epoch = STEPS_PER_EPOCH,\n",
    "                    validation_steps = VAL_STEPS_PER_EPOCH,\n",
    "                    callbacks= [WandbCallback()])#[tensorboard_callback])\n",
    "run.finish()"
   ]
  },
  {
   "attachments": {},
   "cell_type": "markdown",
   "metadata": {},
   "source": [
    "##### Model 3: TOKENS AND TYPES\n",
    "Find best hyperparameters"
   ]
  },
  {
   "cell_type": "code",
   "execution_count": 56,
   "metadata": {},
   "outputs": [],
   "source": [
    "tokens_input_len = TOKENS_MAX_SEQ_LEN \n",
    "type_input_len = TYPE_TOKENS_MAX_SEQ_LEN\n",
    "NUM_CLASSES = 40\n",
    "\n",
    "encoder_int_tokens3 = create_encoder(\"int\", None, \"token\", train_dataset3, 3)\n",
    "encoder_int_types3 = create_encoder(\"int\", None, \"type\", train_dataset3, 3)\n",
    "model_builder3 = mc_u.create_model_builder3_LR(NUM_CLASSES, encoder_int_tokens3,encoder_int_types3, tokens_input_len, type_input_len)"
   ]
  },
  {
   "cell_type": "code",
   "execution_count": 57,
   "metadata": {},
   "outputs": [],
   "source": [
    "tuner = kt.Hyperband(model_builder3,\n",
    "                     objective=kt.Objective(\"val_accuracy\", direction=\"max\"),\n",
    "                     max_epochs=20,\n",
    "                     factor=3,\n",
    "                     directory='meta_dir/model3_lr',\n",
    "                     project_name='model3_lr')\n",
    "stop_early = tf.keras.callbacks.EarlyStopping(monitor='val_loss', patience=3)"
   ]
  },
  {
   "cell_type": "code",
   "execution_count": 58,
   "metadata": {},
   "outputs": [
    {
     "name": "stdout",
     "output_type": "stream",
     "text": [
      "Trial 30 Complete [00h 01m 32s]\n",
      "val_accuracy: 0.8651315569877625\n",
      "\n",
      "Best val_accuracy So Far: 1.0\n",
      "Total elapsed time: 00h 21m 39s\n",
      "INFO:tensorflow:Oracle triggered exit\n"
     ]
    },
    {
     "name": "stderr",
     "output_type": "stream",
     "text": [
      "INFO:tensorflow:Oracle triggered exit\n"
     ]
    }
   ],
   "source": [
    "tuner.search(train_dataset3,\n",
    "             epochs=30,\n",
    "             validation_data=test_dataset3,\n",
    "             #steps_per_epoch = STEPS_PER_EPOCH,\n",
    "             validation_steps = VAL_STEPS_PER_EPOCH,\n",
    "             callbacks= [stop_early])#[tensorboard_callback])"
   ]
  },
  {
   "cell_type": "code",
   "execution_count": 59,
   "metadata": {},
   "outputs": [
    {
     "name": "stdout",
     "output_type": "stream",
     "text": [
      "0.0001\n",
      "32\n",
      "0.3\n",
      "0.2\n"
     ]
    }
   ],
   "source": [
    "best_hps=tuner.get_best_hyperparameters(num_trials=1)[0]\n",
    "optimal_lr = best_hps.get(\"learning_rate\")\n",
    "optimal_emb_dims = best_hps.get(\"emb_dims\")\n",
    "dp1 = best_hps.get(\"dropout1\")\n",
    "dp2 = best_hps.get(\"dropout2\")\n",
    "print(optimal_lr)\n",
    "print(optimal_emb_dims)\n",
    "print(dp1)\n",
    "print(dp2)"
   ]
  },
  {
   "attachments": {},
   "cell_type": "markdown",
   "metadata": {},
   "source": [
    "Train with best hyperparameters"
   ]
  },
  {
   "cell_type": "code",
   "execution_count": 60,
   "metadata": {},
   "outputs": [],
   "source": [
    "NUM_EPOCHS = 80\n",
    "model3 = mc_u.create_model3_LR(NUM_CLASSES, optimal_emb_dims, dp1, dp2, encoder_int_tokens3, encoder_int_types3, tokens_input_len, type_input_len)\n",
    "model3.compile(loss=tf.keras.losses.BinaryCrossentropy(from_logits=True),\n",
    "              optimizer=tf.keras.optimizers.Adam(optimal_lr),\n",
    "              metrics=[\"accuracy\", tf.keras.metrics.Recall()])"
   ]
  },
  {
   "cell_type": "code",
   "execution_count": 61,
   "metadata": {},
   "outputs": [
    {
     "name": "stdout",
     "output_type": "stream",
     "text": [
      "Epoch 1/80\n",
      "343/346 [============================>.] - ETA: 0s - loss: 0.6650 - accuracy: 0.2317 - recall_1: 0.0000e+00INFO:tensorflow:Assets written to: /home/paul_d/Sources/sem_math_repo/classification_formulas_multilabel/wandb/run-20230316_001902-rz5gyg0j/files/model-best/assets\n"
     ]
    },
    {
     "name": "stderr",
     "output_type": "stream",
     "text": [
      "INFO:tensorflow:Assets written to: /home/paul_d/Sources/sem_math_repo/classification_formulas_multilabel/wandb/run-20230316_001902-rz5gyg0j/files/model-best/assets\n"
     ]
    },
    {
     "name": "stdout",
     "output_type": "stream",
     "text": [
      "346/346 [==============================] - 4s 11ms/step - loss: 0.6648 - accuracy: 0.2322 - recall_1: 0.0000e+00 - val_loss: 0.6429 - val_accuracy: 0.0037 - val_recall_1: 0.0000e+00\n",
      "Epoch 2/80\n",
      "346/346 [==============================] - ETA: 0s - loss: 0.5854 - accuracy: 0.2940 - recall_1: 0.0000e+00INFO:tensorflow:Assets written to: /home/paul_d/Sources/sem_math_repo/classification_formulas_multilabel/wandb/run-20230316_001902-rz5gyg0j/files/model-best/assets\n"
     ]
    },
    {
     "name": "stderr",
     "output_type": "stream",
     "text": [
      "INFO:tensorflow:Assets written to: /home/paul_d/Sources/sem_math_repo/classification_formulas_multilabel/wandb/run-20230316_001902-rz5gyg0j/files/model-best/assets\n"
     ]
    },
    {
     "name": "stdout",
     "output_type": "stream",
     "text": [
      "346/346 [==============================] - 4s 10ms/step - loss: 0.5854 - accuracy: 0.2940 - recall_1: 0.0000e+00 - val_loss: 0.5605 - val_accuracy: 0.2183 - val_recall_1: 0.0000e+00\n",
      "Epoch 3/80\n",
      "341/346 [============================>.] - ETA: 0s - loss: 0.4749 - accuracy: 0.3247 - recall_1: 0.0000e+00INFO:tensorflow:Assets written to: /home/paul_d/Sources/sem_math_repo/classification_formulas_multilabel/wandb/run-20230316_001902-rz5gyg0j/files/model-best/assets\n"
     ]
    },
    {
     "name": "stderr",
     "output_type": "stream",
     "text": [
      "INFO:tensorflow:Assets written to: /home/paul_d/Sources/sem_math_repo/classification_formulas_multilabel/wandb/run-20230316_001902-rz5gyg0j/files/model-best/assets\n"
     ]
    },
    {
     "name": "stdout",
     "output_type": "stream",
     "text": [
      "346/346 [==============================] - 4s 10ms/step - loss: 0.4742 - accuracy: 0.3233 - recall_1: 0.0000e+00 - val_loss: 0.4599 - val_accuracy: 0.7360 - val_recall_1: 0.0000e+00\n",
      "Epoch 4/80\n",
      "339/346 [============================>.] - ETA: 0s - loss: 0.3664 - accuracy: 0.3458 - recall_1: 0.0000e+00INFO:tensorflow:Assets written to: /home/paul_d/Sources/sem_math_repo/classification_formulas_multilabel/wandb/run-20230316_001902-rz5gyg0j/files/model-best/assets\n"
     ]
    },
    {
     "name": "stderr",
     "output_type": "stream",
     "text": [
      "INFO:tensorflow:Assets written to: /home/paul_d/Sources/sem_math_repo/classification_formulas_multilabel/wandb/run-20230316_001902-rz5gyg0j/files/model-best/assets\n"
     ]
    },
    {
     "name": "stdout",
     "output_type": "stream",
     "text": [
      "346/346 [==============================] - 4s 10ms/step - loss: 0.3658 - accuracy: 0.3428 - recall_1: 0.0000e+00 - val_loss: 0.3682 - val_accuracy: 0.8914 - val_recall_1: 0.0000e+00\n",
      "Epoch 5/80\n",
      "346/346 [==============================] - ETA: 0s - loss: 0.2838 - accuracy: 0.3521 - recall_1: 0.0000e+00INFO:tensorflow:Assets written to: /home/paul_d/Sources/sem_math_repo/classification_formulas_multilabel/wandb/run-20230316_001902-rz5gyg0j/files/model-best/assets\n"
     ]
    },
    {
     "name": "stderr",
     "output_type": "stream",
     "text": [
      "INFO:tensorflow:Assets written to: /home/paul_d/Sources/sem_math_repo/classification_formulas_multilabel/wandb/run-20230316_001902-rz5gyg0j/files/model-best/assets\n"
     ]
    },
    {
     "name": "stdout",
     "output_type": "stream",
     "text": [
      "346/346 [==============================] - 4s 12ms/step - loss: 0.2838 - accuracy: 0.3521 - recall_1: 0.0000e+00 - val_loss: 0.2975 - val_accuracy: 0.9017 - val_recall_1: 0.0000e+00\n",
      "Epoch 6/80\n",
      "345/346 [============================>.] - ETA: 0s - loss: 0.2304 - accuracy: 0.3609 - recall_1: 0.0000e+00INFO:tensorflow:Assets written to: /home/paul_d/Sources/sem_math_repo/classification_formulas_multilabel/wandb/run-20230316_001902-rz5gyg0j/files/model-best/assets\n"
     ]
    },
    {
     "name": "stderr",
     "output_type": "stream",
     "text": [
      "INFO:tensorflow:Assets written to: /home/paul_d/Sources/sem_math_repo/classification_formulas_multilabel/wandb/run-20230316_001902-rz5gyg0j/files/model-best/assets\n"
     ]
    },
    {
     "name": "stdout",
     "output_type": "stream",
     "text": [
      "346/346 [==============================] - 4s 11ms/step - loss: 0.2305 - accuracy: 0.3603 - recall_1: 0.0000e+00 - val_loss: 0.2481 - val_accuracy: 0.9034 - val_recall_1: 0.0000e+00\n",
      "Epoch 7/80\n",
      "346/346 [==============================] - ETA: 0s - loss: 0.1981 - accuracy: 0.3664 - recall_1: 2.4098e-05INFO:tensorflow:Assets written to: /home/paul_d/Sources/sem_math_repo/classification_formulas_multilabel/wandb/run-20230316_001902-rz5gyg0j/files/model-best/assets\n"
     ]
    },
    {
     "name": "stderr",
     "output_type": "stream",
     "text": [
      "INFO:tensorflow:Assets written to: /home/paul_d/Sources/sem_math_repo/classification_formulas_multilabel/wandb/run-20230316_001902-rz5gyg0j/files/model-best/assets\n"
     ]
    },
    {
     "name": "stdout",
     "output_type": "stream",
     "text": [
      "346/346 [==============================] - 4s 10ms/step - loss: 0.1981 - accuracy: 0.3664 - recall_1: 2.4098e-05 - val_loss: 0.2146 - val_accuracy: 0.9178 - val_recall_1: 0.0000e+00\n",
      "Epoch 8/80\n",
      "340/346 [============================>.] - ETA: 0s - loss: 0.1789 - accuracy: 0.3756 - recall_1: 0.0000e+00INFO:tensorflow:Assets written to: /home/paul_d/Sources/sem_math_repo/classification_formulas_multilabel/wandb/run-20230316_001902-rz5gyg0j/files/model-best/assets\n"
     ]
    },
    {
     "name": "stderr",
     "output_type": "stream",
     "text": [
      "INFO:tensorflow:Assets written to: /home/paul_d/Sources/sem_math_repo/classification_formulas_multilabel/wandb/run-20230316_001902-rz5gyg0j/files/model-best/assets\n"
     ]
    },
    {
     "name": "stdout",
     "output_type": "stream",
     "text": [
      "346/346 [==============================] - 4s 10ms/step - loss: 0.1791 - accuracy: 0.3727 - recall_1: 0.0000e+00 - val_loss: 0.1923 - val_accuracy: 0.9268 - val_recall_1: 0.0000e+00\n",
      "Epoch 9/80\n",
      "342/346 [============================>.] - ETA: 0s - loss: 0.1678 - accuracy: 0.3819 - recall_1: 0.0000e+00INFO:tensorflow:Assets written to: /home/paul_d/Sources/sem_math_repo/classification_formulas_multilabel/wandb/run-20230316_001902-rz5gyg0j/files/model-best/assets\n"
     ]
    },
    {
     "name": "stderr",
     "output_type": "stream",
     "text": [
      "INFO:tensorflow:Assets written to: /home/paul_d/Sources/sem_math_repo/classification_formulas_multilabel/wandb/run-20230316_001902-rz5gyg0j/files/model-best/assets\n"
     ]
    },
    {
     "name": "stdout",
     "output_type": "stream",
     "text": [
      "346/346 [==============================] - 4s 10ms/step - loss: 0.1680 - accuracy: 0.3795 - recall_1: 0.0000e+00 - val_loss: 0.1773 - val_accuracy: 0.9243 - val_recall_1: 0.0000e+00\n",
      "Epoch 10/80\n",
      "346/346 [==============================] - ETA: 0s - loss: 0.1613 - accuracy: 0.3856 - recall_1: 2.4098e-05INFO:tensorflow:Assets written to: /home/paul_d/Sources/sem_math_repo/classification_formulas_multilabel/wandb/run-20230316_001902-rz5gyg0j/files/model-best/assets\n"
     ]
    },
    {
     "name": "stderr",
     "output_type": "stream",
     "text": [
      "INFO:tensorflow:Assets written to: /home/paul_d/Sources/sem_math_repo/classification_formulas_multilabel/wandb/run-20230316_001902-rz5gyg0j/files/model-best/assets\n"
     ]
    },
    {
     "name": "stdout",
     "output_type": "stream",
     "text": [
      "346/346 [==============================] - 4s 11ms/step - loss: 0.1613 - accuracy: 0.3856 - recall_1: 2.4098e-05 - val_loss: 0.1669 - val_accuracy: 0.9223 - val_recall_1: 0.0000e+00\n",
      "Epoch 11/80\n",
      "342/346 [============================>.] - ETA: 0s - loss: 0.1572 - accuracy: 0.3926 - recall_1: 0.0000e+00INFO:tensorflow:Assets written to: /home/paul_d/Sources/sem_math_repo/classification_formulas_multilabel/wandb/run-20230316_001902-rz5gyg0j/files/model-best/assets\n"
     ]
    },
    {
     "name": "stderr",
     "output_type": "stream",
     "text": [
      "INFO:tensorflow:Assets written to: /home/paul_d/Sources/sem_math_repo/classification_formulas_multilabel/wandb/run-20230316_001902-rz5gyg0j/files/model-best/assets\n"
     ]
    },
    {
     "name": "stdout",
     "output_type": "stream",
     "text": [
      "346/346 [==============================] - 4s 12ms/step - loss: 0.1573 - accuracy: 0.3903 - recall_1: 0.0000e+00 - val_loss: 0.1600 - val_accuracy: 0.9215 - val_recall_1: 0.0000e+00\n",
      "Epoch 12/80\n",
      "340/346 [============================>.] - ETA: 0s - loss: 0.1544 - accuracy: 0.3997 - recall_1: 0.0000e+00INFO:tensorflow:Assets written to: /home/paul_d/Sources/sem_math_repo/classification_formulas_multilabel/wandb/run-20230316_001902-rz5gyg0j/files/model-best/assets\n"
     ]
    },
    {
     "name": "stderr",
     "output_type": "stream",
     "text": [
      "INFO:tensorflow:Assets written to: /home/paul_d/Sources/sem_math_repo/classification_formulas_multilabel/wandb/run-20230316_001902-rz5gyg0j/files/model-best/assets\n"
     ]
    },
    {
     "name": "stdout",
     "output_type": "stream",
     "text": [
      "346/346 [==============================] - 4s 10ms/step - loss: 0.1548 - accuracy: 0.3958 - recall_1: 0.0000e+00 - val_loss: 0.1554 - val_accuracy: 0.9186 - val_recall_1: 0.0000e+00\n",
      "Epoch 13/80\n",
      "345/346 [============================>.] - ETA: 0s - loss: 0.1530 - accuracy: 0.4058 - recall_1: 4.8338e-05INFO:tensorflow:Assets written to: /home/paul_d/Sources/sem_math_repo/classification_formulas_multilabel/wandb/run-20230316_001902-rz5gyg0j/files/model-best/assets\n"
     ]
    },
    {
     "name": "stderr",
     "output_type": "stream",
     "text": [
      "INFO:tensorflow:Assets written to: /home/paul_d/Sources/sem_math_repo/classification_formulas_multilabel/wandb/run-20230316_001902-rz5gyg0j/files/model-best/assets\n"
     ]
    },
    {
     "name": "stdout",
     "output_type": "stream",
     "text": [
      "346/346 [==============================] - 4s 11ms/step - loss: 0.1530 - accuracy: 0.4053 - recall_1: 4.8203e-05 - val_loss: 0.1522 - val_accuracy: 0.9141 - val_recall_1: 0.0000e+00\n",
      "Epoch 14/80\n",
      "340/346 [============================>.] - ETA: 0s - loss: 0.1515 - accuracy: 0.4159 - recall_1: 4.9063e-05INFO:tensorflow:Assets written to: /home/paul_d/Sources/sem_math_repo/classification_formulas_multilabel/wandb/run-20230316_001902-rz5gyg0j/files/model-best/assets\n"
     ]
    },
    {
     "name": "stderr",
     "output_type": "stream",
     "text": [
      "INFO:tensorflow:Assets written to: /home/paul_d/Sources/sem_math_repo/classification_formulas_multilabel/wandb/run-20230316_001902-rz5gyg0j/files/model-best/assets\n"
     ]
    },
    {
     "name": "stdout",
     "output_type": "stream",
     "text": [
      "346/346 [==============================] - 4s 10ms/step - loss: 0.1520 - accuracy: 0.4122 - recall_1: 4.8193e-05 - val_loss: 0.1500 - val_accuracy: 0.9038 - val_recall_1: 0.0000e+00\n",
      "Epoch 15/80\n",
      "342/346 [============================>.] - ETA: 0s - loss: 0.1508 - accuracy: 0.4234 - recall_1: 0.0000e+00INFO:tensorflow:Assets written to: /home/paul_d/Sources/sem_math_repo/classification_formulas_multilabel/wandb/run-20230316_001902-rz5gyg0j/files/model-best/assets\n"
     ]
    },
    {
     "name": "stderr",
     "output_type": "stream",
     "text": [
      "INFO:tensorflow:Assets written to: /home/paul_d/Sources/sem_math_repo/classification_formulas_multilabel/wandb/run-20230316_001902-rz5gyg0j/files/model-best/assets\n"
     ]
    },
    {
     "name": "stdout",
     "output_type": "stream",
     "text": [
      "346/346 [==============================] - 4s 11ms/step - loss: 0.1511 - accuracy: 0.4212 - recall_1: 0.0000e+00 - val_loss: 0.1486 - val_accuracy: 0.9038 - val_recall_1: 0.0000e+00\n",
      "Epoch 16/80\n",
      "339/346 [============================>.] - ETA: 0s - loss: 0.1502 - accuracy: 0.4343 - recall_1: 2.4590e-05INFO:tensorflow:Assets written to: /home/paul_d/Sources/sem_math_repo/classification_formulas_multilabel/wandb/run-20230316_001902-rz5gyg0j/files/model-best/assets\n"
     ]
    },
    {
     "name": "stderr",
     "output_type": "stream",
     "text": [
      "INFO:tensorflow:Assets written to: /home/paul_d/Sources/sem_math_repo/classification_formulas_multilabel/wandb/run-20230316_001902-rz5gyg0j/files/model-best/assets\n"
     ]
    },
    {
     "name": "stdout",
     "output_type": "stream",
     "text": [
      "346/346 [==============================] - 4s 12ms/step - loss: 0.1506 - accuracy: 0.4309 - recall_1: 2.4098e-05 - val_loss: 0.1476 - val_accuracy: 0.8968 - val_recall_1: 0.0000e+00\n",
      "Epoch 17/80\n",
      "340/346 [============================>.] - ETA: 0s - loss: 0.1497 - accuracy: 0.4417 - recall_1: 1.2259e-04INFO:tensorflow:Assets written to: /home/paul_d/Sources/sem_math_repo/classification_formulas_multilabel/wandb/run-20230316_001902-rz5gyg0j/files/model-best/assets\n"
     ]
    },
    {
     "name": "stderr",
     "output_type": "stream",
     "text": [
      "INFO:tensorflow:Assets written to: /home/paul_d/Sources/sem_math_repo/classification_formulas_multilabel/wandb/run-20230316_001902-rz5gyg0j/files/model-best/assets\n"
     ]
    },
    {
     "name": "stdout",
     "output_type": "stream",
     "text": [
      "346/346 [==============================] - 4s 12ms/step - loss: 0.1501 - accuracy: 0.4384 - recall_1: 1.2049e-04 - val_loss: 0.1467 - val_accuracy: 0.8931 - val_recall_1: 0.0000e+00\n",
      "Epoch 18/80\n",
      "345/346 [============================>.] - ETA: 0s - loss: 0.1494 - accuracy: 0.4473 - recall_1: 1.6920e-04INFO:tensorflow:Assets written to: /home/paul_d/Sources/sem_math_repo/classification_formulas_multilabel/wandb/run-20230316_001902-rz5gyg0j/files/model-best/assets\n"
     ]
    },
    {
     "name": "stderr",
     "output_type": "stream",
     "text": [
      "INFO:tensorflow:Assets written to: /home/paul_d/Sources/sem_math_repo/classification_formulas_multilabel/wandb/run-20230316_001902-rz5gyg0j/files/model-best/assets\n"
     ]
    },
    {
     "name": "stdout",
     "output_type": "stream",
     "text": [
      "346/346 [==============================] - 4s 11ms/step - loss: 0.1495 - accuracy: 0.4467 - recall_1: 1.6867e-04 - val_loss: 0.1460 - val_accuracy: 0.8914 - val_recall_1: 0.0000e+00\n",
      "Epoch 19/80\n",
      "345/346 [============================>.] - ETA: 0s - loss: 0.1489 - accuracy: 0.4561 - recall_1: 1.9341e-04INFO:tensorflow:Assets written to: /home/paul_d/Sources/sem_math_repo/classification_formulas_multilabel/wandb/run-20230316_001902-rz5gyg0j/files/model-best/assets\n"
     ]
    },
    {
     "name": "stderr",
     "output_type": "stream",
     "text": [
      "INFO:tensorflow:Assets written to: /home/paul_d/Sources/sem_math_repo/classification_formulas_multilabel/wandb/run-20230316_001902-rz5gyg0j/files/model-best/assets\n"
     ]
    },
    {
     "name": "stdout",
     "output_type": "stream",
     "text": [
      "346/346 [==============================] - 4s 11ms/step - loss: 0.1490 - accuracy: 0.4556 - recall_1: 1.9281e-04 - val_loss: 0.1454 - val_accuracy: 0.8890 - val_recall_1: 0.0000e+00\n",
      "Epoch 20/80\n",
      "339/346 [============================>.] - ETA: 0s - loss: 0.1480 - accuracy: 0.4720 - recall_1: 3.9346e-04INFO:tensorflow:Assets written to: /home/paul_d/Sources/sem_math_repo/classification_formulas_multilabel/wandb/run-20230316_001902-rz5gyg0j/files/model-best/assets\n"
     ]
    },
    {
     "name": "stderr",
     "output_type": "stream",
     "text": [
      "INFO:tensorflow:Assets written to: /home/paul_d/Sources/sem_math_repo/classification_formulas_multilabel/wandb/run-20230316_001902-rz5gyg0j/files/model-best/assets\n"
     ]
    },
    {
     "name": "stdout",
     "output_type": "stream",
     "text": [
      "346/346 [==============================] - 4s 12ms/step - loss: 0.1485 - accuracy: 0.4682 - recall_1: 3.8559e-04 - val_loss: 0.1449 - val_accuracy: 0.8886 - val_recall_1: 0.0000e+00\n",
      "Epoch 21/80\n",
      "346/346 [==============================] - ETA: 0s - loss: 0.1478 - accuracy: 0.4763 - recall_1: 4.8200e-04INFO:tensorflow:Assets written to: /home/paul_d/Sources/sem_math_repo/classification_formulas_multilabel/wandb/run-20230316_001902-rz5gyg0j/files/model-best/assets\n"
     ]
    },
    {
     "name": "stderr",
     "output_type": "stream",
     "text": [
      "INFO:tensorflow:Assets written to: /home/paul_d/Sources/sem_math_repo/classification_formulas_multilabel/wandb/run-20230316_001902-rz5gyg0j/files/model-best/assets\n"
     ]
    },
    {
     "name": "stdout",
     "output_type": "stream",
     "text": [
      "346/346 [==============================] - 4s 10ms/step - loss: 0.1478 - accuracy: 0.4763 - recall_1: 4.8200e-04 - val_loss: 0.1444 - val_accuracy: 0.8886 - val_recall_1: 0.0000e+00\n",
      "Epoch 22/80\n",
      "342/346 [============================>.] - ETA: 0s - loss: 0.1475 - accuracy: 0.4829 - recall_1: 0.0014INFO:tensorflow:Assets written to: /home/paul_d/Sources/sem_math_repo/classification_formulas_multilabel/wandb/run-20230316_001902-rz5gyg0j/files/model-best/assets\n"
     ]
    },
    {
     "name": "stderr",
     "output_type": "stream",
     "text": [
      "INFO:tensorflow:Assets written to: /home/paul_d/Sources/sem_math_repo/classification_formulas_multilabel/wandb/run-20230316_001902-rz5gyg0j/files/model-best/assets\n"
     ]
    },
    {
     "name": "stdout",
     "output_type": "stream",
     "text": [
      "346/346 [==============================] - 4s 12ms/step - loss: 0.1477 - accuracy: 0.4803 - recall_1: 0.0013 - val_loss: 0.1439 - val_accuracy: 0.8845 - val_recall_1: 0.0000e+00\n",
      "Epoch 23/80\n",
      "345/346 [============================>.] - ETA: 0s - loss: 0.1471 - accuracy: 0.4871 - recall_1: 0.0018INFO:tensorflow:Assets written to: /home/paul_d/Sources/sem_math_repo/classification_formulas_multilabel/wandb/run-20230316_001902-rz5gyg0j/files/model-best/assets\n"
     ]
    },
    {
     "name": "stderr",
     "output_type": "stream",
     "text": [
      "INFO:tensorflow:Assets written to: /home/paul_d/Sources/sem_math_repo/classification_formulas_multilabel/wandb/run-20230316_001902-rz5gyg0j/files/model-best/assets\n"
     ]
    },
    {
     "name": "stdout",
     "output_type": "stream",
     "text": [
      "346/346 [==============================] - 4s 10ms/step - loss: 0.1472 - accuracy: 0.4865 - recall_1: 0.0018 - val_loss: 0.1434 - val_accuracy: 0.8836 - val_recall_1: 0.0000e+00\n",
      "Epoch 24/80\n",
      "341/346 [============================>.] - ETA: 0s - loss: 0.1463 - accuracy: 0.4931 - recall_1: 0.0034INFO:tensorflow:Assets written to: /home/paul_d/Sources/sem_math_repo/classification_formulas_multilabel/wandb/run-20230316_001902-rz5gyg0j/files/model-best/assets\n"
     ]
    },
    {
     "name": "stderr",
     "output_type": "stream",
     "text": [
      "INFO:tensorflow:Assets written to: /home/paul_d/Sources/sem_math_repo/classification_formulas_multilabel/wandb/run-20230316_001902-rz5gyg0j/files/model-best/assets\n"
     ]
    },
    {
     "name": "stdout",
     "output_type": "stream",
     "text": [
      "346/346 [==============================] - 4s 11ms/step - loss: 0.1466 - accuracy: 0.4901 - recall_1: 0.0033 - val_loss: 0.1430 - val_accuracy: 0.8836 - val_recall_1: 0.0000e+00\n",
      "Epoch 25/80\n",
      "346/346 [==============================] - ETA: 0s - loss: 0.1462 - accuracy: 0.4962 - recall_1: 0.0044INFO:tensorflow:Assets written to: /home/paul_d/Sources/sem_math_repo/classification_formulas_multilabel/wandb/run-20230316_001902-rz5gyg0j/files/model-best/assets\n"
     ]
    },
    {
     "name": "stderr",
     "output_type": "stream",
     "text": [
      "INFO:tensorflow:Assets written to: /home/paul_d/Sources/sem_math_repo/classification_formulas_multilabel/wandb/run-20230316_001902-rz5gyg0j/files/model-best/assets\n"
     ]
    },
    {
     "name": "stdout",
     "output_type": "stream",
     "text": [
      "346/346 [==============================] - 3s 10ms/step - loss: 0.1462 - accuracy: 0.4962 - recall_1: 0.0044 - val_loss: 0.1425 - val_accuracy: 0.8717 - val_recall_1: 0.0000e+00\n",
      "Epoch 26/80\n",
      "345/346 [============================>.] - ETA: 0s - loss: 0.1458 - accuracy: 0.5033 - recall_1: 0.0060INFO:tensorflow:Assets written to: /home/paul_d/Sources/sem_math_repo/classification_formulas_multilabel/wandb/run-20230316_001902-rz5gyg0j/files/model-best/assets\n"
     ]
    },
    {
     "name": "stderr",
     "output_type": "stream",
     "text": [
      "INFO:tensorflow:Assets written to: /home/paul_d/Sources/sem_math_repo/classification_formulas_multilabel/wandb/run-20230316_001902-rz5gyg0j/files/model-best/assets\n"
     ]
    },
    {
     "name": "stdout",
     "output_type": "stream",
     "text": [
      "346/346 [==============================] - 4s 10ms/step - loss: 0.1458 - accuracy: 0.5026 - recall_1: 0.0060 - val_loss: 0.1420 - val_accuracy: 0.8680 - val_recall_1: 0.0000e+00\n",
      "Epoch 27/80\n",
      "340/346 [============================>.] - ETA: 0s - loss: 0.1451 - accuracy: 0.5114 - recall_1: 0.0076INFO:tensorflow:Assets written to: /home/paul_d/Sources/sem_math_repo/classification_formulas_multilabel/wandb/run-20230316_001902-rz5gyg0j/files/model-best/assets\n"
     ]
    },
    {
     "name": "stderr",
     "output_type": "stream",
     "text": [
      "INFO:tensorflow:Assets written to: /home/paul_d/Sources/sem_math_repo/classification_formulas_multilabel/wandb/run-20230316_001902-rz5gyg0j/files/model-best/assets\n"
     ]
    },
    {
     "name": "stdout",
     "output_type": "stream",
     "text": [
      "346/346 [==============================] - 4s 10ms/step - loss: 0.1455 - accuracy: 0.5079 - recall_1: 0.0075 - val_loss: 0.1415 - val_accuracy: 0.8672 - val_recall_1: 0.0000e+00\n",
      "Epoch 28/80\n",
      "346/346 [==============================] - ETA: 0s - loss: 0.1452 - accuracy: 0.5117 - recall_1: 0.0107INFO:tensorflow:Assets written to: /home/paul_d/Sources/sem_math_repo/classification_formulas_multilabel/wandb/run-20230316_001902-rz5gyg0j/files/model-best/assets\n"
     ]
    },
    {
     "name": "stderr",
     "output_type": "stream",
     "text": [
      "INFO:tensorflow:Assets written to: /home/paul_d/Sources/sem_math_repo/classification_formulas_multilabel/wandb/run-20230316_001902-rz5gyg0j/files/model-best/assets\n"
     ]
    },
    {
     "name": "stdout",
     "output_type": "stream",
     "text": [
      "346/346 [==============================] - 4s 12ms/step - loss: 0.1452 - accuracy: 0.5117 - recall_1: 0.0107 - val_loss: 0.1410 - val_accuracy: 0.8668 - val_recall_1: 0.0000e+00\n",
      "Epoch 29/80\n",
      "346/346 [==============================] - ETA: 0s - loss: 0.1447 - accuracy: 0.5181 - recall_1: 0.0138INFO:tensorflow:Assets written to: /home/paul_d/Sources/sem_math_repo/classification_formulas_multilabel/wandb/run-20230316_001902-rz5gyg0j/files/model-best/assets\n"
     ]
    },
    {
     "name": "stderr",
     "output_type": "stream",
     "text": [
      "INFO:tensorflow:Assets written to: /home/paul_d/Sources/sem_math_repo/classification_formulas_multilabel/wandb/run-20230316_001902-rz5gyg0j/files/model-best/assets\n"
     ]
    },
    {
     "name": "stdout",
     "output_type": "stream",
     "text": [
      "346/346 [==============================] - 4s 12ms/step - loss: 0.1447 - accuracy: 0.5181 - recall_1: 0.0138 - val_loss: 0.1404 - val_accuracy: 0.8647 - val_recall_1: 0.0000e+00\n",
      "Epoch 30/80\n",
      "339/346 [============================>.] - ETA: 0s - loss: 0.1438 - accuracy: 0.5241 - recall_1: 0.0168INFO:tensorflow:Assets written to: /home/paul_d/Sources/sem_math_repo/classification_formulas_multilabel/wandb/run-20230316_001902-rz5gyg0j/files/model-best/assets\n"
     ]
    },
    {
     "name": "stderr",
     "output_type": "stream",
     "text": [
      "INFO:tensorflow:Assets written to: /home/paul_d/Sources/sem_math_repo/classification_formulas_multilabel/wandb/run-20230316_001902-rz5gyg0j/files/model-best/assets\n"
     ]
    },
    {
     "name": "stdout",
     "output_type": "stream",
     "text": [
      "346/346 [==============================] - 4s 10ms/step - loss: 0.1443 - accuracy: 0.5198 - recall_1: 0.0165 - val_loss: 0.1400 - val_accuracy: 0.8643 - val_recall_1: 0.0000e+00\n",
      "Epoch 31/80\n",
      "341/346 [============================>.] - ETA: 0s - loss: 0.1435 - accuracy: 0.5248 - recall_1: 0.0204INFO:tensorflow:Assets written to: /home/paul_d/Sources/sem_math_repo/classification_formulas_multilabel/wandb/run-20230316_001902-rz5gyg0j/files/model-best/assets\n"
     ]
    },
    {
     "name": "stderr",
     "output_type": "stream",
     "text": [
      "INFO:tensorflow:Assets written to: /home/paul_d/Sources/sem_math_repo/classification_formulas_multilabel/wandb/run-20230316_001902-rz5gyg0j/files/model-best/assets\n"
     ]
    },
    {
     "name": "stdout",
     "output_type": "stream",
     "text": [
      "346/346 [==============================] - 4s 11ms/step - loss: 0.1440 - accuracy: 0.5221 - recall_1: 0.0202 - val_loss: 0.1394 - val_accuracy: 0.8639 - val_recall_1: 0.0000e+00\n",
      "Epoch 32/80\n",
      "340/346 [============================>.] - ETA: 0s - loss: 0.1432 - accuracy: 0.5359 - recall_1: 0.0228INFO:tensorflow:Assets written to: /home/paul_d/Sources/sem_math_repo/classification_formulas_multilabel/wandb/run-20230316_001902-rz5gyg0j/files/model-best/assets\n"
     ]
    },
    {
     "name": "stderr",
     "output_type": "stream",
     "text": [
      "INFO:tensorflow:Assets written to: /home/paul_d/Sources/sem_math_repo/classification_formulas_multilabel/wandb/run-20230316_001902-rz5gyg0j/files/model-best/assets\n"
     ]
    },
    {
     "name": "stdout",
     "output_type": "stream",
     "text": [
      "346/346 [==============================] - 4s 10ms/step - loss: 0.1435 - accuracy: 0.5320 - recall_1: 0.0224 - val_loss: 0.1389 - val_accuracy: 0.8639 - val_recall_1: 0.0000e+00\n",
      "Epoch 33/80\n",
      "344/346 [============================>.] - ETA: 0s - loss: 0.1432 - accuracy: 0.5328 - recall_1: 0.0251INFO:tensorflow:Assets written to: /home/paul_d/Sources/sem_math_repo/classification_formulas_multilabel/wandb/run-20230316_001902-rz5gyg0j/files/model-best/assets\n"
     ]
    },
    {
     "name": "stderr",
     "output_type": "stream",
     "text": [
      "INFO:tensorflow:Assets written to: /home/paul_d/Sources/sem_math_repo/classification_formulas_multilabel/wandb/run-20230316_001902-rz5gyg0j/files/model-best/assets\n"
     ]
    },
    {
     "name": "stdout",
     "output_type": "stream",
     "text": [
      "346/346 [==============================] - 4s 11ms/step - loss: 0.1433 - accuracy: 0.5314 - recall_1: 0.0250 - val_loss: 0.1384 - val_accuracy: 0.8639 - val_recall_1: 0.0045\n",
      "Epoch 34/80\n",
      "342/346 [============================>.] - ETA: 0s - loss: 0.1427 - accuracy: 0.5329 - recall_1: 0.0282INFO:tensorflow:Assets written to: /home/paul_d/Sources/sem_math_repo/classification_formulas_multilabel/wandb/run-20230316_001902-rz5gyg0j/files/model-best/assets\n"
     ]
    },
    {
     "name": "stderr",
     "output_type": "stream",
     "text": [
      "INFO:tensorflow:Assets written to: /home/paul_d/Sources/sem_math_repo/classification_formulas_multilabel/wandb/run-20230316_001902-rz5gyg0j/files/model-best/assets\n"
     ]
    },
    {
     "name": "stdout",
     "output_type": "stream",
     "text": [
      "346/346 [==============================] - 4s 12ms/step - loss: 0.1430 - accuracy: 0.5306 - recall_1: 0.0279 - val_loss: 0.1380 - val_accuracy: 0.8639 - val_recall_1: 0.0397\n",
      "Epoch 35/80\n",
      "344/346 [============================>.] - ETA: 0s - loss: 0.1425 - accuracy: 0.5359 - recall_1: 0.0310INFO:tensorflow:Assets written to: /home/paul_d/Sources/sem_math_repo/classification_formulas_multilabel/wandb/run-20230316_001902-rz5gyg0j/files/model-best/assets\n"
     ]
    },
    {
     "name": "stderr",
     "output_type": "stream",
     "text": [
      "INFO:tensorflow:Assets written to: /home/paul_d/Sources/sem_math_repo/classification_formulas_multilabel/wandb/run-20230316_001902-rz5gyg0j/files/model-best/assets\n"
     ]
    },
    {
     "name": "stdout",
     "output_type": "stream",
     "text": [
      "346/346 [==============================] - 4s 11ms/step - loss: 0.1426 - accuracy: 0.5350 - recall_1: 0.0308 - val_loss: 0.1376 - val_accuracy: 0.8635 - val_recall_1: 0.0440\n",
      "Epoch 36/80\n",
      "342/346 [============================>.] - ETA: 0s - loss: 0.1421 - accuracy: 0.5434 - recall_1: 0.0339INFO:tensorflow:Assets written to: /home/paul_d/Sources/sem_math_repo/classification_formulas_multilabel/wandb/run-20230316_001902-rz5gyg0j/files/model-best/assets\n"
     ]
    },
    {
     "name": "stderr",
     "output_type": "stream",
     "text": [
      "INFO:tensorflow:Assets written to: /home/paul_d/Sources/sem_math_repo/classification_formulas_multilabel/wandb/run-20230316_001902-rz5gyg0j/files/model-best/assets\n"
     ]
    },
    {
     "name": "stdout",
     "output_type": "stream",
     "text": [
      "346/346 [==============================] - 5s 14ms/step - loss: 0.1424 - accuracy: 0.5408 - recall_1: 0.0336 - val_loss: 0.1372 - val_accuracy: 0.8631 - val_recall_1: 0.0492\n",
      "Epoch 37/80\n",
      "339/346 [============================>.] - ETA: 0s - loss: 0.1418 - accuracy: 0.5458 - recall_1: 0.0371INFO:tensorflow:Assets written to: /home/paul_d/Sources/sem_math_repo/classification_formulas_multilabel/wandb/run-20230316_001902-rz5gyg0j/files/model-best/assets\n"
     ]
    },
    {
     "name": "stderr",
     "output_type": "stream",
     "text": [
      "INFO:tensorflow:Assets written to: /home/paul_d/Sources/sem_math_repo/classification_formulas_multilabel/wandb/run-20230316_001902-rz5gyg0j/files/model-best/assets\n"
     ]
    },
    {
     "name": "stdout",
     "output_type": "stream",
     "text": [
      "346/346 [==============================] - 4s 12ms/step - loss: 0.1422 - accuracy: 0.5410 - recall_1: 0.0365 - val_loss: 0.1368 - val_accuracy: 0.8618 - val_recall_1: 0.0539\n",
      "Epoch 38/80\n",
      "342/346 [============================>.] - ETA: 0s - loss: 0.1415 - accuracy: 0.5455 - recall_1: 0.0386INFO:tensorflow:Assets written to: /home/paul_d/Sources/sem_math_repo/classification_formulas_multilabel/wandb/run-20230316_001902-rz5gyg0j/files/model-best/assets\n"
     ]
    },
    {
     "name": "stderr",
     "output_type": "stream",
     "text": [
      "INFO:tensorflow:Assets written to: /home/paul_d/Sources/sem_math_repo/classification_formulas_multilabel/wandb/run-20230316_001902-rz5gyg0j/files/model-best/assets\n"
     ]
    },
    {
     "name": "stdout",
     "output_type": "stream",
     "text": [
      "346/346 [==============================] - 4s 10ms/step - loss: 0.1418 - accuracy: 0.5424 - recall_1: 0.0382 - val_loss: 0.1364 - val_accuracy: 0.8618 - val_recall_1: 0.0611\n",
      "Epoch 39/80\n",
      "343/346 [============================>.] - ETA: 0s - loss: 0.1416 - accuracy: 0.5428 - recall_1: 0.0417INFO:tensorflow:Assets written to: /home/paul_d/Sources/sem_math_repo/classification_formulas_multilabel/wandb/run-20230316_001902-rz5gyg0j/files/model-best/assets\n"
     ]
    },
    {
     "name": "stderr",
     "output_type": "stream",
     "text": [
      "INFO:tensorflow:Assets written to: /home/paul_d/Sources/sem_math_repo/classification_formulas_multilabel/wandb/run-20230316_001902-rz5gyg0j/files/model-best/assets\n"
     ]
    },
    {
     "name": "stdout",
     "output_type": "stream",
     "text": [
      "346/346 [==============================] - 4s 11ms/step - loss: 0.1418 - accuracy: 0.5411 - recall_1: 0.0414 - val_loss: 0.1360 - val_accuracy: 0.8614 - val_recall_1: 0.0920\n",
      "Epoch 40/80\n",
      "344/346 [============================>.] - ETA: 0s - loss: 0.1414 - accuracy: 0.5460 - recall_1: 0.0431INFO:tensorflow:Assets written to: /home/paul_d/Sources/sem_math_repo/classification_formulas_multilabel/wandb/run-20230316_001902-rz5gyg0j/files/model-best/assets\n"
     ]
    },
    {
     "name": "stderr",
     "output_type": "stream",
     "text": [
      "INFO:tensorflow:Assets written to: /home/paul_d/Sources/sem_math_repo/classification_formulas_multilabel/wandb/run-20230316_001902-rz5gyg0j/files/model-best/assets\n"
     ]
    },
    {
     "name": "stdout",
     "output_type": "stream",
     "text": [
      "346/346 [==============================] - 4s 12ms/step - loss: 0.1416 - accuracy: 0.5445 - recall_1: 0.0429 - val_loss: 0.1357 - val_accuracy: 0.8598 - val_recall_1: 0.0979\n",
      "Epoch 41/80\n",
      "345/346 [============================>.] - ETA: 0s - loss: 0.1411 - accuracy: 0.5446 - recall_1: 0.0454INFO:tensorflow:Assets written to: /home/paul_d/Sources/sem_math_repo/classification_formulas_multilabel/wandb/run-20230316_001902-rz5gyg0j/files/model-best/assets\n"
     ]
    },
    {
     "name": "stderr",
     "output_type": "stream",
     "text": [
      "INFO:tensorflow:Assets written to: /home/paul_d/Sources/sem_math_repo/classification_formulas_multilabel/wandb/run-20230316_001902-rz5gyg0j/files/model-best/assets\n"
     ]
    },
    {
     "name": "stdout",
     "output_type": "stream",
     "text": [
      "346/346 [==============================] - 5s 14ms/step - loss: 0.1412 - accuracy: 0.5438 - recall_1: 0.0453 - val_loss: 0.1353 - val_accuracy: 0.8590 - val_recall_1: 0.1132\n",
      "Epoch 42/80\n",
      "339/346 [============================>.] - ETA: 0s - loss: 0.1407 - accuracy: 0.5520 - recall_1: 0.0485INFO:tensorflow:Assets written to: /home/paul_d/Sources/sem_math_repo/classification_formulas_multilabel/wandb/run-20230316_001902-rz5gyg0j/files/model-best/assets\n"
     ]
    },
    {
     "name": "stderr",
     "output_type": "stream",
     "text": [
      "INFO:tensorflow:Assets written to: /home/paul_d/Sources/sem_math_repo/classification_formulas_multilabel/wandb/run-20230316_001902-rz5gyg0j/files/model-best/assets\n"
     ]
    },
    {
     "name": "stdout",
     "output_type": "stream",
     "text": [
      "346/346 [==============================] - 4s 13ms/step - loss: 0.1412 - accuracy: 0.5474 - recall_1: 0.0477 - val_loss: 0.1349 - val_accuracy: 0.8590 - val_recall_1: 0.1209\n",
      "Epoch 43/80\n",
      "342/346 [============================>.] - ETA: 0s - loss: 0.1406 - accuracy: 0.5537 - recall_1: 0.0498INFO:tensorflow:Assets written to: /home/paul_d/Sources/sem_math_repo/classification_formulas_multilabel/wandb/run-20230316_001902-rz5gyg0j/files/model-best/assets\n"
     ]
    },
    {
     "name": "stderr",
     "output_type": "stream",
     "text": [
      "INFO:tensorflow:Assets written to: /home/paul_d/Sources/sem_math_repo/classification_formulas_multilabel/wandb/run-20230316_001902-rz5gyg0j/files/model-best/assets\n"
     ]
    },
    {
     "name": "stdout",
     "output_type": "stream",
     "text": [
      "346/346 [==============================] - 4s 10ms/step - loss: 0.1409 - accuracy: 0.5506 - recall_1: 0.0495 - val_loss: 0.1346 - val_accuracy: 0.8586 - val_recall_1: 0.1267\n",
      "Epoch 44/80\n",
      "346/346 [==============================] - ETA: 0s - loss: 0.1408 - accuracy: 0.5512 - recall_1: 0.0517INFO:tensorflow:Assets written to: /home/paul_d/Sources/sem_math_repo/classification_formulas_multilabel/wandb/run-20230316_001902-rz5gyg0j/files/model-best/assets\n"
     ]
    },
    {
     "name": "stderr",
     "output_type": "stream",
     "text": [
      "INFO:tensorflow:Assets written to: /home/paul_d/Sources/sem_math_repo/classification_formulas_multilabel/wandb/run-20230316_001902-rz5gyg0j/files/model-best/assets\n"
     ]
    },
    {
     "name": "stdout",
     "output_type": "stream",
     "text": [
      "346/346 [==============================] - 4s 10ms/step - loss: 0.1408 - accuracy: 0.5512 - recall_1: 0.0517 - val_loss: 0.1343 - val_accuracy: 0.8553 - val_recall_1: 0.1276\n",
      "Epoch 45/80\n",
      "346/346 [==============================] - ETA: 0s - loss: 0.1407 - accuracy: 0.5529 - recall_1: 0.0549INFO:tensorflow:Assets written to: /home/paul_d/Sources/sem_math_repo/classification_formulas_multilabel/wandb/run-20230316_001902-rz5gyg0j/files/model-best/assets\n"
     ]
    },
    {
     "name": "stderr",
     "output_type": "stream",
     "text": [
      "INFO:tensorflow:Assets written to: /home/paul_d/Sources/sem_math_repo/classification_formulas_multilabel/wandb/run-20230316_001902-rz5gyg0j/files/model-best/assets\n"
     ]
    },
    {
     "name": "stdout",
     "output_type": "stream",
     "text": [
      "346/346 [==============================] - 4s 10ms/step - loss: 0.1407 - accuracy: 0.5529 - recall_1: 0.0549 - val_loss: 0.1340 - val_accuracy: 0.8553 - val_recall_1: 0.1278\n",
      "Epoch 46/80\n",
      "345/346 [============================>.] - ETA: 0s - loss: 0.1402 - accuracy: 0.5562 - recall_1: 0.0549INFO:tensorflow:Assets written to: /home/paul_d/Sources/sem_math_repo/classification_formulas_multilabel/wandb/run-20230316_001902-rz5gyg0j/files/model-best/assets\n"
     ]
    },
    {
     "name": "stderr",
     "output_type": "stream",
     "text": [
      "INFO:tensorflow:Assets written to: /home/paul_d/Sources/sem_math_repo/classification_formulas_multilabel/wandb/run-20230316_001902-rz5gyg0j/files/model-best/assets\n"
     ]
    },
    {
     "name": "stdout",
     "output_type": "stream",
     "text": [
      "346/346 [==============================] - 4s 12ms/step - loss: 0.1403 - accuracy: 0.5555 - recall_1: 0.0549 - val_loss: 0.1338 - val_accuracy: 0.8553 - val_recall_1: 0.1337\n",
      "Epoch 47/80\n",
      "345/346 [============================>.] - ETA: 0s - loss: 0.1402 - accuracy: 0.5549 - recall_1: 0.0585INFO:tensorflow:Assets written to: /home/paul_d/Sources/sem_math_repo/classification_formulas_multilabel/wandb/run-20230316_001902-rz5gyg0j/files/model-best/assets\n"
     ]
    },
    {
     "name": "stderr",
     "output_type": "stream",
     "text": [
      "INFO:tensorflow:Assets written to: /home/paul_d/Sources/sem_math_repo/classification_formulas_multilabel/wandb/run-20230316_001902-rz5gyg0j/files/model-best/assets\n"
     ]
    },
    {
     "name": "stdout",
     "output_type": "stream",
     "text": [
      "346/346 [==============================] - 4s 10ms/step - loss: 0.1403 - accuracy: 0.5546 - recall_1: 0.0584 - val_loss: 0.1336 - val_accuracy: 0.8536 - val_recall_1: 0.1387\n",
      "Epoch 48/80\n",
      "339/346 [============================>.] - ETA: 0s - loss: 0.1398 - accuracy: 0.5607 - recall_1: 0.0598INFO:tensorflow:Assets written to: /home/paul_d/Sources/sem_math_repo/classification_formulas_multilabel/wandb/run-20230316_001902-rz5gyg0j/files/model-best/assets\n"
     ]
    },
    {
     "name": "stderr",
     "output_type": "stream",
     "text": [
      "INFO:tensorflow:Assets written to: /home/paul_d/Sources/sem_math_repo/classification_formulas_multilabel/wandb/run-20230316_001902-rz5gyg0j/files/model-best/assets\n"
     ]
    },
    {
     "name": "stdout",
     "output_type": "stream",
     "text": [
      "346/346 [==============================] - 4s 10ms/step - loss: 0.1404 - accuracy: 0.5557 - recall_1: 0.0589 - val_loss: 0.1333 - val_accuracy: 0.8536 - val_recall_1: 0.1441\n",
      "Epoch 49/80\n",
      "344/346 [============================>.] - ETA: 0s - loss: 0.1399 - accuracy: 0.5567 - recall_1: 0.0607INFO:tensorflow:Assets written to: /home/paul_d/Sources/sem_math_repo/classification_formulas_multilabel/wandb/run-20230316_001902-rz5gyg0j/files/model-best/assets\n"
     ]
    },
    {
     "name": "stderr",
     "output_type": "stream",
     "text": [
      "INFO:tensorflow:Assets written to: /home/paul_d/Sources/sem_math_repo/classification_formulas_multilabel/wandb/run-20230316_001902-rz5gyg0j/files/model-best/assets\n"
     ]
    },
    {
     "name": "stdout",
     "output_type": "stream",
     "text": [
      "346/346 [==============================] - 4s 11ms/step - loss: 0.1401 - accuracy: 0.5553 - recall_1: 0.0605 - val_loss: 0.1331 - val_accuracy: 0.8532 - val_recall_1: 0.1477\n",
      "Epoch 50/80\n",
      "341/346 [============================>.] - ETA: 0s - loss: 0.1397 - accuracy: 0.5597 - recall_1: 0.0633INFO:tensorflow:Assets written to: /home/paul_d/Sources/sem_math_repo/classification_formulas_multilabel/wandb/run-20230316_001902-rz5gyg0j/files/model-best/assets\n"
     ]
    },
    {
     "name": "stderr",
     "output_type": "stream",
     "text": [
      "INFO:tensorflow:Assets written to: /home/paul_d/Sources/sem_math_repo/classification_formulas_multilabel/wandb/run-20230316_001902-rz5gyg0j/files/model-best/assets\n"
     ]
    },
    {
     "name": "stdout",
     "output_type": "stream",
     "text": [
      "346/346 [==============================] - 4s 10ms/step - loss: 0.1401 - accuracy: 0.5555 - recall_1: 0.0628 - val_loss: 0.1328 - val_accuracy: 0.8524 - val_recall_1: 0.1524\n",
      "Epoch 51/80\n",
      "342/346 [============================>.] - ETA: 0s - loss: 0.1396 - accuracy: 0.5614 - recall_1: 0.0655INFO:tensorflow:Assets written to: /home/paul_d/Sources/sem_math_repo/classification_formulas_multilabel/wandb/run-20230316_001902-rz5gyg0j/files/model-best/assets\n"
     ]
    },
    {
     "name": "stderr",
     "output_type": "stream",
     "text": [
      "INFO:tensorflow:Assets written to: /home/paul_d/Sources/sem_math_repo/classification_formulas_multilabel/wandb/run-20230316_001902-rz5gyg0j/files/model-best/assets\n"
     ]
    },
    {
     "name": "stdout",
     "output_type": "stream",
     "text": [
      "346/346 [==============================] - 4s 10ms/step - loss: 0.1399 - accuracy: 0.5586 - recall_1: 0.0649 - val_loss: 0.1326 - val_accuracy: 0.8516 - val_recall_1: 0.1603\n",
      "Epoch 52/80\n",
      "344/346 [============================>.] - ETA: 0s - loss: 0.1397 - accuracy: 0.5605 - recall_1: 0.0660INFO:tensorflow:Assets written to: /home/paul_d/Sources/sem_math_repo/classification_formulas_multilabel/wandb/run-20230316_001902-rz5gyg0j/files/model-best/assets\n"
     ]
    },
    {
     "name": "stderr",
     "output_type": "stream",
     "text": [
      "INFO:tensorflow:Assets written to: /home/paul_d/Sources/sem_math_repo/classification_formulas_multilabel/wandb/run-20230316_001902-rz5gyg0j/files/model-best/assets\n"
     ]
    },
    {
     "name": "stdout",
     "output_type": "stream",
     "text": [
      "346/346 [==============================] - 7s 21ms/step - loss: 0.1399 - accuracy: 0.5594 - recall_1: 0.0657 - val_loss: 0.1325 - val_accuracy: 0.8516 - val_recall_1: 0.1619\n",
      "Epoch 53/80\n",
      "343/346 [============================>.] - ETA: 0s - loss: 0.1392 - accuracy: 0.5630 - recall_1: 0.0695INFO:tensorflow:Assets written to: /home/paul_d/Sources/sem_math_repo/classification_formulas_multilabel/wandb/run-20230316_001902-rz5gyg0j/files/model-best/assets\n"
     ]
    },
    {
     "name": "stderr",
     "output_type": "stream",
     "text": [
      "INFO:tensorflow:Assets written to: /home/paul_d/Sources/sem_math_repo/classification_formulas_multilabel/wandb/run-20230316_001902-rz5gyg0j/files/model-best/assets\n"
     ]
    },
    {
     "name": "stdout",
     "output_type": "stream",
     "text": [
      "346/346 [==============================] - 4s 11ms/step - loss: 0.1396 - accuracy: 0.5608 - recall_1: 0.0691 - val_loss: 0.1322 - val_accuracy: 0.8516 - val_recall_1: 0.1673\n",
      "Epoch 54/80\n",
      "344/346 [============================>.] - ETA: 0s - loss: 0.1394 - accuracy: 0.5620 - recall_1: 0.0704INFO:tensorflow:Assets written to: /home/paul_d/Sources/sem_math_repo/classification_formulas_multilabel/wandb/run-20230316_001902-rz5gyg0j/files/model-best/assets\n"
     ]
    },
    {
     "name": "stderr",
     "output_type": "stream",
     "text": [
      "INFO:tensorflow:Assets written to: /home/paul_d/Sources/sem_math_repo/classification_formulas_multilabel/wandb/run-20230316_001902-rz5gyg0j/files/model-best/assets\n"
     ]
    },
    {
     "name": "stdout",
     "output_type": "stream",
     "text": [
      "346/346 [==============================] - 4s 10ms/step - loss: 0.1395 - accuracy: 0.5608 - recall_1: 0.0702 - val_loss: 0.1321 - val_accuracy: 0.8503 - val_recall_1: 0.1680\n",
      "Epoch 55/80\n",
      "340/346 [============================>.] - ETA: 0s - loss: 0.1389 - accuracy: 0.5667 - recall_1: 0.0715INFO:tensorflow:Assets written to: /home/paul_d/Sources/sem_math_repo/classification_formulas_multilabel/wandb/run-20230316_001902-rz5gyg0j/files/model-best/assets\n"
     ]
    },
    {
     "name": "stderr",
     "output_type": "stream",
     "text": [
      "INFO:tensorflow:Assets written to: /home/paul_d/Sources/sem_math_repo/classification_formulas_multilabel/wandb/run-20230316_001902-rz5gyg0j/files/model-best/assets\n"
     ]
    },
    {
     "name": "stdout",
     "output_type": "stream",
     "text": [
      "346/346 [==============================] - 4s 10ms/step - loss: 0.1394 - accuracy: 0.5620 - recall_1: 0.0707 - val_loss: 0.1319 - val_accuracy: 0.8499 - val_recall_1: 0.1693\n",
      "Epoch 56/80\n",
      "340/346 [============================>.] - ETA: 0s - loss: 0.1389 - accuracy: 0.5665 - recall_1: 0.0728INFO:tensorflow:Assets written to: /home/paul_d/Sources/sem_math_repo/classification_formulas_multilabel/wandb/run-20230316_001902-rz5gyg0j/files/model-best/assets\n"
     ]
    },
    {
     "name": "stderr",
     "output_type": "stream",
     "text": [
      "INFO:tensorflow:Assets written to: /home/paul_d/Sources/sem_math_repo/classification_formulas_multilabel/wandb/run-20230316_001902-rz5gyg0j/files/model-best/assets\n"
     ]
    },
    {
     "name": "stdout",
     "output_type": "stream",
     "text": [
      "346/346 [==============================] - 4s 10ms/step - loss: 0.1393 - accuracy: 0.5617 - recall_1: 0.0721 - val_loss: 0.1318 - val_accuracy: 0.8499 - val_recall_1: 0.1714\n",
      "Epoch 57/80\n",
      "344/346 [============================>.] - ETA: 0s - loss: 0.1393 - accuracy: 0.5646 - recall_1: 0.0728INFO:tensorflow:Assets written to: /home/paul_d/Sources/sem_math_repo/classification_formulas_multilabel/wandb/run-20230316_001902-rz5gyg0j/files/model-best/assets\n"
     ]
    },
    {
     "name": "stderr",
     "output_type": "stream",
     "text": [
      "INFO:tensorflow:Assets written to: /home/paul_d/Sources/sem_math_repo/classification_formulas_multilabel/wandb/run-20230316_001902-rz5gyg0j/files/model-best/assets\n"
     ]
    },
    {
     "name": "stdout",
     "output_type": "stream",
     "text": [
      "346/346 [==============================] - 5s 14ms/step - loss: 0.1394 - accuracy: 0.5632 - recall_1: 0.0726 - val_loss: 0.1316 - val_accuracy: 0.8499 - val_recall_1: 0.1734\n",
      "Epoch 58/80\n",
      "342/346 [============================>.] - ETA: 0s - loss: 0.1388 - accuracy: 0.5682 - recall_1: 0.0754INFO:tensorflow:Assets written to: /home/paul_d/Sources/sem_math_repo/classification_formulas_multilabel/wandb/run-20230316_001902-rz5gyg0j/files/model-best/assets\n"
     ]
    },
    {
     "name": "stderr",
     "output_type": "stream",
     "text": [
      "INFO:tensorflow:Assets written to: /home/paul_d/Sources/sem_math_repo/classification_formulas_multilabel/wandb/run-20230316_001902-rz5gyg0j/files/model-best/assets\n"
     ]
    },
    {
     "name": "stdout",
     "output_type": "stream",
     "text": [
      "346/346 [==============================] - 4s 10ms/step - loss: 0.1391 - accuracy: 0.5652 - recall_1: 0.0748 - val_loss: 0.1315 - val_accuracy: 0.8491 - val_recall_1: 0.1741\n",
      "Epoch 59/80\n",
      "341/346 [============================>.] - ETA: 0s - loss: 0.1388 - accuracy: 0.5705 - recall_1: 0.0770INFO:tensorflow:Assets written to: /home/paul_d/Sources/sem_math_repo/classification_formulas_multilabel/wandb/run-20230316_001902-rz5gyg0j/files/model-best/assets\n"
     ]
    },
    {
     "name": "stderr",
     "output_type": "stream",
     "text": [
      "INFO:tensorflow:Assets written to: /home/paul_d/Sources/sem_math_repo/classification_formulas_multilabel/wandb/run-20230316_001902-rz5gyg0j/files/model-best/assets\n"
     ]
    },
    {
     "name": "stdout",
     "output_type": "stream",
     "text": [
      "346/346 [==============================] - 4s 11ms/step - loss: 0.1391 - accuracy: 0.5671 - recall_1: 0.0763 - val_loss: 0.1312 - val_accuracy: 0.8475 - val_recall_1: 0.1747\n",
      "Epoch 60/80\n",
      "345/346 [============================>.] - ETA: 0s - loss: 0.1388 - accuracy: 0.5657 - recall_1: 0.0762INFO:tensorflow:Assets written to: /home/paul_d/Sources/sem_math_repo/classification_formulas_multilabel/wandb/run-20230316_001902-rz5gyg0j/files/model-best/assets\n"
     ]
    },
    {
     "name": "stderr",
     "output_type": "stream",
     "text": [
      "INFO:tensorflow:Assets written to: /home/paul_d/Sources/sem_math_repo/classification_formulas_multilabel/wandb/run-20230316_001902-rz5gyg0j/files/model-best/assets\n"
     ]
    },
    {
     "name": "stdout",
     "output_type": "stream",
     "text": [
      "346/346 [==============================] - 4s 12ms/step - loss: 0.1389 - accuracy: 0.5653 - recall_1: 0.0760 - val_loss: 0.1311 - val_accuracy: 0.8475 - val_recall_1: 0.1756\n",
      "Epoch 61/80\n",
      "339/346 [============================>.] - ETA: 0s - loss: 0.1384 - accuracy: 0.5756 - recall_1: 0.0796INFO:tensorflow:Assets written to: /home/paul_d/Sources/sem_math_repo/classification_formulas_multilabel/wandb/run-20230316_001902-rz5gyg0j/files/model-best/assets\n"
     ]
    },
    {
     "name": "stderr",
     "output_type": "stream",
     "text": [
      "INFO:tensorflow:Assets written to: /home/paul_d/Sources/sem_math_repo/classification_formulas_multilabel/wandb/run-20230316_001902-rz5gyg0j/files/model-best/assets\n"
     ]
    },
    {
     "name": "stdout",
     "output_type": "stream",
     "text": [
      "346/346 [==============================] - 4s 13ms/step - loss: 0.1391 - accuracy: 0.5692 - recall_1: 0.0785 - val_loss: 0.1310 - val_accuracy: 0.8475 - val_recall_1: 0.1766\n",
      "Epoch 62/80\n",
      "343/346 [============================>.] - ETA: 0s - loss: 0.1386 - accuracy: 0.5724 - recall_1: 0.0813INFO:tensorflow:Assets written to: /home/paul_d/Sources/sem_math_repo/classification_formulas_multilabel/wandb/run-20230316_001902-rz5gyg0j/files/model-best/assets\n"
     ]
    },
    {
     "name": "stderr",
     "output_type": "stream",
     "text": [
      "INFO:tensorflow:Assets written to: /home/paul_d/Sources/sem_math_repo/classification_formulas_multilabel/wandb/run-20230316_001902-rz5gyg0j/files/model-best/assets\n"
     ]
    },
    {
     "name": "stdout",
     "output_type": "stream",
     "text": [
      "346/346 [==============================] - 4s 11ms/step - loss: 0.1389 - accuracy: 0.5703 - recall_1: 0.0808 - val_loss: 0.1309 - val_accuracy: 0.8475 - val_recall_1: 0.1806\n",
      "Epoch 63/80\n",
      "342/346 [============================>.] - ETA: 0s - loss: 0.1385 - accuracy: 0.5712 - recall_1: 0.0809INFO:tensorflow:Assets written to: /home/paul_d/Sources/sem_math_repo/classification_formulas_multilabel/wandb/run-20230316_001902-rz5gyg0j/files/model-best/assets\n"
     ]
    },
    {
     "name": "stderr",
     "output_type": "stream",
     "text": [
      "INFO:tensorflow:Assets written to: /home/paul_d/Sources/sem_math_repo/classification_formulas_multilabel/wandb/run-20230316_001902-rz5gyg0j/files/model-best/assets\n"
     ]
    },
    {
     "name": "stdout",
     "output_type": "stream",
     "text": [
      "346/346 [==============================] - 5s 13ms/step - loss: 0.1388 - accuracy: 0.5681 - recall_1: 0.0802 - val_loss: 0.1309 - val_accuracy: 0.8470 - val_recall_1: 0.1813\n",
      "Epoch 64/80\n",
      "344/346 [============================>.] - ETA: 0s - loss: 0.1387 - accuracy: 0.5699 - recall_1: 0.0824INFO:tensorflow:Assets written to: /home/paul_d/Sources/sem_math_repo/classification_formulas_multilabel/wandb/run-20230316_001902-rz5gyg0j/files/model-best/assets\n"
     ]
    },
    {
     "name": "stderr",
     "output_type": "stream",
     "text": [
      "INFO:tensorflow:Assets written to: /home/paul_d/Sources/sem_math_repo/classification_formulas_multilabel/wandb/run-20230316_001902-rz5gyg0j/files/model-best/assets\n"
     ]
    },
    {
     "name": "stdout",
     "output_type": "stream",
     "text": [
      "346/346 [==============================] - 4s 10ms/step - loss: 0.1388 - accuracy: 0.5683 - recall_1: 0.0821 - val_loss: 0.1308 - val_accuracy: 0.8470 - val_recall_1: 0.1817\n",
      "Epoch 65/80\n",
      "346/346 [==============================] - ETA: 0s - loss: 0.1389 - accuracy: 0.5684 - recall_1: 0.0799INFO:tensorflow:Assets written to: /home/paul_d/Sources/sem_math_repo/classification_formulas_multilabel/wandb/run-20230316_001902-rz5gyg0j/files/model-best/assets\n"
     ]
    },
    {
     "name": "stderr",
     "output_type": "stream",
     "text": [
      "INFO:tensorflow:Assets written to: /home/paul_d/Sources/sem_math_repo/classification_formulas_multilabel/wandb/run-20230316_001902-rz5gyg0j/files/model-best/assets\n"
     ]
    },
    {
     "name": "stdout",
     "output_type": "stream",
     "text": [
      "346/346 [==============================] - 6s 16ms/step - loss: 0.1389 - accuracy: 0.5684 - recall_1: 0.0799 - val_loss: 0.1306 - val_accuracy: 0.8470 - val_recall_1: 0.1871\n",
      "Epoch 66/80\n",
      "339/346 [============================>.] - ETA: 0s - loss: 0.1381 - accuracy: 0.5758 - recall_1: 0.0824INFO:tensorflow:Assets written to: /home/paul_d/Sources/sem_math_repo/classification_formulas_multilabel/wandb/run-20230316_001902-rz5gyg0j/files/model-best/assets\n"
     ]
    },
    {
     "name": "stderr",
     "output_type": "stream",
     "text": [
      "INFO:tensorflow:Assets written to: /home/paul_d/Sources/sem_math_repo/classification_formulas_multilabel/wandb/run-20230316_001902-rz5gyg0j/files/model-best/assets\n"
     ]
    },
    {
     "name": "stdout",
     "output_type": "stream",
     "text": [
      "346/346 [==============================] - 5s 15ms/step - loss: 0.1386 - accuracy: 0.5704 - recall_1: 0.0814 - val_loss: 0.1305 - val_accuracy: 0.8470 - val_recall_1: 0.1894\n",
      "Epoch 67/80\n",
      "346/346 [==============================] - ETA: 0s - loss: 0.1385 - accuracy: 0.5694 - recall_1: 0.0836INFO:tensorflow:Assets written to: /home/paul_d/Sources/sem_math_repo/classification_formulas_multilabel/wandb/run-20230316_001902-rz5gyg0j/files/model-best/assets\n"
     ]
    },
    {
     "name": "stderr",
     "output_type": "stream",
     "text": [
      "INFO:tensorflow:Assets written to: /home/paul_d/Sources/sem_math_repo/classification_formulas_multilabel/wandb/run-20230316_001902-rz5gyg0j/files/model-best/assets\n"
     ]
    },
    {
     "name": "stdout",
     "output_type": "stream",
     "text": [
      "346/346 [==============================] - 3s 10ms/step - loss: 0.1385 - accuracy: 0.5694 - recall_1: 0.0836 - val_loss: 0.1303 - val_accuracy: 0.8470 - val_recall_1: 0.1896\n",
      "Epoch 68/80\n",
      "345/346 [============================>.] - ETA: 0s - loss: 0.1384 - accuracy: 0.5729 - recall_1: 0.0843INFO:tensorflow:Assets written to: /home/paul_d/Sources/sem_math_repo/classification_formulas_multilabel/wandb/run-20230316_001902-rz5gyg0j/files/model-best/assets\n"
     ]
    },
    {
     "name": "stderr",
     "output_type": "stream",
     "text": [
      "INFO:tensorflow:Assets written to: /home/paul_d/Sources/sem_math_repo/classification_formulas_multilabel/wandb/run-20230316_001902-rz5gyg0j/files/model-best/assets\n"
     ]
    },
    {
     "name": "stdout",
     "output_type": "stream",
     "text": [
      "346/346 [==============================] - 4s 11ms/step - loss: 0.1384 - accuracy: 0.5721 - recall_1: 0.0842 - val_loss: 0.1303 - val_accuracy: 0.8470 - val_recall_1: 0.1901\n",
      "Epoch 69/80\n",
      "346/346 [==============================] - 3s 7ms/step - loss: 0.1385 - accuracy: 0.5699 - recall_1: 0.0865 - val_loss: 0.1303 - val_accuracy: 0.8470 - val_recall_1: 0.1901\n",
      "Epoch 70/80\n",
      "346/346 [==============================] - 3s 7ms/step - loss: 0.1385 - accuracy: 0.5705 - recall_1: 0.0873 - val_loss: 0.1303 - val_accuracy: 0.8487 - val_recall_1: 0.1908\n",
      "Epoch 71/80\n",
      "346/346 [==============================] - ETA: 0s - loss: 0.1383 - accuracy: 0.5705 - recall_1: 0.0852INFO:tensorflow:Assets written to: /home/paul_d/Sources/sem_math_repo/classification_formulas_multilabel/wandb/run-20230316_001902-rz5gyg0j/files/model-best/assets\n"
     ]
    },
    {
     "name": "stderr",
     "output_type": "stream",
     "text": [
      "INFO:tensorflow:Assets written to: /home/paul_d/Sources/sem_math_repo/classification_formulas_multilabel/wandb/run-20230316_001902-rz5gyg0j/files/model-best/assets\n"
     ]
    },
    {
     "name": "stdout",
     "output_type": "stream",
     "text": [
      "346/346 [==============================] - 4s 12ms/step - loss: 0.1383 - accuracy: 0.5705 - recall_1: 0.0852 - val_loss: 0.1302 - val_accuracy: 0.8487 - val_recall_1: 0.1914\n",
      "Epoch 72/80\n",
      "341/346 [============================>.] - ETA: 0s - loss: 0.1381 - accuracy: 0.5746 - recall_1: 0.0874INFO:tensorflow:Assets written to: /home/paul_d/Sources/sem_math_repo/classification_formulas_multilabel/wandb/run-20230316_001902-rz5gyg0j/files/model-best/assets\n"
     ]
    },
    {
     "name": "stderr",
     "output_type": "stream",
     "text": [
      "INFO:tensorflow:Assets written to: /home/paul_d/Sources/sem_math_repo/classification_formulas_multilabel/wandb/run-20230316_001902-rz5gyg0j/files/model-best/assets\n"
     ]
    },
    {
     "name": "stdout",
     "output_type": "stream",
     "text": [
      "346/346 [==============================] - 4s 11ms/step - loss: 0.1384 - accuracy: 0.5707 - recall_1: 0.0867 - val_loss: 0.1301 - val_accuracy: 0.8487 - val_recall_1: 0.1923\n",
      "Epoch 73/80\n",
      "342/346 [============================>.] - ETA: 0s - loss: 0.1377 - accuracy: 0.5744 - recall_1: 0.0873INFO:tensorflow:Assets written to: /home/paul_d/Sources/sem_math_repo/classification_formulas_multilabel/wandb/run-20230316_001902-rz5gyg0j/files/model-best/assets\n"
     ]
    },
    {
     "name": "stderr",
     "output_type": "stream",
     "text": [
      "INFO:tensorflow:Assets written to: /home/paul_d/Sources/sem_math_repo/classification_formulas_multilabel/wandb/run-20230316_001902-rz5gyg0j/files/model-best/assets\n"
     ]
    },
    {
     "name": "stdout",
     "output_type": "stream",
     "text": [
      "346/346 [==============================] - 4s 11ms/step - loss: 0.1381 - accuracy: 0.5710 - recall_1: 0.0866 - val_loss: 0.1300 - val_accuracy: 0.8487 - val_recall_1: 0.1955\n",
      "Epoch 74/80\n",
      "346/346 [==============================] - ETA: 0s - loss: 0.1381 - accuracy: 0.5740 - recall_1: 0.0877INFO:tensorflow:Assets written to: /home/paul_d/Sources/sem_math_repo/classification_formulas_multilabel/wandb/run-20230316_001902-rz5gyg0j/files/model-best/assets\n"
     ]
    },
    {
     "name": "stderr",
     "output_type": "stream",
     "text": [
      "INFO:tensorflow:Assets written to: /home/paul_d/Sources/sem_math_repo/classification_formulas_multilabel/wandb/run-20230316_001902-rz5gyg0j/files/model-best/assets\n"
     ]
    },
    {
     "name": "stdout",
     "output_type": "stream",
     "text": [
      "346/346 [==============================] - 4s 10ms/step - loss: 0.1381 - accuracy: 0.5740 - recall_1: 0.0877 - val_loss: 0.1299 - val_accuracy: 0.8487 - val_recall_1: 0.1957\n",
      "Epoch 75/80\n",
      "344/346 [============================>.] - ETA: 0s - loss: 0.1379 - accuracy: 0.5743 - recall_1: 0.0902INFO:tensorflow:Assets written to: /home/paul_d/Sources/sem_math_repo/classification_formulas_multilabel/wandb/run-20230316_001902-rz5gyg0j/files/model-best/assets\n"
     ]
    },
    {
     "name": "stderr",
     "output_type": "stream",
     "text": [
      "INFO:tensorflow:Assets written to: /home/paul_d/Sources/sem_math_repo/classification_formulas_multilabel/wandb/run-20230316_001902-rz5gyg0j/files/model-best/assets\n"
     ]
    },
    {
     "name": "stdout",
     "output_type": "stream",
     "text": [
      "346/346 [==============================] - 4s 12ms/step - loss: 0.1380 - accuracy: 0.5732 - recall_1: 0.0901 - val_loss: 0.1298 - val_accuracy: 0.8487 - val_recall_1: 0.1957\n",
      "Epoch 76/80\n",
      "346/346 [==============================] - 3s 7ms/step - loss: 0.1380 - accuracy: 0.5746 - recall_1: 0.0888 - val_loss: 0.1298 - val_accuracy: 0.8487 - val_recall_1: 0.1998\n",
      "Epoch 77/80\n",
      "341/346 [============================>.] - ETA: 0s - loss: 0.1375 - accuracy: 0.5778 - recall_1: 0.0909INFO:tensorflow:Assets written to: /home/paul_d/Sources/sem_math_repo/classification_formulas_multilabel/wandb/run-20230316_001902-rz5gyg0j/files/model-best/assets\n"
     ]
    },
    {
     "name": "stderr",
     "output_type": "stream",
     "text": [
      "INFO:tensorflow:Assets written to: /home/paul_d/Sources/sem_math_repo/classification_formulas_multilabel/wandb/run-20230316_001902-rz5gyg0j/files/model-best/assets\n"
     ]
    },
    {
     "name": "stdout",
     "output_type": "stream",
     "text": [
      "346/346 [==============================] - 4s 11ms/step - loss: 0.1379 - accuracy: 0.5737 - recall_1: 0.0901 - val_loss: 0.1297 - val_accuracy: 0.8487 - val_recall_1: 0.2005\n",
      "Epoch 78/80\n",
      "343/346 [============================>.] - ETA: 0s - loss: 0.1379 - accuracy: 0.5768 - recall_1: 0.0892INFO:tensorflow:Assets written to: /home/paul_d/Sources/sem_math_repo/classification_formulas_multilabel/wandb/run-20230316_001902-rz5gyg0j/files/model-best/assets\n"
     ]
    },
    {
     "name": "stderr",
     "output_type": "stream",
     "text": [
      "INFO:tensorflow:Assets written to: /home/paul_d/Sources/sem_math_repo/classification_formulas_multilabel/wandb/run-20230316_001902-rz5gyg0j/files/model-best/assets\n"
     ]
    },
    {
     "name": "stdout",
     "output_type": "stream",
     "text": [
      "346/346 [==============================] - 4s 12ms/step - loss: 0.1380 - accuracy: 0.5743 - recall_1: 0.0889 - val_loss: 0.1297 - val_accuracy: 0.8487 - val_recall_1: 0.2016\n",
      "Epoch 79/80\n",
      "344/346 [============================>.] - ETA: 0s - loss: 0.1376 - accuracy: 0.5743 - recall_1: 0.0903INFO:tensorflow:Assets written to: /home/paul_d/Sources/sem_math_repo/classification_formulas_multilabel/wandb/run-20230316_001902-rz5gyg0j/files/model-best/assets\n"
     ]
    },
    {
     "name": "stderr",
     "output_type": "stream",
     "text": [
      "INFO:tensorflow:Assets written to: /home/paul_d/Sources/sem_math_repo/classification_formulas_multilabel/wandb/run-20230316_001902-rz5gyg0j/files/model-best/assets\n"
     ]
    },
    {
     "name": "stdout",
     "output_type": "stream",
     "text": [
      "346/346 [==============================] - 4s 10ms/step - loss: 0.1378 - accuracy: 0.5732 - recall_1: 0.0902 - val_loss: 0.1297 - val_accuracy: 0.8487 - val_recall_1: 0.2016\n",
      "Epoch 80/80\n",
      "339/346 [============================>.] - ETA: 0s - loss: 0.1374 - accuracy: 0.5802 - recall_1: 0.0922INFO:tensorflow:Assets written to: /home/paul_d/Sources/sem_math_repo/classification_formulas_multilabel/wandb/run-20230316_001902-rz5gyg0j/files/model-best/assets\n"
     ]
    },
    {
     "name": "stderr",
     "output_type": "stream",
     "text": [
      "INFO:tensorflow:Assets written to: /home/paul_d/Sources/sem_math_repo/classification_formulas_multilabel/wandb/run-20230316_001902-rz5gyg0j/files/model-best/assets\n"
     ]
    },
    {
     "name": "stdout",
     "output_type": "stream",
     "text": [
      "346/346 [==============================] - 4s 10ms/step - loss: 0.1379 - accuracy: 0.5755 - recall_1: 0.0916 - val_loss: 0.1296 - val_accuracy: 0.8487 - val_recall_1: 0.2016\n"
     ]
    }
   ],
   "source": [
    "configs_dict = {\n",
    "    \"learning_rate\": optimal_lr,\n",
    "    \"emb_dim\": optimal_emb_dims,\n",
    "    \"dp1\": dp1, \n",
    "    \"dp2\": dp2,\n",
    "    \"algorithm\": \"LogReg\",\n",
    "    \"configuration\": \"multi_tokens_types\",\n",
    "    \"optimizer\": \"adam\",\n",
    "    \"loss\": \"binary_crossentropy\",\n",
    "    \"epochs\": NUM_EPOCHS,\n",
    "    \"batch_size\": 64,\n",
    "    \"vectorizer\": \"int\",\n",
    "    \"dataset\": \"multi_class_unbalanced_data_TOKENIZED_V1\"\n",
    "}\n",
    "\n",
    "run = wandb.init(project=wandb_project_name, reinit=True, config=configs_dict)\n",
    "\n",
    "history = model3.fit(train_dataset3, \n",
    "                    epochs=NUM_EPOCHS,\n",
    "                    validation_data=test_dataset3,\n",
    "                    #steps_per_epoch = STEPS_PER_EPOCH,\n",
    "                    validation_steps = VAL_STEPS_PER_EPOCH,\n",
    "                    callbacks= [WandbCallback()])#[tensorboard_callback])\n",
    "run.finish()"
   ]
  },
  {
   "attachments": {},
   "cell_type": "markdown",
   "metadata": {},
   "source": [
    "##### Model 4: TOKENS AND TYPES AND SEM MATH LABELS\n",
    "Find best hyperparameters"
   ]
  },
  {
   "cell_type": "code",
   "execution_count": 62,
   "metadata": {},
   "outputs": [],
   "source": [
    "tokens_input_len = TOKENS_MAX_SEQ_LEN \n",
    "type_input_len = TYPE_TOKENS_MAX_SEQ_LEN\n",
    "NUM_CLASSES = 40\n",
    "\n",
    "encoder_int_tokens4 = create_encoder(\"int\", None, \"token\", train_dataset4, 4)\n",
    "encoder_int_types4 = create_encoder(\"int\", None, \"type\", train_dataset4, 4)\n",
    "model_builder4 = mc_u.create_model_builder4_LR(NUM_CLASSES, encoder_int_tokens4,encoder_int_types4, tokens_input_len, type_input_len, \"int\")"
   ]
  },
  {
   "cell_type": "code",
   "execution_count": 63,
   "metadata": {},
   "outputs": [],
   "source": [
    "tuner = kt.Hyperband(model_builder4,\n",
    "                     objective=kt.Objective(\"val_accuracy\", direction=\"max\"),\n",
    "                     max_epochs=20,\n",
    "                     factor=3,\n",
    "                     directory='meta_dir/model4_lr',\n",
    "                     project_name='model4_lr')\n",
    "stop_early = tf.keras.callbacks.EarlyStopping(monitor='val_loss', patience=3)"
   ]
  },
  {
   "cell_type": "code",
   "execution_count": 64,
   "metadata": {},
   "outputs": [
    {
     "name": "stdout",
     "output_type": "stream",
     "text": [
      "Trial 30 Complete [00h 00m 49s]\n",
      "val_accuracy: 0.12212171405553818\n",
      "\n",
      "Best val_accuracy So Far: 0.9379112124443054\n",
      "Total elapsed time: 00h 18m 44s\n",
      "INFO:tensorflow:Oracle triggered exit\n"
     ]
    },
    {
     "name": "stderr",
     "output_type": "stream",
     "text": [
      "INFO:tensorflow:Oracle triggered exit\n"
     ]
    }
   ],
   "source": [
    "tuner.search(train_dataset4,\n",
    "             epochs=30,\n",
    "             validation_data=test_dataset4,\n",
    "             #steps_per_epoch = STEPS_PER_EPOCH,\n",
    "             validation_steps = VAL_STEPS_PER_EPOCH,\n",
    "             callbacks= [stop_early])#[tensorboard_callback])"
   ]
  },
  {
   "cell_type": "code",
   "execution_count": 65,
   "metadata": {},
   "outputs": [
    {
     "name": "stdout",
     "output_type": "stream",
     "text": [
      "0.0001\n",
      "128\n",
      "0.1\n",
      "0.3\n"
     ]
    }
   ],
   "source": [
    "best_hps=tuner.get_best_hyperparameters(num_trials=1)[0]\n",
    "optimal_lr = best_hps.get(\"learning_rate\")\n",
    "optimal_emb_dims = best_hps.get(\"emb_dims\")\n",
    "dp1 = best_hps.get(\"dropout1\")\n",
    "dp2 = best_hps.get(\"dropout2\")\n",
    "print(optimal_lr)\n",
    "print(optimal_emb_dims)\n",
    "print(dp1)\n",
    "print(dp2)"
   ]
  },
  {
   "attachments": {},
   "cell_type": "markdown",
   "metadata": {},
   "source": [
    "Train with best hyperparameters"
   ]
  },
  {
   "cell_type": "code",
   "execution_count": 66,
   "metadata": {},
   "outputs": [],
   "source": [
    "NUM_EPOCHS = 80\n",
    "model4 = mc_u.create_model4_LR(NUM_CLASSES, optimal_emb_dims, dp1, dp2, encoder_int_tokens4, encoder_int_types4, tokens_input_len, type_input_len, \"int\")\n",
    "model4.compile(loss=tf.keras.losses.BinaryCrossentropy(from_logits=True),\n",
    "              optimizer=tf.keras.optimizers.Adam(optimal_lr),\n",
    "              metrics=[\"accuracy\", tf.keras.metrics.Recall()])"
   ]
  },
  {
   "cell_type": "code",
   "execution_count": 67,
   "metadata": {},
   "outputs": [
    {
     "name": "stdout",
     "output_type": "stream",
     "text": [
      "Epoch 1/80\n",
      "346/346 [==============================] - ETA: 0s - loss: 0.6187 - accuracy: 0.1947 - recall_1: 0.0000e+00INFO:tensorflow:Assets written to: /home/paul_d/Sources/sem_math_repo/classification_formulas_multilabel/wandb/run-20230316_004351-4q2gum65/files/model-best/assets\n"
     ]
    },
    {
     "name": "stderr",
     "output_type": "stream",
     "text": [
      "INFO:tensorflow:Assets written to: /home/paul_d/Sources/sem_math_repo/classification_formulas_multilabel/wandb/run-20230316_004351-4q2gum65/files/model-best/assets\n"
     ]
    },
    {
     "name": "stdout",
     "output_type": "stream",
     "text": [
      "346/346 [==============================] - 12s 32ms/step - loss: 0.6187 - accuracy: 0.1947 - recall_1: 0.0000e+00 - val_loss: 0.5387 - val_accuracy: 0.0000e+00 - val_recall_1: 0.0000e+00\n",
      "Epoch 2/80\n",
      "345/346 [============================>.] - ETA: 0s - loss: 0.4158 - accuracy: 0.3204 - recall_1: 0.0000e+00INFO:tensorflow:Assets written to: /home/paul_d/Sources/sem_math_repo/classification_formulas_multilabel/wandb/run-20230316_004351-4q2gum65/files/model-best/assets\n"
     ]
    },
    {
     "name": "stderr",
     "output_type": "stream",
     "text": [
      "INFO:tensorflow:Assets written to: /home/paul_d/Sources/sem_math_repo/classification_formulas_multilabel/wandb/run-20230316_004351-4q2gum65/files/model-best/assets\n"
     ]
    },
    {
     "name": "stdout",
     "output_type": "stream",
     "text": [
      "346/346 [==============================] - 11s 32ms/step - loss: 0.4155 - accuracy: 0.3201 - recall_1: 0.0000e+00 - val_loss: 0.3327 - val_accuracy: 0.0000e+00 - val_recall_1: 0.0000e+00\n",
      "Epoch 3/80\n",
      "346/346 [==============================] - ETA: 0s - loss: 0.2526 - accuracy: 0.3217 - recall_1: 0.0000e+00INFO:tensorflow:Assets written to: /home/paul_d/Sources/sem_math_repo/classification_formulas_multilabel/wandb/run-20230316_004351-4q2gum65/files/model-best/assets\n"
     ]
    },
    {
     "name": "stderr",
     "output_type": "stream",
     "text": [
      "INFO:tensorflow:Assets written to: /home/paul_d/Sources/sem_math_repo/classification_formulas_multilabel/wandb/run-20230316_004351-4q2gum65/files/model-best/assets\n"
     ]
    },
    {
     "name": "stdout",
     "output_type": "stream",
     "text": [
      "346/346 [==============================] - 11s 32ms/step - loss: 0.2526 - accuracy: 0.3217 - recall_1: 0.0000e+00 - val_loss: 0.2181 - val_accuracy: 0.0000e+00 - val_recall_1: 0.0000e+00\n",
      "Epoch 4/80\n",
      "346/346 [==============================] - ETA: 0s - loss: 0.1854 - accuracy: 0.3181 - recall_1: 0.0000e+00INFO:tensorflow:Assets written to: /home/paul_d/Sources/sem_math_repo/classification_formulas_multilabel/wandb/run-20230316_004351-4q2gum65/files/model-best/assets\n"
     ]
    },
    {
     "name": "stderr",
     "output_type": "stream",
     "text": [
      "INFO:tensorflow:Assets written to: /home/paul_d/Sources/sem_math_repo/classification_formulas_multilabel/wandb/run-20230316_004351-4q2gum65/files/model-best/assets\n"
     ]
    },
    {
     "name": "stdout",
     "output_type": "stream",
     "text": [
      "346/346 [==============================] - 11s 32ms/step - loss: 0.1854 - accuracy: 0.3181 - recall_1: 0.0000e+00 - val_loss: 0.1737 - val_accuracy: 0.0000e+00 - val_recall_1: 0.0000e+00\n",
      "Epoch 5/80\n",
      "345/346 [============================>.] - ETA: 0s - loss: 0.1625 - accuracy: 0.3216 - recall_1: 0.0000e+00INFO:tensorflow:Assets written to: /home/paul_d/Sources/sem_math_repo/classification_formulas_multilabel/wandb/run-20230316_004351-4q2gum65/files/model-best/assets\n"
     ]
    },
    {
     "name": "stderr",
     "output_type": "stream",
     "text": [
      "INFO:tensorflow:Assets written to: /home/paul_d/Sources/sem_math_repo/classification_formulas_multilabel/wandb/run-20230316_004351-4q2gum65/files/model-best/assets\n"
     ]
    },
    {
     "name": "stdout",
     "output_type": "stream",
     "text": [
      "346/346 [==============================] - 12s 34ms/step - loss: 0.1626 - accuracy: 0.3214 - recall_1: 0.0000e+00 - val_loss: 0.1564 - val_accuracy: 0.0000e+00 - val_recall_1: 0.0000e+00\n",
      "Epoch 6/80\n",
      "346/346 [==============================] - ETA: 0s - loss: 0.1545 - accuracy: 0.3261 - recall_1: 0.0000e+00INFO:tensorflow:Assets written to: /home/paul_d/Sources/sem_math_repo/classification_formulas_multilabel/wandb/run-20230316_004351-4q2gum65/files/model-best/assets\n"
     ]
    },
    {
     "name": "stderr",
     "output_type": "stream",
     "text": [
      "INFO:tensorflow:Assets written to: /home/paul_d/Sources/sem_math_repo/classification_formulas_multilabel/wandb/run-20230316_004351-4q2gum65/files/model-best/assets\n"
     ]
    },
    {
     "name": "stdout",
     "output_type": "stream",
     "text": [
      "346/346 [==============================] - 11s 33ms/step - loss: 0.1545 - accuracy: 0.3261 - recall_1: 0.0000e+00 - val_loss: 0.1491 - val_accuracy: 0.0000e+00 - val_recall_1: 0.0000e+00\n",
      "Epoch 7/80\n",
      "346/346 [==============================] - ETA: 0s - loss: 0.1515 - accuracy: 0.3339 - recall_1: 0.0000e+00INFO:tensorflow:Assets written to: /home/paul_d/Sources/sem_math_repo/classification_formulas_multilabel/wandb/run-20230316_004351-4q2gum65/files/model-best/assets\n"
     ]
    },
    {
     "name": "stderr",
     "output_type": "stream",
     "text": [
      "INFO:tensorflow:Assets written to: /home/paul_d/Sources/sem_math_repo/classification_formulas_multilabel/wandb/run-20230316_004351-4q2gum65/files/model-best/assets\n"
     ]
    },
    {
     "name": "stdout",
     "output_type": "stream",
     "text": [
      "346/346 [==============================] - 13s 37ms/step - loss: 0.1515 - accuracy: 0.3339 - recall_1: 0.0000e+00 - val_loss: 0.1457 - val_accuracy: 0.0000e+00 - val_recall_1: 0.0000e+00\n",
      "Epoch 8/80\n",
      "345/346 [============================>.] - ETA: 0s - loss: 0.1499 - accuracy: 0.3454 - recall_1: 0.0000e+00INFO:tensorflow:Assets written to: /home/paul_d/Sources/sem_math_repo/classification_formulas_multilabel/wandb/run-20230316_004351-4q2gum65/files/model-best/assets\n"
     ]
    },
    {
     "name": "stderr",
     "output_type": "stream",
     "text": [
      "INFO:tensorflow:Assets written to: /home/paul_d/Sources/sem_math_repo/classification_formulas_multilabel/wandb/run-20230316_004351-4q2gum65/files/model-best/assets\n"
     ]
    },
    {
     "name": "stdout",
     "output_type": "stream",
     "text": [
      "346/346 [==============================] - 12s 34ms/step - loss: 0.1499 - accuracy: 0.3455 - recall_1: 0.0000e+00 - val_loss: 0.1439 - val_accuracy: 0.0000e+00 - val_recall_1: 0.0000e+00\n",
      "Epoch 9/80\n",
      "346/346 [==============================] - ETA: 0s - loss: 0.1491 - accuracy: 0.3589 - recall_1: 0.0000e+00INFO:tensorflow:Assets written to: /home/paul_d/Sources/sem_math_repo/classification_formulas_multilabel/wandb/run-20230316_004351-4q2gum65/files/model-best/assets\n"
     ]
    },
    {
     "name": "stderr",
     "output_type": "stream",
     "text": [
      "INFO:tensorflow:Assets written to: /home/paul_d/Sources/sem_math_repo/classification_formulas_multilabel/wandb/run-20230316_004351-4q2gum65/files/model-best/assets\n"
     ]
    },
    {
     "name": "stdout",
     "output_type": "stream",
     "text": [
      "346/346 [==============================] - 12s 35ms/step - loss: 0.1491 - accuracy: 0.3589 - recall_1: 0.0000e+00 - val_loss: 0.1429 - val_accuracy: 0.0691 - val_recall_1: 0.0000e+00\n",
      "Epoch 10/80\n",
      "345/346 [============================>.] - ETA: 0s - loss: 0.1485 - accuracy: 0.3733 - recall_1: 0.0000e+00INFO:tensorflow:Assets written to: /home/paul_d/Sources/sem_math_repo/classification_formulas_multilabel/wandb/run-20230316_004351-4q2gum65/files/model-best/assets\n"
     ]
    },
    {
     "name": "stderr",
     "output_type": "stream",
     "text": [
      "INFO:tensorflow:Assets written to: /home/paul_d/Sources/sem_math_repo/classification_formulas_multilabel/wandb/run-20230316_004351-4q2gum65/files/model-best/assets\n"
     ]
    },
    {
     "name": "stdout",
     "output_type": "stream",
     "text": [
      "346/346 [==============================] - 13s 37ms/step - loss: 0.1485 - accuracy: 0.3731 - recall_1: 0.0000e+00 - val_loss: 0.1421 - val_accuracy: 0.1431 - val_recall_1: 0.0000e+00\n",
      "Epoch 11/80\n",
      "346/346 [==============================] - ETA: 0s - loss: 0.1481 - accuracy: 0.3909 - recall_1: 0.0000e+00INFO:tensorflow:Assets written to: /home/paul_d/Sources/sem_math_repo/classification_formulas_multilabel/wandb/run-20230316_004351-4q2gum65/files/model-best/assets\n"
     ]
    },
    {
     "name": "stderr",
     "output_type": "stream",
     "text": [
      "INFO:tensorflow:Assets written to: /home/paul_d/Sources/sem_math_repo/classification_formulas_multilabel/wandb/run-20230316_004351-4q2gum65/files/model-best/assets\n"
     ]
    },
    {
     "name": "stdout",
     "output_type": "stream",
     "text": [
      "346/346 [==============================] - 14s 41ms/step - loss: 0.1481 - accuracy: 0.3909 - recall_1: 0.0000e+00 - val_loss: 0.1415 - val_accuracy: 0.4424 - val_recall_1: 0.0000e+00\n",
      "Epoch 12/80\n",
      "345/346 [============================>.] - ETA: 0s - loss: 0.1475 - accuracy: 0.4048 - recall_1: 0.0000e+00INFO:tensorflow:Assets written to: /home/paul_d/Sources/sem_math_repo/classification_formulas_multilabel/wandb/run-20230316_004351-4q2gum65/files/model-best/assets\n"
     ]
    },
    {
     "name": "stderr",
     "output_type": "stream",
     "text": [
      "INFO:tensorflow:Assets written to: /home/paul_d/Sources/sem_math_repo/classification_formulas_multilabel/wandb/run-20230316_004351-4q2gum65/files/model-best/assets\n"
     ]
    },
    {
     "name": "stdout",
     "output_type": "stream",
     "text": [
      "346/346 [==============================] - 13s 39ms/step - loss: 0.1475 - accuracy: 0.4048 - recall_1: 0.0000e+00 - val_loss: 0.1409 - val_accuracy: 0.5226 - val_recall_1: 0.0000e+00\n",
      "Epoch 13/80\n",
      "346/346 [==============================] - ETA: 0s - loss: 0.1471 - accuracy: 0.4171 - recall_1: 0.0000e+00INFO:tensorflow:Assets written to: /home/paul_d/Sources/sem_math_repo/classification_formulas_multilabel/wandb/run-20230316_004351-4q2gum65/files/model-best/assets\n"
     ]
    },
    {
     "name": "stderr",
     "output_type": "stream",
     "text": [
      "INFO:tensorflow:Assets written to: /home/paul_d/Sources/sem_math_repo/classification_formulas_multilabel/wandb/run-20230316_004351-4q2gum65/files/model-best/assets\n"
     ]
    },
    {
     "name": "stdout",
     "output_type": "stream",
     "text": [
      "346/346 [==============================] - 13s 37ms/step - loss: 0.1471 - accuracy: 0.4171 - recall_1: 0.0000e+00 - val_loss: 0.1401 - val_accuracy: 0.5876 - val_recall_1: 0.0000e+00\n",
      "Epoch 14/80\n",
      "346/346 [==============================] - ETA: 0s - loss: 0.1467 - accuracy: 0.4340 - recall_1: 4.8193e-05INFO:tensorflow:Assets written to: /home/paul_d/Sources/sem_math_repo/classification_formulas_multilabel/wandb/run-20230316_004351-4q2gum65/files/model-best/assets\n"
     ]
    },
    {
     "name": "stderr",
     "output_type": "stream",
     "text": [
      "INFO:tensorflow:Assets written to: /home/paul_d/Sources/sem_math_repo/classification_formulas_multilabel/wandb/run-20230316_004351-4q2gum65/files/model-best/assets\n"
     ]
    },
    {
     "name": "stdout",
     "output_type": "stream",
     "text": [
      "346/346 [==============================] - 13s 37ms/step - loss: 0.1467 - accuracy: 0.4340 - recall_1: 4.8193e-05 - val_loss: 0.1394 - val_accuracy: 0.7891 - val_recall_1: 0.0000e+00\n",
      "Epoch 15/80\n",
      "346/346 [==============================] - ETA: 0s - loss: 0.1459 - accuracy: 0.4517 - recall_1: 4.8201e-05INFO:tensorflow:Assets written to: /home/paul_d/Sources/sem_math_repo/classification_formulas_multilabel/wandb/run-20230316_004351-4q2gum65/files/model-best/assets\n"
     ]
    },
    {
     "name": "stderr",
     "output_type": "stream",
     "text": [
      "INFO:tensorflow:Assets written to: /home/paul_d/Sources/sem_math_repo/classification_formulas_multilabel/wandb/run-20230316_004351-4q2gum65/files/model-best/assets\n"
     ]
    },
    {
     "name": "stdout",
     "output_type": "stream",
     "text": [
      "346/346 [==============================] - 13s 39ms/step - loss: 0.1459 - accuracy: 0.4517 - recall_1: 4.8201e-05 - val_loss: 0.1385 - val_accuracy: 0.8063 - val_recall_1: 0.0000e+00\n",
      "Epoch 16/80\n",
      "345/346 [============================>.] - ETA: 0s - loss: 0.1453 - accuracy: 0.4639 - recall_1: 9.6670e-05INFO:tensorflow:Assets written to: /home/paul_d/Sources/sem_math_repo/classification_formulas_multilabel/wandb/run-20230316_004351-4q2gum65/files/model-best/assets\n"
     ]
    },
    {
     "name": "stderr",
     "output_type": "stream",
     "text": [
      "INFO:tensorflow:Assets written to: /home/paul_d/Sources/sem_math_repo/classification_formulas_multilabel/wandb/run-20230316_004351-4q2gum65/files/model-best/assets\n"
     ]
    },
    {
     "name": "stdout",
     "output_type": "stream",
     "text": [
      "346/346 [==============================] - 13s 38ms/step - loss: 0.1453 - accuracy: 0.4633 - recall_1: 9.6386e-05 - val_loss: 0.1376 - val_accuracy: 0.8117 - val_recall_1: 0.0000e+00\n",
      "Epoch 17/80\n",
      "346/346 [==============================] - ETA: 0s - loss: 0.1446 - accuracy: 0.4790 - recall_1: 3.1324e-04INFO:tensorflow:Assets written to: /home/paul_d/Sources/sem_math_repo/classification_formulas_multilabel/wandb/run-20230316_004351-4q2gum65/files/model-best/assets\n"
     ]
    },
    {
     "name": "stderr",
     "output_type": "stream",
     "text": [
      "INFO:tensorflow:Assets written to: /home/paul_d/Sources/sem_math_repo/classification_formulas_multilabel/wandb/run-20230316_004351-4q2gum65/files/model-best/assets\n"
     ]
    },
    {
     "name": "stdout",
     "output_type": "stream",
     "text": [
      "346/346 [==============================] - 14s 39ms/step - loss: 0.1446 - accuracy: 0.4790 - recall_1: 3.1324e-04 - val_loss: 0.1367 - val_accuracy: 0.8158 - val_recall_1: 0.0000e+00\n",
      "Epoch 18/80\n",
      "346/346 [==============================] - ETA: 0s - loss: 0.1440 - accuracy: 0.4879 - recall_1: 9.6393e-04INFO:tensorflow:Assets written to: /home/paul_d/Sources/sem_math_repo/classification_formulas_multilabel/wandb/run-20230316_004351-4q2gum65/files/model-best/assets\n"
     ]
    },
    {
     "name": "stderr",
     "output_type": "stream",
     "text": [
      "INFO:tensorflow:Assets written to: /home/paul_d/Sources/sem_math_repo/classification_formulas_multilabel/wandb/run-20230316_004351-4q2gum65/files/model-best/assets\n"
     ]
    },
    {
     "name": "stdout",
     "output_type": "stream",
     "text": [
      "346/346 [==============================] - 14s 40ms/step - loss: 0.1440 - accuracy: 0.4879 - recall_1: 9.6393e-04 - val_loss: 0.1357 - val_accuracy: 0.8187 - val_recall_1: 0.0000e+00\n",
      "Epoch 19/80\n",
      "345/346 [============================>.] - ETA: 0s - loss: 0.1433 - accuracy: 0.4984 - recall_1: 0.0020INFO:tensorflow:Assets written to: /home/paul_d/Sources/sem_math_repo/classification_formulas_multilabel/wandb/run-20230316_004351-4q2gum65/files/model-best/assets\n"
     ]
    },
    {
     "name": "stderr",
     "output_type": "stream",
     "text": [
      "INFO:tensorflow:Assets written to: /home/paul_d/Sources/sem_math_repo/classification_formulas_multilabel/wandb/run-20230316_004351-4q2gum65/files/model-best/assets\n"
     ]
    },
    {
     "name": "stdout",
     "output_type": "stream",
     "text": [
      "346/346 [==============================] - 13s 37ms/step - loss: 0.1434 - accuracy: 0.4979 - recall_1: 0.0020 - val_loss: 0.1347 - val_accuracy: 0.8170 - val_recall_1: 0.0000e+00\n",
      "Epoch 20/80\n",
      "345/346 [============================>.] - ETA: 0s - loss: 0.1427 - accuracy: 0.5054 - recall_1: 0.0035INFO:tensorflow:Assets written to: /home/paul_d/Sources/sem_math_repo/classification_formulas_multilabel/wandb/run-20230316_004351-4q2gum65/files/model-best/assets\n"
     ]
    },
    {
     "name": "stderr",
     "output_type": "stream",
     "text": [
      "INFO:tensorflow:Assets written to: /home/paul_d/Sources/sem_math_repo/classification_formulas_multilabel/wandb/run-20230316_004351-4q2gum65/files/model-best/assets\n"
     ]
    },
    {
     "name": "stdout",
     "output_type": "stream",
     "text": [
      "346/346 [==============================] - 13s 38ms/step - loss: 0.1428 - accuracy: 0.5048 - recall_1: 0.0034 - val_loss: 0.1337 - val_accuracy: 0.8183 - val_recall_1: 0.0000e+00\n",
      "Epoch 21/80\n",
      "346/346 [==============================] - ETA: 0s - loss: 0.1420 - accuracy: 0.5118 - recall_1: 0.0059INFO:tensorflow:Assets written to: /home/paul_d/Sources/sem_math_repo/classification_formulas_multilabel/wandb/run-20230316_004351-4q2gum65/files/model-best/assets\n"
     ]
    },
    {
     "name": "stderr",
     "output_type": "stream",
     "text": [
      "INFO:tensorflow:Assets written to: /home/paul_d/Sources/sem_math_repo/classification_formulas_multilabel/wandb/run-20230316_004351-4q2gum65/files/model-best/assets\n"
     ]
    },
    {
     "name": "stdout",
     "output_type": "stream",
     "text": [
      "346/346 [==============================] - 18s 53ms/step - loss: 0.1420 - accuracy: 0.5118 - recall_1: 0.0059 - val_loss: 0.1328 - val_accuracy: 0.8215 - val_recall_1: 0.0000e+00\n",
      "Epoch 22/80\n",
      "345/346 [============================>.] - ETA: 0s - loss: 0.1414 - accuracy: 0.5220 - recall_1: 0.0101INFO:tensorflow:Assets written to: /home/paul_d/Sources/sem_math_repo/classification_formulas_multilabel/wandb/run-20230316_004351-4q2gum65/files/model-best/assets\n"
     ]
    },
    {
     "name": "stderr",
     "output_type": "stream",
     "text": [
      "INFO:tensorflow:Assets written to: /home/paul_d/Sources/sem_math_repo/classification_formulas_multilabel/wandb/run-20230316_004351-4q2gum65/files/model-best/assets\n"
     ]
    },
    {
     "name": "stdout",
     "output_type": "stream",
     "text": [
      "346/346 [==============================] - 12s 36ms/step - loss: 0.1414 - accuracy: 0.5215 - recall_1: 0.0101 - val_loss: 0.1319 - val_accuracy: 0.8244 - val_recall_1: 0.0000e+00\n",
      "Epoch 23/80\n",
      "345/346 [============================>.] - ETA: 0s - loss: 0.1409 - accuracy: 0.5263 - recall_1: 0.0147INFO:tensorflow:Assets written to: /home/paul_d/Sources/sem_math_repo/classification_formulas_multilabel/wandb/run-20230316_004351-4q2gum65/files/model-best/assets\n"
     ]
    },
    {
     "name": "stderr",
     "output_type": "stream",
     "text": [
      "INFO:tensorflow:Assets written to: /home/paul_d/Sources/sem_math_repo/classification_formulas_multilabel/wandb/run-20230316_004351-4q2gum65/files/model-best/assets\n"
     ]
    },
    {
     "name": "stdout",
     "output_type": "stream",
     "text": [
      "346/346 [==============================] - 13s 38ms/step - loss: 0.1410 - accuracy: 0.5258 - recall_1: 0.0146 - val_loss: 0.1310 - val_accuracy: 0.8248 - val_recall_1: 0.0000e+00\n",
      "Epoch 24/80\n",
      "346/346 [==============================] - ETA: 0s - loss: 0.1404 - accuracy: 0.5304 - recall_1: 0.0194INFO:tensorflow:Assets written to: /home/paul_d/Sources/sem_math_repo/classification_formulas_multilabel/wandb/run-20230316_004351-4q2gum65/files/model-best/assets\n"
     ]
    },
    {
     "name": "stderr",
     "output_type": "stream",
     "text": [
      "INFO:tensorflow:Assets written to: /home/paul_d/Sources/sem_math_repo/classification_formulas_multilabel/wandb/run-20230316_004351-4q2gum65/files/model-best/assets\n"
     ]
    },
    {
     "name": "stdout",
     "output_type": "stream",
     "text": [
      "346/346 [==============================] - 13s 37ms/step - loss: 0.1404 - accuracy: 0.5304 - recall_1: 0.0194 - val_loss: 0.1302 - val_accuracy: 0.8261 - val_recall_1: 0.0000e+00\n",
      "Epoch 25/80\n",
      "345/346 [============================>.] - ETA: 0s - loss: 0.1399 - accuracy: 0.5383 - recall_1: 0.0246INFO:tensorflow:Assets written to: /home/paul_d/Sources/sem_math_repo/classification_formulas_multilabel/wandb/run-20230316_004351-4q2gum65/files/model-best/assets\n"
     ]
    },
    {
     "name": "stderr",
     "output_type": "stream",
     "text": [
      "INFO:tensorflow:Assets written to: /home/paul_d/Sources/sem_math_repo/classification_formulas_multilabel/wandb/run-20230316_004351-4q2gum65/files/model-best/assets\n"
     ]
    },
    {
     "name": "stdout",
     "output_type": "stream",
     "text": [
      "346/346 [==============================] - 13s 37ms/step - loss: 0.1399 - accuracy: 0.5375 - recall_1: 0.0246 - val_loss: 0.1295 - val_accuracy: 0.8261 - val_recall_1: 0.0000e+00\n",
      "Epoch 26/80\n",
      "345/346 [============================>.] - ETA: 0s - loss: 0.1394 - accuracy: 0.5422 - recall_1: 0.0304INFO:tensorflow:Assets written to: /home/paul_d/Sources/sem_math_repo/classification_formulas_multilabel/wandb/run-20230316_004351-4q2gum65/files/model-best/assets\n"
     ]
    },
    {
     "name": "stderr",
     "output_type": "stream",
     "text": [
      "INFO:tensorflow:Assets written to: /home/paul_d/Sources/sem_math_repo/classification_formulas_multilabel/wandb/run-20230316_004351-4q2gum65/files/model-best/assets\n"
     ]
    },
    {
     "name": "stdout",
     "output_type": "stream",
     "text": [
      "346/346 [==============================] - 13s 38ms/step - loss: 0.1394 - accuracy: 0.5413 - recall_1: 0.0304 - val_loss: 0.1288 - val_accuracy: 0.8257 - val_recall_1: 0.0000e+00\n",
      "Epoch 27/80\n",
      "345/346 [============================>.] - ETA: 0s - loss: 0.1391 - accuracy: 0.5486 - recall_1: 0.0358INFO:tensorflow:Assets written to: /home/paul_d/Sources/sem_math_repo/classification_formulas_multilabel/wandb/run-20230316_004351-4q2gum65/files/model-best/assets\n"
     ]
    },
    {
     "name": "stderr",
     "output_type": "stream",
     "text": [
      "INFO:tensorflow:Assets written to: /home/paul_d/Sources/sem_math_repo/classification_formulas_multilabel/wandb/run-20230316_004351-4q2gum65/files/model-best/assets\n"
     ]
    },
    {
     "name": "stdout",
     "output_type": "stream",
     "text": [
      "346/346 [==============================] - 13s 38ms/step - loss: 0.1392 - accuracy: 0.5481 - recall_1: 0.0358 - val_loss: 0.1281 - val_accuracy: 0.8257 - val_recall_1: 0.0000e+00\n",
      "Epoch 28/80\n",
      "345/346 [============================>.] - ETA: 0s - loss: 0.1387 - accuracy: 0.5501 - recall_1: 0.0426INFO:tensorflow:Assets written to: /home/paul_d/Sources/sem_math_repo/classification_formulas_multilabel/wandb/run-20230316_004351-4q2gum65/files/model-best/assets\n"
     ]
    },
    {
     "name": "stderr",
     "output_type": "stream",
     "text": [
      "INFO:tensorflow:Assets written to: /home/paul_d/Sources/sem_math_repo/classification_formulas_multilabel/wandb/run-20230316_004351-4q2gum65/files/model-best/assets\n"
     ]
    },
    {
     "name": "stdout",
     "output_type": "stream",
     "text": [
      "346/346 [==============================] - 12s 34ms/step - loss: 0.1387 - accuracy: 0.5493 - recall_1: 0.0425 - val_loss: 0.1275 - val_accuracy: 0.8252 - val_recall_1: 0.0050\n",
      "Epoch 29/80\n",
      "345/346 [============================>.] - ETA: 0s - loss: 0.1385 - accuracy: 0.5541 - recall_1: 0.0469INFO:tensorflow:Assets written to: /home/paul_d/Sources/sem_math_repo/classification_formulas_multilabel/wandb/run-20230316_004351-4q2gum65/files/model-best/assets\n"
     ]
    },
    {
     "name": "stderr",
     "output_type": "stream",
     "text": [
      "INFO:tensorflow:Assets written to: /home/paul_d/Sources/sem_math_repo/classification_formulas_multilabel/wandb/run-20230316_004351-4q2gum65/files/model-best/assets\n"
     ]
    },
    {
     "name": "stdout",
     "output_type": "stream",
     "text": [
      "346/346 [==============================] - 12s 34ms/step - loss: 0.1385 - accuracy: 0.5533 - recall_1: 0.0468 - val_loss: 0.1269 - val_accuracy: 0.8248 - val_recall_1: 0.0095\n",
      "Epoch 30/80\n",
      "345/346 [============================>.] - ETA: 0s - loss: 0.1381 - accuracy: 0.5529 - recall_1: 0.0532INFO:tensorflow:Assets written to: /home/paul_d/Sources/sem_math_repo/classification_formulas_multilabel/wandb/run-20230316_004351-4q2gum65/files/model-best/assets\n"
     ]
    },
    {
     "name": "stderr",
     "output_type": "stream",
     "text": [
      "INFO:tensorflow:Assets written to: /home/paul_d/Sources/sem_math_repo/classification_formulas_multilabel/wandb/run-20230316_004351-4q2gum65/files/model-best/assets\n"
     ]
    },
    {
     "name": "stdout",
     "output_type": "stream",
     "text": [
      "346/346 [==============================] - 12s 35ms/step - loss: 0.1382 - accuracy: 0.5520 - recall_1: 0.0530 - val_loss: 0.1265 - val_accuracy: 0.8244 - val_recall_1: 0.0451\n",
      "Epoch 31/80\n",
      "346/346 [==============================] - ETA: 0s - loss: 0.1380 - accuracy: 0.5601 - recall_1: 0.0585INFO:tensorflow:Assets written to: /home/paul_d/Sources/sem_math_repo/classification_formulas_multilabel/wandb/run-20230316_004351-4q2gum65/files/model-best/assets\n"
     ]
    },
    {
     "name": "stderr",
     "output_type": "stream",
     "text": [
      "INFO:tensorflow:Assets written to: /home/paul_d/Sources/sem_math_repo/classification_formulas_multilabel/wandb/run-20230316_004351-4q2gum65/files/model-best/assets\n"
     ]
    },
    {
     "name": "stdout",
     "output_type": "stream",
     "text": [
      "346/346 [==============================] - 12s 34ms/step - loss: 0.1380 - accuracy: 0.5601 - recall_1: 0.0585 - val_loss: 0.1260 - val_accuracy: 0.8244 - val_recall_1: 0.0638\n",
      "Epoch 32/80\n",
      "346/346 [==============================] - ETA: 0s - loss: 0.1377 - accuracy: 0.5616 - recall_1: 0.0629INFO:tensorflow:Assets written to: /home/paul_d/Sources/sem_math_repo/classification_formulas_multilabel/wandb/run-20230316_004351-4q2gum65/files/model-best/assets\n"
     ]
    },
    {
     "name": "stderr",
     "output_type": "stream",
     "text": [
      "INFO:tensorflow:Assets written to: /home/paul_d/Sources/sem_math_repo/classification_formulas_multilabel/wandb/run-20230316_004351-4q2gum65/files/model-best/assets\n"
     ]
    },
    {
     "name": "stdout",
     "output_type": "stream",
     "text": [
      "346/346 [==============================] - 12s 34ms/step - loss: 0.1377 - accuracy: 0.5616 - recall_1: 0.0629 - val_loss: 0.1256 - val_accuracy: 0.8244 - val_recall_1: 0.0728\n",
      "Epoch 33/80\n",
      "345/346 [============================>.] - ETA: 0s - loss: 0.1374 - accuracy: 0.5642 - recall_1: 0.0666INFO:tensorflow:Assets written to: /home/paul_d/Sources/sem_math_repo/classification_formulas_multilabel/wandb/run-20230316_004351-4q2gum65/files/model-best/assets\n"
     ]
    },
    {
     "name": "stderr",
     "output_type": "stream",
     "text": [
      "INFO:tensorflow:Assets written to: /home/paul_d/Sources/sem_math_repo/classification_formulas_multilabel/wandb/run-20230316_004351-4q2gum65/files/model-best/assets\n"
     ]
    },
    {
     "name": "stdout",
     "output_type": "stream",
     "text": [
      "346/346 [==============================] - 12s 34ms/step - loss: 0.1375 - accuracy: 0.5633 - recall_1: 0.0664 - val_loss: 0.1252 - val_accuracy: 0.8232 - val_recall_1: 0.0818\n",
      "Epoch 34/80\n",
      "345/346 [============================>.] - ETA: 0s - loss: 0.1374 - accuracy: 0.5648 - recall_1: 0.0713INFO:tensorflow:Assets written to: /home/paul_d/Sources/sem_math_repo/classification_formulas_multilabel/wandb/run-20230316_004351-4q2gum65/files/model-best/assets\n"
     ]
    },
    {
     "name": "stderr",
     "output_type": "stream",
     "text": [
      "INFO:tensorflow:Assets written to: /home/paul_d/Sources/sem_math_repo/classification_formulas_multilabel/wandb/run-20230316_004351-4q2gum65/files/model-best/assets\n"
     ]
    },
    {
     "name": "stdout",
     "output_type": "stream",
     "text": [
      "346/346 [==============================] - 12s 33ms/step - loss: 0.1375 - accuracy: 0.5643 - recall_1: 0.0714 - val_loss: 0.1249 - val_accuracy: 0.8232 - val_recall_1: 0.1265\n",
      "Epoch 35/80\n",
      "345/346 [============================>.] - ETA: 0s - loss: 0.1370 - accuracy: 0.5699 - recall_1: 0.0752INFO:tensorflow:Assets written to: /home/paul_d/Sources/sem_math_repo/classification_formulas_multilabel/wandb/run-20230316_004351-4q2gum65/files/model-best/assets\n"
     ]
    },
    {
     "name": "stderr",
     "output_type": "stream",
     "text": [
      "INFO:tensorflow:Assets written to: /home/paul_d/Sources/sem_math_repo/classification_formulas_multilabel/wandb/run-20230316_004351-4q2gum65/files/model-best/assets\n"
     ]
    },
    {
     "name": "stdout",
     "output_type": "stream",
     "text": [
      "346/346 [==============================] - 12s 34ms/step - loss: 0.1371 - accuracy: 0.5694 - recall_1: 0.0752 - val_loss: 0.1246 - val_accuracy: 0.8224 - val_recall_1: 0.1461\n",
      "Epoch 36/80\n",
      "345/346 [============================>.] - ETA: 0s - loss: 0.1370 - accuracy: 0.5693 - recall_1: 0.0798INFO:tensorflow:Assets written to: /home/paul_d/Sources/sem_math_repo/classification_formulas_multilabel/wandb/run-20230316_004351-4q2gum65/files/model-best/assets\n"
     ]
    },
    {
     "name": "stderr",
     "output_type": "stream",
     "text": [
      "INFO:tensorflow:Assets written to: /home/paul_d/Sources/sem_math_repo/classification_formulas_multilabel/wandb/run-20230316_004351-4q2gum65/files/model-best/assets\n"
     ]
    },
    {
     "name": "stdout",
     "output_type": "stream",
     "text": [
      "346/346 [==============================] - 12s 36ms/step - loss: 0.1371 - accuracy: 0.5688 - recall_1: 0.0798 - val_loss: 0.1242 - val_accuracy: 0.8228 - val_recall_1: 0.1531\n",
      "Epoch 37/80\n",
      "345/346 [============================>.] - ETA: 0s - loss: 0.1368 - accuracy: 0.5704 - recall_1: 0.0805INFO:tensorflow:Assets written to: /home/paul_d/Sources/sem_math_repo/classification_formulas_multilabel/wandb/run-20230316_004351-4q2gum65/files/model-best/assets\n"
     ]
    },
    {
     "name": "stderr",
     "output_type": "stream",
     "text": [
      "INFO:tensorflow:Assets written to: /home/paul_d/Sources/sem_math_repo/classification_formulas_multilabel/wandb/run-20230316_004351-4q2gum65/files/model-best/assets\n"
     ]
    },
    {
     "name": "stdout",
     "output_type": "stream",
     "text": [
      "346/346 [==============================] - 12s 34ms/step - loss: 0.1369 - accuracy: 0.5697 - recall_1: 0.0804 - val_loss: 0.1240 - val_accuracy: 0.8224 - val_recall_1: 0.1581\n",
      "Epoch 38/80\n",
      "345/346 [============================>.] - ETA: 0s - loss: 0.1366 - accuracy: 0.5751 - recall_1: 0.0840INFO:tensorflow:Assets written to: /home/paul_d/Sources/sem_math_repo/classification_formulas_multilabel/wandb/run-20230316_004351-4q2gum65/files/model-best/assets\n"
     ]
    },
    {
     "name": "stderr",
     "output_type": "stream",
     "text": [
      "INFO:tensorflow:Assets written to: /home/paul_d/Sources/sem_math_repo/classification_formulas_multilabel/wandb/run-20230316_004351-4q2gum65/files/model-best/assets\n"
     ]
    },
    {
     "name": "stdout",
     "output_type": "stream",
     "text": [
      "346/346 [==============================] - 12s 33ms/step - loss: 0.1367 - accuracy: 0.5743 - recall_1: 0.0839 - val_loss: 0.1237 - val_accuracy: 0.8224 - val_recall_1: 0.1630\n",
      "Epoch 39/80\n",
      "346/346 [==============================] - ETA: 0s - loss: 0.1365 - accuracy: 0.5718 - recall_1: 0.0893INFO:tensorflow:Assets written to: /home/paul_d/Sources/sem_math_repo/classification_formulas_multilabel/wandb/run-20230316_004351-4q2gum65/files/model-best/assets\n"
     ]
    },
    {
     "name": "stderr",
     "output_type": "stream",
     "text": [
      "INFO:tensorflow:Assets written to: /home/paul_d/Sources/sem_math_repo/classification_formulas_multilabel/wandb/run-20230316_004351-4q2gum65/files/model-best/assets\n"
     ]
    },
    {
     "name": "stdout",
     "output_type": "stream",
     "text": [
      "346/346 [==============================] - 12s 33ms/step - loss: 0.1365 - accuracy: 0.5718 - recall_1: 0.0893 - val_loss: 0.1236 - val_accuracy: 0.8224 - val_recall_1: 0.1664\n",
      "Epoch 40/80\n",
      "346/346 [==============================] - ETA: 0s - loss: 0.1363 - accuracy: 0.5749 - recall_1: 0.0895INFO:tensorflow:Assets written to: /home/paul_d/Sources/sem_math_repo/classification_formulas_multilabel/wandb/run-20230316_004351-4q2gum65/files/model-best/assets\n"
     ]
    },
    {
     "name": "stderr",
     "output_type": "stream",
     "text": [
      "INFO:tensorflow:Assets written to: /home/paul_d/Sources/sem_math_repo/classification_formulas_multilabel/wandb/run-20230316_004351-4q2gum65/files/model-best/assets\n"
     ]
    },
    {
     "name": "stdout",
     "output_type": "stream",
     "text": [
      "346/346 [==============================] - 12s 34ms/step - loss: 0.1363 - accuracy: 0.5749 - recall_1: 0.0895 - val_loss: 0.1234 - val_accuracy: 0.8228 - val_recall_1: 0.1680\n",
      "Epoch 41/80\n",
      "345/346 [============================>.] - ETA: 0s - loss: 0.1362 - accuracy: 0.5761 - recall_1: 0.0925INFO:tensorflow:Assets written to: /home/paul_d/Sources/sem_math_repo/classification_formulas_multilabel/wandb/run-20230316_004351-4q2gum65/files/model-best/assets\n"
     ]
    },
    {
     "name": "stderr",
     "output_type": "stream",
     "text": [
      "INFO:tensorflow:Assets written to: /home/paul_d/Sources/sem_math_repo/classification_formulas_multilabel/wandb/run-20230316_004351-4q2gum65/files/model-best/assets\n"
     ]
    },
    {
     "name": "stdout",
     "output_type": "stream",
     "text": [
      "346/346 [==============================] - 12s 34ms/step - loss: 0.1363 - accuracy: 0.5755 - recall_1: 0.0925 - val_loss: 0.1232 - val_accuracy: 0.8232 - val_recall_1: 0.1766\n",
      "Epoch 42/80\n",
      "346/346 [==============================] - ETA: 0s - loss: 0.1361 - accuracy: 0.5763 - recall_1: 0.0936INFO:tensorflow:Assets written to: /home/paul_d/Sources/sem_math_repo/classification_formulas_multilabel/wandb/run-20230316_004351-4q2gum65/files/model-best/assets\n"
     ]
    },
    {
     "name": "stderr",
     "output_type": "stream",
     "text": [
      "INFO:tensorflow:Assets written to: /home/paul_d/Sources/sem_math_repo/classification_formulas_multilabel/wandb/run-20230316_004351-4q2gum65/files/model-best/assets\n"
     ]
    },
    {
     "name": "stdout",
     "output_type": "stream",
     "text": [
      "346/346 [==============================] - 12s 35ms/step - loss: 0.1361 - accuracy: 0.5763 - recall_1: 0.0936 - val_loss: 0.1230 - val_accuracy: 0.8244 - val_recall_1: 0.1829\n",
      "Epoch 43/80\n",
      "345/346 [============================>.] - ETA: 0s - loss: 0.1361 - accuracy: 0.5784 - recall_1: 0.0945INFO:tensorflow:Assets written to: /home/paul_d/Sources/sem_math_repo/classification_formulas_multilabel/wandb/run-20230316_004351-4q2gum65/files/model-best/assets\n"
     ]
    },
    {
     "name": "stderr",
     "output_type": "stream",
     "text": [
      "INFO:tensorflow:Assets written to: /home/paul_d/Sources/sem_math_repo/classification_formulas_multilabel/wandb/run-20230316_004351-4q2gum65/files/model-best/assets\n"
     ]
    },
    {
     "name": "stdout",
     "output_type": "stream",
     "text": [
      "346/346 [==============================] - 12s 34ms/step - loss: 0.1361 - accuracy: 0.5776 - recall_1: 0.0944 - val_loss: 0.1228 - val_accuracy: 0.8273 - val_recall_1: 0.1844\n",
      "Epoch 44/80\n",
      "346/346 [==============================] - ETA: 0s - loss: 0.1361 - accuracy: 0.5802 - recall_1: 0.0974INFO:tensorflow:Assets written to: /home/paul_d/Sources/sem_math_repo/classification_formulas_multilabel/wandb/run-20230316_004351-4q2gum65/files/model-best/assets\n"
     ]
    },
    {
     "name": "stderr",
     "output_type": "stream",
     "text": [
      "INFO:tensorflow:Assets written to: /home/paul_d/Sources/sem_math_repo/classification_formulas_multilabel/wandb/run-20230316_004351-4q2gum65/files/model-best/assets\n"
     ]
    },
    {
     "name": "stdout",
     "output_type": "stream",
     "text": [
      "346/346 [==============================] - 12s 34ms/step - loss: 0.1361 - accuracy: 0.5802 - recall_1: 0.0974 - val_loss: 0.1226 - val_accuracy: 0.8351 - val_recall_1: 0.1853\n",
      "Epoch 45/80\n",
      "346/346 [==============================] - ETA: 0s - loss: 0.1358 - accuracy: 0.5801 - recall_1: 0.1001INFO:tensorflow:Assets written to: /home/paul_d/Sources/sem_math_repo/classification_formulas_multilabel/wandb/run-20230316_004351-4q2gum65/files/model-best/assets\n"
     ]
    },
    {
     "name": "stderr",
     "output_type": "stream",
     "text": [
      "INFO:tensorflow:Assets written to: /home/paul_d/Sources/sem_math_repo/classification_formulas_multilabel/wandb/run-20230316_004351-4q2gum65/files/model-best/assets\n"
     ]
    },
    {
     "name": "stdout",
     "output_type": "stream",
     "text": [
      "346/346 [==============================] - 12s 33ms/step - loss: 0.1358 - accuracy: 0.5801 - recall_1: 0.1001 - val_loss: 0.1225 - val_accuracy: 0.8355 - val_recall_1: 0.1885\n",
      "Epoch 46/80\n",
      "346/346 [==============================] - ETA: 0s - loss: 0.1356 - accuracy: 0.5817 - recall_1: 0.1005INFO:tensorflow:Assets written to: /home/paul_d/Sources/sem_math_repo/classification_formulas_multilabel/wandb/run-20230316_004351-4q2gum65/files/model-best/assets\n"
     ]
    },
    {
     "name": "stderr",
     "output_type": "stream",
     "text": [
      "INFO:tensorflow:Assets written to: /home/paul_d/Sources/sem_math_repo/classification_formulas_multilabel/wandb/run-20230316_004351-4q2gum65/files/model-best/assets\n"
     ]
    },
    {
     "name": "stdout",
     "output_type": "stream",
     "text": [
      "346/346 [==============================] - 12s 34ms/step - loss: 0.1356 - accuracy: 0.5817 - recall_1: 0.1005 - val_loss: 0.1223 - val_accuracy: 0.8372 - val_recall_1: 0.1896\n",
      "Epoch 47/80\n",
      "345/346 [============================>.] - ETA: 0s - loss: 0.1355 - accuracy: 0.5846 - recall_1: 0.1012INFO:tensorflow:Assets written to: /home/paul_d/Sources/sem_math_repo/classification_formulas_multilabel/wandb/run-20230316_004351-4q2gum65/files/model-best/assets\n"
     ]
    },
    {
     "name": "stderr",
     "output_type": "stream",
     "text": [
      "INFO:tensorflow:Assets written to: /home/paul_d/Sources/sem_math_repo/classification_formulas_multilabel/wandb/run-20230316_004351-4q2gum65/files/model-best/assets\n"
     ]
    },
    {
     "name": "stdout",
     "output_type": "stream",
     "text": [
      "346/346 [==============================] - 12s 34ms/step - loss: 0.1355 - accuracy: 0.5840 - recall_1: 0.1012 - val_loss: 0.1221 - val_accuracy: 0.8376 - val_recall_1: 0.1932\n",
      "Epoch 48/80\n",
      "345/346 [============================>.] - ETA: 0s - loss: 0.1355 - accuracy: 0.5857 - recall_1: 0.1026INFO:tensorflow:Assets written to: /home/paul_d/Sources/sem_math_repo/classification_formulas_multilabel/wandb/run-20230316_004351-4q2gum65/files/model-best/assets\n"
     ]
    },
    {
     "name": "stderr",
     "output_type": "stream",
     "text": [
      "INFO:tensorflow:Assets written to: /home/paul_d/Sources/sem_math_repo/classification_formulas_multilabel/wandb/run-20230316_004351-4q2gum65/files/model-best/assets\n"
     ]
    },
    {
     "name": "stdout",
     "output_type": "stream",
     "text": [
      "346/346 [==============================] - 12s 35ms/step - loss: 0.1356 - accuracy: 0.5852 - recall_1: 0.1025 - val_loss: 0.1220 - val_accuracy: 0.8380 - val_recall_1: 0.1941\n",
      "Epoch 49/80\n",
      "346/346 [==============================] - ETA: 0s - loss: 0.1355 - accuracy: 0.5821 - recall_1: 0.1037INFO:tensorflow:Assets written to: /home/paul_d/Sources/sem_math_repo/classification_formulas_multilabel/wandb/run-20230316_004351-4q2gum65/files/model-best/assets\n"
     ]
    },
    {
     "name": "stderr",
     "output_type": "stream",
     "text": [
      "INFO:tensorflow:Assets written to: /home/paul_d/Sources/sem_math_repo/classification_formulas_multilabel/wandb/run-20230316_004351-4q2gum65/files/model-best/assets\n"
     ]
    },
    {
     "name": "stdout",
     "output_type": "stream",
     "text": [
      "346/346 [==============================] - 12s 34ms/step - loss: 0.1355 - accuracy: 0.5821 - recall_1: 0.1037 - val_loss: 0.1220 - val_accuracy: 0.8384 - val_recall_1: 0.1946\n",
      "Epoch 50/80\n",
      "346/346 [==============================] - ETA: 0s - loss: 0.1354 - accuracy: 0.5850 - recall_1: 0.1030INFO:tensorflow:Assets written to: /home/paul_d/Sources/sem_math_repo/classification_formulas_multilabel/wandb/run-20230316_004351-4q2gum65/files/model-best/assets\n"
     ]
    },
    {
     "name": "stderr",
     "output_type": "stream",
     "text": [
      "INFO:tensorflow:Assets written to: /home/paul_d/Sources/sem_math_repo/classification_formulas_multilabel/wandb/run-20230316_004351-4q2gum65/files/model-best/assets\n"
     ]
    },
    {
     "name": "stdout",
     "output_type": "stream",
     "text": [
      "346/346 [==============================] - 12s 34ms/step - loss: 0.1354 - accuracy: 0.5850 - recall_1: 0.1030 - val_loss: 0.1218 - val_accuracy: 0.8384 - val_recall_1: 0.1946\n",
      "Epoch 51/80\n",
      "346/346 [==============================] - ETA: 0s - loss: 0.1354 - accuracy: 0.5827 - recall_1: 0.1059INFO:tensorflow:Assets written to: /home/paul_d/Sources/sem_math_repo/classification_formulas_multilabel/wandb/run-20230316_004351-4q2gum65/files/model-best/assets\n"
     ]
    },
    {
     "name": "stderr",
     "output_type": "stream",
     "text": [
      "INFO:tensorflow:Assets written to: /home/paul_d/Sources/sem_math_repo/classification_formulas_multilabel/wandb/run-20230316_004351-4q2gum65/files/model-best/assets\n"
     ]
    },
    {
     "name": "stdout",
     "output_type": "stream",
     "text": [
      "346/346 [==============================] - 12s 33ms/step - loss: 0.1354 - accuracy: 0.5827 - recall_1: 0.1059 - val_loss: 0.1216 - val_accuracy: 0.8368 - val_recall_1: 0.1950\n",
      "Epoch 52/80\n",
      "346/346 [==============================] - ETA: 0s - loss: 0.1353 - accuracy: 0.5872 - recall_1: 0.1065INFO:tensorflow:Assets written to: /home/paul_d/Sources/sem_math_repo/classification_formulas_multilabel/wandb/run-20230316_004351-4q2gum65/files/model-best/assets\n"
     ]
    },
    {
     "name": "stderr",
     "output_type": "stream",
     "text": [
      "INFO:tensorflow:Assets written to: /home/paul_d/Sources/sem_math_repo/classification_formulas_multilabel/wandb/run-20230316_004351-4q2gum65/files/model-best/assets\n"
     ]
    },
    {
     "name": "stdout",
     "output_type": "stream",
     "text": [
      "346/346 [==============================] - 12s 33ms/step - loss: 0.1353 - accuracy: 0.5872 - recall_1: 0.1065 - val_loss: 0.1216 - val_accuracy: 0.8363 - val_recall_1: 0.1957\n",
      "Epoch 53/80\n",
      "345/346 [============================>.] - ETA: 0s - loss: 0.1351 - accuracy: 0.5875 - recall_1: 0.1078INFO:tensorflow:Assets written to: /home/paul_d/Sources/sem_math_repo/classification_formulas_multilabel/wandb/run-20230316_004351-4q2gum65/files/model-best/assets\n"
     ]
    },
    {
     "name": "stderr",
     "output_type": "stream",
     "text": [
      "INFO:tensorflow:Assets written to: /home/paul_d/Sources/sem_math_repo/classification_formulas_multilabel/wandb/run-20230316_004351-4q2gum65/files/model-best/assets\n"
     ]
    },
    {
     "name": "stdout",
     "output_type": "stream",
     "text": [
      "346/346 [==============================] - 12s 34ms/step - loss: 0.1352 - accuracy: 0.5868 - recall_1: 0.1076 - val_loss: 0.1214 - val_accuracy: 0.8363 - val_recall_1: 0.2009\n",
      "Epoch 54/80\n",
      "345/346 [============================>.] - ETA: 0s - loss: 0.1351 - accuracy: 0.5894 - recall_1: 0.1073INFO:tensorflow:Assets written to: /home/paul_d/Sources/sem_math_repo/classification_formulas_multilabel/wandb/run-20230316_004351-4q2gum65/files/model-best/assets\n"
     ]
    },
    {
     "name": "stderr",
     "output_type": "stream",
     "text": [
      "INFO:tensorflow:Assets written to: /home/paul_d/Sources/sem_math_repo/classification_formulas_multilabel/wandb/run-20230316_004351-4q2gum65/files/model-best/assets\n"
     ]
    },
    {
     "name": "stdout",
     "output_type": "stream",
     "text": [
      "346/346 [==============================] - 13s 36ms/step - loss: 0.1352 - accuracy: 0.5887 - recall_1: 0.1072 - val_loss: 0.1214 - val_accuracy: 0.8380 - val_recall_1: 0.2038\n",
      "Epoch 55/80\n",
      "345/346 [============================>.] - ETA: 0s - loss: 0.1351 - accuracy: 0.5887 - recall_1: 0.1083INFO:tensorflow:Assets written to: /home/paul_d/Sources/sem_math_repo/classification_formulas_multilabel/wandb/run-20230316_004351-4q2gum65/files/model-best/assets\n"
     ]
    },
    {
     "name": "stderr",
     "output_type": "stream",
     "text": [
      "INFO:tensorflow:Assets written to: /home/paul_d/Sources/sem_math_repo/classification_formulas_multilabel/wandb/run-20230316_004351-4q2gum65/files/model-best/assets\n"
     ]
    },
    {
     "name": "stdout",
     "output_type": "stream",
     "text": [
      "346/346 [==============================] - 12s 34ms/step - loss: 0.1351 - accuracy: 0.5881 - recall_1: 0.1083 - val_loss: 0.1213 - val_accuracy: 0.8380 - val_recall_1: 0.2050\n",
      "Epoch 56/80\n",
      "346/346 [==============================] - ETA: 0s - loss: 0.1350 - accuracy: 0.5888 - recall_1: 0.1074INFO:tensorflow:Assets written to: /home/paul_d/Sources/sem_math_repo/classification_formulas_multilabel/wandb/run-20230316_004351-4q2gum65/files/model-best/assets\n"
     ]
    },
    {
     "name": "stderr",
     "output_type": "stream",
     "text": [
      "INFO:tensorflow:Assets written to: /home/paul_d/Sources/sem_math_repo/classification_formulas_multilabel/wandb/run-20230316_004351-4q2gum65/files/model-best/assets\n"
     ]
    },
    {
     "name": "stdout",
     "output_type": "stream",
     "text": [
      "346/346 [==============================] - 12s 34ms/step - loss: 0.1350 - accuracy: 0.5888 - recall_1: 0.1074 - val_loss: 0.1211 - val_accuracy: 0.8380 - val_recall_1: 0.2059\n",
      "Epoch 57/80\n",
      "345/346 [============================>.] - ETA: 0s - loss: 0.1348 - accuracy: 0.5916 - recall_1: 0.1093INFO:tensorflow:Assets written to: /home/paul_d/Sources/sem_math_repo/classification_formulas_multilabel/wandb/run-20230316_004351-4q2gum65/files/model-best/assets\n"
     ]
    },
    {
     "name": "stderr",
     "output_type": "stream",
     "text": [
      "INFO:tensorflow:Assets written to: /home/paul_d/Sources/sem_math_repo/classification_formulas_multilabel/wandb/run-20230316_004351-4q2gum65/files/model-best/assets\n"
     ]
    },
    {
     "name": "stdout",
     "output_type": "stream",
     "text": [
      "346/346 [==============================] - 12s 33ms/step - loss: 0.1349 - accuracy: 0.5904 - recall_1: 0.1091 - val_loss: 0.1211 - val_accuracy: 0.8384 - val_recall_1: 0.2135\n",
      "Epoch 58/80\n",
      "346/346 [==============================] - ETA: 0s - loss: 0.1348 - accuracy: 0.5921 - recall_1: 0.1090INFO:tensorflow:Assets written to: /home/paul_d/Sources/sem_math_repo/classification_formulas_multilabel/wandb/run-20230316_004351-4q2gum65/files/model-best/assets\n"
     ]
    },
    {
     "name": "stderr",
     "output_type": "stream",
     "text": [
      "INFO:tensorflow:Assets written to: /home/paul_d/Sources/sem_math_repo/classification_formulas_multilabel/wandb/run-20230316_004351-4q2gum65/files/model-best/assets\n"
     ]
    },
    {
     "name": "stdout",
     "output_type": "stream",
     "text": [
      "346/346 [==============================] - 16s 47ms/step - loss: 0.1348 - accuracy: 0.5921 - recall_1: 0.1090 - val_loss: 0.1210 - val_accuracy: 0.8368 - val_recall_1: 0.2135\n",
      "Epoch 59/80\n",
      "346/346 [==============================] - ETA: 0s - loss: 0.1347 - accuracy: 0.5907 - recall_1: 0.1120INFO:tensorflow:Assets written to: /home/paul_d/Sources/sem_math_repo/classification_formulas_multilabel/wandb/run-20230316_004351-4q2gum65/files/model-best/assets\n"
     ]
    },
    {
     "name": "stderr",
     "output_type": "stream",
     "text": [
      "INFO:tensorflow:Assets written to: /home/paul_d/Sources/sem_math_repo/classification_formulas_multilabel/wandb/run-20230316_004351-4q2gum65/files/model-best/assets\n"
     ]
    },
    {
     "name": "stdout",
     "output_type": "stream",
     "text": [
      "346/346 [==============================] - 12s 34ms/step - loss: 0.1347 - accuracy: 0.5907 - recall_1: 0.1120 - val_loss: 0.1209 - val_accuracy: 0.8380 - val_recall_1: 0.2138\n",
      "Epoch 60/80\n",
      "346/346 [==============================] - ETA: 0s - loss: 0.1347 - accuracy: 0.5927 - recall_1: 0.1110INFO:tensorflow:Assets written to: /home/paul_d/Sources/sem_math_repo/classification_formulas_multilabel/wandb/run-20230316_004351-4q2gum65/files/model-best/assets\n"
     ]
    },
    {
     "name": "stderr",
     "output_type": "stream",
     "text": [
      "INFO:tensorflow:Assets written to: /home/paul_d/Sources/sem_math_repo/classification_formulas_multilabel/wandb/run-20230316_004351-4q2gum65/files/model-best/assets\n"
     ]
    },
    {
     "name": "stdout",
     "output_type": "stream",
     "text": [
      "346/346 [==============================] - 13s 36ms/step - loss: 0.1347 - accuracy: 0.5927 - recall_1: 0.1110 - val_loss: 0.1208 - val_accuracy: 0.8380 - val_recall_1: 0.2144\n",
      "Epoch 61/80\n",
      "345/346 [============================>.] - ETA: 0s - loss: 0.1345 - accuracy: 0.5947 - recall_1: 0.1120INFO:tensorflow:Assets written to: /home/paul_d/Sources/sem_math_repo/classification_formulas_multilabel/wandb/run-20230316_004351-4q2gum65/files/model-best/assets\n"
     ]
    },
    {
     "name": "stderr",
     "output_type": "stream",
     "text": [
      "INFO:tensorflow:Assets written to: /home/paul_d/Sources/sem_math_repo/classification_formulas_multilabel/wandb/run-20230316_004351-4q2gum65/files/model-best/assets\n"
     ]
    },
    {
     "name": "stdout",
     "output_type": "stream",
     "text": [
      "346/346 [==============================] - 12s 34ms/step - loss: 0.1347 - accuracy: 0.5934 - recall_1: 0.1118 - val_loss: 0.1207 - val_accuracy: 0.8380 - val_recall_1: 0.2144\n",
      "Epoch 62/80\n",
      "346/346 [==============================] - ETA: 0s - loss: 0.1345 - accuracy: 0.5905 - recall_1: 0.1123INFO:tensorflow:Assets written to: /home/paul_d/Sources/sem_math_repo/classification_formulas_multilabel/wandb/run-20230316_004351-4q2gum65/files/model-best/assets\n"
     ]
    },
    {
     "name": "stderr",
     "output_type": "stream",
     "text": [
      "INFO:tensorflow:Assets written to: /home/paul_d/Sources/sem_math_repo/classification_formulas_multilabel/wandb/run-20230316_004351-4q2gum65/files/model-best/assets\n"
     ]
    },
    {
     "name": "stdout",
     "output_type": "stream",
     "text": [
      "346/346 [==============================] - 22s 63ms/step - loss: 0.1345 - accuracy: 0.5905 - recall_1: 0.1123 - val_loss: 0.1206 - val_accuracy: 0.8376 - val_recall_1: 0.2149\n",
      "Epoch 63/80\n",
      "345/346 [============================>.] - ETA: 0s - loss: 0.1344 - accuracy: 0.5933 - recall_1: 0.1140INFO:tensorflow:Assets written to: /home/paul_d/Sources/sem_math_repo/classification_formulas_multilabel/wandb/run-20230316_004351-4q2gum65/files/model-best/assets\n"
     ]
    },
    {
     "name": "stderr",
     "output_type": "stream",
     "text": [
      "INFO:tensorflow:Assets written to: /home/paul_d/Sources/sem_math_repo/classification_formulas_multilabel/wandb/run-20230316_004351-4q2gum65/files/model-best/assets\n"
     ]
    },
    {
     "name": "stdout",
     "output_type": "stream",
     "text": [
      "346/346 [==============================] - 12s 33ms/step - loss: 0.1345 - accuracy: 0.5925 - recall_1: 0.1138 - val_loss: 0.1206 - val_accuracy: 0.8368 - val_recall_1: 0.2153\n",
      "Epoch 64/80\n",
      "345/346 [============================>.] - ETA: 0s - loss: 0.1343 - accuracy: 0.5944 - recall_1: 0.1139INFO:tensorflow:Assets written to: /home/paul_d/Sources/sem_math_repo/classification_formulas_multilabel/wandb/run-20230316_004351-4q2gum65/files/model-best/assets\n"
     ]
    },
    {
     "name": "stderr",
     "output_type": "stream",
     "text": [
      "INFO:tensorflow:Assets written to: /home/paul_d/Sources/sem_math_repo/classification_formulas_multilabel/wandb/run-20230316_004351-4q2gum65/files/model-best/assets\n"
     ]
    },
    {
     "name": "stdout",
     "output_type": "stream",
     "text": [
      "346/346 [==============================] - 12s 34ms/step - loss: 0.1344 - accuracy: 0.5939 - recall_1: 0.1138 - val_loss: 0.1205 - val_accuracy: 0.8368 - val_recall_1: 0.2158\n",
      "Epoch 65/80\n",
      "346/346 [==============================] - ETA: 0s - loss: 0.1341 - accuracy: 0.5952 - recall_1: 0.1135INFO:tensorflow:Assets written to: /home/paul_d/Sources/sem_math_repo/classification_formulas_multilabel/wandb/run-20230316_004351-4q2gum65/files/model-best/assets\n"
     ]
    },
    {
     "name": "stderr",
     "output_type": "stream",
     "text": [
      "INFO:tensorflow:Assets written to: /home/paul_d/Sources/sem_math_repo/classification_formulas_multilabel/wandb/run-20230316_004351-4q2gum65/files/model-best/assets\n"
     ]
    },
    {
     "name": "stdout",
     "output_type": "stream",
     "text": [
      "346/346 [==============================] - 12s 33ms/step - loss: 0.1341 - accuracy: 0.5952 - recall_1: 0.1135 - val_loss: 0.1204 - val_accuracy: 0.8368 - val_recall_1: 0.2162\n",
      "Epoch 66/80\n",
      "346/346 [==============================] - ETA: 0s - loss: 0.1345 - accuracy: 0.5924 - recall_1: 0.1137INFO:tensorflow:Assets written to: /home/paul_d/Sources/sem_math_repo/classification_formulas_multilabel/wandb/run-20230316_004351-4q2gum65/files/model-best/assets\n"
     ]
    },
    {
     "name": "stderr",
     "output_type": "stream",
     "text": [
      "INFO:tensorflow:Assets written to: /home/paul_d/Sources/sem_math_repo/classification_formulas_multilabel/wandb/run-20230316_004351-4q2gum65/files/model-best/assets\n"
     ]
    },
    {
     "name": "stdout",
     "output_type": "stream",
     "text": [
      "346/346 [==============================] - 13s 36ms/step - loss: 0.1345 - accuracy: 0.5924 - recall_1: 0.1137 - val_loss: 0.1204 - val_accuracy: 0.8339 - val_recall_1: 0.2165\n",
      "Epoch 67/80\n",
      "345/346 [============================>.] - ETA: 0s - loss: 0.1341 - accuracy: 0.5971 - recall_1: 0.1140INFO:tensorflow:Assets written to: /home/paul_d/Sources/sem_math_repo/classification_formulas_multilabel/wandb/run-20230316_004351-4q2gum65/files/model-best/assets\n"
     ]
    },
    {
     "name": "stderr",
     "output_type": "stream",
     "text": [
      "INFO:tensorflow:Assets written to: /home/paul_d/Sources/sem_math_repo/classification_formulas_multilabel/wandb/run-20230316_004351-4q2gum65/files/model-best/assets\n"
     ]
    },
    {
     "name": "stdout",
     "output_type": "stream",
     "text": [
      "346/346 [==============================] - 12s 34ms/step - loss: 0.1342 - accuracy: 0.5965 - recall_1: 0.1139 - val_loss: 0.1203 - val_accuracy: 0.8339 - val_recall_1: 0.2165\n",
      "Epoch 68/80\n",
      "346/346 [==============================] - ETA: 0s - loss: 0.1342 - accuracy: 0.5957 - recall_1: 0.1143INFO:tensorflow:Assets written to: /home/paul_d/Sources/sem_math_repo/classification_formulas_multilabel/wandb/run-20230316_004351-4q2gum65/files/model-best/assets\n"
     ]
    },
    {
     "name": "stderr",
     "output_type": "stream",
     "text": [
      "INFO:tensorflow:Assets written to: /home/paul_d/Sources/sem_math_repo/classification_formulas_multilabel/wandb/run-20230316_004351-4q2gum65/files/model-best/assets\n"
     ]
    },
    {
     "name": "stdout",
     "output_type": "stream",
     "text": [
      "346/346 [==============================] - 12s 34ms/step - loss: 0.1342 - accuracy: 0.5957 - recall_1: 0.1143 - val_loss: 0.1203 - val_accuracy: 0.8339 - val_recall_1: 0.2160\n",
      "Epoch 69/80\n",
      "346/346 [==============================] - ETA: 0s - loss: 0.1341 - accuracy: 0.5953 - recall_1: 0.1163INFO:tensorflow:Assets written to: /home/paul_d/Sources/sem_math_repo/classification_formulas_multilabel/wandb/run-20230316_004351-4q2gum65/files/model-best/assets\n"
     ]
    },
    {
     "name": "stderr",
     "output_type": "stream",
     "text": [
      "INFO:tensorflow:Assets written to: /home/paul_d/Sources/sem_math_repo/classification_formulas_multilabel/wandb/run-20230316_004351-4q2gum65/files/model-best/assets\n"
     ]
    },
    {
     "name": "stdout",
     "output_type": "stream",
     "text": [
      "346/346 [==============================] - 12s 34ms/step - loss: 0.1341 - accuracy: 0.5953 - recall_1: 0.1163 - val_loss: 0.1202 - val_accuracy: 0.8339 - val_recall_1: 0.2162\n",
      "Epoch 70/80\n",
      "346/346 [==============================] - ETA: 0s - loss: 0.1341 - accuracy: 0.5955 - recall_1: 0.1178INFO:tensorflow:Assets written to: /home/paul_d/Sources/sem_math_repo/classification_formulas_multilabel/wandb/run-20230316_004351-4q2gum65/files/model-best/assets\n"
     ]
    },
    {
     "name": "stderr",
     "output_type": "stream",
     "text": [
      "INFO:tensorflow:Assets written to: /home/paul_d/Sources/sem_math_repo/classification_formulas_multilabel/wandb/run-20230316_004351-4q2gum65/files/model-best/assets\n"
     ]
    },
    {
     "name": "stdout",
     "output_type": "stream",
     "text": [
      "346/346 [==============================] - 12s 34ms/step - loss: 0.1341 - accuracy: 0.5955 - recall_1: 0.1178 - val_loss: 0.1202 - val_accuracy: 0.8363 - val_recall_1: 0.2165\n",
      "Epoch 71/80\n",
      "346/346 [==============================] - ETA: 0s - loss: 0.1340 - accuracy: 0.5964 - recall_1: 0.1163INFO:tensorflow:Assets written to: /home/paul_d/Sources/sem_math_repo/classification_formulas_multilabel/wandb/run-20230316_004351-4q2gum65/files/model-best/assets\n"
     ]
    },
    {
     "name": "stderr",
     "output_type": "stream",
     "text": [
      "INFO:tensorflow:Assets written to: /home/paul_d/Sources/sem_math_repo/classification_formulas_multilabel/wandb/run-20230316_004351-4q2gum65/files/model-best/assets\n"
     ]
    },
    {
     "name": "stdout",
     "output_type": "stream",
     "text": [
      "346/346 [==============================] - 12s 34ms/step - loss: 0.1340 - accuracy: 0.5964 - recall_1: 0.1163 - val_loss: 0.1201 - val_accuracy: 0.8363 - val_recall_1: 0.2153\n",
      "Epoch 72/80\n",
      "346/346 [==============================] - ETA: 0s - loss: 0.1339 - accuracy: 0.5966 - recall_1: 0.1162INFO:tensorflow:Assets written to: /home/paul_d/Sources/sem_math_repo/classification_formulas_multilabel/wandb/run-20230316_004351-4q2gum65/files/model-best/assets\n"
     ]
    },
    {
     "name": "stderr",
     "output_type": "stream",
     "text": [
      "INFO:tensorflow:Assets written to: /home/paul_d/Sources/sem_math_repo/classification_formulas_multilabel/wandb/run-20230316_004351-4q2gum65/files/model-best/assets\n"
     ]
    },
    {
     "name": "stdout",
     "output_type": "stream",
     "text": [
      "346/346 [==============================] - 12s 36ms/step - loss: 0.1339 - accuracy: 0.5966 - recall_1: 0.1162 - val_loss: 0.1200 - val_accuracy: 0.8396 - val_recall_1: 0.2153\n",
      "Epoch 73/80\n",
      "346/346 [==============================] - ETA: 0s - loss: 0.1339 - accuracy: 0.5953 - recall_1: 0.1172INFO:tensorflow:Assets written to: /home/paul_d/Sources/sem_math_repo/classification_formulas_multilabel/wandb/run-20230316_004351-4q2gum65/files/model-best/assets\n"
     ]
    },
    {
     "name": "stderr",
     "output_type": "stream",
     "text": [
      "INFO:tensorflow:Assets written to: /home/paul_d/Sources/sem_math_repo/classification_formulas_multilabel/wandb/run-20230316_004351-4q2gum65/files/model-best/assets\n"
     ]
    },
    {
     "name": "stdout",
     "output_type": "stream",
     "text": [
      "346/346 [==============================] - 12s 34ms/step - loss: 0.1339 - accuracy: 0.5953 - recall_1: 0.1172 - val_loss: 0.1200 - val_accuracy: 0.8363 - val_recall_1: 0.2153\n",
      "Epoch 74/80\n",
      "346/346 [==============================] - ETA: 0s - loss: 0.1339 - accuracy: 0.5959 - recall_1: 0.1176INFO:tensorflow:Assets written to: /home/paul_d/Sources/sem_math_repo/classification_formulas_multilabel/wandb/run-20230316_004351-4q2gum65/files/model-best/assets\n"
     ]
    },
    {
     "name": "stderr",
     "output_type": "stream",
     "text": [
      "INFO:tensorflow:Assets written to: /home/paul_d/Sources/sem_math_repo/classification_formulas_multilabel/wandb/run-20230316_004351-4q2gum65/files/model-best/assets\n"
     ]
    },
    {
     "name": "stdout",
     "output_type": "stream",
     "text": [
      "346/346 [==============================] - 12s 34ms/step - loss: 0.1339 - accuracy: 0.5959 - recall_1: 0.1176 - val_loss: 0.1198 - val_accuracy: 0.8396 - val_recall_1: 0.2158\n",
      "Epoch 75/80\n",
      "346/346 [==============================] - 11s 30ms/step - loss: 0.1338 - accuracy: 0.5969 - recall_1: 0.1180 - val_loss: 0.1199 - val_accuracy: 0.8351 - val_recall_1: 0.2158\n",
      "Epoch 76/80\n",
      "346/346 [==============================] - 11s 31ms/step - loss: 0.1337 - accuracy: 0.5976 - recall_1: 0.1189 - val_loss: 0.1198 - val_accuracy: 0.8331 - val_recall_1: 0.2171\n",
      "Epoch 77/80\n",
      "346/346 [==============================] - 11s 31ms/step - loss: 0.1338 - accuracy: 0.6001 - recall_1: 0.1169 - val_loss: 0.1198 - val_accuracy: 0.8331 - val_recall_1: 0.2174\n",
      "Epoch 78/80\n",
      "346/346 [==============================] - ETA: 0s - loss: 0.1336 - accuracy: 0.5979 - recall_1: 0.1195INFO:tensorflow:Assets written to: /home/paul_d/Sources/sem_math_repo/classification_formulas_multilabel/wandb/run-20230316_004351-4q2gum65/files/model-best/assets\n"
     ]
    },
    {
     "name": "stderr",
     "output_type": "stream",
     "text": [
      "INFO:tensorflow:Assets written to: /home/paul_d/Sources/sem_math_repo/classification_formulas_multilabel/wandb/run-20230316_004351-4q2gum65/files/model-best/assets\n"
     ]
    },
    {
     "name": "stdout",
     "output_type": "stream",
     "text": [
      "346/346 [==============================] - 12s 34ms/step - loss: 0.1336 - accuracy: 0.5979 - recall_1: 0.1195 - val_loss: 0.1197 - val_accuracy: 0.8331 - val_recall_1: 0.2203\n",
      "Epoch 79/80\n",
      "346/346 [==============================] - ETA: 0s - loss: 0.1336 - accuracy: 0.5977 - recall_1: 0.1201INFO:tensorflow:Assets written to: /home/paul_d/Sources/sem_math_repo/classification_formulas_multilabel/wandb/run-20230316_004351-4q2gum65/files/model-best/assets\n"
     ]
    },
    {
     "name": "stderr",
     "output_type": "stream",
     "text": [
      "INFO:tensorflow:Assets written to: /home/paul_d/Sources/sem_math_repo/classification_formulas_multilabel/wandb/run-20230316_004351-4q2gum65/files/model-best/assets\n"
     ]
    },
    {
     "name": "stdout",
     "output_type": "stream",
     "text": [
      "346/346 [==============================] - 12s 34ms/step - loss: 0.1336 - accuracy: 0.5977 - recall_1: 0.1201 - val_loss: 0.1197 - val_accuracy: 0.8331 - val_recall_1: 0.2203\n",
      "Epoch 80/80\n",
      "346/346 [==============================] - ETA: 0s - loss: 0.1336 - accuracy: 0.5976 - recall_1: 0.1197INFO:tensorflow:Assets written to: /home/paul_d/Sources/sem_math_repo/classification_formulas_multilabel/wandb/run-20230316_004351-4q2gum65/files/model-best/assets\n"
     ]
    },
    {
     "name": "stderr",
     "output_type": "stream",
     "text": [
      "INFO:tensorflow:Assets written to: /home/paul_d/Sources/sem_math_repo/classification_formulas_multilabel/wandb/run-20230316_004351-4q2gum65/files/model-best/assets\n"
     ]
    },
    {
     "name": "stdout",
     "output_type": "stream",
     "text": [
      "346/346 [==============================] - 12s 34ms/step - loss: 0.1336 - accuracy: 0.5976 - recall_1: 0.1197 - val_loss: 0.1196 - val_accuracy: 0.8339 - val_recall_1: 0.2201\n"
     ]
    }
   ],
   "source": [
    "configs_dict = {\n",
    "    \"learning_rate\": optimal_lr,\n",
    "    \"emb_dim\": optimal_emb_dims,\n",
    "    \"dp1\": dp1, \n",
    "    \"dp2\": dp2,\n",
    "    \"algorithm\": \"LogReg\",\n",
    "    \"configuration\": \"multi_all_features\",\n",
    "    \"optimizer\": \"adam\",\n",
    "    \"loss\": \"binary_crossentropy\",\n",
    "    \"epochs\": NUM_EPOCHS,\n",
    "    \"batch_size\": 64,\n",
    "    \"vectorizer\": \"int\",\n",
    "    \"dataset\": \"multi_class_unbalanced_data_TOKENIZED_V1\"\n",
    "}\n",
    "\n",
    "run = wandb.init(project=wandb_project_name, reinit=True, config=configs_dict)\n",
    "\n",
    "history = model4.fit(train_dataset4, \n",
    "                    epochs=NUM_EPOCHS,\n",
    "                    validation_data=test_dataset4,\n",
    "                    #steps_per_epoch = STEPS_PER_EPOCH,\n",
    "                    validation_steps = VAL_STEPS_PER_EPOCH,\n",
    "                    callbacks= [WandbCallback()])#[tensorboard_callback])\n",
    "run.finish()"
   ]
  },
  {
   "attachments": {},
   "cell_type": "markdown",
   "metadata": {},
   "source": [
    "#### Experiment 2: Use count vectorizer"
   ]
  },
  {
   "attachments": {},
   "cell_type": "markdown",
   "metadata": {},
   "source": [
    "##### Model 1: ONLY TOKENS\n",
    "Find best hyperparameters"
   ]
  },
  {
   "cell_type": "code",
   "execution_count": 68,
   "metadata": {},
   "outputs": [],
   "source": [
    "tokens_input_len = TOKENS_MAX_SEQ_LEN \n",
    "type_input_len = TYPE_TOKENS_MAX_SEQ_LEN\n",
    "NUM_CLASSES = 40\n",
    "\n",
    "encoder_count_tokens1 = create_encoder(\"count\", None, \"token\", train_dataset1, 1)\n",
    "model_builder1c = mc_u.create_model_builder1_LR(NUM_CLASSES, encoder_count_tokens1,tokens_input_len)"
   ]
  },
  {
   "cell_type": "code",
   "execution_count": 69,
   "metadata": {},
   "outputs": [],
   "source": [
    "tuner = kt.Hyperband(model_builder1c,\n",
    "                     objective=kt.Objective(\"val_accuracy\", direction=\"max\"),\n",
    "                     max_epochs=20,\n",
    "                     factor=3,\n",
    "                     directory='meta_dir/model1c_lr',\n",
    "                     project_name='model1c_lr')\n",
    "stop_early = tf.keras.callbacks.EarlyStopping(monitor='val_loss', patience=3)"
   ]
  },
  {
   "cell_type": "code",
   "execution_count": 70,
   "metadata": {},
   "outputs": [
    {
     "name": "stdout",
     "output_type": "stream",
     "text": [
      "Trial 30 Complete [00h 00m 26s]\n",
      "val_accuracy: 0.0\n",
      "\n",
      "Best val_accuracy So Far: 1.0\n",
      "Total elapsed time: 00h 08m 11s\n",
      "INFO:tensorflow:Oracle triggered exit\n"
     ]
    },
    {
     "name": "stderr",
     "output_type": "stream",
     "text": [
      "INFO:tensorflow:Oracle triggered exit\n"
     ]
    }
   ],
   "source": [
    "tuner.search(train_dataset1,\n",
    "             epochs=30,\n",
    "             validation_data=test_dataset1,\n",
    "             #steps_per_epoch = STEPS_PER_EPOCH,\n",
    "             validation_steps = VAL_STEPS_PER_EPOCH,\n",
    "             callbacks= [stop_early])#[tensorboard_callback])"
   ]
  },
  {
   "cell_type": "code",
   "execution_count": 71,
   "metadata": {},
   "outputs": [
    {
     "name": "stdout",
     "output_type": "stream",
     "text": [
      "0.0001\n",
      "32\n",
      "0.1\n",
      "0.3\n"
     ]
    }
   ],
   "source": [
    "best_hps=tuner.get_best_hyperparameters(num_trials=1)[0]\n",
    "optimal_lr = best_hps.get(\"learning_rate\")\n",
    "optimal_emb_dims = best_hps.get(\"emb_dims\")\n",
    "dp1 = best_hps.get(\"dropout1\")\n",
    "dp2 = best_hps.get(\"dropout2\")\n",
    "print(optimal_lr)\n",
    "print(optimal_emb_dims)\n",
    "print(dp1)\n",
    "print(dp2)"
   ]
  },
  {
   "attachments": {},
   "cell_type": "markdown",
   "metadata": {},
   "source": [
    "Train with best hyperparameters"
   ]
  },
  {
   "cell_type": "code",
   "execution_count": 72,
   "metadata": {},
   "outputs": [],
   "source": [
    "NUM_EPOCHS = 80\n",
    "model1c = mc_u.create_model1_LR(NUM_CLASSES, optimal_emb_dims, dp1, dp2, encoder_count_tokens, tokens_input_len)\n",
    "model1c.compile(loss=tf.keras.losses.BinaryCrossentropy(from_logits=True),\n",
    "              optimizer=tf.keras.optimizers.Adam(optimal_lr),\n",
    "              metrics=[\"accuracy\", tf.keras.metrics.Recall()])"
   ]
  },
  {
   "cell_type": "code",
   "execution_count": 73,
   "metadata": {},
   "outputs": [
    {
     "name": "stdout",
     "output_type": "stream",
     "text": [
      "Epoch 1/80\n",
      "335/346 [============================>.] - ETA: 0s - loss: 0.6727 - accuracy: 0.1310 - recall_1: 0.0000e+00INFO:tensorflow:Assets written to: /home/paul_d/Sources/sem_math_repo/classification_formulas_multilabel/wandb/run-20230316_010835-9xjfqfmx/files/model-best/assets\n"
     ]
    },
    {
     "name": "stderr",
     "output_type": "stream",
     "text": [
      "INFO:tensorflow:Assets written to: /home/paul_d/Sources/sem_math_repo/classification_formulas_multilabel/wandb/run-20230316_010835-9xjfqfmx/files/model-best/assets\n"
     ]
    },
    {
     "name": "stdout",
     "output_type": "stream",
     "text": [
      "346/346 [==============================] - 3s 6ms/step - loss: 0.6719 - accuracy: 0.1272 - recall_1: 0.0000e+00 - val_loss: 0.6503 - val_accuracy: 0.9359 - val_recall_1: 0.0000e+00\n",
      "Epoch 2/80\n",
      "338/346 [============================>.] - ETA: 0s - loss: 0.6112 - accuracy: 0.2841 - recall_1: 0.0000e+00INFO:tensorflow:Assets written to: /home/paul_d/Sources/sem_math_repo/classification_formulas_multilabel/wandb/run-20230316_010835-9xjfqfmx/files/model-best/assets\n"
     ]
    },
    {
     "name": "stderr",
     "output_type": "stream",
     "text": [
      "INFO:tensorflow:Assets written to: /home/paul_d/Sources/sem_math_repo/classification_formulas_multilabel/wandb/run-20230316_010835-9xjfqfmx/files/model-best/assets\n"
     ]
    },
    {
     "name": "stdout",
     "output_type": "stream",
     "text": [
      "346/346 [==============================] - 2s 6ms/step - loss: 0.6103 - accuracy: 0.2778 - recall_1: 0.0000e+00 - val_loss: 0.5744 - val_accuracy: 1.0000 - val_recall_1: 0.0000e+00\n",
      "Epoch 3/80\n",
      "338/346 [============================>.] - ETA: 0s - loss: 0.5198 - accuracy: 0.3466 - recall_1: 0.0000e+00INFO:tensorflow:Assets written to: /home/paul_d/Sources/sem_math_repo/classification_formulas_multilabel/wandb/run-20230316_010835-9xjfqfmx/files/model-best/assets\n"
     ]
    },
    {
     "name": "stderr",
     "output_type": "stream",
     "text": [
      "INFO:tensorflow:Assets written to: /home/paul_d/Sources/sem_math_repo/classification_formulas_multilabel/wandb/run-20230316_010835-9xjfqfmx/files/model-best/assets\n"
     ]
    },
    {
     "name": "stdout",
     "output_type": "stream",
     "text": [
      "346/346 [==============================] - 2s 6ms/step - loss: 0.5188 - accuracy: 0.3392 - recall_1: 0.0000e+00 - val_loss: 0.4775 - val_accuracy: 1.0000 - val_recall_1: 0.0000e+00\n",
      "Epoch 4/80\n",
      "334/346 [===========================>..] - ETA: 0s - loss: 0.4214 - accuracy: 0.3632 - recall_1: 0.0000e+00INFO:tensorflow:Assets written to: /home/paul_d/Sources/sem_math_repo/classification_formulas_multilabel/wandb/run-20230316_010835-9xjfqfmx/files/model-best/assets\n"
     ]
    },
    {
     "name": "stderr",
     "output_type": "stream",
     "text": [
      "INFO:tensorflow:Assets written to: /home/paul_d/Sources/sem_math_repo/classification_formulas_multilabel/wandb/run-20230316_010835-9xjfqfmx/files/model-best/assets\n"
     ]
    },
    {
     "name": "stdout",
     "output_type": "stream",
     "text": [
      "346/346 [==============================] - 2s 6ms/step - loss: 0.4201 - accuracy: 0.3515 - recall_1: 0.0000e+00 - val_loss: 0.3828 - val_accuracy: 1.0000 - val_recall_1: 0.0000e+00\n",
      "Epoch 5/80\n",
      "340/346 [============================>.] - ETA: 0s - loss: 0.3354 - accuracy: 0.3611 - recall_1: 0.0000e+00INFO:tensorflow:Assets written to: /home/paul_d/Sources/sem_math_repo/classification_formulas_multilabel/wandb/run-20230316_010835-9xjfqfmx/files/model-best/assets\n"
     ]
    },
    {
     "name": "stderr",
     "output_type": "stream",
     "text": [
      "INFO:tensorflow:Assets written to: /home/paul_d/Sources/sem_math_repo/classification_formulas_multilabel/wandb/run-20230316_010835-9xjfqfmx/files/model-best/assets\n"
     ]
    },
    {
     "name": "stdout",
     "output_type": "stream",
     "text": [
      "346/346 [==============================] - 2s 6ms/step - loss: 0.3351 - accuracy: 0.3556 - recall_1: 0.0000e+00 - val_loss: 0.3062 - val_accuracy: 1.0000 - val_recall_1: 0.0000e+00\n",
      "Epoch 6/80\n",
      "332/346 [===========================>..] - ETA: 0s - loss: 0.2734 - accuracy: 0.3726 - recall_1: 0.0000e+00INFO:tensorflow:Assets written to: /home/paul_d/Sources/sem_math_repo/classification_formulas_multilabel/wandb/run-20230316_010835-9xjfqfmx/files/model-best/assets\n"
     ]
    },
    {
     "name": "stderr",
     "output_type": "stream",
     "text": [
      "INFO:tensorflow:Assets written to: /home/paul_d/Sources/sem_math_repo/classification_formulas_multilabel/wandb/run-20230316_010835-9xjfqfmx/files/model-best/assets\n"
     ]
    },
    {
     "name": "stdout",
     "output_type": "stream",
     "text": [
      "346/346 [==============================] - 2s 6ms/step - loss: 0.2730 - accuracy: 0.3593 - recall_1: 0.0000e+00 - val_loss: 0.2506 - val_accuracy: 1.0000 - val_recall_1: 0.0000e+00\n",
      "Epoch 7/80\n",
      "333/346 [===========================>..] - ETA: 0s - loss: 0.2302 - accuracy: 0.3753 - recall_1: 0.0000e+00INFO:tensorflow:Assets written to: /home/paul_d/Sources/sem_math_repo/classification_formulas_multilabel/wandb/run-20230316_010835-9xjfqfmx/files/model-best/assets\n"
     ]
    },
    {
     "name": "stderr",
     "output_type": "stream",
     "text": [
      "INFO:tensorflow:Assets written to: /home/paul_d/Sources/sem_math_repo/classification_formulas_multilabel/wandb/run-20230316_010835-9xjfqfmx/files/model-best/assets\n"
     ]
    },
    {
     "name": "stdout",
     "output_type": "stream",
     "text": [
      "346/346 [==============================] - 2s 6ms/step - loss: 0.2303 - accuracy: 0.3631 - recall_1: 0.0000e+00 - val_loss: 0.2125 - val_accuracy: 0.9901 - val_recall_1: 0.0000e+00\n",
      "Epoch 8/80\n",
      "331/346 [===========================>..] - ETA: 0s - loss: 0.2022 - accuracy: 0.3802 - recall_1: 0.0000e+00INFO:tensorflow:Assets written to: /home/paul_d/Sources/sem_math_repo/classification_formulas_multilabel/wandb/run-20230316_010835-9xjfqfmx/files/model-best/assets\n"
     ]
    },
    {
     "name": "stderr",
     "output_type": "stream",
     "text": [
      "INFO:tensorflow:Assets written to: /home/paul_d/Sources/sem_math_repo/classification_formulas_multilabel/wandb/run-20230316_010835-9xjfqfmx/files/model-best/assets\n"
     ]
    },
    {
     "name": "stdout",
     "output_type": "stream",
     "text": [
      "346/346 [==============================] - 3s 8ms/step - loss: 0.2026 - accuracy: 0.3668 - recall_1: 0.0000e+00 - val_loss: 0.1869 - val_accuracy: 0.9901 - val_recall_1: 0.0000e+00\n",
      "Epoch 9/80\n",
      "333/346 [===========================>..] - ETA: 0s - loss: 0.1839 - accuracy: 0.3785 - recall_1: 0.0000e+00INFO:tensorflow:Assets written to: /home/paul_d/Sources/sem_math_repo/classification_formulas_multilabel/wandb/run-20230316_010835-9xjfqfmx/files/model-best/assets\n"
     ]
    },
    {
     "name": "stderr",
     "output_type": "stream",
     "text": [
      "INFO:tensorflow:Assets written to: /home/paul_d/Sources/sem_math_repo/classification_formulas_multilabel/wandb/run-20230316_010835-9xjfqfmx/files/model-best/assets\n"
     ]
    },
    {
     "name": "stdout",
     "output_type": "stream",
     "text": [
      "346/346 [==============================] - 2s 6ms/step - loss: 0.1844 - accuracy: 0.3674 - recall_1: 0.0000e+00 - val_loss: 0.1698 - val_accuracy: 0.9901 - val_recall_1: 0.0000e+00\n",
      "Epoch 10/80\n",
      "332/346 [===========================>..] - ETA: 0s - loss: 0.1724 - accuracy: 0.3820 - recall_1: 0.0000e+00INFO:tensorflow:Assets written to: /home/paul_d/Sources/sem_math_repo/classification_formulas_multilabel/wandb/run-20230316_010835-9xjfqfmx/files/model-best/assets\n"
     ]
    },
    {
     "name": "stderr",
     "output_type": "stream",
     "text": [
      "INFO:tensorflow:Assets written to: /home/paul_d/Sources/sem_math_repo/classification_formulas_multilabel/wandb/run-20230316_010835-9xjfqfmx/files/model-best/assets\n"
     ]
    },
    {
     "name": "stdout",
     "output_type": "stream",
     "text": [
      "346/346 [==============================] - 2s 6ms/step - loss: 0.1730 - accuracy: 0.3703 - recall_1: 0.0000e+00 - val_loss: 0.1584 - val_accuracy: 0.8734 - val_recall_1: 0.0000e+00\n",
      "Epoch 11/80\n",
      "338/346 [============================>.] - ETA: 0s - loss: 0.1651 - accuracy: 0.3853 - recall_1: 0.0000e+00INFO:tensorflow:Assets written to: /home/paul_d/Sources/sem_math_repo/classification_formulas_multilabel/wandb/run-20230316_010835-9xjfqfmx/files/model-best/assets\n"
     ]
    },
    {
     "name": "stderr",
     "output_type": "stream",
     "text": [
      "INFO:tensorflow:Assets written to: /home/paul_d/Sources/sem_math_repo/classification_formulas_multilabel/wandb/run-20230316_010835-9xjfqfmx/files/model-best/assets\n"
     ]
    },
    {
     "name": "stdout",
     "output_type": "stream",
     "text": [
      "346/346 [==============================] - 2s 6ms/step - loss: 0.1655 - accuracy: 0.3787 - recall_1: 0.0000e+00 - val_loss: 0.1505 - val_accuracy: 0.8734 - val_recall_1: 0.0000e+00\n",
      "Epoch 12/80\n",
      "340/346 [============================>.] - ETA: 0s - loss: 0.1605 - accuracy: 0.3867 - recall_1: 0.0000e+00INFO:tensorflow:Assets written to: /home/paul_d/Sources/sem_math_repo/classification_formulas_multilabel/wandb/run-20230316_010835-9xjfqfmx/files/model-best/assets\n"
     ]
    },
    {
     "name": "stderr",
     "output_type": "stream",
     "text": [
      "INFO:tensorflow:Assets written to: /home/paul_d/Sources/sem_math_repo/classification_formulas_multilabel/wandb/run-20230316_010835-9xjfqfmx/files/model-best/assets\n"
     ]
    },
    {
     "name": "stdout",
     "output_type": "stream",
     "text": [
      "346/346 [==============================] - 2s 6ms/step - loss: 0.1608 - accuracy: 0.3824 - recall_1: 0.0000e+00 - val_loss: 0.1455 - val_accuracy: 0.8030 - val_recall_1: 0.0000e+00\n",
      "Epoch 13/80\n",
      "336/346 [============================>.] - ETA: 0s - loss: 0.1570 - accuracy: 0.3873 - recall_1: 0.0000e+00INFO:tensorflow:Assets written to: /home/paul_d/Sources/sem_math_repo/classification_formulas_multilabel/wandb/run-20230316_010835-9xjfqfmx/files/model-best/assets\n"
     ]
    },
    {
     "name": "stderr",
     "output_type": "stream",
     "text": [
      "INFO:tensorflow:Assets written to: /home/paul_d/Sources/sem_math_repo/classification_formulas_multilabel/wandb/run-20230316_010835-9xjfqfmx/files/model-best/assets\n"
     ]
    },
    {
     "name": "stdout",
     "output_type": "stream",
     "text": [
      "346/346 [==============================] - 2s 6ms/step - loss: 0.1577 - accuracy: 0.3798 - recall_1: 0.0000e+00 - val_loss: 0.1422 - val_accuracy: 0.8030 - val_recall_1: 0.0000e+00\n",
      "Epoch 14/80\n",
      "335/346 [============================>.] - ETA: 0s - loss: 0.1549 - accuracy: 0.3928 - recall_1: 0.0000e+00INFO:tensorflow:Assets written to: /home/paul_d/Sources/sem_math_repo/classification_formulas_multilabel/wandb/run-20230316_010835-9xjfqfmx/files/model-best/assets\n"
     ]
    },
    {
     "name": "stderr",
     "output_type": "stream",
     "text": [
      "INFO:tensorflow:Assets written to: /home/paul_d/Sources/sem_math_repo/classification_formulas_multilabel/wandb/run-20230316_010835-9xjfqfmx/files/model-best/assets\n"
     ]
    },
    {
     "name": "stdout",
     "output_type": "stream",
     "text": [
      "346/346 [==============================] - 2s 6ms/step - loss: 0.1557 - accuracy: 0.3842 - recall_1: 0.0000e+00 - val_loss: 0.1400 - val_accuracy: 0.8030 - val_recall_1: 0.0000e+00\n",
      "Epoch 15/80\n",
      "334/346 [===========================>..] - ETA: 0s - loss: 0.1538 - accuracy: 0.3935 - recall_1: 0.0000e+00INFO:tensorflow:Assets written to: /home/paul_d/Sources/sem_math_repo/classification_formulas_multilabel/wandb/run-20230316_010835-9xjfqfmx/files/model-best/assets\n"
     ]
    },
    {
     "name": "stderr",
     "output_type": "stream",
     "text": [
      "INFO:tensorflow:Assets written to: /home/paul_d/Sources/sem_math_repo/classification_formulas_multilabel/wandb/run-20230316_010835-9xjfqfmx/files/model-best/assets\n"
     ]
    },
    {
     "name": "stdout",
     "output_type": "stream",
     "text": [
      "346/346 [==============================] - 2s 6ms/step - loss: 0.1547 - accuracy: 0.3839 - recall_1: 0.0000e+00 - val_loss: 0.1386 - val_accuracy: 0.8030 - val_recall_1: 0.0000e+00\n",
      "Epoch 16/80\n",
      "339/346 [============================>.] - ETA: 0s - loss: 0.1531 - accuracy: 0.3915 - recall_1: 0.0000e+00INFO:tensorflow:Assets written to: /home/paul_d/Sources/sem_math_repo/classification_formulas_multilabel/wandb/run-20230316_010835-9xjfqfmx/files/model-best/assets\n"
     ]
    },
    {
     "name": "stderr",
     "output_type": "stream",
     "text": [
      "INFO:tensorflow:Assets written to: /home/paul_d/Sources/sem_math_repo/classification_formulas_multilabel/wandb/run-20230316_010835-9xjfqfmx/files/model-best/assets\n"
     ]
    },
    {
     "name": "stdout",
     "output_type": "stream",
     "text": [
      "346/346 [==============================] - 3s 8ms/step - loss: 0.1535 - accuracy: 0.3859 - recall_1: 0.0000e+00 - val_loss: 0.1378 - val_accuracy: 0.8030 - val_recall_1: 0.0000e+00\n",
      "Epoch 17/80\n",
      "333/346 [===========================>..] - ETA: 0s - loss: 0.1522 - accuracy: 0.3977 - recall_1: 0.0000e+00INFO:tensorflow:Assets written to: /home/paul_d/Sources/sem_math_repo/classification_formulas_multilabel/wandb/run-20230316_010835-9xjfqfmx/files/model-best/assets\n"
     ]
    },
    {
     "name": "stderr",
     "output_type": "stream",
     "text": [
      "INFO:tensorflow:Assets written to: /home/paul_d/Sources/sem_math_repo/classification_formulas_multilabel/wandb/run-20230316_010835-9xjfqfmx/files/model-best/assets\n"
     ]
    },
    {
     "name": "stdout",
     "output_type": "stream",
     "text": [
      "346/346 [==============================] - 2s 6ms/step - loss: 0.1532 - accuracy: 0.3877 - recall_1: 0.0000e+00 - val_loss: 0.1373 - val_accuracy: 0.8030 - val_recall_1: 0.0000e+00\n",
      "Epoch 18/80\n",
      "344/346 [============================>.] - ETA: 0s - loss: 0.1525 - accuracy: 0.3885 - recall_1: 0.0000e+00INFO:tensorflow:Assets written to: /home/paul_d/Sources/sem_math_repo/classification_formulas_multilabel/wandb/run-20230316_010835-9xjfqfmx/files/model-best/assets\n"
     ]
    },
    {
     "name": "stderr",
     "output_type": "stream",
     "text": [
      "INFO:tensorflow:Assets written to: /home/paul_d/Sources/sem_math_repo/classification_formulas_multilabel/wandb/run-20230316_010835-9xjfqfmx/files/model-best/assets\n"
     ]
    },
    {
     "name": "stdout",
     "output_type": "stream",
     "text": [
      "346/346 [==============================] - 2s 6ms/step - loss: 0.1525 - accuracy: 0.3872 - recall_1: 0.0000e+00 - val_loss: 0.1370 - val_accuracy: 0.8030 - val_recall_1: 0.0000e+00\n",
      "Epoch 19/80\n",
      "337/346 [============================>.] - ETA: 0s - loss: 0.1519 - accuracy: 0.3953 - recall_1: 0.0000e+00INFO:tensorflow:Assets written to: /home/paul_d/Sources/sem_math_repo/classification_formulas_multilabel/wandb/run-20230316_010835-9xjfqfmx/files/model-best/assets\n"
     ]
    },
    {
     "name": "stderr",
     "output_type": "stream",
     "text": [
      "INFO:tensorflow:Assets written to: /home/paul_d/Sources/sem_math_repo/classification_formulas_multilabel/wandb/run-20230316_010835-9xjfqfmx/files/model-best/assets\n"
     ]
    },
    {
     "name": "stdout",
     "output_type": "stream",
     "text": [
      "346/346 [==============================] - 2s 6ms/step - loss: 0.1525 - accuracy: 0.3886 - recall_1: 0.0000e+00 - val_loss: 0.1368 - val_accuracy: 0.8030 - val_recall_1: 0.0000e+00\n",
      "Epoch 20/80\n",
      "334/346 [===========================>..] - ETA: 0s - loss: 0.1513 - accuracy: 0.4020 - recall_1: 0.0000e+00INFO:tensorflow:Assets written to: /home/paul_d/Sources/sem_math_repo/classification_formulas_multilabel/wandb/run-20230316_010835-9xjfqfmx/files/model-best/assets\n"
     ]
    },
    {
     "name": "stderr",
     "output_type": "stream",
     "text": [
      "INFO:tensorflow:Assets written to: /home/paul_d/Sources/sem_math_repo/classification_formulas_multilabel/wandb/run-20230316_010835-9xjfqfmx/files/model-best/assets\n"
     ]
    },
    {
     "name": "stdout",
     "output_type": "stream",
     "text": [
      "346/346 [==============================] - 2s 6ms/step - loss: 0.1522 - accuracy: 0.3925 - recall_1: 0.0000e+00 - val_loss: 0.1367 - val_accuracy: 0.8030 - val_recall_1: 0.0000e+00\n",
      "Epoch 21/80\n",
      "336/346 [============================>.] - ETA: 0s - loss: 0.1514 - accuracy: 0.3989 - recall_1: 0.0000e+00INFO:tensorflow:Assets written to: /home/paul_d/Sources/sem_math_repo/classification_formulas_multilabel/wandb/run-20230316_010835-9xjfqfmx/files/model-best/assets\n"
     ]
    },
    {
     "name": "stderr",
     "output_type": "stream",
     "text": [
      "INFO:tensorflow:Assets written to: /home/paul_d/Sources/sem_math_repo/classification_formulas_multilabel/wandb/run-20230316_010835-9xjfqfmx/files/model-best/assets\n"
     ]
    },
    {
     "name": "stdout",
     "output_type": "stream",
     "text": [
      "346/346 [==============================] - 2s 6ms/step - loss: 0.1520 - accuracy: 0.3909 - recall_1: 0.0000e+00 - val_loss: 0.1367 - val_accuracy: 0.8030 - val_recall_1: 0.0000e+00\n",
      "Epoch 22/80\n",
      "336/346 [============================>.] - ETA: 0s - loss: 0.1511 - accuracy: 0.4028 - recall_1: 0.0000e+00INFO:tensorflow:Assets written to: /home/paul_d/Sources/sem_math_repo/classification_formulas_multilabel/wandb/run-20230316_010835-9xjfqfmx/files/model-best/assets\n"
     ]
    },
    {
     "name": "stderr",
     "output_type": "stream",
     "text": [
      "INFO:tensorflow:Assets written to: /home/paul_d/Sources/sem_math_repo/classification_formulas_multilabel/wandb/run-20230316_010835-9xjfqfmx/files/model-best/assets\n"
     ]
    },
    {
     "name": "stdout",
     "output_type": "stream",
     "text": [
      "346/346 [==============================] - 2s 6ms/step - loss: 0.1517 - accuracy: 0.3947 - recall_1: 0.0000e+00 - val_loss: 0.1367 - val_accuracy: 0.8030 - val_recall_1: 0.0000e+00\n",
      "Epoch 23/80\n",
      "346/346 [==============================] - 1s 4ms/step - loss: 0.1516 - accuracy: 0.3956 - recall_1: 0.0000e+00 - val_loss: 0.1367 - val_accuracy: 0.8030 - val_recall_1: 0.0000e+00\n",
      "Epoch 24/80\n",
      "346/346 [==============================] - 1s 4ms/step - loss: 0.1517 - accuracy: 0.3934 - recall_1: 0.0000e+00 - val_loss: 0.1367 - val_accuracy: 0.8030 - val_recall_1: 0.0000e+00\n",
      "Epoch 25/80\n",
      "346/346 [==============================] - 1s 3ms/step - loss: 0.1516 - accuracy: 0.3958 - recall_1: 0.0000e+00 - val_loss: 0.1367 - val_accuracy: 0.8030 - val_recall_1: 0.0000e+00\n",
      "Epoch 26/80\n",
      "346/346 [==============================] - 1s 4ms/step - loss: 0.1514 - accuracy: 0.3967 - recall_1: 0.0000e+00 - val_loss: 0.1367 - val_accuracy: 0.8030 - val_recall_1: 0.0000e+00\n",
      "Epoch 27/80\n",
      "346/346 [==============================] - 1s 4ms/step - loss: 0.1512 - accuracy: 0.3946 - recall_1: 0.0000e+00 - val_loss: 0.1367 - val_accuracy: 0.8030 - val_recall_1: 0.0000e+00\n",
      "Epoch 28/80\n",
      "331/346 [===========================>..] - ETA: 0s - loss: 0.1503 - accuracy: 0.4118 - recall_1: 0.0000e+00INFO:tensorflow:Assets written to: /home/paul_d/Sources/sem_math_repo/classification_formulas_multilabel/wandb/run-20230316_010835-9xjfqfmx/files/model-best/assets\n"
     ]
    },
    {
     "name": "stderr",
     "output_type": "stream",
     "text": [
      "INFO:tensorflow:Assets written to: /home/paul_d/Sources/sem_math_repo/classification_formulas_multilabel/wandb/run-20230316_010835-9xjfqfmx/files/model-best/assets\n"
     ]
    },
    {
     "name": "stdout",
     "output_type": "stream",
     "text": [
      "346/346 [==============================] - 2s 6ms/step - loss: 0.1513 - accuracy: 0.4002 - recall_1: 0.0000e+00 - val_loss: 0.1366 - val_accuracy: 0.8030 - val_recall_1: 0.0000e+00\n",
      "Epoch 29/80\n",
      "346/346 [==============================] - ETA: 0s - loss: 0.1513 - accuracy: 0.4007 - recall_1: 0.0000e+00INFO:tensorflow:Assets written to: /home/paul_d/Sources/sem_math_repo/classification_formulas_multilabel/wandb/run-20230316_010835-9xjfqfmx/files/model-best/assets\n"
     ]
    },
    {
     "name": "stderr",
     "output_type": "stream",
     "text": [
      "INFO:tensorflow:Assets written to: /home/paul_d/Sources/sem_math_repo/classification_formulas_multilabel/wandb/run-20230316_010835-9xjfqfmx/files/model-best/assets\n"
     ]
    },
    {
     "name": "stdout",
     "output_type": "stream",
     "text": [
      "346/346 [==============================] - 3s 8ms/step - loss: 0.1513 - accuracy: 0.4007 - recall_1: 0.0000e+00 - val_loss: 0.1366 - val_accuracy: 0.8030 - val_recall_1: 0.0000e+00\n",
      "Epoch 30/80\n",
      "346/346 [==============================] - ETA: 0s - loss: 0.1510 - accuracy: 0.4007 - recall_1: 0.0000e+00INFO:tensorflow:Assets written to: /home/paul_d/Sources/sem_math_repo/classification_formulas_multilabel/wandb/run-20230316_010835-9xjfqfmx/files/model-best/assets\n"
     ]
    },
    {
     "name": "stderr",
     "output_type": "stream",
     "text": [
      "INFO:tensorflow:Assets written to: /home/paul_d/Sources/sem_math_repo/classification_formulas_multilabel/wandb/run-20230316_010835-9xjfqfmx/files/model-best/assets\n"
     ]
    },
    {
     "name": "stdout",
     "output_type": "stream",
     "text": [
      "346/346 [==============================] - 2s 6ms/step - loss: 0.1510 - accuracy: 0.4007 - recall_1: 0.0000e+00 - val_loss: 0.1366 - val_accuracy: 0.8030 - val_recall_1: 0.0000e+00\n",
      "Epoch 31/80\n",
      "346/346 [==============================] - 1s 3ms/step - loss: 0.1509 - accuracy: 0.4044 - recall_1: 4.8196e-05 - val_loss: 0.1366 - val_accuracy: 0.8030 - val_recall_1: 0.0000e+00\n",
      "Epoch 32/80\n",
      "334/346 [===========================>..] - ETA: 0s - loss: 0.1501 - accuracy: 0.4154 - recall_1: 4.9908e-05INFO:tensorflow:Assets written to: /home/paul_d/Sources/sem_math_repo/classification_formulas_multilabel/wandb/run-20230316_010835-9xjfqfmx/files/model-best/assets\n"
     ]
    },
    {
     "name": "stderr",
     "output_type": "stream",
     "text": [
      "INFO:tensorflow:Assets written to: /home/paul_d/Sources/sem_math_repo/classification_formulas_multilabel/wandb/run-20230316_010835-9xjfqfmx/files/model-best/assets\n"
     ]
    },
    {
     "name": "stdout",
     "output_type": "stream",
     "text": [
      "346/346 [==============================] - 2s 6ms/step - loss: 0.1509 - accuracy: 0.4066 - recall_1: 4.8195e-05 - val_loss: 0.1366 - val_accuracy: 0.8030 - val_recall_1: 0.0000e+00\n",
      "Epoch 33/80\n",
      "341/346 [============================>.] - ETA: 0s - loss: 0.1506 - accuracy: 0.4103 - recall_1: 4.8911e-05INFO:tensorflow:Assets written to: /home/paul_d/Sources/sem_math_repo/classification_formulas_multilabel/wandb/run-20230316_010835-9xjfqfmx/files/model-best/assets\n"
     ]
    },
    {
     "name": "stderr",
     "output_type": "stream",
     "text": [
      "INFO:tensorflow:Assets written to: /home/paul_d/Sources/sem_math_repo/classification_formulas_multilabel/wandb/run-20230316_010835-9xjfqfmx/files/model-best/assets\n"
     ]
    },
    {
     "name": "stdout",
     "output_type": "stream",
     "text": [
      "346/346 [==============================] - 2s 6ms/step - loss: 0.1509 - accuracy: 0.4065 - recall_1: 4.8204e-05 - val_loss: 0.1365 - val_accuracy: 0.8030 - val_recall_1: 0.0000e+00\n",
      "Epoch 34/80\n",
      "340/346 [============================>.] - ETA: 0s - loss: 0.1505 - accuracy: 0.4097 - recall_1: 1.4717e-04INFO:tensorflow:Assets written to: /home/paul_d/Sources/sem_math_repo/classification_formulas_multilabel/wandb/run-20230316_010835-9xjfqfmx/files/model-best/assets\n"
     ]
    },
    {
     "name": "stderr",
     "output_type": "stream",
     "text": [
      "INFO:tensorflow:Assets written to: /home/paul_d/Sources/sem_math_repo/classification_formulas_multilabel/wandb/run-20230316_010835-9xjfqfmx/files/model-best/assets\n"
     ]
    },
    {
     "name": "stdout",
     "output_type": "stream",
     "text": [
      "346/346 [==============================] - 2s 6ms/step - loss: 0.1509 - accuracy: 0.4056 - recall_1: 1.4457e-04 - val_loss: 0.1365 - val_accuracy: 0.8030 - val_recall_1: 0.0000e+00\n",
      "Epoch 35/80\n",
      "344/346 [============================>.] - ETA: 0s - loss: 0.1508 - accuracy: 0.4072 - recall_1: 4.8467e-05INFO:tensorflow:Assets written to: /home/paul_d/Sources/sem_math_repo/classification_formulas_multilabel/wandb/run-20230316_010835-9xjfqfmx/files/model-best/assets\n"
     ]
    },
    {
     "name": "stderr",
     "output_type": "stream",
     "text": [
      "INFO:tensorflow:Assets written to: /home/paul_d/Sources/sem_math_repo/classification_formulas_multilabel/wandb/run-20230316_010835-9xjfqfmx/files/model-best/assets\n"
     ]
    },
    {
     "name": "stdout",
     "output_type": "stream",
     "text": [
      "346/346 [==============================] - 2s 6ms/step - loss: 0.1509 - accuracy: 0.4057 - recall_1: 4.8187e-05 - val_loss: 0.1365 - val_accuracy: 0.8030 - val_recall_1: 0.0000e+00\n",
      "Epoch 36/80\n",
      "344/346 [============================>.] - ETA: 0s - loss: 0.1506 - accuracy: 0.4104 - recall_1: 9.6941e-05INFO:tensorflow:Assets written to: /home/paul_d/Sources/sem_math_repo/classification_formulas_multilabel/wandb/run-20230316_010835-9xjfqfmx/files/model-best/assets\n"
     ]
    },
    {
     "name": "stderr",
     "output_type": "stream",
     "text": [
      "INFO:tensorflow:Assets written to: /home/paul_d/Sources/sem_math_repo/classification_formulas_multilabel/wandb/run-20230316_010835-9xjfqfmx/files/model-best/assets\n"
     ]
    },
    {
     "name": "stdout",
     "output_type": "stream",
     "text": [
      "346/346 [==============================] - 2s 6ms/step - loss: 0.1507 - accuracy: 0.4089 - recall_1: 9.6390e-05 - val_loss: 0.1365 - val_accuracy: 0.8030 - val_recall_1: 0.0000e+00\n",
      "Epoch 37/80\n",
      "341/346 [============================>.] - ETA: 0s - loss: 0.1502 - accuracy: 0.4134 - recall_1: 1.7117e-04INFO:tensorflow:Assets written to: /home/paul_d/Sources/sem_math_repo/classification_formulas_multilabel/wandb/run-20230316_010835-9xjfqfmx/files/model-best/assets\n"
     ]
    },
    {
     "name": "stderr",
     "output_type": "stream",
     "text": [
      "INFO:tensorflow:Assets written to: /home/paul_d/Sources/sem_math_repo/classification_formulas_multilabel/wandb/run-20230316_010835-9xjfqfmx/files/model-best/assets\n"
     ]
    },
    {
     "name": "stdout",
     "output_type": "stream",
     "text": [
      "346/346 [==============================] - 2s 6ms/step - loss: 0.1506 - accuracy: 0.4096 - recall_1: 1.6870e-04 - val_loss: 0.1364 - val_accuracy: 0.8030 - val_recall_1: 0.0000e+00\n",
      "Epoch 38/80\n",
      "339/346 [============================>.] - ETA: 0s - loss: 0.1500 - accuracy: 0.4151 - recall_1: 2.7044e-04INFO:tensorflow:Assets written to: /home/paul_d/Sources/sem_math_repo/classification_formulas_multilabel/wandb/run-20230316_010835-9xjfqfmx/files/model-best/assets\n"
     ]
    },
    {
     "name": "stderr",
     "output_type": "stream",
     "text": [
      "INFO:tensorflow:Assets written to: /home/paul_d/Sources/sem_math_repo/classification_formulas_multilabel/wandb/run-20230316_010835-9xjfqfmx/files/model-best/assets\n"
     ]
    },
    {
     "name": "stdout",
     "output_type": "stream",
     "text": [
      "346/346 [==============================] - 2s 6ms/step - loss: 0.1504 - accuracy: 0.4100 - recall_1: 2.6507e-04 - val_loss: 0.1364 - val_accuracy: 0.8030 - val_recall_1: 0.0000e+00\n",
      "Epoch 39/80\n",
      "345/346 [============================>.] - ETA: 0s - loss: 0.1505 - accuracy: 0.4055 - recall_1: 3.3826e-04INFO:tensorflow:Assets written to: /home/paul_d/Sources/sem_math_repo/classification_formulas_multilabel/wandb/run-20230316_010835-9xjfqfmx/files/model-best/assets\n"
     ]
    },
    {
     "name": "stderr",
     "output_type": "stream",
     "text": [
      "INFO:tensorflow:Assets written to: /home/paul_d/Sources/sem_math_repo/classification_formulas_multilabel/wandb/run-20230316_010835-9xjfqfmx/files/model-best/assets\n"
     ]
    },
    {
     "name": "stdout",
     "output_type": "stream",
     "text": [
      "346/346 [==============================] - 3s 8ms/step - loss: 0.1505 - accuracy: 0.4046 - recall_1: 3.3737e-04 - val_loss: 0.1362 - val_accuracy: 0.8030 - val_recall_1: 0.0000e+00\n",
      "Epoch 40/80\n",
      "338/346 [============================>.] - ETA: 0s - loss: 0.1498 - accuracy: 0.4157 - recall_1: 4.4402e-04INFO:tensorflow:Assets written to: /home/paul_d/Sources/sem_math_repo/classification_formulas_multilabel/wandb/run-20230316_010835-9xjfqfmx/files/model-best/assets\n"
     ]
    },
    {
     "name": "stderr",
     "output_type": "stream",
     "text": [
      "INFO:tensorflow:Assets written to: /home/paul_d/Sources/sem_math_repo/classification_formulas_multilabel/wandb/run-20230316_010835-9xjfqfmx/files/model-best/assets\n"
     ]
    },
    {
     "name": "stdout",
     "output_type": "stream",
     "text": [
      "346/346 [==============================] - 2s 6ms/step - loss: 0.1503 - accuracy: 0.4097 - recall_1: 4.3375e-04 - val_loss: 0.1362 - val_accuracy: 0.8030 - val_recall_1: 0.0000e+00\n",
      "Epoch 41/80\n",
      "333/346 [===========================>..] - ETA: 0s - loss: 0.1494 - accuracy: 0.4242 - recall_1: 3.5058e-04INFO:tensorflow:Assets written to: /home/paul_d/Sources/sem_math_repo/classification_formulas_multilabel/wandb/run-20230316_010835-9xjfqfmx/files/model-best/assets\n"
     ]
    },
    {
     "name": "stderr",
     "output_type": "stream",
     "text": [
      "INFO:tensorflow:Assets written to: /home/paul_d/Sources/sem_math_repo/classification_formulas_multilabel/wandb/run-20230316_010835-9xjfqfmx/files/model-best/assets\n"
     ]
    },
    {
     "name": "stdout",
     "output_type": "stream",
     "text": [
      "346/346 [==============================] - 2s 6ms/step - loss: 0.1503 - accuracy: 0.4143 - recall_1: 3.3737e-04 - val_loss: 0.1362 - val_accuracy: 0.8030 - val_recall_1: 0.0000e+00\n",
      "Epoch 42/80\n",
      "338/346 [============================>.] - ETA: 0s - loss: 0.1497 - accuracy: 0.4207 - recall_1: 5.1817e-04INFO:tensorflow:Assets written to: /home/paul_d/Sources/sem_math_repo/classification_formulas_multilabel/wandb/run-20230316_010835-9xjfqfmx/files/model-best/assets\n"
     ]
    },
    {
     "name": "stderr",
     "output_type": "stream",
     "text": [
      "INFO:tensorflow:Assets written to: /home/paul_d/Sources/sem_math_repo/classification_formulas_multilabel/wandb/run-20230316_010835-9xjfqfmx/files/model-best/assets\n"
     ]
    },
    {
     "name": "stdout",
     "output_type": "stream",
     "text": [
      "346/346 [==============================] - 2s 6ms/step - loss: 0.1503 - accuracy: 0.4142 - recall_1: 5.0602e-04 - val_loss: 0.1361 - val_accuracy: 0.8030 - val_recall_1: 0.0000e+00\n",
      "Epoch 43/80\n",
      "333/346 [===========================>..] - ETA: 0s - loss: 0.1494 - accuracy: 0.4218 - recall_1: 6.0123e-04INFO:tensorflow:Assets written to: /home/paul_d/Sources/sem_math_repo/classification_formulas_multilabel/wandb/run-20230316_010835-9xjfqfmx/files/model-best/assets\n"
     ]
    },
    {
     "name": "stderr",
     "output_type": "stream",
     "text": [
      "INFO:tensorflow:Assets written to: /home/paul_d/Sources/sem_math_repo/classification_formulas_multilabel/wandb/run-20230316_010835-9xjfqfmx/files/model-best/assets\n"
     ]
    },
    {
     "name": "stdout",
     "output_type": "stream",
     "text": [
      "346/346 [==============================] - 2s 6ms/step - loss: 0.1504 - accuracy: 0.4105 - recall_1: 5.7830e-04 - val_loss: 0.1361 - val_accuracy: 0.8030 - val_recall_1: 0.0000e+00\n",
      "Epoch 44/80\n",
      "331/346 [===========================>..] - ETA: 0s - loss: 0.1494 - accuracy: 0.4289 - recall_1: 6.5453e-04INFO:tensorflow:Assets written to: /home/paul_d/Sources/sem_math_repo/classification_formulas_multilabel/wandb/run-20230316_010835-9xjfqfmx/files/model-best/assets\n"
     ]
    },
    {
     "name": "stderr",
     "output_type": "stream",
     "text": [
      "INFO:tensorflow:Assets written to: /home/paul_d/Sources/sem_math_repo/classification_formulas_multilabel/wandb/run-20230316_010835-9xjfqfmx/files/model-best/assets\n"
     ]
    },
    {
     "name": "stdout",
     "output_type": "stream",
     "text": [
      "346/346 [==============================] - 2s 6ms/step - loss: 0.1503 - accuracy: 0.4164 - recall_1: 6.2657e-04 - val_loss: 0.1360 - val_accuracy: 0.8030 - val_recall_1: 0.0000e+00\n",
      "Epoch 45/80\n",
      "333/346 [===========================>..] - ETA: 0s - loss: 0.1493 - accuracy: 0.4270 - recall_1: 9.2637e-04INFO:tensorflow:Assets written to: /home/paul_d/Sources/sem_math_repo/classification_formulas_multilabel/wandb/run-20230316_010835-9xjfqfmx/files/model-best/assets\n"
     ]
    },
    {
     "name": "stderr",
     "output_type": "stream",
     "text": [
      "INFO:tensorflow:Assets written to: /home/paul_d/Sources/sem_math_repo/classification_formulas_multilabel/wandb/run-20230316_010835-9xjfqfmx/files/model-best/assets\n"
     ]
    },
    {
     "name": "stdout",
     "output_type": "stream",
     "text": [
      "346/346 [==============================] - 2s 6ms/step - loss: 0.1502 - accuracy: 0.4155 - recall_1: 8.9167e-04 - val_loss: 0.1359 - val_accuracy: 0.8030 - val_recall_1: 0.0000e+00\n",
      "Epoch 46/80\n",
      "340/346 [============================>.] - ETA: 0s - loss: 0.1499 - accuracy: 0.4213 - recall_1: 9.0735e-04INFO:tensorflow:Assets written to: /home/paul_d/Sources/sem_math_repo/classification_formulas_multilabel/wandb/run-20230316_010835-9xjfqfmx/files/model-best/assets\n"
     ]
    },
    {
     "name": "stderr",
     "output_type": "stream",
     "text": [
      "INFO:tensorflow:Assets written to: /home/paul_d/Sources/sem_math_repo/classification_formulas_multilabel/wandb/run-20230316_010835-9xjfqfmx/files/model-best/assets\n"
     ]
    },
    {
     "name": "stdout",
     "output_type": "stream",
     "text": [
      "346/346 [==============================] - 2s 6ms/step - loss: 0.1503 - accuracy: 0.4167 - recall_1: 8.9163e-04 - val_loss: 0.1358 - val_accuracy: 0.8030 - val_recall_1: 0.0000e+00\n",
      "Epoch 47/80\n",
      "331/346 [===========================>..] - ETA: 0s - loss: 0.1492 - accuracy: 0.4302 - recall_1: 0.0012INFO:tensorflow:Assets written to: /home/paul_d/Sources/sem_math_repo/classification_formulas_multilabel/wandb/run-20230316_010835-9xjfqfmx/files/model-best/assets\n"
     ]
    },
    {
     "name": "stderr",
     "output_type": "stream",
     "text": [
      "INFO:tensorflow:Assets written to: /home/paul_d/Sources/sem_math_repo/classification_formulas_multilabel/wandb/run-20230316_010835-9xjfqfmx/files/model-best/assets\n"
     ]
    },
    {
     "name": "stdout",
     "output_type": "stream",
     "text": [
      "346/346 [==============================] - 4s 13ms/step - loss: 0.1502 - accuracy: 0.4182 - recall_1: 0.0012 - val_loss: 0.1358 - val_accuracy: 0.8030 - val_recall_1: 0.0000e+00\n",
      "Epoch 48/80\n",
      "333/346 [===========================>..] - ETA: 0s - loss: 0.1494 - accuracy: 0.4263 - recall_1: 0.0011INFO:tensorflow:Assets written to: /home/paul_d/Sources/sem_math_repo/classification_formulas_multilabel/wandb/run-20230316_010835-9xjfqfmx/files/model-best/assets\n"
     ]
    },
    {
     "name": "stderr",
     "output_type": "stream",
     "text": [
      "INFO:tensorflow:Assets written to: /home/paul_d/Sources/sem_math_repo/classification_formulas_multilabel/wandb/run-20230316_010835-9xjfqfmx/files/model-best/assets\n"
     ]
    },
    {
     "name": "stdout",
     "output_type": "stream",
     "text": [
      "346/346 [==============================] - 3s 8ms/step - loss: 0.1502 - accuracy: 0.4162 - recall_1: 0.0010 - val_loss: 0.1357 - val_accuracy: 0.8030 - val_recall_1: 0.0000e+00\n",
      "Epoch 49/80\n",
      "332/346 [===========================>..] - ETA: 0s - loss: 0.1491 - accuracy: 0.4307 - recall_1: 0.0014INFO:tensorflow:Assets written to: /home/paul_d/Sources/sem_math_repo/classification_formulas_multilabel/wandb/run-20230316_010835-9xjfqfmx/files/model-best/assets\n"
     ]
    },
    {
     "name": "stderr",
     "output_type": "stream",
     "text": [
      "INFO:tensorflow:Assets written to: /home/paul_d/Sources/sem_math_repo/classification_formulas_multilabel/wandb/run-20230316_010835-9xjfqfmx/files/model-best/assets\n"
     ]
    },
    {
     "name": "stdout",
     "output_type": "stream",
     "text": [
      "346/346 [==============================] - 2s 6ms/step - loss: 0.1501 - accuracy: 0.4201 - recall_1: 0.0013 - val_loss: 0.1357 - val_accuracy: 0.8030 - val_recall_1: 0.0000e+00\n",
      "Epoch 50/80\n",
      "333/346 [===========================>..] - ETA: 0s - loss: 0.1491 - accuracy: 0.4306 - recall_1: 0.0015INFO:tensorflow:Assets written to: /home/paul_d/Sources/sem_math_repo/classification_formulas_multilabel/wandb/run-20230316_010835-9xjfqfmx/files/model-best/assets\n"
     ]
    },
    {
     "name": "stderr",
     "output_type": "stream",
     "text": [
      "INFO:tensorflow:Assets written to: /home/paul_d/Sources/sem_math_repo/classification_formulas_multilabel/wandb/run-20230316_010835-9xjfqfmx/files/model-best/assets\n"
     ]
    },
    {
     "name": "stdout",
     "output_type": "stream",
     "text": [
      "346/346 [==============================] - 2s 6ms/step - loss: 0.1499 - accuracy: 0.4202 - recall_1: 0.0015 - val_loss: 0.1357 - val_accuracy: 0.8030 - val_recall_1: 0.0000e+00\n",
      "Epoch 51/80\n",
      "337/346 [============================>.] - ETA: 0s - loss: 0.1495 - accuracy: 0.4278 - recall_1: 0.0016INFO:tensorflow:Assets written to: /home/paul_d/Sources/sem_math_repo/classification_formulas_multilabel/wandb/run-20230316_010835-9xjfqfmx/files/model-best/assets\n"
     ]
    },
    {
     "name": "stderr",
     "output_type": "stream",
     "text": [
      "INFO:tensorflow:Assets written to: /home/paul_d/Sources/sem_math_repo/classification_formulas_multilabel/wandb/run-20230316_010835-9xjfqfmx/files/model-best/assets\n"
     ]
    },
    {
     "name": "stdout",
     "output_type": "stream",
     "text": [
      "346/346 [==============================] - 2s 6ms/step - loss: 0.1502 - accuracy: 0.4203 - recall_1: 0.0015 - val_loss: 0.1357 - val_accuracy: 0.8030 - val_recall_1: 0.0000e+00\n",
      "Epoch 52/80\n",
      "331/346 [===========================>..] - ETA: 0s - loss: 0.1488 - accuracy: 0.4331 - recall_1: 0.0014INFO:tensorflow:Assets written to: /home/paul_d/Sources/sem_math_repo/classification_formulas_multilabel/wandb/run-20230316_010835-9xjfqfmx/files/model-best/assets\n"
     ]
    },
    {
     "name": "stderr",
     "output_type": "stream",
     "text": [
      "INFO:tensorflow:Assets written to: /home/paul_d/Sources/sem_math_repo/classification_formulas_multilabel/wandb/run-20230316_010835-9xjfqfmx/files/model-best/assets\n"
     ]
    },
    {
     "name": "stdout",
     "output_type": "stream",
     "text": [
      "346/346 [==============================] - 2s 6ms/step - loss: 0.1499 - accuracy: 0.4209 - recall_1: 0.0014 - val_loss: 0.1356 - val_accuracy: 0.8030 - val_recall_1: 0.0000e+00\n",
      "Epoch 53/80\n",
      "337/346 [============================>.] - ETA: 0s - loss: 0.1493 - accuracy: 0.4262 - recall_1: 0.0021INFO:tensorflow:Assets written to: /home/paul_d/Sources/sem_math_repo/classification_formulas_multilabel/wandb/run-20230316_010835-9xjfqfmx/files/model-best/assets\n"
     ]
    },
    {
     "name": "stderr",
     "output_type": "stream",
     "text": [
      "INFO:tensorflow:Assets written to: /home/paul_d/Sources/sem_math_repo/classification_formulas_multilabel/wandb/run-20230316_010835-9xjfqfmx/files/model-best/assets\n"
     ]
    },
    {
     "name": "stdout",
     "output_type": "stream",
     "text": [
      "346/346 [==============================] - 2s 6ms/step - loss: 0.1499 - accuracy: 0.4191 - recall_1: 0.0020 - val_loss: 0.1355 - val_accuracy: 0.8030 - val_recall_1: 0.0000e+00\n",
      "Epoch 54/80\n",
      "337/346 [============================>.] - ETA: 0s - loss: 0.1493 - accuracy: 0.4313 - recall_1: 0.0021INFO:tensorflow:Assets written to: /home/paul_d/Sources/sem_math_repo/classification_formulas_multilabel/wandb/run-20230316_010835-9xjfqfmx/files/model-best/assets\n"
     ]
    },
    {
     "name": "stderr",
     "output_type": "stream",
     "text": [
      "INFO:tensorflow:Assets written to: /home/paul_d/Sources/sem_math_repo/classification_formulas_multilabel/wandb/run-20230316_010835-9xjfqfmx/files/model-best/assets\n"
     ]
    },
    {
     "name": "stdout",
     "output_type": "stream",
     "text": [
      "346/346 [==============================] - 2s 6ms/step - loss: 0.1499 - accuracy: 0.4246 - recall_1: 0.0021 - val_loss: 0.1355 - val_accuracy: 0.8030 - val_recall_1: 0.0000e+00\n",
      "Epoch 55/80\n",
      "341/346 [============================>.] - ETA: 0s - loss: 0.1494 - accuracy: 0.4253 - recall_1: 0.0021INFO:tensorflow:Assets written to: /home/paul_d/Sources/sem_math_repo/classification_formulas_multilabel/wandb/run-20230316_010835-9xjfqfmx/files/model-best/assets\n"
     ]
    },
    {
     "name": "stderr",
     "output_type": "stream",
     "text": [
      "INFO:tensorflow:Assets written to: /home/paul_d/Sources/sem_math_repo/classification_formulas_multilabel/wandb/run-20230316_010835-9xjfqfmx/files/model-best/assets\n"
     ]
    },
    {
     "name": "stdout",
     "output_type": "stream",
     "text": [
      "346/346 [==============================] - 2s 6ms/step - loss: 0.1498 - accuracy: 0.4224 - recall_1: 0.0020 - val_loss: 0.1355 - val_accuracy: 0.8030 - val_recall_1: 0.0000e+00\n",
      "Epoch 56/80\n",
      "344/346 [============================>.] - ETA: 0s - loss: 0.1498 - accuracy: 0.4289 - recall_1: 0.0022INFO:tensorflow:Assets written to: /home/paul_d/Sources/sem_math_repo/classification_formulas_multilabel/wandb/run-20230316_010835-9xjfqfmx/files/model-best/assets\n"
     ]
    },
    {
     "name": "stderr",
     "output_type": "stream",
     "text": [
      "INFO:tensorflow:Assets written to: /home/paul_d/Sources/sem_math_repo/classification_formulas_multilabel/wandb/run-20230316_010835-9xjfqfmx/files/model-best/assets\n"
     ]
    },
    {
     "name": "stdout",
     "output_type": "stream",
     "text": [
      "346/346 [==============================] - 3s 8ms/step - loss: 0.1499 - accuracy: 0.4273 - recall_1: 0.0022 - val_loss: 0.1354 - val_accuracy: 0.8030 - val_recall_1: 0.0000e+00\n",
      "Epoch 57/80\n",
      "333/346 [===========================>..] - ETA: 0s - loss: 0.1491 - accuracy: 0.4372 - recall_1: 0.0025INFO:tensorflow:Assets written to: /home/paul_d/Sources/sem_math_repo/classification_formulas_multilabel/wandb/run-20230316_010835-9xjfqfmx/files/model-best/assets\n"
     ]
    },
    {
     "name": "stderr",
     "output_type": "stream",
     "text": [
      "INFO:tensorflow:Assets written to: /home/paul_d/Sources/sem_math_repo/classification_formulas_multilabel/wandb/run-20230316_010835-9xjfqfmx/files/model-best/assets\n"
     ]
    },
    {
     "name": "stdout",
     "output_type": "stream",
     "text": [
      "346/346 [==============================] - 2s 6ms/step - loss: 0.1498 - accuracy: 0.4266 - recall_1: 0.0024 - val_loss: 0.1354 - val_accuracy: 0.8030 - val_recall_1: 0.0000e+00\n",
      "Epoch 58/80\n",
      "336/346 [============================>.] - ETA: 0s - loss: 0.1493 - accuracy: 0.4300 - recall_1: 0.0027INFO:tensorflow:Assets written to: /home/paul_d/Sources/sem_math_repo/classification_formulas_multilabel/wandb/run-20230316_010835-9xjfqfmx/files/model-best/assets\n"
     ]
    },
    {
     "name": "stderr",
     "output_type": "stream",
     "text": [
      "INFO:tensorflow:Assets written to: /home/paul_d/Sources/sem_math_repo/classification_formulas_multilabel/wandb/run-20230316_010835-9xjfqfmx/files/model-best/assets\n"
     ]
    },
    {
     "name": "stdout",
     "output_type": "stream",
     "text": [
      "346/346 [==============================] - 2s 6ms/step - loss: 0.1498 - accuracy: 0.4217 - recall_1: 0.0026 - val_loss: 0.1353 - val_accuracy: 0.8030 - val_recall_1: 0.0000e+00\n",
      "Epoch 59/80\n",
      "343/346 [============================>.] - ETA: 0s - loss: 0.1495 - accuracy: 0.4323 - recall_1: 0.0023INFO:tensorflow:Assets written to: /home/paul_d/Sources/sem_math_repo/classification_formulas_multilabel/wandb/run-20230316_010835-9xjfqfmx/files/model-best/assets\n"
     ]
    },
    {
     "name": "stderr",
     "output_type": "stream",
     "text": [
      "INFO:tensorflow:Assets written to: /home/paul_d/Sources/sem_math_repo/classification_formulas_multilabel/wandb/run-20230316_010835-9xjfqfmx/files/model-best/assets\n"
     ]
    },
    {
     "name": "stdout",
     "output_type": "stream",
     "text": [
      "346/346 [==============================] - 2s 6ms/step - loss: 0.1497 - accuracy: 0.4297 - recall_1: 0.0023 - val_loss: 0.1353 - val_accuracy: 0.8030 - val_recall_1: 0.0000e+00\n",
      "Epoch 60/80\n",
      "346/346 [==============================] - ETA: 0s - loss: 0.1496 - accuracy: 0.4259 - recall_1: 0.0025INFO:tensorflow:Assets written to: /home/paul_d/Sources/sem_math_repo/classification_formulas_multilabel/wandb/run-20230316_010835-9xjfqfmx/files/model-best/assets\n"
     ]
    },
    {
     "name": "stderr",
     "output_type": "stream",
     "text": [
      "INFO:tensorflow:Assets written to: /home/paul_d/Sources/sem_math_repo/classification_formulas_multilabel/wandb/run-20230316_010835-9xjfqfmx/files/model-best/assets\n"
     ]
    },
    {
     "name": "stdout",
     "output_type": "stream",
     "text": [
      "346/346 [==============================] - 4s 12ms/step - loss: 0.1496 - accuracy: 0.4259 - recall_1: 0.0025 - val_loss: 0.1352 - val_accuracy: 0.8030 - val_recall_1: 0.0000e+00\n",
      "Epoch 61/80\n",
      "345/346 [============================>.] - ETA: 0s - loss: 0.1497 - accuracy: 0.4262 - recall_1: 0.0027INFO:tensorflow:Assets written to: /home/paul_d/Sources/sem_math_repo/classification_formulas_multilabel/wandb/run-20230316_010835-9xjfqfmx/files/model-best/assets\n"
     ]
    },
    {
     "name": "stderr",
     "output_type": "stream",
     "text": [
      "INFO:tensorflow:Assets written to: /home/paul_d/Sources/sem_math_repo/classification_formulas_multilabel/wandb/run-20230316_010835-9xjfqfmx/files/model-best/assets\n"
     ]
    },
    {
     "name": "stdout",
     "output_type": "stream",
     "text": [
      "346/346 [==============================] - 2s 6ms/step - loss: 0.1498 - accuracy: 0.4254 - recall_1: 0.0027 - val_loss: 0.1351 - val_accuracy: 0.8030 - val_recall_1: 0.0000e+00\n",
      "Epoch 62/80\n",
      "337/346 [============================>.] - ETA: 0s - loss: 0.1492 - accuracy: 0.4351 - recall_1: 0.0029INFO:tensorflow:Assets written to: /home/paul_d/Sources/sem_math_repo/classification_formulas_multilabel/wandb/run-20230316_010835-9xjfqfmx/files/model-best/assets\n"
     ]
    },
    {
     "name": "stderr",
     "output_type": "stream",
     "text": [
      "INFO:tensorflow:Assets written to: /home/paul_d/Sources/sem_math_repo/classification_formulas_multilabel/wandb/run-20230316_010835-9xjfqfmx/files/model-best/assets\n"
     ]
    },
    {
     "name": "stdout",
     "output_type": "stream",
     "text": [
      "346/346 [==============================] - 2s 6ms/step - loss: 0.1497 - accuracy: 0.4279 - recall_1: 0.0029 - val_loss: 0.1351 - val_accuracy: 0.8030 - val_recall_1: 0.0000e+00\n",
      "Epoch 63/80\n",
      "332/346 [===========================>..] - ETA: 0s - loss: 0.1485 - accuracy: 0.4395 - recall_1: 0.0034INFO:tensorflow:Assets written to: /home/paul_d/Sources/sem_math_repo/classification_formulas_multilabel/wandb/run-20230316_010835-9xjfqfmx/files/model-best/assets\n"
     ]
    },
    {
     "name": "stderr",
     "output_type": "stream",
     "text": [
      "INFO:tensorflow:Assets written to: /home/paul_d/Sources/sem_math_repo/classification_formulas_multilabel/wandb/run-20230316_010835-9xjfqfmx/files/model-best/assets\n"
     ]
    },
    {
     "name": "stdout",
     "output_type": "stream",
     "text": [
      "346/346 [==============================] - 2s 6ms/step - loss: 0.1495 - accuracy: 0.4285 - recall_1: 0.0033 - val_loss: 0.1350 - val_accuracy: 0.8030 - val_recall_1: 0.0000e+00\n",
      "Epoch 64/80\n",
      "338/346 [============================>.] - ETA: 0s - loss: 0.1490 - accuracy: 0.4390 - recall_1: 0.0036INFO:tensorflow:Assets written to: /home/paul_d/Sources/sem_math_repo/classification_formulas_multilabel/wandb/run-20230316_010835-9xjfqfmx/files/model-best/assets\n"
     ]
    },
    {
     "name": "stderr",
     "output_type": "stream",
     "text": [
      "INFO:tensorflow:Assets written to: /home/paul_d/Sources/sem_math_repo/classification_formulas_multilabel/wandb/run-20230316_010835-9xjfqfmx/files/model-best/assets\n"
     ]
    },
    {
     "name": "stdout",
     "output_type": "stream",
     "text": [
      "346/346 [==============================] - 2s 6ms/step - loss: 0.1496 - accuracy: 0.4326 - recall_1: 0.0035 - val_loss: 0.1350 - val_accuracy: 0.8030 - val_recall_1: 0.0000e+00\n",
      "Epoch 65/80\n",
      "339/346 [============================>.] - ETA: 0s - loss: 0.1489 - accuracy: 0.4357 - recall_1: 0.0037INFO:tensorflow:Assets written to: /home/paul_d/Sources/sem_math_repo/classification_formulas_multilabel/wandb/run-20230316_010835-9xjfqfmx/files/model-best/assets\n"
     ]
    },
    {
     "name": "stderr",
     "output_type": "stream",
     "text": [
      "INFO:tensorflow:Assets written to: /home/paul_d/Sources/sem_math_repo/classification_formulas_multilabel/wandb/run-20230316_010835-9xjfqfmx/files/model-best/assets\n"
     ]
    },
    {
     "name": "stdout",
     "output_type": "stream",
     "text": [
      "346/346 [==============================] - 3s 8ms/step - loss: 0.1494 - accuracy: 0.4296 - recall_1: 0.0036 - val_loss: 0.1349 - val_accuracy: 0.8030 - val_recall_1: 0.0000e+00\n",
      "Epoch 66/80\n",
      "346/346 [==============================] - 1s 3ms/step - loss: 0.1495 - accuracy: 0.4321 - recall_1: 0.0035 - val_loss: 0.1349 - val_accuracy: 0.8030 - val_recall_1: 0.0000e+00\n",
      "Epoch 67/80\n",
      "346/346 [==============================] - 1s 4ms/step - loss: 0.1496 - accuracy: 0.4307 - recall_1: 0.0034 - val_loss: 0.1349 - val_accuracy: 0.8030 - val_recall_1: 0.0000e+00\n",
      "Epoch 68/80\n",
      "338/346 [============================>.] - ETA: 0s - loss: 0.1488 - accuracy: 0.4410 - recall_1: 0.0040INFO:tensorflow:Assets written to: /home/paul_d/Sources/sem_math_repo/classification_formulas_multilabel/wandb/run-20230316_010835-9xjfqfmx/files/model-best/assets\n"
     ]
    },
    {
     "name": "stderr",
     "output_type": "stream",
     "text": [
      "INFO:tensorflow:Assets written to: /home/paul_d/Sources/sem_math_repo/classification_formulas_multilabel/wandb/run-20230316_010835-9xjfqfmx/files/model-best/assets\n"
     ]
    },
    {
     "name": "stdout",
     "output_type": "stream",
     "text": [
      "346/346 [==============================] - 2s 6ms/step - loss: 0.1495 - accuracy: 0.4347 - recall_1: 0.0040 - val_loss: 0.1349 - val_accuracy: 0.8030 - val_recall_1: 0.0000e+00\n",
      "Epoch 69/80\n",
      "332/346 [===========================>..] - ETA: 0s - loss: 0.1485 - accuracy: 0.4425 - recall_1: 0.0042INFO:tensorflow:Assets written to: /home/paul_d/Sources/sem_math_repo/classification_formulas_multilabel/wandb/run-20230316_010835-9xjfqfmx/files/model-best/assets\n"
     ]
    },
    {
     "name": "stderr",
     "output_type": "stream",
     "text": [
      "INFO:tensorflow:Assets written to: /home/paul_d/Sources/sem_math_repo/classification_formulas_multilabel/wandb/run-20230316_010835-9xjfqfmx/files/model-best/assets\n"
     ]
    },
    {
     "name": "stdout",
     "output_type": "stream",
     "text": [
      "346/346 [==============================] - 2s 6ms/step - loss: 0.1495 - accuracy: 0.4311 - recall_1: 0.0041 - val_loss: 0.1348 - val_accuracy: 0.8030 - val_recall_1: 0.0000e+00\n",
      "Epoch 70/80\n",
      "345/346 [============================>.] - ETA: 0s - loss: 0.1495 - accuracy: 0.4334 - recall_1: 0.0041INFO:tensorflow:Assets written to: /home/paul_d/Sources/sem_math_repo/classification_formulas_multilabel/wandb/run-20230316_010835-9xjfqfmx/files/model-best/assets\n"
     ]
    },
    {
     "name": "stderr",
     "output_type": "stream",
     "text": [
      "INFO:tensorflow:Assets written to: /home/paul_d/Sources/sem_math_repo/classification_formulas_multilabel/wandb/run-20230316_010835-9xjfqfmx/files/model-best/assets\n"
     ]
    },
    {
     "name": "stdout",
     "output_type": "stream",
     "text": [
      "346/346 [==============================] - 2s 6ms/step - loss: 0.1496 - accuracy: 0.4325 - recall_1: 0.0041 - val_loss: 0.1348 - val_accuracy: 0.8030 - val_recall_1: 0.0000e+00\n",
      "Epoch 71/80\n",
      "333/346 [===========================>..] - ETA: 0s - loss: 0.1485 - accuracy: 0.4463 - recall_1: 0.0045INFO:tensorflow:Assets written to: /home/paul_d/Sources/sem_math_repo/classification_formulas_multilabel/wandb/run-20230316_010835-9xjfqfmx/files/model-best/assets\n"
     ]
    },
    {
     "name": "stderr",
     "output_type": "stream",
     "text": [
      "INFO:tensorflow:Assets written to: /home/paul_d/Sources/sem_math_repo/classification_formulas_multilabel/wandb/run-20230316_010835-9xjfqfmx/files/model-best/assets\n"
     ]
    },
    {
     "name": "stdout",
     "output_type": "stream",
     "text": [
      "346/346 [==============================] - 2s 6ms/step - loss: 0.1494 - accuracy: 0.4356 - recall_1: 0.0044 - val_loss: 0.1348 - val_accuracy: 0.8030 - val_recall_1: 0.0000e+00\n",
      "Epoch 72/80\n",
      "335/346 [============================>.] - ETA: 0s - loss: 0.1486 - accuracy: 0.4449 - recall_1: 0.0046INFO:tensorflow:Assets written to: /home/paul_d/Sources/sem_math_repo/classification_formulas_multilabel/wandb/run-20230316_010835-9xjfqfmx/files/model-best/assets\n"
     ]
    },
    {
     "name": "stderr",
     "output_type": "stream",
     "text": [
      "INFO:tensorflow:Assets written to: /home/paul_d/Sources/sem_math_repo/classification_formulas_multilabel/wandb/run-20230316_010835-9xjfqfmx/files/model-best/assets\n"
     ]
    },
    {
     "name": "stdout",
     "output_type": "stream",
     "text": [
      "346/346 [==============================] - 2s 6ms/step - loss: 0.1494 - accuracy: 0.4360 - recall_1: 0.0044 - val_loss: 0.1347 - val_accuracy: 0.8030 - val_recall_1: 0.0000e+00\n",
      "Epoch 73/80\n",
      "336/346 [============================>.] - ETA: 0s - loss: 0.1487 - accuracy: 0.4413 - recall_1: 0.0047INFO:tensorflow:Assets written to: /home/paul_d/Sources/sem_math_repo/classification_formulas_multilabel/wandb/run-20230316_010835-9xjfqfmx/files/model-best/assets\n"
     ]
    },
    {
     "name": "stderr",
     "output_type": "stream",
     "text": [
      "INFO:tensorflow:Assets written to: /home/paul_d/Sources/sem_math_repo/classification_formulas_multilabel/wandb/run-20230316_010835-9xjfqfmx/files/model-best/assets\n"
     ]
    },
    {
     "name": "stdout",
     "output_type": "stream",
     "text": [
      "346/346 [==============================] - 2s 6ms/step - loss: 0.1494 - accuracy: 0.4334 - recall_1: 0.0046 - val_loss: 0.1347 - val_accuracy: 0.8030 - val_recall_1: 0.0000e+00\n",
      "Epoch 74/80\n",
      "341/346 [============================>.] - ETA: 0s - loss: 0.1490 - accuracy: 0.4400 - recall_1: 0.0050INFO:tensorflow:Assets written to: /home/paul_d/Sources/sem_math_repo/classification_formulas_multilabel/wandb/run-20230316_010835-9xjfqfmx/files/model-best/assets\n"
     ]
    },
    {
     "name": "stderr",
     "output_type": "stream",
     "text": [
      "INFO:tensorflow:Assets written to: /home/paul_d/Sources/sem_math_repo/classification_formulas_multilabel/wandb/run-20230316_010835-9xjfqfmx/files/model-best/assets\n"
     ]
    },
    {
     "name": "stdout",
     "output_type": "stream",
     "text": [
      "346/346 [==============================] - 2s 6ms/step - loss: 0.1493 - accuracy: 0.4361 - recall_1: 0.0050 - val_loss: 0.1347 - val_accuracy: 0.8030 - val_recall_1: 0.0000e+00\n",
      "Epoch 75/80\n",
      "336/346 [============================>.] - ETA: 0s - loss: 0.1488 - accuracy: 0.4421 - recall_1: 0.0046INFO:tensorflow:Assets written to: /home/paul_d/Sources/sem_math_repo/classification_formulas_multilabel/wandb/run-20230316_010835-9xjfqfmx/files/model-best/assets\n"
     ]
    },
    {
     "name": "stderr",
     "output_type": "stream",
     "text": [
      "INFO:tensorflow:Assets written to: /home/paul_d/Sources/sem_math_repo/classification_formulas_multilabel/wandb/run-20230316_010835-9xjfqfmx/files/model-best/assets\n"
     ]
    },
    {
     "name": "stdout",
     "output_type": "stream",
     "text": [
      "346/346 [==============================] - 2s 6ms/step - loss: 0.1494 - accuracy: 0.4337 - recall_1: 0.0045 - val_loss: 0.1346 - val_accuracy: 0.8030 - val_recall_1: 0.0000e+00\n",
      "Epoch 76/80\n",
      "342/346 [============================>.] - ETA: 0s - loss: 0.1490 - accuracy: 0.4404 - recall_1: 0.0052INFO:tensorflow:Assets written to: /home/paul_d/Sources/sem_math_repo/classification_formulas_multilabel/wandb/run-20230316_010835-9xjfqfmx/files/model-best/assets\n"
     ]
    },
    {
     "name": "stderr",
     "output_type": "stream",
     "text": [
      "INFO:tensorflow:Assets written to: /home/paul_d/Sources/sem_math_repo/classification_formulas_multilabel/wandb/run-20230316_010835-9xjfqfmx/files/model-best/assets\n"
     ]
    },
    {
     "name": "stdout",
     "output_type": "stream",
     "text": [
      "346/346 [==============================] - 3s 8ms/step - loss: 0.1493 - accuracy: 0.4366 - recall_1: 0.0051 - val_loss: 0.1346 - val_accuracy: 0.8030 - val_recall_1: 0.0000e+00\n",
      "Epoch 77/80\n",
      "331/346 [===========================>..] - ETA: 0s - loss: 0.1482 - accuracy: 0.4470 - recall_1: 0.0052INFO:tensorflow:Assets written to: /home/paul_d/Sources/sem_math_repo/classification_formulas_multilabel/wandb/run-20230316_010835-9xjfqfmx/files/model-best/assets\n"
     ]
    },
    {
     "name": "stderr",
     "output_type": "stream",
     "text": [
      "INFO:tensorflow:Assets written to: /home/paul_d/Sources/sem_math_repo/classification_formulas_multilabel/wandb/run-20230316_010835-9xjfqfmx/files/model-best/assets\n"
     ]
    },
    {
     "name": "stdout",
     "output_type": "stream",
     "text": [
      "346/346 [==============================] - 2s 6ms/step - loss: 0.1491 - accuracy: 0.4346 - recall_1: 0.0050 - val_loss: 0.1346 - val_accuracy: 0.8030 - val_recall_1: 0.0000e+00\n",
      "Epoch 78/80\n",
      "332/346 [===========================>..] - ETA: 0s - loss: 0.1483 - accuracy: 0.4504 - recall_1: 0.0057INFO:tensorflow:Assets written to: /home/paul_d/Sources/sem_math_repo/classification_formulas_multilabel/wandb/run-20230316_010835-9xjfqfmx/files/model-best/assets\n"
     ]
    },
    {
     "name": "stderr",
     "output_type": "stream",
     "text": [
      "INFO:tensorflow:Assets written to: /home/paul_d/Sources/sem_math_repo/classification_formulas_multilabel/wandb/run-20230316_010835-9xjfqfmx/files/model-best/assets\n"
     ]
    },
    {
     "name": "stdout",
     "output_type": "stream",
     "text": [
      "346/346 [==============================] - 2s 6ms/step - loss: 0.1492 - accuracy: 0.4382 - recall_1: 0.0055 - val_loss: 0.1345 - val_accuracy: 0.8030 - val_recall_1: 0.0000e+00\n",
      "Epoch 79/80\n",
      "339/346 [============================>.] - ETA: 0s - loss: 0.1488 - accuracy: 0.4423 - recall_1: 0.0046INFO:tensorflow:Assets written to: /home/paul_d/Sources/sem_math_repo/classification_formulas_multilabel/wandb/run-20230316_010835-9xjfqfmx/files/model-best/assets\n"
     ]
    },
    {
     "name": "stderr",
     "output_type": "stream",
     "text": [
      "INFO:tensorflow:Assets written to: /home/paul_d/Sources/sem_math_repo/classification_formulas_multilabel/wandb/run-20230316_010835-9xjfqfmx/files/model-best/assets\n"
     ]
    },
    {
     "name": "stdout",
     "output_type": "stream",
     "text": [
      "346/346 [==============================] - 2s 6ms/step - loss: 0.1493 - accuracy: 0.4363 - recall_1: 0.0045 - val_loss: 0.1345 - val_accuracy: 0.8030 - val_recall_1: 0.0000e+00\n",
      "Epoch 80/80\n",
      "346/346 [==============================] - 1s 4ms/step - loss: 0.1493 - accuracy: 0.4330 - recall_1: 0.0049 - val_loss: 0.1345 - val_accuracy: 0.8030 - val_recall_1: 0.0000e+00\n"
     ]
    }
   ],
   "source": [
    "configs_dict = {\n",
    "    \"learning_rate\": optimal_lr,\n",
    "    \"emb_dim\": optimal_emb_dims,\n",
    "    \"dp1\": dp1, \n",
    "    \"dp2\": dp2,\n",
    "    \"algorithm\": \"LogReg\",\n",
    "    \"configuration\": \"multi_only_tokens\",\n",
    "    \"optimizer\": \"adam\",\n",
    "    \"loss\": \"binary_crossentropy\",\n",
    "    \"epochs\": NUM_EPOCHS,\n",
    "    \"batch_size\": 64,\n",
    "    \"vectorizer\": \"count\",\n",
    "    \"dataset\": \"multi_class_unbalanced_data_TOKENIZED_V1\"\n",
    "}\n",
    "\n",
    "run = wandb.init(project=wandb_project_name, reinit=True, config=configs_dict)\n",
    "\n",
    "history = model1c.fit(train_dataset1, \n",
    "                    epochs=NUM_EPOCHS,\n",
    "                    validation_data=test_dataset1,\n",
    "                    #steps_per_epoch = STEPS_PER_EPOCH,\n",
    "                    validation_steps = VAL_STEPS_PER_EPOCH,\n",
    "                    callbacks= [WandbCallback()])#[tensorboard_callback])\n",
    "run.finish()"
   ]
  },
  {
   "attachments": {},
   "cell_type": "markdown",
   "metadata": {},
   "source": [
    "##### Model 2: ONLY TYPES\n",
    "Find best hyperparameters"
   ]
  },
  {
   "cell_type": "code",
   "execution_count": 74,
   "metadata": {},
   "outputs": [],
   "source": [
    "tokens_input_len = TOKENS_MAX_SEQ_LEN \n",
    "type_input_len = TYPE_TOKENS_MAX_SEQ_LEN\n",
    "NUM_CLASSES = 40\n",
    "\n",
    "encoder_count_types = create_encoder(\"count\", None, \"type\", train_dataset2, 2)\n",
    "model_builder2c = mc_u.create_model_builder2_LR(NUM_CLASSES, encoder_count_types, type_input_len)"
   ]
  },
  {
   "cell_type": "code",
   "execution_count": 75,
   "metadata": {},
   "outputs": [],
   "source": [
    "tuner = kt.Hyperband(model_builder2c,\n",
    "                     objective=kt.Objective(\"val_accuracy\", direction=\"max\"),\n",
    "                     max_epochs=20,\n",
    "                     factor=3,\n",
    "                     directory='meta_dir/model2c_lr',\n",
    "                     project_name='model2c_lr')\n",
    "stop_early = tf.keras.callbacks.EarlyStopping(monitor='val_loss', patience=3)"
   ]
  },
  {
   "cell_type": "code",
   "execution_count": 76,
   "metadata": {},
   "outputs": [
    {
     "name": "stdout",
     "output_type": "stream",
     "text": [
      "Trial 30 Complete [00h 00m 23s]\n",
      "val_accuracy: 0.0\n",
      "\n",
      "Best val_accuracy So Far: 1.0\n",
      "Total elapsed time: 00h 04m 25s\n",
      "INFO:tensorflow:Oracle triggered exit\n"
     ]
    },
    {
     "name": "stderr",
     "output_type": "stream",
     "text": [
      "INFO:tensorflow:Oracle triggered exit\n"
     ]
    }
   ],
   "source": [
    "tuner.search(train_dataset2,\n",
    "             epochs=30,\n",
    "             validation_data=test_dataset2,\n",
    "             #steps_per_epoch = STEPS_PER_EPOCH,\n",
    "             validation_steps = VAL_STEPS_PER_EPOCH,\n",
    "             callbacks= [stop_early])#[tensorboard_callback])"
   ]
  },
  {
   "cell_type": "code",
   "execution_count": 77,
   "metadata": {},
   "outputs": [
    {
     "name": "stdout",
     "output_type": "stream",
     "text": [
      "0.0001\n",
      "32\n",
      "0.1\n",
      "0.3\n"
     ]
    }
   ],
   "source": [
    "best_hps=tuner.get_best_hyperparameters(num_trials=1)[0]\n",
    "optimal_lr = best_hps.get(\"learning_rate\")\n",
    "optimal_emb_dims = best_hps.get(\"emb_dims\")\n",
    "dp1 = best_hps.get(\"dropout1\")\n",
    "dp2 = best_hps.get(\"dropout2\")\n",
    "print(optimal_lr)\n",
    "print(optimal_emb_dims)\n",
    "print(dp1)\n",
    "print(dp2)"
   ]
  },
  {
   "attachments": {},
   "cell_type": "markdown",
   "metadata": {},
   "source": [
    "Train with best hyperparameters"
   ]
  },
  {
   "cell_type": "code",
   "execution_count": 78,
   "metadata": {},
   "outputs": [],
   "source": [
    "NUM_EPOCHS = 80\n",
    "model2c = mc_u.create_model2_LR(NUM_CLASSES, optimal_emb_dims, dp1, dp2, encoder_count_types, type_input_len)\n",
    "model2c.compile(loss=tf.keras.losses.BinaryCrossentropy(from_logits=True),\n",
    "              optimizer=tf.keras.optimizers.Adam(optimal_lr),\n",
    "              metrics=[\"accuracy\", tf.keras.metrics.Recall()])"
   ]
  },
  {
   "cell_type": "code",
   "execution_count": 79,
   "metadata": {},
   "outputs": [
    {
     "name": "stdout",
     "output_type": "stream",
     "text": [
      "Epoch 1/80\n",
      "343/346 [============================>.] - ETA: 0s - loss: 0.6688 - accuracy: 0.0800 - recall_1: 0.0000e+00INFO:tensorflow:Assets written to: /home/paul_d/Sources/sem_math_repo/classification_formulas_multilabel/wandb/run-20230316_011625-cal46zsv/files/model-best/assets\n"
     ]
    },
    {
     "name": "stderr",
     "output_type": "stream",
     "text": [
      "INFO:tensorflow:Assets written to: /home/paul_d/Sources/sem_math_repo/classification_formulas_multilabel/wandb/run-20230316_011625-cal46zsv/files/model-best/assets\n"
     ]
    },
    {
     "name": "stdout",
     "output_type": "stream",
     "text": [
      "346/346 [==============================] - 2s 5ms/step - loss: 0.6685 - accuracy: 0.0804 - recall_1: 0.0000e+00 - val_loss: 0.6434 - val_accuracy: 0.0025 - val_recall_1: 0.0000e+00\n",
      "Epoch 2/80\n",
      "335/346 [============================>.] - ETA: 0s - loss: 0.5967 - accuracy: 0.2382 - recall_1: 0.0000e+00INFO:tensorflow:Assets written to: /home/paul_d/Sources/sem_math_repo/classification_formulas_multilabel/wandb/run-20230316_011625-cal46zsv/files/model-best/assets\n"
     ]
    },
    {
     "name": "stderr",
     "output_type": "stream",
     "text": [
      "INFO:tensorflow:Assets written to: /home/paul_d/Sources/sem_math_repo/classification_formulas_multilabel/wandb/run-20230316_011625-cal46zsv/files/model-best/assets\n"
     ]
    },
    {
     "name": "stdout",
     "output_type": "stream",
     "text": [
      "346/346 [==============================] - 2s 5ms/step - loss: 0.5953 - accuracy: 0.2373 - recall_1: 0.0000e+00 - val_loss: 0.5551 - val_accuracy: 0.0021 - val_recall_1: 0.0000e+00\n",
      "Epoch 3/80\n",
      "331/346 [===========================>..] - ETA: 0s - loss: 0.4923 - accuracy: 0.3021 - recall_1: 0.0000e+00INFO:tensorflow:Assets written to: /home/paul_d/Sources/sem_math_repo/classification_formulas_multilabel/wandb/run-20230316_011625-cal46zsv/files/model-best/assets\n"
     ]
    },
    {
     "name": "stderr",
     "output_type": "stream",
     "text": [
      "INFO:tensorflow:Assets written to: /home/paul_d/Sources/sem_math_repo/classification_formulas_multilabel/wandb/run-20230316_011625-cal46zsv/files/model-best/assets\n"
     ]
    },
    {
     "name": "stdout",
     "output_type": "stream",
     "text": [
      "346/346 [==============================] - 2s 5ms/step - loss: 0.4902 - accuracy: 0.2986 - recall_1: 0.0000e+00 - val_loss: 0.4491 - val_accuracy: 0.0062 - val_recall_1: 0.0000e+00\n",
      "Epoch 4/80\n",
      "333/346 [===========================>..] - ETA: 0s - loss: 0.3863 - accuracy: 0.3120 - recall_1: 0.0000e+00INFO:tensorflow:Assets written to: /home/paul_d/Sources/sem_math_repo/classification_formulas_multilabel/wandb/run-20230316_011625-cal46zsv/files/model-best/assets\n"
     ]
    },
    {
     "name": "stderr",
     "output_type": "stream",
     "text": [
      "INFO:tensorflow:Assets written to: /home/paul_d/Sources/sem_math_repo/classification_formulas_multilabel/wandb/run-20230316_011625-cal46zsv/files/model-best/assets\n"
     ]
    },
    {
     "name": "stdout",
     "output_type": "stream",
     "text": [
      "346/346 [==============================] - 2s 5ms/step - loss: 0.3851 - accuracy: 0.3070 - recall_1: 0.0000e+00 - val_loss: 0.3541 - val_accuracy: 0.5580 - val_recall_1: 0.0000e+00\n",
      "Epoch 5/80\n",
      "325/346 [===========================>..] - ETA: 0s - loss: 0.3041 - accuracy: 0.3188 - recall_1: 0.0000e+00INFO:tensorflow:Assets written to: /home/paul_d/Sources/sem_math_repo/classification_formulas_multilabel/wandb/run-20230316_011625-cal46zsv/files/model-best/assets\n"
     ]
    },
    {
     "name": "stderr",
     "output_type": "stream",
     "text": [
      "INFO:tensorflow:Assets written to: /home/paul_d/Sources/sem_math_repo/classification_formulas_multilabel/wandb/run-20230316_011625-cal46zsv/files/model-best/assets\n"
     ]
    },
    {
     "name": "stdout",
     "output_type": "stream",
     "text": [
      "346/346 [==============================] - 2s 5ms/step - loss: 0.3029 - accuracy: 0.3101 - recall_1: 0.0000e+00 - val_loss: 0.2817 - val_accuracy: 0.5604 - val_recall_1: 0.0000e+00\n",
      "Epoch 6/80\n",
      "339/346 [============================>.] - ETA: 0s - loss: 0.2459 - accuracy: 0.3226 - recall_1: 0.0000e+00INFO:tensorflow:Assets written to: /home/paul_d/Sources/sem_math_repo/classification_formulas_multilabel/wandb/run-20230316_011625-cal46zsv/files/model-best/assets\n"
     ]
    },
    {
     "name": "stderr",
     "output_type": "stream",
     "text": [
      "INFO:tensorflow:Assets written to: /home/paul_d/Sources/sem_math_repo/classification_formulas_multilabel/wandb/run-20230316_011625-cal46zsv/files/model-best/assets\n"
     ]
    },
    {
     "name": "stdout",
     "output_type": "stream",
     "text": [
      "346/346 [==============================] - 2s 5ms/step - loss: 0.2457 - accuracy: 0.3190 - recall_1: 0.0000e+00 - val_loss: 0.2314 - val_accuracy: 0.5600 - val_recall_1: 0.0000e+00\n",
      "Epoch 7/80\n",
      "332/346 [===========================>..] - ETA: 0s - loss: 0.2080 - accuracy: 0.3246 - recall_1: 0.0000e+00INFO:tensorflow:Assets written to: /home/paul_d/Sources/sem_math_repo/classification_formulas_multilabel/wandb/run-20230316_011625-cal46zsv/files/model-best/assets\n"
     ]
    },
    {
     "name": "stderr",
     "output_type": "stream",
     "text": [
      "INFO:tensorflow:Assets written to: /home/paul_d/Sources/sem_math_repo/classification_formulas_multilabel/wandb/run-20230316_011625-cal46zsv/files/model-best/assets\n"
     ]
    },
    {
     "name": "stdout",
     "output_type": "stream",
     "text": [
      "346/346 [==============================] - 2s 5ms/step - loss: 0.2080 - accuracy: 0.3181 - recall_1: 0.0000e+00 - val_loss: 0.1973 - val_accuracy: 0.5584 - val_recall_1: 0.0000e+00\n",
      "Epoch 8/80\n",
      "325/346 [===========================>..] - ETA: 0s - loss: 0.1841 - accuracy: 0.3316 - recall_1: 0.0000e+00INFO:tensorflow:Assets written to: /home/paul_d/Sources/sem_math_repo/classification_formulas_multilabel/wandb/run-20230316_011625-cal46zsv/files/model-best/assets\n"
     ]
    },
    {
     "name": "stderr",
     "output_type": "stream",
     "text": [
      "INFO:tensorflow:Assets written to: /home/paul_d/Sources/sem_math_repo/classification_formulas_multilabel/wandb/run-20230316_011625-cal46zsv/files/model-best/assets\n"
     ]
    },
    {
     "name": "stdout",
     "output_type": "stream",
     "text": [
      "346/346 [==============================] - 2s 7ms/step - loss: 0.1848 - accuracy: 0.3208 - recall_1: 0.0000e+00 - val_loss: 0.1750 - val_accuracy: 0.5572 - val_recall_1: 0.0000e+00\n",
      "Epoch 9/80\n",
      "326/346 [===========================>..] - ETA: 0s - loss: 0.1697 - accuracy: 0.3284 - recall_1: 0.0000e+00INFO:tensorflow:Assets written to: /home/paul_d/Sources/sem_math_repo/classification_formulas_multilabel/wandb/run-20230316_011625-cal46zsv/files/model-best/assets\n"
     ]
    },
    {
     "name": "stderr",
     "output_type": "stream",
     "text": [
      "INFO:tensorflow:Assets written to: /home/paul_d/Sources/sem_math_repo/classification_formulas_multilabel/wandb/run-20230316_011625-cal46zsv/files/model-best/assets\n"
     ]
    },
    {
     "name": "stdout",
     "output_type": "stream",
     "text": [
      "346/346 [==============================] - 2s 5ms/step - loss: 0.1706 - accuracy: 0.3184 - recall_1: 0.0000e+00 - val_loss: 0.1614 - val_accuracy: 0.5572 - val_recall_1: 0.0000e+00\n",
      "Epoch 10/80\n",
      "328/346 [===========================>..] - ETA: 0s - loss: 0.1615 - accuracy: 0.3335 - recall_1: 0.0000e+00INFO:tensorflow:Assets written to: /home/paul_d/Sources/sem_math_repo/classification_formulas_multilabel/wandb/run-20230316_011625-cal46zsv/files/model-best/assets\n"
     ]
    },
    {
     "name": "stderr",
     "output_type": "stream",
     "text": [
      "INFO:tensorflow:Assets written to: /home/paul_d/Sources/sem_math_repo/classification_formulas_multilabel/wandb/run-20230316_011625-cal46zsv/files/model-best/assets\n"
     ]
    },
    {
     "name": "stdout",
     "output_type": "stream",
     "text": [
      "346/346 [==============================] - 2s 5ms/step - loss: 0.1625 - accuracy: 0.3242 - recall_1: 0.0000e+00 - val_loss: 0.1529 - val_accuracy: 0.5572 - val_recall_1: 0.0000e+00\n",
      "Epoch 11/80\n",
      "332/346 [===========================>..] - ETA: 0s - loss: 0.1570 - accuracy: 0.3195 - recall_1: 0.0000e+00INFO:tensorflow:Assets written to: /home/paul_d/Sources/sem_math_repo/classification_formulas_multilabel/wandb/run-20230316_011625-cal46zsv/files/model-best/assets\n"
     ]
    },
    {
     "name": "stderr",
     "output_type": "stream",
     "text": [
      "INFO:tensorflow:Assets written to: /home/paul_d/Sources/sem_math_repo/classification_formulas_multilabel/wandb/run-20230316_011625-cal46zsv/files/model-best/assets\n"
     ]
    },
    {
     "name": "stdout",
     "output_type": "stream",
     "text": [
      "346/346 [==============================] - 2s 5ms/step - loss: 0.1578 - accuracy: 0.3126 - recall_1: 0.0000e+00 - val_loss: 0.1477 - val_accuracy: 0.5572 - val_recall_1: 0.0000e+00\n",
      "Epoch 12/80\n",
      "341/346 [============================>.] - ETA: 0s - loss: 0.1550 - accuracy: 0.3147 - recall_1: 0.0000e+00INFO:tensorflow:Assets written to: /home/paul_d/Sources/sem_math_repo/classification_formulas_multilabel/wandb/run-20230316_011625-cal46zsv/files/model-best/assets\n"
     ]
    },
    {
     "name": "stderr",
     "output_type": "stream",
     "text": [
      "INFO:tensorflow:Assets written to: /home/paul_d/Sources/sem_math_repo/classification_formulas_multilabel/wandb/run-20230316_011625-cal46zsv/files/model-best/assets\n"
     ]
    },
    {
     "name": "stdout",
     "output_type": "stream",
     "text": [
      "346/346 [==============================] - 2s 5ms/step - loss: 0.1551 - accuracy: 0.3125 - recall_1: 0.0000e+00 - val_loss: 0.1445 - val_accuracy: 0.5580 - val_recall_1: 0.0000e+00\n",
      "Epoch 13/80\n",
      "341/346 [============================>.] - ETA: 0s - loss: 0.1532 - accuracy: 0.3201 - recall_1: 0.0000e+00INFO:tensorflow:Assets written to: /home/paul_d/Sources/sem_math_repo/classification_formulas_multilabel/wandb/run-20230316_011625-cal46zsv/files/model-best/assets\n"
     ]
    },
    {
     "name": "stderr",
     "output_type": "stream",
     "text": [
      "INFO:tensorflow:Assets written to: /home/paul_d/Sources/sem_math_repo/classification_formulas_multilabel/wandb/run-20230316_011625-cal46zsv/files/model-best/assets\n"
     ]
    },
    {
     "name": "stdout",
     "output_type": "stream",
     "text": [
      "346/346 [==============================] - 2s 5ms/step - loss: 0.1535 - accuracy: 0.3180 - recall_1: 0.0000e+00 - val_loss: 0.1427 - val_accuracy: 0.5580 - val_recall_1: 0.0000e+00\n",
      "Epoch 14/80\n",
      "335/346 [============================>.] - ETA: 0s - loss: 0.1521 - accuracy: 0.3195 - recall_1: 0.0000e+00INFO:tensorflow:Assets written to: /home/paul_d/Sources/sem_math_repo/classification_formulas_multilabel/wandb/run-20230316_011625-cal46zsv/files/model-best/assets\n"
     ]
    },
    {
     "name": "stderr",
     "output_type": "stream",
     "text": [
      "INFO:tensorflow:Assets written to: /home/paul_d/Sources/sem_math_repo/classification_formulas_multilabel/wandb/run-20230316_011625-cal46zsv/files/model-best/assets\n"
     ]
    },
    {
     "name": "stdout",
     "output_type": "stream",
     "text": [
      "346/346 [==============================] - 2s 5ms/step - loss: 0.1527 - accuracy: 0.3140 - recall_1: 0.0000e+00 - val_loss: 0.1415 - val_accuracy: 0.5580 - val_recall_1: 0.0000e+00\n",
      "Epoch 15/80\n",
      "340/346 [============================>.] - ETA: 0s - loss: 0.1519 - accuracy: 0.3176 - recall_1: 0.0000e+00INFO:tensorflow:Assets written to: /home/paul_d/Sources/sem_math_repo/classification_formulas_multilabel/wandb/run-20230316_011625-cal46zsv/files/model-best/assets\n"
     ]
    },
    {
     "name": "stderr",
     "output_type": "stream",
     "text": [
      "INFO:tensorflow:Assets written to: /home/paul_d/Sources/sem_math_repo/classification_formulas_multilabel/wandb/run-20230316_011625-cal46zsv/files/model-best/assets\n"
     ]
    },
    {
     "name": "stdout",
     "output_type": "stream",
     "text": [
      "346/346 [==============================] - 2s 5ms/step - loss: 0.1522 - accuracy: 0.3141 - recall_1: 0.0000e+00 - val_loss: 0.1408 - val_accuracy: 0.5580 - val_recall_1: 0.0000e+00\n",
      "Epoch 16/80\n",
      "328/346 [===========================>..] - ETA: 0s - loss: 0.1505 - accuracy: 0.3155 - recall_1: 0.0000e+00INFO:tensorflow:Assets written to: /home/paul_d/Sources/sem_math_repo/classification_formulas_multilabel/wandb/run-20230316_011625-cal46zsv/files/model-best/assets\n"
     ]
    },
    {
     "name": "stderr",
     "output_type": "stream",
     "text": [
      "INFO:tensorflow:Assets written to: /home/paul_d/Sources/sem_math_repo/classification_formulas_multilabel/wandb/run-20230316_011625-cal46zsv/files/model-best/assets\n"
     ]
    },
    {
     "name": "stdout",
     "output_type": "stream",
     "text": [
      "346/346 [==============================] - 2s 5ms/step - loss: 0.1517 - accuracy: 0.3070 - recall_1: 0.0000e+00 - val_loss: 0.1404 - val_accuracy: 0.5580 - val_recall_1: 0.0000e+00\n",
      "Epoch 17/80\n",
      "330/346 [===========================>..] - ETA: 0s - loss: 0.1506 - accuracy: 0.3215 - recall_1: 0.0000e+00INFO:tensorflow:Assets written to: /home/paul_d/Sources/sem_math_repo/classification_formulas_multilabel/wandb/run-20230316_011625-cal46zsv/files/model-best/assets\n"
     ]
    },
    {
     "name": "stderr",
     "output_type": "stream",
     "text": [
      "INFO:tensorflow:Assets written to: /home/paul_d/Sources/sem_math_repo/classification_formulas_multilabel/wandb/run-20230316_011625-cal46zsv/files/model-best/assets\n"
     ]
    },
    {
     "name": "stdout",
     "output_type": "stream",
     "text": [
      "346/346 [==============================] - 2s 7ms/step - loss: 0.1516 - accuracy: 0.3145 - recall_1: 0.0000e+00 - val_loss: 0.1402 - val_accuracy: 0.5580 - val_recall_1: 0.0000e+00\n",
      "Epoch 18/80\n",
      "330/346 [===========================>..] - ETA: 0s - loss: 0.1505 - accuracy: 0.3223 - recall_1: 0.0000e+00INFO:tensorflow:Assets written to: /home/paul_d/Sources/sem_math_repo/classification_formulas_multilabel/wandb/run-20230316_011625-cal46zsv/files/model-best/assets\n"
     ]
    },
    {
     "name": "stderr",
     "output_type": "stream",
     "text": [
      "INFO:tensorflow:Assets written to: /home/paul_d/Sources/sem_math_repo/classification_formulas_multilabel/wandb/run-20230316_011625-cal46zsv/files/model-best/assets\n"
     ]
    },
    {
     "name": "stdout",
     "output_type": "stream",
     "text": [
      "346/346 [==============================] - 2s 5ms/step - loss: 0.1517 - accuracy: 0.3148 - recall_1: 0.0000e+00 - val_loss: 0.1401 - val_accuracy: 0.5580 - val_recall_1: 0.0000e+00\n",
      "Epoch 19/80\n",
      "343/346 [============================>.] - ETA: 0s - loss: 0.1511 - accuracy: 0.3125 - recall_1: 0.0000e+00INFO:tensorflow:Assets written to: /home/paul_d/Sources/sem_math_repo/classification_formulas_multilabel/wandb/run-20230316_011625-cal46zsv/files/model-best/assets\n"
     ]
    },
    {
     "name": "stderr",
     "output_type": "stream",
     "text": [
      "INFO:tensorflow:Assets written to: /home/paul_d/Sources/sem_math_repo/classification_formulas_multilabel/wandb/run-20230316_011625-cal46zsv/files/model-best/assets\n"
     ]
    },
    {
     "name": "stdout",
     "output_type": "stream",
     "text": [
      "346/346 [==============================] - 2s 5ms/step - loss: 0.1513 - accuracy: 0.3112 - recall_1: 0.0000e+00 - val_loss: 0.1401 - val_accuracy: 0.5580 - val_recall_1: 0.0000e+00\n",
      "Epoch 20/80\n",
      "346/346 [==============================] - 1s 2ms/step - loss: 0.1512 - accuracy: 0.3169 - recall_1: 0.0000e+00 - val_loss: 0.1401 - val_accuracy: 0.5530 - val_recall_1: 0.0000e+00\n",
      "Epoch 21/80\n",
      "346/346 [==============================] - 1s 2ms/step - loss: 0.1512 - accuracy: 0.3194 - recall_1: 0.0000e+00 - val_loss: 0.1401 - val_accuracy: 0.5530 - val_recall_1: 0.0000e+00\n",
      "Epoch 22/80\n",
      "346/346 [==============================] - 1s 2ms/step - loss: 0.1514 - accuracy: 0.3102 - recall_1: 0.0000e+00 - val_loss: 0.1402 - val_accuracy: 0.5526 - val_recall_1: 0.0000e+00\n",
      "Epoch 23/80\n",
      "346/346 [==============================] - 1s 2ms/step - loss: 0.1512 - accuracy: 0.3138 - recall_1: 0.0000e+00 - val_loss: 0.1402 - val_accuracy: 0.5526 - val_recall_1: 0.0000e+00\n",
      "Epoch 24/80\n",
      "346/346 [==============================] - 1s 2ms/step - loss: 0.1511 - accuracy: 0.3160 - recall_1: 0.0000e+00 - val_loss: 0.1402 - val_accuracy: 0.5526 - val_recall_1: 0.0000e+00\n",
      "Epoch 25/80\n",
      "346/346 [==============================] - 1s 2ms/step - loss: 0.1512 - accuracy: 0.3192 - recall_1: 0.0000e+00 - val_loss: 0.1402 - val_accuracy: 0.5526 - val_recall_1: 0.0000e+00\n",
      "Epoch 26/80\n",
      "346/346 [==============================] - 1s 2ms/step - loss: 0.1512 - accuracy: 0.3187 - recall_1: 0.0000e+00 - val_loss: 0.1403 - val_accuracy: 0.9062 - val_recall_1: 0.0000e+00\n",
      "Epoch 27/80\n",
      "346/346 [==============================] - 1s 2ms/step - loss: 0.1510 - accuracy: 0.3146 - recall_1: 0.0000e+00 - val_loss: 0.1403 - val_accuracy: 0.9062 - val_recall_1: 0.0000e+00\n",
      "Epoch 28/80\n",
      "346/346 [==============================] - 1s 2ms/step - loss: 0.1510 - accuracy: 0.3173 - recall_1: 0.0000e+00 - val_loss: 0.1403 - val_accuracy: 0.9062 - val_recall_1: 0.0000e+00\n",
      "Epoch 29/80\n",
      "346/346 [==============================] - 1s 3ms/step - loss: 0.1511 - accuracy: 0.3154 - recall_1: 0.0000e+00 - val_loss: 0.1403 - val_accuracy: 0.9075 - val_recall_1: 0.0000e+00\n",
      "Epoch 30/80\n",
      "346/346 [==============================] - 1s 3ms/step - loss: 0.1511 - accuracy: 0.3184 - recall_1: 0.0000e+00 - val_loss: 0.1404 - val_accuracy: 0.5506 - val_recall_1: 0.0000e+00\n",
      "Epoch 31/80\n",
      "346/346 [==============================] - 1s 2ms/step - loss: 0.1512 - accuracy: 0.3183 - recall_1: 0.0000e+00 - val_loss: 0.1404 - val_accuracy: 0.9062 - val_recall_1: 0.0000e+00\n",
      "Epoch 32/80\n",
      "346/346 [==============================] - 1s 3ms/step - loss: 0.1510 - accuracy: 0.3181 - recall_1: 0.0000e+00 - val_loss: 0.1403 - val_accuracy: 0.9075 - val_recall_1: 0.0000e+00\n",
      "Epoch 33/80\n",
      "346/346 [==============================] - 1s 2ms/step - loss: 0.1510 - accuracy: 0.3112 - recall_1: 0.0000e+00 - val_loss: 0.1403 - val_accuracy: 0.9075 - val_recall_1: 0.0000e+00\n",
      "Epoch 34/80\n",
      "346/346 [==============================] - 1s 2ms/step - loss: 0.1509 - accuracy: 0.3215 - recall_1: 0.0000e+00 - val_loss: 0.1404 - val_accuracy: 0.9075 - val_recall_1: 0.0000e+00\n",
      "Epoch 35/80\n",
      "346/346 [==============================] - 1s 2ms/step - loss: 0.1509 - accuracy: 0.3200 - recall_1: 0.0000e+00 - val_loss: 0.1404 - val_accuracy: 0.9075 - val_recall_1: 0.0000e+00\n",
      "Epoch 36/80\n",
      "346/346 [==============================] - 1s 3ms/step - loss: 0.1510 - accuracy: 0.3140 - recall_1: 0.0000e+00 - val_loss: 0.1404 - val_accuracy: 0.9075 - val_recall_1: 0.0000e+00\n",
      "Epoch 37/80\n",
      "346/346 [==============================] - 1s 2ms/step - loss: 0.1509 - accuracy: 0.3130 - recall_1: 0.0000e+00 - val_loss: 0.1403 - val_accuracy: 0.9062 - val_recall_1: 0.0000e+00\n",
      "Epoch 38/80\n",
      "346/346 [==============================] - 1s 2ms/step - loss: 0.1509 - accuracy: 0.3183 - recall_1: 0.0000e+00 - val_loss: 0.1403 - val_accuracy: 0.9062 - val_recall_1: 0.0000e+00\n",
      "Epoch 39/80\n",
      "346/346 [==============================] - 1s 2ms/step - loss: 0.1509 - accuracy: 0.3207 - recall_1: 0.0000e+00 - val_loss: 0.1403 - val_accuracy: 0.5510 - val_recall_1: 0.0000e+00\n",
      "Epoch 40/80\n",
      "346/346 [==============================] - 1s 3ms/step - loss: 0.1509 - accuracy: 0.3205 - recall_1: 0.0000e+00 - val_loss: 0.1403 - val_accuracy: 0.9062 - val_recall_1: 0.0000e+00\n",
      "Epoch 41/80\n",
      "346/346 [==============================] - 1s 2ms/step - loss: 0.1507 - accuracy: 0.3191 - recall_1: 0.0000e+00 - val_loss: 0.1404 - val_accuracy: 0.5510 - val_recall_1: 0.0000e+00\n",
      "Epoch 42/80\n",
      "346/346 [==============================] - 1s 3ms/step - loss: 0.1508 - accuracy: 0.3190 - recall_1: 0.0000e+00 - val_loss: 0.1404 - val_accuracy: 0.9058 - val_recall_1: 0.0000e+00\n",
      "Epoch 43/80\n",
      "346/346 [==============================] - 1s 2ms/step - loss: 0.1509 - accuracy: 0.3268 - recall_1: 0.0000e+00 - val_loss: 0.1404 - val_accuracy: 0.9058 - val_recall_1: 0.0000e+00\n",
      "Epoch 44/80\n",
      "346/346 [==============================] - 1s 3ms/step - loss: 0.1507 - accuracy: 0.3217 - recall_1: 0.0000e+00 - val_loss: 0.1404 - val_accuracy: 0.9058 - val_recall_1: 0.0000e+00\n",
      "Epoch 45/80\n",
      "346/346 [==============================] - 1s 2ms/step - loss: 0.1507 - accuracy: 0.3213 - recall_1: 0.0000e+00 - val_loss: 0.1403 - val_accuracy: 0.5506 - val_recall_1: 0.0000e+00\n",
      "Epoch 46/80\n",
      "346/346 [==============================] - 1s 2ms/step - loss: 0.1509 - accuracy: 0.3159 - recall_1: 0.0000e+00 - val_loss: 0.1404 - val_accuracy: 0.5506 - val_recall_1: 0.0000e+00\n",
      "Epoch 47/80\n",
      "346/346 [==============================] - 1s 2ms/step - loss: 0.1507 - accuracy: 0.3225 - recall_1: 0.0000e+00 - val_loss: 0.1403 - val_accuracy: 0.9058 - val_recall_1: 0.0000e+00\n",
      "Epoch 48/80\n",
      "346/346 [==============================] - 1s 2ms/step - loss: 0.1506 - accuracy: 0.3190 - recall_1: 0.0000e+00 - val_loss: 0.1404 - val_accuracy: 0.5506 - val_recall_1: 0.0000e+00\n",
      "Epoch 49/80\n",
      "346/346 [==============================] - 1s 2ms/step - loss: 0.1506 - accuracy: 0.3223 - recall_1: 0.0000e+00 - val_loss: 0.1403 - val_accuracy: 0.9058 - val_recall_1: 0.0000e+00\n",
      "Epoch 50/80\n",
      "346/346 [==============================] - 1s 2ms/step - loss: 0.1506 - accuracy: 0.3211 - recall_1: 0.0000e+00 - val_loss: 0.1403 - val_accuracy: 0.9058 - val_recall_1: 0.0000e+00\n",
      "Epoch 51/80\n",
      "346/346 [==============================] - 1s 2ms/step - loss: 0.1507 - accuracy: 0.3249 - recall_1: 0.0000e+00 - val_loss: 0.1402 - val_accuracy: 0.9058 - val_recall_1: 0.0000e+00\n",
      "Epoch 52/80\n",
      "346/346 [==============================] - 1s 2ms/step - loss: 0.1506 - accuracy: 0.3204 - recall_1: 0.0000e+00 - val_loss: 0.1402 - val_accuracy: 0.9058 - val_recall_1: 0.0000e+00\n",
      "Epoch 53/80\n",
      "346/346 [==============================] - 1s 2ms/step - loss: 0.1506 - accuracy: 0.3235 - recall_1: 0.0000e+00 - val_loss: 0.1402 - val_accuracy: 0.9058 - val_recall_1: 0.0000e+00\n",
      "Epoch 54/80\n",
      "346/346 [==============================] - 1s 2ms/step - loss: 0.1506 - accuracy: 0.3266 - recall_1: 0.0000e+00 - val_loss: 0.1403 - val_accuracy: 0.9058 - val_recall_1: 0.0000e+00\n",
      "Epoch 55/80\n",
      "346/346 [==============================] - 1s 3ms/step - loss: 0.1505 - accuracy: 0.3269 - recall_1: 0.0000e+00 - val_loss: 0.1403 - val_accuracy: 0.9058 - val_recall_1: 0.0000e+00\n",
      "Epoch 56/80\n",
      "346/346 [==============================] - 1s 2ms/step - loss: 0.1506 - accuracy: 0.3254 - recall_1: 0.0000e+00 - val_loss: 0.1404 - val_accuracy: 0.9058 - val_recall_1: 0.0000e+00\n",
      "Epoch 57/80\n",
      "346/346 [==============================] - 1s 3ms/step - loss: 0.1507 - accuracy: 0.3280 - recall_1: 0.0000e+00 - val_loss: 0.1404 - val_accuracy: 0.5502 - val_recall_1: 0.0000e+00\n",
      "Epoch 58/80\n",
      "346/346 [==============================] - 1s 2ms/step - loss: 0.1506 - accuracy: 0.3213 - recall_1: 0.0000e+00 - val_loss: 0.1404 - val_accuracy: 0.5502 - val_recall_1: 0.0000e+00\n",
      "Epoch 59/80\n",
      "346/346 [==============================] - 1s 3ms/step - loss: 0.1506 - accuracy: 0.3218 - recall_1: 0.0000e+00 - val_loss: 0.1404 - val_accuracy: 0.5506 - val_recall_1: 0.0000e+00\n",
      "Epoch 60/80\n",
      "346/346 [==============================] - 1s 2ms/step - loss: 0.1505 - accuracy: 0.3267 - recall_1: 0.0000e+00 - val_loss: 0.1403 - val_accuracy: 0.5506 - val_recall_1: 0.0000e+00\n",
      "Epoch 61/80\n",
      "346/346 [==============================] - 1s 2ms/step - loss: 0.1505 - accuracy: 0.3274 - recall_1: 0.0000e+00 - val_loss: 0.1404 - val_accuracy: 0.9058 - val_recall_1: 0.0000e+00\n",
      "Epoch 62/80\n",
      "346/346 [==============================] - 1s 2ms/step - loss: 0.1506 - accuracy: 0.3259 - recall_1: 0.0000e+00 - val_loss: 0.1404 - val_accuracy: 0.9058 - val_recall_1: 0.0000e+00\n",
      "Epoch 63/80\n",
      "346/346 [==============================] - 1s 2ms/step - loss: 0.1505 - accuracy: 0.3247 - recall_1: 0.0000e+00 - val_loss: 0.1403 - val_accuracy: 0.9058 - val_recall_1: 0.0000e+00\n",
      "Epoch 64/80\n",
      "346/346 [==============================] - 1s 2ms/step - loss: 0.1504 - accuracy: 0.3297 - recall_1: 0.0000e+00 - val_loss: 0.1403 - val_accuracy: 0.9058 - val_recall_1: 0.0000e+00\n",
      "Epoch 65/80\n",
      "346/346 [==============================] - 1s 2ms/step - loss: 0.1504 - accuracy: 0.3289 - recall_1: 0.0000e+00 - val_loss: 0.1403 - val_accuracy: 0.9058 - val_recall_1: 0.0000e+00\n",
      "Epoch 66/80\n",
      "346/346 [==============================] - 1s 2ms/step - loss: 0.1503 - accuracy: 0.3272 - recall_1: 0.0000e+00 - val_loss: 0.1403 - val_accuracy: 0.9058 - val_recall_1: 0.0000e+00\n",
      "Epoch 67/80\n",
      "346/346 [==============================] - 1s 2ms/step - loss: 0.1503 - accuracy: 0.3257 - recall_1: 0.0000e+00 - val_loss: 0.1403 - val_accuracy: 0.9058 - val_recall_1: 0.0000e+00\n",
      "Epoch 68/80\n",
      "346/346 [==============================] - 1s 2ms/step - loss: 0.1504 - accuracy: 0.3308 - recall_1: 0.0000e+00 - val_loss: 0.1403 - val_accuracy: 0.9054 - val_recall_1: 0.0000e+00\n",
      "Epoch 69/80\n",
      "346/346 [==============================] - 1s 3ms/step - loss: 0.1503 - accuracy: 0.3274 - recall_1: 0.0000e+00 - val_loss: 0.1403 - val_accuracy: 0.9054 - val_recall_1: 0.0000e+00\n",
      "Epoch 70/80\n",
      "346/346 [==============================] - 1s 3ms/step - loss: 0.1503 - accuracy: 0.3286 - recall_1: 0.0000e+00 - val_loss: 0.1403 - val_accuracy: 0.9054 - val_recall_1: 0.0000e+00\n",
      "Epoch 71/80\n",
      "346/346 [==============================] - 1s 2ms/step - loss: 0.1503 - accuracy: 0.3295 - recall_1: 0.0000e+00 - val_loss: 0.1403 - val_accuracy: 0.9054 - val_recall_1: 0.0000e+00\n",
      "Epoch 72/80\n",
      "346/346 [==============================] - 1s 3ms/step - loss: 0.1503 - accuracy: 0.3299 - recall_1: 0.0000e+00 - val_loss: 0.1403 - val_accuracy: 0.9058 - val_recall_1: 0.0000e+00\n",
      "Epoch 73/80\n",
      "346/346 [==============================] - 1s 2ms/step - loss: 0.1503 - accuracy: 0.3290 - recall_1: 0.0000e+00 - val_loss: 0.1403 - val_accuracy: 0.9054 - val_recall_1: 0.0000e+00\n",
      "Epoch 74/80\n",
      "346/346 [==============================] - 1s 2ms/step - loss: 0.1504 - accuracy: 0.3270 - recall_1: 0.0000e+00 - val_loss: 0.1403 - val_accuracy: 0.9054 - val_recall_1: 0.0000e+00\n",
      "Epoch 75/80\n",
      "346/346 [==============================] - 1s 2ms/step - loss: 0.1502 - accuracy: 0.3338 - recall_1: 0.0000e+00 - val_loss: 0.1403 - val_accuracy: 0.9054 - val_recall_1: 0.0000e+00\n",
      "Epoch 76/80\n",
      "346/346 [==============================] - 1s 2ms/step - loss: 0.1504 - accuracy: 0.3331 - recall_1: 0.0000e+00 - val_loss: 0.1403 - val_accuracy: 0.9054 - val_recall_1: 0.0000e+00\n",
      "Epoch 77/80\n",
      "346/346 [==============================] - 1s 2ms/step - loss: 0.1503 - accuracy: 0.3314 - recall_1: 0.0000e+00 - val_loss: 0.1403 - val_accuracy: 0.9054 - val_recall_1: 0.0000e+00\n",
      "Epoch 78/80\n",
      "346/346 [==============================] - 1s 2ms/step - loss: 0.1503 - accuracy: 0.3335 - recall_1: 0.0000e+00 - val_loss: 0.1403 - val_accuracy: 0.9054 - val_recall_1: 0.0000e+00\n",
      "Epoch 79/80\n",
      "346/346 [==============================] - 1s 2ms/step - loss: 0.1503 - accuracy: 0.3328 - recall_1: 0.0000e+00 - val_loss: 0.1402 - val_accuracy: 0.9054 - val_recall_1: 0.0000e+00\n",
      "Epoch 80/80\n",
      "346/346 [==============================] - 1s 2ms/step - loss: 0.1502 - accuracy: 0.3334 - recall_1: 0.0000e+00 - val_loss: 0.1403 - val_accuracy: 0.9054 - val_recall_1: 0.0000e+00\n"
     ]
    }
   ],
   "source": [
    "configs_dict = {\n",
    "    \"learning_rate\": optimal_lr,\n",
    "    \"emb_dim\": optimal_emb_dims,\n",
    "    \"dp1\": dp1, \n",
    "    \"dp2\": dp2,\n",
    "    \"algorithm\": \"LogReg\",\n",
    "    \"configuration\": \"multi_only_types\",\n",
    "    \"optimizer\": \"adam\",\n",
    "    \"loss\": \"binary_crossentropy\",\n",
    "    \"epochs\": NUM_EPOCHS,\n",
    "    \"batch_size\": 64,\n",
    "    \"vectorizer\": \"count\",\n",
    "    \"dataset\": \"multi_class_unbalanced_data_TOKENIZED_V1\"\n",
    "}\n",
    "\n",
    "run = wandb.init(project=wandb_project_name, reinit=True, config=configs_dict)\n",
    "\n",
    "history = model2c.fit(train_dataset2, \n",
    "                    epochs=NUM_EPOCHS,\n",
    "                    validation_data=test_dataset2,\n",
    "                    #steps_per_epoch = STEPS_PER_EPOCH,\n",
    "                    validation_steps = VAL_STEPS_PER_EPOCH,\n",
    "                    callbacks= [WandbCallback()])#[tensorboard_callback])\n",
    "run.finish()"
   ]
  },
  {
   "attachments": {},
   "cell_type": "markdown",
   "metadata": {},
   "source": [
    "##### Model 3: TOKENS AND TYPES\n",
    "Find best hyperparameters"
   ]
  },
  {
   "cell_type": "code",
   "execution_count": 80,
   "metadata": {},
   "outputs": [],
   "source": [
    "tokens_input_len = TOKENS_MAX_SEQ_LEN \n",
    "type_input_len = TYPE_TOKENS_MAX_SEQ_LEN\n",
    "NUM_CLASSES = 40\n",
    "\n",
    "encoder_count_tokens3 = create_encoder(\"count\", None, \"token\", train_dataset3, 3)\n",
    "encoder_count_types3 = create_encoder(\"count\", None, \"type\", train_dataset3, 3)\n",
    "model_builder3c = mc_u.create_model_builder3_LR(NUM_CLASSES, encoder_count_tokens3,encoder_count_types3, tokens_input_len, type_input_len)"
   ]
  },
  {
   "cell_type": "code",
   "execution_count": 81,
   "metadata": {},
   "outputs": [],
   "source": [
    "tuner = kt.Hyperband(model_builder3c,\n",
    "                     objective=kt.Objective(\"val_accuracy\", direction=\"max\"),\n",
    "                     max_epochs=20,\n",
    "                     factor=3,\n",
    "                     directory='meta_dir/model3c_lr',\n",
    "                     project_name='model3c_lr')\n",
    "stop_early = tf.keras.callbacks.EarlyStopping(monitor='val_loss', patience=3)"
   ]
  },
  {
   "cell_type": "code",
   "execution_count": 82,
   "metadata": {},
   "outputs": [
    {
     "name": "stdout",
     "output_type": "stream",
     "text": [
      "Trial 30 Complete [00h 00m 26s]\n",
      "val_accuracy: 0.0\n",
      "\n",
      "Best val_accuracy So Far: 0.9054276347160339\n",
      "Total elapsed time: 00h 09m 31s\n",
      "INFO:tensorflow:Oracle triggered exit\n"
     ]
    },
    {
     "name": "stderr",
     "output_type": "stream",
     "text": [
      "INFO:tensorflow:Oracle triggered exit\n"
     ]
    }
   ],
   "source": [
    "tuner.search(train_dataset3,\n",
    "             epochs=30,\n",
    "             validation_data=test_dataset3,\n",
    "             #steps_per_epoch = STEPS_PER_EPOCH,\n",
    "             validation_steps = VAL_STEPS_PER_EPOCH,\n",
    "             callbacks= [stop_early])#[tensorboard_callback])"
   ]
  },
  {
   "cell_type": "code",
   "execution_count": 83,
   "metadata": {},
   "outputs": [
    {
     "name": "stdout",
     "output_type": "stream",
     "text": [
      "0.0001\n",
      "32\n",
      "0.1\n",
      "0.2\n"
     ]
    }
   ],
   "source": [
    "best_hps=tuner.get_best_hyperparameters(num_trials=1)[0]\n",
    "optimal_lr = best_hps.get(\"learning_rate\")\n",
    "optimal_emb_dims = best_hps.get(\"emb_dims\")\n",
    "dp1 = best_hps.get(\"dropout1\")\n",
    "dp2 = best_hps.get(\"dropout2\")\n",
    "print(optimal_lr)\n",
    "print(optimal_emb_dims)\n",
    "print(dp1)\n",
    "print(dp2)"
   ]
  },
  {
   "attachments": {},
   "cell_type": "markdown",
   "metadata": {},
   "source": [
    "Train with best hyperparameters"
   ]
  },
  {
   "cell_type": "code",
   "execution_count": 84,
   "metadata": {},
   "outputs": [],
   "source": [
    "NUM_EPOCHS = 80\n",
    "model3c = mc_u.create_model3_LR(NUM_CLASSES, optimal_emb_dims, dp1, dp2, encoder_count_tokens3, encoder_count_types3, tokens_input_len, type_input_len)\n",
    "model3c.compile(loss=tf.keras.losses.BinaryCrossentropy(from_logits=True),\n",
    "              optimizer=tf.keras.optimizers.Adam(optimal_lr),\n",
    "              metrics=[\"accuracy\", tf.keras.metrics.Recall()])"
   ]
  },
  {
   "cell_type": "code",
   "execution_count": 85,
   "metadata": {},
   "outputs": [
    {
     "name": "stdout",
     "output_type": "stream",
     "text": [
      "Epoch 1/80\n",
      "334/346 [===========================>..] - ETA: 0s - loss: 0.6675 - accuracy: 0.0111 - recall_1: 0.0000e+00INFO:tensorflow:Assets written to: /home/paul_d/Sources/sem_math_repo/classification_formulas_multilabel/wandb/run-20230316_012731-6scdl5vw/files/model-best/assets\n"
     ]
    },
    {
     "name": "stderr",
     "output_type": "stream",
     "text": [
      "INFO:tensorflow:Assets written to: /home/paul_d/Sources/sem_math_repo/classification_formulas_multilabel/wandb/run-20230316_012731-6scdl5vw/files/model-best/assets\n"
     ]
    },
    {
     "name": "stdout",
     "output_type": "stream",
     "text": [
      "346/346 [==============================] - 3s 8ms/step - loss: 0.6665 - accuracy: 0.0109 - recall_1: 0.0000e+00 - val_loss: 0.6448 - val_accuracy: 0.0000e+00 - val_recall_1: 0.0000e+00\n",
      "Epoch 2/80\n",
      "342/346 [============================>.] - ETA: 0s - loss: 0.5967 - accuracy: 0.0557 - recall_1: 0.0000e+00INFO:tensorflow:Assets written to: /home/paul_d/Sources/sem_math_repo/classification_formulas_multilabel/wandb/run-20230316_012731-6scdl5vw/files/model-best/assets\n"
     ]
    },
    {
     "name": "stderr",
     "output_type": "stream",
     "text": [
      "INFO:tensorflow:Assets written to: /home/paul_d/Sources/sem_math_repo/classification_formulas_multilabel/wandb/run-20230316_012731-6scdl5vw/files/model-best/assets\n"
     ]
    },
    {
     "name": "stdout",
     "output_type": "stream",
     "text": [
      "346/346 [==============================] - 3s 7ms/step - loss: 0.5962 - accuracy: 0.0555 - recall_1: 0.0000e+00 - val_loss: 0.5641 - val_accuracy: 0.0000e+00 - val_recall_1: 0.0000e+00\n",
      "Epoch 3/80\n",
      "334/346 [===========================>..] - ETA: 0s - loss: 0.4979 - accuracy: 0.1564 - recall_1: 0.0000e+00INFO:tensorflow:Assets written to: /home/paul_d/Sources/sem_math_repo/classification_formulas_multilabel/wandb/run-20230316_012731-6scdl5vw/files/model-best/assets\n"
     ]
    },
    {
     "name": "stderr",
     "output_type": "stream",
     "text": [
      "INFO:tensorflow:Assets written to: /home/paul_d/Sources/sem_math_repo/classification_formulas_multilabel/wandb/run-20230316_012731-6scdl5vw/files/model-best/assets\n"
     ]
    },
    {
     "name": "stdout",
     "output_type": "stream",
     "text": [
      "346/346 [==============================] - 3s 8ms/step - loss: 0.4964 - accuracy: 0.1546 - recall_1: 0.0000e+00 - val_loss: 0.4645 - val_accuracy: 0.0000e+00 - val_recall_1: 0.0000e+00\n",
      "Epoch 4/80\n",
      "345/346 [============================>.] - ETA: 0s - loss: 0.3948 - accuracy: 0.2471 - recall_1: 0.0000e+00INFO:tensorflow:Assets written to: /home/paul_d/Sources/sem_math_repo/classification_formulas_multilabel/wandb/run-20230316_012731-6scdl5vw/files/model-best/assets\n"
     ]
    },
    {
     "name": "stderr",
     "output_type": "stream",
     "text": [
      "INFO:tensorflow:Assets written to: /home/paul_d/Sources/sem_math_repo/classification_formulas_multilabel/wandb/run-20230316_012731-6scdl5vw/files/model-best/assets\n"
     ]
    },
    {
     "name": "stdout",
     "output_type": "stream",
     "text": [
      "346/346 [==============================] - 3s 7ms/step - loss: 0.3946 - accuracy: 0.2468 - recall_1: 0.0000e+00 - val_loss: 0.3720 - val_accuracy: 0.0000e+00 - val_recall_1: 0.0000e+00\n",
      "Epoch 5/80\n",
      "335/346 [============================>.] - ETA: 0s - loss: 0.3114 - accuracy: 0.2865 - recall_1: 0.0000e+00INFO:tensorflow:Assets written to: /home/paul_d/Sources/sem_math_repo/classification_formulas_multilabel/wandb/run-20230316_012731-6scdl5vw/files/model-best/assets\n"
     ]
    },
    {
     "name": "stderr",
     "output_type": "stream",
     "text": [
      "INFO:tensorflow:Assets written to: /home/paul_d/Sources/sem_math_repo/classification_formulas_multilabel/wandb/run-20230316_012731-6scdl5vw/files/model-best/assets\n"
     ]
    },
    {
     "name": "stdout",
     "output_type": "stream",
     "text": [
      "346/346 [==============================] - 3s 8ms/step - loss: 0.3108 - accuracy: 0.2826 - recall_1: 0.0000e+00 - val_loss: 0.2984 - val_accuracy: 0.0000e+00 - val_recall_1: 0.0000e+00\n",
      "Epoch 6/80\n",
      "344/346 [============================>.] - ETA: 0s - loss: 0.2521 - accuracy: 0.2927 - recall_1: 0.0000e+00INFO:tensorflow:Assets written to: /home/paul_d/Sources/sem_math_repo/classification_formulas_multilabel/wandb/run-20230316_012731-6scdl5vw/files/model-best/assets\n"
     ]
    },
    {
     "name": "stderr",
     "output_type": "stream",
     "text": [
      "INFO:tensorflow:Assets written to: /home/paul_d/Sources/sem_math_repo/classification_formulas_multilabel/wandb/run-20230316_012731-6scdl5vw/files/model-best/assets\n"
     ]
    },
    {
     "name": "stdout",
     "output_type": "stream",
     "text": [
      "346/346 [==============================] - 3s 10ms/step - loss: 0.2521 - accuracy: 0.2922 - recall_1: 0.0000e+00 - val_loss: 0.2467 - val_accuracy: 0.0000e+00 - val_recall_1: 0.0000e+00\n",
      "Epoch 7/80\n",
      "342/346 [============================>.] - ETA: 0s - loss: 0.2144 - accuracy: 0.3036 - recall_1: 0.0000e+00INFO:tensorflow:Assets written to: /home/paul_d/Sources/sem_math_repo/classification_formulas_multilabel/wandb/run-20230316_012731-6scdl5vw/files/model-best/assets\n"
     ]
    },
    {
     "name": "stderr",
     "output_type": "stream",
     "text": [
      "INFO:tensorflow:Assets written to: /home/paul_d/Sources/sem_math_repo/classification_formulas_multilabel/wandb/run-20230316_012731-6scdl5vw/files/model-best/assets\n"
     ]
    },
    {
     "name": "stdout",
     "output_type": "stream",
     "text": [
      "346/346 [==============================] - 3s 8ms/step - loss: 0.2145 - accuracy: 0.3024 - recall_1: 0.0000e+00 - val_loss: 0.2120 - val_accuracy: 0.5502 - val_recall_1: 0.0000e+00\n",
      "Epoch 8/80\n",
      "343/346 [============================>.] - ETA: 0s - loss: 0.1902 - accuracy: 0.3049 - recall_1: 0.0000e+00INFO:tensorflow:Assets written to: /home/paul_d/Sources/sem_math_repo/classification_formulas_multilabel/wandb/run-20230316_012731-6scdl5vw/files/model-best/assets\n"
     ]
    },
    {
     "name": "stderr",
     "output_type": "stream",
     "text": [
      "INFO:tensorflow:Assets written to: /home/paul_d/Sources/sem_math_repo/classification_formulas_multilabel/wandb/run-20230316_012731-6scdl5vw/files/model-best/assets\n"
     ]
    },
    {
     "name": "stdout",
     "output_type": "stream",
     "text": [
      "346/346 [==============================] - 3s 8ms/step - loss: 0.1903 - accuracy: 0.3036 - recall_1: 0.0000e+00 - val_loss: 0.1889 - val_accuracy: 0.5502 - val_recall_1: 0.0000e+00\n",
      "Epoch 9/80\n",
      "346/346 [==============================] - ETA: 0s - loss: 0.1756 - accuracy: 0.3147 - recall_1: 0.0000e+00INFO:tensorflow:Assets written to: /home/paul_d/Sources/sem_math_repo/classification_formulas_multilabel/wandb/run-20230316_012731-6scdl5vw/files/model-best/assets\n"
     ]
    },
    {
     "name": "stderr",
     "output_type": "stream",
     "text": [
      "INFO:tensorflow:Assets written to: /home/paul_d/Sources/sem_math_repo/classification_formulas_multilabel/wandb/run-20230316_012731-6scdl5vw/files/model-best/assets\n"
     ]
    },
    {
     "name": "stdout",
     "output_type": "stream",
     "text": [
      "346/346 [==============================] - 3s 8ms/step - loss: 0.1756 - accuracy: 0.3147 - recall_1: 0.0000e+00 - val_loss: 0.1734 - val_accuracy: 0.5502 - val_recall_1: 0.0000e+00\n",
      "Epoch 10/80\n",
      "342/346 [============================>.] - ETA: 0s - loss: 0.1661 - accuracy: 0.3234 - recall_1: 0.0000e+00INFO:tensorflow:Assets written to: /home/paul_d/Sources/sem_math_repo/classification_formulas_multilabel/wandb/run-20230316_012731-6scdl5vw/files/model-best/assets\n"
     ]
    },
    {
     "name": "stderr",
     "output_type": "stream",
     "text": [
      "INFO:tensorflow:Assets written to: /home/paul_d/Sources/sem_math_repo/classification_formulas_multilabel/wandb/run-20230316_012731-6scdl5vw/files/model-best/assets\n"
     ]
    },
    {
     "name": "stdout",
     "output_type": "stream",
     "text": [
      "346/346 [==============================] - 3s 8ms/step - loss: 0.1663 - accuracy: 0.3217 - recall_1: 0.0000e+00 - val_loss: 0.1630 - val_accuracy: 0.5502 - val_recall_1: 0.0000e+00\n",
      "Epoch 11/80\n",
      "335/346 [============================>.] - ETA: 0s - loss: 0.1602 - accuracy: 0.3303 - recall_1: 0.0000e+00INFO:tensorflow:Assets written to: /home/paul_d/Sources/sem_math_repo/classification_formulas_multilabel/wandb/run-20230316_012731-6scdl5vw/files/model-best/assets\n"
     ]
    },
    {
     "name": "stderr",
     "output_type": "stream",
     "text": [
      "INFO:tensorflow:Assets written to: /home/paul_d/Sources/sem_math_repo/classification_formulas_multilabel/wandb/run-20230316_012731-6scdl5vw/files/model-best/assets\n"
     ]
    },
    {
     "name": "stdout",
     "output_type": "stream",
     "text": [
      "346/346 [==============================] - 3s 8ms/step - loss: 0.1607 - accuracy: 0.3245 - recall_1: 0.0000e+00 - val_loss: 0.1559 - val_accuracy: 0.5502 - val_recall_1: 0.0000e+00\n",
      "Epoch 12/80\n",
      "346/346 [==============================] - ETA: 0s - loss: 0.1571 - accuracy: 0.3294 - recall_1: 0.0000e+00INFO:tensorflow:Assets written to: /home/paul_d/Sources/sem_math_repo/classification_formulas_multilabel/wandb/run-20230316_012731-6scdl5vw/files/model-best/assets\n"
     ]
    },
    {
     "name": "stderr",
     "output_type": "stream",
     "text": [
      "INFO:tensorflow:Assets written to: /home/paul_d/Sources/sem_math_repo/classification_formulas_multilabel/wandb/run-20230316_012731-6scdl5vw/files/model-best/assets\n"
     ]
    },
    {
     "name": "stdout",
     "output_type": "stream",
     "text": [
      "346/346 [==============================] - 3s 8ms/step - loss: 0.1571 - accuracy: 0.3294 - recall_1: 0.0000e+00 - val_loss: 0.1511 - val_accuracy: 0.5502 - val_recall_1: 0.0000e+00\n",
      "Epoch 13/80\n",
      "343/346 [============================>.] - ETA: 0s - loss: 0.1548 - accuracy: 0.3312 - recall_1: 0.0000e+00INFO:tensorflow:Assets written to: /home/paul_d/Sources/sem_math_repo/classification_formulas_multilabel/wandb/run-20230316_012731-6scdl5vw/files/model-best/assets\n"
     ]
    },
    {
     "name": "stderr",
     "output_type": "stream",
     "text": [
      "INFO:tensorflow:Assets written to: /home/paul_d/Sources/sem_math_repo/classification_formulas_multilabel/wandb/run-20230316_012731-6scdl5vw/files/model-best/assets\n"
     ]
    },
    {
     "name": "stdout",
     "output_type": "stream",
     "text": [
      "346/346 [==============================] - 3s 10ms/step - loss: 0.1549 - accuracy: 0.3297 - recall_1: 0.0000e+00 - val_loss: 0.1477 - val_accuracy: 0.5502 - val_recall_1: 0.0000e+00\n",
      "Epoch 14/80\n",
      "346/346 [==============================] - ETA: 0s - loss: 0.1533 - accuracy: 0.3307 - recall_1: 0.0000e+00INFO:tensorflow:Assets written to: /home/paul_d/Sources/sem_math_repo/classification_formulas_multilabel/wandb/run-20230316_012731-6scdl5vw/files/model-best/assets\n"
     ]
    },
    {
     "name": "stderr",
     "output_type": "stream",
     "text": [
      "INFO:tensorflow:Assets written to: /home/paul_d/Sources/sem_math_repo/classification_formulas_multilabel/wandb/run-20230316_012731-6scdl5vw/files/model-best/assets\n"
     ]
    },
    {
     "name": "stdout",
     "output_type": "stream",
     "text": [
      "346/346 [==============================] - 3s 8ms/step - loss: 0.1533 - accuracy: 0.3307 - recall_1: 0.0000e+00 - val_loss: 0.1454 - val_accuracy: 0.5502 - val_recall_1: 0.0000e+00\n",
      "Epoch 15/80\n",
      "344/346 [============================>.] - ETA: 0s - loss: 0.1521 - accuracy: 0.3411 - recall_1: 0.0000e+00INFO:tensorflow:Assets written to: /home/paul_d/Sources/sem_math_repo/classification_formulas_multilabel/wandb/run-20230316_012731-6scdl5vw/files/model-best/assets\n"
     ]
    },
    {
     "name": "stderr",
     "output_type": "stream",
     "text": [
      "INFO:tensorflow:Assets written to: /home/paul_d/Sources/sem_math_repo/classification_formulas_multilabel/wandb/run-20230316_012731-6scdl5vw/files/model-best/assets\n"
     ]
    },
    {
     "name": "stdout",
     "output_type": "stream",
     "text": [
      "346/346 [==============================] - 3s 8ms/step - loss: 0.1522 - accuracy: 0.3399 - recall_1: 0.0000e+00 - val_loss: 0.1438 - val_accuracy: 0.5502 - val_recall_1: 0.0000e+00\n",
      "Epoch 16/80\n",
      "338/346 [============================>.] - ETA: 0s - loss: 0.1511 - accuracy: 0.3442 - recall_1: 0.0000e+00INFO:tensorflow:Assets written to: /home/paul_d/Sources/sem_math_repo/classification_formulas_multilabel/wandb/run-20230316_012731-6scdl5vw/files/model-best/assets\n"
     ]
    },
    {
     "name": "stderr",
     "output_type": "stream",
     "text": [
      "INFO:tensorflow:Assets written to: /home/paul_d/Sources/sem_math_repo/classification_formulas_multilabel/wandb/run-20230316_012731-6scdl5vw/files/model-best/assets\n"
     ]
    },
    {
     "name": "stdout",
     "output_type": "stream",
     "text": [
      "346/346 [==============================] - 3s 8ms/step - loss: 0.1516 - accuracy: 0.3399 - recall_1: 0.0000e+00 - val_loss: 0.1427 - val_accuracy: 0.5502 - val_recall_1: 0.0000e+00\n",
      "Epoch 17/80\n",
      "335/346 [============================>.] - ETA: 0s - loss: 0.1504 - accuracy: 0.3500 - recall_1: 0.0000e+00INFO:tensorflow:Assets written to: /home/paul_d/Sources/sem_math_repo/classification_formulas_multilabel/wandb/run-20230316_012731-6scdl5vw/files/model-best/assets\n"
     ]
    },
    {
     "name": "stderr",
     "output_type": "stream",
     "text": [
      "INFO:tensorflow:Assets written to: /home/paul_d/Sources/sem_math_repo/classification_formulas_multilabel/wandb/run-20230316_012731-6scdl5vw/files/model-best/assets\n"
     ]
    },
    {
     "name": "stdout",
     "output_type": "stream",
     "text": [
      "346/346 [==============================] - 3s 8ms/step - loss: 0.1512 - accuracy: 0.3432 - recall_1: 0.0000e+00 - val_loss: 0.1419 - val_accuracy: 0.5498 - val_recall_1: 0.0000e+00\n",
      "Epoch 18/80\n",
      "346/346 [==============================] - ETA: 0s - loss: 0.1508 - accuracy: 0.3414 - recall_1: 0.0000e+00INFO:tensorflow:Assets written to: /home/paul_d/Sources/sem_math_repo/classification_formulas_multilabel/wandb/run-20230316_012731-6scdl5vw/files/model-best/assets\n"
     ]
    },
    {
     "name": "stderr",
     "output_type": "stream",
     "text": [
      "INFO:tensorflow:Assets written to: /home/paul_d/Sources/sem_math_repo/classification_formulas_multilabel/wandb/run-20230316_012731-6scdl5vw/files/model-best/assets\n"
     ]
    },
    {
     "name": "stdout",
     "output_type": "stream",
     "text": [
      "346/346 [==============================] - 3s 8ms/step - loss: 0.1508 - accuracy: 0.3414 - recall_1: 0.0000e+00 - val_loss: 0.1414 - val_accuracy: 0.5498 - val_recall_1: 0.0000e+00\n",
      "Epoch 19/80\n",
      "337/346 [============================>.] - ETA: 0s - loss: 0.1502 - accuracy: 0.3493 - recall_1: 0.0000e+00INFO:tensorflow:Assets written to: /home/paul_d/Sources/sem_math_repo/classification_formulas_multilabel/wandb/run-20230316_012731-6scdl5vw/files/model-best/assets\n"
     ]
    },
    {
     "name": "stderr",
     "output_type": "stream",
     "text": [
      "INFO:tensorflow:Assets written to: /home/paul_d/Sources/sem_math_repo/classification_formulas_multilabel/wandb/run-20230316_012731-6scdl5vw/files/model-best/assets\n"
     ]
    },
    {
     "name": "stdout",
     "output_type": "stream",
     "text": [
      "346/346 [==============================] - 3s 10ms/step - loss: 0.1507 - accuracy: 0.3441 - recall_1: 0.0000e+00 - val_loss: 0.1410 - val_accuracy: 0.5498 - val_recall_1: 0.0000e+00\n",
      "Epoch 20/80\n",
      "336/346 [============================>.] - ETA: 0s - loss: 0.1500 - accuracy: 0.3527 - recall_1: 0.0000e+00INFO:tensorflow:Assets written to: /home/paul_d/Sources/sem_math_repo/classification_formulas_multilabel/wandb/run-20230316_012731-6scdl5vw/files/model-best/assets\n"
     ]
    },
    {
     "name": "stderr",
     "output_type": "stream",
     "text": [
      "INFO:tensorflow:Assets written to: /home/paul_d/Sources/sem_math_repo/classification_formulas_multilabel/wandb/run-20230316_012731-6scdl5vw/files/model-best/assets\n"
     ]
    },
    {
     "name": "stdout",
     "output_type": "stream",
     "text": [
      "346/346 [==============================] - 3s 9ms/step - loss: 0.1506 - accuracy: 0.3461 - recall_1: 0.0000e+00 - val_loss: 0.1408 - val_accuracy: 0.9050 - val_recall_1: 0.0000e+00\n",
      "Epoch 21/80\n",
      "336/346 [============================>.] - ETA: 0s - loss: 0.1499 - accuracy: 0.3532 - recall_1: 0.0000e+00INFO:tensorflow:Assets written to: /home/paul_d/Sources/sem_math_repo/classification_formulas_multilabel/wandb/run-20230316_012731-6scdl5vw/files/model-best/assets\n"
     ]
    },
    {
     "name": "stderr",
     "output_type": "stream",
     "text": [
      "INFO:tensorflow:Assets written to: /home/paul_d/Sources/sem_math_repo/classification_formulas_multilabel/wandb/run-20230316_012731-6scdl5vw/files/model-best/assets\n"
     ]
    },
    {
     "name": "stdout",
     "output_type": "stream",
     "text": [
      "346/346 [==============================] - 3s 8ms/step - loss: 0.1505 - accuracy: 0.3473 - recall_1: 0.0000e+00 - val_loss: 0.1406 - val_accuracy: 0.9050 - val_recall_1: 0.0000e+00\n",
      "Epoch 22/80\n",
      "343/346 [============================>.] - ETA: 0s - loss: 0.1501 - accuracy: 0.3498 - recall_1: 0.0000e+00INFO:tensorflow:Assets written to: /home/paul_d/Sources/sem_math_repo/classification_formulas_multilabel/wandb/run-20230316_012731-6scdl5vw/files/model-best/assets\n"
     ]
    },
    {
     "name": "stderr",
     "output_type": "stream",
     "text": [
      "INFO:tensorflow:Assets written to: /home/paul_d/Sources/sem_math_repo/classification_formulas_multilabel/wandb/run-20230316_012731-6scdl5vw/files/model-best/assets\n"
     ]
    },
    {
     "name": "stdout",
     "output_type": "stream",
     "text": [
      "346/346 [==============================] - 3s 7ms/step - loss: 0.1503 - accuracy: 0.3477 - recall_1: 0.0000e+00 - val_loss: 0.1405 - val_accuracy: 0.9050 - val_recall_1: 0.0000e+00\n",
      "Epoch 23/80\n",
      "346/346 [==============================] - ETA: 0s - loss: 0.1504 - accuracy: 0.3518 - recall_1: 0.0000e+00INFO:tensorflow:Assets written to: /home/paul_d/Sources/sem_math_repo/classification_formulas_multilabel/wandb/run-20230316_012731-6scdl5vw/files/model-best/assets\n"
     ]
    },
    {
     "name": "stderr",
     "output_type": "stream",
     "text": [
      "INFO:tensorflow:Assets written to: /home/paul_d/Sources/sem_math_repo/classification_formulas_multilabel/wandb/run-20230316_012731-6scdl5vw/files/model-best/assets\n"
     ]
    },
    {
     "name": "stdout",
     "output_type": "stream",
     "text": [
      "346/346 [==============================] - 3s 8ms/step - loss: 0.1504 - accuracy: 0.3518 - recall_1: 0.0000e+00 - val_loss: 0.1404 - val_accuracy: 0.9050 - val_recall_1: 0.0000e+00\n",
      "Epoch 24/80\n",
      "345/346 [============================>.] - ETA: 0s - loss: 0.1500 - accuracy: 0.3522 - recall_1: 0.0000e+00INFO:tensorflow:Assets written to: /home/paul_d/Sources/sem_math_repo/classification_formulas_multilabel/wandb/run-20230316_012731-6scdl5vw/files/model-best/assets\n"
     ]
    },
    {
     "name": "stderr",
     "output_type": "stream",
     "text": [
      "INFO:tensorflow:Assets written to: /home/paul_d/Sources/sem_math_repo/classification_formulas_multilabel/wandb/run-20230316_012731-6scdl5vw/files/model-best/assets\n"
     ]
    },
    {
     "name": "stdout",
     "output_type": "stream",
     "text": [
      "346/346 [==============================] - 3s 8ms/step - loss: 0.1501 - accuracy: 0.3515 - recall_1: 0.0000e+00 - val_loss: 0.1403 - val_accuracy: 0.9050 - val_recall_1: 0.0000e+00\n",
      "Epoch 25/80\n",
      "345/346 [============================>.] - ETA: 0s - loss: 0.1500 - accuracy: 0.3511 - recall_1: 0.0000e+00INFO:tensorflow:Assets written to: /home/paul_d/Sources/sem_math_repo/classification_formulas_multilabel/wandb/run-20230316_012731-6scdl5vw/files/model-best/assets\n"
     ]
    },
    {
     "name": "stderr",
     "output_type": "stream",
     "text": [
      "INFO:tensorflow:Assets written to: /home/paul_d/Sources/sem_math_repo/classification_formulas_multilabel/wandb/run-20230316_012731-6scdl5vw/files/model-best/assets\n"
     ]
    },
    {
     "name": "stdout",
     "output_type": "stream",
     "text": [
      "346/346 [==============================] - 3s 8ms/step - loss: 0.1501 - accuracy: 0.3504 - recall_1: 0.0000e+00 - val_loss: 0.1402 - val_accuracy: 0.9050 - val_recall_1: 0.0000e+00\n",
      "Epoch 26/80\n",
      "334/346 [===========================>..] - ETA: 0s - loss: 0.1494 - accuracy: 0.3583 - recall_1: 0.0000e+00INFO:tensorflow:Assets written to: /home/paul_d/Sources/sem_math_repo/classification_formulas_multilabel/wandb/run-20230316_012731-6scdl5vw/files/model-best/assets\n"
     ]
    },
    {
     "name": "stderr",
     "output_type": "stream",
     "text": [
      "INFO:tensorflow:Assets written to: /home/paul_d/Sources/sem_math_repo/classification_formulas_multilabel/wandb/run-20230316_012731-6scdl5vw/files/model-best/assets\n"
     ]
    },
    {
     "name": "stdout",
     "output_type": "stream",
     "text": [
      "346/346 [==============================] - 3s 10ms/step - loss: 0.1501 - accuracy: 0.3498 - recall_1: 0.0000e+00 - val_loss: 0.1401 - val_accuracy: 0.9050 - val_recall_1: 0.0000e+00\n",
      "Epoch 27/80\n",
      "336/346 [============================>.] - ETA: 0s - loss: 0.1494 - accuracy: 0.3654 - recall_1: 0.0000e+00INFO:tensorflow:Assets written to: /home/paul_d/Sources/sem_math_repo/classification_formulas_multilabel/wandb/run-20230316_012731-6scdl5vw/files/model-best/assets\n"
     ]
    },
    {
     "name": "stderr",
     "output_type": "stream",
     "text": [
      "INFO:tensorflow:Assets written to: /home/paul_d/Sources/sem_math_repo/classification_formulas_multilabel/wandb/run-20230316_012731-6scdl5vw/files/model-best/assets\n"
     ]
    },
    {
     "name": "stdout",
     "output_type": "stream",
     "text": [
      "346/346 [==============================] - 3s 8ms/step - loss: 0.1500 - accuracy: 0.3578 - recall_1: 0.0000e+00 - val_loss: 0.1401 - val_accuracy: 0.9050 - val_recall_1: 0.0000e+00\n",
      "Epoch 28/80\n",
      "342/346 [============================>.] - ETA: 0s - loss: 0.1497 - accuracy: 0.3613 - recall_1: 0.0000e+00INFO:tensorflow:Assets written to: /home/paul_d/Sources/sem_math_repo/classification_formulas_multilabel/wandb/run-20230316_012731-6scdl5vw/files/model-best/assets\n"
     ]
    },
    {
     "name": "stderr",
     "output_type": "stream",
     "text": [
      "INFO:tensorflow:Assets written to: /home/paul_d/Sources/sem_math_repo/classification_formulas_multilabel/wandb/run-20230316_012731-6scdl5vw/files/model-best/assets\n"
     ]
    },
    {
     "name": "stdout",
     "output_type": "stream",
     "text": [
      "346/346 [==============================] - 3s 8ms/step - loss: 0.1499 - accuracy: 0.3586 - recall_1: 0.0000e+00 - val_loss: 0.1400 - val_accuracy: 0.9050 - val_recall_1: 0.0000e+00\n",
      "Epoch 29/80\n",
      "334/346 [===========================>..] - ETA: 0s - loss: 0.1492 - accuracy: 0.3654 - recall_1: 0.0000e+00INFO:tensorflow:Assets written to: /home/paul_d/Sources/sem_math_repo/classification_formulas_multilabel/wandb/run-20230316_012731-6scdl5vw/files/model-best/assets\n"
     ]
    },
    {
     "name": "stderr",
     "output_type": "stream",
     "text": [
      "INFO:tensorflow:Assets written to: /home/paul_d/Sources/sem_math_repo/classification_formulas_multilabel/wandb/run-20230316_012731-6scdl5vw/files/model-best/assets\n"
     ]
    },
    {
     "name": "stdout",
     "output_type": "stream",
     "text": [
      "346/346 [==============================] - 3s 7ms/step - loss: 0.1500 - accuracy: 0.3574 - recall_1: 0.0000e+00 - val_loss: 0.1400 - val_accuracy: 0.9050 - val_recall_1: 0.0000e+00\n",
      "Epoch 30/80\n",
      "345/346 [============================>.] - ETA: 0s - loss: 0.1497 - accuracy: 0.3625 - recall_1: 0.0000e+00INFO:tensorflow:Assets written to: /home/paul_d/Sources/sem_math_repo/classification_formulas_multilabel/wandb/run-20230316_012731-6scdl5vw/files/model-best/assets\n"
     ]
    },
    {
     "name": "stderr",
     "output_type": "stream",
     "text": [
      "INFO:tensorflow:Assets written to: /home/paul_d/Sources/sem_math_repo/classification_formulas_multilabel/wandb/run-20230316_012731-6scdl5vw/files/model-best/assets\n"
     ]
    },
    {
     "name": "stdout",
     "output_type": "stream",
     "text": [
      "346/346 [==============================] - 3s 8ms/step - loss: 0.1498 - accuracy: 0.3617 - recall_1: 0.0000e+00 - val_loss: 0.1399 - val_accuracy: 0.9050 - val_recall_1: 0.0000e+00\n",
      "Epoch 31/80\n",
      "346/346 [==============================] - ETA: 0s - loss: 0.1497 - accuracy: 0.3605 - recall_1: 0.0000e+00INFO:tensorflow:Assets written to: /home/paul_d/Sources/sem_math_repo/classification_formulas_multilabel/wandb/run-20230316_012731-6scdl5vw/files/model-best/assets\n"
     ]
    },
    {
     "name": "stderr",
     "output_type": "stream",
     "text": [
      "INFO:tensorflow:Assets written to: /home/paul_d/Sources/sem_math_repo/classification_formulas_multilabel/wandb/run-20230316_012731-6scdl5vw/files/model-best/assets\n"
     ]
    },
    {
     "name": "stdout",
     "output_type": "stream",
     "text": [
      "346/346 [==============================] - 3s 8ms/step - loss: 0.1497 - accuracy: 0.3605 - recall_1: 0.0000e+00 - val_loss: 0.1398 - val_accuracy: 0.9050 - val_recall_1: 0.0000e+00\n",
      "Epoch 32/80\n",
      "344/346 [============================>.] - ETA: 0s - loss: 0.1495 - accuracy: 0.3661 - recall_1: 0.0000e+00INFO:tensorflow:Assets written to: /home/paul_d/Sources/sem_math_repo/classification_formulas_multilabel/wandb/run-20230316_012731-6scdl5vw/files/model-best/assets\n"
     ]
    },
    {
     "name": "stderr",
     "output_type": "stream",
     "text": [
      "INFO:tensorflow:Assets written to: /home/paul_d/Sources/sem_math_repo/classification_formulas_multilabel/wandb/run-20230316_012731-6scdl5vw/files/model-best/assets\n"
     ]
    },
    {
     "name": "stdout",
     "output_type": "stream",
     "text": [
      "346/346 [==============================] - 3s 8ms/step - loss: 0.1496 - accuracy: 0.3649 - recall_1: 0.0000e+00 - val_loss: 0.1398 - val_accuracy: 0.9050 - val_recall_1: 0.0000e+00\n",
      "Epoch 33/80\n",
      "346/346 [==============================] - ETA: 0s - loss: 0.1497 - accuracy: 0.3608 - recall_1: 0.0000e+00INFO:tensorflow:Assets written to: /home/paul_d/Sources/sem_math_repo/classification_formulas_multilabel/wandb/run-20230316_012731-6scdl5vw/files/model-best/assets\n"
     ]
    },
    {
     "name": "stderr",
     "output_type": "stream",
     "text": [
      "INFO:tensorflow:Assets written to: /home/paul_d/Sources/sem_math_repo/classification_formulas_multilabel/wandb/run-20230316_012731-6scdl5vw/files/model-best/assets\n"
     ]
    },
    {
     "name": "stdout",
     "output_type": "stream",
     "text": [
      "346/346 [==============================] - 4s 10ms/step - loss: 0.1497 - accuracy: 0.3608 - recall_1: 0.0000e+00 - val_loss: 0.1397 - val_accuracy: 0.9050 - val_recall_1: 0.0000e+00\n",
      "Epoch 34/80\n",
      "338/346 [============================>.] - ETA: 0s - loss: 0.1491 - accuracy: 0.3710 - recall_1: 0.0000e+00INFO:tensorflow:Assets written to: /home/paul_d/Sources/sem_math_repo/classification_formulas_multilabel/wandb/run-20230316_012731-6scdl5vw/files/model-best/assets\n"
     ]
    },
    {
     "name": "stderr",
     "output_type": "stream",
     "text": [
      "INFO:tensorflow:Assets written to: /home/paul_d/Sources/sem_math_repo/classification_formulas_multilabel/wandb/run-20230316_012731-6scdl5vw/files/model-best/assets\n"
     ]
    },
    {
     "name": "stdout",
     "output_type": "stream",
     "text": [
      "346/346 [==============================] - 3s 8ms/step - loss: 0.1496 - accuracy: 0.3647 - recall_1: 0.0000e+00 - val_loss: 0.1396 - val_accuracy: 0.9050 - val_recall_1: 0.0000e+00\n",
      "Epoch 35/80\n",
      "334/346 [===========================>..] - ETA: 0s - loss: 0.1488 - accuracy: 0.3753 - recall_1: 2.4968e-05INFO:tensorflow:Assets written to: /home/paul_d/Sources/sem_math_repo/classification_formulas_multilabel/wandb/run-20230316_012731-6scdl5vw/files/model-best/assets\n"
     ]
    },
    {
     "name": "stderr",
     "output_type": "stream",
     "text": [
      "INFO:tensorflow:Assets written to: /home/paul_d/Sources/sem_math_repo/classification_formulas_multilabel/wandb/run-20230316_012731-6scdl5vw/files/model-best/assets\n"
     ]
    },
    {
     "name": "stdout",
     "output_type": "stream",
     "text": [
      "346/346 [==============================] - 3s 8ms/step - loss: 0.1496 - accuracy: 0.3657 - recall_1: 2.4098e-05 - val_loss: 0.1395 - val_accuracy: 0.9050 - val_recall_1: 0.0000e+00\n",
      "Epoch 36/80\n",
      "337/346 [============================>.] - ETA: 0s - loss: 0.1490 - accuracy: 0.3741 - recall_1: 0.0000e+00INFO:tensorflow:Assets written to: /home/paul_d/Sources/sem_math_repo/classification_formulas_multilabel/wandb/run-20230316_012731-6scdl5vw/files/model-best/assets\n"
     ]
    },
    {
     "name": "stderr",
     "output_type": "stream",
     "text": [
      "INFO:tensorflow:Assets written to: /home/paul_d/Sources/sem_math_repo/classification_formulas_multilabel/wandb/run-20230316_012731-6scdl5vw/files/model-best/assets\n"
     ]
    },
    {
     "name": "stdout",
     "output_type": "stream",
     "text": [
      "346/346 [==============================] - 3s 8ms/step - loss: 0.1496 - accuracy: 0.3674 - recall_1: 0.0000e+00 - val_loss: 0.1395 - val_accuracy: 0.9050 - val_recall_1: 0.0000e+00\n",
      "Epoch 37/80\n",
      "334/346 [===========================>..] - ETA: 0s - loss: 0.1488 - accuracy: 0.3789 - recall_1: 4.9949e-05INFO:tensorflow:Assets written to: /home/paul_d/Sources/sem_math_repo/classification_formulas_multilabel/wandb/run-20230316_012731-6scdl5vw/files/model-best/assets\n"
     ]
    },
    {
     "name": "stderr",
     "output_type": "stream",
     "text": [
      "INFO:tensorflow:Assets written to: /home/paul_d/Sources/sem_math_repo/classification_formulas_multilabel/wandb/run-20230316_012731-6scdl5vw/files/model-best/assets\n"
     ]
    },
    {
     "name": "stdout",
     "output_type": "stream",
     "text": [
      "346/346 [==============================] - 3s 8ms/step - loss: 0.1495 - accuracy: 0.3699 - recall_1: 4.8196e-05 - val_loss: 0.1395 - val_accuracy: 0.9050 - val_recall_1: 0.0000e+00\n",
      "Epoch 38/80\n",
      "341/346 [============================>.] - ETA: 0s - loss: 0.1491 - accuracy: 0.3759 - recall_1: 2.4458e-05INFO:tensorflow:Assets written to: /home/paul_d/Sources/sem_math_repo/classification_formulas_multilabel/wandb/run-20230316_012731-6scdl5vw/files/model-best/assets\n"
     ]
    },
    {
     "name": "stderr",
     "output_type": "stream",
     "text": [
      "INFO:tensorflow:Assets written to: /home/paul_d/Sources/sem_math_repo/classification_formulas_multilabel/wandb/run-20230316_012731-6scdl5vw/files/model-best/assets\n"
     ]
    },
    {
     "name": "stdout",
     "output_type": "stream",
     "text": [
      "346/346 [==============================] - 3s 8ms/step - loss: 0.1494 - accuracy: 0.3718 - recall_1: 2.4099e-05 - val_loss: 0.1394 - val_accuracy: 0.9050 - val_recall_1: 0.0000e+00\n",
      "Epoch 39/80\n",
      "345/346 [============================>.] - ETA: 0s - loss: 0.1494 - accuracy: 0.3732 - recall_1: 2.4166e-05INFO:tensorflow:Assets written to: /home/paul_d/Sources/sem_math_repo/classification_formulas_multilabel/wandb/run-20230316_012731-6scdl5vw/files/model-best/assets\n"
     ]
    },
    {
     "name": "stderr",
     "output_type": "stream",
     "text": [
      "INFO:tensorflow:Assets written to: /home/paul_d/Sources/sem_math_repo/classification_formulas_multilabel/wandb/run-20230316_012731-6scdl5vw/files/model-best/assets\n"
     ]
    },
    {
     "name": "stdout",
     "output_type": "stream",
     "text": [
      "346/346 [==============================] - 3s 8ms/step - loss: 0.1495 - accuracy: 0.3725 - recall_1: 2.4098e-05 - val_loss: 0.1394 - val_accuracy: 0.9050 - val_recall_1: 0.0000e+00\n",
      "Epoch 40/80\n",
      "346/346 [==============================] - ETA: 0s - loss: 0.1495 - accuracy: 0.3659 - recall_1: 4.8197e-05INFO:tensorflow:Assets written to: /home/paul_d/Sources/sem_math_repo/classification_formulas_multilabel/wandb/run-20230316_012731-6scdl5vw/files/model-best/assets\n"
     ]
    },
    {
     "name": "stderr",
     "output_type": "stream",
     "text": [
      "INFO:tensorflow:Assets written to: /home/paul_d/Sources/sem_math_repo/classification_formulas_multilabel/wandb/run-20230316_012731-6scdl5vw/files/model-best/assets\n"
     ]
    },
    {
     "name": "stdout",
     "output_type": "stream",
     "text": [
      "346/346 [==============================] - 3s 10ms/step - loss: 0.1495 - accuracy: 0.3659 - recall_1: 4.8197e-05 - val_loss: 0.1393 - val_accuracy: 0.9050 - val_recall_1: 0.0000e+00\n",
      "Epoch 41/80\n",
      "335/346 [============================>.] - ETA: 0s - loss: 0.1486 - accuracy: 0.3818 - recall_1: 4.9791e-05INFO:tensorflow:Assets written to: /home/paul_d/Sources/sem_math_repo/classification_formulas_multilabel/wandb/run-20230316_012731-6scdl5vw/files/model-best/assets\n"
     ]
    },
    {
     "name": "stderr",
     "output_type": "stream",
     "text": [
      "INFO:tensorflow:Assets written to: /home/paul_d/Sources/sem_math_repo/classification_formulas_multilabel/wandb/run-20230316_012731-6scdl5vw/files/model-best/assets\n"
     ]
    },
    {
     "name": "stdout",
     "output_type": "stream",
     "text": [
      "346/346 [==============================] - 3s 8ms/step - loss: 0.1493 - accuracy: 0.3731 - recall_1: 4.8200e-05 - val_loss: 0.1393 - val_accuracy: 0.9050 - val_recall_1: 0.0000e+00\n",
      "Epoch 42/80\n",
      "345/346 [============================>.] - ETA: 0s - loss: 0.1493 - accuracy: 0.3728 - recall_1: 7.2509e-05INFO:tensorflow:Assets written to: /home/paul_d/Sources/sem_math_repo/classification_formulas_multilabel/wandb/run-20230316_012731-6scdl5vw/files/model-best/assets\n"
     ]
    },
    {
     "name": "stderr",
     "output_type": "stream",
     "text": [
      "INFO:tensorflow:Assets written to: /home/paul_d/Sources/sem_math_repo/classification_formulas_multilabel/wandb/run-20230316_012731-6scdl5vw/files/model-best/assets\n"
     ]
    },
    {
     "name": "stdout",
     "output_type": "stream",
     "text": [
      "346/346 [==============================] - 3s 8ms/step - loss: 0.1494 - accuracy: 0.3721 - recall_1: 7.2300e-05 - val_loss: 0.1392 - val_accuracy: 0.9050 - val_recall_1: 0.0000e+00\n",
      "Epoch 43/80\n",
      "336/346 [============================>.] - ETA: 0s - loss: 0.1487 - accuracy: 0.3844 - recall_1: 1.2404e-04INFO:tensorflow:Assets written to: /home/paul_d/Sources/sem_math_repo/classification_formulas_multilabel/wandb/run-20230316_012731-6scdl5vw/files/model-best/assets\n"
     ]
    },
    {
     "name": "stderr",
     "output_type": "stream",
     "text": [
      "INFO:tensorflow:Assets written to: /home/paul_d/Sources/sem_math_repo/classification_formulas_multilabel/wandb/run-20230316_012731-6scdl5vw/files/model-best/assets\n"
     ]
    },
    {
     "name": "stdout",
     "output_type": "stream",
     "text": [
      "346/346 [==============================] - 3s 7ms/step - loss: 0.1493 - accuracy: 0.3756 - recall_1: 1.2050e-04 - val_loss: 0.1392 - val_accuracy: 0.9050 - val_recall_1: 0.0000e+00\n",
      "Epoch 44/80\n",
      "336/346 [============================>.] - ETA: 0s - loss: 0.1488 - accuracy: 0.3870 - recall_1: 2.4798e-05INFO:tensorflow:Assets written to: /home/paul_d/Sources/sem_math_repo/classification_formulas_multilabel/wandb/run-20230316_012731-6scdl5vw/files/model-best/assets\n"
     ]
    },
    {
     "name": "stderr",
     "output_type": "stream",
     "text": [
      "INFO:tensorflow:Assets written to: /home/paul_d/Sources/sem_math_repo/classification_formulas_multilabel/wandb/run-20230316_012731-6scdl5vw/files/model-best/assets\n"
     ]
    },
    {
     "name": "stdout",
     "output_type": "stream",
     "text": [
      "346/346 [==============================] - 3s 8ms/step - loss: 0.1492 - accuracy: 0.3785 - recall_1: 2.4096e-05 - val_loss: 0.1392 - val_accuracy: 0.9050 - val_recall_1: 0.0000e+00\n",
      "Epoch 45/80\n",
      "344/346 [============================>.] - ETA: 0s - loss: 0.1492 - accuracy: 0.3769 - recall_1: 9.6958e-05INFO:tensorflow:Assets written to: /home/paul_d/Sources/sem_math_repo/classification_formulas_multilabel/wandb/run-20230316_012731-6scdl5vw/files/model-best/assets\n"
     ]
    },
    {
     "name": "stderr",
     "output_type": "stream",
     "text": [
      "INFO:tensorflow:Assets written to: /home/paul_d/Sources/sem_math_repo/classification_formulas_multilabel/wandb/run-20230316_012731-6scdl5vw/files/model-best/assets\n"
     ]
    },
    {
     "name": "stdout",
     "output_type": "stream",
     "text": [
      "346/346 [==============================] - 3s 8ms/step - loss: 0.1493 - accuracy: 0.3754 - recall_1: 9.6381e-05 - val_loss: 0.1391 - val_accuracy: 0.9050 - val_recall_1: 0.0000e+00\n",
      "Epoch 46/80\n",
      "334/346 [===========================>..] - ETA: 0s - loss: 0.1485 - accuracy: 0.3830 - recall_1: 1.2495e-04INFO:tensorflow:Assets written to: /home/paul_d/Sources/sem_math_repo/classification_formulas_multilabel/wandb/run-20230316_012731-6scdl5vw/files/model-best/assets\n"
     ]
    },
    {
     "name": "stderr",
     "output_type": "stream",
     "text": [
      "INFO:tensorflow:Assets written to: /home/paul_d/Sources/sem_math_repo/classification_formulas_multilabel/wandb/run-20230316_012731-6scdl5vw/files/model-best/assets\n"
     ]
    },
    {
     "name": "stdout",
     "output_type": "stream",
     "text": [
      "346/346 [==============================] - 3s 10ms/step - loss: 0.1494 - accuracy: 0.3730 - recall_1: 1.2048e-04 - val_loss: 0.1391 - val_accuracy: 0.9050 - val_recall_1: 0.0000e+00\n",
      "Epoch 47/80\n",
      "340/346 [============================>.] - ETA: 0s - loss: 0.1489 - accuracy: 0.3818 - recall_1: 1.2258e-04INFO:tensorflow:Assets written to: /home/paul_d/Sources/sem_math_repo/classification_formulas_multilabel/wandb/run-20230316_012731-6scdl5vw/files/model-best/assets\n"
     ]
    },
    {
     "name": "stderr",
     "output_type": "stream",
     "text": [
      "INFO:tensorflow:Assets written to: /home/paul_d/Sources/sem_math_repo/classification_formulas_multilabel/wandb/run-20230316_012731-6scdl5vw/files/model-best/assets\n"
     ]
    },
    {
     "name": "stdout",
     "output_type": "stream",
     "text": [
      "346/346 [==============================] - 3s 8ms/step - loss: 0.1492 - accuracy: 0.3764 - recall_1: 1.2049e-04 - val_loss: 0.1390 - val_accuracy: 0.9050 - val_recall_1: 0.0000e+00\n",
      "Epoch 48/80\n",
      "337/346 [============================>.] - ETA: 0s - loss: 0.1487 - accuracy: 0.3820 - recall_1: 1.7316e-04INFO:tensorflow:Assets written to: /home/paul_d/Sources/sem_math_repo/classification_formulas_multilabel/wandb/run-20230316_012731-6scdl5vw/files/model-best/assets\n"
     ]
    },
    {
     "name": "stderr",
     "output_type": "stream",
     "text": [
      "INFO:tensorflow:Assets written to: /home/paul_d/Sources/sem_math_repo/classification_formulas_multilabel/wandb/run-20230316_012731-6scdl5vw/files/model-best/assets\n"
     ]
    },
    {
     "name": "stdout",
     "output_type": "stream",
     "text": [
      "346/346 [==============================] - 3s 8ms/step - loss: 0.1492 - accuracy: 0.3742 - recall_1: 1.6870e-04 - val_loss: 0.1390 - val_accuracy: 0.9050 - val_recall_1: 0.0000e+00\n",
      "Epoch 49/80\n",
      "345/346 [============================>.] - ETA: 0s - loss: 0.1492 - accuracy: 0.3773 - recall_1: 2.4168e-04INFO:tensorflow:Assets written to: /home/paul_d/Sources/sem_math_repo/classification_formulas_multilabel/wandb/run-20230316_012731-6scdl5vw/files/model-best/assets\n"
     ]
    },
    {
     "name": "stderr",
     "output_type": "stream",
     "text": [
      "INFO:tensorflow:Assets written to: /home/paul_d/Sources/sem_math_repo/classification_formulas_multilabel/wandb/run-20230316_012731-6scdl5vw/files/model-best/assets\n"
     ]
    },
    {
     "name": "stdout",
     "output_type": "stream",
     "text": [
      "346/346 [==============================] - 3s 8ms/step - loss: 0.1492 - accuracy: 0.3763 - recall_1: 2.4099e-04 - val_loss: 0.1390 - val_accuracy: 0.9050 - val_recall_1: 0.0000e+00\n",
      "Epoch 50/80\n",
      "346/346 [==============================] - ETA: 0s - loss: 0.1492 - accuracy: 0.3753 - recall_1: 2.8916e-04INFO:tensorflow:Assets written to: /home/paul_d/Sources/sem_math_repo/classification_formulas_multilabel/wandb/run-20230316_012731-6scdl5vw/files/model-best/assets\n"
     ]
    },
    {
     "name": "stderr",
     "output_type": "stream",
     "text": [
      "INFO:tensorflow:Assets written to: /home/paul_d/Sources/sem_math_repo/classification_formulas_multilabel/wandb/run-20230316_012731-6scdl5vw/files/model-best/assets\n"
     ]
    },
    {
     "name": "stdout",
     "output_type": "stream",
     "text": [
      "346/346 [==============================] - 3s 7ms/step - loss: 0.1492 - accuracy: 0.3753 - recall_1: 2.8916e-04 - val_loss: 0.1389 - val_accuracy: 0.9050 - val_recall_1: 0.0000e+00\n",
      "Epoch 51/80\n",
      "334/346 [===========================>..] - ETA: 0s - loss: 0.1484 - accuracy: 0.3906 - recall_1: 2.2484e-04INFO:tensorflow:Assets written to: /home/paul_d/Sources/sem_math_repo/classification_formulas_multilabel/wandb/run-20230316_012731-6scdl5vw/files/model-best/assets\n"
     ]
    },
    {
     "name": "stderr",
     "output_type": "stream",
     "text": [
      "INFO:tensorflow:Assets written to: /home/paul_d/Sources/sem_math_repo/classification_formulas_multilabel/wandb/run-20230316_012731-6scdl5vw/files/model-best/assets\n"
     ]
    },
    {
     "name": "stdout",
     "output_type": "stream",
     "text": [
      "346/346 [==============================] - 3s 8ms/step - loss: 0.1492 - accuracy: 0.3797 - recall_1: 2.1688e-04 - val_loss: 0.1389 - val_accuracy: 0.9050 - val_recall_1: 0.0000e+00\n",
      "Epoch 52/80\n",
      "346/346 [==============================] - 2s 4ms/step - loss: 0.1492 - accuracy: 0.3738 - recall_1: 1.6869e-04 - val_loss: 0.1389 - val_accuracy: 0.9050 - val_recall_1: 0.0000e+00\n",
      "Epoch 53/80\n",
      "345/346 [============================>.] - ETA: 0s - loss: 0.1492 - accuracy: 0.3772 - recall_1: 3.1414e-04INFO:tensorflow:Assets written to: /home/paul_d/Sources/sem_math_repo/classification_formulas_multilabel/wandb/run-20230316_012731-6scdl5vw/files/model-best/assets\n"
     ]
    },
    {
     "name": "stderr",
     "output_type": "stream",
     "text": [
      "INFO:tensorflow:Assets written to: /home/paul_d/Sources/sem_math_repo/classification_formulas_multilabel/wandb/run-20230316_012731-6scdl5vw/files/model-best/assets\n"
     ]
    },
    {
     "name": "stdout",
     "output_type": "stream",
     "text": [
      "346/346 [==============================] - 3s 8ms/step - loss: 0.1493 - accuracy: 0.3764 - recall_1: 3.1326e-04 - val_loss: 0.1388 - val_accuracy: 0.9050 - val_recall_1: 0.0000e+00\n",
      "Epoch 54/80\n",
      "334/346 [===========================>..] - ETA: 0s - loss: 0.1484 - accuracy: 0.3904 - recall_1: 2.4965e-04INFO:tensorflow:Assets written to: /home/paul_d/Sources/sem_math_repo/classification_formulas_multilabel/wandb/run-20230316_012731-6scdl5vw/files/model-best/assets\n"
     ]
    },
    {
     "name": "stderr",
     "output_type": "stream",
     "text": [
      "INFO:tensorflow:Assets written to: /home/paul_d/Sources/sem_math_repo/classification_formulas_multilabel/wandb/run-20230316_012731-6scdl5vw/files/model-best/assets\n"
     ]
    },
    {
     "name": "stdout",
     "output_type": "stream",
     "text": [
      "346/346 [==============================] - 3s 10ms/step - loss: 0.1491 - accuracy: 0.3795 - recall_1: 2.4100e-04 - val_loss: 0.1388 - val_accuracy: 0.9050 - val_recall_1: 0.0000e+00\n",
      "Epoch 55/80\n",
      "338/346 [============================>.] - ETA: 0s - loss: 0.1486 - accuracy: 0.3885 - recall_1: 3.4522e-04INFO:tensorflow:Assets written to: /home/paul_d/Sources/sem_math_repo/classification_formulas_multilabel/wandb/run-20230316_012731-6scdl5vw/files/model-best/assets\n"
     ]
    },
    {
     "name": "stderr",
     "output_type": "stream",
     "text": [
      "INFO:tensorflow:Assets written to: /home/paul_d/Sources/sem_math_repo/classification_formulas_multilabel/wandb/run-20230316_012731-6scdl5vw/files/model-best/assets\n"
     ]
    },
    {
     "name": "stdout",
     "output_type": "stream",
     "text": [
      "346/346 [==============================] - 3s 8ms/step - loss: 0.1491 - accuracy: 0.3814 - recall_1: 3.3733e-04 - val_loss: 0.1388 - val_accuracy: 0.9050 - val_recall_1: 0.0000e+00\n",
      "Epoch 56/80\n",
      "346/346 [==============================] - ETA: 0s - loss: 0.1492 - accuracy: 0.3804 - recall_1: 4.5784e-04INFO:tensorflow:Assets written to: /home/paul_d/Sources/sem_math_repo/classification_formulas_multilabel/wandb/run-20230316_012731-6scdl5vw/files/model-best/assets\n"
     ]
    },
    {
     "name": "stderr",
     "output_type": "stream",
     "text": [
      "INFO:tensorflow:Assets written to: /home/paul_d/Sources/sem_math_repo/classification_formulas_multilabel/wandb/run-20230316_012731-6scdl5vw/files/model-best/assets\n"
     ]
    },
    {
     "name": "stdout",
     "output_type": "stream",
     "text": [
      "346/346 [==============================] - 3s 8ms/step - loss: 0.1492 - accuracy: 0.3804 - recall_1: 4.5784e-04 - val_loss: 0.1388 - val_accuracy: 0.9050 - val_recall_1: 0.0000e+00\n",
      "Epoch 57/80\n",
      "340/346 [============================>.] - ETA: 0s - loss: 0.1486 - accuracy: 0.3866 - recall_1: 3.6782e-04INFO:tensorflow:Assets written to: /home/paul_d/Sources/sem_math_repo/classification_formulas_multilabel/wandb/run-20230316_012731-6scdl5vw/files/model-best/assets\n"
     ]
    },
    {
     "name": "stderr",
     "output_type": "stream",
     "text": [
      "INFO:tensorflow:Assets written to: /home/paul_d/Sources/sem_math_repo/classification_formulas_multilabel/wandb/run-20230316_012731-6scdl5vw/files/model-best/assets\n"
     ]
    },
    {
     "name": "stdout",
     "output_type": "stream",
     "text": [
      "346/346 [==============================] - 3s 8ms/step - loss: 0.1491 - accuracy: 0.3814 - recall_1: 3.6147e-04 - val_loss: 0.1387 - val_accuracy: 0.9050 - val_recall_1: 0.0000e+00\n",
      "Epoch 58/80\n",
      "340/346 [============================>.] - ETA: 0s - loss: 0.1486 - accuracy: 0.3860 - recall_1: 3.9235e-04INFO:tensorflow:Assets written to: /home/paul_d/Sources/sem_math_repo/classification_formulas_multilabel/wandb/run-20230316_012731-6scdl5vw/files/model-best/assets\n"
     ]
    },
    {
     "name": "stderr",
     "output_type": "stream",
     "text": [
      "INFO:tensorflow:Assets written to: /home/paul_d/Sources/sem_math_repo/classification_formulas_multilabel/wandb/run-20230316_012731-6scdl5vw/files/model-best/assets\n"
     ]
    },
    {
     "name": "stdout",
     "output_type": "stream",
     "text": [
      "346/346 [==============================] - 3s 8ms/step - loss: 0.1490 - accuracy: 0.3805 - recall_1: 3.8557e-04 - val_loss: 0.1387 - val_accuracy: 0.9050 - val_recall_1: 0.0000e+00\n",
      "Epoch 59/80\n",
      "344/346 [============================>.] - ETA: 0s - loss: 0.1488 - accuracy: 0.3824 - recall_1: 4.3628e-04INFO:tensorflow:Assets written to: /home/paul_d/Sources/sem_math_repo/classification_formulas_multilabel/wandb/run-20230316_012731-6scdl5vw/files/model-best/assets\n"
     ]
    },
    {
     "name": "stderr",
     "output_type": "stream",
     "text": [
      "INFO:tensorflow:Assets written to: /home/paul_d/Sources/sem_math_repo/classification_formulas_multilabel/wandb/run-20230316_012731-6scdl5vw/files/model-best/assets\n"
     ]
    },
    {
     "name": "stdout",
     "output_type": "stream",
     "text": [
      "346/346 [==============================] - 3s 7ms/step - loss: 0.1490 - accuracy: 0.3806 - recall_1: 4.3375e-04 - val_loss: 0.1386 - val_accuracy: 0.9050 - val_recall_1: 0.0000e+00\n",
      "Epoch 60/80\n",
      "343/346 [============================>.] - ETA: 0s - loss: 0.1487 - accuracy: 0.3835 - recall_1: 5.1064e-04INFO:tensorflow:Assets written to: /home/paul_d/Sources/sem_math_repo/classification_formulas_multilabel/wandb/run-20230316_012731-6scdl5vw/files/model-best/assets\n"
     ]
    },
    {
     "name": "stderr",
     "output_type": "stream",
     "text": [
      "INFO:tensorflow:Assets written to: /home/paul_d/Sources/sem_math_repo/classification_formulas_multilabel/wandb/run-20230316_012731-6scdl5vw/files/model-best/assets\n"
     ]
    },
    {
     "name": "stdout",
     "output_type": "stream",
     "text": [
      "346/346 [==============================] - 3s 8ms/step - loss: 0.1490 - accuracy: 0.3808 - recall_1: 5.0606e-04 - val_loss: 0.1386 - val_accuracy: 0.9050 - val_recall_1: 0.0000e+00\n",
      "Epoch 61/80\n",
      "346/346 [==============================] - ETA: 0s - loss: 0.1489 - accuracy: 0.3786 - recall_1: 5.5430e-04INFO:tensorflow:Assets written to: /home/paul_d/Sources/sem_math_repo/classification_formulas_multilabel/wandb/run-20230316_012731-6scdl5vw/files/model-best/assets\n"
     ]
    },
    {
     "name": "stderr",
     "output_type": "stream",
     "text": [
      "INFO:tensorflow:Assets written to: /home/paul_d/Sources/sem_math_repo/classification_formulas_multilabel/wandb/run-20230316_012731-6scdl5vw/files/model-best/assets\n"
     ]
    },
    {
     "name": "stdout",
     "output_type": "stream",
     "text": [
      "346/346 [==============================] - 3s 10ms/step - loss: 0.1489 - accuracy: 0.3786 - recall_1: 5.5430e-04 - val_loss: 0.1386 - val_accuracy: 0.9050 - val_recall_1: 0.0000e+00\n",
      "Epoch 62/80\n",
      "336/346 [============================>.] - ETA: 0s - loss: 0.1485 - accuracy: 0.3915 - recall_1: 6.2015e-04INFO:tensorflow:Assets written to: /home/paul_d/Sources/sem_math_repo/classification_formulas_multilabel/wandb/run-20230316_012731-6scdl5vw/files/model-best/assets\n"
     ]
    },
    {
     "name": "stderr",
     "output_type": "stream",
     "text": [
      "INFO:tensorflow:Assets written to: /home/paul_d/Sources/sem_math_repo/classification_formulas_multilabel/wandb/run-20230316_012731-6scdl5vw/files/model-best/assets\n"
     ]
    },
    {
     "name": "stdout",
     "output_type": "stream",
     "text": [
      "346/346 [==============================] - 3s 8ms/step - loss: 0.1490 - accuracy: 0.3827 - recall_1: 6.0240e-04 - val_loss: 0.1385 - val_accuracy: 0.9050 - val_recall_1: 0.0000e+00\n",
      "Epoch 63/80\n",
      "335/346 [============================>.] - ETA: 0s - loss: 0.1480 - accuracy: 0.3931 - recall_1: 6.2294e-04INFO:tensorflow:Assets written to: /home/paul_d/Sources/sem_math_repo/classification_formulas_multilabel/wandb/run-20230316_012731-6scdl5vw/files/model-best/assets\n"
     ]
    },
    {
     "name": "stderr",
     "output_type": "stream",
     "text": [
      "INFO:tensorflow:Assets written to: /home/paul_d/Sources/sem_math_repo/classification_formulas_multilabel/wandb/run-20230316_012731-6scdl5vw/files/model-best/assets\n"
     ]
    },
    {
     "name": "stdout",
     "output_type": "stream",
     "text": [
      "346/346 [==============================] - 3s 8ms/step - loss: 0.1489 - accuracy: 0.3827 - recall_1: 6.2660e-04 - val_loss: 0.1385 - val_accuracy: 0.9050 - val_recall_1: 0.0000e+00\n",
      "Epoch 64/80\n",
      "338/346 [============================>.] - ETA: 0s - loss: 0.1484 - accuracy: 0.3901 - recall_1: 9.1322e-04INFO:tensorflow:Assets written to: /home/paul_d/Sources/sem_math_repo/classification_formulas_multilabel/wandb/run-20230316_012731-6scdl5vw/files/model-best/assets\n"
     ]
    },
    {
     "name": "stderr",
     "output_type": "stream",
     "text": [
      "INFO:tensorflow:Assets written to: /home/paul_d/Sources/sem_math_repo/classification_formulas_multilabel/wandb/run-20230316_012731-6scdl5vw/files/model-best/assets\n"
     ]
    },
    {
     "name": "stdout",
     "output_type": "stream",
     "text": [
      "346/346 [==============================] - 3s 8ms/step - loss: 0.1490 - accuracy: 0.3828 - recall_1: 8.9170e-04 - val_loss: 0.1385 - val_accuracy: 0.9050 - val_recall_1: 0.0000e+00\n",
      "Epoch 65/80\n",
      "346/346 [==============================] - ETA: 0s - loss: 0.1489 - accuracy: 0.3797 - recall_1: 7.4711e-04INFO:tensorflow:Assets written to: /home/paul_d/Sources/sem_math_repo/classification_formulas_multilabel/wandb/run-20230316_012731-6scdl5vw/files/model-best/assets\n"
     ]
    },
    {
     "name": "stderr",
     "output_type": "stream",
     "text": [
      "INFO:tensorflow:Assets written to: /home/paul_d/Sources/sem_math_repo/classification_formulas_multilabel/wandb/run-20230316_012731-6scdl5vw/files/model-best/assets\n"
     ]
    },
    {
     "name": "stdout",
     "output_type": "stream",
     "text": [
      "346/346 [==============================] - 3s 8ms/step - loss: 0.1489 - accuracy: 0.3797 - recall_1: 7.4711e-04 - val_loss: 0.1385 - val_accuracy: 0.9050 - val_recall_1: 0.0000e+00\n",
      "Epoch 66/80\n",
      "344/346 [============================>.] - ETA: 0s - loss: 0.1488 - accuracy: 0.3836 - recall_1: 8.9710e-04INFO:tensorflow:Assets written to: /home/paul_d/Sources/sem_math_repo/classification_formulas_multilabel/wandb/run-20230316_012731-6scdl5vw/files/model-best/assets\n"
     ]
    },
    {
     "name": "stderr",
     "output_type": "stream",
     "text": [
      "INFO:tensorflow:Assets written to: /home/paul_d/Sources/sem_math_repo/classification_formulas_multilabel/wandb/run-20230316_012731-6scdl5vw/files/model-best/assets\n"
     ]
    },
    {
     "name": "stdout",
     "output_type": "stream",
     "text": [
      "346/346 [==============================] - 3s 8ms/step - loss: 0.1490 - accuracy: 0.3818 - recall_1: 8.9180e-04 - val_loss: 0.1384 - val_accuracy: 0.9050 - val_recall_1: 0.0000e+00\n",
      "Epoch 67/80\n",
      "345/346 [============================>.] - ETA: 0s - loss: 0.1489 - accuracy: 0.3844 - recall_1: 0.0011INFO:tensorflow:Assets written to: /home/paul_d/Sources/sem_math_repo/classification_formulas_multilabel/wandb/run-20230316_012731-6scdl5vw/files/model-best/assets\n"
     ]
    },
    {
     "name": "stderr",
     "output_type": "stream",
     "text": [
      "INFO:tensorflow:Assets written to: /home/paul_d/Sources/sem_math_repo/classification_formulas_multilabel/wandb/run-20230316_012731-6scdl5vw/files/model-best/assets\n"
     ]
    },
    {
     "name": "stdout",
     "output_type": "stream",
     "text": [
      "346/346 [==============================] - 3s 10ms/step - loss: 0.1489 - accuracy: 0.3837 - recall_1: 0.0011 - val_loss: 0.1384 - val_accuracy: 0.9050 - val_recall_1: 0.0000e+00\n",
      "Epoch 68/80\n",
      "346/346 [==============================] - ETA: 0s - loss: 0.1489 - accuracy: 0.3845 - recall_1: 0.0011INFO:tensorflow:Assets written to: /home/paul_d/Sources/sem_math_repo/classification_formulas_multilabel/wandb/run-20230316_012731-6scdl5vw/files/model-best/assets\n"
     ]
    },
    {
     "name": "stderr",
     "output_type": "stream",
     "text": [
      "INFO:tensorflow:Assets written to: /home/paul_d/Sources/sem_math_repo/classification_formulas_multilabel/wandb/run-20230316_012731-6scdl5vw/files/model-best/assets\n"
     ]
    },
    {
     "name": "stdout",
     "output_type": "stream",
     "text": [
      "346/346 [==============================] - 3s 8ms/step - loss: 0.1489 - accuracy: 0.3845 - recall_1: 0.0011 - val_loss: 0.1384 - val_accuracy: 0.9050 - val_recall_1: 0.0000e+00\n",
      "Epoch 69/80\n",
      "346/346 [==============================] - 2s 4ms/step - loss: 0.1490 - accuracy: 0.3812 - recall_1: 8.4352e-04 - val_loss: 0.1384 - val_accuracy: 0.9050 - val_recall_1: 0.0000e+00\n",
      "Epoch 70/80\n",
      "336/346 [============================>.] - ETA: 0s - loss: 0.1482 - accuracy: 0.3912 - recall_1: 9.4342e-04INFO:tensorflow:Assets written to: /home/paul_d/Sources/sem_math_repo/classification_formulas_multilabel/wandb/run-20230316_012731-6scdl5vw/files/model-best/assets\n"
     ]
    },
    {
     "name": "stderr",
     "output_type": "stream",
     "text": [
      "INFO:tensorflow:Assets written to: /home/paul_d/Sources/sem_math_repo/classification_formulas_multilabel/wandb/run-20230316_012731-6scdl5vw/files/model-best/assets\n"
     ]
    },
    {
     "name": "stdout",
     "output_type": "stream",
     "text": [
      "346/346 [==============================] - 3s 8ms/step - loss: 0.1489 - accuracy: 0.3815 - recall_1: 9.1591e-04 - val_loss: 0.1383 - val_accuracy: 0.9050 - val_recall_1: 0.0000e+00\n",
      "Epoch 71/80\n",
      "338/346 [============================>.] - ETA: 0s - loss: 0.1484 - accuracy: 0.3900 - recall_1: 9.1315e-04INFO:tensorflow:Assets written to: /home/paul_d/Sources/sem_math_repo/classification_formulas_multilabel/wandb/run-20230316_012731-6scdl5vw/files/model-best/assets\n"
     ]
    },
    {
     "name": "stderr",
     "output_type": "stream",
     "text": [
      "INFO:tensorflow:Assets written to: /home/paul_d/Sources/sem_math_repo/classification_formulas_multilabel/wandb/run-20230316_012731-6scdl5vw/files/model-best/assets\n"
     ]
    },
    {
     "name": "stdout",
     "output_type": "stream",
     "text": [
      "346/346 [==============================] - 3s 8ms/step - loss: 0.1489 - accuracy: 0.3823 - recall_1: 9.3989e-04 - val_loss: 0.1383 - val_accuracy: 0.9050 - val_recall_1: 0.0000e+00\n",
      "Epoch 72/80\n",
      "345/346 [============================>.] - ETA: 0s - loss: 0.1488 - accuracy: 0.3844 - recall_1: 9.1870e-04INFO:tensorflow:Assets written to: /home/paul_d/Sources/sem_math_repo/classification_formulas_multilabel/wandb/run-20230316_012731-6scdl5vw/files/model-best/assets\n"
     ]
    },
    {
     "name": "stderr",
     "output_type": "stream",
     "text": [
      "INFO:tensorflow:Assets written to: /home/paul_d/Sources/sem_math_repo/classification_formulas_multilabel/wandb/run-20230316_012731-6scdl5vw/files/model-best/assets\n"
     ]
    },
    {
     "name": "stdout",
     "output_type": "stream",
     "text": [
      "346/346 [==============================] - 3s 8ms/step - loss: 0.1489 - accuracy: 0.3835 - recall_1: 9.1575e-04 - val_loss: 0.1383 - val_accuracy: 0.9050 - val_recall_1: 0.0000e+00\n",
      "Epoch 73/80\n",
      "346/346 [==============================] - 2s 4ms/step - loss: 0.1489 - accuracy: 0.3843 - recall_1: 0.0011 - val_loss: 0.1383 - val_accuracy: 0.9050 - val_recall_1: 0.0000e+00\n",
      "Epoch 74/80\n",
      "338/346 [============================>.] - ETA: 0s - loss: 0.1484 - accuracy: 0.3916 - recall_1: 0.0012INFO:tensorflow:Assets written to: /home/paul_d/Sources/sem_math_repo/classification_formulas_multilabel/wandb/run-20230316_012731-6scdl5vw/files/model-best/assets\n"
     ]
    },
    {
     "name": "stderr",
     "output_type": "stream",
     "text": [
      "INFO:tensorflow:Assets written to: /home/paul_d/Sources/sem_math_repo/classification_formulas_multilabel/wandb/run-20230316_012731-6scdl5vw/files/model-best/assets\n"
     ]
    },
    {
     "name": "stdout",
     "output_type": "stream",
     "text": [
      "346/346 [==============================] - 3s 8ms/step - loss: 0.1489 - accuracy: 0.3841 - recall_1: 0.0011 - val_loss: 0.1382 - val_accuracy: 0.9050 - val_recall_1: 0.0000e+00\n",
      "Epoch 75/80\n",
      "340/346 [============================>.] - ETA: 0s - loss: 0.1485 - accuracy: 0.3896 - recall_1: 9.5616e-04INFO:tensorflow:Assets written to: /home/paul_d/Sources/sem_math_repo/classification_formulas_multilabel/wandb/run-20230316_012731-6scdl5vw/files/model-best/assets\n"
     ]
    },
    {
     "name": "stderr",
     "output_type": "stream",
     "text": [
      "INFO:tensorflow:Assets written to: /home/paul_d/Sources/sem_math_repo/classification_formulas_multilabel/wandb/run-20230316_012731-6scdl5vw/files/model-best/assets\n"
     ]
    },
    {
     "name": "stdout",
     "output_type": "stream",
     "text": [
      "346/346 [==============================] - 3s 8ms/step - loss: 0.1488 - accuracy: 0.3839 - recall_1: 9.3978e-04 - val_loss: 0.1382 - val_accuracy: 0.9050 - val_recall_1: 0.0000e+00\n",
      "Epoch 76/80\n",
      "346/346 [==============================] - ETA: 0s - loss: 0.1489 - accuracy: 0.3841 - recall_1: 0.0011INFO:tensorflow:Assets written to: /home/paul_d/Sources/sem_math_repo/classification_formulas_multilabel/wandb/run-20230316_012731-6scdl5vw/files/model-best/assets\n"
     ]
    },
    {
     "name": "stderr",
     "output_type": "stream",
     "text": [
      "INFO:tensorflow:Assets written to: /home/paul_d/Sources/sem_math_repo/classification_formulas_multilabel/wandb/run-20230316_012731-6scdl5vw/files/model-best/assets\n"
     ]
    },
    {
     "name": "stdout",
     "output_type": "stream",
     "text": [
      "346/346 [==============================] - 3s 10ms/step - loss: 0.1489 - accuracy: 0.3841 - recall_1: 0.0011 - val_loss: 0.1382 - val_accuracy: 0.9050 - val_recall_1: 0.0000e+00\n",
      "Epoch 77/80\n",
      "346/346 [==============================] - 1s 4ms/step - loss: 0.1487 - accuracy: 0.3840 - recall_1: 0.0010 - val_loss: 0.1382 - val_accuracy: 0.9050 - val_recall_1: 0.0000e+00\n",
      "Epoch 78/80\n",
      "342/346 [============================>.] - ETA: 0s - loss: 0.1486 - accuracy: 0.3893 - recall_1: 9.9990e-04INFO:tensorflow:Assets written to: /home/paul_d/Sources/sem_math_repo/classification_formulas_multilabel/wandb/run-20230316_012731-6scdl5vw/files/model-best/assets\n"
     ]
    },
    {
     "name": "stderr",
     "output_type": "stream",
     "text": [
      "INFO:tensorflow:Assets written to: /home/paul_d/Sources/sem_math_repo/classification_formulas_multilabel/wandb/run-20230316_012731-6scdl5vw/files/model-best/assets\n"
     ]
    },
    {
     "name": "stdout",
     "output_type": "stream",
     "text": [
      "346/346 [==============================] - 3s 8ms/step - loss: 0.1489 - accuracy: 0.3855 - recall_1: 9.8812e-04 - val_loss: 0.1382 - val_accuracy: 0.9050 - val_recall_1: 0.0000e+00\n",
      "Epoch 79/80\n",
      "344/346 [============================>.] - ETA: 0s - loss: 0.1486 - accuracy: 0.3869 - recall_1: 0.0011INFO:tensorflow:Assets written to: /home/paul_d/Sources/sem_math_repo/classification_formulas_multilabel/wandb/run-20230316_012731-6scdl5vw/files/model-best/assets\n"
     ]
    },
    {
     "name": "stderr",
     "output_type": "stream",
     "text": [
      "INFO:tensorflow:Assets written to: /home/paul_d/Sources/sem_math_repo/classification_formulas_multilabel/wandb/run-20230316_012731-6scdl5vw/files/model-best/assets\n"
     ]
    },
    {
     "name": "stdout",
     "output_type": "stream",
     "text": [
      "346/346 [==============================] - 3s 8ms/step - loss: 0.1488 - accuracy: 0.3849 - recall_1: 0.0011 - val_loss: 0.1381 - val_accuracy: 0.9050 - val_recall_1: 0.0000e+00\n",
      "Epoch 80/80\n",
      "336/346 [============================>.] - ETA: 0s - loss: 0.1481 - accuracy: 0.3927 - recall_1: 0.0015INFO:tensorflow:Assets written to: /home/paul_d/Sources/sem_math_repo/classification_formulas_multilabel/wandb/run-20230316_012731-6scdl5vw/files/model-best/assets\n"
     ]
    },
    {
     "name": "stderr",
     "output_type": "stream",
     "text": [
      "INFO:tensorflow:Assets written to: /home/paul_d/Sources/sem_math_repo/classification_formulas_multilabel/wandb/run-20230316_012731-6scdl5vw/files/model-best/assets\n"
     ]
    },
    {
     "name": "stdout",
     "output_type": "stream",
     "text": [
      "346/346 [==============================] - 3s 8ms/step - loss: 0.1487 - accuracy: 0.3831 - recall_1: 0.0014 - val_loss: 0.1381 - val_accuracy: 0.9050 - val_recall_1: 0.0000e+00\n"
     ]
    }
   ],
   "source": [
    "configs_dict = {\n",
    "    \"learning_rate\": optimal_lr,\n",
    "    \"emb_dim\": optimal_emb_dims,\n",
    "    \"dp1\": dp1, \n",
    "    \"dp2\": dp2,\n",
    "    \"algorithm\": \"LogReg\",\n",
    "    \"configuration\": \"multi_tokens_types\",\n",
    "    \"optimizer\": \"adam\",\n",
    "    \"loss\": \"binary_crossentropy\",\n",
    "    \"epochs\": NUM_EPOCHS,\n",
    "    \"batch_size\": 64,\n",
    "    \"vectorizer\": \"count\",\n",
    "    \"dataset\": \"multi_class_unbalanced_data_TOKENIZED_V1\"\n",
    "}\n",
    "\n",
    "run = wandb.init(project=wandb_project_name, reinit=True, config=configs_dict)\n",
    "\n",
    "history = model3c.fit(train_dataset3, \n",
    "                    epochs=NUM_EPOCHS,\n",
    "                    validation_data=test_dataset3,\n",
    "                    #steps_per_epoch = STEPS_PER_EPOCH,\n",
    "                    validation_steps = VAL_STEPS_PER_EPOCH,\n",
    "                    callbacks= [WandbCallback()])#[tensorboard_callback])\n",
    "run.finish()"
   ]
  },
  {
   "attachments": {},
   "cell_type": "markdown",
   "metadata": {},
   "source": [
    "##### Model 4: TOKENS, TYPES, SEM MATH LABELS\n",
    "Find best hyperparameters"
   ]
  },
  {
   "cell_type": "code",
   "execution_count": 86,
   "metadata": {},
   "outputs": [],
   "source": [
    "tokens_input_len = TOKENS_MAX_SEQ_LEN \n",
    "type_input_len = TYPE_TOKENS_MAX_SEQ_LEN\n",
    "NUM_CLASSES = 40\n",
    "\n",
    "encoder_count_tokens4 = create_encoder(\"count\", None, \"token\", train_dataset4, 4)\n",
    "encoder_count_types4 = create_encoder(\"count\", None, \"type\", train_dataset4, 4)\n",
    "model_builder4c = mc_u.create_model_builder4_LR(NUM_CLASSES, encoder_count_tokens4, encoder_count_types4, tokens_input_len, type_input_len, \"float\")"
   ]
  },
  {
   "cell_type": "code",
   "execution_count": 87,
   "metadata": {},
   "outputs": [],
   "source": [
    "tuner = kt.Hyperband(model_builder4c,\n",
    "                     objective=kt.Objective(\"val_accuracy\", direction=\"max\"),\n",
    "                     max_epochs=20,\n",
    "                     factor=3,\n",
    "                     directory='meta_dir/model4c_lr',\n",
    "                     project_name='model4c_lr')\n",
    "stop_early = tf.keras.callbacks.EarlyStopping(monitor='val_loss', patience=3)"
   ]
  },
  {
   "cell_type": "code",
   "execution_count": 88,
   "metadata": {},
   "outputs": [
    {
     "name": "stdout",
     "output_type": "stream",
     "text": [
      "Trial 30 Complete [00h 00m 31s]\n",
      "val_accuracy: 0.0\n",
      "\n",
      "Best val_accuracy So Far: 1.0\n",
      "Total elapsed time: 00h 08m 58s\n",
      "INFO:tensorflow:Oracle triggered exit\n"
     ]
    },
    {
     "name": "stderr",
     "output_type": "stream",
     "text": [
      "INFO:tensorflow:Oracle triggered exit\n"
     ]
    }
   ],
   "source": [
    "tuner.search(train_dataset4,\n",
    "             epochs=30,\n",
    "             validation_data=test_dataset4,\n",
    "             #steps_per_epoch = STEPS_PER_EPOCH,\n",
    "             validation_steps = VAL_STEPS_PER_EPOCH,\n",
    "             callbacks= [stop_early])#[tensorboard_callback])"
   ]
  },
  {
   "cell_type": "code",
   "execution_count": 89,
   "metadata": {},
   "outputs": [
    {
     "name": "stdout",
     "output_type": "stream",
     "text": [
      "0.0001\n",
      "32\n",
      "0.2\n",
      "0.3\n"
     ]
    }
   ],
   "source": [
    "best_hps=tuner.get_best_hyperparameters(num_trials=1)[0]\n",
    "optimal_lr = best_hps.get(\"learning_rate\")\n",
    "optimal_emb_dims = best_hps.get(\"emb_dims\")\n",
    "dp1 = best_hps.get(\"dropout1\")\n",
    "dp2 = best_hps.get(\"dropout2\")\n",
    "print(optimal_lr)\n",
    "print(optimal_emb_dims)\n",
    "print(dp1)\n",
    "print(dp2)"
   ]
  },
  {
   "attachments": {},
   "cell_type": "markdown",
   "metadata": {},
   "source": [
    "Train with best hyperparameters"
   ]
  },
  {
   "cell_type": "code",
   "execution_count": 90,
   "metadata": {},
   "outputs": [],
   "source": [
    "NUM_EPOCHS = 80\n",
    "model4c = mc_u.create_model4_LR(NUM_CLASSES, optimal_emb_dims, dp1, dp2, encoder_count_tokens4, encoder_count_types4, tokens_input_len, type_input_len, \"float\")\n",
    "model4c.compile(loss=tf.keras.losses.BinaryCrossentropy(from_logits=True),\n",
    "              optimizer=tf.keras.optimizers.Adam(optimal_lr),\n",
    "              metrics=[\"accuracy\", tf.keras.metrics.Recall()])"
   ]
  },
  {
   "cell_type": "code",
   "execution_count": 91,
   "metadata": {},
   "outputs": [
    {
     "name": "stdout",
     "output_type": "stream",
     "text": [
      "Epoch 1/80\n",
      "337/346 [============================>.] - ETA: 0s - loss: 0.6710 - accuracy: 0.1179 - recall_1: 0.0000e+00INFO:tensorflow:Assets written to: /home/paul_d/Sources/sem_math_repo/classification_formulas_multilabel/wandb/run-20230316_014017-27kqak7e/files/model-best/assets\n"
     ]
    },
    {
     "name": "stderr",
     "output_type": "stream",
     "text": [
      "INFO:tensorflow:Assets written to: /home/paul_d/Sources/sem_math_repo/classification_formulas_multilabel/wandb/run-20230316_014017-27kqak7e/files/model-best/assets\n"
     ]
    },
    {
     "name": "stdout",
     "output_type": "stream",
     "text": [
      "346/346 [==============================] - 3s 8ms/step - loss: 0.6703 - accuracy: 0.1176 - recall_1: 0.0000e+00 - val_loss: 0.6510 - val_accuracy: 0.0000e+00 - val_recall_1: 0.0000e+00\n",
      "Epoch 2/80\n",
      "344/346 [============================>.] - ETA: 0s - loss: 0.6049 - accuracy: 0.0940 - recall_1: 0.0000e+00INFO:tensorflow:Assets written to: /home/paul_d/Sources/sem_math_repo/classification_formulas_multilabel/wandb/run-20230316_014017-27kqak7e/files/model-best/assets\n"
     ]
    },
    {
     "name": "stderr",
     "output_type": "stream",
     "text": [
      "INFO:tensorflow:Assets written to: /home/paul_d/Sources/sem_math_repo/classification_formulas_multilabel/wandb/run-20230316_014017-27kqak7e/files/model-best/assets\n"
     ]
    },
    {
     "name": "stdout",
     "output_type": "stream",
     "text": [
      "346/346 [==============================] - 3s 7ms/step - loss: 0.6046 - accuracy: 0.0945 - recall_1: 0.0000e+00 - val_loss: 0.5779 - val_accuracy: 0.9058 - val_recall_1: 0.0000e+00\n",
      "Epoch 3/80\n",
      "336/346 [============================>.] - ETA: 0s - loss: 0.5080 - accuracy: 0.2183 - recall_1: 0.0000e+00INFO:tensorflow:Assets written to: /home/paul_d/Sources/sem_math_repo/classification_formulas_multilabel/wandb/run-20230316_014017-27kqak7e/files/model-best/assets\n"
     ]
    },
    {
     "name": "stderr",
     "output_type": "stream",
     "text": [
      "INFO:tensorflow:Assets written to: /home/paul_d/Sources/sem_math_repo/classification_formulas_multilabel/wandb/run-20230316_014017-27kqak7e/files/model-best/assets\n"
     ]
    },
    {
     "name": "stdout",
     "output_type": "stream",
     "text": [
      "346/346 [==============================] - 3s 7ms/step - loss: 0.5066 - accuracy: 0.2132 - recall_1: 0.0000e+00 - val_loss: 0.4855 - val_accuracy: 0.9992 - val_recall_1: 0.0000e+00\n",
      "Epoch 4/80\n",
      "344/346 [============================>.] - ETA: 0s - loss: 0.4048 - accuracy: 0.3117 - recall_1: 0.0000e+00INFO:tensorflow:Assets written to: /home/paul_d/Sources/sem_math_repo/classification_formulas_multilabel/wandb/run-20230316_014017-27kqak7e/files/model-best/assets\n"
     ]
    },
    {
     "name": "stderr",
     "output_type": "stream",
     "text": [
      "INFO:tensorflow:Assets written to: /home/paul_d/Sources/sem_math_repo/classification_formulas_multilabel/wandb/run-20230316_014017-27kqak7e/files/model-best/assets\n"
     ]
    },
    {
     "name": "stdout",
     "output_type": "stream",
     "text": [
      "346/346 [==============================] - 3s 7ms/step - loss: 0.4046 - accuracy: 0.3100 - recall_1: 0.0000e+00 - val_loss: 0.3965 - val_accuracy: 0.9979 - val_recall_1: 0.0000e+00\n",
      "Epoch 5/80\n",
      "340/346 [============================>.] - ETA: 0s - loss: 0.3215 - accuracy: 0.3495 - recall_1: 0.0000e+00INFO:tensorflow:Assets written to: /home/paul_d/Sources/sem_math_repo/classification_formulas_multilabel/wandb/run-20230316_014017-27kqak7e/files/model-best/assets\n"
     ]
    },
    {
     "name": "stderr",
     "output_type": "stream",
     "text": [
      "INFO:tensorflow:Assets written to: /home/paul_d/Sources/sem_math_repo/classification_formulas_multilabel/wandb/run-20230316_014017-27kqak7e/files/model-best/assets\n"
     ]
    },
    {
     "name": "stdout",
     "output_type": "stream",
     "text": [
      "346/346 [==============================] - 3s 7ms/step - loss: 0.3211 - accuracy: 0.3439 - recall_1: 0.0000e+00 - val_loss: 0.3242 - val_accuracy: 0.9918 - val_recall_1: 0.0000e+00\n",
      "Epoch 6/80\n",
      "346/346 [==============================] - ETA: 0s - loss: 0.2613 - accuracy: 0.3572 - recall_1: 0.0000e+00INFO:tensorflow:Assets written to: /home/paul_d/Sources/sem_math_repo/classification_formulas_multilabel/wandb/run-20230316_014017-27kqak7e/files/model-best/assets\n"
     ]
    },
    {
     "name": "stderr",
     "output_type": "stream",
     "text": [
      "INFO:tensorflow:Assets written to: /home/paul_d/Sources/sem_math_repo/classification_formulas_multilabel/wandb/run-20230316_014017-27kqak7e/files/model-best/assets\n"
     ]
    },
    {
     "name": "stdout",
     "output_type": "stream",
     "text": [
      "346/346 [==============================] - 3s 10ms/step - loss: 0.2613 - accuracy: 0.3572 - recall_1: 0.0000e+00 - val_loss: 0.2709 - val_accuracy: 0.9856 - val_recall_1: 0.0000e+00\n",
      "Epoch 7/80\n",
      "336/346 [============================>.] - ETA: 0s - loss: 0.2219 - accuracy: 0.3690 - recall_1: 0.0000e+00INFO:tensorflow:Assets written to: /home/paul_d/Sources/sem_math_repo/classification_formulas_multilabel/wandb/run-20230316_014017-27kqak7e/files/model-best/assets\n"
     ]
    },
    {
     "name": "stderr",
     "output_type": "stream",
     "text": [
      "INFO:tensorflow:Assets written to: /home/paul_d/Sources/sem_math_repo/classification_formulas_multilabel/wandb/run-20230316_014017-27kqak7e/files/model-best/assets\n"
     ]
    },
    {
     "name": "stdout",
     "output_type": "stream",
     "text": [
      "346/346 [==============================] - 3s 8ms/step - loss: 0.2218 - accuracy: 0.3593 - recall_1: 0.0000e+00 - val_loss: 0.2330 - val_accuracy: 0.9198 - val_recall_1: 0.0000e+00\n",
      "Epoch 8/80\n",
      "343/346 [============================>.] - ETA: 0s - loss: 0.1962 - accuracy: 0.3657 - recall_1: 0.0000e+00INFO:tensorflow:Assets written to: /home/paul_d/Sources/sem_math_repo/classification_formulas_multilabel/wandb/run-20230316_014017-27kqak7e/files/model-best/assets\n"
     ]
    },
    {
     "name": "stderr",
     "output_type": "stream",
     "text": [
      "INFO:tensorflow:Assets written to: /home/paul_d/Sources/sem_math_repo/classification_formulas_multilabel/wandb/run-20230316_014017-27kqak7e/files/model-best/assets\n"
     ]
    },
    {
     "name": "stdout",
     "output_type": "stream",
     "text": [
      "346/346 [==============================] - 3s 8ms/step - loss: 0.1962 - accuracy: 0.3629 - recall_1: 0.0000e+00 - val_loss: 0.2064 - val_accuracy: 0.9058 - val_recall_1: 0.0000e+00\n",
      "Epoch 9/80\n",
      "337/346 [============================>.] - ETA: 0s - loss: 0.1799 - accuracy: 0.3655 - recall_1: 0.0000e+00INFO:tensorflow:Assets written to: /home/paul_d/Sources/sem_math_repo/classification_formulas_multilabel/wandb/run-20230316_014017-27kqak7e/files/model-best/assets\n"
     ]
    },
    {
     "name": "stderr",
     "output_type": "stream",
     "text": [
      "INFO:tensorflow:Assets written to: /home/paul_d/Sources/sem_math_repo/classification_formulas_multilabel/wandb/run-20230316_014017-27kqak7e/files/model-best/assets\n"
     ]
    },
    {
     "name": "stdout",
     "output_type": "stream",
     "text": [
      "346/346 [==============================] - 3s 8ms/step - loss: 0.1803 - accuracy: 0.3576 - recall_1: 0.0000e+00 - val_loss: 0.1878 - val_accuracy: 0.9058 - val_recall_1: 0.0000e+00\n",
      "Epoch 10/80\n",
      "335/346 [============================>.] - ETA: 0s - loss: 0.1698 - accuracy: 0.3658 - recall_1: 0.0000e+00INFO:tensorflow:Assets written to: /home/paul_d/Sources/sem_math_repo/classification_formulas_multilabel/wandb/run-20230316_014017-27kqak7e/files/model-best/assets\n"
     ]
    },
    {
     "name": "stderr",
     "output_type": "stream",
     "text": [
      "INFO:tensorflow:Assets written to: /home/paul_d/Sources/sem_math_repo/classification_formulas_multilabel/wandb/run-20230316_014017-27kqak7e/files/model-best/assets\n"
     ]
    },
    {
     "name": "stdout",
     "output_type": "stream",
     "text": [
      "346/346 [==============================] - 3s 7ms/step - loss: 0.1701 - accuracy: 0.3568 - recall_1: 0.0000e+00 - val_loss: 0.1746 - val_accuracy: 0.9054 - val_recall_1: 0.0000e+00\n",
      "Epoch 11/80\n",
      "344/346 [============================>.] - ETA: 0s - loss: 0.1635 - accuracy: 0.3606 - recall_1: 0.0000e+00INFO:tensorflow:Assets written to: /home/paul_d/Sources/sem_math_repo/classification_formulas_multilabel/wandb/run-20230316_014017-27kqak7e/files/model-best/assets\n"
     ]
    },
    {
     "name": "stderr",
     "output_type": "stream",
     "text": [
      "INFO:tensorflow:Assets written to: /home/paul_d/Sources/sem_math_repo/classification_formulas_multilabel/wandb/run-20230316_014017-27kqak7e/files/model-best/assets\n"
     ]
    },
    {
     "name": "stdout",
     "output_type": "stream",
     "text": [
      "346/346 [==============================] - 3s 7ms/step - loss: 0.1636 - accuracy: 0.3589 - recall_1: 0.0000e+00 - val_loss: 0.1653 - val_accuracy: 0.9054 - val_recall_1: 0.0000e+00\n",
      "Epoch 12/80\n",
      "343/346 [============================>.] - ETA: 0s - loss: 0.1592 - accuracy: 0.3624 - recall_1: 0.0000e+00INFO:tensorflow:Assets written to: /home/paul_d/Sources/sem_math_repo/classification_formulas_multilabel/wandb/run-20230316_014017-27kqak7e/files/model-best/assets\n"
     ]
    },
    {
     "name": "stderr",
     "output_type": "stream",
     "text": [
      "INFO:tensorflow:Assets written to: /home/paul_d/Sources/sem_math_repo/classification_formulas_multilabel/wandb/run-20230316_014017-27kqak7e/files/model-best/assets\n"
     ]
    },
    {
     "name": "stdout",
     "output_type": "stream",
     "text": [
      "346/346 [==============================] - 3s 7ms/step - loss: 0.1593 - accuracy: 0.3602 - recall_1: 0.0000e+00 - val_loss: 0.1590 - val_accuracy: 0.9054 - val_recall_1: 0.0000e+00\n",
      "Epoch 13/80\n",
      "345/346 [============================>.] - ETA: 0s - loss: 0.1567 - accuracy: 0.3566 - recall_1: 2.4167e-05INFO:tensorflow:Assets written to: /home/paul_d/Sources/sem_math_repo/classification_formulas_multilabel/wandb/run-20230316_014017-27kqak7e/files/model-best/assets\n"
     ]
    },
    {
     "name": "stderr",
     "output_type": "stream",
     "text": [
      "INFO:tensorflow:Assets written to: /home/paul_d/Sources/sem_math_repo/classification_formulas_multilabel/wandb/run-20230316_014017-27kqak7e/files/model-best/assets\n"
     ]
    },
    {
     "name": "stdout",
     "output_type": "stream",
     "text": [
      "346/346 [==============================] - 3s 10ms/step - loss: 0.1567 - accuracy: 0.3558 - recall_1: 2.4099e-05 - val_loss: 0.1544 - val_accuracy: 0.9050 - val_recall_1: 0.0000e+00\n",
      "Epoch 14/80\n",
      "343/346 [============================>.] - ETA: 0s - loss: 0.1550 - accuracy: 0.3570 - recall_1: 0.0000e+00INFO:tensorflow:Assets written to: /home/paul_d/Sources/sem_math_repo/classification_formulas_multilabel/wandb/run-20230316_014017-27kqak7e/files/model-best/assets\n"
     ]
    },
    {
     "name": "stderr",
     "output_type": "stream",
     "text": [
      "INFO:tensorflow:Assets written to: /home/paul_d/Sources/sem_math_repo/classification_formulas_multilabel/wandb/run-20230316_014017-27kqak7e/files/model-best/assets\n"
     ]
    },
    {
     "name": "stdout",
     "output_type": "stream",
     "text": [
      "346/346 [==============================] - 3s 8ms/step - loss: 0.1551 - accuracy: 0.3547 - recall_1: 0.0000e+00 - val_loss: 0.1513 - val_accuracy: 0.9050 - val_recall_1: 0.0000e+00\n",
      "Epoch 15/80\n",
      "346/346 [==============================] - ETA: 0s - loss: 0.1539 - accuracy: 0.3532 - recall_1: 0.0000e+00INFO:tensorflow:Assets written to: /home/paul_d/Sources/sem_math_repo/classification_formulas_multilabel/wandb/run-20230316_014017-27kqak7e/files/model-best/assets\n"
     ]
    },
    {
     "name": "stderr",
     "output_type": "stream",
     "text": [
      "INFO:tensorflow:Assets written to: /home/paul_d/Sources/sem_math_repo/classification_formulas_multilabel/wandb/run-20230316_014017-27kqak7e/files/model-best/assets\n"
     ]
    },
    {
     "name": "stdout",
     "output_type": "stream",
     "text": [
      "346/346 [==============================] - 3s 8ms/step - loss: 0.1539 - accuracy: 0.3532 - recall_1: 0.0000e+00 - val_loss: 0.1491 - val_accuracy: 0.9050 - val_recall_1: 0.0000e+00\n",
      "Epoch 16/80\n",
      "334/346 [===========================>..] - ETA: 0s - loss: 0.1526 - accuracy: 0.3570 - recall_1: 0.0000e+00INFO:tensorflow:Assets written to: /home/paul_d/Sources/sem_math_repo/classification_formulas_multilabel/wandb/run-20230316_014017-27kqak7e/files/model-best/assets\n"
     ]
    },
    {
     "name": "stderr",
     "output_type": "stream",
     "text": [
      "INFO:tensorflow:Assets written to: /home/paul_d/Sources/sem_math_repo/classification_formulas_multilabel/wandb/run-20230316_014017-27kqak7e/files/model-best/assets\n"
     ]
    },
    {
     "name": "stdout",
     "output_type": "stream",
     "text": [
      "346/346 [==============================] - 3s 7ms/step - loss: 0.1533 - accuracy: 0.3486 - recall_1: 0.0000e+00 - val_loss: 0.1475 - val_accuracy: 0.9050 - val_recall_1: 0.0000e+00\n",
      "Epoch 17/80\n",
      "343/346 [============================>.] - ETA: 0s - loss: 0.1526 - accuracy: 0.3553 - recall_1: 4.8611e-05INFO:tensorflow:Assets written to: /home/paul_d/Sources/sem_math_repo/classification_formulas_multilabel/wandb/run-20230316_014017-27kqak7e/files/model-best/assets\n"
     ]
    },
    {
     "name": "stderr",
     "output_type": "stream",
     "text": [
      "INFO:tensorflow:Assets written to: /home/paul_d/Sources/sem_math_repo/classification_formulas_multilabel/wandb/run-20230316_014017-27kqak7e/files/model-best/assets\n"
     ]
    },
    {
     "name": "stdout",
     "output_type": "stream",
     "text": [
      "346/346 [==============================] - 3s 7ms/step - loss: 0.1528 - accuracy: 0.3533 - recall_1: 4.8197e-05 - val_loss: 0.1465 - val_accuracy: 0.9050 - val_recall_1: 0.0000e+00\n",
      "Epoch 18/80\n",
      "340/346 [============================>.] - ETA: 0s - loss: 0.1521 - accuracy: 0.3577 - recall_1: 7.3571e-05INFO:tensorflow:Assets written to: /home/paul_d/Sources/sem_math_repo/classification_formulas_multilabel/wandb/run-20230316_014017-27kqak7e/files/model-best/assets\n"
     ]
    },
    {
     "name": "stderr",
     "output_type": "stream",
     "text": [
      "INFO:tensorflow:Assets written to: /home/paul_d/Sources/sem_math_repo/classification_formulas_multilabel/wandb/run-20230316_014017-27kqak7e/files/model-best/assets\n"
     ]
    },
    {
     "name": "stdout",
     "output_type": "stream",
     "text": [
      "346/346 [==============================] - 3s 7ms/step - loss: 0.1525 - accuracy: 0.3539 - recall_1: 7.2294e-05 - val_loss: 0.1458 - val_accuracy: 0.9050 - val_recall_1: 0.0000e+00\n",
      "Epoch 19/80\n",
      "337/346 [============================>.] - ETA: 0s - loss: 0.1517 - accuracy: 0.3552 - recall_1: 7.4268e-05INFO:tensorflow:Assets written to: /home/paul_d/Sources/sem_math_repo/classification_formulas_multilabel/wandb/run-20230316_014017-27kqak7e/files/model-best/assets\n"
     ]
    },
    {
     "name": "stderr",
     "output_type": "stream",
     "text": [
      "INFO:tensorflow:Assets written to: /home/paul_d/Sources/sem_math_repo/classification_formulas_multilabel/wandb/run-20230316_014017-27kqak7e/files/model-best/assets\n"
     ]
    },
    {
     "name": "stdout",
     "output_type": "stream",
     "text": [
      "346/346 [==============================] - 3s 7ms/step - loss: 0.1523 - accuracy: 0.3484 - recall_1: 7.2305e-05 - val_loss: 0.1454 - val_accuracy: 0.9050 - val_recall_1: 0.0000e+00\n",
      "Epoch 20/80\n",
      "334/346 [===========================>..] - ETA: 0s - loss: 0.1513 - accuracy: 0.3571 - recall_1: 0.0000e+00INFO:tensorflow:Assets written to: /home/paul_d/Sources/sem_math_repo/classification_formulas_multilabel/wandb/run-20230316_014017-27kqak7e/files/model-best/assets\n"
     ]
    },
    {
     "name": "stderr",
     "output_type": "stream",
     "text": [
      "INFO:tensorflow:Assets written to: /home/paul_d/Sources/sem_math_repo/classification_formulas_multilabel/wandb/run-20230316_014017-27kqak7e/files/model-best/assets\n"
     ]
    },
    {
     "name": "stdout",
     "output_type": "stream",
     "text": [
      "346/346 [==============================] - 6s 18ms/step - loss: 0.1521 - accuracy: 0.3493 - recall_1: 0.0000e+00 - val_loss: 0.1451 - val_accuracy: 0.9050 - val_recall_1: 0.0000e+00\n",
      "Epoch 21/80\n",
      "340/346 [============================>.] - ETA: 0s - loss: 0.1516 - accuracy: 0.3519 - recall_1: 9.8104e-05INFO:tensorflow:Assets written to: /home/paul_d/Sources/sem_math_repo/classification_formulas_multilabel/wandb/run-20230316_014017-27kqak7e/files/model-best/assets\n"
     ]
    },
    {
     "name": "stderr",
     "output_type": "stream",
     "text": [
      "INFO:tensorflow:Assets written to: /home/paul_d/Sources/sem_math_repo/classification_formulas_multilabel/wandb/run-20230316_014017-27kqak7e/files/model-best/assets\n"
     ]
    },
    {
     "name": "stdout",
     "output_type": "stream",
     "text": [
      "346/346 [==============================] - 3s 8ms/step - loss: 0.1520 - accuracy: 0.3484 - recall_1: 9.6381e-05 - val_loss: 0.1449 - val_accuracy: 0.9050 - val_recall_1: 0.0000e+00\n",
      "Epoch 22/80\n",
      "343/346 [============================>.] - ETA: 0s - loss: 0.1517 - accuracy: 0.3560 - recall_1: 1.4586e-04INFO:tensorflow:Assets written to: /home/paul_d/Sources/sem_math_repo/classification_formulas_multilabel/wandb/run-20230316_014017-27kqak7e/files/model-best/assets\n"
     ]
    },
    {
     "name": "stderr",
     "output_type": "stream",
     "text": [
      "INFO:tensorflow:Assets written to: /home/paul_d/Sources/sem_math_repo/classification_formulas_multilabel/wandb/run-20230316_014017-27kqak7e/files/model-best/assets\n"
     ]
    },
    {
     "name": "stdout",
     "output_type": "stream",
     "text": [
      "346/346 [==============================] - 3s 7ms/step - loss: 0.1519 - accuracy: 0.3542 - recall_1: 1.4460e-04 - val_loss: 0.1448 - val_accuracy: 0.9050 - val_recall_1: 0.0000e+00\n",
      "Epoch 23/80\n",
      "341/346 [============================>.] - ETA: 0s - loss: 0.1515 - accuracy: 0.3544 - recall_1: 7.3386e-05INFO:tensorflow:Assets written to: /home/paul_d/Sources/sem_math_repo/classification_formulas_multilabel/wandb/run-20230316_014017-27kqak7e/files/model-best/assets\n"
     ]
    },
    {
     "name": "stderr",
     "output_type": "stream",
     "text": [
      "INFO:tensorflow:Assets written to: /home/paul_d/Sources/sem_math_repo/classification_formulas_multilabel/wandb/run-20230316_014017-27kqak7e/files/model-best/assets\n"
     ]
    },
    {
     "name": "stdout",
     "output_type": "stream",
     "text": [
      "346/346 [==============================] - 3s 7ms/step - loss: 0.1519 - accuracy: 0.3511 - recall_1: 7.2291e-05 - val_loss: 0.1447 - val_accuracy: 0.9050 - val_recall_1: 0.0000e+00\n",
      "Epoch 24/80\n",
      "346/346 [==============================] - ETA: 0s - loss: 0.1516 - accuracy: 0.3519 - recall_1: 9.6411e-05INFO:tensorflow:Assets written to: /home/paul_d/Sources/sem_math_repo/classification_formulas_multilabel/wandb/run-20230316_014017-27kqak7e/files/model-best/assets\n"
     ]
    },
    {
     "name": "stderr",
     "output_type": "stream",
     "text": [
      "INFO:tensorflow:Assets written to: /home/paul_d/Sources/sem_math_repo/classification_formulas_multilabel/wandb/run-20230316_014017-27kqak7e/files/model-best/assets\n"
     ]
    },
    {
     "name": "stdout",
     "output_type": "stream",
     "text": [
      "346/346 [==============================] - 3s 7ms/step - loss: 0.1516 - accuracy: 0.3519 - recall_1: 9.6411e-05 - val_loss: 0.1446 - val_accuracy: 0.9050 - val_recall_1: 0.0000e+00\n",
      "Epoch 25/80\n",
      "346/346 [==============================] - 1s 4ms/step - loss: 0.1517 - accuracy: 0.3501 - recall_1: 2.6510e-04 - val_loss: 0.1446 - val_accuracy: 0.9050 - val_recall_1: 0.0000e+00\n",
      "Epoch 26/80\n",
      "340/346 [============================>.] - ETA: 0s - loss: 0.1513 - accuracy: 0.3575 - recall_1: 3.4346e-04INFO:tensorflow:Assets written to: /home/paul_d/Sources/sem_math_repo/classification_formulas_multilabel/wandb/run-20230316_014017-27kqak7e/files/model-best/assets\n"
     ]
    },
    {
     "name": "stderr",
     "output_type": "stream",
     "text": [
      "INFO:tensorflow:Assets written to: /home/paul_d/Sources/sem_math_repo/classification_formulas_multilabel/wandb/run-20230316_014017-27kqak7e/files/model-best/assets\n"
     ]
    },
    {
     "name": "stdout",
     "output_type": "stream",
     "text": [
      "346/346 [==============================] - 3s 8ms/step - loss: 0.1517 - accuracy: 0.3534 - recall_1: 3.3740e-04 - val_loss: 0.1445 - val_accuracy: 0.9050 - val_recall_1: 0.0000e+00\n",
      "Epoch 27/80\n",
      "344/346 [============================>.] - ETA: 0s - loss: 0.1515 - accuracy: 0.3598 - recall_1: 3.3934e-04INFO:tensorflow:Assets written to: /home/paul_d/Sources/sem_math_repo/classification_formulas_multilabel/wandb/run-20230316_014017-27kqak7e/files/model-best/assets\n"
     ]
    },
    {
     "name": "stderr",
     "output_type": "stream",
     "text": [
      "INFO:tensorflow:Assets written to: /home/paul_d/Sources/sem_math_repo/classification_formulas_multilabel/wandb/run-20230316_014017-27kqak7e/files/model-best/assets\n"
     ]
    },
    {
     "name": "stdout",
     "output_type": "stream",
     "text": [
      "346/346 [==============================] - 3s 7ms/step - loss: 0.1516 - accuracy: 0.3584 - recall_1: 3.3736e-04 - val_loss: 0.1444 - val_accuracy: 0.9050 - val_recall_1: 0.0000e+00\n",
      "Epoch 28/80\n",
      "346/346 [==============================] - 1s 4ms/step - loss: 0.1515 - accuracy: 0.3557 - recall_1: 2.8920e-04 - val_loss: 0.1445 - val_accuracy: 0.9050 - val_recall_1: 0.0000e+00\n",
      "Epoch 29/80\n",
      "341/346 [============================>.] - ETA: 0s - loss: 0.1510 - accuracy: 0.3609 - recall_1: 3.4252e-04INFO:tensorflow:Assets written to: /home/paul_d/Sources/sem_math_repo/classification_formulas_multilabel/wandb/run-20230316_014017-27kqak7e/files/model-best/assets\n"
     ]
    },
    {
     "name": "stderr",
     "output_type": "stream",
     "text": [
      "INFO:tensorflow:Assets written to: /home/paul_d/Sources/sem_math_repo/classification_formulas_multilabel/wandb/run-20230316_014017-27kqak7e/files/model-best/assets\n"
     ]
    },
    {
     "name": "stdout",
     "output_type": "stream",
     "text": [
      "346/346 [==============================] - 3s 10ms/step - loss: 0.1514 - accuracy: 0.3573 - recall_1: 3.3736e-04 - val_loss: 0.1444 - val_accuracy: 0.9050 - val_recall_1: 0.0000e+00\n",
      "Epoch 30/80\n",
      "346/346 [==============================] - 1s 4ms/step - loss: 0.1514 - accuracy: 0.3553 - recall_1: 5.0617e-04 - val_loss: 0.1444 - val_accuracy: 0.9050 - val_recall_1: 0.0000e+00\n",
      "Epoch 31/80\n",
      "344/346 [============================>.] - ETA: 0s - loss: 0.1512 - accuracy: 0.3605 - recall_1: 4.6082e-04INFO:tensorflow:Assets written to: /home/paul_d/Sources/sem_math_repo/classification_formulas_multilabel/wandb/run-20230316_014017-27kqak7e/files/model-best/assets\n"
     ]
    },
    {
     "name": "stderr",
     "output_type": "stream",
     "text": [
      "INFO:tensorflow:Assets written to: /home/paul_d/Sources/sem_math_repo/classification_formulas_multilabel/wandb/run-20230316_014017-27kqak7e/files/model-best/assets\n"
     ]
    },
    {
     "name": "stdout",
     "output_type": "stream",
     "text": [
      "346/346 [==============================] - 3s 8ms/step - loss: 0.1515 - accuracy: 0.3589 - recall_1: 4.5785e-04 - val_loss: 0.1443 - val_accuracy: 0.9050 - val_recall_1: 0.0000e+00\n",
      "Epoch 32/80\n",
      "337/346 [============================>.] - ETA: 0s - loss: 0.1507 - accuracy: 0.3661 - recall_1: 4.7027e-04INFO:tensorflow:Assets written to: /home/paul_d/Sources/sem_math_repo/classification_formulas_multilabel/wandb/run-20230316_014017-27kqak7e/files/model-best/assets\n"
     ]
    },
    {
     "name": "stderr",
     "output_type": "stream",
     "text": [
      "INFO:tensorflow:Assets written to: /home/paul_d/Sources/sem_math_repo/classification_formulas_multilabel/wandb/run-20230316_014017-27kqak7e/files/model-best/assets\n"
     ]
    },
    {
     "name": "stdout",
     "output_type": "stream",
     "text": [
      "346/346 [==============================] - 3s 8ms/step - loss: 0.1513 - accuracy: 0.3595 - recall_1: 4.5793e-04 - val_loss: 0.1443 - val_accuracy: 0.9050 - val_recall_1: 0.0000e+00\n",
      "Epoch 33/80\n",
      "345/346 [============================>.] - ETA: 0s - loss: 0.1511 - accuracy: 0.3601 - recall_1: 8.4604e-04INFO:tensorflow:Assets written to: /home/paul_d/Sources/sem_math_repo/classification_formulas_multilabel/wandb/run-20230316_014017-27kqak7e/files/model-best/assets\n"
     ]
    },
    {
     "name": "stderr",
     "output_type": "stream",
     "text": [
      "INFO:tensorflow:Assets written to: /home/paul_d/Sources/sem_math_repo/classification_formulas_multilabel/wandb/run-20230316_014017-27kqak7e/files/model-best/assets\n"
     ]
    },
    {
     "name": "stdout",
     "output_type": "stream",
     "text": [
      "346/346 [==============================] - 3s 7ms/step - loss: 0.1512 - accuracy: 0.3592 - recall_1: 8.4356e-04 - val_loss: 0.1443 - val_accuracy: 0.9050 - val_recall_1: 0.0000e+00\n",
      "Epoch 34/80\n",
      "346/346 [==============================] - 1s 4ms/step - loss: 0.1513 - accuracy: 0.3565 - recall_1: 7.7112e-04 - val_loss: 0.1443 - val_accuracy: 0.9050 - val_recall_1: 0.0000e+00\n",
      "Epoch 35/80\n",
      "338/346 [============================>.] - ETA: 0s - loss: 0.1506 - accuracy: 0.3680 - recall_1: 7.6468e-04INFO:tensorflow:Assets written to: /home/paul_d/Sources/sem_math_repo/classification_formulas_multilabel/wandb/run-20230316_014017-27kqak7e/files/model-best/assets\n"
     ]
    },
    {
     "name": "stderr",
     "output_type": "stream",
     "text": [
      "INFO:tensorflow:Assets written to: /home/paul_d/Sources/sem_math_repo/classification_formulas_multilabel/wandb/run-20230316_014017-27kqak7e/files/model-best/assets\n"
     ]
    },
    {
     "name": "stdout",
     "output_type": "stream",
     "text": [
      "346/346 [==============================] - 3s 8ms/step - loss: 0.1511 - accuracy: 0.3620 - recall_1: 7.4702e-04 - val_loss: 0.1441 - val_accuracy: 0.9050 - val_recall_1: 0.0000e+00\n",
      "Epoch 36/80\n",
      "344/346 [============================>.] - ETA: 0s - loss: 0.1510 - accuracy: 0.3629 - recall_1: 8.9673e-04INFO:tensorflow:Assets written to: /home/paul_d/Sources/sem_math_repo/classification_formulas_multilabel/wandb/run-20230316_014017-27kqak7e/files/model-best/assets\n"
     ]
    },
    {
     "name": "stderr",
     "output_type": "stream",
     "text": [
      "INFO:tensorflow:Assets written to: /home/paul_d/Sources/sem_math_repo/classification_formulas_multilabel/wandb/run-20230316_014017-27kqak7e/files/model-best/assets\n"
     ]
    },
    {
     "name": "stdout",
     "output_type": "stream",
     "text": [
      "346/346 [==============================] - 3s 7ms/step - loss: 0.1512 - accuracy: 0.3612 - recall_1: 8.9159e-04 - val_loss: 0.1441 - val_accuracy: 0.9050 - val_recall_1: 0.0000e+00\n",
      "Epoch 37/80\n",
      "346/346 [==============================] - ETA: 0s - loss: 0.1510 - accuracy: 0.3583 - recall_1: 0.0010INFO:tensorflow:Assets written to: /home/paul_d/Sources/sem_math_repo/classification_formulas_multilabel/wandb/run-20230316_014017-27kqak7e/files/model-best/assets\n"
     ]
    },
    {
     "name": "stderr",
     "output_type": "stream",
     "text": [
      "INFO:tensorflow:Assets written to: /home/paul_d/Sources/sem_math_repo/classification_formulas_multilabel/wandb/run-20230316_014017-27kqak7e/files/model-best/assets\n"
     ]
    },
    {
     "name": "stdout",
     "output_type": "stream",
     "text": [
      "346/346 [==============================] - 3s 7ms/step - loss: 0.1510 - accuracy: 0.3583 - recall_1: 0.0010 - val_loss: 0.1440 - val_accuracy: 0.9050 - val_recall_1: 0.0000e+00\n",
      "Epoch 38/80\n",
      "346/346 [==============================] - 1s 4ms/step - loss: 0.1510 - accuracy: 0.3595 - recall_1: 0.0015 - val_loss: 0.1441 - val_accuracy: 0.9050 - val_recall_1: 0.0000e+00\n",
      "Epoch 39/80\n",
      "337/346 [============================>.] - ETA: 0s - loss: 0.1505 - accuracy: 0.3699 - recall_1: 0.0011INFO:tensorflow:Assets written to: /home/paul_d/Sources/sem_math_repo/classification_formulas_multilabel/wandb/run-20230316_014017-27kqak7e/files/model-best/assets\n"
     ]
    },
    {
     "name": "stderr",
     "output_type": "stream",
     "text": [
      "INFO:tensorflow:Assets written to: /home/paul_d/Sources/sem_math_repo/classification_formulas_multilabel/wandb/run-20230316_014017-27kqak7e/files/model-best/assets\n"
     ]
    },
    {
     "name": "stdout",
     "output_type": "stream",
     "text": [
      "346/346 [==============================] - 3s 10ms/step - loss: 0.1511 - accuracy: 0.3631 - recall_1: 0.0011 - val_loss: 0.1439 - val_accuracy: 0.9050 - val_recall_1: 0.0000e+00\n",
      "Epoch 40/80\n",
      "344/346 [============================>.] - ETA: 0s - loss: 0.1510 - accuracy: 0.3664 - recall_1: 0.0012INFO:tensorflow:Assets written to: /home/paul_d/Sources/sem_math_repo/classification_formulas_multilabel/wandb/run-20230316_014017-27kqak7e/files/model-best/assets\n"
     ]
    },
    {
     "name": "stderr",
     "output_type": "stream",
     "text": [
      "INFO:tensorflow:Assets written to: /home/paul_d/Sources/sem_math_repo/classification_formulas_multilabel/wandb/run-20230316_014017-27kqak7e/files/model-best/assets\n"
     ]
    },
    {
     "name": "stdout",
     "output_type": "stream",
     "text": [
      "346/346 [==============================] - 3s 8ms/step - loss: 0.1511 - accuracy: 0.3647 - recall_1: 0.0012 - val_loss: 0.1439 - val_accuracy: 0.9050 - val_recall_1: 0.0000e+00\n",
      "Epoch 41/80\n",
      "345/346 [============================>.] - ETA: 0s - loss: 0.1510 - accuracy: 0.3656 - recall_1: 0.0013INFO:tensorflow:Assets written to: /home/paul_d/Sources/sem_math_repo/classification_formulas_multilabel/wandb/run-20230316_014017-27kqak7e/files/model-best/assets\n"
     ]
    },
    {
     "name": "stderr",
     "output_type": "stream",
     "text": [
      "INFO:tensorflow:Assets written to: /home/paul_d/Sources/sem_math_repo/classification_formulas_multilabel/wandb/run-20230316_014017-27kqak7e/files/model-best/assets\n"
     ]
    },
    {
     "name": "stdout",
     "output_type": "stream",
     "text": [
      "346/346 [==============================] - 3s 7ms/step - loss: 0.1511 - accuracy: 0.3647 - recall_1: 0.0013 - val_loss: 0.1438 - val_accuracy: 0.9050 - val_recall_1: 0.0000e+00\n",
      "Epoch 42/80\n",
      "346/346 [==============================] - 1s 4ms/step - loss: 0.1509 - accuracy: 0.3637 - recall_1: 0.0014 - val_loss: 0.1438 - val_accuracy: 0.9050 - val_recall_1: 0.0000e+00\n",
      "Epoch 43/80\n",
      "342/346 [============================>.] - ETA: 0s - loss: 0.1507 - accuracy: 0.3682 - recall_1: 0.0015INFO:tensorflow:Assets written to: /home/paul_d/Sources/sem_math_repo/classification_formulas_multilabel/wandb/run-20230316_014017-27kqak7e/files/model-best/assets\n"
     ]
    },
    {
     "name": "stderr",
     "output_type": "stream",
     "text": [
      "INFO:tensorflow:Assets written to: /home/paul_d/Sources/sem_math_repo/classification_formulas_multilabel/wandb/run-20230316_014017-27kqak7e/files/model-best/assets\n"
     ]
    },
    {
     "name": "stdout",
     "output_type": "stream",
     "text": [
      "346/346 [==============================] - 3s 8ms/step - loss: 0.1508 - accuracy: 0.3647 - recall_1: 0.0015 - val_loss: 0.1437 - val_accuracy: 0.9050 - val_recall_1: 0.0000e+00\n",
      "Epoch 44/80\n",
      "346/346 [==============================] - 1s 4ms/step - loss: 0.1508 - accuracy: 0.3652 - recall_1: 0.0015 - val_loss: 0.1437 - val_accuracy: 0.9050 - val_recall_1: 0.0000e+00\n",
      "Epoch 45/80\n",
      "346/346 [==============================] - 1s 4ms/step - loss: 0.1508 - accuracy: 0.3649 - recall_1: 0.0020 - val_loss: 0.1438 - val_accuracy: 0.9050 - val_recall_1: 0.0000e+00\n",
      "Epoch 46/80\n",
      "338/346 [============================>.] - ETA: 0s - loss: 0.1502 - accuracy: 0.3744 - recall_1: 0.0018INFO:tensorflow:Assets written to: /home/paul_d/Sources/sem_math_repo/classification_formulas_multilabel/wandb/run-20230316_014017-27kqak7e/files/model-best/assets\n"
     ]
    },
    {
     "name": "stderr",
     "output_type": "stream",
     "text": [
      "INFO:tensorflow:Assets written to: /home/paul_d/Sources/sem_math_repo/classification_formulas_multilabel/wandb/run-20230316_014017-27kqak7e/files/model-best/assets\n"
     ]
    },
    {
     "name": "stdout",
     "output_type": "stream",
     "text": [
      "346/346 [==============================] - 3s 7ms/step - loss: 0.1507 - accuracy: 0.3682 - recall_1: 0.0017 - val_loss: 0.1436 - val_accuracy: 0.9050 - val_recall_1: 0.0000e+00\n",
      "Epoch 47/80\n",
      "346/346 [==============================] - 1s 4ms/step - loss: 0.1510 - accuracy: 0.3667 - recall_1: 0.0019 - val_loss: 0.1437 - val_accuracy: 0.9050 - val_recall_1: 0.0000e+00\n",
      "Epoch 48/80\n",
      "341/346 [============================>.] - ETA: 0s - loss: 0.1504 - accuracy: 0.3726 - recall_1: 0.0019INFO:tensorflow:Assets written to: /home/paul_d/Sources/sem_math_repo/classification_formulas_multilabel/wandb/run-20230316_014017-27kqak7e/files/model-best/assets\n"
     ]
    },
    {
     "name": "stderr",
     "output_type": "stream",
     "text": [
      "INFO:tensorflow:Assets written to: /home/paul_d/Sources/sem_math_repo/classification_formulas_multilabel/wandb/run-20230316_014017-27kqak7e/files/model-best/assets\n"
     ]
    },
    {
     "name": "stdout",
     "output_type": "stream",
     "text": [
      "346/346 [==============================] - 3s 8ms/step - loss: 0.1507 - accuracy: 0.3688 - recall_1: 0.0019 - val_loss: 0.1435 - val_accuracy: 0.9050 - val_recall_1: 0.0000e+00\n",
      "Epoch 49/80\n",
      "346/346 [==============================] - 1s 4ms/step - loss: 0.1508 - accuracy: 0.3687 - recall_1: 0.0020 - val_loss: 0.1436 - val_accuracy: 0.9050 - val_recall_1: 0.0000e+00\n",
      "Epoch 50/80\n",
      "346/346 [==============================] - 1s 4ms/step - loss: 0.1507 - accuracy: 0.3687 - recall_1: 0.0024 - val_loss: 0.1436 - val_accuracy: 0.9050 - val_recall_1: 0.0000e+00\n",
      "Epoch 51/80\n",
      "346/346 [==============================] - 1s 4ms/step - loss: 0.1505 - accuracy: 0.3676 - recall_1: 0.0027 - val_loss: 0.1435 - val_accuracy: 0.9050 - val_recall_1: 0.0000e+00\n",
      "Epoch 52/80\n",
      "341/346 [============================>.] - ETA: 0s - loss: 0.1504 - accuracy: 0.3699 - recall_1: 0.0030INFO:tensorflow:Assets written to: /home/paul_d/Sources/sem_math_repo/classification_formulas_multilabel/wandb/run-20230316_014017-27kqak7e/files/model-best/assets\n"
     ]
    },
    {
     "name": "stderr",
     "output_type": "stream",
     "text": [
      "INFO:tensorflow:Assets written to: /home/paul_d/Sources/sem_math_repo/classification_formulas_multilabel/wandb/run-20230316_014017-27kqak7e/files/model-best/assets\n"
     ]
    },
    {
     "name": "stdout",
     "output_type": "stream",
     "text": [
      "346/346 [==============================] - 3s 8ms/step - loss: 0.1506 - accuracy: 0.3663 - recall_1: 0.0029 - val_loss: 0.1435 - val_accuracy: 0.9050 - val_recall_1: 0.0000e+00\n",
      "Epoch 53/80\n",
      "343/346 [============================>.] - ETA: 0s - loss: 0.1505 - accuracy: 0.3675 - recall_1: 0.0028INFO:tensorflow:Assets written to: /home/paul_d/Sources/sem_math_repo/classification_formulas_multilabel/wandb/run-20230316_014017-27kqak7e/files/model-best/assets\n"
     ]
    },
    {
     "name": "stderr",
     "output_type": "stream",
     "text": [
      "INFO:tensorflow:Assets written to: /home/paul_d/Sources/sem_math_repo/classification_formulas_multilabel/wandb/run-20230316_014017-27kqak7e/files/model-best/assets\n"
     ]
    },
    {
     "name": "stdout",
     "output_type": "stream",
     "text": [
      "346/346 [==============================] - 3s 10ms/step - loss: 0.1507 - accuracy: 0.3650 - recall_1: 0.0028 - val_loss: 0.1435 - val_accuracy: 0.9050 - val_recall_1: 0.0000e+00\n",
      "Epoch 54/80\n",
      "338/346 [============================>.] - ETA: 0s - loss: 0.1501 - accuracy: 0.3793 - recall_1: 0.0028INFO:tensorflow:Assets written to: /home/paul_d/Sources/sem_math_repo/classification_formulas_multilabel/wandb/run-20230316_014017-27kqak7e/files/model-best/assets\n"
     ]
    },
    {
     "name": "stderr",
     "output_type": "stream",
     "text": [
      "INFO:tensorflow:Assets written to: /home/paul_d/Sources/sem_math_repo/classification_formulas_multilabel/wandb/run-20230316_014017-27kqak7e/files/model-best/assets\n"
     ]
    },
    {
     "name": "stdout",
     "output_type": "stream",
     "text": [
      "346/346 [==============================] - 3s 8ms/step - loss: 0.1506 - accuracy: 0.3727 - recall_1: 0.0028 - val_loss: 0.1435 - val_accuracy: 0.9050 - val_recall_1: 0.0000e+00\n",
      "Epoch 55/80\n",
      "341/346 [============================>.] - ETA: 0s - loss: 0.1505 - accuracy: 0.3728 - recall_1: 0.0027INFO:tensorflow:Assets written to: /home/paul_d/Sources/sem_math_repo/classification_formulas_multilabel/wandb/run-20230316_014017-27kqak7e/files/model-best/assets\n"
     ]
    },
    {
     "name": "stderr",
     "output_type": "stream",
     "text": [
      "INFO:tensorflow:Assets written to: /home/paul_d/Sources/sem_math_repo/classification_formulas_multilabel/wandb/run-20230316_014017-27kqak7e/files/model-best/assets\n"
     ]
    },
    {
     "name": "stdout",
     "output_type": "stream",
     "text": [
      "346/346 [==============================] - 3s 8ms/step - loss: 0.1507 - accuracy: 0.3688 - recall_1: 0.0027 - val_loss: 0.1434 - val_accuracy: 0.9050 - val_recall_1: 0.0000e+00\n",
      "Epoch 56/80\n",
      "346/346 [==============================] - ETA: 0s - loss: 0.1505 - accuracy: 0.3720 - recall_1: 0.0025INFO:tensorflow:Assets written to: /home/paul_d/Sources/sem_math_repo/classification_formulas_multilabel/wandb/run-20230316_014017-27kqak7e/files/model-best/assets\n"
     ]
    },
    {
     "name": "stderr",
     "output_type": "stream",
     "text": [
      "INFO:tensorflow:Assets written to: /home/paul_d/Sources/sem_math_repo/classification_formulas_multilabel/wandb/run-20230316_014017-27kqak7e/files/model-best/assets\n"
     ]
    },
    {
     "name": "stdout",
     "output_type": "stream",
     "text": [
      "346/346 [==============================] - 3s 7ms/step - loss: 0.1505 - accuracy: 0.3720 - recall_1: 0.0025 - val_loss: 0.1431 - val_accuracy: 0.9050 - val_recall_1: 0.0000e+00\n",
      "Epoch 57/80\n",
      "344/346 [============================>.] - ETA: 0s - loss: 0.1504 - accuracy: 0.3706 - recall_1: 0.0029INFO:tensorflow:Assets written to: /home/paul_d/Sources/sem_math_repo/classification_formulas_multilabel/wandb/run-20230316_014017-27kqak7e/files/model-best/assets\n"
     ]
    },
    {
     "name": "stderr",
     "output_type": "stream",
     "text": [
      "INFO:tensorflow:Assets written to: /home/paul_d/Sources/sem_math_repo/classification_formulas_multilabel/wandb/run-20230316_014017-27kqak7e/files/model-best/assets\n"
     ]
    },
    {
     "name": "stdout",
     "output_type": "stream",
     "text": [
      "346/346 [==============================] - 3s 7ms/step - loss: 0.1506 - accuracy: 0.3690 - recall_1: 0.0029 - val_loss: 0.1431 - val_accuracy: 0.9050 - val_recall_1: 0.0000e+00\n",
      "Epoch 58/80\n",
      "346/346 [==============================] - 1s 4ms/step - loss: 0.1506 - accuracy: 0.3711 - recall_1: 0.0027 - val_loss: 0.1432 - val_accuracy: 0.9050 - val_recall_1: 0.0000e+00\n",
      "Epoch 59/80\n",
      "342/346 [============================>.] - ETA: 0s - loss: 0.1504 - accuracy: 0.3715 - recall_1: 0.0026INFO:tensorflow:Assets written to: /home/paul_d/Sources/sem_math_repo/classification_formulas_multilabel/wandb/run-20230316_014017-27kqak7e/files/model-best/assets\n"
     ]
    },
    {
     "name": "stderr",
     "output_type": "stream",
     "text": [
      "INFO:tensorflow:Assets written to: /home/paul_d/Sources/sem_math_repo/classification_formulas_multilabel/wandb/run-20230316_014017-27kqak7e/files/model-best/assets\n"
     ]
    },
    {
     "name": "stdout",
     "output_type": "stream",
     "text": [
      "346/346 [==============================] - 3s 8ms/step - loss: 0.1506 - accuracy: 0.3682 - recall_1: 0.0026 - val_loss: 0.1431 - val_accuracy: 0.9050 - val_recall_1: 0.0000e+00\n",
      "Epoch 60/80\n",
      "346/346 [==============================] - 1s 4ms/step - loss: 0.1506 - accuracy: 0.3722 - recall_1: 0.0028 - val_loss: 0.1431 - val_accuracy: 0.9050 - val_recall_1: 0.0000e+00\n",
      "Epoch 61/80\n",
      "339/346 [============================>.] - ETA: 0s - loss: 0.1501 - accuracy: 0.3766 - recall_1: 0.0034INFO:tensorflow:Assets written to: /home/paul_d/Sources/sem_math_repo/classification_formulas_multilabel/wandb/run-20230316_014017-27kqak7e/files/model-best/assets\n"
     ]
    },
    {
     "name": "stderr",
     "output_type": "stream",
     "text": [
      "INFO:tensorflow:Assets written to: /home/paul_d/Sources/sem_math_repo/classification_formulas_multilabel/wandb/run-20230316_014017-27kqak7e/files/model-best/assets\n"
     ]
    },
    {
     "name": "stdout",
     "output_type": "stream",
     "text": [
      "346/346 [==============================] - 3s 10ms/step - loss: 0.1506 - accuracy: 0.3707 - recall_1: 0.0033 - val_loss: 0.1431 - val_accuracy: 0.9050 - val_recall_1: 0.0000e+00\n",
      "Epoch 62/80\n",
      "346/346 [==============================] - 1s 4ms/step - loss: 0.1506 - accuracy: 0.3713 - recall_1: 0.0032 - val_loss: 0.1431 - val_accuracy: 0.9050 - val_recall_1: 0.0000e+00\n",
      "Epoch 63/80\n",
      "342/346 [============================>.] - ETA: 0s - loss: 0.1503 - accuracy: 0.3735 - recall_1: 0.0032INFO:tensorflow:Assets written to: /home/paul_d/Sources/sem_math_repo/classification_formulas_multilabel/wandb/run-20230316_014017-27kqak7e/files/model-best/assets\n"
     ]
    },
    {
     "name": "stderr",
     "output_type": "stream",
     "text": [
      "INFO:tensorflow:Assets written to: /home/paul_d/Sources/sem_math_repo/classification_formulas_multilabel/wandb/run-20230316_014017-27kqak7e/files/model-best/assets\n"
     ]
    },
    {
     "name": "stdout",
     "output_type": "stream",
     "text": [
      "346/346 [==============================] - 3s 8ms/step - loss: 0.1505 - accuracy: 0.3704 - recall_1: 0.0031 - val_loss: 0.1430 - val_accuracy: 0.9050 - val_recall_1: 0.0000e+00\n",
      "Epoch 64/80\n",
      "337/346 [============================>.] - ETA: 0s - loss: 0.1497 - accuracy: 0.3825 - recall_1: 0.0031INFO:tensorflow:Assets written to: /home/paul_d/Sources/sem_math_repo/classification_formulas_multilabel/wandb/run-20230316_014017-27kqak7e/files/model-best/assets\n"
     ]
    },
    {
     "name": "stderr",
     "output_type": "stream",
     "text": [
      "INFO:tensorflow:Assets written to: /home/paul_d/Sources/sem_math_repo/classification_formulas_multilabel/wandb/run-20230316_014017-27kqak7e/files/model-best/assets\n"
     ]
    },
    {
     "name": "stdout",
     "output_type": "stream",
     "text": [
      "346/346 [==============================] - 3s 8ms/step - loss: 0.1504 - accuracy: 0.3750 - recall_1: 0.0031 - val_loss: 0.1430 - val_accuracy: 0.9050 - val_recall_1: 0.0000e+00\n",
      "Epoch 65/80\n",
      "346/346 [==============================] - 1s 4ms/step - loss: 0.1502 - accuracy: 0.3694 - recall_1: 0.0031 - val_loss: 0.1430 - val_accuracy: 0.9050 - val_recall_1: 0.0000e+00\n",
      "Epoch 66/80\n",
      "346/346 [==============================] - 1s 4ms/step - loss: 0.1505 - accuracy: 0.3726 - recall_1: 0.0034 - val_loss: 0.1430 - val_accuracy: 0.9050 - val_recall_1: 0.0000e+00\n",
      "Epoch 67/80\n",
      "346/346 [==============================] - 1s 4ms/step - loss: 0.1504 - accuracy: 0.3743 - recall_1: 0.0032 - val_loss: 0.1430 - val_accuracy: 0.9050 - val_recall_1: 0.0000e+00\n",
      "Epoch 68/80\n",
      "342/346 [============================>.] - ETA: 0s - loss: 0.1500 - accuracy: 0.3789 - recall_1: 0.0042INFO:tensorflow:Assets written to: /home/paul_d/Sources/sem_math_repo/classification_formulas_multilabel/wandb/run-20230316_014017-27kqak7e/files/model-best/assets\n"
     ]
    },
    {
     "name": "stderr",
     "output_type": "stream",
     "text": [
      "INFO:tensorflow:Assets written to: /home/paul_d/Sources/sem_math_repo/classification_formulas_multilabel/wandb/run-20230316_014017-27kqak7e/files/model-best/assets\n"
     ]
    },
    {
     "name": "stdout",
     "output_type": "stream",
     "text": [
      "346/346 [==============================] - 3s 8ms/step - loss: 0.1503 - accuracy: 0.3757 - recall_1: 0.0041 - val_loss: 0.1429 - val_accuracy: 0.9050 - val_recall_1: 0.0000e+00\n",
      "Epoch 69/80\n",
      "345/346 [============================>.] - ETA: 0s - loss: 0.1501 - accuracy: 0.3764 - recall_1: 0.0033INFO:tensorflow:Assets written to: /home/paul_d/Sources/sem_math_repo/classification_formulas_multilabel/wandb/run-20230316_014017-27kqak7e/files/model-best/assets\n"
     ]
    },
    {
     "name": "stderr",
     "output_type": "stream",
     "text": [
      "INFO:tensorflow:Assets written to: /home/paul_d/Sources/sem_math_repo/classification_formulas_multilabel/wandb/run-20230316_014017-27kqak7e/files/model-best/assets\n"
     ]
    },
    {
     "name": "stdout",
     "output_type": "stream",
     "text": [
      "346/346 [==============================] - 3s 7ms/step - loss: 0.1501 - accuracy: 0.3756 - recall_1: 0.0033 - val_loss: 0.1429 - val_accuracy: 0.9050 - val_recall_1: 0.0000e+00\n",
      "Epoch 70/80\n",
      "335/346 [============================>.] - ETA: 0s - loss: 0.1495 - accuracy: 0.3844 - recall_1: 0.0037INFO:tensorflow:Assets written to: /home/paul_d/Sources/sem_math_repo/classification_formulas_multilabel/wandb/run-20230316_014017-27kqak7e/files/model-best/assets\n"
     ]
    },
    {
     "name": "stderr",
     "output_type": "stream",
     "text": [
      "INFO:tensorflow:Assets written to: /home/paul_d/Sources/sem_math_repo/classification_formulas_multilabel/wandb/run-20230316_014017-27kqak7e/files/model-best/assets\n"
     ]
    },
    {
     "name": "stdout",
     "output_type": "stream",
     "text": [
      "346/346 [==============================] - 3s 7ms/step - loss: 0.1504 - accuracy: 0.3752 - recall_1: 0.0036 - val_loss: 0.1428 - val_accuracy: 0.9050 - val_recall_1: 0.0000e+00\n",
      "Epoch 71/80\n",
      "341/346 [============================>.] - ETA: 0s - loss: 0.1500 - accuracy: 0.3813 - recall_1: 0.0034INFO:tensorflow:Assets written to: /home/paul_d/Sources/sem_math_repo/classification_formulas_multilabel/wandb/run-20230316_014017-27kqak7e/files/model-best/assets\n"
     ]
    },
    {
     "name": "stderr",
     "output_type": "stream",
     "text": [
      "INFO:tensorflow:Assets written to: /home/paul_d/Sources/sem_math_repo/classification_formulas_multilabel/wandb/run-20230316_014017-27kqak7e/files/model-best/assets\n"
     ]
    },
    {
     "name": "stdout",
     "output_type": "stream",
     "text": [
      "346/346 [==============================] - 3s 7ms/step - loss: 0.1502 - accuracy: 0.3776 - recall_1: 0.0034 - val_loss: 0.1427 - val_accuracy: 0.9050 - val_recall_1: 0.0000e+00\n",
      "Epoch 72/80\n",
      "342/346 [============================>.] - ETA: 0s - loss: 0.1499 - accuracy: 0.3782 - recall_1: 0.0032INFO:tensorflow:Assets written to: /home/paul_d/Sources/sem_math_repo/classification_formulas_multilabel/wandb/run-20230316_014017-27kqak7e/files/model-best/assets\n"
     ]
    },
    {
     "name": "stderr",
     "output_type": "stream",
     "text": [
      "INFO:tensorflow:Assets written to: /home/paul_d/Sources/sem_math_repo/classification_formulas_multilabel/wandb/run-20230316_014017-27kqak7e/files/model-best/assets\n"
     ]
    },
    {
     "name": "stdout",
     "output_type": "stream",
     "text": [
      "346/346 [==============================] - 3s 10ms/step - loss: 0.1502 - accuracy: 0.3747 - recall_1: 0.0032 - val_loss: 0.1427 - val_accuracy: 0.9050 - val_recall_1: 0.0000e+00\n",
      "Epoch 73/80\n",
      "346/346 [==============================] - ETA: 0s - loss: 0.1502 - accuracy: 0.3762 - recall_1: 0.0035INFO:tensorflow:Assets written to: /home/paul_d/Sources/sem_math_repo/classification_formulas_multilabel/wandb/run-20230316_014017-27kqak7e/files/model-best/assets\n"
     ]
    },
    {
     "name": "stderr",
     "output_type": "stream",
     "text": [
      "INFO:tensorflow:Assets written to: /home/paul_d/Sources/sem_math_repo/classification_formulas_multilabel/wandb/run-20230316_014017-27kqak7e/files/model-best/assets\n"
     ]
    },
    {
     "name": "stdout",
     "output_type": "stream",
     "text": [
      "346/346 [==============================] - 3s 8ms/step - loss: 0.1502 - accuracy: 0.3762 - recall_1: 0.0035 - val_loss: 0.1427 - val_accuracy: 0.9050 - val_recall_1: 0.0000e+00\n",
      "Epoch 74/80\n",
      "346/346 [==============================] - ETA: 0s - loss: 0.1501 - accuracy: 0.3761 - recall_1: 0.0037INFO:tensorflow:Assets written to: /home/paul_d/Sources/sem_math_repo/classification_formulas_multilabel/wandb/run-20230316_014017-27kqak7e/files/model-best/assets\n"
     ]
    },
    {
     "name": "stderr",
     "output_type": "stream",
     "text": [
      "INFO:tensorflow:Assets written to: /home/paul_d/Sources/sem_math_repo/classification_formulas_multilabel/wandb/run-20230316_014017-27kqak7e/files/model-best/assets\n"
     ]
    },
    {
     "name": "stdout",
     "output_type": "stream",
     "text": [
      "346/346 [==============================] - 3s 8ms/step - loss: 0.1501 - accuracy: 0.3761 - recall_1: 0.0037 - val_loss: 0.1427 - val_accuracy: 0.9050 - val_recall_1: 0.0000e+00\n",
      "Epoch 75/80\n",
      "342/346 [============================>.] - ETA: 0s - loss: 0.1500 - accuracy: 0.3802 - recall_1: 0.0031INFO:tensorflow:Assets written to: /home/paul_d/Sources/sem_math_repo/classification_formulas_multilabel/wandb/run-20230316_014017-27kqak7e/files/model-best/assets\n"
     ]
    },
    {
     "name": "stderr",
     "output_type": "stream",
     "text": [
      "INFO:tensorflow:Assets written to: /home/paul_d/Sources/sem_math_repo/classification_formulas_multilabel/wandb/run-20230316_014017-27kqak7e/files/model-best/assets\n"
     ]
    },
    {
     "name": "stdout",
     "output_type": "stream",
     "text": [
      "346/346 [==============================] - 3s 8ms/step - loss: 0.1502 - accuracy: 0.3771 - recall_1: 0.0032 - val_loss: 0.1427 - val_accuracy: 0.9050 - val_recall_1: 0.0000e+00\n",
      "Epoch 76/80\n",
      "343/346 [============================>.] - ETA: 0s - loss: 0.1501 - accuracy: 0.3763 - recall_1: 0.0039INFO:tensorflow:Assets written to: /home/paul_d/Sources/sem_math_repo/classification_formulas_multilabel/wandb/run-20230316_014017-27kqak7e/files/model-best/assets\n"
     ]
    },
    {
     "name": "stderr",
     "output_type": "stream",
     "text": [
      "INFO:tensorflow:Assets written to: /home/paul_d/Sources/sem_math_repo/classification_formulas_multilabel/wandb/run-20230316_014017-27kqak7e/files/model-best/assets\n"
     ]
    },
    {
     "name": "stdout",
     "output_type": "stream",
     "text": [
      "346/346 [==============================] - 3s 7ms/step - loss: 0.1502 - accuracy: 0.3737 - recall_1: 0.0038 - val_loss: 0.1427 - val_accuracy: 0.9050 - val_recall_1: 0.0000e+00\n",
      "Epoch 77/80\n",
      "346/346 [==============================] - 1s 4ms/step - loss: 0.1503 - accuracy: 0.3766 - recall_1: 0.0038 - val_loss: 0.1427 - val_accuracy: 0.9050 - val_recall_1: 0.0000e+00\n",
      "Epoch 78/80\n",
      "341/346 [============================>.] - ETA: 0s - loss: 0.1499 - accuracy: 0.3808 - recall_1: 0.0039INFO:tensorflow:Assets written to: /home/paul_d/Sources/sem_math_repo/classification_formulas_multilabel/wandb/run-20230316_014017-27kqak7e/files/model-best/assets\n"
     ]
    },
    {
     "name": "stderr",
     "output_type": "stream",
     "text": [
      "INFO:tensorflow:Assets written to: /home/paul_d/Sources/sem_math_repo/classification_formulas_multilabel/wandb/run-20230316_014017-27kqak7e/files/model-best/assets\n"
     ]
    },
    {
     "name": "stdout",
     "output_type": "stream",
     "text": [
      "346/346 [==============================] - 3s 8ms/step - loss: 0.1502 - accuracy: 0.3762 - recall_1: 0.0039 - val_loss: 0.1426 - val_accuracy: 0.9050 - val_recall_1: 0.0000e+00\n",
      "Epoch 79/80\n",
      "346/346 [==============================] - 1s 4ms/step - loss: 0.1502 - accuracy: 0.3762 - recall_1: 0.0037 - val_loss: 0.1426 - val_accuracy: 0.9050 - val_recall_1: 0.0000e+00\n",
      "Epoch 80/80\n",
      "340/346 [============================>.] - ETA: 0s - loss: 0.1495 - accuracy: 0.3817 - recall_1: 0.0039INFO:tensorflow:Assets written to: /home/paul_d/Sources/sem_math_repo/classification_formulas_multilabel/wandb/run-20230316_014017-27kqak7e/files/model-best/assets\n"
     ]
    },
    {
     "name": "stderr",
     "output_type": "stream",
     "text": [
      "INFO:tensorflow:Assets written to: /home/paul_d/Sources/sem_math_repo/classification_formulas_multilabel/wandb/run-20230316_014017-27kqak7e/files/model-best/assets\n"
     ]
    },
    {
     "name": "stdout",
     "output_type": "stream",
     "text": [
      "346/346 [==============================] - 3s 8ms/step - loss: 0.1501 - accuracy: 0.3764 - recall_1: 0.0039 - val_loss: 0.1426 - val_accuracy: 0.9050 - val_recall_1: 0.0000e+00\n"
     ]
    }
   ],
   "source": [
    "configs_dict = {\n",
    "    \"learning_rate\": optimal_lr,\n",
    "    \"emb_dim\": optimal_emb_dims,\n",
    "    \"dp1\": dp1, \n",
    "    \"dp2\": dp2,\n",
    "    \"algorithm\": \"LogReg\",\n",
    "    \"configuration\": \"multi_all_features\",\n",
    "    \"optimizer\": \"adam\",\n",
    "    \"loss\": \"binary_crossentropy\",\n",
    "    \"epochs\": NUM_EPOCHS,\n",
    "    \"batch_size\": 64,\n",
    "    \"vectorizer\": \"count\",\n",
    "    \"dataset\": \"multi_class_unbalanced_data_TOKENIZED_V1\"\n",
    "}\n",
    "\n",
    "run = wandb.init(project=wandb_project_name, reinit=True, config=configs_dict)\n",
    "\n",
    "history = model4c.fit(train_dataset4, \n",
    "                    epochs=NUM_EPOCHS,\n",
    "                    validation_data=test_dataset4,\n",
    "                    #steps_per_epoch = STEPS_PER_EPOCH,\n",
    "                    validation_steps = VAL_STEPS_PER_EPOCH,\n",
    "                    callbacks= [WandbCallback()])#[tensorboard_callback])\n",
    "run.finish()"
   ]
  }
 ],
 "metadata": {
  "kernelspec": {
   "display_name": "sem_math_env",
   "language": "python",
   "name": "python3"
  },
  "language_info": {
   "codemirror_mode": {
    "name": "ipython",
    "version": 3
   },
   "file_extension": ".py",
   "mimetype": "text/x-python",
   "name": "python",
   "nbconvert_exporter": "python",
   "pygments_lexer": "ipython3",
   "version": "3.10.9"
  },
  "orig_nbformat": 4,
  "vscode": {
   "interpreter": {
    "hash": "71a9a05a8d236729134f51de1f1fd612c9215f2a378954bc400639bac96e00eb"
   }
  }
 },
 "nbformat": 4,
 "nbformat_minor": 2
}
