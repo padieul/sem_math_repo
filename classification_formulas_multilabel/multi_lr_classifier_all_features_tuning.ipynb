{
 "cells": [
  {
   "cell_type": "code",
   "execution_count": 2,
   "metadata": {},
   "outputs": [],
   "source": [
    "import os\n",
    "\n",
    "# takes care of annoying TF-GPU warnings\n",
    "os.environ[\"CUDA_VISIBLE_DEVICES\"] = \"-1\"\n",
    "os.environ[\"TF_CPP_MIN_LOG_LEVEL\"] = \"3\"\n",
    "\n",
    "# remove useless Tensorflow warning:\n",
    "# WARNING:absl:Found untraced functions such as _update_step_xla, lstm_cell_1_layer_call_fn, \n",
    "# lstm_cell_1_layer_call_and_return_conditional_losses, lstm_cell_2_layer_call_fn, \n",
    "# lstm_cell_2_layer_call_and_return_conditional_losses while saving (showing 5 of 5). \n",
    "# These functions will not be directly callable after loading.\n",
    "import absl.logging\n",
    "absl.logging.set_verbosity(absl.logging.ERROR)"
   ]
  },
  {
   "cell_type": "code",
   "execution_count": 3,
   "metadata": {},
   "outputs": [],
   "source": [
    "# very useful for managing wandb runs: https://stackoverflow.com/questions/71106179/log-two-model-runs-with-keras-wandb\n",
    "import wandb\n",
    "from wandb.keras import WandbCallback\n",
    "os.environ[\"WANDB_SILENT\"] = \"true\""
   ]
  },
  {
   "attachments": {},
   "cell_type": "markdown",
   "metadata": {},
   "source": [
    "#### Logistic Regression: Formula Label Prediction (multi-label, all features)"
   ]
  },
  {
   "cell_type": "code",
   "execution_count": 4,
   "metadata": {},
   "outputs": [],
   "source": [
    "import numpy as np \n",
    "import pandas as pd\n",
    "from pathlib import Path \n",
    "import ast\n",
    "\n",
    "import tensorflow as tf\n",
    "import keras_tuner as kt\n",
    "\n",
    "import tensorflow_datasets as tfds\n",
    "import tensorflow_text as tf_text\n",
    "\n",
    "import datetime\n",
    "\n",
    "tfds.disable_progress_bar()\n",
    "wandb_project_name = \"multi_label_formula_classification\""
   ]
  },
  {
   "cell_type": "code",
   "execution_count": 5,
   "metadata": {},
   "outputs": [],
   "source": [
    "import matplotlib.pyplot as plt\n",
    "\n",
    "def plot_graphs(history, metric):\n",
    "    plt.plot(history.history[metric])\n",
    "    plt.plot(history.history[\"val_\"+metric], \"\")\n",
    "    plt.xlabel(\"Epochs\")\n",
    "    plt.ylabel(metric)\n",
    "    plt.legend([metric, \"val_\"+metric])"
   ]
  },
  {
   "attachments": {},
   "cell_type": "markdown",
   "metadata": {},
   "source": [
    "#### Import Data and Preprocess Dataframe"
   ]
  },
  {
   "cell_type": "code",
   "execution_count": 6,
   "metadata": {},
   "outputs": [],
   "source": [
    "def preprocess_data(corpus,\n",
    "                    irrelevant_features=[\"mtype\",]):\n",
    "    # drop irrelevant columns\n",
    "    corpus.drop(irrelevant_features, inplace=True, axis=1)\n",
    "\n",
    "    def cell_str_to_list(cell_val):\n",
    "        return ast.literal_eval(cell_val)\n",
    "\n",
    "    # filter strings\n",
    "    def process_cell(cell_str):\n",
    "        stripped_f_str = cell_str[1:-1].replace(\"\\\\\\\\\", \"\\\\\")\n",
    "        f_list = stripped_f_str.split(\",\")\n",
    "        f_list = [token.replace(\"'\", \"\").replace(\" \", \"\") for token in f_list]\n",
    "        f_list = [\"{\" if token == \"\\\\{\" else token for token in f_list]\n",
    "        f_list = [\"}\" if token == \"\\\\}\" else token for token in f_list]\n",
    "        cell_str = \" \".join(f_list)\n",
    "        return cell_str\n",
    "\n",
    "    corpus[\"type_tokens\"] = corpus[\"type_tokens\"].map(process_cell)\n",
    "    corpus[\"tokens\"] = corpus[\"tokens\"].map(process_cell)\n",
    "    corpus[\"mtype_one_hot\"] = corpus[\"mtype_one_hot\"].map(cell_str_to_list)\n",
    "    corpus[\"labels\"] = corpus[\"labels\"].map(cell_str_to_list)\n",
    "    corpus = corpus.loc[(corpus[\"tokens\"].str.len() > 0) & (corpus[\"tokens\"] != \" \")]\n"
   ]
  },
  {
   "cell_type": "code",
   "execution_count": 7,
   "metadata": {},
   "outputs": [
    {
     "data": {
      "text/html": [
       "<div>\n",
       "<style scoped>\n",
       "    .dataframe tbody tr th:only-of-type {\n",
       "        vertical-align: middle;\n",
       "    }\n",
       "\n",
       "    .dataframe tbody tr th {\n",
       "        vertical-align: top;\n",
       "    }\n",
       "\n",
       "    .dataframe thead th {\n",
       "        text-align: right;\n",
       "    }\n",
       "</style>\n",
       "<table border=\"1\" class=\"dataframe\">\n",
       "  <thead>\n",
       "    <tr style=\"text-align: right;\">\n",
       "      <th></th>\n",
       "      <th>tokens</th>\n",
       "      <th>type_tokens</th>\n",
       "      <th>labels</th>\n",
       "      <th>labels_str</th>\n",
       "      <th>mtype_one_hot</th>\n",
       "    </tr>\n",
       "  </thead>\n",
       "  <tbody>\n",
       "    <tr>\n",
       "      <th>0</th>\n",
       "      <td>f</td>\n",
       "      <td>func_name __ANON_1</td>\n",
       "      <td>[1, 0, 0, 0, 0, 0, 0, 0, 0, 0, 0, 0, 0, 0, 0, ...</td>\n",
       "      <td>['elementary-set-theory']</td>\n",
       "      <td>[0, 0, 1]</td>\n",
       "    </tr>\n",
       "    <tr>\n",
       "      <th>1</th>\n",
       "      <td>j : \\mathbb{N} \\rightarrow [ 0   1 ]</td>\n",
       "      <td>func_def func_name __ANON_1 COLON mapping set_...</td>\n",
       "      <td>[1, 0, 0, 0, 0, 0, 0, 0, 0, 0, 0, 0, 0, 0, 0, ...</td>\n",
       "      <td>['elementary-set-theory']</td>\n",
       "      <td>[0, 0, 1]</td>\n",
       "    </tr>\n",
       "    <tr>\n",
       "      <th>2</th>\n",
       "      <td>b</td>\n",
       "      <td>func_name __ANON_1</td>\n",
       "      <td>[1, 0, 0, 0, 0, 0, 0, 0, 0, 0, 0, 0, 0, 0, 0, ...</td>\n",
       "      <td>['elementary-set-theory']</td>\n",
       "      <td>[0, 0, 1]</td>\n",
       "    </tr>\n",
       "    <tr>\n",
       "      <th>3</th>\n",
       "      <td>mathbb{Q</td>\n",
       "      <td>set_constant SET_BASIC</td>\n",
       "      <td>[1, 0, 0, 0, 0, 0, 0, 0, 0, 0, 0, 0, 0, 0, 0, ...</td>\n",
       "      <td>['elementary-set-theory']</td>\n",
       "      <td>[1, 0, 0]</td>\n",
       "    </tr>\n",
       "    <tr>\n",
       "      <th>4</th>\n",
       "      <td>f</td>\n",
       "      <td>func_name __ANON_1</td>\n",
       "      <td>[1, 0, 0, 1, 0, 0, 0, 0, 0, 0, 0, 0, 0, 0, 0, ...</td>\n",
       "      <td>['functions', 'elementary-set-theory']</td>\n",
       "      <td>[0, 0, 1]</td>\n",
       "    </tr>\n",
       "  </tbody>\n",
       "</table>\n",
       "</div>"
      ],
      "text/plain": [
       "                                 tokens  \\\n",
       "0                                     f   \n",
       "1  j : \\mathbb{N} \\rightarrow [ 0   1 ]   \n",
       "2                                     b   \n",
       "3                              mathbb{Q   \n",
       "4                                     f   \n",
       "\n",
       "                                         type_tokens  \\\n",
       "0                                 func_name __ANON_1   \n",
       "1  func_def func_name __ANON_1 COLON mapping set_...   \n",
       "2                                 func_name __ANON_1   \n",
       "3                             set_constant SET_BASIC   \n",
       "4                                 func_name __ANON_1   \n",
       "\n",
       "                                              labels  \\\n",
       "0  [1, 0, 0, 0, 0, 0, 0, 0, 0, 0, 0, 0, 0, 0, 0, ...   \n",
       "1  [1, 0, 0, 0, 0, 0, 0, 0, 0, 0, 0, 0, 0, 0, 0, ...   \n",
       "2  [1, 0, 0, 0, 0, 0, 0, 0, 0, 0, 0, 0, 0, 0, 0, ...   \n",
       "3  [1, 0, 0, 0, 0, 0, 0, 0, 0, 0, 0, 0, 0, 0, 0, ...   \n",
       "4  [1, 0, 0, 1, 0, 0, 0, 0, 0, 0, 0, 0, 0, 0, 0, ...   \n",
       "\n",
       "                               labels_str mtype_one_hot  \n",
       "0               ['elementary-set-theory']     [0, 0, 1]  \n",
       "1               ['elementary-set-theory']     [0, 0, 1]  \n",
       "2               ['elementary-set-theory']     [0, 0, 1]  \n",
       "3               ['elementary-set-theory']     [1, 0, 0]  \n",
       "4  ['functions', 'elementary-set-theory']     [0, 0, 1]  "
      ]
     },
     "execution_count": 7,
     "metadata": {},
     "output_type": "execute_result"
    }
   ],
   "source": [
    "#print(os.getcwd())\n",
    "data_p = Path(\"../data/\") / \"multi_class_unbalanced_data_TOKENIZED_V1.csv\"\n",
    "data = pd.read_csv(data_p)\n",
    "preprocess_data(data)\n",
    "data.head()"
   ]
  },
  {
   "cell_type": "code",
   "execution_count": 8,
   "metadata": {},
   "outputs": [
    {
     "name": "stdout",
     "output_type": "stream",
     "text": [
      "254\n",
      "252\n"
     ]
    }
   ],
   "source": [
    "print(data[\"type_tokens\"].map(lambda x: len((x.split(\" \")))).max())\n",
    "print(data[\"tokens\"].map(lambda x: len((x.split(\" \")))).max())"
   ]
  },
  {
   "cell_type": "code",
   "execution_count": 9,
   "metadata": {},
   "outputs": [],
   "source": [
    "# ordinary datasets\n",
    "SMALL_TRAIN_SIZE = 24620 - 2460\n",
    "SMALL_TEST_SIZE = 2460\n",
    "LARGE_TRAIN_SIZE = 106523 - 10650\n",
    "LARGE_TEST_SIZE = 10650\n",
    "# compact datasets\n",
    "NUM_CLASSES = 40\n",
    "\n",
    "labels_array = np.array(data[\"labels\"].to_list())\n",
    "m_type_array = np.array(data[\"mtype_one_hot\"].to_list())\n",
    "dat_as_ds = tf.data.Dataset.from_tensor_slices((data[\"tokens\"],data[\"type_tokens\"],m_type_array), name=\"data\")\n",
    "labels_ds = tf.data.Dataset.from_tensor_slices(labels_array, name=\"label\")\n",
    "data_as_ds = tf.data.Dataset.zip((dat_as_ds, labels_ds))\n",
    "\n",
    "test_dataset = data_as_ds.take(SMALL_TEST_SIZE)\n",
    "train_dataset = data_as_ds.skip(SMALL_TEST_SIZE)\n",
    "train_dataset_unb = train_dataset"
   ]
  },
  {
   "cell_type": "code",
   "execution_count": 10,
   "metadata": {},
   "outputs": [],
   "source": [
    "x_test = dat_as_ds.take(SMALL_TEST_SIZE)\n",
    "y_test = labels_ds.take(SMALL_TEST_SIZE)\n",
    "\n",
    "x_data = dat_as_ds.skip(SMALL_TEST_SIZE)\n",
    "y_data = labels_ds.skip(SMALL_TEST_SIZE)\n"
   ]
  },
  {
   "cell_type": "code",
   "execution_count": 11,
   "metadata": {},
   "outputs": [
    {
     "data": {
      "text/plain": [
       "((TensorSpec(shape=(), dtype=tf.string, name=None),\n",
       "  TensorSpec(shape=(), dtype=tf.string, name=None),\n",
       "  TensorSpec(shape=(3,), dtype=tf.int64, name=None)),\n",
       " TensorSpec(shape=(40,), dtype=tf.int64, name=None))"
      ]
     },
     "execution_count": 11,
     "metadata": {},
     "output_type": "execute_result"
    }
   ],
   "source": [
    "data_as_ds.element_spec"
   ]
  },
  {
   "attachments": {},
   "cell_type": "markdown",
   "metadata": {},
   "source": [
    "##### Setup and Data Preparation"
   ]
  },
  {
   "cell_type": "code",
   "execution_count": 12,
   "metadata": {},
   "outputs": [
    {
     "name": "stdout",
     "output_type": "stream",
     "text": [
      "text:  b'{ 2   4 }'\n",
      "type:  b'explset L_BRACE_LITERAL set_enumeration item __ANON_3 COMMA item __ANON_3 R_BRACE_LITERAL'\n",
      "m_type:  [1 0 0]\n",
      "label:  [1 0 0 0 0 0 0 0 0 0 0 0 0 0 0 0 0 0 0 0 0 0 0 0 0 0 0 0 0 0 0 0 0 0 0 0 0\n",
      " 0 0 0]\n",
      "text:  b'f : I \\\\to X'\n",
      "type:  b'func_def func_name __ANON_1 COLON mapping __ANON_0 TO __ANON_0'\n",
      "m_type:  [0 0 1]\n",
      "label:  [1 0 0 0 0 0 0 0 0 0 0 0 0 0 0 0 0 0 0 0 0 0 0 0 0 0 0 0 0 0 0 0 0 0 0 0 0\n",
      " 0 0 0]\n",
      "text:  b'f ( a ) = 1'\n",
      "type:  b'func_expr func_name_arg func_name __ANON_1 L_PAREN __ANON_1 R_PAREN EQUAL expr_atom __ANON_3'\n",
      "m_type:  [0 0 1]\n",
      "label:  [1 0 0 0 0 0 0 0 0 0 0 0 1 0 0 0 0 0 0 0 0 0 0 0 0 0 0 0 0 0 0 0 0 0 0 0 0\n",
      " 0 0 0]\n",
      "text:  b'x'\n",
      "type:  b'func_name __ANON_1'\n",
      "m_type:  [0 0 1]\n",
      "label:  [1 0 0 0 0 0 0 0 0 0 0 0 0 0 0 0 0 0 0 0 0 0 0 0 0 0 0 0 0 0 0 0 0 0 0 0 0\n",
      " 0 0 0]\n",
      "text:  b'f : X \\\\to Y'\n",
      "type:  b'func_def func_name __ANON_1 COLON mapping __ANON_0 TO __ANON_0'\n",
      "m_type:  [0 0 1]\n",
      "label:  [1 0 0 0 0 0 0 0 0 0 0 0 1 0 0 0 0 0 0 0 0 0 0 0 0 0 0 0 0 0 0 0 0 0 0 0 0\n",
      " 0 0 0]\n"
     ]
    }
   ],
   "source": [
    "for (example_token, example_type, example_m_type), label in train_dataset.take(5):\n",
    "    print(\"text: \", example_token.numpy())\n",
    "    print(\"type: \", example_type.numpy())\n",
    "    print(\"m_type: \", example_m_type.numpy())\n",
    "    print(\"label: \", label.numpy())"
   ]
  },
  {
   "cell_type": "code",
   "execution_count": 13,
   "metadata": {},
   "outputs": [],
   "source": [
    "BUFFER_SIZE = 2000\n",
    "BATCH_SIZE = 64\n",
    "STEPS_PER_EPOCH = np.floor(SMALL_TRAIN_SIZE/BATCH_SIZE)\n",
    "VAL_STEPS_PER_EPOCH = np.floor(SMALL_TEST_SIZE/BATCH_SIZE)\n",
    "train_dataset = train_dataset.shuffle(BUFFER_SIZE).batch(BATCH_SIZE, drop_remainder=True).prefetch(tf.data.AUTOTUNE)\n",
    "test_dataset = test_dataset.batch(BATCH_SIZE, drop_remainder=True).prefetch(tf.data.AUTOTUNE)"
   ]
  },
  {
   "attachments": {},
   "cell_type": "markdown",
   "metadata": {},
   "source": [
    "##### Text Encoding"
   ]
  },
  {
   "cell_type": "code",
   "execution_count": 14,
   "metadata": {},
   "outputs": [],
   "source": [
    "# for int encoder\n",
    "TYPE_TOKENS_MAX_SEQ_LEN = 260\n",
    "TOKENS_MAX_SEQ_LEN = 260\n",
    "\n",
    "\n",
    "# for other encoders \n",
    "TYPE_TOKENS_PAD_TO_MAX_TOKENS = 80\n",
    "TOKENS_PAD_TO_MAX_TOKENS = 200\n",
    "BIGRAM_PAD_TO_MAX_TOKENS = 350"
   ]
  },
  {
   "cell_type": "code",
   "execution_count": 15,
   "metadata": {},
   "outputs": [],
   "source": [
    "def create_encoder(output_mode_str, n_grams, mode):\n",
    "    if output_mode_str == \"int\":\n",
    "        VOCAB_SIZE = 200\n",
    "        if mode == \"token\":\n",
    "            max_seq_len = TOKENS_MAX_SEQ_LEN\n",
    "        elif mode == \"type\":\n",
    "            max_seq_len = TYPE_TOKENS_MAX_SEQ_LEN\n",
    "\n",
    "        encoder = tf.keras.layers.TextVectorization(\n",
    "            standardize=None,\n",
    "            output_mode=output_mode_str,\n",
    "            ngrams = n_grams,\n",
    "            output_sequence_length = max_seq_len,\n",
    "            split=\"whitespace\",\n",
    "            max_tokens=VOCAB_SIZE)\n",
    "        #TODO: adapt for different inputs\n",
    "        if mode == \"token\": \n",
    "            encoder.adapt(train_dataset.map(lambda inputs, label: inputs[0])) # removes the label column through transformation: text, label -> text\n",
    "        elif mode == \"type\":\n",
    "            encoder.adapt(train_dataset.map(lambda inputs, label: inputs[1])) # removes the label column through transformation: text, label -> text\n",
    "        return encoder\n",
    "    \n",
    "    if output_mode_str == \"count\" and n_grams == 2:\n",
    "        max_seq_len = BIGRAM_PAD_TO_MAX_TOKENS\n",
    "        encoder = tf.keras.layers.TextVectorization(\n",
    "            standardize=None,\n",
    "            output_mode=output_mode_str,\n",
    "            ngrams = n_grams,\n",
    "            pad_to_max_tokens = max_seq_len,\n",
    "            split=\"whitespace\",\n",
    "            max_tokens=max_seq_len)\n",
    "        \n",
    "        #TODO: adapt for different inputs\n",
    "        if mode == \"token\": \n",
    "            encoder.adapt(train_dataset.map(lambda inputs, label: inputs[0])) # removes the label column through transformation: text, label -> text\n",
    "        elif mode == \"type\":\n",
    "            encoder.adapt(train_dataset.map(lambda inputs, label: inputs[1])) # removes the label column through transformation: text, label -> text\n",
    "        return encoder\n",
    "    \n",
    "    if mode == \"token\":\n",
    "        max_seq_len = TOKENS_PAD_TO_MAX_TOKENS\n",
    "    elif mode == \"type\":\n",
    "        max_seq_len = TYPE_TOKENS_PAD_TO_MAX_TOKENS\n",
    "\n",
    "    encoder = tf.keras.layers.TextVectorization(\n",
    "        standardize=None,\n",
    "        output_mode=output_mode_str,\n",
    "        ngrams = n_grams,\n",
    "        pad_to_max_tokens = max_seq_len,\n",
    "        split=\"whitespace\",\n",
    "        max_tokens=max_seq_len)\n",
    "    #TODO: adapt for different inputs\n",
    "    if mode == \"token\": \n",
    "        encoder.adapt(train_dataset.map(lambda inputs, label: inputs[0])) # removes the label column through transformation: text, label -> text\n",
    "    elif mode == \"type\":\n",
    "        encoder.adapt(train_dataset.map(lambda inputs, label: inputs[1])) # removes the label column through transformation: text, label -> text\n",
    "    \n",
    "    return encoder\n",
    "\n",
    "\n",
    "    "
   ]
  },
  {
   "attachments": {},
   "cell_type": "markdown",
   "metadata": {},
   "source": [
    "##### Representation 1: Use integer indices encoding"
   ]
  },
  {
   "cell_type": "code",
   "execution_count": 16,
   "metadata": {},
   "outputs": [
    {
     "name": "stdout",
     "output_type": "stream",
     "text": [
      "WARNING:tensorflow:From /home/paul_d/Sources/sem_math_repo/sem_math_env/lib/python3.10/site-packages/tensorflow/python/autograph/pyct/static_analysis/liveness.py:83: Analyzer.lamba_check (from tensorflow.python.autograph.pyct.static_analysis.liveness) is deprecated and will be removed after 2023-09-23.\n",
      "Instructions for updating:\n",
      "Lambda fuctions will be no more assumed to be used in the statement where they are used, or at least in the same block. https://github.com/tensorflow/tensorflow/issues/56089\n",
      "tokens (voc size):  128\n",
      "types (voc size):  61\n"
     ]
    }
   ],
   "source": [
    "encoder_int_tokens = create_encoder(\"int\", None, \"token\")\n",
    "encoder_int_types = create_encoder(\"int\", None, \"type\")\n",
    "\n",
    "vocab_tokens = np.array(encoder_int_tokens.get_vocabulary())\n",
    "vocab_size_tokens = len(encoder_int_tokens.get_vocabulary())\n",
    "vocab_types = np.array(encoder_int_types.get_vocabulary())\n",
    "vocab_size_types = len(encoder_int_types.get_vocabulary())\n",
    "\n",
    "print(\"tokens (voc size): \", vocab_size_tokens)\n",
    "print(\"types (voc size): \", vocab_size_types)"
   ]
  },
  {
   "cell_type": "code",
   "execution_count": 17,
   "metadata": {},
   "outputs": [
    {
     "name": "stdout",
     "output_type": "stream",
     "text": [
      "tokens: \n",
      "tf.Tensor(b'f : X \\\\to Y', shape=(), dtype=string)\n",
      "[ 2 11 26 14 35  0  0  0  0  0  0  0  0  0  0  0  0  0  0  0  0  0  0  0\n",
      "  0  0  0  0  0  0  0  0  0  0  0  0  0  0  0  0  0  0  0  0  0  0  0  0\n",
      "  0  0  0  0  0  0  0  0  0  0  0  0  0  0  0  0  0  0  0  0  0  0  0  0\n",
      "  0  0  0  0  0  0  0  0  0  0  0  0  0  0  0  0  0  0  0  0  0  0  0  0\n",
      "  0  0  0  0  0  0  0  0  0  0  0  0  0  0  0  0  0  0  0  0  0  0  0  0\n",
      "  0  0  0  0  0  0  0  0  0  0  0  0  0  0  0  0  0  0  0  0  0  0  0  0\n",
      "  0  0  0  0  0  0  0  0  0  0  0  0  0  0  0  0  0  0  0  0  0  0  0  0\n",
      "  0  0  0  0  0  0  0  0  0  0  0  0  0  0  0  0  0  0  0  0  0  0  0  0\n",
      "  0  0  0  0  0  0  0  0  0  0  0  0  0  0  0  0  0  0  0  0  0  0  0  0\n",
      "  0  0  0  0  0  0  0  0  0  0  0  0  0  0  0  0  0  0  0  0  0  0  0  0\n",
      "  0  0  0  0  0  0  0  0  0  0  0  0  0  0  0  0  0  0  0  0]\n",
      "(260,)\n",
      "types: \n",
      "tf.Tensor(b'func_def func_name __ANON_1 COLON mapping __ANON_0 TO __ANON_0', shape=(), dtype=string)\n",
      "[15  5  3 13 14  6 16  6  0  0  0  0  0  0  0  0  0  0  0  0  0  0  0  0\n",
      "  0  0  0  0  0  0  0  0  0  0  0  0  0  0  0  0  0  0  0  0  0  0  0  0\n",
      "  0  0  0  0  0  0  0  0  0  0  0  0  0  0  0  0  0  0  0  0  0  0  0  0\n",
      "  0  0  0  0  0  0  0  0  0  0  0  0  0  0  0  0  0  0  0  0  0  0  0  0\n",
      "  0  0  0  0  0  0  0  0  0  0  0  0  0  0  0  0  0  0  0  0  0  0  0  0\n",
      "  0  0  0  0  0  0  0  0  0  0  0  0  0  0  0  0  0  0  0  0  0  0  0  0\n",
      "  0  0  0  0  0  0  0  0  0  0  0  0  0  0  0  0  0  0  0  0  0  0  0  0\n",
      "  0  0  0  0  0  0  0  0  0  0  0  0  0  0  0  0  0  0  0  0  0  0  0  0\n",
      "  0  0  0  0  0  0  0  0  0  0  0  0  0  0  0  0  0  0  0  0  0  0  0  0\n",
      "  0  0  0  0  0  0  0  0  0  0  0  0  0  0  0  0  0  0  0  0  0  0  0  0\n",
      "  0  0  0  0  0  0  0  0  0  0  0  0  0  0  0  0  0  0  0  0]\n",
      "(260,)\n"
     ]
    }
   ],
   "source": [
    "encoded_example_token = encoder_int_tokens(example_token).numpy()\n",
    "encoded_example_types = encoder_int_types(example_type).numpy()\n",
    "\n",
    "print(\"tokens: \")\n",
    "print(example_token)\n",
    "print(encoded_example_token)\n",
    "print(encoded_example_token.shape)\n",
    "\n",
    "print(\"types: \")\n",
    "print(example_type)\n",
    "print(encoded_example_types)\n",
    "print(encoded_example_types.shape)"
   ]
  },
  {
   "attachments": {},
   "cell_type": "markdown",
   "metadata": {},
   "source": [
    "##### Representation 2: Count Vectorizer"
   ]
  },
  {
   "cell_type": "code",
   "execution_count": 18,
   "metadata": {},
   "outputs": [
    {
     "name": "stdout",
     "output_type": "stream",
     "text": [
      "tokens (voc size):  127\n",
      "types (voc size):  60\n"
     ]
    }
   ],
   "source": [
    "encoder_count_tokens = create_encoder(\"count\", None, \"token\")\n",
    "encoder_count_types = create_encoder(\"count\", None, \"type\")\n",
    "\n",
    "vocab_tokens = np.array(encoder_count_tokens.get_vocabulary())\n",
    "vocab_size_tokens = len(encoder_count_tokens.get_vocabulary())\n",
    "vocab_types = np.array(encoder_count_types.get_vocabulary())\n",
    "vocab_size_types = len(encoder_count_types.get_vocabulary())\n",
    "\n",
    "print(\"tokens (voc size): \", vocab_size_tokens)\n",
    "print(\"types (voc size): \", vocab_size_types)"
   ]
  },
  {
   "cell_type": "code",
   "execution_count": 19,
   "metadata": {},
   "outputs": [
    {
     "name": "stdout",
     "output_type": "stream",
     "text": [
      "tokens: \n",
      "tf.Tensor(b'f : X \\\\to Y', shape=(), dtype=string)\n",
      "[0. 1. 0. 0. 0. 0. 0. 0. 0. 0. 1. 0. 0. 1. 0. 0. 0. 0. 0. 0. 0. 0. 0. 0.\n",
      " 0. 1. 0. 0. 0. 0. 0. 0. 0. 0. 1. 0. 0. 0. 0. 0. 0. 0. 0. 0. 0. 0. 0. 0.\n",
      " 0. 0. 0. 0. 0. 0. 0. 0. 0. 0. 0. 0. 0. 0. 0. 0. 0. 0. 0. 0. 0. 0. 0. 0.\n",
      " 0. 0. 0. 0. 0. 0. 0. 0. 0. 0. 0. 0. 0. 0. 0. 0. 0. 0. 0. 0. 0. 0. 0. 0.\n",
      " 0. 0. 0. 0. 0. 0. 0. 0. 0. 0. 0. 0. 0. 0. 0. 0. 0. 0. 0. 0. 0. 0. 0. 0.\n",
      " 0. 0. 0. 0. 0. 0. 0. 0. 0. 0. 0. 0. 0. 0. 0. 0. 0. 0. 0. 0. 0. 0. 0. 0.\n",
      " 0. 0. 0. 0. 0. 0. 0. 0. 0. 0. 0. 0. 0. 0. 0. 0. 0. 0. 0. 0. 0. 0. 0. 0.\n",
      " 0. 0. 0. 0. 0. 0. 0. 0. 0. 0. 0. 0. 0. 0. 0. 0. 0. 0. 0. 0. 0. 0. 0. 0.\n",
      " 0. 0. 0. 0. 0. 0. 0. 0.]\n",
      "(200,)\n",
      "types: \n",
      "tf.Tensor(b'func_def func_name __ANON_1 COLON mapping __ANON_0 TO __ANON_0', shape=(), dtype=string)\n",
      "[0. 0. 1. 0. 1. 2. 0. 0. 0. 0. 0. 0. 1. 1. 1. 1. 0. 0. 0. 0. 0. 0. 0. 0.\n",
      " 0. 0. 0. 0. 0. 0. 0. 0. 0. 0. 0. 0. 0. 0. 0. 0. 0. 0. 0. 0. 0. 0. 0. 0.\n",
      " 0. 0. 0. 0. 0. 0. 0. 0. 0. 0. 0. 0. 0. 0. 0. 0. 0. 0. 0. 0. 0. 0. 0. 0.\n",
      " 0. 0. 0. 0. 0. 0. 0. 0.]\n",
      "(80,)\n"
     ]
    }
   ],
   "source": [
    "encoded_example_token = encoder_count_tokens(example_token).numpy()\n",
    "encoded_example_types = encoder_count_types(example_type).numpy()\n",
    "\n",
    "print(\"tokens: \")\n",
    "print(example_token)\n",
    "print(encoded_example_token)\n",
    "print(encoded_example_token.shape)\n",
    "\n",
    "print(\"types: \")\n",
    "print(example_type)\n",
    "print(encoded_example_types)\n",
    "print(encoded_example_types.shape)"
   ]
  },
  {
   "attachments": {},
   "cell_type": "markdown",
   "metadata": {},
   "source": [
    "##### Model (Logistic Regression)"
   ]
  },
  {
   "attachments": {},
   "cell_type": "markdown",
   "metadata": {},
   "source": [
    " **Define and compile model**"
   ]
  },
  {
   "cell_type": "code",
   "execution_count": 20,
   "metadata": {},
   "outputs": [],
   "source": [
    "def create_model(emb_dim, dp1, dp2, tokens_encoder, types_encoder, tokens_size, types_size, input_type, add_inp_emb_dim=1):\n",
    "    embedding_input_dim = tokens_size + types_size + add_inp_emb_dim + 3 # 3 size of sem_type_model_input\n",
    "\n",
    "    tokens_model_input = tf.keras.layers.Input(dtype=tf.string, shape=(1,))\n",
    "    tokens_vectorized = tokens_encoder(tokens_model_input)\n",
    "\n",
    "    types_model_input = tf.keras.layers.Input(dtype=tf.string, shape=(1,))\n",
    "    types_vectorized = types_encoder(types_model_input)\n",
    "\n",
    "    if input_type == \"float\":\n",
    "        sem_type_model_input = tf.keras.layers.Input(dtype=tf.float32, shape=(3,))\n",
    "    elif input_type == \"int\":\n",
    "        sem_type_model_input = tf.keras.layers.Input(dtype=tf.int64, shape=(3,))\n",
    "\n",
    "    merged = tf.keras.layers.Concatenate(axis=1)([tokens_vectorized, types_vectorized, sem_type_model_input])\n",
    "    embedded = tf.keras.layers.Embedding(input_dim= embedding_input_dim,\n",
    "                                        output_dim=emb_dim,\n",
    "                                        # user masking to handle the variable sequence lengths\n",
    "                                        mask_zero=True)(merged)\n",
    "    \n",
    "    dropout1 = tf.keras.layers.Dropout(dp1)(embedded)\n",
    "    globalmaxpooling = tf.keras.layers.GlobalMaxPooling1D()(dropout1)\n",
    "    dropout2 = tf.keras.layers.Dropout(dp2)(globalmaxpooling)\n",
    "    model_output = tf.keras.layers.Dense(40)(dropout2)\n",
    "\n",
    "    model = tf.keras.models.Model(inputs=[tokens_model_input, types_model_input, sem_type_model_input], outputs=model_output)\n",
    "        \n",
    "    return model\n",
    "    "
   ]
  },
  {
   "cell_type": "code",
   "execution_count": 21,
   "metadata": {},
   "outputs": [],
   "source": [
    "def create_model_builder(tokens_encoder, types_encoder, tokens_size, types_size, input_type, add_inp_emb_dim=1):\n",
    "\n",
    "    def model_builder(hp):\n",
    "        ...\n",
    "        # model = create_model(encoder_count_tokens, encoder_count_types,tokens_input_len, \"float\", type_input_len)\n",
    "        embedding_input_dim = tokens_size + types_size + add_inp_emb_dim + 3 # 3 size of sem_type_model_input\n",
    "\n",
    "        tokens_model_input = tf.keras.layers.Input(dtype=tf.string, shape=(1,))\n",
    "        tokens_vectorized = tokens_encoder(tokens_model_input)\n",
    "\n",
    "        types_model_input = tf.keras.layers.Input(dtype=tf.string, shape=(1,))\n",
    "        types_vectorized = types_encoder(types_model_input)\n",
    "\n",
    "        if input_type == \"float\":\n",
    "            sem_type_model_input = tf.keras.layers.Input(dtype=tf.float32, shape=(3,))\n",
    "        elif input_type == \"int\":\n",
    "            sem_type_model_input = tf.keras.layers.Input(dtype=tf.int64, shape=(3,))\n",
    "\n",
    "        merged = tf.keras.layers.Concatenate(axis=1)([tokens_vectorized, types_vectorized, sem_type_model_input])\n",
    "\n",
    "        hp_emb_dims = hp.Int('emb_dims', min_value=32, max_value=128, step=32)\n",
    "        embedded = tf.keras.layers.Embedding(input_dim= embedding_input_dim,\n",
    "                                            output_dim=hp_emb_dims,\n",
    "                                            # user masking to handle the variable sequence lengths\n",
    "                                            mask_zero=True)(merged)\n",
    "    \n",
    "        hp_do1 = hp.Choice('dropout1', values=[0.1, 0.2, 0.3])\n",
    "        dropout1 = tf.keras.layers.Dropout(hp_do1)(embedded)\n",
    "        globalmaxpooling = tf.keras.layers.GlobalMaxPooling1D()(dropout1)\n",
    "\n",
    "        hp_do2 = hp.Choice('dropout2', values=[0.1, 0.2, 0.3])\n",
    "        dropout2 = tf.keras.layers.Dropout(hp_do2)(globalmaxpooling)\n",
    "        model_output = tf.keras.layers.Dense(40)(dropout2)\n",
    "\n",
    "        model = tf.keras.models.Model(inputs=[tokens_model_input, types_model_input, sem_type_model_input], outputs=model_output)\n",
    "        \n",
    "        hp_learning_rate = hp.Choice('learning_rate', values=[1e-2, 1e-3, 1e-4])\n",
    "        model.compile(loss=tf.keras.losses.BinaryCrossentropy(from_logits=True),\n",
    "              optimizer=tf.keras.optimizers.Adam(hp_learning_rate),\n",
    "              metrics=[\"accuracy\", tf.keras.metrics.Recall()])\n",
    "        return model\n",
    "    \n",
    "    return model_builder\n"
   ]
  },
  {
   "attachments": {},
   "cell_type": "markdown",
   "metadata": {},
   "source": [
    " **Train the model**"
   ]
  },
  {
   "attachments": {},
   "cell_type": "markdown",
   "metadata": {},
   "source": [
    "##### Experiment 1: Use integer indices for encoding tokens"
   ]
  },
  {
   "attachments": {},
   "cell_type": "markdown",
   "metadata": {},
   "source": [
    "##### 1.1 Determine best hyperparameters"
   ]
  },
  {
   "cell_type": "code",
   "execution_count": 22,
   "metadata": {},
   "outputs": [],
   "source": [
    "tokens_input_len = TOKENS_MAX_SEQ_LEN \n",
    "type_input_len = TYPE_TOKENS_MAX_SEQ_LEN\n",
    "\n",
    "model_builder = create_model_builder(encoder_int_tokens, encoder_int_types,tokens_input_len, type_input_len, \"int\")\n",
    "\n",
    "data_train = dat_as_ds\n",
    "label_train = labels_ds"
   ]
  },
  {
   "cell_type": "code",
   "execution_count": 23,
   "metadata": {},
   "outputs": [
    {
     "name": "stdout",
     "output_type": "stream",
     "text": [
      "INFO:tensorflow:Reloading Tuner from my_dir/multi_label_small/tuner0.json\n"
     ]
    }
   ],
   "source": [
    "tuner = kt.Hyperband(model_builder,\n",
    "                     objective=kt.Objective(\"val_recall\", direction=\"max\"),\n",
    "                     max_epochs=35,\n",
    "                     factor=3,\n",
    "                     directory='my_dir',\n",
    "                     project_name='multi_label_small')\n",
    "stop_early = tf.keras.callbacks.EarlyStopping(monitor='val_loss', patience=3)\n"
   ]
  },
  {
   "cell_type": "code",
   "execution_count": 24,
   "metadata": {},
   "outputs": [
    {
     "name": "stdout",
     "output_type": "stream",
     "text": [
      "INFO:tensorflow:Oracle triggered exit\n"
     ]
    }
   ],
   "source": [
    "tuner.search(train_dataset,\n",
    "             epochs=30,\n",
    "             validation_data=test_dataset,\n",
    "             #steps_per_epoch = STEPS_PER_EPOCH,\n",
    "             validation_steps = VAL_STEPS_PER_EPOCH,\n",
    "             callbacks= [stop_early])#[tensorboard_callback])"
   ]
  },
  {
   "cell_type": "code",
   "execution_count": 25,
   "metadata": {},
   "outputs": [
    {
     "name": "stdout",
     "output_type": "stream",
     "text": [
      "0.001\n",
      "64\n",
      "0.1\n",
      "0.1\n"
     ]
    }
   ],
   "source": [
    "best_hps=tuner.get_best_hyperparameters(num_trials=1)[0]\n",
    "optimal_lr = best_hps.get(\"learning_rate\")\n",
    "optimal_emb_dims = best_hps.get(\"emb_dims\")\n",
    "dp1 = best_hps.get(\"dropout1\")\n",
    "dp2 = best_hps.get(\"dropout2\")\n",
    "print(optimal_lr)\n",
    "print(optimal_emb_dims)\n",
    "print(dp1)\n",
    "print(dp2)"
   ]
  },
  {
   "cell_type": "code",
   "execution_count": null,
   "metadata": {},
   "outputs": [],
   "source": []
  },
  {
   "attachments": {},
   "cell_type": "markdown",
   "metadata": {},
   "source": [
    "##### 1.2 Train with best hyperparameters"
   ]
  },
  {
   "cell_type": "code",
   "execution_count": 26,
   "metadata": {},
   "outputs": [],
   "source": [
    "\n",
    "NUM_EPOCHS = 80\n",
    "model1 = create_model(optimal_emb_dims, dp1, dp2, encoder_int_tokens, encoder_int_types, tokens_input_len, type_input_len, \"int\")\n",
    "model1.compile(loss=tf.keras.losses.BinaryCrossentropy(from_logits=True),\n",
    "              optimizer=tf.keras.optimizers.Adam(optimal_lr),\n",
    "              metrics=[\"accuracy\", tf.keras.metrics.Recall()])"
   ]
  },
  {
   "cell_type": "code",
   "execution_count": 27,
   "metadata": {},
   "outputs": [
    {
     "name": "stdout",
     "output_type": "stream",
     "text": [
      "Epoch 1/80\n",
      "343/346 [============================>.] - ETA: 0s - loss: 0.2859 - accuracy: 0.5326 - recall: 0.1115INFO:tensorflow:Assets written to: /home/paul_d/Sources/sem_math_repo/classification_formulas_multilabel/wandb/run-20230315_020001-vvuppqsn/files/model-best/assets\n"
     ]
    },
    {
     "name": "stderr",
     "output_type": "stream",
     "text": [
      "INFO:tensorflow:Assets written to: /home/paul_d/Sources/sem_math_repo/classification_formulas_multilabel/wandb/run-20230315_020001-vvuppqsn/files/model-best/assets\n"
     ]
    },
    {
     "name": "stdout",
     "output_type": "stream",
     "text": [
      "346/346 [==============================] - 7s 20ms/step - loss: 0.2848 - accuracy: 0.5309 - recall: 0.1105 - val_loss: 0.1856 - val_accuracy: 0.0000e+00 - val_recall: 0.0000e+00\n",
      "Epoch 2/80\n",
      "343/346 [============================>.] - ETA: 0s - loss: 0.1448 - accuracy: 0.4965 - recall: 0.1087INFO:tensorflow:Assets written to: /home/paul_d/Sources/sem_math_repo/classification_formulas_multilabel/wandb/run-20230315_020001-vvuppqsn/files/model-best/assets\n"
     ]
    },
    {
     "name": "stderr",
     "output_type": "stream",
     "text": [
      "INFO:tensorflow:Assets written to: /home/paul_d/Sources/sem_math_repo/classification_formulas_multilabel/wandb/run-20230315_020001-vvuppqsn/files/model-best/assets\n"
     ]
    },
    {
     "name": "stdout",
     "output_type": "stream",
     "text": [
      "346/346 [==============================] - 7s 20ms/step - loss: 0.1448 - accuracy: 0.4949 - recall: 0.1084 - val_loss: 0.1756 - val_accuracy: 0.0000e+00 - val_recall: 2.2548e-04\n",
      "Epoch 3/80\n",
      "343/346 [============================>.] - ETA: 0s - loss: 0.1410 - accuracy: 0.5173 - recall: 0.1246INFO:tensorflow:Assets written to: /home/paul_d/Sources/sem_math_repo/classification_formulas_multilabel/wandb/run-20230315_020001-vvuppqsn/files/model-best/assets\n"
     ]
    },
    {
     "name": "stderr",
     "output_type": "stream",
     "text": [
      "INFO:tensorflow:Assets written to: /home/paul_d/Sources/sem_math_repo/classification_formulas_multilabel/wandb/run-20230315_020001-vvuppqsn/files/model-best/assets\n"
     ]
    },
    {
     "name": "stdout",
     "output_type": "stream",
     "text": [
      "346/346 [==============================] - 8s 23ms/step - loss: 0.1410 - accuracy: 0.5159 - recall: 0.1246 - val_loss: 0.1670 - val_accuracy: 0.0000e+00 - val_recall: 0.0020\n",
      "Epoch 4/80\n",
      "345/346 [============================>.] - ETA: 0s - loss: 0.1378 - accuracy: 0.5455 - recall: 0.1417INFO:tensorflow:Assets written to: /home/paul_d/Sources/sem_math_repo/classification_formulas_multilabel/wandb/run-20230315_020001-vvuppqsn/files/model-best/assets\n"
     ]
    },
    {
     "name": "stderr",
     "output_type": "stream",
     "text": [
      "INFO:tensorflow:Assets written to: /home/paul_d/Sources/sem_math_repo/classification_formulas_multilabel/wandb/run-20230315_020001-vvuppqsn/files/model-best/assets\n"
     ]
    },
    {
     "name": "stdout",
     "output_type": "stream",
     "text": [
      "346/346 [==============================] - 7s 20ms/step - loss: 0.1378 - accuracy: 0.5455 - recall: 0.1419 - val_loss: 0.1590 - val_accuracy: 0.2956 - val_recall: 0.0023\n",
      "Epoch 5/80\n",
      "345/346 [============================>.] - ETA: 0s - loss: 0.1354 - accuracy: 0.5790 - recall: 0.1608INFO:tensorflow:Assets written to: /home/paul_d/Sources/sem_math_repo/classification_formulas_multilabel/wandb/run-20230315_020001-vvuppqsn/files/model-best/assets\n"
     ]
    },
    {
     "name": "stderr",
     "output_type": "stream",
     "text": [
      "INFO:tensorflow:Assets written to: /home/paul_d/Sources/sem_math_repo/classification_formulas_multilabel/wandb/run-20230315_020001-vvuppqsn/files/model-best/assets\n"
     ]
    },
    {
     "name": "stdout",
     "output_type": "stream",
     "text": [
      "346/346 [==============================] - 9s 26ms/step - loss: 0.1354 - accuracy: 0.5782 - recall: 0.1607 - val_loss: 0.1542 - val_accuracy: 0.4996 - val_recall: 0.0023\n",
      "Epoch 6/80\n",
      "344/346 [============================>.] - ETA: 0s - loss: 0.1341 - accuracy: 0.5907 - recall: 0.1737INFO:tensorflow:Assets written to: /home/paul_d/Sources/sem_math_repo/classification_formulas_multilabel/wandb/run-20230315_020001-vvuppqsn/files/model-best/assets\n"
     ]
    },
    {
     "name": "stderr",
     "output_type": "stream",
     "text": [
      "INFO:tensorflow:Assets written to: /home/paul_d/Sources/sem_math_repo/classification_formulas_multilabel/wandb/run-20230315_020001-vvuppqsn/files/model-best/assets\n"
     ]
    },
    {
     "name": "stdout",
     "output_type": "stream",
     "text": [
      "346/346 [==============================] - 7s 20ms/step - loss: 0.1341 - accuracy: 0.5893 - recall: 0.1734 - val_loss: 0.1514 - val_accuracy: 0.7377 - val_recall: 0.0023\n",
      "Epoch 7/80\n",
      "345/346 [============================>.] - ETA: 0s - loss: 0.1336 - accuracy: 0.5928 - recall: 0.1800INFO:tensorflow:Assets written to: /home/paul_d/Sources/sem_math_repo/classification_formulas_multilabel/wandb/run-20230315_020001-vvuppqsn/files/model-best/assets\n"
     ]
    },
    {
     "name": "stderr",
     "output_type": "stream",
     "text": [
      "INFO:tensorflow:Assets written to: /home/paul_d/Sources/sem_math_repo/classification_formulas_multilabel/wandb/run-20230315_020001-vvuppqsn/files/model-best/assets\n"
     ]
    },
    {
     "name": "stdout",
     "output_type": "stream",
     "text": [
      "346/346 [==============================] - 7s 20ms/step - loss: 0.1336 - accuracy: 0.5922 - recall: 0.1800 - val_loss: 0.1489 - val_accuracy: 0.7418 - val_recall: 0.0023\n",
      "Epoch 8/80\n",
      "343/346 [============================>.] - ETA: 0s - loss: 0.1328 - accuracy: 0.5989 - recall: 0.1849INFO:tensorflow:Assets written to: /home/paul_d/Sources/sem_math_repo/classification_formulas_multilabel/wandb/run-20230315_020001-vvuppqsn/files/model-best/assets\n"
     ]
    },
    {
     "name": "stderr",
     "output_type": "stream",
     "text": [
      "INFO:tensorflow:Assets written to: /home/paul_d/Sources/sem_math_repo/classification_formulas_multilabel/wandb/run-20230315_020001-vvuppqsn/files/model-best/assets\n"
     ]
    },
    {
     "name": "stdout",
     "output_type": "stream",
     "text": [
      "346/346 [==============================] - 8s 22ms/step - loss: 0.1329 - accuracy: 0.5971 - recall: 0.1848 - val_loss: 0.1476 - val_accuracy: 0.4778 - val_recall: 0.0023\n",
      "Epoch 9/80\n",
      "345/346 [============================>.] - ETA: 0s - loss: 0.1323 - accuracy: 0.5964 - recall: 0.1884INFO:tensorflow:Assets written to: /home/paul_d/Sources/sem_math_repo/classification_formulas_multilabel/wandb/run-20230315_020001-vvuppqsn/files/model-best/assets\n"
     ]
    },
    {
     "name": "stderr",
     "output_type": "stream",
     "text": [
      "INFO:tensorflow:Assets written to: /home/paul_d/Sources/sem_math_repo/classification_formulas_multilabel/wandb/run-20230315_020001-vvuppqsn/files/model-best/assets\n"
     ]
    },
    {
     "name": "stdout",
     "output_type": "stream",
     "text": [
      "346/346 [==============================] - 7s 19ms/step - loss: 0.1323 - accuracy: 0.5958 - recall: 0.1882 - val_loss: 0.1468 - val_accuracy: 0.4741 - val_recall: 0.0025\n",
      "Epoch 10/80\n",
      "345/346 [============================>.] - ETA: 0s - loss: 0.1321 - accuracy: 0.5952 - recall: 0.1855INFO:tensorflow:Assets written to: /home/paul_d/Sources/sem_math_repo/classification_formulas_multilabel/wandb/run-20230315_020001-vvuppqsn/files/model-best/assets\n"
     ]
    },
    {
     "name": "stderr",
     "output_type": "stream",
     "text": [
      "INFO:tensorflow:Assets written to: /home/paul_d/Sources/sem_math_repo/classification_formulas_multilabel/wandb/run-20230315_020001-vvuppqsn/files/model-best/assets\n"
     ]
    },
    {
     "name": "stdout",
     "output_type": "stream",
     "text": [
      "346/346 [==============================] - 7s 20ms/step - loss: 0.1321 - accuracy: 0.5945 - recall: 0.1855 - val_loss: 0.1450 - val_accuracy: 0.4836 - val_recall: 0.0034\n",
      "Epoch 11/80\n",
      "345/346 [============================>.] - ETA: 0s - loss: 0.1318 - accuracy: 0.5986 - recall: 0.1866INFO:tensorflow:Assets written to: /home/paul_d/Sources/sem_math_repo/classification_formulas_multilabel/wandb/run-20230315_020001-vvuppqsn/files/model-best/assets\n"
     ]
    },
    {
     "name": "stderr",
     "output_type": "stream",
     "text": [
      "INFO:tensorflow:Assets written to: /home/paul_d/Sources/sem_math_repo/classification_formulas_multilabel/wandb/run-20230315_020001-vvuppqsn/files/model-best/assets\n"
     ]
    },
    {
     "name": "stdout",
     "output_type": "stream",
     "text": [
      "346/346 [==============================] - 7s 20ms/step - loss: 0.1319 - accuracy: 0.5980 - recall: 0.1866 - val_loss: 0.1443 - val_accuracy: 0.4836 - val_recall: 0.0153\n",
      "Epoch 12/80\n",
      "344/346 [============================>.] - ETA: 0s - loss: 0.1317 - accuracy: 0.6001 - recall: 0.1880INFO:tensorflow:Assets written to: /home/paul_d/Sources/sem_math_repo/classification_formulas_multilabel/wandb/run-20230315_020001-vvuppqsn/files/model-best/assets\n"
     ]
    },
    {
     "name": "stderr",
     "output_type": "stream",
     "text": [
      "INFO:tensorflow:Assets written to: /home/paul_d/Sources/sem_math_repo/classification_formulas_multilabel/wandb/run-20230315_020001-vvuppqsn/files/model-best/assets\n"
     ]
    },
    {
     "name": "stdout",
     "output_type": "stream",
     "text": [
      "346/346 [==============================] - 7s 20ms/step - loss: 0.1317 - accuracy: 0.5987 - recall: 0.1877 - val_loss: 0.1432 - val_accuracy: 0.4836 - val_recall: 0.0210\n",
      "Epoch 13/80\n",
      "344/346 [============================>.] - ETA: 0s - loss: 0.1315 - accuracy: 0.6020 - recall: 0.1878INFO:tensorflow:Assets written to: /home/paul_d/Sources/sem_math_repo/classification_formulas_multilabel/wandb/run-20230315_020001-vvuppqsn/files/model-best/assets\n"
     ]
    },
    {
     "name": "stderr",
     "output_type": "stream",
     "text": [
      "INFO:tensorflow:Assets written to: /home/paul_d/Sources/sem_math_repo/classification_formulas_multilabel/wandb/run-20230315_020001-vvuppqsn/files/model-best/assets\n"
     ]
    },
    {
     "name": "stdout",
     "output_type": "stream",
     "text": [
      "346/346 [==============================] - 7s 19ms/step - loss: 0.1315 - accuracy: 0.6007 - recall: 0.1874 - val_loss: 0.1427 - val_accuracy: 0.4844 - val_recall: 0.0225\n",
      "Epoch 14/80\n",
      "345/346 [============================>.] - ETA: 0s - loss: 0.1315 - accuracy: 0.5995 - recall: 0.1860INFO:tensorflow:Assets written to: /home/paul_d/Sources/sem_math_repo/classification_formulas_multilabel/wandb/run-20230315_020001-vvuppqsn/files/model-best/assets\n"
     ]
    },
    {
     "name": "stderr",
     "output_type": "stream",
     "text": [
      "INFO:tensorflow:Assets written to: /home/paul_d/Sources/sem_math_repo/classification_formulas_multilabel/wandb/run-20230315_020001-vvuppqsn/files/model-best/assets\n"
     ]
    },
    {
     "name": "stdout",
     "output_type": "stream",
     "text": [
      "346/346 [==============================] - 7s 20ms/step - loss: 0.1316 - accuracy: 0.5989 - recall: 0.1860 - val_loss: 0.1417 - val_accuracy: 0.4873 - val_recall: 0.0356\n",
      "Epoch 15/80\n",
      "346/346 [==============================] - ETA: 0s - loss: 0.1313 - accuracy: 0.6021 - recall: 0.1903INFO:tensorflow:Assets written to: /home/paul_d/Sources/sem_math_repo/classification_formulas_multilabel/wandb/run-20230315_020001-vvuppqsn/files/model-best/assets\n"
     ]
    },
    {
     "name": "stderr",
     "output_type": "stream",
     "text": [
      "INFO:tensorflow:Assets written to: /home/paul_d/Sources/sem_math_repo/classification_formulas_multilabel/wandb/run-20230315_020001-vvuppqsn/files/model-best/assets\n"
     ]
    },
    {
     "name": "stdout",
     "output_type": "stream",
     "text": [
      "346/346 [==============================] - 7s 20ms/step - loss: 0.1313 - accuracy: 0.6021 - recall: 0.1903 - val_loss: 0.1414 - val_accuracy: 0.4885 - val_recall: 0.0703\n",
      "Epoch 16/80\n",
      "344/346 [============================>.] - ETA: 0s - loss: 0.1314 - accuracy: 0.6028 - recall: 0.1871INFO:tensorflow:Assets written to: /home/paul_d/Sources/sem_math_repo/classification_formulas_multilabel/wandb/run-20230315_020001-vvuppqsn/files/model-best/assets\n"
     ]
    },
    {
     "name": "stderr",
     "output_type": "stream",
     "text": [
      "INFO:tensorflow:Assets written to: /home/paul_d/Sources/sem_math_repo/classification_formulas_multilabel/wandb/run-20230315_020001-vvuppqsn/files/model-best/assets\n"
     ]
    },
    {
     "name": "stdout",
     "output_type": "stream",
     "text": [
      "346/346 [==============================] - 7s 20ms/step - loss: 0.1315 - accuracy: 0.6016 - recall: 0.1870 - val_loss: 0.1406 - val_accuracy: 0.4934 - val_recall: 0.0805\n",
      "Epoch 17/80\n",
      "345/346 [============================>.] - ETA: 0s - loss: 0.1312 - accuracy: 0.6001 - recall: 0.1896INFO:tensorflow:Assets written to: /home/paul_d/Sources/sem_math_repo/classification_formulas_multilabel/wandb/run-20230315_020001-vvuppqsn/files/model-best/assets\n"
     ]
    },
    {
     "name": "stderr",
     "output_type": "stream",
     "text": [
      "INFO:tensorflow:Assets written to: /home/paul_d/Sources/sem_math_repo/classification_formulas_multilabel/wandb/run-20230315_020001-vvuppqsn/files/model-best/assets\n"
     ]
    },
    {
     "name": "stdout",
     "output_type": "stream",
     "text": [
      "346/346 [==============================] - 7s 20ms/step - loss: 0.1313 - accuracy: 0.5993 - recall: 0.1896 - val_loss: 0.1406 - val_accuracy: 0.4938 - val_recall: 0.0780\n",
      "Epoch 18/80\n",
      "345/346 [============================>.] - ETA: 0s - loss: 0.1311 - accuracy: 0.6035 - recall: 0.1868INFO:tensorflow:Assets written to: /home/paul_d/Sources/sem_math_repo/classification_formulas_multilabel/wandb/run-20230315_020001-vvuppqsn/files/model-best/assets\n"
     ]
    },
    {
     "name": "stderr",
     "output_type": "stream",
     "text": [
      "INFO:tensorflow:Assets written to: /home/paul_d/Sources/sem_math_repo/classification_formulas_multilabel/wandb/run-20230315_020001-vvuppqsn/files/model-best/assets\n"
     ]
    },
    {
     "name": "stdout",
     "output_type": "stream",
     "text": [
      "346/346 [==============================] - 7s 20ms/step - loss: 0.1312 - accuracy: 0.6028 - recall: 0.1868 - val_loss: 0.1392 - val_accuracy: 0.4951 - val_recall: 0.0870\n",
      "Epoch 19/80\n",
      "343/346 [============================>.] - ETA: 0s - loss: 0.1310 - accuracy: 0.6068 - recall: 0.1886INFO:tensorflow:Assets written to: /home/paul_d/Sources/sem_math_repo/classification_formulas_multilabel/wandb/run-20230315_020001-vvuppqsn/files/model-best/assets\n"
     ]
    },
    {
     "name": "stderr",
     "output_type": "stream",
     "text": [
      "INFO:tensorflow:Assets written to: /home/paul_d/Sources/sem_math_repo/classification_formulas_multilabel/wandb/run-20230315_020001-vvuppqsn/files/model-best/assets\n"
     ]
    },
    {
     "name": "stdout",
     "output_type": "stream",
     "text": [
      "346/346 [==============================] - 6s 18ms/step - loss: 0.1311 - accuracy: 0.6047 - recall: 0.1884 - val_loss: 0.1388 - val_accuracy: 0.4951 - val_recall: 0.0866\n",
      "Epoch 20/80\n",
      "343/346 [============================>.] - ETA: 0s - loss: 0.1309 - accuracy: 0.6074 - recall: 0.1863INFO:tensorflow:Assets written to: /home/paul_d/Sources/sem_math_repo/classification_formulas_multilabel/wandb/run-20230315_020001-vvuppqsn/files/model-best/assets\n"
     ]
    },
    {
     "name": "stderr",
     "output_type": "stream",
     "text": [
      "INFO:tensorflow:Assets written to: /home/paul_d/Sources/sem_math_repo/classification_formulas_multilabel/wandb/run-20230315_020001-vvuppqsn/files/model-best/assets\n"
     ]
    },
    {
     "name": "stdout",
     "output_type": "stream",
     "text": [
      "346/346 [==============================] - 7s 19ms/step - loss: 0.1310 - accuracy: 0.6057 - recall: 0.1864 - val_loss: 0.1387 - val_accuracy: 0.4951 - val_recall: 0.1247\n",
      "Epoch 21/80\n",
      "345/346 [============================>.] - ETA: 0s - loss: 0.1306 - accuracy: 0.6063 - recall: 0.1892INFO:tensorflow:Assets written to: /home/paul_d/Sources/sem_math_repo/classification_formulas_multilabel/wandb/run-20230315_020001-vvuppqsn/files/model-best/assets\n"
     ]
    },
    {
     "name": "stderr",
     "output_type": "stream",
     "text": [
      "INFO:tensorflow:Assets written to: /home/paul_d/Sources/sem_math_repo/classification_formulas_multilabel/wandb/run-20230315_020001-vvuppqsn/files/model-best/assets\n"
     ]
    },
    {
     "name": "stdout",
     "output_type": "stream",
     "text": [
      "346/346 [==============================] - 7s 19ms/step - loss: 0.1307 - accuracy: 0.6057 - recall: 0.1892 - val_loss: 0.1386 - val_accuracy: 0.5082 - val_recall: 0.1251\n",
      "Epoch 22/80\n",
      "344/346 [============================>.] - ETA: 0s - loss: 0.1307 - accuracy: 0.6086 - recall: 0.1878INFO:tensorflow:Assets written to: /home/paul_d/Sources/sem_math_repo/classification_formulas_multilabel/wandb/run-20230315_020001-vvuppqsn/files/model-best/assets\n"
     ]
    },
    {
     "name": "stderr",
     "output_type": "stream",
     "text": [
      "INFO:tensorflow:Assets written to: /home/paul_d/Sources/sem_math_repo/classification_formulas_multilabel/wandb/run-20230315_020001-vvuppqsn/files/model-best/assets\n"
     ]
    },
    {
     "name": "stdout",
     "output_type": "stream",
     "text": [
      "346/346 [==============================] - 6s 19ms/step - loss: 0.1308 - accuracy: 0.6074 - recall: 0.1877 - val_loss: 0.1382 - val_accuracy: 0.5090 - val_recall: 0.1375\n",
      "Epoch 23/80\n",
      "345/346 [============================>.] - ETA: 0s - loss: 0.1307 - accuracy: 0.6101 - recall: 0.1866INFO:tensorflow:Assets written to: /home/paul_d/Sources/sem_math_repo/classification_formulas_multilabel/wandb/run-20230315_020001-vvuppqsn/files/model-best/assets\n"
     ]
    },
    {
     "name": "stderr",
     "output_type": "stream",
     "text": [
      "INFO:tensorflow:Assets written to: /home/paul_d/Sources/sem_math_repo/classification_formulas_multilabel/wandb/run-20230315_020001-vvuppqsn/files/model-best/assets\n"
     ]
    },
    {
     "name": "stdout",
     "output_type": "stream",
     "text": [
      "346/346 [==============================] - 6s 19ms/step - loss: 0.1308 - accuracy: 0.6093 - recall: 0.1864 - val_loss: 0.1378 - val_accuracy: 0.5111 - val_recall: 0.1533\n",
      "Epoch 24/80\n",
      "346/346 [==============================] - ETA: 0s - loss: 0.1306 - accuracy: 0.6096 - recall: 0.1860INFO:tensorflow:Assets written to: /home/paul_d/Sources/sem_math_repo/classification_formulas_multilabel/wandb/run-20230315_020001-vvuppqsn/files/model-best/assets\n"
     ]
    },
    {
     "name": "stderr",
     "output_type": "stream",
     "text": [
      "INFO:tensorflow:Assets written to: /home/paul_d/Sources/sem_math_repo/classification_formulas_multilabel/wandb/run-20230315_020001-vvuppqsn/files/model-best/assets\n"
     ]
    },
    {
     "name": "stdout",
     "output_type": "stream",
     "text": [
      "346/346 [==============================] - 6s 18ms/step - loss: 0.1306 - accuracy: 0.6096 - recall: 0.1860 - val_loss: 0.1372 - val_accuracy: 0.5111 - val_recall: 0.1533\n",
      "Epoch 25/80\n",
      "345/346 [============================>.] - ETA: 0s - loss: 0.1306 - accuracy: 0.6082 - recall: 0.1832INFO:tensorflow:Assets written to: /home/paul_d/Sources/sem_math_repo/classification_formulas_multilabel/wandb/run-20230315_020001-vvuppqsn/files/model-best/assets\n"
     ]
    },
    {
     "name": "stderr",
     "output_type": "stream",
     "text": [
      "INFO:tensorflow:Assets written to: /home/paul_d/Sources/sem_math_repo/classification_formulas_multilabel/wandb/run-20230315_020001-vvuppqsn/files/model-best/assets\n"
     ]
    },
    {
     "name": "stdout",
     "output_type": "stream",
     "text": [
      "346/346 [==============================] - 7s 19ms/step - loss: 0.1306 - accuracy: 0.6077 - recall: 0.1833 - val_loss: 0.1370 - val_accuracy: 0.5111 - val_recall: 0.1549\n",
      "Epoch 26/80\n",
      "346/346 [==============================] - ETA: 0s - loss: 0.1306 - accuracy: 0.6040 - recall: 0.1828INFO:tensorflow:Assets written to: /home/paul_d/Sources/sem_math_repo/classification_formulas_multilabel/wandb/run-20230315_020001-vvuppqsn/files/model-best/assets\n"
     ]
    },
    {
     "name": "stderr",
     "output_type": "stream",
     "text": [
      "INFO:tensorflow:Assets written to: /home/paul_d/Sources/sem_math_repo/classification_formulas_multilabel/wandb/run-20230315_020001-vvuppqsn/files/model-best/assets\n"
     ]
    },
    {
     "name": "stdout",
     "output_type": "stream",
     "text": [
      "346/346 [==============================] - 7s 19ms/step - loss: 0.1306 - accuracy: 0.6040 - recall: 0.1828 - val_loss: 0.1369 - val_accuracy: 0.5119 - val_recall: 0.1576\n",
      "Epoch 27/80\n",
      "346/346 [==============================] - 5s 15ms/step - loss: 0.1305 - accuracy: 0.6039 - recall: 0.1836 - val_loss: 0.1370 - val_accuracy: 0.5123 - val_recall: 0.1599\n",
      "Epoch 28/80\n",
      "346/346 [==============================] - 5s 15ms/step - loss: 0.1305 - accuracy: 0.6061 - recall: 0.1835 - val_loss: 0.1374 - val_accuracy: 0.5123 - val_recall: 0.1601\n",
      "Epoch 29/80\n",
      "346/346 [==============================] - 5s 15ms/step - loss: 0.1303 - accuracy: 0.6040 - recall: 0.1820 - val_loss: 0.1374 - val_accuracy: 0.5123 - val_recall: 0.1626\n",
      "Epoch 30/80\n",
      "343/346 [============================>.] - ETA: 0s - loss: 0.1303 - accuracy: 0.6040 - recall: 0.1788INFO:tensorflow:Assets written to: /home/paul_d/Sources/sem_math_repo/classification_formulas_multilabel/wandb/run-20230315_020001-vvuppqsn/files/model-best/assets\n"
     ]
    },
    {
     "name": "stderr",
     "output_type": "stream",
     "text": [
      "INFO:tensorflow:Assets written to: /home/paul_d/Sources/sem_math_repo/classification_formulas_multilabel/wandb/run-20230315_020001-vvuppqsn/files/model-best/assets\n"
     ]
    },
    {
     "name": "stdout",
     "output_type": "stream",
     "text": [
      "346/346 [==============================] - 6s 18ms/step - loss: 0.1304 - accuracy: 0.6025 - recall: 0.1789 - val_loss: 0.1362 - val_accuracy: 0.5123 - val_recall: 0.1669\n",
      "Epoch 31/80\n",
      "345/346 [============================>.] - ETA: 0s - loss: 0.1303 - accuracy: 0.6087 - recall: 0.1798INFO:tensorflow:Assets written to: /home/paul_d/Sources/sem_math_repo/classification_formulas_multilabel/wandb/run-20230315_020001-vvuppqsn/files/model-best/assets\n"
     ]
    },
    {
     "name": "stderr",
     "output_type": "stream",
     "text": [
      "INFO:tensorflow:Assets written to: /home/paul_d/Sources/sem_math_repo/classification_formulas_multilabel/wandb/run-20230315_020001-vvuppqsn/files/model-best/assets\n"
     ]
    },
    {
     "name": "stdout",
     "output_type": "stream",
     "text": [
      "346/346 [==============================] - 6s 19ms/step - loss: 0.1303 - accuracy: 0.6078 - recall: 0.1797 - val_loss: 0.1359 - val_accuracy: 0.5127 - val_recall: 0.1669\n",
      "Epoch 32/80\n",
      "346/346 [==============================] - 5s 15ms/step - loss: 0.1302 - accuracy: 0.6087 - recall: 0.1815 - val_loss: 0.1362 - val_accuracy: 0.5123 - val_recall: 0.1646\n",
      "Epoch 33/80\n",
      "346/346 [==============================] - 5s 15ms/step - loss: 0.1302 - accuracy: 0.6049 - recall: 0.1808 - val_loss: 0.1367 - val_accuracy: 0.5127 - val_recall: 0.1651\n",
      "Epoch 34/80\n",
      "346/346 [==============================] - 5s 15ms/step - loss: 0.1304 - accuracy: 0.6075 - recall: 0.1797 - val_loss: 0.1364 - val_accuracy: 0.5119 - val_recall: 0.1651\n",
      "Epoch 35/80\n",
      "346/346 [==============================] - 6s 17ms/step - loss: 0.1302 - accuracy: 0.6069 - recall: 0.1794 - val_loss: 0.1367 - val_accuracy: 0.5123 - val_recall: 0.1653\n",
      "Epoch 36/80\n",
      "346/346 [==============================] - 6s 18ms/step - loss: 0.1303 - accuracy: 0.6025 - recall: 0.1779 - val_loss: 0.1363 - val_accuracy: 0.5127 - val_recall: 0.1662\n",
      "Epoch 37/80\n",
      "346/346 [==============================] - 6s 17ms/step - loss: 0.1302 - accuracy: 0.6073 - recall: 0.1780 - val_loss: 0.1363 - val_accuracy: 0.5127 - val_recall: 0.1684\n",
      "Epoch 38/80\n",
      "345/346 [============================>.] - ETA: 0s - loss: 0.1299 - accuracy: 0.6081 - recall: 0.1773INFO:tensorflow:Assets written to: /home/paul_d/Sources/sem_math_repo/classification_formulas_multilabel/wandb/run-20230315_020001-vvuppqsn/files/model-best/assets\n"
     ]
    },
    {
     "name": "stderr",
     "output_type": "stream",
     "text": [
      "INFO:tensorflow:Assets written to: /home/paul_d/Sources/sem_math_repo/classification_formulas_multilabel/wandb/run-20230315_020001-vvuppqsn/files/model-best/assets\n"
     ]
    },
    {
     "name": "stdout",
     "output_type": "stream",
     "text": [
      "346/346 [==============================] - 7s 20ms/step - loss: 0.1299 - accuracy: 0.6077 - recall: 0.1774 - val_loss: 0.1358 - val_accuracy: 0.5127 - val_recall: 0.1675\n",
      "Epoch 39/80\n",
      "346/346 [==============================] - 5s 16ms/step - loss: 0.1301 - accuracy: 0.6032 - recall: 0.1741 - val_loss: 0.1360 - val_accuracy: 0.5127 - val_recall: 0.1727\n",
      "Epoch 40/80\n",
      "346/346 [==============================] - ETA: 0s - loss: 0.1299 - accuracy: 0.6074 - recall: 0.1761INFO:tensorflow:Assets written to: /home/paul_d/Sources/sem_math_repo/classification_formulas_multilabel/wandb/run-20230315_020001-vvuppqsn/files/model-best/assets\n"
     ]
    },
    {
     "name": "stderr",
     "output_type": "stream",
     "text": [
      "INFO:tensorflow:Assets written to: /home/paul_d/Sources/sem_math_repo/classification_formulas_multilabel/wandb/run-20230315_020001-vvuppqsn/files/model-best/assets\n"
     ]
    },
    {
     "name": "stdout",
     "output_type": "stream",
     "text": [
      "346/346 [==============================] - 7s 21ms/step - loss: 0.1299 - accuracy: 0.6074 - recall: 0.1761 - val_loss: 0.1353 - val_accuracy: 0.5333 - val_recall: 0.1743\n",
      "Epoch 41/80\n",
      "346/346 [==============================] - 6s 16ms/step - loss: 0.1298 - accuracy: 0.6096 - recall: 0.1763 - val_loss: 0.1354 - val_accuracy: 0.5333 - val_recall: 0.1761\n",
      "Epoch 42/80\n",
      "346/346 [==============================] - 6s 17ms/step - loss: 0.1298 - accuracy: 0.6091 - recall: 0.1762 - val_loss: 0.1355 - val_accuracy: 0.5333 - val_recall: 0.1752\n",
      "Epoch 43/80\n",
      "346/346 [==============================] - 6s 16ms/step - loss: 0.1297 - accuracy: 0.6094 - recall: 0.1782 - val_loss: 0.1360 - val_accuracy: 0.5337 - val_recall: 0.1745\n",
      "Epoch 44/80\n",
      "346/346 [==============================] - 6s 17ms/step - loss: 0.1298 - accuracy: 0.6112 - recall: 0.1751 - val_loss: 0.1354 - val_accuracy: 0.5374 - val_recall: 0.1808\n",
      "Epoch 45/80\n",
      "345/346 [============================>.] - ETA: 0s - loss: 0.1295 - accuracy: 0.6123 - recall: 0.1778INFO:tensorflow:Assets written to: /home/paul_d/Sources/sem_math_repo/classification_formulas_multilabel/wandb/run-20230315_020001-vvuppqsn/files/model-best/assets\n"
     ]
    },
    {
     "name": "stderr",
     "output_type": "stream",
     "text": [
      "INFO:tensorflow:Assets written to: /home/paul_d/Sources/sem_math_repo/classification_formulas_multilabel/wandb/run-20230315_020001-vvuppqsn/files/model-best/assets\n"
     ]
    },
    {
     "name": "stdout",
     "output_type": "stream",
     "text": [
      "346/346 [==============================] - 7s 20ms/step - loss: 0.1295 - accuracy: 0.6117 - recall: 0.1778 - val_loss: 0.1352 - val_accuracy: 0.5337 - val_recall: 0.1786\n",
      "Epoch 46/80\n",
      "346/346 [==============================] - 5s 15ms/step - loss: 0.1296 - accuracy: 0.6125 - recall: 0.1752 - val_loss: 0.1355 - val_accuracy: 0.5370 - val_recall: 0.1804\n",
      "Epoch 47/80\n",
      "346/346 [==============================] - 5s 15ms/step - loss: 0.1295 - accuracy: 0.6124 - recall: 0.1772 - val_loss: 0.1360 - val_accuracy: 0.5337 - val_recall: 0.1849\n",
      "Epoch 48/80\n",
      "346/346 [==============================] - 5s 15ms/step - loss: 0.1293 - accuracy: 0.6167 - recall: 0.1773 - val_loss: 0.1354 - val_accuracy: 0.5806 - val_recall: 0.1851\n",
      "Epoch 49/80\n",
      "346/346 [==============================] - 5s 15ms/step - loss: 0.1295 - accuracy: 0.6153 - recall: 0.1773 - val_loss: 0.1360 - val_accuracy: 0.5802 - val_recall: 0.1853\n",
      "Epoch 50/80\n",
      "346/346 [==============================] - 5s 15ms/step - loss: 0.1296 - accuracy: 0.6180 - recall: 0.1758 - val_loss: 0.1356 - val_accuracy: 0.5337 - val_recall: 0.1817\n",
      "Epoch 51/80\n",
      "346/346 [==============================] - ETA: 0s - loss: 0.1294 - accuracy: 0.6119 - recall: 0.1774INFO:tensorflow:Assets written to: /home/paul_d/Sources/sem_math_repo/classification_formulas_multilabel/wandb/run-20230315_020001-vvuppqsn/files/model-best/assets\n"
     ]
    },
    {
     "name": "stderr",
     "output_type": "stream",
     "text": [
      "INFO:tensorflow:Assets written to: /home/paul_d/Sources/sem_math_repo/classification_formulas_multilabel/wandb/run-20230315_020001-vvuppqsn/files/model-best/assets\n"
     ]
    },
    {
     "name": "stdout",
     "output_type": "stream",
     "text": [
      "346/346 [==============================] - 6s 18ms/step - loss: 0.1294 - accuracy: 0.6119 - recall: 0.1774 - val_loss: 0.1351 - val_accuracy: 0.5337 - val_recall: 0.1826\n",
      "Epoch 52/80\n",
      "346/346 [==============================] - 5s 15ms/step - loss: 0.1294 - accuracy: 0.6161 - recall: 0.1768 - val_loss: 0.1361 - val_accuracy: 0.5337 - val_recall: 0.1838\n",
      "Epoch 53/80\n",
      "346/346 [==============================] - 5s 15ms/step - loss: 0.1293 - accuracy: 0.6147 - recall: 0.1764 - val_loss: 0.1352 - val_accuracy: 0.5329 - val_recall: 0.1817\n",
      "Epoch 54/80\n",
      "346/346 [==============================] - 5s 15ms/step - loss: 0.1293 - accuracy: 0.6162 - recall: 0.1754 - val_loss: 0.1352 - val_accuracy: 0.5362 - val_recall: 0.1824\n",
      "Epoch 55/80\n",
      "346/346 [==============================] - 5s 15ms/step - loss: 0.1291 - accuracy: 0.6155 - recall: 0.1776 - val_loss: 0.1356 - val_accuracy: 0.5826 - val_recall: 0.1847\n",
      "Epoch 56/80\n",
      "346/346 [==============================] - 5s 15ms/step - loss: 0.1289 - accuracy: 0.6214 - recall: 0.1786 - val_loss: 0.1356 - val_accuracy: 0.5798 - val_recall: 0.1824\n",
      "Epoch 57/80\n",
      "346/346 [==============================] - 5s 15ms/step - loss: 0.1292 - accuracy: 0.6233 - recall: 0.1753 - val_loss: 0.1357 - val_accuracy: 0.5826 - val_recall: 0.1851\n",
      "Epoch 58/80\n",
      "346/346 [==============================] - 5s 15ms/step - loss: 0.1291 - accuracy: 0.6207 - recall: 0.1752 - val_loss: 0.1362 - val_accuracy: 0.5831 - val_recall: 0.1856\n",
      "Epoch 59/80\n",
      "346/346 [==============================] - 6s 16ms/step - loss: 0.1290 - accuracy: 0.6195 - recall: 0.1765 - val_loss: 0.1368 - val_accuracy: 0.5839 - val_recall: 0.1871\n",
      "Epoch 60/80\n",
      "346/346 [==============================] - 5s 15ms/step - loss: 0.1291 - accuracy: 0.6237 - recall: 0.1770 - val_loss: 0.1360 - val_accuracy: 0.5831 - val_recall: 0.1869\n",
      "Epoch 61/80\n",
      "346/346 [==============================] - 5s 15ms/step - loss: 0.1290 - accuracy: 0.6246 - recall: 0.1760 - val_loss: 0.1359 - val_accuracy: 0.5847 - val_recall: 0.1917\n",
      "Epoch 62/80\n",
      "346/346 [==============================] - 5s 15ms/step - loss: 0.1288 - accuracy: 0.6263 - recall: 0.1784 - val_loss: 0.1354 - val_accuracy: 0.5855 - val_recall: 0.1912\n",
      "Epoch 63/80\n",
      "346/346 [==============================] - 6s 16ms/step - loss: 0.1288 - accuracy: 0.6264 - recall: 0.1793 - val_loss: 0.1356 - val_accuracy: 0.5859 - val_recall: 0.1878\n",
      "Epoch 64/80\n",
      "346/346 [==============================] - 5s 15ms/step - loss: 0.1287 - accuracy: 0.6264 - recall: 0.1768 - val_loss: 0.1363 - val_accuracy: 0.7825 - val_recall: 0.1928\n",
      "Epoch 65/80\n",
      "346/346 [==============================] - 5s 15ms/step - loss: 0.1285 - accuracy: 0.6320 - recall: 0.1786 - val_loss: 0.1359 - val_accuracy: 0.7825 - val_recall: 0.1939\n",
      "Epoch 66/80\n",
      "346/346 [==============================] - 5s 15ms/step - loss: 0.1287 - accuracy: 0.6301 - recall: 0.1793 - val_loss: 0.1357 - val_accuracy: 0.7825 - val_recall: 0.1928\n",
      "Epoch 67/80\n",
      "346/346 [==============================] - 5s 15ms/step - loss: 0.1285 - accuracy: 0.6311 - recall: 0.1803 - val_loss: 0.1359 - val_accuracy: 0.7825 - val_recall: 0.1935\n",
      "Epoch 68/80\n",
      "346/346 [==============================] - 5s 15ms/step - loss: 0.1283 - accuracy: 0.6358 - recall: 0.1806 - val_loss: 0.1366 - val_accuracy: 0.7825 - val_recall: 0.2029\n",
      "Epoch 69/80\n",
      "346/346 [==============================] - 5s 15ms/step - loss: 0.1285 - accuracy: 0.6357 - recall: 0.1806 - val_loss: 0.1362 - val_accuracy: 0.7866 - val_recall: 0.2023\n",
      "Epoch 70/80\n",
      "346/346 [==============================] - 5s 16ms/step - loss: 0.1283 - accuracy: 0.6382 - recall: 0.1829 - val_loss: 0.1356 - val_accuracy: 0.7833 - val_recall: 0.2000\n",
      "Epoch 71/80\n",
      "346/346 [==============================] - 5s 15ms/step - loss: 0.1282 - accuracy: 0.6443 - recall: 0.1838 - val_loss: 0.1353 - val_accuracy: 0.7882 - val_recall: 0.2032\n",
      "Epoch 72/80\n",
      "346/346 [==============================] - 5s 15ms/step - loss: 0.1280 - accuracy: 0.6453 - recall: 0.1846 - val_loss: 0.1359 - val_accuracy: 0.7850 - val_recall: 0.2023\n",
      "Epoch 73/80\n",
      "346/346 [==============================] - 5s 15ms/step - loss: 0.1280 - accuracy: 0.6497 - recall: 0.1862 - val_loss: 0.1357 - val_accuracy: 0.7854 - val_recall: 0.2025\n",
      "Epoch 74/80\n",
      "344/346 [============================>.] - ETA: 0s - loss: 0.1278 - accuracy: 0.6528 - recall: 0.1867INFO:tensorflow:Assets written to: /home/paul_d/Sources/sem_math_repo/classification_formulas_multilabel/wandb/run-20230315_020001-vvuppqsn/files/model-best/assets\n"
     ]
    },
    {
     "name": "stderr",
     "output_type": "stream",
     "text": [
      "INFO:tensorflow:Assets written to: /home/paul_d/Sources/sem_math_repo/classification_formulas_multilabel/wandb/run-20230315_020001-vvuppqsn/files/model-best/assets\n"
     ]
    },
    {
     "name": "stdout",
     "output_type": "stream",
     "text": [
      "346/346 [==============================] - 6s 19ms/step - loss: 0.1279 - accuracy: 0.6512 - recall: 0.1865 - val_loss: 0.1350 - val_accuracy: 0.7899 - val_recall: 0.2047\n",
      "Epoch 75/80\n",
      "346/346 [==============================] - 5s 15ms/step - loss: 0.1277 - accuracy: 0.6544 - recall: 0.1880 - val_loss: 0.1354 - val_accuracy: 0.7895 - val_recall: 0.2038\n",
      "Epoch 76/80\n",
      "346/346 [==============================] - 5s 15ms/step - loss: 0.1278 - accuracy: 0.6560 - recall: 0.1908 - val_loss: 0.1359 - val_accuracy: 0.7895 - val_recall: 0.2056\n",
      "Epoch 77/80\n",
      "346/346 [==============================] - ETA: 0s - loss: 0.1278 - accuracy: 0.6582 - recall: 0.1925INFO:tensorflow:Assets written to: /home/paul_d/Sources/sem_math_repo/classification_formulas_multilabel/wandb/run-20230315_020001-vvuppqsn/files/model-best/assets\n"
     ]
    },
    {
     "name": "stderr",
     "output_type": "stream",
     "text": [
      "INFO:tensorflow:Assets written to: /home/paul_d/Sources/sem_math_repo/classification_formulas_multilabel/wandb/run-20230315_020001-vvuppqsn/files/model-best/assets\n"
     ]
    },
    {
     "name": "stdout",
     "output_type": "stream",
     "text": [
      "346/346 [==============================] - 6s 18ms/step - loss: 0.1278 - accuracy: 0.6582 - recall: 0.1925 - val_loss: 0.1350 - val_accuracy: 0.7911 - val_recall: 0.2054\n",
      "Epoch 78/80\n",
      "346/346 [==============================] - 5s 15ms/step - loss: 0.1275 - accuracy: 0.6582 - recall: 0.1960 - val_loss: 0.1354 - val_accuracy: 0.7895 - val_recall: 0.2101\n",
      "Epoch 79/80\n",
      "346/346 [==============================] - 5s 15ms/step - loss: 0.1274 - accuracy: 0.6614 - recall: 0.1982 - val_loss: 0.1351 - val_accuracy: 0.7895 - val_recall: 0.2097\n",
      "Epoch 80/80\n",
      "346/346 [==============================] - ETA: 0s - loss: 0.1274 - accuracy: 0.6600 - recall: 0.2013INFO:tensorflow:Assets written to: /home/paul_d/Sources/sem_math_repo/classification_formulas_multilabel/wandb/run-20230315_020001-vvuppqsn/files/model-best/assets\n"
     ]
    },
    {
     "name": "stderr",
     "output_type": "stream",
     "text": [
      "INFO:tensorflow:Assets written to: /home/paul_d/Sources/sem_math_repo/classification_formulas_multilabel/wandb/run-20230315_020001-vvuppqsn/files/model-best/assets\n"
     ]
    },
    {
     "name": "stdout",
     "output_type": "stream",
     "text": [
      "346/346 [==============================] - 7s 19ms/step - loss: 0.1274 - accuracy: 0.6600 - recall: 0.2013 - val_loss: 0.1347 - val_accuracy: 0.7911 - val_recall: 0.2108\n"
     ]
    }
   ],
   "source": [
    "configs_dict = {\n",
    "    \"learning_rate\": optimal_lr,\n",
    "    \"emb_dim\": optimal_emb_dims,\n",
    "    \"dp1\": dp1, \n",
    "    \"dp2\": dp2,\n",
    "    \"algorithm\": \"LogReg\",\n",
    "    \"configuration\": \"small-ordinary-unbalanced-all-inputs\",\n",
    "    \"optimizer\": \"adam\",\n",
    "    \"loss\": \"binary_crossentropy\",\n",
    "    \"epochs\": NUM_EPOCHS,\n",
    "    \"batch_size\": 64,\n",
    "    \"vectorizer\": \"int\",\n",
    "    \"dataset\": \"multi_class_unbalanced_data_TOKENIZED_V1\"\n",
    "}\n",
    "\n",
    "run = wandb.init(project=wandb_project_name, reinit=True, config=configs_dict)\n",
    "\n",
    "history = model1.fit(train_dataset, \n",
    "                    epochs=NUM_EPOCHS,\n",
    "                    validation_data=test_dataset,\n",
    "                    #steps_per_epoch = STEPS_PER_EPOCH,\n",
    "                    validation_steps = VAL_STEPS_PER_EPOCH,\n",
    "                    callbacks= [WandbCallback()])#[tensorboard_callback])\n",
    "run.finish()"
   ]
  },
  {
   "cell_type": "code",
   "execution_count": 43,
   "metadata": {},
   "outputs": [
    {
     "name": "stdout",
     "output_type": "stream",
     "text": [
      "Model: \"model\"\n",
      "__________________________________________________________________________________________________\n",
      " Layer (type)                   Output Shape         Param #     Connected to                     \n",
      "==================================================================================================\n",
      " input_1 (InputLayer)           [(None, 1)]          0           []                               \n",
      "                                                                                                  \n",
      " input_2 (InputLayer)           [(None, 1)]          0           []                               \n",
      "                                                                                                  \n",
      " text_vectorization (TextVector  (None, 260)         0           ['input_1[0][0]']                \n",
      " ization)                                                                                         \n",
      "                                                                                                  \n",
      " text_vectorization_1 (TextVect  (None, 260)         0           ['input_2[0][0]']                \n",
      " orization)                                                                                       \n",
      "                                                                                                  \n",
      " input_3 (InputLayer)           [(None, 3)]          0           []                               \n",
      "                                                                                                  \n",
      " concatenate (Concatenate)      (None, 523)          0           ['text_vectorization[0][0]',     \n",
      "                                                                  'text_vectorization_1[0][0]',   \n",
      "                                                                  'input_3[0][0]']                \n",
      "                                                                                                  \n",
      " embedding (Embedding)          (None, 523, 64)      33536       ['concatenate[0][0]']            \n",
      "                                                                                                  \n",
      " dropout (Dropout)              (None, 523, 64)      0           ['embedding[0][0]']              \n",
      "                                                                                                  \n",
      " global_max_pooling1d (GlobalMa  (None, 64)          0           ['dropout[0][0]']                \n",
      " xPooling1D)                                                                                      \n",
      "                                                                                                  \n",
      " dropout_1 (Dropout)            (None, 64)           0           ['global_max_pooling1d[0][0]']   \n",
      "                                                                                                  \n",
      " dense (Dense)                  (None, 40)           2600        ['dropout_1[0][0]']              \n",
      "                                                                                                  \n",
      "==================================================================================================\n",
      "Total params: 36,136\n",
      "Trainable params: 36,136\n",
      "Non-trainable params: 0\n",
      "__________________________________________________________________________________________________\n"
     ]
    }
   ],
   "source": [
    "model1.summary()"
   ]
  },
  {
   "cell_type": "code",
   "execution_count": 46,
   "metadata": {},
   "outputs": [
    {
     "name": "stdout",
     "output_type": "stream",
     "text": [
      "200\n",
      "280\n"
     ]
    }
   ],
   "source": [
    "import io\n",
    "\n",
    "print(\"tokens len: \", tokens_input_len)\n",
    "print(\"types len: \", type_input_len)\n",
    "try:\n",
    "    weights = model1.get_layer('embedding').get_weights()[0]\n",
    "    vocab1 = encoder_int_tokens.get_vocabulary()\n",
    "    vocab2 = encoder_int_types.get_vocabulary()\n",
    "    out_v = io.open('vectors1.tsv', 'w', encoding='utf-8')\n",
    "    out_m = io.open('metadata1.tsv', 'w', encoding='utf-8')\n",
    "    \n",
    "    first_index = 0\n",
    "    for index, word in enumerate(vocab1):\n",
    "        if index == 0:\n",
    "            continue  # skip 0, it's padding.\n",
    "        vec = weights[index]\n",
    "        out_v.write('\\t'.join([str(x) for x in vec]) + \"\\n\")\n",
    "        out_m.write(word + \"\\n\")\n",
    "        first_index = index\n",
    "    first_index = tokens_input_len\n",
    "    print(first_index)\n",
    "    # tokens_input_len, type_input_len\n",
    "\n",
    "    second_index = 0\n",
    "    for index, word in enumerate(vocab2):\n",
    "        if index == 0:\n",
    "            continue  # skip 0, it's padding.\n",
    "        second_index = index + first_index\n",
    "        vec = weights[second_index]\n",
    "        out_v.write('\\t'.join([str(x) for x in vec]) + \"\\n\")\n",
    "        out_m.write(word + \"\\n\")\n",
    "\n",
    "    second_index = tokens_input_len + type_input_len\n",
    "    print(second_index)\n",
    "\n",
    "    #set , scal , func ,\n",
    "    for index, word in [(0, \"SET\"), (1, \"SCAL\"), (2, \"FUNC\")]:\n",
    "        vec = weights[second_index + index]\n",
    "        out_v.write('\\t'.join([str(x) for x in vec]) + \"\\n\")\n",
    "        out_m.write(word + \"\\n\")\n",
    "    \n",
    "    out_v.close()\n",
    "    out_m.close()\n",
    "\n",
    "except Exception as e:\n",
    "    print(e)"
   ]
  },
  {
   "attachments": {},
   "cell_type": "markdown",
   "metadata": {},
   "source": [
    "##### Experiment 2:"
   ]
  },
  {
   "attachments": {},
   "cell_type": "markdown",
   "metadata": {},
   "source": [
    "\n",
    "##### 2.1 Determine best hyperparameters"
   ]
  },
  {
   "cell_type": "code",
   "execution_count": 29,
   "metadata": {},
   "outputs": [],
   "source": [
    "tokens_input_len = TOKENS_MAX_SEQ_LEN \n",
    "type_input_len = TYPE_TOKENS_MAX_SEQ_LEN\n",
    "\n",
    "model_builder2 = create_model_builder(encoder_count_tokens, encoder_count_types,tokens_input_len, type_input_len, \"float\")\n"
   ]
  },
  {
   "cell_type": "code",
   "execution_count": 31,
   "metadata": {},
   "outputs": [],
   "source": [
    "tuner2 = kt.Hyperband(model_builder2,\n",
    "                     objective=kt.Objective(\"val_recall\", direction=\"max\"),\n",
    "                     max_epochs=35,\n",
    "                     factor=3,\n",
    "                     directory='my_dir2',\n",
    "                     project_name='multi_label_count_small')\n",
    "stop_early = tf.keras.callbacks.EarlyStopping(monitor='val_loss', patience=3)"
   ]
  },
  {
   "cell_type": "code",
   "execution_count": 32,
   "metadata": {},
   "outputs": [
    {
     "name": "stdout",
     "output_type": "stream",
     "text": [
      "Trial 90 Complete [00h 00m 30s]\n",
      "val_recall: 0.0\n",
      "\n",
      "Best val_recall So Far: 0.0004509582940954715\n",
      "Total elapsed time: 00h 37m 10s\n",
      "INFO:tensorflow:Oracle triggered exit\n"
     ]
    },
    {
     "name": "stderr",
     "output_type": "stream",
     "text": [
      "INFO:tensorflow:Oracle triggered exit\n"
     ]
    }
   ],
   "source": [
    "tuner2.search(train_dataset,\n",
    "             epochs=30,\n",
    "             validation_data=test_dataset,\n",
    "             #steps_per_epoch = STEPS_PER_EPOCH,\n",
    "             validation_steps = VAL_STEPS_PER_EPOCH,\n",
    "             callbacks= [stop_early])#[tensorboard_callback])"
   ]
  },
  {
   "attachments": {},
   "cell_type": "markdown",
   "metadata": {},
   "source": [
    "##### 2.2 Train with best hyperparameters"
   ]
  },
  {
   "cell_type": "code",
   "execution_count": 33,
   "metadata": {},
   "outputs": [
    {
     "name": "stdout",
     "output_type": "stream",
     "text": [
      "0.001\n",
      "128\n",
      "0.1\n",
      "0.2\n"
     ]
    }
   ],
   "source": [
    "best_hps=tuner2.get_best_hyperparameters(num_trials=1)[0]\n",
    "optimal_lr = best_hps.get(\"learning_rate\")\n",
    "optimal_emb_dims = best_hps.get(\"emb_dims\")\n",
    "dp1 = best_hps.get(\"dropout1\")\n",
    "dp2 = best_hps.get(\"dropout2\")\n",
    "print(optimal_lr)\n",
    "print(optimal_emb_dims)\n",
    "print(dp1)\n",
    "print(dp2)"
   ]
  },
  {
   "cell_type": "code",
   "execution_count": 34,
   "metadata": {},
   "outputs": [],
   "source": [
    "tokens_input_len = TOKENS_PAD_TO_MAX_TOKENS \n",
    "type_input_len = TYPE_TOKENS_PAD_TO_MAX_TOKENS\n",
    "\n",
    "model2 = create_model(optimal_emb_dims, dp1, dp2, encoder_count_tokens, encoder_count_types,tokens_input_len, type_input_len, \"float\") # maybe add 30\n",
    "# predict on a sample formula using untrained model\n",
    "#predictions = model.predict(np.array([sample_text]))\n",
    "#print(predictions[0])"
   ]
  },
  {
   "cell_type": "code",
   "execution_count": 35,
   "metadata": {},
   "outputs": [],
   "source": [
    "NUM_EPOCHS = 80\n",
    "model2.compile(loss=tf.keras.losses.BinaryCrossentropy(from_logits=True),\n",
    "              optimizer=tf.keras.optimizers.Adam(optimal_lr),\n",
    "              metrics=[\"accuracy\", tf.keras.metrics.Recall()])"
   ]
  },
  {
   "cell_type": "code",
   "execution_count": 36,
   "metadata": {},
   "outputs": [
    {
     "name": "stdout",
     "output_type": "stream",
     "text": [
      "Epoch 1/80\n",
      "346/346 [==============================] - ETA: 0s - loss: 0.2544 - accuracy: 0.5737 - recall_1: 0.1627INFO:tensorflow:Assets written to: /home/paul_d/Sources/sem_math_repo/classification_formulas_multilabel/wandb/run-20230315_091057-m90ovok7/files/model-best/assets\n"
     ]
    },
    {
     "name": "stderr",
     "output_type": "stream",
     "text": [
      "INFO:tensorflow:Assets written to: /home/paul_d/Sources/sem_math_repo/classification_formulas_multilabel/wandb/run-20230315_091057-m90ovok7/files/model-best/assets\n"
     ]
    },
    {
     "name": "stdout",
     "output_type": "stream",
     "text": [
      "346/346 [==============================] - 7s 19ms/step - loss: 0.2544 - accuracy: 0.5737 - recall_1: 0.1627 - val_loss: 0.1944 - val_accuracy: 0.0000e+00 - val_recall_1: 0.0000e+00\n",
      "Epoch 2/80\n",
      "346/346 [==============================] - ETA: 0s - loss: 0.1455 - accuracy: 0.5068 - recall_1: 0.1321INFO:tensorflow:Assets written to: /home/paul_d/Sources/sem_math_repo/classification_formulas_multilabel/wandb/run-20230315_091057-m90ovok7/files/model-best/assets\n"
     ]
    },
    {
     "name": "stderr",
     "output_type": "stream",
     "text": [
      "INFO:tensorflow:Assets written to: /home/paul_d/Sources/sem_math_repo/classification_formulas_multilabel/wandb/run-20230315_091057-m90ovok7/files/model-best/assets\n"
     ]
    },
    {
     "name": "stdout",
     "output_type": "stream",
     "text": [
      "346/346 [==============================] - 6s 18ms/step - loss: 0.1455 - accuracy: 0.5068 - recall_1: 0.1321 - val_loss: 0.1833 - val_accuracy: 0.0000e+00 - val_recall_1: 0.0000e+00\n",
      "Epoch 3/80\n",
      "343/346 [============================>.] - ETA: 0s - loss: 0.1446 - accuracy: 0.5025 - recall_1: 0.1171INFO:tensorflow:Assets written to: /home/paul_d/Sources/sem_math_repo/classification_formulas_multilabel/wandb/run-20230315_091057-m90ovok7/files/model-best/assets\n"
     ]
    },
    {
     "name": "stderr",
     "output_type": "stream",
     "text": [
      "INFO:tensorflow:Assets written to: /home/paul_d/Sources/sem_math_repo/classification_formulas_multilabel/wandb/run-20230315_091057-m90ovok7/files/model-best/assets\n"
     ]
    },
    {
     "name": "stdout",
     "output_type": "stream",
     "text": [
      "346/346 [==============================] - 6s 18ms/step - loss: 0.1446 - accuracy: 0.5011 - recall_1: 0.1163 - val_loss: 0.1798 - val_accuracy: 0.0000e+00 - val_recall_1: 0.0000e+00\n",
      "Epoch 4/80\n",
      "345/346 [============================>.] - ETA: 0s - loss: 0.1446 - accuracy: 0.4928 - recall_1: 0.1002INFO:tensorflow:Assets written to: /home/paul_d/Sources/sem_math_repo/classification_formulas_multilabel/wandb/run-20230315_091057-m90ovok7/files/model-best/assets\n"
     ]
    },
    {
     "name": "stderr",
     "output_type": "stream",
     "text": [
      "INFO:tensorflow:Assets written to: /home/paul_d/Sources/sem_math_repo/classification_formulas_multilabel/wandb/run-20230315_091057-m90ovok7/files/model-best/assets\n"
     ]
    },
    {
     "name": "stdout",
     "output_type": "stream",
     "text": [
      "346/346 [==============================] - 7s 20ms/step - loss: 0.1446 - accuracy: 0.4925 - recall_1: 0.1000 - val_loss: 0.1779 - val_accuracy: 0.0000e+00 - val_recall_1: 4.5096e-04\n",
      "Epoch 5/80\n",
      "346/346 [==============================] - ETA: 0s - loss: 0.1448 - accuracy: 0.4843 - recall_1: 0.0867INFO:tensorflow:Assets written to: /home/paul_d/Sources/sem_math_repo/classification_formulas_multilabel/wandb/run-20230315_091057-m90ovok7/files/model-best/assets\n"
     ]
    },
    {
     "name": "stderr",
     "output_type": "stream",
     "text": [
      "INFO:tensorflow:Assets written to: /home/paul_d/Sources/sem_math_repo/classification_formulas_multilabel/wandb/run-20230315_091057-m90ovok7/files/model-best/assets\n"
     ]
    },
    {
     "name": "stdout",
     "output_type": "stream",
     "text": [
      "346/346 [==============================] - 6s 19ms/step - loss: 0.1448 - accuracy: 0.4843 - recall_1: 0.0867 - val_loss: 0.1755 - val_accuracy: 0.0000e+00 - val_recall_1: 4.5096e-04\n",
      "Epoch 6/80\n",
      "343/346 [============================>.] - ETA: 0s - loss: 0.1450 - accuracy: 0.4720 - recall_1: 0.0750INFO:tensorflow:Assets written to: /home/paul_d/Sources/sem_math_repo/classification_formulas_multilabel/wandb/run-20230315_091057-m90ovok7/files/model-best/assets\n"
     ]
    },
    {
     "name": "stderr",
     "output_type": "stream",
     "text": [
      "INFO:tensorflow:Assets written to: /home/paul_d/Sources/sem_math_repo/classification_formulas_multilabel/wandb/run-20230315_091057-m90ovok7/files/model-best/assets\n"
     ]
    },
    {
     "name": "stdout",
     "output_type": "stream",
     "text": [
      "346/346 [==============================] - 6s 19ms/step - loss: 0.1451 - accuracy: 0.4713 - recall_1: 0.0746 - val_loss: 0.1735 - val_accuracy: 0.0000e+00 - val_recall_1: 4.5096e-04\n",
      "Epoch 7/80\n",
      "343/346 [============================>.] - ETA: 0s - loss: 0.1453 - accuracy: 0.4594 - recall_1: 0.0652INFO:tensorflow:Assets written to: /home/paul_d/Sources/sem_math_repo/classification_formulas_multilabel/wandb/run-20230315_091057-m90ovok7/files/model-best/assets\n"
     ]
    },
    {
     "name": "stderr",
     "output_type": "stream",
     "text": [
      "INFO:tensorflow:Assets written to: /home/paul_d/Sources/sem_math_repo/classification_formulas_multilabel/wandb/run-20230315_091057-m90ovok7/files/model-best/assets\n"
     ]
    },
    {
     "name": "stdout",
     "output_type": "stream",
     "text": [
      "346/346 [==============================] - 6s 19ms/step - loss: 0.1454 - accuracy: 0.4581 - recall_1: 0.0648 - val_loss: 0.1725 - val_accuracy: 0.0000e+00 - val_recall_1: 4.5096e-04\n",
      "Epoch 8/80\n",
      "343/346 [============================>.] - ETA: 0s - loss: 0.1455 - accuracy: 0.4477 - recall_1: 0.0606INFO:tensorflow:Assets written to: /home/paul_d/Sources/sem_math_repo/classification_formulas_multilabel/wandb/run-20230315_091057-m90ovok7/files/model-best/assets\n"
     ]
    },
    {
     "name": "stderr",
     "output_type": "stream",
     "text": [
      "INFO:tensorflow:Assets written to: /home/paul_d/Sources/sem_math_repo/classification_formulas_multilabel/wandb/run-20230315_091057-m90ovok7/files/model-best/assets\n"
     ]
    },
    {
     "name": "stdout",
     "output_type": "stream",
     "text": [
      "346/346 [==============================] - 6s 19ms/step - loss: 0.1456 - accuracy: 0.4468 - recall_1: 0.0604 - val_loss: 0.1704 - val_accuracy: 0.0000e+00 - val_recall_1: 0.0000e+00\n",
      "Epoch 9/80\n",
      "346/346 [==============================] - 5s 15ms/step - loss: 0.1453 - accuracy: 0.4456 - recall_1: 0.0583 - val_loss: 0.1706 - val_accuracy: 0.0000e+00 - val_recall_1: 0.0000e+00\n",
      "Epoch 10/80\n",
      "346/346 [==============================] - ETA: 0s - loss: 0.1457 - accuracy: 0.4394 - recall_1: 0.0508INFO:tensorflow:Assets written to: /home/paul_d/Sources/sem_math_repo/classification_formulas_multilabel/wandb/run-20230315_091057-m90ovok7/files/model-best/assets\n"
     ]
    },
    {
     "name": "stderr",
     "output_type": "stream",
     "text": [
      "INFO:tensorflow:Assets written to: /home/paul_d/Sources/sem_math_repo/classification_formulas_multilabel/wandb/run-20230315_091057-m90ovok7/files/model-best/assets\n"
     ]
    },
    {
     "name": "stdout",
     "output_type": "stream",
     "text": [
      "346/346 [==============================] - 7s 20ms/step - loss: 0.1457 - accuracy: 0.4394 - recall_1: 0.0508 - val_loss: 0.1696 - val_accuracy: 0.0000e+00 - val_recall_1: 0.0000e+00\n",
      "Epoch 11/80\n",
      "343/346 [============================>.] - ETA: 0s - loss: 0.1459 - accuracy: 0.4348 - recall_1: 0.0368INFO:tensorflow:Assets written to: /home/paul_d/Sources/sem_math_repo/classification_formulas_multilabel/wandb/run-20230315_091057-m90ovok7/files/model-best/assets\n"
     ]
    },
    {
     "name": "stderr",
     "output_type": "stream",
     "text": [
      "INFO:tensorflow:Assets written to: /home/paul_d/Sources/sem_math_repo/classification_formulas_multilabel/wandb/run-20230315_091057-m90ovok7/files/model-best/assets\n"
     ]
    },
    {
     "name": "stdout",
     "output_type": "stream",
     "text": [
      "346/346 [==============================] - 6s 19ms/step - loss: 0.1460 - accuracy: 0.4339 - recall_1: 0.0367 - val_loss: 0.1674 - val_accuracy: 0.0000e+00 - val_recall_1: 0.0000e+00\n",
      "Epoch 12/80\n",
      "346/346 [==============================] - ETA: 0s - loss: 0.1461 - accuracy: 0.4365 - recall_1: 0.0337INFO:tensorflow:Assets written to: /home/paul_d/Sources/sem_math_repo/classification_formulas_multilabel/wandb/run-20230315_091057-m90ovok7/files/model-best/assets\n"
     ]
    },
    {
     "name": "stderr",
     "output_type": "stream",
     "text": [
      "INFO:tensorflow:Assets written to: /home/paul_d/Sources/sem_math_repo/classification_formulas_multilabel/wandb/run-20230315_091057-m90ovok7/files/model-best/assets\n"
     ]
    },
    {
     "name": "stdout",
     "output_type": "stream",
     "text": [
      "346/346 [==============================] - 6s 19ms/step - loss: 0.1461 - accuracy: 0.4365 - recall_1: 0.0337 - val_loss: 0.1663 - val_accuracy: 0.0000e+00 - val_recall_1: 0.0000e+00\n",
      "Epoch 13/80\n",
      "346/346 [==============================] - ETA: 0s - loss: 0.1463 - accuracy: 0.4325 - recall_1: 0.0304INFO:tensorflow:Assets written to: /home/paul_d/Sources/sem_math_repo/classification_formulas_multilabel/wandb/run-20230315_091057-m90ovok7/files/model-best/assets\n"
     ]
    },
    {
     "name": "stderr",
     "output_type": "stream",
     "text": [
      "INFO:tensorflow:Assets written to: /home/paul_d/Sources/sem_math_repo/classification_formulas_multilabel/wandb/run-20230315_091057-m90ovok7/files/model-best/assets\n"
     ]
    },
    {
     "name": "stdout",
     "output_type": "stream",
     "text": [
      "346/346 [==============================] - 6s 18ms/step - loss: 0.1463 - accuracy: 0.4325 - recall_1: 0.0304 - val_loss: 0.1645 - val_accuracy: 0.0000e+00 - val_recall_1: 0.0000e+00\n",
      "Epoch 14/80\n",
      "346/346 [==============================] - ETA: 0s - loss: 0.1464 - accuracy: 0.4325 - recall_1: 0.0313INFO:tensorflow:Assets written to: /home/paul_d/Sources/sem_math_repo/classification_formulas_multilabel/wandb/run-20230315_091057-m90ovok7/files/model-best/assets\n"
     ]
    },
    {
     "name": "stderr",
     "output_type": "stream",
     "text": [
      "INFO:tensorflow:Assets written to: /home/paul_d/Sources/sem_math_repo/classification_formulas_multilabel/wandb/run-20230315_091057-m90ovok7/files/model-best/assets\n"
     ]
    },
    {
     "name": "stdout",
     "output_type": "stream",
     "text": [
      "346/346 [==============================] - 6s 18ms/step - loss: 0.1464 - accuracy: 0.4325 - recall_1: 0.0313 - val_loss: 0.1641 - val_accuracy: 0.0000e+00 - val_recall_1: 0.0000e+00\n",
      "Epoch 15/80\n",
      "343/346 [============================>.] - ETA: 0s - loss: 0.1461 - accuracy: 0.4315 - recall_1: 0.0326INFO:tensorflow:Assets written to: /home/paul_d/Sources/sem_math_repo/classification_formulas_multilabel/wandb/run-20230315_091057-m90ovok7/files/model-best/assets\n"
     ]
    },
    {
     "name": "stderr",
     "output_type": "stream",
     "text": [
      "INFO:tensorflow:Assets written to: /home/paul_d/Sources/sem_math_repo/classification_formulas_multilabel/wandb/run-20230315_091057-m90ovok7/files/model-best/assets\n"
     ]
    },
    {
     "name": "stdout",
     "output_type": "stream",
     "text": [
      "346/346 [==============================] - 7s 20ms/step - loss: 0.1462 - accuracy: 0.4311 - recall_1: 0.0325 - val_loss: 0.1631 - val_accuracy: 0.0000e+00 - val_recall_1: 0.0000e+00\n",
      "Epoch 16/80\n",
      "346/346 [==============================] - 5s 15ms/step - loss: 0.1459 - accuracy: 0.4296 - recall_1: 0.0395 - val_loss: 0.1638 - val_accuracy: 0.0000e+00 - val_recall_1: 0.0000e+00\n",
      "Epoch 17/80\n",
      "346/346 [==============================] - 5s 15ms/step - loss: 0.1464 - accuracy: 0.4156 - recall_1: 0.0228 - val_loss: 0.1637 - val_accuracy: 0.0000e+00 - val_recall_1: 0.0000e+00\n",
      "Epoch 18/80\n",
      "345/346 [============================>.] - ETA: 0s - loss: 0.1466 - accuracy: 0.4103 - recall_1: 0.0202INFO:tensorflow:Assets written to: /home/paul_d/Sources/sem_math_repo/classification_formulas_multilabel/wandb/run-20230315_091057-m90ovok7/files/model-best/assets\n"
     ]
    },
    {
     "name": "stderr",
     "output_type": "stream",
     "text": [
      "INFO:tensorflow:Assets written to: /home/paul_d/Sources/sem_math_repo/classification_formulas_multilabel/wandb/run-20230315_091057-m90ovok7/files/model-best/assets\n"
     ]
    },
    {
     "name": "stdout",
     "output_type": "stream",
     "text": [
      "346/346 [==============================] - 7s 19ms/step - loss: 0.1466 - accuracy: 0.4102 - recall_1: 0.0202 - val_loss: 0.1626 - val_accuracy: 0.0000e+00 - val_recall_1: 0.0000e+00\n",
      "Epoch 19/80\n",
      "346/346 [==============================] - ETA: 0s - loss: 0.1465 - accuracy: 0.4093 - recall_1: 0.0197INFO:tensorflow:Assets written to: /home/paul_d/Sources/sem_math_repo/classification_formulas_multilabel/wandb/run-20230315_091057-m90ovok7/files/model-best/assets\n"
     ]
    },
    {
     "name": "stderr",
     "output_type": "stream",
     "text": [
      "INFO:tensorflow:Assets written to: /home/paul_d/Sources/sem_math_repo/classification_formulas_multilabel/wandb/run-20230315_091057-m90ovok7/files/model-best/assets\n"
     ]
    },
    {
     "name": "stdout",
     "output_type": "stream",
     "text": [
      "346/346 [==============================] - 7s 19ms/step - loss: 0.1465 - accuracy: 0.4093 - recall_1: 0.0197 - val_loss: 0.1620 - val_accuracy: 0.0000e+00 - val_recall_1: 0.0000e+00\n",
      "Epoch 20/80\n",
      "346/346 [==============================] - 5s 15ms/step - loss: 0.1456 - accuracy: 0.4346 - recall_1: 0.0359 - val_loss: 0.1645 - val_accuracy: 0.0000e+00 - val_recall_1: 0.0000e+00\n",
      "Epoch 21/80\n",
      "346/346 [==============================] - 5s 15ms/step - loss: 0.1463 - accuracy: 0.4249 - recall_1: 0.0254 - val_loss: 0.1623 - val_accuracy: 0.0000e+00 - val_recall_1: 0.0000e+00\n",
      "Epoch 22/80\n",
      "343/346 [============================>.] - ETA: 0s - loss: 0.1464 - accuracy: 0.4125 - recall_1: 0.0188INFO:tensorflow:Assets written to: /home/paul_d/Sources/sem_math_repo/classification_formulas_multilabel/wandb/run-20230315_091057-m90ovok7/files/model-best/assets\n"
     ]
    },
    {
     "name": "stderr",
     "output_type": "stream",
     "text": [
      "INFO:tensorflow:Assets written to: /home/paul_d/Sources/sem_math_repo/classification_formulas_multilabel/wandb/run-20230315_091057-m90ovok7/files/model-best/assets\n"
     ]
    },
    {
     "name": "stdout",
     "output_type": "stream",
     "text": [
      "346/346 [==============================] - 7s 19ms/step - loss: 0.1466 - accuracy: 0.4116 - recall_1: 0.0188 - val_loss: 0.1604 - val_accuracy: 0.0000e+00 - val_recall_1: 0.0000e+00\n",
      "Epoch 23/80\n",
      "346/346 [==============================] - 5s 15ms/step - loss: 0.1459 - accuracy: 0.4234 - recall_1: 0.0244 - val_loss: 0.1635 - val_accuracy: 0.0000e+00 - val_recall_1: 0.0000e+00\n",
      "Epoch 24/80\n",
      "346/346 [==============================] - 5s 15ms/step - loss: 0.1463 - accuracy: 0.4164 - recall_1: 0.0198 - val_loss: 0.1608 - val_accuracy: 0.0000e+00 - val_recall_1: 0.0000e+00\n",
      "Epoch 25/80\n",
      "346/346 [==============================] - 5s 15ms/step - loss: 0.1460 - accuracy: 0.4186 - recall_1: 0.0210 - val_loss: 0.1628 - val_accuracy: 0.0000e+00 - val_recall_1: 0.0000e+00\n",
      "Epoch 26/80\n",
      "346/346 [==============================] - 5s 15ms/step - loss: 0.1461 - accuracy: 0.4143 - recall_1: 0.0182 - val_loss: 0.1609 - val_accuracy: 0.0000e+00 - val_recall_1: 0.0000e+00\n",
      "Epoch 27/80\n",
      "346/346 [==============================] - 5s 15ms/step - loss: 0.1459 - accuracy: 0.4261 - recall_1: 0.0195 - val_loss: 0.1616 - val_accuracy: 0.0000e+00 - val_recall_1: 0.0000e+00\n",
      "Epoch 28/80\n",
      "346/346 [==============================] - 5s 15ms/step - loss: 0.1464 - accuracy: 0.4107 - recall_1: 0.0171 - val_loss: 0.1616 - val_accuracy: 0.0000e+00 - val_recall_1: 0.0000e+00\n",
      "Epoch 29/80\n",
      "346/346 [==============================] - 5s 15ms/step - loss: 0.1460 - accuracy: 0.4180 - recall_1: 0.0176 - val_loss: 0.1629 - val_accuracy: 0.0000e+00 - val_recall_1: 0.0000e+00\n",
      "Epoch 30/80\n",
      "346/346 [==============================] - 5s 15ms/step - loss: 0.1465 - accuracy: 0.4021 - recall_1: 0.0139 - val_loss: 0.1615 - val_accuracy: 0.0000e+00 - val_recall_1: 0.0000e+00\n",
      "Epoch 31/80\n",
      "346/346 [==============================] - 5s 15ms/step - loss: 0.1462 - accuracy: 0.4103 - recall_1: 0.0148 - val_loss: 0.1614 - val_accuracy: 0.0000e+00 - val_recall_1: 0.0000e+00\n",
      "Epoch 32/80\n",
      "345/346 [============================>.] - ETA: 0s - loss: 0.1466 - accuracy: 0.4099 - recall_1: 0.0125INFO:tensorflow:Assets written to: /home/paul_d/Sources/sem_math_repo/classification_formulas_multilabel/wandb/run-20230315_091057-m90ovok7/files/model-best/assets\n"
     ]
    },
    {
     "name": "stderr",
     "output_type": "stream",
     "text": [
      "INFO:tensorflow:Assets written to: /home/paul_d/Sources/sem_math_repo/classification_formulas_multilabel/wandb/run-20230315_091057-m90ovok7/files/model-best/assets\n"
     ]
    },
    {
     "name": "stdout",
     "output_type": "stream",
     "text": [
      "346/346 [==============================] - 6s 18ms/step - loss: 0.1465 - accuracy: 0.4097 - recall_1: 0.0125 - val_loss: 0.1596 - val_accuracy: 0.0000e+00 - val_recall_1: 0.0000e+00\n",
      "Epoch 33/80\n",
      "343/346 [============================>.] - ETA: 0s - loss: 0.1464 - accuracy: 0.4088 - recall_1: 0.0123INFO:tensorflow:Assets written to: /home/paul_d/Sources/sem_math_repo/classification_formulas_multilabel/wandb/run-20230315_091057-m90ovok7/files/model-best/assets\n"
     ]
    },
    {
     "name": "stderr",
     "output_type": "stream",
     "text": [
      "INFO:tensorflow:Assets written to: /home/paul_d/Sources/sem_math_repo/classification_formulas_multilabel/wandb/run-20230315_091057-m90ovok7/files/model-best/assets\n"
     ]
    },
    {
     "name": "stdout",
     "output_type": "stream",
     "text": [
      "346/346 [==============================] - 6s 18ms/step - loss: 0.1464 - accuracy: 0.4091 - recall_1: 0.0124 - val_loss: 0.1592 - val_accuracy: 0.0000e+00 - val_recall_1: 0.0000e+00\n",
      "Epoch 34/80\n",
      "346/346 [==============================] - 5s 15ms/step - loss: 0.1463 - accuracy: 0.4058 - recall_1: 0.0124 - val_loss: 0.1596 - val_accuracy: 0.0000e+00 - val_recall_1: 0.0000e+00\n",
      "Epoch 35/80\n",
      "346/346 [==============================] - ETA: 0s - loss: 0.1464 - accuracy: 0.4057 - recall_1: 0.0113INFO:tensorflow:Assets written to: /home/paul_d/Sources/sem_math_repo/classification_formulas_multilabel/wandb/run-20230315_091057-m90ovok7/files/model-best/assets\n"
     ]
    },
    {
     "name": "stderr",
     "output_type": "stream",
     "text": [
      "INFO:tensorflow:Assets written to: /home/paul_d/Sources/sem_math_repo/classification_formulas_multilabel/wandb/run-20230315_091057-m90ovok7/files/model-best/assets\n"
     ]
    },
    {
     "name": "stdout",
     "output_type": "stream",
     "text": [
      "346/346 [==============================] - 7s 20ms/step - loss: 0.1464 - accuracy: 0.4057 - recall_1: 0.0113 - val_loss: 0.1586 - val_accuracy: 0.0000e+00 - val_recall_1: 0.0000e+00\n",
      "Epoch 36/80\n",
      "346/346 [==============================] - 5s 15ms/step - loss: 0.1463 - accuracy: 0.4116 - recall_1: 0.0116 - val_loss: 0.1590 - val_accuracy: 0.0000e+00 - val_recall_1: 0.0000e+00\n",
      "Epoch 37/80\n",
      "346/346 [==============================] - 5s 15ms/step - loss: 0.1461 - accuracy: 0.4159 - recall_1: 0.0144 - val_loss: 0.1594 - val_accuracy: 0.0000e+00 - val_recall_1: 0.0000e+00\n",
      "Epoch 38/80\n",
      "346/346 [==============================] - 5s 15ms/step - loss: 0.1464 - accuracy: 0.4012 - recall_1: 0.0119 - val_loss: 0.1596 - val_accuracy: 0.0000e+00 - val_recall_1: 0.0000e+00\n",
      "Epoch 39/80\n",
      "346/346 [==============================] - ETA: 0s - loss: 0.1463 - accuracy: 0.4083 - recall_1: 0.0106INFO:tensorflow:Assets written to: /home/paul_d/Sources/sem_math_repo/classification_formulas_multilabel/wandb/run-20230315_091057-m90ovok7/files/model-best/assets\n"
     ]
    },
    {
     "name": "stderr",
     "output_type": "stream",
     "text": [
      "INFO:tensorflow:Assets written to: /home/paul_d/Sources/sem_math_repo/classification_formulas_multilabel/wandb/run-20230315_091057-m90ovok7/files/model-best/assets\n"
     ]
    },
    {
     "name": "stdout",
     "output_type": "stream",
     "text": [
      "346/346 [==============================] - 6s 19ms/step - loss: 0.1463 - accuracy: 0.4083 - recall_1: 0.0106 - val_loss: 0.1576 - val_accuracy: 0.0000e+00 - val_recall_1: 0.0000e+00\n",
      "Epoch 40/80\n",
      "346/346 [==============================] - 5s 15ms/step - loss: 0.1459 - accuracy: 0.4140 - recall_1: 0.0152 - val_loss: 0.1595 - val_accuracy: 0.0000e+00 - val_recall_1: 0.0000e+00\n",
      "Epoch 41/80\n",
      "346/346 [==============================] - 5s 15ms/step - loss: 0.1464 - accuracy: 0.4065 - recall_1: 0.0111 - val_loss: 0.1599 - val_accuracy: 0.0000e+00 - val_recall_1: 0.0000e+00\n",
      "Epoch 42/80\n",
      "346/346 [==============================] - 5s 15ms/step - loss: 0.1463 - accuracy: 0.4074 - recall_1: 0.0110 - val_loss: 0.1596 - val_accuracy: 0.0000e+00 - val_recall_1: 0.0000e+00\n",
      "Epoch 43/80\n",
      "346/346 [==============================] - 5s 15ms/step - loss: 0.1462 - accuracy: 0.4072 - recall_1: 0.0108 - val_loss: 0.1581 - val_accuracy: 0.0000e+00 - val_recall_1: 0.0000e+00\n",
      "Epoch 44/80\n",
      "344/346 [============================>.] - ETA: 0s - loss: 0.1460 - accuracy: 0.4084 - recall_1: 0.0099INFO:tensorflow:Assets written to: /home/paul_d/Sources/sem_math_repo/classification_formulas_multilabel/wandb/run-20230315_091057-m90ovok7/files/model-best/assets\n"
     ]
    },
    {
     "name": "stderr",
     "output_type": "stream",
     "text": [
      "INFO:tensorflow:Assets written to: /home/paul_d/Sources/sem_math_repo/classification_formulas_multilabel/wandb/run-20230315_091057-m90ovok7/files/model-best/assets\n"
     ]
    },
    {
     "name": "stdout",
     "output_type": "stream",
     "text": [
      "346/346 [==============================] - 6s 18ms/step - loss: 0.1461 - accuracy: 0.4081 - recall_1: 0.0099 - val_loss: 0.1574 - val_accuracy: 0.0000e+00 - val_recall_1: 0.0000e+00\n",
      "Epoch 45/80\n",
      "346/346 [==============================] - 5s 15ms/step - loss: 0.1459 - accuracy: 0.4114 - recall_1: 0.0105 - val_loss: 0.1604 - val_accuracy: 0.0000e+00 - val_recall_1: 0.0000e+00\n",
      "Epoch 46/80\n",
      "346/346 [==============================] - 5s 15ms/step - loss: 0.1463 - accuracy: 0.4030 - recall_1: 0.0104 - val_loss: 0.1585 - val_accuracy: 0.0000e+00 - val_recall_1: 0.0000e+00\n",
      "Epoch 47/80\n",
      "346/346 [==============================] - 5s 15ms/step - loss: 0.1462 - accuracy: 0.4113 - recall_1: 0.0100 - val_loss: 0.1602 - val_accuracy: 0.0000e+00 - val_recall_1: 0.0000e+00\n",
      "Epoch 48/80\n",
      "346/346 [==============================] - 5s 15ms/step - loss: 0.1460 - accuracy: 0.4163 - recall_1: 0.0105 - val_loss: 0.1584 - val_accuracy: 0.0000e+00 - val_recall_1: 0.0000e+00\n",
      "Epoch 49/80\n",
      "346/346 [==============================] - 5s 15ms/step - loss: 0.1459 - accuracy: 0.4100 - recall_1: 0.0101 - val_loss: 0.1578 - val_accuracy: 0.0000e+00 - val_recall_1: 0.0000e+00\n",
      "Epoch 50/80\n",
      "346/346 [==============================] - ETA: 0s - loss: 0.1461 - accuracy: 0.4044 - recall_1: 0.0107INFO:tensorflow:Assets written to: /home/paul_d/Sources/sem_math_repo/classification_formulas_multilabel/wandb/run-20230315_091057-m90ovok7/files/model-best/assets\n"
     ]
    },
    {
     "name": "stderr",
     "output_type": "stream",
     "text": [
      "INFO:tensorflow:Assets written to: /home/paul_d/Sources/sem_math_repo/classification_formulas_multilabel/wandb/run-20230315_091057-m90ovok7/files/model-best/assets\n"
     ]
    },
    {
     "name": "stdout",
     "output_type": "stream",
     "text": [
      "346/346 [==============================] - 6s 19ms/step - loss: 0.1461 - accuracy: 0.4044 - recall_1: 0.0107 - val_loss: 0.1572 - val_accuracy: 0.0000e+00 - val_recall_1: 0.0000e+00\n",
      "Epoch 51/80\n",
      "346/346 [==============================] - 5s 15ms/step - loss: 0.1458 - accuracy: 0.4179 - recall_1: 0.0100 - val_loss: 0.1588 - val_accuracy: 0.0000e+00 - val_recall_1: 0.0000e+00\n",
      "Epoch 52/80\n",
      "346/346 [==============================] - 5s 15ms/step - loss: 0.1458 - accuracy: 0.4131 - recall_1: 0.0101 - val_loss: 0.1585 - val_accuracy: 0.0000e+00 - val_recall_1: 0.0000e+00\n",
      "Epoch 53/80\n",
      "346/346 [==============================] - 5s 15ms/step - loss: 0.1459 - accuracy: 0.4136 - recall_1: 0.0102 - val_loss: 0.1575 - val_accuracy: 0.0000e+00 - val_recall_1: 0.0000e+00\n",
      "Epoch 54/80\n",
      "344/346 [============================>.] - ETA: 0s - loss: 0.1457 - accuracy: 0.4266 - recall_1: 0.0094INFO:tensorflow:Assets written to: /home/paul_d/Sources/sem_math_repo/classification_formulas_multilabel/wandb/run-20230315_091057-m90ovok7/files/model-best/assets\n"
     ]
    },
    {
     "name": "stderr",
     "output_type": "stream",
     "text": [
      "INFO:tensorflow:Assets written to: /home/paul_d/Sources/sem_math_repo/classification_formulas_multilabel/wandb/run-20230315_091057-m90ovok7/files/model-best/assets\n"
     ]
    },
    {
     "name": "stdout",
     "output_type": "stream",
     "text": [
      "346/346 [==============================] - 7s 20ms/step - loss: 0.1457 - accuracy: 0.4261 - recall_1: 0.0094 - val_loss: 0.1568 - val_accuracy: 0.0000e+00 - val_recall_1: 0.0000e+00\n",
      "Epoch 55/80\n",
      "346/346 [==============================] - 5s 15ms/step - loss: 0.1455 - accuracy: 0.4227 - recall_1: 0.0100 - val_loss: 0.1595 - val_accuracy: 0.0000e+00 - val_recall_1: 0.0000e+00\n",
      "Epoch 56/80\n",
      "346/346 [==============================] - 5s 15ms/step - loss: 0.1455 - accuracy: 0.4189 - recall_1: 0.0099 - val_loss: 0.1587 - val_accuracy: 0.0000e+00 - val_recall_1: 0.0000e+00\n",
      "Epoch 57/80\n",
      "346/346 [==============================] - 5s 15ms/step - loss: 0.1454 - accuracy: 0.4287 - recall_1: 0.0101 - val_loss: 0.1581 - val_accuracy: 0.0000e+00 - val_recall_1: 0.0000e+00\n",
      "Epoch 58/80\n",
      "346/346 [==============================] - 5s 15ms/step - loss: 0.1451 - accuracy: 0.4408 - recall_1: 0.0107 - val_loss: 0.1582 - val_accuracy: 0.0000e+00 - val_recall_1: 0.0000e+00\n",
      "Epoch 59/80\n",
      "346/346 [==============================] - 5s 15ms/step - loss: 0.1452 - accuracy: 0.4410 - recall_1: 0.0107 - val_loss: 0.1582 - val_accuracy: 0.0000e+00 - val_recall_1: 0.0000e+00\n",
      "Epoch 60/80\n",
      "346/346 [==============================] - 5s 15ms/step - loss: 0.1450 - accuracy: 0.4445 - recall_1: 0.0107 - val_loss: 0.1581 - val_accuracy: 0.0000e+00 - val_recall_1: 0.0000e+00\n",
      "Epoch 61/80\n",
      "346/346 [==============================] - 5s 15ms/step - loss: 0.1449 - accuracy: 0.4489 - recall_1: 0.0110 - val_loss: 0.1595 - val_accuracy: 0.0000e+00 - val_recall_1: 0.0000e+00\n",
      "Epoch 62/80\n",
      "346/346 [==============================] - 5s 15ms/step - loss: 0.1448 - accuracy: 0.4493 - recall_1: 0.0103 - val_loss: 0.1588 - val_accuracy: 0.0000e+00 - val_recall_1: 0.0000e+00\n",
      "Epoch 63/80\n",
      "346/346 [==============================] - 5s 15ms/step - loss: 0.1446 - accuracy: 0.4579 - recall_1: 0.0102 - val_loss: 0.1601 - val_accuracy: 0.0000e+00 - val_recall_1: 0.0000e+00\n",
      "Epoch 64/80\n",
      "346/346 [==============================] - 5s 15ms/step - loss: 0.1444 - accuracy: 0.4583 - recall_1: 0.0107 - val_loss: 0.1599 - val_accuracy: 0.0000e+00 - val_recall_1: 0.0000e+00\n",
      "Epoch 65/80\n",
      "346/346 [==============================] - 5s 15ms/step - loss: 0.1441 - accuracy: 0.4695 - recall_1: 0.0120 - val_loss: 0.1601 - val_accuracy: 0.0000e+00 - val_recall_1: 0.0000e+00\n",
      "Epoch 66/80\n",
      "346/346 [==============================] - 5s 15ms/step - loss: 0.1441 - accuracy: 0.4656 - recall_1: 0.0117 - val_loss: 0.1596 - val_accuracy: 0.0000e+00 - val_recall_1: 0.0000e+00\n",
      "Epoch 67/80\n",
      "346/346 [==============================] - 5s 15ms/step - loss: 0.1438 - accuracy: 0.4809 - recall_1: 0.0127 - val_loss: 0.1614 - val_accuracy: 0.0000e+00 - val_recall_1: 0.0000e+00\n",
      "Epoch 68/80\n",
      "346/346 [==============================] - 5s 15ms/step - loss: 0.1436 - accuracy: 0.4905 - recall_1: 0.0144 - val_loss: 0.1621 - val_accuracy: 0.0000e+00 - val_recall_1: 0.0000e+00\n",
      "Epoch 69/80\n",
      "346/346 [==============================] - 5s 15ms/step - loss: 0.1434 - accuracy: 0.4948 - recall_1: 0.0149 - val_loss: 0.1621 - val_accuracy: 0.0000e+00 - val_recall_1: 0.0000e+00\n",
      "Epoch 70/80\n",
      "346/346 [==============================] - 5s 15ms/step - loss: 0.1434 - accuracy: 0.5076 - recall_1: 0.0152 - val_loss: 0.1629 - val_accuracy: 0.0000e+00 - val_recall_1: 0.0000e+00\n",
      "Epoch 71/80\n",
      "346/346 [==============================] - 5s 15ms/step - loss: 0.1431 - accuracy: 0.5125 - recall_1: 0.0155 - val_loss: 0.1655 - val_accuracy: 0.0000e+00 - val_recall_1: 0.0000e+00\n",
      "Epoch 72/80\n",
      "346/346 [==============================] - 5s 15ms/step - loss: 0.1427 - accuracy: 0.5227 - recall_1: 0.0182 - val_loss: 0.1619 - val_accuracy: 0.0000e+00 - val_recall_1: 0.0000e+00\n",
      "Epoch 73/80\n",
      "346/346 [==============================] - 5s 15ms/step - loss: 0.1425 - accuracy: 0.5311 - recall_1: 0.0189 - val_loss: 0.1656 - val_accuracy: 0.0000e+00 - val_recall_1: 0.0000e+00\n",
      "Epoch 74/80\n",
      "346/346 [==============================] - 5s 15ms/step - loss: 0.1424 - accuracy: 0.5350 - recall_1: 0.0201 - val_loss: 0.1664 - val_accuracy: 0.0000e+00 - val_recall_1: 4.5096e-04\n",
      "Epoch 75/80\n",
      "346/346 [==============================] - 5s 15ms/step - loss: 0.1421 - accuracy: 0.5492 - recall_1: 0.0223 - val_loss: 0.1658 - val_accuracy: 0.0000e+00 - val_recall_1: 0.0000e+00\n",
      "Epoch 76/80\n",
      "346/346 [==============================] - 5s 15ms/step - loss: 0.1417 - accuracy: 0.5599 - recall_1: 0.0237 - val_loss: 0.1683 - val_accuracy: 0.0000e+00 - val_recall_1: 4.5096e-04\n",
      "Epoch 77/80\n",
      "346/346 [==============================] - 5s 15ms/step - loss: 0.1414 - accuracy: 0.5662 - recall_1: 0.0274 - val_loss: 0.1666 - val_accuracy: 0.0000e+00 - val_recall_1: 4.5096e-04\n",
      "Epoch 78/80\n",
      "346/346 [==============================] - 5s 15ms/step - loss: 0.1411 - accuracy: 0.5734 - recall_1: 0.0302 - val_loss: 0.1692 - val_accuracy: 0.0000e+00 - val_recall_1: 4.5096e-04\n",
      "Epoch 79/80\n",
      "346/346 [==============================] - 5s 15ms/step - loss: 0.1408 - accuracy: 0.5765 - recall_1: 0.0356 - val_loss: 0.1703 - val_accuracy: 0.0000e+00 - val_recall_1: 4.5096e-04\n",
      "Epoch 80/80\n",
      "346/346 [==============================] - 5s 15ms/step - loss: 0.1404 - accuracy: 0.5825 - recall_1: 0.0396 - val_loss: 0.1710 - val_accuracy: 0.0000e+00 - val_recall_1: 4.5096e-04\n"
     ]
    }
   ],
   "source": [
    "configs_dict = {\n",
    "    \"learning_rate\": optimal_lr,\n",
    "    \"emb_dim\": optimal_emb_dims,\n",
    "    \"dp1\": dp1, \n",
    "    \"dp2\": dp2,\n",
    "    \"algorithm\": \"LogReg\",\n",
    "    \"configuration\": \"small-ordinary-unbalanced-all-inputs\",\n",
    "    \"optimizer\": \"adam\",\n",
    "    \"loss\": \"binary_crossentropy\",\n",
    "    \"epochs\": NUM_EPOCHS,\n",
    "    \"batch_size\": 64,\n",
    "    \"vectorizer\": \"count\",\n",
    "    \"dataset\": \"multi_class_unbalanced_data_TOKENIZED_V1\"\n",
    "}\n",
    "run = wandb.init(project=wandb_project_name, reinit=True, config=configs_dict)\n",
    "\n",
    "history = model2.fit(train_dataset, \n",
    "                    epochs=NUM_EPOCHS,\n",
    "                    validation_data=test_dataset,\n",
    "                    steps_per_epoch = STEPS_PER_EPOCH,\n",
    "                    validation_steps = VAL_STEPS_PER_EPOCH,\n",
    "                    callbacks= [WandbCallback(),])#[tensorboard_callback])\n",
    "run.finish()"
   ]
  }
 ],
 "metadata": {
  "kernelspec": {
   "display_name": "sem_math_env",
   "language": "python",
   "name": "python3"
  },
  "language_info": {
   "codemirror_mode": {
    "name": "ipython",
    "version": 3
   },
   "file_extension": ".py",
   "mimetype": "text/x-python",
   "name": "python",
   "nbconvert_exporter": "python",
   "pygments_lexer": "ipython3",
   "version": "3.10.9"
  },
  "orig_nbformat": 4,
  "vscode": {
   "interpreter": {
    "hash": "71a9a05a8d236729134f51de1f1fd612c9215f2a378954bc400639bac96e00eb"
   }
  }
 },
 "nbformat": 4,
 "nbformat_minor": 2
}
