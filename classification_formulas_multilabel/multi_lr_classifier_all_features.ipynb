{
 "cells": [
  {
   "cell_type": "code",
   "execution_count": 23,
   "metadata": {},
   "outputs": [],
   "source": [
    "import os\n",
    "\n",
    "# takes care of annoying TF-GPU warnings\n",
    "os.environ[\"CUDA_VISIBLE_DEVICES\"] = \"-1\"\n",
    "os.environ[\"TF_CPP_MIN_LOG_LEVEL\"] = \"3\"\n",
    "\n",
    "# remove useless Tensorflow warning:\n",
    "# WARNING:absl:Found untraced functions such as _update_step_xla, lstm_cell_1_layer_call_fn, \n",
    "# lstm_cell_1_layer_call_and_return_conditional_losses, lstm_cell_2_layer_call_fn, \n",
    "# lstm_cell_2_layer_call_and_return_conditional_losses while saving (showing 5 of 5). \n",
    "# These functions will not be directly callable after loading.\n",
    "import absl.logging\n",
    "absl.logging.set_verbosity(absl.logging.ERROR)"
   ]
  },
  {
   "cell_type": "code",
   "execution_count": 24,
   "metadata": {},
   "outputs": [],
   "source": [
    "# very useful for managing wandb runs: https://stackoverflow.com/questions/71106179/log-two-model-runs-with-keras-wandb\n",
    "import wandb\n",
    "from wandb.keras import WandbCallback\n",
    "os.environ[\"WANDB_SILENT\"] = \"true\""
   ]
  },
  {
   "attachments": {},
   "cell_type": "markdown",
   "metadata": {},
   "source": [
    "#### Logistic Regression: Formula Label Prediction (multi-label, all features)"
   ]
  },
  {
   "cell_type": "code",
   "execution_count": 25,
   "metadata": {},
   "outputs": [],
   "source": [
    "import numpy as np \n",
    "import pandas as pd\n",
    "from pathlib import Path \n",
    "import ast\n",
    "\n",
    "import tensorflow as tf\n",
    "\n",
    "import tensorflow_datasets as tfds\n",
    "import tensorflow_text as tf_text\n",
    "\n",
    "import datetime\n",
    "\n",
    "tfds.disable_progress_bar()\n",
    "wandb_project_name = \"multi_label_formula_classification\""
   ]
  },
  {
   "cell_type": "code",
   "execution_count": 26,
   "metadata": {},
   "outputs": [],
   "source": [
    "import matplotlib.pyplot as plt\n",
    "\n",
    "def plot_graphs(history, metric):\n",
    "    plt.plot(history.history[metric])\n",
    "    plt.plot(history.history[\"val_\"+metric], \"\")\n",
    "    plt.xlabel(\"Epochs\")\n",
    "    plt.ylabel(metric)\n",
    "    plt.legend([metric, \"val_\"+metric])"
   ]
  },
  {
   "attachments": {},
   "cell_type": "markdown",
   "metadata": {},
   "source": [
    "#### Import Data and Preprocess Dataframe"
   ]
  },
  {
   "cell_type": "code",
   "execution_count": 27,
   "metadata": {},
   "outputs": [],
   "source": [
    "def preprocess_data(corpus,\n",
    "                    irrelevant_features=[\"mtype\",]):\n",
    "    # drop irrelevant columns\n",
    "    corpus.drop(irrelevant_features, inplace=True, axis=1)\n",
    "\n",
    "    def cell_str_to_list(cell_val):\n",
    "        return ast.literal_eval(cell_val)\n",
    "\n",
    "    # filter strings\n",
    "    def process_cell(cell_str):\n",
    "        stripped_f_str = cell_str[1:-1].replace(\"\\\\\\\\\", \"\\\\\")\n",
    "        f_list = stripped_f_str.split(\",\")\n",
    "        f_list = [token.replace(\"'\", \"\").replace(\" \", \"\") for token in f_list]\n",
    "        f_list = [\"{\" if token == \"\\\\{\" else token for token in f_list]\n",
    "        f_list = [\"}\" if token == \"\\\\}\" else token for token in f_list]\n",
    "        cell_str = \" \".join(f_list)\n",
    "        return cell_str\n",
    "\n",
    "    corpus[\"type_tokens\"] = corpus[\"type_tokens\"].map(process_cell)\n",
    "    corpus[\"tokens\"] = corpus[\"tokens\"].map(process_cell)\n",
    "    corpus[\"mtype_one_hot\"] = corpus[\"mtype_one_hot\"].map(cell_str_to_list)\n",
    "    corpus[\"labels\"] = corpus[\"labels\"].map(cell_str_to_list)\n",
    "    corpus = corpus.loc[(corpus[\"tokens\"].str.len() > 0) & (corpus[\"tokens\"] != \" \")]\n"
   ]
  },
  {
   "cell_type": "code",
   "execution_count": 28,
   "metadata": {},
   "outputs": [
    {
     "data": {
      "text/html": [
       "<div>\n",
       "<style scoped>\n",
       "    .dataframe tbody tr th:only-of-type {\n",
       "        vertical-align: middle;\n",
       "    }\n",
       "\n",
       "    .dataframe tbody tr th {\n",
       "        vertical-align: top;\n",
       "    }\n",
       "\n",
       "    .dataframe thead th {\n",
       "        text-align: right;\n",
       "    }\n",
       "</style>\n",
       "<table border=\"1\" class=\"dataframe\">\n",
       "  <thead>\n",
       "    <tr style=\"text-align: right;\">\n",
       "      <th></th>\n",
       "      <th>tokens</th>\n",
       "      <th>type_tokens</th>\n",
       "      <th>labels</th>\n",
       "      <th>labels_str</th>\n",
       "      <th>mtype_one_hot</th>\n",
       "    </tr>\n",
       "  </thead>\n",
       "  <tbody>\n",
       "    <tr>\n",
       "      <th>0</th>\n",
       "      <td>f</td>\n",
       "      <td>func_name __ANON_1</td>\n",
       "      <td>[1, 0, 0, 0, 0, 0, 0, 0, 0, 0, 0, 0, 0, 0, 0, ...</td>\n",
       "      <td>['elementary-set-theory']</td>\n",
       "      <td>[0, 0, 1]</td>\n",
       "    </tr>\n",
       "    <tr>\n",
       "      <th>1</th>\n",
       "      <td>j : \\mathbb{N} \\rightarrow [ 0   1 ]</td>\n",
       "      <td>func_def func_name __ANON_1 COLON mapping set_...</td>\n",
       "      <td>[1, 0, 0, 0, 0, 0, 0, 0, 0, 0, 0, 0, 0, 0, 0, ...</td>\n",
       "      <td>['elementary-set-theory']</td>\n",
       "      <td>[0, 0, 1]</td>\n",
       "    </tr>\n",
       "    <tr>\n",
       "      <th>2</th>\n",
       "      <td>b</td>\n",
       "      <td>func_name __ANON_1</td>\n",
       "      <td>[1, 0, 0, 0, 0, 0, 0, 0, 0, 0, 0, 0, 0, 0, 0, ...</td>\n",
       "      <td>['elementary-set-theory']</td>\n",
       "      <td>[0, 0, 1]</td>\n",
       "    </tr>\n",
       "    <tr>\n",
       "      <th>3</th>\n",
       "      <td>mathbb{Q</td>\n",
       "      <td>set_constant SET_BASIC</td>\n",
       "      <td>[1, 0, 0, 0, 0, 0, 0, 0, 0, 0, 0, 0, 0, 0, 0, ...</td>\n",
       "      <td>['elementary-set-theory']</td>\n",
       "      <td>[1, 0, 0]</td>\n",
       "    </tr>\n",
       "    <tr>\n",
       "      <th>4</th>\n",
       "      <td>f</td>\n",
       "      <td>func_name __ANON_1</td>\n",
       "      <td>[1, 0, 0, 1, 0, 0, 0, 0, 0, 0, 0, 0, 0, 0, 0, ...</td>\n",
       "      <td>['functions', 'elementary-set-theory']</td>\n",
       "      <td>[0, 0, 1]</td>\n",
       "    </tr>\n",
       "  </tbody>\n",
       "</table>\n",
       "</div>"
      ],
      "text/plain": [
       "                                 tokens  \\\n",
       "0                                     f   \n",
       "1  j : \\mathbb{N} \\rightarrow [ 0   1 ]   \n",
       "2                                     b   \n",
       "3                              mathbb{Q   \n",
       "4                                     f   \n",
       "\n",
       "                                         type_tokens  \\\n",
       "0                                 func_name __ANON_1   \n",
       "1  func_def func_name __ANON_1 COLON mapping set_...   \n",
       "2                                 func_name __ANON_1   \n",
       "3                             set_constant SET_BASIC   \n",
       "4                                 func_name __ANON_1   \n",
       "\n",
       "                                              labels  \\\n",
       "0  [1, 0, 0, 0, 0, 0, 0, 0, 0, 0, 0, 0, 0, 0, 0, ...   \n",
       "1  [1, 0, 0, 0, 0, 0, 0, 0, 0, 0, 0, 0, 0, 0, 0, ...   \n",
       "2  [1, 0, 0, 0, 0, 0, 0, 0, 0, 0, 0, 0, 0, 0, 0, ...   \n",
       "3  [1, 0, 0, 0, 0, 0, 0, 0, 0, 0, 0, 0, 0, 0, 0, ...   \n",
       "4  [1, 0, 0, 1, 0, 0, 0, 0, 0, 0, 0, 0, 0, 0, 0, ...   \n",
       "\n",
       "                               labels_str mtype_one_hot  \n",
       "0               ['elementary-set-theory']     [0, 0, 1]  \n",
       "1               ['elementary-set-theory']     [0, 0, 1]  \n",
       "2               ['elementary-set-theory']     [0, 0, 1]  \n",
       "3               ['elementary-set-theory']     [1, 0, 0]  \n",
       "4  ['functions', 'elementary-set-theory']     [0, 0, 1]  "
      ]
     },
     "execution_count": 28,
     "metadata": {},
     "output_type": "execute_result"
    }
   ],
   "source": [
    "#print(os.getcwd())\n",
    "data_p = Path(\"../data/\") / \"multi_class_unbalanced_data_TOKENIZED_V1.csv\"\n",
    "data = pd.read_csv(data_p)\n",
    "preprocess_data(data)\n",
    "data.head()"
   ]
  },
  {
   "cell_type": "code",
   "execution_count": 29,
   "metadata": {},
   "outputs": [
    {
     "name": "stdout",
     "output_type": "stream",
     "text": [
      "254\n",
      "252\n"
     ]
    }
   ],
   "source": [
    "print(data[\"type_tokens\"].map(lambda x: len((x.split(\" \")))).max())\n",
    "print(data[\"tokens\"].map(lambda x: len((x.split(\" \")))).max())"
   ]
  },
  {
   "cell_type": "code",
   "execution_count": 30,
   "metadata": {},
   "outputs": [],
   "source": [
    "# ordinary datasets\n",
    "SMALL_TRAIN_SIZE = 24620 - 2460\n",
    "SMALL_TEST_SIZE = 2460\n",
    "LARGE_TRAIN_SIZE = 106523 - 10650\n",
    "LARGE_TEST_SIZE = 10650\n",
    "# compact datasets\n",
    "NUM_CLASSES = 40\n",
    "\n",
    "labels_array = np.array(data[\"labels\"].to_list())\n",
    "m_type_array = np.array(data[\"mtype_one_hot\"].to_list())\n",
    "data_as_ds = tf.data.Dataset.from_tensor_slices((data[\"tokens\"],data[\"type_tokens\"],m_type_array))\n",
    "labels_ds = tf.data.Dataset.from_tensor_slices(labels_array)\n",
    "data_as_ds = tf.data.Dataset.zip((data_as_ds, labels_ds))\n",
    "\n",
    "test_dataset = data_as_ds.take(SMALL_TEST_SIZE)\n",
    "train_dataset = data_as_ds.skip(SMALL_TEST_SIZE)"
   ]
  },
  {
   "cell_type": "code",
   "execution_count": 31,
   "metadata": {},
   "outputs": [
    {
     "data": {
      "text/plain": [
       "((TensorSpec(shape=(), dtype=tf.string, name=None),\n",
       "  TensorSpec(shape=(), dtype=tf.string, name=None),\n",
       "  TensorSpec(shape=(3,), dtype=tf.int64, name=None)),\n",
       " TensorSpec(shape=(40,), dtype=tf.int64, name=None))"
      ]
     },
     "execution_count": 31,
     "metadata": {},
     "output_type": "execute_result"
    }
   ],
   "source": [
    "data_as_ds.element_spec"
   ]
  },
  {
   "attachments": {},
   "cell_type": "markdown",
   "metadata": {},
   "source": [
    "##### Setup and Data Preparation"
   ]
  },
  {
   "cell_type": "code",
   "execution_count": 32,
   "metadata": {},
   "outputs": [
    {
     "name": "stdout",
     "output_type": "stream",
     "text": [
      "text:  b'{ 2   4 }'\n",
      "type:  b'explset L_BRACE_LITERAL set_enumeration item __ANON_3 COMMA item __ANON_3 R_BRACE_LITERAL'\n",
      "m_type:  [1 0 0]\n",
      "label:  [1 0 0 0 0 0 0 0 0 0 0 0 0 0 0 0 0 0 0 0 0 0 0 0 0 0 0 0 0 0 0 0 0 0 0 0 0\n",
      " 0 0 0]\n",
      "text:  b'f : I \\\\to X'\n",
      "type:  b'func_def func_name __ANON_1 COLON mapping __ANON_0 TO __ANON_0'\n",
      "m_type:  [0 0 1]\n",
      "label:  [1 0 0 0 0 0 0 0 0 0 0 0 0 0 0 0 0 0 0 0 0 0 0 0 0 0 0 0 0 0 0 0 0 0 0 0 0\n",
      " 0 0 0]\n",
      "text:  b'f ( a ) = 1'\n",
      "type:  b'func_expr func_name_arg func_name __ANON_1 L_PAREN __ANON_1 R_PAREN EQUAL expr_atom __ANON_3'\n",
      "m_type:  [0 0 1]\n",
      "label:  [1 0 0 0 0 0 0 0 0 0 0 0 1 0 0 0 0 0 0 0 0 0 0 0 0 0 0 0 0 0 0 0 0 0 0 0 0\n",
      " 0 0 0]\n",
      "text:  b'x'\n",
      "type:  b'func_name __ANON_1'\n",
      "m_type:  [0 0 1]\n",
      "label:  [1 0 0 0 0 0 0 0 0 0 0 0 0 0 0 0 0 0 0 0 0 0 0 0 0 0 0 0 0 0 0 0 0 0 0 0 0\n",
      " 0 0 0]\n",
      "text:  b'f : X \\\\to Y'\n",
      "type:  b'func_def func_name __ANON_1 COLON mapping __ANON_0 TO __ANON_0'\n",
      "m_type:  [0 0 1]\n",
      "label:  [1 0 0 0 0 0 0 0 0 0 0 0 1 0 0 0 0 0 0 0 0 0 0 0 0 0 0 0 0 0 0 0 0 0 0 0 0\n",
      " 0 0 0]\n"
     ]
    }
   ],
   "source": [
    "for (example_token, example_type, example_m_type), label in train_dataset.take(5):\n",
    "    print(\"text: \", example_token.numpy())\n",
    "    print(\"type: \", example_type.numpy())\n",
    "    print(\"m_type: \", example_m_type.numpy())\n",
    "    print(\"label: \", label.numpy())"
   ]
  },
  {
   "cell_type": "code",
   "execution_count": 33,
   "metadata": {},
   "outputs": [],
   "source": [
    "BUFFER_SIZE = 2000\n",
    "BATCH_SIZE = 64\n",
    "STEPS_PER_EPOCH = np.floor(SMALL_TRAIN_SIZE/BATCH_SIZE)\n",
    "VAL_STEPS_PER_EPOCH = np.floor(SMALL_TEST_SIZE/BATCH_SIZE)\n",
    "train_dataset = train_dataset.shuffle(BUFFER_SIZE).batch(BATCH_SIZE, drop_remainder=True).prefetch(tf.data.AUTOTUNE)\n",
    "test_dataset = test_dataset.batch(BATCH_SIZE, drop_remainder=True).prefetch(tf.data.AUTOTUNE)"
   ]
  },
  {
   "attachments": {},
   "cell_type": "markdown",
   "metadata": {},
   "source": [
    "##### Text Encoding"
   ]
  },
  {
   "cell_type": "code",
   "execution_count": 34,
   "metadata": {},
   "outputs": [],
   "source": [
    "# for int encoder\n",
    "TYPE_TOKENS_MAX_SEQ_LEN = 260\n",
    "TOKENS_MAX_SEQ_LEN = 260\n",
    "\n",
    "# for other encoders \n",
    "TYPE_TOKENS_PAD_TO_MAX_TOKENS = 80\n",
    "TOKENS_PAD_TO_MAX_TOKENS = 200\n",
    "BIGRAM_PAD_TO_MAX_TOKENS = 350"
   ]
  },
  {
   "cell_type": "code",
   "execution_count": 35,
   "metadata": {},
   "outputs": [],
   "source": [
    "def create_encoder(output_mode_str, n_grams, mode):\n",
    "    if output_mode_str == \"int\":\n",
    "        VOCAB_SIZE = 200\n",
    "        if mode == \"token\":\n",
    "            max_seq_len = TOKENS_MAX_SEQ_LEN\n",
    "        elif mode == \"type\":\n",
    "            max_seq_len = TYPE_TOKENS_MAX_SEQ_LEN\n",
    "\n",
    "        encoder = tf.keras.layers.TextVectorization(\n",
    "            standardize=None,\n",
    "            output_mode=output_mode_str,\n",
    "            ngrams = n_grams,\n",
    "            output_sequence_length = max_seq_len,\n",
    "            split=\"whitespace\",\n",
    "            max_tokens=VOCAB_SIZE)\n",
    "        #TODO: adapt for different inputs\n",
    "        if mode == \"token\": \n",
    "            encoder.adapt(train_dataset.map(lambda inputs, label: inputs[0])) # removes the label column through transformation: text, label -> text\n",
    "        elif mode == \"type\":\n",
    "            encoder.adapt(train_dataset.map(lambda inputs, label: inputs[1])) # removes the label column through transformation: text, label -> text\n",
    "        return encoder\n",
    "    \n",
    "    if output_mode_str == \"count\" and n_grams == 2:\n",
    "        max_seq_len = BIGRAM_PAD_TO_MAX_TOKENS\n",
    "        encoder = tf.keras.layers.TextVectorization(\n",
    "            standardize=None,\n",
    "            output_mode=output_mode_str,\n",
    "            ngrams = n_grams,\n",
    "            pad_to_max_tokens = max_seq_len,\n",
    "            split=\"whitespace\",\n",
    "            max_tokens=max_seq_len)\n",
    "        \n",
    "        #TODO: adapt for different inputs\n",
    "        if mode == \"token\": \n",
    "            encoder.adapt(train_dataset.map(lambda inputs, label: inputs[0])) # removes the label column through transformation: text, label -> text\n",
    "        elif mode == \"type\":\n",
    "            encoder.adapt(train_dataset.map(lambda inputs, label: inputs[1])) # removes the label column through transformation: text, label -> text\n",
    "        return encoder\n",
    "    \n",
    "    if mode == \"token\":\n",
    "        max_seq_len = TOKENS_PAD_TO_MAX_TOKENS\n",
    "    elif mode == \"type\":\n",
    "        max_seq_len = TYPE_TOKENS_PAD_TO_MAX_TOKENS\n",
    "\n",
    "    encoder = tf.keras.layers.TextVectorization(\n",
    "        standardize=None,\n",
    "        output_mode=output_mode_str,\n",
    "        ngrams = n_grams,\n",
    "        pad_to_max_tokens = max_seq_len,\n",
    "        split=\"whitespace\",\n",
    "        max_tokens=max_seq_len)\n",
    "    #TODO: adapt for different inputs\n",
    "    if mode == \"token\": \n",
    "        encoder.adapt(train_dataset.map(lambda inputs, label: inputs[0])) # removes the label column through transformation: text, label -> text\n",
    "    elif mode == \"type\":\n",
    "        encoder.adapt(train_dataset.map(lambda inputs, label: inputs[1])) # removes the label column through transformation: text, label -> text\n",
    "    \n",
    "    return encoder\n",
    "\n",
    "\n",
    "    "
   ]
  },
  {
   "attachments": {},
   "cell_type": "markdown",
   "metadata": {},
   "source": [
    "##### Representation 1: Use integer indices encoding"
   ]
  },
  {
   "cell_type": "code",
   "execution_count": 36,
   "metadata": {},
   "outputs": [
    {
     "name": "stdout",
     "output_type": "stream",
     "text": [
      "tokens (voc size):  128\n",
      "types (voc size):  61\n"
     ]
    }
   ],
   "source": [
    "encoder_int_tokens = create_encoder(\"int\", None, \"token\")\n",
    "encoder_int_types = create_encoder(\"int\", None, \"type\")\n",
    "\n",
    "vocab_tokens = np.array(encoder_int_tokens.get_vocabulary())\n",
    "vocab_size_tokens = len(encoder_int_tokens.get_vocabulary())\n",
    "vocab_types = np.array(encoder_int_types.get_vocabulary())\n",
    "vocab_size_types = len(encoder_int_types.get_vocabulary())\n",
    "\n",
    "print(\"tokens (voc size): \", vocab_size_tokens)\n",
    "print(\"types (voc size): \", vocab_size_types)"
   ]
  },
  {
   "cell_type": "code",
   "execution_count": 37,
   "metadata": {},
   "outputs": [
    {
     "name": "stdout",
     "output_type": "stream",
     "text": [
      "tokens: \n",
      "tf.Tensor(b'f : X \\\\to Y', shape=(), dtype=string)\n",
      "[ 2 11 26 14 35  0  0  0  0  0  0  0  0  0  0  0  0  0  0  0  0  0  0  0\n",
      "  0  0  0  0  0  0  0  0  0  0  0  0  0  0  0  0  0  0  0  0  0  0  0  0\n",
      "  0  0  0  0  0  0  0  0  0  0  0  0  0  0  0  0  0  0  0  0  0  0  0  0\n",
      "  0  0  0  0  0  0  0  0  0  0  0  0  0  0  0  0  0  0  0  0  0  0  0  0\n",
      "  0  0  0  0  0  0  0  0  0  0  0  0  0  0  0  0  0  0  0  0  0  0  0  0\n",
      "  0  0  0  0  0  0  0  0  0  0  0  0  0  0  0  0  0  0  0  0  0  0  0  0\n",
      "  0  0  0  0  0  0  0  0  0  0  0  0  0  0  0  0  0  0  0  0  0  0  0  0\n",
      "  0  0  0  0  0  0  0  0  0  0  0  0  0  0  0  0  0  0  0  0  0  0  0  0\n",
      "  0  0  0  0  0  0  0  0  0  0  0  0  0  0  0  0  0  0  0  0  0  0  0  0\n",
      "  0  0  0  0  0  0  0  0  0  0  0  0  0  0  0  0  0  0  0  0  0  0  0  0\n",
      "  0  0  0  0  0  0  0  0  0  0  0  0  0  0  0  0  0  0  0  0]\n",
      "(260,)\n",
      "types: \n",
      "tf.Tensor(b'func_def func_name __ANON_1 COLON mapping __ANON_0 TO __ANON_0', shape=(), dtype=string)\n",
      "[15  5  3 13 14  6 16  6  0  0  0  0  0  0  0  0  0  0  0  0  0  0  0  0\n",
      "  0  0  0  0  0  0  0  0  0  0  0  0  0  0  0  0  0  0  0  0  0  0  0  0\n",
      "  0  0  0  0  0  0  0  0  0  0  0  0  0  0  0  0  0  0  0  0  0  0  0  0\n",
      "  0  0  0  0  0  0  0  0  0  0  0  0  0  0  0  0  0  0  0  0  0  0  0  0\n",
      "  0  0  0  0  0  0  0  0  0  0  0  0  0  0  0  0  0  0  0  0  0  0  0  0\n",
      "  0  0  0  0  0  0  0  0  0  0  0  0  0  0  0  0  0  0  0  0  0  0  0  0\n",
      "  0  0  0  0  0  0  0  0  0  0  0  0  0  0  0  0  0  0  0  0  0  0  0  0\n",
      "  0  0  0  0  0  0  0  0  0  0  0  0  0  0  0  0  0  0  0  0  0  0  0  0\n",
      "  0  0  0  0  0  0  0  0  0  0  0  0  0  0  0  0  0  0  0  0  0  0  0  0\n",
      "  0  0  0  0  0  0  0  0  0  0  0  0  0  0  0  0  0  0  0  0  0  0  0  0\n",
      "  0  0  0  0  0  0  0  0  0  0  0  0  0  0  0  0  0  0  0  0]\n",
      "(260,)\n"
     ]
    }
   ],
   "source": [
    "encoded_example_token = encoder_int_tokens(example_token).numpy()\n",
    "encoded_example_types = encoder_int_types(example_type).numpy()\n",
    "\n",
    "print(\"tokens: \")\n",
    "print(example_token)\n",
    "print(encoded_example_token)\n",
    "print(encoded_example_token.shape)\n",
    "\n",
    "print(\"types: \")\n",
    "print(example_type)\n",
    "print(encoded_example_types)\n",
    "print(encoded_example_types.shape)"
   ]
  },
  {
   "attachments": {},
   "cell_type": "markdown",
   "metadata": {},
   "source": [
    "##### Representation 2: Count Vectorizer"
   ]
  },
  {
   "cell_type": "code",
   "execution_count": 38,
   "metadata": {},
   "outputs": [
    {
     "name": "stdout",
     "output_type": "stream",
     "text": [
      "tokens (voc size):  127\n",
      "types (voc size):  60\n"
     ]
    }
   ],
   "source": [
    "encoder_count_tokens = create_encoder(\"count\", None, \"token\")\n",
    "encoder_count_types = create_encoder(\"count\", None, \"type\")\n",
    "\n",
    "vocab_tokens = np.array(encoder_count_tokens.get_vocabulary())\n",
    "vocab_size_tokens = len(encoder_count_tokens.get_vocabulary())\n",
    "vocab_types = np.array(encoder_count_types.get_vocabulary())\n",
    "vocab_size_types = len(encoder_count_types.get_vocabulary())\n",
    "\n",
    "print(\"tokens (voc size): \", vocab_size_tokens)\n",
    "print(\"types (voc size): \", vocab_size_types)"
   ]
  },
  {
   "cell_type": "code",
   "execution_count": 39,
   "metadata": {},
   "outputs": [
    {
     "name": "stdout",
     "output_type": "stream",
     "text": [
      "tokens: \n",
      "tf.Tensor(b'f : X \\\\to Y', shape=(), dtype=string)\n",
      "[0. 1. 0. 0. 0. 0. 0. 0. 0. 0. 1. 0. 0. 1. 0. 0. 0. 0. 0. 0. 0. 0. 0. 0.\n",
      " 0. 1. 0. 0. 0. 0. 0. 0. 0. 0. 1. 0. 0. 0. 0. 0. 0. 0. 0. 0. 0. 0. 0. 0.\n",
      " 0. 0. 0. 0. 0. 0. 0. 0. 0. 0. 0. 0. 0. 0. 0. 0. 0. 0. 0. 0. 0. 0. 0. 0.\n",
      " 0. 0. 0. 0. 0. 0. 0. 0. 0. 0. 0. 0. 0. 0. 0. 0. 0. 0. 0. 0. 0. 0. 0. 0.\n",
      " 0. 0. 0. 0. 0. 0. 0. 0. 0. 0. 0. 0. 0. 0. 0. 0. 0. 0. 0. 0. 0. 0. 0. 0.\n",
      " 0. 0. 0. 0. 0. 0. 0. 0. 0. 0. 0. 0. 0. 0. 0. 0. 0. 0. 0. 0. 0. 0. 0. 0.\n",
      " 0. 0. 0. 0. 0. 0. 0. 0. 0. 0. 0. 0. 0. 0. 0. 0. 0. 0. 0. 0. 0. 0. 0. 0.\n",
      " 0. 0. 0. 0. 0. 0. 0. 0. 0. 0. 0. 0. 0. 0. 0. 0. 0. 0. 0. 0. 0. 0. 0. 0.\n",
      " 0. 0. 0. 0. 0. 0. 0. 0.]\n",
      "(200,)\n",
      "types: \n",
      "tf.Tensor(b'func_def func_name __ANON_1 COLON mapping __ANON_0 TO __ANON_0', shape=(), dtype=string)\n",
      "[0. 0. 1. 0. 1. 2. 0. 0. 0. 0. 0. 0. 1. 1. 1. 1. 0. 0. 0. 0. 0. 0. 0. 0.\n",
      " 0. 0. 0. 0. 0. 0. 0. 0. 0. 0. 0. 0. 0. 0. 0. 0. 0. 0. 0. 0. 0. 0. 0. 0.\n",
      " 0. 0. 0. 0. 0. 0. 0. 0. 0. 0. 0. 0. 0. 0. 0. 0. 0. 0. 0. 0. 0. 0. 0. 0.\n",
      " 0. 0. 0. 0. 0. 0. 0. 0.]\n",
      "(80,)\n"
     ]
    }
   ],
   "source": [
    "encoded_example_token = encoder_count_tokens(example_token).numpy()\n",
    "encoded_example_types = encoder_count_types(example_type).numpy()\n",
    "\n",
    "print(\"tokens: \")\n",
    "print(example_token)\n",
    "print(encoded_example_token)\n",
    "print(encoded_example_token.shape)\n",
    "\n",
    "print(\"types: \")\n",
    "print(example_type)\n",
    "print(encoded_example_types)\n",
    "print(encoded_example_types.shape)"
   ]
  },
  {
   "attachments": {},
   "cell_type": "markdown",
   "metadata": {},
   "source": [
    "##### Model (Bidirectional LSTM with one layer)"
   ]
  },
  {
   "attachments": {},
   "cell_type": "markdown",
   "metadata": {},
   "source": [
    " **Define and compile model**"
   ]
  },
  {
   "cell_type": "code",
   "execution_count": 40,
   "metadata": {},
   "outputs": [],
   "source": [
    "def create_model(tokens_encoder, types_encoder, tokens_size, types_size, input_type, add_inp_emb_dim=1):\n",
    "    # model = create_model(encoder_count_tokens, encoder_count_types,tokens_input_len, \"float\", type_input_len)\n",
    "    embedding_input_dim = tokens_size + types_size + add_inp_emb_dim + 3 # 3 size of sem_type_model_input\n",
    "\n",
    "    tokens_model_input = tf.keras.layers.Input(dtype=tf.string, shape=(1,))\n",
    "    tokens_vectorized = tokens_encoder(tokens_model_input)\n",
    "\n",
    "    types_model_input = tf.keras.layers.Input(dtype=tf.string, shape=(1,))\n",
    "    types_vectorized = types_encoder(types_model_input)\n",
    "\n",
    "    if input_type == \"float\":\n",
    "        sem_type_model_input = tf.keras.layers.Input(dtype=tf.float32, shape=(3,))\n",
    "    elif input_type == \"int\":\n",
    "        sem_type_model_input = tf.keras.layers.Input(dtype=tf.int64, shape=(3,))\n",
    "\n",
    "    merged = tf.keras.layers.Concatenate(axis=1)([tokens_vectorized, types_vectorized, sem_type_model_input])\n",
    "\n",
    "    embedded = tf.keras.layers.Embedding(input_dim= embedding_input_dim,\n",
    "                                         output_dim=64,\n",
    "                                         # user masking to handle the variable sequence lengths\n",
    "                                         mask_zero=True)(merged)\n",
    "    \n",
    "    dropout1 = tf.keras.layers.Dropout(0.2)(embedded)\n",
    "    globalmaxpooling = tf.keras.layers.GlobalMaxPooling1D()(dropout1)\n",
    "    dropout2 = tf.keras.layers.Dropout(0.2)(globalmaxpooling)\n",
    "    model_output = tf.keras.layers.Dense(40)(dropout2)\n",
    "\n",
    "    model = tf.keras.models.Model(inputs=[tokens_model_input, types_model_input, sem_type_model_input], outputs=model_output)\n",
    "    return model\n"
   ]
  },
  {
   "attachments": {},
   "cell_type": "markdown",
   "metadata": {},
   "source": [
    " **Train the model**"
   ]
  },
  {
   "attachments": {},
   "cell_type": "markdown",
   "metadata": {},
   "source": [
    "##### Experiment 1: Use integer indices for encoding tokens"
   ]
  },
  {
   "cell_type": "code",
   "execution_count": 19,
   "metadata": {},
   "outputs": [],
   "source": [
    "### TENSORBOARD USAGE\n",
    "#log_dir = \"4_nlp_rnns/logs/fit/\" + datetime.datetime.now().strftime(\"%Y%m%d-%H%M%S\")\n",
    "#tensorboard_callback = tf.keras.callbacks.TensorBoard(log_dir=log_dir)"
   ]
  },
  {
   "cell_type": "code",
   "execution_count": 26,
   "metadata": {},
   "outputs": [
    {
     "data": {
      "text/plain": [
       "'\\nsample_text = \"( A \\\\cup B ) \\\\cap (C \\\\cup D )\"\\n# predict on a sample formula using untrained model\\npredictions = model.predict(np.array([sample_text]))\\nprint(predictions[0])\\n'"
      ]
     },
     "execution_count": 26,
     "metadata": {},
     "output_type": "execute_result"
    }
   ],
   "source": [
    "tokens_input_len = TOKENS_MAX_SEQ_LEN \n",
    "type_input_len = TYPE_TOKENS_MAX_SEQ_LEN\n",
    "\n",
    "model = create_model(encoder_int_tokens, encoder_int_types,tokens_input_len, type_input_len, \"int\")\n",
    "\"\"\"\n",
    "sample_text = \"( A \\cup B ) \\cap (C \\cup D )\"\n",
    "# predict on a sample formula using untrained model\n",
    "predictions = model.predict(np.array([sample_text]))\n",
    "print(predictions[0])\n",
    "\"\"\""
   ]
  },
  {
   "cell_type": "code",
   "execution_count": 27,
   "metadata": {},
   "outputs": [
    {
     "name": "stdout",
     "output_type": "stream",
     "text": [
      "Model: \"model\"\n",
      "__________________________________________________________________________________________________\n",
      " Layer (type)                   Output Shape         Param #     Connected to                     \n",
      "==================================================================================================\n",
      " input_1 (InputLayer)           [(None, 1)]          0           []                               \n",
      "                                                                                                  \n",
      " input_2 (InputLayer)           [(None, 1)]          0           []                               \n",
      "                                                                                                  \n",
      " text_vectorization (TextVector  (None, 260)         0           ['input_1[0][0]']                \n",
      " ization)                                                                                         \n",
      "                                                                                                  \n",
      " text_vectorization_1 (TextVect  (None, 260)         0           ['input_2[0][0]']                \n",
      " orization)                                                                                       \n",
      "                                                                                                  \n",
      " input_3 (InputLayer)           [(None, 3)]          0           []                               \n",
      "                                                                                                  \n",
      " concatenate (Concatenate)      (None, 523)          0           ['text_vectorization[0][0]',     \n",
      "                                                                  'text_vectorization_1[0][0]',   \n",
      "                                                                  'input_3[0][0]']                \n",
      "                                                                                                  \n",
      " embedding (Embedding)          (None, 523, 64)      33536       ['concatenate[0][0]']            \n",
      "                                                                                                  \n",
      " dropout (Dropout)              (None, 523, 64)      0           ['embedding[0][0]']              \n",
      "                                                                                                  \n",
      " global_max_pooling1d (GlobalMa  (None, 64)          0           ['dropout[0][0]']                \n",
      " xPooling1D)                                                                                      \n",
      "                                                                                                  \n",
      " dropout_1 (Dropout)            (None, 64)           0           ['global_max_pooling1d[0][0]']   \n",
      "                                                                                                  \n",
      " dense (Dense)                  (None, 40)           2600        ['dropout_1[0][0]']              \n",
      "                                                                                                  \n",
      "==================================================================================================\n",
      "Total params: 36,136\n",
      "Trainable params: 36,136\n",
      "Non-trainable params: 0\n",
      "__________________________________________________________________________________________________\n"
     ]
    }
   ],
   "source": [
    "model.summary()"
   ]
  },
  {
   "cell_type": "code",
   "execution_count": 28,
   "metadata": {},
   "outputs": [],
   "source": [
    "LEARNING_RATE = 1e-3\n",
    "NUM_EPOCHS = 70\n",
    "\n",
    "model.compile(loss=tf.keras.losses.BinaryCrossentropy(from_logits=True),\n",
    "              optimizer=tf.keras.optimizers.Adam(LEARNING_RATE),\n",
    "              metrics=[\"accuracy\"])"
   ]
  },
  {
   "cell_type": "code",
   "execution_count": 29,
   "metadata": {},
   "outputs": [
    {
     "name": "stdout",
     "output_type": "stream",
     "text": [
      "Epoch 1/70\n",
      "344/346 [============================>.] - ETA: 0s - loss: 0.2854 - accuracy: 0.5628INFO:tensorflow:Assets written to: /home/paul_d/Sources/sem_math_repo/classification_formulas_multilabel/wandb/run-20230310_174937-zjlc9upv/files/model-best/assets\n"
     ]
    },
    {
     "name": "stderr",
     "output_type": "stream",
     "text": [
      "INFO:tensorflow:Assets written to: /home/paul_d/Sources/sem_math_repo/classification_formulas_multilabel/wandb/run-20230310_174937-zjlc9upv/files/model-best/assets\n"
     ]
    },
    {
     "name": "stdout",
     "output_type": "stream",
     "text": [
      "346/346 [==============================] - 8s 22ms/step - loss: 0.2847 - accuracy: 0.5613 - val_loss: 0.1864 - val_accuracy: 0.0000e+00\n",
      "Epoch 2/70\n",
      "345/346 [============================>.] - ETA: 0s - loss: 0.1451 - accuracy: 0.5066INFO:tensorflow:Assets written to: /home/paul_d/Sources/sem_math_repo/classification_formulas_multilabel/wandb/run-20230310_174937-zjlc9upv/files/model-best/assets\n"
     ]
    },
    {
     "name": "stderr",
     "output_type": "stream",
     "text": [
      "INFO:tensorflow:Assets written to: /home/paul_d/Sources/sem_math_repo/classification_formulas_multilabel/wandb/run-20230310_174937-zjlc9upv/files/model-best/assets\n"
     ]
    },
    {
     "name": "stdout",
     "output_type": "stream",
     "text": [
      "346/346 [==============================] - 7s 21ms/step - loss: 0.1451 - accuracy: 0.5061 - val_loss: 0.1782 - val_accuracy: 0.0000e+00\n",
      "Epoch 3/70\n",
      "346/346 [==============================] - ETA: 0s - loss: 0.1419 - accuracy: 0.5231INFO:tensorflow:Assets written to: /home/paul_d/Sources/sem_math_repo/classification_formulas_multilabel/wandb/run-20230310_174937-zjlc9upv/files/model-best/assets\n"
     ]
    },
    {
     "name": "stderr",
     "output_type": "stream",
     "text": [
      "INFO:tensorflow:Assets written to: /home/paul_d/Sources/sem_math_repo/classification_formulas_multilabel/wandb/run-20230310_174937-zjlc9upv/files/model-best/assets\n"
     ]
    },
    {
     "name": "stdout",
     "output_type": "stream",
     "text": [
      "346/346 [==============================] - 8s 22ms/step - loss: 0.1419 - accuracy: 0.5231 - val_loss: 0.1706 - val_accuracy: 0.0000e+00\n",
      "Epoch 4/70\n",
      "346/346 [==============================] - ETA: 0s - loss: 0.1388 - accuracy: 0.5495INFO:tensorflow:Assets written to: /home/paul_d/Sources/sem_math_repo/classification_formulas_multilabel/wandb/run-20230310_174937-zjlc9upv/files/model-best/assets\n"
     ]
    },
    {
     "name": "stderr",
     "output_type": "stream",
     "text": [
      "INFO:tensorflow:Assets written to: /home/paul_d/Sources/sem_math_repo/classification_formulas_multilabel/wandb/run-20230310_174937-zjlc9upv/files/model-best/assets\n"
     ]
    },
    {
     "name": "stdout",
     "output_type": "stream",
     "text": [
      "346/346 [==============================] - 8s 22ms/step - loss: 0.1388 - accuracy: 0.5495 - val_loss: 0.1647 - val_accuracy: 0.1221\n",
      "Epoch 5/70\n",
      "346/346 [==============================] - ETA: 0s - loss: 0.1370 - accuracy: 0.5682INFO:tensorflow:Assets written to: /home/paul_d/Sources/sem_math_repo/classification_formulas_multilabel/wandb/run-20230310_174937-zjlc9upv/files/model-best/assets\n"
     ]
    },
    {
     "name": "stderr",
     "output_type": "stream",
     "text": [
      "INFO:tensorflow:Assets written to: /home/paul_d/Sources/sem_math_repo/classification_formulas_multilabel/wandb/run-20230310_174937-zjlc9upv/files/model-best/assets\n"
     ]
    },
    {
     "name": "stdout",
     "output_type": "stream",
     "text": [
      "346/346 [==============================] - 7s 21ms/step - loss: 0.1370 - accuracy: 0.5682 - val_loss: 0.1597 - val_accuracy: 0.3845\n",
      "Epoch 6/70\n",
      "344/346 [============================>.] - ETA: 0s - loss: 0.1360 - accuracy: 0.5814INFO:tensorflow:Assets written to: /home/paul_d/Sources/sem_math_repo/classification_formulas_multilabel/wandb/run-20230310_174937-zjlc9upv/files/model-best/assets\n"
     ]
    },
    {
     "name": "stderr",
     "output_type": "stream",
     "text": [
      "INFO:tensorflow:Assets written to: /home/paul_d/Sources/sem_math_repo/classification_formulas_multilabel/wandb/run-20230310_174937-zjlc9upv/files/model-best/assets\n"
     ]
    },
    {
     "name": "stdout",
     "output_type": "stream",
     "text": [
      "346/346 [==============================] - 9s 25ms/step - loss: 0.1360 - accuracy: 0.5800 - val_loss: 0.1568 - val_accuracy: 0.4248\n",
      "Epoch 7/70\n",
      "346/346 [==============================] - ETA: 0s - loss: 0.1353 - accuracy: 0.5813INFO:tensorflow:Assets written to: /home/paul_d/Sources/sem_math_repo/classification_formulas_multilabel/wandb/run-20230310_174937-zjlc9upv/files/model-best/assets\n"
     ]
    },
    {
     "name": "stderr",
     "output_type": "stream",
     "text": [
      "INFO:tensorflow:Assets written to: /home/paul_d/Sources/sem_math_repo/classification_formulas_multilabel/wandb/run-20230310_174937-zjlc9upv/files/model-best/assets\n"
     ]
    },
    {
     "name": "stdout",
     "output_type": "stream",
     "text": [
      "346/346 [==============================] - 8s 22ms/step - loss: 0.1353 - accuracy: 0.5813 - val_loss: 0.1545 - val_accuracy: 0.4507\n",
      "Epoch 8/70\n",
      "344/346 [============================>.] - ETA: 0s - loss: 0.1344 - accuracy: 0.5879INFO:tensorflow:Assets written to: /home/paul_d/Sources/sem_math_repo/classification_formulas_multilabel/wandb/run-20230310_174937-zjlc9upv/files/model-best/assets\n"
     ]
    },
    {
     "name": "stderr",
     "output_type": "stream",
     "text": [
      "INFO:tensorflow:Assets written to: /home/paul_d/Sources/sem_math_repo/classification_formulas_multilabel/wandb/run-20230310_174937-zjlc9upv/files/model-best/assets\n"
     ]
    },
    {
     "name": "stdout",
     "output_type": "stream",
     "text": [
      "346/346 [==============================] - 7s 20ms/step - loss: 0.1344 - accuracy: 0.5868 - val_loss: 0.1534 - val_accuracy: 0.4753\n",
      "Epoch 9/70\n",
      "346/346 [==============================] - ETA: 0s - loss: 0.1343 - accuracy: 0.5862INFO:tensorflow:Assets written to: /home/paul_d/Sources/sem_math_repo/classification_formulas_multilabel/wandb/run-20230310_174937-zjlc9upv/files/model-best/assets\n"
     ]
    },
    {
     "name": "stderr",
     "output_type": "stream",
     "text": [
      "INFO:tensorflow:Assets written to: /home/paul_d/Sources/sem_math_repo/classification_formulas_multilabel/wandb/run-20230310_174937-zjlc9upv/files/model-best/assets\n"
     ]
    },
    {
     "name": "stdout",
     "output_type": "stream",
     "text": [
      "346/346 [==============================] - 7s 20ms/step - loss: 0.1343 - accuracy: 0.5862 - val_loss: 0.1519 - val_accuracy: 0.4864\n",
      "Epoch 10/70\n",
      "344/346 [============================>.] - ETA: 0s - loss: 0.1336 - accuracy: 0.5872INFO:tensorflow:Assets written to: /home/paul_d/Sources/sem_math_repo/classification_formulas_multilabel/wandb/run-20230310_174937-zjlc9upv/files/model-best/assets\n"
     ]
    },
    {
     "name": "stderr",
     "output_type": "stream",
     "text": [
      "INFO:tensorflow:Assets written to: /home/paul_d/Sources/sem_math_repo/classification_formulas_multilabel/wandb/run-20230310_174937-zjlc9upv/files/model-best/assets\n"
     ]
    },
    {
     "name": "stdout",
     "output_type": "stream",
     "text": [
      "346/346 [==============================] - 7s 21ms/step - loss: 0.1337 - accuracy: 0.5862 - val_loss: 0.1499 - val_accuracy: 0.4910\n",
      "Epoch 11/70\n",
      "346/346 [==============================] - 6s 18ms/step - loss: 0.1333 - accuracy: 0.5873 - val_loss: 0.1499 - val_accuracy: 0.4897\n",
      "Epoch 12/70\n",
      "343/346 [============================>.] - ETA: 0s - loss: 0.1329 - accuracy: 0.5901INFO:tensorflow:Assets written to: /home/paul_d/Sources/sem_math_repo/classification_formulas_multilabel/wandb/run-20230310_174937-zjlc9upv/files/model-best/assets\n"
     ]
    },
    {
     "name": "stderr",
     "output_type": "stream",
     "text": [
      "INFO:tensorflow:Assets written to: /home/paul_d/Sources/sem_math_repo/classification_formulas_multilabel/wandb/run-20230310_174937-zjlc9upv/files/model-best/assets\n"
     ]
    },
    {
     "name": "stdout",
     "output_type": "stream",
     "text": [
      "346/346 [==============================] - 7s 20ms/step - loss: 0.1331 - accuracy: 0.5883 - val_loss: 0.1483 - val_accuracy: 0.4947\n",
      "Epoch 13/70\n",
      "346/346 [==============================] - ETA: 0s - loss: 0.1330 - accuracy: 0.5912INFO:tensorflow:Assets written to: /home/paul_d/Sources/sem_math_repo/classification_formulas_multilabel/wandb/run-20230310_174937-zjlc9upv/files/model-best/assets\n"
     ]
    },
    {
     "name": "stderr",
     "output_type": "stream",
     "text": [
      "INFO:tensorflow:Assets written to: /home/paul_d/Sources/sem_math_repo/classification_formulas_multilabel/wandb/run-20230310_174937-zjlc9upv/files/model-best/assets\n"
     ]
    },
    {
     "name": "stdout",
     "output_type": "stream",
     "text": [
      "346/346 [==============================] - 7s 21ms/step - loss: 0.1330 - accuracy: 0.5912 - val_loss: 0.1471 - val_accuracy: 0.4951\n",
      "Epoch 14/70\n",
      "344/346 [============================>.] - ETA: 0s - loss: 0.1326 - accuracy: 0.5939INFO:tensorflow:Assets written to: /home/paul_d/Sources/sem_math_repo/classification_formulas_multilabel/wandb/run-20230310_174937-zjlc9upv/files/model-best/assets\n"
     ]
    },
    {
     "name": "stderr",
     "output_type": "stream",
     "text": [
      "INFO:tensorflow:Assets written to: /home/paul_d/Sources/sem_math_repo/classification_formulas_multilabel/wandb/run-20230310_174937-zjlc9upv/files/model-best/assets\n"
     ]
    },
    {
     "name": "stdout",
     "output_type": "stream",
     "text": [
      "346/346 [==============================] - 7s 20ms/step - loss: 0.1327 - accuracy: 0.5927 - val_loss: 0.1463 - val_accuracy: 0.4963\n",
      "Epoch 15/70\n",
      "344/346 [============================>.] - ETA: 0s - loss: 0.1326 - accuracy: 0.5926INFO:tensorflow:Assets written to: /home/paul_d/Sources/sem_math_repo/classification_formulas_multilabel/wandb/run-20230310_174937-zjlc9upv/files/model-best/assets\n"
     ]
    },
    {
     "name": "stderr",
     "output_type": "stream",
     "text": [
      "INFO:tensorflow:Assets written to: /home/paul_d/Sources/sem_math_repo/classification_formulas_multilabel/wandb/run-20230310_174937-zjlc9upv/files/model-best/assets\n"
     ]
    },
    {
     "name": "stdout",
     "output_type": "stream",
     "text": [
      "346/346 [==============================] - 7s 20ms/step - loss: 0.1326 - accuracy: 0.5918 - val_loss: 0.1453 - val_accuracy: 0.5066\n",
      "Epoch 16/70\n",
      "344/346 [============================>.] - ETA: 0s - loss: 0.1325 - accuracy: 0.5933INFO:tensorflow:Assets written to: /home/paul_d/Sources/sem_math_repo/classification_formulas_multilabel/wandb/run-20230310_174937-zjlc9upv/files/model-best/assets\n"
     ]
    },
    {
     "name": "stderr",
     "output_type": "stream",
     "text": [
      "INFO:tensorflow:Assets written to: /home/paul_d/Sources/sem_math_repo/classification_formulas_multilabel/wandb/run-20230310_174937-zjlc9upv/files/model-best/assets\n"
     ]
    },
    {
     "name": "stdout",
     "output_type": "stream",
     "text": [
      "346/346 [==============================] - 7s 20ms/step - loss: 0.1326 - accuracy: 0.5924 - val_loss: 0.1449 - val_accuracy: 0.5058\n",
      "Epoch 17/70\n",
      "346/346 [==============================] - ETA: 0s - loss: 0.1324 - accuracy: 0.5942INFO:tensorflow:Assets written to: /home/paul_d/Sources/sem_math_repo/classification_formulas_multilabel/wandb/run-20230310_174937-zjlc9upv/files/model-best/assets\n"
     ]
    },
    {
     "name": "stderr",
     "output_type": "stream",
     "text": [
      "INFO:tensorflow:Assets written to: /home/paul_d/Sources/sem_math_repo/classification_formulas_multilabel/wandb/run-20230310_174937-zjlc9upv/files/model-best/assets\n"
     ]
    },
    {
     "name": "stdout",
     "output_type": "stream",
     "text": [
      "346/346 [==============================] - 7s 20ms/step - loss: 0.1324 - accuracy: 0.5942 - val_loss: 0.1439 - val_accuracy: 0.5090\n",
      "Epoch 18/70\n",
      "344/346 [============================>.] - ETA: 0s - loss: 0.1321 - accuracy: 0.5960INFO:tensorflow:Assets written to: /home/paul_d/Sources/sem_math_repo/classification_formulas_multilabel/wandb/run-20230310_174937-zjlc9upv/files/model-best/assets\n"
     ]
    },
    {
     "name": "stderr",
     "output_type": "stream",
     "text": [
      "INFO:tensorflow:Assets written to: /home/paul_d/Sources/sem_math_repo/classification_formulas_multilabel/wandb/run-20230310_174937-zjlc9upv/files/model-best/assets\n"
     ]
    },
    {
     "name": "stdout",
     "output_type": "stream",
     "text": [
      "346/346 [==============================] - 7s 20ms/step - loss: 0.1322 - accuracy: 0.5947 - val_loss: 0.1435 - val_accuracy: 0.5074\n",
      "Epoch 19/70\n",
      "343/346 [============================>.] - ETA: 0s - loss: 0.1320 - accuracy: 0.5982INFO:tensorflow:Assets written to: /home/paul_d/Sources/sem_math_repo/classification_formulas_multilabel/wandb/run-20230310_174937-zjlc9upv/files/model-best/assets\n"
     ]
    },
    {
     "name": "stderr",
     "output_type": "stream",
     "text": [
      "INFO:tensorflow:Assets written to: /home/paul_d/Sources/sem_math_repo/classification_formulas_multilabel/wandb/run-20230310_174937-zjlc9upv/files/model-best/assets\n"
     ]
    },
    {
     "name": "stdout",
     "output_type": "stream",
     "text": [
      "346/346 [==============================] - 7s 20ms/step - loss: 0.1321 - accuracy: 0.5965 - val_loss: 0.1430 - val_accuracy: 0.5074\n",
      "Epoch 20/70\n",
      "346/346 [==============================] - ETA: 0s - loss: 0.1320 - accuracy: 0.5998INFO:tensorflow:Assets written to: /home/paul_d/Sources/sem_math_repo/classification_formulas_multilabel/wandb/run-20230310_174937-zjlc9upv/files/model-best/assets\n"
     ]
    },
    {
     "name": "stderr",
     "output_type": "stream",
     "text": [
      "INFO:tensorflow:Assets written to: /home/paul_d/Sources/sem_math_repo/classification_formulas_multilabel/wandb/run-20230310_174937-zjlc9upv/files/model-best/assets\n"
     ]
    },
    {
     "name": "stdout",
     "output_type": "stream",
     "text": [
      "346/346 [==============================] - 7s 20ms/step - loss: 0.1320 - accuracy: 0.5998 - val_loss: 0.1429 - val_accuracy: 0.5078\n",
      "Epoch 21/70\n",
      "343/346 [============================>.] - ETA: 0s - loss: 0.1320 - accuracy: 0.6005INFO:tensorflow:Assets written to: /home/paul_d/Sources/sem_math_repo/classification_formulas_multilabel/wandb/run-20230310_174937-zjlc9upv/files/model-best/assets\n"
     ]
    },
    {
     "name": "stderr",
     "output_type": "stream",
     "text": [
      "INFO:tensorflow:Assets written to: /home/paul_d/Sources/sem_math_repo/classification_formulas_multilabel/wandb/run-20230310_174937-zjlc9upv/files/model-best/assets\n"
     ]
    },
    {
     "name": "stdout",
     "output_type": "stream",
     "text": [
      "346/346 [==============================] - 7s 21ms/step - loss: 0.1321 - accuracy: 0.5987 - val_loss: 0.1418 - val_accuracy: 0.5140\n",
      "Epoch 22/70\n",
      "346/346 [==============================] - 6s 16ms/step - loss: 0.1319 - accuracy: 0.5972 - val_loss: 0.1420 - val_accuracy: 0.5119\n",
      "Epoch 23/70\n",
      "346/346 [==============================] - 6s 16ms/step - loss: 0.1319 - accuracy: 0.5987 - val_loss: 0.1426 - val_accuracy: 0.5123\n",
      "Epoch 24/70\n",
      "346/346 [==============================] - 6s 16ms/step - loss: 0.1320 - accuracy: 0.5969 - val_loss: 0.1419 - val_accuracy: 0.5140\n",
      "Epoch 25/70\n",
      "343/346 [============================>.] - ETA: 0s - loss: 0.1319 - accuracy: 0.5999INFO:tensorflow:Assets written to: /home/paul_d/Sources/sem_math_repo/classification_formulas_multilabel/wandb/run-20230310_174937-zjlc9upv/files/model-best/assets\n"
     ]
    },
    {
     "name": "stderr",
     "output_type": "stream",
     "text": [
      "INFO:tensorflow:Assets written to: /home/paul_d/Sources/sem_math_repo/classification_formulas_multilabel/wandb/run-20230310_174937-zjlc9upv/files/model-best/assets\n"
     ]
    },
    {
     "name": "stdout",
     "output_type": "stream",
     "text": [
      "346/346 [==============================] - 7s 20ms/step - loss: 0.1320 - accuracy: 0.5981 - val_loss: 0.1416 - val_accuracy: 0.5140\n",
      "Epoch 26/70\n",
      "346/346 [==============================] - ETA: 0s - loss: 0.1316 - accuracy: 0.5989INFO:tensorflow:Assets written to: /home/paul_d/Sources/sem_math_repo/classification_formulas_multilabel/wandb/run-20230310_174937-zjlc9upv/files/model-best/assets\n"
     ]
    },
    {
     "name": "stderr",
     "output_type": "stream",
     "text": [
      "INFO:tensorflow:Assets written to: /home/paul_d/Sources/sem_math_repo/classification_formulas_multilabel/wandb/run-20230310_174937-zjlc9upv/files/model-best/assets\n"
     ]
    },
    {
     "name": "stdout",
     "output_type": "stream",
     "text": [
      "346/346 [==============================] - 7s 20ms/step - loss: 0.1316 - accuracy: 0.5989 - val_loss: 0.1413 - val_accuracy: 0.5136\n",
      "Epoch 27/70\n",
      "343/346 [============================>.] - ETA: 0s - loss: 0.1317 - accuracy: 0.6000INFO:tensorflow:Assets written to: /home/paul_d/Sources/sem_math_repo/classification_formulas_multilabel/wandb/run-20230310_174937-zjlc9upv/files/model-best/assets\n"
     ]
    },
    {
     "name": "stderr",
     "output_type": "stream",
     "text": [
      "INFO:tensorflow:Assets written to: /home/paul_d/Sources/sem_math_repo/classification_formulas_multilabel/wandb/run-20230310_174937-zjlc9upv/files/model-best/assets\n"
     ]
    },
    {
     "name": "stdout",
     "output_type": "stream",
     "text": [
      "346/346 [==============================] - 7s 21ms/step - loss: 0.1318 - accuracy: 0.5980 - val_loss: 0.1407 - val_accuracy: 0.5156\n",
      "Epoch 28/70\n",
      "346/346 [==============================] - 6s 17ms/step - loss: 0.1317 - accuracy: 0.6026 - val_loss: 0.1420 - val_accuracy: 0.5144\n",
      "Epoch 29/70\n",
      "346/346 [==============================] - 6s 17ms/step - loss: 0.1317 - accuracy: 0.5969 - val_loss: 0.1415 - val_accuracy: 0.5152\n",
      "Epoch 30/70\n",
      "346/346 [==============================] - 6s 16ms/step - loss: 0.1317 - accuracy: 0.5996 - val_loss: 0.1412 - val_accuracy: 0.5173\n",
      "Epoch 31/70\n",
      "346/346 [==============================] - 6s 17ms/step - loss: 0.1318 - accuracy: 0.5964 - val_loss: 0.1409 - val_accuracy: 0.5185\n",
      "Epoch 32/70\n",
      "344/346 [============================>.] - ETA: 0s - loss: 0.1317 - accuracy: 0.5957INFO:tensorflow:Assets written to: /home/paul_d/Sources/sem_math_repo/classification_formulas_multilabel/wandb/run-20230310_174937-zjlc9upv/files/model-best/assets\n"
     ]
    },
    {
     "name": "stderr",
     "output_type": "stream",
     "text": [
      "INFO:tensorflow:Assets written to: /home/paul_d/Sources/sem_math_repo/classification_formulas_multilabel/wandb/run-20230310_174937-zjlc9upv/files/model-best/assets\n"
     ]
    },
    {
     "name": "stdout",
     "output_type": "stream",
     "text": [
      "346/346 [==============================] - 7s 21ms/step - loss: 0.1318 - accuracy: 0.5943 - val_loss: 0.1404 - val_accuracy: 0.5189\n",
      "Epoch 33/70\n",
      "344/346 [============================>.] - ETA: 0s - loss: 0.1314 - accuracy: 0.5980INFO:tensorflow:Assets written to: /home/paul_d/Sources/sem_math_repo/classification_formulas_multilabel/wandb/run-20230310_174937-zjlc9upv/files/model-best/assets\n"
     ]
    },
    {
     "name": "stderr",
     "output_type": "stream",
     "text": [
      "INFO:tensorflow:Assets written to: /home/paul_d/Sources/sem_math_repo/classification_formulas_multilabel/wandb/run-20230310_174937-zjlc9upv/files/model-best/assets\n"
     ]
    },
    {
     "name": "stdout",
     "output_type": "stream",
     "text": [
      "346/346 [==============================] - 7s 20ms/step - loss: 0.1316 - accuracy: 0.5970 - val_loss: 0.1393 - val_accuracy: 0.5173\n",
      "Epoch 34/70\n",
      "346/346 [==============================] - 6s 16ms/step - loss: 0.1318 - accuracy: 0.5945 - val_loss: 0.1399 - val_accuracy: 0.5197\n",
      "Epoch 35/70\n",
      "346/346 [==============================] - 6s 17ms/step - loss: 0.1316 - accuracy: 0.5989 - val_loss: 0.1397 - val_accuracy: 0.5197\n",
      "Epoch 36/70\n",
      "346/346 [==============================] - 6s 16ms/step - loss: 0.1316 - accuracy: 0.5960 - val_loss: 0.1395 - val_accuracy: 0.5226\n",
      "Epoch 37/70\n",
      "346/346 [==============================] - 6s 17ms/step - loss: 0.1316 - accuracy: 0.5967 - val_loss: 0.1405 - val_accuracy: 0.5189\n",
      "Epoch 38/70\n",
      "346/346 [==============================] - 6s 17ms/step - loss: 0.1316 - accuracy: 0.5961 - val_loss: 0.1394 - val_accuracy: 0.5222\n",
      "Epoch 39/70\n",
      "346/346 [==============================] - 6s 17ms/step - loss: 0.1316 - accuracy: 0.6016 - val_loss: 0.1397 - val_accuracy: 0.5222\n",
      "Epoch 40/70\n",
      "344/346 [============================>.] - ETA: 0s - loss: 0.1315 - accuracy: 0.5989INFO:tensorflow:Assets written to: /home/paul_d/Sources/sem_math_repo/classification_formulas_multilabel/wandb/run-20230310_174937-zjlc9upv/files/model-best/assets\n"
     ]
    },
    {
     "name": "stderr",
     "output_type": "stream",
     "text": [
      "INFO:tensorflow:Assets written to: /home/paul_d/Sources/sem_math_repo/classification_formulas_multilabel/wandb/run-20230310_174937-zjlc9upv/files/model-best/assets\n"
     ]
    },
    {
     "name": "stdout",
     "output_type": "stream",
     "text": [
      "346/346 [==============================] - 7s 20ms/step - loss: 0.1315 - accuracy: 0.5980 - val_loss: 0.1392 - val_accuracy: 0.5933\n",
      "Epoch 41/70\n",
      "346/346 [==============================] - 6s 17ms/step - loss: 0.1313 - accuracy: 0.6040 - val_loss: 0.1396 - val_accuracy: 0.5933\n",
      "Epoch 42/70\n",
      "346/346 [==============================] - 6s 16ms/step - loss: 0.1313 - accuracy: 0.6030 - val_loss: 0.1396 - val_accuracy: 0.5415\n",
      "Epoch 43/70\n",
      "344/346 [============================>.] - ETA: 0s - loss: 0.1314 - accuracy: 0.6022INFO:tensorflow:Assets written to: /home/paul_d/Sources/sem_math_repo/classification_formulas_multilabel/wandb/run-20230310_174937-zjlc9upv/files/model-best/assets\n"
     ]
    },
    {
     "name": "stderr",
     "output_type": "stream",
     "text": [
      "INFO:tensorflow:Assets written to: /home/paul_d/Sources/sem_math_repo/classification_formulas_multilabel/wandb/run-20230310_174937-zjlc9upv/files/model-best/assets\n"
     ]
    },
    {
     "name": "stdout",
     "output_type": "stream",
     "text": [
      "346/346 [==============================] - 7s 21ms/step - loss: 0.1314 - accuracy: 0.6004 - val_loss: 0.1389 - val_accuracy: 0.5230\n",
      "Epoch 44/70\n",
      "346/346 [==============================] - 6s 17ms/step - loss: 0.1314 - accuracy: 0.5938 - val_loss: 0.1398 - val_accuracy: 0.5222\n",
      "Epoch 45/70\n",
      "346/346 [==============================] - 6s 17ms/step - loss: 0.1313 - accuracy: 0.5965 - val_loss: 0.1398 - val_accuracy: 0.5218\n",
      "Epoch 46/70\n",
      "346/346 [==============================] - 6s 16ms/step - loss: 0.1314 - accuracy: 0.5963 - val_loss: 0.1389 - val_accuracy: 0.5415\n",
      "Epoch 47/70\n",
      "346/346 [==============================] - 6s 17ms/step - loss: 0.1314 - accuracy: 0.5984 - val_loss: 0.1395 - val_accuracy: 0.5909\n",
      "Epoch 48/70\n",
      "346/346 [==============================] - 6s 17ms/step - loss: 0.1315 - accuracy: 0.5999 - val_loss: 0.1400 - val_accuracy: 0.5921\n",
      "Epoch 49/70\n",
      "346/346 [==============================] - 6s 17ms/step - loss: 0.1314 - accuracy: 0.6000 - val_loss: 0.1398 - val_accuracy: 0.5938\n",
      "Epoch 50/70\n",
      "346/346 [==============================] - 6s 17ms/step - loss: 0.1313 - accuracy: 0.6004 - val_loss: 0.1391 - val_accuracy: 0.5917\n",
      "Epoch 51/70\n",
      "346/346 [==============================] - 6s 16ms/step - loss: 0.1311 - accuracy: 0.5999 - val_loss: 0.1403 - val_accuracy: 0.5900\n",
      "Epoch 52/70\n",
      "346/346 [==============================] - 6s 17ms/step - loss: 0.1312 - accuracy: 0.6006 - val_loss: 0.1393 - val_accuracy: 0.5933\n",
      "Epoch 53/70\n",
      "346/346 [==============================] - 6s 17ms/step - loss: 0.1311 - accuracy: 0.6040 - val_loss: 0.1396 - val_accuracy: 0.7936\n",
      "Epoch 54/70\n",
      "346/346 [==============================] - 6s 17ms/step - loss: 0.1311 - accuracy: 0.6061 - val_loss: 0.1397 - val_accuracy: 0.7932\n",
      "Epoch 55/70\n",
      "346/346 [==============================] - 6s 17ms/step - loss: 0.1310 - accuracy: 0.6042 - val_loss: 0.1407 - val_accuracy: 0.7948\n",
      "Epoch 56/70\n",
      "346/346 [==============================] - 6s 17ms/step - loss: 0.1311 - accuracy: 0.6009 - val_loss: 0.1397 - val_accuracy: 0.7948\n",
      "Epoch 57/70\n",
      "346/346 [==============================] - 6s 18ms/step - loss: 0.1308 - accuracy: 0.6109 - val_loss: 0.1394 - val_accuracy: 0.7948\n",
      "Epoch 58/70\n",
      "346/346 [==============================] - 6s 18ms/step - loss: 0.1310 - accuracy: 0.6056 - val_loss: 0.1401 - val_accuracy: 0.7940\n",
      "Epoch 59/70\n",
      "346/346 [==============================] - 6s 17ms/step - loss: 0.1310 - accuracy: 0.6070 - val_loss: 0.1397 - val_accuracy: 0.7944\n",
      "Epoch 60/70\n",
      "346/346 [==============================] - 6s 17ms/step - loss: 0.1308 - accuracy: 0.6107 - val_loss: 0.1399 - val_accuracy: 0.7956\n",
      "Epoch 61/70\n",
      "346/346 [==============================] - 6s 17ms/step - loss: 0.1309 - accuracy: 0.6071 - val_loss: 0.1395 - val_accuracy: 0.7940\n",
      "Epoch 62/70\n",
      "346/346 [==============================] - 6s 17ms/step - loss: 0.1307 - accuracy: 0.6111 - val_loss: 0.1404 - val_accuracy: 0.7940\n",
      "Epoch 63/70\n",
      "346/346 [==============================] - 6s 18ms/step - loss: 0.1307 - accuracy: 0.6129 - val_loss: 0.1401 - val_accuracy: 0.7952\n",
      "Epoch 64/70\n",
      "346/346 [==============================] - 6s 17ms/step - loss: 0.1308 - accuracy: 0.6154 - val_loss: 0.1393 - val_accuracy: 0.7952\n",
      "Epoch 65/70\n",
      "346/346 [==============================] - 6s 18ms/step - loss: 0.1304 - accuracy: 0.6168 - val_loss: 0.1399 - val_accuracy: 0.7956\n",
      "Epoch 66/70\n",
      "346/346 [==============================] - 6s 17ms/step - loss: 0.1307 - accuracy: 0.6170 - val_loss: 0.1402 - val_accuracy: 0.7956\n",
      "Epoch 67/70\n",
      "346/346 [==============================] - 6s 17ms/step - loss: 0.1304 - accuracy: 0.6174 - val_loss: 0.1403 - val_accuracy: 0.7948\n",
      "Epoch 68/70\n",
      "346/346 [==============================] - 6s 17ms/step - loss: 0.1305 - accuracy: 0.6178 - val_loss: 0.1403 - val_accuracy: 0.7952\n",
      "Epoch 69/70\n",
      "346/346 [==============================] - 6s 17ms/step - loss: 0.1303 - accuracy: 0.6234 - val_loss: 0.1395 - val_accuracy: 0.7952\n",
      "Epoch 70/70\n",
      "346/346 [==============================] - 6s 17ms/step - loss: 0.1303 - accuracy: 0.6268 - val_loss: 0.1399 - val_accuracy: 0.7969\n"
     ]
    }
   ],
   "source": [
    "configs_dict = {\n",
    "    \"learning_rate\": LEARNING_RATE,\n",
    "    \"algorithm\": \"LogReg\",\n",
    "    \"configuration\": \"small-ordinary-unbalanced-all-inputs\",\n",
    "    \"optimizer\": \"adam\",\n",
    "    \"loss\": \"binary_crossentropy\",\n",
    "    \"epochs\": NUM_EPOCHS,\n",
    "    \"batch_size\": 64,\n",
    "    \"vectorizer\": \"int\",\n",
    "    \"dataset\": \"multi_class_unbalanced_data_TOKENIZED_V1\"\n",
    "}\n",
    "\n",
    "run = wandb.init(project=wandb_project_name, reinit=True, config=configs_dict)\n",
    "\n",
    "history = model.fit(train_dataset, \n",
    "                    epochs=NUM_EPOCHS,\n",
    "                    validation_data=test_dataset,\n",
    "                    #steps_per_epoch = STEPS_PER_EPOCH,\n",
    "                    validation_steps = VAL_STEPS_PER_EPOCH,\n",
    "                    callbacks= [WandbCallback()])#[tensorboard_callback])\n",
    "run.finish()"
   ]
  },
  {
   "cell_type": "code",
   "execution_count": 30,
   "metadata": {},
   "outputs": [
    {
     "name": "stdout",
     "output_type": "stream",
     "text": [
      "38/38 [==============================] - 0s 3ms/step - loss: 0.1399 - accuracy: 0.7969\n",
      "Test Loss: 0.13989709317684174\n",
      "Test Accuracy: 0.796875\n"
     ]
    }
   ],
   "source": [
    "test_loss, test_acc = model.evaluate(test_dataset)\n",
    "\n",
    "print(\"Test Loss:\", test_loss)\n",
    "print(\"Test Accuracy:\", test_acc)"
   ]
  },
  {
   "cell_type": "code",
   "execution_count": 31,
   "metadata": {},
   "outputs": [
    {
     "data": {
      "text/plain": [
       "(0.0, 0.29241873025894166)"
      ]
     },
     "execution_count": 31,
     "metadata": {},
     "output_type": "execute_result"
    },
    {
     "data": {
      "image/png": "[encoded data removed]",
      "text/plain": [
       "<Figure size 1600x800 with 2 Axes>"
      ]
     },
     "metadata": {},
     "output_type": "display_data"
    }
   ],
   "source": [
    "plt.figure(figsize=(16,8))\n",
    "plt.subplot(1,2,1)\n",
    "plot_graphs(history, \"accuracy\")\n",
    "plt.ylim(None, 1)\n",
    "plt.subplot(1,2,2)\n",
    "plot_graphs(history, \"loss\")\n",
    "plt.ylim(0, None)"
   ]
  },
  {
   "cell_type": "code",
   "execution_count": 32,
   "metadata": {},
   "outputs": [
    {
     "data": {
      "text/plain": [
       "'\\npredictions = model.predict((np.array([example_token]), np.array([example_type])))\\nprint(predictions[0])\\n'"
      ]
     },
     "execution_count": 32,
     "metadata": {},
     "output_type": "execute_result"
    }
   ],
   "source": [
    "\n",
    "# predict on a sample text without padding\n",
    "\"\"\"\n",
    "predictions = model.predict((np.array([example_token]), np.array([example_type])))\n",
    "print(predictions[0])\n",
    "\"\"\""
   ]
  },
  {
   "attachments": {},
   "cell_type": "markdown",
   "metadata": {},
   "source": [
    "##### Experiment 2:"
   ]
  },
  {
   "cell_type": "code",
   "execution_count": 41,
   "metadata": {},
   "outputs": [],
   "source": [
    "tokens_input_len = TOKENS_PAD_TO_MAX_TOKENS \n",
    "type_input_len = TYPE_TOKENS_PAD_TO_MAX_TOKENS\n",
    "\n",
    "model = create_model(encoder_count_tokens, encoder_count_types,tokens_input_len, type_input_len, \"float\") # maybe add 30\n",
    "# predict on a sample formula using untrained model\n",
    "#predictions = model.predict(np.array([sample_text]))\n",
    "#print(predictions[0])"
   ]
  },
  {
   "cell_type": "code",
   "execution_count": 42,
   "metadata": {},
   "outputs": [],
   "source": [
    "LEARNING_RATE = 1e-3\n",
    "NUM_EPOCHS = 80\n",
    "model.compile(loss=tf.keras.losses.BinaryCrossentropy(from_logits=True),\n",
    "              optimizer=tf.keras.optimizers.Adam(LEARNING_RATE),\n",
    "              metrics=[\"accuracy\"])"
   ]
  },
  {
   "cell_type": "code",
   "execution_count": 43,
   "metadata": {},
   "outputs": [
    {
     "data": {
      "application/vnd.jupyter.widget-view+json": {
       "model_id": "6de3271e4199401292bfcf0096a76a28",
       "version_major": 2,
       "version_minor": 0
      },
      "text/plain": [
       "VBox(children=(Label(value='Waiting for wandb.init()...\\r'), FloatProgress(value=0.01666865526664575, max=1.0)…"
      ]
     },
     "metadata": {},
     "output_type": "display_data"
    },
    {
     "name": "stdout",
     "output_type": "stream",
     "text": [
      "Epoch 1/200\n",
      "341/346 [============================>.] - ETA: 0s - loss: 0.1375 - accuracy: 0.7719INFO:tensorflow:Assets written to: /home/paul_d/Sources/sem_math_repo/classification_formulas_multilabel/wandb/run-20230310_212126-qyqrkbrj/files/model-best/assets\n"
     ]
    },
    {
     "name": "stderr",
     "output_type": "stream",
     "text": [
      "INFO:tensorflow:Assets written to: /home/paul_d/Sources/sem_math_repo/classification_formulas_multilabel/wandb/run-20230310_212126-qyqrkbrj/files/model-best/assets\n"
     ]
    },
    {
     "name": "stdout",
     "output_type": "stream",
     "text": [
      "346/346 [==============================] - 5s 14ms/step - loss: 0.1375 - accuracy: 0.7663 - val_loss: 0.2267 - val_accuracy: 0.0000e+00\n",
      "Epoch 2/200\n",
      "342/346 [============================>.] - ETA: 0s - loss: 0.1212 - accuracy: 0.7452INFO:tensorflow:Assets written to: /home/paul_d/Sources/sem_math_repo/classification_formulas_multilabel/wandb/run-20230310_212126-qyqrkbrj/files/model-best/assets\n"
     ]
    },
    {
     "name": "stderr",
     "output_type": "stream",
     "text": [
      "INFO:tensorflow:Assets written to: /home/paul_d/Sources/sem_math_repo/classification_formulas_multilabel/wandb/run-20230310_212126-qyqrkbrj/files/model-best/assets\n"
     ]
    },
    {
     "name": "stdout",
     "output_type": "stream",
     "text": [
      "346/346 [==============================] - 5s 13ms/step - loss: 0.1214 - accuracy: 0.7420 - val_loss: 0.2102 - val_accuracy: 0.0000e+00\n",
      "Epoch 3/200\n",
      "346/346 [==============================] - 4s 11ms/step - loss: 0.1221 - accuracy: 0.7341 - val_loss: 0.2143 - val_accuracy: 0.0000e+00\n",
      "Epoch 4/200\n",
      "346/346 [==============================] - 4s 11ms/step - loss: 0.1229 - accuracy: 0.7334 - val_loss: 0.2170 - val_accuracy: 0.0000e+00\n",
      "Epoch 5/200\n",
      "346/346 [==============================] - 4s 12ms/step - loss: 0.1261 - accuracy: 0.7199 - val_loss: 0.2137 - val_accuracy: 0.0000e+00\n",
      "Epoch 6/200\n",
      "346/346 [==============================] - ETA: 0s - loss: 0.1299 - accuracy: 0.6845INFO:tensorflow:Assets written to: /home/paul_d/Sources/sem_math_repo/classification_formulas_multilabel/wandb/run-20230310_212126-qyqrkbrj/files/model-best/assets\n"
     ]
    },
    {
     "name": "stderr",
     "output_type": "stream",
     "text": [
      "INFO:tensorflow:Assets written to: /home/paul_d/Sources/sem_math_repo/classification_formulas_multilabel/wandb/run-20230310_212126-qyqrkbrj/files/model-best/assets\n"
     ]
    },
    {
     "name": "stdout",
     "output_type": "stream",
     "text": [
      "346/346 [==============================] - 5s 15ms/step - loss: 0.1299 - accuracy: 0.6845 - val_loss: 0.2071 - val_accuracy: 0.0000e+00\n",
      "Epoch 7/200\n",
      "342/346 [============================>.] - ETA: 0s - loss: 0.1364 - accuracy: 0.6441INFO:tensorflow:Assets written to: /home/paul_d/Sources/sem_math_repo/classification_formulas_multilabel/wandb/run-20230310_212126-qyqrkbrj/files/model-best/assets\n"
     ]
    },
    {
     "name": "stderr",
     "output_type": "stream",
     "text": [
      "INFO:tensorflow:Assets written to: /home/paul_d/Sources/sem_math_repo/classification_formulas_multilabel/wandb/run-20230310_212126-qyqrkbrj/files/model-best/assets\n"
     ]
    },
    {
     "name": "stdout",
     "output_type": "stream",
     "text": [
      "346/346 [==============================] - 5s 15ms/step - loss: 0.1364 - accuracy: 0.6408 - val_loss: 0.1916 - val_accuracy: 0.0000e+00\n",
      "Epoch 8/200\n",
      "341/346 [============================>.] - ETA: 0s - loss: 0.1470 - accuracy: 0.5075INFO:tensorflow:Assets written to: /home/paul_d/Sources/sem_math_repo/classification_formulas_multilabel/wandb/run-20230310_212126-qyqrkbrj/files/model-best/assets\n"
     ]
    },
    {
     "name": "stderr",
     "output_type": "stream",
     "text": [
      "INFO:tensorflow:Assets written to: /home/paul_d/Sources/sem_math_repo/classification_formulas_multilabel/wandb/run-20230310_212126-qyqrkbrj/files/model-best/assets\n"
     ]
    },
    {
     "name": "stdout",
     "output_type": "stream",
     "text": [
      "346/346 [==============================] - 4s 12ms/step - loss: 0.1471 - accuracy: 0.5051 - val_loss: 0.1714 - val_accuracy: 0.0000e+00\n",
      "Epoch 9/200\n",
      "341/346 [============================>.] - ETA: 0s - loss: 0.1477 - accuracy: 0.4172INFO:tensorflow:Assets written to: /home/paul_d/Sources/sem_math_repo/classification_formulas_multilabel/wandb/run-20230310_212126-qyqrkbrj/files/model-best/assets\n"
     ]
    },
    {
     "name": "stderr",
     "output_type": "stream",
     "text": [
      "INFO:tensorflow:Assets written to: /home/paul_d/Sources/sem_math_repo/classification_formulas_multilabel/wandb/run-20230310_212126-qyqrkbrj/files/model-best/assets\n"
     ]
    },
    {
     "name": "stdout",
     "output_type": "stream",
     "text": [
      "346/346 [==============================] - 5s 13ms/step - loss: 0.1478 - accuracy: 0.4162 - val_loss: 0.1646 - val_accuracy: 0.0000e+00\n",
      "Epoch 10/200\n",
      "345/346 [============================>.] - ETA: 0s - loss: 0.1481 - accuracy: 0.3832INFO:tensorflow:Assets written to: /home/paul_d/Sources/sem_math_repo/classification_formulas_multilabel/wandb/run-20230310_212126-qyqrkbrj/files/model-best/assets\n"
     ]
    },
    {
     "name": "stderr",
     "output_type": "stream",
     "text": [
      "INFO:tensorflow:Assets written to: /home/paul_d/Sources/sem_math_repo/classification_formulas_multilabel/wandb/run-20230310_212126-qyqrkbrj/files/model-best/assets\n"
     ]
    },
    {
     "name": "stdout",
     "output_type": "stream",
     "text": [
      "346/346 [==============================] - 5s 13ms/step - loss: 0.1481 - accuracy: 0.3833 - val_loss: 0.1621 - val_accuracy: 0.0000e+00\n",
      "Epoch 11/200\n",
      "345/346 [============================>.] - ETA: 0s - loss: 0.1481 - accuracy: 0.3767INFO:tensorflow:Assets written to: /home/paul_d/Sources/sem_math_repo/classification_formulas_multilabel/wandb/run-20230310_212126-qyqrkbrj/files/model-best/assets\n"
     ]
    },
    {
     "name": "stderr",
     "output_type": "stream",
     "text": [
      "INFO:tensorflow:Assets written to: /home/paul_d/Sources/sem_math_repo/classification_formulas_multilabel/wandb/run-20230310_212126-qyqrkbrj/files/model-best/assets\n"
     ]
    },
    {
     "name": "stdout",
     "output_type": "stream",
     "text": [
      "346/346 [==============================] - 5s 13ms/step - loss: 0.1481 - accuracy: 0.3767 - val_loss: 0.1611 - val_accuracy: 0.0000e+00\n",
      "Epoch 12/200\n",
      "344/346 [============================>.] - ETA: 0s - loss: 0.1482 - accuracy: 0.3728INFO:tensorflow:Assets written to: /home/paul_d/Sources/sem_math_repo/classification_formulas_multilabel/wandb/run-20230310_212126-qyqrkbrj/files/model-best/assets\n"
     ]
    },
    {
     "name": "stderr",
     "output_type": "stream",
     "text": [
      "INFO:tensorflow:Assets written to: /home/paul_d/Sources/sem_math_repo/classification_formulas_multilabel/wandb/run-20230310_212126-qyqrkbrj/files/model-best/assets\n"
     ]
    },
    {
     "name": "stdout",
     "output_type": "stream",
     "text": [
      "346/346 [==============================] - 5s 15ms/step - loss: 0.1482 - accuracy: 0.3729 - val_loss: 0.1605 - val_accuracy: 0.0000e+00\n",
      "Epoch 13/200\n",
      "341/346 [============================>.] - ETA: 0s - loss: 0.1481 - accuracy: 0.3704INFO:tensorflow:Assets written to: /home/paul_d/Sources/sem_math_repo/classification_formulas_multilabel/wandb/run-20230310_212126-qyqrkbrj/files/model-best/assets\n"
     ]
    },
    {
     "name": "stderr",
     "output_type": "stream",
     "text": [
      "INFO:tensorflow:Assets written to: /home/paul_d/Sources/sem_math_repo/classification_formulas_multilabel/wandb/run-20230310_212126-qyqrkbrj/files/model-best/assets\n"
     ]
    },
    {
     "name": "stdout",
     "output_type": "stream",
     "text": [
      "346/346 [==============================] - 4s 13ms/step - loss: 0.1482 - accuracy: 0.3707 - val_loss: 0.1601 - val_accuracy: 0.0000e+00\n",
      "Epoch 14/200\n",
      "342/346 [============================>.] - ETA: 0s - loss: 0.1480 - accuracy: 0.3686INFO:tensorflow:Assets written to: /home/paul_d/Sources/sem_math_repo/classification_formulas_multilabel/wandb/run-20230310_212126-qyqrkbrj/files/model-best/assets\n"
     ]
    },
    {
     "name": "stderr",
     "output_type": "stream",
     "text": [
      "INFO:tensorflow:Assets written to: /home/paul_d/Sources/sem_math_repo/classification_formulas_multilabel/wandb/run-20230310_212126-qyqrkbrj/files/model-best/assets\n"
     ]
    },
    {
     "name": "stdout",
     "output_type": "stream",
     "text": [
      "346/346 [==============================] - 4s 13ms/step - loss: 0.1481 - accuracy: 0.3682 - val_loss: 0.1600 - val_accuracy: 0.0000e+00\n",
      "Epoch 15/200\n",
      "342/346 [============================>.] - ETA: 0s - loss: 0.1481 - accuracy: 0.3658INFO:tensorflow:Assets written to: /home/paul_d/Sources/sem_math_repo/classification_formulas_multilabel/wandb/run-20230310_212126-qyqrkbrj/files/model-best/assets\n"
     ]
    },
    {
     "name": "stderr",
     "output_type": "stream",
     "text": [
      "INFO:tensorflow:Assets written to: /home/paul_d/Sources/sem_math_repo/classification_formulas_multilabel/wandb/run-20230310_212126-qyqrkbrj/files/model-best/assets\n"
     ]
    },
    {
     "name": "stdout",
     "output_type": "stream",
     "text": [
      "346/346 [==============================] - 4s 13ms/step - loss: 0.1482 - accuracy: 0.3657 - val_loss: 0.1596 - val_accuracy: 0.0000e+00\n",
      "Epoch 16/200\n",
      "346/346 [==============================] - 3s 9ms/step - loss: 0.1482 - accuracy: 0.3676 - val_loss: 0.1597 - val_accuracy: 0.0000e+00\n",
      "Epoch 17/200\n",
      "342/346 [============================>.] - ETA: 0s - loss: 0.1482 - accuracy: 0.3654INFO:tensorflow:Assets written to: /home/paul_d/Sources/sem_math_repo/classification_formulas_multilabel/wandb/run-20230310_212126-qyqrkbrj/files/model-best/assets\n"
     ]
    },
    {
     "name": "stderr",
     "output_type": "stream",
     "text": [
      "INFO:tensorflow:Assets written to: /home/paul_d/Sources/sem_math_repo/classification_formulas_multilabel/wandb/run-20230310_212126-qyqrkbrj/files/model-best/assets\n"
     ]
    },
    {
     "name": "stdout",
     "output_type": "stream",
     "text": [
      "346/346 [==============================] - 4s 13ms/step - loss: 0.1483 - accuracy: 0.3656 - val_loss: 0.1595 - val_accuracy: 0.0000e+00\n",
      "Epoch 18/200\n",
      "346/346 [==============================] - 3s 9ms/step - loss: 0.1483 - accuracy: 0.3619 - val_loss: 0.1597 - val_accuracy: 0.0000e+00\n",
      "Epoch 19/200\n",
      "343/346 [============================>.] - ETA: 0s - loss: 0.1483 - accuracy: 0.3625INFO:tensorflow:Assets written to: /home/paul_d/Sources/sem_math_repo/classification_formulas_multilabel/wandb/run-20230310_212126-qyqrkbrj/files/model-best/assets\n"
     ]
    },
    {
     "name": "stderr",
     "output_type": "stream",
     "text": [
      "INFO:tensorflow:Assets written to: /home/paul_d/Sources/sem_math_repo/classification_formulas_multilabel/wandb/run-20230310_212126-qyqrkbrj/files/model-best/assets\n"
     ]
    },
    {
     "name": "stdout",
     "output_type": "stream",
     "text": [
      "346/346 [==============================] - 5s 16ms/step - loss: 0.1483 - accuracy: 0.3624 - val_loss: 0.1595 - val_accuracy: 0.0000e+00\n",
      "Epoch 20/200\n",
      "346/346 [==============================] - 3s 9ms/step - loss: 0.1484 - accuracy: 0.3603 - val_loss: 0.1597 - val_accuracy: 0.0000e+00\n",
      "Epoch 21/200\n",
      "346/346 [==============================] - 3s 9ms/step - loss: 0.1483 - accuracy: 0.3614 - val_loss: 0.1596 - val_accuracy: 0.0000e+00\n",
      "Epoch 22/200\n",
      "346/346 [==============================] - 3s 9ms/step - loss: 0.1483 - accuracy: 0.3627 - val_loss: 0.1597 - val_accuracy: 0.0000e+00\n",
      "Epoch 23/200\n",
      "346/346 [==============================] - 3s 9ms/step - loss: 0.1483 - accuracy: 0.3625 - val_loss: 0.1600 - val_accuracy: 0.0000e+00\n",
      "Epoch 24/200\n",
      "346/346 [==============================] - 3s 9ms/step - loss: 0.1483 - accuracy: 0.3621 - val_loss: 0.1598 - val_accuracy: 0.0000e+00\n",
      "Epoch 25/200\n",
      "346/346 [==============================] - 4s 11ms/step - loss: 0.1483 - accuracy: 0.3605 - val_loss: 0.1601 - val_accuracy: 0.0000e+00\n",
      "Epoch 26/200\n",
      "346/346 [==============================] - 3s 9ms/step - loss: 0.1484 - accuracy: 0.3628 - val_loss: 0.1607 - val_accuracy: 0.0000e+00\n",
      "Epoch 27/200\n",
      "346/346 [==============================] - 3s 9ms/step - loss: 0.1484 - accuracy: 0.3628 - val_loss: 0.1611 - val_accuracy: 0.0000e+00\n",
      "Epoch 28/200\n",
      "346/346 [==============================] - 3s 8ms/step - loss: 0.1483 - accuracy: 0.3641 - val_loss: 0.1613 - val_accuracy: 0.0000e+00\n",
      "Epoch 29/200\n",
      "346/346 [==============================] - 3s 9ms/step - loss: 0.1483 - accuracy: 0.3621 - val_loss: 0.1607 - val_accuracy: 0.0000e+00\n",
      "Epoch 30/200\n",
      "346/346 [==============================] - 3s 9ms/step - loss: 0.1484 - accuracy: 0.3626 - val_loss: 0.1615 - val_accuracy: 0.0000e+00\n",
      "Epoch 31/200\n",
      "346/346 [==============================] - 3s 9ms/step - loss: 0.1483 - accuracy: 0.3622 - val_loss: 0.1620 - val_accuracy: 0.0000e+00\n",
      "Epoch 32/200\n",
      "346/346 [==============================] - 3s 9ms/step - loss: 0.1483 - accuracy: 0.3602 - val_loss: 0.1621 - val_accuracy: 0.0000e+00\n",
      "Epoch 33/200\n",
      "346/346 [==============================] - 3s 9ms/step - loss: 0.1484 - accuracy: 0.3613 - val_loss: 0.1617 - val_accuracy: 0.0000e+00\n",
      "Epoch 34/200\n",
      "346/346 [==============================] - 3s 10ms/step - loss: 0.1484 - accuracy: 0.3606 - val_loss: 0.1624 - val_accuracy: 0.0000e+00\n",
      "Epoch 35/200\n",
      "346/346 [==============================] - 3s 9ms/step - loss: 0.1483 - accuracy: 0.3622 - val_loss: 0.1627 - val_accuracy: 0.0000e+00\n",
      "Epoch 36/200\n",
      "346/346 [==============================] - 3s 9ms/step - loss: 0.1484 - accuracy: 0.3623 - val_loss: 0.1634 - val_accuracy: 0.0000e+00\n",
      "Epoch 37/200\n",
      "346/346 [==============================] - 3s 10ms/step - loss: 0.1484 - accuracy: 0.3621 - val_loss: 0.1642 - val_accuracy: 0.0000e+00\n",
      "Epoch 38/200\n",
      "346/346 [==============================] - 3s 9ms/step - loss: 0.1483 - accuracy: 0.3598 - val_loss: 0.1648 - val_accuracy: 0.0000e+00\n",
      "Epoch 39/200\n",
      "346/346 [==============================] - 3s 8ms/step - loss: 0.1483 - accuracy: 0.3616 - val_loss: 0.1657 - val_accuracy: 0.0000e+00\n",
      "Epoch 40/200\n",
      "346/346 [==============================] - 3s 9ms/step - loss: 0.1483 - accuracy: 0.3589 - val_loss: 0.1661 - val_accuracy: 0.0000e+00\n",
      "Epoch 41/200\n",
      "346/346 [==============================] - 3s 10ms/step - loss: 0.1484 - accuracy: 0.3596 - val_loss: 0.1664 - val_accuracy: 0.0000e+00\n",
      "Epoch 42/200\n",
      "346/346 [==============================] - 3s 9ms/step - loss: 0.1483 - accuracy: 0.3625 - val_loss: 0.1670 - val_accuracy: 0.0000e+00\n",
      "Epoch 43/200\n",
      "346/346 [==============================] - 3s 9ms/step - loss: 0.1483 - accuracy: 0.3624 - val_loss: 0.1676 - val_accuracy: 0.0000e+00\n",
      "Epoch 44/200\n",
      "346/346 [==============================] - 3s 9ms/step - loss: 0.1483 - accuracy: 0.3601 - val_loss: 0.1683 - val_accuracy: 0.0000e+00\n",
      "Epoch 45/200\n",
      "346/346 [==============================] - 3s 9ms/step - loss: 0.1483 - accuracy: 0.3611 - val_loss: 0.1690 - val_accuracy: 0.0000e+00\n",
      "Epoch 46/200\n",
      "346/346 [==============================] - 3s 8ms/step - loss: 0.1484 - accuracy: 0.3632 - val_loss: 0.1696 - val_accuracy: 0.5498\n",
      "Epoch 47/200\n",
      "346/346 [==============================] - 3s 8ms/step - loss: 0.1483 - accuracy: 0.3623 - val_loss: 0.1711 - val_accuracy: 0.5498\n",
      "Epoch 48/200\n",
      "346/346 [==============================] - 3s 9ms/step - loss: 0.1483 - accuracy: 0.3625 - val_loss: 0.1710 - val_accuracy: 0.5498\n",
      "Epoch 49/200\n",
      "346/346 [==============================] - 3s 9ms/step - loss: 0.1484 - accuracy: 0.3599 - val_loss: 0.1724 - val_accuracy: 0.0000e+00\n",
      "Epoch 50/200\n",
      "346/346 [==============================] - 3s 9ms/step - loss: 0.1483 - accuracy: 0.3622 - val_loss: 0.1736 - val_accuracy: 0.0000e+00\n",
      "Epoch 51/200\n",
      "346/346 [==============================] - 3s 9ms/step - loss: 0.1484 - accuracy: 0.3610 - val_loss: 0.1737 - val_accuracy: 0.5498\n",
      "Epoch 52/200\n",
      "346/346 [==============================] - 3s 9ms/step - loss: 0.1483 - accuracy: 0.3623 - val_loss: 0.1739 - val_accuracy: 0.5498\n",
      "Epoch 53/200\n",
      "346/346 [==============================] - 3s 9ms/step - loss: 0.1483 - accuracy: 0.3623 - val_loss: 0.1740 - val_accuracy: 0.5498\n",
      "Epoch 54/200\n",
      "346/346 [==============================] - 3s 9ms/step - loss: 0.1483 - accuracy: 0.3615 - val_loss: 0.1748 - val_accuracy: 0.5498\n",
      "Epoch 55/200\n",
      "346/346 [==============================] - 3s 9ms/step - loss: 0.1483 - accuracy: 0.3612 - val_loss: 0.1753 - val_accuracy: 0.5498\n",
      "Epoch 56/200\n",
      "346/346 [==============================] - 3s 9ms/step - loss: 0.1483 - accuracy: 0.3609 - val_loss: 0.1759 - val_accuracy: 0.5498\n",
      "Epoch 57/200\n",
      "346/346 [==============================] - 4s 11ms/step - loss: 0.1483 - accuracy: 0.3610 - val_loss: 0.1773 - val_accuracy: 0.5498\n",
      "Epoch 58/200\n",
      "346/346 [==============================] - 3s 10ms/step - loss: 0.1484 - accuracy: 0.3629 - val_loss: 0.1786 - val_accuracy: 0.5498\n",
      "Epoch 59/200\n",
      "346/346 [==============================] - 4s 10ms/step - loss: 0.1484 - accuracy: 0.3600 - val_loss: 0.1784 - val_accuracy: 0.5498\n",
      "Epoch 60/200\n",
      "346/346 [==============================] - 3s 9ms/step - loss: 0.1483 - accuracy: 0.3626 - val_loss: 0.1789 - val_accuracy: 0.5498\n",
      "Epoch 61/200\n",
      "346/346 [==============================] - 3s 9ms/step - loss: 0.1484 - accuracy: 0.3619 - val_loss: 0.1792 - val_accuracy: 0.5736\n",
      "Epoch 62/200\n",
      "346/346 [==============================] - 3s 9ms/step - loss: 0.1484 - accuracy: 0.3600 - val_loss: 0.1801 - val_accuracy: 0.5498\n",
      "Epoch 63/200\n",
      "346/346 [==============================] - 3s 9ms/step - loss: 0.1484 - accuracy: 0.3596 - val_loss: 0.1808 - val_accuracy: 0.5498\n",
      "Epoch 64/200\n",
      "346/346 [==============================] - 3s 9ms/step - loss: 0.1484 - accuracy: 0.3611 - val_loss: 0.1811 - val_accuracy: 0.5502\n",
      "Epoch 65/200\n",
      "346/346 [==============================] - 3s 10ms/step - loss: 0.1484 - accuracy: 0.3603 - val_loss: 0.1816 - val_accuracy: 0.5502\n",
      "Epoch 66/200\n",
      "346/346 [==============================] - 3s 9ms/step - loss: 0.1484 - accuracy: 0.3590 - val_loss: 0.1825 - val_accuracy: 0.5740\n",
      "Epoch 67/200\n",
      "346/346 [==============================] - 3s 9ms/step - loss: 0.1484 - accuracy: 0.3578 - val_loss: 0.1830 - val_accuracy: 0.9293\n",
      "Epoch 68/200\n",
      "346/346 [==============================] - 3s 9ms/step - loss: 0.1485 - accuracy: 0.3567 - val_loss: 0.1838 - val_accuracy: 0.5740\n",
      "Epoch 69/200\n",
      "346/346 [==============================] - 3s 9ms/step - loss: 0.1484 - accuracy: 0.3559 - val_loss: 0.1848 - val_accuracy: 0.9293\n",
      "Epoch 70/200\n",
      "346/346 [==============================] - 3s 9ms/step - loss: 0.1485 - accuracy: 0.3588 - val_loss: 0.1857 - val_accuracy: 0.9293\n",
      "Epoch 71/200\n",
      "346/346 [==============================] - 3s 9ms/step - loss: 0.1484 - accuracy: 0.3618 - val_loss: 0.1867 - val_accuracy: 0.9293\n",
      "Epoch 72/200\n",
      "346/346 [==============================] - 3s 10ms/step - loss: 0.1484 - accuracy: 0.3606 - val_loss: 0.1876 - val_accuracy: 0.9293\n",
      "Epoch 73/200\n",
      "346/346 [==============================] - 3s 9ms/step - loss: 0.1484 - accuracy: 0.3586 - val_loss: 0.1886 - val_accuracy: 0.9293\n",
      "Epoch 74/200\n",
      "346/346 [==============================] - 3s 9ms/step - loss: 0.1484 - accuracy: 0.3556 - val_loss: 0.1894 - val_accuracy: 0.9313\n",
      "Epoch 75/200\n",
      "346/346 [==============================] - 3s 10ms/step - loss: 0.1484 - accuracy: 0.3594 - val_loss: 0.1899 - val_accuracy: 0.9313\n",
      "Epoch 76/200\n",
      "346/346 [==============================] - 3s 10ms/step - loss: 0.1484 - accuracy: 0.3581 - val_loss: 0.1908 - val_accuracy: 0.9313\n",
      "Epoch 77/200\n",
      "346/346 [==============================] - 3s 9ms/step - loss: 0.1484 - accuracy: 0.3570 - val_loss: 0.1916 - val_accuracy: 0.9313\n",
      "Epoch 78/200\n",
      "346/346 [==============================] - 3s 9ms/step - loss: 0.1484 - accuracy: 0.3615 - val_loss: 0.1928 - val_accuracy: 0.9313\n",
      "Epoch 79/200\n",
      "346/346 [==============================] - 3s 10ms/step - loss: 0.1485 - accuracy: 0.3615 - val_loss: 0.1939 - val_accuracy: 0.9313\n",
      "Epoch 80/200\n",
      "346/346 [==============================] - 4s 11ms/step - loss: 0.1484 - accuracy: 0.3596 - val_loss: 0.1955 - val_accuracy: 0.9313\n",
      "Epoch 81/200\n",
      "346/346 [==============================] - 4s 10ms/step - loss: 0.1485 - accuracy: 0.3610 - val_loss: 0.1966 - val_accuracy: 0.9313\n",
      "Epoch 82/200\n",
      "346/346 [==============================] - 3s 10ms/step - loss: 0.1484 - accuracy: 0.3590 - val_loss: 0.1973 - val_accuracy: 0.9313\n",
      "Epoch 83/200\n",
      "346/346 [==============================] - 3s 9ms/step - loss: 0.1484 - accuracy: 0.3600 - val_loss: 0.1982 - val_accuracy: 0.9313\n",
      "Epoch 84/200\n",
      "346/346 [==============================] - 3s 9ms/step - loss: 0.1485 - accuracy: 0.3589 - val_loss: 0.1984 - val_accuracy: 0.9313\n",
      "Epoch 85/200\n",
      "346/346 [==============================] - 3s 10ms/step - loss: 0.1485 - accuracy: 0.3572 - val_loss: 0.1995 - val_accuracy: 0.9313\n",
      "Epoch 86/200\n",
      "346/346 [==============================] - 3s 9ms/step - loss: 0.1485 - accuracy: 0.3604 - val_loss: 0.2000 - val_accuracy: 0.9313\n",
      "Epoch 87/200\n",
      "346/346 [==============================] - 3s 9ms/step - loss: 0.1484 - accuracy: 0.3601 - val_loss: 0.2004 - val_accuracy: 0.9313\n",
      "Epoch 88/200\n",
      "346/346 [==============================] - 3s 9ms/step - loss: 0.1484 - accuracy: 0.3568 - val_loss: 0.2009 - val_accuracy: 0.9313\n",
      "Epoch 89/200\n",
      "346/346 [==============================] - 3s 9ms/step - loss: 0.1484 - accuracy: 0.3608 - val_loss: 0.2016 - val_accuracy: 0.9313\n",
      "Epoch 90/200\n",
      "346/346 [==============================] - 3s 9ms/step - loss: 0.1484 - accuracy: 0.3582 - val_loss: 0.2018 - val_accuracy: 0.9313\n",
      "Epoch 91/200\n",
      "346/346 [==============================] - 3s 9ms/step - loss: 0.1484 - accuracy: 0.3580 - val_loss: 0.2034 - val_accuracy: 0.9313\n",
      "Epoch 92/200\n",
      "346/346 [==============================] - 3s 9ms/step - loss: 0.1484 - accuracy: 0.3585 - val_loss: 0.2037 - val_accuracy: 0.9313\n",
      "Epoch 93/200\n",
      "346/346 [==============================] - 3s 9ms/step - loss: 0.1484 - accuracy: 0.3598 - val_loss: 0.2044 - val_accuracy: 0.9313\n",
      "Epoch 94/200\n",
      "346/346 [==============================] - 3s 9ms/step - loss: 0.1484 - accuracy: 0.3575 - val_loss: 0.2048 - val_accuracy: 0.9313\n",
      "Epoch 95/200\n",
      "346/346 [==============================] - 3s 9ms/step - loss: 0.1485 - accuracy: 0.3604 - val_loss: 0.2055 - val_accuracy: 0.9330\n",
      "Epoch 96/200\n",
      "346/346 [==============================] - 3s 9ms/step - loss: 0.1484 - accuracy: 0.3581 - val_loss: 0.2063 - val_accuracy: 0.9745\n",
      "Epoch 97/200\n",
      "346/346 [==============================] - 3s 9ms/step - loss: 0.1484 - accuracy: 0.3581 - val_loss: 0.2063 - val_accuracy: 0.9745\n",
      "Epoch 98/200\n",
      "346/346 [==============================] - 3s 9ms/step - loss: 0.1485 - accuracy: 0.3597 - val_loss: 0.2072 - val_accuracy: 0.9745\n",
      "Epoch 99/200\n",
      "346/346 [==============================] - 3s 9ms/step - loss: 0.1484 - accuracy: 0.3601 - val_loss: 0.2079 - val_accuracy: 0.9330\n",
      "Epoch 100/200\n",
      "346/346 [==============================] - 3s 9ms/step - loss: 0.1484 - accuracy: 0.3602 - val_loss: 0.2087 - val_accuracy: 0.9322\n",
      "Epoch 101/200\n",
      "346/346 [==============================] - 3s 9ms/step - loss: 0.1485 - accuracy: 0.3553 - val_loss: 0.2094 - val_accuracy: 0.9322\n",
      "Epoch 102/200\n",
      "346/346 [==============================] - 3s 10ms/step - loss: 0.1484 - accuracy: 0.3575 - val_loss: 0.2102 - val_accuracy: 0.9330\n",
      "Epoch 103/200\n",
      "346/346 [==============================] - 3s 9ms/step - loss: 0.1484 - accuracy: 0.3563 - val_loss: 0.2109 - val_accuracy: 0.9330\n",
      "Epoch 104/200\n",
      "346/346 [==============================] - 3s 10ms/step - loss: 0.1485 - accuracy: 0.3583 - val_loss: 0.2110 - val_accuracy: 0.9330\n",
      "Epoch 105/200\n",
      "346/346 [==============================] - 3s 10ms/step - loss: 0.1484 - accuracy: 0.3559 - val_loss: 0.2124 - val_accuracy: 0.9330\n",
      "Epoch 106/200\n",
      "346/346 [==============================] - 3s 10ms/step - loss: 0.1485 - accuracy: 0.3589 - val_loss: 0.2122 - val_accuracy: 0.9868\n",
      "Epoch 107/200\n",
      "346/346 [==============================] - 4s 10ms/step - loss: 0.1484 - accuracy: 0.3583 - val_loss: 0.2132 - val_accuracy: 0.9868\n",
      "Epoch 108/200\n",
      "346/346 [==============================] - 4s 11ms/step - loss: 0.1485 - accuracy: 0.3556 - val_loss: 0.2134 - val_accuracy: 0.9868\n",
      "Epoch 109/200\n",
      "346/346 [==============================] - 4s 11ms/step - loss: 0.1484 - accuracy: 0.3567 - val_loss: 0.2137 - val_accuracy: 0.9868\n",
      "Epoch 110/200\n",
      "346/346 [==============================] - 4s 11ms/step - loss: 0.1484 - accuracy: 0.3577 - val_loss: 0.2145 - val_accuracy: 0.9868\n",
      "Epoch 111/200\n",
      "346/346 [==============================] - 4s 11ms/step - loss: 0.1484 - accuracy: 0.3603 - val_loss: 0.2151 - val_accuracy: 0.9873\n",
      "Epoch 112/200\n",
      "346/346 [==============================] - 4s 11ms/step - loss: 0.1484 - accuracy: 0.3611 - val_loss: 0.2161 - val_accuracy: 0.9868\n",
      "Epoch 113/200\n",
      "346/346 [==============================] - 4s 10ms/step - loss: 0.1484 - accuracy: 0.3591 - val_loss: 0.2168 - val_accuracy: 0.9868\n",
      "Epoch 114/200\n",
      "346/346 [==============================] - 4s 10ms/step - loss: 0.1484 - accuracy: 0.3615 - val_loss: 0.2171 - val_accuracy: 0.9868\n",
      "Epoch 115/200\n",
      "346/346 [==============================] - 4s 10ms/step - loss: 0.1484 - accuracy: 0.3590 - val_loss: 0.2180 - val_accuracy: 0.9868\n",
      "Epoch 116/200\n",
      "346/346 [==============================] - 3s 9ms/step - loss: 0.1485 - accuracy: 0.3583 - val_loss: 0.2183 - val_accuracy: 0.9873\n",
      "Epoch 117/200\n",
      "346/346 [==============================] - 3s 9ms/step - loss: 0.1484 - accuracy: 0.3601 - val_loss: 0.2184 - val_accuracy: 0.9868\n",
      "Epoch 118/200\n",
      "346/346 [==============================] - 3s 8ms/step - loss: 0.1484 - accuracy: 0.3539 - val_loss: 0.2189 - val_accuracy: 0.9868\n",
      "Epoch 119/200\n",
      "346/346 [==============================] - 3s 9ms/step - loss: 0.1485 - accuracy: 0.3600 - val_loss: 0.2199 - val_accuracy: 0.9873\n",
      "Epoch 120/200\n",
      "346/346 [==============================] - 3s 9ms/step - loss: 0.1485 - accuracy: 0.3611 - val_loss: 0.2211 - val_accuracy: 0.9873\n",
      "Epoch 121/200\n",
      "346/346 [==============================] - 3s 9ms/step - loss: 0.1484 - accuracy: 0.3614 - val_loss: 0.2224 - val_accuracy: 0.9873\n",
      "Epoch 122/200\n",
      "346/346 [==============================] - 3s 9ms/step - loss: 0.1484 - accuracy: 0.3582 - val_loss: 0.2226 - val_accuracy: 0.9873\n",
      "Epoch 123/200\n",
      "346/346 [==============================] - 3s 10ms/step - loss: 0.1484 - accuracy: 0.3571 - val_loss: 0.2238 - val_accuracy: 0.9885\n",
      "Epoch 124/200\n",
      "346/346 [==============================] - 3s 9ms/step - loss: 0.1485 - accuracy: 0.3605 - val_loss: 0.2243 - val_accuracy: 0.9885\n",
      "Epoch 125/200\n",
      "346/346 [==============================] - 3s 9ms/step - loss: 0.1484 - accuracy: 0.3587 - val_loss: 0.2249 - val_accuracy: 0.9885\n",
      "Epoch 126/200\n",
      "346/346 [==============================] - 3s 9ms/step - loss: 0.1485 - accuracy: 0.3602 - val_loss: 0.2260 - val_accuracy: 0.9885\n",
      "Epoch 127/200\n",
      "346/346 [==============================] - 3s 9ms/step - loss: 0.1484 - accuracy: 0.3582 - val_loss: 0.2263 - val_accuracy: 0.9885\n",
      "Epoch 128/200\n",
      "346/346 [==============================] - 3s 9ms/step - loss: 0.1485 - accuracy: 0.3575 - val_loss: 0.2272 - val_accuracy: 0.9885\n",
      "Epoch 129/200\n",
      "346/346 [==============================] - 3s 9ms/step - loss: 0.1484 - accuracy: 0.3558 - val_loss: 0.2279 - val_accuracy: 0.9885\n",
      "Epoch 130/200\n",
      "346/346 [==============================] - 3s 9ms/step - loss: 0.1484 - accuracy: 0.3605 - val_loss: 0.2288 - val_accuracy: 0.9885\n",
      "Epoch 131/200\n",
      "346/346 [==============================] - 3s 9ms/step - loss: 0.1484 - accuracy: 0.3565 - val_loss: 0.2295 - val_accuracy: 0.9885\n",
      "Epoch 132/200\n",
      "346/346 [==============================] - 4s 11ms/step - loss: 0.1484 - accuracy: 0.3618 - val_loss: 0.2310 - val_accuracy: 0.9885\n",
      "Epoch 133/200\n",
      "346/346 [==============================] - 4s 10ms/step - loss: 0.1484 - accuracy: 0.3571 - val_loss: 0.2310 - val_accuracy: 0.9885\n",
      "Epoch 134/200\n",
      "346/346 [==============================] - 3s 9ms/step - loss: 0.1485 - accuracy: 0.3563 - val_loss: 0.2326 - val_accuracy: 0.9873\n",
      "Epoch 135/200\n",
      "346/346 [==============================] - 3s 9ms/step - loss: 0.1485 - accuracy: 0.3573 - val_loss: 0.2321 - val_accuracy: 0.9885\n",
      "Epoch 136/200\n",
      "346/346 [==============================] - 3s 9ms/step - loss: 0.1484 - accuracy: 0.3551 - val_loss: 0.2335 - val_accuracy: 0.9873\n",
      "Epoch 137/200\n",
      "346/346 [==============================] - 3s 9ms/step - loss: 0.1484 - accuracy: 0.3562 - val_loss: 0.2337 - val_accuracy: 0.9873\n",
      "Epoch 138/200\n",
      "346/346 [==============================] - 3s 9ms/step - loss: 0.1484 - accuracy: 0.3596 - val_loss: 0.2346 - val_accuracy: 0.9885\n",
      "Epoch 139/200\n",
      "346/346 [==============================] - 3s 9ms/step - loss: 0.1484 - accuracy: 0.3601 - val_loss: 0.2351 - val_accuracy: 0.9889\n",
      "Epoch 140/200\n",
      "346/346 [==============================] - 3s 9ms/step - loss: 0.1484 - accuracy: 0.3602 - val_loss: 0.2358 - val_accuracy: 0.9889\n",
      "Epoch 141/200\n",
      "346/346 [==============================] - 3s 9ms/step - loss: 0.1484 - accuracy: 0.3597 - val_loss: 0.2363 - val_accuracy: 0.9910\n",
      "Epoch 142/200\n",
      "346/346 [==============================] - 3s 9ms/step - loss: 0.1484 - accuracy: 0.3594 - val_loss: 0.2371 - val_accuracy: 0.9910\n",
      "Epoch 143/200\n",
      "346/346 [==============================] - 3s 9ms/step - loss: 0.1484 - accuracy: 0.3590 - val_loss: 0.2381 - val_accuracy: 0.9889\n",
      "Epoch 144/200\n",
      "346/346 [==============================] - 3s 9ms/step - loss: 0.1484 - accuracy: 0.3609 - val_loss: 0.2385 - val_accuracy: 0.9910\n",
      "Epoch 145/200\n",
      "346/346 [==============================] - 3s 9ms/step - loss: 0.1484 - accuracy: 0.3621 - val_loss: 0.2393 - val_accuracy: 0.9910\n",
      "Epoch 146/200\n",
      "346/346 [==============================] - 3s 9ms/step - loss: 0.1485 - accuracy: 0.3563 - val_loss: 0.2399 - val_accuracy: 0.9910\n",
      "Epoch 147/200\n",
      "346/346 [==============================] - 3s 10ms/step - loss: 0.1484 - accuracy: 0.3590 - val_loss: 0.2408 - val_accuracy: 0.9910\n",
      "Epoch 148/200\n",
      "346/346 [==============================] - 3s 10ms/step - loss: 0.1484 - accuracy: 0.3580 - val_loss: 0.2415 - val_accuracy: 0.9910\n",
      "Epoch 149/200\n",
      "346/346 [==============================] - 3s 10ms/step - loss: 0.1484 - accuracy: 0.3581 - val_loss: 0.2419 - val_accuracy: 0.9914\n",
      "Epoch 150/200\n",
      "346/346 [==============================] - 5s 13ms/step - loss: 0.1485 - accuracy: 0.3591 - val_loss: 0.2424 - val_accuracy: 0.9910\n",
      "Epoch 151/200\n",
      "346/346 [==============================] - 3s 9ms/step - loss: 0.1484 - accuracy: 0.3630 - val_loss: 0.2435 - val_accuracy: 0.9910\n",
      "Epoch 152/200\n",
      "346/346 [==============================] - 3s 9ms/step - loss: 0.1484 - accuracy: 0.3559 - val_loss: 0.2446 - val_accuracy: 0.9910\n",
      "Epoch 153/200\n",
      "346/346 [==============================] - 4s 11ms/step - loss: 0.1484 - accuracy: 0.3585 - val_loss: 0.2445 - val_accuracy: 0.9910\n",
      "Epoch 154/200\n",
      "346/346 [==============================] - 4s 11ms/step - loss: 0.1484 - accuracy: 0.3605 - val_loss: 0.2453 - val_accuracy: 0.9910\n",
      "Epoch 155/200\n",
      "346/346 [==============================] - 3s 9ms/step - loss: 0.1484 - accuracy: 0.3596 - val_loss: 0.2469 - val_accuracy: 0.9914\n",
      "Epoch 156/200\n",
      "346/346 [==============================] - 3s 9ms/step - loss: 0.1484 - accuracy: 0.3569 - val_loss: 0.2478 - val_accuracy: 0.9914\n",
      "Epoch 157/200\n",
      "346/346 [==============================] - 3s 9ms/step - loss: 0.1485 - accuracy: 0.3593 - val_loss: 0.2481 - val_accuracy: 0.9910\n",
      "Epoch 158/200\n",
      "346/346 [==============================] - 3s 9ms/step - loss: 0.1484 - accuracy: 0.3569 - val_loss: 0.2498 - val_accuracy: 0.9910\n",
      "Epoch 159/200\n",
      "346/346 [==============================] - 3s 9ms/step - loss: 0.1485 - accuracy: 0.3542 - val_loss: 0.2496 - val_accuracy: 0.9910\n",
      "Epoch 160/200\n",
      "346/346 [==============================] - 3s 9ms/step - loss: 0.1484 - accuracy: 0.3554 - val_loss: 0.2497 - val_accuracy: 0.9914\n",
      "Epoch 161/200\n",
      "346/346 [==============================] - 3s 9ms/step - loss: 0.1484 - accuracy: 0.3605 - val_loss: 0.2509 - val_accuracy: 0.9914\n",
      "Epoch 162/200\n",
      "346/346 [==============================] - 3s 9ms/step - loss: 0.1484 - accuracy: 0.3600 - val_loss: 0.2517 - val_accuracy: 0.9914\n",
      "Epoch 163/200\n",
      "346/346 [==============================] - 3s 9ms/step - loss: 0.1484 - accuracy: 0.3596 - val_loss: 0.2524 - val_accuracy: 0.9914\n",
      "Epoch 164/200\n",
      "346/346 [==============================] - 3s 9ms/step - loss: 0.1485 - accuracy: 0.3606 - val_loss: 0.2530 - val_accuracy: 0.9918\n",
      "Epoch 165/200\n",
      "346/346 [==============================] - 3s 9ms/step - loss: 0.1485 - accuracy: 0.3624 - val_loss: 0.2533 - val_accuracy: 0.9918\n",
      "Epoch 166/200\n",
      "346/346 [==============================] - 3s 9ms/step - loss: 0.1485 - accuracy: 0.3600 - val_loss: 0.2552 - val_accuracy: 0.9918\n",
      "Epoch 167/200\n",
      "346/346 [==============================] - 3s 10ms/step - loss: 0.1484 - accuracy: 0.3574 - val_loss: 0.2552 - val_accuracy: 0.9942\n",
      "Epoch 168/200\n",
      "346/346 [==============================] - 4s 10ms/step - loss: 0.1485 - accuracy: 0.3549 - val_loss: 0.2566 - val_accuracy: 0.9918\n",
      "Epoch 169/200\n",
      "346/346 [==============================] - 4s 10ms/step - loss: 0.1485 - accuracy: 0.3592 - val_loss: 0.2571 - val_accuracy: 0.9918\n",
      "Epoch 170/200\n",
      "346/346 [==============================] - 3s 10ms/step - loss: 0.1484 - accuracy: 0.3612 - val_loss: 0.2580 - val_accuracy: 0.9942\n",
      "Epoch 171/200\n",
      "346/346 [==============================] - 3s 9ms/step - loss: 0.1484 - accuracy: 0.3598 - val_loss: 0.2596 - val_accuracy: 0.9918\n",
      "Epoch 172/200\n",
      "346/346 [==============================] - 3s 9ms/step - loss: 0.1484 - accuracy: 0.3587 - val_loss: 0.2597 - val_accuracy: 0.9942\n",
      "Epoch 173/200\n",
      "346/346 [==============================] - 4s 12ms/step - loss: 0.1484 - accuracy: 0.3605 - val_loss: 0.2611 - val_accuracy: 0.9918\n",
      "Epoch 174/200\n",
      "346/346 [==============================] - 4s 11ms/step - loss: 0.1485 - accuracy: 0.3601 - val_loss: 0.2614 - val_accuracy: 0.9918\n",
      "Epoch 175/200\n",
      "346/346 [==============================] - 4s 12ms/step - loss: 0.1484 - accuracy: 0.3602 - val_loss: 0.2625 - val_accuracy: 0.9918\n",
      "Epoch 176/200\n",
      "346/346 [==============================] - 3s 9ms/step - loss: 0.1484 - accuracy: 0.3549 - val_loss: 0.2636 - val_accuracy: 0.9918\n",
      "Epoch 177/200\n",
      "346/346 [==============================] - 3s 9ms/step - loss: 0.1484 - accuracy: 0.3618 - val_loss: 0.2647 - val_accuracy: 0.9938\n",
      "Epoch 178/200\n",
      "346/346 [==============================] - 3s 8ms/step - loss: 0.1484 - accuracy: 0.3594 - val_loss: 0.2649 - val_accuracy: 0.9938\n",
      "Epoch 179/200\n",
      "346/346 [==============================] - 3s 8ms/step - loss: 0.1484 - accuracy: 0.3564 - val_loss: 0.2652 - val_accuracy: 0.9914\n",
      "Epoch 180/200\n",
      "346/346 [==============================] - 3s 9ms/step - loss: 0.1484 - accuracy: 0.3605 - val_loss: 0.2663 - val_accuracy: 0.9938\n",
      "Epoch 181/200\n",
      "346/346 [==============================] - 3s 8ms/step - loss: 0.1484 - accuracy: 0.3596 - val_loss: 0.2679 - val_accuracy: 0.9918\n",
      "Epoch 182/200\n",
      "346/346 [==============================] - 3s 8ms/step - loss: 0.1485 - accuracy: 0.3546 - val_loss: 0.2681 - val_accuracy: 0.9914\n",
      "Epoch 183/200\n",
      "346/346 [==============================] - 3s 9ms/step - loss: 0.1484 - accuracy: 0.3567 - val_loss: 0.2686 - val_accuracy: 0.9914\n",
      "Epoch 184/200\n",
      "346/346 [==============================] - 3s 9ms/step - loss: 0.1484 - accuracy: 0.3566 - val_loss: 0.2698 - val_accuracy: 0.9918\n",
      "Epoch 185/200\n",
      "346/346 [==============================] - 3s 8ms/step - loss: 0.1485 - accuracy: 0.3589 - val_loss: 0.2710 - val_accuracy: 0.9942\n",
      "Epoch 186/200\n",
      "346/346 [==============================] - 3s 8ms/step - loss: 0.1485 - accuracy: 0.3586 - val_loss: 0.2714 - val_accuracy: 0.9922\n",
      "Epoch 187/200\n",
      "346/346 [==============================] - 3s 8ms/step - loss: 0.1484 - accuracy: 0.3559 - val_loss: 0.2715 - val_accuracy: 0.9922\n",
      "Epoch 188/200\n",
      "346/346 [==============================] - 3s 8ms/step - loss: 0.1484 - accuracy: 0.3580 - val_loss: 0.2711 - val_accuracy: 0.9942\n",
      "Epoch 189/200\n",
      "346/346 [==============================] - 3s 8ms/step - loss: 0.1484 - accuracy: 0.3611 - val_loss: 0.2722 - val_accuracy: 0.9922\n",
      "Epoch 190/200\n",
      "346/346 [==============================] - 3s 8ms/step - loss: 0.1485 - accuracy: 0.3601 - val_loss: 0.2727 - val_accuracy: 0.9942\n",
      "Epoch 191/200\n",
      "346/346 [==============================] - 3s 8ms/step - loss: 0.1484 - accuracy: 0.3597 - val_loss: 0.2727 - val_accuracy: 0.9942\n",
      "Epoch 192/200\n",
      "346/346 [==============================] - 3s 8ms/step - loss: 0.1485 - accuracy: 0.3607 - val_loss: 0.2735 - val_accuracy: 0.9942\n",
      "Epoch 193/200\n",
      "346/346 [==============================] - 3s 8ms/step - loss: 0.1484 - accuracy: 0.3609 - val_loss: 0.2734 - val_accuracy: 0.9942\n",
      "Epoch 194/200\n",
      "346/346 [==============================] - 3s 8ms/step - loss: 0.1484 - accuracy: 0.3606 - val_loss: 0.2741 - val_accuracy: 0.9922\n",
      "Epoch 195/200\n",
      "346/346 [==============================] - 3s 9ms/step - loss: 0.1485 - accuracy: 0.3596 - val_loss: 0.2751 - val_accuracy: 0.9922\n",
      "Epoch 196/200\n",
      "346/346 [==============================] - 3s 8ms/step - loss: 0.1484 - accuracy: 0.3603 - val_loss: 0.2759 - val_accuracy: 0.9922\n",
      "Epoch 197/200\n",
      "346/346 [==============================] - 3s 8ms/step - loss: 0.1484 - accuracy: 0.3574 - val_loss: 0.2763 - val_accuracy: 0.9922\n",
      "Epoch 198/200\n",
      "346/346 [==============================] - 3s 9ms/step - loss: 0.1484 - accuracy: 0.3610 - val_loss: 0.2760 - val_accuracy: 0.9922\n",
      "Epoch 199/200\n",
      "346/346 [==============================] - 3s 8ms/step - loss: 0.1484 - accuracy: 0.3605 - val_loss: 0.2768 - val_accuracy: 0.9922\n",
      "Epoch 200/200\n",
      "346/346 [==============================] - 3s 8ms/step - loss: 0.1485 - accuracy: 0.3590 - val_loss: 0.2771 - val_accuracy: 0.9922\n"
     ]
    }
   ],
   "source": [
    "configs_dict = {\n",
    "    \"learning_rate\": LEARNING_RATE,\n",
    "    \"algorithm\": \"LogReg\",\n",
    "    \"configuration\": \"small-ordinary-unbalanced-all-inputs\",\n",
    "    \"optimizer\": \"adam\",\n",
    "    \"loss\": \"binary_crossentropy\",\n",
    "    \"epochs\": NUM_EPOCHS,\n",
    "    \"batch_size\": 64,\n",
    "    \"vectorizer\": \"count\",\n",
    "    \"dataset\": \"multi_class_unbalanced_data_TOKENIZED_V1\"\n",
    "}\n",
    "run = wandb.init(project=wandb_project_name, reinit=True, config=configs_dict)\n",
    "\n",
    "history = model.fit(train_dataset, \n",
    "                    epochs=NUM_EPOCHS,\n",
    "                    validation_data=test_dataset,\n",
    "                    steps_per_epoch = STEPS_PER_EPOCH,\n",
    "                    validation_steps = VAL_STEPS_PER_EPOCH,\n",
    "                    callbacks= [WandbCallback()])#[tensorboard_callback])\n",
    "run.finish()"
   ]
  },
  {
   "cell_type": "code",
   "execution_count": 44,
   "metadata": {},
   "outputs": [
    {
     "name": "stdout",
     "output_type": "stream",
     "text": [
      "38/38 [==============================] - 0s 2ms/step - loss: 0.2771 - accuracy: 0.9922\n",
      "Test Loss: 0.27707090973854065\n",
      "Test Accuracy: 0.9921875\n"
     ]
    }
   ],
   "source": [
    "test_loss, test_acc = model.evaluate(test_dataset)\n",
    "\n",
    "print(\"Test Loss:\", test_loss)\n",
    "print(\"Test Accuracy:\", test_acc)"
   ]
  },
  {
   "cell_type": "code",
   "execution_count": 45,
   "metadata": {},
   "outputs": [
    {
     "data": {
      "text/plain": [
       "(0.0, 0.28485632985830306)"
      ]
     },
     "execution_count": 45,
     "metadata": {},
     "output_type": "execute_result"
    },
    {
     "data": {
      "image/png": "[encoded data removed]",
      "text/plain": [
       "<Figure size 1600x800 with 2 Axes>"
      ]
     },
     "metadata": {},
     "output_type": "display_data"
    }
   ],
   "source": [
    "plt.figure(figsize=(16,8))\n",
    "plt.subplot(1,2,1)\n",
    "plot_graphs(history, \"accuracy\")\n",
    "plt.ylim(None, 1)\n",
    "plt.subplot(1,2,2)\n",
    "plot_graphs(history, \"loss\")\n",
    "plt.ylim(0, None)"
   ]
  },
  {
   "cell_type": "code",
   "execution_count": 46,
   "metadata": {},
   "outputs": [
    {
     "data": {
      "text/plain": [
       "'\\n# predict on a sample text without padding\\npredictions = model.predict(np.array([sample_text]))\\nprint(predictions[0])\\n'"
      ]
     },
     "execution_count": 46,
     "metadata": {},
     "output_type": "execute_result"
    }
   ],
   "source": [
    "\"\"\"\n",
    "# predict on a sample text without padding\n",
    "predictions = model.predict(np.array([sample_text]))\n",
    "print(predictions[0])\n",
    "\"\"\""
   ]
  }
 ],
 "metadata": {
  "kernelspec": {
   "display_name": "sem_math_env",
   "language": "python",
   "name": "python3"
  },
  "language_info": {
   "codemirror_mode": {
    "name": "ipython",
    "version": 3
   },
   "file_extension": ".py",
   "mimetype": "text/x-python",
   "name": "python",
   "nbconvert_exporter": "python",
   "pygments_lexer": "ipython3",
   "version": "3.10.9"
  },
  "orig_nbformat": 4,
  "vscode": {
   "interpreter": {
    "hash": "71a9a05a8d236729134f51de1f1fd612c9215f2a378954bc400639bac96e00eb"
   }
  }
 },
 "nbformat": 4,
 "nbformat_minor": 2
}
