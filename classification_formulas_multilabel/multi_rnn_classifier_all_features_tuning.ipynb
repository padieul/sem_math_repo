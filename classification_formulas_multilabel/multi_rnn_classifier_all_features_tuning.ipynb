{
 "cells": [
  {
   "cell_type": "code",
   "execution_count": 1,
   "metadata": {},
   "outputs": [],
   "source": [
    "import os\n",
    "\n",
    "# takes care of annoying TF-GPU warnings\n",
    "os.environ[\"CUDA_VISIBLE_DEVICES\"] = \"-1\"\n",
    "os.environ[\"TF_CPP_MIN_LOG_LEVEL\"] = \"3\"\n",
    "\n",
    "# remove useless Tensorflow warning:\n",
    "# WARNING:absl:Found untraced functions such as _update_step_xla, lstm_cell_1_layer_call_fn, \n",
    "# lstm_cell_1_layer_call_and_return_conditional_losses, lstm_cell_2_layer_call_fn, \n",
    "# lstm_cell_2_layer_call_and_return_conditional_losses while saving (showing 5 of 5). \n",
    "# These functions will not be directly callable after loading.\n",
    "import absl.logging\n",
    "absl.logging.set_verbosity(absl.logging.ERROR)"
   ]
  },
  {
   "cell_type": "code",
   "execution_count": 2,
   "metadata": {},
   "outputs": [],
   "source": [
    "# very useful for managing wandb runs: https://stackoverflow.com/questions/71106179/log-two-model-runs-with-keras-wandb\n",
    "import wandb\n",
    "from wandb.keras import WandbCallback\n",
    "os.environ[\"WANDB_SILENT\"] = \"true\""
   ]
  },
  {
   "cell_type": "code",
   "execution_count": 3,
   "metadata": {},
   "outputs": [],
   "source": [
    "import multi_classifier_utils as mc_u"
   ]
  },
  {
   "attachments": {},
   "cell_type": "markdown",
   "metadata": {},
   "source": [
    "#### RNN (BiLSTM): Formula Label Prediction (multi-label, all features)"
   ]
  },
  {
   "cell_type": "code",
   "execution_count": 4,
   "metadata": {},
   "outputs": [],
   "source": [
    "import numpy as np \n",
    "import pandas as pd\n",
    "from pathlib import Path \n",
    "import ast\n",
    "\n",
    "import tensorflow as tf\n",
    "import keras_tuner as kt\n",
    "\n",
    "import tensorflow_datasets as tfds\n",
    "import tensorflow_text as tf_text\n",
    "\n",
    "import datetime\n",
    "\n",
    "tfds.disable_progress_bar()\n",
    "wandb_project_name = \"multi_label_formula_classification\""
   ]
  },
  {
   "cell_type": "code",
   "execution_count": 5,
   "metadata": {},
   "outputs": [],
   "source": [
    "import matplotlib.pyplot as plt\n",
    "\n",
    "def plot_graphs(history, metric):\n",
    "    plt.plot(history.history[metric])\n",
    "    plt.plot(history.history[\"val_\"+metric], \"\")\n",
    "    plt.xlabel(\"Epochs\")\n",
    "    plt.ylabel(metric)\n",
    "    plt.legend([metric, \"val_\"+metric])"
   ]
  },
  {
   "attachments": {},
   "cell_type": "markdown",
   "metadata": {},
   "source": [
    "#### Import Data and Preprocess Dataframe"
   ]
  },
  {
   "cell_type": "code",
   "execution_count": 6,
   "metadata": {},
   "outputs": [],
   "source": [
    "def preprocess_data(corpus,\n",
    "                    irrelevant_features=[\"mtype\",]):\n",
    "    # drop irrelevant columns\n",
    "    corpus.drop(irrelevant_features, inplace=True, axis=1)\n",
    "\n",
    "    def cell_str_to_list(cell_val):\n",
    "        return ast.literal_eval(cell_val)\n",
    "\n",
    "    # filter strings\n",
    "    def process_cell(cell_str):\n",
    "        stripped_f_str = cell_str[1:-1].replace(\"\\\\\\\\\", \"\\\\\")\n",
    "        f_list = stripped_f_str.split(\",\")\n",
    "        f_list = [token.replace(\"'\", \"\").replace(\" \", \"\") for token in f_list]\n",
    "        f_list = [\"{\" if token == \"\\\\{\" else token for token in f_list]\n",
    "        f_list = [\"}\" if token == \"\\\\}\" else token for token in f_list]\n",
    "        cell_str = \" \".join(f_list)\n",
    "        return cell_str\n",
    "\n",
    "    corpus[\"type_tokens\"] = corpus[\"type_tokens\"].map(process_cell)\n",
    "    corpus[\"tokens\"] = corpus[\"tokens\"].map(process_cell)\n",
    "    corpus[\"mtype_one_hot\"] = corpus[\"mtype_one_hot\"].map(cell_str_to_list)\n",
    "    corpus[\"labels\"] = corpus[\"labels\"].map(cell_str_to_list)\n",
    "    corpus = corpus.loc[(corpus[\"tokens\"].str.len() > 0) & (corpus[\"tokens\"] != \" \")]\n"
   ]
  },
  {
   "cell_type": "code",
   "execution_count": 7,
   "metadata": {},
   "outputs": [
    {
     "data": {
      "text/html": [
       "<div>\n",
       "<style scoped>\n",
       "    .dataframe tbody tr th:only-of-type {\n",
       "        vertical-align: middle;\n",
       "    }\n",
       "\n",
       "    .dataframe tbody tr th {\n",
       "        vertical-align: top;\n",
       "    }\n",
       "\n",
       "    .dataframe thead th {\n",
       "        text-align: right;\n",
       "    }\n",
       "</style>\n",
       "<table border=\"1\" class=\"dataframe\">\n",
       "  <thead>\n",
       "    <tr style=\"text-align: right;\">\n",
       "      <th></th>\n",
       "      <th>tokens</th>\n",
       "      <th>type_tokens</th>\n",
       "      <th>labels</th>\n",
       "      <th>labels_str</th>\n",
       "      <th>mtype_one_hot</th>\n",
       "    </tr>\n",
       "  </thead>\n",
       "  <tbody>\n",
       "    <tr>\n",
       "      <th>0</th>\n",
       "      <td>f</td>\n",
       "      <td>func_name __ANON_1</td>\n",
       "      <td>[1, 0, 0, 0, 0, 0, 0, 0, 0, 0, 0, 0, 0, 0, 0, ...</td>\n",
       "      <td>['elementary-set-theory']</td>\n",
       "      <td>[0, 0, 1]</td>\n",
       "    </tr>\n",
       "    <tr>\n",
       "      <th>1</th>\n",
       "      <td>j : \\mathbb{N} \\rightarrow [ 0   1 ]</td>\n",
       "      <td>func_def func_name __ANON_1 COLON mapping set_...</td>\n",
       "      <td>[1, 0, 0, 0, 0, 0, 0, 0, 0, 0, 0, 0, 0, 0, 0, ...</td>\n",
       "      <td>['elementary-set-theory']</td>\n",
       "      <td>[0, 0, 1]</td>\n",
       "    </tr>\n",
       "    <tr>\n",
       "      <th>2</th>\n",
       "      <td>b</td>\n",
       "      <td>func_name __ANON_1</td>\n",
       "      <td>[1, 0, 0, 0, 0, 0, 0, 0, 0, 0, 0, 0, 0, 0, 0, ...</td>\n",
       "      <td>['elementary-set-theory']</td>\n",
       "      <td>[0, 0, 1]</td>\n",
       "    </tr>\n",
       "    <tr>\n",
       "      <th>3</th>\n",
       "      <td>mathbb{Q</td>\n",
       "      <td>set_constant SET_BASIC</td>\n",
       "      <td>[1, 0, 0, 0, 0, 0, 0, 0, 0, 0, 0, 0, 0, 0, 0, ...</td>\n",
       "      <td>['elementary-set-theory']</td>\n",
       "      <td>[1, 0, 0]</td>\n",
       "    </tr>\n",
       "    <tr>\n",
       "      <th>4</th>\n",
       "      <td>f</td>\n",
       "      <td>func_name __ANON_1</td>\n",
       "      <td>[1, 0, 0, 1, 0, 0, 0, 0, 0, 0, 0, 0, 0, 0, 0, ...</td>\n",
       "      <td>['functions', 'elementary-set-theory']</td>\n",
       "      <td>[0, 0, 1]</td>\n",
       "    </tr>\n",
       "  </tbody>\n",
       "</table>\n",
       "</div>"
      ],
      "text/plain": [
       "                                 tokens  \\\n",
       "0                                     f   \n",
       "1  j : \\mathbb{N} \\rightarrow [ 0   1 ]   \n",
       "2                                     b   \n",
       "3                              mathbb{Q   \n",
       "4                                     f   \n",
       "\n",
       "                                         type_tokens  \\\n",
       "0                                 func_name __ANON_1   \n",
       "1  func_def func_name __ANON_1 COLON mapping set_...   \n",
       "2                                 func_name __ANON_1   \n",
       "3                             set_constant SET_BASIC   \n",
       "4                                 func_name __ANON_1   \n",
       "\n",
       "                                              labels  \\\n",
       "0  [1, 0, 0, 0, 0, 0, 0, 0, 0, 0, 0, 0, 0, 0, 0, ...   \n",
       "1  [1, 0, 0, 0, 0, 0, 0, 0, 0, 0, 0, 0, 0, 0, 0, ...   \n",
       "2  [1, 0, 0, 0, 0, 0, 0, 0, 0, 0, 0, 0, 0, 0, 0, ...   \n",
       "3  [1, 0, 0, 0, 0, 0, 0, 0, 0, 0, 0, 0, 0, 0, 0, ...   \n",
       "4  [1, 0, 0, 1, 0, 0, 0, 0, 0, 0, 0, 0, 0, 0, 0, ...   \n",
       "\n",
       "                               labels_str mtype_one_hot  \n",
       "0               ['elementary-set-theory']     [0, 0, 1]  \n",
       "1               ['elementary-set-theory']     [0, 0, 1]  \n",
       "2               ['elementary-set-theory']     [0, 0, 1]  \n",
       "3               ['elementary-set-theory']     [1, 0, 0]  \n",
       "4  ['functions', 'elementary-set-theory']     [0, 0, 1]  "
      ]
     },
     "execution_count": 7,
     "metadata": {},
     "output_type": "execute_result"
    }
   ],
   "source": [
    "#print(os.getcwd())\n",
    "data_p = Path(\"../data/\") / \"multi_class_unbalanced_data_TOKENIZED_V1.csv\"\n",
    "data = pd.read_csv(data_p)\n",
    "preprocess_data(data)\n",
    "data.head()"
   ]
  },
  {
   "cell_type": "code",
   "execution_count": 8,
   "metadata": {},
   "outputs": [
    {
     "name": "stdout",
     "output_type": "stream",
     "text": [
      "254\n",
      "252\n"
     ]
    }
   ],
   "source": [
    "print(data[\"type_tokens\"].map(lambda x: len((x.split(\" \")))).max())\n",
    "print(data[\"tokens\"].map(lambda x: len((x.split(\" \")))).max())"
   ]
  },
  {
   "cell_type": "code",
   "execution_count": 9,
   "metadata": {},
   "outputs": [],
   "source": [
    "# ordinary datasets\n",
    "SMALL_TRAIN_SIZE = 24620 - 2460\n",
    "SMALL_TEST_SIZE = 2460\n",
    "LARGE_TRAIN_SIZE = 106523 - 10650\n",
    "LARGE_TEST_SIZE = 10650\n",
    "# compact datasets\n",
    "NUM_CLASSES = 40\n",
    "\n",
    "labels_array = np.array(data[\"labels\"].to_list())\n",
    "m_type_array = np.array(data[\"mtype_one_hot\"].to_list())\n",
    "\n",
    "dataset4_all_features = tf.data.Dataset.from_tensor_slices((data[\"tokens\"],data[\"type_tokens\"],m_type_array), name=\"data\")\n",
    "dataset3_tokens_types = tf.data.Dataset.from_tensor_slices((data[\"tokens\"],data[\"type_tokens\"]), name=\"data\")\n",
    "dataset2_types = tf.data.Dataset.from_tensor_slices((data[\"type_tokens\"]), name=\"data\")\n",
    "dataset1_tokens = tf.data.Dataset.from_tensor_slices((data[\"tokens\"]), name=\"data\")\n",
    "\n",
    "labels_ds = tf.data.Dataset.from_tensor_slices(labels_array, name=\"label\")\n",
    "#data_as_ds = tf.data.Dataset.zip((dat_as_ds, labels_ds))\n",
    "\n",
    "dataset1_tokens_l = tf.data.Dataset.zip((dataset1_tokens, labels_ds))\n",
    "dataset2_types_l = tf.data.Dataset.zip((dataset2_types, labels_ds))\n",
    "dataset3_tokens_types_l = tf.data.Dataset.zip((dataset3_tokens_types, labels_ds))\n",
    "dataset4_all_features_l = tf.data.Dataset.zip((dataset4_all_features, labels_ds))"
   ]
  },
  {
   "cell_type": "code",
   "execution_count": 10,
   "metadata": {},
   "outputs": [],
   "source": [
    "test_dataset1 = dataset1_tokens_l.take(SMALL_TEST_SIZE)\n",
    "train_dataset1 = dataset1_tokens_l.skip(SMALL_TEST_SIZE)\n",
    "test_dataset2 = dataset2_types_l.take(SMALL_TEST_SIZE)\n",
    "train_dataset2 = dataset2_types_l.skip(SMALL_TEST_SIZE)\n",
    "test_dataset3 = dataset3_tokens_types_l.take(SMALL_TEST_SIZE)\n",
    "train_dataset3 = dataset3_tokens_types_l.skip(SMALL_TEST_SIZE)\n",
    "test_dataset4 = dataset4_all_features_l.take(SMALL_TEST_SIZE)\n",
    "train_dataset4 = dataset4_all_features_l.skip(SMALL_TEST_SIZE)"
   ]
  },
  {
   "attachments": {},
   "cell_type": "markdown",
   "metadata": {},
   "source": [
    "##### Setup and Data Preparation"
   ]
  },
  {
   "cell_type": "code",
   "execution_count": 11,
   "metadata": {},
   "outputs": [
    {
     "name": "stdout",
     "output_type": "stream",
     "text": [
      "text:  b'{ 2   4 }'\n",
      "type:  b'explset L_BRACE_LITERAL set_enumeration item __ANON_3 COMMA item __ANON_3 R_BRACE_LITERAL'\n",
      "m_type:  [1 0 0]\n",
      "label:  [1 0 0 0 0 0 0 0 0 0 0 0 0 0 0 0 0 0 0 0 0 0 0 0 0 0 0 0 0 0 0 0 0 0 0 0 0\n",
      " 0 0 0]\n",
      "text:  b'f : I \\\\to X'\n",
      "type:  b'func_def func_name __ANON_1 COLON mapping __ANON_0 TO __ANON_0'\n",
      "m_type:  [0 0 1]\n",
      "label:  [1 0 0 0 0 0 0 0 0 0 0 0 0 0 0 0 0 0 0 0 0 0 0 0 0 0 0 0 0 0 0 0 0 0 0 0 0\n",
      " 0 0 0]\n",
      "text:  b'f ( a ) = 1'\n",
      "type:  b'func_expr func_name_arg func_name __ANON_1 L_PAREN __ANON_1 R_PAREN EQUAL expr_atom __ANON_3'\n",
      "m_type:  [0 0 1]\n",
      "label:  [1 0 0 0 0 0 0 0 0 0 0 0 1 0 0 0 0 0 0 0 0 0 0 0 0 0 0 0 0 0 0 0 0 0 0 0 0\n",
      " 0 0 0]\n",
      "text:  b'x'\n",
      "type:  b'func_name __ANON_1'\n",
      "m_type:  [0 0 1]\n",
      "label:  [1 0 0 0 0 0 0 0 0 0 0 0 0 0 0 0 0 0 0 0 0 0 0 0 0 0 0 0 0 0 0 0 0 0 0 0 0\n",
      " 0 0 0]\n",
      "text:  b'f : X \\\\to Y'\n",
      "type:  b'func_def func_name __ANON_1 COLON mapping __ANON_0 TO __ANON_0'\n",
      "m_type:  [0 0 1]\n",
      "label:  [1 0 0 0 0 0 0 0 0 0 0 0 1 0 0 0 0 0 0 0 0 0 0 0 0 0 0 0 0 0 0 0 0 0 0 0 0\n",
      " 0 0 0]\n"
     ]
    }
   ],
   "source": [
    "for (example_token, example_type, example_m_type), label in train_dataset4.take(5):\n",
    "    print(\"text: \", example_token.numpy())\n",
    "    print(\"type: \", example_type.numpy())\n",
    "    print(\"m_type: \", example_m_type.numpy())\n",
    "    print(\"label: \", label.numpy())"
   ]
  },
  {
   "cell_type": "code",
   "execution_count": 12,
   "metadata": {},
   "outputs": [],
   "source": [
    "BUFFER_SIZE = 2000\n",
    "BATCH_SIZE = 64\n",
    "STEPS_PER_EPOCH = np.floor(SMALL_TRAIN_SIZE/BATCH_SIZE)\n",
    "VAL_STEPS_PER_EPOCH = np.floor(SMALL_TEST_SIZE/BATCH_SIZE)\n",
    "#train_dataset = train_dataset.shuffle(BUFFER_SIZE).batch(BATCH_SIZE, drop_remainder=True).prefetch(tf.data.AUTOTUNE)\n",
    "#test_dataset = test_dataset.batch(BATCH_SIZE, drop_remainder=True).prefetch(tf.data.AUTOTUNE)"
   ]
  },
  {
   "cell_type": "code",
   "execution_count": 13,
   "metadata": {},
   "outputs": [],
   "source": [
    "test_dataset1 = test_dataset1.batch(BATCH_SIZE, drop_remainder=True).prefetch(tf.data.AUTOTUNE)\n",
    "train_dataset1 = train_dataset1.shuffle(BUFFER_SIZE).batch(BATCH_SIZE, drop_remainder=True).prefetch(tf.data.AUTOTUNE)\n",
    "test_dataset2 = test_dataset2.batch(BATCH_SIZE, drop_remainder=True).prefetch(tf.data.AUTOTUNE)\n",
    "train_dataset2 = train_dataset2.shuffle(BUFFER_SIZE).batch(BATCH_SIZE, drop_remainder=True).prefetch(tf.data.AUTOTUNE)\n",
    "test_dataset3 = test_dataset3.batch(BATCH_SIZE, drop_remainder=True).prefetch(tf.data.AUTOTUNE)\n",
    "train_dataset3 = train_dataset3.shuffle(BUFFER_SIZE).batch(BATCH_SIZE, drop_remainder=True).prefetch(tf.data.AUTOTUNE)\n",
    "test_dataset4 = test_dataset4.batch(BATCH_SIZE, drop_remainder=True).prefetch(tf.data.AUTOTUNE)\n",
    "train_dataset4 = train_dataset4.shuffle(BUFFER_SIZE).batch(BATCH_SIZE, drop_remainder=True).prefetch(tf.data.AUTOTUNE)"
   ]
  },
  {
   "attachments": {},
   "cell_type": "markdown",
   "metadata": {},
   "source": [
    "##### Text Encoding"
   ]
  },
  {
   "cell_type": "code",
   "execution_count": 14,
   "metadata": {},
   "outputs": [],
   "source": [
    "# for int encoder\n",
    "TYPE_TOKENS_MAX_SEQ_LEN = 260\n",
    "TOKENS_MAX_SEQ_LEN = 260\n",
    "\n",
    "\n",
    "# for other encoders \n",
    "TYPE_TOKENS_PAD_TO_MAX_TOKENS = 80\n",
    "TOKENS_PAD_TO_MAX_TOKENS = 200\n",
    "BIGRAM_PAD_TO_MAX_TOKENS = 350"
   ]
  },
  {
   "cell_type": "code",
   "execution_count": 15,
   "metadata": {},
   "outputs": [],
   "source": [
    "def adapt_encoder(encoder, mode, dataset, dataset_type):\n",
    "    if mode == \"token\": \n",
    "\n",
    "        if dataset_type == 1:\n",
    "            encoder.adapt(dataset.map(lambda inputs, label: inputs))\n",
    "        elif dataset_type == 2:\n",
    "            ...\n",
    "        elif dataset_type == 3:\n",
    "            encoder.adapt(dataset.map(lambda inputs, label: inputs[0])) # removes the label column through transformation: text, label -> text\n",
    "        elif dataset_type == 4:\n",
    "            encoder.adapt(dataset.map(lambda inputs, label: inputs[0])) # removes the label column through transformation: text, label -> text  \n",
    "    elif mode == \"type\":\n",
    "        \n",
    "        if dataset_type == 1:\n",
    "            ...\n",
    "        elif dataset_type == 2:\n",
    "            encoder.adapt(dataset.map(lambda inputs, label: inputs))\n",
    "        elif dataset_type == 3:\n",
    "            encoder.adapt(dataset.map(lambda inputs, label: inputs[1])) # removes the label column through transformation: text, label -> text\n",
    "        elif dataset_type == 4:\n",
    "            encoder.adapt(dataset.map(lambda inputs, label: inputs[1])) # removes the label column through transformation: text, label -> text\n",
    "\n",
    "    return encoder"
   ]
  },
  {
   "cell_type": "code",
   "execution_count": 16,
   "metadata": {},
   "outputs": [],
   "source": [
    "def create_encoder(output_mode_str, n_grams, mode, dataset, dataset_type):\n",
    "    if output_mode_str == \"int\":\n",
    "        VOCAB_SIZE = 200\n",
    "        if mode == \"token\":\n",
    "            max_seq_len = TOKENS_MAX_SEQ_LEN\n",
    "        elif mode == \"type\":\n",
    "            max_seq_len = TYPE_TOKENS_MAX_SEQ_LEN\n",
    "\n",
    "        encoder = tf.keras.layers.TextVectorization(\n",
    "            standardize=None,\n",
    "            output_mode=output_mode_str,\n",
    "            ngrams = n_grams,\n",
    "            output_sequence_length = max_seq_len,\n",
    "            split=\"whitespace\",\n",
    "            max_tokens=VOCAB_SIZE)\n",
    "        #TODO: adapt for different inputs\n",
    "        encoder = adapt_encoder(encoder, mode, dataset, dataset_type)\n",
    "        return encoder\n",
    "    \n",
    "    if output_mode_str == \"count\" and n_grams == 2:\n",
    "        max_seq_len = BIGRAM_PAD_TO_MAX_TOKENS\n",
    "        encoder = tf.keras.layers.TextVectorization(\n",
    "            standardize=None,\n",
    "            output_mode=output_mode_str,\n",
    "            ngrams = n_grams,\n",
    "            pad_to_max_tokens = max_seq_len,\n",
    "            split=\"whitespace\",\n",
    "            max_tokens=max_seq_len)\n",
    "        \n",
    "        \n",
    "        encoder = adapt_encoder(encoder, mode, dataset, dataset_type)\n",
    "        return encoder\n",
    "    \n",
    "    if mode == \"token\":\n",
    "        max_seq_len = TOKENS_PAD_TO_MAX_TOKENS\n",
    "    elif mode == \"type\":\n",
    "        max_seq_len = TYPE_TOKENS_PAD_TO_MAX_TOKENS\n",
    "\n",
    "    encoder = tf.keras.layers.TextVectorization(\n",
    "        standardize=None,\n",
    "        output_mode=output_mode_str,\n",
    "        ngrams = n_grams,\n",
    "        pad_to_max_tokens = max_seq_len,\n",
    "        split=\"whitespace\",\n",
    "        max_tokens=max_seq_len)\n",
    "    #TODO: adapt for different inputs\n",
    "    encoder = adapt_encoder(encoder, mode, dataset, dataset_type)\n",
    "    return encoder\n",
    "\n",
    "\n",
    "    "
   ]
  },
  {
   "attachments": {},
   "cell_type": "markdown",
   "metadata": {},
   "source": [
    "##### Representation 1: Use integer indices encoding"
   ]
  },
  {
   "cell_type": "code",
   "execution_count": 17,
   "metadata": {},
   "outputs": [
    {
     "name": "stdout",
     "output_type": "stream",
     "text": [
      "WARNING:tensorflow:From /home/paul_d/Sources/sem_math_repo/sem_math_env/lib/python3.10/site-packages/tensorflow/python/autograph/pyct/static_analysis/liveness.py:83: Analyzer.lamba_check (from tensorflow.python.autograph.pyct.static_analysis.liveness) is deprecated and will be removed after 2023-09-23.\n",
      "Instructions for updating:\n",
      "Lambda fuctions will be no more assumed to be used in the statement where they are used, or at least in the same block. https://github.com/tensorflow/tensorflow/issues/56089\n",
      "tokens (voc size):  128\n",
      "types (voc size):  61\n"
     ]
    }
   ],
   "source": [
    "encoder_int_tokens = create_encoder(\"int\", None, \"token\", train_dataset1, 1)\n",
    "encoder_int_types = create_encoder(\"int\", None, \"type\", train_dataset2, 2)\n",
    "\n",
    "vocab_tokens = np.array(encoder_int_tokens.get_vocabulary())\n",
    "vocab_size_tokens = len(encoder_int_tokens.get_vocabulary())\n",
    "vocab_types = np.array(encoder_int_types.get_vocabulary())\n",
    "vocab_size_types = len(encoder_int_types.get_vocabulary())\n",
    "\n",
    "print(\"tokens (voc size): \", vocab_size_tokens)\n",
    "print(\"types (voc size): \", vocab_size_types)"
   ]
  },
  {
   "cell_type": "code",
   "execution_count": 18,
   "metadata": {},
   "outputs": [
    {
     "name": "stdout",
     "output_type": "stream",
     "text": [
      "tokens: \n",
      "tf.Tensor(b'f : X \\\\to Y', shape=(), dtype=string)\n",
      "[ 2 11 26 14 35  0  0  0  0  0  0  0  0  0  0  0  0  0  0  0  0  0  0  0\n",
      "  0  0  0  0  0  0  0  0  0  0  0  0  0  0  0  0  0  0  0  0  0  0  0  0\n",
      "  0  0  0  0  0  0  0  0  0  0  0  0  0  0  0  0  0  0  0  0  0  0  0  0\n",
      "  0  0  0  0  0  0  0  0  0  0  0  0  0  0  0  0  0  0  0  0  0  0  0  0\n",
      "  0  0  0  0  0  0  0  0  0  0  0  0  0  0  0  0  0  0  0  0  0  0  0  0\n",
      "  0  0  0  0  0  0  0  0  0  0  0  0  0  0  0  0  0  0  0  0  0  0  0  0\n",
      "  0  0  0  0  0  0  0  0  0  0  0  0  0  0  0  0  0  0  0  0  0  0  0  0\n",
      "  0  0  0  0  0  0  0  0  0  0  0  0  0  0  0  0  0  0  0  0  0  0  0  0\n",
      "  0  0  0  0  0  0  0  0  0  0  0  0  0  0  0  0  0  0  0  0  0  0  0  0\n",
      "  0  0  0  0  0  0  0  0  0  0  0  0  0  0  0  0  0  0  0  0  0  0  0  0\n",
      "  0  0  0  0  0  0  0  0  0  0  0  0  0  0  0  0  0  0  0  0]\n",
      "(260,)\n",
      "types: \n",
      "tf.Tensor(b'func_def func_name __ANON_1 COLON mapping __ANON_0 TO __ANON_0', shape=(), dtype=string)\n",
      "[15  5  3 13 14  6 16  6  0  0  0  0  0  0  0  0  0  0  0  0  0  0  0  0\n",
      "  0  0  0  0  0  0  0  0  0  0  0  0  0  0  0  0  0  0  0  0  0  0  0  0\n",
      "  0  0  0  0  0  0  0  0  0  0  0  0  0  0  0  0  0  0  0  0  0  0  0  0\n",
      "  0  0  0  0  0  0  0  0  0  0  0  0  0  0  0  0  0  0  0  0  0  0  0  0\n",
      "  0  0  0  0  0  0  0  0  0  0  0  0  0  0  0  0  0  0  0  0  0  0  0  0\n",
      "  0  0  0  0  0  0  0  0  0  0  0  0  0  0  0  0  0  0  0  0  0  0  0  0\n",
      "  0  0  0  0  0  0  0  0  0  0  0  0  0  0  0  0  0  0  0  0  0  0  0  0\n",
      "  0  0  0  0  0  0  0  0  0  0  0  0  0  0  0  0  0  0  0  0  0  0  0  0\n",
      "  0  0  0  0  0  0  0  0  0  0  0  0  0  0  0  0  0  0  0  0  0  0  0  0\n",
      "  0  0  0  0  0  0  0  0  0  0  0  0  0  0  0  0  0  0  0  0  0  0  0  0\n",
      "  0  0  0  0  0  0  0  0  0  0  0  0  0  0  0  0  0  0  0  0]\n",
      "(260,)\n"
     ]
    }
   ],
   "source": [
    "encoded_example_token = encoder_int_tokens(example_token).numpy()\n",
    "encoded_example_types = encoder_int_types(example_type).numpy()\n",
    "\n",
    "print(\"tokens: \")\n",
    "print(example_token)\n",
    "print(encoded_example_token)\n",
    "print(encoded_example_token.shape)\n",
    "\n",
    "print(\"types: \")\n",
    "print(example_type)\n",
    "print(encoded_example_types)\n",
    "print(encoded_example_types.shape)"
   ]
  },
  {
   "attachments": {},
   "cell_type": "markdown",
   "metadata": {},
   "source": [
    "##### Representation 2: Count Vectorizer"
   ]
  },
  {
   "cell_type": "code",
   "execution_count": 19,
   "metadata": {},
   "outputs": [
    {
     "name": "stdout",
     "output_type": "stream",
     "text": [
      "tokens (voc size):  127\n",
      "types (voc size):  60\n"
     ]
    }
   ],
   "source": [
    "encoder_count_tokens = create_encoder(\"count\", None, \"token\", train_dataset1, 1)\n",
    "encoder_count_types = create_encoder(\"count\", None, \"type\", train_dataset2, 2)\n",
    "\n",
    "vocab_tokens = np.array(encoder_count_tokens.get_vocabulary())\n",
    "vocab_size_tokens = len(encoder_count_tokens.get_vocabulary())\n",
    "vocab_types = np.array(encoder_count_types.get_vocabulary())\n",
    "vocab_size_types = len(encoder_count_types.get_vocabulary())\n",
    "\n",
    "print(\"tokens (voc size): \", vocab_size_tokens)\n",
    "print(\"types (voc size): \", vocab_size_types)"
   ]
  },
  {
   "cell_type": "code",
   "execution_count": 20,
   "metadata": {},
   "outputs": [
    {
     "name": "stdout",
     "output_type": "stream",
     "text": [
      "tokens: \n",
      "tf.Tensor(b'f : X \\\\to Y', shape=(), dtype=string)\n",
      "[0. 1. 0. 0. 0. 0. 0. 0. 0. 0. 1. 0. 0. 1. 0. 0. 0. 0. 0. 0. 0. 0. 0. 0.\n",
      " 0. 1. 0. 0. 0. 0. 0. 0. 0. 0. 1. 0. 0. 0. 0. 0. 0. 0. 0. 0. 0. 0. 0. 0.\n",
      " 0. 0. 0. 0. 0. 0. 0. 0. 0. 0. 0. 0. 0. 0. 0. 0. 0. 0. 0. 0. 0. 0. 0. 0.\n",
      " 0. 0. 0. 0. 0. 0. 0. 0. 0. 0. 0. 0. 0. 0. 0. 0. 0. 0. 0. 0. 0. 0. 0. 0.\n",
      " 0. 0. 0. 0. 0. 0. 0. 0. 0. 0. 0. 0. 0. 0. 0. 0. 0. 0. 0. 0. 0. 0. 0. 0.\n",
      " 0. 0. 0. 0. 0. 0. 0. 0. 0. 0. 0. 0. 0. 0. 0. 0. 0. 0. 0. 0. 0. 0. 0. 0.\n",
      " 0. 0. 0. 0. 0. 0. 0. 0. 0. 0. 0. 0. 0. 0. 0. 0. 0. 0. 0. 0. 0. 0. 0. 0.\n",
      " 0. 0. 0. 0. 0. 0. 0. 0. 0. 0. 0. 0. 0. 0. 0. 0. 0. 0. 0. 0. 0. 0. 0. 0.\n",
      " 0. 0. 0. 0. 0. 0. 0. 0.]\n",
      "(200,)\n",
      "types: \n",
      "tf.Tensor(b'func_def func_name __ANON_1 COLON mapping __ANON_0 TO __ANON_0', shape=(), dtype=string)\n",
      "[0. 0. 1. 0. 1. 2. 0. 0. 0. 0. 0. 0. 1. 1. 1. 1. 0. 0. 0. 0. 0. 0. 0. 0.\n",
      " 0. 0. 0. 0. 0. 0. 0. 0. 0. 0. 0. 0. 0. 0. 0. 0. 0. 0. 0. 0. 0. 0. 0. 0.\n",
      " 0. 0. 0. 0. 0. 0. 0. 0. 0. 0. 0. 0. 0. 0. 0. 0. 0. 0. 0. 0. 0. 0. 0. 0.\n",
      " 0. 0. 0. 0. 0. 0. 0. 0.]\n",
      "(80,)\n"
     ]
    }
   ],
   "source": [
    "encoded_example_token = encoder_count_tokens(example_token).numpy()\n",
    "encoded_example_types = encoder_count_types(example_type).numpy()\n",
    "\n",
    "print(\"tokens: \")\n",
    "print(example_token)\n",
    "print(encoded_example_token)\n",
    "print(encoded_example_token.shape)\n",
    "\n",
    "print(\"types: \")\n",
    "print(example_type)\n",
    "print(encoded_example_types)\n",
    "print(encoded_example_types.shape)"
   ]
  },
  {
   "attachments": {},
   "cell_type": "markdown",
   "metadata": {},
   "source": [
    "##### Model (RNN(BiLSTM))"
   ]
  },
  {
   "attachments": {},
   "cell_type": "markdown",
   "metadata": {},
   "source": [
    " **Train the model**"
   ]
  },
  {
   "attachments": {},
   "cell_type": "markdown",
   "metadata": {},
   "source": [
    "#### Experiment 1: Use integer indices for encoding tokens"
   ]
  },
  {
   "attachments": {},
   "cell_type": "markdown",
   "metadata": {},
   "source": [
    "##### Model 1: ONLY TOKENS\n",
    "Find best hyperparameters"
   ]
  },
  {
   "cell_type": "code",
   "execution_count": null,
   "metadata": {},
   "outputs": [],
   "source": [
    "tokens_input_len = TOKENS_MAX_SEQ_LEN \n",
    "type_input_len = TYPE_TOKENS_MAX_SEQ_LEN\n",
    "NUM_CLASSES = 40\n",
    "\n",
    "encoder_int_tokens1 = create_encoder(\"int\", None, \"token\", train_dataset1, 1)\n",
    "model_builder1 = mc_u.create_model_builder1_RNN(NUM_CLASSES, encoder_int_tokens1, tokens_input_len)"
   ]
  },
  {
   "cell_type": "code",
   "execution_count": null,
   "metadata": {},
   "outputs": [],
   "source": [
    "tuner = kt.Hyperband(model_builder1,\n",
    "                     objective=kt.Objective(\"val_accuracy\", direction=\"max\"),\n",
    "                     max_epochs=15,\n",
    "                     factor=3,\n",
    "                     directory='meta_dir/model1_rnn',\n",
    "                     project_name='model1_rnn')\n",
    "stop_early = tf.keras.callbacks.EarlyStopping(monitor='val_loss', patience=3)"
   ]
  },
  {
   "cell_type": "code",
   "execution_count": null,
   "metadata": {},
   "outputs": [],
   "source": [
    "tuner.search(train_dataset1,\n",
    "             epochs=30,\n",
    "             validation_data=test_dataset1,\n",
    "             #steps_per_epoch = STEPS_PER_EPOCH,\n",
    "             validation_steps = VAL_STEPS_PER_EPOCH,\n",
    "             callbacks= [stop_early])#[tensorboard_callback])"
   ]
  },
  {
   "cell_type": "code",
   "execution_count": null,
   "metadata": {},
   "outputs": [],
   "source": [
    "best_hps=tuner.get_best_hyperparameters(num_trials=1)[0]\n",
    "optimal_lr = best_hps.get(\"learning_rate\")\n",
    "optimal_emb_dims = best_hps.get(\"emb_dims\")\n",
    "optimal_lstm_units = best_hps.get(\"lstm_units\")\n",
    "optimal_dense_units = best_hps.get(\"dense_units\")\n",
    "\n",
    "print(optimal_lr)\n",
    "print(optimal_emb_dims)\n",
    "print(optimal_lstm_units)\n",
    "print(optimal_dense_units)"
   ]
  },
  {
   "attachments": {},
   "cell_type": "markdown",
   "metadata": {},
   "source": [
    "Train with best hyperparameters"
   ]
  },
  {
   "cell_type": "code",
   "execution_count": null,
   "metadata": {},
   "outputs": [],
   "source": [
    "NUM_EPOCHS = 50\n",
    "model1 = mc_u.create_model1_RNN(NUM_CLASSES, optimal_emb_dims, optimal_lstm_units, optimal_dense_units, encoder_int_tokens1, tokens_input_len)\n",
    "model1.compile(loss=tf.keras.losses.BinaryCrossentropy(from_logits=True),\n",
    "              optimizer=tf.keras.optimizers.Adam(optimal_lr),\n",
    "              metrics=[\"accuracy\", tf.keras.metrics.Recall()])"
   ]
  },
  {
   "cell_type": "code",
   "execution_count": null,
   "metadata": {},
   "outputs": [],
   "source": [
    "configs_dict = {\n",
    "    \"learning_rate\": optimal_lr,\n",
    "    \"emb_dim\": optimal_emb_dims,\n",
    "    \"lstm_units\": optimal_lstm_units, \n",
    "    \"dense_units\": optimal_dense_units,\n",
    "    \"algorithm\": \"BiLstm\",\n",
    "     \n",
    "    \"configuration\": \"multi_only_tokens\",\n",
    "    \"optimizer\": \"adam\",\n",
    "    \"loss\": \"binary_crossentropy\",\n",
    "    \"epochs\": NUM_EPOCHS,\n",
    "    \"batch_size\": 64,\n",
    "    \"vectorizer\": \"int\",\n",
    "    \"dataset\": \"multi_class_unbalanced_data_TOKENIZED_V1\"\n",
    "}\n",
    "\n",
    "run = wandb.init(project=wandb_project_name, reinit=True, config=configs_dict)\n",
    "\n",
    "history = model1.fit(train_dataset1, \n",
    "                    epochs=NUM_EPOCHS,\n",
    "                    validation_data=test_dataset1,\n",
    "                    #steps_per_epoch = STEPS_PER_EPOCH,\n",
    "                    validation_steps = VAL_STEPS_PER_EPOCH,\n",
    "                    callbacks= [WandbCallback()])#[tensorboard_callback])\n",
    "run.finish()"
   ]
  },
  {
   "attachments": {},
   "cell_type": "markdown",
   "metadata": {},
   "source": [
    "##### Model 2: ONLY TYPES\n",
    "Find best hyperparameters"
   ]
  },
  {
   "cell_type": "code",
   "execution_count": null,
   "metadata": {},
   "outputs": [],
   "source": [
    "tokens_input_len = TOKENS_MAX_SEQ_LEN \n",
    "type_input_len = TYPE_TOKENS_MAX_SEQ_LEN\n",
    "NUM_CLASSES = 40\n",
    "\n",
    "encoder_int_types2 = create_encoder(\"int\", None, \"type\", train_dataset2, 2)    \n",
    "model_builder2 = mc_u.create_model_builder2_RNN(NUM_CLASSES, encoder_int_types2,type_input_len)"
   ]
  },
  {
   "cell_type": "code",
   "execution_count": null,
   "metadata": {},
   "outputs": [
    {
     "name": "stdout",
     "output_type": "stream",
     "text": [
      "INFO:tensorflow:Reloading Tuner from meta_dir/model2_rnn/model2_rnn/tuner0.json\n"
     ]
    }
   ],
   "source": [
    "tuner = kt.Hyperband(model_builder2,\n",
    "                     objective=kt.Objective(\"val_accuracy\", direction=\"max\"),\n",
    "                     max_epochs=15,\n",
    "                     factor=3,\n",
    "                     directory='meta_dir/model2_rnn',\n",
    "                     project_name='model2_rnn')\n",
    "stop_early = tf.keras.callbacks.EarlyStopping(monitor='val_loss', patience=3)\n"
   ]
  },
  {
   "cell_type": "code",
   "execution_count": null,
   "metadata": {},
   "outputs": [
    {
     "name": "stdout",
     "output_type": "stream",
     "text": [
      "INFO:tensorflow:Oracle triggered exit\n"
     ]
    }
   ],
   "source": [
    "tuner.search(train_dataset2,\n",
    "             epochs=30,\n",
    "             validation_data=test_dataset2,\n",
    "             #steps_per_epoch = STEPS_PER_EPOCH,\n",
    "             validation_steps = VAL_STEPS_PER_EPOCH,\n",
    "             callbacks= [stop_early])#[tensorboard_callback])"
   ]
  },
  {
   "cell_type": "code",
   "execution_count": null,
   "metadata": {},
   "outputs": [
    {
     "name": "stdout",
     "output_type": "stream",
     "text": [
      "0.01\n",
      "64\n",
      "64\n",
      "32\n"
     ]
    }
   ],
   "source": [
    "best_hps=tuner.get_best_hyperparameters(num_trials=1)[0]\n",
    "optimal_lr = best_hps.get(\"learning_rate\")\n",
    "optimal_emb_dims = best_hps.get(\"emb_dims\")\n",
    "optimal_lstm_units = best_hps.get(\"lstm_units\")\n",
    "optimal_dense_units = best_hps.get(\"dense_units\")\n",
    "\n",
    "print(optimal_lr)\n",
    "print(optimal_emb_dims)\n",
    "print(optimal_lstm_units)\n",
    "print(optimal_dense_units)"
   ]
  },
  {
   "attachments": {},
   "cell_type": "markdown",
   "metadata": {},
   "source": [
    "Train with best hyperparameters"
   ]
  },
  {
   "cell_type": "code",
   "execution_count": null,
   "metadata": {},
   "outputs": [],
   "source": [
    "NUM_EPOCHS = 50\n",
    "optimal_lr = 0.0001\n",
    "model2 = mc_u.create_model2_RNN(NUM_CLASSES, optimal_emb_dims, optimal_lstm_units, optimal_dense_units, encoder_int_types2, type_input_len)\n",
    "model2.compile(loss=tf.keras.losses.BinaryCrossentropy(from_logits=True),\n",
    "              optimizer=tf.keras.optimizers.Adam(optimal_lr),\n",
    "              metrics=[\"accuracy\", tf.keras.metrics.Recall()])"
   ]
  },
  {
   "cell_type": "code",
   "execution_count": null,
   "metadata": {},
   "outputs": [
    {
     "name": "stdout",
     "output_type": "stream",
     "text": [
      "Epoch 1/50\n",
      "346/346 [==============================] - ETA: 0s - loss: 0.5069 - accuracy: 0.0928 - recall: 0.0174INFO:tensorflow:Assets written to: /home/paul_d/Sources/sem_math_repo/classification_formulas_multilabel/wandb/run-20230316_202734-z9tb9ipf/files/model-best/assets\n"
     ]
    },
    {
     "name": "stderr",
     "output_type": "stream",
     "text": [
      "INFO:tensorflow:Assets written to: /home/paul_d/Sources/sem_math_repo/classification_formulas_multilabel/wandb/run-20230316_202734-z9tb9ipf/files/model-best/assets\n"
     ]
    },
    {
     "name": "stdout",
     "output_type": "stream",
     "text": [
      "346/346 [==============================] - 66s 177ms/step - loss: 0.5069 - accuracy: 0.0928 - recall: 0.0174 - val_loss: 0.3014 - val_accuracy: 0.0000e+00 - val_recall: 0.0000e+00\n",
      "Epoch 2/50\n",
      "346/346 [==============================] - ETA: 0s - loss: 0.2018 - accuracy: 0.4463 - recall: 0.0496INFO:tensorflow:Assets written to: /home/paul_d/Sources/sem_math_repo/classification_formulas_multilabel/wandb/run-20230316_202734-z9tb9ipf/files/model-best/assets\n"
     ]
    },
    {
     "name": "stderr",
     "output_type": "stream",
     "text": [
      "INFO:tensorflow:Assets written to: /home/paul_d/Sources/sem_math_repo/classification_formulas_multilabel/wandb/run-20230316_202734-z9tb9ipf/files/model-best/assets\n"
     ]
    },
    {
     "name": "stdout",
     "output_type": "stream",
     "text": [
      "346/346 [==============================] - 59s 172ms/step - loss: 0.2018 - accuracy: 0.4463 - recall: 0.0496 - val_loss: 0.2003 - val_accuracy: 0.0000e+00 - val_recall: 0.0034\n",
      "Epoch 3/50\n",
      "346/346 [==============================] - ETA: 0s - loss: 0.1611 - accuracy: 0.4315 - recall: 0.0450INFO:tensorflow:Assets written to: /home/paul_d/Sources/sem_math_repo/classification_formulas_multilabel/wandb/run-20230316_202734-z9tb9ipf/files/model-best/assets\n"
     ]
    },
    {
     "name": "stderr",
     "output_type": "stream",
     "text": [
      "INFO:tensorflow:Assets written to: /home/paul_d/Sources/sem_math_repo/classification_formulas_multilabel/wandb/run-20230316_202734-z9tb9ipf/files/model-best/assets\n"
     ]
    },
    {
     "name": "stdout",
     "output_type": "stream",
     "text": [
      "346/346 [==============================] - 57s 164ms/step - loss: 0.1611 - accuracy: 0.4315 - recall: 0.0450 - val_loss: 0.1805 - val_accuracy: 0.0000e+00 - val_recall: 0.0000e+00\n",
      "Epoch 4/50\n",
      "346/346 [==============================] - ETA: 0s - loss: 0.1529 - accuracy: 0.4188 - recall: 0.0274INFO:tensorflow:Assets written to: /home/paul_d/Sources/sem_math_repo/classification_formulas_multilabel/wandb/run-20230316_202734-z9tb9ipf/files/model-best/assets\n"
     ]
    },
    {
     "name": "stderr",
     "output_type": "stream",
     "text": [
      "INFO:tensorflow:Assets written to: /home/paul_d/Sources/sem_math_repo/classification_formulas_multilabel/wandb/run-20230316_202734-z9tb9ipf/files/model-best/assets\n"
     ]
    },
    {
     "name": "stdout",
     "output_type": "stream",
     "text": [
      "346/346 [==============================] - 57s 165ms/step - loss: 0.1529 - accuracy: 0.4188 - recall: 0.0274 - val_loss: 0.1756 - val_accuracy: 0.0000e+00 - val_recall: 0.0000e+00\n",
      "Epoch 5/50\n",
      "346/346 [==============================] - ETA: 0s - loss: 0.1499 - accuracy: 0.4122 - recall: 0.0212INFO:tensorflow:Assets written to: /home/paul_d/Sources/sem_math_repo/classification_formulas_multilabel/wandb/run-20230316_202734-z9tb9ipf/files/model-best/assets\n"
     ]
    },
    {
     "name": "stderr",
     "output_type": "stream",
     "text": [
      "INFO:tensorflow:Assets written to: /home/paul_d/Sources/sem_math_repo/classification_formulas_multilabel/wandb/run-20230316_202734-z9tb9ipf/files/model-best/assets\n"
     ]
    },
    {
     "name": "stdout",
     "output_type": "stream",
     "text": [
      "346/346 [==============================] - 57s 166ms/step - loss: 0.1499 - accuracy: 0.4122 - recall: 0.0212 - val_loss: 0.1741 - val_accuracy: 0.0000e+00 - val_recall: 0.0000e+00\n",
      "Epoch 6/50\n",
      "346/346 [==============================] - ETA: 0s - loss: 0.1486 - accuracy: 0.4097 - recall: 0.0125INFO:tensorflow:Assets written to: /home/paul_d/Sources/sem_math_repo/classification_formulas_multilabel/wandb/run-20230316_202734-z9tb9ipf/files/model-best/assets\n"
     ]
    },
    {
     "name": "stderr",
     "output_type": "stream",
     "text": [
      "INFO:tensorflow:Assets written to: /home/paul_d/Sources/sem_math_repo/classification_formulas_multilabel/wandb/run-20230316_202734-z9tb9ipf/files/model-best/assets\n"
     ]
    },
    {
     "name": "stdout",
     "output_type": "stream",
     "text": [
      "346/346 [==============================] - 58s 166ms/step - loss: 0.1486 - accuracy: 0.4097 - recall: 0.0125 - val_loss: 0.1732 - val_accuracy: 0.0000e+00 - val_recall: 0.0000e+00\n",
      "Epoch 7/50\n",
      "346/346 [==============================] - ETA: 0s - loss: 0.1480 - accuracy: 0.4103 - recall: 0.0061INFO:tensorflow:Assets written to: /home/paul_d/Sources/sem_math_repo/classification_formulas_multilabel/wandb/run-20230316_202734-z9tb9ipf/files/model-best/assets\n"
     ]
    },
    {
     "name": "stderr",
     "output_type": "stream",
     "text": [
      "INFO:tensorflow:Assets written to: /home/paul_d/Sources/sem_math_repo/classification_formulas_multilabel/wandb/run-20230316_202734-z9tb9ipf/files/model-best/assets\n"
     ]
    },
    {
     "name": "stdout",
     "output_type": "stream",
     "text": [
      "346/346 [==============================] - 57s 166ms/step - loss: 0.1480 - accuracy: 0.4103 - recall: 0.0061 - val_loss: 0.1722 - val_accuracy: 0.0000e+00 - val_recall: 0.0000e+00\n",
      "Epoch 8/50\n",
      "346/346 [==============================] - ETA: 0s - loss: 0.1475 - accuracy: 0.4100 - recall: 0.0064INFO:tensorflow:Assets written to: /home/paul_d/Sources/sem_math_repo/classification_formulas_multilabel/wandb/run-20230316_202734-z9tb9ipf/files/model-best/assets\n"
     ]
    },
    {
     "name": "stderr",
     "output_type": "stream",
     "text": [
      "INFO:tensorflow:Assets written to: /home/paul_d/Sources/sem_math_repo/classification_formulas_multilabel/wandb/run-20230316_202734-z9tb9ipf/files/model-best/assets\n"
     ]
    },
    {
     "name": "stdout",
     "output_type": "stream",
     "text": [
      "346/346 [==============================] - 58s 166ms/step - loss: 0.1475 - accuracy: 0.4100 - recall: 0.0064 - val_loss: 0.1710 - val_accuracy: 0.0000e+00 - val_recall: 0.0000e+00\n",
      "Epoch 9/50\n",
      "346/346 [==============================] - ETA: 0s - loss: 0.1470 - accuracy: 0.4137 - recall: 0.0089INFO:tensorflow:Assets written to: /home/paul_d/Sources/sem_math_repo/classification_formulas_multilabel/wandb/run-20230316_202734-z9tb9ipf/files/model-best/assets\n"
     ]
    },
    {
     "name": "stderr",
     "output_type": "stream",
     "text": [
      "INFO:tensorflow:Assets written to: /home/paul_d/Sources/sem_math_repo/classification_formulas_multilabel/wandb/run-20230316_202734-z9tb9ipf/files/model-best/assets\n"
     ]
    },
    {
     "name": "stdout",
     "output_type": "stream",
     "text": [
      "346/346 [==============================] - 58s 166ms/step - loss: 0.1470 - accuracy: 0.4137 - recall: 0.0089 - val_loss: 0.1698 - val_accuracy: 0.0000e+00 - val_recall: 0.0000e+00\n",
      "Epoch 10/50\n",
      "346/346 [==============================] - ETA: 0s - loss: 0.1464 - accuracy: 0.4209 - recall: 0.0161INFO:tensorflow:Assets written to: /home/paul_d/Sources/sem_math_repo/classification_formulas_multilabel/wandb/run-20230316_202734-z9tb9ipf/files/model-best/assets\n"
     ]
    },
    {
     "name": "stderr",
     "output_type": "stream",
     "text": [
      "INFO:tensorflow:Assets written to: /home/paul_d/Sources/sem_math_repo/classification_formulas_multilabel/wandb/run-20230316_202734-z9tb9ipf/files/model-best/assets\n"
     ]
    },
    {
     "name": "stdout",
     "output_type": "stream",
     "text": [
      "346/346 [==============================] - 58s 167ms/step - loss: 0.1464 - accuracy: 0.4209 - recall: 0.0161 - val_loss: 0.1681 - val_accuracy: 0.0000e+00 - val_recall: 0.0000e+00\n",
      "Epoch 11/50\n",
      "346/346 [==============================] - ETA: 0s - loss: 0.1455 - accuracy: 0.4312 - recall: 0.0254INFO:tensorflow:Assets written to: /home/paul_d/Sources/sem_math_repo/classification_formulas_multilabel/wandb/run-20230316_202734-z9tb9ipf/files/model-best/assets\n"
     ]
    },
    {
     "name": "stderr",
     "output_type": "stream",
     "text": [
      "INFO:tensorflow:Assets written to: /home/paul_d/Sources/sem_math_repo/classification_formulas_multilabel/wandb/run-20230316_202734-z9tb9ipf/files/model-best/assets\n"
     ]
    },
    {
     "name": "stdout",
     "output_type": "stream",
     "text": [
      "346/346 [==============================] - 57s 165ms/step - loss: 0.1455 - accuracy: 0.4312 - recall: 0.0254 - val_loss: 0.1658 - val_accuracy: 0.0000e+00 - val_recall: 6.7644e-04\n",
      "Epoch 12/50\n",
      "346/346 [==============================] - ETA: 0s - loss: 0.1443 - accuracy: 0.4505 - recall: 0.0370INFO:tensorflow:Assets written to: /home/paul_d/Sources/sem_math_repo/classification_formulas_multilabel/wandb/run-20230316_202734-z9tb9ipf/files/model-best/assets\n"
     ]
    },
    {
     "name": "stderr",
     "output_type": "stream",
     "text": [
      "INFO:tensorflow:Assets written to: /home/paul_d/Sources/sem_math_repo/classification_formulas_multilabel/wandb/run-20230316_202734-z9tb9ipf/files/model-best/assets\n"
     ]
    },
    {
     "name": "stdout",
     "output_type": "stream",
     "text": [
      "346/346 [==============================] - 57s 166ms/step - loss: 0.1443 - accuracy: 0.4505 - recall: 0.0370 - val_loss: 0.1631 - val_accuracy: 0.0000e+00 - val_recall: 9.0192e-04\n",
      "Epoch 13/50\n",
      "346/346 [==============================] - ETA: 0s - loss: 0.1427 - accuracy: 0.4811 - recall: 0.0571INFO:tensorflow:Assets written to: /home/paul_d/Sources/sem_math_repo/classification_formulas_multilabel/wandb/run-20230316_202734-z9tb9ipf/files/model-best/assets\n"
     ]
    },
    {
     "name": "stderr",
     "output_type": "stream",
     "text": [
      "INFO:tensorflow:Assets written to: /home/paul_d/Sources/sem_math_repo/classification_formulas_multilabel/wandb/run-20230316_202734-z9tb9ipf/files/model-best/assets\n"
     ]
    },
    {
     "name": "stdout",
     "output_type": "stream",
     "text": [
      "346/346 [==============================] - 58s 167ms/step - loss: 0.1427 - accuracy: 0.4811 - recall: 0.0571 - val_loss: 0.1588 - val_accuracy: 0.0000e+00 - val_recall: 0.0011\n",
      "Epoch 14/50\n",
      "346/346 [==============================] - ETA: 0s - loss: 0.1410 - accuracy: 0.5130 - recall: 0.0819INFO:tensorflow:Assets written to: /home/paul_d/Sources/sem_math_repo/classification_formulas_multilabel/wandb/run-20230316_202734-z9tb9ipf/files/model-best/assets\n"
     ]
    },
    {
     "name": "stderr",
     "output_type": "stream",
     "text": [
      "INFO:tensorflow:Assets written to: /home/paul_d/Sources/sem_math_repo/classification_formulas_multilabel/wandb/run-20230316_202734-z9tb9ipf/files/model-best/assets\n"
     ]
    },
    {
     "name": "stdout",
     "output_type": "stream",
     "text": [
      "346/346 [==============================] - 58s 168ms/step - loss: 0.1410 - accuracy: 0.5130 - recall: 0.0819 - val_loss: 0.1558 - val_accuracy: 0.1998 - val_recall: 0.0014\n",
      "Epoch 15/50\n",
      "346/346 [==============================] - ETA: 0s - loss: 0.1388 - accuracy: 0.5413 - recall: 0.1170INFO:tensorflow:Assets written to: /home/paul_d/Sources/sem_math_repo/classification_formulas_multilabel/wandb/run-20230316_202734-z9tb9ipf/files/model-best/assets\n"
     ]
    },
    {
     "name": "stderr",
     "output_type": "stream",
     "text": [
      "INFO:tensorflow:Assets written to: /home/paul_d/Sources/sem_math_repo/classification_formulas_multilabel/wandb/run-20230316_202734-z9tb9ipf/files/model-best/assets\n"
     ]
    },
    {
     "name": "stdout",
     "output_type": "stream",
     "text": [
      "346/346 [==============================] - 57s 166ms/step - loss: 0.1388 - accuracy: 0.5413 - recall: 0.1170 - val_loss: 0.1509 - val_accuracy: 0.2693 - val_recall: 0.0027\n",
      "Epoch 16/50\n",
      "346/346 [==============================] - ETA: 0s - loss: 0.1365 - accuracy: 0.5691 - recall: 0.1500INFO:tensorflow:Assets written to: /home/paul_d/Sources/sem_math_repo/classification_formulas_multilabel/wandb/run-20230316_202734-z9tb9ipf/files/model-best/assets\n"
     ]
    },
    {
     "name": "stderr",
     "output_type": "stream",
     "text": [
      "INFO:tensorflow:Assets written to: /home/paul_d/Sources/sem_math_repo/classification_formulas_multilabel/wandb/run-20230316_202734-z9tb9ipf/files/model-best/assets\n"
     ]
    },
    {
     "name": "stdout",
     "output_type": "stream",
     "text": [
      "346/346 [==============================] - 58s 168ms/step - loss: 0.1365 - accuracy: 0.5691 - recall: 0.1500 - val_loss: 0.1484 - val_accuracy: 0.2837 - val_recall: 0.0027\n",
      "Epoch 17/50\n",
      "346/346 [==============================] - 43s 124ms/step - loss: 0.1343 - accuracy: 0.5881 - recall: 0.1644 - val_loss: 0.1508 - val_accuracy: 0.2710 - val_recall: 0.0027\n",
      "Epoch 18/50\n",
      "346/346 [==============================] - ETA: 0s - loss: 0.1338 - accuracy: 0.5756 - recall: 0.1717INFO:tensorflow:Assets written to: /home/paul_d/Sources/sem_math_repo/classification_formulas_multilabel/wandb/run-20230316_202734-z9tb9ipf/files/model-best/assets\n"
     ]
    },
    {
     "name": "stderr",
     "output_type": "stream",
     "text": [
      "INFO:tensorflow:Assets written to: /home/paul_d/Sources/sem_math_repo/classification_formulas_multilabel/wandb/run-20230316_202734-z9tb9ipf/files/model-best/assets\n"
     ]
    },
    {
     "name": "stdout",
     "output_type": "stream",
     "text": [
      "346/346 [==============================] - 58s 167ms/step - loss: 0.1338 - accuracy: 0.5756 - recall: 0.1717 - val_loss: 0.1471 - val_accuracy: 0.3647 - val_recall: 0.0027\n",
      "Epoch 19/50\n",
      "346/346 [==============================] - ETA: 0s - loss: 0.1334 - accuracy: 0.5820 - recall: 0.1735INFO:tensorflow:Assets written to: /home/paul_d/Sources/sem_math_repo/classification_formulas_multilabel/wandb/run-20230316_202734-z9tb9ipf/files/model-best/assets\n"
     ]
    },
    {
     "name": "stderr",
     "output_type": "stream",
     "text": [
      "INFO:tensorflow:Assets written to: /home/paul_d/Sources/sem_math_repo/classification_formulas_multilabel/wandb/run-20230316_202734-z9tb9ipf/files/model-best/assets\n"
     ]
    },
    {
     "name": "stdout",
     "output_type": "stream",
     "text": [
      "346/346 [==============================] - 58s 167ms/step - loss: 0.1334 - accuracy: 0.5820 - recall: 0.1735 - val_loss: 0.1449 - val_accuracy: 0.3750 - val_recall: 0.0027\n",
      "Epoch 20/50\n",
      "346/346 [==============================] - ETA: 0s - loss: 0.1330 - accuracy: 0.5814 - recall: 0.1770INFO:tensorflow:Assets written to: /home/paul_d/Sources/sem_math_repo/classification_formulas_multilabel/wandb/run-20230316_202734-z9tb9ipf/files/model-best/assets\n"
     ]
    },
    {
     "name": "stderr",
     "output_type": "stream",
     "text": [
      "INFO:tensorflow:Assets written to: /home/paul_d/Sources/sem_math_repo/classification_formulas_multilabel/wandb/run-20230316_202734-z9tb9ipf/files/model-best/assets\n"
     ]
    },
    {
     "name": "stdout",
     "output_type": "stream",
     "text": [
      "346/346 [==============================] - 58s 168ms/step - loss: 0.1330 - accuracy: 0.5814 - recall: 0.1770 - val_loss: 0.1441 - val_accuracy: 0.3861 - val_recall: 0.0027\n",
      "Epoch 21/50\n",
      "346/346 [==============================] - ETA: 0s - loss: 0.1327 - accuracy: 0.5849 - recall: 0.1800INFO:tensorflow:Assets written to: /home/paul_d/Sources/sem_math_repo/classification_formulas_multilabel/wandb/run-20230316_202734-z9tb9ipf/files/model-best/assets\n"
     ]
    },
    {
     "name": "stderr",
     "output_type": "stream",
     "text": [
      "INFO:tensorflow:Assets written to: /home/paul_d/Sources/sem_math_repo/classification_formulas_multilabel/wandb/run-20230316_202734-z9tb9ipf/files/model-best/assets\n"
     ]
    },
    {
     "name": "stdout",
     "output_type": "stream",
     "text": [
      "346/346 [==============================] - 58s 168ms/step - loss: 0.1327 - accuracy: 0.5849 - recall: 0.1800 - val_loss: 0.1432 - val_accuracy: 0.3972 - val_recall: 0.0027\n",
      "Epoch 22/50\n",
      "346/346 [==============================] - ETA: 0s - loss: 0.1324 - accuracy: 0.5874 - recall: 0.1821INFO:tensorflow:Assets written to: /home/paul_d/Sources/sem_math_repo/classification_formulas_multilabel/wandb/run-20230316_202734-z9tb9ipf/files/model-best/assets\n"
     ]
    },
    {
     "name": "stderr",
     "output_type": "stream",
     "text": [
      "INFO:tensorflow:Assets written to: /home/paul_d/Sources/sem_math_repo/classification_formulas_multilabel/wandb/run-20230316_202734-z9tb9ipf/files/model-best/assets\n"
     ]
    },
    {
     "name": "stdout",
     "output_type": "stream",
     "text": [
      "346/346 [==============================] - 58s 168ms/step - loss: 0.1324 - accuracy: 0.5874 - recall: 0.1821 - val_loss: 0.1424 - val_accuracy: 0.4276 - val_recall: 0.0027\n",
      "Epoch 23/50\n",
      "346/346 [==============================] - ETA: 0s - loss: 0.1322 - accuracy: 0.5865 - recall: 0.1841INFO:tensorflow:Assets written to: /home/paul_d/Sources/sem_math_repo/classification_formulas_multilabel/wandb/run-20230316_202734-z9tb9ipf/files/model-best/assets\n"
     ]
    },
    {
     "name": "stderr",
     "output_type": "stream",
     "text": [
      "INFO:tensorflow:Assets written to: /home/paul_d/Sources/sem_math_repo/classification_formulas_multilabel/wandb/run-20230316_202734-z9tb9ipf/files/model-best/assets\n"
     ]
    },
    {
     "name": "stdout",
     "output_type": "stream",
     "text": [
      "346/346 [==============================] - 59s 170ms/step - loss: 0.1322 - accuracy: 0.5865 - recall: 0.1841 - val_loss: 0.1421 - val_accuracy: 0.4301 - val_recall: 0.0027\n",
      "Epoch 24/50\n",
      "346/346 [==============================] - ETA: 0s - loss: 0.1320 - accuracy: 0.5908 - recall: 0.1831INFO:tensorflow:Assets written to: /home/paul_d/Sources/sem_math_repo/classification_formulas_multilabel/wandb/run-20230316_202734-z9tb9ipf/files/model-best/assets\n"
     ]
    },
    {
     "name": "stderr",
     "output_type": "stream",
     "text": [
      "INFO:tensorflow:Assets written to: /home/paul_d/Sources/sem_math_repo/classification_formulas_multilabel/wandb/run-20230316_202734-z9tb9ipf/files/model-best/assets\n"
     ]
    },
    {
     "name": "stdout",
     "output_type": "stream",
     "text": [
      "346/346 [==============================] - 59s 170ms/step - loss: 0.1320 - accuracy: 0.5908 - recall: 0.1831 - val_loss: 0.1416 - val_accuracy: 0.4317 - val_recall: 0.0095\n",
      "Epoch 25/50\n",
      "346/346 [==============================] - ETA: 0s - loss: 0.1318 - accuracy: 0.5919 - recall: 0.1853INFO:tensorflow:Assets written to: /home/paul_d/Sources/sem_math_repo/classification_formulas_multilabel/wandb/run-20230316_202734-z9tb9ipf/files/model-best/assets\n"
     ]
    },
    {
     "name": "stderr",
     "output_type": "stream",
     "text": [
      "INFO:tensorflow:Assets written to: /home/paul_d/Sources/sem_math_repo/classification_formulas_multilabel/wandb/run-20230316_202734-z9tb9ipf/files/model-best/assets\n"
     ]
    },
    {
     "name": "stdout",
     "output_type": "stream",
     "text": [
      "346/346 [==============================] - 58s 168ms/step - loss: 0.1318 - accuracy: 0.5919 - recall: 0.1853 - val_loss: 0.1413 - val_accuracy: 0.4317 - val_recall: 0.0095\n",
      "Epoch 26/50\n",
      "346/346 [==============================] - ETA: 0s - loss: 0.1318 - accuracy: 0.5954 - recall: 0.1880INFO:tensorflow:Assets written to: /home/paul_d/Sources/sem_math_repo/classification_formulas_multilabel/wandb/run-20230316_202734-z9tb9ipf/files/model-best/assets\n"
     ]
    },
    {
     "name": "stderr",
     "output_type": "stream",
     "text": [
      "INFO:tensorflow:Assets written to: /home/paul_d/Sources/sem_math_repo/classification_formulas_multilabel/wandb/run-20230316_202734-z9tb9ipf/files/model-best/assets\n"
     ]
    },
    {
     "name": "stdout",
     "output_type": "stream",
     "text": [
      "346/346 [==============================] - 58s 168ms/step - loss: 0.1318 - accuracy: 0.5954 - recall: 0.1880 - val_loss: 0.1401 - val_accuracy: 0.4564 - val_recall: 0.0106\n",
      "Epoch 27/50\n",
      "346/346 [==============================] - 43s 125ms/step - loss: 0.1315 - accuracy: 0.5952 - recall: 0.1854 - val_loss: 0.1404 - val_accuracy: 0.4391 - val_recall: 0.0106\n",
      "Epoch 28/50\n",
      "346/346 [==============================] - 44s 126ms/step - loss: 0.1314 - accuracy: 0.5955 - recall: 0.1853 - val_loss: 0.1405 - val_accuracy: 0.4441 - val_recall: 0.0174\n",
      "Epoch 29/50\n",
      "346/346 [==============================] - 45s 131ms/step - loss: 0.1313 - accuracy: 0.5984 - recall: 0.1861 - val_loss: 0.1402 - val_accuracy: 0.4494 - val_recall: 0.0174\n",
      "Epoch 30/50\n",
      "346/346 [==============================] - 44s 128ms/step - loss: 0.1312 - accuracy: 0.5970 - recall: 0.1857 - val_loss: 0.1402 - val_accuracy: 0.4494 - val_recall: 0.0216\n",
      "Epoch 31/50\n",
      "346/346 [==============================] - ETA: 0s - loss: 0.1312 - accuracy: 0.5993 - recall: 0.1880INFO:tensorflow:Assets written to: /home/paul_d/Sources/sem_math_repo/classification_formulas_multilabel/wandb/run-20230316_202734-z9tb9ipf/files/model-best/assets\n"
     ]
    },
    {
     "name": "stderr",
     "output_type": "stream",
     "text": [
      "INFO:tensorflow:Assets written to: /home/paul_d/Sources/sem_math_repo/classification_formulas_multilabel/wandb/run-20230316_202734-z9tb9ipf/files/model-best/assets\n"
     ]
    },
    {
     "name": "stdout",
     "output_type": "stream",
     "text": [
      "346/346 [==============================] - 61s 175ms/step - loss: 0.1312 - accuracy: 0.5993 - recall: 0.1880 - val_loss: 0.1387 - val_accuracy: 0.4585 - val_recall: 0.1297\n",
      "Epoch 32/50\n",
      "346/346 [==============================] - 45s 130ms/step - loss: 0.1307 - accuracy: 0.6045 - recall: 0.1885 - val_loss: 0.1401 - val_accuracy: 0.4568 - val_recall: 0.0255\n",
      "Epoch 33/50\n",
      "346/346 [==============================] - 45s 129ms/step - loss: 0.1308 - accuracy: 0.6017 - recall: 0.1872 - val_loss: 0.1400 - val_accuracy: 0.4618 - val_recall: 0.0250\n",
      "Epoch 34/50\n",
      "346/346 [==============================] - 45s 130ms/step - loss: 0.1306 - accuracy: 0.6020 - recall: 0.1935 - val_loss: 0.1426 - val_accuracy: 0.4539 - val_recall: 0.0108\n",
      "Epoch 35/50\n",
      "346/346 [==============================] - 45s 131ms/step - loss: 0.1307 - accuracy: 0.5970 - recall: 0.1855 - val_loss: 0.1401 - val_accuracy: 0.4622 - val_recall: 0.0266\n",
      "Epoch 36/50\n",
      "346/346 [==============================] - 45s 131ms/step - loss: 0.1306 - accuracy: 0.5953 - recall: 0.1853 - val_loss: 0.1392 - val_accuracy: 0.4712 - val_recall: 0.0277\n",
      "Epoch 37/50\n",
      "346/346 [==============================] - ETA: 0s - loss: 0.1307 - accuracy: 0.5947 - recall: 0.1862INFO:tensorflow:Assets written to: /home/paul_d/Sources/sem_math_repo/classification_formulas_multilabel/wandb/run-20230316_202734-z9tb9ipf/files/model-best/assets\n"
     ]
    },
    {
     "name": "stderr",
     "output_type": "stream",
     "text": [
      "INFO:tensorflow:Assets written to: /home/paul_d/Sources/sem_math_repo/classification_formulas_multilabel/wandb/run-20230316_202734-z9tb9ipf/files/model-best/assets\n"
     ]
    },
    {
     "name": "stdout",
     "output_type": "stream",
     "text": [
      "346/346 [==============================] - 61s 176ms/step - loss: 0.1307 - accuracy: 0.5947 - recall: 0.1862 - val_loss: 0.1382 - val_accuracy: 0.4733 - val_recall: 0.0322\n",
      "Epoch 38/50\n",
      "346/346 [==============================] - ETA: 0s - loss: 0.1305 - accuracy: 0.5928 - recall: 0.1866INFO:tensorflow:Assets written to: /home/paul_d/Sources/sem_math_repo/classification_formulas_multilabel/wandb/run-20230316_202734-z9tb9ipf/files/model-best/assets\n"
     ]
    },
    {
     "name": "stderr",
     "output_type": "stream",
     "text": [
      "INFO:tensorflow:Assets written to: /home/paul_d/Sources/sem_math_repo/classification_formulas_multilabel/wandb/run-20230316_202734-z9tb9ipf/files/model-best/assets\n"
     ]
    },
    {
     "name": "stdout",
     "output_type": "stream",
     "text": [
      "346/346 [==============================] - 61s 176ms/step - loss: 0.1305 - accuracy: 0.5928 - recall: 0.1866 - val_loss: 0.1376 - val_accuracy: 0.5004 - val_recall: 0.0329\n",
      "Epoch 39/50\n",
      "346/346 [==============================] - ETA: 0s - loss: 0.1304 - accuracy: 0.5971 - recall: 0.1857INFO:tensorflow:Assets written to: /home/paul_d/Sources/sem_math_repo/classification_formulas_multilabel/wandb/run-20230316_202734-z9tb9ipf/files/model-best/assets\n"
     ]
    },
    {
     "name": "stderr",
     "output_type": "stream",
     "text": [
      "INFO:tensorflow:Assets written to: /home/paul_d/Sources/sem_math_repo/classification_formulas_multilabel/wandb/run-20230316_202734-z9tb9ipf/files/model-best/assets\n"
     ]
    },
    {
     "name": "stdout",
     "output_type": "stream",
     "text": [
      "346/346 [==============================] - 61s 175ms/step - loss: 0.1304 - accuracy: 0.5971 - recall: 0.1857 - val_loss: 0.1373 - val_accuracy: 0.5012 - val_recall: 0.0349\n",
      "Epoch 40/50\n",
      "346/346 [==============================] - ETA: 0s - loss: 0.1303 - accuracy: 0.5963 - recall: 0.1839INFO:tensorflow:Assets written to: /home/paul_d/Sources/sem_math_repo/classification_formulas_multilabel/wandb/run-20230316_202734-z9tb9ipf/files/model-best/assets\n"
     ]
    },
    {
     "name": "stderr",
     "output_type": "stream",
     "text": [
      "INFO:tensorflow:Assets written to: /home/paul_d/Sources/sem_math_repo/classification_formulas_multilabel/wandb/run-20230316_202734-z9tb9ipf/files/model-best/assets\n"
     ]
    },
    {
     "name": "stdout",
     "output_type": "stream",
     "text": [
      "346/346 [==============================] - 60s 174ms/step - loss: 0.1303 - accuracy: 0.5963 - recall: 0.1839 - val_loss: 0.1371 - val_accuracy: 0.5012 - val_recall: 0.0311\n",
      "Epoch 41/50\n",
      "346/346 [==============================] - ETA: 0s - loss: 0.1303 - accuracy: 0.5951 - recall: 0.1824INFO:tensorflow:Assets written to: /home/paul_d/Sources/sem_math_repo/classification_formulas_multilabel/wandb/run-20230316_202734-z9tb9ipf/files/model-best/assets\n"
     ]
    },
    {
     "name": "stderr",
     "output_type": "stream",
     "text": [
      "INFO:tensorflow:Assets written to: /home/paul_d/Sources/sem_math_repo/classification_formulas_multilabel/wandb/run-20230316_202734-z9tb9ipf/files/model-best/assets\n"
     ]
    },
    {
     "name": "stdout",
     "output_type": "stream",
     "text": [
      "346/346 [==============================] - 60s 175ms/step - loss: 0.1303 - accuracy: 0.5951 - recall: 0.1824 - val_loss: 0.1368 - val_accuracy: 0.5012 - val_recall: 0.0311\n",
      "Epoch 42/50\n",
      "346/346 [==============================] - ETA: 0s - loss: 0.1302 - accuracy: 0.5950 - recall: 0.1838INFO:tensorflow:Assets written to: /home/paul_d/Sources/sem_math_repo/classification_formulas_multilabel/wandb/run-20230316_202734-z9tb9ipf/files/model-best/assets\n"
     ]
    },
    {
     "name": "stderr",
     "output_type": "stream",
     "text": [
      "INFO:tensorflow:Assets written to: /home/paul_d/Sources/sem_math_repo/classification_formulas_multilabel/wandb/run-20230316_202734-z9tb9ipf/files/model-best/assets\n"
     ]
    },
    {
     "name": "stdout",
     "output_type": "stream",
     "text": [
      "346/346 [==============================] - 62s 179ms/step - loss: 0.1302 - accuracy: 0.5950 - recall: 0.1838 - val_loss: 0.1362 - val_accuracy: 0.5012 - val_recall: 0.0316\n",
      "Epoch 43/50\n",
      "346/346 [==============================] - ETA: 0s - loss: 0.1301 - accuracy: 0.5959 - recall: 0.1841INFO:tensorflow:Assets written to: /home/paul_d/Sources/sem_math_repo/classification_formulas_multilabel/wandb/run-20230316_202734-z9tb9ipf/files/model-best/assets\n"
     ]
    },
    {
     "name": "stderr",
     "output_type": "stream",
     "text": [
      "INFO:tensorflow:Assets written to: /home/paul_d/Sources/sem_math_repo/classification_formulas_multilabel/wandb/run-20230316_202734-z9tb9ipf/files/model-best/assets\n"
     ]
    },
    {
     "name": "stdout",
     "output_type": "stream",
     "text": [
      "346/346 [==============================] - 61s 177ms/step - loss: 0.1301 - accuracy: 0.5959 - recall: 0.1841 - val_loss: 0.1360 - val_accuracy: 0.5004 - val_recall: 0.0354\n",
      "Epoch 44/50\n",
      "346/346 [==============================] - ETA: 0s - loss: 0.1300 - accuracy: 0.5946 - recall: 0.1839INFO:tensorflow:Assets written to: /home/paul_d/Sources/sem_math_repo/classification_formulas_multilabel/wandb/run-20230316_202734-z9tb9ipf/files/model-best/assets\n"
     ]
    },
    {
     "name": "stderr",
     "output_type": "stream",
     "text": [
      "INFO:tensorflow:Assets written to: /home/paul_d/Sources/sem_math_repo/classification_formulas_multilabel/wandb/run-20230316_202734-z9tb9ipf/files/model-best/assets\n"
     ]
    },
    {
     "name": "stdout",
     "output_type": "stream",
     "text": [
      "346/346 [==============================] - 61s 176ms/step - loss: 0.1300 - accuracy: 0.5946 - recall: 0.1839 - val_loss: 0.1356 - val_accuracy: 0.5004 - val_recall: 0.1445\n",
      "Epoch 45/50\n",
      "346/346 [==============================] - ETA: 0s - loss: 0.1300 - accuracy: 0.5933 - recall: 0.1824INFO:tensorflow:Assets written to: /home/paul_d/Sources/sem_math_repo/classification_formulas_multilabel/wandb/run-20230316_202734-z9tb9ipf/files/model-best/assets\n"
     ]
    },
    {
     "name": "stderr",
     "output_type": "stream",
     "text": [
      "INFO:tensorflow:Assets written to: /home/paul_d/Sources/sem_math_repo/classification_formulas_multilabel/wandb/run-20230316_202734-z9tb9ipf/files/model-best/assets\n"
     ]
    },
    {
     "name": "stdout",
     "output_type": "stream",
     "text": [
      "346/346 [==============================] - 61s 177ms/step - loss: 0.1300 - accuracy: 0.5933 - recall: 0.1824 - val_loss: 0.1352 - val_accuracy: 0.5070 - val_recall: 0.1490\n",
      "Epoch 46/50\n",
      "346/346 [==============================] - ETA: 0s - loss: 0.1300 - accuracy: 0.5933 - recall: 0.1824INFO:tensorflow:Assets written to: /home/paul_d/Sources/sem_math_repo/classification_formulas_multilabel/wandb/run-20230316_202734-z9tb9ipf/files/model-best/assets\n"
     ]
    },
    {
     "name": "stderr",
     "output_type": "stream",
     "text": [
      "INFO:tensorflow:Assets written to: /home/paul_d/Sources/sem_math_repo/classification_formulas_multilabel/wandb/run-20230316_202734-z9tb9ipf/files/model-best/assets\n"
     ]
    },
    {
     "name": "stdout",
     "output_type": "stream",
     "text": [
      "346/346 [==============================] - 61s 176ms/step - loss: 0.1300 - accuracy: 0.5933 - recall: 0.1824 - val_loss: 0.1348 - val_accuracy: 0.5070 - val_recall: 0.0449\n",
      "Epoch 47/50\n",
      "346/346 [==============================] - 45s 130ms/step - loss: 0.1298 - accuracy: 0.5964 - recall: 0.1822 - val_loss: 0.1348 - val_accuracy: 0.5074 - val_recall: 0.0455\n",
      "Epoch 48/50\n",
      "346/346 [==============================] - ETA: 0s - loss: 0.1298 - accuracy: 0.5937 - recall: 0.1797INFO:tensorflow:Assets written to: /home/paul_d/Sources/sem_math_repo/classification_formulas_multilabel/wandb/run-20230316_202734-z9tb9ipf/files/model-best/assets\n"
     ]
    },
    {
     "name": "stderr",
     "output_type": "stream",
     "text": [
      "INFO:tensorflow:Assets written to: /home/paul_d/Sources/sem_math_repo/classification_formulas_multilabel/wandb/run-20230316_202734-z9tb9ipf/files/model-best/assets\n"
     ]
    },
    {
     "name": "stdout",
     "output_type": "stream",
     "text": [
      "346/346 [==============================] - 60s 174ms/step - loss: 0.1298 - accuracy: 0.5937 - recall: 0.1797 - val_loss: 0.1344 - val_accuracy: 0.5070 - val_recall: 0.0478\n",
      "Epoch 49/50\n",
      "346/346 [==============================] - ETA: 0s - loss: 0.1297 - accuracy: 0.5959 - recall: 0.1794INFO:tensorflow:Assets written to: /home/paul_d/Sources/sem_math_repo/classification_formulas_multilabel/wandb/run-20230316_202734-z9tb9ipf/files/model-best/assets\n"
     ]
    },
    {
     "name": "stderr",
     "output_type": "stream",
     "text": [
      "INFO:tensorflow:Assets written to: /home/paul_d/Sources/sem_math_repo/classification_formulas_multilabel/wandb/run-20230316_202734-z9tb9ipf/files/model-best/assets\n"
     ]
    },
    {
     "name": "stdout",
     "output_type": "stream",
     "text": [
      "346/346 [==============================] - 61s 177ms/step - loss: 0.1297 - accuracy: 0.5959 - recall: 0.1794 - val_loss: 0.1343 - val_accuracy: 0.5074 - val_recall: 0.0485\n",
      "Epoch 50/50\n",
      "346/346 [==============================] - ETA: 0s - loss: 0.1296 - accuracy: 0.5942 - recall: 0.1792INFO:tensorflow:Assets written to: /home/paul_d/Sources/sem_math_repo/classification_formulas_multilabel/wandb/run-20230316_202734-z9tb9ipf/files/model-best/assets\n"
     ]
    },
    {
     "name": "stderr",
     "output_type": "stream",
     "text": [
      "INFO:tensorflow:Assets written to: /home/paul_d/Sources/sem_math_repo/classification_formulas_multilabel/wandb/run-20230316_202734-z9tb9ipf/files/model-best/assets\n"
     ]
    },
    {
     "name": "stdout",
     "output_type": "stream",
     "text": [
      "346/346 [==============================] - 67s 192ms/step - loss: 0.1296 - accuracy: 0.5942 - recall: 0.1792 - val_loss: 0.1342 - val_accuracy: 0.5074 - val_recall: 0.0485\n"
     ]
    }
   ],
   "source": [
    "configs_dict = {\n",
    "    \"learning_rate\": optimal_lr,\n",
    "    \"emb_dim\": optimal_emb_dims,\n",
    "    \"lstm_units\": optimal_lstm_units, \n",
    "    \"dense_units\": optimal_dense_units,\n",
    "    \"algorithm\": \"BiLstm\",\n",
    "    \"configuration\": \"multi_only_types\",\n",
    "    \"optimizer\": \"adam\",\n",
    "    \"loss\": \"binary_crossentropy\",\n",
    "    \"epochs\": NUM_EPOCHS,\n",
    "    \"batch_size\": 64,\n",
    "    \"vectorizer\": \"int\",\n",
    "    \"dataset\": \"multi_class_unbalanced_data_TOKENIZED_V1\"\n",
    "}\n",
    "\n",
    "run = wandb.init(project=wandb_project_name, reinit=True, config=configs_dict)\n",
    "\n",
    "history = model2.fit(train_dataset2, \n",
    "                    epochs=NUM_EPOCHS,\n",
    "                    validation_data=test_dataset2,\n",
    "                    #steps_per_epoch = STEPS_PER_EPOCH,\n",
    "                    validation_steps = VAL_STEPS_PER_EPOCH,\n",
    "                    callbacks= [WandbCallback()])#[tensorboard_callback])\n",
    "run.finish()"
   ]
  },
  {
   "attachments": {},
   "cell_type": "markdown",
   "metadata": {},
   "source": [
    "##### Model 3: TOKENS AND TYPES\n",
    "Find best hyperparameters"
   ]
  },
  {
   "cell_type": "code",
   "execution_count": 21,
   "metadata": {},
   "outputs": [],
   "source": [
    "tokens_input_len = TOKENS_MAX_SEQ_LEN \n",
    "type_input_len = TYPE_TOKENS_MAX_SEQ_LEN\n",
    "NUM_CLASSES = 40\n",
    "\n",
    "encoder_int_tokens3 = create_encoder(\"int\", None, \"token\", train_dataset3, 3)\n",
    "encoder_int_types3 = create_encoder(\"int\", None, \"type\", train_dataset3, 3)\n",
    "model_builder3 = mc_u.create_model_builder3_RNN(NUM_CLASSES, encoder_int_tokens3,encoder_int_types3, tokens_input_len, type_input_len)"
   ]
  },
  {
   "cell_type": "code",
   "execution_count": 22,
   "metadata": {},
   "outputs": [
    {
     "name": "stdout",
     "output_type": "stream",
     "text": [
      "INFO:tensorflow:Reloading Tuner from meta_dir/model3_rnn/model3_rnn/tuner0.json\n"
     ]
    }
   ],
   "source": [
    "tuner = kt.Hyperband(model_builder3,\n",
    "                     objective=kt.Objective(\"val_accuracy\", direction=\"max\"),\n",
    "                     max_epochs=10,\n",
    "                     factor=3,\n",
    "                     directory='meta_dir/model3_rnn',\n",
    "                     project_name='model3_rnn')\n",
    "stop_early = tf.keras.callbacks.EarlyStopping(monitor='val_loss', patience=3)"
   ]
  },
  {
   "cell_type": "code",
   "execution_count": 23,
   "metadata": {},
   "outputs": [
    {
     "name": "stdout",
     "output_type": "stream",
     "text": [
      "INFO:tensorflow:Oracle triggered exit\n"
     ]
    }
   ],
   "source": [
    "tuner.search(train_dataset3,\n",
    "             epochs=10,\n",
    "             validation_data=test_dataset3,\n",
    "             #steps_per_epoch = STEPS_PER_EPOCH,\n",
    "             validation_steps = VAL_STEPS_PER_EPOCH,\n",
    "             callbacks= [stop_early])#[tensorboard_callback])"
   ]
  },
  {
   "cell_type": "code",
   "execution_count": 24,
   "metadata": {},
   "outputs": [
    {
     "name": "stdout",
     "output_type": "stream",
     "text": [
      "0.001\n",
      "32\n",
      "32\n",
      "32\n"
     ]
    }
   ],
   "source": [
    "best_hps=tuner.get_best_hyperparameters(num_trials=1)[0]\n",
    "optimal_lr = best_hps.get(\"learning_rate\")\n",
    "optimal_emb_dims = best_hps.get(\"emb_dims\")\n",
    "optimal_lstm_units = best_hps.get(\"lstm_units\")\n",
    "optimal_dense_units = best_hps.get(\"dense_units\")\n",
    "\n",
    "print(optimal_lr)\n",
    "print(optimal_emb_dims)\n",
    "print(optimal_lstm_units)\n",
    "print(optimal_dense_units)"
   ]
  },
  {
   "attachments": {},
   "cell_type": "markdown",
   "metadata": {},
   "source": [
    "Train with best hyperparameters"
   ]
  },
  {
   "cell_type": "code",
   "execution_count": 25,
   "metadata": {},
   "outputs": [],
   "source": [
    "NUM_EPOCHS = 50\n",
    "model3 = mc_u.create_model3_RNN(NUM_CLASSES, optimal_emb_dims, optimal_lstm_units, optimal_dense_units, encoder_int_tokens3, encoder_int_types3, tokens_input_len, type_input_len)\n",
    "model3.compile(loss=tf.keras.losses.BinaryCrossentropy(from_logits=True),\n",
    "              optimizer=tf.keras.optimizers.Adam(optimal_lr),\n",
    "              metrics=[\"accuracy\", tf.keras.metrics.Recall()])"
   ]
  },
  {
   "cell_type": "code",
   "execution_count": 26,
   "metadata": {},
   "outputs": [
    {
     "name": "stdout",
     "output_type": "stream",
     "text": [
      "Epoch 1/50\n",
      "346/346 [==============================] - ETA: 0s - loss: 0.2025 - accuracy: 0.6179 - recall: 0.2845INFO:tensorflow:Assets written to: /home/paul_d/Sources/sem_math_repo/classification_formulas_multilabel/wandb/run-20230317_083141-cc97whmn/files/model-best/assets\n"
     ]
    },
    {
     "name": "stderr",
     "output_type": "stream",
     "text": [
      "INFO:tensorflow:Assets written to: /home/paul_d/Sources/sem_math_repo/classification_formulas_multilabel/wandb/run-20230317_083141-cc97whmn/files/model-best/assets\n"
     ]
    },
    {
     "name": "stdout",
     "output_type": "stream",
     "text": [
      "346/346 [==============================] - 81s 213ms/step - loss: 0.2025 - accuracy: 0.6179 - recall: 0.2845 - val_loss: 0.2389 - val_accuracy: 0.0000e+00 - val_recall: 0.0000e+00\n",
      "Epoch 2/50\n",
      "346/346 [==============================] - ETA: 0s - loss: 0.1305 - accuracy: 0.6706 - recall: 0.3047INFO:tensorflow:Assets written to: /home/paul_d/Sources/sem_math_repo/classification_formulas_multilabel/wandb/run-20230317_083141-cc97whmn/files/model-best/assets\n"
     ]
    },
    {
     "name": "stderr",
     "output_type": "stream",
     "text": [
      "INFO:tensorflow:Assets written to: /home/paul_d/Sources/sem_math_repo/classification_formulas_multilabel/wandb/run-20230317_083141-cc97whmn/files/model-best/assets\n"
     ]
    },
    {
     "name": "stdout",
     "output_type": "stream",
     "text": [
      "346/346 [==============================] - 72s 207ms/step - loss: 0.1305 - accuracy: 0.6706 - recall: 0.3047 - val_loss: 0.2162 - val_accuracy: 0.0000e+00 - val_recall: 0.0000e+00\n",
      "Epoch 3/50\n",
      "346/346 [==============================] - 53s 154ms/step - loss: 0.1304 - accuracy: 0.6634 - recall: 0.2867 - val_loss: 0.2172 - val_accuracy: 0.0000e+00 - val_recall: 0.0000e+00\n",
      "Epoch 4/50\n",
      "346/346 [==============================] - ETA: 0s - loss: 0.1284 - accuracy: 0.6807 - recall: 0.3068INFO:tensorflow:Assets written to: /home/paul_d/Sources/sem_math_repo/classification_formulas_multilabel/wandb/run-20230317_083141-cc97whmn/files/model-best/assets\n"
     ]
    },
    {
     "name": "stderr",
     "output_type": "stream",
     "text": [
      "INFO:tensorflow:Assets written to: /home/paul_d/Sources/sem_math_repo/classification_formulas_multilabel/wandb/run-20230317_083141-cc97whmn/files/model-best/assets\n"
     ]
    },
    {
     "name": "stdout",
     "output_type": "stream",
     "text": [
      "346/346 [==============================] - 69s 200ms/step - loss: 0.1284 - accuracy: 0.6807 - recall: 0.3068 - val_loss: 0.1918 - val_accuracy: 0.0000e+00 - val_recall: 0.0000e+00\n",
      "Epoch 5/50\n",
      "346/346 [==============================] - 55s 159ms/step - loss: 0.1285 - accuracy: 0.6526 - recall: 0.2929 - val_loss: 0.2204 - val_accuracy: 0.0000e+00 - val_recall: 0.0000e+00\n",
      "Epoch 6/50\n",
      "346/346 [==============================] - ETA: 0s - loss: 0.1273 - accuracy: 0.6713 - recall: 0.2788INFO:tensorflow:Assets written to: /home/paul_d/Sources/sem_math_repo/classification_formulas_multilabel/wandb/run-20230317_083141-cc97whmn/files/model-best/assets\n"
     ]
    },
    {
     "name": "stderr",
     "output_type": "stream",
     "text": [
      "INFO:tensorflow:Assets written to: /home/paul_d/Sources/sem_math_repo/classification_formulas_multilabel/wandb/run-20230317_083141-cc97whmn/files/model-best/assets\n"
     ]
    },
    {
     "name": "stdout",
     "output_type": "stream",
     "text": [
      "346/346 [==============================] - 70s 201ms/step - loss: 0.1273 - accuracy: 0.6713 - recall: 0.2788 - val_loss: 0.1826 - val_accuracy: 0.0000e+00 - val_recall: 0.0000e+00\n",
      "Epoch 7/50\n",
      "346/346 [==============================] - ETA: 0s - loss: 0.1225 - accuracy: 0.6808 - recall: 0.3117INFO:tensorflow:Assets written to: /home/paul_d/Sources/sem_math_repo/classification_formulas_multilabel/wandb/run-20230317_083141-cc97whmn/files/model-best/assets\n"
     ]
    },
    {
     "name": "stderr",
     "output_type": "stream",
     "text": [
      "INFO:tensorflow:Assets written to: /home/paul_d/Sources/sem_math_repo/classification_formulas_multilabel/wandb/run-20230317_083141-cc97whmn/files/model-best/assets\n"
     ]
    },
    {
     "name": "stdout",
     "output_type": "stream",
     "text": [
      "346/346 [==============================] - 71s 206ms/step - loss: 0.1225 - accuracy: 0.6808 - recall: 0.3117 - val_loss: 0.1716 - val_accuracy: 0.0000e+00 - val_recall: 0.0000e+00\n",
      "Epoch 8/50\n",
      "346/346 [==============================] - 55s 158ms/step - loss: 0.1229 - accuracy: 0.6772 - recall: 0.3097 - val_loss: 0.1900 - val_accuracy: 0.0000e+00 - val_recall: 0.0000e+00\n",
      "Epoch 9/50\n",
      "346/346 [==============================] - 56s 162ms/step - loss: 0.1236 - accuracy: 0.6752 - recall: 0.3099 - val_loss: 0.1743 - val_accuracy: 0.0000e+00 - val_recall: 0.0000e+00\n",
      "Epoch 10/50\n",
      "346/346 [==============================] - 55s 158ms/step - loss: 0.1230 - accuracy: 0.6758 - recall: 0.3112 - val_loss: 0.1774 - val_accuracy: 0.0259 - val_recall: 0.0000e+00\n",
      "Epoch 11/50\n",
      "346/346 [==============================] - ETA: 0s - loss: 0.1235 - accuracy: 0.6805 - recall: 0.3056INFO:tensorflow:Assets written to: /home/paul_d/Sources/sem_math_repo/classification_formulas_multilabel/wandb/run-20230317_083141-cc97whmn/files/model-best/assets\n"
     ]
    },
    {
     "name": "stderr",
     "output_type": "stream",
     "text": [
      "INFO:tensorflow:Assets written to: /home/paul_d/Sources/sem_math_repo/classification_formulas_multilabel/wandb/run-20230317_083141-cc97whmn/files/model-best/assets\n"
     ]
    },
    {
     "name": "stdout",
     "output_type": "stream",
     "text": [
      "346/346 [==============================] - 71s 204ms/step - loss: 0.1235 - accuracy: 0.6805 - recall: 0.3056 - val_loss: 0.1667 - val_accuracy: 0.3429 - val_recall: 0.0014\n",
      "Epoch 12/50\n",
      "346/346 [==============================] - 56s 162ms/step - loss: 0.1225 - accuracy: 0.6855 - recall: 0.2989 - val_loss: 0.1694 - val_accuracy: 0.3417 - val_recall: 0.0000e+00\n",
      "Epoch 13/50\n",
      "346/346 [==============================] - 55s 159ms/step - loss: 0.1227 - accuracy: 0.6839 - recall: 0.2972 - val_loss: 0.1698 - val_accuracy: 0.2878 - val_recall: 0.0016\n",
      "Epoch 14/50\n",
      "346/346 [==============================] - 55s 158ms/step - loss: 0.1232 - accuracy: 0.6761 - recall: 0.2806 - val_loss: 0.1733 - val_accuracy: 0.3043 - val_recall: 0.0018\n",
      "Epoch 15/50\n",
      "346/346 [==============================] - 55s 159ms/step - loss: 0.1226 - accuracy: 0.6840 - recall: 0.2837 - val_loss: 0.1837 - val_accuracy: 0.0526 - val_recall: 0.0016\n",
      "Epoch 16/50\n",
      "346/346 [==============================] - ETA: 0s - loss: 0.1223 - accuracy: 0.6838 - recall: 0.2918INFO:tensorflow:Assets written to: /home/paul_d/Sources/sem_math_repo/classification_formulas_multilabel/wandb/run-20230317_083141-cc97whmn/files/model-best/assets\n"
     ]
    },
    {
     "name": "stderr",
     "output_type": "stream",
     "text": [
      "INFO:tensorflow:Assets written to: /home/paul_d/Sources/sem_math_repo/classification_formulas_multilabel/wandb/run-20230317_083141-cc97whmn/files/model-best/assets\n"
     ]
    },
    {
     "name": "stdout",
     "output_type": "stream",
     "text": [
      "346/346 [==============================] - 70s 204ms/step - loss: 0.1223 - accuracy: 0.6838 - recall: 0.2918 - val_loss: 0.1660 - val_accuracy: 0.3100 - val_recall: 0.0018\n",
      "Epoch 17/50\n",
      "346/346 [==============================] - 56s 162ms/step - loss: 0.1236 - accuracy: 0.6715 - recall: 0.2758 - val_loss: 0.1672 - val_accuracy: 0.3043 - val_recall: 0.0018\n",
      "Epoch 18/50\n",
      "346/346 [==============================] - ETA: 0s - loss: 0.1230 - accuracy: 0.6768 - recall: 0.2866INFO:tensorflow:Assets written to: /home/paul_d/Sources/sem_math_repo/classification_formulas_multilabel/wandb/run-20230317_083141-cc97whmn/files/model-best/assets\n"
     ]
    },
    {
     "name": "stderr",
     "output_type": "stream",
     "text": [
      "INFO:tensorflow:Assets written to: /home/paul_d/Sources/sem_math_repo/classification_formulas_multilabel/wandb/run-20230317_083141-cc97whmn/files/model-best/assets\n"
     ]
    },
    {
     "name": "stdout",
     "output_type": "stream",
     "text": [
      "346/346 [==============================] - 73s 210ms/step - loss: 0.1230 - accuracy: 0.6768 - recall: 0.2866 - val_loss: 0.1551 - val_accuracy: 0.3257 - val_recall: 0.0018\n",
      "Epoch 19/50\n",
      "346/346 [==============================] - 56s 161ms/step - loss: 0.1206 - accuracy: 0.6942 - recall: 0.3032 - val_loss: 0.1752 - val_accuracy: 0.0831 - val_recall: 0.0018\n",
      "Epoch 20/50\n",
      "346/346 [==============================] - 55s 160ms/step - loss: 0.1202 - accuracy: 0.6878 - recall: 0.3038 - val_loss: 0.1737 - val_accuracy: 0.0395 - val_recall: 0.0018\n",
      "Epoch 21/50\n",
      "346/346 [==============================] - 59s 172ms/step - loss: 0.1190 - accuracy: 0.7052 - recall: 0.3104 - val_loss: 0.1652 - val_accuracy: 0.1365 - val_recall: 2.2548e-04\n",
      "Epoch 22/50\n",
      "346/346 [==============================] - 62s 180ms/step - loss: 0.1204 - accuracy: 0.6858 - recall: 0.3046 - val_loss: 0.2011 - val_accuracy: 0.0794 - val_recall: 2.2548e-04\n",
      "Epoch 23/50\n",
      "346/346 [==============================] - 59s 171ms/step - loss: 0.1214 - accuracy: 0.6861 - recall: 0.3032 - val_loss: 0.1612 - val_accuracy: 0.1965 - val_recall: 0.0016\n",
      "Epoch 24/50\n",
      "346/346 [==============================] - 56s 162ms/step - loss: 0.1202 - accuracy: 0.6978 - recall: 0.2957 - val_loss: 0.2057 - val_accuracy: 0.0757 - val_recall: 0.0034\n",
      "Epoch 25/50\n",
      "346/346 [==============================] - 55s 159ms/step - loss: 0.1169 - accuracy: 0.7360 - recall: 0.3478 - val_loss: 0.2065 - val_accuracy: 0.0942 - val_recall: 0.0259\n",
      "Epoch 26/50\n",
      "346/346 [==============================] - 56s 162ms/step - loss: 0.1192 - accuracy: 0.7025 - recall: 0.3272 - val_loss: 0.1653 - val_accuracy: 0.2118 - val_recall: 0.0126\n",
      "Epoch 27/50\n",
      "346/346 [==============================] - 55s 160ms/step - loss: 0.1211 - accuracy: 0.6791 - recall: 0.2917 - val_loss: 0.1626 - val_accuracy: 0.3059 - val_recall: 0.0018\n",
      "Epoch 28/50\n",
      "346/346 [==============================] - ETA: 0s - loss: 0.1205 - accuracy: 0.6945 - recall: 0.3076INFO:tensorflow:Assets written to: /home/paul_d/Sources/sem_math_repo/classification_formulas_multilabel/wandb/run-20230317_083141-cc97whmn/files/model-best/assets\n"
     ]
    },
    {
     "name": "stderr",
     "output_type": "stream",
     "text": [
      "INFO:tensorflow:Assets written to: /home/paul_d/Sources/sem_math_repo/classification_formulas_multilabel/wandb/run-20230317_083141-cc97whmn/files/model-best/assets\n"
     ]
    },
    {
     "name": "stdout",
     "output_type": "stream",
     "text": [
      "346/346 [==============================] - 71s 205ms/step - loss: 0.1205 - accuracy: 0.6945 - recall: 0.3076 - val_loss: 0.1507 - val_accuracy: 0.3413 - val_recall: 0.0185\n",
      "Epoch 29/50\n",
      "346/346 [==============================] - 56s 160ms/step - loss: 0.1216 - accuracy: 0.6694 - recall: 0.2872 - val_loss: 0.1577 - val_accuracy: 0.2895 - val_recall: 0.0153\n",
      "Epoch 30/50\n",
      "346/346 [==============================] - 56s 161ms/step - loss: 0.1197 - accuracy: 0.6883 - recall: 0.2880 - val_loss: 0.1651 - val_accuracy: 0.3359 - val_recall: 0.0187\n",
      "Epoch 31/50\n",
      "346/346 [==============================] - 56s 160ms/step - loss: 0.1223 - accuracy: 0.6620 - recall: 0.2746 - val_loss: 0.1564 - val_accuracy: 0.3524 - val_recall: 0.0092\n",
      "Epoch 32/50\n",
      "346/346 [==============================] - 56s 161ms/step - loss: 0.1191 - accuracy: 0.6970 - recall: 0.2995 - val_loss: 0.1599 - val_accuracy: 0.3590 - val_recall: 0.0277\n",
      "Epoch 33/50\n",
      "346/346 [==============================] - 56s 161ms/step - loss: 0.1204 - accuracy: 0.6808 - recall: 0.2807 - val_loss: 0.1632 - val_accuracy: 0.3799 - val_recall: 0.0442\n",
      "Epoch 34/50\n",
      "346/346 [==============================] - 56s 162ms/step - loss: 0.1211 - accuracy: 0.6808 - recall: 0.2788 - val_loss: 0.1578 - val_accuracy: 0.3606 - val_recall: 0.0273\n",
      "Epoch 35/50\n",
      "346/346 [==============================] - 56s 163ms/step - loss: 0.1210 - accuracy: 0.6754 - recall: 0.2659 - val_loss: 0.1701 - val_accuracy: 0.3725 - val_recall: 0.0192\n",
      "Epoch 36/50\n",
      "346/346 [==============================] - ETA: 0s - loss: 0.1219 - accuracy: 0.6756 - recall: 0.2832INFO:tensorflow:Assets written to: /home/paul_d/Sources/sem_math_repo/classification_formulas_multilabel/wandb/run-20230317_083141-cc97whmn/files/model-best/assets\n"
     ]
    },
    {
     "name": "stderr",
     "output_type": "stream",
     "text": [
      "INFO:tensorflow:Assets written to: /home/paul_d/Sources/sem_math_repo/classification_formulas_multilabel/wandb/run-20230317_083141-cc97whmn/files/model-best/assets\n"
     ]
    },
    {
     "name": "stdout",
     "output_type": "stream",
     "text": [
      "346/346 [==============================] - 72s 207ms/step - loss: 0.1219 - accuracy: 0.6756 - recall: 0.2832 - val_loss: 0.1484 - val_accuracy: 0.4137 - val_recall: 0.0462\n",
      "Epoch 37/50\n",
      "346/346 [==============================] - 55s 160ms/step - loss: 0.1199 - accuracy: 0.6875 - recall: 0.2800 - val_loss: 0.1704 - val_accuracy: 0.3668 - val_recall: 0.0194\n",
      "Epoch 38/50\n",
      "346/346 [==============================] - 56s 161ms/step - loss: 0.1218 - accuracy: 0.6779 - recall: 0.2918 - val_loss: 0.1585 - val_accuracy: 0.3721 - val_recall: 0.0180\n",
      "Epoch 39/50\n",
      "346/346 [==============================] - 56s 162ms/step - loss: 0.1171 - accuracy: 0.7244 - recall: 0.3080 - val_loss: 0.1879 - val_accuracy: 0.1632 - val_recall: 0.0262\n",
      "Epoch 40/50\n",
      "346/346 [==============================] - 56s 161ms/step - loss: 0.1214 - accuracy: 0.6785 - recall: 0.2967 - val_loss: 0.1502 - val_accuracy: 0.3779 - val_recall: 0.0095\n",
      "Epoch 41/50\n",
      "346/346 [==============================] - ETA: 0s - loss: 0.1217 - accuracy: 0.6765 - recall: 0.2793INFO:tensorflow:Assets written to: /home/paul_d/Sources/sem_math_repo/classification_formulas_multilabel/wandb/run-20230317_083141-cc97whmn/files/model-best/assets\n"
     ]
    },
    {
     "name": "stderr",
     "output_type": "stream",
     "text": [
      "INFO:tensorflow:Assets written to: /home/paul_d/Sources/sem_math_repo/classification_formulas_multilabel/wandb/run-20230317_083141-cc97whmn/files/model-best/assets\n"
     ]
    },
    {
     "name": "stdout",
     "output_type": "stream",
     "text": [
      "346/346 [==============================] - 77s 222ms/step - loss: 0.1217 - accuracy: 0.6765 - recall: 0.2793 - val_loss: 0.1478 - val_accuracy: 0.5724 - val_recall: 0.0117\n",
      "Epoch 42/50\n",
      "346/346 [==============================] - 59s 169ms/step - loss: 0.1184 - accuracy: 0.7144 - recall: 0.3030 - val_loss: 0.1603 - val_accuracy: 0.3898 - val_recall: 0.0320\n",
      "Epoch 43/50\n",
      "346/346 [==============================] - ETA: 0s - loss: 0.1212 - accuracy: 0.6797 - recall: 0.2929INFO:tensorflow:Assets written to: /home/paul_d/Sources/sem_math_repo/classification_formulas_multilabel/wandb/run-20230317_083141-cc97whmn/files/model-best/assets\n"
     ]
    },
    {
     "name": "stderr",
     "output_type": "stream",
     "text": [
      "INFO:tensorflow:Assets written to: /home/paul_d/Sources/sem_math_repo/classification_formulas_multilabel/wandb/run-20230317_083141-cc97whmn/files/model-best/assets\n"
     ]
    },
    {
     "name": "stdout",
     "output_type": "stream",
     "text": [
      "346/346 [==============================] - 74s 213ms/step - loss: 0.1212 - accuracy: 0.6797 - recall: 0.2929 - val_loss: 0.1466 - val_accuracy: 0.5822 - val_recall: 0.0255\n",
      "Epoch 44/50\n",
      "346/346 [==============================] - 57s 165ms/step - loss: 0.1217 - accuracy: 0.6752 - recall: 0.2674 - val_loss: 0.1584 - val_accuracy: 0.3902 - val_recall: 0.0219\n",
      "Epoch 45/50\n",
      "346/346 [==============================] - 57s 166ms/step - loss: 0.1222 - accuracy: 0.6572 - recall: 0.2758 - val_loss: 0.1504 - val_accuracy: 0.3466 - val_recall: 0.0291\n",
      "Epoch 46/50\n",
      "346/346 [==============================] - 57s 164ms/step - loss: 0.1217 - accuracy: 0.6609 - recall: 0.2606 - val_loss: 0.1587 - val_accuracy: 0.3668 - val_recall: 0.0424\n",
      "Epoch 47/50\n",
      "346/346 [==============================] - 57s 164ms/step - loss: 0.1222 - accuracy: 0.6615 - recall: 0.2688 - val_loss: 0.1517 - val_accuracy: 0.3590 - val_recall: 0.0428\n",
      "Epoch 48/50\n",
      "346/346 [==============================] - 57s 165ms/step - loss: 0.1209 - accuracy: 0.6723 - recall: 0.2711 - val_loss: 0.1616 - val_accuracy: 0.1883 - val_recall: 0.0273\n",
      "Epoch 49/50\n",
      "346/346 [==============================] - ETA: 0s - loss: 0.1223 - accuracy: 0.6562 - recall: 0.2629INFO:tensorflow:Assets written to: /home/paul_d/Sources/sem_math_repo/classification_formulas_multilabel/wandb/run-20230317_083141-cc97whmn/files/model-best/assets\n"
     ]
    },
    {
     "name": "stderr",
     "output_type": "stream",
     "text": [
      "INFO:tensorflow:Assets written to: /home/paul_d/Sources/sem_math_repo/classification_formulas_multilabel/wandb/run-20230317_083141-cc97whmn/files/model-best/assets\n"
     ]
    },
    {
     "name": "stdout",
     "output_type": "stream",
     "text": [
      "346/346 [==============================] - 73s 211ms/step - loss: 0.1223 - accuracy: 0.6562 - recall: 0.2629 - val_loss: 0.1410 - val_accuracy: 0.6460 - val_recall: 0.0451\n",
      "Epoch 50/50\n",
      "346/346 [==============================] - 57s 165ms/step - loss: 0.1214 - accuracy: 0.6755 - recall: 0.2742 - val_loss: 0.1484 - val_accuracy: 0.3639 - val_recall: 0.0210\n"
     ]
    }
   ],
   "source": [
    "configs_dict = {\n",
    "    \"learning_rate\": optimal_lr,\n",
    "    \"emb_dim\": optimal_emb_dims,\n",
    "    \"lstm_units\": optimal_lstm_units, \n",
    "    \"dense_units\": optimal_dense_units,\n",
    "    \"algorithm\": \"BiLstm\",\n",
    "    \"configuration\": \"multi_tokens_types\",\n",
    "    \"optimizer\": \"adam\",\n",
    "    \"loss\": \"binary_crossentropy\",\n",
    "    \"epochs\": NUM_EPOCHS,\n",
    "    \"batch_size\": 64,\n",
    "    \"vectorizer\": \"int\",\n",
    "    \"dataset\": \"multi_class_unbalanced_data_TOKENIZED_V1\"\n",
    "}\n",
    "\n",
    "run = wandb.init(project=wandb_project_name, reinit=True, config=configs_dict)\n",
    "\n",
    "history = model3.fit(train_dataset3, \n",
    "                    epochs=NUM_EPOCHS,\n",
    "                    validation_data=test_dataset3,\n",
    "                    #steps_per_epoch = STEPS_PER_EPOCH,\n",
    "                    validation_steps = VAL_STEPS_PER_EPOCH,\n",
    "                    callbacks= [WandbCallback()])#[tensorboard_callback])\n",
    "run.finish()"
   ]
  },
  {
   "attachments": {},
   "cell_type": "markdown",
   "metadata": {},
   "source": [
    "##### Model 4: TOKENS AND TYPES AND SEM MATH LABELS\n",
    "Find best hyperparameters"
   ]
  },
  {
   "cell_type": "code",
   "execution_count": 27,
   "metadata": {},
   "outputs": [],
   "source": [
    "tokens_input_len = TOKENS_MAX_SEQ_LEN \n",
    "type_input_len = TYPE_TOKENS_MAX_SEQ_LEN\n",
    "NUM_CLASSES = 40\n",
    "\n",
    "encoder_int_tokens4 = create_encoder(\"int\", None, \"token\", train_dataset4, 4)\n",
    "encoder_int_types4 = create_encoder(\"int\", None, \"type\", train_dataset4, 4)\n",
    "model_builder4 = mc_u.create_model_builder4_RNN(NUM_CLASSES, encoder_int_tokens4,encoder_int_types4, tokens_input_len, type_input_len, \"int\")"
   ]
  },
  {
   "cell_type": "code",
   "execution_count": 28,
   "metadata": {},
   "outputs": [],
   "source": [
    "tuner = kt.Hyperband(model_builder4,\n",
    "                     objective=kt.Objective(\"val_accuracy\", direction=\"max\"),\n",
    "                     max_epochs=10,\n",
    "                     factor=3,\n",
    "                     directory='meta_dir/model4_rnn',\n",
    "                     project_name='model4_rnn')\n",
    "stop_early = tf.keras.callbacks.EarlyStopping(monitor='val_loss', patience=3)"
   ]
  },
  {
   "cell_type": "code",
   "execution_count": 29,
   "metadata": {},
   "outputs": [
    {
     "name": "stdout",
     "output_type": "stream",
     "text": [
      "Trial 30 Complete [00h 27m 33s]\n",
      "val_accuracy: 0.0\n",
      "\n",
      "Best val_accuracy So Far: 0.02302631549537182\n",
      "Total elapsed time: 04h 21m 41s\n",
      "INFO:tensorflow:Oracle triggered exit\n"
     ]
    },
    {
     "name": "stderr",
     "output_type": "stream",
     "text": [
      "INFO:tensorflow:Oracle triggered exit\n"
     ]
    }
   ],
   "source": [
    "tuner.search(train_dataset4,\n",
    "             epochs=10,\n",
    "             validation_data=test_dataset4,\n",
    "             #steps_per_epoch = STEPS_PER_EPOCH,\n",
    "             validation_steps = VAL_STEPS_PER_EPOCH,\n",
    "             callbacks= [stop_early])#[tensorboard_callback])"
   ]
  },
  {
   "cell_type": "code",
   "execution_count": 30,
   "metadata": {},
   "outputs": [
    {
     "name": "stdout",
     "output_type": "stream",
     "text": [
      "0.001\n",
      "32\n",
      "32\n",
      "96\n"
     ]
    }
   ],
   "source": [
    "best_hps=tuner.get_best_hyperparameters(num_trials=1)[0]\n",
    "optimal_lr = best_hps.get(\"learning_rate\")\n",
    "optimal_emb_dims = best_hps.get(\"emb_dims\")\n",
    "optimal_lstm_units = best_hps.get(\"lstm_units\")\n",
    "optimal_dense_units = best_hps.get(\"dense_units\")\n",
    "\n",
    "print(optimal_lr)\n",
    "print(optimal_emb_dims)\n",
    "print(optimal_lstm_units)\n",
    "print(optimal_dense_units)"
   ]
  },
  {
   "attachments": {},
   "cell_type": "markdown",
   "metadata": {},
   "source": [
    "Train with best hyperparameters"
   ]
  },
  {
   "cell_type": "code",
   "execution_count": 31,
   "metadata": {},
   "outputs": [],
   "source": [
    "NUM_EPOCHS = 50\n",
    "model4 = mc_u.create_model4_RNN(NUM_CLASSES, optimal_emb_dims, optimal_lstm_units, optimal_dense_units, encoder_int_tokens4, encoder_int_types4, tokens_input_len, type_input_len, \"int\")\n",
    "model4.compile(loss=tf.keras.losses.BinaryCrossentropy(from_logits=True),\n",
    "              optimizer=tf.keras.optimizers.Adam(optimal_lr),\n",
    "              metrics=[\"accuracy\", tf.keras.metrics.Recall()])"
   ]
  },
  {
   "cell_type": "code",
   "execution_count": 32,
   "metadata": {},
   "outputs": [
    {
     "name": "stdout",
     "output_type": "stream",
     "text": [
      "Epoch 1/50\n",
      "346/346 [==============================] - ETA: 0s - loss: 0.1748 - accuracy: 0.7570 - recall_1: 0.3469INFO:tensorflow:Assets written to: /home/paul_d/Sources/sem_math_repo/classification_formulas_multilabel/wandb/run-20230317_134422-2jdpsz1w/files/model-best/assets\n"
     ]
    },
    {
     "name": "stderr",
     "output_type": "stream",
     "text": [
      "INFO:tensorflow:Assets written to: /home/paul_d/Sources/sem_math_repo/classification_formulas_multilabel/wandb/run-20230317_134422-2jdpsz1w/files/model-best/assets\n"
     ]
    },
    {
     "name": "stdout",
     "output_type": "stream",
     "text": [
      "346/346 [==============================] - 69s 189ms/step - loss: 0.1748 - accuracy: 0.7570 - recall_1: 0.3469 - val_loss: 0.2372 - val_accuracy: 0.0000e+00 - val_recall_1: 0.0000e+00\n",
      "Epoch 2/50\n",
      "346/346 [==============================] - ETA: 0s - loss: 0.1232 - accuracy: 0.7226 - recall_1: 0.3523INFO:tensorflow:Assets written to: /home/paul_d/Sources/sem_math_repo/classification_formulas_multilabel/wandb/run-20230317_134422-2jdpsz1w/files/model-best/assets\n"
     ]
    },
    {
     "name": "stderr",
     "output_type": "stream",
     "text": [
      "INFO:tensorflow:Assets written to: /home/paul_d/Sources/sem_math_repo/classification_formulas_multilabel/wandb/run-20230317_134422-2jdpsz1w/files/model-best/assets\n"
     ]
    },
    {
     "name": "stdout",
     "output_type": "stream",
     "text": [
      "346/346 [==============================] - 65s 188ms/step - loss: 0.1232 - accuracy: 0.7226 - recall_1: 0.3523 - val_loss: 0.2340 - val_accuracy: 0.0000e+00 - val_recall_1: 0.0000e+00\n",
      "Epoch 3/50\n",
      "346/346 [==============================] - ETA: 0s - loss: 0.1255 - accuracy: 0.6958 - recall_1: 0.3257INFO:tensorflow:Assets written to: /home/paul_d/Sources/sem_math_repo/classification_formulas_multilabel/wandb/run-20230317_134422-2jdpsz1w/files/model-best/assets\n"
     ]
    },
    {
     "name": "stderr",
     "output_type": "stream",
     "text": [
      "INFO:tensorflow:Assets written to: /home/paul_d/Sources/sem_math_repo/classification_formulas_multilabel/wandb/run-20230317_134422-2jdpsz1w/files/model-best/assets\n"
     ]
    },
    {
     "name": "stdout",
     "output_type": "stream",
     "text": [
      "346/346 [==============================] - 66s 190ms/step - loss: 0.1255 - accuracy: 0.6958 - recall_1: 0.3257 - val_loss: 0.2225 - val_accuracy: 0.0000e+00 - val_recall_1: 0.0000e+00\n",
      "Epoch 4/50\n",
      "346/346 [==============================] - ETA: 0s - loss: 0.1256 - accuracy: 0.6847 - recall_1: 0.3119INFO:tensorflow:Assets written to: /home/paul_d/Sources/sem_math_repo/classification_formulas_multilabel/wandb/run-20230317_134422-2jdpsz1w/files/model-best/assets\n"
     ]
    },
    {
     "name": "stderr",
     "output_type": "stream",
     "text": [
      "INFO:tensorflow:Assets written to: /home/paul_d/Sources/sem_math_repo/classification_formulas_multilabel/wandb/run-20230317_134422-2jdpsz1w/files/model-best/assets\n"
     ]
    },
    {
     "name": "stdout",
     "output_type": "stream",
     "text": [
      "346/346 [==============================] - 66s 190ms/step - loss: 0.1256 - accuracy: 0.6847 - recall_1: 0.3119 - val_loss: 0.2189 - val_accuracy: 0.0000e+00 - val_recall_1: 0.0000e+00\n",
      "Epoch 5/50\n",
      "346/346 [==============================] - ETA: 0s - loss: 0.1211 - accuracy: 0.7077 - recall_1: 0.3227INFO:tensorflow:Assets written to: /home/paul_d/Sources/sem_math_repo/classification_formulas_multilabel/wandb/run-20230317_134422-2jdpsz1w/files/model-best/assets\n"
     ]
    },
    {
     "name": "stderr",
     "output_type": "stream",
     "text": [
      "INFO:tensorflow:Assets written to: /home/paul_d/Sources/sem_math_repo/classification_formulas_multilabel/wandb/run-20230317_134422-2jdpsz1w/files/model-best/assets\n"
     ]
    },
    {
     "name": "stdout",
     "output_type": "stream",
     "text": [
      "346/346 [==============================] - 66s 190ms/step - loss: 0.1211 - accuracy: 0.7077 - recall_1: 0.3227 - val_loss: 0.1946 - val_accuracy: 0.0000e+00 - val_recall_1: 0.0000e+00\n",
      "Epoch 6/50\n",
      "346/346 [==============================] - ETA: 0s - loss: 0.1183 - accuracy: 0.7224 - recall_1: 0.3398INFO:tensorflow:Assets written to: /home/paul_d/Sources/sem_math_repo/classification_formulas_multilabel/wandb/run-20230317_134422-2jdpsz1w/files/model-best/assets\n"
     ]
    },
    {
     "name": "stderr",
     "output_type": "stream",
     "text": [
      "INFO:tensorflow:Assets written to: /home/paul_d/Sources/sem_math_repo/classification_formulas_multilabel/wandb/run-20230317_134422-2jdpsz1w/files/model-best/assets\n"
     ]
    },
    {
     "name": "stdout",
     "output_type": "stream",
     "text": [
      "346/346 [==============================] - 66s 190ms/step - loss: 0.1183 - accuracy: 0.7224 - recall_1: 0.3398 - val_loss: 0.1850 - val_accuracy: 0.0000e+00 - val_recall_1: 0.0000e+00\n",
      "Epoch 7/50\n",
      "346/346 [==============================] - 50s 145ms/step - loss: 0.1196 - accuracy: 0.7044 - recall_1: 0.3262 - val_loss: 0.1913 - val_accuracy: 0.0000e+00 - val_recall_1: 0.0000e+00\n",
      "Epoch 8/50\n",
      "346/346 [==============================] - ETA: 0s - loss: 0.1199 - accuracy: 0.6974 - recall_1: 0.3211INFO:tensorflow:Assets written to: /home/paul_d/Sources/sem_math_repo/classification_formulas_multilabel/wandb/run-20230317_134422-2jdpsz1w/files/model-best/assets\n"
     ]
    },
    {
     "name": "stderr",
     "output_type": "stream",
     "text": [
      "INFO:tensorflow:Assets written to: /home/paul_d/Sources/sem_math_repo/classification_formulas_multilabel/wandb/run-20230317_134422-2jdpsz1w/files/model-best/assets\n"
     ]
    },
    {
     "name": "stdout",
     "output_type": "stream",
     "text": [
      "346/346 [==============================] - 66s 189ms/step - loss: 0.1199 - accuracy: 0.6974 - recall_1: 0.3211 - val_loss: 0.1800 - val_accuracy: 0.0000e+00 - val_recall_1: 0.0000e+00\n",
      "Epoch 9/50\n",
      "346/346 [==============================] - 50s 145ms/step - loss: 0.1194 - accuracy: 0.6963 - recall_1: 0.3246 - val_loss: 0.1996 - val_accuracy: 0.0099 - val_recall_1: 0.0000e+00\n",
      "Epoch 10/50\n",
      "346/346 [==============================] - 50s 144ms/step - loss: 0.1198 - accuracy: 0.7057 - recall_1: 0.3168 - val_loss: 0.1864 - val_accuracy: 0.0000e+00 - val_recall_1: 0.0000e+00\n",
      "Epoch 11/50\n",
      "346/346 [==============================] - 50s 143ms/step - loss: 0.1181 - accuracy: 0.7108 - recall_1: 0.3177 - val_loss: 0.1971 - val_accuracy: 0.0025 - val_recall_1: 0.0000e+00\n",
      "Epoch 12/50\n",
      "346/346 [==============================] - ETA: 0s - loss: 0.1160 - accuracy: 0.7321 - recall_1: 0.3414INFO:tensorflow:Assets written to: /home/paul_d/Sources/sem_math_repo/classification_formulas_multilabel/wandb/run-20230317_134422-2jdpsz1w/files/model-best/assets\n"
     ]
    },
    {
     "name": "stderr",
     "output_type": "stream",
     "text": [
      "INFO:tensorflow:Assets written to: /home/paul_d/Sources/sem_math_repo/classification_formulas_multilabel/wandb/run-20230317_134422-2jdpsz1w/files/model-best/assets\n"
     ]
    },
    {
     "name": "stdout",
     "output_type": "stream",
     "text": [
      "346/346 [==============================] - 65s 187ms/step - loss: 0.1160 - accuracy: 0.7321 - recall_1: 0.3414 - val_loss: 0.1742 - val_accuracy: 0.0925 - val_recall_1: 0.0000e+00\n",
      "Epoch 13/50\n",
      "346/346 [==============================] - 50s 143ms/step - loss: 0.1164 - accuracy: 0.7267 - recall_1: 0.3390 - val_loss: 0.2046 - val_accuracy: 0.0160 - val_recall_1: 0.0000e+00\n",
      "Epoch 14/50\n",
      "346/346 [==============================] - 49s 143ms/step - loss: 0.1167 - accuracy: 0.7267 - recall_1: 0.3349 - val_loss: 0.2021 - val_accuracy: 0.0226 - val_recall_1: 2.2548e-04\n",
      "Epoch 15/50\n",
      "346/346 [==============================] - 49s 141ms/step - loss: 0.1184 - accuracy: 0.7077 - recall_1: 0.3268 - val_loss: 0.1827 - val_accuracy: 0.0567 - val_recall_1: 0.0014\n",
      "Epoch 16/50\n",
      "346/346 [==============================] - ETA: 0s - loss: 0.1180 - accuracy: 0.7110 - recall_1: 0.3254INFO:tensorflow:Assets written to: /home/paul_d/Sources/sem_math_repo/classification_formulas_multilabel/wandb/run-20230317_134422-2jdpsz1w/files/model-best/assets\n"
     ]
    },
    {
     "name": "stderr",
     "output_type": "stream",
     "text": [
      "INFO:tensorflow:Assets written to: /home/paul_d/Sources/sem_math_repo/classification_formulas_multilabel/wandb/run-20230317_134422-2jdpsz1w/files/model-best/assets\n"
     ]
    },
    {
     "name": "stdout",
     "output_type": "stream",
     "text": [
      "346/346 [==============================] - 65s 187ms/step - loss: 0.1180 - accuracy: 0.7110 - recall_1: 0.3254 - val_loss: 0.1649 - val_accuracy: 0.2323 - val_recall_1: 0.0016\n",
      "Epoch 17/50\n",
      "346/346 [==============================] - ETA: 0s - loss: 0.1165 - accuracy: 0.7261 - recall_1: 0.3326INFO:tensorflow:Assets written to: /home/paul_d/Sources/sem_math_repo/classification_formulas_multilabel/wandb/run-20230317_134422-2jdpsz1w/files/model-best/assets\n"
     ]
    },
    {
     "name": "stderr",
     "output_type": "stream",
     "text": [
      "INFO:tensorflow:Assets written to: /home/paul_d/Sources/sem_math_repo/classification_formulas_multilabel/wandb/run-20230317_134422-2jdpsz1w/files/model-best/assets\n"
     ]
    },
    {
     "name": "stdout",
     "output_type": "stream",
     "text": [
      "346/346 [==============================] - 64s 186ms/step - loss: 0.1165 - accuracy: 0.7261 - recall_1: 0.3326 - val_loss: 0.1633 - val_accuracy: 0.2039 - val_recall_1: 0.0011\n",
      "Epoch 18/50\n",
      "346/346 [==============================] - ETA: 0s - loss: 0.1167 - accuracy: 0.7177 - recall_1: 0.3271INFO:tensorflow:Assets written to: /home/paul_d/Sources/sem_math_repo/classification_formulas_multilabel/wandb/run-20230317_134422-2jdpsz1w/files/model-best/assets\n"
     ]
    },
    {
     "name": "stderr",
     "output_type": "stream",
     "text": [
      "INFO:tensorflow:Assets written to: /home/paul_d/Sources/sem_math_repo/classification_formulas_multilabel/wandb/run-20230317_134422-2jdpsz1w/files/model-best/assets\n"
     ]
    },
    {
     "name": "stdout",
     "output_type": "stream",
     "text": [
      "346/346 [==============================] - 64s 186ms/step - loss: 0.1167 - accuracy: 0.7177 - recall_1: 0.3271 - val_loss: 0.1602 - val_accuracy: 0.3322 - val_recall_1: 0.0000e+00\n",
      "Epoch 19/50\n",
      "346/346 [==============================] - 49s 141ms/step - loss: 0.1155 - accuracy: 0.7326 - recall_1: 0.3351 - val_loss: 0.1985 - val_accuracy: 0.1061 - val_recall_1: 9.0192e-04\n",
      "Epoch 20/50\n",
      "346/346 [==============================] - 48s 140ms/step - loss: 0.1166 - accuracy: 0.7245 - recall_1: 0.3387 - val_loss: 0.1621 - val_accuracy: 0.2323 - val_recall_1: 6.7644e-04\n",
      "Epoch 21/50\n",
      "346/346 [==============================] - 48s 140ms/step - loss: 0.1166 - accuracy: 0.7220 - recall_1: 0.3267 - val_loss: 0.1769 - val_accuracy: 0.2200 - val_recall_1: 0.0014\n",
      "Epoch 22/50\n",
      "346/346 [==============================] - 49s 140ms/step - loss: 0.1156 - accuracy: 0.7262 - recall_1: 0.3296 - val_loss: 0.2006 - val_accuracy: 0.0789 - val_recall_1: 0.0011\n",
      "Epoch 23/50\n",
      "346/346 [==============================] - ETA: 0s - loss: 0.1163 - accuracy: 0.7276 - recall_1: 0.3502INFO:tensorflow:Assets written to: /home/paul_d/Sources/sem_math_repo/classification_formulas_multilabel/wandb/run-20230317_134422-2jdpsz1w/files/model-best/assets\n"
     ]
    },
    {
     "name": "stderr",
     "output_type": "stream",
     "text": [
      "INFO:tensorflow:Assets written to: /home/paul_d/Sources/sem_math_repo/classification_formulas_multilabel/wandb/run-20230317_134422-2jdpsz1w/files/model-best/assets\n"
     ]
    },
    {
     "name": "stdout",
     "output_type": "stream",
     "text": [
      "346/346 [==============================] - 65s 187ms/step - loss: 0.1163 - accuracy: 0.7276 - recall_1: 0.3502 - val_loss: 0.1573 - val_accuracy: 0.2899 - val_recall_1: 0.0016\n",
      "Epoch 24/50\n",
      "346/346 [==============================] - 49s 141ms/step - loss: 0.1192 - accuracy: 0.7016 - recall_1: 0.3034 - val_loss: 0.1780 - val_accuracy: 0.0909 - val_recall_1: 0.0023\n",
      "Epoch 25/50\n",
      "346/346 [==============================] - 49s 140ms/step - loss: 0.1195 - accuracy: 0.6945 - recall_1: 0.3083 - val_loss: 0.1850 - val_accuracy: 0.1295 - val_recall_1: 0.0020\n",
      "Epoch 26/50\n",
      "346/346 [==============================] - 49s 140ms/step - loss: 0.1196 - accuracy: 0.6969 - recall_1: 0.3072 - val_loss: 0.1577 - val_accuracy: 0.3503 - val_recall_1: 0.0038\n",
      "Epoch 27/50\n",
      "346/346 [==============================] - ETA: 0s - loss: 0.1210 - accuracy: 0.6794 - recall_1: 0.2837INFO:tensorflow:Assets written to: /home/paul_d/Sources/sem_math_repo/classification_formulas_multilabel/wandb/run-20230317_134422-2jdpsz1w/files/model-best/assets\n"
     ]
    },
    {
     "name": "stderr",
     "output_type": "stream",
     "text": [
      "INFO:tensorflow:Assets written to: /home/paul_d/Sources/sem_math_repo/classification_formulas_multilabel/wandb/run-20230317_134422-2jdpsz1w/files/model-best/assets\n"
     ]
    },
    {
     "name": "stdout",
     "output_type": "stream",
     "text": [
      "346/346 [==============================] - 64s 186ms/step - loss: 0.1210 - accuracy: 0.6794 - recall_1: 0.2837 - val_loss: 0.1562 - val_accuracy: 0.3257 - val_recall_1: 0.0194\n",
      "Epoch 28/50\n",
      "346/346 [==============================] - 49s 141ms/step - loss: 0.1208 - accuracy: 0.6824 - recall_1: 0.2800 - val_loss: 0.1604 - val_accuracy: 0.2648 - val_recall_1: 0.0124\n",
      "Epoch 29/50\n",
      "346/346 [==============================] - 49s 140ms/step - loss: 0.1179 - accuracy: 0.7081 - recall_1: 0.3058 - val_loss: 0.1610 - val_accuracy: 0.2817 - val_recall_1: 0.0106\n",
      "Epoch 30/50\n",
      "346/346 [==============================] - 49s 140ms/step - loss: 0.1155 - accuracy: 0.7264 - recall_1: 0.3191 - val_loss: 0.1946 - val_accuracy: 0.0222 - val_recall_1: 6.7644e-04\n",
      "Epoch 31/50\n",
      "346/346 [==============================] - 49s 140ms/step - loss: 0.1171 - accuracy: 0.7063 - recall_1: 0.3290 - val_loss: 0.1577 - val_accuracy: 0.1665 - val_recall_1: 6.7644e-04\n",
      "Epoch 32/50\n",
      "346/346 [==============================] - ETA: 0s - loss: 0.1192 - accuracy: 0.6891 - recall_1: 0.2998INFO:tensorflow:Assets written to: /home/paul_d/Sources/sem_math_repo/classification_formulas_multilabel/wandb/run-20230317_134422-2jdpsz1w/files/model-best/assets\n"
     ]
    },
    {
     "name": "stderr",
     "output_type": "stream",
     "text": [
      "INFO:tensorflow:Assets written to: /home/paul_d/Sources/sem_math_repo/classification_formulas_multilabel/wandb/run-20230317_134422-2jdpsz1w/files/model-best/assets\n"
     ]
    },
    {
     "name": "stdout",
     "output_type": "stream",
     "text": [
      "346/346 [==============================] - 65s 187ms/step - loss: 0.1192 - accuracy: 0.6891 - recall_1: 0.2998 - val_loss: 0.1559 - val_accuracy: 0.2718 - val_recall_1: 0.0090\n",
      "Epoch 33/50\n",
      "346/346 [==============================] - 49s 141ms/step - loss: 0.1198 - accuracy: 0.6787 - recall_1: 0.2874 - val_loss: 0.1639 - val_accuracy: 0.1303 - val_recall_1: 0.0036\n",
      "Epoch 34/50\n",
      "346/346 [==============================] - 49s 140ms/step - loss: 0.1208 - accuracy: 0.6737 - recall_1: 0.2788 - val_loss: 0.1681 - val_accuracy: 0.1377 - val_recall_1: 0.0160\n",
      "Epoch 35/50\n",
      "346/346 [==============================] - 49s 141ms/step - loss: 0.1193 - accuracy: 0.6779 - recall_1: 0.2878 - val_loss: 0.1605 - val_accuracy: 0.2553 - val_recall_1: 0.0020\n",
      "Epoch 36/50\n",
      "346/346 [==============================] - 49s 140ms/step - loss: 0.1179 - accuracy: 0.7034 - recall_1: 0.3029 - val_loss: 0.1651 - val_accuracy: 0.2508 - val_recall_1: 0.0291\n",
      "Epoch 37/50\n",
      "346/346 [==============================] - 49s 140ms/step - loss: 0.1182 - accuracy: 0.6962 - recall_1: 0.3053 - val_loss: 0.1620 - val_accuracy: 0.2060 - val_recall_1: 0.0113\n",
      "Epoch 38/50\n",
      "346/346 [==============================] - ETA: 0s - loss: 0.1191 - accuracy: 0.6832 - recall_1: 0.2979INFO:tensorflow:Assets written to: /home/paul_d/Sources/sem_math_repo/classification_formulas_multilabel/wandb/run-20230317_134422-2jdpsz1w/files/model-best/assets\n"
     ]
    },
    {
     "name": "stderr",
     "output_type": "stream",
     "text": [
      "INFO:tensorflow:Assets written to: /home/paul_d/Sources/sem_math_repo/classification_formulas_multilabel/wandb/run-20230317_134422-2jdpsz1w/files/model-best/assets\n"
     ]
    },
    {
     "name": "stdout",
     "output_type": "stream",
     "text": [
      "346/346 [==============================] - 64s 186ms/step - loss: 0.1191 - accuracy: 0.6832 - recall_1: 0.2979 - val_loss: 0.1553 - val_accuracy: 0.1546 - val_recall_1: 0.0284\n",
      "Epoch 39/50\n",
      "346/346 [==============================] - ETA: 0s - loss: 0.1172 - accuracy: 0.7026 - recall_1: 0.3119INFO:tensorflow:Assets written to: /home/paul_d/Sources/sem_math_repo/classification_formulas_multilabel/wandb/run-20230317_134422-2jdpsz1w/files/model-best/assets\n"
     ]
    },
    {
     "name": "stderr",
     "output_type": "stream",
     "text": [
      "INFO:tensorflow:Assets written to: /home/paul_d/Sources/sem_math_repo/classification_formulas_multilabel/wandb/run-20230317_134422-2jdpsz1w/files/model-best/assets\n"
     ]
    },
    {
     "name": "stdout",
     "output_type": "stream",
     "text": [
      "346/346 [==============================] - 65s 187ms/step - loss: 0.1172 - accuracy: 0.7026 - recall_1: 0.3119 - val_loss: 0.1513 - val_accuracy: 0.3207 - val_recall_1: 0.0144\n",
      "Epoch 40/50\n",
      "346/346 [==============================] - 52s 152ms/step - loss: 0.1181 - accuracy: 0.6917 - recall_1: 0.2950 - val_loss: 0.1628 - val_accuracy: 0.1271 - val_recall_1: 0.0194\n",
      "Epoch 41/50\n",
      "346/346 [==============================] - ETA: 0s - loss: 0.1190 - accuracy: 0.6772 - recall_1: 0.2917INFO:tensorflow:Assets written to: /home/paul_d/Sources/sem_math_repo/classification_formulas_multilabel/wandb/run-20230317_134422-2jdpsz1w/files/model-best/assets\n"
     ]
    },
    {
     "name": "stderr",
     "output_type": "stream",
     "text": [
      "INFO:tensorflow:Assets written to: /home/paul_d/Sources/sem_math_repo/classification_formulas_multilabel/wandb/run-20230317_134422-2jdpsz1w/files/model-best/assets\n"
     ]
    },
    {
     "name": "stdout",
     "output_type": "stream",
     "text": [
      "346/346 [==============================] - 65s 189ms/step - loss: 0.1190 - accuracy: 0.6772 - recall_1: 0.2917 - val_loss: 0.1481 - val_accuracy: 0.3569 - val_recall_1: 0.0183\n",
      "Epoch 42/50\n",
      "346/346 [==============================] - 49s 143ms/step - loss: 0.1184 - accuracy: 0.6853 - recall_1: 0.2833 - val_loss: 0.1780 - val_accuracy: 0.2730 - val_recall_1: 0.0194\n",
      "Epoch 43/50\n",
      "346/346 [==============================] - 49s 142ms/step - loss: 0.1194 - accuracy: 0.6777 - recall_1: 0.2872 - val_loss: 0.1632 - val_accuracy: 0.2726 - val_recall_1: 0.0248\n",
      "Epoch 44/50\n",
      "346/346 [==============================] - 48s 138ms/step - loss: 0.1202 - accuracy: 0.6614 - recall_1: 0.2788 - val_loss: 0.1979 - val_accuracy: 0.0794 - val_recall_1: 0.0248\n",
      "Epoch 45/50\n",
      "346/346 [==============================] - 48s 138ms/step - loss: 0.1198 - accuracy: 0.6722 - recall_1: 0.2787 - val_loss: 0.1549 - val_accuracy: 0.2603 - val_recall_1: 0.0325\n",
      "Epoch 46/50\n",
      "346/346 [==============================] - 48s 138ms/step - loss: 0.1194 - accuracy: 0.6748 - recall_1: 0.2772 - val_loss: 0.1567 - val_accuracy: 0.3084 - val_recall_1: 0.0379\n",
      "Epoch 47/50\n",
      "346/346 [==============================] - 56s 162ms/step - loss: 0.1194 - accuracy: 0.6756 - recall_1: 0.2764 - val_loss: 0.1560 - val_accuracy: 0.2640 - val_recall_1: 0.0135\n",
      "Epoch 48/50\n",
      "346/346 [==============================] - 55s 158ms/step - loss: 0.1205 - accuracy: 0.6643 - recall_1: 0.2649 - val_loss: 0.1550 - val_accuracy: 0.3100 - val_recall_1: 0.0223\n",
      "Epoch 49/50\n",
      "346/346 [==============================] - 50s 144ms/step - loss: 0.1200 - accuracy: 0.6651 - recall_1: 0.2586 - val_loss: 0.1565 - val_accuracy: 0.2870 - val_recall_1: 0.0275\n",
      "Epoch 50/50\n",
      "346/346 [==============================] - 50s 144ms/step - loss: 0.1205 - accuracy: 0.6587 - recall_1: 0.2539 - val_loss: 0.1522 - val_accuracy: 0.3232 - val_recall_1: 0.0368\n"
     ]
    }
   ],
   "source": [
    "configs_dict = {\n",
    "    \"learning_rate\": optimal_lr,\n",
    "    \"emb_dim\": optimal_emb_dims,\n",
    "    \"lstm_units\": optimal_lstm_units, \n",
    "    \"dense_units\": optimal_dense_units,\n",
    "    \"algorithm\": \"BiLstm\",\n",
    "    \"configuration\": \"multi_all_features\",\n",
    "    \"optimizer\": \"adam\",\n",
    "    \"loss\": \"binary_crossentropy\",\n",
    "    \"epochs\": NUM_EPOCHS,\n",
    "    \"batch_size\": 64,\n",
    "    \"vectorizer\": \"int\",\n",
    "    \"dataset\": \"multi_class_unbalanced_data_TOKENIZED_V1\"\n",
    "}\n",
    "\n",
    "run = wandb.init(project=wandb_project_name, reinit=True, config=configs_dict)\n",
    "\n",
    "history = model4.fit(train_dataset4, \n",
    "                    epochs=NUM_EPOCHS,\n",
    "                    validation_data=test_dataset4,\n",
    "                    #steps_per_epoch = STEPS_PER_EPOCH,\n",
    "                    validation_steps = VAL_STEPS_PER_EPOCH,\n",
    "                    callbacks= [WandbCallback()])#[tensorboard_callback])\n",
    "run.finish()"
   ]
  },
  {
   "attachments": {},
   "cell_type": "markdown",
   "metadata": {},
   "source": [
    "#### Experiment 2: Use count vectorizer"
   ]
  },
  {
   "attachments": {},
   "cell_type": "markdown",
   "metadata": {},
   "source": [
    "##### Model 1: ONLY TOKENS\n",
    "Find best hyperparameters"
   ]
  },
  {
   "cell_type": "code",
   "execution_count": 21,
   "metadata": {},
   "outputs": [],
   "source": [
    "tokens_input_len = TOKENS_MAX_SEQ_LEN \n",
    "type_input_len = TYPE_TOKENS_MAX_SEQ_LEN\n",
    "NUM_CLASSES = 40\n",
    "\n",
    "encoder_count_tokens1 = create_encoder(\"count\", None, \"token\", train_dataset1, 1)\n",
    "model_builder1c = mc_u.create_model_builder1_RNN(NUM_CLASSES, encoder_count_tokens1,tokens_input_len)"
   ]
  },
  {
   "cell_type": "code",
   "execution_count": 22,
   "metadata": {},
   "outputs": [],
   "source": [
    "tuner = kt.Hyperband(model_builder1c,\n",
    "                     objective=kt.Objective(\"val_accuracy\", direction=\"max\"),\n",
    "                     max_epochs=10,\n",
    "                     factor=3,\n",
    "                     directory='meta_dir/model1c_rnn',\n",
    "                     project_name='model1c_rnn')\n",
    "stop_early = tf.keras.callbacks.EarlyStopping(monitor='val_loss', patience=3)"
   ]
  },
  {
   "cell_type": "code",
   "execution_count": 23,
   "metadata": {},
   "outputs": [
    {
     "name": "stdout",
     "output_type": "stream",
     "text": [
      "Trial 30 Complete [00h 05m 46s]\n",
      "val_accuracy: 0.0\n",
      "\n",
      "Best val_accuracy So Far: 0.4597039520740509\n",
      "Total elapsed time: 01h 27m 55s\n",
      "INFO:tensorflow:Oracle triggered exit\n"
     ]
    }
   ],
   "source": [
    "tuner.search(train_dataset1,\n",
    "             epochs=10,\n",
    "             validation_data=test_dataset1,\n",
    "             #steps_per_epoch = STEPS_PER_EPOCH,\n",
    "             validation_steps = VAL_STEPS_PER_EPOCH,\n",
    "             callbacks= [stop_early])#[tensorboard_callback])"
   ]
  },
  {
   "cell_type": "code",
   "execution_count": 24,
   "metadata": {},
   "outputs": [
    {
     "name": "stdout",
     "output_type": "stream",
     "text": [
      "0.0001\n",
      "64\n",
      "96\n",
      "96\n"
     ]
    }
   ],
   "source": [
    "best_hps=tuner.get_best_hyperparameters(num_trials=1)[0]\n",
    "optimal_lr = best_hps.get(\"learning_rate\")\n",
    "optimal_emb_dims = best_hps.get(\"emb_dims\")\n",
    "optimal_lstm_units = best_hps.get(\"lstm_units\")\n",
    "optimal_dense_units = best_hps.get(\"dense_units\")\n",
    "\n",
    "print(optimal_lr)\n",
    "print(optimal_emb_dims)\n",
    "print(optimal_lstm_units)\n",
    "print(optimal_dense_units)"
   ]
  },
  {
   "attachments": {},
   "cell_type": "markdown",
   "metadata": {},
   "source": [
    "Train with best hyperparameters"
   ]
  },
  {
   "cell_type": "code",
   "execution_count": 25,
   "metadata": {},
   "outputs": [],
   "source": [
    "NUM_EPOCHS = 50\n",
    "optimal_lr = 0.0001\n",
    "model1c = mc_u.create_model1_RNN(NUM_CLASSES, optimal_emb_dims, optimal_lstm_units, optimal_dense_units, encoder_count_tokens, tokens_input_len)\n",
    "model1c.compile(loss=tf.keras.losses.BinaryCrossentropy(from_logits=True),\n",
    "              optimizer=tf.keras.optimizers.Adam(optimal_lr),\n",
    "              metrics=[\"accuracy\", tf.keras.metrics.Recall()])"
   ]
  },
  {
   "cell_type": "code",
   "execution_count": 26,
   "metadata": {},
   "outputs": [
    {
     "name": "stdout",
     "output_type": "stream",
     "text": [
      "Epoch 1/50\n",
      "346/346 [==============================] - ETA: 0s - loss: 0.4780 - accuracy: 0.4781 - recall_1: 0.0577INFO:tensorflow:Assets written to: /home/paul_d/Sources/sem_math_repo/classification_formulas_multilabel/wandb/run-20230317_155959-a4pm31rv/files/model-best/assets\n"
     ]
    },
    {
     "name": "stderr",
     "output_type": "stream",
     "text": [
      "INFO:tensorflow:Assets written to: /home/paul_d/Sources/sem_math_repo/classification_formulas_multilabel/wandb/run-20230317_155959-a4pm31rv/files/model-best/assets\n"
     ]
    },
    {
     "name": "stdout",
     "output_type": "stream",
     "text": [
      "346/346 [==============================] - 79s 212ms/step - loss: 0.4780 - accuracy: 0.4781 - recall_1: 0.0577 - val_loss: 0.3020 - val_accuracy: 0.0000e+00 - val_recall_1: 0.0000e+00\n",
      "Epoch 2/50\n",
      "346/346 [==============================] - ETA: 0s - loss: 0.2471 - accuracy: 0.5140 - recall_1: 0.1170INFO:tensorflow:Assets written to: /home/paul_d/Sources/sem_math_repo/classification_formulas_multilabel/wandb/run-20230317_155959-a4pm31rv/files/model-best/assets\n"
     ]
    },
    {
     "name": "stderr",
     "output_type": "stream",
     "text": [
      "INFO:tensorflow:Assets written to: /home/paul_d/Sources/sem_math_repo/classification_formulas_multilabel/wandb/run-20230317_155959-a4pm31rv/files/model-best/assets\n"
     ]
    },
    {
     "name": "stdout",
     "output_type": "stream",
     "text": [
      "346/346 [==============================] - 73s 210ms/step - loss: 0.2471 - accuracy: 0.5140 - recall_1: 0.1170 - val_loss: 0.2092 - val_accuracy: 0.0000e+00 - val_recall_1: 0.0020\n",
      "Epoch 3/50\n",
      "346/346 [==============================] - ETA: 0s - loss: 0.2150 - accuracy: 0.4856 - recall_1: 0.1007INFO:tensorflow:Assets written to: /home/paul_d/Sources/sem_math_repo/classification_formulas_multilabel/wandb/run-20230317_155959-a4pm31rv/files/model-best/assets\n"
     ]
    },
    {
     "name": "stderr",
     "output_type": "stream",
     "text": [
      "INFO:tensorflow:Assets written to: /home/paul_d/Sources/sem_math_repo/classification_formulas_multilabel/wandb/run-20230317_155959-a4pm31rv/files/model-best/assets\n"
     ]
    },
    {
     "name": "stdout",
     "output_type": "stream",
     "text": [
      "346/346 [==============================] - 73s 210ms/step - loss: 0.2150 - accuracy: 0.4856 - recall_1: 0.1007 - val_loss: 0.1974 - val_accuracy: 0.0000e+00 - val_recall_1: 0.0000e+00\n",
      "Epoch 4/50\n",
      "346/346 [==============================] - ETA: 0s - loss: 0.2022 - accuracy: 0.4625 - recall_1: 0.0836INFO:tensorflow:Assets written to: /home/paul_d/Sources/sem_math_repo/classification_formulas_multilabel/wandb/run-20230317_155959-a4pm31rv/files/model-best/assets\n"
     ]
    },
    {
     "name": "stderr",
     "output_type": "stream",
     "text": [
      "INFO:tensorflow:Assets written to: /home/paul_d/Sources/sem_math_repo/classification_formulas_multilabel/wandb/run-20230317_155959-a4pm31rv/files/model-best/assets\n"
     ]
    },
    {
     "name": "stdout",
     "output_type": "stream",
     "text": [
      "346/346 [==============================] - 72s 210ms/step - loss: 0.2022 - accuracy: 0.4625 - recall_1: 0.0836 - val_loss: 0.1877 - val_accuracy: 0.0000e+00 - val_recall_1: 0.0000e+00\n",
      "Epoch 5/50\n",
      "346/346 [==============================] - ETA: 0s - loss: 0.1893 - accuracy: 0.4509 - recall_1: 0.0814INFO:tensorflow:Assets written to: /home/paul_d/Sources/sem_math_repo/classification_formulas_multilabel/wandb/run-20230317_155959-a4pm31rv/files/model-best/assets\n"
     ]
    },
    {
     "name": "stderr",
     "output_type": "stream",
     "text": [
      "INFO:tensorflow:Assets written to: /home/paul_d/Sources/sem_math_repo/classification_formulas_multilabel/wandb/run-20230317_155959-a4pm31rv/files/model-best/assets\n"
     ]
    },
    {
     "name": "stdout",
     "output_type": "stream",
     "text": [
      "346/346 [==============================] - 73s 212ms/step - loss: 0.1893 - accuracy: 0.4509 - recall_1: 0.0814 - val_loss: 0.1862 - val_accuracy: 0.0000e+00 - val_recall_1: 0.0011\n",
      "Epoch 6/50\n",
      "346/346 [==============================] - ETA: 0s - loss: 0.1788 - accuracy: 0.4279 - recall_1: 0.0469INFO:tensorflow:Assets written to: /home/paul_d/Sources/sem_math_repo/classification_formulas_multilabel/wandb/run-20230317_155959-a4pm31rv/files/model-best/assets\n"
     ]
    },
    {
     "name": "stderr",
     "output_type": "stream",
     "text": [
      "INFO:tensorflow:Assets written to: /home/paul_d/Sources/sem_math_repo/classification_formulas_multilabel/wandb/run-20230317_155959-a4pm31rv/files/model-best/assets\n"
     ]
    },
    {
     "name": "stdout",
     "output_type": "stream",
     "text": [
      "346/346 [==============================] - 73s 211ms/step - loss: 0.1788 - accuracy: 0.4279 - recall_1: 0.0469 - val_loss: 0.1748 - val_accuracy: 0.0000e+00 - val_recall_1: 0.0000e+00\n",
      "Epoch 7/50\n",
      "346/346 [==============================] - ETA: 0s - loss: 0.1691 - accuracy: 0.4148 - recall_1: 0.0353INFO:tensorflow:Assets written to: /home/paul_d/Sources/sem_math_repo/classification_formulas_multilabel/wandb/run-20230317_155959-a4pm31rv/files/model-best/assets\n"
     ]
    },
    {
     "name": "stderr",
     "output_type": "stream",
     "text": [
      "INFO:tensorflow:Assets written to: /home/paul_d/Sources/sem_math_repo/classification_formulas_multilabel/wandb/run-20230317_155959-a4pm31rv/files/model-best/assets\n"
     ]
    },
    {
     "name": "stdout",
     "output_type": "stream",
     "text": [
      "346/346 [==============================] - 73s 210ms/step - loss: 0.1691 - accuracy: 0.4148 - recall_1: 0.0353 - val_loss: 0.1683 - val_accuracy: 0.0000e+00 - val_recall_1: 0.0000e+00\n",
      "Epoch 8/50\n",
      "346/346 [==============================] - ETA: 0s - loss: 0.1624 - accuracy: 0.3960 - recall_1: 0.0190INFO:tensorflow:Assets written to: /home/paul_d/Sources/sem_math_repo/classification_formulas_multilabel/wandb/run-20230317_155959-a4pm31rv/files/model-best/assets\n"
     ]
    },
    {
     "name": "stderr",
     "output_type": "stream",
     "text": [
      "INFO:tensorflow:Assets written to: /home/paul_d/Sources/sem_math_repo/classification_formulas_multilabel/wandb/run-20230317_155959-a4pm31rv/files/model-best/assets\n"
     ]
    },
    {
     "name": "stdout",
     "output_type": "stream",
     "text": [
      "346/346 [==============================] - 73s 210ms/step - loss: 0.1624 - accuracy: 0.3960 - recall_1: 0.0190 - val_loss: 0.1632 - val_accuracy: 0.0000e+00 - val_recall_1: 0.0000e+00\n",
      "Epoch 9/50\n",
      "346/346 [==============================] - ETA: 0s - loss: 0.1573 - accuracy: 0.3885 - recall_1: 0.0097INFO:tensorflow:Assets written to: /home/paul_d/Sources/sem_math_repo/classification_formulas_multilabel/wandb/run-20230317_155959-a4pm31rv/files/model-best/assets\n"
     ]
    },
    {
     "name": "stderr",
     "output_type": "stream",
     "text": [
      "INFO:tensorflow:Assets written to: /home/paul_d/Sources/sem_math_repo/classification_formulas_multilabel/wandb/run-20230317_155959-a4pm31rv/files/model-best/assets\n"
     ]
    },
    {
     "name": "stdout",
     "output_type": "stream",
     "text": [
      "346/346 [==============================] - 73s 210ms/step - loss: 0.1573 - accuracy: 0.3885 - recall_1: 0.0097 - val_loss: 0.1595 - val_accuracy: 0.0000e+00 - val_recall_1: 0.0000e+00\n",
      "Epoch 10/50\n",
      "346/346 [==============================] - ETA: 0s - loss: 0.1536 - accuracy: 0.3947 - recall_1: 0.0114INFO:tensorflow:Assets written to: /home/paul_d/Sources/sem_math_repo/classification_formulas_multilabel/wandb/run-20230317_155959-a4pm31rv/files/model-best/assets\n"
     ]
    },
    {
     "name": "stderr",
     "output_type": "stream",
     "text": [
      "INFO:tensorflow:Assets written to: /home/paul_d/Sources/sem_math_repo/classification_formulas_multilabel/wandb/run-20230317_155959-a4pm31rv/files/model-best/assets\n"
     ]
    },
    {
     "name": "stdout",
     "output_type": "stream",
     "text": [
      "346/346 [==============================] - 73s 210ms/step - loss: 0.1536 - accuracy: 0.3947 - recall_1: 0.0114 - val_loss: 0.1582 - val_accuracy: 0.0000e+00 - val_recall_1: 0.0000e+00\n",
      "Epoch 11/50\n",
      "346/346 [==============================] - ETA: 0s - loss: 0.1512 - accuracy: 0.3904 - recall_1: 5.5424e-04INFO:tensorflow:Assets written to: /home/paul_d/Sources/sem_math_repo/classification_formulas_multilabel/wandb/run-20230317_155959-a4pm31rv/files/model-best/assets\n"
     ]
    },
    {
     "name": "stderr",
     "output_type": "stream",
     "text": [
      "INFO:tensorflow:Assets written to: /home/paul_d/Sources/sem_math_repo/classification_formulas_multilabel/wandb/run-20230317_155959-a4pm31rv/files/model-best/assets\n"
     ]
    },
    {
     "name": "stdout",
     "output_type": "stream",
     "text": [
      "346/346 [==============================] - 73s 210ms/step - loss: 0.1512 - accuracy: 0.3904 - recall_1: 5.5424e-04 - val_loss: 0.1567 - val_accuracy: 0.0000e+00 - val_recall_1: 0.0000e+00\n",
      "Epoch 12/50\n",
      "346/346 [==============================] - 58s 166ms/step - loss: 0.1496 - accuracy: 0.3981 - recall_1: 0.0027 - val_loss: 0.1571 - val_accuracy: 0.3972 - val_recall_1: 0.0000e+00\n",
      "Epoch 13/50\n",
      "346/346 [==============================] - 57s 166ms/step - loss: 0.1480 - accuracy: 0.4188 - recall_1: 0.0071 - val_loss: 0.1569 - val_accuracy: 0.0000e+00 - val_recall_1: 0.0000e+00\n",
      "Epoch 14/50\n",
      "346/346 [==============================] - ETA: 0s - loss: 0.1472 - accuracy: 0.4170 - recall_1: 0.0123INFO:tensorflow:Assets written to: /home/paul_d/Sources/sem_math_repo/classification_formulas_multilabel/wandb/run-20230317_155959-a4pm31rv/files/model-best/assets\n"
     ]
    },
    {
     "name": "stderr",
     "output_type": "stream",
     "text": [
      "INFO:tensorflow:Assets written to: /home/paul_d/Sources/sem_math_repo/classification_formulas_multilabel/wandb/run-20230317_155959-a4pm31rv/files/model-best/assets\n"
     ]
    },
    {
     "name": "stdout",
     "output_type": "stream",
     "text": [
      "346/346 [==============================] - 72s 209ms/step - loss: 0.1472 - accuracy: 0.4170 - recall_1: 0.0123 - val_loss: 0.1557 - val_accuracy: 0.0000e+00 - val_recall_1: 0.0000e+00\n",
      "Epoch 15/50\n",
      "346/346 [==============================] - 58s 166ms/step - loss: 0.1460 - accuracy: 0.4411 - recall_1: 0.0198 - val_loss: 0.1580 - val_accuracy: 0.0000e+00 - val_recall_1: 0.0000e+00\n",
      "Epoch 16/50\n",
      "346/346 [==============================] - 59s 171ms/step - loss: 0.1455 - accuracy: 0.4501 - recall_1: 0.0187 - val_loss: 0.1565 - val_accuracy: 0.0000e+00 - val_recall_1: 0.0000e+00\n",
      "Epoch 17/50\n",
      "346/346 [==============================] - ETA: 0s - loss: 0.1450 - accuracy: 0.4427 - recall_1: 0.0186INFO:tensorflow:Assets written to: /home/paul_d/Sources/sem_math_repo/classification_formulas_multilabel/wandb/run-20230317_155959-a4pm31rv/files/model-best/assets\n"
     ]
    },
    {
     "name": "stderr",
     "output_type": "stream",
     "text": [
      "INFO:tensorflow:Assets written to: /home/paul_d/Sources/sem_math_repo/classification_formulas_multilabel/wandb/run-20230317_155959-a4pm31rv/files/model-best/assets\n"
     ]
    },
    {
     "name": "stdout",
     "output_type": "stream",
     "text": [
      "346/346 [==============================] - 72s 208ms/step - loss: 0.1450 - accuracy: 0.4427 - recall_1: 0.0186 - val_loss: 0.1524 - val_accuracy: 0.0000e+00 - val_recall_1: 0.0000e+00\n",
      "Epoch 18/50\n",
      "346/346 [==============================] - 57s 165ms/step - loss: 0.1436 - accuracy: 0.4628 - recall_1: 0.0229 - val_loss: 0.1536 - val_accuracy: 0.0000e+00 - val_recall_1: 0.0000e+00\n",
      "Epoch 19/50\n",
      "346/346 [==============================] - ETA: 0s - loss: 0.1431 - accuracy: 0.4789 - recall_1: 0.0281INFO:tensorflow:Assets written to: /home/paul_d/Sources/sem_math_repo/classification_formulas_multilabel/wandb/run-20230317_155959-a4pm31rv/files/model-best/assets\n"
     ]
    },
    {
     "name": "stderr",
     "output_type": "stream",
     "text": [
      "INFO:tensorflow:Assets written to: /home/paul_d/Sources/sem_math_repo/classification_formulas_multilabel/wandb/run-20230317_155959-a4pm31rv/files/model-best/assets\n"
     ]
    },
    {
     "name": "stdout",
     "output_type": "stream",
     "text": [
      "346/346 [==============================] - 72s 209ms/step - loss: 0.1431 - accuracy: 0.4789 - recall_1: 0.0281 - val_loss: 0.1501 - val_accuracy: 0.0000e+00 - val_recall_1: 2.2548e-04\n",
      "Epoch 20/50\n",
      "346/346 [==============================] - ETA: 0s - loss: 0.1422 - accuracy: 0.4939 - recall_1: 0.0340INFO:tensorflow:Assets written to: /home/paul_d/Sources/sem_math_repo/classification_formulas_multilabel/wandb/run-20230317_155959-a4pm31rv/files/model-best/assets\n"
     ]
    },
    {
     "name": "stderr",
     "output_type": "stream",
     "text": [
      "INFO:tensorflow:Assets written to: /home/paul_d/Sources/sem_math_repo/classification_formulas_multilabel/wandb/run-20230317_155959-a4pm31rv/files/model-best/assets\n"
     ]
    },
    {
     "name": "stdout",
     "output_type": "stream",
     "text": [
      "346/346 [==============================] - 72s 208ms/step - loss: 0.1422 - accuracy: 0.4939 - recall_1: 0.0340 - val_loss: 0.1500 - val_accuracy: 0.0000e+00 - val_recall_1: 2.2548e-04\n",
      "Epoch 21/50\n",
      "346/346 [==============================] - ETA: 0s - loss: 0.1417 - accuracy: 0.4959 - recall_1: 0.0365INFO:tensorflow:Assets written to: /home/paul_d/Sources/sem_math_repo/classification_formulas_multilabel/wandb/run-20230317_155959-a4pm31rv/files/model-best/assets\n"
     ]
    },
    {
     "name": "stderr",
     "output_type": "stream",
     "text": [
      "INFO:tensorflow:Assets written to: /home/paul_d/Sources/sem_math_repo/classification_formulas_multilabel/wandb/run-20230317_155959-a4pm31rv/files/model-best/assets\n"
     ]
    },
    {
     "name": "stdout",
     "output_type": "stream",
     "text": [
      "346/346 [==============================] - 72s 207ms/step - loss: 0.1417 - accuracy: 0.4959 - recall_1: 0.0365 - val_loss: 0.1492 - val_accuracy: 0.3972 - val_recall_1: 2.2548e-04\n",
      "Epoch 22/50\n",
      "346/346 [==============================] - ETA: 0s - loss: 0.1413 - accuracy: 0.5029 - recall_1: 0.0417INFO:tensorflow:Assets written to: /home/paul_d/Sources/sem_math_repo/classification_formulas_multilabel/wandb/run-20230317_155959-a4pm31rv/files/model-best/assets\n"
     ]
    },
    {
     "name": "stderr",
     "output_type": "stream",
     "text": [
      "INFO:tensorflow:Assets written to: /home/paul_d/Sources/sem_math_repo/classification_formulas_multilabel/wandb/run-20230317_155959-a4pm31rv/files/model-best/assets\n"
     ]
    },
    {
     "name": "stdout",
     "output_type": "stream",
     "text": [
      "346/346 [==============================] - 74s 213ms/step - loss: 0.1413 - accuracy: 0.5029 - recall_1: 0.0417 - val_loss: 0.1481 - val_accuracy: 0.3972 - val_recall_1: 9.0192e-04\n",
      "Epoch 23/50\n",
      "346/346 [==============================] - ETA: 0s - loss: 0.1408 - accuracy: 0.5073 - recall_1: 0.0459INFO:tensorflow:Assets written to: /home/paul_d/Sources/sem_math_repo/classification_formulas_multilabel/wandb/run-20230317_155959-a4pm31rv/files/model-best/assets\n"
     ]
    },
    {
     "name": "stderr",
     "output_type": "stream",
     "text": [
      "INFO:tensorflow:Assets written to: /home/paul_d/Sources/sem_math_repo/classification_formulas_multilabel/wandb/run-20230317_155959-a4pm31rv/files/model-best/assets\n"
     ]
    },
    {
     "name": "stdout",
     "output_type": "stream",
     "text": [
      "346/346 [==============================] - 72s 208ms/step - loss: 0.1408 - accuracy: 0.5073 - recall_1: 0.0459 - val_loss: 0.1476 - val_accuracy: 0.4223 - val_recall_1: 9.0192e-04\n",
      "Epoch 24/50\n",
      "346/346 [==============================] - ETA: 0s - loss: 0.1404 - accuracy: 0.5136 - recall_1: 0.0519INFO:tensorflow:Assets written to: /home/paul_d/Sources/sem_math_repo/classification_formulas_multilabel/wandb/run-20230317_155959-a4pm31rv/files/model-best/assets\n"
     ]
    },
    {
     "name": "stderr",
     "output_type": "stream",
     "text": [
      "INFO:tensorflow:Assets written to: /home/paul_d/Sources/sem_math_repo/classification_formulas_multilabel/wandb/run-20230317_155959-a4pm31rv/files/model-best/assets\n"
     ]
    },
    {
     "name": "stdout",
     "output_type": "stream",
     "text": [
      "346/346 [==============================] - 72s 209ms/step - loss: 0.1404 - accuracy: 0.5136 - recall_1: 0.0519 - val_loss: 0.1472 - val_accuracy: 0.4260 - val_recall_1: 9.0192e-04\n",
      "Epoch 25/50\n",
      "346/346 [==============================] - ETA: 0s - loss: 0.1401 - accuracy: 0.5152 - recall_1: 0.0528INFO:tensorflow:Assets written to: /home/paul_d/Sources/sem_math_repo/classification_formulas_multilabel/wandb/run-20230317_155959-a4pm31rv/files/model-best/assets\n"
     ]
    },
    {
     "name": "stderr",
     "output_type": "stream",
     "text": [
      "INFO:tensorflow:Assets written to: /home/paul_d/Sources/sem_math_repo/classification_formulas_multilabel/wandb/run-20230317_155959-a4pm31rv/files/model-best/assets\n"
     ]
    },
    {
     "name": "stdout",
     "output_type": "stream",
     "text": [
      "346/346 [==============================] - 71s 207ms/step - loss: 0.1401 - accuracy: 0.5152 - recall_1: 0.0528 - val_loss: 0.1469 - val_accuracy: 0.6464 - val_recall_1: 9.0192e-04\n",
      "Epoch 26/50\n",
      "346/346 [==============================] - 56s 162ms/step - loss: 0.1398 - accuracy: 0.5174 - recall_1: 0.0555 - val_loss: 0.1473 - val_accuracy: 0.6472 - val_recall_1: 2.2548e-04\n",
      "Epoch 27/50\n",
      "346/346 [==============================] - ETA: 0s - loss: 0.1396 - accuracy: 0.5193 - recall_1: 0.0566INFO:tensorflow:Assets written to: /home/paul_d/Sources/sem_math_repo/classification_formulas_multilabel/wandb/run-20230317_155959-a4pm31rv/files/model-best/assets\n"
     ]
    },
    {
     "name": "stderr",
     "output_type": "stream",
     "text": [
      "INFO:tensorflow:Assets written to: /home/paul_d/Sources/sem_math_repo/classification_formulas_multilabel/wandb/run-20230317_155959-a4pm31rv/files/model-best/assets\n"
     ]
    },
    {
     "name": "stdout",
     "output_type": "stream",
     "text": [
      "346/346 [==============================] - 71s 205ms/step - loss: 0.1396 - accuracy: 0.5193 - recall_1: 0.0566 - val_loss: 0.1461 - val_accuracy: 0.6517 - val_recall_1: 2.2548e-04\n",
      "Epoch 28/50\n",
      "346/346 [==============================] - ETA: 0s - loss: 0.1395 - accuracy: 0.5204 - recall_1: 0.0553INFO:tensorflow:Assets written to: /home/paul_d/Sources/sem_math_repo/classification_formulas_multilabel/wandb/run-20230317_155959-a4pm31rv/files/model-best/assets\n"
     ]
    },
    {
     "name": "stderr",
     "output_type": "stream",
     "text": [
      "INFO:tensorflow:Assets written to: /home/paul_d/Sources/sem_math_repo/classification_formulas_multilabel/wandb/run-20230317_155959-a4pm31rv/files/model-best/assets\n"
     ]
    },
    {
     "name": "stdout",
     "output_type": "stream",
     "text": [
      "346/346 [==============================] - 72s 207ms/step - loss: 0.1395 - accuracy: 0.5204 - recall_1: 0.0553 - val_loss: 0.1455 - val_accuracy: 0.6476 - val_recall_1: 2.2548e-04\n",
      "Epoch 29/50\n",
      "346/346 [==============================] - ETA: 0s - loss: 0.1393 - accuracy: 0.5183 - recall_1: 0.0593INFO:tensorflow:Assets written to: /home/paul_d/Sources/sem_math_repo/classification_formulas_multilabel/wandb/run-20230317_155959-a4pm31rv/files/model-best/assets\n"
     ]
    },
    {
     "name": "stderr",
     "output_type": "stream",
     "text": [
      "INFO:tensorflow:Assets written to: /home/paul_d/Sources/sem_math_repo/classification_formulas_multilabel/wandb/run-20230317_155959-a4pm31rv/files/model-best/assets\n"
     ]
    },
    {
     "name": "stdout",
     "output_type": "stream",
     "text": [
      "346/346 [==============================] - 71s 207ms/step - loss: 0.1393 - accuracy: 0.5183 - recall_1: 0.0593 - val_loss: 0.1448 - val_accuracy: 0.6447 - val_recall_1: 2.2548e-04\n",
      "Epoch 30/50\n",
      "346/346 [==============================] - ETA: 0s - loss: 0.1390 - accuracy: 0.5196 - recall_1: 0.0609INFO:tensorflow:Assets written to: /home/paul_d/Sources/sem_math_repo/classification_formulas_multilabel/wandb/run-20230317_155959-a4pm31rv/files/model-best/assets\n"
     ]
    },
    {
     "name": "stderr",
     "output_type": "stream",
     "text": [
      "INFO:tensorflow:Assets written to: /home/paul_d/Sources/sem_math_repo/classification_formulas_multilabel/wandb/run-20230317_155959-a4pm31rv/files/model-best/assets\n"
     ]
    },
    {
     "name": "stdout",
     "output_type": "stream",
     "text": [
      "346/346 [==============================] - 71s 206ms/step - loss: 0.1390 - accuracy: 0.5196 - recall_1: 0.0609 - val_loss: 0.1442 - val_accuracy: 0.6402 - val_recall_1: 2.2548e-04\n",
      "Epoch 31/50\n",
      "346/346 [==============================] - ETA: 0s - loss: 0.1390 - accuracy: 0.5206 - recall_1: 0.0586INFO:tensorflow:Assets written to: /home/paul_d/Sources/sem_math_repo/classification_formulas_multilabel/wandb/run-20230317_155959-a4pm31rv/files/model-best/assets\n"
     ]
    },
    {
     "name": "stderr",
     "output_type": "stream",
     "text": [
      "INFO:tensorflow:Assets written to: /home/paul_d/Sources/sem_math_repo/classification_formulas_multilabel/wandb/run-20230317_155959-a4pm31rv/files/model-best/assets\n"
     ]
    },
    {
     "name": "stdout",
     "output_type": "stream",
     "text": [
      "346/346 [==============================] - 71s 205ms/step - loss: 0.1390 - accuracy: 0.5206 - recall_1: 0.0586 - val_loss: 0.1439 - val_accuracy: 0.6242 - val_recall_1: 2.2548e-04\n",
      "Epoch 32/50\n",
      "346/346 [==============================] - ETA: 0s - loss: 0.1389 - accuracy: 0.5173 - recall_1: 0.0576INFO:tensorflow:Assets written to: /home/paul_d/Sources/sem_math_repo/classification_formulas_multilabel/wandb/run-20230317_155959-a4pm31rv/files/model-best/assets\n"
     ]
    },
    {
     "name": "stderr",
     "output_type": "stream",
     "text": [
      "INFO:tensorflow:Assets written to: /home/paul_d/Sources/sem_math_repo/classification_formulas_multilabel/wandb/run-20230317_155959-a4pm31rv/files/model-best/assets\n"
     ]
    },
    {
     "name": "stdout",
     "output_type": "stream",
     "text": [
      "346/346 [==============================] - 71s 205ms/step - loss: 0.1389 - accuracy: 0.5173 - recall_1: 0.0576 - val_loss: 0.1430 - val_accuracy: 0.6447 - val_recall_1: 2.2548e-04\n",
      "Epoch 33/50\n",
      "346/346 [==============================] - ETA: 0s - loss: 0.1388 - accuracy: 0.5178 - recall_1: 0.0615INFO:tensorflow:Assets written to: /home/paul_d/Sources/sem_math_repo/classification_formulas_multilabel/wandb/run-20230317_155959-a4pm31rv/files/model-best/assets\n"
     ]
    },
    {
     "name": "stderr",
     "output_type": "stream",
     "text": [
      "INFO:tensorflow:Assets written to: /home/paul_d/Sources/sem_math_repo/classification_formulas_multilabel/wandb/run-20230317_155959-a4pm31rv/files/model-best/assets\n"
     ]
    },
    {
     "name": "stdout",
     "output_type": "stream",
     "text": [
      "346/346 [==============================] - 71s 206ms/step - loss: 0.1388 - accuracy: 0.5178 - recall_1: 0.0615 - val_loss: 0.1429 - val_accuracy: 0.6242 - val_recall_1: 2.2548e-04\n",
      "Epoch 34/50\n",
      "346/346 [==============================] - ETA: 0s - loss: 0.1387 - accuracy: 0.5183 - recall_1: 0.0608INFO:tensorflow:Assets written to: /home/paul_d/Sources/sem_math_repo/classification_formulas_multilabel/wandb/run-20230317_155959-a4pm31rv/files/model-best/assets\n"
     ]
    },
    {
     "name": "stderr",
     "output_type": "stream",
     "text": [
      "INFO:tensorflow:Assets written to: /home/paul_d/Sources/sem_math_repo/classification_formulas_multilabel/wandb/run-20230317_155959-a4pm31rv/files/model-best/assets\n"
     ]
    },
    {
     "name": "stdout",
     "output_type": "stream",
     "text": [
      "346/346 [==============================] - 71s 205ms/step - loss: 0.1387 - accuracy: 0.5183 - recall_1: 0.0608 - val_loss: 0.1422 - val_accuracy: 0.6225 - val_recall_1: 2.2548e-04\n",
      "Epoch 35/50\n",
      "346/346 [==============================] - 56s 162ms/step - loss: 0.1385 - accuracy: 0.5181 - recall_1: 0.0620 - val_loss: 0.1429 - val_accuracy: 0.6213 - val_recall_1: 2.2548e-04\n",
      "Epoch 36/50\n",
      "346/346 [==============================] - ETA: 0s - loss: 0.1386 - accuracy: 0.5166 - recall_1: 0.0603INFO:tensorflow:Assets written to: /home/paul_d/Sources/sem_math_repo/classification_formulas_multilabel/wandb/run-20230317_155959-a4pm31rv/files/model-best/assets\n"
     ]
    },
    {
     "name": "stderr",
     "output_type": "stream",
     "text": [
      "INFO:tensorflow:Assets written to: /home/paul_d/Sources/sem_math_repo/classification_formulas_multilabel/wandb/run-20230317_155959-a4pm31rv/files/model-best/assets\n"
     ]
    },
    {
     "name": "stdout",
     "output_type": "stream",
     "text": [
      "346/346 [==============================] - 71s 205ms/step - loss: 0.1386 - accuracy: 0.5166 - recall_1: 0.0603 - val_loss: 0.1416 - val_accuracy: 0.6225 - val_recall_1: 2.2548e-04\n",
      "Epoch 37/50\n",
      "346/346 [==============================] - ETA: 0s - loss: 0.1384 - accuracy: 0.5153 - recall_1: 0.0610INFO:tensorflow:Assets written to: /home/paul_d/Sources/sem_math_repo/classification_formulas_multilabel/wandb/run-20230317_155959-a4pm31rv/files/model-best/assets\n"
     ]
    },
    {
     "name": "stderr",
     "output_type": "stream",
     "text": [
      "INFO:tensorflow:Assets written to: /home/paul_d/Sources/sem_math_repo/classification_formulas_multilabel/wandb/run-20230317_155959-a4pm31rv/files/model-best/assets\n"
     ]
    },
    {
     "name": "stdout",
     "output_type": "stream",
     "text": [
      "346/346 [==============================] - 71s 206ms/step - loss: 0.1384 - accuracy: 0.5153 - recall_1: 0.0610 - val_loss: 0.1408 - val_accuracy: 0.6225 - val_recall_1: 2.2548e-04\n",
      "Epoch 38/50\n",
      "346/346 [==============================] - ETA: 0s - loss: 0.1385 - accuracy: 0.5152 - recall_1: 0.0599INFO:tensorflow:Assets written to: /home/paul_d/Sources/sem_math_repo/classification_formulas_multilabel/wandb/run-20230317_155959-a4pm31rv/files/model-best/assets\n"
     ]
    },
    {
     "name": "stderr",
     "output_type": "stream",
     "text": [
      "INFO:tensorflow:Assets written to: /home/paul_d/Sources/sem_math_repo/classification_formulas_multilabel/wandb/run-20230317_155959-a4pm31rv/files/model-best/assets\n"
     ]
    },
    {
     "name": "stdout",
     "output_type": "stream",
     "text": [
      "346/346 [==============================] - 72s 209ms/step - loss: 0.1385 - accuracy: 0.5152 - recall_1: 0.0599 - val_loss: 0.1404 - val_accuracy: 0.6225 - val_recall_1: 2.2548e-04\n",
      "Epoch 39/50\n",
      "346/346 [==============================] - ETA: 0s - loss: 0.1384 - accuracy: 0.5159 - recall_1: 0.0608INFO:tensorflow:Assets written to: /home/paul_d/Sources/sem_math_repo/classification_formulas_multilabel/wandb/run-20230317_155959-a4pm31rv/files/model-best/assets\n"
     ]
    },
    {
     "name": "stderr",
     "output_type": "stream",
     "text": [
      "INFO:tensorflow:Assets written to: /home/paul_d/Sources/sem_math_repo/classification_formulas_multilabel/wandb/run-20230317_155959-a4pm31rv/files/model-best/assets\n"
     ]
    },
    {
     "name": "stdout",
     "output_type": "stream",
     "text": [
      "346/346 [==============================] - 73s 212ms/step - loss: 0.1384 - accuracy: 0.5159 - recall_1: 0.0608 - val_loss: 0.1402 - val_accuracy: 0.6225 - val_recall_1: 2.2548e-04\n",
      "Epoch 40/50\n",
      "346/346 [==============================] - 57s 164ms/step - loss: 0.1382 - accuracy: 0.5150 - recall_1: 0.0613 - val_loss: 0.1404 - val_accuracy: 0.6225 - val_recall_1: 2.2548e-04\n",
      "Epoch 41/50\n",
      "346/346 [==============================] - 57s 163ms/step - loss: 0.1383 - accuracy: 0.5144 - recall_1: 0.0613 - val_loss: 0.1404 - val_accuracy: 0.6213 - val_recall_1: 2.2548e-04\n",
      "Epoch 42/50\n",
      "346/346 [==============================] - ETA: 0s - loss: 0.1383 - accuracy: 0.5154 - recall_1: 0.0612INFO:tensorflow:Assets written to: /home/paul_d/Sources/sem_math_repo/classification_formulas_multilabel/wandb/run-20230317_155959-a4pm31rv/files/model-best/assets\n"
     ]
    },
    {
     "name": "stderr",
     "output_type": "stream",
     "text": [
      "INFO:tensorflow:Assets written to: /home/paul_d/Sources/sem_math_repo/classification_formulas_multilabel/wandb/run-20230317_155959-a4pm31rv/files/model-best/assets\n"
     ]
    },
    {
     "name": "stdout",
     "output_type": "stream",
     "text": [
      "346/346 [==============================] - 80s 232ms/step - loss: 0.1383 - accuracy: 0.5154 - recall_1: 0.0612 - val_loss: 0.1393 - val_accuracy: 0.6538 - val_recall_1: 2.2548e-04\n",
      "Epoch 43/50\n",
      "346/346 [==============================] - 63s 182ms/step - loss: 0.1379 - accuracy: 0.5204 - recall_1: 0.0638 - val_loss: 0.1422 - val_accuracy: 0.6287 - val_recall_1: 6.7644e-04\n",
      "Epoch 44/50\n",
      "346/346 [==============================] - 56s 163ms/step - loss: 0.1381 - accuracy: 0.5147 - recall_1: 0.0595 - val_loss: 0.1408 - val_accuracy: 0.6287 - val_recall_1: 2.2548e-04\n",
      "Epoch 45/50\n",
      "346/346 [==============================] - 57s 163ms/step - loss: 0.1379 - accuracy: 0.5187 - recall_1: 0.0616 - val_loss: 0.1393 - val_accuracy: 0.6242 - val_recall_1: 2.2548e-04\n",
      "Epoch 46/50\n",
      "346/346 [==============================] - 57s 164ms/step - loss: 0.1379 - accuracy: 0.5152 - recall_1: 0.0625 - val_loss: 0.1400 - val_accuracy: 0.6213 - val_recall_1: 2.2548e-04\n",
      "Epoch 47/50\n",
      "346/346 [==============================] - 57s 164ms/step - loss: 0.1378 - accuracy: 0.5161 - recall_1: 0.0637 - val_loss: 0.1415 - val_accuracy: 0.6184 - val_recall_1: 2.2548e-04\n",
      "Epoch 48/50\n",
      "346/346 [==============================] - 57s 163ms/step - loss: 0.1378 - accuracy: 0.5177 - recall_1: 0.0622 - val_loss: 0.1440 - val_accuracy: 0.6213 - val_recall_1: 2.2548e-04\n",
      "Epoch 49/50\n",
      "346/346 [==============================] - 57s 164ms/step - loss: 0.1379 - accuracy: 0.5179 - recall_1: 0.0633 - val_loss: 0.1396 - val_accuracy: 0.6665 - val_recall_1: 2.2548e-04\n",
      "Epoch 50/50\n",
      "346/346 [==============================] - 57s 164ms/step - loss: 0.1377 - accuracy: 0.5179 - recall_1: 0.0633 - val_loss: 0.1409 - val_accuracy: 0.6653 - val_recall_1: 2.2548e-04\n"
     ]
    }
   ],
   "source": [
    "configs_dict = {\n",
    "    \"learning_rate\": optimal_lr,\n",
    "    \"emb_dim\": optimal_emb_dims,\n",
    "    \"lstm_units\": optimal_lstm_units, \n",
    "    \"dense_units\": optimal_dense_units,\n",
    "    \"algorithm\": \"BiLstm\",\n",
    "    \"configuration\": \"multi_only_tokens\",\n",
    "    \"optimizer\": \"adam\",\n",
    "    \"loss\": \"binary_crossentropy\",\n",
    "    \"epochs\": NUM_EPOCHS,\n",
    "    \"batch_size\": 64,\n",
    "    \"vectorizer\": \"count\",\n",
    "    \"dataset\": \"multi_class_unbalanced_data_TOKENIZED_V1\"\n",
    "}\n",
    "\n",
    "run = wandb.init(project=wandb_project_name, reinit=True, config=configs_dict)\n",
    "\n",
    "history = model1c.fit(train_dataset1, \n",
    "                    epochs=NUM_EPOCHS,\n",
    "                    validation_data=test_dataset1,\n",
    "                    #steps_per_epoch = STEPS_PER_EPOCH,\n",
    "                    validation_steps = VAL_STEPS_PER_EPOCH,\n",
    "                    callbacks= [WandbCallback()])#[tensorboard_callback])\n",
    "run.finish()"
   ]
  },
  {
   "attachments": {},
   "cell_type": "markdown",
   "metadata": {},
   "source": [
    "##### Model 2: ONLY TYPES\n",
    "Find best hyperparameters"
   ]
  },
  {
   "cell_type": "code",
   "execution_count": 41,
   "metadata": {},
   "outputs": [],
   "source": [
    "tokens_input_len = TOKENS_MAX_SEQ_LEN \n",
    "type_input_len = TYPE_TOKENS_MAX_SEQ_LEN\n",
    "NUM_CLASSES = 40\n",
    "\n",
    "encoder_count_types = create_encoder(\"count\", None, \"type\", train_dataset2, 2)\n",
    "model_builder2c = mc_u.create_model_builder2_RNN(NUM_CLASSES, encoder_count_types, type_input_len)"
   ]
  },
  {
   "cell_type": "code",
   "execution_count": 42,
   "metadata": {},
   "outputs": [
    {
     "name": "stdout",
     "output_type": "stream",
     "text": [
      "INFO:tensorflow:Reloading Tuner from meta_dir/model2c_rnn/model2c_rnn/tuner0.json\n"
     ]
    }
   ],
   "source": [
    "tuner = kt.Hyperband(model_builder2c,\n",
    "                     objective=kt.Objective(\"val_accuracy\", direction=\"max\"),\n",
    "                     max_epochs=10,\n",
    "                     factor=3,\n",
    "                     directory='meta_dir/model2c_rnn',\n",
    "                     project_name='model2c_rnn')\n",
    "stop_early = tf.keras.callbacks.EarlyStopping(monitor='val_loss', patience=3)"
   ]
  },
  {
   "cell_type": "code",
   "execution_count": 43,
   "metadata": {},
   "outputs": [
    {
     "name": "stdout",
     "output_type": "stream",
     "text": [
      "Trial 30 Complete [00h 07m 44s]\n",
      "val_accuracy: 0.0\n",
      "\n",
      "Best val_accuracy So Far: 0.0\n",
      "Total elapsed time: 01h 09m 28s\n",
      "INFO:tensorflow:Oracle triggered exit\n"
     ]
    }
   ],
   "source": [
    "tuner.search(train_dataset2,\n",
    "             epochs=10,\n",
    "             validation_data=test_dataset2,\n",
    "             #steps_per_epoch = STEPS_PER_EPOCH,\n",
    "             validation_steps = VAL_STEPS_PER_EPOCH,\n",
    "             callbacks= [stop_early])#[tensorboard_callback])"
   ]
  },
  {
   "cell_type": "code",
   "execution_count": 44,
   "metadata": {},
   "outputs": [
    {
     "name": "stdout",
     "output_type": "stream",
     "text": [
      "0.0001\n",
      "32\n",
      "32\n",
      "128\n"
     ]
    }
   ],
   "source": [
    "best_hps=tuner.get_best_hyperparameters(num_trials=1)[0]\n",
    "optimal_lr = best_hps.get(\"learning_rate\")\n",
    "optimal_emb_dims = best_hps.get(\"emb_dims\")\n",
    "optimal_lstm_units = best_hps.get(\"lstm_units\")\n",
    "optimal_dense_units = best_hps.get(\"dense_units\")\n",
    "\n",
    "print(optimal_lr)\n",
    "print(optimal_emb_dims)\n",
    "print(optimal_lstm_units)\n",
    "print(optimal_dense_units)"
   ]
  },
  {
   "attachments": {},
   "cell_type": "markdown",
   "metadata": {},
   "source": [
    "Train with best hyperparameters"
   ]
  },
  {
   "cell_type": "code",
   "execution_count": 45,
   "metadata": {},
   "outputs": [],
   "source": [
    "NUM_EPOCHS = 50\n",
    "optimal_lr = 0.0001\n",
    "model2c = mc_u.create_model2_RNN(NUM_CLASSES, optimal_emb_dims, optimal_lstm_units, optimal_dense_units, encoder_count_types, type_input_len)\n",
    "model2c.compile(loss=tf.keras.losses.BinaryCrossentropy(from_logits=True),\n",
    "              optimizer=tf.keras.optimizers.Adam(optimal_lr),\n",
    "              metrics=[\"accuracy\", tf.keras.metrics.Recall()])"
   ]
  },
  {
   "cell_type": "code",
   "execution_count": 46,
   "metadata": {},
   "outputs": [
    {
     "name": "stdout",
     "output_type": "stream",
     "text": [
      "Epoch 1/50\n",
      "345/346 [============================>.] - ETA: 0s - loss: 0.4961 - accuracy: 0.3727 - recall_1: 0.0000e+00INFO:tensorflow:Assets written to: /home/paul_d/Sources/sem_math_repo/classification_formulas_multilabel/wandb/run-20230317_182403-zai9v8e8/files/model-best/assets\n"
     ]
    },
    {
     "name": "stderr",
     "output_type": "stream",
     "text": [
      "INFO:tensorflow:Assets written to: /home/paul_d/Sources/sem_math_repo/classification_formulas_multilabel/wandb/run-20230317_182403-zai9v8e8/files/model-best/assets\n"
     ]
    },
    {
     "name": "stdout",
     "output_type": "stream",
     "text": [
      "346/346 [==============================] - 33s 80ms/step - loss: 0.4954 - accuracy: 0.3725 - recall_1: 0.0000e+00 - val_loss: 0.2488 - val_accuracy: 0.0000e+00 - val_recall_1: 0.0000e+00\n",
      "Epoch 2/50\n",
      "345/346 [============================>.] - ETA: 0s - loss: 0.1845 - accuracy: 0.4199 - recall_1: 0.0000e+00INFO:tensorflow:Assets written to: /home/paul_d/Sources/sem_math_repo/classification_formulas_multilabel/wandb/run-20230317_182403-zai9v8e8/files/model-best/assets\n"
     ]
    },
    {
     "name": "stderr",
     "output_type": "stream",
     "text": [
      "INFO:tensorflow:Assets written to: /home/paul_d/Sources/sem_math_repo/classification_formulas_multilabel/wandb/run-20230317_182403-zai9v8e8/files/model-best/assets\n"
     ]
    },
    {
     "name": "stdout",
     "output_type": "stream",
     "text": [
      "346/346 [==============================] - 26s 75ms/step - loss: 0.1845 - accuracy: 0.4196 - recall_1: 0.0000e+00 - val_loss: 0.1809 - val_accuracy: 0.0000e+00 - val_recall_1: 0.0000e+00\n",
      "Epoch 3/50\n",
      "345/346 [============================>.] - ETA: 0s - loss: 0.1549 - accuracy: 0.3818 - recall_1: 0.0128INFO:tensorflow:Assets written to: /home/paul_d/Sources/sem_math_repo/classification_formulas_multilabel/wandb/run-20230317_182403-zai9v8e8/files/model-best/assets\n"
     ]
    },
    {
     "name": "stderr",
     "output_type": "stream",
     "text": [
      "INFO:tensorflow:Assets written to: /home/paul_d/Sources/sem_math_repo/classification_formulas_multilabel/wandb/run-20230317_182403-zai9v8e8/files/model-best/assets\n"
     ]
    },
    {
     "name": "stdout",
     "output_type": "stream",
     "text": [
      "346/346 [==============================] - 26s 75ms/step - loss: 0.1548 - accuracy: 0.3816 - recall_1: 0.0127 - val_loss: 0.1676 - val_accuracy: 0.0000e+00 - val_recall_1: 0.0000e+00\n",
      "Epoch 4/50\n",
      "346/346 [==============================] - ETA: 0s - loss: 0.1509 - accuracy: 0.3785 - recall_1: 0.0088INFO:tensorflow:Assets written to: /home/paul_d/Sources/sem_math_repo/classification_formulas_multilabel/wandb/run-20230317_182403-zai9v8e8/files/model-best/assets\n"
     ]
    },
    {
     "name": "stderr",
     "output_type": "stream",
     "text": [
      "INFO:tensorflow:Assets written to: /home/paul_d/Sources/sem_math_repo/classification_formulas_multilabel/wandb/run-20230317_182403-zai9v8e8/files/model-best/assets\n"
     ]
    },
    {
     "name": "stdout",
     "output_type": "stream",
     "text": [
      "346/346 [==============================] - 27s 77ms/step - loss: 0.1509 - accuracy: 0.3785 - recall_1: 0.0088 - val_loss: 0.1655 - val_accuracy: 0.0000e+00 - val_recall_1: 0.0000e+00\n",
      "Epoch 5/50\n",
      "346/346 [==============================] - ETA: 0s - loss: 0.1499 - accuracy: 0.3751 - recall_1: 0.0079INFO:tensorflow:Assets written to: /home/paul_d/Sources/sem_math_repo/classification_formulas_multilabel/wandb/run-20230317_182403-zai9v8e8/files/model-best/assets\n"
     ]
    },
    {
     "name": "stderr",
     "output_type": "stream",
     "text": [
      "INFO:tensorflow:Assets written to: /home/paul_d/Sources/sem_math_repo/classification_formulas_multilabel/wandb/run-20230317_182403-zai9v8e8/files/model-best/assets\n"
     ]
    },
    {
     "name": "stdout",
     "output_type": "stream",
     "text": [
      "346/346 [==============================] - 28s 81ms/step - loss: 0.1499 - accuracy: 0.3751 - recall_1: 0.0079 - val_loss: 0.1641 - val_accuracy: 0.0000e+00 - val_recall_1: 0.0000e+00\n",
      "Epoch 6/50\n",
      "345/346 [============================>.] - ETA: 0s - loss: 0.1495 - accuracy: 0.3660 - recall_1: 0.0068INFO:tensorflow:Assets written to: /home/paul_d/Sources/sem_math_repo/classification_formulas_multilabel/wandb/run-20230317_182403-zai9v8e8/files/model-best/assets\n"
     ]
    },
    {
     "name": "stderr",
     "output_type": "stream",
     "text": [
      "INFO:tensorflow:Assets written to: /home/paul_d/Sources/sem_math_repo/classification_formulas_multilabel/wandb/run-20230317_182403-zai9v8e8/files/model-best/assets\n"
     ]
    },
    {
     "name": "stdout",
     "output_type": "stream",
     "text": [
      "346/346 [==============================] - 27s 78ms/step - loss: 0.1496 - accuracy: 0.3657 - recall_1: 0.0068 - val_loss: 0.1634 - val_accuracy: 0.0000e+00 - val_recall_1: 0.0000e+00\n",
      "Epoch 7/50\n",
      "346/346 [==============================] - ETA: 0s - loss: 0.1493 - accuracy: 0.3632 - recall_1: 0.0057INFO:tensorflow:Assets written to: /home/paul_d/Sources/sem_math_repo/classification_formulas_multilabel/wandb/run-20230317_182403-zai9v8e8/files/model-best/assets\n"
     ]
    },
    {
     "name": "stderr",
     "output_type": "stream",
     "text": [
      "INFO:tensorflow:Assets written to: /home/paul_d/Sources/sem_math_repo/classification_formulas_multilabel/wandb/run-20230317_182403-zai9v8e8/files/model-best/assets\n"
     ]
    },
    {
     "name": "stdout",
     "output_type": "stream",
     "text": [
      "346/346 [==============================] - 27s 77ms/step - loss: 0.1493 - accuracy: 0.3632 - recall_1: 0.0057 - val_loss: 0.1633 - val_accuracy: 0.0000e+00 - val_recall_1: 0.0000e+00\n",
      "Epoch 8/50\n",
      "346/346 [==============================] - ETA: 0s - loss: 0.1491 - accuracy: 0.3586 - recall_1: 0.0040INFO:tensorflow:Assets written to: /home/paul_d/Sources/sem_math_repo/classification_formulas_multilabel/wandb/run-20230317_182403-zai9v8e8/files/model-best/assets\n"
     ]
    },
    {
     "name": "stderr",
     "output_type": "stream",
     "text": [
      "INFO:tensorflow:Assets written to: /home/paul_d/Sources/sem_math_repo/classification_formulas_multilabel/wandb/run-20230317_182403-zai9v8e8/files/model-best/assets\n"
     ]
    },
    {
     "name": "stdout",
     "output_type": "stream",
     "text": [
      "346/346 [==============================] - 27s 77ms/step - loss: 0.1491 - accuracy: 0.3586 - recall_1: 0.0040 - val_loss: 0.1633 - val_accuracy: 0.0000e+00 - val_recall_1: 0.0000e+00\n",
      "Epoch 9/50\n",
      "345/346 [============================>.] - ETA: 0s - loss: 0.1490 - accuracy: 0.3541 - recall_1: 0.0017INFO:tensorflow:Assets written to: /home/paul_d/Sources/sem_math_repo/classification_formulas_multilabel/wandb/run-20230317_182403-zai9v8e8/files/model-best/assets\n"
     ]
    },
    {
     "name": "stderr",
     "output_type": "stream",
     "text": [
      "INFO:tensorflow:Assets written to: /home/paul_d/Sources/sem_math_repo/classification_formulas_multilabel/wandb/run-20230317_182403-zai9v8e8/files/model-best/assets\n"
     ]
    },
    {
     "name": "stdout",
     "output_type": "stream",
     "text": [
      "346/346 [==============================] - 27s 78ms/step - loss: 0.1490 - accuracy: 0.3544 - recall_1: 0.0017 - val_loss: 0.1630 - val_accuracy: 0.0000e+00 - val_recall_1: 0.0000e+00\n",
      "Epoch 10/50\n",
      "346/346 [==============================] - ETA: 0s - loss: 0.1489 - accuracy: 0.3515 - recall_1: 0.0000e+00INFO:tensorflow:Assets written to: /home/paul_d/Sources/sem_math_repo/classification_formulas_multilabel/wandb/run-20230317_182403-zai9v8e8/files/model-best/assets\n"
     ]
    },
    {
     "name": "stderr",
     "output_type": "stream",
     "text": [
      "INFO:tensorflow:Assets written to: /home/paul_d/Sources/sem_math_repo/classification_formulas_multilabel/wandb/run-20230317_182403-zai9v8e8/files/model-best/assets\n"
     ]
    },
    {
     "name": "stdout",
     "output_type": "stream",
     "text": [
      "346/346 [==============================] - 27s 77ms/step - loss: 0.1489 - accuracy: 0.3515 - recall_1: 0.0000e+00 - val_loss: 0.1628 - val_accuracy: 0.0000e+00 - val_recall_1: 0.0000e+00\n",
      "Epoch 11/50\n",
      "346/346 [==============================] - 11s 33ms/step - loss: 0.1487 - accuracy: 0.3511 - recall_1: 0.0000e+00 - val_loss: 0.1635 - val_accuracy: 0.0000e+00 - val_recall_1: 0.0000e+00\n",
      "Epoch 12/50\n",
      "345/346 [============================>.] - ETA: 0s - loss: 0.1488 - accuracy: 0.3425 - recall_1: 0.0000e+00INFO:tensorflow:Assets written to: /home/paul_d/Sources/sem_math_repo/classification_formulas_multilabel/wandb/run-20230317_182403-zai9v8e8/files/model-best/assets\n"
     ]
    },
    {
     "name": "stderr",
     "output_type": "stream",
     "text": [
      "INFO:tensorflow:Assets written to: /home/paul_d/Sources/sem_math_repo/classification_formulas_multilabel/wandb/run-20230317_182403-zai9v8e8/files/model-best/assets\n"
     ]
    },
    {
     "name": "stdout",
     "output_type": "stream",
     "text": [
      "346/346 [==============================] - 27s 78ms/step - loss: 0.1488 - accuracy: 0.3427 - recall_1: 0.0000e+00 - val_loss: 0.1624 - val_accuracy: 0.0000e+00 - val_recall_1: 0.0000e+00\n",
      "Epoch 13/50\n",
      "346/346 [==============================] - ETA: 0s - loss: 0.1488 - accuracy: 0.3389 - recall_1: 0.0000e+00INFO:tensorflow:Assets written to: /home/paul_d/Sources/sem_math_repo/classification_formulas_multilabel/wandb/run-20230317_182403-zai9v8e8/files/model-best/assets\n"
     ]
    },
    {
     "name": "stderr",
     "output_type": "stream",
     "text": [
      "INFO:tensorflow:Assets written to: /home/paul_d/Sources/sem_math_repo/classification_formulas_multilabel/wandb/run-20230317_182403-zai9v8e8/files/model-best/assets\n"
     ]
    },
    {
     "name": "stdout",
     "output_type": "stream",
     "text": [
      "346/346 [==============================] - 27s 77ms/step - loss: 0.1488 - accuracy: 0.3389 - recall_1: 0.0000e+00 - val_loss: 0.1620 - val_accuracy: 0.0000e+00 - val_recall_1: 0.0000e+00\n",
      "Epoch 14/50\n",
      "346/346 [==============================] - ETA: 0s - loss: 0.1488 - accuracy: 0.3375 - recall_1: 0.0000e+00INFO:tensorflow:Assets written to: /home/paul_d/Sources/sem_math_repo/classification_formulas_multilabel/wandb/run-20230317_182403-zai9v8e8/files/model-best/assets\n"
     ]
    },
    {
     "name": "stderr",
     "output_type": "stream",
     "text": [
      "INFO:tensorflow:Assets written to: /home/paul_d/Sources/sem_math_repo/classification_formulas_multilabel/wandb/run-20230317_182403-zai9v8e8/files/model-best/assets\n"
     ]
    },
    {
     "name": "stdout",
     "output_type": "stream",
     "text": [
      "346/346 [==============================] - 27s 77ms/step - loss: 0.1488 - accuracy: 0.3375 - recall_1: 0.0000e+00 - val_loss: 0.1615 - val_accuracy: 0.0000e+00 - val_recall_1: 0.0000e+00\n",
      "Epoch 15/50\n",
      "346/346 [==============================] - 11s 32ms/step - loss: 0.1487 - accuracy: 0.3322 - recall_1: 0.0000e+00 - val_loss: 0.1623 - val_accuracy: 0.0000e+00 - val_recall_1: 0.0000e+00\n",
      "Epoch 16/50\n",
      "346/346 [==============================] - ETA: 0s - loss: 0.1488 - accuracy: 0.3290 - recall_1: 0.0000e+00INFO:tensorflow:Assets written to: /home/paul_d/Sources/sem_math_repo/classification_formulas_multilabel/wandb/run-20230317_182403-zai9v8e8/files/model-best/assets\n"
     ]
    },
    {
     "name": "stderr",
     "output_type": "stream",
     "text": [
      "INFO:tensorflow:Assets written to: /home/paul_d/Sources/sem_math_repo/classification_formulas_multilabel/wandb/run-20230317_182403-zai9v8e8/files/model-best/assets\n"
     ]
    },
    {
     "name": "stdout",
     "output_type": "stream",
     "text": [
      "346/346 [==============================] - 27s 79ms/step - loss: 0.1488 - accuracy: 0.3290 - recall_1: 0.0000e+00 - val_loss: 0.1608 - val_accuracy: 0.0000e+00 - val_recall_1: 0.0000e+00\n",
      "Epoch 17/50\n",
      "345/346 [============================>.] - ETA: 0s - loss: 0.1486 - accuracy: 0.3278 - recall_1: 0.0000e+00INFO:tensorflow:Assets written to: /home/paul_d/Sources/sem_math_repo/classification_formulas_multilabel/wandb/run-20230317_182403-zai9v8e8/files/model-best/assets\n"
     ]
    },
    {
     "name": "stderr",
     "output_type": "stream",
     "text": [
      "INFO:tensorflow:Assets written to: /home/paul_d/Sources/sem_math_repo/classification_formulas_multilabel/wandb/run-20230317_182403-zai9v8e8/files/model-best/assets\n"
     ]
    },
    {
     "name": "stdout",
     "output_type": "stream",
     "text": [
      "346/346 [==============================] - 27s 78ms/step - loss: 0.1487 - accuracy: 0.3278 - recall_1: 0.0000e+00 - val_loss: 0.1602 - val_accuracy: 0.0000e+00 - val_recall_1: 0.0000e+00\n",
      "Epoch 18/50\n",
      "346/346 [==============================] - ETA: 0s - loss: 0.1487 - accuracy: 0.3262 - recall_1: 0.0000e+00INFO:tensorflow:Assets written to: /home/paul_d/Sources/sem_math_repo/classification_formulas_multilabel/wandb/run-20230317_182403-zai9v8e8/files/model-best/assets\n"
     ]
    },
    {
     "name": "stderr",
     "output_type": "stream",
     "text": [
      "INFO:tensorflow:Assets written to: /home/paul_d/Sources/sem_math_repo/classification_formulas_multilabel/wandb/run-20230317_182403-zai9v8e8/files/model-best/assets\n"
     ]
    },
    {
     "name": "stdout",
     "output_type": "stream",
     "text": [
      "346/346 [==============================] - 27s 78ms/step - loss: 0.1487 - accuracy: 0.3262 - recall_1: 0.0000e+00 - val_loss: 0.1597 - val_accuracy: 0.0000e+00 - val_recall_1: 0.0000e+00\n",
      "Epoch 19/50\n",
      "346/346 [==============================] - ETA: 0s - loss: 0.1487 - accuracy: 0.3242 - recall_1: 0.0000e+00INFO:tensorflow:Assets written to: /home/paul_d/Sources/sem_math_repo/classification_formulas_multilabel/wandb/run-20230317_182403-zai9v8e8/files/model-best/assets\n"
     ]
    },
    {
     "name": "stderr",
     "output_type": "stream",
     "text": [
      "INFO:tensorflow:Assets written to: /home/paul_d/Sources/sem_math_repo/classification_formulas_multilabel/wandb/run-20230317_182403-zai9v8e8/files/model-best/assets\n"
     ]
    },
    {
     "name": "stdout",
     "output_type": "stream",
     "text": [
      "346/346 [==============================] - 27s 78ms/step - loss: 0.1487 - accuracy: 0.3242 - recall_1: 0.0000e+00 - val_loss: 0.1593 - val_accuracy: 0.0000e+00 - val_recall_1: 0.0000e+00\n",
      "Epoch 20/50\n",
      "346/346 [==============================] - 11s 32ms/step - loss: 0.1485 - accuracy: 0.3227 - recall_1: 0.0000e+00 - val_loss: 0.1600 - val_accuracy: 0.0000e+00 - val_recall_1: 0.0000e+00\n",
      "Epoch 21/50\n",
      "346/346 [==============================] - 11s 32ms/step - loss: 0.1485 - accuracy: 0.3265 - recall_1: 0.0000e+00 - val_loss: 0.1594 - val_accuracy: 0.0000e+00 - val_recall_1: 0.0000e+00\n",
      "Epoch 22/50\n",
      "346/346 [==============================] - 11s 33ms/step - loss: 0.1484 - accuracy: 0.3262 - recall_1: 0.0000e+00 - val_loss: 0.1601 - val_accuracy: 0.0000e+00 - val_recall_1: 0.0000e+00\n",
      "Epoch 23/50\n",
      "346/346 [==============================] - 11s 32ms/step - loss: 0.1484 - accuracy: 0.3288 - recall_1: 0.0000e+00 - val_loss: 0.1598 - val_accuracy: 0.0000e+00 - val_recall_1: 0.0000e+00\n",
      "Epoch 24/50\n",
      "346/346 [==============================] - ETA: 0s - loss: 0.1484 - accuracy: 0.3269 - recall_1: 0.0000e+00INFO:tensorflow:Assets written to: /home/paul_d/Sources/sem_math_repo/classification_formulas_multilabel/wandb/run-20230317_182403-zai9v8e8/files/model-best/assets\n"
     ]
    },
    {
     "name": "stderr",
     "output_type": "stream",
     "text": [
      "INFO:tensorflow:Assets written to: /home/paul_d/Sources/sem_math_repo/classification_formulas_multilabel/wandb/run-20230317_182403-zai9v8e8/files/model-best/assets\n"
     ]
    },
    {
     "name": "stdout",
     "output_type": "stream",
     "text": [
      "346/346 [==============================] - 27s 78ms/step - loss: 0.1484 - accuracy: 0.3269 - recall_1: 0.0000e+00 - val_loss: 0.1588 - val_accuracy: 0.0000e+00 - val_recall_1: 0.0000e+00\n",
      "Epoch 25/50\n",
      "346/346 [==============================] - 11s 33ms/step - loss: 0.1483 - accuracy: 0.3235 - recall_1: 0.0000e+00 - val_loss: 0.1589 - val_accuracy: 0.0000e+00 - val_recall_1: 0.0000e+00\n",
      "Epoch 26/50\n",
      "345/346 [============================>.] - ETA: 0s - loss: 0.1483 - accuracy: 0.3213 - recall_1: 0.0000e+00INFO:tensorflow:Assets written to: /home/paul_d/Sources/sem_math_repo/classification_formulas_multilabel/wandb/run-20230317_182403-zai9v8e8/files/model-best/assets\n"
     ]
    },
    {
     "name": "stderr",
     "output_type": "stream",
     "text": [
      "INFO:tensorflow:Assets written to: /home/paul_d/Sources/sem_math_repo/classification_formulas_multilabel/wandb/run-20230317_182403-zai9v8e8/files/model-best/assets\n"
     ]
    },
    {
     "name": "stdout",
     "output_type": "stream",
     "text": [
      "346/346 [==============================] - 27s 79ms/step - loss: 0.1483 - accuracy: 0.3212 - recall_1: 0.0000e+00 - val_loss: 0.1585 - val_accuracy: 0.0000e+00 - val_recall_1: 0.0000e+00\n",
      "Epoch 27/50\n",
      "345/346 [============================>.] - ETA: 0s - loss: 0.1482 - accuracy: 0.3224 - recall_1: 0.0000e+00INFO:tensorflow:Assets written to: /home/paul_d/Sources/sem_math_repo/classification_formulas_multilabel/wandb/run-20230317_182403-zai9v8e8/files/model-best/assets\n"
     ]
    },
    {
     "name": "stderr",
     "output_type": "stream",
     "text": [
      "INFO:tensorflow:Assets written to: /home/paul_d/Sources/sem_math_repo/classification_formulas_multilabel/wandb/run-20230317_182403-zai9v8e8/files/model-best/assets\n"
     ]
    },
    {
     "name": "stdout",
     "output_type": "stream",
     "text": [
      "346/346 [==============================] - 27s 78ms/step - loss: 0.1482 - accuracy: 0.3225 - recall_1: 0.0000e+00 - val_loss: 0.1584 - val_accuracy: 0.0000e+00 - val_recall_1: 0.0000e+00\n",
      "Epoch 28/50\n",
      "346/346 [==============================] - 11s 33ms/step - loss: 0.1481 - accuracy: 0.3228 - recall_1: 0.0000e+00 - val_loss: 0.1584 - val_accuracy: 0.0000e+00 - val_recall_1: 0.0000e+00\n",
      "Epoch 29/50\n",
      "346/346 [==============================] - ETA: 0s - loss: 0.1479 - accuracy: 0.3260 - recall_1: 0.0000e+00INFO:tensorflow:Assets written to: /home/paul_d/Sources/sem_math_repo/classification_formulas_multilabel/wandb/run-20230317_182403-zai9v8e8/files/model-best/assets\n"
     ]
    },
    {
     "name": "stderr",
     "output_type": "stream",
     "text": [
      "INFO:tensorflow:Assets written to: /home/paul_d/Sources/sem_math_repo/classification_formulas_multilabel/wandb/run-20230317_182403-zai9v8e8/files/model-best/assets\n"
     ]
    },
    {
     "name": "stdout",
     "output_type": "stream",
     "text": [
      "346/346 [==============================] - 27s 78ms/step - loss: 0.1479 - accuracy: 0.3260 - recall_1: 0.0000e+00 - val_loss: 0.1582 - val_accuracy: 0.0000e+00 - val_recall_1: 0.0000e+00\n",
      "Epoch 30/50\n",
      "345/346 [============================>.] - ETA: 0s - loss: 0.1478 - accuracy: 0.3280 - recall_1: 0.0031INFO:tensorflow:Assets written to: /home/paul_d/Sources/sem_math_repo/classification_formulas_multilabel/wandb/run-20230317_182403-zai9v8e8/files/model-best/assets\n"
     ]
    },
    {
     "name": "stderr",
     "output_type": "stream",
     "text": [
      "INFO:tensorflow:Assets written to: /home/paul_d/Sources/sem_math_repo/classification_formulas_multilabel/wandb/run-20230317_182403-zai9v8e8/files/model-best/assets\n"
     ]
    },
    {
     "name": "stdout",
     "output_type": "stream",
     "text": [
      "346/346 [==============================] - 27s 79ms/step - loss: 0.1478 - accuracy: 0.3282 - recall_1: 0.0031 - val_loss: 0.1578 - val_accuracy: 0.0000e+00 - val_recall_1: 0.0000e+00\n",
      "Epoch 31/50\n",
      "346/346 [==============================] - ETA: 0s - loss: 0.1477 - accuracy: 0.3290 - recall_1: 0.0050INFO:tensorflow:Assets written to: /home/paul_d/Sources/sem_math_repo/classification_formulas_multilabel/wandb/run-20230317_182403-zai9v8e8/files/model-best/assets\n"
     ]
    },
    {
     "name": "stderr",
     "output_type": "stream",
     "text": [
      "INFO:tensorflow:Assets written to: /home/paul_d/Sources/sem_math_repo/classification_formulas_multilabel/wandb/run-20230317_182403-zai9v8e8/files/model-best/assets\n"
     ]
    },
    {
     "name": "stdout",
     "output_type": "stream",
     "text": [
      "346/346 [==============================] - 27s 78ms/step - loss: 0.1477 - accuracy: 0.3290 - recall_1: 0.0050 - val_loss: 0.1576 - val_accuracy: 0.0000e+00 - val_recall_1: 0.0000e+00\n",
      "Epoch 32/50\n",
      "346/346 [==============================] - 11s 33ms/step - loss: 0.1473 - accuracy: 0.3391 - recall_1: 0.0049 - val_loss: 0.1599 - val_accuracy: 0.0000e+00 - val_recall_1: 0.0000e+00\n",
      "Epoch 33/50\n",
      "346/346 [==============================] - 11s 33ms/step - loss: 0.1475 - accuracy: 0.3412 - recall_1: 0.0071 - val_loss: 0.1577 - val_accuracy: 0.0000e+00 - val_recall_1: 0.0000e+00\n",
      "Epoch 34/50\n",
      "345/346 [============================>.] - ETA: 0s - loss: 0.1472 - accuracy: 0.3509 - recall_1: 0.0077INFO:tensorflow:Assets written to: /home/paul_d/Sources/sem_math_repo/classification_formulas_multilabel/wandb/run-20230317_182403-zai9v8e8/files/model-best/assets\n"
     ]
    },
    {
     "name": "stderr",
     "output_type": "stream",
     "text": [
      "INFO:tensorflow:Assets written to: /home/paul_d/Sources/sem_math_repo/classification_formulas_multilabel/wandb/run-20230317_182403-zai9v8e8/files/model-best/assets\n"
     ]
    },
    {
     "name": "stdout",
     "output_type": "stream",
     "text": [
      "346/346 [==============================] - 27s 79ms/step - loss: 0.1472 - accuracy: 0.3507 - recall_1: 0.0077 - val_loss: 0.1576 - val_accuracy: 0.0000e+00 - val_recall_1: 0.0000e+00\n",
      "Epoch 35/50\n",
      "346/346 [==============================] - 11s 33ms/step - loss: 0.1469 - accuracy: 0.3506 - recall_1: 0.0079 - val_loss: 0.1592 - val_accuracy: 0.0000e+00 - val_recall_1: 0.0000e+00\n",
      "Epoch 36/50\n",
      "346/346 [==============================] - 11s 33ms/step - loss: 0.1468 - accuracy: 0.3577 - recall_1: 0.0094 - val_loss: 0.1604 - val_accuracy: 0.0000e+00 - val_recall_1: 0.0000e+00\n",
      "Epoch 37/50\n",
      "346/346 [==============================] - 11s 33ms/step - loss: 0.1467 - accuracy: 0.3609 - recall_1: 0.0122 - val_loss: 0.1605 - val_accuracy: 0.0000e+00 - val_recall_1: 0.0000e+00\n",
      "Epoch 38/50\n",
      "346/346 [==============================] - 11s 33ms/step - loss: 0.1466 - accuracy: 0.3581 - recall_1: 0.0117 - val_loss: 0.1601 - val_accuracy: 0.0000e+00 - val_recall_1: 0.0000e+00\n",
      "Epoch 39/50\n",
      "346/346 [==============================] - 11s 33ms/step - loss: 0.1465 - accuracy: 0.3601 - recall_1: 0.0127 - val_loss: 0.1592 - val_accuracy: 0.0000e+00 - val_recall_1: 0.0000e+00\n",
      "Epoch 40/50\n",
      "346/346 [==============================] - 11s 33ms/step - loss: 0.1462 - accuracy: 0.3678 - recall_1: 0.0150 - val_loss: 0.1580 - val_accuracy: 0.0000e+00 - val_recall_1: 0.0000e+00\n",
      "Epoch 41/50\n",
      "346/346 [==============================] - 11s 33ms/step - loss: 0.1459 - accuracy: 0.3702 - recall_1: 0.0167 - val_loss: 0.1586 - val_accuracy: 0.0000e+00 - val_recall_1: 0.0000e+00\n",
      "Epoch 42/50\n",
      "346/346 [==============================] - 11s 33ms/step - loss: 0.1459 - accuracy: 0.3720 - recall_1: 0.0167 - val_loss: 0.1581 - val_accuracy: 0.0045 - val_recall_1: 0.0000e+00\n",
      "Epoch 43/50\n",
      "346/346 [==============================] - 11s 33ms/step - loss: 0.1456 - accuracy: 0.3765 - recall_1: 0.0174 - val_loss: 0.1586 - val_accuracy: 0.0025 - val_recall_1: 0.0000e+00\n",
      "Epoch 44/50\n",
      "346/346 [==============================] - 11s 33ms/step - loss: 0.1455 - accuracy: 0.3801 - recall_1: 0.0187 - val_loss: 0.1603 - val_accuracy: 0.0000e+00 - val_recall_1: 0.0000e+00\n",
      "Epoch 45/50\n",
      "346/346 [==============================] - 11s 33ms/step - loss: 0.1455 - accuracy: 0.3824 - recall_1: 0.0187 - val_loss: 0.1585 - val_accuracy: 0.0045 - val_recall_1: 0.0000e+00\n",
      "Epoch 46/50\n",
      "346/346 [==============================] - 11s 33ms/step - loss: 0.1452 - accuracy: 0.3863 - recall_1: 0.0212 - val_loss: 0.1584 - val_accuracy: 0.0025 - val_recall_1: 0.0000e+00\n",
      "Epoch 47/50\n",
      "345/346 [============================>.] - ETA: 0s - loss: 0.1452 - accuracy: 0.3860 - recall_1: 0.0216INFO:tensorflow:Assets written to: /home/paul_d/Sources/sem_math_repo/classification_formulas_multilabel/wandb/run-20230317_182403-zai9v8e8/files/model-best/assets\n"
     ]
    },
    {
     "name": "stderr",
     "output_type": "stream",
     "text": [
      "INFO:tensorflow:Assets written to: /home/paul_d/Sources/sem_math_repo/classification_formulas_multilabel/wandb/run-20230317_182403-zai9v8e8/files/model-best/assets\n"
     ]
    },
    {
     "name": "stdout",
     "output_type": "stream",
     "text": [
      "346/346 [==============================] - 28s 79ms/step - loss: 0.1453 - accuracy: 0.3857 - recall_1: 0.0215 - val_loss: 0.1570 - val_accuracy: 0.0045 - val_recall_1: 0.0000e+00\n",
      "Epoch 48/50\n",
      "346/346 [==============================] - 11s 33ms/step - loss: 0.1450 - accuracy: 0.3917 - recall_1: 0.0238 - val_loss: 0.1573 - val_accuracy: 0.0045 - val_recall_1: 0.0000e+00\n",
      "Epoch 49/50\n",
      "346/346 [==============================] - 11s 33ms/step - loss: 0.1446 - accuracy: 0.3956 - recall_1: 0.0271 - val_loss: 0.1572 - val_accuracy: 0.0045 - val_recall_1: 0.0000e+00\n",
      "Epoch 50/50\n",
      "346/346 [==============================] - 11s 33ms/step - loss: 0.1446 - accuracy: 0.4033 - recall_1: 0.0255 - val_loss: 0.1572 - val_accuracy: 0.0045 - val_recall_1: 0.0000e+00\n"
     ]
    }
   ],
   "source": [
    "configs_dict = {\n",
    "    \"learning_rate\": optimal_lr,\n",
    "    \"emb_dim\": optimal_emb_dims,\n",
    "    \"lstm_units\": optimal_lstm_units, \n",
    "    \"dense_units\": optimal_dense_units,\n",
    "    \"algorithm\": \"BiLstm\",\n",
    "    \"configuration\": \"multi_only_types\",\n",
    "    \"optimizer\": \"adam\",\n",
    "    \"loss\": \"binary_crossentropy\",\n",
    "    \"epochs\": NUM_EPOCHS,\n",
    "    \"batch_size\": 64,\n",
    "    \"vectorizer\": \"count\",\n",
    "    \"dataset\": \"multi_class_unbalanced_data_TOKENIZED_V1\"\n",
    "}\n",
    "\n",
    "run = wandb.init(project=wandb_project_name, reinit=True, config=configs_dict)\n",
    "\n",
    "history = model2c.fit(train_dataset2, \n",
    "                    epochs=NUM_EPOCHS,\n",
    "                    validation_data=test_dataset2,\n",
    "                    #steps_per_epoch = STEPS_PER_EPOCH,\n",
    "                    validation_steps = VAL_STEPS_PER_EPOCH,\n",
    "                    callbacks= [WandbCallback()])#[tensorboard_callback])\n",
    "run.finish()"
   ]
  },
  {
   "attachments": {},
   "cell_type": "markdown",
   "metadata": {},
   "source": [
    "##### Model 3: TOKENS AND TYPES\n",
    "Find best hyperparameters"
   ]
  },
  {
   "cell_type": "code",
   "execution_count": 21,
   "metadata": {},
   "outputs": [],
   "source": [
    "tokens_input_len = TOKENS_MAX_SEQ_LEN \n",
    "type_input_len = TYPE_TOKENS_MAX_SEQ_LEN\n",
    "NUM_CLASSES = 40\n",
    "\n",
    "encoder_count_tokens3 = create_encoder(\"count\", None, \"token\", train_dataset3, 3)\n",
    "encoder_count_types3 = create_encoder(\"count\", None, \"type\", train_dataset3, 3)\n",
    "model_builder3c = mc_u.create_model_builder3_RNN(NUM_CLASSES, encoder_count_tokens3,encoder_count_types3, tokens_input_len, type_input_len)"
   ]
  },
  {
   "cell_type": "code",
   "execution_count": 22,
   "metadata": {},
   "outputs": [
    {
     "name": "stdout",
     "output_type": "stream",
     "text": [
      "INFO:tensorflow:Reloading Tuner from meta_dir/model3c_rnn/model3c_rnn/tuner0.json\n"
     ]
    }
   ],
   "source": [
    "tuner = kt.Hyperband(model_builder3c,\n",
    "                     objective=kt.Objective(\"val_accuracy\", direction=\"max\"),\n",
    "                     max_epochs=10,\n",
    "                     factor=3,\n",
    "                     directory='meta_dir/model3c_rnn',\n",
    "                     project_name='model3c_rnn')\n",
    "stop_early = tf.keras.callbacks.EarlyStopping(monitor='val_loss', patience=3)"
   ]
  },
  {
   "cell_type": "code",
   "execution_count": 23,
   "metadata": {},
   "outputs": [
    {
     "name": "stdout",
     "output_type": "stream",
     "text": [
      "Trial 30 Complete [00h 19m 46s]\n",
      "val_accuracy: 0.0\n",
      "\n",
      "Best val_accuracy So Far: 0.0\n",
      "Total elapsed time: 00h 34m 43s\n",
      "INFO:tensorflow:Oracle triggered exit\n"
     ]
    }
   ],
   "source": [
    "tuner.search(train_dataset3,\n",
    "             epochs=10,\n",
    "             validation_data=test_dataset3,\n",
    "             #steps_per_epoch = STEPS_PER_EPOCH,\n",
    "             validation_steps = VAL_STEPS_PER_EPOCH,\n",
    "             callbacks= [stop_early])#[tensorboard_callback])"
   ]
  },
  {
   "cell_type": "code",
   "execution_count": 24,
   "metadata": {},
   "outputs": [
    {
     "name": "stdout",
     "output_type": "stream",
     "text": [
      "0.01\n",
      "96\n",
      "96\n",
      "64\n"
     ]
    }
   ],
   "source": [
    "best_hps=tuner.get_best_hyperparameters(num_trials=1)[0]\n",
    "optimal_lr = best_hps.get(\"learning_rate\")\n",
    "optimal_emb_dims = best_hps.get(\"emb_dims\")\n",
    "optimal_lstm_units = best_hps.get(\"lstm_units\")\n",
    "optimal_dense_units = best_hps.get(\"dense_units\")\n",
    "\n",
    "print(optimal_lr)\n",
    "print(optimal_emb_dims)\n",
    "print(optimal_lstm_units)\n",
    "print(optimal_dense_units)"
   ]
  },
  {
   "attachments": {},
   "cell_type": "markdown",
   "metadata": {},
   "source": [
    "Train with best hyperparameters"
   ]
  },
  {
   "cell_type": "code",
   "execution_count": 25,
   "metadata": {},
   "outputs": [],
   "source": [
    "NUM_EPOCHS = 50\n",
    "optimal_lr = 0.0001\n",
    "model3c = mc_u.create_model3_RNN(NUM_CLASSES, optimal_emb_dims, optimal_lstm_units, optimal_dense_units, encoder_count_tokens3, encoder_count_types3, tokens_input_len, type_input_len)\n",
    "model3c.compile(loss=tf.keras.losses.BinaryCrossentropy(from_logits=True),\n",
    "              optimizer=tf.keras.optimizers.Adam(optimal_lr),\n",
    "              metrics=[\"accuracy\", tf.keras.metrics.Recall()])"
   ]
  },
  {
   "cell_type": "code",
   "execution_count": 26,
   "metadata": {},
   "outputs": [
    {
     "name": "stdout",
     "output_type": "stream",
     "text": [
      "Epoch 1/50\n",
      "346/346 [==============================] - ETA: 0s - loss: 0.3918 - accuracy: 0.5928 - recall_1: 0.0636INFO:tensorflow:Assets written to: /home/paul_d/Sources/sem_math_repo/classification_formulas_multilabel/wandb/run-20230317_215056-wu7j07wp/files/model-best/assets\n"
     ]
    },
    {
     "name": "stderr",
     "output_type": "stream",
     "text": [
      "INFO:tensorflow:Assets written to: /home/paul_d/Sources/sem_math_repo/classification_formulas_multilabel/wandb/run-20230317_215056-wu7j07wp/files/model-best/assets\n"
     ]
    },
    {
     "name": "stdout",
     "output_type": "stream",
     "text": [
      "346/346 [==============================] - 100s 275ms/step - loss: 0.3918 - accuracy: 0.5928 - recall_1: 0.0636 - val_loss: 0.2344 - val_accuracy: 0.0000e+00 - val_recall_1: 0.0000e+00\n",
      "Epoch 2/50\n",
      "346/346 [==============================] - ETA: 0s - loss: 0.1580 - accuracy: 0.5464 - recall_1: 0.1571INFO:tensorflow:Assets written to: /home/paul_d/Sources/sem_math_repo/classification_formulas_multilabel/wandb/run-20230317_215056-wu7j07wp/files/model-best/assets\n"
     ]
    },
    {
     "name": "stderr",
     "output_type": "stream",
     "text": [
      "INFO:tensorflow:Assets written to: /home/paul_d/Sources/sem_math_repo/classification_formulas_multilabel/wandb/run-20230317_215056-wu7j07wp/files/model-best/assets\n"
     ]
    },
    {
     "name": "stdout",
     "output_type": "stream",
     "text": [
      "346/346 [==============================] - 94s 272ms/step - loss: 0.1580 - accuracy: 0.5464 - recall_1: 0.1571 - val_loss: 0.1991 - val_accuracy: 0.0000e+00 - val_recall_1: 0.0000e+00\n",
      "Epoch 3/50\n",
      "346/346 [==============================] - ETA: 0s - loss: 0.1462 - accuracy: 0.5474 - recall_1: 0.1626INFO:tensorflow:Assets written to: /home/paul_d/Sources/sem_math_repo/classification_formulas_multilabel/wandb/run-20230317_215056-wu7j07wp/files/model-best/assets\n"
     ]
    },
    {
     "name": "stderr",
     "output_type": "stream",
     "text": [
      "INFO:tensorflow:Assets written to: /home/paul_d/Sources/sem_math_repo/classification_formulas_multilabel/wandb/run-20230317_215056-wu7j07wp/files/model-best/assets\n"
     ]
    },
    {
     "name": "stdout",
     "output_type": "stream",
     "text": [
      "346/346 [==============================] - 94s 272ms/step - loss: 0.1462 - accuracy: 0.5474 - recall_1: 0.1626 - val_loss: 0.1948 - val_accuracy: 0.0000e+00 - val_recall_1: 0.0000e+00\n",
      "Epoch 4/50\n",
      "346/346 [==============================] - ETA: 0s - loss: 0.1458 - accuracy: 0.5248 - recall_1: 0.1359INFO:tensorflow:Assets written to: /home/paul_d/Sources/sem_math_repo/classification_formulas_multilabel/wandb/run-20230317_215056-wu7j07wp/files/model-best/assets\n"
     ]
    },
    {
     "name": "stderr",
     "output_type": "stream",
     "text": [
      "INFO:tensorflow:Assets written to: /home/paul_d/Sources/sem_math_repo/classification_formulas_multilabel/wandb/run-20230317_215056-wu7j07wp/files/model-best/assets\n"
     ]
    },
    {
     "name": "stdout",
     "output_type": "stream",
     "text": [
      "346/346 [==============================] - 94s 272ms/step - loss: 0.1458 - accuracy: 0.5248 - recall_1: 0.1359 - val_loss: 0.1894 - val_accuracy: 0.0000e+00 - val_recall_1: 0.0000e+00\n",
      "Epoch 5/50\n",
      "346/346 [==============================] - ETA: 0s - loss: 0.1451 - accuracy: 0.5206 - recall_1: 0.1280INFO:tensorflow:Assets written to: /home/paul_d/Sources/sem_math_repo/classification_formulas_multilabel/wandb/run-20230317_215056-wu7j07wp/files/model-best/assets\n"
     ]
    },
    {
     "name": "stderr",
     "output_type": "stream",
     "text": [
      "INFO:tensorflow:Assets written to: /home/paul_d/Sources/sem_math_repo/classification_formulas_multilabel/wandb/run-20230317_215056-wu7j07wp/files/model-best/assets\n"
     ]
    },
    {
     "name": "stdout",
     "output_type": "stream",
     "text": [
      "346/346 [==============================] - 94s 271ms/step - loss: 0.1451 - accuracy: 0.5206 - recall_1: 0.1280 - val_loss: 0.1868 - val_accuracy: 0.0000e+00 - val_recall_1: 0.0000e+00\n",
      "Epoch 6/50\n",
      "346/346 [==============================] - ETA: 0s - loss: 0.1450 - accuracy: 0.5114 - recall_1: 0.1225INFO:tensorflow:Assets written to: /home/paul_d/Sources/sem_math_repo/classification_formulas_multilabel/wandb/run-20230317_215056-wu7j07wp/files/model-best/assets\n"
     ]
    },
    {
     "name": "stderr",
     "output_type": "stream",
     "text": [
      "INFO:tensorflow:Assets written to: /home/paul_d/Sources/sem_math_repo/classification_formulas_multilabel/wandb/run-20230317_215056-wu7j07wp/files/model-best/assets\n"
     ]
    },
    {
     "name": "stdout",
     "output_type": "stream",
     "text": [
      "346/346 [==============================] - 94s 272ms/step - loss: 0.1450 - accuracy: 0.5114 - recall_1: 0.1225 - val_loss: 0.1850 - val_accuracy: 0.0000e+00 - val_recall_1: 0.0000e+00\n",
      "Epoch 7/50\n",
      "346/346 [==============================] - ETA: 0s - loss: 0.1452 - accuracy: 0.5035 - recall_1: 0.1086INFO:tensorflow:Assets written to: /home/paul_d/Sources/sem_math_repo/classification_formulas_multilabel/wandb/run-20230317_215056-wu7j07wp/files/model-best/assets\n"
     ]
    },
    {
     "name": "stderr",
     "output_type": "stream",
     "text": [
      "INFO:tensorflow:Assets written to: /home/paul_d/Sources/sem_math_repo/classification_formulas_multilabel/wandb/run-20230317_215056-wu7j07wp/files/model-best/assets\n"
     ]
    },
    {
     "name": "stdout",
     "output_type": "stream",
     "text": [
      "346/346 [==============================] - 94s 273ms/step - loss: 0.1452 - accuracy: 0.5035 - recall_1: 0.1086 - val_loss: 0.1840 - val_accuracy: 0.0000e+00 - val_recall_1: 0.0000e+00\n",
      "Epoch 8/50\n",
      "346/346 [==============================] - ETA: 0s - loss: 0.1449 - accuracy: 0.5000 - recall_1: 0.1120INFO:tensorflow:Assets written to: /home/paul_d/Sources/sem_math_repo/classification_formulas_multilabel/wandb/run-20230317_215056-wu7j07wp/files/model-best/assets\n"
     ]
    },
    {
     "name": "stderr",
     "output_type": "stream",
     "text": [
      "INFO:tensorflow:Assets written to: /home/paul_d/Sources/sem_math_repo/classification_formulas_multilabel/wandb/run-20230317_215056-wu7j07wp/files/model-best/assets\n"
     ]
    },
    {
     "name": "stdout",
     "output_type": "stream",
     "text": [
      "346/346 [==============================] - 94s 273ms/step - loss: 0.1449 - accuracy: 0.5000 - recall_1: 0.1120 - val_loss: 0.1812 - val_accuracy: 0.0000e+00 - val_recall_1: 0.0000e+00\n",
      "Epoch 9/50\n",
      "346/346 [==============================] - ETA: 0s - loss: 0.1451 - accuracy: 0.4929 - recall_1: 0.1021INFO:tensorflow:Assets written to: /home/paul_d/Sources/sem_math_repo/classification_formulas_multilabel/wandb/run-20230317_215056-wu7j07wp/files/model-best/assets\n"
     ]
    },
    {
     "name": "stderr",
     "output_type": "stream",
     "text": [
      "INFO:tensorflow:Assets written to: /home/paul_d/Sources/sem_math_repo/classification_formulas_multilabel/wandb/run-20230317_215056-wu7j07wp/files/model-best/assets\n"
     ]
    },
    {
     "name": "stdout",
     "output_type": "stream",
     "text": [
      "346/346 [==============================] - 94s 273ms/step - loss: 0.1451 - accuracy: 0.4929 - recall_1: 0.1021 - val_loss: 0.1795 - val_accuracy: 0.0000e+00 - val_recall_1: 0.0000e+00\n",
      "Epoch 10/50\n",
      "346/346 [==============================] - ETA: 0s - loss: 0.1451 - accuracy: 0.4874 - recall_1: 0.0948INFO:tensorflow:Assets written to: /home/paul_d/Sources/sem_math_repo/classification_formulas_multilabel/wandb/run-20230317_215056-wu7j07wp/files/model-best/assets\n"
     ]
    },
    {
     "name": "stderr",
     "output_type": "stream",
     "text": [
      "INFO:tensorflow:Assets written to: /home/paul_d/Sources/sem_math_repo/classification_formulas_multilabel/wandb/run-20230317_215056-wu7j07wp/files/model-best/assets\n"
     ]
    },
    {
     "name": "stdout",
     "output_type": "stream",
     "text": [
      "346/346 [==============================] - 96s 277ms/step - loss: 0.1451 - accuracy: 0.4874 - recall_1: 0.0948 - val_loss: 0.1777 - val_accuracy: 0.0000e+00 - val_recall_1: 0.0000e+00\n",
      "Epoch 11/50\n",
      "346/346 [==============================] - ETA: 0s - loss: 0.1452 - accuracy: 0.4825 - recall_1: 0.0845INFO:tensorflow:Assets written to: /home/paul_d/Sources/sem_math_repo/classification_formulas_multilabel/wandb/run-20230317_215056-wu7j07wp/files/model-best/assets\n"
     ]
    },
    {
     "name": "stderr",
     "output_type": "stream",
     "text": [
      "INFO:tensorflow:Assets written to: /home/paul_d/Sources/sem_math_repo/classification_formulas_multilabel/wandb/run-20230317_215056-wu7j07wp/files/model-best/assets\n"
     ]
    },
    {
     "name": "stdout",
     "output_type": "stream",
     "text": [
      "346/346 [==============================] - 97s 282ms/step - loss: 0.1452 - accuracy: 0.4825 - recall_1: 0.0845 - val_loss: 0.1763 - val_accuracy: 0.0000e+00 - val_recall_1: 0.0000e+00\n",
      "Epoch 12/50\n",
      "346/346 [==============================] - ETA: 0s - loss: 0.1453 - accuracy: 0.4779 - recall_1: 0.0769INFO:tensorflow:Assets written to: /home/paul_d/Sources/sem_math_repo/classification_formulas_multilabel/wandb/run-20230317_215056-wu7j07wp/files/model-best/assets\n"
     ]
    },
    {
     "name": "stderr",
     "output_type": "stream",
     "text": [
      "INFO:tensorflow:Assets written to: /home/paul_d/Sources/sem_math_repo/classification_formulas_multilabel/wandb/run-20230317_215056-wu7j07wp/files/model-best/assets\n"
     ]
    },
    {
     "name": "stdout",
     "output_type": "stream",
     "text": [
      "346/346 [==============================] - 97s 280ms/step - loss: 0.1453 - accuracy: 0.4779 - recall_1: 0.0769 - val_loss: 0.1749 - val_accuracy: 0.0000e+00 - val_recall_1: 0.0000e+00\n",
      "Epoch 13/50\n",
      "346/346 [==============================] - ETA: 0s - loss: 0.1452 - accuracy: 0.4739 - recall_1: 0.0713INFO:tensorflow:Assets written to: /home/paul_d/Sources/sem_math_repo/classification_formulas_multilabel/wandb/run-20230317_215056-wu7j07wp/files/model-best/assets\n"
     ]
    },
    {
     "name": "stderr",
     "output_type": "stream",
     "text": [
      "INFO:tensorflow:Assets written to: /home/paul_d/Sources/sem_math_repo/classification_formulas_multilabel/wandb/run-20230317_215056-wu7j07wp/files/model-best/assets\n"
     ]
    },
    {
     "name": "stdout",
     "output_type": "stream",
     "text": [
      "346/346 [==============================] - 97s 280ms/step - loss: 0.1452 - accuracy: 0.4739 - recall_1: 0.0713 - val_loss: 0.1734 - val_accuracy: 0.0000e+00 - val_recall_1: 0.0000e+00\n",
      "Epoch 14/50\n",
      "346/346 [==============================] - 82s 236ms/step - loss: 0.1452 - accuracy: 0.4708 - recall_1: 0.0598 - val_loss: 0.1741 - val_accuracy: 0.0000e+00 - val_recall_1: 0.0000e+00\n",
      "Epoch 15/50\n",
      "346/346 [==============================] - ETA: 0s - loss: 0.1453 - accuracy: 0.4645 - recall_1: 0.0640INFO:tensorflow:Assets written to: /home/paul_d/Sources/sem_math_repo/classification_formulas_multilabel/wandb/run-20230317_215056-wu7j07wp/files/model-best/assets\n"
     ]
    },
    {
     "name": "stderr",
     "output_type": "stream",
     "text": [
      "INFO:tensorflow:Assets written to: /home/paul_d/Sources/sem_math_repo/classification_formulas_multilabel/wandb/run-20230317_215056-wu7j07wp/files/model-best/assets\n"
     ]
    },
    {
     "name": "stdout",
     "output_type": "stream",
     "text": [
      "346/346 [==============================] - 97s 279ms/step - loss: 0.1453 - accuracy: 0.4645 - recall_1: 0.0640 - val_loss: 0.1710 - val_accuracy: 0.0000e+00 - val_recall_1: 0.0000e+00\n",
      "Epoch 16/50\n",
      "346/346 [==============================] - ETA: 0s - loss: 0.1451 - accuracy: 0.4677 - recall_1: 0.0508INFO:tensorflow:Assets written to: /home/paul_d/Sources/sem_math_repo/classification_formulas_multilabel/wandb/run-20230317_215056-wu7j07wp/files/model-best/assets\n"
     ]
    },
    {
     "name": "stderr",
     "output_type": "stream",
     "text": [
      "INFO:tensorflow:Assets written to: /home/paul_d/Sources/sem_math_repo/classification_formulas_multilabel/wandb/run-20230317_215056-wu7j07wp/files/model-best/assets\n"
     ]
    },
    {
     "name": "stdout",
     "output_type": "stream",
     "text": [
      "346/346 [==============================] - 97s 281ms/step - loss: 0.1451 - accuracy: 0.4677 - recall_1: 0.0508 - val_loss: 0.1698 - val_accuracy: 0.0000e+00 - val_recall_1: 0.0000e+00\n",
      "Epoch 17/50\n",
      "346/346 [==============================] - ETA: 0s - loss: 0.1449 - accuracy: 0.4667 - recall_1: 0.0494INFO:tensorflow:Assets written to: /home/paul_d/Sources/sem_math_repo/classification_formulas_multilabel/wandb/run-20230317_215056-wu7j07wp/files/model-best/assets\n"
     ]
    },
    {
     "name": "stderr",
     "output_type": "stream",
     "text": [
      "INFO:tensorflow:Assets written to: /home/paul_d/Sources/sem_math_repo/classification_formulas_multilabel/wandb/run-20230317_215056-wu7j07wp/files/model-best/assets\n"
     ]
    },
    {
     "name": "stdout",
     "output_type": "stream",
     "text": [
      "346/346 [==============================] - 97s 281ms/step - loss: 0.1449 - accuracy: 0.4667 - recall_1: 0.0494 - val_loss: 0.1692 - val_accuracy: 0.0000e+00 - val_recall_1: 0.0000e+00\n",
      "Epoch 18/50\n",
      "346/346 [==============================] - ETA: 0s - loss: 0.1447 - accuracy: 0.4728 - recall_1: 0.0482INFO:tensorflow:Assets written to: /home/paul_d/Sources/sem_math_repo/classification_formulas_multilabel/wandb/run-20230317_215056-wu7j07wp/files/model-best/assets\n"
     ]
    },
    {
     "name": "stderr",
     "output_type": "stream",
     "text": [
      "INFO:tensorflow:Assets written to: /home/paul_d/Sources/sem_math_repo/classification_formulas_multilabel/wandb/run-20230317_215056-wu7j07wp/files/model-best/assets\n"
     ]
    },
    {
     "name": "stdout",
     "output_type": "stream",
     "text": [
      "346/346 [==============================] - 97s 280ms/step - loss: 0.1447 - accuracy: 0.4728 - recall_1: 0.0482 - val_loss: 0.1684 - val_accuracy: 0.0000e+00 - val_recall_1: 0.0000e+00\n",
      "Epoch 19/50\n",
      "346/346 [==============================] - ETA: 0s - loss: 0.1446 - accuracy: 0.4718 - recall_1: 0.0570INFO:tensorflow:Assets written to: /home/paul_d/Sources/sem_math_repo/classification_formulas_multilabel/wandb/run-20230317_215056-wu7j07wp/files/model-best/assets\n"
     ]
    },
    {
     "name": "stderr",
     "output_type": "stream",
     "text": [
      "INFO:tensorflow:Assets written to: /home/paul_d/Sources/sem_math_repo/classification_formulas_multilabel/wandb/run-20230317_215056-wu7j07wp/files/model-best/assets\n"
     ]
    },
    {
     "name": "stdout",
     "output_type": "stream",
     "text": [
      "346/346 [==============================] - 97s 281ms/step - loss: 0.1446 - accuracy: 0.4718 - recall_1: 0.0570 - val_loss: 0.1650 - val_accuracy: 0.0000e+00 - val_recall_1: 0.0000e+00\n",
      "Epoch 20/50\n",
      "346/346 [==============================] - 82s 238ms/step - loss: 0.1442 - accuracy: 0.4761 - recall_1: 0.0435 - val_loss: 0.1674 - val_accuracy: 0.0000e+00 - val_recall_1: 0.0000e+00\n",
      "Epoch 21/50\n",
      "346/346 [==============================] - 82s 238ms/step - loss: 0.1448 - accuracy: 0.4638 - recall_1: 0.0306 - val_loss: 0.1659 - val_accuracy: 0.0000e+00 - val_recall_1: 0.0000e+00\n",
      "Epoch 22/50\n",
      "346/346 [==============================] - 82s 237ms/step - loss: 0.1439 - accuracy: 0.4761 - recall_1: 0.0422 - val_loss: 0.1680 - val_accuracy: 0.0000e+00 - val_recall_1: 0.0000e+00\n",
      "Epoch 23/50\n",
      "346/346 [==============================] - 82s 238ms/step - loss: 0.1436 - accuracy: 0.4743 - recall_1: 0.0670 - val_loss: 0.1682 - val_accuracy: 0.0000e+00 - val_recall_1: 0.0000e+00\n",
      "Epoch 24/50\n",
      "346/346 [==============================] - 83s 239ms/step - loss: 0.1443 - accuracy: 0.4728 - recall_1: 0.0448 - val_loss: 0.1661 - val_accuracy: 0.0000e+00 - val_recall_1: 0.0000e+00\n",
      "Epoch 25/50\n",
      "346/346 [==============================] - 82s 238ms/step - loss: 0.1434 - accuracy: 0.4905 - recall_1: 0.0649 - val_loss: 0.1701 - val_accuracy: 0.0000e+00 - val_recall_1: 0.0011\n",
      "Epoch 26/50\n",
      "346/346 [==============================] - 83s 239ms/step - loss: 0.1437 - accuracy: 0.4728 - recall_1: 0.0516 - val_loss: 0.1656 - val_accuracy: 0.0000e+00 - val_recall_1: 0.0011\n",
      "Epoch 27/50\n",
      "346/346 [==============================] - 83s 240ms/step - loss: 0.1426 - accuracy: 0.4878 - recall_1: 0.0631 - val_loss: 0.1742 - val_accuracy: 0.0000e+00 - val_recall_1: 0.0011\n",
      "Epoch 28/50\n",
      "346/346 [==============================] - 84s 242ms/step - loss: 0.1429 - accuracy: 0.4784 - recall_1: 0.0771 - val_loss: 0.1718 - val_accuracy: 0.0000e+00 - val_recall_1: 0.0014\n",
      "Epoch 29/50\n",
      "346/346 [==============================] - 84s 241ms/step - loss: 0.1435 - accuracy: 0.4763 - recall_1: 0.0527 - val_loss: 0.1673 - val_accuracy: 0.0000e+00 - val_recall_1: 0.0011\n",
      "Epoch 30/50\n",
      "346/346 [==============================] - 84s 241ms/step - loss: 0.1422 - accuracy: 0.4772 - recall_1: 0.0814 - val_loss: 0.1721 - val_accuracy: 0.0000e+00 - val_recall_1: 0.0014\n",
      "Epoch 31/50\n",
      "346/346 [==============================] - 84s 242ms/step - loss: 0.1435 - accuracy: 0.4692 - recall_1: 0.0555 - val_loss: 0.1703 - val_accuracy: 0.0000e+00 - val_recall_1: 0.0014\n",
      "Epoch 32/50\n",
      "346/346 [==============================] - 84s 242ms/step - loss: 0.1421 - accuracy: 0.4914 - recall_1: 0.0988 - val_loss: 0.1679 - val_accuracy: 0.0000e+00 - val_recall_1: 0.0014\n",
      "Epoch 33/50\n",
      "346/346 [==============================] - 84s 242ms/step - loss: 0.1428 - accuracy: 0.4790 - recall_1: 0.0590 - val_loss: 0.1662 - val_accuracy: 0.0000e+00 - val_recall_1: 0.0020\n",
      "Epoch 34/50\n",
      "346/346 [==============================] - 84s 242ms/step - loss: 0.1421 - accuracy: 0.4821 - recall_1: 0.0713 - val_loss: 0.1688 - val_accuracy: 0.0000e+00 - val_recall_1: 9.0192e-04\n",
      "Epoch 35/50\n",
      "346/346 [==============================] - 84s 243ms/step - loss: 0.1413 - accuracy: 0.5005 - recall_1: 0.0753 - val_loss: 0.1696 - val_accuracy: 0.0000e+00 - val_recall_1: 0.0020\n",
      "Epoch 36/50\n",
      "346/346 [==============================] - 84s 243ms/step - loss: 0.1417 - accuracy: 0.4915 - recall_1: 0.0944 - val_loss: 0.1666 - val_accuracy: 0.0000e+00 - val_recall_1: 0.0020\n",
      "Epoch 37/50\n",
      "346/346 [==============================] - 84s 243ms/step - loss: 0.1412 - accuracy: 0.4848 - recall_1: 0.0873 - val_loss: 0.1677 - val_accuracy: 0.0000e+00 - val_recall_1: 0.0034\n",
      "Epoch 38/50\n",
      "346/346 [==============================] - ETA: 0s - loss: 0.1412 - accuracy: 0.4957 - recall_1: 0.0752INFO:tensorflow:Assets written to: /home/paul_d/Sources/sem_math_repo/classification_formulas_multilabel/wandb/run-20230317_215056-wu7j07wp/files/model-best/assets\n"
     ]
    },
    {
     "name": "stderr",
     "output_type": "stream",
     "text": [
      "INFO:tensorflow:Assets written to: /home/paul_d/Sources/sem_math_repo/classification_formulas_multilabel/wandb/run-20230317_215056-wu7j07wp/files/model-best/assets\n"
     ]
    },
    {
     "name": "stdout",
     "output_type": "stream",
     "text": [
      "346/346 [==============================] - 101s 293ms/step - loss: 0.1412 - accuracy: 0.4957 - recall_1: 0.0752 - val_loss: 0.1641 - val_accuracy: 0.0000e+00 - val_recall_1: 0.0020\n",
      "Epoch 39/50\n",
      "346/346 [==============================] - ETA: 0s - loss: 0.1408 - accuracy: 0.4934 - recall_1: 0.0870INFO:tensorflow:Assets written to: /home/paul_d/Sources/sem_math_repo/classification_formulas_multilabel/wandb/run-20230317_215056-wu7j07wp/files/model-best/assets\n"
     ]
    },
    {
     "name": "stderr",
     "output_type": "stream",
     "text": [
      "INFO:tensorflow:Assets written to: /home/paul_d/Sources/sem_math_repo/classification_formulas_multilabel/wandb/run-20230317_215056-wu7j07wp/files/model-best/assets\n"
     ]
    },
    {
     "name": "stdout",
     "output_type": "stream",
     "text": [
      "346/346 [==============================] - 99s 285ms/step - loss: 0.1408 - accuracy: 0.4934 - recall_1: 0.0870 - val_loss: 0.1634 - val_accuracy: 0.3882 - val_recall_1: 0.0020\n",
      "Epoch 40/50\n",
      "346/346 [==============================] - 84s 243ms/step - loss: 0.1398 - accuracy: 0.5180 - recall_1: 0.1110 - val_loss: 0.1668 - val_accuracy: 0.0000e+00 - val_recall_1: 0.0027\n",
      "Epoch 41/50\n",
      "346/346 [==============================] - 84s 244ms/step - loss: 0.1405 - accuracy: 0.4872 - recall_1: 0.0927 - val_loss: 0.1669 - val_accuracy: 0.0000e+00 - val_recall_1: 0.0027\n",
      "Epoch 42/50\n",
      "346/346 [==============================] - 89s 256ms/step - loss: 0.1407 - accuracy: 0.4863 - recall_1: 0.0927 - val_loss: 0.1647 - val_accuracy: 0.0000e+00 - val_recall_1: 0.0025\n",
      "Epoch 43/50\n",
      "346/346 [==============================] - ETA: 0s - loss: 0.1401 - accuracy: 0.5029 - recall_1: 0.1002INFO:tensorflow:Assets written to: /home/paul_d/Sources/sem_math_repo/classification_formulas_multilabel/wandb/run-20230317_215056-wu7j07wp/files/model-best/assets\n"
     ]
    },
    {
     "name": "stderr",
     "output_type": "stream",
     "text": [
      "INFO:tensorflow:Assets written to: /home/paul_d/Sources/sem_math_repo/classification_formulas_multilabel/wandb/run-20230317_215056-wu7j07wp/files/model-best/assets\n"
     ]
    },
    {
     "name": "stdout",
     "output_type": "stream",
     "text": [
      "346/346 [==============================] - 100s 289ms/step - loss: 0.1401 - accuracy: 0.5029 - recall_1: 0.1002 - val_loss: 0.1615 - val_accuracy: 0.0000e+00 - val_recall_1: 0.0027\n",
      "Epoch 44/50\n",
      "346/346 [==============================] - 85s 245ms/step - loss: 0.1391 - accuracy: 0.5191 - recall_1: 0.1059 - val_loss: 0.1723 - val_accuracy: 0.3882 - val_recall_1: 0.0032\n",
      "Epoch 45/50\n",
      "346/346 [==============================] - ETA: 0s - loss: 0.1399 - accuracy: 0.5048 - recall_1: 0.0907INFO:tensorflow:Assets written to: /home/paul_d/Sources/sem_math_repo/classification_formulas_multilabel/wandb/run-20230317_215056-wu7j07wp/files/model-best/assets\n"
     ]
    },
    {
     "name": "stderr",
     "output_type": "stream",
     "text": [
      "INFO:tensorflow:Assets written to: /home/paul_d/Sources/sem_math_repo/classification_formulas_multilabel/wandb/run-20230317_215056-wu7j07wp/files/model-best/assets\n"
     ]
    },
    {
     "name": "stdout",
     "output_type": "stream",
     "text": [
      "346/346 [==============================] - 100s 290ms/step - loss: 0.1399 - accuracy: 0.5048 - recall_1: 0.0907 - val_loss: 0.1586 - val_accuracy: 0.0000e+00 - val_recall_1: 0.0023\n",
      "Epoch 46/50\n",
      "346/346 [==============================] - ETA: 0s - loss: 0.1395 - accuracy: 0.5002 - recall_1: 0.0891INFO:tensorflow:Assets written to: /home/paul_d/Sources/sem_math_repo/classification_formulas_multilabel/wandb/run-20230317_215056-wu7j07wp/files/model-best/assets\n"
     ]
    },
    {
     "name": "stderr",
     "output_type": "stream",
     "text": [
      "INFO:tensorflow:Assets written to: /home/paul_d/Sources/sem_math_repo/classification_formulas_multilabel/wandb/run-20230317_215056-wu7j07wp/files/model-best/assets\n"
     ]
    },
    {
     "name": "stdout",
     "output_type": "stream",
     "text": [
      "346/346 [==============================] - 99s 286ms/step - loss: 0.1395 - accuracy: 0.5002 - recall_1: 0.0891 - val_loss: 0.1570 - val_accuracy: 0.0016 - val_recall_1: 0.0025\n",
      "Epoch 47/50\n",
      "346/346 [==============================] - 85s 244ms/step - loss: 0.1390 - accuracy: 0.5133 - recall_1: 0.1033 - val_loss: 0.1591 - val_accuracy: 0.0012 - val_recall_1: 0.0027\n",
      "Epoch 48/50\n",
      "346/346 [==============================] - 85s 245ms/step - loss: 0.1387 - accuracy: 0.5162 - recall_1: 0.0999 - val_loss: 0.1576 - val_accuracy: 0.3898 - val_recall_1: 0.0027\n",
      "Epoch 49/50\n",
      "346/346 [==============================] - 85s 246ms/step - loss: 0.1383 - accuracy: 0.5175 - recall_1: 0.1004 - val_loss: 0.1597 - val_accuracy: 0.3886 - val_recall_1: 0.0027\n",
      "Epoch 50/50\n",
      "346/346 [==============================] - ETA: 0s - loss: 0.1380 - accuracy: 0.5336 - recall_1: 0.1096INFO:tensorflow:Assets written to: /home/paul_d/Sources/sem_math_repo/classification_formulas_multilabel/wandb/run-20230317_215056-wu7j07wp/files/model-best/assets\n"
     ]
    },
    {
     "name": "stderr",
     "output_type": "stream",
     "text": [
      "INFO:tensorflow:Assets written to: /home/paul_d/Sources/sem_math_repo/classification_formulas_multilabel/wandb/run-20230317_215056-wu7j07wp/files/model-best/assets\n"
     ]
    },
    {
     "name": "stdout",
     "output_type": "stream",
     "text": [
      "346/346 [==============================] - 100s 290ms/step - loss: 0.1380 - accuracy: 0.5336 - recall_1: 0.1096 - val_loss: 0.1567 - val_accuracy: 0.5555 - val_recall_1: 0.0027\n"
     ]
    }
   ],
   "source": [
    "configs_dict = {\n",
    "    \"learning_rate\": optimal_lr,\n",
    "    \"emb_dim\": optimal_emb_dims,\n",
    "    \"lstm_units\": optimal_lstm_units, \n",
    "    \"dense_units\": optimal_dense_units,\n",
    "    \"algorithm\": \"BiLstm\",\n",
    "    \"configuration\": \"multi_tokens_types\",\n",
    "    \"optimizer\": \"adam\",\n",
    "    \"loss\": \"binary_crossentropy\",\n",
    "    \"epochs\": NUM_EPOCHS,\n",
    "    \"batch_size\": 64,\n",
    "    \"vectorizer\": \"count\",\n",
    "    \"dataset\": \"multi_class_unbalanced_data_TOKENIZED_V1\"\n",
    "}\n",
    "\n",
    "run = wandb.init(project=wandb_project_name, reinit=True, config=configs_dict)\n",
    "\n",
    "history = model3c.fit(train_dataset3, \n",
    "                    epochs=NUM_EPOCHS,\n",
    "                    validation_data=test_dataset3,\n",
    "                    #steps_per_epoch = STEPS_PER_EPOCH,\n",
    "                    validation_steps = VAL_STEPS_PER_EPOCH,\n",
    "                    callbacks= [WandbCallback()])#[tensorboard_callback])\n",
    "run.finish()"
   ]
  },
  {
   "attachments": {},
   "cell_type": "markdown",
   "metadata": {},
   "source": [
    "##### Model 4: TOKENS, TYPES, SEM MATH LABELS\n",
    "Find best hyperparameters"
   ]
  },
  {
   "cell_type": "code",
   "execution_count": 21,
   "metadata": {},
   "outputs": [],
   "source": [
    "tokens_input_len = TOKENS_MAX_SEQ_LEN \n",
    "type_input_len = TYPE_TOKENS_MAX_SEQ_LEN\n",
    "NUM_CLASSES = 40\n",
    "\n",
    "encoder_count_tokens4 = create_encoder(\"count\", None, \"token\", train_dataset4, 4)\n",
    "encoder_count_types4 = create_encoder(\"count\", None, \"type\", train_dataset4, 4)\n",
    "model_builder4c = mc_u.create_model_builder4_RNN(NUM_CLASSES, encoder_count_tokens4, encoder_count_types4, tokens_input_len, type_input_len, \"float\")"
   ]
  },
  {
   "cell_type": "code",
   "execution_count": 22,
   "metadata": {},
   "outputs": [
    {
     "name": "stdout",
     "output_type": "stream",
     "text": [
      "INFO:tensorflow:Reloading Tuner from meta_dir/model4c_rnn/model4c_rnn/tuner0.json\n"
     ]
    }
   ],
   "source": [
    "tuner = kt.Hyperband(model_builder4c,\n",
    "                     objective=kt.Objective(\"val_accuracy\", direction=\"max\"),\n",
    "                     max_epochs=10,\n",
    "                     factor=3,\n",
    "                     directory='meta_dir/model4c_rnn',\n",
    "                     project_name='model4c_rnn')\n",
    "stop_early = tf.keras.callbacks.EarlyStopping(monitor='val_loss', patience=3)"
   ]
  },
  {
   "cell_type": "code",
   "execution_count": 23,
   "metadata": {},
   "outputs": [
    {
     "name": "stdout",
     "output_type": "stream",
     "text": [
      "Trial 30 Complete [00h 05m 17s]\n",
      "val_accuracy: 0.0\n",
      "\n",
      "Best val_accuracy So Far: 0.07113486528396606\n",
      "Total elapsed time: 01h 37m 01s\n",
      "INFO:tensorflow:Oracle triggered exit\n"
     ]
    }
   ],
   "source": [
    "tuner.search(train_dataset4,\n",
    "             epochs=10,\n",
    "             validation_data=test_dataset4,\n",
    "             #steps_per_epoch = STEPS_PER_EPOCH,\n",
    "             validation_steps = VAL_STEPS_PER_EPOCH,\n",
    "             callbacks= [stop_early])#[tensorboard_callback])"
   ]
  },
  {
   "cell_type": "code",
   "execution_count": 24,
   "metadata": {},
   "outputs": [
    {
     "name": "stdout",
     "output_type": "stream",
     "text": [
      "0.0001\n",
      "32\n",
      "96\n",
      "32\n"
     ]
    }
   ],
   "source": [
    "best_hps=tuner.get_best_hyperparameters(num_trials=1)[0]\n",
    "optimal_lr = best_hps.get(\"learning_rate\")\n",
    "optimal_emb_dims = best_hps.get(\"emb_dims\")\n",
    "optimal_lstm_units = best_hps.get(\"lstm_units\")\n",
    "optimal_dense_units = best_hps.get(\"dense_units\")\n",
    "\n",
    "print(optimal_lr)\n",
    "print(optimal_emb_dims)\n",
    "print(optimal_lstm_units)\n",
    "print(optimal_dense_units)"
   ]
  },
  {
   "attachments": {},
   "cell_type": "markdown",
   "metadata": {},
   "source": [
    "Train with best hyperparameters"
   ]
  },
  {
   "cell_type": "code",
   "execution_count": 25,
   "metadata": {},
   "outputs": [],
   "source": [
    "NUM_EPOCHS = 50\n",
    "optimal_lr = 0.0001\n",
    "model4c = mc_u.create_model4_RNN(NUM_CLASSES, optimal_emb_dims, optimal_lstm_units, optimal_dense_units, encoder_count_tokens4, encoder_count_types4, tokens_input_len, type_input_len, \"float\")\n",
    "model4c.compile(loss=tf.keras.losses.BinaryCrossentropy(from_logits=True),\n",
    "              optimizer=tf.keras.optimizers.Adam(optimal_lr),\n",
    "              metrics=[\"accuracy\", tf.keras.metrics.Recall()])"
   ]
  },
  {
   "cell_type": "code",
   "execution_count": 26,
   "metadata": {},
   "outputs": [
    {
     "name": "stdout",
     "output_type": "stream",
     "text": [
      "Epoch 1/50\n",
      "346/346 [==============================] - ETA: 0s - loss: 0.4539 - accuracy: 0.0714 - recall_1: 0.0190INFO:tensorflow:Assets written to: /home/paul_d/Sources/sem_math_repo/classification_formulas_multilabel/wandb/run-20230318_014108-vnzbob5m/files/model-best/assets\n"
     ]
    },
    {
     "name": "stderr",
     "output_type": "stream",
     "text": [
      "INFO:tensorflow:Assets written to: /home/paul_d/Sources/sem_math_repo/classification_formulas_multilabel/wandb/run-20230318_014108-vnzbob5m/files/model-best/assets\n"
     ]
    },
    {
     "name": "stdout",
     "output_type": "stream",
     "text": [
      "346/346 [==============================] - 83s 226ms/step - loss: 0.4539 - accuracy: 0.0714 - recall_1: 0.0190 - val_loss: 0.2462 - val_accuracy: 0.0000e+00 - val_recall_1: 0.0000e+00\n",
      "Epoch 2/50\n",
      "346/346 [==============================] - ETA: 0s - loss: 0.1764 - accuracy: 0.4296 - recall_1: 0.0336INFO:tensorflow:Assets written to: /home/paul_d/Sources/sem_math_repo/classification_formulas_multilabel/wandb/run-20230318_014108-vnzbob5m/files/model-best/assets\n"
     ]
    },
    {
     "name": "stderr",
     "output_type": "stream",
     "text": [
      "INFO:tensorflow:Assets written to: /home/paul_d/Sources/sem_math_repo/classification_formulas_multilabel/wandb/run-20230318_014108-vnzbob5m/files/model-best/assets\n"
     ]
    },
    {
     "name": "stdout",
     "output_type": "stream",
     "text": [
      "346/346 [==============================] - 77s 223ms/step - loss: 0.1764 - accuracy: 0.4296 - recall_1: 0.0336 - val_loss: 0.1874 - val_accuracy: 0.0000e+00 - val_recall_1: 0.0000e+00\n",
      "Epoch 3/50\n",
      "346/346 [==============================] - ETA: 0s - loss: 0.1522 - accuracy: 0.4953 - recall_1: 0.0563INFO:tensorflow:Assets written to: /home/paul_d/Sources/sem_math_repo/classification_formulas_multilabel/wandb/run-20230318_014108-vnzbob5m/files/model-best/assets\n"
     ]
    },
    {
     "name": "stderr",
     "output_type": "stream",
     "text": [
      "INFO:tensorflow:Assets written to: /home/paul_d/Sources/sem_math_repo/classification_formulas_multilabel/wandb/run-20230318_014108-vnzbob5m/files/model-best/assets\n"
     ]
    },
    {
     "name": "stdout",
     "output_type": "stream",
     "text": [
      "346/346 [==============================] - 78s 225ms/step - loss: 0.1522 - accuracy: 0.4953 - recall_1: 0.0563 - val_loss: 0.1777 - val_accuracy: 0.0000e+00 - val_recall_1: 0.0000e+00\n",
      "Epoch 4/50\n",
      "346/346 [==============================] - ETA: 0s - loss: 0.1482 - accuracy: 0.4883 - recall_1: 0.0600INFO:tensorflow:Assets written to: /home/paul_d/Sources/sem_math_repo/classification_formulas_multilabel/wandb/run-20230318_014108-vnzbob5m/files/model-best/assets\n"
     ]
    },
    {
     "name": "stderr",
     "output_type": "stream",
     "text": [
      "INFO:tensorflow:Assets written to: /home/paul_d/Sources/sem_math_repo/classification_formulas_multilabel/wandb/run-20230318_014108-vnzbob5m/files/model-best/assets\n"
     ]
    },
    {
     "name": "stdout",
     "output_type": "stream",
     "text": [
      "346/346 [==============================] - 78s 225ms/step - loss: 0.1482 - accuracy: 0.4883 - recall_1: 0.0600 - val_loss: 0.1752 - val_accuracy: 0.0000e+00 - val_recall_1: 0.0000e+00\n",
      "Epoch 5/50\n",
      "346/346 [==============================] - ETA: 0s - loss: 0.1471 - accuracy: 0.4879 - recall_1: 0.0586INFO:tensorflow:Assets written to: /home/paul_d/Sources/sem_math_repo/classification_formulas_multilabel/wandb/run-20230318_014108-vnzbob5m/files/model-best/assets\n"
     ]
    },
    {
     "name": "stderr",
     "output_type": "stream",
     "text": [
      "INFO:tensorflow:Assets written to: /home/paul_d/Sources/sem_math_repo/classification_formulas_multilabel/wandb/run-20230318_014108-vnzbob5m/files/model-best/assets\n"
     ]
    },
    {
     "name": "stdout",
     "output_type": "stream",
     "text": [
      "346/346 [==============================] - 78s 226ms/step - loss: 0.1471 - accuracy: 0.4879 - recall_1: 0.0586 - val_loss: 0.1742 - val_accuracy: 0.0000e+00 - val_recall_1: 0.0000e+00\n",
      "Epoch 6/50\n",
      "346/346 [==============================] - ETA: 0s - loss: 0.1469 - accuracy: 0.4794 - recall_1: 0.0540INFO:tensorflow:Assets written to: /home/paul_d/Sources/sem_math_repo/classification_formulas_multilabel/wandb/run-20230318_014108-vnzbob5m/files/model-best/assets\n"
     ]
    },
    {
     "name": "stderr",
     "output_type": "stream",
     "text": [
      "INFO:tensorflow:Assets written to: /home/paul_d/Sources/sem_math_repo/classification_formulas_multilabel/wandb/run-20230318_014108-vnzbob5m/files/model-best/assets\n"
     ]
    },
    {
     "name": "stdout",
     "output_type": "stream",
     "text": [
      "346/346 [==============================] - 78s 225ms/step - loss: 0.1469 - accuracy: 0.4794 - recall_1: 0.0540 - val_loss: 0.1734 - val_accuracy: 0.0000e+00 - val_recall_1: 0.0000e+00\n",
      "Epoch 7/50\n",
      "346/346 [==============================] - ETA: 0s - loss: 0.1468 - accuracy: 0.4750 - recall_1: 0.0507INFO:tensorflow:Assets written to: /home/paul_d/Sources/sem_math_repo/classification_formulas_multilabel/wandb/run-20230318_014108-vnzbob5m/files/model-best/assets\n"
     ]
    },
    {
     "name": "stderr",
     "output_type": "stream",
     "text": [
      "INFO:tensorflow:Assets written to: /home/paul_d/Sources/sem_math_repo/classification_formulas_multilabel/wandb/run-20230318_014108-vnzbob5m/files/model-best/assets\n"
     ]
    },
    {
     "name": "stdout",
     "output_type": "stream",
     "text": [
      "346/346 [==============================] - 78s 225ms/step - loss: 0.1468 - accuracy: 0.4750 - recall_1: 0.0507 - val_loss: 0.1731 - val_accuracy: 0.0000e+00 - val_recall_1: 0.0000e+00\n",
      "Epoch 8/50\n",
      "346/346 [==============================] - ETA: 0s - loss: 0.1468 - accuracy: 0.4709 - recall_1: 0.0447INFO:tensorflow:Assets written to: /home/paul_d/Sources/sem_math_repo/classification_formulas_multilabel/wandb/run-20230318_014108-vnzbob5m/files/model-best/assets\n"
     ]
    },
    {
     "name": "stderr",
     "output_type": "stream",
     "text": [
      "INFO:tensorflow:Assets written to: /home/paul_d/Sources/sem_math_repo/classification_formulas_multilabel/wandb/run-20230318_014108-vnzbob5m/files/model-best/assets\n"
     ]
    },
    {
     "name": "stdout",
     "output_type": "stream",
     "text": [
      "346/346 [==============================] - 78s 225ms/step - loss: 0.1468 - accuracy: 0.4709 - recall_1: 0.0447 - val_loss: 0.1727 - val_accuracy: 0.0000e+00 - val_recall_1: 0.0000e+00\n",
      "Epoch 9/50\n",
      "346/346 [==============================] - ETA: 0s - loss: 0.1468 - accuracy: 0.4661 - recall_1: 0.0401INFO:tensorflow:Assets written to: /home/paul_d/Sources/sem_math_repo/classification_formulas_multilabel/wandb/run-20230318_014108-vnzbob5m/files/model-best/assets\n"
     ]
    },
    {
     "name": "stderr",
     "output_type": "stream",
     "text": [
      "INFO:tensorflow:Assets written to: /home/paul_d/Sources/sem_math_repo/classification_formulas_multilabel/wandb/run-20230318_014108-vnzbob5m/files/model-best/assets\n"
     ]
    },
    {
     "name": "stdout",
     "output_type": "stream",
     "text": [
      "346/346 [==============================] - 79s 227ms/step - loss: 0.1468 - accuracy: 0.4661 - recall_1: 0.0401 - val_loss: 0.1725 - val_accuracy: 0.0000e+00 - val_recall_1: 0.0000e+00\n",
      "Epoch 10/50\n",
      "346/346 [==============================] - ETA: 0s - loss: 0.1468 - accuracy: 0.4589 - recall_1: 0.0336INFO:tensorflow:Assets written to: /home/paul_d/Sources/sem_math_repo/classification_formulas_multilabel/wandb/run-20230318_014108-vnzbob5m/files/model-best/assets\n"
     ]
    },
    {
     "name": "stderr",
     "output_type": "stream",
     "text": [
      "INFO:tensorflow:Assets written to: /home/paul_d/Sources/sem_math_repo/classification_formulas_multilabel/wandb/run-20230318_014108-vnzbob5m/files/model-best/assets\n"
     ]
    },
    {
     "name": "stdout",
     "output_type": "stream",
     "text": [
      "346/346 [==============================] - 78s 226ms/step - loss: 0.1468 - accuracy: 0.4589 - recall_1: 0.0336 - val_loss: 0.1718 - val_accuracy: 0.0000e+00 - val_recall_1: 0.0000e+00\n",
      "Epoch 11/50\n",
      "346/346 [==============================] - ETA: 0s - loss: 0.1468 - accuracy: 0.4583 - recall_1: 0.0295INFO:tensorflow:Assets written to: /home/paul_d/Sources/sem_math_repo/classification_formulas_multilabel/wandb/run-20230318_014108-vnzbob5m/files/model-best/assets\n"
     ]
    },
    {
     "name": "stderr",
     "output_type": "stream",
     "text": [
      "INFO:tensorflow:Assets written to: /home/paul_d/Sources/sem_math_repo/classification_formulas_multilabel/wandb/run-20230318_014108-vnzbob5m/files/model-best/assets\n"
     ]
    },
    {
     "name": "stdout",
     "output_type": "stream",
     "text": [
      "346/346 [==============================] - 79s 228ms/step - loss: 0.1468 - accuracy: 0.4583 - recall_1: 0.0295 - val_loss: 0.1715 - val_accuracy: 0.0000e+00 - val_recall_1: 0.0000e+00\n",
      "Epoch 12/50\n",
      "346/346 [==============================] - ETA: 0s - loss: 0.1468 - accuracy: 0.4546 - recall_1: 0.0214INFO:tensorflow:Assets written to: /home/paul_d/Sources/sem_math_repo/classification_formulas_multilabel/wandb/run-20230318_014108-vnzbob5m/files/model-best/assets\n"
     ]
    },
    {
     "name": "stderr",
     "output_type": "stream",
     "text": [
      "INFO:tensorflow:Assets written to: /home/paul_d/Sources/sem_math_repo/classification_formulas_multilabel/wandb/run-20230318_014108-vnzbob5m/files/model-best/assets\n"
     ]
    },
    {
     "name": "stdout",
     "output_type": "stream",
     "text": [
      "346/346 [==============================] - 79s 228ms/step - loss: 0.1468 - accuracy: 0.4546 - recall_1: 0.0214 - val_loss: 0.1712 - val_accuracy: 0.0000e+00 - val_recall_1: 0.0000e+00\n",
      "Epoch 13/50\n",
      "346/346 [==============================] - ETA: 0s - loss: 0.1468 - accuracy: 0.4535 - recall_1: 0.0184INFO:tensorflow:Assets written to: /home/paul_d/Sources/sem_math_repo/classification_formulas_multilabel/wandb/run-20230318_014108-vnzbob5m/files/model-best/assets\n"
     ]
    },
    {
     "name": "stderr",
     "output_type": "stream",
     "text": [
      "INFO:tensorflow:Assets written to: /home/paul_d/Sources/sem_math_repo/classification_formulas_multilabel/wandb/run-20230318_014108-vnzbob5m/files/model-best/assets\n"
     ]
    },
    {
     "name": "stdout",
     "output_type": "stream",
     "text": [
      "346/346 [==============================] - 79s 228ms/step - loss: 0.1468 - accuracy: 0.4535 - recall_1: 0.0184 - val_loss: 0.1712 - val_accuracy: 0.0000e+00 - val_recall_1: 0.0000e+00\n",
      "Epoch 14/50\n",
      "346/346 [==============================] - ETA: 0s - loss: 0.1468 - accuracy: 0.4496 - recall_1: 0.0163INFO:tensorflow:Assets written to: /home/paul_d/Sources/sem_math_repo/classification_formulas_multilabel/wandb/run-20230318_014108-vnzbob5m/files/model-best/assets\n"
     ]
    },
    {
     "name": "stderr",
     "output_type": "stream",
     "text": [
      "INFO:tensorflow:Assets written to: /home/paul_d/Sources/sem_math_repo/classification_formulas_multilabel/wandb/run-20230318_014108-vnzbob5m/files/model-best/assets\n"
     ]
    },
    {
     "name": "stdout",
     "output_type": "stream",
     "text": [
      "346/346 [==============================] - 79s 227ms/step - loss: 0.1468 - accuracy: 0.4496 - recall_1: 0.0163 - val_loss: 0.1707 - val_accuracy: 0.0000e+00 - val_recall_1: 0.0000e+00\n",
      "Epoch 15/50\n",
      "346/346 [==============================] - 62s 180ms/step - loss: 0.1467 - accuracy: 0.4491 - recall_1: 0.0160 - val_loss: 0.1708 - val_accuracy: 0.0000e+00 - val_recall_1: 0.0000e+00\n",
      "Epoch 16/50\n",
      "346/346 [==============================] - ETA: 0s - loss: 0.1466 - accuracy: 0.4472 - recall_1: 0.0138INFO:tensorflow:Assets written to: /home/paul_d/Sources/sem_math_repo/classification_formulas_multilabel/wandb/run-20230318_014108-vnzbob5m/files/model-best/assets\n"
     ]
    },
    {
     "name": "stderr",
     "output_type": "stream",
     "text": [
      "INFO:tensorflow:Assets written to: /home/paul_d/Sources/sem_math_repo/classification_formulas_multilabel/wandb/run-20230318_014108-vnzbob5m/files/model-best/assets\n"
     ]
    },
    {
     "name": "stdout",
     "output_type": "stream",
     "text": [
      "346/346 [==============================] - 78s 224ms/step - loss: 0.1466 - accuracy: 0.4472 - recall_1: 0.0138 - val_loss: 0.1702 - val_accuracy: 0.0000e+00 - val_recall_1: 0.0000e+00\n",
      "Epoch 17/50\n",
      "346/346 [==============================] - 62s 179ms/step - loss: 0.1467 - accuracy: 0.4443 - recall_1: 0.0143 - val_loss: 0.1704 - val_accuracy: 0.0000e+00 - val_recall_1: 0.0000e+00\n",
      "Epoch 18/50\n",
      "346/346 [==============================] - ETA: 0s - loss: 0.1467 - accuracy: 0.4437 - recall_1: 0.0093INFO:tensorflow:Assets written to: /home/paul_d/Sources/sem_math_repo/classification_formulas_multilabel/wandb/run-20230318_014108-vnzbob5m/files/model-best/assets\n"
     ]
    },
    {
     "name": "stderr",
     "output_type": "stream",
     "text": [
      "INFO:tensorflow:Assets written to: /home/paul_d/Sources/sem_math_repo/classification_formulas_multilabel/wandb/run-20230318_014108-vnzbob5m/files/model-best/assets\n"
     ]
    },
    {
     "name": "stdout",
     "output_type": "stream",
     "text": [
      "346/346 [==============================] - 77s 223ms/step - loss: 0.1467 - accuracy: 0.4437 - recall_1: 0.0093 - val_loss: 0.1700 - val_accuracy: 0.0000e+00 - val_recall_1: 0.0000e+00\n",
      "Epoch 19/50\n",
      "346/346 [==============================] - 62s 179ms/step - loss: 0.1467 - accuracy: 0.4393 - recall_1: 0.0071 - val_loss: 0.1700 - val_accuracy: 0.0000e+00 - val_recall_1: 0.0000e+00\n",
      "Epoch 20/50\n",
      "346/346 [==============================] - ETA: 0s - loss: 0.1466 - accuracy: 0.4394 - recall_1: 0.0065INFO:tensorflow:Assets written to: /home/paul_d/Sources/sem_math_repo/classification_formulas_multilabel/wandb/run-20230318_014108-vnzbob5m/files/model-best/assets\n"
     ]
    },
    {
     "name": "stderr",
     "output_type": "stream",
     "text": [
      "INFO:tensorflow:Assets written to: /home/paul_d/Sources/sem_math_repo/classification_formulas_multilabel/wandb/run-20230318_014108-vnzbob5m/files/model-best/assets\n"
     ]
    },
    {
     "name": "stdout",
     "output_type": "stream",
     "text": [
      "346/346 [==============================] - 78s 224ms/step - loss: 0.1466 - accuracy: 0.4394 - recall_1: 0.0065 - val_loss: 0.1698 - val_accuracy: 0.0000e+00 - val_recall_1: 0.0000e+00\n",
      "Epoch 21/50\n",
      "346/346 [==============================] - 62s 180ms/step - loss: 0.1466 - accuracy: 0.4384 - recall_1: 0.0011 - val_loss: 0.1698 - val_accuracy: 0.0000e+00 - val_recall_1: 0.0000e+00\n",
      "Epoch 22/50\n",
      "346/346 [==============================] - ETA: 0s - loss: 0.1448 - accuracy: 0.4918 - recall_1: 0.0475INFO:tensorflow:Assets written to: /home/paul_d/Sources/sem_math_repo/classification_formulas_multilabel/wandb/run-20230318_014108-vnzbob5m/files/model-best/assets\n"
     ]
    },
    {
     "name": "stderr",
     "output_type": "stream",
     "text": [
      "INFO:tensorflow:Assets written to: /home/paul_d/Sources/sem_math_repo/classification_formulas_multilabel/wandb/run-20230318_014108-vnzbob5m/files/model-best/assets\n"
     ]
    },
    {
     "name": "stdout",
     "output_type": "stream",
     "text": [
      "346/346 [==============================] - 78s 225ms/step - loss: 0.1448 - accuracy: 0.4918 - recall_1: 0.0475 - val_loss: 0.1660 - val_accuracy: 0.0000e+00 - val_recall_1: 0.0000e+00\n",
      "Epoch 23/50\n",
      "346/346 [==============================] - 62s 180ms/step - loss: 0.1455 - accuracy: 0.4671 - recall_1: 0.0742 - val_loss: 0.1694 - val_accuracy: 0.0000e+00 - val_recall_1: 0.0000e+00\n",
      "Epoch 24/50\n",
      "346/346 [==============================] - 62s 179ms/step - loss: 0.1463 - accuracy: 0.4538 - recall_1: 0.0340 - val_loss: 0.1707 - val_accuracy: 0.0000e+00 - val_recall_1: 0.0000e+00\n",
      "Epoch 25/50\n",
      "346/346 [==============================] - 62s 179ms/step - loss: 0.1462 - accuracy: 0.4496 - recall_1: 0.0174 - val_loss: 0.1717 - val_accuracy: 0.0000e+00 - val_recall_1: 0.0000e+00\n",
      "Epoch 26/50\n",
      "346/346 [==============================] - 63s 181ms/step - loss: 0.1463 - accuracy: 0.4380 - recall_1: 0.0082 - val_loss: 0.1714 - val_accuracy: 0.0000e+00 - val_recall_1: 0.0000e+00\n",
      "Epoch 27/50\n",
      "346/346 [==============================] - 63s 181ms/step - loss: 0.1464 - accuracy: 0.4334 - recall_1: 0.0080 - val_loss: 0.1704 - val_accuracy: 0.0000e+00 - val_recall_1: 0.0000e+00\n",
      "Epoch 28/50\n",
      "346/346 [==============================] - 63s 181ms/step - loss: 0.1462 - accuracy: 0.4364 - recall_1: 0.0079 - val_loss: 0.1702 - val_accuracy: 0.0000e+00 - val_recall_1: 0.0000e+00\n",
      "Epoch 29/50\n",
      "346/346 [==============================] - 62s 181ms/step - loss: 0.1461 - accuracy: 0.4325 - recall_1: 0.0087 - val_loss: 0.1696 - val_accuracy: 0.0000e+00 - val_recall_1: 0.0000e+00\n",
      "Epoch 30/50\n",
      "346/346 [==============================] - 63s 181ms/step - loss: 0.1460 - accuracy: 0.4317 - recall_1: 0.0083 - val_loss: 0.1688 - val_accuracy: 0.0000e+00 - val_recall_1: 0.0000e+00\n",
      "Epoch 31/50\n",
      "346/346 [==============================] - 63s 183ms/step - loss: 0.1457 - accuracy: 0.4383 - recall_1: 0.0085 - val_loss: 0.1686 - val_accuracy: 0.0000e+00 - val_recall_1: 0.0000e+00\n",
      "Epoch 32/50\n",
      "346/346 [==============================] - 63s 183ms/step - loss: 0.1455 - accuracy: 0.4431 - recall_1: 0.0099 - val_loss: 0.1686 - val_accuracy: 0.0000e+00 - val_recall_1: 0.0000e+00\n",
      "Epoch 33/50\n",
      "346/346 [==============================] - 63s 183ms/step - loss: 0.1438 - accuracy: 0.4918 - recall_1: 0.0444 - val_loss: 0.1699 - val_accuracy: 0.0000e+00 - val_recall_1: 0.0011\n",
      "Epoch 34/50\n",
      "346/346 [==============================] - 63s 183ms/step - loss: 0.1447 - accuracy: 0.4625 - recall_1: 0.0411 - val_loss: 0.1751 - val_accuracy: 0.0000e+00 - val_recall_1: 0.0000e+00\n",
      "Epoch 35/50\n",
      "346/346 [==============================] - 63s 183ms/step - loss: 0.1452 - accuracy: 0.4473 - recall_1: 0.0252 - val_loss: 0.1696 - val_accuracy: 0.0000e+00 - val_recall_1: 0.0011\n",
      "Epoch 36/50\n",
      "346/346 [==============================] - 63s 182ms/step - loss: 0.1449 - accuracy: 0.4505 - recall_1: 0.0224 - val_loss: 0.1671 - val_accuracy: 0.0000e+00 - val_recall_1: 0.0011\n",
      "Epoch 37/50\n",
      "346/346 [==============================] - 63s 182ms/step - loss: 0.1445 - accuracy: 0.4519 - recall_1: 0.0260 - val_loss: 0.1692 - val_accuracy: 0.0000e+00 - val_recall_1: 0.0011\n",
      "Epoch 38/50\n",
      "346/346 [==============================] - 62s 179ms/step - loss: 0.1446 - accuracy: 0.4485 - recall_1: 0.0251 - val_loss: 0.1677 - val_accuracy: 0.0000e+00 - val_recall_1: 0.0011\n",
      "Epoch 39/50\n",
      "346/346 [==============================] - 62s 179ms/step - loss: 0.1443 - accuracy: 0.4529 - recall_1: 0.0290 - val_loss: 0.1671 - val_accuracy: 0.0000e+00 - val_recall_1: 0.0011\n",
      "Epoch 40/50\n",
      "346/346 [==============================] - 63s 181ms/step - loss: 0.1433 - accuracy: 0.4666 - recall_1: 0.0504 - val_loss: 0.1775 - val_accuracy: 0.0000e+00 - val_recall_1: 0.0018\n",
      "Epoch 41/50\n",
      "346/346 [==============================] - 63s 183ms/step - loss: 0.1430 - accuracy: 0.4734 - recall_1: 0.0727 - val_loss: 0.1742 - val_accuracy: 0.0000e+00 - val_recall_1: 0.0016\n",
      "Epoch 42/50\n",
      "346/346 [==============================] - 63s 182ms/step - loss: 0.1429 - accuracy: 0.4698 - recall_1: 0.0516 - val_loss: 0.1797 - val_accuracy: 0.0000e+00 - val_recall_1: 0.0016\n",
      "Epoch 43/50\n",
      "346/346 [==============================] - 63s 183ms/step - loss: 0.1416 - accuracy: 0.5019 - recall_1: 0.0857 - val_loss: 0.1725 - val_accuracy: 0.0000e+00 - val_recall_1: 0.0016\n",
      "Epoch 44/50\n",
      "346/346 [==============================] - 63s 182ms/step - loss: 0.1410 - accuracy: 0.4827 - recall_1: 0.1091 - val_loss: 0.1737 - val_accuracy: 0.0000e+00 - val_recall_1: 0.0023\n",
      "Epoch 45/50\n",
      "346/346 [==============================] - 62s 178ms/step - loss: 0.1416 - accuracy: 0.4731 - recall_1: 0.0776 - val_loss: 0.1759 - val_accuracy: 0.0000e+00 - val_recall_1: 0.0023\n",
      "Epoch 46/50\n",
      "346/346 [==============================] - 63s 181ms/step - loss: 0.1413 - accuracy: 0.4733 - recall_1: 0.0732 - val_loss: 0.1814 - val_accuracy: 0.0000e+00 - val_recall_1: 0.0016\n",
      "Epoch 47/50\n",
      "346/346 [==============================] - 63s 182ms/step - loss: 0.1420 - accuracy: 0.4680 - recall_1: 0.0687 - val_loss: 0.1744 - val_accuracy: 0.0000e+00 - val_recall_1: 0.0016\n",
      "Epoch 48/50\n",
      "346/346 [==============================] - 63s 183ms/step - loss: 0.1417 - accuracy: 0.4711 - recall_1: 0.0594 - val_loss: 0.1703 - val_accuracy: 0.0000e+00 - val_recall_1: 0.0020\n",
      "Epoch 49/50\n",
      "346/346 [==============================] - 63s 183ms/step - loss: 0.1413 - accuracy: 0.4753 - recall_1: 0.0617 - val_loss: 0.1723 - val_accuracy: 0.0000e+00 - val_recall_1: 0.0020\n",
      "Epoch 50/50\n",
      "346/346 [==============================] - 63s 183ms/step - loss: 0.1412 - accuracy: 0.4773 - recall_1: 0.0616 - val_loss: 0.1679 - val_accuracy: 0.0000e+00 - val_recall_1: 0.0020\n"
     ]
    }
   ],
   "source": [
    "configs_dict = {\n",
    "    \"learning_rate\": optimal_lr,\n",
    "    \"emb_dim\": optimal_emb_dims,\n",
    "    \"lstm_units\": optimal_lstm_units, \n",
    "    \"dense_units\": optimal_dense_units,\n",
    "    \"algorithm\": \"BiLstm\",\n",
    "    \"configuration\": \"multi_all_features\",\n",
    "    \"optimizer\": \"adam\",\n",
    "    \"loss\": \"binary_crossentropy\",\n",
    "    \"epochs\": NUM_EPOCHS,\n",
    "    \"batch_size\": 64,\n",
    "    \"vectorizer\": \"count\",\n",
    "    \"dataset\": \"multi_class_unbalanced_data_TOKENIZED_V1\"\n",
    "}\n",
    "\n",
    "run = wandb.init(project=wandb_project_name, reinit=True, config=configs_dict)\n",
    "\n",
    "history = model4c.fit(train_dataset4, \n",
    "                    epochs=NUM_EPOCHS,\n",
    "                    validation_data=test_dataset4,\n",
    "                    #steps_per_epoch = STEPS_PER_EPOCH,\n",
    "                    validation_steps = VAL_STEPS_PER_EPOCH,\n",
    "                    callbacks= [WandbCallback()])#[tensorboard_callback])\n",
    "run.finish()"
   ]
  }
 ],
 "metadata": {
  "kernelspec": {
   "display_name": "sem_math_env",
   "language": "python",
   "name": "python3"
  },
  "language_info": {
   "codemirror_mode": {
    "name": "ipython",
    "version": 3
   },
   "file_extension": ".py",
   "mimetype": "text/x-python",
   "name": "python",
   "nbconvert_exporter": "python",
   "pygments_lexer": "ipython3",
   "version": "3.10.9"
  },
  "orig_nbformat": 4,
  "vscode": {
   "interpreter": {
    "hash": "71a9a05a8d236729134f51de1f1fd612c9215f2a378954bc400639bac96e00eb"
   }
  }
 },
 "nbformat": 4,
 "nbformat_minor": 2
}
