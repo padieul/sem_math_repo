{
 "cells": [
  {
   "cell_type": "code",
   "execution_count": 1,
   "metadata": {},
   "outputs": [],
   "source": [
    "import os\n",
    "\n",
    "# takes care of annoying TF-GPU warnings\n",
    "os.environ[\"CUDA_VISIBLE_DEVICES\"] = \"-1\"\n",
    "os.environ[\"TF_CPP_MIN_LOG_LEVEL\"] = \"3\"\n",
    "\n",
    "# remove useless Tensorflow warning:\n",
    "# WARNING:absl:Found untraced functions such as _update_step_xla, lstm_cell_1_layer_call_fn, \n",
    "# lstm_cell_1_layer_call_and_return_conditional_losses, lstm_cell_2_layer_call_fn, \n",
    "# lstm_cell_2_layer_call_and_return_conditional_losses while saving (showing 5 of 5). \n",
    "# These functions will not be directly callable after loading.\n",
    "import absl.logging\n",
    "absl.logging.set_verbosity(absl.logging.ERROR)"
   ]
  },
  {
   "cell_type": "code",
   "execution_count": 2,
   "metadata": {},
   "outputs": [],
   "source": [
    "# very useful for managing wandb runs: https://stackoverflow.com/questions/71106179/log-two-model-runs-with-keras-wandb\n",
    "import wandb\n",
    "from wandb.keras import WandbCallback\n",
    "\n",
    "os.environ[\"WANDB_SILENT\"] = \"true\""
   ]
  },
  {
   "attachments": {},
   "cell_type": "markdown",
   "metadata": {},
   "source": [
    "#### Logistic Regression: Formula Label Prediction (Variant 1: Stream of math tokens)"
   ]
  },
  {
   "cell_type": "code",
   "execution_count": 3,
   "metadata": {},
   "outputs": [],
   "source": [
    "import numpy as np \n",
    "import pandas as pd\n",
    "from pathlib import Path \n",
    "\n",
    "import tensorflow as tf\n",
    "\n",
    "import tensorflow_datasets as tfds\n",
    "import tensorflow_text as tf_text\n",
    "\n",
    "#from tf.keras.callbacks import tensorboard_callback\n",
    "\n",
    "import datetime\n",
    "\n",
    "tfds.disable_progress_bar()\n",
    "wandb_project_name = \"binary_formula_classification\""
   ]
  },
  {
   "cell_type": "code",
   "execution_count": 4,
   "metadata": {},
   "outputs": [
    {
     "data": {
      "text/plain": [
       "'\\ntf.debugging.experimental.enable_dump_debug_info(\\n    \"./tmp/tfdbg2_logdir\",\\n    tensor_debug_mode=\"FULL_HEALTH\",\\n    circular_buffer_size=-1)\\n'"
      ]
     },
     "execution_count": 4,
     "metadata": {},
     "output_type": "execute_result"
    }
   ],
   "source": [
    "tensorboard_callback = tf.keras.callbacks.TensorBoard(log_dir=\"./tmp/tfdbg2_logdir\")\n",
    "\"\"\"\n",
    "tf.debugging.experimental.enable_dump_debug_info(\n",
    "    \"./tmp/tfdbg2_logdir\",\n",
    "    tensor_debug_mode=\"FULL_HEALTH\",\n",
    "    circular_buffer_size=-1)\n",
    "\"\"\""
   ]
  },
  {
   "cell_type": "code",
   "execution_count": 5,
   "metadata": {},
   "outputs": [],
   "source": [
    "import matplotlib.pyplot as plt\n",
    "\n",
    "def plot_graphs(history, metric):\n",
    "    plt.plot(history.history[metric])\n",
    "    plt.plot(history.history[\"val_\"+metric], \"\")\n",
    "    plt.xlabel(\"Epochs\")\n",
    "    plt.ylabel(metric)\n",
    "    plt.legend([metric, \"val_\"+metric])"
   ]
  },
  {
   "attachments": {},
   "cell_type": "markdown",
   "metadata": {},
   "source": [
    "#### Import Data and Preprocess Dataframe"
   ]
  },
  {
   "cell_type": "code",
   "execution_count": 6,
   "metadata": {},
   "outputs": [],
   "source": [
    "def preprocess_data(corpus,\n",
    "                    irrelevant_features=[\"mtype\",]):\n",
    "    # drop irrelevant columns\n",
    "    corpus.drop(irrelevant_features, inplace=True, axis=1)\n",
    "\n",
    "    # filter strings\n",
    "    def process_cell(cell_str):\n",
    "        stripped_f_str = cell_str[1:-1].replace(\"\\\\\\\\\", \"\\\\\")\n",
    "        f_list = stripped_f_str.split(\",\")\n",
    "        f_list = [token.replace(\"'\", \"\").replace(\" \", \"\") for token in f_list]\n",
    "        f_list = [\"{\" if token == \"\\\\{\" else token for token in f_list]\n",
    "        f_list = [\"}\" if token == \"\\\\}\" else token for token in f_list]\n",
    "        cell_str = \" \".join(f_list)\n",
    "        return cell_str\n",
    "\n",
    "    corpus[\"tokens\"] = corpus[\"tokens\"].map(process_cell)"
   ]
  },
  {
   "cell_type": "code",
   "execution_count": 7,
   "metadata": {},
   "outputs": [
    {
     "data": {
      "text/html": [
       "<div>\n",
       "<style scoped>\n",
       "    .dataframe tbody tr th:only-of-type {\n",
       "        vertical-align: middle;\n",
       "    }\n",
       "\n",
       "    .dataframe tbody tr th {\n",
       "        vertical-align: top;\n",
       "    }\n",
       "\n",
       "    .dataframe thead th {\n",
       "        text-align: right;\n",
       "    }\n",
       "</style>\n",
       "<table border=\"1\" class=\"dataframe\">\n",
       "  <thead>\n",
       "    <tr style=\"text-align: right;\">\n",
       "      <th></th>\n",
       "      <th>tokens</th>\n",
       "      <th>type_tokens</th>\n",
       "      <th>label</th>\n",
       "    </tr>\n",
       "  </thead>\n",
       "  <tbody>\n",
       "    <tr>\n",
       "      <th>0</th>\n",
       "      <td>f : A \\to B</td>\n",
       "      <td>['func_def', 'func_name', '__ANON_1', 'COLON',...</td>\n",
       "      <td>1</td>\n",
       "    </tr>\n",
       "    <tr>\n",
       "      <th>1</th>\n",
       "      <td>f</td>\n",
       "      <td>['func_name', '__ANON_1']</td>\n",
       "      <td>1</td>\n",
       "    </tr>\n",
       "    <tr>\n",
       "      <th>2</th>\n",
       "      <td>g \\colon B \\to I</td>\n",
       "      <td>['func_def', 'func_name', '__ANON_1', 'COLON',...</td>\n",
       "      <td>1</td>\n",
       "    </tr>\n",
       "    <tr>\n",
       "      <th>3</th>\n",
       "      <td>\\frac { 8 ! } { ( 8 - 4 ) ! }</td>\n",
       "      <td>['expr_atom', 'CMD_FRAC', 'L_BRACE', 'postfix'...</td>\n",
       "      <td>1</td>\n",
       "    </tr>\n",
       "    <tr>\n",
       "      <th>4</th>\n",
       "      <td>f</td>\n",
       "      <td>['func_name', '__ANON_1']</td>\n",
       "      <td>1</td>\n",
       "    </tr>\n",
       "  </tbody>\n",
       "</table>\n",
       "</div>"
      ],
      "text/plain": [
       "                          tokens  \\\n",
       "0                    f : A \\to B   \n",
       "1                              f   \n",
       "2               g \\colon B \\to I   \n",
       "3  \\frac { 8 ! } { ( 8 - 4 ) ! }   \n",
       "4                              f   \n",
       "\n",
       "                                         type_tokens  label  \n",
       "0  ['func_def', 'func_name', '__ANON_1', 'COLON',...      1  \n",
       "1                          ['func_name', '__ANON_1']      1  \n",
       "2  ['func_def', 'func_name', '__ANON_1', 'COLON',...      1  \n",
       "3  ['expr_atom', 'CMD_FRAC', 'L_BRACE', 'postfix'...      1  \n",
       "4                          ['func_name', '__ANON_1']      1  "
      ]
     },
     "execution_count": 7,
     "metadata": {},
     "output_type": "execute_result"
    }
   ],
   "source": [
    "#print(os.getcwd())\n",
    "data_p = Path(\"../data/\") / \"bin_class_data_TOKENIZED_SET_V1.csv\"\n",
    "data = pd.read_csv(data_p)\n",
    "preprocess_data(data)\n",
    "data.head()\n"
   ]
  },
  {
   "cell_type": "code",
   "execution_count": 8,
   "metadata": {},
   "outputs": [],
   "source": [
    "SIZE_TRAIN_DS = 10000\n",
    "SIZE_TEST_DS = 1000\n",
    "data_as_ds = tf.data.Dataset.from_tensor_slices((data[\"tokens\"], data[\"label\"])) \n",
    "test_dataset = data_as_ds.take(SIZE_TEST_DS)\n",
    "train_dataset = data_as_ds.skip(SIZE_TEST_DS)"
   ]
  },
  {
   "attachments": {},
   "cell_type": "markdown",
   "metadata": {},
   "source": [
    "##### Setup and Data Preparation"
   ]
  },
  {
   "cell_type": "code",
   "execution_count": 9,
   "metadata": {},
   "outputs": [
    {
     "name": "stdout",
     "output_type": "stream",
     "text": [
      "text:  b'f'\n",
      "label:  1\n",
      "text:  b'f'\n",
      "label:  1\n",
      "text:  b'f : X \\\\rightarrow Y'\n",
      "label:  1\n"
     ]
    }
   ],
   "source": [
    "for example, label in train_dataset.take(3):\n",
    "    print(\"text: \", example.numpy())\n",
    "    print(\"label: \", label.numpy())"
   ]
  },
  {
   "cell_type": "code",
   "execution_count": 10,
   "metadata": {},
   "outputs": [],
   "source": [
    "BUFFER_SIZE = SIZE_TRAIN_DS\n",
    "BATCH_SIZE = 64\n",
    "STEPS_PER_EPOCH = np.floor(SIZE_TRAIN_DS/BATCH_SIZE)\n",
    "VAL_STEPS_PER_EPOCH = np.floor(SIZE_TEST_DS/BATCH_SIZE)\n",
    "train_dataset = train_dataset.shuffle(BUFFER_SIZE).batch(BATCH_SIZE, drop_remainder=True).prefetch(tf.data.AUTOTUNE)\n",
    "test_dataset = test_dataset.batch(BATCH_SIZE, drop_remainder=True).prefetch(tf.data.AUTOTUNE)"
   ]
  },
  {
   "attachments": {},
   "cell_type": "markdown",
   "metadata": {},
   "source": [
    "##### Text Encoding"
   ]
  },
  {
   "cell_type": "code",
   "execution_count": 11,
   "metadata": {},
   "outputs": [],
   "source": [
    "def create_encoder(output_mode_str, n_grams):\n",
    "    VOCAB_SIZE = 1000\n",
    "    encoder = tf.keras.layers.TextVectorization(\n",
    "        standardize=None,\n",
    "        output_mode=output_mode_str,\n",
    "        ngrams = n_grams,\n",
    "        split=\"whitespace\",\n",
    "        max_tokens=VOCAB_SIZE)\n",
    "    encoder.adapt(train_dataset.map(lambda tokens, label: tokens)) # removes the label column through transformation: text, label -> text\n",
    "    return encoder"
   ]
  },
  {
   "attachments": {},
   "cell_type": "markdown",
   "metadata": {},
   "source": [
    "##### Representation 1: Use integer indices encoding"
   ]
  },
  {
   "cell_type": "code",
   "execution_count": 12,
   "metadata": {},
   "outputs": [
    {
     "name": "stdout",
     "output_type": "stream",
     "text": [
      "WARNING:tensorflow:From /home/paul_d/Sources/sem_math_repo/sem_math_env/lib/python3.10/site-packages/tensorflow/python/autograph/pyct/static_analysis/liveness.py:83: Analyzer.lamba_check (from tensorflow.python.autograph.pyct.static_analysis.liveness) is deprecated and will be removed after 2023-09-23.\n",
      "Instructions for updating:\n",
      "Lambda fuctions will be no more assumed to be used in the statement where they are used, or at least in the same block. https://github.com/tensorflow/tensorflow/issues/56089\n"
     ]
    },
    {
     "data": {
      "text/plain": [
       "array(['', '[UNK]', 'f', '1', '2', 'x', '}', '{', ':', '^', '(', ')', '0',\n",
       "       '\\\\to', '+', '3', 'A', '-', 'g', 'n', 'B', '4', 'a', 'X', '=', '5',\n",
       "       '\\\\rightarrow', 'b', '6', 'Y', '7', '\\\\frac', '\\\\mathbb', '9',\n",
       "       '\\\\mathbb{N}', '\\\\mathbb{R}', 'h', '8', 'y', 'R', '\\\\colon', 'N',\n",
       "       'S', 'c', 'F', '\\\\times', 'p', 'k', 'm', '/', 'C', 't', 'i', 'd',\n",
       "       'z', 'e', 's', ']', '[', 'q', '\\\\mathbb{Z}', '\\\\cup', 'mathbb{N',\n",
       "       '\\\\cap', 'r', '\\\\cdot', 'T', '\\\\dfrac', '!', '\\\\circ', 'P', 'D',\n",
       "       'Z', 'varnothin', 'u', 'I', 'G', 'Q', 'co', 'E', 'M',\n",
       "       '\\\\mathbb{Q}', 'si', 'mathbb{R', 'U', '*', 'mathbb{Z', 'j', 'V',\n",
       "       'H', 'v', 'W', 'o', 'l', '\\\\varnothing)', 'Token(sets__SET_EMPTY',\n",
       "       'w', 'K', 'mathbb{Q', 'L', 'arcta', '\\\\mathbb{C}', 'ta', 'arcsi',\n",
       "       'J', '\\\\varnothing', '\\\\binom', 'lo', 'ex', 'O', 'arcco', '\\\\sin',\n",
       "       '\\\\exp', 'sin', '\\\\tfrac', '\\\\tanh', '\\\\cos', 'mathbb{C',\n",
       "       'mathbb{A', 'cos', '\\\\sec', '\\\\arctan', '\\\\arcsin'], dtype='<U21')"
      ]
     },
     "execution_count": 12,
     "metadata": {},
     "output_type": "execute_result"
    }
   ],
   "source": [
    "encoder_int = create_encoder(\"int\", None)\n",
    "vocab = np.array(encoder_int.get_vocabulary())\n",
    "vocab[:200]"
   ]
  },
  {
   "cell_type": "code",
   "execution_count": 13,
   "metadata": {},
   "outputs": [
    {
     "name": "stdout",
     "output_type": "stream",
     "text": [
      "tf.Tensor(b'f : X \\\\rightarrow Y', shape=(), dtype=string)\n",
      "[ 2  8 23 26 29]\n",
      "(5,)\n",
      "()\n"
     ]
    }
   ],
   "source": [
    "encoded_example = encoder_int(example).numpy()\n",
    "print(example)\n",
    "print(encoded_example)\n",
    "print(encoded_example.shape)\n",
    "print(label.shape)"
   ]
  },
  {
   "cell_type": "code",
   "execution_count": 14,
   "metadata": {},
   "outputs": [
    {
     "name": "stdout",
     "output_type": "stream",
     "text": [
      "Original:  b'f : X \\\\rightarrow Y'\n",
      "After reverse lookup:  f : X \\rightarrow Y\n"
     ]
    }
   ],
   "source": [
    "print(\"Original: \", example.numpy())\n",
    "print(\"After reverse lookup: \", \" \".join(vocab[encoded_example]))"
   ]
  },
  {
   "attachments": {},
   "cell_type": "markdown",
   "metadata": {},
   "source": [
    "##### Representation 2: Binary Count Vectorizer"
   ]
  },
  {
   "cell_type": "code",
   "execution_count": 15,
   "metadata": {},
   "outputs": [
    {
     "data": {
      "text/plain": [
       "array(['[UNK]', 'f', '1', '2', 'x', '}', '{', ':', '^', '(', ')', '0',\n",
       "       '\\\\to', '+', '3', 'A', '-', 'g', 'n', 'B', '4', 'a', 'X', '=', '5',\n",
       "       '\\\\rightarrow', 'b', '6', 'Y', '7', '\\\\frac', '\\\\mathbb', '9',\n",
       "       '\\\\mathbb{N}', '\\\\mathbb{R}', 'h', '8', 'y', 'R', '\\\\colon', 'S',\n",
       "       'N', 'c', 'F', '\\\\times', 'p', 'k', 'm', '/', 'C', 't', 'i', 'd',\n",
       "       'z', 's', 'e', ']', '[', 'q', '\\\\mathbb{Z}', '\\\\cup', 'mathbb{N',\n",
       "       '\\\\cap', 'r', '\\\\cdot', 'T', '\\\\dfrac', '!', '\\\\circ', 'P', 'D',\n",
       "       'Z', 'varnothin', 'u', 'I', 'G', 'Q', 'co', 'E', '\\\\mathbb{Q}',\n",
       "       'M', 'si', 'mathbb{R', 'U', '*', 'mathbb{Z', 'j', 'V', 'H', 'v',\n",
       "       'o', 'l', '\\\\varnothing)', 'W', 'Token(sets__SET_EMPTY', 'w', 'K',\n",
       "       'mathbb{Q', 'L', 'arcta', '\\\\mathbb{C}', 'ta', 'arcsi', 'J',\n",
       "       '\\\\varnothing', '\\\\binom', 'lo', 'ex', 'O', 'arcco', '\\\\sin',\n",
       "       '\\\\exp', 'sin', '\\\\tfrac', '\\\\tanh', '\\\\cos', 'mathbb{C',\n",
       "       'mathbb{A', 'cos', '\\\\sec', '\\\\arctan', '\\\\arcsin'], dtype='<U21')"
      ]
     },
     "execution_count": 15,
     "metadata": {},
     "output_type": "execute_result"
    }
   ],
   "source": [
    "encoder_multi_hot = create_encoder(\"multi_hot\", None)\n",
    "vocab = np.array(encoder_multi_hot.get_vocabulary())\n",
    "vocab[:200]"
   ]
  },
  {
   "cell_type": "code",
   "execution_count": 16,
   "metadata": {},
   "outputs": [
    {
     "name": "stdout",
     "output_type": "stream",
     "text": [
      "tf.Tensor(b'f : X \\\\rightarrow Y', shape=(), dtype=string)\n",
      "[0. 1. 0. 0. 0. 0. 0. 1. 0. 0. 0. 0. 0. 0. 0. 0. 0. 0. 0. 0. 0. 0. 1. 0.\n",
      " 0. 1. 0. 0. 1. 0. 0. 0. 0. 0. 0. 0. 0. 0. 0. 0. 0. 0. 0. 0. 0. 0. 0. 0.\n",
      " 0. 0. 0. 0. 0. 0. 0. 0. 0. 0. 0. 0. 0. 0. 0. 0. 0. 0. 0. 0. 0. 0. 0. 0.\n",
      " 0. 0. 0. 0. 0. 0. 0. 0. 0. 0. 0. 0. 0. 0. 0. 0. 0. 0. 0. 0. 0. 0. 0. 0.\n",
      " 0. 0. 0. 0. 0. 0. 0. 0. 0. 0. 0. 0. 0. 0. 0. 0. 0. 0. 0. 0. 0. 0. 0. 0.\n",
      " 0. 0.]\n",
      "(122,)\n"
     ]
    }
   ],
   "source": [
    "encoded_example = encoder_multi_hot(example).numpy()\n",
    "print(example)\n",
    "print(encoded_example)\n",
    "print(encoded_example.shape)"
   ]
  },
  {
   "attachments": {},
   "cell_type": "markdown",
   "metadata": {},
   "source": [
    "##### Representation 3: Frequency Count Vectorizer"
   ]
  },
  {
   "cell_type": "code",
   "execution_count": 17,
   "metadata": {},
   "outputs": [
    {
     "data": {
      "text/plain": [
       "array(['[UNK]', 'f', '1', '2', 'x', '}', '{', ':', '^', '(', ')', '0',\n",
       "       '\\\\to', '+', '3', 'A', '-', 'g', 'n', 'B', '4', 'a', 'X', '=', '5',\n",
       "       '\\\\rightarrow', 'b', '6', 'Y', '7', '\\\\frac', '\\\\mathbb', '9',\n",
       "       '\\\\mathbb{N}', '\\\\mathbb{R}', 'h', '8', 'y', 'R', '\\\\colon', 'N',\n",
       "       'S', 'c', 'F', '\\\\times', 'p', 'k', 'm', '/', 'C', 't', 'i', 'd',\n",
       "       'z', 'e', 's', ']', '[', 'q', '\\\\mathbb{Z}', '\\\\cup', 'mathbb{N',\n",
       "       '\\\\cap', 'r', '\\\\cdot', 'T', '\\\\dfrac', '!', '\\\\circ', 'P', 'D',\n",
       "       'Z', 'varnothin', 'u', 'I', 'G', 'Q', 'co', 'E', 'M',\n",
       "       '\\\\mathbb{Q}', 'si', 'mathbb{R', 'U', '*', 'mathbb{Z', 'j', 'V',\n",
       "       'H', 'v', 'W', 'o', 'l', '\\\\varnothing)', 'Token(sets__SET_EMPTY',\n",
       "       'w', 'K', 'mathbb{Q', 'arcta', '\\\\mathbb{C}', 'L', 'ta', 'arcsi',\n",
       "       'J', '\\\\varnothing', '\\\\binom', 'lo', 'ex', 'O', 'arcco', '\\\\sin',\n",
       "       '\\\\exp', 'sin', '\\\\tfrac', '\\\\tanh', '\\\\cos', 'mathbb{C',\n",
       "       'mathbb{A', 'cos', '\\\\sec', '\\\\arctan', '\\\\arcsin'], dtype='<U21')"
      ]
     },
     "execution_count": 17,
     "metadata": {},
     "output_type": "execute_result"
    }
   ],
   "source": [
    "encoder_count = create_encoder(\"count\", None)\n",
    "vocab = np.array(encoder_count.get_vocabulary())\n",
    "vocab[:200]"
   ]
  },
  {
   "cell_type": "code",
   "execution_count": 18,
   "metadata": {},
   "outputs": [
    {
     "name": "stdout",
     "output_type": "stream",
     "text": [
      "tf.Tensor(b'f : X \\\\rightarrow Y', shape=(), dtype=string)\n",
      "[0. 1. 0. 0. 0. 0. 0. 1. 0. 0. 0. 0. 0. 0. 0. 0. 0. 0. 0. 0. 0. 0. 1. 0.\n",
      " 0. 1. 0. 0. 1. 0. 0. 0. 0. 0. 0. 0. 0. 0. 0. 0. 0. 0. 0. 0. 0. 0. 0. 0.\n",
      " 0. 0. 0. 0. 0. 0. 0. 0. 0. 0. 0. 0. 0. 0. 0. 0. 0. 0. 0. 0. 0. 0. 0. 0.\n",
      " 0. 0. 0. 0. 0. 0. 0. 0. 0. 0. 0. 0. 0. 0. 0. 0. 0. 0. 0. 0. 0. 0. 0. 0.\n",
      " 0. 0. 0. 0. 0. 0. 0. 0. 0. 0. 0. 0. 0. 0. 0. 0. 0. 0. 0. 0. 0. 0. 0. 0.\n",
      " 0. 0.]\n",
      "(122,)\n"
     ]
    }
   ],
   "source": [
    "encoded_example = encoder_count(example).numpy()\n",
    "print(example)\n",
    "print(encoded_example)\n",
    "print(encoded_example.shape)"
   ]
  },
  {
   "attachments": {},
   "cell_type": "markdown",
   "metadata": {},
   "source": [
    "##### Representation 4: Bigrams Frequency Count Vectorizer"
   ]
  },
  {
   "cell_type": "code",
   "execution_count": 19,
   "metadata": {},
   "outputs": [
    {
     "data": {
      "text/plain": [
       "array(['[UNK]', 'f', '1', '2', 'x', '}', '{', ':', '^', '(', ')', '0',\n",
       "       '\\\\to', 'f :', '+', '3', 'A', '-', 'g', 'n', '( x', 'B', '4',\n",
       "       'f (', 'x )', 'a', 'X', '=', ') =', '5', '\\\\rightarrow', '^ 2',\n",
       "       '} {', 'b', ': A', '6', 'Y', '7', '\\\\frac {', '\\\\frac', '\\\\mathbb',\n",
       "       '9', '- 1', 'A \\\\to', ': X', '\\\\mathbb{N}', '1 }', 'x ^',\n",
       "       '\\\\mathbb{R}', '+ 1', 'h', '^ {', '1 0', '{ 1', '\\\\to B', '0 0',\n",
       "       '8', 'X \\\\to', 'y', 'R', '\\\\colon', 'g :', '\\\\to Y', 'N', '0 1',\n",
       "       'S', '2 }', 'c', 'F', '1 )', '\\\\times', 'x +', '{ x', '{ 2', 'p',\n",
       "       '2 ^', 'k', '\\\\mathbb R', 'f \\\\colon', 'm', '( n', '2 +', '1 2',\n",
       "       '/', '\\\\mathbb N', '{ a', 'x -', 'C', '= x', ': \\\\mathbb{N}',\n",
       "       'n )', 'A \\\\rightarrow', 'a b', '\\\\to A', 'n +', ': \\\\mathbb{R}',\n",
       "       't', 'i', 'X \\\\rightarrow', '1 1', 'x }', '^ n', ': \\\\mathbb',\n",
       "       '\\\\to \\\\mathbb{R}', 'd', '\\\\to \\\\mathbb', '3 }',\n",
       "       '\\\\mathbb{N} \\\\to', '\\\\rightarrow B', '2 0', 'z', '^ 3', 'e',\n",
       "       '= \\\\frac', 's', 'h :', '+ b', '\\\\mathbb{R} \\\\to',\n",
       "       '\\\\rightarrow Y', ']', 'b }', '2 -', 'g (', '[', '2 3', ') ^',\n",
       "       '\\\\to X', '- 2', 'a ^', '2 x', '+ 2', '{ n', 'q', '^ x', '- x',\n",
       "       'a +', 'n -', '\\\\cup', '\\\\mathbb{Z}', ': S', ': B', '{ 3',\n",
       "       '\\\\to \\\\mathbb{N}', 'mathbb{N', 'B \\\\to', '\\\\cap', '( a', 'a }',\n",
       "       'r', '\\\\cdot', 'n ^', '} +', '1 3', '( 1', 'x y', '1 ]', '1 7',\n",
       "       '\\\\colon A', '} -', '( 0', '1 6', '{ 0', 'T', 'N \\\\to', '3 ^',\n",
       "       'e ^', '\\\\colon X', '9 9', '\\\\dfrac {', '\\\\dfrac', 'S \\\\to', '{ b',\n",
       "       '4 }', '1 4', '0 ^', '+ x', '1 /', '{ (', 'b ^', '+ 3', ') (', '!',\n",
       "       'b c', '\\\\mathbb{N} \\\\rightarrow', '\\\\circ', 'P', 'A \\\\times',\n",
       "       '= 2', '( 2', 'y )', 'n }', ') }', '[ 0', 'D', '2 n', 'Z', '3 4',\n",
       "       '{ 4', '0 }', '3 +'], dtype='<U34')"
      ]
     },
     "execution_count": 19,
     "metadata": {},
     "output_type": "execute_result"
    }
   ],
   "source": [
    "encoder_bigrams = create_encoder(\"count\", (2))\n",
    "vocab = np.array(encoder_bigrams.get_vocabulary())\n",
    "vocab[:200]"
   ]
  },
  {
   "cell_type": "code",
   "execution_count": 20,
   "metadata": {},
   "outputs": [
    {
     "name": "stdout",
     "output_type": "stream",
     "text": [
      "tf.Tensor(b'f : X \\\\rightarrow Y', shape=(), dtype=string)\n",
      "[0. 1. 0. 0. 0. 0. 0. 1. 0. 0. 0. 0. 0. 1. 0. 0. 0. 0. 0. 0. 0. 0. 0. 0.\n",
      " 0. 0. 1. 0. 0. 0. 1. 0. 0. 0. 0. 0. 1. 0. 0. 0. 0. 0. 0. 0. 1. 0. 0. 0.\n",
      " 0. 0. 0. 0. 0. 0. 0. 0. 0. 0. 0. 0. 0. 0. 0. 0. 0. 0. 0. 0. 0. 0. 0. 0.\n",
      " 0. 0. 0. 0. 0. 0. 0. 0. 0. 0. 0. 0. 0. 0. 0. 0. 0. 0. 0. 0. 0. 0. 0. 0.\n",
      " 0. 0. 1. 0. 0. 0. 0. 0. 0. 0. 0. 0. 0. 0. 0. 0. 0. 0. 0. 0. 0. 0. 1. 0.\n",
      " 0. 0. 0. 0. 0. 0. 0. 0. 0. 0. 0. 0. 0. 0. 0. 0. 0. 0. 0. 0. 0. 0. 0. 0.\n",
      " 0. 0. 0. 0. 0. 0. 0. 0. 0. 0. 0. 0. 0. 0. 0. 0. 0. 0. 0. 0. 0. 0. 0. 0.\n",
      " 0. 0. 0. 0. 0. 0. 0. 0. 0. 0. 0. 0. 0. 0. 0. 0. 0. 0. 0. 0. 0. 0. 0. 0.\n",
      " 0. 0. 0. 0. 0. 0. 0. 0. 0. 0. 0. 0. 0. 0. 0. 0. 0. 0. 0. 0. 0. 0. 0. 0.\n",
      " 0. 0. 0. 0. 0. 0. 0. 0. 0. 0. 0. 0. 0. 0. 0. 0. 0. 0. 0. 0. 0. 0. 0. 0.\n",
      " 0. 0. 0. 0. 0. 0. 0. 0. 0. 0. 0. 0. 0. 0. 0. 0. 0. 0. 0. 0. 0. 0. 0. 0.\n",
      " 0. 0. 0. 0. 0. 0. 0. 0. 0. 0. 0. 0. 0. 0. 0. 0. 0. 0. 0. 0. 0. 0. 0. 0.\n",
      " 0. 0. 0. 0. 0. 0. 0. 0. 0. 0. 0. 0. 0. 0. 0. 0. 0. 0. 0. 0. 0. 0. 0. 0.\n",
      " 0. 0. 0. 0. 0. 0. 0. 0. 0. 0. 0. 0. 0. 0. 0. 0. 0. 0. 0. 0. 0. 0. 0. 0.\n",
      " 0. 0. 0. 0. 0. 0. 0. 0. 0. 0. 0. 0. 0. 0. 0. 0. 0. 0. 0. 0. 0. 0. 0. 0.\n",
      " 0. 0. 0. 0. 0. 0. 0. 0. 0. 0. 0. 0. 0. 0. 0. 0. 0. 0. 0. 0. 0. 0. 0. 0.\n",
      " 0. 0. 0. 0. 0. 0. 0. 0. 0. 0. 0. 0. 0. 0. 0. 0. 0. 0. 0. 0. 0. 0. 0. 0.\n",
      " 0. 0. 0. 0. 0. 0. 0. 0. 0. 0. 0. 0. 0. 0. 0. 0. 0. 0. 0. 0. 0. 0. 0. 0.\n",
      " 0. 0. 0. 0. 0. 0. 0. 0. 0. 0. 0. 0. 0. 0. 0. 0. 0. 0. 0. 0. 0. 0. 0. 0.\n",
      " 0. 0. 0. 0. 0. 0. 0. 0. 0. 0. 0. 0. 0. 0. 0. 0. 0. 0. 0. 0. 0. 0. 0. 0.\n",
      " 0. 0. 0. 0. 0. 0. 0. 0. 0. 0. 0. 0. 0. 0. 0. 0. 0. 0. 0. 0. 0. 0. 0. 0.\n",
      " 0. 0. 0. 0. 0. 0. 0. 0. 0. 0. 0. 0. 0. 0. 0. 0. 0. 0. 0. 0. 0. 0. 0. 0.\n",
      " 0. 0. 0. 0. 0. 0. 0. 0. 0. 0. 0. 0. 0. 0. 0. 0. 0. 0. 0. 0. 0. 0. 0. 0.\n",
      " 0. 0. 0. 0. 0. 0. 0. 0. 0. 0. 0. 0. 0. 0. 0. 0. 0. 0. 0. 0. 0. 0. 0. 0.\n",
      " 0. 0. 0. 0. 0. 0. 0. 0. 0. 0. 0. 0. 0. 0. 0. 0. 0. 0. 0. 0. 0. 0. 0. 0.\n",
      " 0. 0. 0. 0. 0. 0. 0. 0. 0. 0. 0. 0. 0. 0. 0. 0. 0. 0. 0. 0. 0. 0. 0. 0.\n",
      " 0. 0. 0. 0. 0. 0. 0. 0. 0. 0. 0. 0. 0. 0. 0. 0. 0. 0. 0. 0. 0. 0. 0. 0.\n",
      " 0. 0. 0. 0. 0. 0. 0. 0. 0. 0. 0. 0. 0. 0. 0. 0. 0. 0. 0. 0. 0. 0. 0. 0.\n",
      " 0. 0. 0. 0. 0. 0. 0. 0. 0. 0. 0. 0. 0. 0. 0. 0. 0. 0. 0. 0. 0. 0. 0. 0.\n",
      " 0. 0. 0. 0. 0. 0. 0. 0. 0. 0. 0. 0. 0. 0. 0. 0. 0. 0. 0. 0. 0. 0. 0. 0.\n",
      " 0. 0. 0. 0. 0. 0. 0. 0. 0. 0. 0. 0. 0. 0. 0. 0. 0. 0. 0. 0. 0. 0. 0. 0.\n",
      " 0. 0. 0. 0. 0. 0. 0. 0. 0. 0. 0. 0. 0. 0. 0. 0. 0. 0. 0. 0. 0. 0. 0. 0.\n",
      " 0. 0. 0. 0. 0. 0. 0. 0. 0. 0. 0. 0. 0. 0. 0. 0. 0. 0. 0. 0. 0. 0. 0. 0.\n",
      " 0. 0. 0. 0. 0. 0. 0. 0. 0. 0. 0. 0. 0. 0. 0. 0. 0. 0. 0. 0. 0. 0. 0. 0.\n",
      " 0. 0. 0. 0. 0. 0. 0. 0. 0. 0. 0. 0. 0. 0. 0. 0. 0. 0. 0. 0. 0. 0. 0. 0.\n",
      " 0. 0. 0. 0. 0. 0. 0. 0. 0. 0. 0. 0. 0. 0. 0. 0. 0. 0. 0. 0. 0. 0. 0. 0.\n",
      " 0. 0. 0. 0. 0. 0. 0. 0. 0. 0. 0. 0. 0. 0. 0. 0. 0. 0. 0. 0. 0. 0. 0. 0.\n",
      " 0. 0. 0. 0. 0. 0. 0. 0. 0. 0. 0. 0. 0. 0. 0. 0. 0. 0. 0. 0. 0. 0. 0. 0.\n",
      " 0. 0. 0. 0. 0. 0. 0. 0. 0. 0. 0. 0. 0. 0. 0. 0. 0. 0. 0. 0. 0. 0. 0. 0.\n",
      " 0. 0. 0. 0. 0. 0. 0. 0. 0. 0. 0. 0. 0. 0. 0. 0. 0. 0. 0. 0. 0. 0. 0. 0.\n",
      " 0. 0. 0. 0. 0. 0. 0. 0. 0. 0. 0. 0. 0. 0. 0. 0. 0. 0. 0. 0. 0. 0. 0. 0.\n",
      " 0. 0. 0. 0. 0. 0. 0. 0. 0. 0. 0. 0. 0. 0. 0. 0.]\n",
      "(1000,)\n"
     ]
    }
   ],
   "source": [
    "encoded_example = encoder_bigrams(example).numpy()\n",
    "print(example)\n",
    "print(encoded_example)\n",
    "print(encoded_example.shape)"
   ]
  },
  {
   "attachments": {},
   "cell_type": "markdown",
   "metadata": {},
   "source": [
    "##### Representation 5: Tf-Idf Vectorizer"
   ]
  },
  {
   "cell_type": "code",
   "execution_count": 21,
   "metadata": {},
   "outputs": [
    {
     "data": {
      "text/plain": [
       "array(['[UNK]', 'f', '1', '2', 'x', '}', '{', ':', '^', '(', ')', '0',\n",
       "       '\\\\to', '+', '3', 'A', '-', 'g', 'n', 'B', '4', 'a', 'X', '=', '5',\n",
       "       '\\\\rightarrow', 'b', '6', 'Y', '7', '\\\\frac', '\\\\mathbb', '9',\n",
       "       '\\\\mathbb{N}', '\\\\mathbb{R}', 'h', '8', 'y', 'R', '\\\\colon', 'S',\n",
       "       'N', 'c', 'F', '\\\\times', 'p', 'k', 'm', '/', 'C', 't', 'i', 'd',\n",
       "       'z', 'e', ']', 's', '[', 'q', '\\\\mathbb{Z}', '\\\\cup', 'mathbb{N',\n",
       "       '\\\\cap', 'r', '\\\\cdot', 'T', '\\\\dfrac', '!', '\\\\circ', 'P', 'D',\n",
       "       'Z', 'varnothin', 'u', 'I', 'G', 'Q', 'co', 'E', '\\\\mathbb{Q}',\n",
       "       'M', 'si', 'mathbb{R', 'U', '*', 'mathbb{Z', 'j', 'V', 'H', 'v',\n",
       "       'W', 'o', 'l', '\\\\varnothing)', 'Token(sets__SET_EMPTY', 'w', 'K',\n",
       "       'mathbb{Q', 'L', 'arcta', '\\\\mathbb{C}', 'ta', 'arcsi', 'J',\n",
       "       '\\\\varnothing', '\\\\binom', 'lo', 'ex', 'O', 'arcco', '\\\\sin',\n",
       "       '\\\\exp', 'sin', '\\\\tfrac', '\\\\tanh', '\\\\cos', 'mathbb{C',\n",
       "       'mathbb{A', 'cos', '\\\\sec', '\\\\arctan', '\\\\arcsin'], dtype='<U21')"
      ]
     },
     "execution_count": 21,
     "metadata": {},
     "output_type": "execute_result"
    }
   ],
   "source": [
    "encoder_tf_idf = create_encoder(\"tf_idf\", None)\n",
    "vocab = np.array(encoder_tf_idf.get_vocabulary())\n",
    "vocab[:200]"
   ]
  },
  {
   "cell_type": "code",
   "execution_count": 22,
   "metadata": {},
   "outputs": [
    {
     "name": "stdout",
     "output_type": "stream",
     "text": [
      "tf.Tensor(b'f : X \\\\rightarrow Y', shape=(), dtype=string)\n",
      "[0.        1.3795714 0.        0.        0.        0.        0.\n",
      " 2.0560472 0.        0.        0.        0.        0.        0.\n",
      " 0.        0.        0.        0.        0.        0.        0.\n",
      " 0.        3.066145  0.        0.        3.0759661 0.        0.\n",
      " 3.350049  0.        0.        0.        0.        0.        0.\n",
      " 0.        0.        0.        0.        0.        0.        0.\n",
      " 0.        0.        0.        0.        0.        0.        0.\n",
      " 0.        0.        0.        0.        0.        0.        0.\n",
      " 0.        0.        0.        0.        0.        0.        0.\n",
      " 0.        0.        0.        0.        0.        0.        0.\n",
      " 0.        0.        0.        0.        0.        0.        0.\n",
      " 0.        0.        0.        0.        0.        0.        0.\n",
      " 0.        0.        0.        0.        0.        0.        0.\n",
      " 0.        0.        0.        0.        0.        0.        0.\n",
      " 0.        0.        0.        0.        0.        0.        0.\n",
      " 0.        0.        0.        0.        0.        0.        0.\n",
      " 0.        0.        0.        0.        0.        0.        0.\n",
      " 0.        0.        0.       ]\n",
      "(122,)\n"
     ]
    }
   ],
   "source": [
    "encoded_example = encoder_tf_idf(example).numpy()\n",
    "print(example)\n",
    "print(encoded_example)\n",
    "print(encoded_example.shape)"
   ]
  },
  {
   "attachments": {},
   "cell_type": "markdown",
   "metadata": {},
   "source": [
    "##### Model (Logistic Regression)"
   ]
  },
  {
   "attachments": {},
   "cell_type": "markdown",
   "metadata": {},
   "source": [
    " **Define and compile model**"
   ]
  },
  {
   "cell_type": "code",
   "execution_count": 23,
   "metadata": {},
   "outputs": [
    {
     "data": {
      "text/plain": [
       "'\\nmodel = tf.keras.Sequential()\\nmodel.add(tf.keras.Input(shape=(1,), dtype=tf.string))\\nmodel.add(encoder_int)\\nembedding = tf.keras.layers.Embedding(\\n                input_dim=len(encoder_int.get_vocabulary()),\\n                output_dim=64,\\n                # user masking to handle the variable sequence lengths\\n                mask_zero=True)\\nmodel.add(embedding)\\nmodel.output_shape\\n'"
      ]
     },
     "execution_count": 23,
     "metadata": {},
     "output_type": "execute_result"
    }
   ],
   "source": [
    "\"\"\"\n",
    "model = tf.keras.Sequential()\n",
    "model.add(tf.keras.Input(shape=(1,), dtype=tf.string))\n",
    "model.add(encoder_int)\n",
    "embedding = tf.keras.layers.Embedding(\n",
    "                input_dim=len(encoder_int.get_vocabulary()),\n",
    "                output_dim=64,\n",
    "                # user masking to handle the variable sequence lengths\n",
    "                mask_zero=True)\n",
    "model.add(embedding)\n",
    "model.output_shape\n",
    "\"\"\""
   ]
  },
  {
   "cell_type": "code",
   "execution_count": 24,
   "metadata": {},
   "outputs": [],
   "source": [
    "def create_model(vec_encoder):\n",
    "    print(len(vec_encoder.get_vocabulary()))\n",
    "    model = tf.keras.Sequential([\n",
    "        vec_encoder,\n",
    "        tf.keras.layers.Embedding(\n",
    "            input_dim=len(vec_encoder.get_vocabulary()),\n",
    "            output_dim=16,\n",
    "            # user masking to handle the variable sequence lengths\n",
    "            mask_zero=True),\n",
    "        tf.keras.layers.Dropout(0.2),\n",
    "        tf.keras.layers.GlobalMaxPooling1D(),\n",
    "        tf.keras.layers.Dropout(0.2),\n",
    "        tf.keras.layers.Dense(1)\n",
    "    ])\n",
    "    return model"
   ]
  },
  {
   "attachments": {},
   "cell_type": "markdown",
   "metadata": {},
   "source": [
    " **Train the model**"
   ]
  },
  {
   "attachments": {},
   "cell_type": "markdown",
   "metadata": {},
   "source": [
    "##### Experiment 1: Use integer indices for encoding tokens"
   ]
  },
  {
   "cell_type": "code",
   "execution_count": 25,
   "metadata": {},
   "outputs": [],
   "source": [
    "### TENSORBOARD USAGE\n",
    "#log_dir = \"4_nlp_rnns/logs/fit/\" + datetime.datetime.now().strftime(\"%Y%m%d-%H%M%S\")\n",
    "#tensorboard_callback = tf.keras.callbacks.TensorBoard(log_dir=log_dir)"
   ]
  },
  {
   "cell_type": "code",
   "execution_count": 26,
   "metadata": {},
   "outputs": [
    {
     "name": "stdout",
     "output_type": "stream",
     "text": [
      "123\n",
      "1/1 [==============================] - 0s 68ms/step\n",
      "[0.0648074]\n"
     ]
    }
   ],
   "source": [
    "model = create_model(encoder_int)\n",
    "# predict on a sample formula using untrained model\n",
    "sample_text = (\"g ( x ) = x ^ 3\")\n",
    "predictions = model.predict(np.array([sample_text]))\n",
    "print(predictions[0])"
   ]
  },
  {
   "cell_type": "code",
   "execution_count": 27,
   "metadata": {},
   "outputs": [
    {
     "name": "stdout",
     "output_type": "stream",
     "text": [
      "Model: \"sequential\"\n",
      "_________________________________________________________________\n",
      " Layer (type)                Output Shape              Param #   \n",
      "=================================================================\n",
      " text_vectorization (TextVec  (None, None)             0         \n",
      " torization)                                                     \n",
      "                                                                 \n",
      " embedding (Embedding)       (None, None, 16)          1968      \n",
      "                                                                 \n",
      " dropout (Dropout)           (None, None, 16)          0         \n",
      "                                                                 \n",
      " global_max_pooling1d (Globa  (None, 16)               0         \n",
      " lMaxPooling1D)                                                  \n",
      "                                                                 \n",
      " dropout_1 (Dropout)         (None, 16)                0         \n",
      "                                                                 \n",
      " dense (Dense)               (None, 1)                 17        \n",
      "                                                                 \n",
      "=================================================================\n",
      "Total params: 1,985\n",
      "Trainable params: 1,985\n",
      "Non-trainable params: 0\n",
      "_________________________________________________________________\n"
     ]
    }
   ],
   "source": [
    "model.summary()"
   ]
  },
  {
   "cell_type": "code",
   "execution_count": 28,
   "metadata": {},
   "outputs": [],
   "source": [
    "#model.compile(optimizer='sgd',loss='sparse_categorical_crossentropy',metrics=['accuracy'])\n",
    "LEARNING_RATE = 1e-3\n",
    "NUM_EPOCHS = 200\n",
    "model.compile(loss=tf.keras.losses.BinaryCrossentropy(from_logits=True),\n",
    "              optimizer=tf.keras.optimizers.Adam(LEARNING_RATE),\n",
    "              metrics=[\"accuracy\"])\n"
   ]
  },
  {
   "cell_type": "code",
   "execution_count": 29,
   "metadata": {},
   "outputs": [
    {
     "name": "stdout",
     "output_type": "stream",
     "text": [
      "Epoch 1/200\n",
      "120/156 [======================>.......] - ETA: 0s - loss: 0.6647 - accuracy: 0.5496INFO:tensorflow:Assets written to: /home/paul_d/Sources/sem_math_repo/classification_formulas_binary/wandb/run-20230331_195719-05aov16h/files/model-best/assets\n"
     ]
    },
    {
     "name": "stderr",
     "output_type": "stream",
     "text": [
      "INFO:tensorflow:Assets written to: /home/paul_d/Sources/sem_math_repo/classification_formulas_binary/wandb/run-20230331_195719-05aov16h/files/model-best/assets\n"
     ]
    },
    {
     "name": "stdout",
     "output_type": "stream",
     "text": [
      "156/156 [==============================] - 2s 10ms/step - loss: 0.6561 - accuracy: 0.5614 - val_loss: 0.6503 - val_accuracy: 0.1781\n",
      "Epoch 2/200\n",
      "119/156 [=====================>........] - ETA: 0s - loss: 0.5819 - accuracy: 0.6608INFO:tensorflow:Assets written to: /home/paul_d/Sources/sem_math_repo/classification_formulas_binary/wandb/run-20230331_195719-05aov16h/files/model-best/assets\n"
     ]
    },
    {
     "name": "stderr",
     "output_type": "stream",
     "text": [
      "INFO:tensorflow:Assets written to: /home/paul_d/Sources/sem_math_repo/classification_formulas_binary/wandb/run-20230331_195719-05aov16h/files/model-best/assets\n"
     ]
    },
    {
     "name": "stdout",
     "output_type": "stream",
     "text": [
      "156/156 [==============================] - 1s 7ms/step - loss: 0.5744 - accuracy: 0.6665 - val_loss: 0.5866 - val_accuracy: 0.3781\n",
      "Epoch 3/200\n",
      "151/156 [============================>.] - ETA: 0s - loss: 0.5265 - accuracy: 0.6901INFO:tensorflow:Assets written to: /home/paul_d/Sources/sem_math_repo/classification_formulas_binary/wandb/run-20230331_195719-05aov16h/files/model-best/assets\n"
     ]
    },
    {
     "name": "stderr",
     "output_type": "stream",
     "text": [
      "INFO:tensorflow:Assets written to: /home/paul_d/Sources/sem_math_repo/classification_formulas_binary/wandb/run-20230331_195719-05aov16h/files/model-best/assets\n"
     ]
    },
    {
     "name": "stdout",
     "output_type": "stream",
     "text": [
      "156/156 [==============================] - 1s 7ms/step - loss: 0.5256 - accuracy: 0.6915 - val_loss: 0.5484 - val_accuracy: 0.4250\n",
      "Epoch 4/200\n",
      "147/156 [===========================>..] - ETA: 0s - loss: 0.5045 - accuracy: 0.7066INFO:tensorflow:Assets written to: /home/paul_d/Sources/sem_math_repo/classification_formulas_binary/wandb/run-20230331_195719-05aov16h/files/model-best/assets\n"
     ]
    },
    {
     "name": "stderr",
     "output_type": "stream",
     "text": [
      "INFO:tensorflow:Assets written to: /home/paul_d/Sources/sem_math_repo/classification_formulas_binary/wandb/run-20230331_195719-05aov16h/files/model-best/assets\n"
     ]
    },
    {
     "name": "stdout",
     "output_type": "stream",
     "text": [
      "156/156 [==============================] - 1s 8ms/step - loss: 0.5044 - accuracy: 0.7058 - val_loss: 0.5461 - val_accuracy: 0.4490\n",
      "Epoch 5/200\n",
      "135/156 [========================>.....] - ETA: 0s - loss: 0.4946 - accuracy: 0.7188INFO:tensorflow:Assets written to: /home/paul_d/Sources/sem_math_repo/classification_formulas_binary/wandb/run-20230331_195719-05aov16h/files/model-best/assets\n"
     ]
    },
    {
     "name": "stderr",
     "output_type": "stream",
     "text": [
      "INFO:tensorflow:Assets written to: /home/paul_d/Sources/sem_math_repo/classification_formulas_binary/wandb/run-20230331_195719-05aov16h/files/model-best/assets\n"
     ]
    },
    {
     "name": "stdout",
     "output_type": "stream",
     "text": [
      "156/156 [==============================] - 1s 8ms/step - loss: 0.4920 - accuracy: 0.7160 - val_loss: 0.5297 - val_accuracy: 0.4625\n",
      "Epoch 6/200\n",
      "127/156 [=======================>......] - ETA: 0s - loss: 0.4844 - accuracy: 0.7297INFO:tensorflow:Assets written to: /home/paul_d/Sources/sem_math_repo/classification_formulas_binary/wandb/run-20230331_195719-05aov16h/files/model-best/assets\n"
     ]
    },
    {
     "name": "stderr",
     "output_type": "stream",
     "text": [
      "INFO:tensorflow:Assets written to: /home/paul_d/Sources/sem_math_repo/classification_formulas_binary/wandb/run-20230331_195719-05aov16h/files/model-best/assets\n"
     ]
    },
    {
     "name": "stdout",
     "output_type": "stream",
     "text": [
      "156/156 [==============================] - 1s 9ms/step - loss: 0.4830 - accuracy: 0.7301 - val_loss: 0.5188 - val_accuracy: 0.4646\n",
      "Epoch 7/200\n",
      "130/156 [========================>.....] - ETA: 0s - loss: 0.4755 - accuracy: 0.7367INFO:tensorflow:Assets written to: /home/paul_d/Sources/sem_math_repo/classification_formulas_binary/wandb/run-20230331_195719-05aov16h/files/model-best/assets\n"
     ]
    },
    {
     "name": "stderr",
     "output_type": "stream",
     "text": [
      "INFO:tensorflow:Assets written to: /home/paul_d/Sources/sem_math_repo/classification_formulas_binary/wandb/run-20230331_195719-05aov16h/files/model-best/assets\n"
     ]
    },
    {
     "name": "stdout",
     "output_type": "stream",
     "text": [
      "156/156 [==============================] - 1s 7ms/step - loss: 0.4764 - accuracy: 0.7381 - val_loss: 0.5043 - val_accuracy: 0.4719\n",
      "Epoch 8/200\n",
      "156/156 [==============================] - 0s 2ms/step - loss: 0.4714 - accuracy: 0.7438 - val_loss: 0.5087 - val_accuracy: 0.4958\n",
      "Epoch 9/200\n",
      "156/156 [==============================] - 0s 2ms/step - loss: 0.4697 - accuracy: 0.7468 - val_loss: 0.5111 - val_accuracy: 0.5479\n",
      "Epoch 10/200\n",
      "156/156 [==============================] - 0s 1ms/step - loss: 0.4669 - accuracy: 0.7491 - val_loss: 0.5131 - val_accuracy: 0.4979\n",
      "Epoch 11/200\n",
      "156/156 [==============================] - 0s 1ms/step - loss: 0.4658 - accuracy: 0.7559 - val_loss: 0.5073 - val_accuracy: 0.5635\n",
      "Epoch 12/200\n",
      "156/156 [==============================] - 0s 1ms/step - loss: 0.4618 - accuracy: 0.7597 - val_loss: 0.5049 - val_accuracy: 0.7729\n",
      "Epoch 13/200\n",
      "150/156 [===========================>..] - ETA: 0s - loss: 0.4621 - accuracy: 0.7535INFO:tensorflow:Assets written to: /home/paul_d/Sources/sem_math_repo/classification_formulas_binary/wandb/run-20230331_195719-05aov16h/files/model-best/assets\n"
     ]
    },
    {
     "name": "stderr",
     "output_type": "stream",
     "text": [
      "INFO:tensorflow:Assets written to: /home/paul_d/Sources/sem_math_repo/classification_formulas_binary/wandb/run-20230331_195719-05aov16h/files/model-best/assets\n"
     ]
    },
    {
     "name": "stdout",
     "output_type": "stream",
     "text": [
      "156/156 [==============================] - 1s 7ms/step - loss: 0.4616 - accuracy: 0.7537 - val_loss: 0.4902 - val_accuracy: 0.7823\n",
      "Epoch 14/200\n",
      "156/156 [==============================] - 0s 1ms/step - loss: 0.4599 - accuracy: 0.7521 - val_loss: 0.5128 - val_accuracy: 0.5625\n",
      "Epoch 15/200\n",
      "156/156 [==============================] - 0s 1ms/step - loss: 0.4637 - accuracy: 0.7496 - val_loss: 0.5069 - val_accuracy: 0.7750\n",
      "Epoch 16/200\n",
      "156/156 [==============================] - 0s 2ms/step - loss: 0.4592 - accuracy: 0.7547 - val_loss: 0.5052 - val_accuracy: 0.7875\n",
      "Epoch 17/200\n",
      "156/156 [==============================] - 0s 2ms/step - loss: 0.4542 - accuracy: 0.7603 - val_loss: 0.5083 - val_accuracy: 0.7885\n",
      "Epoch 18/200\n",
      "156/156 [==============================] - 0s 2ms/step - loss: 0.4586 - accuracy: 0.7633 - val_loss: 0.5000 - val_accuracy: 0.7917\n",
      "Epoch 19/200\n",
      "156/156 [==============================] - 0s 1ms/step - loss: 0.4572 - accuracy: 0.7551 - val_loss: 0.5007 - val_accuracy: 0.7948\n",
      "Epoch 20/200\n",
      "156/156 [==============================] - 0s 1ms/step - loss: 0.4583 - accuracy: 0.7537 - val_loss: 0.5120 - val_accuracy: 0.7854\n",
      "Epoch 21/200\n",
      "156/156 [==============================] - 0s 1ms/step - loss: 0.4540 - accuracy: 0.7559 - val_loss: 0.5020 - val_accuracy: 0.7927\n",
      "Epoch 22/200\n",
      "156/156 [==============================] - 0s 2ms/step - loss: 0.4560 - accuracy: 0.7565 - val_loss: 0.4963 - val_accuracy: 0.7948\n",
      "Epoch 23/200\n",
      "156/156 [==============================] - 0s 1ms/step - loss: 0.4570 - accuracy: 0.7572 - val_loss: 0.5034 - val_accuracy: 0.7823\n",
      "Epoch 24/200\n",
      "156/156 [==============================] - 0s 1ms/step - loss: 0.4564 - accuracy: 0.7558 - val_loss: 0.4990 - val_accuracy: 0.7948\n",
      "Epoch 25/200\n",
      "156/156 [==============================] - 0s 1ms/step - loss: 0.4596 - accuracy: 0.7585 - val_loss: 0.5027 - val_accuracy: 0.7979\n",
      "Epoch 26/200\n",
      "156/156 [==============================] - 0s 1ms/step - loss: 0.4553 - accuracy: 0.7557 - val_loss: 0.5022 - val_accuracy: 0.7958\n",
      "Epoch 27/200\n",
      "156/156 [==============================] - 0s 1ms/step - loss: 0.4560 - accuracy: 0.7585 - val_loss: 0.4973 - val_accuracy: 0.7937\n",
      "Epoch 28/200\n",
      "156/156 [==============================] - 0s 1ms/step - loss: 0.4567 - accuracy: 0.7550 - val_loss: 0.5125 - val_accuracy: 0.7937\n",
      "Epoch 29/200\n",
      "156/156 [==============================] - 0s 2ms/step - loss: 0.4524 - accuracy: 0.7581 - val_loss: 0.5106 - val_accuracy: 0.7937\n",
      "Epoch 30/200\n",
      "156/156 [==============================] - 0s 1ms/step - loss: 0.4576 - accuracy: 0.7542 - val_loss: 0.5190 - val_accuracy: 0.7927\n",
      "Epoch 31/200\n",
      "156/156 [==============================] - 0s 2ms/step - loss: 0.4544 - accuracy: 0.7600 - val_loss: 0.5241 - val_accuracy: 0.7927\n",
      "Epoch 32/200\n",
      "156/156 [==============================] - 0s 2ms/step - loss: 0.4537 - accuracy: 0.7649 - val_loss: 0.5220 - val_accuracy: 0.7948\n",
      "Epoch 33/200\n",
      "156/156 [==============================] - 0s 2ms/step - loss: 0.4560 - accuracy: 0.7534 - val_loss: 0.5252 - val_accuracy: 0.7948\n",
      "Epoch 34/200\n",
      "156/156 [==============================] - 0s 1ms/step - loss: 0.4540 - accuracy: 0.7594 - val_loss: 0.5174 - val_accuracy: 0.7958\n",
      "Epoch 35/200\n",
      "156/156 [==============================] - 0s 2ms/step - loss: 0.4557 - accuracy: 0.7579 - val_loss: 0.5004 - val_accuracy: 0.7948\n",
      "Epoch 36/200\n",
      "156/156 [==============================] - 0s 2ms/step - loss: 0.4558 - accuracy: 0.7592 - val_loss: 0.5105 - val_accuracy: 0.7958\n",
      "Epoch 37/200\n",
      "156/156 [==============================] - 0s 2ms/step - loss: 0.4540 - accuracy: 0.7584 - val_loss: 0.5212 - val_accuracy: 0.7948\n",
      "Epoch 38/200\n",
      "156/156 [==============================] - 0s 2ms/step - loss: 0.4508 - accuracy: 0.7582 - val_loss: 0.5199 - val_accuracy: 0.7948\n",
      "Epoch 39/200\n",
      "156/156 [==============================] - 0s 2ms/step - loss: 0.4535 - accuracy: 0.7569 - val_loss: 0.5182 - val_accuracy: 0.7948\n",
      "Epoch 40/200\n",
      "156/156 [==============================] - 0s 2ms/step - loss: 0.4528 - accuracy: 0.7604 - val_loss: 0.5118 - val_accuracy: 0.7937\n",
      "Epoch 41/200\n",
      "156/156 [==============================] - 0s 2ms/step - loss: 0.4526 - accuracy: 0.7609 - val_loss: 0.5214 - val_accuracy: 0.7969\n",
      "Epoch 42/200\n",
      "156/156 [==============================] - 0s 1ms/step - loss: 0.4555 - accuracy: 0.7563 - val_loss: 0.5014 - val_accuracy: 0.7969\n",
      "Epoch 43/200\n",
      "156/156 [==============================] - 0s 2ms/step - loss: 0.4533 - accuracy: 0.7580 - val_loss: 0.5119 - val_accuracy: 0.7969\n",
      "Epoch 44/200\n",
      "156/156 [==============================] - 0s 1ms/step - loss: 0.4556 - accuracy: 0.7593 - val_loss: 0.5123 - val_accuracy: 0.7958\n",
      "Epoch 45/200\n",
      "156/156 [==============================] - 0s 1ms/step - loss: 0.4535 - accuracy: 0.7630 - val_loss: 0.5147 - val_accuracy: 0.8000\n",
      "Epoch 46/200\n",
      "156/156 [==============================] - 0s 1ms/step - loss: 0.4557 - accuracy: 0.7601 - val_loss: 0.5183 - val_accuracy: 0.8000\n",
      "Epoch 47/200\n",
      "156/156 [==============================] - 0s 2ms/step - loss: 0.4536 - accuracy: 0.7586 - val_loss: 0.5296 - val_accuracy: 0.7885\n",
      "Epoch 48/200\n",
      "156/156 [==============================] - 0s 1ms/step - loss: 0.4536 - accuracy: 0.7569 - val_loss: 0.5134 - val_accuracy: 0.7927\n",
      "Epoch 49/200\n",
      "156/156 [==============================] - 0s 1ms/step - loss: 0.4508 - accuracy: 0.7586 - val_loss: 0.5134 - val_accuracy: 0.8000\n",
      "Epoch 50/200\n",
      "156/156 [==============================] - 0s 1ms/step - loss: 0.4533 - accuracy: 0.7599 - val_loss: 0.5221 - val_accuracy: 0.7948\n",
      "Epoch 51/200\n",
      "156/156 [==============================] - 0s 2ms/step - loss: 0.4521 - accuracy: 0.7579 - val_loss: 0.5226 - val_accuracy: 0.7958\n",
      "Epoch 52/200\n",
      "156/156 [==============================] - 0s 1ms/step - loss: 0.4518 - accuracy: 0.7643 - val_loss: 0.5215 - val_accuracy: 0.8000\n",
      "Epoch 53/200\n",
      "156/156 [==============================] - 0s 1ms/step - loss: 0.4524 - accuracy: 0.7594 - val_loss: 0.5322 - val_accuracy: 0.7990\n",
      "Epoch 54/200\n",
      "156/156 [==============================] - 0s 1ms/step - loss: 0.4544 - accuracy: 0.7623 - val_loss: 0.5291 - val_accuracy: 0.7990\n",
      "Epoch 55/200\n",
      "156/156 [==============================] - 0s 1ms/step - loss: 0.4515 - accuracy: 0.7569 - val_loss: 0.5375 - val_accuracy: 0.7948\n",
      "Epoch 56/200\n",
      "156/156 [==============================] - 0s 1ms/step - loss: 0.4515 - accuracy: 0.7609 - val_loss: 0.5304 - val_accuracy: 0.7917\n",
      "Epoch 57/200\n",
      "156/156 [==============================] - 0s 2ms/step - loss: 0.4517 - accuracy: 0.7599 - val_loss: 0.5221 - val_accuracy: 0.7927\n",
      "Epoch 58/200\n",
      "156/156 [==============================] - 0s 2ms/step - loss: 0.4486 - accuracy: 0.7620 - val_loss: 0.5252 - val_accuracy: 0.7917\n",
      "Epoch 59/200\n",
      "156/156 [==============================] - 0s 2ms/step - loss: 0.4533 - accuracy: 0.7634 - val_loss: 0.5213 - val_accuracy: 0.7937\n",
      "Epoch 60/200\n",
      "156/156 [==============================] - 0s 2ms/step - loss: 0.4499 - accuracy: 0.7680 - val_loss: 0.5353 - val_accuracy: 0.7958\n",
      "Epoch 61/200\n",
      "156/156 [==============================] - 0s 1ms/step - loss: 0.4534 - accuracy: 0.7619 - val_loss: 0.5414 - val_accuracy: 0.7958\n",
      "Epoch 62/200\n",
      "156/156 [==============================] - 0s 1ms/step - loss: 0.4510 - accuracy: 0.7631 - val_loss: 0.5418 - val_accuracy: 0.7948\n",
      "Epoch 63/200\n",
      "156/156 [==============================] - 0s 2ms/step - loss: 0.4520 - accuracy: 0.7566 - val_loss: 0.5528 - val_accuracy: 0.7865\n",
      "Epoch 64/200\n",
      "156/156 [==============================] - 0s 2ms/step - loss: 0.4533 - accuracy: 0.7585 - val_loss: 0.5458 - val_accuracy: 0.7948\n",
      "Epoch 65/200\n",
      "156/156 [==============================] - 0s 2ms/step - loss: 0.4523 - accuracy: 0.7614 - val_loss: 0.5466 - val_accuracy: 0.7917\n",
      "Epoch 66/200\n",
      "156/156 [==============================] - 0s 1ms/step - loss: 0.4515 - accuracy: 0.7584 - val_loss: 0.5496 - val_accuracy: 0.7917\n",
      "Epoch 67/200\n",
      "156/156 [==============================] - 0s 1ms/step - loss: 0.4514 - accuracy: 0.7589 - val_loss: 0.5395 - val_accuracy: 0.7937\n",
      "Epoch 68/200\n",
      "156/156 [==============================] - 0s 1ms/step - loss: 0.4506 - accuracy: 0.7587 - val_loss: 0.5549 - val_accuracy: 0.7896\n",
      "Epoch 69/200\n",
      "156/156 [==============================] - 0s 1ms/step - loss: 0.4537 - accuracy: 0.7601 - val_loss: 0.5366 - val_accuracy: 0.7906\n",
      "Epoch 70/200\n",
      "156/156 [==============================] - 0s 1ms/step - loss: 0.4541 - accuracy: 0.7588 - val_loss: 0.5491 - val_accuracy: 0.7906\n",
      "Epoch 71/200\n",
      "156/156 [==============================] - 0s 1ms/step - loss: 0.4555 - accuracy: 0.7526 - val_loss: 0.5487 - val_accuracy: 0.7896\n",
      "Epoch 72/200\n",
      "156/156 [==============================] - 0s 2ms/step - loss: 0.4518 - accuracy: 0.7595 - val_loss: 0.5556 - val_accuracy: 0.7885\n",
      "Epoch 73/200\n",
      "156/156 [==============================] - 0s 1ms/step - loss: 0.4490 - accuracy: 0.7588 - val_loss: 0.5301 - val_accuracy: 0.7906\n",
      "Epoch 74/200\n",
      "156/156 [==============================] - 0s 1ms/step - loss: 0.4540 - accuracy: 0.7640 - val_loss: 0.5410 - val_accuracy: 0.7927\n",
      "Epoch 75/200\n",
      "156/156 [==============================] - 0s 1ms/step - loss: 0.4531 - accuracy: 0.7650 - val_loss: 0.5482 - val_accuracy: 0.7885\n",
      "Epoch 76/200\n",
      "156/156 [==============================] - 0s 1ms/step - loss: 0.4497 - accuracy: 0.7563 - val_loss: 0.5465 - val_accuracy: 0.7875\n",
      "Epoch 77/200\n",
      "156/156 [==============================] - 0s 1ms/step - loss: 0.4550 - accuracy: 0.7601 - val_loss: 0.5438 - val_accuracy: 0.7875\n",
      "Epoch 78/200\n",
      "156/156 [==============================] - 0s 1ms/step - loss: 0.4518 - accuracy: 0.7630 - val_loss: 0.5385 - val_accuracy: 0.7896\n",
      "Epoch 79/200\n",
      "156/156 [==============================] - 0s 2ms/step - loss: 0.4501 - accuracy: 0.7606 - val_loss: 0.5407 - val_accuracy: 0.7937\n",
      "Epoch 80/200\n",
      "156/156 [==============================] - 0s 1ms/step - loss: 0.4507 - accuracy: 0.7610 - val_loss: 0.5346 - val_accuracy: 0.7927\n",
      "Epoch 81/200\n",
      "156/156 [==============================] - 0s 1ms/step - loss: 0.4505 - accuracy: 0.7580 - val_loss: 0.5360 - val_accuracy: 0.7958\n",
      "Epoch 82/200\n",
      "156/156 [==============================] - 0s 2ms/step - loss: 0.4518 - accuracy: 0.7572 - val_loss: 0.5375 - val_accuracy: 0.7969\n",
      "Epoch 83/200\n",
      "156/156 [==============================] - 0s 2ms/step - loss: 0.4521 - accuracy: 0.7568 - val_loss: 0.5386 - val_accuracy: 0.7896\n",
      "Epoch 84/200\n",
      "156/156 [==============================] - 0s 2ms/step - loss: 0.4536 - accuracy: 0.7549 - val_loss: 0.5463 - val_accuracy: 0.7885\n",
      "Epoch 85/200\n",
      "156/156 [==============================] - 0s 2ms/step - loss: 0.4535 - accuracy: 0.7565 - val_loss: 0.5433 - val_accuracy: 0.7885\n",
      "Epoch 86/200\n",
      "156/156 [==============================] - 0s 1ms/step - loss: 0.4494 - accuracy: 0.7652 - val_loss: 0.5526 - val_accuracy: 0.7896\n",
      "Epoch 87/200\n",
      "156/156 [==============================] - 0s 2ms/step - loss: 0.4506 - accuracy: 0.7601 - val_loss: 0.5386 - val_accuracy: 0.7979\n",
      "Epoch 88/200\n",
      "156/156 [==============================] - 0s 1ms/step - loss: 0.4503 - accuracy: 0.7592 - val_loss: 0.5450 - val_accuracy: 0.7896\n",
      "Epoch 89/200\n",
      "156/156 [==============================] - 0s 1ms/step - loss: 0.4476 - accuracy: 0.7647 - val_loss: 0.5517 - val_accuracy: 0.7906\n",
      "Epoch 90/200\n",
      "156/156 [==============================] - 0s 2ms/step - loss: 0.4530 - accuracy: 0.7605 - val_loss: 0.5535 - val_accuracy: 0.7896\n",
      "Epoch 91/200\n",
      "156/156 [==============================] - 0s 2ms/step - loss: 0.4503 - accuracy: 0.7581 - val_loss: 0.5439 - val_accuracy: 0.7906\n",
      "Epoch 92/200\n",
      "156/156 [==============================] - 0s 2ms/step - loss: 0.4526 - accuracy: 0.7583 - val_loss: 0.5351 - val_accuracy: 0.7937\n",
      "Epoch 93/200\n",
      "156/156 [==============================] - 0s 2ms/step - loss: 0.4499 - accuracy: 0.7663 - val_loss: 0.5564 - val_accuracy: 0.7906\n",
      "Epoch 94/200\n",
      "156/156 [==============================] - 0s 1ms/step - loss: 0.4487 - accuracy: 0.7617 - val_loss: 0.5516 - val_accuracy: 0.7927\n",
      "Epoch 95/200\n",
      "156/156 [==============================] - 0s 1ms/step - loss: 0.4501 - accuracy: 0.7576 - val_loss: 0.5534 - val_accuracy: 0.7937\n",
      "Epoch 96/200\n",
      "156/156 [==============================] - 0s 2ms/step - loss: 0.4519 - accuracy: 0.7604 - val_loss: 0.5408 - val_accuracy: 0.7979\n",
      "Epoch 97/200\n",
      "156/156 [==============================] - 0s 2ms/step - loss: 0.4500 - accuracy: 0.7569 - val_loss: 0.5320 - val_accuracy: 0.8042\n",
      "Epoch 98/200\n",
      "156/156 [==============================] - 0s 1ms/step - loss: 0.4494 - accuracy: 0.7589 - val_loss: 0.5415 - val_accuracy: 0.8021\n",
      "Epoch 99/200\n",
      "156/156 [==============================] - 0s 2ms/step - loss: 0.4517 - accuracy: 0.7622 - val_loss: 0.5380 - val_accuracy: 0.8021\n",
      "Epoch 100/200\n",
      "156/156 [==============================] - 0s 2ms/step - loss: 0.4521 - accuracy: 0.7632 - val_loss: 0.5508 - val_accuracy: 0.7979\n",
      "Epoch 101/200\n",
      "156/156 [==============================] - 0s 2ms/step - loss: 0.4538 - accuracy: 0.7565 - val_loss: 0.5320 - val_accuracy: 0.8021\n",
      "Epoch 102/200\n",
      "156/156 [==============================] - 0s 1ms/step - loss: 0.4515 - accuracy: 0.7601 - val_loss: 0.5272 - val_accuracy: 0.8031\n",
      "Epoch 103/200\n",
      "156/156 [==============================] - 0s 1ms/step - loss: 0.4546 - accuracy: 0.7596 - val_loss: 0.5285 - val_accuracy: 0.7990\n",
      "Epoch 104/200\n",
      "156/156 [==============================] - 0s 2ms/step - loss: 0.4509 - accuracy: 0.7627 - val_loss: 0.5387 - val_accuracy: 0.7958\n",
      "Epoch 105/200\n",
      "156/156 [==============================] - 0s 2ms/step - loss: 0.4515 - accuracy: 0.7547 - val_loss: 0.5267 - val_accuracy: 0.8021\n",
      "Epoch 106/200\n",
      "156/156 [==============================] - 0s 1ms/step - loss: 0.4515 - accuracy: 0.7669 - val_loss: 0.5344 - val_accuracy: 0.8010\n",
      "Epoch 107/200\n",
      "156/156 [==============================] - 0s 1ms/step - loss: 0.4494 - accuracy: 0.7608 - val_loss: 0.5323 - val_accuracy: 0.8000\n",
      "Epoch 108/200\n",
      "156/156 [==============================] - 0s 2ms/step - loss: 0.4477 - accuracy: 0.7622 - val_loss: 0.5214 - val_accuracy: 0.8031\n",
      "Epoch 109/200\n",
      "156/156 [==============================] - 0s 2ms/step - loss: 0.4472 - accuracy: 0.7649 - val_loss: 0.5220 - val_accuracy: 0.8031\n",
      "Epoch 110/200\n",
      "156/156 [==============================] - 0s 2ms/step - loss: 0.4515 - accuracy: 0.7614 - val_loss: 0.5297 - val_accuracy: 0.7969\n",
      "Epoch 111/200\n",
      "156/156 [==============================] - 0s 2ms/step - loss: 0.4489 - accuracy: 0.7579 - val_loss: 0.5219 - val_accuracy: 0.8042\n",
      "Epoch 112/200\n",
      "156/156 [==============================] - 0s 2ms/step - loss: 0.4505 - accuracy: 0.7612 - val_loss: 0.5309 - val_accuracy: 0.8010\n",
      "Epoch 113/200\n",
      "156/156 [==============================] - 0s 2ms/step - loss: 0.4499 - accuracy: 0.7553 - val_loss: 0.5280 - val_accuracy: 0.8042\n",
      "Epoch 114/200\n",
      "156/156 [==============================] - 0s 2ms/step - loss: 0.4518 - accuracy: 0.7538 - val_loss: 0.5264 - val_accuracy: 0.8000\n",
      "Epoch 115/200\n",
      "156/156 [==============================] - 0s 2ms/step - loss: 0.4516 - accuracy: 0.7620 - val_loss: 0.5344 - val_accuracy: 0.7969\n",
      "Epoch 116/200\n",
      "156/156 [==============================] - 0s 2ms/step - loss: 0.4479 - accuracy: 0.7599 - val_loss: 0.5296 - val_accuracy: 0.7979\n",
      "Epoch 117/200\n",
      "156/156 [==============================] - 0s 2ms/step - loss: 0.4491 - accuracy: 0.7634 - val_loss: 0.5326 - val_accuracy: 0.7979\n",
      "Epoch 118/200\n",
      "156/156 [==============================] - 0s 1ms/step - loss: 0.4484 - accuracy: 0.7652 - val_loss: 0.5330 - val_accuracy: 0.7979\n",
      "Epoch 119/200\n",
      "156/156 [==============================] - 0s 2ms/step - loss: 0.4495 - accuracy: 0.7600 - val_loss: 0.5386 - val_accuracy: 0.7979\n",
      "Epoch 120/200\n",
      "156/156 [==============================] - 0s 2ms/step - loss: 0.4493 - accuracy: 0.7592 - val_loss: 0.5308 - val_accuracy: 0.8010\n",
      "Epoch 121/200\n",
      "156/156 [==============================] - 0s 1ms/step - loss: 0.4483 - accuracy: 0.7644 - val_loss: 0.5276 - val_accuracy: 0.8031\n",
      "Epoch 122/200\n",
      "156/156 [==============================] - 0s 2ms/step - loss: 0.4491 - accuracy: 0.7624 - val_loss: 0.5294 - val_accuracy: 0.8010\n",
      "Epoch 123/200\n",
      "156/156 [==============================] - 0s 2ms/step - loss: 0.4512 - accuracy: 0.7608 - val_loss: 0.5321 - val_accuracy: 0.7948\n",
      "Epoch 124/200\n",
      "156/156 [==============================] - 0s 2ms/step - loss: 0.4506 - accuracy: 0.7635 - val_loss: 0.5324 - val_accuracy: 0.7958\n",
      "Epoch 125/200\n",
      "156/156 [==============================] - 0s 1ms/step - loss: 0.4507 - accuracy: 0.7607 - val_loss: 0.5395 - val_accuracy: 0.7937\n",
      "Epoch 126/200\n",
      "156/156 [==============================] - 0s 1ms/step - loss: 0.4513 - accuracy: 0.7590 - val_loss: 0.5176 - val_accuracy: 0.8021\n",
      "Epoch 127/200\n",
      "156/156 [==============================] - 0s 1ms/step - loss: 0.4491 - accuracy: 0.7617 - val_loss: 0.5262 - val_accuracy: 0.7979\n",
      "Epoch 128/200\n",
      "156/156 [==============================] - 0s 2ms/step - loss: 0.4500 - accuracy: 0.7614 - val_loss: 0.5236 - val_accuracy: 0.8010\n",
      "Epoch 129/200\n",
      "156/156 [==============================] - 0s 2ms/step - loss: 0.4473 - accuracy: 0.7683 - val_loss: 0.5259 - val_accuracy: 0.7969\n",
      "Epoch 130/200\n",
      "156/156 [==============================] - 0s 2ms/step - loss: 0.4513 - accuracy: 0.7594 - val_loss: 0.5242 - val_accuracy: 0.8042\n",
      "Epoch 131/200\n",
      "156/156 [==============================] - 0s 2ms/step - loss: 0.4500 - accuracy: 0.7638 - val_loss: 0.5316 - val_accuracy: 0.8010\n",
      "Epoch 132/200\n",
      "156/156 [==============================] - 0s 1ms/step - loss: 0.4509 - accuracy: 0.7604 - val_loss: 0.5310 - val_accuracy: 0.8021\n",
      "Epoch 133/200\n",
      "156/156 [==============================] - 0s 2ms/step - loss: 0.4525 - accuracy: 0.7574 - val_loss: 0.5409 - val_accuracy: 0.7958\n",
      "Epoch 134/200\n",
      "156/156 [==============================] - 0s 2ms/step - loss: 0.4499 - accuracy: 0.7574 - val_loss: 0.5319 - val_accuracy: 0.7969\n",
      "Epoch 135/200\n",
      "156/156 [==============================] - 0s 2ms/step - loss: 0.4536 - accuracy: 0.7625 - val_loss: 0.5345 - val_accuracy: 0.7979\n",
      "Epoch 136/200\n",
      "156/156 [==============================] - 0s 2ms/step - loss: 0.4513 - accuracy: 0.7615 - val_loss: 0.5472 - val_accuracy: 0.7937\n",
      "Epoch 137/200\n",
      "156/156 [==============================] - 0s 2ms/step - loss: 0.4501 - accuracy: 0.7585 - val_loss: 0.5479 - val_accuracy: 0.8000\n",
      "Epoch 138/200\n",
      "156/156 [==============================] - 0s 2ms/step - loss: 0.4491 - accuracy: 0.7619 - val_loss: 0.5474 - val_accuracy: 0.8042\n",
      "Epoch 139/200\n",
      "156/156 [==============================] - 0s 2ms/step - loss: 0.4501 - accuracy: 0.7583 - val_loss: 0.5551 - val_accuracy: 0.5844\n",
      "Epoch 140/200\n",
      "156/156 [==============================] - 0s 2ms/step - loss: 0.4516 - accuracy: 0.7549 - val_loss: 0.5530 - val_accuracy: 0.5813\n",
      "Epoch 141/200\n",
      "156/156 [==============================] - 0s 2ms/step - loss: 0.4505 - accuracy: 0.7609 - val_loss: 0.5408 - val_accuracy: 0.8010\n",
      "Epoch 142/200\n",
      "156/156 [==============================] - 0s 2ms/step - loss: 0.4505 - accuracy: 0.7591 - val_loss: 0.5430 - val_accuracy: 0.7979\n",
      "Epoch 143/200\n",
      "156/156 [==============================] - 0s 2ms/step - loss: 0.4505 - accuracy: 0.7574 - val_loss: 0.5320 - val_accuracy: 0.7979\n",
      "Epoch 144/200\n",
      "156/156 [==============================] - 0s 1ms/step - loss: 0.4490 - accuracy: 0.7625 - val_loss: 0.5293 - val_accuracy: 0.8010\n",
      "Epoch 145/200\n",
      "156/156 [==============================] - 0s 1ms/step - loss: 0.4501 - accuracy: 0.7633 - val_loss: 0.5348 - val_accuracy: 0.7969\n",
      "Epoch 146/200\n",
      "156/156 [==============================] - 0s 1ms/step - loss: 0.4522 - accuracy: 0.7554 - val_loss: 0.5309 - val_accuracy: 0.7969\n",
      "Epoch 147/200\n",
      "156/156 [==============================] - 0s 1ms/step - loss: 0.4509 - accuracy: 0.7558 - val_loss: 0.5288 - val_accuracy: 0.8042\n",
      "Epoch 148/200\n",
      "156/156 [==============================] - 0s 1ms/step - loss: 0.4490 - accuracy: 0.7577 - val_loss: 0.5151 - val_accuracy: 0.8042\n",
      "Epoch 149/200\n",
      "156/156 [==============================] - 0s 1ms/step - loss: 0.4523 - accuracy: 0.7567 - val_loss: 0.5263 - val_accuracy: 0.8000\n",
      "Epoch 150/200\n",
      "156/156 [==============================] - 0s 1ms/step - loss: 0.4511 - accuracy: 0.7596 - val_loss: 0.5204 - val_accuracy: 0.8010\n",
      "Epoch 151/200\n",
      "156/156 [==============================] - 0s 1ms/step - loss: 0.4501 - accuracy: 0.7609 - val_loss: 0.5171 - val_accuracy: 0.8042\n",
      "Epoch 152/200\n",
      "156/156 [==============================] - 0s 2ms/step - loss: 0.4492 - accuracy: 0.7645 - val_loss: 0.5212 - val_accuracy: 0.7969\n",
      "Epoch 153/200\n",
      "156/156 [==============================] - 0s 1ms/step - loss: 0.4505 - accuracy: 0.7635 - val_loss: 0.5176 - val_accuracy: 0.8000\n",
      "Epoch 154/200\n",
      "156/156 [==============================] - 0s 1ms/step - loss: 0.4524 - accuracy: 0.7567 - val_loss: 0.5265 - val_accuracy: 0.8000\n",
      "Epoch 155/200\n",
      "156/156 [==============================] - 0s 1ms/step - loss: 0.4490 - accuracy: 0.7653 - val_loss: 0.5232 - val_accuracy: 0.8010\n",
      "Epoch 156/200\n",
      "156/156 [==============================] - 0s 1ms/step - loss: 0.4513 - accuracy: 0.7613 - val_loss: 0.5186 - val_accuracy: 0.8010\n",
      "Epoch 157/200\n",
      "156/156 [==============================] - 0s 1ms/step - loss: 0.4513 - accuracy: 0.7584 - val_loss: 0.5336 - val_accuracy: 0.8021\n",
      "Epoch 158/200\n",
      "156/156 [==============================] - 0s 1ms/step - loss: 0.4501 - accuracy: 0.7593 - val_loss: 0.5307 - val_accuracy: 0.8000\n",
      "Epoch 159/200\n",
      "156/156 [==============================] - 0s 1ms/step - loss: 0.4473 - accuracy: 0.7650 - val_loss: 0.5248 - val_accuracy: 0.8000\n",
      "Epoch 160/200\n",
      "156/156 [==============================] - 0s 1ms/step - loss: 0.4519 - accuracy: 0.7592 - val_loss: 0.5389 - val_accuracy: 0.7958\n",
      "Epoch 161/200\n",
      "156/156 [==============================] - 0s 1ms/step - loss: 0.4477 - accuracy: 0.7595 - val_loss: 0.5359 - val_accuracy: 0.8010\n",
      "Epoch 162/200\n",
      "156/156 [==============================] - 0s 2ms/step - loss: 0.4484 - accuracy: 0.7609 - val_loss: 0.5257 - val_accuracy: 0.8010\n",
      "Epoch 163/200\n",
      "156/156 [==============================] - 0s 2ms/step - loss: 0.4488 - accuracy: 0.7605 - val_loss: 0.5259 - val_accuracy: 0.8031\n",
      "Epoch 164/200\n",
      "156/156 [==============================] - 0s 2ms/step - loss: 0.4491 - accuracy: 0.7616 - val_loss: 0.5258 - val_accuracy: 0.7958\n",
      "Epoch 165/200\n",
      "156/156 [==============================] - 0s 2ms/step - loss: 0.4525 - accuracy: 0.7590 - val_loss: 0.5287 - val_accuracy: 0.7948\n",
      "Epoch 166/200\n",
      "156/156 [==============================] - 0s 2ms/step - loss: 0.4510 - accuracy: 0.7583 - val_loss: 0.5371 - val_accuracy: 0.7927\n",
      "Epoch 167/200\n",
      "156/156 [==============================] - 0s 2ms/step - loss: 0.4499 - accuracy: 0.7594 - val_loss: 0.5333 - val_accuracy: 0.7990\n",
      "Epoch 168/200\n",
      "156/156 [==============================] - 0s 2ms/step - loss: 0.4494 - accuracy: 0.7592 - val_loss: 0.5409 - val_accuracy: 0.7927\n",
      "Epoch 169/200\n",
      "156/156 [==============================] - 0s 2ms/step - loss: 0.4476 - accuracy: 0.7608 - val_loss: 0.5384 - val_accuracy: 0.7979\n",
      "Epoch 170/200\n",
      "156/156 [==============================] - 0s 1ms/step - loss: 0.4484 - accuracy: 0.7659 - val_loss: 0.5475 - val_accuracy: 0.7917\n",
      "Epoch 171/200\n",
      "156/156 [==============================] - 0s 2ms/step - loss: 0.4515 - accuracy: 0.7593 - val_loss: 0.5477 - val_accuracy: 0.7969\n",
      "Epoch 172/200\n",
      "156/156 [==============================] - 0s 2ms/step - loss: 0.4517 - accuracy: 0.7595 - val_loss: 0.5524 - val_accuracy: 0.7927\n",
      "Epoch 173/200\n",
      "156/156 [==============================] - 0s 2ms/step - loss: 0.4498 - accuracy: 0.7604 - val_loss: 0.5470 - val_accuracy: 0.7969\n",
      "Epoch 174/200\n",
      "156/156 [==============================] - 0s 1ms/step - loss: 0.4526 - accuracy: 0.7586 - val_loss: 0.5516 - val_accuracy: 0.7958\n",
      "Epoch 175/200\n",
      "156/156 [==============================] - 0s 2ms/step - loss: 0.4473 - accuracy: 0.7626 - val_loss: 0.5577 - val_accuracy: 0.7927\n",
      "Epoch 176/200\n",
      "156/156 [==============================] - 0s 2ms/step - loss: 0.4502 - accuracy: 0.7615 - val_loss: 0.5499 - val_accuracy: 0.7979\n",
      "Epoch 177/200\n",
      "156/156 [==============================] - 0s 1ms/step - loss: 0.4464 - accuracy: 0.7616 - val_loss: 0.5424 - val_accuracy: 0.8000\n",
      "Epoch 178/200\n",
      "156/156 [==============================] - 0s 1ms/step - loss: 0.4531 - accuracy: 0.7614 - val_loss: 0.5468 - val_accuracy: 0.7927\n",
      "Epoch 179/200\n",
      "156/156 [==============================] - 0s 1ms/step - loss: 0.4479 - accuracy: 0.7610 - val_loss: 0.5474 - val_accuracy: 0.7917\n",
      "Epoch 180/200\n",
      "156/156 [==============================] - 0s 1ms/step - loss: 0.4518 - accuracy: 0.7596 - val_loss: 0.5539 - val_accuracy: 0.7937\n",
      "Epoch 181/200\n",
      "156/156 [==============================] - 0s 2ms/step - loss: 0.4514 - accuracy: 0.7564 - val_loss: 0.5410 - val_accuracy: 0.8031\n",
      "Epoch 182/200\n",
      "156/156 [==============================] - 0s 1ms/step - loss: 0.4510 - accuracy: 0.7603 - val_loss: 0.5424 - val_accuracy: 0.8042\n",
      "Epoch 183/200\n",
      "156/156 [==============================] - 0s 1ms/step - loss: 0.4493 - accuracy: 0.7574 - val_loss: 0.5521 - val_accuracy: 0.7979\n",
      "Epoch 184/200\n",
      "156/156 [==============================] - 0s 1ms/step - loss: 0.4502 - accuracy: 0.7550 - val_loss: 0.5529 - val_accuracy: 0.8000\n",
      "Epoch 185/200\n",
      "156/156 [==============================] - 0s 2ms/step - loss: 0.4542 - accuracy: 0.7597 - val_loss: 0.5488 - val_accuracy: 0.8021\n",
      "Epoch 186/200\n",
      "156/156 [==============================] - 0s 1ms/step - loss: 0.4522 - accuracy: 0.7588 - val_loss: 0.5482 - val_accuracy: 0.7979\n",
      "Epoch 187/200\n",
      "156/156 [==============================] - 0s 1ms/step - loss: 0.4489 - accuracy: 0.7624 - val_loss: 0.5541 - val_accuracy: 0.7969\n",
      "Epoch 188/200\n",
      "156/156 [==============================] - 0s 2ms/step - loss: 0.4475 - accuracy: 0.7585 - val_loss: 0.5473 - val_accuracy: 0.7958\n",
      "Epoch 189/200\n",
      "156/156 [==============================] - 0s 2ms/step - loss: 0.4525 - accuracy: 0.7609 - val_loss: 0.5473 - val_accuracy: 0.7979\n",
      "Epoch 190/200\n",
      "156/156 [==============================] - 0s 2ms/step - loss: 0.4505 - accuracy: 0.7583 - val_loss: 0.5492 - val_accuracy: 0.8010\n",
      "Epoch 191/200\n",
      "156/156 [==============================] - 0s 2ms/step - loss: 0.4486 - accuracy: 0.7606 - val_loss: 0.5478 - val_accuracy: 0.8010\n",
      "Epoch 192/200\n",
      "156/156 [==============================] - 0s 1ms/step - loss: 0.4523 - accuracy: 0.7574 - val_loss: 0.5417 - val_accuracy: 0.8031\n",
      "Epoch 193/200\n",
      "156/156 [==============================] - 0s 1ms/step - loss: 0.4518 - accuracy: 0.7600 - val_loss: 0.5449 - val_accuracy: 0.8021\n",
      "Epoch 194/200\n",
      "156/156 [==============================] - 0s 2ms/step - loss: 0.4499 - accuracy: 0.7600 - val_loss: 0.5355 - val_accuracy: 0.8021\n",
      "Epoch 195/200\n",
      "156/156 [==============================] - 0s 2ms/step - loss: 0.4492 - accuracy: 0.7588 - val_loss: 0.5211 - val_accuracy: 0.8042\n",
      "Epoch 196/200\n",
      "156/156 [==============================] - 0s 1ms/step - loss: 0.4497 - accuracy: 0.7627 - val_loss: 0.5300 - val_accuracy: 0.8042\n",
      "Epoch 197/200\n",
      "156/156 [==============================] - 0s 1ms/step - loss: 0.4466 - accuracy: 0.7617 - val_loss: 0.5325 - val_accuracy: 0.8042\n",
      "Epoch 198/200\n",
      "156/156 [==============================] - 0s 2ms/step - loss: 0.4553 - accuracy: 0.7604 - val_loss: 0.5326 - val_accuracy: 0.8031\n",
      "Epoch 199/200\n",
      "156/156 [==============================] - 0s 2ms/step - loss: 0.4488 - accuracy: 0.7629 - val_loss: 0.5288 - val_accuracy: 0.8052\n",
      "Epoch 200/200\n",
      "156/156 [==============================] - 0s 2ms/step - loss: 0.4501 - accuracy: 0.7664 - val_loss: 0.5355 - val_accuracy: 0.8031\n"
     ]
    }
   ],
   "source": [
    "configs_dict = {\n",
    "    \"learning_rate\": LEARNING_RATE,\n",
    "    \"algorithm\": \"LogReg\",\n",
    "    \"configuration\": \"1-tokens\",\n",
    "    \"optimizer\": \"adam\",\n",
    "    \"loss\": \"binary_crossentropy\",\n",
    "    \"epochs\": NUM_EPOCHS,\n",
    "    \"batch_size\": 64,\n",
    "    \"vectorizer\": \"int\",\n",
    "    \"dataset\": \"TOKENIZED_SET_V1\"\n",
    "}\n",
    "run = wandb.init(project=wandb_project_name, reinit=True, config=configs_dict)\n",
    "\n",
    "history = model.fit(train_dataset, epochs=NUM_EPOCHS,\n",
    "                    validation_data=test_dataset,\n",
    "                    validation_steps=VAL_STEPS_PER_EPOCH, steps_per_epoch=STEPS_PER_EPOCH,callbacks= [WandbCallback()])#[tensorboard_callback])\n",
    "run.finish()"
   ]
  },
  {
   "cell_type": "code",
   "execution_count": 33,
   "metadata": {},
   "outputs": [
    {
     "name": "stdout",
     "output_type": "stream",
     "text": [
      "Model: \"sequential\"\n",
      "_________________________________________________________________\n",
      " Layer (type)                Output Shape              Param #   \n",
      "=================================================================\n",
      " text_vectorization (TextVec  (None, None)             0         \n",
      " torization)                                                     \n",
      "                                                                 \n",
      " embedding (Embedding)       (None, None, 16)          1968      \n",
      "                                                                 \n",
      " dropout (Dropout)           (None, None, 16)          0         \n",
      "                                                                 \n",
      " global_max_pooling1d (Globa  (None, 16)               0         \n",
      " lMaxPooling1D)                                                  \n",
      "                                                                 \n",
      " dropout_1 (Dropout)         (None, 16)                0         \n",
      "                                                                 \n",
      " dense (Dense)               (None, 1)                 17        \n",
      "                                                                 \n",
      "=================================================================\n",
      "Total params: 1,985\n",
      "Trainable params: 1,985\n",
      "Non-trainable params: 0\n",
      "_________________________________________________________________\n"
     ]
    }
   ],
   "source": [
    "model.summary()"
   ]
  },
  {
   "cell_type": "code",
   "execution_count": null,
   "metadata": {},
   "outputs": [],
   "source": [
    "import json, io"
   ]
  },
  {
   "cell_type": "code",
   "execution_count": null,
   "metadata": {},
   "outputs": [],
   "source": [
    "def save_token_embeddings(model, encoder_int_tokens, embedding_layer_name, class_task_str, emb_dim_str):\n",
    "\n",
    "    vec_path = Path(\"embedding_vecs_binary/\") / (class_task_str + \"_\" + emb_dim_str + \"_\" + \"vectors.tsv\")\n",
    "    meta_path = Path(\"embedding_vecs_binary/\") / (class_task_str + \"_\" + emb_dim_str + \"_\" + \"metadata.tsv\")\n",
    "\n",
    "    out_v = io.open(vec_path, 'w', encoding='utf-8')\n",
    "    out_m = io.open(meta_path, 'w', encoding='utf-8')\n",
    "    weights = model.get_layer(embedding_layer_name).get_weights()[0]\n",
    "    vocab = encoder_int_tokens.get_vocabulary()\n",
    "\n",
    "    for index, word in enumerate(vocab):\n",
    "        if index == 0:\n",
    "            continue  # skip 0, it's padding.\n",
    "        vec = weights[index]\n",
    "        out_v.write('\\t'.join([str(x) for x in vec]) + \"\\n\")\n",
    "        out_m.write(word + \"\\n\")\n",
    "    out_v.close()\n",
    "    out_m.close()"
   ]
  },
  {
   "cell_type": "code",
   "execution_count": null,
   "metadata": {},
   "outputs": [],
   "source": [
    "save_token_embeddings(model, encoder_int, \"embedding\", \"binary-lr\",str(16))"
   ]
  },
  {
   "cell_type": "code",
   "execution_count": 30,
   "metadata": {},
   "outputs": [
    {
     "name": "stdout",
     "output_type": "stream",
     "text": [
      "15/15 [==============================] - 0s 1ms/step - loss: 0.5355 - accuracy: 0.8031\n",
      "Test Loss: 0.5355406999588013\n",
      "Test Accuracy: 0.8031250238418579\n"
     ]
    }
   ],
   "source": [
    "test_loss, test_acc = model.evaluate(test_dataset)\n",
    "\n",
    "print(\"Test Loss:\", test_loss)\n",
    "print(\"Test Accuracy:\", test_acc)"
   ]
  },
  {
   "cell_type": "code",
   "execution_count": 31,
   "metadata": {},
   "outputs": [
    {
     "data": {
      "text/plain": [
       "(0.0, 0.6666031286120415)"
      ]
     },
     "execution_count": 31,
     "metadata": {},
     "output_type": "execute_result"
    },
    {
     "data": {
      "image/png": "[encoded data removed]",
      "text/plain": [
       "<Figure size 1600x800 with 2 Axes>"
      ]
     },
     "metadata": {},
     "output_type": "display_data"
    }
   ],
   "source": [
    "plt.figure(figsize=(16,8))\n",
    "plt.subplot(1,2,1)\n",
    "plot_graphs(history, \"accuracy\")\n",
    "plt.ylim(None, 1)\n",
    "plt.subplot(1,2,2)\n",
    "plot_graphs(history, \"loss\")\n",
    "plt.ylim(0, None)"
   ]
  },
  {
   "cell_type": "code",
   "execution_count": 32,
   "metadata": {},
   "outputs": [
    {
     "name": "stdout",
     "output_type": "stream",
     "text": [
      "1/1 [==============================] - 0s 107ms/step\n",
      "[-1.4717202]\n"
     ]
    }
   ],
   "source": [
    "# predict on a sample text without padding\n",
    "sample_text = (\"g ( x ) = x ^ 3\")\n",
    "predictions = model.predict(np.array([sample_text]))\n",
    "print(predictions[0])"
   ]
  },
  {
   "attachments": {},
   "cell_type": "markdown",
   "metadata": {},
   "source": [
    "##### Experiment 2: Use binary count vectorizer for encoding"
   ]
  },
  {
   "cell_type": "code",
   "execution_count": 33,
   "metadata": {},
   "outputs": [
    {
     "name": "stdout",
     "output_type": "stream",
     "text": [
      "122\n",
      "1/1 [==============================] - 0s 73ms/step\n",
      "[-0.0162912]\n"
     ]
    }
   ],
   "source": [
    "model = create_model(encoder_multi_hot)\n",
    "# predict on a sample formula using untrained model\n",
    "sample_text = (\"g ( x ) = x ^ 3\")\n",
    "predictions = model.predict(np.array([sample_text]))\n",
    "print(predictions[0])"
   ]
  },
  {
   "cell_type": "code",
   "execution_count": 34,
   "metadata": {},
   "outputs": [],
   "source": [
    "#model.compile(optimizer='sgd',loss='sparse_categorical_crossentropy',metrics=['accuracy'])\n",
    "LEARNING_RATE = 1e-2\n",
    "NUM_EPOCHS = 200\n",
    "model.compile(loss=tf.keras.losses.BinaryCrossentropy(from_logits=True),\n",
    "              optimizer=tf.keras.optimizers.Adam(LEARNING_RATE),\n",
    "              metrics=[\"accuracy\"])"
   ]
  },
  {
   "cell_type": "code",
   "execution_count": 35,
   "metadata": {},
   "outputs": [
    {
     "name": "stdout",
     "output_type": "stream",
     "text": [
      "Epoch 1/200\n",
      "145/156 [==========================>...] - ETA: 0s - loss: 0.6891 - accuracy: 0.5491INFO:tensorflow:Assets written to: /home/paul_d/Sources/sem_math_repo/classification_formulas/wandb/run-20230306_110952-57zadoyg/files/model-best/assets\n"
     ]
    },
    {
     "name": "stderr",
     "output_type": "stream",
     "text": [
      "INFO:tensorflow:Assets written to: /home/paul_d/Sources/sem_math_repo/classification_formulas/wandb/run-20230306_110952-57zadoyg/files/model-best/assets\n"
     ]
    },
    {
     "name": "stdout",
     "output_type": "stream",
     "text": [
      "156/156 [==============================] - 2s 10ms/step - loss: 0.6888 - accuracy: 0.5501 - val_loss: 0.8222 - val_accuracy: 0.0000e+00\n",
      "Epoch 2/200\n",
      "145/156 [==========================>...] - ETA: 0s - loss: 0.6888 - accuracy: 0.5498INFO:tensorflow:Assets written to: /home/paul_d/Sources/sem_math_repo/classification_formulas/wandb/run-20230306_110952-57zadoyg/files/model-best/assets\n"
     ]
    },
    {
     "name": "stderr",
     "output_type": "stream",
     "text": [
      "INFO:tensorflow:Assets written to: /home/paul_d/Sources/sem_math_repo/classification_formulas/wandb/run-20230306_110952-57zadoyg/files/model-best/assets\n"
     ]
    },
    {
     "name": "stdout",
     "output_type": "stream",
     "text": [
      "156/156 [==============================] - 1s 8ms/step - loss: 0.6888 - accuracy: 0.5497 - val_loss: 0.7814 - val_accuracy: 0.0000e+00\n",
      "Epoch 3/200\n",
      "144/156 [==========================>...] - ETA: 0s - loss: 0.6880 - accuracy: 0.5497INFO:tensorflow:Assets written to: /home/paul_d/Sources/sem_math_repo/classification_formulas/wandb/run-20230306_110952-57zadoyg/files/model-best/assets\n"
     ]
    },
    {
     "name": "stderr",
     "output_type": "stream",
     "text": [
      "INFO:tensorflow:Assets written to: /home/paul_d/Sources/sem_math_repo/classification_formulas/wandb/run-20230306_110952-57zadoyg/files/model-best/assets\n"
     ]
    },
    {
     "name": "stdout",
     "output_type": "stream",
     "text": [
      "156/156 [==============================] - 1s 8ms/step - loss: 0.6881 - accuracy: 0.5501 - val_loss: 0.7701 - val_accuracy: 0.0000e+00\n",
      "Epoch 4/200\n",
      "142/156 [==========================>...] - ETA: 0s - loss: 0.6883 - accuracy: 0.5489INFO:tensorflow:Assets written to: /home/paul_d/Sources/sem_math_repo/classification_formulas/wandb/run-20230306_110952-57zadoyg/files/model-best/assets\n"
     ]
    },
    {
     "name": "stderr",
     "output_type": "stream",
     "text": [
      "INFO:tensorflow:Assets written to: /home/paul_d/Sources/sem_math_repo/classification_formulas/wandb/run-20230306_110952-57zadoyg/files/model-best/assets\n"
     ]
    },
    {
     "name": "stdout",
     "output_type": "stream",
     "text": [
      "156/156 [==============================] - 1s 8ms/step - loss: 0.6883 - accuracy: 0.5498 - val_loss: 0.7557 - val_accuracy: 0.0000e+00\n",
      "Epoch 5/200\n",
      "156/156 [==============================] - 0s 2ms/step - loss: 0.6884 - accuracy: 0.5499 - val_loss: 0.7885 - val_accuracy: 0.0000e+00\n",
      "Epoch 6/200\n",
      "156/156 [==============================] - 0s 2ms/step - loss: 0.6884 - accuracy: 0.5498 - val_loss: 0.8283 - val_accuracy: 0.0000e+00\n",
      "Epoch 7/200\n",
      "156/156 [==============================] - 0s 2ms/step - loss: 0.6884 - accuracy: 0.5503 - val_loss: 0.8130 - val_accuracy: 0.0000e+00\n",
      "Epoch 8/200\n",
      "156/156 [==============================] - 1s 3ms/step - loss: 0.6883 - accuracy: 0.5499 - val_loss: 0.8109 - val_accuracy: 0.0000e+00\n",
      "Epoch 9/200\n",
      "156/156 [==============================] - 0s 2ms/step - loss: 0.6883 - accuracy: 0.5498 - val_loss: 0.7905 - val_accuracy: 0.0000e+00\n",
      "Epoch 10/200\n",
      "156/156 [==============================] - 0s 2ms/step - loss: 0.6883 - accuracy: 0.5498 - val_loss: 0.8273 - val_accuracy: 0.0000e+00\n",
      "Epoch 11/200\n",
      "156/156 [==============================] - 0s 3ms/step - loss: 0.6883 - accuracy: 0.5497 - val_loss: 0.8139 - val_accuracy: 0.0000e+00\n",
      "Epoch 12/200\n",
      "156/156 [==============================] - 1s 3ms/step - loss: 0.6883 - accuracy: 0.5501 - val_loss: 0.8105 - val_accuracy: 0.0000e+00\n",
      "Epoch 13/200\n",
      "156/156 [==============================] - 0s 3ms/step - loss: 0.6883 - accuracy: 0.5500 - val_loss: 0.8027 - val_accuracy: 0.0000e+00\n",
      "Epoch 14/200\n",
      "156/156 [==============================] - 0s 2ms/step - loss: 0.6884 - accuracy: 0.5500 - val_loss: 0.7837 - val_accuracy: 0.0000e+00\n",
      "Epoch 15/200\n",
      "156/156 [==============================] - 0s 3ms/step - loss: 0.6884 - accuracy: 0.5500 - val_loss: 0.7970 - val_accuracy: 0.0000e+00\n",
      "Epoch 16/200\n",
      "156/156 [==============================] - 0s 2ms/step - loss: 0.6882 - accuracy: 0.5504 - val_loss: 0.8107 - val_accuracy: 0.0000e+00\n",
      "Epoch 17/200\n",
      "156/156 [==============================] - 0s 2ms/step - loss: 0.6883 - accuracy: 0.5498 - val_loss: 0.7842 - val_accuracy: 0.0000e+00\n",
      "Epoch 18/200\n",
      "156/156 [==============================] - 0s 2ms/step - loss: 0.6883 - accuracy: 0.5499 - val_loss: 0.7972 - val_accuracy: 0.0000e+00\n",
      "Epoch 19/200\n",
      "156/156 [==============================] - 0s 2ms/step - loss: 0.6885 - accuracy: 0.5501 - val_loss: 0.7896 - val_accuracy: 0.0000e+00\n",
      "Epoch 20/200\n",
      "156/156 [==============================] - 0s 2ms/step - loss: 0.6883 - accuracy: 0.5498 - val_loss: 0.8099 - val_accuracy: 0.0000e+00\n",
      "Epoch 21/200\n",
      "156/156 [==============================] - 0s 3ms/step - loss: 0.6886 - accuracy: 0.5499 - val_loss: 0.7826 - val_accuracy: 0.0000e+00\n",
      "Epoch 22/200\n",
      "156/156 [==============================] - 0s 3ms/step - loss: 0.6883 - accuracy: 0.5498 - val_loss: 0.8077 - val_accuracy: 0.0000e+00\n",
      "Epoch 23/200\n",
      "156/156 [==============================] - 0s 2ms/step - loss: 0.6883 - accuracy: 0.5501 - val_loss: 0.7967 - val_accuracy: 0.0000e+00\n",
      "Epoch 24/200\n",
      "156/156 [==============================] - 0s 2ms/step - loss: 0.6883 - accuracy: 0.5501 - val_loss: 0.8203 - val_accuracy: 0.0000e+00\n",
      "Epoch 25/200\n",
      "156/156 [==============================] - 1s 3ms/step - loss: 0.6884 - accuracy: 0.5500 - val_loss: 0.8028 - val_accuracy: 0.0000e+00\n",
      "Epoch 26/200\n",
      "156/156 [==============================] - 0s 3ms/step - loss: 0.6883 - accuracy: 0.5504 - val_loss: 0.7761 - val_accuracy: 0.0000e+00\n",
      "Epoch 27/200\n",
      "156/156 [==============================] - 0s 3ms/step - loss: 0.6885 - accuracy: 0.5500 - val_loss: 0.8073 - val_accuracy: 0.0000e+00\n",
      "Epoch 28/200\n",
      "156/156 [==============================] - 0s 3ms/step - loss: 0.6883 - accuracy: 0.5499 - val_loss: 0.7829 - val_accuracy: 0.0000e+00\n",
      "Epoch 29/200\n",
      "156/156 [==============================] - 1s 5ms/step - loss: 0.6884 - accuracy: 0.5497 - val_loss: 0.8378 - val_accuracy: 0.0000e+00\n",
      "Epoch 30/200\n",
      "156/156 [==============================] - 1s 5ms/step - loss: 0.6884 - accuracy: 0.5498 - val_loss: 0.8143 - val_accuracy: 0.0000e+00\n",
      "Epoch 31/200\n",
      "156/156 [==============================] - 1s 4ms/step - loss: 0.6883 - accuracy: 0.5501 - val_loss: 0.7813 - val_accuracy: 0.0000e+00\n",
      "Epoch 32/200\n",
      "156/156 [==============================] - 1s 5ms/step - loss: 0.6884 - accuracy: 0.5501 - val_loss: 0.7977 - val_accuracy: 0.0000e+00\n",
      "Epoch 33/200\n",
      "156/156 [==============================] - 1s 4ms/step - loss: 0.6884 - accuracy: 0.5499 - val_loss: 0.8040 - val_accuracy: 0.0000e+00\n",
      "Epoch 34/200\n",
      "156/156 [==============================] - 1s 4ms/step - loss: 0.6884 - accuracy: 0.5498 - val_loss: 0.8079 - val_accuracy: 0.0000e+00\n",
      "Epoch 35/200\n",
      "156/156 [==============================] - 1s 5ms/step - loss: 0.6883 - accuracy: 0.5500 - val_loss: 0.8028 - val_accuracy: 0.0000e+00\n",
      "Epoch 36/200\n",
      "156/156 [==============================] - 1s 4ms/step - loss: 0.6884 - accuracy: 0.5498 - val_loss: 0.8132 - val_accuracy: 0.0000e+00\n",
      "Epoch 37/200\n",
      "156/156 [==============================] - 1s 5ms/step - loss: 0.6882 - accuracy: 0.5499 - val_loss: 0.7845 - val_accuracy: 0.0000e+00\n",
      "Epoch 38/200\n",
      "156/156 [==============================] - 0s 2ms/step - loss: 0.6886 - accuracy: 0.5502 - val_loss: 0.8135 - val_accuracy: 0.0000e+00\n",
      "Epoch 39/200\n",
      "156/156 [==============================] - 0s 2ms/step - loss: 0.6883 - accuracy: 0.5502 - val_loss: 0.8307 - val_accuracy: 0.0000e+00\n",
      "Epoch 40/200\n",
      "156/156 [==============================] - 0s 2ms/step - loss: 0.6885 - accuracy: 0.5496 - val_loss: 0.8284 - val_accuracy: 0.0000e+00\n",
      "Epoch 41/200\n",
      "156/156 [==============================] - 0s 3ms/step - loss: 0.6884 - accuracy: 0.5499 - val_loss: 0.8011 - val_accuracy: 0.0000e+00\n",
      "Epoch 42/200\n",
      "156/156 [==============================] - 0s 2ms/step - loss: 0.6885 - accuracy: 0.5499 - val_loss: 0.7893 - val_accuracy: 0.0000e+00\n",
      "Epoch 43/200\n",
      "156/156 [==============================] - 0s 3ms/step - loss: 0.6884 - accuracy: 0.5500 - val_loss: 0.8186 - val_accuracy: 0.0000e+00\n",
      "Epoch 44/200\n",
      "156/156 [==============================] - 0s 3ms/step - loss: 0.6883 - accuracy: 0.5500 - val_loss: 0.8339 - val_accuracy: 0.0000e+00\n",
      "Epoch 45/200\n",
      "156/156 [==============================] - 1s 3ms/step - loss: 0.6884 - accuracy: 0.5499 - val_loss: 0.8092 - val_accuracy: 0.0000e+00\n",
      "Epoch 46/200\n",
      "156/156 [==============================] - 1s 3ms/step - loss: 0.6884 - accuracy: 0.5499 - val_loss: 0.8167 - val_accuracy: 0.0000e+00\n",
      "Epoch 47/200\n",
      "156/156 [==============================] - 0s 3ms/step - loss: 0.6882 - accuracy: 0.5503 - val_loss: 0.8148 - val_accuracy: 0.0000e+00\n",
      "Epoch 48/200\n",
      "156/156 [==============================] - 0s 3ms/step - loss: 0.6883 - accuracy: 0.5502 - val_loss: 0.8097 - val_accuracy: 0.0000e+00\n",
      "Epoch 49/200\n",
      "156/156 [==============================] - 0s 3ms/step - loss: 0.6883 - accuracy: 0.5502 - val_loss: 0.8091 - val_accuracy: 0.0000e+00\n",
      "Epoch 50/200\n",
      "156/156 [==============================] - 0s 3ms/step - loss: 0.6883 - accuracy: 0.5498 - val_loss: 0.8054 - val_accuracy: 0.0000e+00\n",
      "Epoch 51/200\n",
      "156/156 [==============================] - 0s 3ms/step - loss: 0.6884 - accuracy: 0.5501 - val_loss: 0.8103 - val_accuracy: 0.0000e+00\n",
      "Epoch 52/200\n",
      "156/156 [==============================] - 0s 2ms/step - loss: 0.6882 - accuracy: 0.5502 - val_loss: 0.8372 - val_accuracy: 0.0000e+00\n",
      "Epoch 53/200\n",
      "156/156 [==============================] - 0s 2ms/step - loss: 0.6885 - accuracy: 0.5501 - val_loss: 0.7984 - val_accuracy: 0.0000e+00\n",
      "Epoch 54/200\n",
      "156/156 [==============================] - 0s 2ms/step - loss: 0.6882 - accuracy: 0.5503 - val_loss: 0.8160 - val_accuracy: 0.0000e+00\n",
      "Epoch 55/200\n",
      "156/156 [==============================] - 0s 2ms/step - loss: 0.6882 - accuracy: 0.5503 - val_loss: 0.8259 - val_accuracy: 0.0000e+00\n",
      "Epoch 56/200\n",
      "156/156 [==============================] - 0s 2ms/step - loss: 0.6882 - accuracy: 0.5502 - val_loss: 0.7996 - val_accuracy: 0.0000e+00\n",
      "Epoch 57/200\n",
      "156/156 [==============================] - 0s 2ms/step - loss: 0.6883 - accuracy: 0.5504 - val_loss: 0.8063 - val_accuracy: 0.0000e+00\n",
      "Epoch 58/200\n",
      "156/156 [==============================] - 0s 2ms/step - loss: 0.6883 - accuracy: 0.5500 - val_loss: 0.8273 - val_accuracy: 0.0000e+00\n",
      "Epoch 59/200\n",
      "156/156 [==============================] - 0s 3ms/step - loss: 0.6884 - accuracy: 0.5500 - val_loss: 0.7973 - val_accuracy: 0.0000e+00\n",
      "Epoch 60/200\n",
      "156/156 [==============================] - 0s 2ms/step - loss: 0.6883 - accuracy: 0.5499 - val_loss: 0.8090 - val_accuracy: 0.0000e+00\n",
      "Epoch 61/200\n",
      "156/156 [==============================] - 0s 2ms/step - loss: 0.6883 - accuracy: 0.5500 - val_loss: 0.8095 - val_accuracy: 0.0000e+00\n",
      "Epoch 62/200\n",
      "156/156 [==============================] - 0s 2ms/step - loss: 0.6883 - accuracy: 0.5499 - val_loss: 0.8228 - val_accuracy: 0.0000e+00\n",
      "Epoch 63/200\n",
      "156/156 [==============================] - 0s 2ms/step - loss: 0.6883 - accuracy: 0.5501 - val_loss: 0.8416 - val_accuracy: 0.0000e+00\n",
      "Epoch 64/200\n",
      "156/156 [==============================] - 0s 2ms/step - loss: 0.6884 - accuracy: 0.5501 - val_loss: 0.8147 - val_accuracy: 0.0000e+00\n",
      "Epoch 65/200\n",
      "156/156 [==============================] - 0s 2ms/step - loss: 0.6884 - accuracy: 0.5498 - val_loss: 0.7996 - val_accuracy: 0.0000e+00\n",
      "Epoch 66/200\n",
      "156/156 [==============================] - 0s 3ms/step - loss: 0.6882 - accuracy: 0.5501 - val_loss: 0.8215 - val_accuracy: 0.0000e+00\n",
      "Epoch 67/200\n",
      "156/156 [==============================] - 0s 2ms/step - loss: 0.6882 - accuracy: 0.5501 - val_loss: 0.8485 - val_accuracy: 0.0000e+00\n",
      "Epoch 68/200\n",
      "156/156 [==============================] - 0s 2ms/step - loss: 0.6884 - accuracy: 0.5501 - val_loss: 0.8177 - val_accuracy: 0.0000e+00\n",
      "Epoch 69/200\n",
      "156/156 [==============================] - 0s 2ms/step - loss: 0.6882 - accuracy: 0.5497 - val_loss: 0.7808 - val_accuracy: 0.0000e+00\n",
      "Epoch 70/200\n",
      "156/156 [==============================] - 0s 2ms/step - loss: 0.6883 - accuracy: 0.5499 - val_loss: 0.7779 - val_accuracy: 0.0000e+00\n",
      "Epoch 71/200\n",
      "156/156 [==============================] - 0s 3ms/step - loss: 0.6884 - accuracy: 0.5501 - val_loss: 0.8114 - val_accuracy: 0.0000e+00\n",
      "Epoch 72/200\n",
      "156/156 [==============================] - 0s 2ms/step - loss: 0.6884 - accuracy: 0.5499 - val_loss: 0.8081 - val_accuracy: 0.0000e+00\n",
      "Epoch 73/200\n",
      "156/156 [==============================] - 0s 2ms/step - loss: 0.6883 - accuracy: 0.5502 - val_loss: 0.7877 - val_accuracy: 0.0000e+00\n",
      "Epoch 74/200\n",
      "156/156 [==============================] - 0s 2ms/step - loss: 0.6886 - accuracy: 0.5499 - val_loss: 0.8048 - val_accuracy: 0.0000e+00\n",
      "Epoch 75/200\n",
      "156/156 [==============================] - 0s 2ms/step - loss: 0.6883 - accuracy: 0.5500 - val_loss: 0.8112 - val_accuracy: 0.0000e+00\n",
      "Epoch 76/200\n",
      "156/156 [==============================] - 0s 3ms/step - loss: 0.6883 - accuracy: 0.5503 - val_loss: 0.7976 - val_accuracy: 0.0000e+00\n",
      "Epoch 77/200\n",
      "156/156 [==============================] - 0s 2ms/step - loss: 0.6883 - accuracy: 0.5502 - val_loss: 0.8021 - val_accuracy: 0.0000e+00\n",
      "Epoch 78/200\n",
      "156/156 [==============================] - 0s 2ms/step - loss: 0.6884 - accuracy: 0.5498 - val_loss: 0.8035 - val_accuracy: 0.0000e+00\n",
      "Epoch 79/200\n",
      "156/156 [==============================] - 0s 2ms/step - loss: 0.6882 - accuracy: 0.5503 - val_loss: 0.8134 - val_accuracy: 0.0000e+00\n",
      "Epoch 80/200\n",
      "156/156 [==============================] - 0s 2ms/step - loss: 0.6883 - accuracy: 0.5499 - val_loss: 0.7929 - val_accuracy: 0.0000e+00\n",
      "Epoch 81/200\n",
      "156/156 [==============================] - 0s 2ms/step - loss: 0.6883 - accuracy: 0.5500 - val_loss: 0.8409 - val_accuracy: 0.0000e+00\n",
      "Epoch 82/200\n",
      "156/156 [==============================] - 0s 2ms/step - loss: 0.6884 - accuracy: 0.5500 - val_loss: 0.8218 - val_accuracy: 0.0000e+00\n",
      "Epoch 83/200\n",
      "156/156 [==============================] - 0s 2ms/step - loss: 0.6883 - accuracy: 0.5499 - val_loss: 0.7983 - val_accuracy: 0.0000e+00\n",
      "Epoch 84/200\n",
      "156/156 [==============================] - 0s 2ms/step - loss: 0.6884 - accuracy: 0.5497 - val_loss: 0.8045 - val_accuracy: 0.0000e+00\n",
      "Epoch 85/200\n",
      "156/156 [==============================] - 0s 2ms/step - loss: 0.6883 - accuracy: 0.5503 - val_loss: 0.7809 - val_accuracy: 0.0000e+00\n",
      "Epoch 86/200\n",
      "156/156 [==============================] - 0s 2ms/step - loss: 0.6883 - accuracy: 0.5500 - val_loss: 0.8241 - val_accuracy: 0.0000e+00\n",
      "Epoch 87/200\n",
      "156/156 [==============================] - 0s 3ms/step - loss: 0.6883 - accuracy: 0.5498 - val_loss: 0.8238 - val_accuracy: 0.0000e+00\n",
      "Epoch 88/200\n",
      "156/156 [==============================] - 0s 2ms/step - loss: 0.6884 - accuracy: 0.5503 - val_loss: 0.8191 - val_accuracy: 0.0000e+00\n",
      "Epoch 89/200\n",
      "156/156 [==============================] - 0s 2ms/step - loss: 0.6885 - accuracy: 0.5499 - val_loss: 0.8053 - val_accuracy: 0.0000e+00\n",
      "Epoch 90/200\n",
      "156/156 [==============================] - 0s 2ms/step - loss: 0.6882 - accuracy: 0.5503 - val_loss: 0.8108 - val_accuracy: 0.0000e+00\n",
      "Epoch 91/200\n",
      "156/156 [==============================] - 0s 2ms/step - loss: 0.6884 - accuracy: 0.5497 - val_loss: 0.8172 - val_accuracy: 0.0000e+00\n",
      "Epoch 92/200\n",
      "156/156 [==============================] - 0s 2ms/step - loss: 0.6883 - accuracy: 0.5498 - val_loss: 0.7861 - val_accuracy: 0.0000e+00\n",
      "Epoch 93/200\n",
      "156/156 [==============================] - 0s 2ms/step - loss: 0.6884 - accuracy: 0.5501 - val_loss: 0.8024 - val_accuracy: 0.0000e+00\n",
      "Epoch 94/200\n",
      "156/156 [==============================] - 0s 2ms/step - loss: 0.6882 - accuracy: 0.5502 - val_loss: 0.8121 - val_accuracy: 0.0000e+00\n",
      "Epoch 95/200\n",
      "156/156 [==============================] - 0s 2ms/step - loss: 0.6883 - accuracy: 0.5501 - val_loss: 0.7899 - val_accuracy: 0.0000e+00\n",
      "Epoch 96/200\n",
      "156/156 [==============================] - 0s 2ms/step - loss: 0.6884 - accuracy: 0.5502 - val_loss: 0.7919 - val_accuracy: 0.0000e+00\n",
      "Epoch 97/200\n",
      "156/156 [==============================] - 0s 3ms/step - loss: 0.6883 - accuracy: 0.5500 - val_loss: 0.7999 - val_accuracy: 0.0000e+00\n",
      "Epoch 98/200\n",
      "156/156 [==============================] - 0s 2ms/step - loss: 0.6883 - accuracy: 0.5500 - val_loss: 0.8273 - val_accuracy: 0.0000e+00\n",
      "Epoch 99/200\n",
      "156/156 [==============================] - 0s 2ms/step - loss: 0.6885 - accuracy: 0.5503 - val_loss: 0.8189 - val_accuracy: 0.0000e+00\n",
      "Epoch 100/200\n",
      "156/156 [==============================] - 0s 2ms/step - loss: 0.6883 - accuracy: 0.5502 - val_loss: 0.8038 - val_accuracy: 0.0000e+00\n",
      "Epoch 101/200\n",
      "156/156 [==============================] - 0s 2ms/step - loss: 0.6884 - accuracy: 0.5498 - val_loss: 0.8138 - val_accuracy: 0.0000e+00\n",
      "Epoch 102/200\n",
      "156/156 [==============================] - 0s 3ms/step - loss: 0.6883 - accuracy: 0.5501 - val_loss: 0.8080 - val_accuracy: 0.0000e+00\n",
      "Epoch 103/200\n",
      "156/156 [==============================] - 0s 3ms/step - loss: 0.6882 - accuracy: 0.5500 - val_loss: 0.8073 - val_accuracy: 0.0000e+00\n",
      "Epoch 104/200\n",
      "156/156 [==============================] - 0s 2ms/step - loss: 0.6884 - accuracy: 0.5496 - val_loss: 0.7820 - val_accuracy: 0.0000e+00\n",
      "Epoch 105/200\n",
      "156/156 [==============================] - 0s 2ms/step - loss: 0.6884 - accuracy: 0.5498 - val_loss: 0.8079 - val_accuracy: 0.0000e+00\n",
      "Epoch 106/200\n",
      "156/156 [==============================] - 0s 3ms/step - loss: 0.6883 - accuracy: 0.5501 - val_loss: 0.8225 - val_accuracy: 0.0000e+00\n",
      "Epoch 107/200\n",
      "156/156 [==============================] - 0s 2ms/step - loss: 0.6884 - accuracy: 0.5500 - val_loss: 0.8054 - val_accuracy: 0.0000e+00\n",
      "Epoch 108/200\n",
      "156/156 [==============================] - 0s 3ms/step - loss: 0.6883 - accuracy: 0.5501 - val_loss: 0.8049 - val_accuracy: 0.0000e+00\n",
      "Epoch 109/200\n",
      "156/156 [==============================] - 0s 3ms/step - loss: 0.6882 - accuracy: 0.5503 - val_loss: 0.8368 - val_accuracy: 0.0000e+00\n",
      "Epoch 110/200\n",
      "156/156 [==============================] - 0s 2ms/step - loss: 0.6884 - accuracy: 0.5502 - val_loss: 0.8195 - val_accuracy: 0.0000e+00\n",
      "Epoch 111/200\n",
      "156/156 [==============================] - 0s 2ms/step - loss: 0.6882 - accuracy: 0.5500 - val_loss: 0.7806 - val_accuracy: 0.0000e+00\n",
      "Epoch 112/200\n",
      "156/156 [==============================] - 0s 2ms/step - loss: 0.6883 - accuracy: 0.5500 - val_loss: 0.8080 - val_accuracy: 0.0000e+00\n",
      "Epoch 113/200\n",
      "156/156 [==============================] - 0s 2ms/step - loss: 0.6883 - accuracy: 0.5501 - val_loss: 0.8232 - val_accuracy: 0.0000e+00\n",
      "Epoch 114/200\n",
      "156/156 [==============================] - 1s 3ms/step - loss: 0.6884 - accuracy: 0.5499 - val_loss: 0.8069 - val_accuracy: 0.0000e+00\n",
      "Epoch 115/200\n",
      "156/156 [==============================] - 0s 3ms/step - loss: 0.6883 - accuracy: 0.5500 - val_loss: 0.7899 - val_accuracy: 0.0000e+00\n",
      "Epoch 116/200\n",
      "156/156 [==============================] - 0s 2ms/step - loss: 0.6884 - accuracy: 0.5498 - val_loss: 0.8234 - val_accuracy: 0.0000e+00\n",
      "Epoch 117/200\n",
      "156/156 [==============================] - 0s 3ms/step - loss: 0.6882 - accuracy: 0.5501 - val_loss: 0.8296 - val_accuracy: 0.0000e+00\n",
      "Epoch 118/200\n",
      "156/156 [==============================] - 0s 3ms/step - loss: 0.6883 - accuracy: 0.5505 - val_loss: 0.8427 - val_accuracy: 0.0000e+00\n",
      "Epoch 119/200\n",
      "156/156 [==============================] - 0s 2ms/step - loss: 0.6884 - accuracy: 0.5502 - val_loss: 0.8039 - val_accuracy: 0.0000e+00\n",
      "Epoch 120/200\n",
      "156/156 [==============================] - 1s 3ms/step - loss: 0.6883 - accuracy: 0.5499 - val_loss: 0.7981 - val_accuracy: 0.0000e+00\n",
      "Epoch 121/200\n",
      "156/156 [==============================] - 1s 3ms/step - loss: 0.6886 - accuracy: 0.5498 - val_loss: 0.7798 - val_accuracy: 0.0000e+00\n",
      "Epoch 122/200\n",
      "156/156 [==============================] - 1s 3ms/step - loss: 0.6884 - accuracy: 0.5498 - val_loss: 0.7945 - val_accuracy: 0.0000e+00\n",
      "Epoch 123/200\n",
      "156/156 [==============================] - 1s 3ms/step - loss: 0.6883 - accuracy: 0.5498 - val_loss: 0.8057 - val_accuracy: 0.0000e+00\n",
      "Epoch 124/200\n",
      "156/156 [==============================] - 1s 3ms/step - loss: 0.6883 - accuracy: 0.5500 - val_loss: 0.7953 - val_accuracy: 0.0000e+00\n",
      "Epoch 125/200\n",
      "156/156 [==============================] - 1s 3ms/step - loss: 0.6884 - accuracy: 0.5502 - val_loss: 0.8061 - val_accuracy: 0.0000e+00\n",
      "Epoch 126/200\n",
      "156/156 [==============================] - 1s 3ms/step - loss: 0.6881 - accuracy: 0.5504 - val_loss: 0.7932 - val_accuracy: 0.0000e+00\n",
      "Epoch 127/200\n",
      "156/156 [==============================] - 0s 3ms/step - loss: 0.6885 - accuracy: 0.5500 - val_loss: 0.8221 - val_accuracy: 0.0000e+00\n",
      "Epoch 128/200\n",
      "156/156 [==============================] - 0s 2ms/step - loss: 0.6883 - accuracy: 0.5501 - val_loss: 0.7998 - val_accuracy: 0.0000e+00\n",
      "Epoch 129/200\n",
      "156/156 [==============================] - 1s 3ms/step - loss: 0.6883 - accuracy: 0.5501 - val_loss: 0.8142 - val_accuracy: 0.0000e+00\n",
      "Epoch 130/200\n",
      "156/156 [==============================] - 0s 3ms/step - loss: 0.6883 - accuracy: 0.5499 - val_loss: 0.8151 - val_accuracy: 0.0000e+00\n",
      "Epoch 131/200\n",
      "156/156 [==============================] - 1s 3ms/step - loss: 0.6883 - accuracy: 0.5502 - val_loss: 0.8176 - val_accuracy: 0.0000e+00\n",
      "Epoch 132/200\n",
      "156/156 [==============================] - 1s 3ms/step - loss: 0.6884 - accuracy: 0.5503 - val_loss: 0.8053 - val_accuracy: 0.0000e+00\n",
      "Epoch 133/200\n",
      "156/156 [==============================] - 0s 3ms/step - loss: 0.6883 - accuracy: 0.5503 - val_loss: 0.8266 - val_accuracy: 0.0000e+00\n",
      "Epoch 134/200\n",
      "156/156 [==============================] - 0s 3ms/step - loss: 0.6883 - accuracy: 0.5501 - val_loss: 0.7751 - val_accuracy: 0.0000e+00\n",
      "Epoch 135/200\n",
      "156/156 [==============================] - 0s 3ms/step - loss: 0.6887 - accuracy: 0.5498 - val_loss: 0.8149 - val_accuracy: 0.0000e+00\n",
      "Epoch 136/200\n",
      "156/156 [==============================] - 0s 3ms/step - loss: 0.6884 - accuracy: 0.5499 - val_loss: 0.7864 - val_accuracy: 0.0000e+00\n",
      "Epoch 137/200\n",
      "156/156 [==============================] - 0s 2ms/step - loss: 0.6884 - accuracy: 0.5501 - val_loss: 0.8121 - val_accuracy: 0.0000e+00\n",
      "Epoch 138/200\n",
      "156/156 [==============================] - 0s 3ms/step - loss: 0.6882 - accuracy: 0.5500 - val_loss: 0.8322 - val_accuracy: 0.0000e+00\n",
      "Epoch 139/200\n",
      "156/156 [==============================] - 0s 3ms/step - loss: 0.6883 - accuracy: 0.5501 - val_loss: 0.8235 - val_accuracy: 0.0000e+00\n",
      "Epoch 140/200\n",
      "156/156 [==============================] - 0s 2ms/step - loss: 0.6883 - accuracy: 0.5502 - val_loss: 0.7966 - val_accuracy: 0.0000e+00\n",
      "Epoch 141/200\n",
      "156/156 [==============================] - 0s 3ms/step - loss: 0.6884 - accuracy: 0.5505 - val_loss: 0.7796 - val_accuracy: 0.0000e+00\n",
      "Epoch 142/200\n",
      "156/156 [==============================] - 0s 3ms/step - loss: 0.6882 - accuracy: 0.5503 - val_loss: 0.8303 - val_accuracy: 0.0000e+00\n",
      "Epoch 143/200\n",
      "156/156 [==============================] - 0s 2ms/step - loss: 0.6883 - accuracy: 0.5503 - val_loss: 0.8007 - val_accuracy: 0.0000e+00\n",
      "Epoch 144/200\n",
      "156/156 [==============================] - 0s 3ms/step - loss: 0.6884 - accuracy: 0.5505 - val_loss: 0.7964 - val_accuracy: 0.0000e+00\n",
      "Epoch 145/200\n",
      "156/156 [==============================] - 0s 3ms/step - loss: 0.6883 - accuracy: 0.5499 - val_loss: 0.8127 - val_accuracy: 0.0000e+00\n",
      "Epoch 146/200\n",
      "156/156 [==============================] - 1s 3ms/step - loss: 0.6883 - accuracy: 0.5499 - val_loss: 0.8097 - val_accuracy: 0.0000e+00\n",
      "Epoch 147/200\n",
      "156/156 [==============================] - 0s 3ms/step - loss: 0.6883 - accuracy: 0.5500 - val_loss: 0.7992 - val_accuracy: 0.0000e+00\n",
      "Epoch 148/200\n",
      "156/156 [==============================] - 0s 2ms/step - loss: 0.6882 - accuracy: 0.5505 - val_loss: 0.8029 - val_accuracy: 0.0000e+00\n",
      "Epoch 149/200\n",
      "156/156 [==============================] - 0s 3ms/step - loss: 0.6882 - accuracy: 0.5501 - val_loss: 0.7838 - val_accuracy: 0.0000e+00\n",
      "Epoch 150/200\n",
      "156/156 [==============================] - 0s 2ms/step - loss: 0.6884 - accuracy: 0.5500 - val_loss: 0.7943 - val_accuracy: 0.0000e+00\n",
      "Epoch 151/200\n",
      "156/156 [==============================] - 0s 3ms/step - loss: 0.6883 - accuracy: 0.5499 - val_loss: 0.8065 - val_accuracy: 0.0000e+00\n",
      "Epoch 152/200\n",
      "156/156 [==============================] - 0s 3ms/step - loss: 0.6883 - accuracy: 0.5501 - val_loss: 0.7983 - val_accuracy: 0.0000e+00\n",
      "Epoch 153/200\n",
      "156/156 [==============================] - 0s 3ms/step - loss: 0.6883 - accuracy: 0.5500 - val_loss: 0.8069 - val_accuracy: 0.0000e+00\n",
      "Epoch 154/200\n",
      "156/156 [==============================] - 0s 3ms/step - loss: 0.6882 - accuracy: 0.5500 - val_loss: 0.7881 - val_accuracy: 0.0000e+00\n",
      "Epoch 155/200\n",
      "156/156 [==============================] - 0s 2ms/step - loss: 0.6884 - accuracy: 0.5503 - val_loss: 0.8164 - val_accuracy: 0.0000e+00\n",
      "Epoch 156/200\n",
      "156/156 [==============================] - 0s 3ms/step - loss: 0.6883 - accuracy: 0.5500 - val_loss: 0.8183 - val_accuracy: 0.0000e+00\n",
      "Epoch 157/200\n",
      "156/156 [==============================] - 1s 3ms/step - loss: 0.6884 - accuracy: 0.5501 - val_loss: 0.8126 - val_accuracy: 0.0000e+00\n",
      "Epoch 158/200\n",
      "156/156 [==============================] - 0s 3ms/step - loss: 0.6884 - accuracy: 0.5499 - val_loss: 0.8083 - val_accuracy: 0.0000e+00\n",
      "Epoch 159/200\n",
      "156/156 [==============================] - 1s 3ms/step - loss: 0.6883 - accuracy: 0.5504 - val_loss: 0.7931 - val_accuracy: 0.0000e+00\n",
      "Epoch 160/200\n",
      "156/156 [==============================] - 0s 3ms/step - loss: 0.6883 - accuracy: 0.5501 - val_loss: 0.7824 - val_accuracy: 0.0000e+00\n",
      "Epoch 161/200\n",
      "156/156 [==============================] - 0s 3ms/step - loss: 0.6884 - accuracy: 0.5503 - val_loss: 0.7849 - val_accuracy: 0.0000e+00\n",
      "Epoch 162/200\n",
      "156/156 [==============================] - 1s 3ms/step - loss: 0.6883 - accuracy: 0.5500 - val_loss: 0.8100 - val_accuracy: 0.0000e+00\n",
      "Epoch 163/200\n",
      "156/156 [==============================] - 1s 3ms/step - loss: 0.6884 - accuracy: 0.5498 - val_loss: 0.8066 - val_accuracy: 0.0000e+00\n",
      "Epoch 164/200\n",
      "156/156 [==============================] - 1s 3ms/step - loss: 0.6886 - accuracy: 0.5499 - val_loss: 0.8027 - val_accuracy: 0.0000e+00\n",
      "Epoch 165/200\n",
      "156/156 [==============================] - 1s 3ms/step - loss: 0.6885 - accuracy: 0.5499 - val_loss: 0.8043 - val_accuracy: 0.0000e+00\n",
      "Epoch 166/200\n",
      "156/156 [==============================] - 0s 3ms/step - loss: 0.6884 - accuracy: 0.5506 - val_loss: 0.8032 - val_accuracy: 0.0000e+00\n",
      "Epoch 167/200\n",
      "156/156 [==============================] - 0s 3ms/step - loss: 0.6883 - accuracy: 0.5501 - val_loss: 0.7921 - val_accuracy: 0.0000e+00\n",
      "Epoch 168/200\n",
      "156/156 [==============================] - 0s 3ms/step - loss: 0.6885 - accuracy: 0.5500 - val_loss: 0.7941 - val_accuracy: 0.0000e+00\n",
      "Epoch 169/200\n",
      "156/156 [==============================] - 1s 4ms/step - loss: 0.6883 - accuracy: 0.5501 - val_loss: 0.7948 - val_accuracy: 0.0000e+00\n",
      "Epoch 170/200\n",
      "156/156 [==============================] - 1s 3ms/step - loss: 0.6882 - accuracy: 0.5497 - val_loss: 0.8269 - val_accuracy: 0.0000e+00\n",
      "Epoch 171/200\n",
      "156/156 [==============================] - 0s 3ms/step - loss: 0.6882 - accuracy: 0.5501 - val_loss: 0.8114 - val_accuracy: 0.0000e+00\n",
      "Epoch 172/200\n",
      "156/156 [==============================] - 1s 3ms/step - loss: 0.6883 - accuracy: 0.5502 - val_loss: 0.7879 - val_accuracy: 0.0000e+00\n",
      "Epoch 173/200\n",
      "156/156 [==============================] - 1s 3ms/step - loss: 0.6883 - accuracy: 0.5500 - val_loss: 0.8340 - val_accuracy: 0.0000e+00\n",
      "Epoch 174/200\n",
      "156/156 [==============================] - 1s 3ms/step - loss: 0.6884 - accuracy: 0.5500 - val_loss: 0.7994 - val_accuracy: 0.0000e+00\n",
      "Epoch 175/200\n",
      "156/156 [==============================] - 1s 3ms/step - loss: 0.6883 - accuracy: 0.5500 - val_loss: 0.8043 - val_accuracy: 0.0000e+00\n",
      "Epoch 176/200\n",
      "156/156 [==============================] - 1s 4ms/step - loss: 0.6883 - accuracy: 0.5499 - val_loss: 0.7906 - val_accuracy: 0.0000e+00\n",
      "Epoch 177/200\n",
      "156/156 [==============================] - 1s 3ms/step - loss: 0.6884 - accuracy: 0.5498 - val_loss: 0.8111 - val_accuracy: 0.0000e+00\n",
      "Epoch 178/200\n",
      "156/156 [==============================] - 1s 4ms/step - loss: 0.6882 - accuracy: 0.5503 - val_loss: 0.8113 - val_accuracy: 0.0000e+00\n",
      "Epoch 179/200\n",
      "156/156 [==============================] - 0s 3ms/step - loss: 0.6883 - accuracy: 0.5501 - val_loss: 0.8036 - val_accuracy: 0.0000e+00\n",
      "Epoch 180/200\n",
      "156/156 [==============================] - 1s 3ms/step - loss: 0.6884 - accuracy: 0.5500 - val_loss: 0.7969 - val_accuracy: 0.0000e+00\n",
      "Epoch 181/200\n",
      "156/156 [==============================] - 1s 3ms/step - loss: 0.6883 - accuracy: 0.5498 - val_loss: 0.8338 - val_accuracy: 0.0000e+00\n",
      "Epoch 182/200\n",
      "156/156 [==============================] - 0s 3ms/step - loss: 0.6884 - accuracy: 0.5502 - val_loss: 0.8238 - val_accuracy: 0.0000e+00\n",
      "Epoch 183/200\n",
      "156/156 [==============================] - 0s 3ms/step - loss: 0.6883 - accuracy: 0.5501 - val_loss: 0.8113 - val_accuracy: 0.0000e+00\n",
      "Epoch 184/200\n",
      "156/156 [==============================] - 0s 2ms/step - loss: 0.6882 - accuracy: 0.5503 - val_loss: 0.8179 - val_accuracy: 0.0000e+00\n",
      "Epoch 185/200\n",
      "156/156 [==============================] - 0s 2ms/step - loss: 0.6883 - accuracy: 0.5502 - val_loss: 0.8245 - val_accuracy: 0.0000e+00\n",
      "Epoch 186/200\n",
      "156/156 [==============================] - 1s 3ms/step - loss: 0.6883 - accuracy: 0.5500 - val_loss: 0.8075 - val_accuracy: 0.0000e+00\n",
      "Epoch 187/200\n",
      "156/156 [==============================] - 0s 3ms/step - loss: 0.6883 - accuracy: 0.5498 - val_loss: 0.8097 - val_accuracy: 0.0000e+00\n",
      "Epoch 188/200\n",
      "156/156 [==============================] - 0s 3ms/step - loss: 0.6883 - accuracy: 0.5499 - val_loss: 0.8031 - val_accuracy: 0.0000e+00\n",
      "Epoch 189/200\n",
      "156/156 [==============================] - 0s 3ms/step - loss: 0.6884 - accuracy: 0.5500 - val_loss: 0.8186 - val_accuracy: 0.0000e+00\n",
      "Epoch 190/200\n",
      "156/156 [==============================] - 0s 2ms/step - loss: 0.6883 - accuracy: 0.5500 - val_loss: 0.7888 - val_accuracy: 0.0000e+00\n",
      "Epoch 191/200\n",
      "156/156 [==============================] - 1s 3ms/step - loss: 0.6883 - accuracy: 0.5505 - val_loss: 0.7959 - val_accuracy: 0.0000e+00\n",
      "Epoch 192/200\n",
      "156/156 [==============================] - 0s 3ms/step - loss: 0.6885 - accuracy: 0.5497 - val_loss: 0.7812 - val_accuracy: 0.0000e+00\n",
      "Epoch 193/200\n",
      "156/156 [==============================] - 0s 3ms/step - loss: 0.6883 - accuracy: 0.5502 - val_loss: 0.8217 - val_accuracy: 0.0000e+00\n",
      "Epoch 194/200\n",
      "156/156 [==============================] - 0s 3ms/step - loss: 0.6883 - accuracy: 0.5499 - val_loss: 0.8235 - val_accuracy: 0.0000e+00\n",
      "Epoch 195/200\n",
      "156/156 [==============================] - 0s 3ms/step - loss: 0.6881 - accuracy: 0.5502 - val_loss: 0.7827 - val_accuracy: 0.0000e+00\n",
      "Epoch 196/200\n",
      "156/156 [==============================] - 1s 3ms/step - loss: 0.6884 - accuracy: 0.5499 - val_loss: 0.8018 - val_accuracy: 0.0000e+00\n",
      "Epoch 197/200\n",
      "156/156 [==============================] - 0s 2ms/step - loss: 0.6884 - accuracy: 0.5499 - val_loss: 0.7954 - val_accuracy: 0.0000e+00\n",
      "Epoch 198/200\n",
      "156/156 [==============================] - 0s 3ms/step - loss: 0.6883 - accuracy: 0.5501 - val_loss: 0.8132 - val_accuracy: 0.0000e+00\n",
      "Epoch 199/200\n",
      "156/156 [==============================] - 0s 3ms/step - loss: 0.6884 - accuracy: 0.5499 - val_loss: 0.8082 - val_accuracy: 0.0000e+00\n",
      "Epoch 200/200\n",
      "156/156 [==============================] - 0s 2ms/step - loss: 0.6884 - accuracy: 0.5503 - val_loss: 0.7792 - val_accuracy: 0.0000e+00\n"
     ]
    }
   ],
   "source": [
    "configs_dict = {\n",
    "    \"learning_rate\": LEARNING_RATE,\n",
    "    \"algorithm\": \"LogReg\",\n",
    "    \"configuration\": \"1-tokens\",\n",
    "    \"optimizer\": \"adam\",\n",
    "    \"loss\": \"binary_crossentropy\",\n",
    "    \"epochs\": NUM_EPOCHS,\n",
    "    \"batch_size\": 64,\n",
    "    \"vectorizer\": \"multi_hot\",\n",
    "    \"dataset\": \"TOKENIZED_SET_V1\"\n",
    "}\n",
    "run = wandb.init(project=wandb_project_name, reinit=True, config=configs_dict)\n",
    "\n",
    "\n",
    "history = model.fit(train_dataset, epochs=NUM_EPOCHS,\n",
    "                    validation_data=test_dataset,\n",
    "                    validation_steps=VAL_STEPS_PER_EPOCH, steps_per_epoch=STEPS_PER_EPOCH,callbacks= [WandbCallback()])#[tensorboard_callback])\n",
    "run.finish()"
   ]
  },
  {
   "cell_type": "code",
   "execution_count": 36,
   "metadata": {},
   "outputs": [
    {
     "name": "stdout",
     "output_type": "stream",
     "text": [
      "15/15 [==============================] - 0s 1ms/step - loss: 0.7792 - accuracy: 0.0000e+00\n",
      "Test Loss: 0.7791679501533508\n",
      "Test Accuracy: 0.0\n"
     ]
    }
   ],
   "source": [
    "test_loss, test_acc = model.evaluate(test_dataset)\n",
    "\n",
    "print(\"Test Loss:\", test_loss)\n",
    "print(\"Test Accuracy:\", test_acc)"
   ]
  },
  {
   "cell_type": "code",
   "execution_count": 37,
   "metadata": {},
   "outputs": [
    {
     "data": {
      "text/plain": [
       "(0.0, 0.856545701622963)"
      ]
     },
     "execution_count": 37,
     "metadata": {},
     "output_type": "execute_result"
    },
    {
     "data": {
      "image/png": "[encoded data removed]",
      "text/plain": [
       "<Figure size 1600x800 with 2 Axes>"
      ]
     },
     "metadata": {},
     "output_type": "display_data"
    }
   ],
   "source": [
    "plt.figure(figsize=(16,8))\n",
    "plt.subplot(1,2,1)\n",
    "plot_graphs(history, \"accuracy\")\n",
    "plt.ylim(None, 1)\n",
    "plt.subplot(1,2,2)\n",
    "plot_graphs(history, \"loss\")\n",
    "plt.ylim(0, None)"
   ]
  },
  {
   "cell_type": "code",
   "execution_count": 38,
   "metadata": {},
   "outputs": [
    {
     "name": "stdout",
     "output_type": "stream",
     "text": [
      "1/1 [==============================] - 0s 89ms/step\n",
      "[-0.1652383]\n"
     ]
    }
   ],
   "source": [
    "# predict on a sample text without padding\n",
    "sample_text = (\"g ( x ) = x ^ 3\")\n",
    "predictions = model.predict(np.array([sample_text]))\n",
    "print(predictions[0])"
   ]
  },
  {
   "attachments": {},
   "cell_type": "markdown",
   "metadata": {},
   "source": [
    "##### Experiment 3:"
   ]
  },
  {
   "cell_type": "code",
   "execution_count": 39,
   "metadata": {},
   "outputs": [
    {
     "name": "stdout",
     "output_type": "stream",
     "text": [
      "122\n",
      "WARNING:tensorflow:5 out of the last 5 calls to <function Model.make_predict_function.<locals>.predict_function at 0x7f5468706050> triggered tf.function retracing. Tracing is expensive and the excessive number of tracings could be due to (1) creating @tf.function repeatedly in a loop, (2) passing tensors with different shapes, (3) passing Python objects instead of tensors. For (1), please define your @tf.function outside of the loop. For (2), @tf.function has reduce_retracing=True option that can avoid unnecessary retracing. For (3), please refer to https://www.tensorflow.org/guide/function#controlling_retracing and https://www.tensorflow.org/api_docs/python/tf/function for  more details.\n"
     ]
    },
    {
     "name": "stderr",
     "output_type": "stream",
     "text": [
      "WARNING:tensorflow:5 out of the last 5 calls to <function Model.make_predict_function.<locals>.predict_function at 0x7f5468706050> triggered tf.function retracing. Tracing is expensive and the excessive number of tracings could be due to (1) creating @tf.function repeatedly in a loop, (2) passing tensors with different shapes, (3) passing Python objects instead of tensors. For (1), please define your @tf.function outside of the loop. For (2), @tf.function has reduce_retracing=True option that can avoid unnecessary retracing. For (3), please refer to https://www.tensorflow.org/guide/function#controlling_retracing and https://www.tensorflow.org/api_docs/python/tf/function for  more details.\n"
     ]
    },
    {
     "name": "stdout",
     "output_type": "stream",
     "text": [
      "1/1 [==============================] - 0s 68ms/step\n",
      "[-0.01334807]\n"
     ]
    }
   ],
   "source": [
    "model = create_model(encoder_count)\n",
    "# predict on a sample formula using untrained model\n",
    "sample_text = (\"g ( x ) = x ^ 3\")\n",
    "predictions = model.predict(np.array([sample_text]))\n",
    "print(predictions[0])"
   ]
  },
  {
   "cell_type": "code",
   "execution_count": 40,
   "metadata": {},
   "outputs": [],
   "source": [
    "#model.compile(optimizer='sgd',loss='sparse_categorical_crossentropy',metrics=['accuracy'])\n",
    "LEARNING_RATE = 1e-2\n",
    "NUM_EPOCHS = 200\n",
    "model.compile(loss=tf.keras.losses.BinaryCrossentropy(from_logits=True),\n",
    "              optimizer=tf.keras.optimizers.Adam(LEARNING_RATE),\n",
    "              metrics=[\"accuracy\"])"
   ]
  },
  {
   "cell_type": "code",
   "execution_count": 41,
   "metadata": {},
   "outputs": [
    {
     "name": "stdout",
     "output_type": "stream",
     "text": [
      "Epoch 1/200\n",
      "137/156 [=========================>....] - ETA: 0s - loss: 0.6724 - accuracy: 0.5512INFO:tensorflow:Assets written to: /home/paul_d/Sources/sem_math_repo/classification_formulas/wandb/run-20230306_111144-nxgccegc/files/model-best/assets\n"
     ]
    },
    {
     "name": "stderr",
     "output_type": "stream",
     "text": [
      "INFO:tensorflow:Assets written to: /home/paul_d/Sources/sem_math_repo/classification_formulas/wandb/run-20230306_111144-nxgccegc/files/model-best/assets\n"
     ]
    },
    {
     "name": "stdout",
     "output_type": "stream",
     "text": [
      "156/156 [==============================] - 2s 12ms/step - loss: 0.6735 - accuracy: 0.5502 - val_loss: 0.7234 - val_accuracy: 0.0000e+00\n",
      "Epoch 2/200\n",
      "156/156 [==============================] - 0s 3ms/step - loss: 0.6695 - accuracy: 0.5496 - val_loss: 0.7271 - val_accuracy: 0.0000e+00\n",
      "Epoch 3/200\n",
      "143/156 [==========================>...] - ETA: 0s - loss: 0.6691 - accuracy: 0.5479INFO:tensorflow:Assets written to: /home/paul_d/Sources/sem_math_repo/classification_formulas/wandb/run-20230306_111144-nxgccegc/files/model-best/assets\n"
     ]
    },
    {
     "name": "stderr",
     "output_type": "stream",
     "text": [
      "INFO:tensorflow:Assets written to: /home/paul_d/Sources/sem_math_repo/classification_formulas/wandb/run-20230306_111144-nxgccegc/files/model-best/assets\n"
     ]
    },
    {
     "name": "stdout",
     "output_type": "stream",
     "text": [
      "156/156 [==============================] - 1s 9ms/step - loss: 0.6686 - accuracy: 0.5497 - val_loss: 0.6966 - val_accuracy: 0.0000e+00\n",
      "Epoch 4/200\n",
      "154/156 [============================>.] - ETA: 0s - loss: 0.6685 - accuracy: 0.5500INFO:tensorflow:Assets written to: /home/paul_d/Sources/sem_math_repo/classification_formulas/wandb/run-20230306_111144-nxgccegc/files/model-best/assets\n"
     ]
    },
    {
     "name": "stderr",
     "output_type": "stream",
     "text": [
      "INFO:tensorflow:Assets written to: /home/paul_d/Sources/sem_math_repo/classification_formulas/wandb/run-20230306_111144-nxgccegc/files/model-best/assets\n"
     ]
    },
    {
     "name": "stdout",
     "output_type": "stream",
     "text": [
      "156/156 [==============================] - 1s 9ms/step - loss: 0.6685 - accuracy: 0.5502 - val_loss: 0.6949 - val_accuracy: 0.0000e+00\n",
      "Epoch 5/200\n",
      "148/156 [===========================>..] - ETA: 0s - loss: 0.6687 - accuracy: 0.5511INFO:tensorflow:Assets written to: /home/paul_d/Sources/sem_math_repo/classification_formulas/wandb/run-20230306_111144-nxgccegc/files/model-best/assets\n"
     ]
    },
    {
     "name": "stderr",
     "output_type": "stream",
     "text": [
      "INFO:tensorflow:Assets written to: /home/paul_d/Sources/sem_math_repo/classification_formulas/wandb/run-20230306_111144-nxgccegc/files/model-best/assets\n"
     ]
    },
    {
     "name": "stdout",
     "output_type": "stream",
     "text": [
      "156/156 [==============================] - 1s 9ms/step - loss: 0.6695 - accuracy: 0.5497 - val_loss: 0.6896 - val_accuracy: 0.0000e+00\n",
      "Epoch 6/200\n",
      "156/156 [==============================] - 0s 3ms/step - loss: 0.6689 - accuracy: 0.5505 - val_loss: 0.7017 - val_accuracy: 0.0000e+00\n",
      "Epoch 7/200\n",
      "140/156 [=========================>....] - ETA: 0s - loss: 0.6684 - accuracy: 0.5518INFO:tensorflow:Assets written to: /home/paul_d/Sources/sem_math_repo/classification_formulas/wandb/run-20230306_111144-nxgccegc/files/model-best/assets\n"
     ]
    },
    {
     "name": "stderr",
     "output_type": "stream",
     "text": [
      "INFO:tensorflow:Assets written to: /home/paul_d/Sources/sem_math_repo/classification_formulas/wandb/run-20230306_111144-nxgccegc/files/model-best/assets\n"
     ]
    },
    {
     "name": "stdout",
     "output_type": "stream",
     "text": [
      "156/156 [==============================] - 1s 9ms/step - loss: 0.6690 - accuracy: 0.5498 - val_loss: 0.6790 - val_accuracy: 0.0000e+00\n",
      "Epoch 8/200\n",
      "154/156 [============================>.] - ETA: 0s - loss: 0.6677 - accuracy: 0.5495INFO:tensorflow:Assets written to: /home/paul_d/Sources/sem_math_repo/classification_formulas/wandb/run-20230306_111144-nxgccegc/files/model-best/assets\n"
     ]
    },
    {
     "name": "stderr",
     "output_type": "stream",
     "text": [
      "INFO:tensorflow:Assets written to: /home/paul_d/Sources/sem_math_repo/classification_formulas/wandb/run-20230306_111144-nxgccegc/files/model-best/assets\n"
     ]
    },
    {
     "name": "stdout",
     "output_type": "stream",
     "text": [
      "156/156 [==============================] - 1s 8ms/step - loss: 0.6676 - accuracy: 0.5499 - val_loss: 0.6606 - val_accuracy: 0.0000e+00\n",
      "Epoch 9/200\n",
      "156/156 [==============================] - 0s 3ms/step - loss: 0.6687 - accuracy: 0.5500 - val_loss: 0.7235 - val_accuracy: 0.0000e+00\n",
      "Epoch 10/200\n",
      "156/156 [==============================] - 1s 3ms/step - loss: 0.6687 - accuracy: 0.5501 - val_loss: 0.6976 - val_accuracy: 0.0000e+00\n",
      "Epoch 11/200\n",
      "156/156 [==============================] - 1s 3ms/step - loss: 0.6675 - accuracy: 0.5501 - val_loss: 0.7121 - val_accuracy: 0.0000e+00\n",
      "Epoch 12/200\n",
      "156/156 [==============================] - 0s 3ms/step - loss: 0.6676 - accuracy: 0.5501 - val_loss: 0.7440 - val_accuracy: 0.0000e+00\n",
      "Epoch 13/200\n",
      "156/156 [==============================] - 0s 3ms/step - loss: 0.6680 - accuracy: 0.5501 - val_loss: 0.7125 - val_accuracy: 0.0000e+00\n",
      "Epoch 14/200\n",
      "156/156 [==============================] - 1s 3ms/step - loss: 0.6680 - accuracy: 0.5498 - val_loss: 0.7373 - val_accuracy: 0.0000e+00\n",
      "Epoch 15/200\n",
      "156/156 [==============================] - 0s 3ms/step - loss: 0.6692 - accuracy: 0.5502 - val_loss: 0.7195 - val_accuracy: 0.0000e+00\n",
      "Epoch 16/200\n",
      "156/156 [==============================] - 0s 3ms/step - loss: 0.6696 - accuracy: 0.5497 - val_loss: 0.7101 - val_accuracy: 0.0000e+00\n",
      "Epoch 17/200\n",
      "156/156 [==============================] - 0s 3ms/step - loss: 0.6692 - accuracy: 0.5501 - val_loss: 0.6909 - val_accuracy: 0.0000e+00\n",
      "Epoch 18/200\n",
      "156/156 [==============================] - 0s 3ms/step - loss: 0.6679 - accuracy: 0.5501 - val_loss: 0.6640 - val_accuracy: 0.0000e+00\n",
      "Epoch 19/200\n",
      "151/156 [============================>.] - ETA: 0s - loss: 0.6690 - accuracy: 0.5490INFO:tensorflow:Assets written to: /home/paul_d/Sources/sem_math_repo/classification_formulas/wandb/run-20230306_111144-nxgccegc/files/model-best/assets\n"
     ]
    },
    {
     "name": "stderr",
     "output_type": "stream",
     "text": [
      "INFO:tensorflow:Assets written to: /home/paul_d/Sources/sem_math_repo/classification_formulas/wandb/run-20230306_111144-nxgccegc/files/model-best/assets\n"
     ]
    },
    {
     "name": "stdout",
     "output_type": "stream",
     "text": [
      "156/156 [==============================] - 2s 11ms/step - loss: 0.6684 - accuracy: 0.5497 - val_loss: 0.6525 - val_accuracy: 0.0000e+00\n",
      "Epoch 20/200\n",
      "156/156 [==============================] - 0s 3ms/step - loss: 0.6689 - accuracy: 0.5496 - val_loss: 0.7173 - val_accuracy: 0.0000e+00\n",
      "Epoch 21/200\n",
      "156/156 [==============================] - 0s 3ms/step - loss: 0.6670 - accuracy: 0.5503 - val_loss: 0.6989 - val_accuracy: 0.0000e+00\n",
      "Epoch 22/200\n",
      "156/156 [==============================] - 0s 3ms/step - loss: 0.6691 - accuracy: 0.5500 - val_loss: 0.6827 - val_accuracy: 0.0000e+00\n",
      "Epoch 23/200\n",
      "156/156 [==============================] - 0s 3ms/step - loss: 0.6681 - accuracy: 0.5503 - val_loss: 0.7094 - val_accuracy: 0.0000e+00\n",
      "Epoch 24/200\n",
      "156/156 [==============================] - 0s 3ms/step - loss: 0.6689 - accuracy: 0.5500 - val_loss: 0.7060 - val_accuracy: 0.0000e+00\n",
      "Epoch 25/200\n",
      "156/156 [==============================] - 0s 3ms/step - loss: 0.6686 - accuracy: 0.5502 - val_loss: 0.6742 - val_accuracy: 0.0000e+00\n",
      "Epoch 26/200\n",
      "156/156 [==============================] - 1s 3ms/step - loss: 0.6684 - accuracy: 0.5499 - val_loss: 0.7148 - val_accuracy: 0.0000e+00\n",
      "Epoch 27/200\n",
      "156/156 [==============================] - 0s 3ms/step - loss: 0.6682 - accuracy: 0.5499 - val_loss: 0.6981 - val_accuracy: 0.0000e+00\n",
      "Epoch 28/200\n",
      "156/156 [==============================] - 0s 3ms/step - loss: 0.6682 - accuracy: 0.5499 - val_loss: 0.6930 - val_accuracy: 0.0000e+00\n",
      "Epoch 29/200\n",
      "156/156 [==============================] - 0s 3ms/step - loss: 0.6686 - accuracy: 0.5502 - val_loss: 0.6866 - val_accuracy: 0.0000e+00\n",
      "Epoch 30/200\n",
      "156/156 [==============================] - 0s 3ms/step - loss: 0.6688 - accuracy: 0.5503 - val_loss: 0.6947 - val_accuracy: 0.0000e+00\n",
      "Epoch 31/200\n",
      "156/156 [==============================] - 0s 3ms/step - loss: 0.6679 - accuracy: 0.5499 - val_loss: 0.6812 - val_accuracy: 0.0000e+00\n",
      "Epoch 32/200\n",
      "156/156 [==============================] - 0s 3ms/step - loss: 0.6678 - accuracy: 0.5503 - val_loss: 0.6775 - val_accuracy: 0.0000e+00\n",
      "Epoch 33/200\n",
      "156/156 [==============================] - 1s 3ms/step - loss: 0.6674 - accuracy: 0.5501 - val_loss: 0.7010 - val_accuracy: 0.0000e+00\n",
      "Epoch 34/200\n",
      "156/156 [==============================] - 1s 3ms/step - loss: 0.6675 - accuracy: 0.5500 - val_loss: 0.6959 - val_accuracy: 0.0000e+00\n",
      "Epoch 35/200\n",
      "156/156 [==============================] - 0s 3ms/step - loss: 0.6680 - accuracy: 0.5501 - val_loss: 0.6801 - val_accuracy: 0.0000e+00\n",
      "Epoch 36/200\n",
      "156/156 [==============================] - 0s 3ms/step - loss: 0.6697 - accuracy: 0.5497 - val_loss: 0.6887 - val_accuracy: 0.0000e+00\n",
      "Epoch 37/200\n",
      "156/156 [==============================] - 0s 3ms/step - loss: 0.6677 - accuracy: 0.5499 - val_loss: 0.7059 - val_accuracy: 0.0000e+00\n",
      "Epoch 38/200\n",
      "156/156 [==============================] - 0s 3ms/step - loss: 0.6683 - accuracy: 0.5503 - val_loss: 0.6939 - val_accuracy: 0.0000e+00\n",
      "Epoch 39/200\n",
      "156/156 [==============================] - 0s 3ms/step - loss: 0.6685 - accuracy: 0.5503 - val_loss: 0.7007 - val_accuracy: 0.0000e+00\n",
      "Epoch 40/200\n",
      "156/156 [==============================] - 1s 3ms/step - loss: 0.6682 - accuracy: 0.5499 - val_loss: 0.6891 - val_accuracy: 0.0000e+00\n",
      "Epoch 41/200\n",
      "156/156 [==============================] - 0s 2ms/step - loss: 0.6684 - accuracy: 0.5502 - val_loss: 0.7194 - val_accuracy: 0.0000e+00\n",
      "Epoch 42/200\n",
      "156/156 [==============================] - 0s 3ms/step - loss: 0.6688 - accuracy: 0.5505 - val_loss: 0.6906 - val_accuracy: 0.0000e+00\n",
      "Epoch 43/200\n",
      "156/156 [==============================] - 0s 3ms/step - loss: 0.6682 - accuracy: 0.5498 - val_loss: 0.7021 - val_accuracy: 0.0000e+00\n",
      "Epoch 44/200\n",
      "156/156 [==============================] - 0s 3ms/step - loss: 0.6687 - accuracy: 0.5501 - val_loss: 0.6816 - val_accuracy: 0.0000e+00\n",
      "Epoch 45/200\n",
      "156/156 [==============================] - 0s 3ms/step - loss: 0.6697 - accuracy: 0.5501 - val_loss: 0.6798 - val_accuracy: 0.0000e+00\n",
      "Epoch 46/200\n",
      "156/156 [==============================] - 0s 3ms/step - loss: 0.6680 - accuracy: 0.5501 - val_loss: 0.6832 - val_accuracy: 0.0000e+00\n",
      "Epoch 47/200\n",
      "156/156 [==============================] - 1s 3ms/step - loss: 0.6686 - accuracy: 0.5500 - val_loss: 0.6786 - val_accuracy: 0.0000e+00\n",
      "Epoch 48/200\n",
      "156/156 [==============================] - 0s 3ms/step - loss: 0.6689 - accuracy: 0.5500 - val_loss: 0.6800 - val_accuracy: 0.0000e+00\n",
      "Epoch 49/200\n",
      "156/156 [==============================] - 0s 3ms/step - loss: 0.6692 - accuracy: 0.5502 - val_loss: 0.6785 - val_accuracy: 0.0000e+00\n",
      "Epoch 50/200\n",
      "156/156 [==============================] - 0s 3ms/step - loss: 0.6678 - accuracy: 0.5506 - val_loss: 0.6806 - val_accuracy: 0.0000e+00\n",
      "Epoch 51/200\n",
      "156/156 [==============================] - 0s 2ms/step - loss: 0.6685 - accuracy: 0.5501 - val_loss: 0.6668 - val_accuracy: 0.0000e+00\n",
      "Epoch 52/200\n",
      "156/156 [==============================] - 0s 3ms/step - loss: 0.6676 - accuracy: 0.5502 - val_loss: 0.6718 - val_accuracy: 0.0000e+00\n",
      "Epoch 53/200\n",
      "156/156 [==============================] - 0s 3ms/step - loss: 0.6691 - accuracy: 0.5500 - val_loss: 0.6658 - val_accuracy: 0.0000e+00\n",
      "Epoch 54/200\n",
      "156/156 [==============================] - 0s 3ms/step - loss: 0.6675 - accuracy: 0.5500 - val_loss: 0.6969 - val_accuracy: 0.0000e+00\n",
      "Epoch 55/200\n",
      "156/156 [==============================] - ETA: 0s - loss: 0.6685 - accuracy: 0.5504INFO:tensorflow:Assets written to: /home/paul_d/Sources/sem_math_repo/classification_formulas/wandb/run-20230306_111144-nxgccegc/files/model-best/assets\n"
     ]
    },
    {
     "name": "stderr",
     "output_type": "stream",
     "text": [
      "INFO:tensorflow:Assets written to: /home/paul_d/Sources/sem_math_repo/classification_formulas/wandb/run-20230306_111144-nxgccegc/files/model-best/assets\n"
     ]
    },
    {
     "name": "stdout",
     "output_type": "stream",
     "text": [
      "156/156 [==============================] - 1s 9ms/step - loss: 0.6685 - accuracy: 0.5504 - val_loss: 0.6461 - val_accuracy: 0.0000e+00\n",
      "Epoch 56/200\n",
      "156/156 [==============================] - 1s 3ms/step - loss: 0.6672 - accuracy: 0.5503 - val_loss: 0.7051 - val_accuracy: 0.0000e+00\n",
      "Epoch 57/200\n",
      "156/156 [==============================] - 1s 3ms/step - loss: 0.6687 - accuracy: 0.5495 - val_loss: 0.7125 - val_accuracy: 0.0000e+00\n",
      "Epoch 58/200\n",
      "156/156 [==============================] - 1s 3ms/step - loss: 0.6694 - accuracy: 0.5501 - val_loss: 0.6777 - val_accuracy: 0.0000e+00\n",
      "Epoch 59/200\n",
      "156/156 [==============================] - 1s 3ms/step - loss: 0.6683 - accuracy: 0.5503 - val_loss: 0.6810 - val_accuracy: 0.0000e+00\n",
      "Epoch 60/200\n",
      "156/156 [==============================] - 1s 3ms/step - loss: 0.6680 - accuracy: 0.5497 - val_loss: 0.6854 - val_accuracy: 0.0000e+00\n",
      "Epoch 61/200\n",
      "156/156 [==============================] - 0s 3ms/step - loss: 0.6686 - accuracy: 0.5500 - val_loss: 0.6708 - val_accuracy: 0.0000e+00\n",
      "Epoch 62/200\n",
      "156/156 [==============================] - 0s 3ms/step - loss: 0.6692 - accuracy: 0.5500 - val_loss: 0.6610 - val_accuracy: 0.0000e+00\n",
      "Epoch 63/200\n",
      "156/156 [==============================] - 0s 3ms/step - loss: 0.6688 - accuracy: 0.5499 - val_loss: 0.6619 - val_accuracy: 0.0000e+00\n",
      "Epoch 64/200\n",
      "156/156 [==============================] - 0s 3ms/step - loss: 0.6682 - accuracy: 0.5500 - val_loss: 0.7139 - val_accuracy: 0.0000e+00\n",
      "Epoch 65/200\n",
      "156/156 [==============================] - 1s 3ms/step - loss: 0.6687 - accuracy: 0.5502 - val_loss: 0.7065 - val_accuracy: 0.0000e+00\n",
      "Epoch 66/200\n",
      "156/156 [==============================] - 0s 3ms/step - loss: 0.6678 - accuracy: 0.5502 - val_loss: 0.6687 - val_accuracy: 0.0000e+00\n",
      "Epoch 67/200\n",
      "156/156 [==============================] - 0s 3ms/step - loss: 0.6685 - accuracy: 0.5497 - val_loss: 0.7005 - val_accuracy: 0.0000e+00\n",
      "Epoch 68/200\n",
      "156/156 [==============================] - 0s 3ms/step - loss: 0.6676 - accuracy: 0.5498 - val_loss: 0.7051 - val_accuracy: 0.0000e+00\n",
      "Epoch 69/200\n",
      "156/156 [==============================] - 0s 2ms/step - loss: 0.6691 - accuracy: 0.5503 - val_loss: 0.6793 - val_accuracy: 0.0000e+00\n",
      "Epoch 70/200\n",
      "156/156 [==============================] - 0s 3ms/step - loss: 0.6693 - accuracy: 0.5502 - val_loss: 0.6690 - val_accuracy: 0.0000e+00\n",
      "Epoch 71/200\n",
      "156/156 [==============================] - 0s 3ms/step - loss: 0.6684 - accuracy: 0.5501 - val_loss: 0.6973 - val_accuracy: 0.0000e+00\n",
      "Epoch 72/200\n",
      "156/156 [==============================] - 0s 3ms/step - loss: 0.6682 - accuracy: 0.5503 - val_loss: 0.7171 - val_accuracy: 0.0000e+00\n",
      "Epoch 73/200\n",
      "156/156 [==============================] - 1s 3ms/step - loss: 0.6679 - accuracy: 0.5500 - val_loss: 0.6835 - val_accuracy: 0.0000e+00\n",
      "Epoch 74/200\n",
      "156/156 [==============================] - 0s 3ms/step - loss: 0.6685 - accuracy: 0.5501 - val_loss: 0.6469 - val_accuracy: 0.0000e+00\n",
      "Epoch 75/200\n",
      "156/156 [==============================] - 0s 3ms/step - loss: 0.6682 - accuracy: 0.5500 - val_loss: 0.7147 - val_accuracy: 0.0000e+00\n",
      "Epoch 76/200\n",
      "156/156 [==============================] - 0s 3ms/step - loss: 0.6680 - accuracy: 0.5501 - val_loss: 0.7181 - val_accuracy: 0.0000e+00\n",
      "Epoch 77/200\n",
      "156/156 [==============================] - 0s 3ms/step - loss: 0.6668 - accuracy: 0.5501 - val_loss: 0.7090 - val_accuracy: 0.0000e+00\n",
      "Epoch 78/200\n",
      "156/156 [==============================] - 1s 3ms/step - loss: 0.6677 - accuracy: 0.5500 - val_loss: 0.6856 - val_accuracy: 0.0000e+00\n",
      "Epoch 79/200\n",
      "156/156 [==============================] - 1s 3ms/step - loss: 0.6681 - accuracy: 0.5501 - val_loss: 0.6734 - val_accuracy: 0.0000e+00\n",
      "Epoch 80/200\n",
      "156/156 [==============================] - 0s 3ms/step - loss: 0.6680 - accuracy: 0.5502 - val_loss: 0.6946 - val_accuracy: 0.0000e+00\n",
      "Epoch 81/200\n",
      "156/156 [==============================] - 0s 3ms/step - loss: 0.6688 - accuracy: 0.5503 - val_loss: 0.6791 - val_accuracy: 0.0000e+00\n",
      "Epoch 82/200\n",
      "156/156 [==============================] - 0s 3ms/step - loss: 0.6686 - accuracy: 0.5500 - val_loss: 0.6779 - val_accuracy: 0.0000e+00\n",
      "Epoch 83/200\n",
      "156/156 [==============================] - 0s 2ms/step - loss: 0.6675 - accuracy: 0.5503 - val_loss: 0.6763 - val_accuracy: 0.0000e+00\n",
      "Epoch 84/200\n",
      "156/156 [==============================] - 0s 3ms/step - loss: 0.6679 - accuracy: 0.5499 - val_loss: 0.6862 - val_accuracy: 0.0000e+00\n",
      "Epoch 85/200\n",
      "156/156 [==============================] - 0s 2ms/step - loss: 0.6687 - accuracy: 0.5500 - val_loss: 0.6890 - val_accuracy: 0.0000e+00\n",
      "Epoch 86/200\n",
      "156/156 [==============================] - 1s 3ms/step - loss: 0.6683 - accuracy: 0.5501 - val_loss: 0.6607 - val_accuracy: 0.0000e+00\n",
      "Epoch 87/200\n",
      "156/156 [==============================] - 0s 2ms/step - loss: 0.6695 - accuracy: 0.5497 - val_loss: 0.6496 - val_accuracy: 0.0000e+00\n",
      "Epoch 88/200\n",
      "156/156 [==============================] - 0s 3ms/step - loss: 0.6685 - accuracy: 0.5503 - val_loss: 0.7111 - val_accuracy: 0.0000e+00\n",
      "Epoch 89/200\n",
      "156/156 [==============================] - 0s 3ms/step - loss: 0.6684 - accuracy: 0.5500 - val_loss: 0.7005 - val_accuracy: 0.0000e+00\n",
      "Epoch 90/200\n",
      "156/156 [==============================] - 0s 2ms/step - loss: 0.6678 - accuracy: 0.5502 - val_loss: 0.6492 - val_accuracy: 0.0000e+00\n",
      "Epoch 91/200\n",
      "156/156 [==============================] - 0s 2ms/step - loss: 0.6689 - accuracy: 0.5500 - val_loss: 0.6717 - val_accuracy: 0.0000e+00\n",
      "Epoch 92/200\n",
      "156/156 [==============================] - 0s 3ms/step - loss: 0.6691 - accuracy: 0.5501 - val_loss: 0.7006 - val_accuracy: 0.0000e+00\n",
      "Epoch 93/200\n",
      "156/156 [==============================] - 0s 2ms/step - loss: 0.6673 - accuracy: 0.5500 - val_loss: 0.7049 - val_accuracy: 0.0000e+00\n",
      "Epoch 94/200\n",
      "156/156 [==============================] - 0s 2ms/step - loss: 0.6682 - accuracy: 0.5498 - val_loss: 0.6850 - val_accuracy: 0.0000e+00\n",
      "Epoch 95/200\n",
      "156/156 [==============================] - 0s 2ms/step - loss: 0.6686 - accuracy: 0.5501 - val_loss: 0.6889 - val_accuracy: 0.0000e+00\n",
      "Epoch 96/200\n",
      "156/156 [==============================] - 0s 2ms/step - loss: 0.6685 - accuracy: 0.5502 - val_loss: 0.6813 - val_accuracy: 0.0000e+00\n",
      "Epoch 97/200\n",
      "156/156 [==============================] - 0s 3ms/step - loss: 0.6679 - accuracy: 0.5503 - val_loss: 0.7065 - val_accuracy: 0.0000e+00\n",
      "Epoch 98/200\n",
      "156/156 [==============================] - 0s 2ms/step - loss: 0.6687 - accuracy: 0.5500 - val_loss: 0.6988 - val_accuracy: 0.0000e+00\n",
      "Epoch 99/200\n",
      "156/156 [==============================] - 1s 3ms/step - loss: 0.6680 - accuracy: 0.5502 - val_loss: 0.6984 - val_accuracy: 0.0000e+00\n",
      "Epoch 100/200\n",
      "156/156 [==============================] - 0s 3ms/step - loss: 0.6689 - accuracy: 0.5499 - val_loss: 0.6901 - val_accuracy: 0.0000e+00\n",
      "Epoch 101/200\n",
      "156/156 [==============================] - 0s 3ms/step - loss: 0.6689 - accuracy: 0.5501 - val_loss: 0.6660 - val_accuracy: 0.0000e+00\n",
      "Epoch 102/200\n",
      "156/156 [==============================] - 0s 3ms/step - loss: 0.6674 - accuracy: 0.5501 - val_loss: 0.6684 - val_accuracy: 0.0000e+00\n",
      "Epoch 103/200\n",
      "156/156 [==============================] - 0s 3ms/step - loss: 0.6682 - accuracy: 0.5502 - val_loss: 0.6570 - val_accuracy: 0.0000e+00\n",
      "Epoch 104/200\n",
      "156/156 [==============================] - 0s 3ms/step - loss: 0.6680 - accuracy: 0.5498 - val_loss: 0.6486 - val_accuracy: 0.0000e+00\n",
      "Epoch 105/200\n",
      "156/156 [==============================] - 0s 3ms/step - loss: 0.6684 - accuracy: 0.5497 - val_loss: 0.6658 - val_accuracy: 0.0000e+00\n",
      "Epoch 106/200\n",
      "156/156 [==============================] - 1s 3ms/step - loss: 0.6681 - accuracy: 0.5502 - val_loss: 0.6760 - val_accuracy: 0.0000e+00\n",
      "Epoch 107/200\n",
      "156/156 [==============================] - 0s 2ms/step - loss: 0.6685 - accuracy: 0.5501 - val_loss: 0.6680 - val_accuracy: 0.0000e+00\n",
      "Epoch 108/200\n",
      "156/156 [==============================] - 0s 2ms/step - loss: 0.6684 - accuracy: 0.5497 - val_loss: 0.6564 - val_accuracy: 0.0000e+00\n",
      "Epoch 109/200\n",
      "156/156 [==============================] - 0s 2ms/step - loss: 0.6682 - accuracy: 0.5502 - val_loss: 0.6932 - val_accuracy: 0.0000e+00\n",
      "Epoch 110/200\n",
      "156/156 [==============================] - 0s 3ms/step - loss: 0.6676 - accuracy: 0.5499 - val_loss: 0.6619 - val_accuracy: 0.0000e+00\n",
      "Epoch 111/200\n",
      "152/156 [============================>.] - ETA: 0s - loss: 0.6676 - accuracy: 0.5491INFO:tensorflow:Assets written to: /home/paul_d/Sources/sem_math_repo/classification_formulas/wandb/run-20230306_111144-nxgccegc/files/model-best/assets\n"
     ]
    },
    {
     "name": "stderr",
     "output_type": "stream",
     "text": [
      "INFO:tensorflow:Assets written to: /home/paul_d/Sources/sem_math_repo/classification_formulas/wandb/run-20230306_111144-nxgccegc/files/model-best/assets\n"
     ]
    },
    {
     "name": "stdout",
     "output_type": "stream",
     "text": [
      "156/156 [==============================] - 1s 8ms/step - loss: 0.6673 - accuracy: 0.5498 - val_loss: 0.6438 - val_accuracy: 0.0000e+00\n",
      "Epoch 112/200\n",
      "156/156 [==============================] - 0s 3ms/step - loss: 0.6683 - accuracy: 0.5503 - val_loss: 0.6558 - val_accuracy: 0.0000e+00\n",
      "Epoch 113/200\n",
      "156/156 [==============================] - 0s 2ms/step - loss: 0.6682 - accuracy: 0.5502 - val_loss: 0.7030 - val_accuracy: 0.0000e+00\n",
      "Epoch 114/200\n",
      "156/156 [==============================] - 0s 2ms/step - loss: 0.6688 - accuracy: 0.5499 - val_loss: 0.6780 - val_accuracy: 0.0000e+00\n",
      "Epoch 115/200\n",
      "156/156 [==============================] - 0s 3ms/step - loss: 0.6669 - accuracy: 0.5503 - val_loss: 0.6636 - val_accuracy: 0.0000e+00\n",
      "Epoch 116/200\n",
      "156/156 [==============================] - 0s 2ms/step - loss: 0.6676 - accuracy: 0.5503 - val_loss: 0.6617 - val_accuracy: 0.0000e+00\n",
      "Epoch 117/200\n",
      "156/156 [==============================] - 0s 2ms/step - loss: 0.6681 - accuracy: 0.5501 - val_loss: 0.6734 - val_accuracy: 0.0000e+00\n",
      "Epoch 118/200\n",
      "156/156 [==============================] - 0s 2ms/step - loss: 0.6691 - accuracy: 0.5498 - val_loss: 0.6900 - val_accuracy: 0.0000e+00\n",
      "Epoch 119/200\n",
      "156/156 [==============================] - 0s 3ms/step - loss: 0.6689 - accuracy: 0.5497 - val_loss: 0.6868 - val_accuracy: 0.0000e+00\n",
      "Epoch 120/200\n",
      "156/156 [==============================] - 0s 3ms/step - loss: 0.6692 - accuracy: 0.5497 - val_loss: 0.6516 - val_accuracy: 0.0000e+00\n",
      "Epoch 121/200\n",
      "156/156 [==============================] - 0s 3ms/step - loss: 0.6682 - accuracy: 0.5497 - val_loss: 0.6784 - val_accuracy: 0.0000e+00\n",
      "Epoch 122/200\n",
      "156/156 [==============================] - 0s 3ms/step - loss: 0.6689 - accuracy: 0.5501 - val_loss: 0.6645 - val_accuracy: 0.0000e+00\n",
      "Epoch 123/200\n",
      "156/156 [==============================] - 0s 3ms/step - loss: 0.6683 - accuracy: 0.5499 - val_loss: 0.6650 - val_accuracy: 0.0000e+00\n",
      "Epoch 124/200\n",
      "156/156 [==============================] - 0s 3ms/step - loss: 0.6681 - accuracy: 0.5503 - val_loss: 0.6783 - val_accuracy: 0.0000e+00\n",
      "Epoch 125/200\n",
      "156/156 [==============================] - 0s 3ms/step - loss: 0.6686 - accuracy: 0.5502 - val_loss: 0.6707 - val_accuracy: 0.0000e+00\n",
      "Epoch 126/200\n",
      "156/156 [==============================] - 1s 3ms/step - loss: 0.6695 - accuracy: 0.5499 - val_loss: 0.6788 - val_accuracy: 0.0000e+00\n",
      "Epoch 127/200\n",
      "156/156 [==============================] - 0s 3ms/step - loss: 0.6686 - accuracy: 0.5502 - val_loss: 0.6576 - val_accuracy: 0.0000e+00\n",
      "Epoch 128/200\n",
      "156/156 [==============================] - 0s 3ms/step - loss: 0.6686 - accuracy: 0.5495 - val_loss: 0.6794 - val_accuracy: 0.0000e+00\n",
      "Epoch 129/200\n",
      "156/156 [==============================] - 0s 3ms/step - loss: 0.6680 - accuracy: 0.5504 - val_loss: 0.6749 - val_accuracy: 0.0000e+00\n",
      "Epoch 130/200\n",
      "156/156 [==============================] - 0s 2ms/step - loss: 0.6672 - accuracy: 0.5503 - val_loss: 0.6844 - val_accuracy: 0.0000e+00\n",
      "Epoch 131/200\n",
      "156/156 [==============================] - 0s 3ms/step - loss: 0.6683 - accuracy: 0.5502 - val_loss: 0.6895 - val_accuracy: 0.0000e+00\n",
      "Epoch 132/200\n",
      "156/156 [==============================] - 0s 2ms/step - loss: 0.6686 - accuracy: 0.5502 - val_loss: 0.6869 - val_accuracy: 0.0000e+00\n",
      "Epoch 133/200\n",
      "156/156 [==============================] - 1s 3ms/step - loss: 0.6677 - accuracy: 0.5501 - val_loss: 0.6758 - val_accuracy: 0.0000e+00\n",
      "Epoch 134/200\n",
      "156/156 [==============================] - 0s 2ms/step - loss: 0.6686 - accuracy: 0.5501 - val_loss: 0.6937 - val_accuracy: 0.0000e+00\n",
      "Epoch 135/200\n",
      "156/156 [==============================] - 0s 3ms/step - loss: 0.6677 - accuracy: 0.5502 - val_loss: 0.7053 - val_accuracy: 0.0000e+00\n",
      "Epoch 136/200\n",
      "156/156 [==============================] - 0s 3ms/step - loss: 0.6674 - accuracy: 0.5502 - val_loss: 0.6496 - val_accuracy: 0.0000e+00\n",
      "Epoch 137/200\n",
      "150/156 [===========================>..] - ETA: 0s - loss: 0.6679 - accuracy: 0.5496INFO:tensorflow:Assets written to: /home/paul_d/Sources/sem_math_repo/classification_formulas/wandb/run-20230306_111144-nxgccegc/files/model-best/assets\n"
     ]
    },
    {
     "name": "stderr",
     "output_type": "stream",
     "text": [
      "INFO:tensorflow:Assets written to: /home/paul_d/Sources/sem_math_repo/classification_formulas/wandb/run-20230306_111144-nxgccegc/files/model-best/assets\n"
     ]
    },
    {
     "name": "stdout",
     "output_type": "stream",
     "text": [
      "156/156 [==============================] - 1s 8ms/step - loss: 0.6678 - accuracy: 0.5502 - val_loss: 0.6436 - val_accuracy: 0.0000e+00\n",
      "Epoch 138/200\n",
      "156/156 [==============================] - 0s 2ms/step - loss: 0.6688 - accuracy: 0.5501 - val_loss: 0.6742 - val_accuracy: 0.0000e+00\n",
      "Epoch 139/200\n",
      "156/156 [==============================] - 0s 2ms/step - loss: 0.6677 - accuracy: 0.5501 - val_loss: 0.6910 - val_accuracy: 0.0000e+00\n",
      "Epoch 140/200\n",
      "156/156 [==============================] - 0s 3ms/step - loss: 0.6683 - accuracy: 0.5504 - val_loss: 0.6882 - val_accuracy: 0.0000e+00\n",
      "Epoch 141/200\n",
      "156/156 [==============================] - 0s 2ms/step - loss: 0.6680 - accuracy: 0.5498 - val_loss: 0.6599 - val_accuracy: 0.0000e+00\n",
      "Epoch 142/200\n",
      "156/156 [==============================] - 0s 2ms/step - loss: 0.6687 - accuracy: 0.5500 - val_loss: 0.6768 - val_accuracy: 0.0000e+00\n",
      "Epoch 143/200\n",
      "156/156 [==============================] - 0s 2ms/step - loss: 0.6683 - accuracy: 0.5498 - val_loss: 0.6620 - val_accuracy: 0.0000e+00\n",
      "Epoch 144/200\n",
      "156/156 [==============================] - 0s 2ms/step - loss: 0.6680 - accuracy: 0.5501 - val_loss: 0.6643 - val_accuracy: 0.0000e+00\n",
      "Epoch 145/200\n",
      "156/156 [==============================] - 0s 3ms/step - loss: 0.6687 - accuracy: 0.5501 - val_loss: 0.7072 - val_accuracy: 0.0000e+00\n",
      "Epoch 146/200\n",
      "156/156 [==============================] - 0s 3ms/step - loss: 0.6694 - accuracy: 0.5501 - val_loss: 0.6877 - val_accuracy: 0.0000e+00\n",
      "Epoch 147/200\n",
      "156/156 [==============================] - 0s 3ms/step - loss: 0.6686 - accuracy: 0.5498 - val_loss: 0.6744 - val_accuracy: 0.0000e+00\n",
      "Epoch 148/200\n",
      "156/156 [==============================] - 0s 3ms/step - loss: 0.6684 - accuracy: 0.5502 - val_loss: 0.6639 - val_accuracy: 0.0000e+00\n",
      "Epoch 149/200\n",
      "156/156 [==============================] - 0s 2ms/step - loss: 0.6683 - accuracy: 0.5500 - val_loss: 0.6709 - val_accuracy: 0.0000e+00\n",
      "Epoch 150/200\n",
      "156/156 [==============================] - 0s 3ms/step - loss: 0.6685 - accuracy: 0.5497 - val_loss: 0.6440 - val_accuracy: 0.0000e+00\n",
      "Epoch 151/200\n",
      "156/156 [==============================] - 0s 3ms/step - loss: 0.6682 - accuracy: 0.5498 - val_loss: 0.6984 - val_accuracy: 0.0000e+00\n",
      "Epoch 152/200\n",
      "156/156 [==============================] - 0s 2ms/step - loss: 0.6689 - accuracy: 0.5499 - val_loss: 0.7096 - val_accuracy: 0.0000e+00\n",
      "Epoch 153/200\n",
      "156/156 [==============================] - 0s 2ms/step - loss: 0.6686 - accuracy: 0.5497 - val_loss: 0.6842 - val_accuracy: 0.0000e+00\n",
      "Epoch 154/200\n",
      "156/156 [==============================] - 0s 2ms/step - loss: 0.6684 - accuracy: 0.5502 - val_loss: 0.7009 - val_accuracy: 0.0000e+00\n",
      "Epoch 155/200\n",
      "156/156 [==============================] - 0s 2ms/step - loss: 0.6687 - accuracy: 0.5498 - val_loss: 0.6577 - val_accuracy: 0.0000e+00\n",
      "Epoch 156/200\n",
      "156/156 [==============================] - 1s 3ms/step - loss: 0.6689 - accuracy: 0.5502 - val_loss: 0.6994 - val_accuracy: 0.0000e+00\n",
      "Epoch 157/200\n",
      "156/156 [==============================] - 0s 2ms/step - loss: 0.6680 - accuracy: 0.5497 - val_loss: 0.6817 - val_accuracy: 0.0000e+00\n",
      "Epoch 158/200\n",
      "156/156 [==============================] - 0s 2ms/step - loss: 0.6688 - accuracy: 0.5501 - val_loss: 0.7070 - val_accuracy: 0.0000e+00\n",
      "Epoch 159/200\n",
      "156/156 [==============================] - 0s 2ms/step - loss: 0.6680 - accuracy: 0.5501 - val_loss: 0.6763 - val_accuracy: 0.0000e+00\n",
      "Epoch 160/200\n",
      "156/156 [==============================] - 0s 2ms/step - loss: 0.6681 - accuracy: 0.5500 - val_loss: 0.6986 - val_accuracy: 0.0000e+00\n",
      "Epoch 161/200\n",
      "156/156 [==============================] - 0s 2ms/step - loss: 0.6677 - accuracy: 0.5504 - val_loss: 0.6832 - val_accuracy: 0.0000e+00\n",
      "Epoch 162/200\n",
      "156/156 [==============================] - 0s 2ms/step - loss: 0.6693 - accuracy: 0.5499 - val_loss: 0.6788 - val_accuracy: 0.0000e+00\n",
      "Epoch 163/200\n",
      "156/156 [==============================] - 1s 3ms/step - loss: 0.6682 - accuracy: 0.5504 - val_loss: 0.6741 - val_accuracy: 0.0000e+00\n",
      "Epoch 164/200\n",
      "156/156 [==============================] - 0s 2ms/step - loss: 0.6677 - accuracy: 0.5500 - val_loss: 0.6823 - val_accuracy: 0.0000e+00\n",
      "Epoch 165/200\n",
      "156/156 [==============================] - 0s 2ms/step - loss: 0.6675 - accuracy: 0.5499 - val_loss: 0.7168 - val_accuracy: 0.0000e+00\n",
      "Epoch 166/200\n",
      "156/156 [==============================] - 0s 2ms/step - loss: 0.6686 - accuracy: 0.5499 - val_loss: 0.6855 - val_accuracy: 0.0000e+00\n",
      "Epoch 167/200\n",
      "156/156 [==============================] - 0s 3ms/step - loss: 0.6682 - accuracy: 0.5504 - val_loss: 0.6713 - val_accuracy: 0.0000e+00\n",
      "Epoch 168/200\n",
      "156/156 [==============================] - 0s 2ms/step - loss: 0.6699 - accuracy: 0.5498 - val_loss: 0.6879 - val_accuracy: 0.0000e+00\n",
      "Epoch 169/200\n",
      "156/156 [==============================] - 0s 3ms/step - loss: 0.6680 - accuracy: 0.5498 - val_loss: 0.6890 - val_accuracy: 0.0000e+00\n",
      "Epoch 170/200\n",
      "156/156 [==============================] - 0s 2ms/step - loss: 0.6677 - accuracy: 0.5497 - val_loss: 0.6825 - val_accuracy: 0.0000e+00\n",
      "Epoch 171/200\n",
      "156/156 [==============================] - 0s 3ms/step - loss: 0.6683 - accuracy: 0.5499 - val_loss: 0.6834 - val_accuracy: 0.0000e+00\n",
      "Epoch 172/200\n",
      "156/156 [==============================] - 0s 3ms/step - loss: 0.6690 - accuracy: 0.5502 - val_loss: 0.6923 - val_accuracy: 0.0000e+00\n",
      "Epoch 173/200\n",
      "156/156 [==============================] - 0s 3ms/step - loss: 0.6692 - accuracy: 0.5500 - val_loss: 0.6881 - val_accuracy: 0.0000e+00\n",
      "Epoch 174/200\n",
      "156/156 [==============================] - 0s 3ms/step - loss: 0.6678 - accuracy: 0.5499 - val_loss: 0.6841 - val_accuracy: 0.0000e+00\n",
      "Epoch 175/200\n",
      "156/156 [==============================] - 0s 3ms/step - loss: 0.6691 - accuracy: 0.5499 - val_loss: 0.7161 - val_accuracy: 0.0000e+00\n",
      "Epoch 176/200\n",
      "153/156 [============================>.] - ETA: 0s - loss: 0.6675 - accuracy: 0.5506INFO:tensorflow:Assets written to: /home/paul_d/Sources/sem_math_repo/classification_formulas/wandb/run-20230306_111144-nxgccegc/files/model-best/assets\n"
     ]
    },
    {
     "name": "stderr",
     "output_type": "stream",
     "text": [
      "INFO:tensorflow:Assets written to: /home/paul_d/Sources/sem_math_repo/classification_formulas/wandb/run-20230306_111144-nxgccegc/files/model-best/assets\n"
     ]
    },
    {
     "name": "stdout",
     "output_type": "stream",
     "text": [
      "156/156 [==============================] - 1s 8ms/step - loss: 0.6677 - accuracy: 0.5503 - val_loss: 0.6414 - val_accuracy: 0.0000e+00\n",
      "Epoch 177/200\n",
      "156/156 [==============================] - 0s 2ms/step - loss: 0.6684 - accuracy: 0.5496 - val_loss: 0.6833 - val_accuracy: 0.0000e+00\n",
      "Epoch 178/200\n",
      "156/156 [==============================] - 0s 2ms/step - loss: 0.6690 - accuracy: 0.5501 - val_loss: 0.6724 - val_accuracy: 0.0000e+00\n",
      "Epoch 179/200\n",
      "156/156 [==============================] - 0s 2ms/step - loss: 0.6692 - accuracy: 0.5499 - val_loss: 0.6786 - val_accuracy: 0.0000e+00\n",
      "Epoch 180/200\n",
      "156/156 [==============================] - 0s 2ms/step - loss: 0.6682 - accuracy: 0.5498 - val_loss: 0.6708 - val_accuracy: 0.0000e+00\n",
      "Epoch 181/200\n",
      "139/156 [=========================>....] - ETA: 0s - loss: 0.6688 - accuracy: 0.5523INFO:tensorflow:Assets written to: /home/paul_d/Sources/sem_math_repo/classification_formulas/wandb/run-20230306_111144-nxgccegc/files/model-best/assets\n"
     ]
    },
    {
     "name": "stderr",
     "output_type": "stream",
     "text": [
      "INFO:tensorflow:Assets written to: /home/paul_d/Sources/sem_math_repo/classification_formulas/wandb/run-20230306_111144-nxgccegc/files/model-best/assets\n"
     ]
    },
    {
     "name": "stdout",
     "output_type": "stream",
     "text": [
      "156/156 [==============================] - 1s 8ms/step - loss: 0.6687 - accuracy: 0.5500 - val_loss: 0.6408 - val_accuracy: 0.0000e+00\n",
      "Epoch 182/200\n",
      "156/156 [==============================] - 0s 2ms/step - loss: 0.6679 - accuracy: 0.5503 - val_loss: 0.6800 - val_accuracy: 0.0000e+00\n",
      "Epoch 183/200\n",
      "141/156 [==========================>...] - ETA: 0s - loss: 0.6672 - accuracy: 0.5515INFO:tensorflow:Assets written to: /home/paul_d/Sources/sem_math_repo/classification_formulas/wandb/run-20230306_111144-nxgccegc/files/model-best/assets\n"
     ]
    },
    {
     "name": "stderr",
     "output_type": "stream",
     "text": [
      "INFO:tensorflow:Assets written to: /home/paul_d/Sources/sem_math_repo/classification_formulas/wandb/run-20230306_111144-nxgccegc/files/model-best/assets\n"
     ]
    },
    {
     "name": "stdout",
     "output_type": "stream",
     "text": [
      "156/156 [==============================] - 2s 11ms/step - loss: 0.6676 - accuracy: 0.5502 - val_loss: 0.6266 - val_accuracy: 0.0000e+00\n",
      "Epoch 184/200\n",
      "156/156 [==============================] - 0s 3ms/step - loss: 0.6681 - accuracy: 0.5500 - val_loss: 0.6789 - val_accuracy: 0.0000e+00\n",
      "Epoch 185/200\n",
      "156/156 [==============================] - 0s 3ms/step - loss: 0.6678 - accuracy: 0.5500 - val_loss: 0.6747 - val_accuracy: 0.0000e+00\n",
      "Epoch 186/200\n",
      "156/156 [==============================] - 0s 3ms/step - loss: 0.6687 - accuracy: 0.5498 - val_loss: 0.6691 - val_accuracy: 0.0000e+00\n",
      "Epoch 187/200\n",
      "156/156 [==============================] - 0s 2ms/step - loss: 0.6675 - accuracy: 0.5500 - val_loss: 0.6643 - val_accuracy: 0.0000e+00\n",
      "Epoch 188/200\n",
      "156/156 [==============================] - 0s 2ms/step - loss: 0.6682 - accuracy: 0.5500 - val_loss: 0.6597 - val_accuracy: 0.0000e+00\n",
      "Epoch 189/200\n",
      "156/156 [==============================] - 0s 2ms/step - loss: 0.6681 - accuracy: 0.5502 - val_loss: 0.6556 - val_accuracy: 0.0000e+00\n",
      "Epoch 190/200\n",
      "156/156 [==============================] - 0s 3ms/step - loss: 0.6679 - accuracy: 0.5499 - val_loss: 0.6828 - val_accuracy: 0.0000e+00\n",
      "Epoch 191/200\n",
      "156/156 [==============================] - 0s 3ms/step - loss: 0.6685 - accuracy: 0.5503 - val_loss: 0.6456 - val_accuracy: 0.0000e+00\n",
      "Epoch 192/200\n",
      "156/156 [==============================] - 0s 3ms/step - loss: 0.6677 - accuracy: 0.5501 - val_loss: 0.6615 - val_accuracy: 0.0000e+00\n",
      "Epoch 193/200\n",
      "156/156 [==============================] - 0s 2ms/step - loss: 0.6677 - accuracy: 0.5495 - val_loss: 0.6342 - val_accuracy: 0.0000e+00\n",
      "Epoch 194/200\n",
      "156/156 [==============================] - 0s 2ms/step - loss: 0.6679 - accuracy: 0.5502 - val_loss: 0.6426 - val_accuracy: 0.0000e+00\n",
      "Epoch 195/200\n",
      "156/156 [==============================] - 0s 2ms/step - loss: 0.6684 - accuracy: 0.5500 - val_loss: 0.6820 - val_accuracy: 0.0000e+00\n",
      "Epoch 196/200\n",
      "156/156 [==============================] - 0s 3ms/step - loss: 0.6688 - accuracy: 0.5499 - val_loss: 0.6737 - val_accuracy: 0.0000e+00\n",
      "Epoch 197/200\n",
      "156/156 [==============================] - 0s 3ms/step - loss: 0.6674 - accuracy: 0.5500 - val_loss: 0.6721 - val_accuracy: 0.0000e+00\n",
      "Epoch 198/200\n",
      "156/156 [==============================] - 1s 3ms/step - loss: 0.6681 - accuracy: 0.5498 - val_loss: 0.6536 - val_accuracy: 0.0000e+00\n",
      "Epoch 199/200\n",
      "156/156 [==============================] - 0s 3ms/step - loss: 0.6685 - accuracy: 0.5497 - val_loss: 0.6716 - val_accuracy: 0.0000e+00\n",
      "Epoch 200/200\n",
      "156/156 [==============================] - 0s 3ms/step - loss: 0.6676 - accuracy: 0.5501 - val_loss: 0.7010 - val_accuracy: 0.0000e+00\n"
     ]
    }
   ],
   "source": [
    "configs_dict = {\n",
    "    \"learning_rate\": LEARNING_RATE,\n",
    "    \"algorithm\": \"LogReg\",\n",
    "    \"configuration\": \"1-tokens\",\n",
    "    \"optimizer\": \"adam\",\n",
    "    \"loss\": \"binary_crossentropy\",\n",
    "    \"epochs\": NUM_EPOCHS,\n",
    "    \"batch_size\": 64,\n",
    "    \"vectorizer\": \"count\",\n",
    "    \"dataset\": \"TOKENIZED_SET_V1\"\n",
    "}\n",
    "run = wandb.init(project=wandb_project_name, reinit=True, config=configs_dict)\n",
    "\n",
    "\n",
    "history = model.fit(train_dataset, epochs=NUM_EPOCHS,\n",
    "                    validation_data=test_dataset,\n",
    "                    validation_steps=VAL_STEPS_PER_EPOCH, steps_per_epoch=STEPS_PER_EPOCH,callbacks= [WandbCallback()])#[tensorboard_callback])\n",
    "\n",
    "\n",
    "run.finish()"
   ]
  },
  {
   "cell_type": "code",
   "execution_count": 42,
   "metadata": {},
   "outputs": [
    {
     "name": "stdout",
     "output_type": "stream",
     "text": [
      "15/15 [==============================] - 0s 937us/step - loss: 0.7010 - accuracy: 0.0000e+00\n",
      "Test Loss: 0.7009772658348083\n",
      "Test Accuracy: 0.0\n"
     ]
    }
   ],
   "source": [
    "test_loss, test_acc = model.evaluate(test_dataset)\n",
    "\n",
    "print(\"Test Loss:\", test_loss)\n",
    "print(\"Test Accuracy:\", test_acc)"
   ]
  },
  {
   "cell_type": "code",
   "execution_count": 43,
   "metadata": {},
   "outputs": [
    {
     "data": {
      "text/plain": [
       "(0.0, 0.749822410941124)"
      ]
     },
     "execution_count": 43,
     "metadata": {},
     "output_type": "execute_result"
    },
    {
     "data": {
      "image/png": "[encoded data removed]",
      "text/plain": [
       "<Figure size 1600x800 with 2 Axes>"
      ]
     },
     "metadata": {},
     "output_type": "display_data"
    }
   ],
   "source": [
    "plt.figure(figsize=(16,8))\n",
    "plt.subplot(1,2,1)\n",
    "plot_graphs(history, \"accuracy\")\n",
    "plt.ylim(None, 1)\n",
    "plt.subplot(1,2,2)\n",
    "plot_graphs(history, \"loss\")\n",
    "plt.ylim(0, None)"
   ]
  },
  {
   "cell_type": "code",
   "execution_count": 44,
   "metadata": {},
   "outputs": [
    {
     "name": "stdout",
     "output_type": "stream",
     "text": [
      "WARNING:tensorflow:6 out of the last 6 calls to <function Model.make_predict_function.<locals>.predict_function at 0x7f54784b05e0> triggered tf.function retracing. Tracing is expensive and the excessive number of tracings could be due to (1) creating @tf.function repeatedly in a loop, (2) passing tensors with different shapes, (3) passing Python objects instead of tensors. For (1), please define your @tf.function outside of the loop. For (2), @tf.function has reduce_retracing=True option that can avoid unnecessary retracing. For (3), please refer to https://www.tensorflow.org/guide/function#controlling_retracing and https://www.tensorflow.org/api_docs/python/tf/function for  more details.\n"
     ]
    },
    {
     "name": "stderr",
     "output_type": "stream",
     "text": [
      "WARNING:tensorflow:6 out of the last 6 calls to <function Model.make_predict_function.<locals>.predict_function at 0x7f54784b05e0> triggered tf.function retracing. Tracing is expensive and the excessive number of tracings could be due to (1) creating @tf.function repeatedly in a loop, (2) passing tensors with different shapes, (3) passing Python objects instead of tensors. For (1), please define your @tf.function outside of the loop. For (2), @tf.function has reduce_retracing=True option that can avoid unnecessary retracing. For (3), please refer to https://www.tensorflow.org/guide/function#controlling_retracing and https://www.tensorflow.org/api_docs/python/tf/function for  more details.\n"
     ]
    },
    {
     "name": "stdout",
     "output_type": "stream",
     "text": [
      "1/1 [==============================] - 0s 77ms/step\n",
      "[-0.6168145]\n"
     ]
    }
   ],
   "source": [
    "# predict on a sample text without padding\n",
    "sample_text = (\"g ( x ) = x ^ 3\")\n",
    "predictions = model.predict(np.array([sample_text]))\n",
    "print(predictions[0])"
   ]
  },
  {
   "attachments": {},
   "cell_type": "markdown",
   "metadata": {},
   "source": [
    "##### Experiment 4:"
   ]
  },
  {
   "cell_type": "code",
   "execution_count": 45,
   "metadata": {},
   "outputs": [
    {
     "name": "stdout",
     "output_type": "stream",
     "text": [
      "1000\n",
      "1/1 [==============================] - 0s 75ms/step\n",
      "[-0.00362216]\n"
     ]
    }
   ],
   "source": [
    "model = create_model(encoder_bigrams)\n",
    "# predict on a sample formula using untrained model\n",
    "sample_text = (\"g ( x ) = x ^ 3\")\n",
    "predictions = model.predict(np.array([sample_text]))\n",
    "print(predictions[0])"
   ]
  },
  {
   "cell_type": "code",
   "execution_count": 46,
   "metadata": {},
   "outputs": [],
   "source": [
    "#model.compile(optimizer='sgd',loss='sparse_categorical_crossentropy',metrics=['accuracy'])\n",
    "LEARNING_RATE = 1e-2\n",
    "NUM_EPOCHS = 200\n",
    "model.compile(loss=tf.keras.losses.BinaryCrossentropy(from_logits=True),\n",
    "              optimizer=tf.keras.optimizers.Adam(LEARNING_RATE),\n",
    "              metrics=[\"accuracy\"])"
   ]
  },
  {
   "cell_type": "code",
   "execution_count": 47,
   "metadata": {},
   "outputs": [
    {
     "name": "stdout",
     "output_type": "stream",
     "text": [
      "Epoch 1/200\n",
      "150/156 [===========================>..] - ETA: 0s - loss: 0.6756 - accuracy: 0.5482INFO:tensorflow:Assets written to: /home/paul_d/Sources/sem_math_repo/classification_formulas/wandb/run-20230306_111341-ilclsn0h/files/model-best/assets\n"
     ]
    },
    {
     "name": "stderr",
     "output_type": "stream",
     "text": [
      "INFO:tensorflow:Assets written to: /home/paul_d/Sources/sem_math_repo/classification_formulas/wandb/run-20230306_111341-ilclsn0h/files/model-best/assets\n"
     ]
    },
    {
     "name": "stdout",
     "output_type": "stream",
     "text": [
      "156/156 [==============================] - 3s 15ms/step - loss: 0.6754 - accuracy: 0.5499 - val_loss: 0.7377 - val_accuracy: 0.0000e+00\n",
      "Epoch 2/200\n",
      "153/156 [============================>.] - ETA: 0s - loss: 0.6702 - accuracy: 0.5501INFO:tensorflow:Assets written to: /home/paul_d/Sources/sem_math_repo/classification_formulas/wandb/run-20230306_111341-ilclsn0h/files/model-best/assets\n"
     ]
    },
    {
     "name": "stderr",
     "output_type": "stream",
     "text": [
      "INFO:tensorflow:Assets written to: /home/paul_d/Sources/sem_math_repo/classification_formulas/wandb/run-20230306_111341-ilclsn0h/files/model-best/assets\n"
     ]
    },
    {
     "name": "stdout",
     "output_type": "stream",
     "text": [
      "156/156 [==============================] - 2s 15ms/step - loss: 0.6701 - accuracy: 0.5501 - val_loss: 0.7290 - val_accuracy: 0.0000e+00\n",
      "Epoch 3/200\n",
      "153/156 [============================>.] - ETA: 0s - loss: 0.6713 - accuracy: 0.5495INFO:tensorflow:Assets written to: /home/paul_d/Sources/sem_math_repo/classification_formulas/wandb/run-20230306_111341-ilclsn0h/files/model-best/assets\n"
     ]
    },
    {
     "name": "stderr",
     "output_type": "stream",
     "text": [
      "INFO:tensorflow:Assets written to: /home/paul_d/Sources/sem_math_repo/classification_formulas/wandb/run-20230306_111341-ilclsn0h/files/model-best/assets\n"
     ]
    },
    {
     "name": "stdout",
     "output_type": "stream",
     "text": [
      "156/156 [==============================] - 2s 14ms/step - loss: 0.6709 - accuracy: 0.5497 - val_loss: 0.7284 - val_accuracy: 0.0000e+00\n",
      "Epoch 4/200\n",
      "150/156 [===========================>..] - ETA: 0s - loss: 0.6720 - accuracy: 0.5490INFO:tensorflow:Assets written to: /home/paul_d/Sources/sem_math_repo/classification_formulas/wandb/run-20230306_111341-ilclsn0h/files/model-best/assets\n"
     ]
    },
    {
     "name": "stderr",
     "output_type": "stream",
     "text": [
      "INFO:tensorflow:Assets written to: /home/paul_d/Sources/sem_math_repo/classification_formulas/wandb/run-20230306_111341-ilclsn0h/files/model-best/assets\n"
     ]
    },
    {
     "name": "stdout",
     "output_type": "stream",
     "text": [
      "156/156 [==============================] - 3s 18ms/step - loss: 0.6716 - accuracy: 0.5500 - val_loss: 0.7099 - val_accuracy: 0.0000e+00\n",
      "Epoch 5/200\n",
      "156/156 [==============================] - 2s 10ms/step - loss: 0.6715 - accuracy: 0.5494 - val_loss: 0.7290 - val_accuracy: 0.0000e+00\n",
      "Epoch 6/200\n",
      "156/156 [==============================] - 2s 10ms/step - loss: 0.6703 - accuracy: 0.5500 - val_loss: 0.7365 - val_accuracy: 0.0000e+00\n",
      "Epoch 7/200\n",
      "155/156 [============================>.] - ETA: 0s - loss: 0.6704 - accuracy: 0.5496INFO:tensorflow:Assets written to: /home/paul_d/Sources/sem_math_repo/classification_formulas/wandb/run-20230306_111341-ilclsn0h/files/model-best/assets\n"
     ]
    },
    {
     "name": "stderr",
     "output_type": "stream",
     "text": [
      "INFO:tensorflow:Assets written to: /home/paul_d/Sources/sem_math_repo/classification_formulas/wandb/run-20230306_111341-ilclsn0h/files/model-best/assets\n"
     ]
    },
    {
     "name": "stdout",
     "output_type": "stream",
     "text": [
      "156/156 [==============================] - 2s 14ms/step - loss: 0.6701 - accuracy: 0.5498 - val_loss: 0.7096 - val_accuracy: 0.0000e+00\n",
      "Epoch 8/200\n",
      "156/156 [==============================] - 1s 9ms/step - loss: 0.6709 - accuracy: 0.5499 - val_loss: 0.7359 - val_accuracy: 0.0000e+00\n",
      "Epoch 9/200\n",
      "156/156 [==============================] - 1s 9ms/step - loss: 0.6692 - accuracy: 0.5501 - val_loss: 0.7299 - val_accuracy: 0.0000e+00\n",
      "Epoch 10/200\n",
      "156/156 [==============================] - 1s 9ms/step - loss: 0.6710 - accuracy: 0.5504 - val_loss: 0.7174 - val_accuracy: 0.0000e+00\n",
      "Epoch 11/200\n",
      "156/156 [==============================] - 2s 9ms/step - loss: 0.6691 - accuracy: 0.5501 - val_loss: 0.7469 - val_accuracy: 0.0000e+00\n",
      "Epoch 12/200\n",
      "156/156 [==============================] - 1s 9ms/step - loss: 0.6701 - accuracy: 0.5500 - val_loss: 0.7200 - val_accuracy: 0.0000e+00\n",
      "Epoch 13/200\n",
      "156/156 [==============================] - 1s 9ms/step - loss: 0.6719 - accuracy: 0.5503 - val_loss: 0.7227 - val_accuracy: 0.0000e+00\n",
      "Epoch 14/200\n",
      "151/156 [============================>.] - ETA: 0s - loss: 0.6710 - accuracy: 0.5513INFO:tensorflow:Assets written to: /home/paul_d/Sources/sem_math_repo/classification_formulas/wandb/run-20230306_111341-ilclsn0h/files/model-best/assets\n"
     ]
    },
    {
     "name": "stderr",
     "output_type": "stream",
     "text": [
      "INFO:tensorflow:Assets written to: /home/paul_d/Sources/sem_math_repo/classification_formulas/wandb/run-20230306_111341-ilclsn0h/files/model-best/assets\n"
     ]
    },
    {
     "name": "stdout",
     "output_type": "stream",
     "text": [
      "156/156 [==============================] - 2s 15ms/step - loss: 0.6711 - accuracy: 0.5500 - val_loss: 0.6994 - val_accuracy: 0.0000e+00\n",
      "Epoch 15/200\n",
      "156/156 [==============================] - 1s 8ms/step - loss: 0.6706 - accuracy: 0.5499 - val_loss: 0.7158 - val_accuracy: 0.0000e+00\n",
      "Epoch 16/200\n",
      "156/156 [==============================] - 1s 8ms/step - loss: 0.6693 - accuracy: 0.5499 - val_loss: 0.7119 - val_accuracy: 0.0000e+00\n",
      "Epoch 17/200\n",
      "156/156 [==============================] - 1s 9ms/step - loss: 0.6691 - accuracy: 0.5501 - val_loss: 0.7157 - val_accuracy: 0.0000e+00\n",
      "Epoch 18/200\n",
      "153/156 [============================>.] - ETA: 0s - loss: 0.6695 - accuracy: 0.5508INFO:tensorflow:Assets written to: /home/paul_d/Sources/sem_math_repo/classification_formulas/wandb/run-20230306_111341-ilclsn0h/files/model-best/assets\n"
     ]
    },
    {
     "name": "stderr",
     "output_type": "stream",
     "text": [
      "INFO:tensorflow:Assets written to: /home/paul_d/Sources/sem_math_repo/classification_formulas/wandb/run-20230306_111341-ilclsn0h/files/model-best/assets\n"
     ]
    },
    {
     "name": "stdout",
     "output_type": "stream",
     "text": [
      "156/156 [==============================] - 2s 15ms/step - loss: 0.6693 - accuracy: 0.5500 - val_loss: 0.6964 - val_accuracy: 0.0000e+00\n",
      "Epoch 19/200\n",
      "156/156 [==============================] - 2s 10ms/step - loss: 0.6704 - accuracy: 0.5499 - val_loss: 0.7099 - val_accuracy: 0.0000e+00\n",
      "Epoch 20/200\n",
      "156/156 [==============================] - 1s 9ms/step - loss: 0.6699 - accuracy: 0.5500 - val_loss: 0.7129 - val_accuracy: 0.0000e+00\n",
      "Epoch 21/200\n",
      "156/156 [==============================] - 1s 8ms/step - loss: 0.6693 - accuracy: 0.5498 - val_loss: 0.7168 - val_accuracy: 0.0000e+00\n",
      "Epoch 22/200\n",
      "156/156 [==============================] - 1s 9ms/step - loss: 0.6691 - accuracy: 0.5502 - val_loss: 0.7005 - val_accuracy: 0.0000e+00\n",
      "Epoch 23/200\n",
      "156/156 [==============================] - ETA: 0s - loss: 0.6696 - accuracy: 0.5500INFO:tensorflow:Assets written to: /home/paul_d/Sources/sem_math_repo/classification_formulas/wandb/run-20230306_111341-ilclsn0h/files/model-best/assets\n"
     ]
    },
    {
     "name": "stderr",
     "output_type": "stream",
     "text": [
      "INFO:tensorflow:Assets written to: /home/paul_d/Sources/sem_math_repo/classification_formulas/wandb/run-20230306_111341-ilclsn0h/files/model-best/assets\n"
     ]
    },
    {
     "name": "stdout",
     "output_type": "stream",
     "text": [
      "156/156 [==============================] - 2s 14ms/step - loss: 0.6696 - accuracy: 0.5500 - val_loss: 0.6866 - val_accuracy: 0.0000e+00\n",
      "Epoch 24/200\n",
      "156/156 [==============================] - 1s 8ms/step - loss: 0.6705 - accuracy: 0.5498 - val_loss: 0.7329 - val_accuracy: 0.0000e+00\n",
      "Epoch 25/200\n",
      "156/156 [==============================] - 2s 9ms/step - loss: 0.6700 - accuracy: 0.5502 - val_loss: 0.7060 - val_accuracy: 0.0000e+00\n",
      "Epoch 26/200\n",
      "156/156 [==============================] - 1s 9ms/step - loss: 0.6702 - accuracy: 0.5496 - val_loss: 0.7138 - val_accuracy: 0.0000e+00\n",
      "Epoch 27/200\n",
      "156/156 [==============================] - 1s 9ms/step - loss: 0.6705 - accuracy: 0.5503 - val_loss: 0.6980 - val_accuracy: 0.0000e+00\n",
      "Epoch 28/200\n",
      "156/156 [==============================] - 1s 9ms/step - loss: 0.6680 - accuracy: 0.5501 - val_loss: 0.7229 - val_accuracy: 0.0000e+00\n",
      "Epoch 29/200\n",
      "156/156 [==============================] - 1s 8ms/step - loss: 0.6703 - accuracy: 0.5501 - val_loss: 0.6986 - val_accuracy: 0.0000e+00\n",
      "Epoch 30/200\n",
      "156/156 [==============================] - 1s 8ms/step - loss: 0.6697 - accuracy: 0.5503 - val_loss: 0.7016 - val_accuracy: 0.0000e+00\n",
      "Epoch 31/200\n",
      "153/156 [============================>.] - ETA: 0s - loss: 0.6701 - accuracy: 0.5493INFO:tensorflow:Assets written to: /home/paul_d/Sources/sem_math_repo/classification_formulas/wandb/run-20230306_111341-ilclsn0h/files/model-best/assets\n"
     ]
    },
    {
     "name": "stderr",
     "output_type": "stream",
     "text": [
      "INFO:tensorflow:Assets written to: /home/paul_d/Sources/sem_math_repo/classification_formulas/wandb/run-20230306_111341-ilclsn0h/files/model-best/assets\n"
     ]
    },
    {
     "name": "stdout",
     "output_type": "stream",
     "text": [
      "156/156 [==============================] - 2s 14ms/step - loss: 0.6702 - accuracy: 0.5499 - val_loss: 0.6855 - val_accuracy: 0.0000e+00\n",
      "Epoch 32/200\n",
      "156/156 [==============================] - 1s 8ms/step - loss: 0.6708 - accuracy: 0.5498 - val_loss: 0.7036 - val_accuracy: 0.0000e+00\n",
      "Epoch 33/200\n",
      "156/156 [==============================] - 1s 9ms/step - loss: 0.6690 - accuracy: 0.5500 - val_loss: 0.7028 - val_accuracy: 0.0000e+00\n",
      "Epoch 34/200\n",
      "156/156 [==============================] - 1s 8ms/step - loss: 0.6710 - accuracy: 0.5500 - val_loss: 0.6940 - val_accuracy: 0.0000e+00\n",
      "Epoch 35/200\n",
      "156/156 [==============================] - 1s 8ms/step - loss: 0.6703 - accuracy: 0.5501 - val_loss: 0.6861 - val_accuracy: 0.0000e+00\n",
      "Epoch 36/200\n",
      "156/156 [==============================] - 1s 8ms/step - loss: 0.6709 - accuracy: 0.5500 - val_loss: 0.7005 - val_accuracy: 0.0000e+00\n",
      "Epoch 37/200\n",
      "156/156 [==============================] - 1s 8ms/step - loss: 0.6719 - accuracy: 0.5500 - val_loss: 0.7132 - val_accuracy: 0.0000e+00\n",
      "Epoch 38/200\n",
      "156/156 [==============================] - 1s 8ms/step - loss: 0.6702 - accuracy: 0.5499 - val_loss: 0.6943 - val_accuracy: 0.0000e+00\n",
      "Epoch 39/200\n",
      "156/156 [==============================] - 2s 9ms/step - loss: 0.6706 - accuracy: 0.5498 - val_loss: 0.7052 - val_accuracy: 0.0000e+00\n",
      "Epoch 40/200\n",
      "156/156 [==============================] - 1s 9ms/step - loss: 0.6707 - accuracy: 0.5500 - val_loss: 0.6948 - val_accuracy: 0.0000e+00\n",
      "Epoch 41/200\n",
      "156/156 [==============================] - 2s 9ms/step - loss: 0.6714 - accuracy: 0.5498 - val_loss: 0.7009 - val_accuracy: 0.0000e+00\n",
      "Epoch 42/200\n",
      "156/156 [==============================] - 2s 9ms/step - loss: 0.6703 - accuracy: 0.5498 - val_loss: 0.7071 - val_accuracy: 0.0000e+00\n",
      "Epoch 43/200\n",
      "156/156 [==============================] - 1s 9ms/step - loss: 0.6700 - accuracy: 0.5502 - val_loss: 0.6879 - val_accuracy: 0.0000e+00\n",
      "Epoch 44/200\n",
      "154/156 [============================>.] - ETA: 0s - loss: 0.6703 - accuracy: 0.5502INFO:tensorflow:Assets written to: /home/paul_d/Sources/sem_math_repo/classification_formulas/wandb/run-20230306_111341-ilclsn0h/files/model-best/assets\n"
     ]
    },
    {
     "name": "stderr",
     "output_type": "stream",
     "text": [
      "INFO:tensorflow:Assets written to: /home/paul_d/Sources/sem_math_repo/classification_formulas/wandb/run-20230306_111341-ilclsn0h/files/model-best/assets\n"
     ]
    },
    {
     "name": "stdout",
     "output_type": "stream",
     "text": [
      "156/156 [==============================] - 3s 18ms/step - loss: 0.6703 - accuracy: 0.5501 - val_loss: 0.6738 - val_accuracy: 0.0000e+00\n",
      "Epoch 45/200\n",
      "156/156 [==============================] - 1s 8ms/step - loss: 0.6705 - accuracy: 0.5502 - val_loss: 0.7031 - val_accuracy: 0.0000e+00\n",
      "Epoch 46/200\n",
      "156/156 [==============================] - 1s 9ms/step - loss: 0.6714 - accuracy: 0.5498 - val_loss: 0.6858 - val_accuracy: 0.0000e+00\n",
      "Epoch 47/200\n",
      "156/156 [==============================] - 1s 9ms/step - loss: 0.6712 - accuracy: 0.5498 - val_loss: 0.6863 - val_accuracy: 0.0000e+00\n",
      "Epoch 48/200\n",
      "156/156 [==============================] - 1s 9ms/step - loss: 0.6707 - accuracy: 0.5502 - val_loss: 0.6896 - val_accuracy: 0.0000e+00\n",
      "Epoch 49/200\n",
      "154/156 [============================>.] - ETA: 0s - loss: 0.6699 - accuracy: 0.5500INFO:tensorflow:Assets written to: /home/paul_d/Sources/sem_math_repo/classification_formulas/wandb/run-20230306_111341-ilclsn0h/files/model-best/assets\n"
     ]
    },
    {
     "name": "stderr",
     "output_type": "stream",
     "text": [
      "INFO:tensorflow:Assets written to: /home/paul_d/Sources/sem_math_repo/classification_formulas/wandb/run-20230306_111341-ilclsn0h/files/model-best/assets\n"
     ]
    },
    {
     "name": "stdout",
     "output_type": "stream",
     "text": [
      "156/156 [==============================] - 3s 16ms/step - loss: 0.6696 - accuracy: 0.5501 - val_loss: 0.6637 - val_accuracy: 0.0000e+00\n",
      "Epoch 50/200\n",
      "156/156 [==============================] - 1s 9ms/step - loss: 0.6700 - accuracy: 0.5499 - val_loss: 0.6838 - val_accuracy: 0.0000e+00\n",
      "Epoch 51/200\n",
      "156/156 [==============================] - 1s 9ms/step - loss: 0.6699 - accuracy: 0.5500 - val_loss: 0.6882 - val_accuracy: 0.0000e+00\n",
      "Epoch 52/200\n",
      "156/156 [==============================] - 2s 10ms/step - loss: 0.6705 - accuracy: 0.5499 - val_loss: 0.7101 - val_accuracy: 0.0000e+00\n",
      "Epoch 53/200\n",
      "156/156 [==============================] - 2s 11ms/step - loss: 0.6709 - accuracy: 0.5500 - val_loss: 0.7108 - val_accuracy: 0.0000e+00\n",
      "Epoch 54/200\n",
      "156/156 [==============================] - 1s 9ms/step - loss: 0.6693 - accuracy: 0.5500 - val_loss: 0.6837 - val_accuracy: 0.0000e+00\n",
      "Epoch 55/200\n",
      "156/156 [==============================] - 2s 11ms/step - loss: 0.6709 - accuracy: 0.5501 - val_loss: 0.7233 - val_accuracy: 0.0000e+00\n",
      "Epoch 56/200\n",
      "156/156 [==============================] - 2s 11ms/step - loss: 0.6715 - accuracy: 0.5501 - val_loss: 0.6939 - val_accuracy: 0.0000e+00\n",
      "Epoch 57/200\n",
      "156/156 [==============================] - 2s 9ms/step - loss: 0.6706 - accuracy: 0.5500 - val_loss: 0.7147 - val_accuracy: 0.0000e+00\n",
      "Epoch 58/200\n",
      "156/156 [==============================] - 2s 11ms/step - loss: 0.6698 - accuracy: 0.5502 - val_loss: 0.6806 - val_accuracy: 0.0000e+00\n",
      "Epoch 59/200\n",
      "156/156 [==============================] - 2s 10ms/step - loss: 0.6690 - accuracy: 0.5500 - val_loss: 0.6861 - val_accuracy: 0.0000e+00\n",
      "Epoch 60/200\n",
      "156/156 [==============================] - 2s 10ms/step - loss: 0.6695 - accuracy: 0.5499 - val_loss: 0.7164 - val_accuracy: 0.0000e+00\n",
      "Epoch 61/200\n",
      "156/156 [==============================] - 2s 9ms/step - loss: 0.6704 - accuracy: 0.5500 - val_loss: 0.6681 - val_accuracy: 0.0000e+00\n",
      "Epoch 62/200\n",
      "156/156 [==============================] - 2s 9ms/step - loss: 0.6693 - accuracy: 0.5501 - val_loss: 0.7056 - val_accuracy: 0.0000e+00\n",
      "Epoch 63/200\n",
      "156/156 [==============================] - 2s 10ms/step - loss: 0.6709 - accuracy: 0.5500 - val_loss: 0.7003 - val_accuracy: 0.0000e+00\n",
      "Epoch 64/200\n",
      "156/156 [==============================] - 2s 11ms/step - loss: 0.6707 - accuracy: 0.5503 - val_loss: 0.7051 - val_accuracy: 0.0000e+00\n",
      "Epoch 65/200\n",
      "156/156 [==============================] - 2s 10ms/step - loss: 0.6697 - accuracy: 0.5499 - val_loss: 0.7043 - val_accuracy: 0.0000e+00\n",
      "Epoch 66/200\n",
      "156/156 [==============================] - 2s 11ms/step - loss: 0.6712 - accuracy: 0.5498 - val_loss: 0.7062 - val_accuracy: 0.0000e+00\n",
      "Epoch 67/200\n",
      "156/156 [==============================] - 2s 10ms/step - loss: 0.6706 - accuracy: 0.5501 - val_loss: 0.7152 - val_accuracy: 0.0000e+00\n",
      "Epoch 68/200\n",
      "156/156 [==============================] - 2s 11ms/step - loss: 0.6710 - accuracy: 0.5500 - val_loss: 0.6857 - val_accuracy: 0.0000e+00\n",
      "Epoch 69/200\n",
      "156/156 [==============================] - 2s 11ms/step - loss: 0.6692 - accuracy: 0.5502 - val_loss: 0.6898 - val_accuracy: 0.0000e+00\n",
      "Epoch 70/200\n",
      "156/156 [==============================] - 2s 11ms/step - loss: 0.6709 - accuracy: 0.5499 - val_loss: 0.6970 - val_accuracy: 0.0000e+00\n",
      "Epoch 71/200\n",
      "156/156 [==============================] - 2s 9ms/step - loss: 0.6706 - accuracy: 0.5501 - val_loss: 0.7161 - val_accuracy: 0.0000e+00\n",
      "Epoch 72/200\n",
      "156/156 [==============================] - 2s 10ms/step - loss: 0.6711 - accuracy: 0.5498 - val_loss: 0.6952 - val_accuracy: 0.0000e+00\n",
      "Epoch 73/200\n",
      "156/156 [==============================] - 2s 9ms/step - loss: 0.6710 - accuracy: 0.5500 - val_loss: 0.6764 - val_accuracy: 0.0000e+00\n",
      "Epoch 74/200\n",
      "156/156 [==============================] - 1s 9ms/step - loss: 0.6701 - accuracy: 0.5498 - val_loss: 0.6850 - val_accuracy: 0.0000e+00\n",
      "Epoch 75/200\n",
      "156/156 [==============================] - 2s 9ms/step - loss: 0.6710 - accuracy: 0.5500 - val_loss: 0.7002 - val_accuracy: 0.0000e+00\n",
      "Epoch 76/200\n",
      "156/156 [==============================] - 1s 8ms/step - loss: 0.6706 - accuracy: 0.5501 - val_loss: 0.6920 - val_accuracy: 0.0000e+00\n",
      "Epoch 77/200\n",
      "153/156 [============================>.] - ETA: 0s - loss: 0.6707 - accuracy: 0.5497INFO:tensorflow:Assets written to: /home/paul_d/Sources/sem_math_repo/classification_formulas/wandb/run-20230306_111341-ilclsn0h/files/model-best/assets\n"
     ]
    },
    {
     "name": "stderr",
     "output_type": "stream",
     "text": [
      "INFO:tensorflow:Assets written to: /home/paul_d/Sources/sem_math_repo/classification_formulas/wandb/run-20230306_111341-ilclsn0h/files/model-best/assets\n"
     ]
    },
    {
     "name": "stdout",
     "output_type": "stream",
     "text": [
      "156/156 [==============================] - 2s 14ms/step - loss: 0.6709 - accuracy: 0.5503 - val_loss: 0.6463 - val_accuracy: 0.0000e+00\n",
      "Epoch 78/200\n",
      "156/156 [==============================] - 1s 8ms/step - loss: 0.6705 - accuracy: 0.5500 - val_loss: 0.6554 - val_accuracy: 0.0000e+00\n",
      "Epoch 79/200\n",
      "156/156 [==============================] - 2s 9ms/step - loss: 0.6701 - accuracy: 0.5501 - val_loss: 0.7007 - val_accuracy: 0.0000e+00\n",
      "Epoch 80/200\n",
      "156/156 [==============================] - 1s 9ms/step - loss: 0.6712 - accuracy: 0.5498 - val_loss: 0.7225 - val_accuracy: 0.0000e+00\n",
      "Epoch 81/200\n",
      "156/156 [==============================] - 1s 9ms/step - loss: 0.6714 - accuracy: 0.5502 - val_loss: 0.7033 - val_accuracy: 0.0000e+00\n",
      "Epoch 82/200\n",
      "156/156 [==============================] - 2s 12ms/step - loss: 0.6704 - accuracy: 0.5499 - val_loss: 0.6953 - val_accuracy: 0.0000e+00\n",
      "Epoch 83/200\n",
      "156/156 [==============================] - 2s 12ms/step - loss: 0.6700 - accuracy: 0.5500 - val_loss: 0.7028 - val_accuracy: 0.0000e+00\n",
      "Epoch 84/200\n",
      "156/156 [==============================] - 2s 10ms/step - loss: 0.6702 - accuracy: 0.5500 - val_loss: 0.7149 - val_accuracy: 0.0000e+00\n",
      "Epoch 85/200\n",
      "156/156 [==============================] - 2s 10ms/step - loss: 0.6699 - accuracy: 0.5501 - val_loss: 0.6667 - val_accuracy: 0.0000e+00\n",
      "Epoch 86/200\n",
      "156/156 [==============================] - 2s 12ms/step - loss: 0.6705 - accuracy: 0.5502 - val_loss: 0.6924 - val_accuracy: 0.0000e+00\n",
      "Epoch 87/200\n",
      "156/156 [==============================] - 2s 12ms/step - loss: 0.6706 - accuracy: 0.5499 - val_loss: 0.6640 - val_accuracy: 0.0000e+00\n",
      "Epoch 88/200\n",
      "156/156 [==============================] - 2s 10ms/step - loss: 0.6711 - accuracy: 0.5500 - val_loss: 0.6713 - val_accuracy: 0.0000e+00\n",
      "Epoch 89/200\n",
      "156/156 [==============================] - 2s 10ms/step - loss: 0.6706 - accuracy: 0.5501 - val_loss: 0.6950 - val_accuracy: 0.0000e+00\n",
      "Epoch 90/200\n",
      "156/156 [==============================] - 2s 10ms/step - loss: 0.6703 - accuracy: 0.5500 - val_loss: 0.6836 - val_accuracy: 0.0000e+00\n",
      "Epoch 91/200\n",
      "156/156 [==============================] - 2s 11ms/step - loss: 0.6717 - accuracy: 0.5501 - val_loss: 0.6934 - val_accuracy: 0.0000e+00\n",
      "Epoch 92/200\n",
      "156/156 [==============================] - 2s 12ms/step - loss: 0.6701 - accuracy: 0.5501 - val_loss: 0.6864 - val_accuracy: 0.0000e+00\n",
      "Epoch 93/200\n",
      "156/156 [==============================] - 2s 12ms/step - loss: 0.6707 - accuracy: 0.5501 - val_loss: 0.6995 - val_accuracy: 0.0000e+00\n",
      "Epoch 94/200\n",
      "156/156 [==============================] - 2s 11ms/step - loss: 0.6700 - accuracy: 0.5499 - val_loss: 0.6688 - val_accuracy: 0.0000e+00\n",
      "Epoch 95/200\n",
      "156/156 [==============================] - 2s 11ms/step - loss: 0.6704 - accuracy: 0.5501 - val_loss: 0.6912 - val_accuracy: 0.0000e+00\n",
      "Epoch 96/200\n",
      "156/156 [==============================] - 2s 11ms/step - loss: 0.6692 - accuracy: 0.5502 - val_loss: 0.7007 - val_accuracy: 0.0000e+00\n",
      "Epoch 97/200\n",
      "156/156 [==============================] - 2s 10ms/step - loss: 0.6700 - accuracy: 0.5502 - val_loss: 0.7093 - val_accuracy: 0.0000e+00\n",
      "Epoch 98/200\n",
      "156/156 [==============================] - 2s 10ms/step - loss: 0.6704 - accuracy: 0.5500 - val_loss: 0.6950 - val_accuracy: 0.0000e+00\n",
      "Epoch 99/200\n",
      "156/156 [==============================] - 2s 10ms/step - loss: 0.6708 - accuracy: 0.5498 - val_loss: 0.6865 - val_accuracy: 0.0000e+00\n",
      "Epoch 100/200\n",
      "156/156 [==============================] - 2s 10ms/step - loss: 0.6702 - accuracy: 0.5498 - val_loss: 0.6824 - val_accuracy: 0.0000e+00\n",
      "Epoch 101/200\n",
      "156/156 [==============================] - 1s 9ms/step - loss: 0.6707 - accuracy: 0.5497 - val_loss: 0.6738 - val_accuracy: 0.0000e+00\n",
      "Epoch 102/200\n",
      "156/156 [==============================] - 1s 9ms/step - loss: 0.6704 - accuracy: 0.5498 - val_loss: 0.6861 - val_accuracy: 0.0000e+00\n",
      "Epoch 103/200\n",
      "156/156 [==============================] - 2s 10ms/step - loss: 0.6706 - accuracy: 0.5505 - val_loss: 0.6711 - val_accuracy: 0.0000e+00\n",
      "Epoch 104/200\n",
      "156/156 [==============================] - 1s 9ms/step - loss: 0.6701 - accuracy: 0.5502 - val_loss: 0.6970 - val_accuracy: 0.0000e+00\n",
      "Epoch 105/200\n",
      "156/156 [==============================] - 1s 9ms/step - loss: 0.6705 - accuracy: 0.5503 - val_loss: 0.6962 - val_accuracy: 0.0000e+00\n",
      "Epoch 106/200\n",
      "156/156 [==============================] - 2s 9ms/step - loss: 0.6704 - accuracy: 0.5503 - val_loss: 0.6629 - val_accuracy: 0.0000e+00\n",
      "Epoch 107/200\n",
      "156/156 [==============================] - 1s 9ms/step - loss: 0.6696 - accuracy: 0.5504 - val_loss: 0.6965 - val_accuracy: 0.0000e+00\n",
      "Epoch 108/200\n",
      "156/156 [==============================] - 2s 9ms/step - loss: 0.6707 - accuracy: 0.5504 - val_loss: 0.6969 - val_accuracy: 0.0000e+00\n",
      "Epoch 109/200\n",
      "156/156 [==============================] - 1s 9ms/step - loss: 0.6710 - accuracy: 0.5501 - val_loss: 0.6944 - val_accuracy: 0.0000e+00\n",
      "Epoch 110/200\n",
      "156/156 [==============================] - 1s 9ms/step - loss: 0.6702 - accuracy: 0.5504 - val_loss: 0.6774 - val_accuracy: 0.0000e+00\n",
      "Epoch 111/200\n",
      "156/156 [==============================] - 2s 9ms/step - loss: 0.6702 - accuracy: 0.5504 - val_loss: 0.6783 - val_accuracy: 0.0000e+00\n",
      "Epoch 112/200\n",
      "156/156 [==============================] - 1s 9ms/step - loss: 0.6691 - accuracy: 0.5498 - val_loss: 0.6882 - val_accuracy: 0.0000e+00\n",
      "Epoch 113/200\n",
      "156/156 [==============================] - 2s 9ms/step - loss: 0.6708 - accuracy: 0.5500 - val_loss: 0.6685 - val_accuracy: 0.0000e+00\n",
      "Epoch 114/200\n",
      "156/156 [==============================] - 1s 9ms/step - loss: 0.6709 - accuracy: 0.5499 - val_loss: 0.6733 - val_accuracy: 0.0000e+00\n",
      "Epoch 115/200\n",
      "156/156 [==============================] - 2s 10ms/step - loss: 0.6696 - accuracy: 0.5498 - val_loss: 0.6808 - val_accuracy: 0.0000e+00\n",
      "Epoch 116/200\n",
      "156/156 [==============================] - 1s 9ms/step - loss: 0.6695 - accuracy: 0.5502 - val_loss: 0.6639 - val_accuracy: 0.0000e+00\n",
      "Epoch 117/200\n",
      "156/156 [==============================] - 1s 9ms/step - loss: 0.6708 - accuracy: 0.5500 - val_loss: 0.6847 - val_accuracy: 0.0000e+00\n",
      "Epoch 118/200\n",
      "156/156 [==============================] - 1s 8ms/step - loss: 0.6701 - accuracy: 0.5502 - val_loss: 0.6679 - val_accuracy: 0.0000e+00\n",
      "Epoch 119/200\n",
      "156/156 [==============================] - 1s 8ms/step - loss: 0.6712 - accuracy: 0.5500 - val_loss: 0.6808 - val_accuracy: 0.0000e+00\n",
      "Epoch 120/200\n",
      "156/156 [==============================] - 1s 9ms/step - loss: 0.6707 - accuracy: 0.5500 - val_loss: 0.6899 - val_accuracy: 0.0000e+00\n",
      "Epoch 121/200\n",
      "156/156 [==============================] - 1s 9ms/step - loss: 0.6713 - accuracy: 0.5499 - val_loss: 0.6548 - val_accuracy: 0.0000e+00\n",
      "Epoch 122/200\n",
      "156/156 [==============================] - 2s 9ms/step - loss: 0.6702 - accuracy: 0.5499 - val_loss: 0.6704 - val_accuracy: 0.0000e+00\n",
      "Epoch 123/200\n",
      "156/156 [==============================] - 1s 9ms/step - loss: 0.6713 - accuracy: 0.5500 - val_loss: 0.6747 - val_accuracy: 0.0000e+00\n",
      "Epoch 124/200\n",
      "156/156 [==============================] - 1s 9ms/step - loss: 0.6706 - accuracy: 0.5499 - val_loss: 0.6780 - val_accuracy: 0.0000e+00\n",
      "Epoch 125/200\n",
      "156/156 [==============================] - 1s 9ms/step - loss: 0.6713 - accuracy: 0.5501 - val_loss: 0.6763 - val_accuracy: 0.0000e+00\n",
      "Epoch 126/200\n",
      "156/156 [==============================] - 1s 9ms/step - loss: 0.6704 - accuracy: 0.5502 - val_loss: 0.6826 - val_accuracy: 0.0000e+00\n",
      "Epoch 127/200\n",
      "156/156 [==============================] - 1s 8ms/step - loss: 0.6709 - accuracy: 0.5503 - val_loss: 0.6883 - val_accuracy: 0.0000e+00\n",
      "Epoch 128/200\n",
      "156/156 [==============================] - 1s 9ms/step - loss: 0.6713 - accuracy: 0.5498 - val_loss: 0.6792 - val_accuracy: 0.0000e+00\n",
      "Epoch 129/200\n",
      "156/156 [==============================] - 1s 9ms/step - loss: 0.6703 - accuracy: 0.5500 - val_loss: 0.6722 - val_accuracy: 0.0000e+00\n",
      "Epoch 130/200\n",
      "156/156 [==============================] - 1s 9ms/step - loss: 0.6710 - accuracy: 0.5497 - val_loss: 0.6657 - val_accuracy: 0.0000e+00\n",
      "Epoch 131/200\n",
      "156/156 [==============================] - 1s 9ms/step - loss: 0.6707 - accuracy: 0.5501 - val_loss: 0.6885 - val_accuracy: 0.0000e+00\n",
      "Epoch 132/200\n",
      "156/156 [==============================] - 1s 8ms/step - loss: 0.6702 - accuracy: 0.5499 - val_loss: 0.6861 - val_accuracy: 0.0000e+00\n",
      "Epoch 133/200\n",
      "156/156 [==============================] - 1s 8ms/step - loss: 0.6709 - accuracy: 0.5500 - val_loss: 0.6829 - val_accuracy: 0.0000e+00\n",
      "Epoch 134/200\n",
      "156/156 [==============================] - 1s 9ms/step - loss: 0.6692 - accuracy: 0.5498 - val_loss: 0.6907 - val_accuracy: 0.0000e+00\n",
      "Epoch 135/200\n",
      "156/156 [==============================] - 1s 9ms/step - loss: 0.6717 - accuracy: 0.5502 - val_loss: 0.6964 - val_accuracy: 0.0000e+00\n",
      "Epoch 136/200\n",
      "156/156 [==============================] - 1s 9ms/step - loss: 0.6709 - accuracy: 0.5502 - val_loss: 0.6839 - val_accuracy: 0.0000e+00\n",
      "Epoch 137/200\n",
      "156/156 [==============================] - 1s 8ms/step - loss: 0.6709 - accuracy: 0.5500 - val_loss: 0.6635 - val_accuracy: 0.0000e+00\n",
      "Epoch 138/200\n",
      "156/156 [==============================] - 1s 8ms/step - loss: 0.6693 - accuracy: 0.5500 - val_loss: 0.6902 - val_accuracy: 0.0000e+00\n",
      "Epoch 139/200\n",
      "156/156 [==============================] - 1s 8ms/step - loss: 0.6701 - accuracy: 0.5501 - val_loss: 0.6815 - val_accuracy: 0.0000e+00\n",
      "Epoch 140/200\n",
      "156/156 [==============================] - 1s 9ms/step - loss: 0.6684 - accuracy: 0.5501 - val_loss: 0.6642 - val_accuracy: 0.0000e+00\n",
      "Epoch 141/200\n",
      "156/156 [==============================] - 1s 9ms/step - loss: 0.6709 - accuracy: 0.5501 - val_loss: 0.6587 - val_accuracy: 0.0000e+00\n",
      "Epoch 142/200\n",
      "156/156 [==============================] - 1s 8ms/step - loss: 0.6712 - accuracy: 0.5499 - val_loss: 0.6653 - val_accuracy: 0.0000e+00\n",
      "Epoch 143/200\n",
      "156/156 [==============================] - 1s 8ms/step - loss: 0.6707 - accuracy: 0.5502 - val_loss: 0.7049 - val_accuracy: 0.0000e+00\n",
      "Epoch 144/200\n",
      "156/156 [==============================] - 2s 9ms/step - loss: 0.6710 - accuracy: 0.5500 - val_loss: 0.6767 - val_accuracy: 0.0000e+00\n",
      "Epoch 145/200\n",
      "156/156 [==============================] - 1s 8ms/step - loss: 0.6692 - accuracy: 0.5501 - val_loss: 0.6592 - val_accuracy: 0.0000e+00\n",
      "Epoch 146/200\n",
      "156/156 [==============================] - 1s 8ms/step - loss: 0.6704 - accuracy: 0.5502 - val_loss: 0.6994 - val_accuracy: 0.0000e+00\n",
      "Epoch 147/200\n",
      "156/156 [==============================] - 1s 9ms/step - loss: 0.6716 - accuracy: 0.5497 - val_loss: 0.6858 - val_accuracy: 0.0000e+00\n",
      "Epoch 148/200\n",
      "156/156 [==============================] - 2s 9ms/step - loss: 0.6706 - accuracy: 0.5501 - val_loss: 0.6559 - val_accuracy: 0.0000e+00\n",
      "Epoch 149/200\n",
      "156/156 [==============================] - 1s 9ms/step - loss: 0.6704 - accuracy: 0.5504 - val_loss: 0.7084 - val_accuracy: 0.0000e+00\n",
      "Epoch 150/200\n",
      "156/156 [==============================] - 2s 9ms/step - loss: 0.6703 - accuracy: 0.5500 - val_loss: 0.6812 - val_accuracy: 0.0000e+00\n",
      "Epoch 151/200\n",
      "156/156 [==============================] - 1s 8ms/step - loss: 0.6703 - accuracy: 0.5497 - val_loss: 0.6842 - val_accuracy: 0.0000e+00\n",
      "Epoch 152/200\n",
      "156/156 [==============================] - 2s 10ms/step - loss: 0.6713 - accuracy: 0.5503 - val_loss: 0.7007 - val_accuracy: 0.0000e+00\n",
      "Epoch 153/200\n",
      "156/156 [==============================] - 1s 9ms/step - loss: 0.6694 - accuracy: 0.5501 - val_loss: 0.6857 - val_accuracy: 0.0000e+00\n",
      "Epoch 154/200\n",
      "156/156 [==============================] - 1s 9ms/step - loss: 0.6703 - accuracy: 0.5500 - val_loss: 0.6611 - val_accuracy: 0.0000e+00\n",
      "Epoch 155/200\n",
      "156/156 [==============================] - 1s 9ms/step - loss: 0.6700 - accuracy: 0.5501 - val_loss: 0.6752 - val_accuracy: 0.0000e+00\n",
      "Epoch 156/200\n",
      "156/156 [==============================] - ETA: 0s - loss: 0.6703 - accuracy: 0.5499INFO:tensorflow:Assets written to: /home/paul_d/Sources/sem_math_repo/classification_formulas/wandb/run-20230306_111341-ilclsn0h/files/model-best/assets\n"
     ]
    },
    {
     "name": "stderr",
     "output_type": "stream",
     "text": [
      "INFO:tensorflow:Assets written to: /home/paul_d/Sources/sem_math_repo/classification_formulas/wandb/run-20230306_111341-ilclsn0h/files/model-best/assets\n"
     ]
    },
    {
     "name": "stdout",
     "output_type": "stream",
     "text": [
      "156/156 [==============================] - 2s 15ms/step - loss: 0.6703 - accuracy: 0.5499 - val_loss: 0.6323 - val_accuracy: 0.0000e+00\n",
      "Epoch 157/200\n",
      "156/156 [==============================] - 1s 8ms/step - loss: 0.6715 - accuracy: 0.5502 - val_loss: 0.6554 - val_accuracy: 0.0000e+00\n",
      "Epoch 158/200\n",
      "156/156 [==============================] - 1s 8ms/step - loss: 0.6719 - accuracy: 0.5501 - val_loss: 0.6914 - val_accuracy: 0.0000e+00\n",
      "Epoch 159/200\n",
      "156/156 [==============================] - 1s 9ms/step - loss: 0.6712 - accuracy: 0.5499 - val_loss: 0.6605 - val_accuracy: 0.0000e+00\n",
      "Epoch 160/200\n",
      "156/156 [==============================] - 2s 10ms/step - loss: 0.6700 - accuracy: 0.5498 - val_loss: 0.6948 - val_accuracy: 0.0000e+00\n",
      "Epoch 161/200\n",
      "156/156 [==============================] - 2s 10ms/step - loss: 0.6700 - accuracy: 0.5501 - val_loss: 0.6641 - val_accuracy: 0.0000e+00\n",
      "Epoch 162/200\n",
      "156/156 [==============================] - 2s 12ms/step - loss: 0.6705 - accuracy: 0.5500 - val_loss: 0.6802 - val_accuracy: 0.0000e+00\n",
      "Epoch 163/200\n",
      "156/156 [==============================] - 2s 11ms/step - loss: 0.6715 - accuracy: 0.5500 - val_loss: 0.6703 - val_accuracy: 0.0000e+00\n",
      "Epoch 164/200\n",
      "156/156 [==============================] - 2s 11ms/step - loss: 0.6710 - accuracy: 0.5504 - val_loss: 0.6497 - val_accuracy: 0.0000e+00\n",
      "Epoch 165/200\n",
      "156/156 [==============================] - 2s 11ms/step - loss: 0.6696 - accuracy: 0.5499 - val_loss: 0.6648 - val_accuracy: 0.0000e+00\n",
      "Epoch 166/200\n",
      "156/156 [==============================] - 2s 10ms/step - loss: 0.6708 - accuracy: 0.5501 - val_loss: 0.6776 - val_accuracy: 0.0000e+00\n",
      "Epoch 167/200\n",
      "156/156 [==============================] - 2s 10ms/step - loss: 0.6709 - accuracy: 0.5503 - val_loss: 0.6823 - val_accuracy: 0.0000e+00\n",
      "Epoch 168/200\n",
      "156/156 [==============================] - 2s 10ms/step - loss: 0.6706 - accuracy: 0.5498 - val_loss: 0.6745 - val_accuracy: 0.0000e+00\n",
      "Epoch 169/200\n",
      "156/156 [==============================] - 2s 10ms/step - loss: 0.6705 - accuracy: 0.5504 - val_loss: 0.6648 - val_accuracy: 0.0000e+00\n",
      "Epoch 170/200\n",
      "156/156 [==============================] - 2s 12ms/step - loss: 0.6699 - accuracy: 0.5500 - val_loss: 0.6810 - val_accuracy: 0.0000e+00\n",
      "Epoch 171/200\n",
      "156/156 [==============================] - 2s 10ms/step - loss: 0.6701 - accuracy: 0.5504 - val_loss: 0.6668 - val_accuracy: 0.0000e+00\n",
      "Epoch 172/200\n",
      "156/156 [==============================] - 1s 9ms/step - loss: 0.6708 - accuracy: 0.5499 - val_loss: 0.6804 - val_accuracy: 0.0000e+00\n",
      "Epoch 173/200\n",
      "156/156 [==============================] - 2s 9ms/step - loss: 0.6709 - accuracy: 0.5499 - val_loss: 0.6558 - val_accuracy: 0.0000e+00\n",
      "Epoch 174/200\n",
      "156/156 [==============================] - 1s 9ms/step - loss: 0.6707 - accuracy: 0.5498 - val_loss: 0.6804 - val_accuracy: 0.0000e+00\n",
      "Epoch 175/200\n",
      "156/156 [==============================] - 2s 10ms/step - loss: 0.6703 - accuracy: 0.5503 - val_loss: 0.6717 - val_accuracy: 0.0000e+00\n",
      "Epoch 176/200\n",
      "156/156 [==============================] - 2s 11ms/step - loss: 0.6706 - accuracy: 0.5504 - val_loss: 0.6896 - val_accuracy: 0.0000e+00\n",
      "Epoch 177/200\n",
      "156/156 [==============================] - 1s 9ms/step - loss: 0.6706 - accuracy: 0.5503 - val_loss: 0.7130 - val_accuracy: 0.0000e+00\n",
      "Epoch 178/200\n",
      "156/156 [==============================] - 2s 10ms/step - loss: 0.6708 - accuracy: 0.5500 - val_loss: 0.6860 - val_accuracy: 0.0000e+00\n",
      "Epoch 179/200\n",
      "156/156 [==============================] - 1s 9ms/step - loss: 0.6702 - accuracy: 0.5496 - val_loss: 0.6853 - val_accuracy: 0.0000e+00\n",
      "Epoch 180/200\n",
      "156/156 [==============================] - 2s 10ms/step - loss: 0.6706 - accuracy: 0.5501 - val_loss: 0.6750 - val_accuracy: 0.0000e+00\n",
      "Epoch 181/200\n",
      "156/156 [==============================] - 2s 9ms/step - loss: 0.6702 - accuracy: 0.5502 - val_loss: 0.6773 - val_accuracy: 0.0000e+00\n",
      "Epoch 182/200\n",
      "156/156 [==============================] - 2s 9ms/step - loss: 0.6701 - accuracy: 0.5501 - val_loss: 0.6733 - val_accuracy: 0.0000e+00\n",
      "Epoch 183/200\n",
      "156/156 [==============================] - 1s 9ms/step - loss: 0.6690 - accuracy: 0.5500 - val_loss: 0.6427 - val_accuracy: 0.0000e+00\n",
      "Epoch 184/200\n",
      "156/156 [==============================] - 2s 10ms/step - loss: 0.6701 - accuracy: 0.5500 - val_loss: 0.6434 - val_accuracy: 0.0000e+00\n",
      "Epoch 185/200\n",
      "156/156 [==============================] - 1s 8ms/step - loss: 0.6708 - accuracy: 0.5504 - val_loss: 0.6906 - val_accuracy: 0.0000e+00\n",
      "Epoch 186/200\n",
      "156/156 [==============================] - 1s 9ms/step - loss: 0.6694 - accuracy: 0.5498 - val_loss: 0.6729 - val_accuracy: 0.0000e+00\n",
      "Epoch 187/200\n",
      "156/156 [==============================] - 1s 9ms/step - loss: 0.6712 - accuracy: 0.5500 - val_loss: 0.6731 - val_accuracy: 0.0000e+00\n",
      "Epoch 188/200\n",
      "156/156 [==============================] - 1s 9ms/step - loss: 0.6715 - accuracy: 0.5502 - val_loss: 0.6625 - val_accuracy: 0.0000e+00\n",
      "Epoch 189/200\n",
      "156/156 [==============================] - 1s 9ms/step - loss: 0.6704 - accuracy: 0.5502 - val_loss: 0.6817 - val_accuracy: 0.0000e+00\n",
      "Epoch 190/200\n",
      "156/156 [==============================] - 1s 9ms/step - loss: 0.6706 - accuracy: 0.5500 - val_loss: 0.6905 - val_accuracy: 0.0000e+00\n",
      "Epoch 191/200\n",
      "156/156 [==============================] - 1s 9ms/step - loss: 0.6701 - accuracy: 0.5501 - val_loss: 0.6758 - val_accuracy: 0.0000e+00\n",
      "Epoch 192/200\n",
      "156/156 [==============================] - 2s 10ms/step - loss: 0.6694 - accuracy: 0.5500 - val_loss: 0.7062 - val_accuracy: 0.0000e+00\n",
      "Epoch 193/200\n",
      "156/156 [==============================] - 1s 9ms/step - loss: 0.6705 - accuracy: 0.5503 - val_loss: 0.7070 - val_accuracy: 0.0000e+00\n",
      "Epoch 194/200\n",
      "156/156 [==============================] - 2s 10ms/step - loss: 0.6713 - accuracy: 0.5500 - val_loss: 0.6781 - val_accuracy: 0.0000e+00\n",
      "Epoch 195/200\n",
      "156/156 [==============================] - 1s 9ms/step - loss: 0.6699 - accuracy: 0.5500 - val_loss: 0.6702 - val_accuracy: 0.0000e+00\n",
      "Epoch 196/200\n",
      "156/156 [==============================] - 1s 9ms/step - loss: 0.6719 - accuracy: 0.5504 - val_loss: 0.6680 - val_accuracy: 0.0000e+00\n",
      "Epoch 197/200\n",
      "156/156 [==============================] - 1s 9ms/step - loss: 0.6705 - accuracy: 0.5501 - val_loss: 0.6788 - val_accuracy: 0.0000e+00\n",
      "Epoch 198/200\n",
      "156/156 [==============================] - 1s 9ms/step - loss: 0.6700 - accuracy: 0.5500 - val_loss: 0.6760 - val_accuracy: 0.0000e+00\n",
      "Epoch 199/200\n",
      "156/156 [==============================] - 2s 9ms/step - loss: 0.6707 - accuracy: 0.5501 - val_loss: 0.6745 - val_accuracy: 0.0000e+00\n",
      "Epoch 200/200\n",
      "156/156 [==============================] - 1s 9ms/step - loss: 0.6704 - accuracy: 0.5498 - val_loss: 0.6683 - val_accuracy: 0.0000e+00\n"
     ]
    }
   ],
   "source": [
    "configs_dict = {\n",
    "    \"learning_rate\": LEARNING_RATE,\n",
    "    \"algorithm\": \"LogReg\",\n",
    "    \"configuration\": \"1-tokens\",\n",
    "    \"optimizer\": \"adam\",\n",
    "    \"loss\": \"binary_crossentropy\",\n",
    "    \"epochs\": NUM_EPOCHS,\n",
    "    \"batch_size\": 64,\n",
    "    \"vectorizer\": \"bigram_count\",\n",
    "    \"dataset\": \"TOKENIZED_SET_V1\"\n",
    "}\n",
    "run = wandb.init(project=wandb_project_name, reinit=True, config=configs_dict)\n",
    "\n",
    "\n",
    "history = model.fit(train_dataset, epochs=NUM_EPOCHS,\n",
    "                    validation_data=test_dataset,\n",
    "                    validation_steps=VAL_STEPS_PER_EPOCH, steps_per_epoch=STEPS_PER_EPOCH,callbacks= [WandbCallback()])#[tensorboard_callback])\n",
    "\n",
    "run.finish()"
   ]
  },
  {
   "cell_type": "code",
   "execution_count": 48,
   "metadata": {},
   "outputs": [
    {
     "name": "stdout",
     "output_type": "stream",
     "text": [
      "15/15 [==============================] - 0s 2ms/step - loss: 0.6683 - accuracy: 0.0000e+00\n",
      "Test Loss: 0.6683318614959717\n",
      "Test Accuracy: 0.0\n"
     ]
    }
   ],
   "source": [
    "test_loss, test_acc = model.evaluate(test_dataset)\n",
    "\n",
    "print(\"Test Loss:\", test_loss)\n",
    "print(\"Test Accuracy:\", test_acc)"
   ]
  },
  {
   "cell_type": "code",
   "execution_count": 49,
   "metadata": {},
   "outputs": [
    {
     "data": {
      "text/plain": [
       "(0.0, 0.752591472864151)"
      ]
     },
     "execution_count": 49,
     "metadata": {},
     "output_type": "execute_result"
    },
    {
     "data": {
      "image/png": "[encoded data removed]",
      "text/plain": [
       "<Figure size 1600x800 with 2 Axes>"
      ]
     },
     "metadata": {},
     "output_type": "display_data"
    }
   ],
   "source": [
    "plt.figure(figsize=(16,8))\n",
    "plt.subplot(1,2,1)\n",
    "plot_graphs(history, \"accuracy\")\n",
    "plt.ylim(None, 1)\n",
    "plt.subplot(1,2,2)\n",
    "plot_graphs(history, \"loss\")\n",
    "plt.ylim(0, None)"
   ]
  },
  {
   "cell_type": "code",
   "execution_count": 50,
   "metadata": {},
   "outputs": [
    {
     "name": "stdout",
     "output_type": "stream",
     "text": [
      "1/1 [==============================] - 0s 75ms/step\n",
      "[-0.43868077]\n"
     ]
    }
   ],
   "source": [
    "# predict on a sample text without padding\n",
    "sample_text = (\"g ( x ) = x ^ 3\")\n",
    "predictions = model.predict(np.array([sample_text]))\n",
    "print(predictions[0])"
   ]
  },
  {
   "attachments": {},
   "cell_type": "markdown",
   "metadata": {},
   "source": [
    "##### Experiment 5:"
   ]
  },
  {
   "cell_type": "code",
   "execution_count": 51,
   "metadata": {},
   "outputs": [
    {
     "name": "stdout",
     "output_type": "stream",
     "text": [
      "122\n",
      "1/1 [==============================] - 0s 72ms/step\n",
      "[-0.02859315]\n"
     ]
    }
   ],
   "source": [
    "model = create_model(encoder_tf_idf)\n",
    "# predict on a sample formula using untrained model\n",
    "sample_text = (\"g ( x ) = x ^ 3\")\n",
    "predictions = model.predict(np.array([sample_text]))\n",
    "print(predictions[0])"
   ]
  },
  {
   "cell_type": "code",
   "execution_count": 52,
   "metadata": {},
   "outputs": [],
   "source": [
    "#model.compile(optimizer='sgd',loss='sparse_categorical_crossentropy',metrics=['accuracy'])\n",
    "LEARNING_RATE = 1e-2\n",
    "NUM_EPOCHS = 200\n",
    "model.compile(loss=tf.keras.losses.BinaryCrossentropy(from_logits=True),\n",
    "              optimizer=tf.keras.optimizers.Adam(LEARNING_RATE),\n",
    "              metrics=[\"accuracy\"])"
   ]
  },
  {
   "cell_type": "code",
   "execution_count": 53,
   "metadata": {},
   "outputs": [
    {
     "name": "stdout",
     "output_type": "stream",
     "text": [
      "Epoch 1/200\n",
      "137/156 [=========================>....] - ETA: 0s - loss: 0.6800 - accuracy: 0.5528INFO:tensorflow:Assets written to: /home/paul_d/Sources/sem_math_repo/classification_formulas/wandb/run-20230306_111907-a9vhjqfk/files/model-best/assets\n"
     ]
    },
    {
     "name": "stderr",
     "output_type": "stream",
     "text": [
      "INFO:tensorflow:Assets written to: /home/paul_d/Sources/sem_math_repo/classification_formulas/wandb/run-20230306_111907-a9vhjqfk/files/model-best/assets\n"
     ]
    },
    {
     "name": "stdout",
     "output_type": "stream",
     "text": [
      "156/156 [==============================] - 3s 13ms/step - loss: 0.6811 - accuracy: 0.5501 - val_loss: 0.7385 - val_accuracy: 0.0000e+00\n",
      "Epoch 2/200\n",
      "156/156 [==============================] - 0s 3ms/step - loss: 0.6764 - accuracy: 0.5505 - val_loss: 0.7880 - val_accuracy: 0.0000e+00\n",
      "Epoch 3/200\n",
      "156/156 [==============================] - 0s 2ms/step - loss: 0.6754 - accuracy: 0.5506 - val_loss: 0.7624 - val_accuracy: 0.0010\n",
      "Epoch 4/200\n",
      "156/156 [==============================] - 0s 2ms/step - loss: 0.6760 - accuracy: 0.5515 - val_loss: 0.8267 - val_accuracy: 0.0010\n",
      "Epoch 5/200\n",
      "156/156 [==============================] - 0s 2ms/step - loss: 0.6757 - accuracy: 0.5512 - val_loss: 0.7926 - val_accuracy: 0.0010\n",
      "Epoch 6/200\n",
      "156/156 [==============================] - 0s 2ms/step - loss: 0.6751 - accuracy: 0.5520 - val_loss: 0.8052 - val_accuracy: 0.0010\n",
      "Epoch 7/200\n",
      "156/156 [==============================] - 0s 2ms/step - loss: 0.6745 - accuracy: 0.5498 - val_loss: 0.7586 - val_accuracy: 0.0031\n",
      "Epoch 8/200\n",
      "156/156 [==============================] - 0s 2ms/step - loss: 0.6753 - accuracy: 0.5498 - val_loss: 0.7914 - val_accuracy: 0.0010\n",
      "Epoch 9/200\n",
      "156/156 [==============================] - 0s 2ms/step - loss: 0.6738 - accuracy: 0.5521 - val_loss: 0.7393 - val_accuracy: 0.0031\n",
      "Epoch 10/200\n",
      "156/156 [==============================] - 0s 2ms/step - loss: 0.6754 - accuracy: 0.5511 - val_loss: 0.7852 - val_accuracy: 0.0010\n",
      "Epoch 11/200\n",
      "156/156 [==============================] - 0s 3ms/step - loss: 0.6755 - accuracy: 0.5514 - val_loss: 0.7916 - val_accuracy: 0.0031\n",
      "Epoch 12/200\n",
      "156/156 [==============================] - 0s 2ms/step - loss: 0.6741 - accuracy: 0.5514 - val_loss: 0.8001 - val_accuracy: 0.0031\n",
      "Epoch 13/200\n",
      "156/156 [==============================] - 0s 2ms/step - loss: 0.6752 - accuracy: 0.5514 - val_loss: 0.7423 - val_accuracy: 0.0010\n",
      "Epoch 14/200\n",
      "156/156 [==============================] - 0s 2ms/step - loss: 0.6748 - accuracy: 0.5507 - val_loss: 0.8150 - val_accuracy: 0.0010\n",
      "Epoch 15/200\n",
      "143/156 [==========================>...] - ETA: 0s - loss: 0.6739 - accuracy: 0.5517INFO:tensorflow:Assets written to: /home/paul_d/Sources/sem_math_repo/classification_formulas/wandb/run-20230306_111907-a9vhjqfk/files/model-best/assets\n"
     ]
    },
    {
     "name": "stderr",
     "output_type": "stream",
     "text": [
      "INFO:tensorflow:Assets written to: /home/paul_d/Sources/sem_math_repo/classification_formulas/wandb/run-20230306_111907-a9vhjqfk/files/model-best/assets\n"
     ]
    },
    {
     "name": "stdout",
     "output_type": "stream",
     "text": [
      "156/156 [==============================] - 1s 9ms/step - loss: 0.6746 - accuracy: 0.5513 - val_loss: 0.7358 - val_accuracy: 0.0052\n",
      "Epoch 16/200\n",
      "156/156 [==============================] - 0s 2ms/step - loss: 0.6746 - accuracy: 0.5504 - val_loss: 0.7743 - val_accuracy: 0.0031\n",
      "Epoch 17/200\n",
      "156/156 [==============================] - 0s 2ms/step - loss: 0.6747 - accuracy: 0.5513 - val_loss: 0.7734 - val_accuracy: 0.0010\n",
      "Epoch 18/200\n",
      "156/156 [==============================] - 1s 3ms/step - loss: 0.6747 - accuracy: 0.5516 - val_loss: 0.7804 - val_accuracy: 0.0010\n",
      "Epoch 19/200\n",
      "156/156 [==============================] - 0s 2ms/step - loss: 0.6750 - accuracy: 0.5507 - val_loss: 0.7670 - val_accuracy: 0.0010\n",
      "Epoch 20/200\n",
      "156/156 [==============================] - 0s 2ms/step - loss: 0.6750 - accuracy: 0.5508 - val_loss: 0.7824 - val_accuracy: 0.0010\n",
      "Epoch 21/200\n",
      "156/156 [==============================] - 0s 2ms/step - loss: 0.6752 - accuracy: 0.5515 - val_loss: 0.7619 - val_accuracy: 0.0010\n",
      "Epoch 22/200\n",
      "156/156 [==============================] - 0s 3ms/step - loss: 0.6733 - accuracy: 0.5519 - val_loss: 0.7873 - val_accuracy: 0.0010\n",
      "Epoch 23/200\n",
      "156/156 [==============================] - 0s 2ms/step - loss: 0.6746 - accuracy: 0.5514 - val_loss: 0.7589 - val_accuracy: 0.0031\n",
      "Epoch 24/200\n",
      "156/156 [==============================] - 0s 3ms/step - loss: 0.6743 - accuracy: 0.5511 - val_loss: 0.7603 - val_accuracy: 0.0031\n",
      "Epoch 25/200\n",
      "156/156 [==============================] - 1s 3ms/step - loss: 0.6727 - accuracy: 0.5502 - val_loss: 0.7792 - val_accuracy: 0.0010\n",
      "Epoch 26/200\n",
      "156/156 [==============================] - 1s 3ms/step - loss: 0.6746 - accuracy: 0.5515 - val_loss: 0.7787 - val_accuracy: 0.0031\n",
      "Epoch 27/200\n",
      "156/156 [==============================] - 1s 3ms/step - loss: 0.6741 - accuracy: 0.5517 - val_loss: 0.7819 - val_accuracy: 0.0031\n",
      "Epoch 28/200\n",
      "156/156 [==============================] - 0s 3ms/step - loss: 0.6743 - accuracy: 0.5514 - val_loss: 0.8014 - val_accuracy: 0.0010\n",
      "Epoch 29/200\n",
      "156/156 [==============================] - 0s 3ms/step - loss: 0.6748 - accuracy: 0.5508 - val_loss: 0.7939 - val_accuracy: 0.0010\n",
      "Epoch 30/200\n",
      "156/156 [==============================] - 1s 3ms/step - loss: 0.6742 - accuracy: 0.5513 - val_loss: 0.8007 - val_accuracy: 0.0031\n",
      "Epoch 31/200\n",
      "156/156 [==============================] - 0s 3ms/step - loss: 0.6749 - accuracy: 0.5524 - val_loss: 0.7613 - val_accuracy: 0.0052\n",
      "Epoch 32/200\n",
      "156/156 [==============================] - 0s 3ms/step - loss: 0.6740 - accuracy: 0.5517 - val_loss: 0.7580 - val_accuracy: 0.0052\n",
      "Epoch 33/200\n",
      "156/156 [==============================] - 1s 3ms/step - loss: 0.6754 - accuracy: 0.5513 - val_loss: 0.7701 - val_accuracy: 0.0031\n",
      "Epoch 34/200\n",
      "156/156 [==============================] - 0s 3ms/step - loss: 0.6742 - accuracy: 0.5516 - val_loss: 0.7682 - val_accuracy: 0.0031\n",
      "Epoch 35/200\n",
      "156/156 [==============================] - 1s 3ms/step - loss: 0.6757 - accuracy: 0.5506 - val_loss: 0.7677 - val_accuracy: 0.0031\n",
      "Epoch 36/200\n",
      "156/156 [==============================] - 1s 3ms/step - loss: 0.6732 - accuracy: 0.5511 - val_loss: 0.7969 - val_accuracy: 0.0031\n",
      "Epoch 37/200\n",
      "156/156 [==============================] - 0s 3ms/step - loss: 0.6739 - accuracy: 0.5513 - val_loss: 0.7497 - val_accuracy: 0.0052\n",
      "Epoch 38/200\n",
      "156/156 [==============================] - 1s 3ms/step - loss: 0.6753 - accuracy: 0.5518 - val_loss: 0.7890 - val_accuracy: 0.0052\n",
      "Epoch 39/200\n",
      "148/156 [===========================>..] - ETA: 0s - loss: 0.6729 - accuracy: 0.5511INFO:tensorflow:Assets written to: /home/paul_d/Sources/sem_math_repo/classification_formulas/wandb/run-20230306_111907-a9vhjqfk/files/model-best/assets\n"
     ]
    },
    {
     "name": "stderr",
     "output_type": "stream",
     "text": [
      "INFO:tensorflow:Assets written to: /home/paul_d/Sources/sem_math_repo/classification_formulas/wandb/run-20230306_111907-a9vhjqfk/files/model-best/assets\n"
     ]
    },
    {
     "name": "stdout",
     "output_type": "stream",
     "text": [
      "156/156 [==============================] - 2s 9ms/step - loss: 0.6727 - accuracy: 0.5502 - val_loss: 0.7150 - val_accuracy: 0.0052\n",
      "Epoch 40/200\n",
      "156/156 [==============================] - 0s 2ms/step - loss: 0.6750 - accuracy: 0.5503 - val_loss: 0.7501 - val_accuracy: 0.0031\n",
      "Epoch 41/200\n",
      "156/156 [==============================] - 0s 2ms/step - loss: 0.6758 - accuracy: 0.5502 - val_loss: 0.8010 - val_accuracy: 0.0010\n",
      "Epoch 42/200\n",
      "156/156 [==============================] - 0s 3ms/step - loss: 0.6751 - accuracy: 0.5510 - val_loss: 0.7780 - val_accuracy: 0.0031\n",
      "Epoch 43/200\n",
      "156/156 [==============================] - 0s 2ms/step - loss: 0.6744 - accuracy: 0.5519 - val_loss: 0.7211 - val_accuracy: 0.0052\n",
      "Epoch 44/200\n",
      "156/156 [==============================] - 0s 2ms/step - loss: 0.6754 - accuracy: 0.5507 - val_loss: 0.8466 - val_accuracy: 0.0010\n",
      "Epoch 45/200\n",
      "156/156 [==============================] - 0s 2ms/step - loss: 0.6742 - accuracy: 0.5509 - val_loss: 0.7876 - val_accuracy: 0.0010\n",
      "Epoch 46/200\n",
      "156/156 [==============================] - 0s 3ms/step - loss: 0.6752 - accuracy: 0.5517 - val_loss: 0.7998 - val_accuracy: 0.0052\n",
      "Epoch 47/200\n",
      "156/156 [==============================] - 0s 3ms/step - loss: 0.6733 - accuracy: 0.5510 - val_loss: 0.7565 - val_accuracy: 0.0052\n",
      "Epoch 48/200\n",
      "156/156 [==============================] - 0s 2ms/step - loss: 0.6749 - accuracy: 0.5506 - val_loss: 0.7805 - val_accuracy: 0.0010\n",
      "Epoch 49/200\n",
      "156/156 [==============================] - 0s 2ms/step - loss: 0.6748 - accuracy: 0.5505 - val_loss: 0.7922 - val_accuracy: 0.0010\n",
      "Epoch 50/200\n",
      "156/156 [==============================] - 0s 3ms/step - loss: 0.6754 - accuracy: 0.5501 - val_loss: 0.7745 - val_accuracy: 0.0010\n",
      "Epoch 51/200\n",
      "156/156 [==============================] - 0s 3ms/step - loss: 0.6749 - accuracy: 0.5504 - val_loss: 0.8085 - val_accuracy: 0.0000e+00\n",
      "Epoch 52/200\n",
      "156/156 [==============================] - 0s 3ms/step - loss: 0.6734 - accuracy: 0.5503 - val_loss: 0.7644 - val_accuracy: 0.0031\n",
      "Epoch 53/200\n",
      "156/156 [==============================] - 0s 3ms/step - loss: 0.6743 - accuracy: 0.5513 - val_loss: 0.7799 - val_accuracy: 0.0031\n",
      "Epoch 54/200\n",
      "156/156 [==============================] - 1s 3ms/step - loss: 0.6756 - accuracy: 0.5510 - val_loss: 0.7849 - val_accuracy: 0.0031\n",
      "Epoch 55/200\n",
      "156/156 [==============================] - 0s 3ms/step - loss: 0.6744 - accuracy: 0.5515 - val_loss: 0.7803 - val_accuracy: 0.0052\n",
      "Epoch 56/200\n",
      "156/156 [==============================] - 0s 3ms/step - loss: 0.6736 - accuracy: 0.5511 - val_loss: 0.7692 - val_accuracy: 0.0031\n",
      "Epoch 57/200\n",
      "156/156 [==============================] - 0s 3ms/step - loss: 0.6755 - accuracy: 0.5526 - val_loss: 0.7554 - val_accuracy: 0.0031\n",
      "Epoch 58/200\n",
      "156/156 [==============================] - 0s 3ms/step - loss: 0.6750 - accuracy: 0.5511 - val_loss: 0.7980 - val_accuracy: 0.0010\n",
      "Epoch 59/200\n",
      "156/156 [==============================] - 1s 3ms/step - loss: 0.6742 - accuracy: 0.5513 - val_loss: 0.7638 - val_accuracy: 0.0010\n",
      "Epoch 60/200\n",
      "156/156 [==============================] - 0s 3ms/step - loss: 0.6734 - accuracy: 0.5521 - val_loss: 0.7506 - val_accuracy: 0.0052\n",
      "Epoch 61/200\n",
      "156/156 [==============================] - 0s 3ms/step - loss: 0.6745 - accuracy: 0.5512 - val_loss: 0.7776 - val_accuracy: 0.0031\n",
      "Epoch 62/200\n",
      "156/156 [==============================] - 0s 3ms/step - loss: 0.6743 - accuracy: 0.5509 - val_loss: 0.8218 - val_accuracy: 0.0010\n",
      "Epoch 63/200\n",
      "156/156 [==============================] - 0s 3ms/step - loss: 0.6750 - accuracy: 0.5501 - val_loss: 0.7777 - val_accuracy: 0.0031\n",
      "Epoch 64/200\n",
      "156/156 [==============================] - 1s 3ms/step - loss: 0.6743 - accuracy: 0.5515 - val_loss: 0.8373 - val_accuracy: 0.0010\n",
      "Epoch 65/200\n",
      "156/156 [==============================] - 0s 3ms/step - loss: 0.6751 - accuracy: 0.5504 - val_loss: 0.7681 - val_accuracy: 0.0031\n",
      "Epoch 66/200\n",
      "156/156 [==============================] - 1s 3ms/step - loss: 0.6749 - accuracy: 0.5524 - val_loss: 0.7503 - val_accuracy: 0.0052\n",
      "Epoch 67/200\n",
      "156/156 [==============================] - 0s 3ms/step - loss: 0.6754 - accuracy: 0.5514 - val_loss: 0.7627 - val_accuracy: 0.0052\n",
      "Epoch 68/200\n",
      "156/156 [==============================] - 0s 3ms/step - loss: 0.6760 - accuracy: 0.5519 - val_loss: 0.8318 - val_accuracy: 0.0010\n",
      "Epoch 69/200\n",
      "156/156 [==============================] - 0s 3ms/step - loss: 0.6748 - accuracy: 0.5513 - val_loss: 0.7781 - val_accuracy: 0.0031\n",
      "Epoch 70/200\n",
      "156/156 [==============================] - 1s 3ms/step - loss: 0.6749 - accuracy: 0.5497 - val_loss: 0.7576 - val_accuracy: 0.0031\n",
      "Epoch 71/200\n",
      "156/156 [==============================] - 1s 3ms/step - loss: 0.6762 - accuracy: 0.5513 - val_loss: 0.8063 - val_accuracy: 0.0031\n",
      "Epoch 72/200\n",
      "156/156 [==============================] - 0s 3ms/step - loss: 0.6751 - accuracy: 0.5512 - val_loss: 0.7624 - val_accuracy: 0.0052\n",
      "Epoch 73/200\n",
      "156/156 [==============================] - 1s 3ms/step - loss: 0.6746 - accuracy: 0.5510 - val_loss: 0.7826 - val_accuracy: 0.0052\n",
      "Epoch 74/200\n",
      "156/156 [==============================] - 0s 3ms/step - loss: 0.6750 - accuracy: 0.5511 - val_loss: 0.7482 - val_accuracy: 0.0052\n",
      "Epoch 75/200\n",
      "156/156 [==============================] - 0s 3ms/step - loss: 0.6745 - accuracy: 0.5509 - val_loss: 0.7833 - val_accuracy: 0.0031\n",
      "Epoch 76/200\n",
      "156/156 [==============================] - 1s 3ms/step - loss: 0.6745 - accuracy: 0.5502 - val_loss: 0.7706 - val_accuracy: 0.0010\n",
      "Epoch 77/200\n",
      "156/156 [==============================] - 1s 3ms/step - loss: 0.6755 - accuracy: 0.5508 - val_loss: 0.7338 - val_accuracy: 0.0010\n",
      "Epoch 78/200\n",
      "156/156 [==============================] - 0s 3ms/step - loss: 0.6738 - accuracy: 0.5501 - val_loss: 0.7468 - val_accuracy: 0.0031\n",
      "Epoch 79/200\n",
      "156/156 [==============================] - 0s 3ms/step - loss: 0.6748 - accuracy: 0.5507 - val_loss: 0.7732 - val_accuracy: 0.0010\n",
      "Epoch 80/200\n",
      "156/156 [==============================] - 0s 3ms/step - loss: 0.6757 - accuracy: 0.5506 - val_loss: 0.7702 - val_accuracy: 0.0010\n",
      "Epoch 81/200\n",
      "156/156 [==============================] - 1s 3ms/step - loss: 0.6752 - accuracy: 0.5513 - val_loss: 0.7296 - val_accuracy: 0.0052\n",
      "Epoch 82/200\n",
      "156/156 [==============================] - 1s 3ms/step - loss: 0.6744 - accuracy: 0.5505 - val_loss: 0.7970 - val_accuracy: 0.0031\n",
      "Epoch 83/200\n",
      "156/156 [==============================] - 1s 4ms/step - loss: 0.6753 - accuracy: 0.5515 - val_loss: 0.7588 - val_accuracy: 0.0052\n",
      "Epoch 84/200\n",
      "156/156 [==============================] - 0s 3ms/step - loss: 0.6732 - accuracy: 0.5518 - val_loss: 0.7913 - val_accuracy: 0.0052\n",
      "Epoch 85/200\n",
      "156/156 [==============================] - 0s 3ms/step - loss: 0.6747 - accuracy: 0.5512 - val_loss: 0.8004 - val_accuracy: 0.0010\n",
      "Epoch 86/200\n",
      "156/156 [==============================] - 0s 2ms/step - loss: 0.6738 - accuracy: 0.5507 - val_loss: 0.7402 - val_accuracy: 0.0052\n",
      "Epoch 87/200\n",
      "156/156 [==============================] - 0s 3ms/step - loss: 0.6741 - accuracy: 0.5513 - val_loss: 0.7918 - val_accuracy: 0.0031\n",
      "Epoch 88/200\n",
      "156/156 [==============================] - 0s 2ms/step - loss: 0.6755 - accuracy: 0.5521 - val_loss: 0.7965 - val_accuracy: 0.0052\n",
      "Epoch 89/200\n",
      "156/156 [==============================] - 1s 3ms/step - loss: 0.6730 - accuracy: 0.5515 - val_loss: 0.7911 - val_accuracy: 0.0031\n",
      "Epoch 90/200\n",
      "156/156 [==============================] - 0s 3ms/step - loss: 0.6741 - accuracy: 0.5509 - val_loss: 0.8071 - val_accuracy: 0.0010\n",
      "Epoch 91/200\n",
      "156/156 [==============================] - 0s 2ms/step - loss: 0.6746 - accuracy: 0.5509 - val_loss: 0.7993 - val_accuracy: 0.0031\n",
      "Epoch 92/200\n",
      "156/156 [==============================] - 0s 2ms/step - loss: 0.6758 - accuracy: 0.5509 - val_loss: 0.7810 - val_accuracy: 0.0031\n",
      "Epoch 93/200\n",
      "156/156 [==============================] - 0s 2ms/step - loss: 0.6759 - accuracy: 0.5506 - val_loss: 0.7631 - val_accuracy: 0.0010\n",
      "Epoch 94/200\n",
      "156/156 [==============================] - 0s 2ms/step - loss: 0.6729 - accuracy: 0.5517 - val_loss: 0.7658 - val_accuracy: 0.0052\n",
      "Epoch 95/200\n",
      "156/156 [==============================] - 0s 3ms/step - loss: 0.6727 - accuracy: 0.5512 - val_loss: 0.7323 - val_accuracy: 0.0052\n",
      "Epoch 96/200\n",
      "156/156 [==============================] - 1s 3ms/step - loss: 0.6753 - accuracy: 0.5516 - val_loss: 0.8171 - val_accuracy: 0.0031\n",
      "Epoch 97/200\n",
      "156/156 [==============================] - 0s 2ms/step - loss: 0.6745 - accuracy: 0.5512 - val_loss: 0.7704 - val_accuracy: 0.0052\n",
      "Epoch 98/200\n",
      "156/156 [==============================] - 0s 2ms/step - loss: 0.6737 - accuracy: 0.5504 - val_loss: 0.7778 - val_accuracy: 0.0031\n",
      "Epoch 99/200\n",
      "156/156 [==============================] - 0s 3ms/step - loss: 0.6739 - accuracy: 0.5521 - val_loss: 0.7762 - val_accuracy: 0.0052\n",
      "Epoch 100/200\n",
      "156/156 [==============================] - 0s 2ms/step - loss: 0.6741 - accuracy: 0.5507 - val_loss: 0.7732 - val_accuracy: 0.0031\n",
      "Epoch 101/200\n",
      "156/156 [==============================] - 0s 3ms/step - loss: 0.6750 - accuracy: 0.5515 - val_loss: 0.7985 - val_accuracy: 0.0031\n",
      "Epoch 102/200\n",
      "156/156 [==============================] - 0s 3ms/step - loss: 0.6733 - accuracy: 0.5509 - val_loss: 0.8343 - val_accuracy: 0.0010\n",
      "Epoch 103/200\n",
      "156/156 [==============================] - 1s 3ms/step - loss: 0.6747 - accuracy: 0.5522 - val_loss: 0.8213 - val_accuracy: 0.0010\n",
      "Epoch 104/200\n",
      "156/156 [==============================] - 0s 3ms/step - loss: 0.6747 - accuracy: 0.5502 - val_loss: 0.7508 - val_accuracy: 0.0031\n",
      "Epoch 105/200\n",
      "156/156 [==============================] - 0s 3ms/step - loss: 0.6729 - accuracy: 0.5507 - val_loss: 0.8106 - val_accuracy: 0.0010\n",
      "Epoch 106/200\n",
      "156/156 [==============================] - 0s 3ms/step - loss: 0.6760 - accuracy: 0.5516 - val_loss: 0.8113 - val_accuracy: 0.0010\n",
      "Epoch 107/200\n",
      "156/156 [==============================] - 0s 3ms/step - loss: 0.6750 - accuracy: 0.5506 - val_loss: 0.7874 - val_accuracy: 0.0010\n",
      "Epoch 108/200\n",
      "156/156 [==============================] - 0s 3ms/step - loss: 0.6751 - accuracy: 0.5513 - val_loss: 0.8030 - val_accuracy: 0.0031\n",
      "Epoch 109/200\n",
      "156/156 [==============================] - 0s 3ms/step - loss: 0.6741 - accuracy: 0.5512 - val_loss: 0.8022 - val_accuracy: 0.0010\n",
      "Epoch 110/200\n",
      "156/156 [==============================] - 0s 3ms/step - loss: 0.6756 - accuracy: 0.5506 - val_loss: 0.7806 - val_accuracy: 0.0031\n",
      "Epoch 111/200\n",
      "156/156 [==============================] - 0s 2ms/step - loss: 0.6743 - accuracy: 0.5508 - val_loss: 0.7751 - val_accuracy: 0.0052\n",
      "Epoch 112/200\n",
      "156/156 [==============================] - 0s 3ms/step - loss: 0.6743 - accuracy: 0.5519 - val_loss: 0.7564 - val_accuracy: 0.0052\n",
      "Epoch 113/200\n",
      "156/156 [==============================] - 0s 3ms/step - loss: 0.6747 - accuracy: 0.5513 - val_loss: 0.7977 - val_accuracy: 0.0031\n",
      "Epoch 114/200\n",
      "156/156 [==============================] - 0s 2ms/step - loss: 0.6735 - accuracy: 0.5510 - val_loss: 0.7610 - val_accuracy: 0.0031\n",
      "Epoch 115/200\n",
      "156/156 [==============================] - 0s 2ms/step - loss: 0.6736 - accuracy: 0.5517 - val_loss: 0.7918 - val_accuracy: 0.0010\n",
      "Epoch 116/200\n",
      "156/156 [==============================] - 0s 3ms/step - loss: 0.6753 - accuracy: 0.5507 - val_loss: 0.7826 - val_accuracy: 0.0010\n",
      "Epoch 117/200\n",
      "156/156 [==============================] - 0s 3ms/step - loss: 0.6740 - accuracy: 0.5520 - val_loss: 0.7974 - val_accuracy: 0.0052\n",
      "Epoch 118/200\n",
      "156/156 [==============================] - 0s 2ms/step - loss: 0.6750 - accuracy: 0.5506 - val_loss: 0.8053 - val_accuracy: 0.0010\n",
      "Epoch 119/200\n",
      "156/156 [==============================] - 0s 3ms/step - loss: 0.6748 - accuracy: 0.5516 - val_loss: 0.7928 - val_accuracy: 0.0031\n",
      "Epoch 120/200\n",
      "156/156 [==============================] - 0s 2ms/step - loss: 0.6752 - accuracy: 0.5509 - val_loss: 0.7417 - val_accuracy: 0.0052\n",
      "Epoch 121/200\n",
      "156/156 [==============================] - 0s 3ms/step - loss: 0.6745 - accuracy: 0.5516 - val_loss: 0.7987 - val_accuracy: 0.0031\n",
      "Epoch 122/200\n",
      "156/156 [==============================] - 0s 3ms/step - loss: 0.6738 - accuracy: 0.5518 - val_loss: 0.8624 - val_accuracy: 0.0010\n",
      "Epoch 123/200\n",
      "156/156 [==============================] - 1s 3ms/step - loss: 0.6730 - accuracy: 0.5515 - val_loss: 0.7784 - val_accuracy: 0.0052\n",
      "Epoch 124/200\n",
      "156/156 [==============================] - 0s 2ms/step - loss: 0.6749 - accuracy: 0.5514 - val_loss: 0.8130 - val_accuracy: 0.0052\n",
      "Epoch 125/200\n",
      "156/156 [==============================] - 0s 3ms/step - loss: 0.6738 - accuracy: 0.5514 - val_loss: 0.7991 - val_accuracy: 0.0052\n",
      "Epoch 126/200\n",
      "156/156 [==============================] - 0s 2ms/step - loss: 0.6758 - accuracy: 0.5503 - val_loss: 0.7611 - val_accuracy: 0.0031\n",
      "Epoch 127/200\n",
      "156/156 [==============================] - 0s 3ms/step - loss: 0.6743 - accuracy: 0.5518 - val_loss: 0.8303 - val_accuracy: 0.0010\n",
      "Epoch 128/200\n",
      "156/156 [==============================] - 0s 3ms/step - loss: 0.6754 - accuracy: 0.5517 - val_loss: 0.7855 - val_accuracy: 0.0031\n",
      "Epoch 129/200\n",
      "156/156 [==============================] - 0s 3ms/step - loss: 0.6737 - accuracy: 0.5513 - val_loss: 0.8175 - val_accuracy: 0.0010\n",
      "Epoch 130/200\n",
      "156/156 [==============================] - 0s 2ms/step - loss: 0.6743 - accuracy: 0.5528 - val_loss: 0.8331 - val_accuracy: 0.0031\n",
      "Epoch 131/200\n",
      "156/156 [==============================] - 0s 3ms/step - loss: 0.6730 - accuracy: 0.5514 - val_loss: 0.7827 - val_accuracy: 0.0052\n",
      "Epoch 132/200\n",
      "156/156 [==============================] - 0s 3ms/step - loss: 0.6747 - accuracy: 0.5514 - val_loss: 0.7760 - val_accuracy: 0.0031\n",
      "Epoch 133/200\n",
      "156/156 [==============================] - 0s 2ms/step - loss: 0.6731 - accuracy: 0.5511 - val_loss: 0.7927 - val_accuracy: 0.0052\n",
      "Epoch 134/200\n",
      "156/156 [==============================] - 0s 3ms/step - loss: 0.6748 - accuracy: 0.5513 - val_loss: 0.8162 - val_accuracy: 0.0031\n",
      "Epoch 135/200\n",
      "156/156 [==============================] - 0s 3ms/step - loss: 0.6738 - accuracy: 0.5514 - val_loss: 0.7682 - val_accuracy: 0.0052\n",
      "Epoch 136/200\n",
      "156/156 [==============================] - 1s 3ms/step - loss: 0.6758 - accuracy: 0.5513 - val_loss: 0.8031 - val_accuracy: 0.0052\n",
      "Epoch 137/200\n",
      "156/156 [==============================] - 0s 2ms/step - loss: 0.6738 - accuracy: 0.5513 - val_loss: 0.7687 - val_accuracy: 0.0052\n",
      "Epoch 138/200\n",
      "156/156 [==============================] - 0s 3ms/step - loss: 0.6759 - accuracy: 0.5509 - val_loss: 0.8071 - val_accuracy: 0.0010\n",
      "Epoch 139/200\n",
      "156/156 [==============================] - 0s 3ms/step - loss: 0.6751 - accuracy: 0.5518 - val_loss: 0.8047 - val_accuracy: 0.0052\n",
      "Epoch 140/200\n",
      "156/156 [==============================] - 0s 3ms/step - loss: 0.6733 - accuracy: 0.5511 - val_loss: 0.7982 - val_accuracy: 0.0010\n",
      "Epoch 141/200\n",
      "156/156 [==============================] - 0s 3ms/step - loss: 0.6745 - accuracy: 0.5522 - val_loss: 0.8505 - val_accuracy: 0.0010\n",
      "Epoch 142/200\n",
      "156/156 [==============================] - 0s 2ms/step - loss: 0.6741 - accuracy: 0.5514 - val_loss: 0.7529 - val_accuracy: 0.0052\n",
      "Epoch 143/200\n",
      "156/156 [==============================] - 0s 3ms/step - loss: 0.6744 - accuracy: 0.5507 - val_loss: 0.8261 - val_accuracy: 0.0010\n",
      "Epoch 144/200\n",
      "156/156 [==============================] - 0s 3ms/step - loss: 0.6740 - accuracy: 0.5515 - val_loss: 0.8062 - val_accuracy: 0.0031\n",
      "Epoch 145/200\n",
      "156/156 [==============================] - 0s 3ms/step - loss: 0.6744 - accuracy: 0.5519 - val_loss: 0.7937 - val_accuracy: 0.0031\n",
      "Epoch 146/200\n",
      "156/156 [==============================] - 0s 3ms/step - loss: 0.6740 - accuracy: 0.5514 - val_loss: 0.8470 - val_accuracy: 0.0010\n",
      "Epoch 147/200\n",
      "156/156 [==============================] - 0s 3ms/step - loss: 0.6746 - accuracy: 0.5497 - val_loss: 0.7667 - val_accuracy: 0.0031\n",
      "Epoch 148/200\n",
      "156/156 [==============================] - 0s 2ms/step - loss: 0.6733 - accuracy: 0.5513 - val_loss: 0.7727 - val_accuracy: 0.0052\n",
      "Epoch 149/200\n",
      "156/156 [==============================] - 0s 3ms/step - loss: 0.6739 - accuracy: 0.5508 - val_loss: 0.8445 - val_accuracy: 0.0010\n",
      "Epoch 150/200\n",
      "156/156 [==============================] - 0s 3ms/step - loss: 0.6743 - accuracy: 0.5519 - val_loss: 0.7739 - val_accuracy: 0.0052\n",
      "Epoch 151/200\n",
      "156/156 [==============================] - 0s 3ms/step - loss: 0.6743 - accuracy: 0.5511 - val_loss: 0.7644 - val_accuracy: 0.0052\n",
      "Epoch 152/200\n",
      "156/156 [==============================] - 0s 3ms/step - loss: 0.6755 - accuracy: 0.5511 - val_loss: 0.7990 - val_accuracy: 0.0031\n",
      "Epoch 153/200\n",
      "156/156 [==============================] - 0s 2ms/step - loss: 0.6742 - accuracy: 0.5507 - val_loss: 0.8033 - val_accuracy: 0.0031\n",
      "Epoch 154/200\n",
      "156/156 [==============================] - 0s 2ms/step - loss: 0.6742 - accuracy: 0.5518 - val_loss: 0.8331 - val_accuracy: 0.0052\n",
      "Epoch 155/200\n",
      "156/156 [==============================] - 0s 3ms/step - loss: 0.6740 - accuracy: 0.5515 - val_loss: 0.8012 - val_accuracy: 0.0031\n",
      "Epoch 156/200\n",
      "156/156 [==============================] - 0s 3ms/step - loss: 0.6737 - accuracy: 0.5520 - val_loss: 0.7859 - val_accuracy: 0.0052\n",
      "Epoch 157/200\n",
      "156/156 [==============================] - 0s 3ms/step - loss: 0.6741 - accuracy: 0.5516 - val_loss: 0.8553 - val_accuracy: 0.0010\n",
      "Epoch 158/200\n",
      "156/156 [==============================] - 0s 3ms/step - loss: 0.6743 - accuracy: 0.5513 - val_loss: 0.7839 - val_accuracy: 0.0031\n",
      "Epoch 159/200\n",
      "156/156 [==============================] - 0s 2ms/step - loss: 0.6730 - accuracy: 0.5517 - val_loss: 0.7911 - val_accuracy: 0.0052\n",
      "Epoch 160/200\n",
      "156/156 [==============================] - 0s 3ms/step - loss: 0.6745 - accuracy: 0.5509 - val_loss: 0.7602 - val_accuracy: 0.0052\n",
      "Epoch 161/200\n",
      "156/156 [==============================] - 0s 3ms/step - loss: 0.6749 - accuracy: 0.5503 - val_loss: 0.8198 - val_accuracy: 0.0010\n",
      "Epoch 162/200\n",
      "156/156 [==============================] - 0s 3ms/step - loss: 0.6734 - accuracy: 0.5518 - val_loss: 0.8071 - val_accuracy: 0.0010\n",
      "Epoch 163/200\n",
      "149/156 [===========================>..] - ETA: 0s - loss: 0.6742 - accuracy: 0.5524INFO:tensorflow:Assets written to: /home/paul_d/Sources/sem_math_repo/classification_formulas/wandb/run-20230306_111907-a9vhjqfk/files/model-best/assets\n"
     ]
    },
    {
     "name": "stderr",
     "output_type": "stream",
     "text": [
      "INFO:tensorflow:Assets written to: /home/paul_d/Sources/sem_math_repo/classification_formulas/wandb/run-20230306_111907-a9vhjqfk/files/model-best/assets\n"
     ]
    },
    {
     "name": "stdout",
     "output_type": "stream",
     "text": [
      "156/156 [==============================] - 1s 9ms/step - loss: 0.6743 - accuracy: 0.5529 - val_loss: 0.7018 - val_accuracy: 0.0063\n",
      "Epoch 164/200\n",
      "156/156 [==============================] - 0s 2ms/step - loss: 0.6745 - accuracy: 0.5516 - val_loss: 0.7415 - val_accuracy: 0.0052\n",
      "Epoch 165/200\n",
      "156/156 [==============================] - 0s 2ms/step - loss: 0.6724 - accuracy: 0.5524 - val_loss: 0.7884 - val_accuracy: 0.0031\n",
      "Epoch 166/200\n",
      "156/156 [==============================] - 0s 3ms/step - loss: 0.6746 - accuracy: 0.5523 - val_loss: 0.7872 - val_accuracy: 0.0031\n",
      "Epoch 167/200\n",
      "156/156 [==============================] - 1s 3ms/step - loss: 0.6742 - accuracy: 0.5518 - val_loss: 0.7963 - val_accuracy: 0.0052\n",
      "Epoch 168/200\n",
      "156/156 [==============================] - 0s 2ms/step - loss: 0.6756 - accuracy: 0.5514 - val_loss: 0.8040 - val_accuracy: 0.0052\n",
      "Epoch 169/200\n",
      "156/156 [==============================] - 0s 2ms/step - loss: 0.6740 - accuracy: 0.5513 - val_loss: 0.8136 - val_accuracy: 0.0031\n",
      "Epoch 170/200\n",
      "156/156 [==============================] - 0s 3ms/step - loss: 0.6739 - accuracy: 0.5512 - val_loss: 0.7952 - val_accuracy: 0.0052\n",
      "Epoch 171/200\n",
      "156/156 [==============================] - 0s 3ms/step - loss: 0.6742 - accuracy: 0.5514 - val_loss: 0.8081 - val_accuracy: 0.0031\n",
      "Epoch 172/200\n",
      "156/156 [==============================] - 0s 2ms/step - loss: 0.6749 - accuracy: 0.5515 - val_loss: 0.7804 - val_accuracy: 0.0010\n",
      "Epoch 173/200\n",
      "156/156 [==============================] - 0s 2ms/step - loss: 0.6736 - accuracy: 0.5511 - val_loss: 0.7629 - val_accuracy: 0.0010\n",
      "Epoch 174/200\n",
      "156/156 [==============================] - 1s 3ms/step - loss: 0.6738 - accuracy: 0.5527 - val_loss: 0.8117 - val_accuracy: 0.0010\n",
      "Epoch 175/200\n",
      "156/156 [==============================] - 0s 2ms/step - loss: 0.6749 - accuracy: 0.5512 - val_loss: 0.7617 - val_accuracy: 0.0052\n",
      "Epoch 176/200\n",
      "156/156 [==============================] - 0s 2ms/step - loss: 0.6743 - accuracy: 0.5518 - val_loss: 0.8350 - val_accuracy: 0.0010\n",
      "Epoch 177/200\n",
      "156/156 [==============================] - 0s 2ms/step - loss: 0.6767 - accuracy: 0.5506 - val_loss: 0.7659 - val_accuracy: 0.0031\n",
      "Epoch 178/200\n",
      "156/156 [==============================] - 0s 2ms/step - loss: 0.6747 - accuracy: 0.5514 - val_loss: 0.7664 - val_accuracy: 0.0031\n",
      "Epoch 179/200\n",
      "156/156 [==============================] - 0s 2ms/step - loss: 0.6753 - accuracy: 0.5503 - val_loss: 0.8271 - val_accuracy: 0.0010\n",
      "Epoch 180/200\n",
      "156/156 [==============================] - 0s 3ms/step - loss: 0.6754 - accuracy: 0.5504 - val_loss: 0.8014 - val_accuracy: 0.0010\n",
      "Epoch 181/200\n",
      "156/156 [==============================] - 0s 2ms/step - loss: 0.6754 - accuracy: 0.5507 - val_loss: 0.8142 - val_accuracy: 0.0010\n",
      "Epoch 182/200\n",
      "156/156 [==============================] - 0s 3ms/step - loss: 0.6744 - accuracy: 0.5514 - val_loss: 0.7786 - val_accuracy: 0.0031\n",
      "Epoch 183/200\n",
      "156/156 [==============================] - 0s 2ms/step - loss: 0.6747 - accuracy: 0.5511 - val_loss: 0.8007 - val_accuracy: 0.0052\n",
      "Epoch 184/200\n",
      "156/156 [==============================] - 0s 3ms/step - loss: 0.6738 - accuracy: 0.5510 - val_loss: 0.7753 - val_accuracy: 0.0031\n",
      "Epoch 185/200\n",
      "156/156 [==============================] - 0s 3ms/step - loss: 0.6748 - accuracy: 0.5515 - val_loss: 0.7931 - val_accuracy: 0.0010\n",
      "Epoch 186/200\n",
      "156/156 [==============================] - 0s 2ms/step - loss: 0.6735 - accuracy: 0.5511 - val_loss: 0.7769 - val_accuracy: 0.0031\n",
      "Epoch 187/200\n",
      "156/156 [==============================] - 0s 2ms/step - loss: 0.6746 - accuracy: 0.5518 - val_loss: 0.8435 - val_accuracy: 0.0010\n",
      "Epoch 188/200\n",
      "156/156 [==============================] - 0s 2ms/step - loss: 0.6750 - accuracy: 0.5507 - val_loss: 0.7647 - val_accuracy: 0.0031\n",
      "Epoch 189/200\n",
      "156/156 [==============================] - 0s 3ms/step - loss: 0.6752 - accuracy: 0.5524 - val_loss: 0.8172 - val_accuracy: 0.0010\n",
      "Epoch 190/200\n",
      "156/156 [==============================] - 0s 2ms/step - loss: 0.6750 - accuracy: 0.5504 - val_loss: 0.8146 - val_accuracy: 0.0010\n",
      "Epoch 191/200\n",
      "156/156 [==============================] - 0s 2ms/step - loss: 0.6759 - accuracy: 0.5511 - val_loss: 0.8299 - val_accuracy: 0.0010\n",
      "Epoch 192/200\n",
      "156/156 [==============================] - 0s 2ms/step - loss: 0.6739 - accuracy: 0.5501 - val_loss: 0.7561 - val_accuracy: 0.0031\n",
      "Epoch 193/200\n",
      "156/156 [==============================] - 0s 3ms/step - loss: 0.6741 - accuracy: 0.5504 - val_loss: 0.7772 - val_accuracy: 0.0052\n",
      "Epoch 194/200\n",
      "156/156 [==============================] - 0s 2ms/step - loss: 0.6740 - accuracy: 0.5508 - val_loss: 0.8277 - val_accuracy: 0.0010\n",
      "Epoch 195/200\n",
      "156/156 [==============================] - 0s 2ms/step - loss: 0.6750 - accuracy: 0.5508 - val_loss: 0.7903 - val_accuracy: 0.0031\n",
      "Epoch 196/200\n",
      "156/156 [==============================] - 0s 3ms/step - loss: 0.6754 - accuracy: 0.5504 - val_loss: 0.7931 - val_accuracy: 0.0010\n",
      "Epoch 197/200\n",
      "156/156 [==============================] - 0s 3ms/step - loss: 0.6743 - accuracy: 0.5508 - val_loss: 0.8203 - val_accuracy: 0.0010\n",
      "Epoch 198/200\n",
      "156/156 [==============================] - 0s 3ms/step - loss: 0.6749 - accuracy: 0.5509 - val_loss: 0.7995 - val_accuracy: 0.0010\n",
      "Epoch 199/200\n",
      "156/156 [==============================] - 0s 2ms/step - loss: 0.6749 - accuracy: 0.5502 - val_loss: 0.8032 - val_accuracy: 0.0010\n",
      "Epoch 200/200\n",
      "156/156 [==============================] - 0s 2ms/step - loss: 0.6740 - accuracy: 0.5518 - val_loss: 0.8094 - val_accuracy: 0.0031\n"
     ]
    }
   ],
   "source": [
    "configs_dict = {\n",
    "    \"learning_rate\": LEARNING_RATE,\n",
    "    \"algorithm\": \"LogReg\",\n",
    "    \"configuration\": \"1-tokens\",\n",
    "    \"optimizer\": \"adam\",\n",
    "    \"loss\": \"binary_crossentropy\",\n",
    "    \"epochs\": NUM_EPOCHS,\n",
    "    \"batch_size\": 64,\n",
    "    \"vectorizer\": \"tf_idf\",\n",
    "    \"dataset\": \"TOKENIZED_SET_V1\"\n",
    "}\n",
    "run = wandb.init(project=wandb_project_name, reinit=True, config=configs_dict)\n",
    "\n",
    "\n",
    "history = model.fit(train_dataset, epochs=NUM_EPOCHS,\n",
    "                    validation_data=test_dataset,\n",
    "                    validation_steps=VAL_STEPS_PER_EPOCH, steps_per_epoch=STEPS_PER_EPOCH,callbacks= [WandbCallback()])#[tensorboard_callback])\n",
    "\n",
    "run.finish()"
   ]
  },
  {
   "cell_type": "code",
   "execution_count": 54,
   "metadata": {},
   "outputs": [
    {
     "name": "stdout",
     "output_type": "stream",
     "text": [
      "15/15 [==============================] - 0s 832us/step - loss: 0.8094 - accuracy: 0.0031\n",
      "Test Loss: 0.8094478249549866\n",
      "Test Accuracy: 0.0031250000465661287\n"
     ]
    }
   ],
   "source": [
    "test_loss, test_acc = model.evaluate(test_dataset)\n",
    "\n",
    "print(\"Test Loss:\", test_loss)\n",
    "print(\"Test Accuracy:\", test_acc)"
   ]
  },
  {
   "cell_type": "code",
   "execution_count": 55,
   "metadata": {},
   "outputs": [
    {
     "data": {
      "text/plain": [
       "(0.0, 0.8718679338693619)"
      ]
     },
     "execution_count": 55,
     "metadata": {},
     "output_type": "execute_result"
    },
    {
     "data": {
      "image/png": "[encoded data removed]",
      "text/plain": [
       "<Figure size 1600x800 with 2 Axes>"
      ]
     },
     "metadata": {},
     "output_type": "display_data"
    }
   ],
   "source": [
    "plt.figure(figsize=(16,8))\n",
    "plt.subplot(1,2,1)\n",
    "plot_graphs(history, \"accuracy\")\n",
    "plt.ylim(None, 1)\n",
    "plt.subplot(1,2,2)\n",
    "plot_graphs(history, \"loss\")\n",
    "plt.ylim(0, None)"
   ]
  },
  {
   "cell_type": "code",
   "execution_count": 56,
   "metadata": {},
   "outputs": [
    {
     "name": "stdout",
     "output_type": "stream",
     "text": [
      "1/1 [==============================] - 0s 72ms/step\n",
      "[-0.08274636]\n"
     ]
    }
   ],
   "source": [
    "# predict on a sample text without padding\n",
    "sample_text = (\"g ( x ) = x ^ 3\")\n",
    "predictions = model.predict(np.array([sample_text]))\n",
    "print(predictions[0])"
   ]
  }
 ],
 "metadata": {
  "kernelspec": {
   "display_name": "sem_math_env",
   "language": "python",
   "name": "python3"
  },
  "language_info": {
   "codemirror_mode": {
    "name": "ipython",
    "version": 3
   },
   "file_extension": ".py",
   "mimetype": "text/x-python",
   "name": "python",
   "nbconvert_exporter": "python",
   "pygments_lexer": "ipython3",
   "version": "3.10.9"
  },
  "orig_nbformat": 4,
  "vscode": {
   "interpreter": {
    "hash": "71a9a05a8d236729134f51de1f1fd612c9215f2a378954bc400639bac96e00eb"
   }
  }
 },
 "nbformat": 4,
 "nbformat_minor": 2
}
