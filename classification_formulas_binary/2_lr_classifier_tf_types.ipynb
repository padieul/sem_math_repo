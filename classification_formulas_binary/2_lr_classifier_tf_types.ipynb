{
 "cells": [
  {
   "cell_type": "code",
   "execution_count": 1,
   "metadata": {},
   "outputs": [],
   "source": [
    "import os\n",
    "\n",
    "# takes care of annoying TF-GPU warnings\n",
    "os.environ[\"CUDA_VISIBLE_DEVICES\"] = \"-1\"\n",
    "os.environ[\"TF_CPP_MIN_LOG_LEVEL\"] = \"3\"\n",
    "\n",
    "# remove useless Tensorflow warning:\n",
    "# WARNING:absl:Found untraced functions such as _update_step_xla, lstm_cell_1_layer_call_fn, \n",
    "# lstm_cell_1_layer_call_and_return_conditional_losses, lstm_cell_2_layer_call_fn, \n",
    "# lstm_cell_2_layer_call_and_return_conditional_losses while saving (showing 5 of 5). \n",
    "# These functions will not be directly callable after loading.\n",
    "import absl.logging\n",
    "absl.logging.set_verbosity(absl.logging.ERROR)"
   ]
  },
  {
   "cell_type": "code",
   "execution_count": 2,
   "metadata": {},
   "outputs": [],
   "source": [
    "# very useful for managing wandb runs: https://stackoverflow.com/questions/71106179/log-two-model-runs-with-keras-wandb\n",
    "import wandb\n",
    "from wandb.keras import WandbCallback\n",
    "\n",
    "os.environ[\"WANDB_SILENT\"] = \"true\""
   ]
  },
  {
   "attachments": {},
   "cell_type": "markdown",
   "metadata": {},
   "source": [
    "#### Logistic Regression: Formula Label Prediction (Variant 1: Stream of math tokens)"
   ]
  },
  {
   "cell_type": "code",
   "execution_count": 3,
   "metadata": {},
   "outputs": [],
   "source": [
    "import numpy as np \n",
    "import pandas as pd\n",
    "from pathlib import Path \n",
    "\n",
    "import tensorflow as tf\n",
    "\n",
    "import tensorflow_datasets as tfds\n",
    "import tensorflow_text as tf_text\n",
    "\n",
    "#from tf.keras.callbacks import tensorboard_callback\n",
    "\n",
    "import datetime\n",
    "\n",
    "tfds.disable_progress_bar()\n",
    "wandb_project_name = \"binary_formula_classification\""
   ]
  },
  {
   "cell_type": "code",
   "execution_count": 4,
   "metadata": {},
   "outputs": [
    {
     "data": {
      "text/plain": [
       "'\\ntf.debugging.experimental.enable_dump_debug_info(\\n    \"./tmp/tfdbg2_logdir\",\\n    tensor_debug_mode=\"FULL_HEALTH\",\\n    circular_buffer_size=-1)\\n'"
      ]
     },
     "execution_count": 4,
     "metadata": {},
     "output_type": "execute_result"
    }
   ],
   "source": [
    "tensorboard_callback = tf.keras.callbacks.TensorBoard(log_dir=\"./tmp/tfdbg2_logdir\")\n",
    "\"\"\"\n",
    "tf.debugging.experimental.enable_dump_debug_info(\n",
    "    \"./tmp/tfdbg2_logdir\",\n",
    "    tensor_debug_mode=\"FULL_HEALTH\",\n",
    "    circular_buffer_size=-1)\n",
    "\"\"\""
   ]
  },
  {
   "cell_type": "code",
   "execution_count": 5,
   "metadata": {},
   "outputs": [],
   "source": [
    "import matplotlib.pyplot as plt\n",
    "\n",
    "def plot_graphs(history, metric):\n",
    "    plt.plot(history.history[metric])\n",
    "    plt.plot(history.history[\"val_\"+metric], \"\")\n",
    "    plt.xlabel(\"Epochs\")\n",
    "    plt.ylabel(metric)\n",
    "    plt.legend([metric, \"val_\"+metric])"
   ]
  },
  {
   "attachments": {},
   "cell_type": "markdown",
   "metadata": {},
   "source": [
    "#### Import Data and Preprocess Dataframe"
   ]
  },
  {
   "cell_type": "code",
   "execution_count": 6,
   "metadata": {},
   "outputs": [],
   "source": [
    "def preprocess_data(corpus,\n",
    "                    irrelevant_features=[\"mtype\",]):\n",
    "    # drop irrelevant columns\n",
    "    corpus.drop(irrelevant_features, inplace=True, axis=1)\n",
    "\n",
    "    # filter strings\n",
    "    def process_cell(cell_str):\n",
    "        stripped_f_str = cell_str[1:-1].replace(\"\\\\\\\\\", \"\\\\\")\n",
    "        f_list = stripped_f_str.split(\",\")\n",
    "        f_list = [token.replace(\"'\", \"\").replace(\" \", \"\") for token in f_list]\n",
    "        f_list = [\"{\" if token == \"\\\\{\" else token for token in f_list]\n",
    "        f_list = [\"}\" if token == \"\\\\}\" else token for token in f_list]\n",
    "        cell_str = \" \".join(f_list)\n",
    "        return cell_str\n",
    "\n",
    "    corpus[\"type_tokens\"] = corpus[\"type_tokens\"].map(process_cell)"
   ]
  },
  {
   "cell_type": "code",
   "execution_count": 7,
   "metadata": {},
   "outputs": [
    {
     "data": {
      "text/html": [
       "<div>\n",
       "<style scoped>\n",
       "    .dataframe tbody tr th:only-of-type {\n",
       "        vertical-align: middle;\n",
       "    }\n",
       "\n",
       "    .dataframe tbody tr th {\n",
       "        vertical-align: top;\n",
       "    }\n",
       "\n",
       "    .dataframe thead th {\n",
       "        text-align: right;\n",
       "    }\n",
       "</style>\n",
       "<table border=\"1\" class=\"dataframe\">\n",
       "  <thead>\n",
       "    <tr style=\"text-align: right;\">\n",
       "      <th></th>\n",
       "      <th>tokens</th>\n",
       "      <th>type_tokens</th>\n",
       "      <th>label</th>\n",
       "    </tr>\n",
       "  </thead>\n",
       "  <tbody>\n",
       "    <tr>\n",
       "      <th>0</th>\n",
       "      <td>['f', ':', 'A', '\\\\to', 'B']</td>\n",
       "      <td>func_def func_name __ANON_1 COLON mapping __AN...</td>\n",
       "      <td>1</td>\n",
       "    </tr>\n",
       "    <tr>\n",
       "      <th>1</th>\n",
       "      <td>['f']</td>\n",
       "      <td>func_name __ANON_1</td>\n",
       "      <td>1</td>\n",
       "    </tr>\n",
       "    <tr>\n",
       "      <th>2</th>\n",
       "      <td>['g', '\\\\colon', 'B', '\\\\to', 'I']</td>\n",
       "      <td>func_def func_name __ANON_1 COLON mapping __AN...</td>\n",
       "      <td>1</td>\n",
       "    </tr>\n",
       "    <tr>\n",
       "      <th>3</th>\n",
       "      <td>['\\\\frac', '{', '8', '!', '}', '{', '(', '8', ...</td>\n",
       "      <td>expr_atom CMD_FRAC L_BRACE postfix expr_atom _...</td>\n",
       "      <td>1</td>\n",
       "    </tr>\n",
       "    <tr>\n",
       "      <th>4</th>\n",
       "      <td>['f']</td>\n",
       "      <td>func_name __ANON_1</td>\n",
       "      <td>1</td>\n",
       "    </tr>\n",
       "  </tbody>\n",
       "</table>\n",
       "</div>"
      ],
      "text/plain": [
       "                                              tokens  \\\n",
       "0                       ['f', ':', 'A', '\\\\to', 'B']   \n",
       "1                                              ['f']   \n",
       "2                 ['g', '\\\\colon', 'B', '\\\\to', 'I']   \n",
       "3  ['\\\\frac', '{', '8', '!', '}', '{', '(', '8', ...   \n",
       "4                                              ['f']   \n",
       "\n",
       "                                         type_tokens  label  \n",
       "0  func_def func_name __ANON_1 COLON mapping __AN...      1  \n",
       "1                                 func_name __ANON_1      1  \n",
       "2  func_def func_name __ANON_1 COLON mapping __AN...      1  \n",
       "3  expr_atom CMD_FRAC L_BRACE postfix expr_atom _...      1  \n",
       "4                                 func_name __ANON_1      1  "
      ]
     },
     "execution_count": 7,
     "metadata": {},
     "output_type": "execute_result"
    }
   ],
   "source": [
    "#print(os.getcwd())\n",
    "data_p = Path(\"../data/\") / \"bin_class_data_TOKENIZED_SET_V1.csv\"\n",
    "data = pd.read_csv(data_p)\n",
    "preprocess_data(data)\n",
    "data.head()\n"
   ]
  },
  {
   "cell_type": "code",
   "execution_count": 8,
   "metadata": {},
   "outputs": [],
   "source": [
    "SIZE_TRAIN_DS = 10000\n",
    "SIZE_TEST_DS = 1000\n",
    "data_as_ds = tf.data.Dataset.from_tensor_slices((data[\"type_tokens\"], data[\"label\"])) \n",
    "test_dataset = data_as_ds.take(SIZE_TEST_DS)\n",
    "train_dataset = data_as_ds.skip(SIZE_TEST_DS)"
   ]
  },
  {
   "attachments": {},
   "cell_type": "markdown",
   "metadata": {},
   "source": [
    "##### Setup and Data Preparation"
   ]
  },
  {
   "cell_type": "code",
   "execution_count": 9,
   "metadata": {},
   "outputs": [
    {
     "name": "stdout",
     "output_type": "stream",
     "text": [
      "text:  b'func_name __ANON_1'\n",
      "label:  1\n",
      "text:  b'func_name __ANON_1'\n",
      "label:  1\n",
      "text:  b'func_def func_name __ANON_1 COLON mapping __ANON_0 TO __ANON_0'\n",
      "label:  1\n"
     ]
    }
   ],
   "source": [
    "for example, label in train_dataset.take(3):\n",
    "    print(\"text: \", example.numpy())\n",
    "    print(\"label: \", label.numpy())"
   ]
  },
  {
   "cell_type": "code",
   "execution_count": 10,
   "metadata": {},
   "outputs": [],
   "source": [
    "BUFFER_SIZE = SIZE_TRAIN_DS\n",
    "BATCH_SIZE = 64\n",
    "STEPS_PER_EPOCH = np.floor(SIZE_TRAIN_DS/BATCH_SIZE)\n",
    "VAL_STEPS_PER_EPOCH = np.floor(SIZE_TEST_DS/BATCH_SIZE)\n",
    "train_dataset = train_dataset.shuffle(BUFFER_SIZE).batch(BATCH_SIZE, drop_remainder=True).prefetch(tf.data.AUTOTUNE)\n",
    "test_dataset = test_dataset.batch(BATCH_SIZE, drop_remainder=True).prefetch(tf.data.AUTOTUNE)"
   ]
  },
  {
   "attachments": {},
   "cell_type": "markdown",
   "metadata": {},
   "source": [
    "##### Text Encoding"
   ]
  },
  {
   "cell_type": "code",
   "execution_count": 11,
   "metadata": {},
   "outputs": [],
   "source": [
    "def create_encoder(output_mode_str, n_grams):\n",
    "    VOCAB_SIZE = 1000\n",
    "    encoder = tf.keras.layers.TextVectorization(\n",
    "        standardize=None,\n",
    "        output_mode=output_mode_str,\n",
    "        ngrams = n_grams,\n",
    "        split=\"whitespace\",\n",
    "        max_tokens=VOCAB_SIZE)\n",
    "    encoder.adapt(train_dataset.map(lambda tokens, label: tokens)) # removes the label column through transformation: text, label -> text\n",
    "    return encoder"
   ]
  },
  {
   "attachments": {},
   "cell_type": "markdown",
   "metadata": {},
   "source": [
    "##### Representation 1: Use integer indices encoding"
   ]
  },
  {
   "cell_type": "code",
   "execution_count": 12,
   "metadata": {},
   "outputs": [
    {
     "name": "stdout",
     "output_type": "stream",
     "text": [
      "WARNING:tensorflow:From /home/paul_d/Sources/sem_math_repo/sem_math_env/lib/python3.10/site-packages/tensorflow/python/autograph/pyct/static_analysis/liveness.py:83: Analyzer.lamba_check (from tensorflow.python.autograph.pyct.static_analysis.liveness) is deprecated and will be removed after 2023-09-23.\n",
      "Instructions for updating:\n",
      "Lambda fuctions will be no more assumed to be used in the statement where they are used, or at least in the same block. https://github.com/tensorflow/tensorflow/issues/56089\n"
     ]
    },
    {
     "data": {
      "text/plain": [
       "array(['', '[UNK]', '__ANON_1', '__ANON_3', 'expr_atom', 'func_name',\n",
       "       '__ANON_0', 'COLON', 'mapping', 'func_def', 'TO', 'additive',\n",
       "       'CARET', 'unary', 'L_PAREN', 'R_PAREN', 'integer', 'R_BRACE',\n",
       "       'L_BRACE', 'exp', 'ADD', 'set_constant', 'SET_BASIC', 'SUB',\n",
       "       'item', 'group', 'COMMA', 'func_name_arg', 'func_expr', 'EQUAL',\n",
       "       'set_expr', 'CMD_FRAC', 'R_BRACE_LITERAL', 'L_BRACE_LITERAL',\n",
       "       'explset', 'SET_FAT', 'mp', 'set_enumeration', 'sets__OP_CART',\n",
       "       'interval', 'DIV', 'UNC_NORMA', 'number', 'R_BRACKET', 'L_BRACKET',\n",
       "       'sets__OP_UNION', 'sets__OP_INTERSEC', 'CMD_CDOT', 'func_arg',\n",
       "       'postfix', 'BANG', 'OP_FUNC_COMP', 'func_composed', 'et_constan',\n",
       "       'MUL', 'func_enumeration', 'CMD_TIMES', 'FUNC_NORMAL', 'CMD_BINOM'],\n",
       "      dtype='<U17')"
      ]
     },
     "execution_count": 12,
     "metadata": {},
     "output_type": "execute_result"
    }
   ],
   "source": [
    "encoder_int = create_encoder(\"int\", None)\n",
    "vocab = np.array(encoder_int.get_vocabulary())\n",
    "vocab[:200]"
   ]
  },
  {
   "cell_type": "code",
   "execution_count": 13,
   "metadata": {},
   "outputs": [
    {
     "name": "stdout",
     "output_type": "stream",
     "text": [
      "tf.Tensor(b'func_def func_name __ANON_1 COLON mapping __ANON_0 TO __ANON_0', shape=(), dtype=string)\n",
      "[ 9  5  2  7  8  6 10  6]\n",
      "(8,)\n",
      "()\n"
     ]
    }
   ],
   "source": [
    "encoded_example = encoder_int(example).numpy()\n",
    "print(example)\n",
    "print(encoded_example)\n",
    "print(encoded_example.shape)\n",
    "print(label.shape)"
   ]
  },
  {
   "cell_type": "code",
   "execution_count": 14,
   "metadata": {},
   "outputs": [
    {
     "name": "stdout",
     "output_type": "stream",
     "text": [
      "Original:  b'func_def func_name __ANON_1 COLON mapping __ANON_0 TO __ANON_0'\n",
      "After reverse lookup:  func_def func_name __ANON_1 COLON mapping __ANON_0 TO __ANON_0\n"
     ]
    }
   ],
   "source": [
    "print(\"Original: \", example.numpy())\n",
    "print(\"After reverse lookup: \", \" \".join(vocab[encoded_example]))"
   ]
  },
  {
   "attachments": {},
   "cell_type": "markdown",
   "metadata": {},
   "source": [
    "##### Representation 2: Binary Count Vectorizer"
   ]
  },
  {
   "cell_type": "code",
   "execution_count": 15,
   "metadata": {},
   "outputs": [
    {
     "data": {
      "text/plain": [
       "array(['[UNK]', '__ANON_1', '__ANON_3', 'expr_atom', 'func_name',\n",
       "       '__ANON_0', 'COLON', 'mapping', 'func_def', 'TO', 'additive',\n",
       "       'CARET', 'unary', 'L_PAREN', 'R_PAREN', 'integer', 'exp',\n",
       "       'R_BRACE', 'L_BRACE', 'ADD', 'set_constant', 'SET_BASIC', 'SUB',\n",
       "       'item', 'group', 'COMMA', 'func_name_arg', 'func_expr', 'EQUAL',\n",
       "       'set_expr', 'CMD_FRAC', 'R_BRACE_LITERAL', 'L_BRACE_LITERAL',\n",
       "       'explset', 'SET_FAT', 'mp', 'set_enumeration', 'sets__OP_CART',\n",
       "       'interval', 'DIV', 'UNC_NORMA', 'number', 'R_BRACKET', 'L_BRACKET',\n",
       "       'sets__OP_UNION', 'sets__OP_INTERSEC', 'CMD_CDOT', 'func_arg',\n",
       "       'postfix', 'BANG', 'OP_FUNC_COMP', 'func_composed', 'et_constan',\n",
       "       'MUL', 'func_enumeration', 'CMD_TIMES', 'FUNC_NORMAL', 'CMD_BINOM'],\n",
       "      dtype='<U17')"
      ]
     },
     "execution_count": 15,
     "metadata": {},
     "output_type": "execute_result"
    }
   ],
   "source": [
    "encoder_multi_hot = create_encoder(\"multi_hot\", None)\n",
    "vocab = np.array(encoder_multi_hot.get_vocabulary())\n",
    "vocab[:200]"
   ]
  },
  {
   "cell_type": "code",
   "execution_count": 16,
   "metadata": {},
   "outputs": [
    {
     "name": "stdout",
     "output_type": "stream",
     "text": [
      "tf.Tensor(b'func_def func_name __ANON_1 COLON mapping __ANON_0 TO __ANON_0', shape=(), dtype=string)\n",
      "[0. 1. 0. 0. 1. 1. 1. 1. 1. 1. 0. 0. 0. 0. 0. 0. 0. 0. 0. 0. 0. 0. 0. 0.\n",
      " 0. 0. 0. 0. 0. 0. 0. 0. 0. 0. 0. 0. 0. 0. 0. 0. 0. 0. 0. 0. 0. 0. 0. 0.\n",
      " 0. 0. 0. 0. 0. 0. 0. 0. 0. 0.]\n",
      "(58,)\n"
     ]
    }
   ],
   "source": [
    "encoded_example = encoder_multi_hot(example).numpy()\n",
    "print(example)\n",
    "print(encoded_example)\n",
    "print(encoded_example.shape)"
   ]
  },
  {
   "attachments": {},
   "cell_type": "markdown",
   "metadata": {},
   "source": [
    "##### Representation 3: Frequency Count Vectorizer"
   ]
  },
  {
   "cell_type": "code",
   "execution_count": 17,
   "metadata": {},
   "outputs": [
    {
     "data": {
      "text/plain": [
       "array(['[UNK]', '__ANON_1', '__ANON_3', 'expr_atom', 'func_name',\n",
       "       '__ANON_0', 'COLON', 'mapping', 'func_def', 'TO', 'additive',\n",
       "       'CARET', 'unary', 'L_PAREN', 'R_PAREN', 'integer', 'exp',\n",
       "       'R_BRACE', 'L_BRACE', 'ADD', 'set_constant', 'SET_BASIC', 'SUB',\n",
       "       'item', 'group', 'COMMA', 'func_name_arg', 'func_expr', 'EQUAL',\n",
       "       'set_expr', 'CMD_FRAC', 'R_BRACE_LITERAL', 'L_BRACE_LITERAL',\n",
       "       'explset', 'SET_FAT', 'mp', 'set_enumeration', 'interval',\n",
       "       'sets__OP_CART', 'DIV', 'UNC_NORMA', 'number', 'R_BRACKET',\n",
       "       'L_BRACKET', 'sets__OP_UNION', 'sets__OP_INTERSEC', 'CMD_CDOT',\n",
       "       'func_arg', 'postfix', 'BANG', 'OP_FUNC_COMP', 'func_composed',\n",
       "       'et_constan', 'MUL', 'func_enumeration', 'CMD_TIMES',\n",
       "       'FUNC_NORMAL', 'CMD_BINOM'], dtype='<U17')"
      ]
     },
     "execution_count": 17,
     "metadata": {},
     "output_type": "execute_result"
    }
   ],
   "source": [
    "encoder_count = create_encoder(\"count\", None)\n",
    "vocab = np.array(encoder_count.get_vocabulary())\n",
    "vocab[:200]"
   ]
  },
  {
   "cell_type": "code",
   "execution_count": 18,
   "metadata": {},
   "outputs": [
    {
     "name": "stdout",
     "output_type": "stream",
     "text": [
      "tf.Tensor(b'func_def func_name __ANON_1 COLON mapping __ANON_0 TO __ANON_0', shape=(), dtype=string)\n",
      "[0. 1. 0. 0. 1. 2. 1. 1. 1. 1. 0. 0. 0. 0. 0. 0. 0. 0. 0. 0. 0. 0. 0. 0.\n",
      " 0. 0. 0. 0. 0. 0. 0. 0. 0. 0. 0. 0. 0. 0. 0. 0. 0. 0. 0. 0. 0. 0. 0. 0.\n",
      " 0. 0. 0. 0. 0. 0. 0. 0. 0. 0.]\n",
      "(58,)\n"
     ]
    }
   ],
   "source": [
    "encoded_example = encoder_count(example).numpy()\n",
    "print(example)\n",
    "print(encoded_example)\n",
    "print(encoded_example.shape)"
   ]
  },
  {
   "attachments": {},
   "cell_type": "markdown",
   "metadata": {},
   "source": [
    "##### Representation 4: Bigrams Frequency Count Vectorizer"
   ]
  },
  {
   "cell_type": "code",
   "execution_count": 19,
   "metadata": {},
   "outputs": [
    {
     "data": {
      "text/plain": [
       "array(['[UNK]', '__ANON_1', '__ANON_3', 'expr_atom', 'func_name',\n",
       "       'func_name __ANON_1', 'expr_atom __ANON_3', '__ANON_0',\n",
       "       '__ANON_3 __ANON_3', 'COLON', 'mapping', 'func_def', 'TO',\n",
       "       'COLON mapping', 'func_def func_name', '__ANON_1 COLON',\n",
       "       'additive', 'CARET', 'unary', 'L_PAREN', 'R_PAREN', '__ANON_0 TO',\n",
       "       'integer __ANON_3', 'integer', 'expr_atom integer', 'R_BRACE',\n",
       "       'L_BRACE', 'exp', 'TO __ANON_0', 'mapping __ANON_0',\n",
       "       '__ANON_1 R_PAREN', 'ADD', 'set_constant',\n",
       "       'set_constant SET_BASIC', 'SET_BASIC', 'SUB', 'L_PAREN __ANON_1',\n",
       "       'item', 'exp __ANON_1', '__ANON_1 CARET', 'group', 'COMMA',\n",
       "       'group L_PAREN', '__ANON_3 R_BRACE', 'CARET expr_atom',\n",
       "       '__ANON_1 ADD', 'func_name __ANON_0', 'unary __ANON_1',\n",
       "       'func_name_arg', 'func_expr func_name_arg', 'func_expr',\n",
       "       'R_PAREN EQUAL', 'EQUAL', 'func_name_arg func_name',\n",
       "       'additive __ANON_1', '__ANON_1 L_PAREN', 'unary expr_atom',\n",
       "       'set_expr', 'SUB expr_atom', 'item __ANON_3', 'ADD expr_atom',\n",
       "       'COMMA item', 'R_BRACE L_BRACE', '__ANON_3 COMMA',\n",
       "       'expr_atom CMD_FRAC', 'CMD_FRAC L_BRACE', 'CMD_FRAC',\n",
       "       'L_BRACE expr_atom', '__ANON_3 __ANON_1', '__ANON_1 R_BRACE',\n",
       "       '__ANON_3 CARET', 'R_BRACE_LITERAL', 'L_BRACE_LITERAL',\n",
       "       'explset L_BRACE_LITERAL', 'explset', '__ANON_1 __ANON_1',\n",
       "       'exp expr_atom', '__ANON_1 SUB', 'additive exp',\n",
       "       'SET_FAT __ANON_0', 'SET_FAT', 'additive unary', 'CARET __ANON_1',\n",
       "       'SET_BASIC TO', '__ANON_1 group', 'set_expr __ANON_0',\n",
       "       '__ANON_3 R_PAREN', 'mapping set_constant', 'L_PAREN additive',\n",
       "       'TO set_constant', 'CARET L_BRACE', '__ANON_3 ADD',\n",
       "       'L_BRACE additive', 'mp', 'item __ANON_1', 'set_enumeration item',\n",
       "       'set_enumeration', 'L_BRACE_LITERAL set_enumeration',\n",
       "       '__ANON_1 COMMA', 'L_BRACE __ANON_1', 'EQUAL additive',\n",
       "       'ADD __ANON_1', '__ANON_3 R_BRACE_LITERAL', 'unary SUB',\n",
       "       '__ANON_3 SUB', 'sets__OP_CART', 'interval', 'additive expr_atom',\n",
       "       '__ANON_0 CARET', 'DIV', 'SUB __ANON_1', 'additive additive',\n",
       "       'L_BRACE unary', '__ANON_1 R_BRACE_LITERAL', 'COMMA expr_atom',\n",
       "       '__ANON_0 sets__OP_CART', 'ADD unary', 'TO SET_FAT', 'UNC_NORMA',\n",
       "       'ADD additive', 'EQUAL expr_atom', 'mapping set_expr',\n",
       "       'L_BRACE_LITERAL item', 'mapping SET_FAT',\n",
       "       'sets__OP_CART __ANON_0', 'mp expr_atom', 'L_PAREN expr_atom',\n",
       "       'number', 'expr_atom number', '__ANON_3 exp', 'SUB unary',\n",
       "       'TO set_expr', 'R_BRACKET', 'interval L_PAREN', 'exp group',\n",
       "       'L_BRACKET', 'R_PAREN CARET', 'EQUAL exp', 'COMMA __ANON_1',\n",
       "       'CARET __ANON_3', 'set_expr set_constant', 'interval L_BRACKET',\n",
       "       'mp __ANON_1', 'EQUAL unary', 'sets__OP_UNION', '__ANON_3 DIV',\n",
       "       '__ANON_0 COLON', 'CARET __ANON_0', 'DIV __ANON_1',\n",
       "       '__ANON_3 R_BRACKET', '__ANON_0 sets__OP_UNION',\n",
       "       'sets__OP_INTERSEC', 'L_BRACKET expr_atom',\n",
       "       'sets__OP_UNION __ANON_0', 'sets__OP_INTERSEC __ANON_0',\n",
       "       'DIV expr_atom', '__ANON_0 sets__OP_INTERSEC', 'L_BRACE exp',\n",
       "       'CMD_CDOT', 'R_BRACE ADD', 'ADD exp', '__ANON_1 DIV',\n",
       "       'R_BRACE SUB', '__ANON_1 exp', 'SUB exp', 'mapping interval',\n",
       "       'func_arg', 'L_PAREN func_arg', 'postfix', 'BANG', 'OP_FUNC_COMP',\n",
       "       'func_composed', 'R_PAREN group', 'R_PAREN R_BRACE',\n",
       "       'func_composed func_name', 'item __ANON_0', 'SET_BASIC CARET',\n",
       "       'OP_FUNC_COMP func_name', 'unary exp', '__ANON_1 OP_FUNC_COMP',\n",
       "       'func_arg __ANON_1', 'et_constan', 'unary group', 'item integer',\n",
       "       'TO interval', 'R_BRACE R_BRACE', 'EQUAL __ANON_1',\n",
       "       'L_PAREN unary', 'TO explset', 'set_expr SET_FAT',\n",
       "       'sets__OP_CART set_constant', '__ANON_3 TO', '__ANON_0 group',\n",
       "       'SET_BASIC sets__OP_CART', '__ANON_3 CMD_CDOT', 'R_BRACKET TO',\n",
       "       'L_BRACE mp', '__ANON_3 group', 'R_PAREN TO', 'set_expr __ANON_3'],\n",
       "      dtype='<U31')"
      ]
     },
     "execution_count": 19,
     "metadata": {},
     "output_type": "execute_result"
    }
   ],
   "source": [
    "encoder_bigrams = create_encoder(\"count\", (2))\n",
    "vocab = np.array(encoder_bigrams.get_vocabulary())\n",
    "vocab[:200]"
   ]
  },
  {
   "cell_type": "code",
   "execution_count": 20,
   "metadata": {},
   "outputs": [
    {
     "name": "stdout",
     "output_type": "stream",
     "text": [
      "tf.Tensor(b'func_def func_name __ANON_1 COLON mapping __ANON_0 TO __ANON_0', shape=(), dtype=string)\n",
      "[0. 1. 0. 0. 1. 1. 0. 2. 0. 1. 1. 1. 1. 1. 1. 1. 0. 0. 0. 0. 0. 1. 0. 0.\n",
      " 0. 0. 0. 0. 1. 1. 0. 0. 0. 0. 0. 0. 0. 0. 0. 0. 0. 0. 0. 0. 0. 0. 0. 0.\n",
      " 0. 0. 0. 0. 0. 0. 0. 0. 0. 0. 0. 0. 0. 0. 0. 0. 0. 0. 0. 0. 0. 0. 0. 0.\n",
      " 0. 0. 0. 0. 0. 0. 0. 0. 0. 0. 0. 0. 0. 0. 0. 0. 0. 0. 0. 0. 0. 0. 0. 0.\n",
      " 0. 0. 0. 0. 0. 0. 0. 0. 0. 0. 0. 0. 0. 0. 0. 0. 0. 0. 0. 0. 0. 0. 0. 0.\n",
      " 0. 0. 0. 0. 0. 0. 0. 0. 0. 0. 0. 0. 0. 0. 0. 0. 0. 0. 0. 0. 0. 0. 0. 0.\n",
      " 0. 0. 0. 0. 0. 0. 0. 0. 0. 0. 0. 0. 0. 0. 0. 0. 0. 0. 0. 0. 0. 0. 0. 0.\n",
      " 0. 0. 0. 0. 0. 0. 0. 0. 0. 0. 0. 0. 0. 0. 0. 0. 0. 0. 0. 0. 0. 0. 0. 0.\n",
      " 0. 0. 0. 0. 0. 0. 0. 0. 0. 0. 0. 0. 0. 0. 0. 0. 0. 0. 0. 0. 0. 0. 0. 0.\n",
      " 0. 0. 0. 0. 0. 0. 0. 0. 0. 0. 0. 0. 0. 0. 0. 0. 0. 0. 0. 0. 0. 0. 0. 0.\n",
      " 0. 0. 0. 0. 0. 0. 0. 0. 0. 0. 0. 0. 0. 0. 0. 0. 0. 0. 0. 0. 0. 0. 0. 0.\n",
      " 0. 0. 0. 0. 0. 0. 0. 0. 0. 0. 0. 0. 0. 0. 0. 0. 0. 0. 0. 0. 0. 0. 0. 0.\n",
      " 0. 0. 0. 0. 0. 0. 0. 0. 0. 0. 0. 0. 0. 0. 0. 0. 0. 0. 0. 0. 0. 0. 0. 0.\n",
      " 0. 0. 0. 0. 0. 0. 0. 0. 0. 0. 0. 0. 0. 0. 0. 0. 0. 0. 0. 0. 0. 0. 0. 0.\n",
      " 0. 0. 0. 0. 0. 0. 0. 0. 0. 0. 0. 0. 0. 0. 0. 0. 0. 0. 0. 0.]\n",
      "(356,)\n"
     ]
    }
   ],
   "source": [
    "encoded_example = encoder_bigrams(example).numpy()\n",
    "print(example)\n",
    "print(encoded_example)\n",
    "print(encoded_example.shape)"
   ]
  },
  {
   "attachments": {},
   "cell_type": "markdown",
   "metadata": {},
   "source": [
    "##### Representation 5: Tf-Idf Vectorizer"
   ]
  },
  {
   "cell_type": "code",
   "execution_count": 21,
   "metadata": {},
   "outputs": [
    {
     "data": {
      "text/plain": [
       "array(['[UNK]', '__ANON_1', '__ANON_3', 'expr_atom', 'func_name',\n",
       "       '__ANON_0', 'COLON', 'mapping', 'func_def', 'TO', 'additive',\n",
       "       'CARET', 'unary', 'L_PAREN', 'R_PAREN', 'integer', 'exp',\n",
       "       'R_BRACE', 'L_BRACE', 'ADD', 'set_constant', 'SET_BASIC', 'SUB',\n",
       "       'item', 'group', 'COMMA', 'func_name_arg', 'func_expr', 'EQUAL',\n",
       "       'set_expr', 'CMD_FRAC', 'R_BRACE_LITERAL', 'L_BRACE_LITERAL',\n",
       "       'explset', 'SET_FAT', 'mp', 'set_enumeration', 'interval',\n",
       "       'sets__OP_CART', 'DIV', 'UNC_NORMA', 'number', 'R_BRACKET',\n",
       "       'L_BRACKET', 'sets__OP_UNION', 'sets__OP_INTERSEC', 'CMD_CDOT',\n",
       "       'func_arg', 'postfix', 'BANG', 'OP_FUNC_COMP', 'func_composed',\n",
       "       'et_constan', 'MUL', 'func_enumeration', 'CMD_TIMES',\n",
       "       'FUNC_NORMAL', 'CMD_BINOM'], dtype='<U17')"
      ]
     },
     "execution_count": 21,
     "metadata": {},
     "output_type": "execute_result"
    }
   ],
   "source": [
    "encoder_tf_idf = create_encoder(\"tf_idf\", None)\n",
    "vocab = np.array(encoder_tf_idf.get_vocabulary())\n",
    "vocab[:200]"
   ]
  },
  {
   "cell_type": "code",
   "execution_count": 22,
   "metadata": {},
   "outputs": [
    {
     "name": "stdout",
     "output_type": "stream",
     "text": [
      "tf.Tensor(b'func_def func_name __ANON_1 COLON mapping __ANON_0 TO __ANON_0', shape=(), dtype=string)\n",
      "[0.        0.9789967 0.        0.        1.0944893 3.4092503 1.9361864\n",
      " 1.9366951 1.9366951 1.9366951 0.        0.        0.        0.\n",
      " 0.        0.        0.        0.        0.        0.        0.\n",
      " 0.        0.        0.        0.        0.        0.        0.\n",
      " 0.        0.        0.        0.        0.        0.        0.\n",
      " 0.        0.        0.        0.        0.        0.        0.\n",
      " 0.        0.        0.        0.        0.        0.        0.\n",
      " 0.        0.        0.        0.        0.        0.        0.\n",
      " 0.        0.       ]\n",
      "(58,)\n"
     ]
    }
   ],
   "source": [
    "encoded_example = encoder_tf_idf(example).numpy()\n",
    "print(example)\n",
    "print(encoded_example)\n",
    "print(encoded_example.shape)"
   ]
  },
  {
   "attachments": {},
   "cell_type": "markdown",
   "metadata": {},
   "source": [
    "##### Model (Logistic Regression)"
   ]
  },
  {
   "attachments": {},
   "cell_type": "markdown",
   "metadata": {},
   "source": [
    " **Define and compile model**"
   ]
  },
  {
   "cell_type": "code",
   "execution_count": 23,
   "metadata": {},
   "outputs": [],
   "source": [
    "def create_model(vec_encoder, add_inp_emb_dim=1):\n",
    "    embedding_input_dim = len(vec_encoder.get_vocabulary()) + add_inp_emb_dim\n",
    "    model = tf.keras.Sequential([\n",
    "        vec_encoder,\n",
    "        tf.keras.layers.Embedding(\n",
    "            input_dim=embedding_input_dim,\n",
    "            output_dim=16,\n",
    "            # user masking to handle the variable sequence lengths\n",
    "            mask_zero=True),\n",
    "        tf.keras.layers.Dropout(0.2),\n",
    "        tf.keras.layers.GlobalMaxPooling1D(),\n",
    "        tf.keras.layers.Dropout(0.2),\n",
    "        tf.keras.layers.Dense(1)\n",
    "    ])\n",
    "    return model"
   ]
  },
  {
   "attachments": {},
   "cell_type": "markdown",
   "metadata": {},
   "source": [
    " **Train the model**"
   ]
  },
  {
   "attachments": {},
   "cell_type": "markdown",
   "metadata": {},
   "source": [
    "##### Experiment 1: Use integer indices for encoding tokens"
   ]
  },
  {
   "cell_type": "code",
   "execution_count": 24,
   "metadata": {},
   "outputs": [],
   "source": [
    "### TENSORBOARD USAGE\n",
    "#log_dir = \"4_nlp_rnns/logs/fit/\" + datetime.datetime.now().strftime(\"%Y%m%d-%H%M%S\")\n",
    "#tensorboard_callback = tf.keras.callbacks.TensorBoard(log_dir=log_dir)"
   ]
  },
  {
   "cell_type": "code",
   "execution_count": 25,
   "metadata": {},
   "outputs": [
    {
     "name": "stdout",
     "output_type": "stream",
     "text": [
      "1/1 [==============================] - 0s 70ms/step\n",
      "[0.05015446]\n"
     ]
    }
   ],
   "source": [
    "model = create_model(encoder_int)\n",
    "# predict on a sample formula using untrained model\n",
    "sample_text = \"set_constant SET_BASIC\"\n",
    "predictions = model.predict(np.array([sample_text]))\n",
    "print(predictions[0])"
   ]
  },
  {
   "cell_type": "code",
   "execution_count": 26,
   "metadata": {},
   "outputs": [
    {
     "name": "stdout",
     "output_type": "stream",
     "text": [
      "Model: \"sequential\"\n",
      "_________________________________________________________________\n",
      " Layer (type)                Output Shape              Param #   \n",
      "=================================================================\n",
      " text_vectorization (TextVec  (None, None)             0         \n",
      " torization)                                                     \n",
      "                                                                 \n",
      " embedding (Embedding)       (None, None, 16)          960       \n",
      "                                                                 \n",
      " dropout (Dropout)           (None, None, 16)          0         \n",
      "                                                                 \n",
      " global_max_pooling1d (Globa  (None, 16)               0         \n",
      " lMaxPooling1D)                                                  \n",
      "                                                                 \n",
      " dropout_1 (Dropout)         (None, 16)                0         \n",
      "                                                                 \n",
      " dense (Dense)               (None, 1)                 17        \n",
      "                                                                 \n",
      "=================================================================\n",
      "Total params: 977\n",
      "Trainable params: 977\n",
      "Non-trainable params: 0\n",
      "_________________________________________________________________\n"
     ]
    }
   ],
   "source": [
    "model.summary()"
   ]
  },
  {
   "cell_type": "code",
   "execution_count": 27,
   "metadata": {},
   "outputs": [],
   "source": [
    "#model.compile(optimizer='sgd',loss='sparse_categorical_crossentropy',metrics=['accuracy'])\n",
    "LEARNING_RATE = 1e-3\n",
    "NUM_EPOCHS = 200\n",
    "model.compile(loss=tf.keras.losses.BinaryCrossentropy(from_logits=True),\n",
    "              optimizer=tf.keras.optimizers.Adam(LEARNING_RATE),\n",
    "              metrics=[\"accuracy\"])\n"
   ]
  },
  {
   "cell_type": "code",
   "execution_count": 28,
   "metadata": {},
   "outputs": [
    {
     "name": "stdout",
     "output_type": "stream",
     "text": [
      "Epoch 1/200\n",
      "155/156 [============================>.] - ETA: 0s - loss: 0.6500 - accuracy: 0.5591INFO:tensorflow:Assets written to: /home/paul_d/Sources/sem_math_repo/classification_formulas_binary/wandb/run-20230307_112841-9u92yyu1/files/model-best/assets\n"
     ]
    },
    {
     "name": "stderr",
     "output_type": "stream",
     "text": [
      "INFO:tensorflow:Assets written to: /home/paul_d/Sources/sem_math_repo/classification_formulas_binary/wandb/run-20230307_112841-9u92yyu1/files/model-best/assets\n"
     ]
    },
    {
     "name": "stdout",
     "output_type": "stream",
     "text": [
      "156/156 [==============================] - 3s 19ms/step - loss: 0.6496 - accuracy: 0.5599 - val_loss: 0.6045 - val_accuracy: 0.0000e+00\n",
      "Epoch 2/200\n",
      "137/156 [=========================>....] - ETA: 0s - loss: 0.5543 - accuracy: 0.6946INFO:tensorflow:Assets written to: /home/paul_d/Sources/sem_math_repo/classification_formulas_binary/wandb/run-20230307_112841-9u92yyu1/files/model-best/assets\n"
     ]
    },
    {
     "name": "stderr",
     "output_type": "stream",
     "text": [
      "INFO:tensorflow:Assets written to: /home/paul_d/Sources/sem_math_repo/classification_formulas_binary/wandb/run-20230307_112841-9u92yyu1/files/model-best/assets\n"
     ]
    },
    {
     "name": "stdout",
     "output_type": "stream",
     "text": [
      "156/156 [==============================] - 1s 9ms/step - loss: 0.5510 - accuracy: 0.6957 - val_loss: 0.5123 - val_accuracy: 0.5042\n",
      "Epoch 3/200\n",
      "134/156 [========================>.....] - ETA: 0s - loss: 0.4980 - accuracy: 0.7263INFO:tensorflow:Assets written to: /home/paul_d/Sources/sem_math_repo/classification_formulas_binary/wandb/run-20230307_112841-9u92yyu1/files/model-best/assets\n"
     ]
    },
    {
     "name": "stderr",
     "output_type": "stream",
     "text": [
      "INFO:tensorflow:Assets written to: /home/paul_d/Sources/sem_math_repo/classification_formulas_binary/wandb/run-20230307_112841-9u92yyu1/files/model-best/assets\n"
     ]
    },
    {
     "name": "stdout",
     "output_type": "stream",
     "text": [
      "156/156 [==============================] - 1s 7ms/step - loss: 0.4961 - accuracy: 0.7284 - val_loss: 0.5039 - val_accuracy: 0.5385\n",
      "Epoch 4/200\n",
      "138/156 [=========================>....] - ETA: 0s - loss: 0.4746 - accuracy: 0.7382INFO:tensorflow:Assets written to: /home/paul_d/Sources/sem_math_repo/classification_formulas_binary/wandb/run-20230307_112841-9u92yyu1/files/model-best/assets\n"
     ]
    },
    {
     "name": "stderr",
     "output_type": "stream",
     "text": [
      "INFO:tensorflow:Assets written to: /home/paul_d/Sources/sem_math_repo/classification_formulas_binary/wandb/run-20230307_112841-9u92yyu1/files/model-best/assets\n"
     ]
    },
    {
     "name": "stdout",
     "output_type": "stream",
     "text": [
      "156/156 [==============================] - 1s 8ms/step - loss: 0.4775 - accuracy: 0.7364 - val_loss: 0.4774 - val_accuracy: 0.5531\n",
      "Epoch 5/200\n",
      "156/156 [==============================] - 0s 2ms/step - loss: 0.4683 - accuracy: 0.7473 - val_loss: 0.4827 - val_accuracy: 0.5573\n",
      "Epoch 6/200\n",
      "126/156 [=======================>......] - ETA: 0s - loss: 0.4625 - accuracy: 0.7514INFO:tensorflow:Assets written to: /home/paul_d/Sources/sem_math_repo/classification_formulas_binary/wandb/run-20230307_112841-9u92yyu1/files/model-best/assets\n"
     ]
    },
    {
     "name": "stderr",
     "output_type": "stream",
     "text": [
      "INFO:tensorflow:Assets written to: /home/paul_d/Sources/sem_math_repo/classification_formulas_binary/wandb/run-20230307_112841-9u92yyu1/files/model-best/assets\n"
     ]
    },
    {
     "name": "stdout",
     "output_type": "stream",
     "text": [
      "156/156 [==============================] - 1s 8ms/step - loss: 0.4655 - accuracy: 0.7472 - val_loss: 0.4740 - val_accuracy: 0.5604\n",
      "Epoch 7/200\n",
      "156/156 [==============================] - 0s 2ms/step - loss: 0.4636 - accuracy: 0.7484 - val_loss: 0.4838 - val_accuracy: 0.5635\n",
      "Epoch 8/200\n",
      "151/156 [============================>.] - ETA: 0s - loss: 0.4571 - accuracy: 0.7519INFO:tensorflow:Assets written to: /home/paul_d/Sources/sem_math_repo/classification_formulas_binary/wandb/run-20230307_112841-9u92yyu1/files/model-best/assets\n"
     ]
    },
    {
     "name": "stderr",
     "output_type": "stream",
     "text": [
      "INFO:tensorflow:Assets written to: /home/paul_d/Sources/sem_math_repo/classification_formulas_binary/wandb/run-20230307_112841-9u92yyu1/files/model-best/assets\n"
     ]
    },
    {
     "name": "stdout",
     "output_type": "stream",
     "text": [
      "156/156 [==============================] - 1s 7ms/step - loss: 0.4592 - accuracy: 0.7501 - val_loss: 0.4705 - val_accuracy: 0.5729\n",
      "Epoch 9/200\n",
      "156/156 [==============================] - 0s 2ms/step - loss: 0.4586 - accuracy: 0.7574 - val_loss: 0.4731 - val_accuracy: 0.5729\n",
      "Epoch 10/200\n",
      "156/156 [==============================] - 0s 2ms/step - loss: 0.4603 - accuracy: 0.7525 - val_loss: 0.4805 - val_accuracy: 0.5729\n",
      "Epoch 11/200\n",
      "156/156 [==============================] - 0s 2ms/step - loss: 0.4564 - accuracy: 0.7580 - val_loss: 0.4908 - val_accuracy: 0.5635\n",
      "Epoch 12/200\n",
      "156/156 [==============================] - 0s 2ms/step - loss: 0.4592 - accuracy: 0.7529 - val_loss: 0.4833 - val_accuracy: 0.5688\n",
      "Epoch 13/200\n",
      "156/156 [==============================] - 0s 2ms/step - loss: 0.4574 - accuracy: 0.7524 - val_loss: 0.4831 - val_accuracy: 0.5719\n",
      "Epoch 14/200\n",
      "156/156 [==============================] - 0s 2ms/step - loss: 0.4539 - accuracy: 0.7562 - val_loss: 0.4861 - val_accuracy: 0.5719\n",
      "Epoch 15/200\n",
      "156/156 [==============================] - 1s 3ms/step - loss: 0.4564 - accuracy: 0.7547 - val_loss: 0.4804 - val_accuracy: 0.5760\n",
      "Epoch 16/200\n",
      "156/156 [==============================] - 0s 2ms/step - loss: 0.4561 - accuracy: 0.7527 - val_loss: 0.4780 - val_accuracy: 0.5750\n",
      "Epoch 17/200\n",
      "156/156 [==============================] - 0s 2ms/step - loss: 0.4550 - accuracy: 0.7526 - val_loss: 0.4799 - val_accuracy: 0.5760\n",
      "Epoch 18/200\n",
      "139/156 [=========================>....] - ETA: 0s - loss: 0.4556 - accuracy: 0.7533INFO:tensorflow:Assets written to: /home/paul_d/Sources/sem_math_repo/classification_formulas_binary/wandb/run-20230307_112841-9u92yyu1/files/model-best/assets\n"
     ]
    },
    {
     "name": "stderr",
     "output_type": "stream",
     "text": [
      "INFO:tensorflow:Assets written to: /home/paul_d/Sources/sem_math_repo/classification_formulas_binary/wandb/run-20230307_112841-9u92yyu1/files/model-best/assets\n"
     ]
    },
    {
     "name": "stdout",
     "output_type": "stream",
     "text": [
      "156/156 [==============================] - 2s 13ms/step - loss: 0.4544 - accuracy: 0.7538 - val_loss: 0.4704 - val_accuracy: 0.5760\n",
      "Epoch 19/200\n",
      "156/156 [==============================] - 0s 2ms/step - loss: 0.4560 - accuracy: 0.7568 - val_loss: 0.4705 - val_accuracy: 0.5760\n",
      "Epoch 20/200\n",
      "156/156 [==============================] - 0s 2ms/step - loss: 0.4516 - accuracy: 0.7573 - val_loss: 0.4742 - val_accuracy: 0.5760\n",
      "Epoch 21/200\n",
      "156/156 [==============================] - 0s 2ms/step - loss: 0.4568 - accuracy: 0.7551 - val_loss: 0.4859 - val_accuracy: 0.5760\n",
      "Epoch 22/200\n",
      "156/156 [==============================] - 0s 2ms/step - loss: 0.4550 - accuracy: 0.7548 - val_loss: 0.4874 - val_accuracy: 0.5750\n",
      "Epoch 23/200\n",
      "156/156 [==============================] - 0s 3ms/step - loss: 0.4548 - accuracy: 0.7548 - val_loss: 0.4830 - val_accuracy: 0.5750\n",
      "Epoch 24/200\n",
      "156/156 [==============================] - 0s 2ms/step - loss: 0.4510 - accuracy: 0.7525 - val_loss: 0.4727 - val_accuracy: 0.5760\n",
      "Epoch 25/200\n",
      "156/156 [==============================] - 0s 2ms/step - loss: 0.4549 - accuracy: 0.7522 - val_loss: 0.4786 - val_accuracy: 0.5344\n",
      "Epoch 26/200\n",
      "156/156 [==============================] - 0s 2ms/step - loss: 0.4518 - accuracy: 0.7570 - val_loss: 0.4818 - val_accuracy: 0.5750\n",
      "Epoch 27/200\n",
      "156/156 [==============================] - 0s 2ms/step - loss: 0.4533 - accuracy: 0.7557 - val_loss: 0.4767 - val_accuracy: 0.5760\n",
      "Epoch 28/200\n",
      "156/156 [==============================] - 0s 2ms/step - loss: 0.4526 - accuracy: 0.7576 - val_loss: 0.4795 - val_accuracy: 0.5750\n",
      "Epoch 29/200\n",
      "156/156 [==============================] - 0s 2ms/step - loss: 0.4523 - accuracy: 0.7499 - val_loss: 0.4838 - val_accuracy: 0.5750\n",
      "Epoch 30/200\n",
      "156/156 [==============================] - 0s 2ms/step - loss: 0.4551 - accuracy: 0.7537 - val_loss: 0.4852 - val_accuracy: 0.5750\n",
      "Epoch 31/200\n",
      "156/156 [==============================] - 0s 2ms/step - loss: 0.4522 - accuracy: 0.7555 - val_loss: 0.4866 - val_accuracy: 0.5750\n",
      "Epoch 32/200\n",
      "156/156 [==============================] - 0s 2ms/step - loss: 0.4541 - accuracy: 0.7493 - val_loss: 0.4729 - val_accuracy: 0.8917\n",
      "Epoch 33/200\n",
      "156/156 [==============================] - 0s 2ms/step - loss: 0.4510 - accuracy: 0.7549 - val_loss: 0.4842 - val_accuracy: 0.5760\n",
      "Epoch 34/200\n",
      "156/156 [==============================] - 0s 2ms/step - loss: 0.4546 - accuracy: 0.7466 - val_loss: 0.4769 - val_accuracy: 0.8917\n",
      "Epoch 35/200\n",
      "156/156 [==============================] - 0s 2ms/step - loss: 0.4549 - accuracy: 0.7474 - val_loss: 0.4726 - val_accuracy: 0.8917\n",
      "Epoch 36/200\n",
      "156/156 [==============================] - 0s 2ms/step - loss: 0.4514 - accuracy: 0.7513 - val_loss: 0.4753 - val_accuracy: 0.8677\n",
      "Epoch 37/200\n",
      "156/156 [==============================] - 0s 2ms/step - loss: 0.4541 - accuracy: 0.7575 - val_loss: 0.4842 - val_accuracy: 0.5760\n",
      "Epoch 38/200\n",
      "156/156 [==============================] - 0s 2ms/step - loss: 0.4526 - accuracy: 0.7517 - val_loss: 0.4927 - val_accuracy: 0.5760\n",
      "Epoch 39/200\n",
      "156/156 [==============================] - 0s 2ms/step - loss: 0.4538 - accuracy: 0.7486 - val_loss: 0.4839 - val_accuracy: 0.8917\n",
      "Epoch 40/200\n",
      "156/156 [==============================] - 0s 2ms/step - loss: 0.4506 - accuracy: 0.7540 - val_loss: 0.4717 - val_accuracy: 0.8917\n",
      "Epoch 41/200\n",
      "156/156 [==============================] - 0s 2ms/step - loss: 0.4510 - accuracy: 0.7579 - val_loss: 0.4861 - val_accuracy: 0.8875\n",
      "Epoch 42/200\n",
      "156/156 [==============================] - 0s 2ms/step - loss: 0.4493 - accuracy: 0.7579 - val_loss: 0.4726 - val_accuracy: 0.8917\n",
      "Epoch 43/200\n",
      "156/156 [==============================] - 0s 2ms/step - loss: 0.4517 - accuracy: 0.7586 - val_loss: 0.4831 - val_accuracy: 0.8875\n",
      "Epoch 44/200\n",
      "156/156 [==============================] - 0s 2ms/step - loss: 0.4473 - accuracy: 0.7564 - val_loss: 0.4976 - val_accuracy: 0.5458\n",
      "Epoch 45/200\n",
      "156/156 [==============================] - 0s 2ms/step - loss: 0.4501 - accuracy: 0.7575 - val_loss: 0.4845 - val_accuracy: 0.5719\n",
      "Epoch 46/200\n",
      "156/156 [==============================] - 0s 2ms/step - loss: 0.4532 - accuracy: 0.7492 - val_loss: 0.4967 - val_accuracy: 0.5510\n",
      "Epoch 47/200\n",
      "156/156 [==============================] - 0s 2ms/step - loss: 0.4511 - accuracy: 0.7543 - val_loss: 0.4849 - val_accuracy: 0.5719\n",
      "Epoch 48/200\n",
      "156/156 [==============================] - 0s 2ms/step - loss: 0.4512 - accuracy: 0.7558 - val_loss: 0.4814 - val_accuracy: 0.8875\n",
      "Epoch 49/200\n",
      "156/156 [==============================] - 0s 2ms/step - loss: 0.4531 - accuracy: 0.7506 - val_loss: 0.4799 - val_accuracy: 0.8885\n",
      "Epoch 50/200\n",
      "156/156 [==============================] - 0s 2ms/step - loss: 0.4497 - accuracy: 0.7548 - val_loss: 0.4840 - val_accuracy: 0.8885\n",
      "Epoch 51/200\n",
      "156/156 [==============================] - 0s 2ms/step - loss: 0.4482 - accuracy: 0.7561 - val_loss: 0.4907 - val_accuracy: 0.5719\n",
      "Epoch 52/200\n",
      "156/156 [==============================] - 0s 2ms/step - loss: 0.4489 - accuracy: 0.7523 - val_loss: 0.4917 - val_accuracy: 0.5729\n",
      "Epoch 53/200\n",
      "156/156 [==============================] - 0s 2ms/step - loss: 0.4527 - accuracy: 0.7540 - val_loss: 0.4926 - val_accuracy: 0.5729\n",
      "Epoch 54/200\n",
      "156/156 [==============================] - 0s 2ms/step - loss: 0.4507 - accuracy: 0.7591 - val_loss: 0.4977 - val_accuracy: 0.5729\n",
      "Epoch 55/200\n",
      "156/156 [==============================] - 0s 2ms/step - loss: 0.4512 - accuracy: 0.7564 - val_loss: 0.4868 - val_accuracy: 0.8885\n",
      "Epoch 56/200\n",
      "156/156 [==============================] - 0s 2ms/step - loss: 0.4525 - accuracy: 0.7546 - val_loss: 0.4825 - val_accuracy: 0.8885\n",
      "Epoch 57/200\n",
      "156/156 [==============================] - 0s 3ms/step - loss: 0.4492 - accuracy: 0.7512 - val_loss: 0.4826 - val_accuracy: 0.8885\n",
      "Epoch 58/200\n",
      "156/156 [==============================] - 0s 2ms/step - loss: 0.4508 - accuracy: 0.7566 - val_loss: 0.4897 - val_accuracy: 0.8885\n",
      "Epoch 59/200\n",
      "156/156 [==============================] - 0s 2ms/step - loss: 0.4499 - accuracy: 0.7544 - val_loss: 0.4865 - val_accuracy: 0.8885\n",
      "Epoch 60/200\n",
      "156/156 [==============================] - 0s 2ms/step - loss: 0.4503 - accuracy: 0.7552 - val_loss: 0.4886 - val_accuracy: 0.8885\n",
      "Epoch 61/200\n",
      "156/156 [==============================] - 0s 2ms/step - loss: 0.4508 - accuracy: 0.7589 - val_loss: 0.4934 - val_accuracy: 0.8854\n",
      "Epoch 62/200\n",
      "156/156 [==============================] - 0s 2ms/step - loss: 0.4513 - accuracy: 0.7512 - val_loss: 0.4852 - val_accuracy: 0.8854\n",
      "Epoch 63/200\n",
      "156/156 [==============================] - 0s 2ms/step - loss: 0.4499 - accuracy: 0.7518 - val_loss: 0.4869 - val_accuracy: 0.8865\n",
      "Epoch 64/200\n",
      "156/156 [==============================] - 0s 2ms/step - loss: 0.4509 - accuracy: 0.7533 - val_loss: 0.4907 - val_accuracy: 0.8865\n",
      "Epoch 65/200\n",
      "156/156 [==============================] - 0s 2ms/step - loss: 0.4526 - accuracy: 0.7520 - val_loss: 0.4924 - val_accuracy: 0.8865\n",
      "Epoch 66/200\n",
      "156/156 [==============================] - 0s 2ms/step - loss: 0.4511 - accuracy: 0.7612 - val_loss: 0.4950 - val_accuracy: 0.8833\n",
      "Epoch 67/200\n",
      "156/156 [==============================] - 0s 2ms/step - loss: 0.4508 - accuracy: 0.7526 - val_loss: 0.4786 - val_accuracy: 0.8833\n",
      "Epoch 68/200\n",
      "156/156 [==============================] - 0s 2ms/step - loss: 0.4495 - accuracy: 0.7546 - val_loss: 0.4805 - val_accuracy: 0.8865\n",
      "Epoch 69/200\n",
      "156/156 [==============================] - 0s 2ms/step - loss: 0.4509 - accuracy: 0.7577 - val_loss: 0.4788 - val_accuracy: 0.8875\n",
      "Epoch 70/200\n",
      "156/156 [==============================] - 0s 2ms/step - loss: 0.4531 - accuracy: 0.7544 - val_loss: 0.4927 - val_accuracy: 0.8625\n",
      "Epoch 71/200\n",
      "156/156 [==============================] - 0s 2ms/step - loss: 0.4500 - accuracy: 0.7549 - val_loss: 0.5029 - val_accuracy: 0.5677\n",
      "Epoch 72/200\n",
      "156/156 [==============================] - 0s 2ms/step - loss: 0.4504 - accuracy: 0.7529 - val_loss: 0.5036 - val_accuracy: 0.5677\n",
      "Epoch 73/200\n",
      "156/156 [==============================] - 0s 2ms/step - loss: 0.4504 - accuracy: 0.7544 - val_loss: 0.4924 - val_accuracy: 0.8833\n",
      "Epoch 74/200\n",
      "156/156 [==============================] - 0s 2ms/step - loss: 0.4500 - accuracy: 0.7518 - val_loss: 0.5046 - val_accuracy: 0.5677\n",
      "Epoch 75/200\n",
      "156/156 [==============================] - 0s 2ms/step - loss: 0.4498 - accuracy: 0.7622 - val_loss: 0.5104 - val_accuracy: 0.5677\n",
      "Epoch 76/200\n",
      "156/156 [==============================] - 0s 2ms/step - loss: 0.4502 - accuracy: 0.7538 - val_loss: 0.4978 - val_accuracy: 0.5719\n",
      "Epoch 77/200\n",
      "156/156 [==============================] - 0s 2ms/step - loss: 0.4508 - accuracy: 0.7549 - val_loss: 0.4956 - val_accuracy: 0.8865\n",
      "Epoch 78/200\n",
      "156/156 [==============================] - 1s 3ms/step - loss: 0.4486 - accuracy: 0.7546 - val_loss: 0.5034 - val_accuracy: 0.5656\n",
      "Epoch 79/200\n",
      "156/156 [==============================] - 0s 2ms/step - loss: 0.4494 - accuracy: 0.7537 - val_loss: 0.4946 - val_accuracy: 0.8813\n",
      "Epoch 80/200\n",
      "156/156 [==============================] - 0s 2ms/step - loss: 0.4461 - accuracy: 0.7598 - val_loss: 0.4985 - val_accuracy: 0.5719\n",
      "Epoch 81/200\n",
      "156/156 [==============================] - 0s 2ms/step - loss: 0.4495 - accuracy: 0.7545 - val_loss: 0.5044 - val_accuracy: 0.5719\n",
      "Epoch 82/200\n",
      "156/156 [==============================] - 0s 2ms/step - loss: 0.4497 - accuracy: 0.7532 - val_loss: 0.5047 - val_accuracy: 0.5719\n",
      "Epoch 83/200\n",
      "156/156 [==============================] - 0s 2ms/step - loss: 0.4504 - accuracy: 0.7593 - val_loss: 0.5084 - val_accuracy: 0.5656\n",
      "Epoch 84/200\n",
      "156/156 [==============================] - 0s 2ms/step - loss: 0.4482 - accuracy: 0.7557 - val_loss: 0.4956 - val_accuracy: 0.8833\n",
      "Epoch 85/200\n",
      "156/156 [==============================] - 0s 2ms/step - loss: 0.4487 - accuracy: 0.7554 - val_loss: 0.5032 - val_accuracy: 0.5656\n",
      "Epoch 86/200\n",
      "156/156 [==============================] - 0s 3ms/step - loss: 0.4507 - accuracy: 0.7517 - val_loss: 0.4986 - val_accuracy: 0.8833\n",
      "Epoch 87/200\n",
      "156/156 [==============================] - 0s 2ms/step - loss: 0.4497 - accuracy: 0.7606 - val_loss: 0.4973 - val_accuracy: 0.8833\n",
      "Epoch 88/200\n",
      "156/156 [==============================] - 0s 2ms/step - loss: 0.4502 - accuracy: 0.7528 - val_loss: 0.5009 - val_accuracy: 0.8875\n",
      "Epoch 89/200\n",
      "156/156 [==============================] - 0s 2ms/step - loss: 0.4493 - accuracy: 0.7512 - val_loss: 0.4926 - val_accuracy: 0.8875\n",
      "Epoch 90/200\n",
      "156/156 [==============================] - 0s 2ms/step - loss: 0.4469 - accuracy: 0.7580 - val_loss: 0.4962 - val_accuracy: 0.8813\n",
      "Epoch 91/200\n",
      "156/156 [==============================] - 0s 2ms/step - loss: 0.4501 - accuracy: 0.7554 - val_loss: 0.4973 - val_accuracy: 0.8813\n",
      "Epoch 92/200\n",
      "156/156 [==============================] - 0s 2ms/step - loss: 0.4489 - accuracy: 0.7571 - val_loss: 0.4950 - val_accuracy: 0.8833\n",
      "Epoch 93/200\n",
      "156/156 [==============================] - 0s 2ms/step - loss: 0.4496 - accuracy: 0.7584 - val_loss: 0.5056 - val_accuracy: 0.8813\n",
      "Epoch 94/200\n",
      "156/156 [==============================] - 0s 2ms/step - loss: 0.4493 - accuracy: 0.7556 - val_loss: 0.4927 - val_accuracy: 0.8854\n",
      "Epoch 95/200\n",
      "156/156 [==============================] - 0s 2ms/step - loss: 0.4482 - accuracy: 0.7549 - val_loss: 0.4995 - val_accuracy: 0.8854\n",
      "Epoch 96/200\n",
      "156/156 [==============================] - 0s 3ms/step - loss: 0.4488 - accuracy: 0.7552 - val_loss: 0.5049 - val_accuracy: 0.8854\n",
      "Epoch 97/200\n",
      "156/156 [==============================] - 0s 3ms/step - loss: 0.4508 - accuracy: 0.7556 - val_loss: 0.4960 - val_accuracy: 0.8865\n",
      "Epoch 98/200\n",
      "156/156 [==============================] - 0s 3ms/step - loss: 0.4486 - accuracy: 0.7602 - val_loss: 0.5065 - val_accuracy: 0.8823\n",
      "Epoch 99/200\n",
      "156/156 [==============================] - 0s 2ms/step - loss: 0.4478 - accuracy: 0.7527 - val_loss: 0.4968 - val_accuracy: 0.8875\n",
      "Epoch 100/200\n",
      "156/156 [==============================] - 0s 2ms/step - loss: 0.4468 - accuracy: 0.7604 - val_loss: 0.5026 - val_accuracy: 0.8833\n",
      "Epoch 101/200\n",
      "156/156 [==============================] - 0s 2ms/step - loss: 0.4481 - accuracy: 0.7577 - val_loss: 0.5061 - val_accuracy: 0.8875\n",
      "Epoch 102/200\n",
      "156/156 [==============================] - 1s 3ms/step - loss: 0.4521 - accuracy: 0.7545 - val_loss: 0.5104 - val_accuracy: 0.5719\n",
      "Epoch 103/200\n",
      "156/156 [==============================] - 0s 2ms/step - loss: 0.4496 - accuracy: 0.7513 - val_loss: 0.5161 - val_accuracy: 0.5656\n",
      "Epoch 104/200\n",
      "156/156 [==============================] - 0s 2ms/step - loss: 0.4497 - accuracy: 0.7538 - val_loss: 0.5152 - val_accuracy: 0.5656\n",
      "Epoch 105/200\n",
      "156/156 [==============================] - 0s 2ms/step - loss: 0.4502 - accuracy: 0.7502 - val_loss: 0.5064 - val_accuracy: 0.8823\n",
      "Epoch 106/200\n",
      "156/156 [==============================] - 0s 2ms/step - loss: 0.4498 - accuracy: 0.7587 - val_loss: 0.5073 - val_accuracy: 0.8823\n",
      "Epoch 107/200\n",
      "156/156 [==============================] - 0s 2ms/step - loss: 0.4504 - accuracy: 0.7556 - val_loss: 0.5059 - val_accuracy: 0.8823\n",
      "Epoch 108/200\n",
      "156/156 [==============================] - 0s 2ms/step - loss: 0.4501 - accuracy: 0.7538 - val_loss: 0.5003 - val_accuracy: 0.8844\n",
      "Epoch 109/200\n",
      "156/156 [==============================] - 0s 2ms/step - loss: 0.4496 - accuracy: 0.7582 - val_loss: 0.4997 - val_accuracy: 0.8833\n",
      "Epoch 110/200\n",
      "156/156 [==============================] - 0s 2ms/step - loss: 0.4488 - accuracy: 0.7507 - val_loss: 0.5104 - val_accuracy: 0.8823\n",
      "Epoch 111/200\n",
      "156/156 [==============================] - 0s 2ms/step - loss: 0.4493 - accuracy: 0.7551 - val_loss: 0.5062 - val_accuracy: 0.8813\n",
      "Epoch 112/200\n",
      "156/156 [==============================] - 0s 2ms/step - loss: 0.4496 - accuracy: 0.7527 - val_loss: 0.4915 - val_accuracy: 0.8833\n",
      "Epoch 113/200\n",
      "156/156 [==============================] - 0s 2ms/step - loss: 0.4495 - accuracy: 0.7538 - val_loss: 0.5109 - val_accuracy: 0.8833\n",
      "Epoch 114/200\n",
      "156/156 [==============================] - 0s 2ms/step - loss: 0.4503 - accuracy: 0.7532 - val_loss: 0.4976 - val_accuracy: 0.8844\n",
      "Epoch 115/200\n",
      "156/156 [==============================] - 0s 2ms/step - loss: 0.4461 - accuracy: 0.7621 - val_loss: 0.4980 - val_accuracy: 0.8875\n",
      "Epoch 116/200\n",
      "156/156 [==============================] - 0s 2ms/step - loss: 0.4474 - accuracy: 0.7531 - val_loss: 0.5007 - val_accuracy: 0.8844\n",
      "Epoch 117/200\n",
      "156/156 [==============================] - 0s 2ms/step - loss: 0.4441 - accuracy: 0.7659 - val_loss: 0.5021 - val_accuracy: 0.8875\n",
      "Epoch 118/200\n",
      "156/156 [==============================] - 0s 2ms/step - loss: 0.4491 - accuracy: 0.7535 - val_loss: 0.4907 - val_accuracy: 0.8875\n",
      "Epoch 119/200\n",
      "156/156 [==============================] - 0s 2ms/step - loss: 0.4499 - accuracy: 0.7539 - val_loss: 0.4809 - val_accuracy: 0.8875\n",
      "Epoch 120/200\n",
      "156/156 [==============================] - 0s 2ms/step - loss: 0.4465 - accuracy: 0.7629 - val_loss: 0.4876 - val_accuracy: 0.8875\n",
      "Epoch 121/200\n",
      "156/156 [==============================] - 0s 2ms/step - loss: 0.4508 - accuracy: 0.7525 - val_loss: 0.4994 - val_accuracy: 0.8865\n",
      "Epoch 122/200\n",
      "156/156 [==============================] - 0s 2ms/step - loss: 0.4499 - accuracy: 0.7560 - val_loss: 0.5021 - val_accuracy: 0.8823\n",
      "Epoch 123/200\n",
      "156/156 [==============================] - 0s 2ms/step - loss: 0.4490 - accuracy: 0.7500 - val_loss: 0.4930 - val_accuracy: 0.8635\n",
      "Epoch 124/200\n",
      "156/156 [==============================] - 0s 2ms/step - loss: 0.4474 - accuracy: 0.7631 - val_loss: 0.4869 - val_accuracy: 0.8844\n",
      "Epoch 125/200\n",
      "156/156 [==============================] - 0s 2ms/step - loss: 0.4498 - accuracy: 0.7505 - val_loss: 0.4940 - val_accuracy: 0.8844\n",
      "Epoch 126/200\n",
      "156/156 [==============================] - 0s 2ms/step - loss: 0.4471 - accuracy: 0.7574 - val_loss: 0.4870 - val_accuracy: 0.8844\n",
      "Epoch 127/200\n",
      "156/156 [==============================] - 0s 2ms/step - loss: 0.4470 - accuracy: 0.7569 - val_loss: 0.4984 - val_accuracy: 0.8844\n",
      "Epoch 128/200\n",
      "156/156 [==============================] - 0s 2ms/step - loss: 0.4490 - accuracy: 0.7588 - val_loss: 0.5037 - val_accuracy: 0.8635\n",
      "Epoch 129/200\n",
      "156/156 [==============================] - 0s 2ms/step - loss: 0.4493 - accuracy: 0.7503 - val_loss: 0.5020 - val_accuracy: 0.8844\n",
      "Epoch 130/200\n",
      "156/156 [==============================] - 0s 2ms/step - loss: 0.4497 - accuracy: 0.7601 - val_loss: 0.4991 - val_accuracy: 0.8875\n",
      "Epoch 131/200\n",
      "156/156 [==============================] - 0s 2ms/step - loss: 0.4502 - accuracy: 0.7527 - val_loss: 0.5007 - val_accuracy: 0.8844\n",
      "Epoch 132/200\n",
      "156/156 [==============================] - 0s 2ms/step - loss: 0.4483 - accuracy: 0.7561 - val_loss: 0.4957 - val_accuracy: 0.8875\n",
      "Epoch 133/200\n",
      "156/156 [==============================] - 0s 2ms/step - loss: 0.4485 - accuracy: 0.7548 - val_loss: 0.4941 - val_accuracy: 0.8844\n",
      "Epoch 134/200\n",
      "156/156 [==============================] - 0s 2ms/step - loss: 0.4484 - accuracy: 0.7575 - val_loss: 0.4889 - val_accuracy: 0.8875\n",
      "Epoch 135/200\n",
      "156/156 [==============================] - 0s 2ms/step - loss: 0.4484 - accuracy: 0.7586 - val_loss: 0.4870 - val_accuracy: 0.8865\n",
      "Epoch 136/200\n",
      "156/156 [==============================] - 0s 2ms/step - loss: 0.4486 - accuracy: 0.7505 - val_loss: 0.4791 - val_accuracy: 0.8875\n",
      "Epoch 137/200\n",
      "156/156 [==============================] - 0s 2ms/step - loss: 0.4480 - accuracy: 0.7582 - val_loss: 0.4791 - val_accuracy: 0.8875\n",
      "Epoch 138/200\n",
      "156/156 [==============================] - 0s 2ms/step - loss: 0.4494 - accuracy: 0.7508 - val_loss: 0.4865 - val_accuracy: 0.8875\n",
      "Epoch 139/200\n",
      "156/156 [==============================] - 0s 2ms/step - loss: 0.4503 - accuracy: 0.7506 - val_loss: 0.4786 - val_accuracy: 0.8875\n",
      "Epoch 140/200\n",
      "156/156 [==============================] - 0s 2ms/step - loss: 0.4460 - accuracy: 0.7570 - val_loss: 0.4893 - val_accuracy: 0.8854\n",
      "Epoch 141/200\n",
      "156/156 [==============================] - 0s 2ms/step - loss: 0.4457 - accuracy: 0.7535 - val_loss: 0.4740 - val_accuracy: 0.8875\n",
      "Epoch 142/200\n",
      "156/156 [==============================] - 0s 2ms/step - loss: 0.4446 - accuracy: 0.7549 - val_loss: 0.4788 - val_accuracy: 0.8875\n",
      "Epoch 143/200\n",
      "156/156 [==============================] - 0s 2ms/step - loss: 0.4480 - accuracy: 0.7579 - val_loss: 0.4807 - val_accuracy: 0.8875\n",
      "Epoch 144/200\n",
      "156/156 [==============================] - 0s 2ms/step - loss: 0.4481 - accuracy: 0.7583 - val_loss: 0.4919 - val_accuracy: 0.8844\n",
      "Epoch 145/200\n",
      "156/156 [==============================] - 0s 2ms/step - loss: 0.4497 - accuracy: 0.7551 - val_loss: 0.4943 - val_accuracy: 0.8833\n",
      "Epoch 146/200\n",
      "156/156 [==============================] - 0s 2ms/step - loss: 0.4498 - accuracy: 0.7562 - val_loss: 0.4886 - val_accuracy: 0.8875\n",
      "Epoch 147/200\n",
      "156/156 [==============================] - 0s 2ms/step - loss: 0.4505 - accuracy: 0.7526 - val_loss: 0.4927 - val_accuracy: 0.8875\n",
      "Epoch 148/200\n",
      "156/156 [==============================] - 0s 2ms/step - loss: 0.4472 - accuracy: 0.7548 - val_loss: 0.4979 - val_accuracy: 0.8875\n",
      "Epoch 149/200\n",
      "156/156 [==============================] - 0s 2ms/step - loss: 0.4495 - accuracy: 0.7537 - val_loss: 0.4976 - val_accuracy: 0.8875\n",
      "Epoch 150/200\n",
      "156/156 [==============================] - 0s 2ms/step - loss: 0.4500 - accuracy: 0.7519 - val_loss: 0.4912 - val_accuracy: 0.8875\n",
      "Epoch 151/200\n",
      "156/156 [==============================] - 0s 2ms/step - loss: 0.4518 - accuracy: 0.7545 - val_loss: 0.4922 - val_accuracy: 0.8875\n",
      "Epoch 152/200\n",
      "156/156 [==============================] - 0s 2ms/step - loss: 0.4499 - accuracy: 0.7524 - val_loss: 0.4837 - val_accuracy: 0.8875\n",
      "Epoch 153/200\n",
      "156/156 [==============================] - 0s 2ms/step - loss: 0.4477 - accuracy: 0.7600 - val_loss: 0.4968 - val_accuracy: 0.8875\n",
      "Epoch 154/200\n",
      "156/156 [==============================] - 0s 2ms/step - loss: 0.4516 - accuracy: 0.7546 - val_loss: 0.4884 - val_accuracy: 0.8875\n",
      "Epoch 155/200\n",
      "156/156 [==============================] - 0s 2ms/step - loss: 0.4489 - accuracy: 0.7559 - val_loss: 0.4880 - val_accuracy: 0.8875\n",
      "Epoch 156/200\n",
      "156/156 [==============================] - 0s 2ms/step - loss: 0.4481 - accuracy: 0.7563 - val_loss: 0.4937 - val_accuracy: 0.8875\n",
      "Epoch 157/200\n",
      "156/156 [==============================] - 0s 2ms/step - loss: 0.4472 - accuracy: 0.7571 - val_loss: 0.4933 - val_accuracy: 0.8844\n",
      "Epoch 158/200\n",
      "156/156 [==============================] - 0s 2ms/step - loss: 0.4475 - accuracy: 0.7536 - val_loss: 0.4915 - val_accuracy: 0.8875\n",
      "Epoch 159/200\n",
      "156/156 [==============================] - 0s 2ms/step - loss: 0.4483 - accuracy: 0.7557 - val_loss: 0.4967 - val_accuracy: 0.8833\n",
      "Epoch 160/200\n",
      "156/156 [==============================] - 0s 2ms/step - loss: 0.4474 - accuracy: 0.7531 - val_loss: 0.4814 - val_accuracy: 0.8875\n",
      "Epoch 161/200\n",
      "156/156 [==============================] - 0s 2ms/step - loss: 0.4490 - accuracy: 0.7551 - val_loss: 0.4768 - val_accuracy: 0.8875\n",
      "Epoch 162/200\n",
      "156/156 [==============================] - 0s 2ms/step - loss: 0.4516 - accuracy: 0.7515 - val_loss: 0.4863 - val_accuracy: 0.8875\n",
      "Epoch 163/200\n",
      "156/156 [==============================] - 0s 2ms/step - loss: 0.4468 - accuracy: 0.7579 - val_loss: 0.4956 - val_accuracy: 0.8854\n",
      "Epoch 164/200\n",
      "156/156 [==============================] - 0s 2ms/step - loss: 0.4469 - accuracy: 0.7561 - val_loss: 0.4903 - val_accuracy: 0.8854\n",
      "Epoch 165/200\n",
      "156/156 [==============================] - 0s 2ms/step - loss: 0.4501 - accuracy: 0.7575 - val_loss: 0.4944 - val_accuracy: 0.8875\n",
      "Epoch 166/200\n",
      "156/156 [==============================] - 0s 2ms/step - loss: 0.4500 - accuracy: 0.7581 - val_loss: 0.4893 - val_accuracy: 0.8875\n",
      "Epoch 167/200\n",
      "156/156 [==============================] - 0s 2ms/step - loss: 0.4486 - accuracy: 0.7548 - val_loss: 0.4961 - val_accuracy: 0.8875\n",
      "Epoch 168/200\n",
      "156/156 [==============================] - 0s 2ms/step - loss: 0.4487 - accuracy: 0.7567 - val_loss: 0.4882 - val_accuracy: 0.8875\n",
      "Epoch 169/200\n",
      "156/156 [==============================] - 0s 2ms/step - loss: 0.4469 - accuracy: 0.7503 - val_loss: 0.4881 - val_accuracy: 0.8875\n",
      "Epoch 170/200\n",
      "156/156 [==============================] - 0s 2ms/step - loss: 0.4492 - accuracy: 0.7523 - val_loss: 0.4897 - val_accuracy: 0.8875\n",
      "Epoch 171/200\n",
      "156/156 [==============================] - 0s 2ms/step - loss: 0.4477 - accuracy: 0.7548 - val_loss: 0.4813 - val_accuracy: 0.8875\n",
      "Epoch 172/200\n",
      "156/156 [==============================] - 0s 2ms/step - loss: 0.4490 - accuracy: 0.7600 - val_loss: 0.4926 - val_accuracy: 0.8875\n",
      "Epoch 173/200\n",
      "156/156 [==============================] - 0s 2ms/step - loss: 0.4474 - accuracy: 0.7574 - val_loss: 0.4846 - val_accuracy: 0.8875\n",
      "Epoch 174/200\n",
      "156/156 [==============================] - 0s 2ms/step - loss: 0.4486 - accuracy: 0.7539 - val_loss: 0.4883 - val_accuracy: 0.8875\n",
      "Epoch 175/200\n",
      "156/156 [==============================] - 0s 2ms/step - loss: 0.4505 - accuracy: 0.7579 - val_loss: 0.4889 - val_accuracy: 0.8875\n",
      "Epoch 176/200\n",
      "156/156 [==============================] - 0s 2ms/step - loss: 0.4470 - accuracy: 0.7586 - val_loss: 0.4935 - val_accuracy: 0.8875\n",
      "Epoch 177/200\n",
      "156/156 [==============================] - 0s 2ms/step - loss: 0.4465 - accuracy: 0.7538 - val_loss: 0.4812 - val_accuracy: 0.8875\n",
      "Epoch 178/200\n",
      "156/156 [==============================] - 0s 2ms/step - loss: 0.4474 - accuracy: 0.7566 - val_loss: 0.4861 - val_accuracy: 0.8875\n",
      "Epoch 179/200\n",
      "156/156 [==============================] - 0s 2ms/step - loss: 0.4478 - accuracy: 0.7545 - val_loss: 0.4799 - val_accuracy: 0.8875\n",
      "Epoch 180/200\n",
      "156/156 [==============================] - 0s 2ms/step - loss: 0.4486 - accuracy: 0.7591 - val_loss: 0.4889 - val_accuracy: 0.8875\n",
      "Epoch 181/200\n",
      "156/156 [==============================] - 0s 2ms/step - loss: 0.4477 - accuracy: 0.7565 - val_loss: 0.4922 - val_accuracy: 0.8875\n",
      "Epoch 182/200\n",
      "156/156 [==============================] - 0s 2ms/step - loss: 0.4493 - accuracy: 0.7533 - val_loss: 0.4835 - val_accuracy: 0.8875\n",
      "Epoch 183/200\n",
      "156/156 [==============================] - 0s 2ms/step - loss: 0.4466 - accuracy: 0.7557 - val_loss: 0.4807 - val_accuracy: 0.8875\n",
      "Epoch 184/200\n",
      "156/156 [==============================] - 0s 2ms/step - loss: 0.4487 - accuracy: 0.7571 - val_loss: 0.4874 - val_accuracy: 0.8875\n",
      "Epoch 185/200\n",
      "156/156 [==============================] - 0s 2ms/step - loss: 0.4488 - accuracy: 0.7514 - val_loss: 0.4809 - val_accuracy: 0.8875\n",
      "Epoch 186/200\n",
      "156/156 [==============================] - 0s 2ms/step - loss: 0.4480 - accuracy: 0.7582 - val_loss: 0.4819 - val_accuracy: 0.8865\n",
      "Epoch 187/200\n",
      "156/156 [==============================] - 0s 2ms/step - loss: 0.4472 - accuracy: 0.7543 - val_loss: 0.4877 - val_accuracy: 0.8875\n",
      "Epoch 188/200\n",
      "156/156 [==============================] - 0s 2ms/step - loss: 0.4484 - accuracy: 0.7520 - val_loss: 0.4849 - val_accuracy: 0.8875\n",
      "Epoch 189/200\n",
      "156/156 [==============================] - 0s 2ms/step - loss: 0.4471 - accuracy: 0.7533 - val_loss: 0.4952 - val_accuracy: 0.8865\n",
      "Epoch 190/200\n",
      "156/156 [==============================] - 0s 2ms/step - loss: 0.4494 - accuracy: 0.7523 - val_loss: 0.4766 - val_accuracy: 0.8875\n",
      "Epoch 191/200\n",
      "156/156 [==============================] - 0s 2ms/step - loss: 0.4498 - accuracy: 0.7545 - val_loss: 0.4896 - val_accuracy: 0.8875\n",
      "Epoch 192/200\n",
      "156/156 [==============================] - 0s 2ms/step - loss: 0.4456 - accuracy: 0.7482 - val_loss: 0.4771 - val_accuracy: 0.8875\n",
      "Epoch 193/200\n",
      "156/156 [==============================] - 0s 2ms/step - loss: 0.4495 - accuracy: 0.7560 - val_loss: 0.4808 - val_accuracy: 0.8875\n",
      "Epoch 194/200\n",
      "156/156 [==============================] - 0s 2ms/step - loss: 0.4494 - accuracy: 0.7548 - val_loss: 0.4830 - val_accuracy: 0.8875\n",
      "Epoch 195/200\n",
      "156/156 [==============================] - 0s 2ms/step - loss: 0.4476 - accuracy: 0.7543 - val_loss: 0.4767 - val_accuracy: 0.8875\n",
      "Epoch 196/200\n",
      "156/156 [==============================] - 0s 2ms/step - loss: 0.4503 - accuracy: 0.7558 - val_loss: 0.4953 - val_accuracy: 0.8875\n",
      "Epoch 197/200\n",
      "156/156 [==============================] - 0s 2ms/step - loss: 0.4481 - accuracy: 0.7546 - val_loss: 0.4996 - val_accuracy: 0.8875\n",
      "Epoch 198/200\n",
      "156/156 [==============================] - 0s 2ms/step - loss: 0.4474 - accuracy: 0.7539 - val_loss: 0.5047 - val_accuracy: 0.8875\n",
      "Epoch 199/200\n",
      "156/156 [==============================] - 0s 2ms/step - loss: 0.4470 - accuracy: 0.7583 - val_loss: 0.5100 - val_accuracy: 0.8844\n",
      "Epoch 200/200\n",
      "156/156 [==============================] - 0s 2ms/step - loss: 0.4483 - accuracy: 0.7544 - val_loss: 0.4997 - val_accuracy: 0.8875\n"
     ]
    }
   ],
   "source": [
    "configs_dict = {\n",
    "    \"learning_rate\": LEARNING_RATE,\n",
    "    \"algorithm\": \"LogReg\",\n",
    "    \"configuration\": \"2-types\",\n",
    "    \"optimizer\": \"adam\",\n",
    "    \"loss\": \"binary_crossentropy\",\n",
    "    \"epochs\": NUM_EPOCHS,\n",
    "    \"batch_size\": 64,\n",
    "    \"vectorizer\": \"int\",\n",
    "    \"dataset\": \"TOKENIZED_SET_V1\"\n",
    "}\n",
    "run = wandb.init(project=wandb_project_name, reinit=True, config=configs_dict)\n",
    "\n",
    "history = model.fit(train_dataset, epochs=NUM_EPOCHS,\n",
    "                    validation_data=test_dataset,\n",
    "                    validation_steps=VAL_STEPS_PER_EPOCH, steps_per_epoch=STEPS_PER_EPOCH,callbacks= [WandbCallback()])#[tensorboard_callback])\n",
    "run.finish()"
   ]
  },
  {
   "cell_type": "code",
   "execution_count": 29,
   "metadata": {},
   "outputs": [
    {
     "name": "stdout",
     "output_type": "stream",
     "text": [
      "15/15 [==============================] - 0s 893us/step - loss: 0.4997 - accuracy: 0.8875\n",
      "Test Loss: 0.49972259998321533\n",
      "Test Accuracy: 0.887499988079071\n"
     ]
    }
   ],
   "source": [
    "test_loss, test_acc = model.evaluate(test_dataset)\n",
    "\n",
    "print(\"Test Loss:\", test_loss)\n",
    "print(\"Test Accuracy:\", test_acc)"
   ]
  },
  {
   "cell_type": "code",
   "execution_count": 30,
   "metadata": {},
   "outputs": [
    {
     "data": {
      "text/plain": [
       "(0.0, 0.6598498702049256)"
      ]
     },
     "execution_count": 30,
     "metadata": {},
     "output_type": "execute_result"
    },
    {
     "data": {
      "image/png": "[encoded data removed]",
      "text/plain": [
       "<Figure size 1600x800 with 2 Axes>"
      ]
     },
     "metadata": {},
     "output_type": "display_data"
    }
   ],
   "source": [
    "plt.figure(figsize=(16,8))\n",
    "plt.subplot(1,2,1)\n",
    "plot_graphs(history, \"accuracy\")\n",
    "plt.ylim(None, 1)\n",
    "plt.subplot(1,2,2)\n",
    "plot_graphs(history, \"loss\")\n",
    "plt.ylim(0, None)"
   ]
  },
  {
   "cell_type": "code",
   "execution_count": 31,
   "metadata": {},
   "outputs": [
    {
     "name": "stdout",
     "output_type": "stream",
     "text": [
      "1/1 [==============================] - 0s 76ms/step\n",
      "[0.83682406]\n"
     ]
    }
   ],
   "source": [
    "# predict on a sample text without padding\n",
    "sample_text = \"set_constant SET_BASIC\"\n",
    "predictions = model.predict(np.array([sample_text]))\n",
    "print(predictions[0])"
   ]
  },
  {
   "attachments": {},
   "cell_type": "markdown",
   "metadata": {},
   "source": [
    "##### Experiment 2: Use binary count vectorizer for encoding"
   ]
  },
  {
   "cell_type": "code",
   "execution_count": 32,
   "metadata": {},
   "outputs": [
    {
     "name": "stdout",
     "output_type": "stream",
     "text": [
      "1/1 [==============================] - 0s 67ms/step\n",
      "[-0.01876398]\n"
     ]
    }
   ],
   "source": [
    "model = create_model(encoder_multi_hot)\n",
    "# predict on a sample formula using untrained model\n",
    "sample_text = \"set_constant SET_BASIC\"\n",
    "predictions = model.predict(np.array([sample_text]))\n",
    "print(predictions[0])"
   ]
  },
  {
   "cell_type": "code",
   "execution_count": 33,
   "metadata": {},
   "outputs": [],
   "source": [
    "#model.compile(optimizer='sgd',loss='sparse_categorical_crossentropy',metrics=['accuracy'])\n",
    "LEARNING_RATE = 1e-2\n",
    "NUM_EPOCHS = 200\n",
    "model.compile(loss=tf.keras.losses.BinaryCrossentropy(from_logits=True),\n",
    "              optimizer=tf.keras.optimizers.Adam(LEARNING_RATE),\n",
    "              metrics=[\"accuracy\"])"
   ]
  },
  {
   "cell_type": "code",
   "execution_count": 34,
   "metadata": {},
   "outputs": [
    {
     "name": "stdout",
     "output_type": "stream",
     "text": [
      "Epoch 1/200\n",
      "135/156 [========================>.....] - ETA: 0s - loss: 0.6892 - accuracy: 0.5513INFO:tensorflow:Assets written to: /home/paul_d/Sources/sem_math_repo/classification_formulas_binary/wandb/run-20230307_113014-5jh6bsw6/files/model-best/assets\n"
     ]
    },
    {
     "name": "stderr",
     "output_type": "stream",
     "text": [
      "INFO:tensorflow:Assets written to: /home/paul_d/Sources/sem_math_repo/classification_formulas_binary/wandb/run-20230307_113014-5jh6bsw6/files/model-best/assets\n"
     ]
    },
    {
     "name": "stdout",
     "output_type": "stream",
     "text": [
      "156/156 [==============================] - 2s 9ms/step - loss: 0.6895 - accuracy: 0.5496 - val_loss: 0.7617 - val_accuracy: 0.0000e+00\n",
      "Epoch 2/200\n",
      "156/156 [==============================] - 0s 3ms/step - loss: 0.6886 - accuracy: 0.5498 - val_loss: 0.7995 - val_accuracy: 0.0000e+00\n",
      "Epoch 3/200\n",
      "156/156 [==============================] - 0s 3ms/step - loss: 0.6883 - accuracy: 0.5500 - val_loss: 0.7767 - val_accuracy: 0.0000e+00\n",
      "Epoch 4/200\n",
      "156/156 [==============================] - 0s 2ms/step - loss: 0.6883 - accuracy: 0.5501 - val_loss: 0.7971 - val_accuracy: 0.0000e+00\n",
      "Epoch 5/200\n",
      "156/156 [==============================] - 0s 2ms/step - loss: 0.6884 - accuracy: 0.5499 - val_loss: 0.8079 - val_accuracy: 0.0000e+00\n",
      "Epoch 6/200\n",
      "156/156 [==============================] - 0s 3ms/step - loss: 0.6884 - accuracy: 0.5498 - val_loss: 0.8177 - val_accuracy: 0.0000e+00\n",
      "Epoch 7/200\n",
      "156/156 [==============================] - 0s 2ms/step - loss: 0.6884 - accuracy: 0.5501 - val_loss: 0.8047 - val_accuracy: 0.0000e+00\n",
      "Epoch 8/200\n",
      "156/156 [==============================] - 0s 2ms/step - loss: 0.6882 - accuracy: 0.5501 - val_loss: 0.7892 - val_accuracy: 0.0000e+00\n",
      "Epoch 9/200\n",
      "156/156 [==============================] - 0s 3ms/step - loss: 0.6884 - accuracy: 0.5497 - val_loss: 0.7921 - val_accuracy: 0.0000e+00\n",
      "Epoch 10/200\n",
      "156/156 [==============================] - 1s 3ms/step - loss: 0.6883 - accuracy: 0.5502 - val_loss: 0.8115 - val_accuracy: 0.0000e+00\n",
      "Epoch 11/200\n",
      "156/156 [==============================] - 1s 4ms/step - loss: 0.6884 - accuracy: 0.5499 - val_loss: 0.8221 - val_accuracy: 0.0000e+00\n",
      "Epoch 12/200\n",
      "156/156 [==============================] - 0s 2ms/step - loss: 0.6883 - accuracy: 0.5501 - val_loss: 0.8069 - val_accuracy: 0.0000e+00\n",
      "Epoch 13/200\n",
      "156/156 [==============================] - 0s 2ms/step - loss: 0.6883 - accuracy: 0.5501 - val_loss: 0.8209 - val_accuracy: 0.0000e+00\n",
      "Epoch 14/200\n",
      "156/156 [==============================] - 0s 2ms/step - loss: 0.6882 - accuracy: 0.5501 - val_loss: 0.8226 - val_accuracy: 0.0000e+00\n",
      "Epoch 15/200\n",
      "156/156 [==============================] - 0s 2ms/step - loss: 0.6883 - accuracy: 0.5500 - val_loss: 0.8102 - val_accuracy: 0.0000e+00\n",
      "Epoch 16/200\n",
      "156/156 [==============================] - 0s 2ms/step - loss: 0.6884 - accuracy: 0.5501 - val_loss: 0.8135 - val_accuracy: 0.0000e+00\n",
      "Epoch 17/200\n",
      "156/156 [==============================] - 0s 2ms/step - loss: 0.6883 - accuracy: 0.5501 - val_loss: 0.8162 - val_accuracy: 0.0000e+00\n",
      "Epoch 18/200\n",
      "156/156 [==============================] - 0s 2ms/step - loss: 0.6885 - accuracy: 0.5499 - val_loss: 0.8271 - val_accuracy: 0.0000e+00\n",
      "Epoch 19/200\n",
      "156/156 [==============================] - 0s 2ms/step - loss: 0.6882 - accuracy: 0.5503 - val_loss: 0.8201 - val_accuracy: 0.0000e+00\n",
      "Epoch 20/200\n",
      "156/156 [==============================] - 0s 2ms/step - loss: 0.6882 - accuracy: 0.5502 - val_loss: 0.8528 - val_accuracy: 0.0000e+00\n",
      "Epoch 21/200\n",
      "156/156 [==============================] - 0s 2ms/step - loss: 0.6883 - accuracy: 0.5501 - val_loss: 0.7950 - val_accuracy: 0.0000e+00\n",
      "Epoch 22/200\n",
      "156/156 [==============================] - 0s 2ms/step - loss: 0.6882 - accuracy: 0.5503 - val_loss: 0.8070 - val_accuracy: 0.0000e+00\n",
      "Epoch 23/200\n",
      "156/156 [==============================] - 0s 2ms/step - loss: 0.6882 - accuracy: 0.5501 - val_loss: 0.8432 - val_accuracy: 0.0000e+00\n",
      "Epoch 24/200\n",
      "156/156 [==============================] - 0s 2ms/step - loss: 0.6884 - accuracy: 0.5498 - val_loss: 0.8444 - val_accuracy: 0.0000e+00\n",
      "Epoch 25/200\n",
      "156/156 [==============================] - 0s 2ms/step - loss: 0.6884 - accuracy: 0.5499 - val_loss: 0.8087 - val_accuracy: 0.0000e+00\n",
      "Epoch 26/200\n",
      "156/156 [==============================] - 0s 2ms/step - loss: 0.6882 - accuracy: 0.5503 - val_loss: 0.8200 - val_accuracy: 0.0000e+00\n",
      "Epoch 27/200\n",
      "156/156 [==============================] - 0s 2ms/step - loss: 0.6882 - accuracy: 0.5501 - val_loss: 0.8338 - val_accuracy: 0.0000e+00\n",
      "Epoch 28/200\n",
      "156/156 [==============================] - 0s 2ms/step - loss: 0.6883 - accuracy: 0.5501 - val_loss: 0.7978 - val_accuracy: 0.0000e+00\n",
      "Epoch 29/200\n",
      "156/156 [==============================] - 0s 2ms/step - loss: 0.6884 - accuracy: 0.5503 - val_loss: 0.8228 - val_accuracy: 0.0000e+00\n",
      "Epoch 30/200\n",
      "156/156 [==============================] - 0s 2ms/step - loss: 0.6883 - accuracy: 0.5501 - val_loss: 0.8107 - val_accuracy: 0.0000e+00\n",
      "Epoch 31/200\n",
      "156/156 [==============================] - 0s 2ms/step - loss: 0.6882 - accuracy: 0.5501 - val_loss: 0.8426 - val_accuracy: 0.0000e+00\n",
      "Epoch 32/200\n",
      "156/156 [==============================] - 0s 2ms/step - loss: 0.6881 - accuracy: 0.5499 - val_loss: 0.7862 - val_accuracy: 0.0000e+00\n",
      "Epoch 33/200\n",
      "156/156 [==============================] - 0s 2ms/step - loss: 0.6885 - accuracy: 0.5498 - val_loss: 0.8278 - val_accuracy: 0.0000e+00\n",
      "Epoch 34/200\n",
      "156/156 [==============================] - 0s 2ms/step - loss: 0.6883 - accuracy: 0.5504 - val_loss: 0.8047 - val_accuracy: 0.0000e+00\n",
      "Epoch 35/200\n",
      "156/156 [==============================] - 0s 2ms/step - loss: 0.6885 - accuracy: 0.5498 - val_loss: 0.8247 - val_accuracy: 0.0000e+00\n",
      "Epoch 36/200\n",
      "156/156 [==============================] - 0s 2ms/step - loss: 0.6883 - accuracy: 0.5499 - val_loss: 0.8367 - val_accuracy: 0.0000e+00\n",
      "Epoch 37/200\n",
      "156/156 [==============================] - 0s 2ms/step - loss: 0.6882 - accuracy: 0.5500 - val_loss: 0.7819 - val_accuracy: 0.0000e+00\n",
      "Epoch 38/200\n",
      "156/156 [==============================] - 0s 2ms/step - loss: 0.6885 - accuracy: 0.5500 - val_loss: 0.8447 - val_accuracy: 0.0000e+00\n",
      "Epoch 39/200\n",
      "156/156 [==============================] - 0s 2ms/step - loss: 0.6884 - accuracy: 0.5503 - val_loss: 0.8484 - val_accuracy: 0.0000e+00\n",
      "Epoch 40/200\n",
      "156/156 [==============================] - 0s 2ms/step - loss: 0.6882 - accuracy: 0.5501 - val_loss: 0.8655 - val_accuracy: 0.0000e+00\n",
      "Epoch 41/200\n",
      "156/156 [==============================] - 0s 2ms/step - loss: 0.6885 - accuracy: 0.5497 - val_loss: 0.8557 - val_accuracy: 0.0000e+00\n",
      "Epoch 42/200\n",
      "156/156 [==============================] - 0s 2ms/step - loss: 0.6883 - accuracy: 0.5500 - val_loss: 0.8462 - val_accuracy: 0.0000e+00\n",
      "Epoch 43/200\n",
      "156/156 [==============================] - 1s 3ms/step - loss: 0.6881 - accuracy: 0.5503 - val_loss: 0.8096 - val_accuracy: 0.0000e+00\n",
      "Epoch 44/200\n",
      "156/156 [==============================] - 0s 3ms/step - loss: 0.6886 - accuracy: 0.5498 - val_loss: 0.8247 - val_accuracy: 0.0000e+00\n",
      "Epoch 45/200\n",
      "156/156 [==============================] - 0s 2ms/step - loss: 0.6884 - accuracy: 0.5497 - val_loss: 0.8318 - val_accuracy: 0.0000e+00\n",
      "Epoch 46/200\n",
      "156/156 [==============================] - 0s 2ms/step - loss: 0.6882 - accuracy: 0.5501 - val_loss: 0.8451 - val_accuracy: 0.0000e+00\n",
      "Epoch 47/200\n",
      "156/156 [==============================] - 0s 2ms/step - loss: 0.6883 - accuracy: 0.5500 - val_loss: 0.8438 - val_accuracy: 0.0000e+00\n",
      "Epoch 48/200\n",
      "156/156 [==============================] - 0s 2ms/step - loss: 0.6882 - accuracy: 0.5502 - val_loss: 0.8300 - val_accuracy: 0.0000e+00\n",
      "Epoch 49/200\n",
      "156/156 [==============================] - 0s 3ms/step - loss: 0.6883 - accuracy: 0.5504 - val_loss: 0.8552 - val_accuracy: 0.0000e+00\n",
      "Epoch 50/200\n",
      "156/156 [==============================] - 0s 2ms/step - loss: 0.6885 - accuracy: 0.5501 - val_loss: 0.8277 - val_accuracy: 0.0000e+00\n",
      "Epoch 51/200\n",
      "156/156 [==============================] - 0s 2ms/step - loss: 0.6883 - accuracy: 0.5498 - val_loss: 0.8182 - val_accuracy: 0.0000e+00\n",
      "Epoch 52/200\n",
      "156/156 [==============================] - 0s 2ms/step - loss: 0.6886 - accuracy: 0.5498 - val_loss: 0.8285 - val_accuracy: 0.0000e+00\n",
      "Epoch 53/200\n",
      "156/156 [==============================] - 0s 2ms/step - loss: 0.6883 - accuracy: 0.5499 - val_loss: 0.8112 - val_accuracy: 0.0000e+00\n",
      "Epoch 54/200\n",
      "156/156 [==============================] - 0s 2ms/step - loss: 0.6883 - accuracy: 0.5502 - val_loss: 0.7931 - val_accuracy: 0.0000e+00\n",
      "Epoch 55/200\n",
      "156/156 [==============================] - 0s 2ms/step - loss: 0.6884 - accuracy: 0.5501 - val_loss: 0.8002 - val_accuracy: 0.0000e+00\n",
      "Epoch 56/200\n",
      "156/156 [==============================] - 0s 2ms/step - loss: 0.6884 - accuracy: 0.5501 - val_loss: 0.7890 - val_accuracy: 0.0000e+00\n",
      "Epoch 57/200\n",
      "156/156 [==============================] - 0s 2ms/step - loss: 0.6884 - accuracy: 0.5501 - val_loss: 0.8008 - val_accuracy: 0.0000e+00\n",
      "Epoch 58/200\n",
      "156/156 [==============================] - 0s 2ms/step - loss: 0.6883 - accuracy: 0.5503 - val_loss: 0.8684 - val_accuracy: 0.0000e+00\n",
      "Epoch 59/200\n",
      "156/156 [==============================] - 0s 2ms/step - loss: 0.6885 - accuracy: 0.5500 - val_loss: 0.8100 - val_accuracy: 0.0000e+00\n",
      "Epoch 60/200\n",
      "156/156 [==============================] - 0s 2ms/step - loss: 0.6883 - accuracy: 0.5500 - val_loss: 0.8516 - val_accuracy: 0.0000e+00\n",
      "Epoch 61/200\n",
      "156/156 [==============================] - 0s 2ms/step - loss: 0.6884 - accuracy: 0.5499 - val_loss: 0.8420 - val_accuracy: 0.0000e+00\n",
      "Epoch 62/200\n",
      "156/156 [==============================] - 0s 2ms/step - loss: 0.6883 - accuracy: 0.5497 - val_loss: 0.8141 - val_accuracy: 0.0000e+00\n",
      "Epoch 63/200\n",
      "156/156 [==============================] - 0s 2ms/step - loss: 0.6883 - accuracy: 0.5500 - val_loss: 0.8652 - val_accuracy: 0.0000e+00\n",
      "Epoch 64/200\n",
      "156/156 [==============================] - 0s 2ms/step - loss: 0.6883 - accuracy: 0.5499 - val_loss: 0.8482 - val_accuracy: 0.0000e+00\n",
      "Epoch 65/200\n",
      "156/156 [==============================] - 0s 2ms/step - loss: 0.6884 - accuracy: 0.5497 - val_loss: 0.8909 - val_accuracy: 0.0000e+00\n",
      "Epoch 66/200\n",
      "137/156 [=========================>....] - ETA: 0s - loss: 0.6883 - accuracy: 0.5496INFO:tensorflow:Assets written to: /home/paul_d/Sources/sem_math_repo/classification_formulas_binary/wandb/run-20230307_113014-5jh6bsw6/files/model-best/assets\n"
     ]
    },
    {
     "name": "stderr",
     "output_type": "stream",
     "text": [
      "INFO:tensorflow:Assets written to: /home/paul_d/Sources/sem_math_repo/classification_formulas_binary/wandb/run-20230307_113014-5jh6bsw6/files/model-best/assets\n"
     ]
    },
    {
     "name": "stdout",
     "output_type": "stream",
     "text": [
      "156/156 [==============================] - 1s 7ms/step - loss: 0.6882 - accuracy: 0.5500 - val_loss: 0.7246 - val_accuracy: 0.0000e+00\n",
      "Epoch 67/200\n",
      "156/156 [==============================] - 0s 2ms/step - loss: 0.6883 - accuracy: 0.5501 - val_loss: 0.7353 - val_accuracy: 0.0000e+00\n",
      "Epoch 68/200\n",
      "156/156 [==============================] - 0s 2ms/step - loss: 0.6883 - accuracy: 0.5497 - val_loss: 0.7325 - val_accuracy: 0.0000e+00\n",
      "Epoch 69/200\n",
      "138/156 [=========================>....] - ETA: 0s - loss: 0.6885 - accuracy: 0.5486INFO:tensorflow:Assets written to: /home/paul_d/Sources/sem_math_repo/classification_formulas_binary/wandb/run-20230307_113014-5jh6bsw6/files/model-best/assets\n"
     ]
    },
    {
     "name": "stderr",
     "output_type": "stream",
     "text": [
      "INFO:tensorflow:Assets written to: /home/paul_d/Sources/sem_math_repo/classification_formulas_binary/wandb/run-20230307_113014-5jh6bsw6/files/model-best/assets\n"
     ]
    },
    {
     "name": "stdout",
     "output_type": "stream",
     "text": [
      "156/156 [==============================] - 1s 8ms/step - loss: 0.6882 - accuracy: 0.5502 - val_loss: 0.7234 - val_accuracy: 0.0000e+00\n",
      "Epoch 70/200\n",
      "156/156 [==============================] - 0s 2ms/step - loss: 0.6882 - accuracy: 0.5501 - val_loss: 0.7462 - val_accuracy: 0.0000e+00\n",
      "Epoch 71/200\n",
      "156/156 [==============================] - 0s 3ms/step - loss: 0.6884 - accuracy: 0.5500 - val_loss: 0.7293 - val_accuracy: 0.0000e+00\n",
      "Epoch 72/200\n",
      "130/156 [========================>.....] - ETA: 0s - loss: 0.6881 - accuracy: 0.5516INFO:tensorflow:Assets written to: /home/paul_d/Sources/sem_math_repo/classification_formulas_binary/wandb/run-20230307_113014-5jh6bsw6/files/model-best/assets\n"
     ]
    },
    {
     "name": "stderr",
     "output_type": "stream",
     "text": [
      "INFO:tensorflow:Assets written to: /home/paul_d/Sources/sem_math_repo/classification_formulas_binary/wandb/run-20230307_113014-5jh6bsw6/files/model-best/assets\n"
     ]
    },
    {
     "name": "stdout",
     "output_type": "stream",
     "text": [
      "156/156 [==============================] - 2s 10ms/step - loss: 0.6883 - accuracy: 0.5499 - val_loss: 0.7149 - val_accuracy: 0.0000e+00\n",
      "Epoch 73/200\n",
      "156/156 [==============================] - 0s 2ms/step - loss: 0.6887 - accuracy: 0.5498 - val_loss: 0.7342 - val_accuracy: 0.0000e+00\n",
      "Epoch 74/200\n",
      "156/156 [==============================] - 0s 2ms/step - loss: 0.6883 - accuracy: 0.5500 - val_loss: 0.7242 - val_accuracy: 0.0000e+00\n",
      "Epoch 75/200\n",
      "156/156 [==============================] - 0s 2ms/step - loss: 0.6884 - accuracy: 0.5497 - val_loss: 0.7764 - val_accuracy: 0.0000e+00\n",
      "Epoch 76/200\n",
      "156/156 [==============================] - 0s 2ms/step - loss: 0.6880 - accuracy: 0.5500 - val_loss: 0.9127 - val_accuracy: 0.0000e+00\n",
      "Epoch 77/200\n",
      "156/156 [==============================] - 0s 2ms/step - loss: 0.6885 - accuracy: 0.5498 - val_loss: 0.9647 - val_accuracy: 0.0000e+00\n",
      "Epoch 78/200\n",
      "156/156 [==============================] - 0s 2ms/step - loss: 0.6883 - accuracy: 0.5503 - val_loss: 1.1217 - val_accuracy: 0.0000e+00\n",
      "Epoch 79/200\n",
      "156/156 [==============================] - 0s 2ms/step - loss: 0.6883 - accuracy: 0.5498 - val_loss: 1.0894 - val_accuracy: 0.0000e+00\n",
      "Epoch 80/200\n",
      "156/156 [==============================] - 0s 2ms/step - loss: 0.6883 - accuracy: 0.5502 - val_loss: 1.0982 - val_accuracy: 0.0000e+00\n",
      "Epoch 81/200\n",
      "156/156 [==============================] - 0s 2ms/step - loss: 0.6884 - accuracy: 0.5501 - val_loss: 1.1118 - val_accuracy: 0.0000e+00\n",
      "Epoch 82/200\n",
      "156/156 [==============================] - 0s 2ms/step - loss: 0.6881 - accuracy: 0.5500 - val_loss: 1.1481 - val_accuracy: 0.0000e+00\n",
      "Epoch 83/200\n",
      "156/156 [==============================] - 0s 2ms/step - loss: 0.6882 - accuracy: 0.5503 - val_loss: 1.0849 - val_accuracy: 0.0000e+00\n",
      "Epoch 84/200\n",
      "156/156 [==============================] - 0s 2ms/step - loss: 0.6885 - accuracy: 0.5497 - val_loss: 1.0675 - val_accuracy: 0.0000e+00\n",
      "Epoch 85/200\n",
      "156/156 [==============================] - 0s 3ms/step - loss: 0.6883 - accuracy: 0.5502 - val_loss: 1.1029 - val_accuracy: 0.0000e+00\n",
      "Epoch 86/200\n",
      "156/156 [==============================] - 0s 3ms/step - loss: 0.6884 - accuracy: 0.5500 - val_loss: 1.1044 - val_accuracy: 0.0000e+00\n",
      "Epoch 87/200\n",
      "156/156 [==============================] - 0s 3ms/step - loss: 0.6883 - accuracy: 0.5501 - val_loss: 1.1060 - val_accuracy: 0.0000e+00\n",
      "Epoch 88/200\n",
      "156/156 [==============================] - 0s 2ms/step - loss: 0.6883 - accuracy: 0.5500 - val_loss: 1.0829 - val_accuracy: 0.0000e+00\n",
      "Epoch 89/200\n",
      "156/156 [==============================] - 0s 2ms/step - loss: 0.6882 - accuracy: 0.5501 - val_loss: 1.0832 - val_accuracy: 0.0000e+00\n",
      "Epoch 90/200\n",
      "156/156 [==============================] - 0s 2ms/step - loss: 0.6883 - accuracy: 0.5500 - val_loss: 1.0954 - val_accuracy: 0.0000e+00\n",
      "Epoch 91/200\n",
      "156/156 [==============================] - 0s 2ms/step - loss: 0.6883 - accuracy: 0.5501 - val_loss: 1.0821 - val_accuracy: 0.0000e+00\n",
      "Epoch 92/200\n",
      "156/156 [==============================] - 0s 2ms/step - loss: 0.6883 - accuracy: 0.5500 - val_loss: 1.1264 - val_accuracy: 0.0000e+00\n",
      "Epoch 93/200\n",
      "156/156 [==============================] - 1s 3ms/step - loss: 0.6882 - accuracy: 0.5503 - val_loss: 1.1435 - val_accuracy: 0.0000e+00\n",
      "Epoch 94/200\n",
      "156/156 [==============================] - 0s 2ms/step - loss: 0.6884 - accuracy: 0.5501 - val_loss: 1.0915 - val_accuracy: 0.0000e+00\n",
      "Epoch 95/200\n",
      "156/156 [==============================] - 0s 2ms/step - loss: 0.6882 - accuracy: 0.5499 - val_loss: 1.1361 - val_accuracy: 0.0000e+00\n",
      "Epoch 96/200\n",
      "156/156 [==============================] - 0s 2ms/step - loss: 0.6884 - accuracy: 0.5501 - val_loss: 1.0759 - val_accuracy: 0.0000e+00\n",
      "Epoch 97/200\n",
      "156/156 [==============================] - 0s 2ms/step - loss: 0.6884 - accuracy: 0.5501 - val_loss: 1.0919 - val_accuracy: 0.0000e+00\n",
      "Epoch 98/200\n",
      "156/156 [==============================] - 0s 2ms/step - loss: 0.6882 - accuracy: 0.5503 - val_loss: 1.1116 - val_accuracy: 0.0000e+00\n",
      "Epoch 99/200\n",
      "156/156 [==============================] - 0s 2ms/step - loss: 0.6883 - accuracy: 0.5500 - val_loss: 1.0687 - val_accuracy: 0.0000e+00\n",
      "Epoch 100/200\n",
      "156/156 [==============================] - 0s 2ms/step - loss: 0.6883 - accuracy: 0.5499 - val_loss: 1.1300 - val_accuracy: 0.0000e+00\n",
      "Epoch 101/200\n",
      "156/156 [==============================] - 0s 2ms/step - loss: 0.6884 - accuracy: 0.5499 - val_loss: 1.0849 - val_accuracy: 0.0000e+00\n",
      "Epoch 102/200\n",
      "156/156 [==============================] - 0s 2ms/step - loss: 0.6884 - accuracy: 0.5501 - val_loss: 1.0763 - val_accuracy: 0.0000e+00\n",
      "Epoch 103/200\n",
      "156/156 [==============================] - 0s 2ms/step - loss: 0.6883 - accuracy: 0.5501 - val_loss: 1.1087 - val_accuracy: 0.0000e+00\n",
      "Epoch 104/200\n",
      "156/156 [==============================] - 0s 2ms/step - loss: 0.6883 - accuracy: 0.5504 - val_loss: 1.0898 - val_accuracy: 0.0000e+00\n",
      "Epoch 105/200\n",
      "156/156 [==============================] - 0s 2ms/step - loss: 0.6884 - accuracy: 0.5497 - val_loss: 1.0876 - val_accuracy: 0.0000e+00\n",
      "Epoch 106/200\n",
      "156/156 [==============================] - 0s 2ms/step - loss: 0.6883 - accuracy: 0.5498 - val_loss: 1.1143 - val_accuracy: 0.0000e+00\n",
      "Epoch 107/200\n",
      "156/156 [==============================] - 0s 2ms/step - loss: 0.6885 - accuracy: 0.5498 - val_loss: 1.1090 - val_accuracy: 0.0000e+00\n",
      "Epoch 108/200\n",
      "156/156 [==============================] - 0s 2ms/step - loss: 0.6885 - accuracy: 0.5500 - val_loss: 1.0857 - val_accuracy: 0.0000e+00\n",
      "Epoch 109/200\n",
      "156/156 [==============================] - 0s 2ms/step - loss: 0.6882 - accuracy: 0.5502 - val_loss: 1.0763 - val_accuracy: 0.0000e+00\n",
      "Epoch 110/200\n",
      "156/156 [==============================] - 0s 2ms/step - loss: 0.6884 - accuracy: 0.5502 - val_loss: 1.1087 - val_accuracy: 0.0000e+00\n",
      "Epoch 111/200\n",
      "156/156 [==============================] - 0s 2ms/step - loss: 0.6883 - accuracy: 0.5500 - val_loss: 1.1137 - val_accuracy: 0.0000e+00\n",
      "Epoch 112/200\n",
      "156/156 [==============================] - 0s 2ms/step - loss: 0.6883 - accuracy: 0.5498 - val_loss: 1.1278 - val_accuracy: 0.0000e+00\n",
      "Epoch 113/200\n",
      "156/156 [==============================] - 0s 2ms/step - loss: 0.6882 - accuracy: 0.5501 - val_loss: 0.9855 - val_accuracy: 0.0000e+00\n",
      "Epoch 114/200\n",
      "156/156 [==============================] - 0s 2ms/step - loss: 0.6882 - accuracy: 0.5503 - val_loss: 1.0068 - val_accuracy: 0.0000e+00\n",
      "Epoch 115/200\n",
      "156/156 [==============================] - 0s 2ms/step - loss: 0.6882 - accuracy: 0.5501 - val_loss: 1.0395 - val_accuracy: 0.0000e+00\n",
      "Epoch 116/200\n",
      "156/156 [==============================] - 0s 2ms/step - loss: 0.6885 - accuracy: 0.5500 - val_loss: 1.1036 - val_accuracy: 0.0000e+00\n",
      "Epoch 117/200\n",
      "156/156 [==============================] - 0s 2ms/step - loss: 0.6882 - accuracy: 0.5501 - val_loss: 1.1653 - val_accuracy: 0.0000e+00\n",
      "Epoch 118/200\n",
      "156/156 [==============================] - 0s 2ms/step - loss: 0.6883 - accuracy: 0.5502 - val_loss: 1.1346 - val_accuracy: 0.0000e+00\n",
      "Epoch 119/200\n",
      "156/156 [==============================] - 0s 2ms/step - loss: 0.6884 - accuracy: 0.5503 - val_loss: 1.1263 - val_accuracy: 0.0000e+00\n",
      "Epoch 120/200\n",
      "156/156 [==============================] - 0s 2ms/step - loss: 0.6884 - accuracy: 0.5501 - val_loss: 1.1449 - val_accuracy: 0.0000e+00\n",
      "Epoch 121/200\n",
      "156/156 [==============================] - 0s 2ms/step - loss: 0.6883 - accuracy: 0.5500 - val_loss: 1.1091 - val_accuracy: 0.0000e+00\n",
      "Epoch 122/200\n",
      "156/156 [==============================] - 0s 2ms/step - loss: 0.6882 - accuracy: 0.5501 - val_loss: 1.1570 - val_accuracy: 0.0000e+00\n",
      "Epoch 123/200\n",
      "156/156 [==============================] - 0s 2ms/step - loss: 0.6884 - accuracy: 0.5497 - val_loss: 1.1348 - val_accuracy: 0.0000e+00\n",
      "Epoch 124/200\n",
      "156/156 [==============================] - 0s 2ms/step - loss: 0.6885 - accuracy: 0.5500 - val_loss: 1.1347 - val_accuracy: 0.0000e+00\n",
      "Epoch 125/200\n",
      "156/156 [==============================] - 0s 2ms/step - loss: 0.6884 - accuracy: 0.5499 - val_loss: 1.1688 - val_accuracy: 0.0000e+00\n",
      "Epoch 126/200\n",
      "156/156 [==============================] - 0s 2ms/step - loss: 0.6883 - accuracy: 0.5499 - val_loss: 1.1426 - val_accuracy: 0.0000e+00\n",
      "Epoch 127/200\n",
      "156/156 [==============================] - 0s 3ms/step - loss: 0.6883 - accuracy: 0.5498 - val_loss: 1.2488 - val_accuracy: 0.0000e+00\n",
      "Epoch 128/200\n",
      "156/156 [==============================] - 0s 2ms/step - loss: 0.6884 - accuracy: 0.5500 - val_loss: 1.2518 - val_accuracy: 0.0000e+00\n",
      "Epoch 129/200\n",
      "156/156 [==============================] - 0s 2ms/step - loss: 0.6884 - accuracy: 0.5497 - val_loss: 1.2206 - val_accuracy: 0.0000e+00\n",
      "Epoch 130/200\n",
      "156/156 [==============================] - 0s 3ms/step - loss: 0.6881 - accuracy: 0.5504 - val_loss: 1.5936 - val_accuracy: 0.0000e+00\n",
      "Epoch 131/200\n",
      "156/156 [==============================] - 0s 2ms/step - loss: 0.6883 - accuracy: 0.5499 - val_loss: 1.6020 - val_accuracy: 0.0000e+00\n",
      "Epoch 132/200\n",
      "156/156 [==============================] - 0s 2ms/step - loss: 0.6883 - accuracy: 0.5500 - val_loss: 1.6223 - val_accuracy: 0.0000e+00\n",
      "Epoch 133/200\n",
      "156/156 [==============================] - 0s 2ms/step - loss: 0.6884 - accuracy: 0.5500 - val_loss: 1.6503 - val_accuracy: 0.0000e+00\n",
      "Epoch 134/200\n",
      "156/156 [==============================] - 0s 2ms/step - loss: 0.6884 - accuracy: 0.5502 - val_loss: 1.6132 - val_accuracy: 0.0000e+00\n",
      "Epoch 135/200\n",
      "156/156 [==============================] - 0s 2ms/step - loss: 0.6883 - accuracy: 0.5502 - val_loss: 1.6243 - val_accuracy: 0.0000e+00\n",
      "Epoch 136/200\n",
      "156/156 [==============================] - 0s 2ms/step - loss: 0.6885 - accuracy: 0.5494 - val_loss: 1.6247 - val_accuracy: 0.0000e+00\n",
      "Epoch 137/200\n",
      "156/156 [==============================] - 0s 2ms/step - loss: 0.6884 - accuracy: 0.5500 - val_loss: 1.6116 - val_accuracy: 0.0000e+00\n",
      "Epoch 138/200\n",
      "156/156 [==============================] - 0s 2ms/step - loss: 0.6883 - accuracy: 0.5501 - val_loss: 1.6438 - val_accuracy: 0.0000e+00\n",
      "Epoch 139/200\n",
      "156/156 [==============================] - 0s 2ms/step - loss: 0.6883 - accuracy: 0.5499 - val_loss: 1.7248 - val_accuracy: 0.0000e+00\n",
      "Epoch 140/200\n",
      "156/156 [==============================] - 0s 2ms/step - loss: 0.6884 - accuracy: 0.5501 - val_loss: 1.7105 - val_accuracy: 0.0000e+00\n",
      "Epoch 141/200\n",
      "156/156 [==============================] - 0s 2ms/step - loss: 0.6885 - accuracy: 0.5497 - val_loss: 1.7316 - val_accuracy: 0.0000e+00\n",
      "Epoch 142/200\n",
      "156/156 [==============================] - 0s 2ms/step - loss: 0.6886 - accuracy: 0.5500 - val_loss: 1.7704 - val_accuracy: 0.0000e+00\n",
      "Epoch 143/200\n",
      "156/156 [==============================] - 0s 2ms/step - loss: 0.6883 - accuracy: 0.5502 - val_loss: 1.7532 - val_accuracy: 0.0000e+00\n",
      "Epoch 144/200\n",
      "156/156 [==============================] - 0s 2ms/step - loss: 0.6883 - accuracy: 0.5499 - val_loss: 1.7750 - val_accuracy: 0.0000e+00\n",
      "Epoch 145/200\n",
      "156/156 [==============================] - 0s 2ms/step - loss: 0.6884 - accuracy: 0.5497 - val_loss: 1.7583 - val_accuracy: 0.0000e+00\n",
      "Epoch 146/200\n",
      "156/156 [==============================] - 0s 2ms/step - loss: 0.6883 - accuracy: 0.5501 - val_loss: 1.7599 - val_accuracy: 0.0000e+00\n",
      "Epoch 147/200\n",
      "156/156 [==============================] - 0s 2ms/step - loss: 0.6884 - accuracy: 0.5501 - val_loss: 1.7738 - val_accuracy: 0.0000e+00\n",
      "Epoch 148/200\n",
      "156/156 [==============================] - 0s 2ms/step - loss: 0.6883 - accuracy: 0.5505 - val_loss: 1.7430 - val_accuracy: 0.0000e+00\n",
      "Epoch 149/200\n",
      "156/156 [==============================] - 0s 2ms/step - loss: 0.6882 - accuracy: 0.5500 - val_loss: 1.7441 - val_accuracy: 0.0000e+00\n",
      "Epoch 150/200\n",
      "156/156 [==============================] - 0s 2ms/step - loss: 0.6883 - accuracy: 0.5499 - val_loss: 1.7936 - val_accuracy: 0.0000e+00\n",
      "Epoch 151/200\n",
      "156/156 [==============================] - 0s 2ms/step - loss: 0.6884 - accuracy: 0.5500 - val_loss: 1.8240 - val_accuracy: 0.0000e+00\n",
      "Epoch 152/200\n",
      "156/156 [==============================] - 0s 3ms/step - loss: 0.6883 - accuracy: 0.5501 - val_loss: 1.8885 - val_accuracy: 0.0000e+00\n",
      "Epoch 153/200\n",
      "156/156 [==============================] - 0s 3ms/step - loss: 0.6882 - accuracy: 0.5497 - val_loss: 1.9637 - val_accuracy: 0.0000e+00\n",
      "Epoch 154/200\n",
      "156/156 [==============================] - 0s 2ms/step - loss: 0.6884 - accuracy: 0.5497 - val_loss: 1.9084 - val_accuracy: 0.0000e+00\n",
      "Epoch 155/200\n",
      "156/156 [==============================] - 0s 2ms/step - loss: 0.6883 - accuracy: 0.5503 - val_loss: 1.9185 - val_accuracy: 0.0000e+00\n",
      "Epoch 156/200\n",
      "156/156 [==============================] - 0s 2ms/step - loss: 0.6884 - accuracy: 0.5497 - val_loss: 1.8876 - val_accuracy: 0.0000e+00\n",
      "Epoch 157/200\n",
      "156/156 [==============================] - 0s 2ms/step - loss: 0.6884 - accuracy: 0.5499 - val_loss: 1.8997 - val_accuracy: 0.0000e+00\n",
      "Epoch 158/200\n",
      "156/156 [==============================] - 0s 2ms/step - loss: 0.6884 - accuracy: 0.5501 - val_loss: 1.8900 - val_accuracy: 0.0000e+00\n",
      "Epoch 159/200\n",
      "156/156 [==============================] - 0s 2ms/step - loss: 0.6883 - accuracy: 0.5500 - val_loss: 1.9135 - val_accuracy: 0.0000e+00\n",
      "Epoch 160/200\n",
      "156/156 [==============================] - 0s 2ms/step - loss: 0.6883 - accuracy: 0.5501 - val_loss: 1.8870 - val_accuracy: 0.0000e+00\n",
      "Epoch 161/200\n",
      "156/156 [==============================] - 0s 2ms/step - loss: 0.6883 - accuracy: 0.5503 - val_loss: 1.9126 - val_accuracy: 0.0000e+00\n",
      "Epoch 162/200\n",
      "156/156 [==============================] - 0s 2ms/step - loss: 0.6884 - accuracy: 0.5500 - val_loss: 1.8985 - val_accuracy: 0.0000e+00\n",
      "Epoch 163/200\n",
      "156/156 [==============================] - 0s 2ms/step - loss: 0.6884 - accuracy: 0.5499 - val_loss: 1.8223 - val_accuracy: 0.0000e+00\n",
      "Epoch 164/200\n",
      "156/156 [==============================] - 0s 2ms/step - loss: 0.6884 - accuracy: 0.5498 - val_loss: 1.9536 - val_accuracy: 0.0000e+00\n",
      "Epoch 165/200\n",
      "156/156 [==============================] - 0s 2ms/step - loss: 0.6884 - accuracy: 0.5500 - val_loss: 1.8873 - val_accuracy: 0.0000e+00\n",
      "Epoch 166/200\n",
      "156/156 [==============================] - 0s 2ms/step - loss: 0.6884 - accuracy: 0.5499 - val_loss: 1.8834 - val_accuracy: 0.0000e+00\n",
      "Epoch 167/200\n",
      "156/156 [==============================] - 0s 2ms/step - loss: 0.6883 - accuracy: 0.5498 - val_loss: 1.8513 - val_accuracy: 0.0000e+00\n",
      "Epoch 168/200\n",
      "156/156 [==============================] - 0s 2ms/step - loss: 0.6882 - accuracy: 0.5504 - val_loss: 1.8509 - val_accuracy: 0.0000e+00\n",
      "Epoch 169/200\n",
      "156/156 [==============================] - 0s 2ms/step - loss: 0.6882 - accuracy: 0.5499 - val_loss: 1.8302 - val_accuracy: 0.0000e+00\n",
      "Epoch 170/200\n",
      "156/156 [==============================] - 0s 2ms/step - loss: 0.6885 - accuracy: 0.5500 - val_loss: 1.8646 - val_accuracy: 0.0000e+00\n",
      "Epoch 171/200\n",
      "156/156 [==============================] - 0s 2ms/step - loss: 0.6883 - accuracy: 0.5501 - val_loss: 1.9011 - val_accuracy: 0.0000e+00\n",
      "Epoch 172/200\n",
      "156/156 [==============================] - 0s 2ms/step - loss: 0.6885 - accuracy: 0.5499 - val_loss: 1.8787 - val_accuracy: 0.0000e+00\n",
      "Epoch 173/200\n",
      "156/156 [==============================] - 0s 2ms/step - loss: 0.6884 - accuracy: 0.5499 - val_loss: 1.8420 - val_accuracy: 0.0000e+00\n",
      "Epoch 174/200\n",
      "156/156 [==============================] - 0s 2ms/step - loss: 0.6884 - accuracy: 0.5499 - val_loss: 1.8489 - val_accuracy: 0.0000e+00\n",
      "Epoch 175/200\n",
      "156/156 [==============================] - 0s 2ms/step - loss: 0.6884 - accuracy: 0.5499 - val_loss: 1.8305 - val_accuracy: 0.0000e+00\n",
      "Epoch 176/200\n",
      "156/156 [==============================] - 0s 2ms/step - loss: 0.6882 - accuracy: 0.5506 - val_loss: 1.8091 - val_accuracy: 0.0000e+00\n",
      "Epoch 177/200\n",
      "156/156 [==============================] - 0s 2ms/step - loss: 0.6883 - accuracy: 0.5502 - val_loss: 1.9501 - val_accuracy: 0.0000e+00\n",
      "Epoch 178/200\n",
      "156/156 [==============================] - 0s 2ms/step - loss: 0.6884 - accuracy: 0.5502 - val_loss: 1.8857 - val_accuracy: 0.0000e+00\n",
      "Epoch 179/200\n",
      "156/156 [==============================] - 0s 2ms/step - loss: 0.6883 - accuracy: 0.5500 - val_loss: 1.8708 - val_accuracy: 0.0000e+00\n",
      "Epoch 180/200\n",
      "156/156 [==============================] - 0s 3ms/step - loss: 0.6883 - accuracy: 0.5499 - val_loss: 1.8758 - val_accuracy: 0.0000e+00\n",
      "Epoch 181/200\n",
      "156/156 [==============================] - 0s 2ms/step - loss: 0.6883 - accuracy: 0.5502 - val_loss: 1.9714 - val_accuracy: 0.0000e+00\n",
      "Epoch 182/200\n",
      "156/156 [==============================] - 0s 2ms/step - loss: 0.6882 - accuracy: 0.5504 - val_loss: 1.9877 - val_accuracy: 0.0000e+00\n",
      "Epoch 183/200\n",
      "156/156 [==============================] - 0s 2ms/step - loss: 0.6882 - accuracy: 0.5500 - val_loss: 2.0689 - val_accuracy: 0.0000e+00\n",
      "Epoch 184/200\n",
      "156/156 [==============================] - 0s 2ms/step - loss: 0.6885 - accuracy: 0.5496 - val_loss: 2.2249 - val_accuracy: 0.0000e+00\n",
      "Epoch 185/200\n",
      "156/156 [==============================] - 0s 2ms/step - loss: 0.6884 - accuracy: 0.5501 - val_loss: 2.2219 - val_accuracy: 0.0000e+00\n",
      "Epoch 186/200\n",
      "156/156 [==============================] - 0s 2ms/step - loss: 0.6885 - accuracy: 0.5496 - val_loss: 2.2267 - val_accuracy: 0.0000e+00\n",
      "Epoch 187/200\n",
      "156/156 [==============================] - 0s 2ms/step - loss: 0.6883 - accuracy: 0.5500 - val_loss: 2.4206 - val_accuracy: 0.0000e+00\n",
      "Epoch 188/200\n",
      "156/156 [==============================] - 0s 2ms/step - loss: 0.6882 - accuracy: 0.5502 - val_loss: 2.4265 - val_accuracy: 0.0000e+00\n",
      "Epoch 189/200\n",
      "156/156 [==============================] - 0s 2ms/step - loss: 0.6882 - accuracy: 0.5504 - val_loss: 2.4077 - val_accuracy: 0.0000e+00\n",
      "Epoch 190/200\n",
      "156/156 [==============================] - 0s 2ms/step - loss: 0.6883 - accuracy: 0.5502 - val_loss: 2.3837 - val_accuracy: 0.0000e+00\n",
      "Epoch 191/200\n",
      "156/156 [==============================] - 0s 2ms/step - loss: 0.6882 - accuracy: 0.5500 - val_loss: 2.3681 - val_accuracy: 0.0000e+00\n",
      "Epoch 192/200\n",
      "156/156 [==============================] - 0s 2ms/step - loss: 0.6882 - accuracy: 0.5503 - val_loss: 2.6312 - val_accuracy: 0.0000e+00\n",
      "Epoch 193/200\n",
      "156/156 [==============================] - 0s 2ms/step - loss: 0.6884 - accuracy: 0.5500 - val_loss: 2.6468 - val_accuracy: 0.0000e+00\n",
      "Epoch 194/200\n",
      "156/156 [==============================] - 0s 2ms/step - loss: 0.6884 - accuracy: 0.5499 - val_loss: 2.5827 - val_accuracy: 0.0000e+00\n",
      "Epoch 195/200\n",
      "156/156 [==============================] - 0s 2ms/step - loss: 0.6882 - accuracy: 0.5504 - val_loss: 2.5941 - val_accuracy: 0.0000e+00\n",
      "Epoch 196/200\n",
      "156/156 [==============================] - 0s 2ms/step - loss: 0.6882 - accuracy: 0.5504 - val_loss: 2.5965 - val_accuracy: 0.0000e+00\n",
      "Epoch 197/200\n",
      "156/156 [==============================] - 0s 2ms/step - loss: 0.6884 - accuracy: 0.5500 - val_loss: 2.6121 - val_accuracy: 0.0000e+00\n",
      "Epoch 198/200\n",
      "156/156 [==============================] - 0s 2ms/step - loss: 0.6884 - accuracy: 0.5499 - val_loss: 2.4418 - val_accuracy: 0.0000e+00\n",
      "Epoch 199/200\n",
      "156/156 [==============================] - 0s 2ms/step - loss: 0.6885 - accuracy: 0.5499 - val_loss: 2.3857 - val_accuracy: 0.0000e+00\n",
      "Epoch 200/200\n",
      "156/156 [==============================] - 0s 2ms/step - loss: 0.6883 - accuracy: 0.5502 - val_loss: 2.4033 - val_accuracy: 0.0000e+00\n"
     ]
    }
   ],
   "source": [
    "configs_dict = {\n",
    "    \"learning_rate\": LEARNING_RATE,\n",
    "    \"algorithm\": \"LogReg\",\n",
    "    \"configuration\": \"2-types\",\n",
    "    \"optimizer\": \"adam\",\n",
    "    \"loss\": \"binary_crossentropy\",\n",
    "    \"epochs\": NUM_EPOCHS,\n",
    "    \"batch_size\": 64,\n",
    "    \"vectorizer\": \"multi_hot\",\n",
    "    \"dataset\": \"TOKENIZED_SET_V1\"\n",
    "}\n",
    "run = wandb.init(project=wandb_project_name, reinit=True, config=configs_dict)\n",
    "\n",
    "\n",
    "history = model.fit(train_dataset, epochs=NUM_EPOCHS,\n",
    "                    validation_data=test_dataset,\n",
    "                    validation_steps=VAL_STEPS_PER_EPOCH, steps_per_epoch=STEPS_PER_EPOCH,callbacks= [WandbCallback()])#[tensorboard_callback])\n",
    "run.finish()"
   ]
  },
  {
   "cell_type": "code",
   "execution_count": 35,
   "metadata": {},
   "outputs": [
    {
     "name": "stdout",
     "output_type": "stream",
     "text": [
      "15/15 [==============================] - 0s 855us/step - loss: 2.4033 - accuracy: 0.0000e+00\n",
      "Test Loss: 2.403331995010376\n",
      "Test Accuracy: 0.0\n"
     ]
    }
   ],
   "source": [
    "test_loss, test_acc = model.evaluate(test_dataset)\n",
    "\n",
    "print(\"Test Loss:\", test_loss)\n",
    "print(\"Test Accuracy:\", test_acc)"
   ]
  },
  {
   "cell_type": "code",
   "execution_count": 36,
   "metadata": {},
   "outputs": [
    {
     "data": {
      "text/plain": [
       "(0.0, 2.744709399342537)"
      ]
     },
     "execution_count": 36,
     "metadata": {},
     "output_type": "execute_result"
    },
    {
     "data": {
      "image/png": "[encoded data removed]",
      "text/plain": [
       "<Figure size 1600x800 with 2 Axes>"
      ]
     },
     "metadata": {},
     "output_type": "display_data"
    }
   ],
   "source": [
    "plt.figure(figsize=(16,8))\n",
    "plt.subplot(1,2,1)\n",
    "plot_graphs(history, \"accuracy\")\n",
    "plt.ylim(None, 1)\n",
    "plt.subplot(1,2,2)\n",
    "plot_graphs(history, \"loss\")\n",
    "plt.ylim(0, None)"
   ]
  },
  {
   "cell_type": "code",
   "execution_count": 37,
   "metadata": {},
   "outputs": [
    {
     "name": "stdout",
     "output_type": "stream",
     "text": [
      "1/1 [==============================] - 0s 74ms/step\n",
      "[-2.3085642]\n"
     ]
    }
   ],
   "source": [
    "# predict on a sample text without padding\n",
    "sample_text = \"set_constant SET_BASIC\"\n",
    "predictions = model.predict(np.array([sample_text]))\n",
    "print(predictions[0])"
   ]
  },
  {
   "attachments": {},
   "cell_type": "markdown",
   "metadata": {},
   "source": [
    "##### Experiment 3:"
   ]
  },
  {
   "cell_type": "code",
   "execution_count": 41,
   "metadata": {},
   "outputs": [
    {
     "name": "stdout",
     "output_type": "stream",
     "text": [
      "WARNING:tensorflow:6 out of the last 6 calls to <function Model.make_predict_function.<locals>.predict_function at 0x7fbec81853f0> triggered tf.function retracing. Tracing is expensive and the excessive number of tracings could be due to (1) creating @tf.function repeatedly in a loop, (2) passing tensors with different shapes, (3) passing Python objects instead of tensors. For (1), please define your @tf.function outside of the loop. For (2), @tf.function has reduce_retracing=True option that can avoid unnecessary retracing. For (3), please refer to https://www.tensorflow.org/guide/function#controlling_retracing and https://www.tensorflow.org/api_docs/python/tf/function for  more details.\n"
     ]
    },
    {
     "name": "stderr",
     "output_type": "stream",
     "text": [
      "WARNING:tensorflow:6 out of the last 6 calls to <function Model.make_predict_function.<locals>.predict_function at 0x7fbec81853f0> triggered tf.function retracing. Tracing is expensive and the excessive number of tracings could be due to (1) creating @tf.function repeatedly in a loop, (2) passing tensors with different shapes, (3) passing Python objects instead of tensors. For (1), please define your @tf.function outside of the loop. For (2), @tf.function has reduce_retracing=True option that can avoid unnecessary retracing. For (3), please refer to https://www.tensorflow.org/guide/function#controlling_retracing and https://www.tensorflow.org/api_docs/python/tf/function for  more details.\n"
     ]
    },
    {
     "name": "stdout",
     "output_type": "stream",
     "text": [
      "1/1 [==============================] - 0s 87ms/step\n",
      "[0.00397067]\n"
     ]
    }
   ],
   "source": [
    "model = create_model(encoder_count, 30)\n",
    "# predict on a sample formula using untrained model\n",
    "sample_text = \"set_constant SET_BASIC\"\n",
    "predictions = model.predict(np.array([sample_text]))\n",
    "print(predictions[0])"
   ]
  },
  {
   "cell_type": "code",
   "execution_count": 42,
   "metadata": {},
   "outputs": [],
   "source": [
    "#model.compile(optimizer='sgd',loss='sparse_categorical_crossentropy',metrics=['accuracy'])\n",
    "LEARNING_RATE = 1e-2\n",
    "NUM_EPOCHS = 200\n",
    "model.compile(loss=tf.keras.losses.BinaryCrossentropy(from_logits=True),\n",
    "              optimizer=tf.keras.optimizers.Adam(LEARNING_RATE),\n",
    "              metrics=[\"accuracy\"])"
   ]
  },
  {
   "cell_type": "code",
   "execution_count": 43,
   "metadata": {},
   "outputs": [
    {
     "data": {
      "application/vnd.jupyter.widget-view+json": {
       "model_id": "d0da43ed19c7420ca2f7fc503c86933b",
       "version_major": 2,
       "version_minor": 0
      },
      "text/plain": [
       "VBox(children=(Label(value='Waiting for wandb.init()...\\r'), FloatProgress(value=0.016668495100020664, max=1.0…"
      ]
     },
     "metadata": {},
     "output_type": "display_data"
    },
    {
     "name": "stdout",
     "output_type": "stream",
     "text": [
      "Epoch 1/200\n",
      "141/156 [==========================>...] - ETA: 0s - loss: 0.6755 - accuracy: 0.5479INFO:tensorflow:Assets written to: /home/paul_d/Sources/sem_math_repo/classification_formulas_binary/wandb/run-20230307_113225-x73yy75q/files/model-best/assets\n"
     ]
    },
    {
     "name": "stderr",
     "output_type": "stream",
     "text": [
      "INFO:tensorflow:Assets written to: /home/paul_d/Sources/sem_math_repo/classification_formulas_binary/wandb/run-20230307_113225-x73yy75q/files/model-best/assets\n"
     ]
    },
    {
     "name": "stdout",
     "output_type": "stream",
     "text": [
      "156/156 [==============================] - 2s 9ms/step - loss: 0.6743 - accuracy: 0.5501 - val_loss: 0.7467 - val_accuracy: 0.0000e+00\n",
      "Epoch 2/200\n",
      "146/156 [===========================>..] - ETA: 0s - loss: 0.6665 - accuracy: 0.5493INFO:tensorflow:Assets written to: /home/paul_d/Sources/sem_math_repo/classification_formulas_binary/wandb/run-20230307_113225-x73yy75q/files/model-best/assets\n"
     ]
    },
    {
     "name": "stderr",
     "output_type": "stream",
     "text": [
      "INFO:tensorflow:Assets written to: /home/paul_d/Sources/sem_math_repo/classification_formulas_binary/wandb/run-20230307_113225-x73yy75q/files/model-best/assets\n"
     ]
    },
    {
     "name": "stdout",
     "output_type": "stream",
     "text": [
      "156/156 [==============================] - 2s 10ms/step - loss: 0.6656 - accuracy: 0.5499 - val_loss: 0.7346 - val_accuracy: 0.0000e+00\n",
      "Epoch 3/200\n",
      "156/156 [==============================] - 0s 2ms/step - loss: 0.6639 - accuracy: 0.5501 - val_loss: 0.7463 - val_accuracy: 0.0000e+00\n",
      "Epoch 4/200\n",
      "146/156 [===========================>..] - ETA: 0s - loss: 0.6658 - accuracy: 0.5516INFO:tensorflow:Assets written to: /home/paul_d/Sources/sem_math_repo/classification_formulas_binary/wandb/run-20230307_113225-x73yy75q/files/model-best/assets\n"
     ]
    },
    {
     "name": "stderr",
     "output_type": "stream",
     "text": [
      "INFO:tensorflow:Assets written to: /home/paul_d/Sources/sem_math_repo/classification_formulas_binary/wandb/run-20230307_113225-x73yy75q/files/model-best/assets\n"
     ]
    },
    {
     "name": "stdout",
     "output_type": "stream",
     "text": [
      "156/156 [==============================] - 1s 8ms/step - loss: 0.6657 - accuracy: 0.5502 - val_loss: 0.7194 - val_accuracy: 0.0000e+00\n",
      "Epoch 5/200\n",
      "147/156 [===========================>..] - ETA: 0s - loss: 0.6640 - accuracy: 0.5492INFO:tensorflow:Assets written to: /home/paul_d/Sources/sem_math_repo/classification_formulas_binary/wandb/run-20230307_113225-x73yy75q/files/model-best/assets\n"
     ]
    },
    {
     "name": "stderr",
     "output_type": "stream",
     "text": [
      "INFO:tensorflow:Assets written to: /home/paul_d/Sources/sem_math_repo/classification_formulas_binary/wandb/run-20230307_113225-x73yy75q/files/model-best/assets\n"
     ]
    },
    {
     "name": "stdout",
     "output_type": "stream",
     "text": [
      "156/156 [==============================] - 1s 8ms/step - loss: 0.6645 - accuracy: 0.5502 - val_loss: 0.7083 - val_accuracy: 0.0000e+00\n",
      "Epoch 6/200\n",
      "154/156 [============================>.] - ETA: 0s - loss: 0.6652 - accuracy: 0.5506INFO:tensorflow:Assets written to: /home/paul_d/Sources/sem_math_repo/classification_formulas_binary/wandb/run-20230307_113225-x73yy75q/files/model-best/assets\n"
     ]
    },
    {
     "name": "stderr",
     "output_type": "stream",
     "text": [
      "INFO:tensorflow:Assets written to: /home/paul_d/Sources/sem_math_repo/classification_formulas_binary/wandb/run-20230307_113225-x73yy75q/files/model-best/assets\n"
     ]
    },
    {
     "name": "stdout",
     "output_type": "stream",
     "text": [
      "156/156 [==============================] - 1s 8ms/step - loss: 0.6652 - accuracy: 0.5500 - val_loss: 0.6894 - val_accuracy: 0.0000e+00\n",
      "Epoch 7/200\n",
      "156/156 [==============================] - 0s 2ms/step - loss: 0.6646 - accuracy: 0.5501 - val_loss: 0.7299 - val_accuracy: 0.0000e+00\n",
      "Epoch 8/200\n",
      "156/156 [==============================] - 0s 2ms/step - loss: 0.6642 - accuracy: 0.5495 - val_loss: 0.6920 - val_accuracy: 0.0000e+00\n",
      "Epoch 9/200\n",
      "156/156 [==============================] - 1s 3ms/step - loss: 0.6639 - accuracy: 0.5498 - val_loss: 0.6961 - val_accuracy: 0.0000e+00\n",
      "Epoch 10/200\n",
      "131/156 [========================>.....] - ETA: 0s - loss: 0.6644 - accuracy: 0.5505INFO:tensorflow:Assets written to: /home/paul_d/Sources/sem_math_repo/classification_formulas_binary/wandb/run-20230307_113225-x73yy75q/files/model-best/assets\n"
     ]
    },
    {
     "name": "stderr",
     "output_type": "stream",
     "text": [
      "INFO:tensorflow:Assets written to: /home/paul_d/Sources/sem_math_repo/classification_formulas_binary/wandb/run-20230307_113225-x73yy75q/files/model-best/assets\n"
     ]
    },
    {
     "name": "stdout",
     "output_type": "stream",
     "text": [
      "156/156 [==============================] - 1s 8ms/step - loss: 0.6636 - accuracy: 0.5500 - val_loss: 0.6729 - val_accuracy: 0.0000e+00\n",
      "Epoch 11/200\n",
      "156/156 [==============================] - 0s 2ms/step - loss: 0.6635 - accuracy: 0.5502 - val_loss: 0.6791 - val_accuracy: 0.0000e+00\n",
      "Epoch 12/200\n",
      "150/156 [===========================>..] - ETA: 0s - loss: 0.6629 - accuracy: 0.5502INFO:tensorflow:Assets written to: /home/paul_d/Sources/sem_math_repo/classification_formulas_binary/wandb/run-20230307_113225-x73yy75q/files/model-best/assets\n"
     ]
    },
    {
     "name": "stderr",
     "output_type": "stream",
     "text": [
      "INFO:tensorflow:Assets written to: /home/paul_d/Sources/sem_math_repo/classification_formulas_binary/wandb/run-20230307_113225-x73yy75q/files/model-best/assets\n"
     ]
    },
    {
     "name": "stdout",
     "output_type": "stream",
     "text": [
      "156/156 [==============================] - 1s 8ms/step - loss: 0.6625 - accuracy: 0.5501 - val_loss: 0.6640 - val_accuracy: 0.0000e+00\n",
      "Epoch 13/200\n",
      "156/156 [==============================] - 0s 2ms/step - loss: 0.6648 - accuracy: 0.5500 - val_loss: 0.6752 - val_accuracy: 0.0000e+00\n",
      "Epoch 14/200\n",
      "156/156 [==============================] - 0s 2ms/step - loss: 0.6636 - accuracy: 0.5502 - val_loss: 0.6776 - val_accuracy: 0.0000e+00\n",
      "Epoch 15/200\n",
      "156/156 [==============================] - 0s 2ms/step - loss: 0.6632 - accuracy: 0.5498 - val_loss: 0.6856 - val_accuracy: 0.0000e+00\n",
      "Epoch 16/200\n",
      "132/156 [========================>.....] - ETA: 0s - loss: 0.6631 - accuracy: 0.5516INFO:tensorflow:Assets written to: /home/paul_d/Sources/sem_math_repo/classification_formulas_binary/wandb/run-20230307_113225-x73yy75q/files/model-best/assets\n"
     ]
    },
    {
     "name": "stderr",
     "output_type": "stream",
     "text": [
      "INFO:tensorflow:Assets written to: /home/paul_d/Sources/sem_math_repo/classification_formulas_binary/wandb/run-20230307_113225-x73yy75q/files/model-best/assets\n"
     ]
    },
    {
     "name": "stdout",
     "output_type": "stream",
     "text": [
      "156/156 [==============================] - 2s 10ms/step - loss: 0.6640 - accuracy: 0.5502 - val_loss: 0.6556 - val_accuracy: 0.0000e+00\n",
      "Epoch 17/200\n",
      "156/156 [==============================] - 0s 2ms/step - loss: 0.6666 - accuracy: 0.5502 - val_loss: 0.6815 - val_accuracy: 0.0000e+00\n",
      "Epoch 18/200\n",
      "156/156 [==============================] - 0s 2ms/step - loss: 0.6643 - accuracy: 0.5501 - val_loss: 0.6624 - val_accuracy: 0.0000e+00\n",
      "Epoch 19/200\n",
      "156/156 [==============================] - 0s 2ms/step - loss: 0.6646 - accuracy: 0.5497 - val_loss: 0.6631 - val_accuracy: 0.0000e+00\n",
      "Epoch 20/200\n",
      "130/156 [========================>.....] - ETA: 0s - loss: 0.6632 - accuracy: 0.5499INFO:tensorflow:Assets written to: /home/paul_d/Sources/sem_math_repo/classification_formulas_binary/wandb/run-20230307_113225-x73yy75q/files/model-best/assets\n"
     ]
    },
    {
     "name": "stderr",
     "output_type": "stream",
     "text": [
      "INFO:tensorflow:Assets written to: /home/paul_d/Sources/sem_math_repo/classification_formulas_binary/wandb/run-20230307_113225-x73yy75q/files/model-best/assets\n"
     ]
    },
    {
     "name": "stdout",
     "output_type": "stream",
     "text": [
      "156/156 [==============================] - 1s 8ms/step - loss: 0.6641 - accuracy: 0.5498 - val_loss: 0.6533 - val_accuracy: 0.0000e+00\n",
      "Epoch 21/200\n",
      "156/156 [==============================] - 0s 2ms/step - loss: 0.6649 - accuracy: 0.5500 - val_loss: 0.6629 - val_accuracy: 0.0000e+00\n",
      "Epoch 22/200\n",
      "156/156 [==============================] - 0s 2ms/step - loss: 0.6655 - accuracy: 0.5503 - val_loss: 0.6648 - val_accuracy: 0.0000e+00\n",
      "Epoch 23/200\n",
      "156/156 [==============================] - 0s 2ms/step - loss: 0.6633 - accuracy: 0.5501 - val_loss: 0.6659 - val_accuracy: 0.0000e+00\n",
      "Epoch 24/200\n",
      "156/156 [==============================] - ETA: 0s - loss: 0.6616 - accuracy: 0.5503INFO:tensorflow:Assets written to: /home/paul_d/Sources/sem_math_repo/classification_formulas_binary/wandb/run-20230307_113225-x73yy75q/files/model-best/assets\n"
     ]
    },
    {
     "name": "stderr",
     "output_type": "stream",
     "text": [
      "INFO:tensorflow:Assets written to: /home/paul_d/Sources/sem_math_repo/classification_formulas_binary/wandb/run-20230307_113225-x73yy75q/files/model-best/assets\n"
     ]
    },
    {
     "name": "stdout",
     "output_type": "stream",
     "text": [
      "156/156 [==============================] - 1s 8ms/step - loss: 0.6616 - accuracy: 0.5503 - val_loss: 0.6466 - val_accuracy: 0.0000e+00\n",
      "Epoch 25/200\n",
      "156/156 [==============================] - 0s 2ms/step - loss: 0.6645 - accuracy: 0.5498 - val_loss: 0.6642 - val_accuracy: 0.0000e+00\n",
      "Epoch 26/200\n",
      "156/156 [==============================] - 0s 2ms/step - loss: 0.6634 - accuracy: 0.5504 - val_loss: 0.6682 - val_accuracy: 0.0000e+00\n",
      "Epoch 27/200\n",
      "156/156 [==============================] - 0s 3ms/step - loss: 0.6640 - accuracy: 0.5499 - val_loss: 0.6861 - val_accuracy: 0.0000e+00\n",
      "Epoch 28/200\n",
      "156/156 [==============================] - 0s 3ms/step - loss: 0.6627 - accuracy: 0.5503 - val_loss: 0.6482 - val_accuracy: 0.0000e+00\n",
      "Epoch 29/200\n",
      "156/156 [==============================] - 0s 3ms/step - loss: 0.6645 - accuracy: 0.5503 - val_loss: 0.6624 - val_accuracy: 0.0000e+00\n",
      "Epoch 30/200\n",
      "156/156 [==============================] - 0s 2ms/step - loss: 0.6652 - accuracy: 0.5498 - val_loss: 0.6529 - val_accuracy: 0.0000e+00\n",
      "Epoch 31/200\n",
      "156/156 [==============================] - 0s 2ms/step - loss: 0.6635 - accuracy: 0.5502 - val_loss: 0.6621 - val_accuracy: 0.0000e+00\n",
      "Epoch 32/200\n",
      "153/156 [============================>.] - ETA: 0s - loss: 0.6652 - accuracy: 0.5503INFO:tensorflow:Assets written to: /home/paul_d/Sources/sem_math_repo/classification_formulas_binary/wandb/run-20230307_113225-x73yy75q/files/model-best/assets\n"
     ]
    },
    {
     "name": "stderr",
     "output_type": "stream",
     "text": [
      "INFO:tensorflow:Assets written to: /home/paul_d/Sources/sem_math_repo/classification_formulas_binary/wandb/run-20230307_113225-x73yy75q/files/model-best/assets\n"
     ]
    },
    {
     "name": "stdout",
     "output_type": "stream",
     "text": [
      "156/156 [==============================] - 1s 8ms/step - loss: 0.6650 - accuracy: 0.5499 - val_loss: 0.6097 - val_accuracy: 0.0000e+00\n",
      "Epoch 33/200\n",
      "148/156 [===========================>..] - ETA: 0s - loss: 0.6636 - accuracy: 0.5500INFO:tensorflow:Assets written to: /home/paul_d/Sources/sem_math_repo/classification_formulas_binary/wandb/run-20230307_113225-x73yy75q/files/model-best/assets\n"
     ]
    },
    {
     "name": "stderr",
     "output_type": "stream",
     "text": [
      "INFO:tensorflow:Assets written to: /home/paul_d/Sources/sem_math_repo/classification_formulas_binary/wandb/run-20230307_113225-x73yy75q/files/model-best/assets\n"
     ]
    },
    {
     "name": "stdout",
     "output_type": "stream",
     "text": [
      "156/156 [==============================] - 1s 8ms/step - loss: 0.6639 - accuracy: 0.5502 - val_loss: 0.5944 - val_accuracy: 0.0000e+00\n",
      "Epoch 34/200\n",
      "156/156 [==============================] - 0s 2ms/step - loss: 0.6642 - accuracy: 0.5498 - val_loss: 0.6095 - val_accuracy: 0.0000e+00\n",
      "Epoch 35/200\n",
      "156/156 [==============================] - 0s 2ms/step - loss: 0.6636 - accuracy: 0.5497 - val_loss: 0.6264 - val_accuracy: 0.0000e+00\n",
      "Epoch 36/200\n",
      "156/156 [==============================] - 0s 2ms/step - loss: 0.6634 - accuracy: 0.5497 - val_loss: 0.6123 - val_accuracy: 0.0000e+00\n",
      "Epoch 37/200\n",
      "156/156 [==============================] - 0s 2ms/step - loss: 0.6645 - accuracy: 0.5500 - val_loss: 0.6127 - val_accuracy: 0.0000e+00\n",
      "Epoch 38/200\n",
      "156/156 [==============================] - 0s 2ms/step - loss: 0.6658 - accuracy: 0.5497 - val_loss: 0.6206 - val_accuracy: 0.0000e+00\n",
      "Epoch 39/200\n",
      "134/156 [========================>.....] - ETA: 0s - loss: 0.6613 - accuracy: 0.5539INFO:tensorflow:Assets written to: /home/paul_d/Sources/sem_math_repo/classification_formulas_binary/wandb/run-20230307_113225-x73yy75q/files/model-best/assets\n"
     ]
    },
    {
     "name": "stderr",
     "output_type": "stream",
     "text": [
      "INFO:tensorflow:Assets written to: /home/paul_d/Sources/sem_math_repo/classification_formulas_binary/wandb/run-20230307_113225-x73yy75q/files/model-best/assets\n"
     ]
    },
    {
     "name": "stdout",
     "output_type": "stream",
     "text": [
      "156/156 [==============================] - 1s 8ms/step - loss: 0.6627 - accuracy: 0.5498 - val_loss: 0.5749 - val_accuracy: 0.0000e+00\n",
      "Epoch 40/200\n",
      "156/156 [==============================] - 0s 2ms/step - loss: 0.6643 - accuracy: 0.5498 - val_loss: 0.6019 - val_accuracy: 0.0000e+00\n",
      "Epoch 41/200\n",
      "156/156 [==============================] - 0s 2ms/step - loss: 0.6645 - accuracy: 0.5498 - val_loss: 0.6021 - val_accuracy: 0.0000e+00\n",
      "Epoch 42/200\n",
      "156/156 [==============================] - 0s 2ms/step - loss: 0.6641 - accuracy: 0.5501 - val_loss: 0.6180 - val_accuracy: 0.0000e+00\n",
      "Epoch 43/200\n",
      "156/156 [==============================] - 0s 2ms/step - loss: 0.6646 - accuracy: 0.5502 - val_loss: 0.5952 - val_accuracy: 0.0000e+00\n",
      "Epoch 44/200\n",
      "156/156 [==============================] - 0s 2ms/step - loss: 0.6640 - accuracy: 0.5499 - val_loss: 0.5815 - val_accuracy: 0.0000e+00\n",
      "Epoch 45/200\n",
      "148/156 [===========================>..] - ETA: 0s - loss: 0.6644 - accuracy: 0.5514INFO:tensorflow:Assets written to: /home/paul_d/Sources/sem_math_repo/classification_formulas_binary/wandb/run-20230307_113225-x73yy75q/files/model-best/assets\n"
     ]
    },
    {
     "name": "stderr",
     "output_type": "stream",
     "text": [
      "INFO:tensorflow:Assets written to: /home/paul_d/Sources/sem_math_repo/classification_formulas_binary/wandb/run-20230307_113225-x73yy75q/files/model-best/assets\n"
     ]
    },
    {
     "name": "stdout",
     "output_type": "stream",
     "text": [
      "156/156 [==============================] - 2s 12ms/step - loss: 0.6646 - accuracy: 0.5498 - val_loss: 0.5695 - val_accuracy: 0.0000e+00\n",
      "Epoch 46/200\n",
      "156/156 [==============================] - 0s 2ms/step - loss: 0.6645 - accuracy: 0.5498 - val_loss: 0.6014 - val_accuracy: 0.0000e+00\n",
      "Epoch 47/200\n",
      "156/156 [==============================] - 0s 2ms/step - loss: 0.6651 - accuracy: 0.5502 - val_loss: 0.5917 - val_accuracy: 0.0000e+00\n",
      "Epoch 48/200\n",
      "156/156 [==============================] - 0s 2ms/step - loss: 0.6654 - accuracy: 0.5502 - val_loss: 0.5928 - val_accuracy: 0.0000e+00\n",
      "Epoch 49/200\n",
      "156/156 [==============================] - ETA: 0s - loss: 0.6629 - accuracy: 0.5498INFO:tensorflow:Assets written to: /home/paul_d/Sources/sem_math_repo/classification_formulas_binary/wandb/run-20230307_113225-x73yy75q/files/model-best/assets\n"
     ]
    },
    {
     "name": "stderr",
     "output_type": "stream",
     "text": [
      "INFO:tensorflow:Assets written to: /home/paul_d/Sources/sem_math_repo/classification_formulas_binary/wandb/run-20230307_113225-x73yy75q/files/model-best/assets\n"
     ]
    },
    {
     "name": "stdout",
     "output_type": "stream",
     "text": [
      "156/156 [==============================] - 1s 8ms/step - loss: 0.6629 - accuracy: 0.5498 - val_loss: 0.5687 - val_accuracy: 0.0000e+00\n",
      "Epoch 50/200\n",
      "156/156 [==============================] - 0s 2ms/step - loss: 0.6656 - accuracy: 0.5501 - val_loss: 0.5952 - val_accuracy: 0.0000e+00\n",
      "Epoch 51/200\n",
      "156/156 [==============================] - 0s 2ms/step - loss: 0.6660 - accuracy: 0.5497 - val_loss: 0.5719 - val_accuracy: 0.0000e+00\n",
      "Epoch 52/200\n",
      "156/156 [==============================] - 0s 2ms/step - loss: 0.6651 - accuracy: 0.5503 - val_loss: 0.5815 - val_accuracy: 0.0000e+00\n",
      "Epoch 53/200\n",
      "137/156 [=========================>....] - ETA: 0s - loss: 0.6647 - accuracy: 0.5477INFO:tensorflow:Assets written to: /home/paul_d/Sources/sem_math_repo/classification_formulas_binary/wandb/run-20230307_113225-x73yy75q/files/model-best/assets\n"
     ]
    },
    {
     "name": "stderr",
     "output_type": "stream",
     "text": [
      "INFO:tensorflow:Assets written to: /home/paul_d/Sources/sem_math_repo/classification_formulas_binary/wandb/run-20230307_113225-x73yy75q/files/model-best/assets\n"
     ]
    },
    {
     "name": "stdout",
     "output_type": "stream",
     "text": [
      "156/156 [==============================] - 1s 8ms/step - loss: 0.6644 - accuracy: 0.5496 - val_loss: 0.5490 - val_accuracy: 0.5490\n",
      "Epoch 54/200\n",
      "156/156 [==============================] - 0s 2ms/step - loss: 0.6649 - accuracy: 0.5503 - val_loss: 0.5715 - val_accuracy: 0.0000e+00\n",
      "Epoch 55/200\n",
      "156/156 [==============================] - 0s 2ms/step - loss: 0.6644 - accuracy: 0.5503 - val_loss: 0.5681 - val_accuracy: 0.0000e+00\n",
      "Epoch 56/200\n",
      "156/156 [==============================] - 0s 2ms/step - loss: 0.6640 - accuracy: 0.5500 - val_loss: 0.5708 - val_accuracy: 0.0000e+00\n",
      "Epoch 57/200\n",
      "155/156 [============================>.] - ETA: 0s - loss: 0.6650 - accuracy: 0.5505INFO:tensorflow:Assets written to: /home/paul_d/Sources/sem_math_repo/classification_formulas_binary/wandb/run-20230307_113225-x73yy75q/files/model-best/assets\n"
     ]
    },
    {
     "name": "stderr",
     "output_type": "stream",
     "text": [
      "INFO:tensorflow:Assets written to: /home/paul_d/Sources/sem_math_repo/classification_formulas_binary/wandb/run-20230307_113225-x73yy75q/files/model-best/assets\n"
     ]
    },
    {
     "name": "stdout",
     "output_type": "stream",
     "text": [
      "156/156 [==============================] - 1s 8ms/step - loss: 0.6651 - accuracy: 0.5503 - val_loss: 0.5300 - val_accuracy: 0.5490\n",
      "Epoch 58/200\n",
      "156/156 [==============================] - 0s 2ms/step - loss: 0.6638 - accuracy: 0.5501 - val_loss: 0.5317 - val_accuracy: 0.5490\n",
      "Epoch 59/200\n",
      "156/156 [==============================] - 0s 2ms/step - loss: 0.6644 - accuracy: 0.5499 - val_loss: 0.5458 - val_accuracy: 0.5490\n",
      "Epoch 60/200\n",
      "156/156 [==============================] - 0s 2ms/step - loss: 0.6654 - accuracy: 0.5502 - val_loss: 0.5599 - val_accuracy: 0.0000e+00\n",
      "Epoch 61/200\n",
      "156/156 [==============================] - 0s 2ms/step - loss: 0.6655 - accuracy: 0.5498 - val_loss: 0.5406 - val_accuracy: 0.5490\n",
      "Epoch 62/200\n",
      "156/156 [==============================] - 0s 2ms/step - loss: 0.6638 - accuracy: 0.5500 - val_loss: 0.5505 - val_accuracy: 0.5490\n",
      "Epoch 63/200\n",
      "156/156 [==============================] - 0s 3ms/step - loss: 0.6656 - accuracy: 0.5499 - val_loss: 0.5573 - val_accuracy: 0.5490\n",
      "Epoch 64/200\n",
      "156/156 [==============================] - 1s 3ms/step - loss: 0.6640 - accuracy: 0.5502 - val_loss: 0.5608 - val_accuracy: 0.5490\n",
      "Epoch 65/200\n",
      "156/156 [==============================] - 0s 2ms/step - loss: 0.6633 - accuracy: 0.5500 - val_loss: 0.5710 - val_accuracy: 0.5490\n",
      "Epoch 66/200\n",
      "156/156 [==============================] - 0s 3ms/step - loss: 0.6641 - accuracy: 0.5498 - val_loss: 0.5609 - val_accuracy: 0.5490\n",
      "Epoch 67/200\n",
      "156/156 [==============================] - 1s 3ms/step - loss: 0.6646 - accuracy: 0.5500 - val_loss: 0.5678 - val_accuracy: 0.5490\n",
      "Epoch 68/200\n",
      "156/156 [==============================] - 1s 3ms/step - loss: 0.6634 - accuracy: 0.5501 - val_loss: 0.5548 - val_accuracy: 0.5490\n",
      "Epoch 69/200\n",
      "156/156 [==============================] - 1s 3ms/step - loss: 0.6661 - accuracy: 0.5501 - val_loss: 0.5764 - val_accuracy: 0.0000e+00\n",
      "Epoch 70/200\n",
      "156/156 [==============================] - 1s 3ms/step - loss: 0.6634 - accuracy: 0.5498 - val_loss: 0.5767 - val_accuracy: 0.0000e+00\n",
      "Epoch 71/200\n",
      "156/156 [==============================] - 0s 2ms/step - loss: 0.6635 - accuracy: 0.5499 - val_loss: 0.5872 - val_accuracy: 0.0000e+00\n",
      "Epoch 72/200\n",
      "156/156 [==============================] - 1s 3ms/step - loss: 0.6646 - accuracy: 0.5503 - val_loss: 0.5336 - val_accuracy: 0.5490\n",
      "Epoch 73/200\n",
      "156/156 [==============================] - 0s 2ms/step - loss: 0.6640 - accuracy: 0.5502 - val_loss: 0.5351 - val_accuracy: 0.5490\n",
      "Epoch 74/200\n",
      "156/156 [==============================] - 0s 2ms/step - loss: 0.6640 - accuracy: 0.5502 - val_loss: 0.5394 - val_accuracy: 0.5490\n",
      "Epoch 75/200\n",
      "156/156 [==============================] - 0s 2ms/step - loss: 0.6646 - accuracy: 0.5499 - val_loss: 0.5428 - val_accuracy: 0.5490\n",
      "Epoch 76/200\n",
      "156/156 [==============================] - 0s 2ms/step - loss: 0.6640 - accuracy: 0.5498 - val_loss: 0.5433 - val_accuracy: 0.5490\n",
      "Epoch 77/200\n",
      "156/156 [==============================] - 0s 2ms/step - loss: 0.6633 - accuracy: 0.5500 - val_loss: 0.5477 - val_accuracy: 0.5490\n",
      "Epoch 78/200\n",
      "156/156 [==============================] - 0s 2ms/step - loss: 0.6627 - accuracy: 0.5498 - val_loss: 0.5479 - val_accuracy: 0.5490\n",
      "Epoch 79/200\n",
      "156/156 [==============================] - 0s 2ms/step - loss: 0.6657 - accuracy: 0.5500 - val_loss: 0.5610 - val_accuracy: 0.5490\n",
      "Epoch 80/200\n",
      "156/156 [==============================] - 0s 2ms/step - loss: 0.6653 - accuracy: 0.5501 - val_loss: 0.5325 - val_accuracy: 0.5490\n",
      "Epoch 81/200\n",
      "156/156 [==============================] - 0s 2ms/step - loss: 0.6649 - accuracy: 0.5501 - val_loss: 0.5524 - val_accuracy: 0.5490\n",
      "Epoch 82/200\n",
      "156/156 [==============================] - 0s 3ms/step - loss: 0.6637 - accuracy: 0.5501 - val_loss: 0.5381 - val_accuracy: 0.5490\n",
      "Epoch 83/200\n",
      "156/156 [==============================] - 0s 2ms/step - loss: 0.6637 - accuracy: 0.5499 - val_loss: 0.5350 - val_accuracy: 0.5490\n",
      "Epoch 84/200\n",
      "156/156 [==============================] - 0s 2ms/step - loss: 0.6652 - accuracy: 0.5501 - val_loss: 0.5392 - val_accuracy: 0.5490\n",
      "Epoch 85/200\n",
      "141/156 [==========================>...] - ETA: 0s - loss: 0.6642 - accuracy: 0.5498INFO:tensorflow:Assets written to: /home/paul_d/Sources/sem_math_repo/classification_formulas_binary/wandb/run-20230307_113225-x73yy75q/files/model-best/assets\n"
     ]
    },
    {
     "name": "stderr",
     "output_type": "stream",
     "text": [
      "INFO:tensorflow:Assets written to: /home/paul_d/Sources/sem_math_repo/classification_formulas_binary/wandb/run-20230307_113225-x73yy75q/files/model-best/assets\n"
     ]
    },
    {
     "name": "stdout",
     "output_type": "stream",
     "text": [
      "156/156 [==============================] - 1s 8ms/step - loss: 0.6640 - accuracy: 0.5500 - val_loss: 0.5198 - val_accuracy: 0.5490\n",
      "Epoch 86/200\n",
      "156/156 [==============================] - 0s 2ms/step - loss: 0.6654 - accuracy: 0.5500 - val_loss: 0.5534 - val_accuracy: 0.5490\n",
      "Epoch 87/200\n",
      "156/156 [==============================] - 0s 2ms/step - loss: 0.6638 - accuracy: 0.5500 - val_loss: 0.5492 - val_accuracy: 0.5490\n",
      "Epoch 88/200\n",
      "156/156 [==============================] - 1s 3ms/step - loss: 0.6642 - accuracy: 0.5499 - val_loss: 0.5455 - val_accuracy: 0.5490\n",
      "Epoch 89/200\n",
      "156/156 [==============================] - 0s 2ms/step - loss: 0.6648 - accuracy: 0.5499 - val_loss: 0.5401 - val_accuracy: 0.5490\n",
      "Epoch 90/200\n",
      "156/156 [==============================] - 0s 2ms/step - loss: 0.6647 - accuracy: 0.5500 - val_loss: 0.5694 - val_accuracy: 0.5490\n",
      "Epoch 91/200\n",
      "156/156 [==============================] - 0s 2ms/step - loss: 0.6638 - accuracy: 0.5499 - val_loss: 0.5377 - val_accuracy: 0.5490\n",
      "Epoch 92/200\n",
      "143/156 [==========================>...] - ETA: 0s - loss: 0.6633 - accuracy: 0.5535INFO:tensorflow:Assets written to: /home/paul_d/Sources/sem_math_repo/classification_formulas_binary/wandb/run-20230307_113225-x73yy75q/files/model-best/assets\n"
     ]
    },
    {
     "name": "stderr",
     "output_type": "stream",
     "text": [
      "INFO:tensorflow:Assets written to: /home/paul_d/Sources/sem_math_repo/classification_formulas_binary/wandb/run-20230307_113225-x73yy75q/files/model-best/assets\n"
     ]
    },
    {
     "name": "stdout",
     "output_type": "stream",
     "text": [
      "156/156 [==============================] - 1s 9ms/step - loss: 0.6639 - accuracy: 0.5504 - val_loss: 0.5196 - val_accuracy: 0.5490\n",
      "Epoch 93/200\n",
      "156/156 [==============================] - 1s 3ms/step - loss: 0.6644 - accuracy: 0.5499 - val_loss: 0.5529 - val_accuracy: 0.5490\n",
      "Epoch 94/200\n",
      "156/156 [==============================] - ETA: 0s - loss: 0.6640 - accuracy: 0.5503INFO:tensorflow:Assets written to: /home/paul_d/Sources/sem_math_repo/classification_formulas_binary/wandb/run-20230307_113225-x73yy75q/files/model-best/assets\n"
     ]
    },
    {
     "name": "stderr",
     "output_type": "stream",
     "text": [
      "INFO:tensorflow:Assets written to: /home/paul_d/Sources/sem_math_repo/classification_formulas_binary/wandb/run-20230307_113225-x73yy75q/files/model-best/assets\n"
     ]
    },
    {
     "name": "stdout",
     "output_type": "stream",
     "text": [
      "156/156 [==============================] - 2s 9ms/step - loss: 0.6640 - accuracy: 0.5503 - val_loss: 0.5045 - val_accuracy: 0.5490\n",
      "Epoch 95/200\n",
      "156/156 [==============================] - 0s 2ms/step - loss: 0.6628 - accuracy: 0.5499 - val_loss: 0.5136 - val_accuracy: 0.5490\n",
      "Epoch 96/200\n",
      "156/156 [==============================] - 0s 2ms/step - loss: 0.6648 - accuracy: 0.5501 - val_loss: 0.5252 - val_accuracy: 0.5490\n",
      "Epoch 97/200\n",
      "156/156 [==============================] - 0s 2ms/step - loss: 0.6643 - accuracy: 0.5503 - val_loss: 0.5248 - val_accuracy: 0.5490\n",
      "Epoch 98/200\n",
      "156/156 [==============================] - 0s 2ms/step - loss: 0.6651 - accuracy: 0.5502 - val_loss: 0.5369 - val_accuracy: 0.5490\n",
      "Epoch 99/200\n",
      "156/156 [==============================] - 0s 2ms/step - loss: 0.6652 - accuracy: 0.5500 - val_loss: 0.5080 - val_accuracy: 0.5490\n",
      "Epoch 100/200\n",
      "156/156 [==============================] - 0s 2ms/step - loss: 0.6631 - accuracy: 0.5502 - val_loss: 0.5089 - val_accuracy: 0.5490\n",
      "Epoch 101/200\n",
      "141/156 [==========================>...] - ETA: 0s - loss: 0.6659 - accuracy: 0.5518INFO:tensorflow:Assets written to: /home/paul_d/Sources/sem_math_repo/classification_formulas_binary/wandb/run-20230307_113225-x73yy75q/files/model-best/assets\n"
     ]
    },
    {
     "name": "stderr",
     "output_type": "stream",
     "text": [
      "INFO:tensorflow:Assets written to: /home/paul_d/Sources/sem_math_repo/classification_formulas_binary/wandb/run-20230307_113225-x73yy75q/files/model-best/assets\n"
     ]
    },
    {
     "name": "stdout",
     "output_type": "stream",
     "text": [
      "156/156 [==============================] - 2s 11ms/step - loss: 0.6661 - accuracy: 0.5502 - val_loss: 0.4966 - val_accuracy: 0.5490\n",
      "Epoch 102/200\n",
      "156/156 [==============================] - 0s 2ms/step - loss: 0.6647 - accuracy: 0.5501 - val_loss: 0.5425 - val_accuracy: 0.5490\n",
      "Epoch 103/200\n",
      "156/156 [==============================] - 0s 2ms/step - loss: 0.6646 - accuracy: 0.5501 - val_loss: 0.5184 - val_accuracy: 0.5490\n",
      "Epoch 104/200\n",
      "156/156 [==============================] - 0s 2ms/step - loss: 0.6639 - accuracy: 0.5499 - val_loss: 0.5400 - val_accuracy: 0.5490\n",
      "Epoch 105/200\n",
      "156/156 [==============================] - 0s 2ms/step - loss: 0.6640 - accuracy: 0.5499 - val_loss: 0.5056 - val_accuracy: 0.5490\n",
      "Epoch 106/200\n",
      "156/156 [==============================] - 0s 2ms/step - loss: 0.6623 - accuracy: 0.5500 - val_loss: 0.5225 - val_accuracy: 0.5490\n",
      "Epoch 107/200\n",
      "156/156 [==============================] - 0s 2ms/step - loss: 0.6636 - accuracy: 0.5500 - val_loss: 0.5081 - val_accuracy: 0.5490\n",
      "Epoch 108/200\n",
      "156/156 [==============================] - 0s 2ms/step - loss: 0.6630 - accuracy: 0.5504 - val_loss: 0.5152 - val_accuracy: 0.5490\n",
      "Epoch 109/200\n",
      "156/156 [==============================] - 0s 3ms/step - loss: 0.6636 - accuracy: 0.5499 - val_loss: 0.5036 - val_accuracy: 0.5490\n",
      "Epoch 110/200\n",
      "156/156 [==============================] - 0s 2ms/step - loss: 0.6640 - accuracy: 0.5498 - val_loss: 0.5202 - val_accuracy: 0.5490\n",
      "Epoch 111/200\n",
      "156/156 [==============================] - 0s 3ms/step - loss: 0.6638 - accuracy: 0.5501 - val_loss: 0.5152 - val_accuracy: 0.5490\n",
      "Epoch 112/200\n",
      "156/156 [==============================] - 0s 2ms/step - loss: 0.6646 - accuracy: 0.5498 - val_loss: 0.5111 - val_accuracy: 0.5490\n",
      "Epoch 113/200\n",
      "156/156 [==============================] - 0s 2ms/step - loss: 0.6639 - accuracy: 0.5502 - val_loss: 0.5163 - val_accuracy: 0.5490\n",
      "Epoch 114/200\n",
      "156/156 [==============================] - 0s 2ms/step - loss: 0.6656 - accuracy: 0.5499 - val_loss: 0.5097 - val_accuracy: 0.5490\n",
      "Epoch 115/200\n",
      "156/156 [==============================] - 0s 2ms/step - loss: 0.6659 - accuracy: 0.5497 - val_loss: 0.5196 - val_accuracy: 0.5490\n",
      "Epoch 116/200\n",
      "156/156 [==============================] - 0s 2ms/step - loss: 0.6628 - accuracy: 0.5504 - val_loss: 0.5268 - val_accuracy: 0.5490\n",
      "Epoch 117/200\n",
      "156/156 [==============================] - 0s 2ms/step - loss: 0.6651 - accuracy: 0.5499 - val_loss: 0.5418 - val_accuracy: 0.5490\n",
      "Epoch 118/200\n",
      "156/156 [==============================] - 0s 2ms/step - loss: 0.6632 - accuracy: 0.5502 - val_loss: 0.5275 - val_accuracy: 0.5490\n",
      "Epoch 119/200\n",
      "156/156 [==============================] - 0s 2ms/step - loss: 0.6657 - accuracy: 0.5499 - val_loss: 0.5243 - val_accuracy: 0.5490\n",
      "Epoch 120/200\n",
      "156/156 [==============================] - 0s 2ms/step - loss: 0.6651 - accuracy: 0.5498 - val_loss: 0.5053 - val_accuracy: 0.5490\n",
      "Epoch 121/200\n",
      "156/156 [==============================] - 0s 2ms/step - loss: 0.6650 - accuracy: 0.5500 - val_loss: 0.5144 - val_accuracy: 0.5490\n",
      "Epoch 122/200\n",
      "156/156 [==============================] - 0s 2ms/step - loss: 0.6644 - accuracy: 0.5504 - val_loss: 0.4993 - val_accuracy: 0.5490\n",
      "Epoch 123/200\n",
      "156/156 [==============================] - 0s 2ms/step - loss: 0.6630 - accuracy: 0.5503 - val_loss: 0.5241 - val_accuracy: 0.5490\n",
      "Epoch 124/200\n",
      "156/156 [==============================] - 0s 2ms/step - loss: 0.6642 - accuracy: 0.5501 - val_loss: 0.5125 - val_accuracy: 0.5490\n",
      "Epoch 125/200\n",
      "156/156 [==============================] - 0s 2ms/step - loss: 0.6645 - accuracy: 0.5501 - val_loss: 0.5092 - val_accuracy: 0.5490\n",
      "Epoch 126/200\n",
      "156/156 [==============================] - 0s 2ms/step - loss: 0.6655 - accuracy: 0.5501 - val_loss: 0.5244 - val_accuracy: 0.5490\n",
      "Epoch 127/200\n",
      "132/156 [========================>.....] - ETA: 0s - loss: 0.6633 - accuracy: 0.5482INFO:tensorflow:Assets written to: /home/paul_d/Sources/sem_math_repo/classification_formulas_binary/wandb/run-20230307_113225-x73yy75q/files/model-best/assets\n"
     ]
    },
    {
     "name": "stderr",
     "output_type": "stream",
     "text": [
      "INFO:tensorflow:Assets written to: /home/paul_d/Sources/sem_math_repo/classification_formulas_binary/wandb/run-20230307_113225-x73yy75q/files/model-best/assets\n"
     ]
    },
    {
     "name": "stdout",
     "output_type": "stream",
     "text": [
      "156/156 [==============================] - 1s 8ms/step - loss: 0.6631 - accuracy: 0.5502 - val_loss: 0.4746 - val_accuracy: 0.5490\n",
      "Epoch 128/200\n",
      "138/156 [=========================>....] - ETA: 0s - loss: 0.6615 - accuracy: 0.5523INFO:tensorflow:Assets written to: /home/paul_d/Sources/sem_math_repo/classification_formulas_binary/wandb/run-20230307_113225-x73yy75q/files/model-best/assets\n"
     ]
    },
    {
     "name": "stderr",
     "output_type": "stream",
     "text": [
      "INFO:tensorflow:Assets written to: /home/paul_d/Sources/sem_math_repo/classification_formulas_binary/wandb/run-20230307_113225-x73yy75q/files/model-best/assets\n"
     ]
    },
    {
     "name": "stdout",
     "output_type": "stream",
     "text": [
      "156/156 [==============================] - 1s 8ms/step - loss: 0.6617 - accuracy: 0.5503 - val_loss: 0.4672 - val_accuracy: 0.9271\n",
      "Epoch 129/200\n",
      "148/156 [===========================>..] - ETA: 0s - loss: 0.6631 - accuracy: 0.5512INFO:tensorflow:Assets written to: /home/paul_d/Sources/sem_math_repo/classification_formulas_binary/wandb/run-20230307_113225-x73yy75q/files/model-best/assets\n"
     ]
    },
    {
     "name": "stderr",
     "output_type": "stream",
     "text": [
      "INFO:tensorflow:Assets written to: /home/paul_d/Sources/sem_math_repo/classification_formulas_binary/wandb/run-20230307_113225-x73yy75q/files/model-best/assets\n"
     ]
    },
    {
     "name": "stdout",
     "output_type": "stream",
     "text": [
      "156/156 [==============================] - 1s 9ms/step - loss: 0.6642 - accuracy: 0.5498 - val_loss: 0.4654 - val_accuracy: 0.9271\n",
      "Epoch 130/200\n",
      "156/156 [==============================] - 0s 2ms/step - loss: 0.6643 - accuracy: 0.5496 - val_loss: 0.4829 - val_accuracy: 0.5490\n",
      "Epoch 131/200\n",
      "156/156 [==============================] - 0s 3ms/step - loss: 0.6622 - accuracy: 0.5501 - val_loss: 0.4714 - val_accuracy: 0.5490\n",
      "Epoch 132/200\n",
      "156/156 [==============================] - 0s 2ms/step - loss: 0.6636 - accuracy: 0.5498 - val_loss: 0.4880 - val_accuracy: 0.5490\n",
      "Epoch 133/200\n",
      "156/156 [==============================] - 0s 2ms/step - loss: 0.6634 - accuracy: 0.5502 - val_loss: 0.4693 - val_accuracy: 0.5490\n",
      "Epoch 134/200\n",
      "156/156 [==============================] - 0s 2ms/step - loss: 0.6634 - accuracy: 0.5500 - val_loss: 0.4705 - val_accuracy: 0.9271\n",
      "Epoch 135/200\n",
      "156/156 [==============================] - 0s 2ms/step - loss: 0.6630 - accuracy: 0.5498 - val_loss: 0.4786 - val_accuracy: 0.5490\n",
      "Epoch 136/200\n",
      "156/156 [==============================] - 0s 2ms/step - loss: 0.6652 - accuracy: 0.5504 - val_loss: 0.4686 - val_accuracy: 0.5490\n",
      "Epoch 137/200\n",
      "131/156 [========================>.....] - ETA: 0s - loss: 0.6625 - accuracy: 0.5514INFO:tensorflow:Assets written to: /home/paul_d/Sources/sem_math_repo/classification_formulas_binary/wandb/run-20230307_113225-x73yy75q/files/model-best/assets\n"
     ]
    },
    {
     "name": "stderr",
     "output_type": "stream",
     "text": [
      "INFO:tensorflow:Assets written to: /home/paul_d/Sources/sem_math_repo/classification_formulas_binary/wandb/run-20230307_113225-x73yy75q/files/model-best/assets\n"
     ]
    },
    {
     "name": "stdout",
     "output_type": "stream",
     "text": [
      "156/156 [==============================] - 1s 8ms/step - loss: 0.6623 - accuracy: 0.5498 - val_loss: 0.4187 - val_accuracy: 0.9271\n",
      "Epoch 138/200\n",
      "156/156 [==============================] - 0s 2ms/step - loss: 0.6636 - accuracy: 0.5502 - val_loss: 0.4419 - val_accuracy: 0.9271\n",
      "Epoch 139/200\n",
      "156/156 [==============================] - 0s 2ms/step - loss: 0.6648 - accuracy: 0.5501 - val_loss: 0.4545 - val_accuracy: 0.9271\n",
      "Epoch 140/200\n",
      "156/156 [==============================] - 0s 2ms/step - loss: 0.6653 - accuracy: 0.5500 - val_loss: 0.4430 - val_accuracy: 0.9271\n",
      "Epoch 141/200\n",
      "156/156 [==============================] - 0s 2ms/step - loss: 0.6632 - accuracy: 0.5497 - val_loss: 0.4538 - val_accuracy: 0.9271\n",
      "Epoch 142/200\n",
      "156/156 [==============================] - 0s 2ms/step - loss: 0.6645 - accuracy: 0.5502 - val_loss: 0.4361 - val_accuracy: 0.9271\n",
      "Epoch 143/200\n",
      "141/156 [==========================>...] - ETA: 0s - loss: 0.6656 - accuracy: 0.5519INFO:tensorflow:Assets written to: /home/paul_d/Sources/sem_math_repo/classification_formulas_binary/wandb/run-20230307_113225-x73yy75q/files/model-best/assets\n"
     ]
    },
    {
     "name": "stderr",
     "output_type": "stream",
     "text": [
      "INFO:tensorflow:Assets written to: /home/paul_d/Sources/sem_math_repo/classification_formulas_binary/wandb/run-20230307_113225-x73yy75q/files/model-best/assets\n"
     ]
    },
    {
     "name": "stdout",
     "output_type": "stream",
     "text": [
      "156/156 [==============================] - 2s 11ms/step - loss: 0.6657 - accuracy: 0.5498 - val_loss: 0.4142 - val_accuracy: 0.9271\n",
      "Epoch 144/200\n",
      "156/156 [==============================] - 0s 2ms/step - loss: 0.6637 - accuracy: 0.5500 - val_loss: 0.4332 - val_accuracy: 0.9271\n",
      "Epoch 145/200\n",
      "156/156 [==============================] - 0s 2ms/step - loss: 0.6639 - accuracy: 0.5500 - val_loss: 0.4318 - val_accuracy: 0.9271\n",
      "Epoch 146/200\n",
      "156/156 [==============================] - 0s 2ms/step - loss: 0.6648 - accuracy: 0.5500 - val_loss: 0.4295 - val_accuracy: 0.9271\n",
      "Epoch 147/200\n",
      "156/156 [==============================] - 0s 2ms/step - loss: 0.6624 - accuracy: 0.5497 - val_loss: 0.4363 - val_accuracy: 0.9271\n",
      "Epoch 148/200\n",
      "130/156 [========================>.....] - ETA: 0s - loss: 0.6646 - accuracy: 0.5524INFO:tensorflow:Assets written to: /home/paul_d/Sources/sem_math_repo/classification_formulas_binary/wandb/run-20230307_113225-x73yy75q/files/model-best/assets\n"
     ]
    },
    {
     "name": "stderr",
     "output_type": "stream",
     "text": [
      "INFO:tensorflow:Assets written to: /home/paul_d/Sources/sem_math_repo/classification_formulas_binary/wandb/run-20230307_113225-x73yy75q/files/model-best/assets\n"
     ]
    },
    {
     "name": "stdout",
     "output_type": "stream",
     "text": [
      "156/156 [==============================] - 1s 8ms/step - loss: 0.6642 - accuracy: 0.5502 - val_loss: 0.4111 - val_accuracy: 0.9271\n",
      "Epoch 149/200\n",
      "156/156 [==============================] - 0s 2ms/step - loss: 0.6650 - accuracy: 0.5501 - val_loss: 0.4201 - val_accuracy: 0.9271\n",
      "Epoch 150/200\n",
      "151/156 [============================>.] - ETA: 0s - loss: 0.6653 - accuracy: 0.5494INFO:tensorflow:Assets written to: /home/paul_d/Sources/sem_math_repo/classification_formulas_binary/wandb/run-20230307_113225-x73yy75q/files/model-best/assets\n"
     ]
    },
    {
     "name": "stderr",
     "output_type": "stream",
     "text": [
      "INFO:tensorflow:Assets written to: /home/paul_d/Sources/sem_math_repo/classification_formulas_binary/wandb/run-20230307_113225-x73yy75q/files/model-best/assets\n"
     ]
    },
    {
     "name": "stdout",
     "output_type": "stream",
     "text": [
      "156/156 [==============================] - 2s 11ms/step - loss: 0.6644 - accuracy: 0.5502 - val_loss: 0.4084 - val_accuracy: 0.9271\n",
      "Epoch 151/200\n",
      "156/156 [==============================] - 0s 2ms/step - loss: 0.6640 - accuracy: 0.5503 - val_loss: 0.4264 - val_accuracy: 0.9271\n",
      "Epoch 152/200\n",
      "156/156 [==============================] - 0s 3ms/step - loss: 0.6642 - accuracy: 0.5499 - val_loss: 0.4501 - val_accuracy: 0.9271\n",
      "Epoch 153/200\n",
      "156/156 [==============================] - 0s 3ms/step - loss: 0.6646 - accuracy: 0.5500 - val_loss: 0.4448 - val_accuracy: 0.9271\n",
      "Epoch 154/200\n",
      "156/156 [==============================] - 0s 2ms/step - loss: 0.6634 - accuracy: 0.5504 - val_loss: 0.4352 - val_accuracy: 0.9271\n",
      "Epoch 155/200\n",
      "156/156 [==============================] - 0s 2ms/step - loss: 0.6638 - accuracy: 0.5505 - val_loss: 0.4622 - val_accuracy: 0.5490\n",
      "Epoch 156/200\n",
      "156/156 [==============================] - 0s 3ms/step - loss: 0.6640 - accuracy: 0.5499 - val_loss: 0.4330 - val_accuracy: 0.9271\n",
      "Epoch 157/200\n",
      "156/156 [==============================] - 0s 2ms/step - loss: 0.6657 - accuracy: 0.5501 - val_loss: 0.4336 - val_accuracy: 0.9271\n",
      "Epoch 158/200\n",
      "156/156 [==============================] - 0s 2ms/step - loss: 0.6643 - accuracy: 0.5500 - val_loss: 0.4298 - val_accuracy: 0.9271\n",
      "Epoch 159/200\n",
      "156/156 [==============================] - 1s 3ms/step - loss: 0.6636 - accuracy: 0.5501 - val_loss: 0.4442 - val_accuracy: 0.9271\n",
      "Epoch 160/200\n",
      "156/156 [==============================] - 0s 2ms/step - loss: 0.6636 - accuracy: 0.5494 - val_loss: 0.4442 - val_accuracy: 0.5490\n",
      "Epoch 161/200\n",
      "156/156 [==============================] - 0s 2ms/step - loss: 0.6630 - accuracy: 0.5502 - val_loss: 0.4470 - val_accuracy: 0.5490\n",
      "Epoch 162/200\n",
      "156/156 [==============================] - 0s 2ms/step - loss: 0.6635 - accuracy: 0.5499 - val_loss: 0.4553 - val_accuracy: 0.5490\n",
      "Epoch 163/200\n",
      "156/156 [==============================] - 0s 2ms/step - loss: 0.6641 - accuracy: 0.5498 - val_loss: 0.4415 - val_accuracy: 0.5490\n",
      "Epoch 164/200\n",
      "156/156 [==============================] - 0s 2ms/step - loss: 0.6633 - accuracy: 0.5501 - val_loss: 0.4612 - val_accuracy: 0.5490\n",
      "Epoch 165/200\n",
      "156/156 [==============================] - 0s 2ms/step - loss: 0.6647 - accuracy: 0.5500 - val_loss: 0.4519 - val_accuracy: 0.5490\n",
      "Epoch 166/200\n",
      "156/156 [==============================] - 0s 2ms/step - loss: 0.6638 - accuracy: 0.5501 - val_loss: 0.4529 - val_accuracy: 0.9271\n",
      "Epoch 167/200\n",
      "156/156 [==============================] - 0s 2ms/step - loss: 0.6634 - accuracy: 0.5501 - val_loss: 0.4559 - val_accuracy: 0.5490\n",
      "Epoch 168/200\n",
      "156/156 [==============================] - 0s 2ms/step - loss: 0.6638 - accuracy: 0.5499 - val_loss: 0.4521 - val_accuracy: 0.5490\n",
      "Epoch 169/200\n",
      "156/156 [==============================] - 0s 2ms/step - loss: 0.6607 - accuracy: 0.5505 - val_loss: 0.4570 - val_accuracy: 0.5490\n",
      "Epoch 170/200\n",
      "156/156 [==============================] - 0s 2ms/step - loss: 0.6632 - accuracy: 0.5501 - val_loss: 0.4536 - val_accuracy: 0.5490\n",
      "Epoch 171/200\n",
      "156/156 [==============================] - 0s 3ms/step - loss: 0.6634 - accuracy: 0.5498 - val_loss: 0.4586 - val_accuracy: 0.5490\n",
      "Epoch 172/200\n",
      "156/156 [==============================] - 0s 2ms/step - loss: 0.6658 - accuracy: 0.5499 - val_loss: 0.4520 - val_accuracy: 0.5490\n",
      "Epoch 173/200\n",
      "134/156 [========================>.....] - ETA: 0s - loss: 0.6645 - accuracy: 0.5489INFO:tensorflow:Assets written to: /home/paul_d/Sources/sem_math_repo/classification_formulas_binary/wandb/run-20230307_113225-x73yy75q/files/model-best/assets\n"
     ]
    },
    {
     "name": "stderr",
     "output_type": "stream",
     "text": [
      "INFO:tensorflow:Assets written to: /home/paul_d/Sources/sem_math_repo/classification_formulas_binary/wandb/run-20230307_113225-x73yy75q/files/model-best/assets\n"
     ]
    },
    {
     "name": "stdout",
     "output_type": "stream",
     "text": [
      "156/156 [==============================] - 19s 121ms/step - loss: 0.6642 - accuracy: 0.5500 - val_loss: 0.3161 - val_accuracy: 0.9271\n",
      "Epoch 174/200\n",
      "156/156 [==============================] - 0s 2ms/step - loss: 0.6644 - accuracy: 0.5500 - val_loss: 0.3301 - val_accuracy: 0.9271\n",
      "Epoch 175/200\n",
      "134/156 [========================>.....] - ETA: 0s - loss: 0.6642 - accuracy: 0.5518INFO:tensorflow:Assets written to: /home/paul_d/Sources/sem_math_repo/classification_formulas_binary/wandb/run-20230307_113225-x73yy75q/files/model-best/assets\n"
     ]
    },
    {
     "name": "stderr",
     "output_type": "stream",
     "text": [
      "INFO:tensorflow:Assets written to: /home/paul_d/Sources/sem_math_repo/classification_formulas_binary/wandb/run-20230307_113225-x73yy75q/files/model-best/assets\n"
     ]
    },
    {
     "name": "stdout",
     "output_type": "stream",
     "text": [
      "156/156 [==============================] - 2s 10ms/step - loss: 0.6638 - accuracy: 0.5499 - val_loss: 0.3014 - val_accuracy: 0.9271\n",
      "Epoch 176/200\n",
      "156/156 [==============================] - 0s 2ms/step - loss: 0.6658 - accuracy: 0.5497 - val_loss: 0.3100 - val_accuracy: 0.9271\n",
      "Epoch 177/200\n",
      "156/156 [==============================] - 0s 3ms/step - loss: 0.6622 - accuracy: 0.5504 - val_loss: 0.3245 - val_accuracy: 0.9271\n",
      "Epoch 178/200\n",
      "156/156 [==============================] - 0s 2ms/step - loss: 0.6641 - accuracy: 0.5499 - val_loss: 0.3196 - val_accuracy: 0.9271\n",
      "Epoch 179/200\n",
      "150/156 [===========================>..] - ETA: 0s - loss: 0.6646 - accuracy: 0.5511INFO:tensorflow:Assets written to: /home/paul_d/Sources/sem_math_repo/classification_formulas_binary/wandb/run-20230307_113225-x73yy75q/files/model-best/assets\n"
     ]
    },
    {
     "name": "stderr",
     "output_type": "stream",
     "text": [
      "INFO:tensorflow:Assets written to: /home/paul_d/Sources/sem_math_repo/classification_formulas_binary/wandb/run-20230307_113225-x73yy75q/files/model-best/assets\n"
     ]
    },
    {
     "name": "stdout",
     "output_type": "stream",
     "text": [
      "156/156 [==============================] - 1s 9ms/step - loss: 0.6645 - accuracy: 0.5501 - val_loss: 0.2931 - val_accuracy: 0.9271\n",
      "Epoch 180/200\n",
      "156/156 [==============================] - 0s 2ms/step - loss: 0.6627 - accuracy: 0.5499 - val_loss: 0.3110 - val_accuracy: 0.9271\n",
      "Epoch 181/200\n",
      "156/156 [==============================] - 0s 2ms/step - loss: 0.6640 - accuracy: 0.5503 - val_loss: 0.3192 - val_accuracy: 0.9271\n",
      "Epoch 182/200\n",
      "156/156 [==============================] - 0s 2ms/step - loss: 0.6638 - accuracy: 0.5498 - val_loss: 0.3104 - val_accuracy: 0.9271\n",
      "Epoch 183/200\n",
      "119/156 [=====================>........] - ETA: 0s - loss: 0.6636 - accuracy: 0.5454"
     ]
    },
    {
     "name": "stderr",
     "output_type": "stream",
     "text": [
      "wandb: ERROR Error while calling W&B API: Error 1062 (23000): Duplicate entry 'xj2ii38n30x6zqeyatcughy2sf0mpurdo2c5lt6go00qlvb4xl8ggt1oitx7uclx' for key 'PRIMARY' (<Response [409]>)\n"
     ]
    },
    {
     "name": "stdout",
     "output_type": "stream",
     "text": [
      "156/156 [==============================] - 0s 2ms/step - loss: 0.6639 - accuracy: 0.5501 - val_loss: 0.3183 - val_accuracy: 0.9271\n",
      "Epoch 184/200\n",
      "156/156 [==============================] - 0s 3ms/step - loss: 0.6641 - accuracy: 0.5499 - val_loss: 0.2971 - val_accuracy: 0.9271\n",
      "Epoch 185/200\n",
      "156/156 [==============================] - 0s 2ms/step - loss: 0.6637 - accuracy: 0.5498 - val_loss: 0.3214 - val_accuracy: 0.9271\n",
      "Epoch 186/200\n",
      "156/156 [==============================] - 0s 2ms/step - loss: 0.6632 - accuracy: 0.5502 - val_loss: 0.2934 - val_accuracy: 0.9271\n",
      "Epoch 187/200\n",
      "156/156 [==============================] - 0s 2ms/step - loss: 0.6635 - accuracy: 0.5502 - val_loss: 0.3045 - val_accuracy: 0.9271\n",
      "Epoch 188/200\n",
      "156/156 [==============================] - 0s 2ms/step - loss: 0.6643 - accuracy: 0.5500 - val_loss: 0.3114 - val_accuracy: 0.9271\n",
      "Epoch 189/200\n",
      "156/156 [==============================] - 0s 2ms/step - loss: 0.6634 - accuracy: 0.5495 - val_loss: 0.4240 - val_accuracy: 0.9271\n",
      "Epoch 190/200\n",
      "156/156 [==============================] - 0s 2ms/step - loss: 0.6629 - accuracy: 0.5499 - val_loss: 0.4431 - val_accuracy: 0.9271\n",
      "Epoch 191/200\n",
      "156/156 [==============================] - 0s 2ms/step - loss: 0.6647 - accuracy: 0.5505 - val_loss: 0.3989 - val_accuracy: 0.9271\n",
      "Epoch 192/200\n",
      "156/156 [==============================] - 0s 3ms/step - loss: 0.6631 - accuracy: 0.5501 - val_loss: 0.4093 - val_accuracy: 0.9271\n",
      "Epoch 193/200\n",
      "156/156 [==============================] - 0s 2ms/step - loss: 0.6624 - accuracy: 0.5502 - val_loss: 0.3981 - val_accuracy: 0.9271\n",
      "Epoch 194/200\n",
      "156/156 [==============================] - 0s 2ms/step - loss: 0.6628 - accuracy: 0.5502 - val_loss: 0.3731 - val_accuracy: 0.9271\n",
      "Epoch 195/200\n",
      "156/156 [==============================] - 0s 2ms/step - loss: 0.6645 - accuracy: 0.5498 - val_loss: 0.3660 - val_accuracy: 0.9271\n",
      "Epoch 196/200\n",
      "156/156 [==============================] - 0s 2ms/step - loss: 0.6637 - accuracy: 0.5500 - val_loss: 0.3962 - val_accuracy: 0.9271\n",
      "Epoch 197/200\n",
      "156/156 [==============================] - 0s 2ms/step - loss: 0.6638 - accuracy: 0.5503 - val_loss: 0.3864 - val_accuracy: 0.9271\n",
      "Epoch 198/200\n",
      "156/156 [==============================] - 0s 2ms/step - loss: 0.6637 - accuracy: 0.5503 - val_loss: 0.3776 - val_accuracy: 0.9271\n",
      "Epoch 199/200\n",
      "156/156 [==============================] - 0s 2ms/step - loss: 0.6647 - accuracy: 0.5498 - val_loss: 0.3883 - val_accuracy: 0.9271\n",
      "Epoch 200/200\n",
      "156/156 [==============================] - 0s 3ms/step - loss: 0.6622 - accuracy: 0.5505 - val_loss: 0.4017 - val_accuracy: 0.9271\n"
     ]
    }
   ],
   "source": [
    "configs_dict = {\n",
    "    \"learning_rate\": LEARNING_RATE,\n",
    "    \"algorithm\": \"LogReg\",\n",
    "    \"configuration\": \"2-types\",\n",
    "    \"optimizer\": \"adam\",\n",
    "    \"loss\": \"binary_crossentropy\",\n",
    "    \"epochs\": NUM_EPOCHS,\n",
    "    \"batch_size\": 64,\n",
    "    \"vectorizer\": \"count\",\n",
    "    \"dataset\": \"TOKENIZED_SET_V1\"\n",
    "}\n",
    "run = wandb.init(project=wandb_project_name, reinit=True, config=configs_dict)\n",
    "\n",
    "\n",
    "history = model.fit(train_dataset, epochs=NUM_EPOCHS,\n",
    "                    validation_data=test_dataset,\n",
    "                    validation_steps=VAL_STEPS_PER_EPOCH, steps_per_epoch=STEPS_PER_EPOCH,callbacks= [WandbCallback()])#[tensorboard_callback])\n",
    "\n",
    "\n",
    "run.finish()"
   ]
  },
  {
   "cell_type": "code",
   "execution_count": 44,
   "metadata": {},
   "outputs": [
    {
     "name": "stdout",
     "output_type": "stream",
     "text": [
      "15/15 [==============================] - 0s 820us/step - loss: 0.4017 - accuracy: 0.9271\n",
      "Test Loss: 0.40166768431663513\n",
      "Test Accuracy: 0.9270833134651184\n"
     ]
    }
   ],
   "source": [
    "test_loss, test_acc = model.evaluate(test_dataset)\n",
    "\n",
    "print(\"Test Loss:\", test_loss)\n",
    "print(\"Test Accuracy:\", test_acc)"
   ]
  },
  {
   "cell_type": "code",
   "execution_count": 45,
   "metadata": {},
   "outputs": [
    {
     "data": {
      "text/plain": [
       "(0.0, 0.7694205462932586)"
      ]
     },
     "execution_count": 45,
     "metadata": {},
     "output_type": "execute_result"
    },
    {
     "data": {
      "image/png": "[encoded data removed]",
      "text/plain": [
       "<Figure size 1600x800 with 2 Axes>"
      ]
     },
     "metadata": {},
     "output_type": "display_data"
    }
   ],
   "source": [
    "plt.figure(figsize=(16,8))\n",
    "plt.subplot(1,2,1)\n",
    "plot_graphs(history, \"accuracy\")\n",
    "plt.ylim(None, 1)\n",
    "plt.subplot(1,2,2)\n",
    "plot_graphs(history, \"loss\")\n",
    "plt.ylim(0, None)"
   ]
  },
  {
   "cell_type": "code",
   "execution_count": 46,
   "metadata": {},
   "outputs": [
    {
     "name": "stdout",
     "output_type": "stream",
     "text": [
      "1/1 [==============================] - 0s 148ms/step\n",
      "[1.4247617]\n"
     ]
    }
   ],
   "source": [
    "# predict on a sample text without padding\n",
    "sample_text = \"set_constant SET_BASIC\"\n",
    "predictions = model.predict(np.array([sample_text]))\n",
    "print(predictions[0])"
   ]
  },
  {
   "attachments": {},
   "cell_type": "markdown",
   "metadata": {},
   "source": [
    "##### Experiment 4:"
   ]
  },
  {
   "cell_type": "code",
   "execution_count": 47,
   "metadata": {},
   "outputs": [
    {
     "name": "stdout",
     "output_type": "stream",
     "text": [
      "1/1 [==============================] - 0s 81ms/step\n",
      "[-0.02572106]\n"
     ]
    }
   ],
   "source": [
    "model = create_model(encoder_bigrams)\n",
    "# predict on a sample formula using untrained model\n",
    "sample_text = \"set_constant SET_BASIC\"\n",
    "predictions = model.predict(np.array([sample_text]))\n",
    "print(predictions[0])"
   ]
  },
  {
   "cell_type": "code",
   "execution_count": 48,
   "metadata": {},
   "outputs": [],
   "source": [
    "#model.compile(optimizer='sgd',loss='sparse_categorical_crossentropy',metrics=['accuracy'])\n",
    "LEARNING_RATE = 1e-2\n",
    "NUM_EPOCHS = 200\n",
    "model.compile(loss=tf.keras.losses.BinaryCrossentropy(from_logits=True),\n",
    "              optimizer=tf.keras.optimizers.Adam(LEARNING_RATE),\n",
    "              metrics=[\"accuracy\"])"
   ]
  },
  {
   "cell_type": "code",
   "execution_count": 49,
   "metadata": {},
   "outputs": [
    {
     "name": "stdout",
     "output_type": "stream",
     "text": [
      "Epoch 1/200\n",
      "151/156 [============================>.] - ETA: 0s - loss: 0.6702 - accuracy: 0.5500INFO:tensorflow:Assets written to: /home/paul_d/Sources/sem_math_repo/classification_formulas_binary/wandb/run-20230307_113455-zqc7ldqj/files/model-best/assets\n"
     ]
    },
    {
     "name": "stderr",
     "output_type": "stream",
     "text": [
      "INFO:tensorflow:Assets written to: /home/paul_d/Sources/sem_math_repo/classification_formulas_binary/wandb/run-20230307_113455-zqc7ldqj/files/model-best/assets\n"
     ]
    },
    {
     "name": "stdout",
     "output_type": "stream",
     "text": [
      "156/156 [==============================] - 3s 16ms/step - loss: 0.6701 - accuracy: 0.5497 - val_loss: 0.7434 - val_accuracy: 0.0000e+00\n",
      "Epoch 2/200\n",
      "156/156 [==============================] - ETA: 0s - loss: 0.6615 - accuracy: 0.5500INFO:tensorflow:Assets written to: /home/paul_d/Sources/sem_math_repo/classification_formulas_binary/wandb/run-20230307_113455-zqc7ldqj/files/model-best/assets\n"
     ]
    },
    {
     "name": "stderr",
     "output_type": "stream",
     "text": [
      "INFO:tensorflow:Assets written to: /home/paul_d/Sources/sem_math_repo/classification_formulas_binary/wandb/run-20230307_113455-zqc7ldqj/files/model-best/assets\n"
     ]
    },
    {
     "name": "stdout",
     "output_type": "stream",
     "text": [
      "156/156 [==============================] - 2s 12ms/step - loss: 0.6615 - accuracy: 0.5500 - val_loss: 0.7147 - val_accuracy: 0.0000e+00\n",
      "Epoch 3/200\n",
      "146/156 [===========================>..] - ETA: 0s - loss: 0.6612 - accuracy: 0.5491INFO:tensorflow:Assets written to: /home/paul_d/Sources/sem_math_repo/classification_formulas_binary/wandb/run-20230307_113455-zqc7ldqj/files/model-best/assets\n"
     ]
    },
    {
     "name": "stderr",
     "output_type": "stream",
     "text": [
      "INFO:tensorflow:Assets written to: /home/paul_d/Sources/sem_math_repo/classification_formulas_binary/wandb/run-20230307_113455-zqc7ldqj/files/model-best/assets\n"
     ]
    },
    {
     "name": "stdout",
     "output_type": "stream",
     "text": [
      "156/156 [==============================] - 2s 11ms/step - loss: 0.6606 - accuracy: 0.5497 - val_loss: 0.7094 - val_accuracy: 0.0000e+00\n",
      "Epoch 4/200\n",
      "146/156 [===========================>..] - ETA: 0s - loss: 0.6598 - accuracy: 0.5490INFO:tensorflow:Assets written to: /home/paul_d/Sources/sem_math_repo/classification_formulas_binary/wandb/run-20230307_113455-zqc7ldqj/files/model-best/assets\n"
     ]
    },
    {
     "name": "stderr",
     "output_type": "stream",
     "text": [
      "INFO:tensorflow:Assets written to: /home/paul_d/Sources/sem_math_repo/classification_formulas_binary/wandb/run-20230307_113455-zqc7ldqj/files/model-best/assets\n"
     ]
    },
    {
     "name": "stdout",
     "output_type": "stream",
     "text": [
      "156/156 [==============================] - 2s 10ms/step - loss: 0.6594 - accuracy: 0.5502 - val_loss: 0.7021 - val_accuracy: 0.0000e+00\n",
      "Epoch 5/200\n",
      "156/156 [==============================] - 1s 4ms/step - loss: 0.6586 - accuracy: 0.5499 - val_loss: 0.7327 - val_accuracy: 0.0000e+00\n",
      "Epoch 6/200\n",
      "156/156 [==============================] - 1s 4ms/step - loss: 0.6603 - accuracy: 0.5495 - val_loss: 0.7053 - val_accuracy: 0.0000e+00\n",
      "Epoch 7/200\n",
      "156/156 [==============================] - 1s 4ms/step - loss: 0.6605 - accuracy: 0.5500 - val_loss: 0.7094 - val_accuracy: 0.0000e+00\n",
      "Epoch 8/200\n",
      "156/156 [==============================] - 1s 4ms/step - loss: 0.6602 - accuracy: 0.5498 - val_loss: 0.7153 - val_accuracy: 0.0000e+00\n",
      "Epoch 9/200\n",
      "154/156 [============================>.] - ETA: 0s - loss: 0.6597 - accuracy: 0.5512INFO:tensorflow:Assets written to: /home/paul_d/Sources/sem_math_repo/classification_formulas_binary/wandb/run-20230307_113455-zqc7ldqj/files/model-best/assets\n"
     ]
    },
    {
     "name": "stderr",
     "output_type": "stream",
     "text": [
      "INFO:tensorflow:Assets written to: /home/paul_d/Sources/sem_math_repo/classification_formulas_binary/wandb/run-20230307_113455-zqc7ldqj/files/model-best/assets\n"
     ]
    },
    {
     "name": "stdout",
     "output_type": "stream",
     "text": [
      "156/156 [==============================] - 2s 9ms/step - loss: 0.6602 - accuracy: 0.5500 - val_loss: 0.7017 - val_accuracy: 0.0000e+00\n",
      "Epoch 10/200\n",
      "145/156 [==========================>...] - ETA: 0s - loss: 0.6600 - accuracy: 0.5496INFO:tensorflow:Assets written to: /home/paul_d/Sources/sem_math_repo/classification_formulas_binary/wandb/run-20230307_113455-zqc7ldqj/files/model-best/assets\n"
     ]
    },
    {
     "name": "stderr",
     "output_type": "stream",
     "text": [
      "INFO:tensorflow:Assets written to: /home/paul_d/Sources/sem_math_repo/classification_formulas_binary/wandb/run-20230307_113455-zqc7ldqj/files/model-best/assets\n"
     ]
    },
    {
     "name": "stdout",
     "output_type": "stream",
     "text": [
      "156/156 [==============================] - 2s 13ms/step - loss: 0.6598 - accuracy: 0.5496 - val_loss: 0.6848 - val_accuracy: 0.0000e+00\n",
      "Epoch 11/200\n",
      "156/156 [==============================] - 1s 4ms/step - loss: 0.6606 - accuracy: 0.5502 - val_loss: 0.7296 - val_accuracy: 0.0000e+00\n",
      "Epoch 12/200\n",
      "146/156 [===========================>..] - ETA: 0s - loss: 0.6607 - accuracy: 0.5530INFO:tensorflow:Assets written to: /home/paul_d/Sources/sem_math_repo/classification_formulas_binary/wandb/run-20230307_113455-zqc7ldqj/files/model-best/assets\n"
     ]
    },
    {
     "name": "stderr",
     "output_type": "stream",
     "text": [
      "INFO:tensorflow:Assets written to: /home/paul_d/Sources/sem_math_repo/classification_formulas_binary/wandb/run-20230307_113455-zqc7ldqj/files/model-best/assets\n"
     ]
    },
    {
     "name": "stdout",
     "output_type": "stream",
     "text": [
      "156/156 [==============================] - 2s 10ms/step - loss: 0.6603 - accuracy: 0.5499 - val_loss: 0.6821 - val_accuracy: 0.0000e+00\n",
      "Epoch 13/200\n",
      "156/156 [==============================] - 1s 4ms/step - loss: 0.6616 - accuracy: 0.5500 - val_loss: 0.6944 - val_accuracy: 0.0000e+00\n",
      "Epoch 14/200\n",
      "156/156 [==============================] - 1s 4ms/step - loss: 0.6589 - accuracy: 0.5501 - val_loss: 0.7169 - val_accuracy: 0.0000e+00\n",
      "Epoch 15/200\n",
      "156/156 [==============================] - 1s 4ms/step - loss: 0.6590 - accuracy: 0.5501 - val_loss: 0.7029 - val_accuracy: 0.0000e+00\n",
      "Epoch 16/200\n",
      "156/156 [==============================] - 1s 4ms/step - loss: 0.6611 - accuracy: 0.5499 - val_loss: 0.6909 - val_accuracy: 0.0000e+00\n",
      "Epoch 17/200\n",
      "156/156 [==============================] - 1s 4ms/step - loss: 0.6589 - accuracy: 0.5501 - val_loss: 0.7117 - val_accuracy: 0.0000e+00\n",
      "Epoch 18/200\n",
      "156/156 [==============================] - 1s 4ms/step - loss: 0.6596 - accuracy: 0.5498 - val_loss: 0.7118 - val_accuracy: 0.0000e+00\n",
      "Epoch 19/200\n",
      "156/156 [==============================] - 1s 4ms/step - loss: 0.6610 - accuracy: 0.5498 - val_loss: 0.7259 - val_accuracy: 0.0000e+00\n",
      "Epoch 20/200\n",
      "156/156 [==============================] - 1s 4ms/step - loss: 0.6595 - accuracy: 0.5500 - val_loss: 0.7098 - val_accuracy: 0.0000e+00\n",
      "Epoch 21/200\n",
      "156/156 [==============================] - 1s 4ms/step - loss: 0.6601 - accuracy: 0.5497 - val_loss: 0.6913 - val_accuracy: 0.0000e+00\n",
      "Epoch 22/200\n",
      "156/156 [==============================] - 1s 4ms/step - loss: 0.6596 - accuracy: 0.5502 - val_loss: 0.7077 - val_accuracy: 0.0000e+00\n",
      "Epoch 23/200\n",
      "156/156 [==============================] - 1s 4ms/step - loss: 0.6618 - accuracy: 0.5499 - val_loss: 0.7317 - val_accuracy: 0.0000e+00\n",
      "Epoch 24/200\n",
      "156/156 [==============================] - 1s 4ms/step - loss: 0.6599 - accuracy: 0.5500 - val_loss: 0.7014 - val_accuracy: 0.0000e+00\n",
      "Epoch 25/200\n",
      "156/156 [==============================] - 1s 4ms/step - loss: 0.6586 - accuracy: 0.5502 - val_loss: 0.7290 - val_accuracy: 0.0000e+00\n",
      "Epoch 26/200\n",
      "156/156 [==============================] - 1s 4ms/step - loss: 0.6600 - accuracy: 0.5502 - val_loss: 0.6944 - val_accuracy: 0.0000e+00\n",
      "Epoch 27/200\n",
      "156/156 [==============================] - 1s 4ms/step - loss: 0.6599 - accuracy: 0.5502 - val_loss: 0.6915 - val_accuracy: 0.0000e+00\n",
      "Epoch 28/200\n",
      "156/156 [==============================] - 1s 4ms/step - loss: 0.6596 - accuracy: 0.5502 - val_loss: 0.7168 - val_accuracy: 0.0000e+00\n",
      "Epoch 29/200\n",
      "156/156 [==============================] - 1s 4ms/step - loss: 0.6606 - accuracy: 0.5502 - val_loss: 0.7109 - val_accuracy: 0.0000e+00\n",
      "Epoch 30/200\n",
      "156/156 [==============================] - 1s 4ms/step - loss: 0.6606 - accuracy: 0.5501 - val_loss: 0.6880 - val_accuracy: 0.0000e+00\n",
      "Epoch 31/200\n",
      "156/156 [==============================] - 1s 4ms/step - loss: 0.6587 - accuracy: 0.5498 - val_loss: 0.7107 - val_accuracy: 0.0000e+00\n",
      "Epoch 32/200\n",
      "156/156 [==============================] - 1s 4ms/step - loss: 0.6603 - accuracy: 0.5502 - val_loss: 0.7216 - val_accuracy: 0.0000e+00\n",
      "Epoch 33/200\n",
      "156/156 [==============================] - 1s 4ms/step - loss: 0.6606 - accuracy: 0.5497 - val_loss: 0.7315 - val_accuracy: 0.0000e+00\n",
      "Epoch 34/200\n",
      "156/156 [==============================] - 1s 5ms/step - loss: 0.6594 - accuracy: 0.5498 - val_loss: 0.7219 - val_accuracy: 0.0000e+00\n",
      "Epoch 35/200\n",
      "156/156 [==============================] - 1s 5ms/step - loss: 0.6590 - accuracy: 0.5502 - val_loss: 0.7107 - val_accuracy: 0.0000e+00\n",
      "Epoch 36/200\n",
      "156/156 [==============================] - 1s 4ms/step - loss: 0.6603 - accuracy: 0.5499 - val_loss: 0.7062 - val_accuracy: 0.0000e+00\n",
      "Epoch 37/200\n",
      "156/156 [==============================] - 1s 4ms/step - loss: 0.6603 - accuracy: 0.5500 - val_loss: 0.6999 - val_accuracy: 0.0000e+00\n",
      "Epoch 38/200\n",
      "156/156 [==============================] - 1s 4ms/step - loss: 0.6596 - accuracy: 0.5499 - val_loss: 0.7281 - val_accuracy: 0.0000e+00\n",
      "Epoch 39/200\n",
      "156/156 [==============================] - 1s 4ms/step - loss: 0.6593 - accuracy: 0.5501 - val_loss: 0.6879 - val_accuracy: 0.0000e+00\n",
      "Epoch 40/200\n",
      "156/156 [==============================] - 1s 4ms/step - loss: 0.6598 - accuracy: 0.5498 - val_loss: 0.7074 - val_accuracy: 0.0000e+00\n",
      "Epoch 41/200\n",
      "156/156 [==============================] - 1s 4ms/step - loss: 0.6610 - accuracy: 0.5500 - val_loss: 0.6916 - val_accuracy: 0.0000e+00\n",
      "Epoch 42/200\n",
      "156/156 [==============================] - 1s 4ms/step - loss: 0.6599 - accuracy: 0.5501 - val_loss: 0.6887 - val_accuracy: 0.0000e+00\n",
      "Epoch 43/200\n",
      "156/156 [==============================] - 1s 4ms/step - loss: 0.6601 - accuracy: 0.5503 - val_loss: 0.7241 - val_accuracy: 0.0000e+00\n",
      "Epoch 44/200\n",
      "156/156 [==============================] - 1s 4ms/step - loss: 0.6602 - accuracy: 0.5499 - val_loss: 0.7170 - val_accuracy: 0.0000e+00\n",
      "Epoch 45/200\n",
      "156/156 [==============================] - 1s 4ms/step - loss: 0.6600 - accuracy: 0.5495 - val_loss: 0.7365 - val_accuracy: 0.0000e+00\n",
      "Epoch 46/200\n",
      "156/156 [==============================] - 1s 4ms/step - loss: 0.6615 - accuracy: 0.5497 - val_loss: 0.7152 - val_accuracy: 0.0000e+00\n",
      "Epoch 47/200\n",
      "156/156 [==============================] - 1s 5ms/step - loss: 0.6610 - accuracy: 0.5499 - val_loss: 0.7160 - val_accuracy: 0.0000e+00\n",
      "Epoch 48/200\n",
      "156/156 [==============================] - 1s 5ms/step - loss: 0.6601 - accuracy: 0.5499 - val_loss: 0.6925 - val_accuracy: 0.0000e+00\n",
      "Epoch 49/200\n",
      "145/156 [==========================>...] - ETA: 0s - loss: 0.6601 - accuracy: 0.5508INFO:tensorflow:Assets written to: /home/paul_d/Sources/sem_math_repo/classification_formulas_binary/wandb/run-20230307_113455-zqc7ldqj/files/model-best/assets\n"
     ]
    },
    {
     "name": "stderr",
     "output_type": "stream",
     "text": [
      "INFO:tensorflow:Assets written to: /home/paul_d/Sources/sem_math_repo/classification_formulas_binary/wandb/run-20230307_113455-zqc7ldqj/files/model-best/assets\n"
     ]
    },
    {
     "name": "stdout",
     "output_type": "stream",
     "text": [
      "156/156 [==============================] - 2s 11ms/step - loss: 0.6597 - accuracy: 0.5502 - val_loss: 0.6592 - val_accuracy: 0.0000e+00\n",
      "Epoch 50/200\n",
      "156/156 [==============================] - 1s 5ms/step - loss: 0.6604 - accuracy: 0.5499 - val_loss: 0.6853 - val_accuracy: 0.0000e+00\n",
      "Epoch 51/200\n",
      "156/156 [==============================] - 1s 5ms/step - loss: 0.6597 - accuracy: 0.5503 - val_loss: 0.7058 - val_accuracy: 0.0000e+00\n",
      "Epoch 52/200\n",
      "156/156 [==============================] - 1s 5ms/step - loss: 0.6610 - accuracy: 0.5502 - val_loss: 0.7134 - val_accuracy: 0.0000e+00\n",
      "Epoch 53/200\n",
      "156/156 [==============================] - 1s 4ms/step - loss: 0.6583 - accuracy: 0.5504 - val_loss: 0.6986 - val_accuracy: 0.0000e+00\n",
      "Epoch 54/200\n",
      "156/156 [==============================] - 1s 4ms/step - loss: 0.6602 - accuracy: 0.5501 - val_loss: 0.7240 - val_accuracy: 0.0000e+00\n",
      "Epoch 55/200\n",
      "156/156 [==============================] - 1s 4ms/step - loss: 0.6599 - accuracy: 0.5500 - val_loss: 0.7058 - val_accuracy: 0.0000e+00\n",
      "Epoch 56/200\n",
      "156/156 [==============================] - 1s 5ms/step - loss: 0.6600 - accuracy: 0.5503 - val_loss: 0.6978 - val_accuracy: 0.0000e+00\n",
      "Epoch 57/200\n",
      "156/156 [==============================] - 1s 5ms/step - loss: 0.6605 - accuracy: 0.5499 - val_loss: 0.7157 - val_accuracy: 0.0000e+00\n",
      "Epoch 58/200\n",
      "156/156 [==============================] - 1s 4ms/step - loss: 0.6603 - accuracy: 0.5502 - val_loss: 0.6950 - val_accuracy: 0.0000e+00\n",
      "Epoch 59/200\n",
      "156/156 [==============================] - 1s 5ms/step - loss: 0.6597 - accuracy: 0.5501 - val_loss: 0.7149 - val_accuracy: 0.0000e+00\n",
      "Epoch 60/200\n",
      "156/156 [==============================] - 1s 5ms/step - loss: 0.6591 - accuracy: 0.5499 - val_loss: 0.7117 - val_accuracy: 0.0000e+00\n",
      "Epoch 61/200\n",
      "156/156 [==============================] - 1s 5ms/step - loss: 0.6615 - accuracy: 0.5501 - val_loss: 0.7055 - val_accuracy: 0.0000e+00\n",
      "Epoch 62/200\n",
      "156/156 [==============================] - 1s 6ms/step - loss: 0.6594 - accuracy: 0.5500 - val_loss: 0.7181 - val_accuracy: 0.0000e+00\n",
      "Epoch 63/200\n",
      "156/156 [==============================] - 1s 6ms/step - loss: 0.6607 - accuracy: 0.5502 - val_loss: 0.7141 - val_accuracy: 0.0000e+00\n",
      "Epoch 64/200\n",
      "156/156 [==============================] - 1s 6ms/step - loss: 0.6604 - accuracy: 0.5500 - val_loss: 0.7016 - val_accuracy: 0.0000e+00\n",
      "Epoch 65/200\n",
      "156/156 [==============================] - 1s 5ms/step - loss: 0.6598 - accuracy: 0.5501 - val_loss: 0.6978 - val_accuracy: 0.0000e+00\n",
      "Epoch 66/200\n",
      "156/156 [==============================] - 1s 5ms/step - loss: 0.6591 - accuracy: 0.5500 - val_loss: 0.7293 - val_accuracy: 0.0000e+00\n",
      "Epoch 67/200\n",
      "156/156 [==============================] - 1s 6ms/step - loss: 0.6594 - accuracy: 0.5498 - val_loss: 0.7399 - val_accuracy: 0.0000e+00\n",
      "Epoch 68/200\n",
      "156/156 [==============================] - 1s 5ms/step - loss: 0.6606 - accuracy: 0.5499 - val_loss: 0.7112 - val_accuracy: 0.0000e+00\n",
      "Epoch 69/200\n",
      "156/156 [==============================] - 1s 5ms/step - loss: 0.6609 - accuracy: 0.5501 - val_loss: 0.7428 - val_accuracy: 0.0000e+00\n",
      "Epoch 70/200\n",
      "156/156 [==============================] - 1s 6ms/step - loss: 0.6600 - accuracy: 0.5499 - val_loss: 0.7156 - val_accuracy: 0.0000e+00\n",
      "Epoch 71/200\n",
      "156/156 [==============================] - 1s 6ms/step - loss: 0.6603 - accuracy: 0.5498 - val_loss: 0.7050 - val_accuracy: 0.0000e+00\n",
      "Epoch 72/200\n",
      "156/156 [==============================] - 1s 5ms/step - loss: 0.6590 - accuracy: 0.5503 - val_loss: 0.7008 - val_accuracy: 0.0000e+00\n",
      "Epoch 73/200\n",
      "156/156 [==============================] - 1s 5ms/step - loss: 0.6600 - accuracy: 0.5501 - val_loss: 0.6986 - val_accuracy: 0.0000e+00\n",
      "Epoch 74/200\n",
      "156/156 [==============================] - 1s 5ms/step - loss: 0.6597 - accuracy: 0.5503 - val_loss: 0.7168 - val_accuracy: 0.0000e+00\n",
      "Epoch 75/200\n",
      "156/156 [==============================] - 1s 5ms/step - loss: 0.6605 - accuracy: 0.5503 - val_loss: 0.7418 - val_accuracy: 0.0000e+00\n",
      "Epoch 76/200\n",
      "156/156 [==============================] - 1s 5ms/step - loss: 0.6613 - accuracy: 0.5496 - val_loss: 0.7191 - val_accuracy: 0.0000e+00\n",
      "Epoch 77/200\n",
      "156/156 [==============================] - 1s 5ms/step - loss: 0.6606 - accuracy: 0.5502 - val_loss: 0.7317 - val_accuracy: 0.0000e+00\n",
      "Epoch 78/200\n",
      "156/156 [==============================] - 1s 5ms/step - loss: 0.6581 - accuracy: 0.5499 - val_loss: 0.6866 - val_accuracy: 0.0000e+00\n",
      "Epoch 79/200\n",
      "156/156 [==============================] - 1s 5ms/step - loss: 0.6591 - accuracy: 0.5501 - val_loss: 0.7094 - val_accuracy: 0.0000e+00\n",
      "Epoch 80/200\n",
      "156/156 [==============================] - 1s 5ms/step - loss: 0.6606 - accuracy: 0.5498 - val_loss: 0.7063 - val_accuracy: 0.0000e+00\n",
      "Epoch 81/200\n",
      "156/156 [==============================] - 1s 4ms/step - loss: 0.6598 - accuracy: 0.5500 - val_loss: 0.7289 - val_accuracy: 0.0000e+00\n",
      "Epoch 82/200\n",
      "156/156 [==============================] - 1s 4ms/step - loss: 0.6603 - accuracy: 0.5500 - val_loss: 0.7392 - val_accuracy: 0.0000e+00\n",
      "Epoch 83/200\n",
      "156/156 [==============================] - 1s 5ms/step - loss: 0.6604 - accuracy: 0.5500 - val_loss: 0.7214 - val_accuracy: 0.0000e+00\n",
      "Epoch 84/200\n",
      "156/156 [==============================] - 1s 5ms/step - loss: 0.6607 - accuracy: 0.5501 - val_loss: 0.7138 - val_accuracy: 0.0000e+00\n",
      "Epoch 85/200\n",
      "156/156 [==============================] - 1s 4ms/step - loss: 0.6591 - accuracy: 0.5500 - val_loss: 0.6793 - val_accuracy: 0.0000e+00\n",
      "Epoch 86/200\n",
      "156/156 [==============================] - 1s 4ms/step - loss: 0.6601 - accuracy: 0.5499 - val_loss: 0.6908 - val_accuracy: 0.0000e+00\n",
      "Epoch 87/200\n",
      "156/156 [==============================] - 1s 5ms/step - loss: 0.6588 - accuracy: 0.5498 - val_loss: 0.7284 - val_accuracy: 0.0000e+00\n",
      "Epoch 88/200\n",
      "156/156 [==============================] - 1s 7ms/step - loss: 0.6605 - accuracy: 0.5502 - val_loss: 0.6761 - val_accuracy: 0.0000e+00\n",
      "Epoch 89/200\n",
      "156/156 [==============================] - 1s 5ms/step - loss: 0.6600 - accuracy: 0.5501 - val_loss: 0.6949 - val_accuracy: 0.0000e+00\n",
      "Epoch 90/200\n",
      "156/156 [==============================] - 1s 5ms/step - loss: 0.6607 - accuracy: 0.5499 - val_loss: 0.7079 - val_accuracy: 0.0000e+00\n",
      "Epoch 91/200\n",
      "156/156 [==============================] - 1s 5ms/step - loss: 0.6598 - accuracy: 0.5498 - val_loss: 0.7463 - val_accuracy: 0.0000e+00\n",
      "Epoch 92/200\n",
      "156/156 [==============================] - 1s 5ms/step - loss: 0.6588 - accuracy: 0.5501 - val_loss: 0.7047 - val_accuracy: 0.0000e+00\n",
      "Epoch 93/200\n",
      "156/156 [==============================] - 1s 5ms/step - loss: 0.6601 - accuracy: 0.5503 - val_loss: 0.7046 - val_accuracy: 0.0000e+00\n",
      "Epoch 94/200\n",
      "156/156 [==============================] - 1s 4ms/step - loss: 0.6602 - accuracy: 0.5501 - val_loss: 0.7104 - val_accuracy: 0.0000e+00\n",
      "Epoch 95/200\n",
      "156/156 [==============================] - 1s 6ms/step - loss: 0.6594 - accuracy: 0.5502 - val_loss: 0.7094 - val_accuracy: 0.0000e+00\n",
      "Epoch 96/200\n",
      "156/156 [==============================] - 1s 5ms/step - loss: 0.6592 - accuracy: 0.5501 - val_loss: 0.7071 - val_accuracy: 0.0000e+00\n",
      "Epoch 97/200\n",
      "156/156 [==============================] - 1s 5ms/step - loss: 0.6602 - accuracy: 0.5501 - val_loss: 0.6899 - val_accuracy: 0.0000e+00\n",
      "Epoch 98/200\n",
      "156/156 [==============================] - 1s 5ms/step - loss: 0.6615 - accuracy: 0.5496 - val_loss: 0.7167 - val_accuracy: 0.0000e+00\n",
      "Epoch 99/200\n",
      "156/156 [==============================] - 1s 4ms/step - loss: 0.6598 - accuracy: 0.5502 - val_loss: 0.6927 - val_accuracy: 0.0000e+00\n",
      "Epoch 100/200\n",
      "156/156 [==============================] - 1s 5ms/step - loss: 0.6601 - accuracy: 0.5500 - val_loss: 0.6985 - val_accuracy: 0.0000e+00\n",
      "Epoch 101/200\n",
      "156/156 [==============================] - 1s 4ms/step - loss: 0.6603 - accuracy: 0.5501 - val_loss: 0.7181 - val_accuracy: 0.0000e+00\n",
      "Epoch 102/200\n",
      "156/156 [==============================] - 1s 5ms/step - loss: 0.6596 - accuracy: 0.5501 - val_loss: 0.6958 - val_accuracy: 0.0000e+00\n",
      "Epoch 103/200\n",
      "156/156 [==============================] - 1s 4ms/step - loss: 0.6610 - accuracy: 0.5503 - val_loss: 0.6854 - val_accuracy: 0.0000e+00\n",
      "Epoch 104/200\n",
      "156/156 [==============================] - 1s 4ms/step - loss: 0.6607 - accuracy: 0.5498 - val_loss: 0.7399 - val_accuracy: 0.0000e+00\n",
      "Epoch 105/200\n",
      "156/156 [==============================] - 1s 5ms/step - loss: 0.6607 - accuracy: 0.5499 - val_loss: 0.7184 - val_accuracy: 0.0000e+00\n",
      "Epoch 106/200\n",
      "156/156 [==============================] - 1s 5ms/step - loss: 0.6602 - accuracy: 0.5499 - val_loss: 0.7072 - val_accuracy: 0.0000e+00\n",
      "Epoch 107/200\n",
      "156/156 [==============================] - 1s 4ms/step - loss: 0.6606 - accuracy: 0.5499 - val_loss: 0.7160 - val_accuracy: 0.0000e+00\n",
      "Epoch 108/200\n",
      "156/156 [==============================] - 1s 5ms/step - loss: 0.6596 - accuracy: 0.5500 - val_loss: 0.7150 - val_accuracy: 0.0000e+00\n",
      "Epoch 109/200\n",
      "156/156 [==============================] - 1s 5ms/step - loss: 0.6613 - accuracy: 0.5499 - val_loss: 0.7481 - val_accuracy: 0.0000e+00\n",
      "Epoch 110/200\n",
      "156/156 [==============================] - 1s 4ms/step - loss: 0.6596 - accuracy: 0.5498 - val_loss: 0.7233 - val_accuracy: 0.0000e+00\n",
      "Epoch 111/200\n",
      "156/156 [==============================] - 1s 5ms/step - loss: 0.6597 - accuracy: 0.5498 - val_loss: 0.7093 - val_accuracy: 0.0000e+00\n",
      "Epoch 112/200\n",
      "156/156 [==============================] - 1s 4ms/step - loss: 0.6600 - accuracy: 0.5501 - val_loss: 0.7144 - val_accuracy: 0.0000e+00\n",
      "Epoch 113/200\n",
      "156/156 [==============================] - 1s 5ms/step - loss: 0.6599 - accuracy: 0.5500 - val_loss: 0.7065 - val_accuracy: 0.0000e+00\n",
      "Epoch 114/200\n",
      "156/156 [==============================] - 1s 5ms/step - loss: 0.6594 - accuracy: 0.5499 - val_loss: 0.7181 - val_accuracy: 0.0000e+00\n",
      "Epoch 115/200\n",
      "156/156 [==============================] - 1s 5ms/step - loss: 0.6610 - accuracy: 0.5500 - val_loss: 0.7210 - val_accuracy: 0.0000e+00\n",
      "Epoch 116/200\n",
      "156/156 [==============================] - 1s 4ms/step - loss: 0.6591 - accuracy: 0.5499 - val_loss: 0.6846 - val_accuracy: 0.0000e+00\n",
      "Epoch 117/200\n",
      "156/156 [==============================] - 1s 4ms/step - loss: 0.6602 - accuracy: 0.5500 - val_loss: 0.7175 - val_accuracy: 0.0000e+00\n",
      "Epoch 118/200\n",
      "156/156 [==============================] - 1s 5ms/step - loss: 0.6592 - accuracy: 0.5503 - val_loss: 0.6904 - val_accuracy: 0.0000e+00\n",
      "Epoch 119/200\n",
      "156/156 [==============================] - 1s 5ms/step - loss: 0.6610 - accuracy: 0.5505 - val_loss: 0.7098 - val_accuracy: 0.0000e+00\n",
      "Epoch 120/200\n",
      "156/156 [==============================] - 1s 5ms/step - loss: 0.6601 - accuracy: 0.5505 - val_loss: 0.7050 - val_accuracy: 0.0000e+00\n",
      "Epoch 121/200\n",
      "156/156 [==============================] - 1s 5ms/step - loss: 0.6592 - accuracy: 0.5497 - val_loss: 0.7099 - val_accuracy: 0.0000e+00\n",
      "Epoch 122/200\n",
      "156/156 [==============================] - 1s 5ms/step - loss: 0.6593 - accuracy: 0.5500 - val_loss: 0.7256 - val_accuracy: 0.0000e+00\n",
      "Epoch 123/200\n",
      "156/156 [==============================] - 1s 5ms/step - loss: 0.6600 - accuracy: 0.5501 - val_loss: 0.6814 - val_accuracy: 0.0000e+00\n",
      "Epoch 124/200\n",
      "156/156 [==============================] - 1s 5ms/step - loss: 0.6610 - accuracy: 0.5501 - val_loss: 0.6994 - val_accuracy: 0.0000e+00\n",
      "Epoch 125/200\n",
      "156/156 [==============================] - 1s 5ms/step - loss: 0.6589 - accuracy: 0.5501 - val_loss: 0.7029 - val_accuracy: 0.0000e+00\n",
      "Epoch 126/200\n",
      "156/156 [==============================] - 1s 5ms/step - loss: 0.6600 - accuracy: 0.5500 - val_loss: 0.7378 - val_accuracy: 0.0000e+00\n",
      "Epoch 127/200\n",
      "156/156 [==============================] - 1s 5ms/step - loss: 0.6598 - accuracy: 0.5501 - val_loss: 0.6846 - val_accuracy: 0.0000e+00\n",
      "Epoch 128/200\n",
      "156/156 [==============================] - 1s 5ms/step - loss: 0.6609 - accuracy: 0.5500 - val_loss: 0.6939 - val_accuracy: 0.0000e+00\n",
      "Epoch 129/200\n",
      "156/156 [==============================] - 1s 5ms/step - loss: 0.6601 - accuracy: 0.5504 - val_loss: 0.7324 - val_accuracy: 0.0000e+00\n",
      "Epoch 130/200\n",
      "156/156 [==============================] - 1s 6ms/step - loss: 0.6596 - accuracy: 0.5500 - val_loss: 0.7224 - val_accuracy: 0.0000e+00\n",
      "Epoch 131/200\n",
      "156/156 [==============================] - 1s 5ms/step - loss: 0.6591 - accuracy: 0.5500 - val_loss: 0.7165 - val_accuracy: 0.0000e+00\n",
      "Epoch 132/200\n",
      "156/156 [==============================] - 1s 6ms/step - loss: 0.6594 - accuracy: 0.5503 - val_loss: 0.7080 - val_accuracy: 0.0000e+00\n",
      "Epoch 133/200\n",
      "156/156 [==============================] - 1s 8ms/step - loss: 0.6589 - accuracy: 0.5501 - val_loss: 0.7206 - val_accuracy: 0.0000e+00\n",
      "Epoch 134/200\n",
      "156/156 [==============================] - 1s 6ms/step - loss: 0.6606 - accuracy: 0.5502 - val_loss: 0.7237 - val_accuracy: 0.0000e+00\n",
      "Epoch 135/200\n",
      "156/156 [==============================] - 1s 5ms/step - loss: 0.6601 - accuracy: 0.5499 - val_loss: 0.6922 - val_accuracy: 0.0000e+00\n",
      "Epoch 136/200\n",
      "156/156 [==============================] - 1s 5ms/step - loss: 0.6601 - accuracy: 0.5498 - val_loss: 0.6956 - val_accuracy: 0.0000e+00\n",
      "Epoch 137/200\n",
      "156/156 [==============================] - 1s 5ms/step - loss: 0.6591 - accuracy: 0.5501 - val_loss: 0.7014 - val_accuracy: 0.0000e+00\n",
      "Epoch 138/200\n",
      "156/156 [==============================] - 1s 5ms/step - loss: 0.6611 - accuracy: 0.5502 - val_loss: 0.6864 - val_accuracy: 0.0000e+00\n",
      "Epoch 139/200\n",
      "156/156 [==============================] - 1s 4ms/step - loss: 0.6602 - accuracy: 0.5502 - val_loss: 0.7196 - val_accuracy: 0.0000e+00\n",
      "Epoch 140/200\n",
      "156/156 [==============================] - 1s 5ms/step - loss: 0.6608 - accuracy: 0.5502 - val_loss: 0.7261 - val_accuracy: 0.0000e+00\n",
      "Epoch 141/200\n",
      "156/156 [==============================] - 1s 5ms/step - loss: 0.6611 - accuracy: 0.5501 - val_loss: 0.7140 - val_accuracy: 0.0000e+00\n",
      "Epoch 142/200\n",
      "156/156 [==============================] - 1s 4ms/step - loss: 0.6597 - accuracy: 0.5501 - val_loss: 0.7090 - val_accuracy: 0.0000e+00\n",
      "Epoch 143/200\n",
      "156/156 [==============================] - 1s 4ms/step - loss: 0.6609 - accuracy: 0.5497 - val_loss: 0.7169 - val_accuracy: 0.0000e+00\n",
      "Epoch 144/200\n",
      "156/156 [==============================] - 1s 4ms/step - loss: 0.6598 - accuracy: 0.5500 - val_loss: 0.7034 - val_accuracy: 0.0000e+00\n",
      "Epoch 145/200\n",
      "156/156 [==============================] - 1s 4ms/step - loss: 0.6602 - accuracy: 0.5501 - val_loss: 0.6924 - val_accuracy: 0.0000e+00\n",
      "Epoch 146/200\n",
      "156/156 [==============================] - 1s 4ms/step - loss: 0.6597 - accuracy: 0.5501 - val_loss: 0.7244 - val_accuracy: 0.0000e+00\n",
      "Epoch 147/200\n",
      "156/156 [==============================] - 1s 4ms/step - loss: 0.6601 - accuracy: 0.5498 - val_loss: 0.6836 - val_accuracy: 0.0000e+00\n",
      "Epoch 148/200\n",
      "156/156 [==============================] - 1s 4ms/step - loss: 0.6612 - accuracy: 0.5501 - val_loss: 0.7469 - val_accuracy: 0.0000e+00\n",
      "Epoch 149/200\n",
      "156/156 [==============================] - 1s 4ms/step - loss: 0.6601 - accuracy: 0.5497 - val_loss: 0.7297 - val_accuracy: 0.0000e+00\n",
      "Epoch 150/200\n",
      "156/156 [==============================] - 1s 5ms/step - loss: 0.6600 - accuracy: 0.5500 - val_loss: 0.7380 - val_accuracy: 0.0000e+00\n",
      "Epoch 151/200\n",
      "156/156 [==============================] - 1s 4ms/step - loss: 0.6596 - accuracy: 0.5502 - val_loss: 0.7043 - val_accuracy: 0.0000e+00\n",
      "Epoch 152/200\n",
      "156/156 [==============================] - 1s 4ms/step - loss: 0.6605 - accuracy: 0.5499 - val_loss: 0.7022 - val_accuracy: 0.0000e+00\n",
      "Epoch 153/200\n",
      "156/156 [==============================] - 1s 4ms/step - loss: 0.6598 - accuracy: 0.5502 - val_loss: 0.7149 - val_accuracy: 0.0000e+00\n",
      "Epoch 154/200\n",
      "156/156 [==============================] - 1s 5ms/step - loss: 0.6597 - accuracy: 0.5498 - val_loss: 0.7101 - val_accuracy: 0.0000e+00\n",
      "Epoch 155/200\n",
      "156/156 [==============================] - 1s 4ms/step - loss: 0.6591 - accuracy: 0.5503 - val_loss: 0.6933 - val_accuracy: 0.0000e+00\n",
      "Epoch 156/200\n",
      "156/156 [==============================] - 1s 4ms/step - loss: 0.6599 - accuracy: 0.5502 - val_loss: 0.6750 - val_accuracy: 0.0000e+00\n",
      "Epoch 157/200\n",
      "156/156 [==============================] - 1s 4ms/step - loss: 0.6607 - accuracy: 0.5502 - val_loss: 0.6813 - val_accuracy: 0.0000e+00\n",
      "Epoch 158/200\n",
      "156/156 [==============================] - 1s 5ms/step - loss: 0.6602 - accuracy: 0.5503 - val_loss: 0.7429 - val_accuracy: 0.0000e+00\n",
      "Epoch 159/200\n",
      "156/156 [==============================] - 1s 4ms/step - loss: 0.6587 - accuracy: 0.5503 - val_loss: 0.7108 - val_accuracy: 0.0000e+00\n",
      "Epoch 160/200\n",
      "156/156 [==============================] - 1s 4ms/step - loss: 0.6607 - accuracy: 0.5501 - val_loss: 0.7141 - val_accuracy: 0.0000e+00\n",
      "Epoch 161/200\n",
      "156/156 [==============================] - 1s 4ms/step - loss: 0.6593 - accuracy: 0.5498 - val_loss: 0.7078 - val_accuracy: 0.0000e+00\n",
      "Epoch 162/200\n",
      "156/156 [==============================] - 1s 5ms/step - loss: 0.6610 - accuracy: 0.5501 - val_loss: 0.7033 - val_accuracy: 0.0000e+00\n",
      "Epoch 163/200\n",
      "156/156 [==============================] - 1s 4ms/step - loss: 0.6596 - accuracy: 0.5503 - val_loss: 0.6886 - val_accuracy: 0.0000e+00\n",
      "Epoch 164/200\n",
      "156/156 [==============================] - 1s 4ms/step - loss: 0.6609 - accuracy: 0.5504 - val_loss: 0.7074 - val_accuracy: 0.0000e+00\n",
      "Epoch 165/200\n",
      "156/156 [==============================] - 1s 4ms/step - loss: 0.6603 - accuracy: 0.5502 - val_loss: 0.7309 - val_accuracy: 0.0000e+00\n",
      "Epoch 166/200\n",
      "156/156 [==============================] - 1s 5ms/step - loss: 0.6608 - accuracy: 0.5502 - val_loss: 0.6864 - val_accuracy: 0.0000e+00\n",
      "Epoch 167/200\n",
      "156/156 [==============================] - 1s 4ms/step - loss: 0.6606 - accuracy: 0.5503 - val_loss: 0.6976 - val_accuracy: 0.0000e+00\n",
      "Epoch 168/200\n",
      "156/156 [==============================] - 1s 5ms/step - loss: 0.6610 - accuracy: 0.5498 - val_loss: 0.6897 - val_accuracy: 0.0000e+00\n",
      "Epoch 169/200\n",
      "156/156 [==============================] - 1s 5ms/step - loss: 0.6609 - accuracy: 0.5499 - val_loss: 0.7066 - val_accuracy: 0.0000e+00\n",
      "Epoch 170/200\n",
      "156/156 [==============================] - 1s 5ms/step - loss: 0.6605 - accuracy: 0.5500 - val_loss: 0.7011 - val_accuracy: 0.0000e+00\n",
      "Epoch 171/200\n",
      "156/156 [==============================] - 1s 4ms/step - loss: 0.6601 - accuracy: 0.5498 - val_loss: 0.7210 - val_accuracy: 0.0000e+00\n",
      "Epoch 172/200\n",
      "156/156 [==============================] - 1s 4ms/step - loss: 0.6601 - accuracy: 0.5502 - val_loss: 0.7217 - val_accuracy: 0.0000e+00\n",
      "Epoch 173/200\n",
      "156/156 [==============================] - 1s 4ms/step - loss: 0.6611 - accuracy: 0.5499 - val_loss: 0.7095 - val_accuracy: 0.0000e+00\n",
      "Epoch 174/200\n",
      "156/156 [==============================] - 1s 5ms/step - loss: 0.6591 - accuracy: 0.5503 - val_loss: 0.7064 - val_accuracy: 0.0000e+00\n",
      "Epoch 175/200\n",
      "156/156 [==============================] - 1s 4ms/step - loss: 0.6607 - accuracy: 0.5499 - val_loss: 0.7227 - val_accuracy: 0.0000e+00\n",
      "Epoch 176/200\n",
      "156/156 [==============================] - 1s 5ms/step - loss: 0.6598 - accuracy: 0.5503 - val_loss: 0.7045 - val_accuracy: 0.0000e+00\n",
      "Epoch 177/200\n",
      "156/156 [==============================] - 1s 4ms/step - loss: 0.6597 - accuracy: 0.5499 - val_loss: 0.7001 - val_accuracy: 0.0000e+00\n",
      "Epoch 178/200\n",
      "156/156 [==============================] - 1s 5ms/step - loss: 0.6591 - accuracy: 0.5499 - val_loss: 0.7238 - val_accuracy: 0.0000e+00\n",
      "Epoch 179/200\n",
      "156/156 [==============================] - 1s 4ms/step - loss: 0.6598 - accuracy: 0.5501 - val_loss: 0.7070 - val_accuracy: 0.0000e+00\n",
      "Epoch 180/200\n",
      "156/156 [==============================] - 1s 4ms/step - loss: 0.6586 - accuracy: 0.5499 - val_loss: 0.7279 - val_accuracy: 0.0000e+00\n",
      "Epoch 181/200\n",
      "156/156 [==============================] - 1s 4ms/step - loss: 0.6581 - accuracy: 0.5500 - val_loss: 0.6939 - val_accuracy: 0.0000e+00\n",
      "Epoch 182/200\n",
      "156/156 [==============================] - 1s 5ms/step - loss: 0.6583 - accuracy: 0.5505 - val_loss: 0.7331 - val_accuracy: 0.0000e+00\n",
      "Epoch 183/200\n",
      "156/156 [==============================] - 1s 4ms/step - loss: 0.6622 - accuracy: 0.5500 - val_loss: 0.6969 - val_accuracy: 0.0000e+00\n",
      "Epoch 184/200\n",
      "156/156 [==============================] - 1s 4ms/step - loss: 0.6603 - accuracy: 0.5500 - val_loss: 0.6946 - val_accuracy: 0.0000e+00\n",
      "Epoch 185/200\n",
      "156/156 [==============================] - 1s 4ms/step - loss: 0.6595 - accuracy: 0.5504 - val_loss: 0.7330 - val_accuracy: 0.0000e+00\n",
      "Epoch 186/200\n",
      "156/156 [==============================] - 1s 5ms/step - loss: 0.6594 - accuracy: 0.5499 - val_loss: 0.7369 - val_accuracy: 0.0000e+00\n",
      "Epoch 187/200\n",
      "156/156 [==============================] - 1s 4ms/step - loss: 0.6607 - accuracy: 0.5502 - val_loss: 0.7021 - val_accuracy: 0.0000e+00\n",
      "Epoch 188/200\n",
      "156/156 [==============================] - 1s 4ms/step - loss: 0.6596 - accuracy: 0.5502 - val_loss: 0.6893 - val_accuracy: 0.0000e+00\n",
      "Epoch 189/200\n",
      "156/156 [==============================] - 1s 5ms/step - loss: 0.6614 - accuracy: 0.5495 - val_loss: 0.7004 - val_accuracy: 0.0000e+00\n",
      "Epoch 190/200\n",
      "156/156 [==============================] - 1s 5ms/step - loss: 0.6605 - accuracy: 0.5500 - val_loss: 0.7041 - val_accuracy: 0.0000e+00\n",
      "Epoch 191/200\n",
      "156/156 [==============================] - 1s 5ms/step - loss: 0.6596 - accuracy: 0.5501 - val_loss: 0.7177 - val_accuracy: 0.0000e+00\n",
      "Epoch 192/200\n",
      "156/156 [==============================] - 1s 4ms/step - loss: 0.6602 - accuracy: 0.5497 - val_loss: 0.7366 - val_accuracy: 0.0000e+00\n",
      "Epoch 193/200\n",
      "156/156 [==============================] - 1s 4ms/step - loss: 0.6602 - accuracy: 0.5497 - val_loss: 0.7120 - val_accuracy: 0.0000e+00\n",
      "Epoch 194/200\n",
      "156/156 [==============================] - 1s 5ms/step - loss: 0.6605 - accuracy: 0.5500 - val_loss: 0.7234 - val_accuracy: 0.0000e+00\n",
      "Epoch 195/200\n",
      "156/156 [==============================] - 1s 4ms/step - loss: 0.6605 - accuracy: 0.5498 - val_loss: 0.7215 - val_accuracy: 0.0000e+00\n",
      "Epoch 196/200\n",
      "156/156 [==============================] - 1s 4ms/step - loss: 0.6603 - accuracy: 0.5503 - val_loss: 0.6873 - val_accuracy: 0.0000e+00\n",
      "Epoch 197/200\n",
      "156/156 [==============================] - 1s 4ms/step - loss: 0.6592 - accuracy: 0.5502 - val_loss: 0.7265 - val_accuracy: 0.0000e+00\n",
      "Epoch 198/200\n",
      "156/156 [==============================] - 1s 5ms/step - loss: 0.6609 - accuracy: 0.5499 - val_loss: 0.7247 - val_accuracy: 0.0000e+00\n",
      "Epoch 199/200\n",
      "156/156 [==============================] - 1s 4ms/step - loss: 0.6593 - accuracy: 0.5501 - val_loss: 0.7201 - val_accuracy: 0.0000e+00\n",
      "Epoch 200/200\n",
      "156/156 [==============================] - 1s 4ms/step - loss: 0.6600 - accuracy: 0.5498 - val_loss: 0.7236 - val_accuracy: 0.0000e+00\n"
     ]
    }
   ],
   "source": [
    "configs_dict = {\n",
    "    \"learning_rate\": LEARNING_RATE,\n",
    "    \"algorithm\": \"LogReg\",\n",
    "    \"configuration\": \"2-types\",\n",
    "    \"optimizer\": \"adam\",\n",
    "    \"loss\": \"binary_crossentropy\",\n",
    "    \"epochs\": NUM_EPOCHS,\n",
    "    \"batch_size\": 64,\n",
    "    \"vectorizer\": \"bigram_count\",\n",
    "    \"dataset\": \"TOKENIZED_SET_V1\"\n",
    "}\n",
    "run = wandb.init(project=wandb_project_name, reinit=True, config=configs_dict)\n",
    "\n",
    "\n",
    "history = model.fit(train_dataset, epochs=NUM_EPOCHS,\n",
    "                    validation_data=test_dataset,\n",
    "                    validation_steps=VAL_STEPS_PER_EPOCH, steps_per_epoch=STEPS_PER_EPOCH,callbacks= [WandbCallback()])#[tensorboard_callback])\n",
    "\n",
    "run.finish()"
   ]
  },
  {
   "cell_type": "code",
   "execution_count": 50,
   "metadata": {},
   "outputs": [
    {
     "name": "stdout",
     "output_type": "stream",
     "text": [
      "15/15 [==============================] - 0s 1ms/step - loss: 0.7236 - accuracy: 0.0000e+00\n",
      "Test Loss: 0.723638117313385\n",
      "Test Accuracy: 0.0\n"
     ]
    }
   ],
   "source": [
    "test_loss, test_acc = model.evaluate(test_dataset)\n",
    "\n",
    "print(\"Test Loss:\", test_loss)\n",
    "print(\"Test Accuracy:\", test_acc)"
   ]
  },
  {
   "cell_type": "code",
   "execution_count": 51,
   "metadata": {},
   "outputs": [
    {
     "data": {
      "text/plain": [
       "(0.0, 0.7525729775428772)"
      ]
     },
     "execution_count": 51,
     "metadata": {},
     "output_type": "execute_result"
    },
    {
     "data": {
      "image/png": "[encoded data removed]",
      "text/plain": [
       "<Figure size 1600x800 with 2 Axes>"
      ]
     },
     "metadata": {},
     "output_type": "display_data"
    }
   ],
   "source": [
    "plt.figure(figsize=(16,8))\n",
    "plt.subplot(1,2,1)\n",
    "plot_graphs(history, \"accuracy\")\n",
    "plt.ylim(None, 1)\n",
    "plt.subplot(1,2,2)\n",
    "plot_graphs(history, \"loss\")\n",
    "plt.ylim(0, None)"
   ]
  },
  {
   "cell_type": "code",
   "execution_count": 52,
   "metadata": {},
   "outputs": [
    {
     "name": "stdout",
     "output_type": "stream",
     "text": [
      "1/1 [==============================] - 0s 86ms/step\n",
      "[0.06341894]\n"
     ]
    }
   ],
   "source": [
    "# predict on a sample text without padding\n",
    "sample_text = \"set_constant SET_BASIC\"\n",
    "predictions = model.predict(np.array([sample_text]))\n",
    "print(predictions[0])"
   ]
  },
  {
   "attachments": {},
   "cell_type": "markdown",
   "metadata": {},
   "source": [
    "##### Experiment 5:"
   ]
  },
  {
   "cell_type": "code",
   "execution_count": 62,
   "metadata": {},
   "outputs": [
    {
     "name": "stdout",
     "output_type": "stream",
     "text": [
      "1/1 [==============================] - 0s 107ms/step\n",
      "[-0.00152158]\n"
     ]
    }
   ],
   "source": [
    "model = create_model(encoder_tf_idf, 30)\n",
    "# predict on a sample formula using untrained model\n",
    "sample_text = \"set_constant SET_BASIC\"\n",
    "predictions = model.predict(np.array([sample_text]))\n",
    "print(predictions[0])"
   ]
  },
  {
   "cell_type": "code",
   "execution_count": 63,
   "metadata": {},
   "outputs": [],
   "source": [
    "#model.compile(optimizer='sgd',loss='sparse_categorical_crossentropy',metrics=['accuracy'])\n",
    "LEARNING_RATE = 1e-3\n",
    "NUM_EPOCHS = 200\n",
    "model.compile(loss=tf.keras.losses.BinaryCrossentropy(from_logits=True),\n",
    "              optimizer=tf.keras.optimizers.Adam(LEARNING_RATE),\n",
    "              metrics=[\"accuracy\"])"
   ]
  },
  {
   "cell_type": "code",
   "execution_count": 64,
   "metadata": {},
   "outputs": [
    {
     "name": "stdout",
     "output_type": "stream",
     "text": [
      "Epoch 1/200\n",
      "132/156 [========================>.....] - ETA: 0s - loss: 0.6804 - accuracy: 0.5514INFO:tensorflow:Assets written to: /home/paul_d/Sources/sem_math_repo/classification_formulas_binary/wandb/run-20230307_114112-2rwgqg7q/files/model-best/assets\n"
     ]
    },
    {
     "name": "stderr",
     "output_type": "stream",
     "text": [
      "INFO:tensorflow:Assets written to: /home/paul_d/Sources/sem_math_repo/classification_formulas_binary/wandb/run-20230307_114112-2rwgqg7q/files/model-best/assets\n"
     ]
    },
    {
     "name": "stdout",
     "output_type": "stream",
     "text": [
      "156/156 [==============================] - 3s 13ms/step - loss: 0.6781 - accuracy: 0.5500 - val_loss: 0.7377 - val_accuracy: 0.0000e+00\n",
      "Epoch 2/200\n",
      "136/156 [=========================>....] - ETA: 0s - loss: 0.6510 - accuracy: 0.5551INFO:tensorflow:Assets written to: /home/paul_d/Sources/sem_math_repo/classification_formulas_binary/wandb/run-20230307_114112-2rwgqg7q/files/model-best/assets\n"
     ]
    },
    {
     "name": "stderr",
     "output_type": "stream",
     "text": [
      "INFO:tensorflow:Assets written to: /home/paul_d/Sources/sem_math_repo/classification_formulas_binary/wandb/run-20230307_114112-2rwgqg7q/files/model-best/assets\n"
     ]
    },
    {
     "name": "stdout",
     "output_type": "stream",
     "text": [
      "156/156 [==============================] - 1s 9ms/step - loss: 0.6495 - accuracy: 0.5578 - val_loss: 0.7156 - val_accuracy: 0.0000e+00\n",
      "Epoch 3/200\n",
      "136/156 [=========================>....] - ETA: 0s - loss: 0.6298 - accuracy: 0.6036INFO:tensorflow:Assets written to: /home/paul_d/Sources/sem_math_repo/classification_formulas_binary/wandb/run-20230307_114112-2rwgqg7q/files/model-best/assets\n"
     ]
    },
    {
     "name": "stderr",
     "output_type": "stream",
     "text": [
      "INFO:tensorflow:Assets written to: /home/paul_d/Sources/sem_math_repo/classification_formulas_binary/wandb/run-20230307_114112-2rwgqg7q/files/model-best/assets\n"
     ]
    },
    {
     "name": "stdout",
     "output_type": "stream",
     "text": [
      "156/156 [==============================] - 1s 8ms/step - loss: 0.6283 - accuracy: 0.6077 - val_loss: 0.6848 - val_accuracy: 0.2917\n",
      "Epoch 4/200\n",
      "143/156 [==========================>...] - ETA: 0s - loss: 0.6142 - accuracy: 0.6360INFO:tensorflow:Assets written to: /home/paul_d/Sources/sem_math_repo/classification_formulas_binary/wandb/run-20230307_114112-2rwgqg7q/files/model-best/assets\n"
     ]
    },
    {
     "name": "stderr",
     "output_type": "stream",
     "text": [
      "INFO:tensorflow:Assets written to: /home/paul_d/Sources/sem_math_repo/classification_formulas_binary/wandb/run-20230307_114112-2rwgqg7q/files/model-best/assets\n"
     ]
    },
    {
     "name": "stdout",
     "output_type": "stream",
     "text": [
      "156/156 [==============================] - 1s 9ms/step - loss: 0.6133 - accuracy: 0.6357 - val_loss: 0.6797 - val_accuracy: 0.2917\n",
      "Epoch 5/200\n",
      "144/156 [==========================>...] - ETA: 0s - loss: 0.6123 - accuracy: 0.6456INFO:tensorflow:Assets written to: /home/paul_d/Sources/sem_math_repo/classification_formulas_binary/wandb/run-20230307_114112-2rwgqg7q/files/model-best/assets\n"
     ]
    },
    {
     "name": "stderr",
     "output_type": "stream",
     "text": [
      "INFO:tensorflow:Assets written to: /home/paul_d/Sources/sem_math_repo/classification_formulas_binary/wandb/run-20230307_114112-2rwgqg7q/files/model-best/assets\n"
     ]
    },
    {
     "name": "stdout",
     "output_type": "stream",
     "text": [
      "156/156 [==============================] - 1s 8ms/step - loss: 0.6120 - accuracy: 0.6468 - val_loss: 0.6734 - val_accuracy: 0.3010\n",
      "Epoch 6/200\n",
      "150/156 [===========================>..] - ETA: 0s - loss: 0.6117 - accuracy: 0.6469INFO:tensorflow:Assets written to: /home/paul_d/Sources/sem_math_repo/classification_formulas_binary/wandb/run-20230307_114112-2rwgqg7q/files/model-best/assets\n"
     ]
    },
    {
     "name": "stderr",
     "output_type": "stream",
     "text": [
      "INFO:tensorflow:Assets written to: /home/paul_d/Sources/sem_math_repo/classification_formulas_binary/wandb/run-20230307_114112-2rwgqg7q/files/model-best/assets\n"
     ]
    },
    {
     "name": "stdout",
     "output_type": "stream",
     "text": [
      "156/156 [==============================] - 2s 12ms/step - loss: 0.6110 - accuracy: 0.6478 - val_loss: 0.6706 - val_accuracy: 0.3010\n",
      "Epoch 7/200\n",
      "144/156 [==========================>...] - ETA: 0s - loss: 0.6152 - accuracy: 0.6429INFO:tensorflow:Assets written to: /home/paul_d/Sources/sem_math_repo/classification_formulas_binary/wandb/run-20230307_114112-2rwgqg7q/files/model-best/assets\n"
     ]
    },
    {
     "name": "stderr",
     "output_type": "stream",
     "text": [
      "INFO:tensorflow:Assets written to: /home/paul_d/Sources/sem_math_repo/classification_formulas_binary/wandb/run-20230307_114112-2rwgqg7q/files/model-best/assets\n"
     ]
    },
    {
     "name": "stdout",
     "output_type": "stream",
     "text": [
      "156/156 [==============================] - 1s 9ms/step - loss: 0.6130 - accuracy: 0.6471 - val_loss: 0.6656 - val_accuracy: 0.2917\n",
      "Epoch 8/200\n",
      "156/156 [==============================] - 0s 2ms/step - loss: 0.6107 - accuracy: 0.6466 - val_loss: 0.6726 - val_accuracy: 0.2917\n",
      "Epoch 9/200\n",
      "142/156 [==========================>...] - ETA: 0s - loss: 0.6071 - accuracy: 0.6492INFO:tensorflow:Assets written to: /home/paul_d/Sources/sem_math_repo/classification_formulas_binary/wandb/run-20230307_114112-2rwgqg7q/files/model-best/assets\n"
     ]
    },
    {
     "name": "stderr",
     "output_type": "stream",
     "text": [
      "INFO:tensorflow:Assets written to: /home/paul_d/Sources/sem_math_repo/classification_formulas_binary/wandb/run-20230307_114112-2rwgqg7q/files/model-best/assets\n"
     ]
    },
    {
     "name": "stdout",
     "output_type": "stream",
     "text": [
      "156/156 [==============================] - 1s 8ms/step - loss: 0.6093 - accuracy: 0.6483 - val_loss: 0.6638 - val_accuracy: 0.2917\n",
      "Epoch 10/200\n",
      "140/156 [=========================>....] - ETA: 0s - loss: 0.6055 - accuracy: 0.6525INFO:tensorflow:Assets written to: /home/paul_d/Sources/sem_math_repo/classification_formulas_binary/wandb/run-20230307_114112-2rwgqg7q/files/model-best/assets\n"
     ]
    },
    {
     "name": "stderr",
     "output_type": "stream",
     "text": [
      "INFO:tensorflow:Assets written to: /home/paul_d/Sources/sem_math_repo/classification_formulas_binary/wandb/run-20230307_114112-2rwgqg7q/files/model-best/assets\n"
     ]
    },
    {
     "name": "stdout",
     "output_type": "stream",
     "text": [
      "156/156 [==============================] - 1s 8ms/step - loss: 0.6074 - accuracy: 0.6525 - val_loss: 0.6609 - val_accuracy: 0.2865\n",
      "Epoch 11/200\n",
      "143/156 [==========================>...] - ETA: 0s - loss: 0.6104 - accuracy: 0.6452INFO:tensorflow:Assets written to: /home/paul_d/Sources/sem_math_repo/classification_formulas_binary/wandb/run-20230307_114112-2rwgqg7q/files/model-best/assets\n"
     ]
    },
    {
     "name": "stderr",
     "output_type": "stream",
     "text": [
      "INFO:tensorflow:Assets written to: /home/paul_d/Sources/sem_math_repo/classification_formulas_binary/wandb/run-20230307_114112-2rwgqg7q/files/model-best/assets\n"
     ]
    },
    {
     "name": "stdout",
     "output_type": "stream",
     "text": [
      "156/156 [==============================] - 2s 10ms/step - loss: 0.6094 - accuracy: 0.6452 - val_loss: 0.6594 - val_accuracy: 0.2865\n",
      "Epoch 12/200\n",
      "148/156 [===========================>..] - ETA: 0s - loss: 0.6088 - accuracy: 0.6550INFO:tensorflow:Assets written to: /home/paul_d/Sources/sem_math_repo/classification_formulas_binary/wandb/run-20230307_114112-2rwgqg7q/files/model-best/assets\n"
     ]
    },
    {
     "name": "stderr",
     "output_type": "stream",
     "text": [
      "INFO:tensorflow:Assets written to: /home/paul_d/Sources/sem_math_repo/classification_formulas_binary/wandb/run-20230307_114112-2rwgqg7q/files/model-best/assets\n"
     ]
    },
    {
     "name": "stdout",
     "output_type": "stream",
     "text": [
      "156/156 [==============================] - 2s 11ms/step - loss: 0.6091 - accuracy: 0.6540 - val_loss: 0.6567 - val_accuracy: 0.2865\n",
      "Epoch 13/200\n",
      "156/156 [==============================] - 0s 2ms/step - loss: 0.6084 - accuracy: 0.6507 - val_loss: 0.6604 - val_accuracy: 0.2865\n",
      "Epoch 14/200\n",
      "156/156 [==============================] - 0s 2ms/step - loss: 0.6090 - accuracy: 0.6527 - val_loss: 0.6598 - val_accuracy: 0.2865\n",
      "Epoch 15/200\n",
      "156/156 [==============================] - 0s 2ms/step - loss: 0.6061 - accuracy: 0.6547 - val_loss: 0.6613 - val_accuracy: 0.2865\n",
      "Epoch 16/200\n",
      "152/156 [============================>.] - ETA: 0s - loss: 0.6097 - accuracy: 0.6507INFO:tensorflow:Assets written to: /home/paul_d/Sources/sem_math_repo/classification_formulas_binary/wandb/run-20230307_114112-2rwgqg7q/files/model-best/assets\n"
     ]
    },
    {
     "name": "stderr",
     "output_type": "stream",
     "text": [
      "INFO:tensorflow:Assets written to: /home/paul_d/Sources/sem_math_repo/classification_formulas_binary/wandb/run-20230307_114112-2rwgqg7q/files/model-best/assets\n"
     ]
    },
    {
     "name": "stdout",
     "output_type": "stream",
     "text": [
      "156/156 [==============================] - 2s 10ms/step - loss: 0.6093 - accuracy: 0.6509 - val_loss: 0.6530 - val_accuracy: 0.2865\n",
      "Epoch 17/200\n",
      "156/156 [==============================] - 0s 2ms/step - loss: 0.6085 - accuracy: 0.6566 - val_loss: 0.6533 - val_accuracy: 0.2865\n",
      "Epoch 18/200\n",
      "156/156 [==============================] - 0s 2ms/step - loss: 0.6100 - accuracy: 0.6513 - val_loss: 0.6616 - val_accuracy: 0.2854\n",
      "Epoch 19/200\n",
      "156/156 [==============================] - 0s 2ms/step - loss: 0.6073 - accuracy: 0.6548 - val_loss: 0.6622 - val_accuracy: 0.2854\n",
      "Epoch 20/200\n",
      "133/156 [========================>.....] - ETA: 0s - loss: 0.6054 - accuracy: 0.6595INFO:tensorflow:Assets written to: /home/paul_d/Sources/sem_math_repo/classification_formulas_binary/wandb/run-20230307_114112-2rwgqg7q/files/model-best/assets\n"
     ]
    },
    {
     "name": "stderr",
     "output_type": "stream",
     "text": [
      "INFO:tensorflow:Assets written to: /home/paul_d/Sources/sem_math_repo/classification_formulas_binary/wandb/run-20230307_114112-2rwgqg7q/files/model-best/assets\n"
     ]
    },
    {
     "name": "stdout",
     "output_type": "stream",
     "text": [
      "156/156 [==============================] - 1s 9ms/step - loss: 0.6083 - accuracy: 0.6548 - val_loss: 0.6525 - val_accuracy: 0.2896\n",
      "Epoch 21/200\n",
      "156/156 [==============================] - 0s 2ms/step - loss: 0.6113 - accuracy: 0.6524 - val_loss: 0.6533 - val_accuracy: 0.2896\n",
      "Epoch 22/200\n",
      "156/156 [==============================] - 0s 2ms/step - loss: 0.6064 - accuracy: 0.6557 - val_loss: 0.6570 - val_accuracy: 0.2896\n",
      "Epoch 23/200\n",
      "156/156 [==============================] - 1s 3ms/step - loss: 0.6099 - accuracy: 0.6519 - val_loss: 0.6624 - val_accuracy: 0.2896\n",
      "Epoch 24/200\n",
      "156/156 [==============================] - 0s 2ms/step - loss: 0.6072 - accuracy: 0.6550 - val_loss: 0.6623 - val_accuracy: 0.2896\n",
      "Epoch 25/200\n",
      "156/156 [==============================] - 0s 2ms/step - loss: 0.6074 - accuracy: 0.6545 - val_loss: 0.6592 - val_accuracy: 0.2896\n",
      "Epoch 26/200\n",
      "156/156 [==============================] - 0s 2ms/step - loss: 0.6069 - accuracy: 0.6495 - val_loss: 0.6615 - val_accuracy: 0.2896\n",
      "Epoch 27/200\n",
      "156/156 [==============================] - 1s 3ms/step - loss: 0.6062 - accuracy: 0.6506 - val_loss: 0.6534 - val_accuracy: 0.2896\n",
      "Epoch 28/200\n",
      "156/156 [==============================] - 1s 4ms/step - loss: 0.6041 - accuracy: 0.6522 - val_loss: 0.6595 - val_accuracy: 0.2896\n",
      "Epoch 29/200\n",
      "156/156 [==============================] - 1s 5ms/step - loss: 0.6056 - accuracy: 0.6529 - val_loss: 0.6598 - val_accuracy: 0.2896\n",
      "Epoch 30/200\n",
      "156/156 [==============================] - 1s 5ms/step - loss: 0.6064 - accuracy: 0.6529 - val_loss: 0.6649 - val_accuracy: 0.2896\n",
      "Epoch 31/200\n",
      "156/156 [==============================] - 1s 4ms/step - loss: 0.6068 - accuracy: 0.6557 - val_loss: 0.6647 - val_accuracy: 0.2896\n",
      "Epoch 32/200\n",
      "156/156 [==============================] - 1s 4ms/step - loss: 0.6062 - accuracy: 0.6506 - val_loss: 0.6627 - val_accuracy: 0.2896\n",
      "Epoch 33/200\n",
      "156/156 [==============================] - 1s 3ms/step - loss: 0.6040 - accuracy: 0.6531 - val_loss: 0.6634 - val_accuracy: 0.2896\n",
      "Epoch 34/200\n",
      "156/156 [==============================] - 1s 6ms/step - loss: 0.6064 - accuracy: 0.6535 - val_loss: 0.6598 - val_accuracy: 0.2896\n",
      "Epoch 35/200\n",
      "156/156 [==============================] - 1s 5ms/step - loss: 0.6054 - accuracy: 0.6521 - val_loss: 0.6673 - val_accuracy: 0.2896\n",
      "Epoch 36/200\n",
      "156/156 [==============================] - 1s 4ms/step - loss: 0.6080 - accuracy: 0.6494 - val_loss: 0.6580 - val_accuracy: 0.2896\n",
      "Epoch 37/200\n",
      "156/156 [==============================] - 1s 5ms/step - loss: 0.6035 - accuracy: 0.6547 - val_loss: 0.6648 - val_accuracy: 0.2896\n",
      "Epoch 38/200\n",
      "156/156 [==============================] - 1s 5ms/step - loss: 0.6059 - accuracy: 0.6533 - val_loss: 0.6593 - val_accuracy: 0.2896\n",
      "Epoch 39/200\n",
      "156/156 [==============================] - 1s 5ms/step - loss: 0.6051 - accuracy: 0.6518 - val_loss: 0.6602 - val_accuracy: 0.2896\n",
      "Epoch 40/200\n",
      "156/156 [==============================] - 1s 4ms/step - loss: 0.6070 - accuracy: 0.6513 - val_loss: 0.6604 - val_accuracy: 0.2896\n",
      "Epoch 41/200\n",
      "156/156 [==============================] - 1s 3ms/step - loss: 0.6050 - accuracy: 0.6512 - val_loss: 0.6550 - val_accuracy: 0.2896\n",
      "Epoch 42/200\n",
      "156/156 [==============================] - 1s 3ms/step - loss: 0.6066 - accuracy: 0.6508 - val_loss: 0.6601 - val_accuracy: 0.2896\n",
      "Epoch 43/200\n",
      "156/156 [==============================] - 1s 3ms/step - loss: 0.6055 - accuracy: 0.6552 - val_loss: 0.6609 - val_accuracy: 0.2896\n",
      "Epoch 44/200\n",
      "156/156 [==============================] - 1s 3ms/step - loss: 0.6069 - accuracy: 0.6538 - val_loss: 0.6632 - val_accuracy: 0.2896\n",
      "Epoch 45/200\n",
      "156/156 [==============================] - 1s 3ms/step - loss: 0.6057 - accuracy: 0.6516 - val_loss: 0.6595 - val_accuracy: 0.2896\n",
      "Epoch 46/200\n",
      "154/156 [============================>.] - ETA: 0s - loss: 0.6057 - accuracy: 0.6523INFO:tensorflow:Assets written to: /home/paul_d/Sources/sem_math_repo/classification_formulas_binary/wandb/run-20230307_114112-2rwgqg7q/files/model-best/assets\n"
     ]
    },
    {
     "name": "stderr",
     "output_type": "stream",
     "text": [
      "INFO:tensorflow:Assets written to: /home/paul_d/Sources/sem_math_repo/classification_formulas_binary/wandb/run-20230307_114112-2rwgqg7q/files/model-best/assets\n"
     ]
    },
    {
     "name": "stdout",
     "output_type": "stream",
     "text": [
      "156/156 [==============================] - 2s 11ms/step - loss: 0.6058 - accuracy: 0.6523 - val_loss: 0.6521 - val_accuracy: 0.2958\n",
      "Epoch 47/200\n",
      "156/156 [==============================] - 0s 3ms/step - loss: 0.6040 - accuracy: 0.6538 - val_loss: 0.6582 - val_accuracy: 0.2896\n",
      "Epoch 48/200\n",
      "156/156 [==============================] - 0s 2ms/step - loss: 0.6052 - accuracy: 0.6534 - val_loss: 0.6638 - val_accuracy: 0.2896\n",
      "Epoch 49/200\n",
      "156/156 [==============================] - 0s 3ms/step - loss: 0.6017 - accuracy: 0.6552 - val_loss: 0.6670 - val_accuracy: 0.2896\n",
      "Epoch 50/200\n",
      "156/156 [==============================] - 0s 2ms/step - loss: 0.6054 - accuracy: 0.6534 - val_loss: 0.6623 - val_accuracy: 0.2896\n",
      "Epoch 51/200\n",
      "156/156 [==============================] - 0s 2ms/step - loss: 0.6087 - accuracy: 0.6492 - val_loss: 0.6695 - val_accuracy: 0.2896\n",
      "Epoch 52/200\n",
      "156/156 [==============================] - 1s 3ms/step - loss: 0.6060 - accuracy: 0.6526 - val_loss: 0.6761 - val_accuracy: 0.2896\n",
      "Epoch 53/200\n",
      "156/156 [==============================] - 1s 3ms/step - loss: 0.6061 - accuracy: 0.6522 - val_loss: 0.6637 - val_accuracy: 0.2896\n",
      "Epoch 54/200\n",
      "156/156 [==============================] - 1s 3ms/step - loss: 0.6066 - accuracy: 0.6520 - val_loss: 0.6641 - val_accuracy: 0.2896\n",
      "Epoch 55/200\n",
      "156/156 [==============================] - 0s 2ms/step - loss: 0.6055 - accuracy: 0.6536 - val_loss: 0.6653 - val_accuracy: 0.2896\n",
      "Epoch 56/200\n",
      "156/156 [==============================] - 0s 2ms/step - loss: 0.6060 - accuracy: 0.6494 - val_loss: 0.6692 - val_accuracy: 0.2896\n",
      "Epoch 57/200\n",
      "156/156 [==============================] - 0s 2ms/step - loss: 0.6049 - accuracy: 0.6561 - val_loss: 0.6658 - val_accuracy: 0.2896\n",
      "Epoch 58/200\n",
      "156/156 [==============================] - 0s 2ms/step - loss: 0.6057 - accuracy: 0.6538 - val_loss: 0.6656 - val_accuracy: 0.2896\n",
      "Epoch 59/200\n",
      "156/156 [==============================] - 0s 3ms/step - loss: 0.6020 - accuracy: 0.6552 - val_loss: 0.6665 - val_accuracy: 0.2896\n",
      "Epoch 60/200\n",
      "156/156 [==============================] - 0s 3ms/step - loss: 0.6071 - accuracy: 0.6494 - val_loss: 0.6596 - val_accuracy: 0.2990\n",
      "Epoch 61/200\n",
      "156/156 [==============================] - 0s 2ms/step - loss: 0.6055 - accuracy: 0.6522 - val_loss: 0.6650 - val_accuracy: 0.2896\n",
      "Epoch 62/200\n",
      "156/156 [==============================] - 0s 2ms/step - loss: 0.6068 - accuracy: 0.6528 - val_loss: 0.6704 - val_accuracy: 0.2896\n",
      "Epoch 63/200\n",
      "156/156 [==============================] - 0s 3ms/step - loss: 0.6042 - accuracy: 0.6541 - val_loss: 0.6680 - val_accuracy: 0.2896\n",
      "Epoch 64/200\n",
      "156/156 [==============================] - 0s 2ms/step - loss: 0.6049 - accuracy: 0.6530 - val_loss: 0.6609 - val_accuracy: 0.2990\n",
      "Epoch 65/200\n",
      "156/156 [==============================] - 0s 2ms/step - loss: 0.6035 - accuracy: 0.6544 - val_loss: 0.6594 - val_accuracy: 0.2990\n",
      "Epoch 66/200\n",
      "156/156 [==============================] - 0s 3ms/step - loss: 0.6060 - accuracy: 0.6510 - val_loss: 0.6603 - val_accuracy: 0.2958\n",
      "Epoch 67/200\n",
      "156/156 [==============================] - 0s 2ms/step - loss: 0.6033 - accuracy: 0.6555 - val_loss: 0.6598 - val_accuracy: 0.2896\n",
      "Epoch 68/200\n",
      "156/156 [==============================] - 0s 2ms/step - loss: 0.6051 - accuracy: 0.6542 - val_loss: 0.6615 - val_accuracy: 0.2896\n",
      "Epoch 69/200\n",
      "156/156 [==============================] - 0s 3ms/step - loss: 0.6057 - accuracy: 0.6532 - val_loss: 0.6550 - val_accuracy: 0.2896\n",
      "Epoch 70/200\n",
      "156/156 [==============================] - 0s 2ms/step - loss: 0.6052 - accuracy: 0.6541 - val_loss: 0.6649 - val_accuracy: 0.2896\n",
      "Epoch 71/200\n",
      "156/156 [==============================] - 0s 2ms/step - loss: 0.6058 - accuracy: 0.6547 - val_loss: 0.6694 - val_accuracy: 0.2896\n",
      "Epoch 72/200\n",
      "156/156 [==============================] - 0s 2ms/step - loss: 0.6014 - accuracy: 0.6565 - val_loss: 0.6606 - val_accuracy: 0.2896\n",
      "Epoch 73/200\n",
      "156/156 [==============================] - 0s 2ms/step - loss: 0.6063 - accuracy: 0.6515 - val_loss: 0.6746 - val_accuracy: 0.2896\n",
      "Epoch 74/200\n",
      "156/156 [==============================] - 0s 3ms/step - loss: 0.6027 - accuracy: 0.6537 - val_loss: 0.6684 - val_accuracy: 0.2896\n",
      "Epoch 75/200\n",
      "156/156 [==============================] - 0s 2ms/step - loss: 0.6053 - accuracy: 0.6500 - val_loss: 0.6646 - val_accuracy: 0.2896\n",
      "Epoch 76/200\n",
      "156/156 [==============================] - 0s 2ms/step - loss: 0.6059 - accuracy: 0.6534 - val_loss: 0.6630 - val_accuracy: 0.2896\n",
      "Epoch 77/200\n",
      "156/156 [==============================] - 0s 2ms/step - loss: 0.6027 - accuracy: 0.6525 - val_loss: 0.6535 - val_accuracy: 0.2990\n",
      "Epoch 78/200\n",
      "156/156 [==============================] - 0s 2ms/step - loss: 0.6044 - accuracy: 0.6550 - val_loss: 0.6672 - val_accuracy: 0.2896\n",
      "Epoch 79/200\n",
      "156/156 [==============================] - 0s 2ms/step - loss: 0.6043 - accuracy: 0.6543 - val_loss: 0.6769 - val_accuracy: 0.2885\n",
      "Epoch 80/200\n",
      "156/156 [==============================] - 0s 2ms/step - loss: 0.6038 - accuracy: 0.6525 - val_loss: 0.6577 - val_accuracy: 0.2896\n",
      "Epoch 81/200\n",
      "156/156 [==============================] - 0s 2ms/step - loss: 0.6062 - accuracy: 0.6542 - val_loss: 0.6632 - val_accuracy: 0.2896\n",
      "Epoch 82/200\n",
      "156/156 [==============================] - 0s 2ms/step - loss: 0.6057 - accuracy: 0.6508 - val_loss: 0.6640 - val_accuracy: 0.2896\n",
      "Epoch 83/200\n",
      "156/156 [==============================] - 0s 3ms/step - loss: 0.6060 - accuracy: 0.6510 - val_loss: 0.6583 - val_accuracy: 0.2896\n",
      "Epoch 84/200\n",
      "156/156 [==============================] - 0s 2ms/step - loss: 0.6009 - accuracy: 0.6561 - val_loss: 0.6725 - val_accuracy: 0.2885\n",
      "Epoch 85/200\n",
      "156/156 [==============================] - 0s 2ms/step - loss: 0.6055 - accuracy: 0.6531 - val_loss: 0.6648 - val_accuracy: 0.2896\n",
      "Epoch 86/200\n",
      "156/156 [==============================] - 0s 2ms/step - loss: 0.6053 - accuracy: 0.6541 - val_loss: 0.6691 - val_accuracy: 0.2896\n",
      "Epoch 87/200\n",
      "156/156 [==============================] - 0s 2ms/step - loss: 0.6062 - accuracy: 0.6517 - val_loss: 0.6631 - val_accuracy: 0.2990\n",
      "Epoch 88/200\n",
      "156/156 [==============================] - 0s 2ms/step - loss: 0.6042 - accuracy: 0.6536 - val_loss: 0.6706 - val_accuracy: 0.2896\n",
      "Epoch 89/200\n",
      "156/156 [==============================] - 0s 2ms/step - loss: 0.6045 - accuracy: 0.6507 - val_loss: 0.6733 - val_accuracy: 0.2896\n",
      "Epoch 90/200\n",
      "156/156 [==============================] - 0s 2ms/step - loss: 0.6068 - accuracy: 0.6517 - val_loss: 0.6635 - val_accuracy: 0.2896\n",
      "Epoch 91/200\n",
      "156/156 [==============================] - 0s 3ms/step - loss: 0.6067 - accuracy: 0.6508 - val_loss: 0.6663 - val_accuracy: 0.2896\n",
      "Epoch 92/200\n",
      "156/156 [==============================] - 0s 2ms/step - loss: 0.6068 - accuracy: 0.6479 - val_loss: 0.6640 - val_accuracy: 0.2896\n",
      "Epoch 93/200\n",
      "156/156 [==============================] - 0s 2ms/step - loss: 0.6035 - accuracy: 0.6532 - val_loss: 0.6610 - val_accuracy: 0.2990\n",
      "Epoch 94/200\n",
      "156/156 [==============================] - 0s 2ms/step - loss: 0.6067 - accuracy: 0.6537 - val_loss: 0.6779 - val_accuracy: 0.2896\n",
      "Epoch 95/200\n",
      "156/156 [==============================] - 0s 2ms/step - loss: 0.6013 - accuracy: 0.6534 - val_loss: 0.6639 - val_accuracy: 0.2990\n",
      "Epoch 96/200\n",
      "156/156 [==============================] - 0s 2ms/step - loss: 0.6048 - accuracy: 0.6580 - val_loss: 0.6722 - val_accuracy: 0.2896\n",
      "Epoch 97/200\n",
      "156/156 [==============================] - 0s 2ms/step - loss: 0.6024 - accuracy: 0.6531 - val_loss: 0.6675 - val_accuracy: 0.2896\n",
      "Epoch 98/200\n",
      "156/156 [==============================] - 0s 2ms/step - loss: 0.6040 - accuracy: 0.6516 - val_loss: 0.6757 - val_accuracy: 0.2885\n",
      "Epoch 99/200\n",
      "156/156 [==============================] - 0s 3ms/step - loss: 0.6054 - accuracy: 0.6514 - val_loss: 0.6714 - val_accuracy: 0.2885\n",
      "Epoch 100/200\n",
      "156/156 [==============================] - 0s 2ms/step - loss: 0.6051 - accuracy: 0.6508 - val_loss: 0.6721 - val_accuracy: 0.2896\n",
      "Epoch 101/200\n",
      "156/156 [==============================] - 0s 2ms/step - loss: 0.6041 - accuracy: 0.6518 - val_loss: 0.6716 - val_accuracy: 0.2896\n",
      "Epoch 102/200\n",
      "156/156 [==============================] - 0s 2ms/step - loss: 0.6037 - accuracy: 0.6501 - val_loss: 0.6732 - val_accuracy: 0.2896\n",
      "Epoch 103/200\n",
      "156/156 [==============================] - 0s 2ms/step - loss: 0.6037 - accuracy: 0.6543 - val_loss: 0.6582 - val_accuracy: 0.2990\n",
      "Epoch 104/200\n",
      "156/156 [==============================] - 0s 2ms/step - loss: 0.6064 - accuracy: 0.6501 - val_loss: 0.6703 - val_accuracy: 0.2896\n",
      "Epoch 105/200\n",
      "156/156 [==============================] - 0s 2ms/step - loss: 0.6051 - accuracy: 0.6558 - val_loss: 0.6575 - val_accuracy: 0.2896\n",
      "Epoch 106/200\n",
      "156/156 [==============================] - 0s 2ms/step - loss: 0.6037 - accuracy: 0.6511 - val_loss: 0.6537 - val_accuracy: 0.2896\n",
      "Epoch 107/200\n",
      "156/156 [==============================] - 0s 3ms/step - loss: 0.6030 - accuracy: 0.6550 - val_loss: 0.6612 - val_accuracy: 0.2896\n",
      "Epoch 108/200\n",
      "156/156 [==============================] - 0s 2ms/step - loss: 0.6072 - accuracy: 0.6494 - val_loss: 0.6642 - val_accuracy: 0.2896\n",
      "Epoch 109/200\n",
      "156/156 [==============================] - 0s 2ms/step - loss: 0.6046 - accuracy: 0.6528 - val_loss: 0.6636 - val_accuracy: 0.2896\n",
      "Epoch 110/200\n",
      "156/156 [==============================] - 0s 2ms/step - loss: 0.6058 - accuracy: 0.6523 - val_loss: 0.6666 - val_accuracy: 0.2896\n",
      "Epoch 111/200\n",
      "156/156 [==============================] - 0s 2ms/step - loss: 0.6034 - accuracy: 0.6496 - val_loss: 0.6553 - val_accuracy: 0.2990\n",
      "Epoch 112/200\n",
      "156/156 [==============================] - 0s 2ms/step - loss: 0.6056 - accuracy: 0.6494 - val_loss: 0.6569 - val_accuracy: 0.2958\n",
      "Epoch 113/200\n",
      "156/156 [==============================] - 0s 2ms/step - loss: 0.6075 - accuracy: 0.6545 - val_loss: 0.6633 - val_accuracy: 0.2896\n",
      "Epoch 114/200\n",
      "138/156 [=========================>....] - ETA: 0s - loss: 0.6003 - accuracy: 0.6556INFO:tensorflow:Assets written to: /home/paul_d/Sources/sem_math_repo/classification_formulas_binary/wandb/run-20230307_114112-2rwgqg7q/files/model-best/assets\n"
     ]
    },
    {
     "name": "stderr",
     "output_type": "stream",
     "text": [
      "INFO:tensorflow:Assets written to: /home/paul_d/Sources/sem_math_repo/classification_formulas_binary/wandb/run-20230307_114112-2rwgqg7q/files/model-best/assets\n"
     ]
    },
    {
     "name": "stdout",
     "output_type": "stream",
     "text": [
      "156/156 [==============================] - 1s 9ms/step - loss: 0.6025 - accuracy: 0.6547 - val_loss: 0.6502 - val_accuracy: 0.2990\n",
      "Epoch 115/200\n",
      "156/156 [==============================] - 0s 2ms/step - loss: 0.6011 - accuracy: 0.6565 - val_loss: 0.6609 - val_accuracy: 0.2896\n",
      "Epoch 116/200\n",
      "156/156 [==============================] - 0s 2ms/step - loss: 0.6045 - accuracy: 0.6538 - val_loss: 0.6608 - val_accuracy: 0.2958\n",
      "Epoch 117/200\n",
      "156/156 [==============================] - 0s 2ms/step - loss: 0.6055 - accuracy: 0.6532 - val_loss: 0.6533 - val_accuracy: 0.2990\n",
      "Epoch 118/200\n",
      "156/156 [==============================] - 0s 2ms/step - loss: 0.6064 - accuracy: 0.6512 - val_loss: 0.6558 - val_accuracy: 0.2896\n",
      "Epoch 119/200\n",
      "156/156 [==============================] - 0s 2ms/step - loss: 0.6060 - accuracy: 0.6538 - val_loss: 0.6570 - val_accuracy: 0.2896\n",
      "Epoch 120/200\n",
      "156/156 [==============================] - 0s 2ms/step - loss: 0.6038 - accuracy: 0.6520 - val_loss: 0.6693 - val_accuracy: 0.2896\n",
      "Epoch 121/200\n",
      "156/156 [==============================] - 0s 2ms/step - loss: 0.6030 - accuracy: 0.6516 - val_loss: 0.6552 - val_accuracy: 0.2958\n",
      "Epoch 122/200\n",
      "156/156 [==============================] - 0s 3ms/step - loss: 0.6067 - accuracy: 0.6515 - val_loss: 0.6625 - val_accuracy: 0.2896\n",
      "Epoch 123/200\n",
      "156/156 [==============================] - 0s 2ms/step - loss: 0.6028 - accuracy: 0.6538 - val_loss: 0.6593 - val_accuracy: 0.2896\n",
      "Epoch 124/200\n",
      "156/156 [==============================] - 0s 2ms/step - loss: 0.6064 - accuracy: 0.6540 - val_loss: 0.6623 - val_accuracy: 0.2896\n",
      "Epoch 125/200\n",
      "156/156 [==============================] - 0s 3ms/step - loss: 0.6046 - accuracy: 0.6529 - val_loss: 0.6607 - val_accuracy: 0.2958\n",
      "Epoch 126/200\n",
      "156/156 [==============================] - 0s 2ms/step - loss: 0.6059 - accuracy: 0.6512 - val_loss: 0.6682 - val_accuracy: 0.2896\n",
      "Epoch 127/200\n",
      "156/156 [==============================] - 0s 2ms/step - loss: 0.6058 - accuracy: 0.6545 - val_loss: 0.6701 - val_accuracy: 0.2896\n",
      "Epoch 128/200\n",
      "156/156 [==============================] - 0s 2ms/step - loss: 0.6070 - accuracy: 0.6537 - val_loss: 0.6616 - val_accuracy: 0.2958\n",
      "Epoch 129/200\n",
      "156/156 [==============================] - 0s 2ms/step - loss: 0.6046 - accuracy: 0.6526 - val_loss: 0.6684 - val_accuracy: 0.2896\n",
      "Epoch 130/200\n",
      "156/156 [==============================] - 0s 2ms/step - loss: 0.6059 - accuracy: 0.6538 - val_loss: 0.6736 - val_accuracy: 0.2896\n",
      "Epoch 131/200\n",
      "156/156 [==============================] - 0s 3ms/step - loss: 0.6072 - accuracy: 0.6484 - val_loss: 0.6732 - val_accuracy: 0.2896\n",
      "Epoch 132/200\n",
      "156/156 [==============================] - 0s 2ms/step - loss: 0.6044 - accuracy: 0.6502 - val_loss: 0.6719 - val_accuracy: 0.2896\n",
      "Epoch 133/200\n",
      "156/156 [==============================] - 0s 2ms/step - loss: 0.6033 - accuracy: 0.6536 - val_loss: 0.6589 - val_accuracy: 0.2990\n",
      "Epoch 134/200\n",
      "156/156 [==============================] - 0s 2ms/step - loss: 0.6046 - accuracy: 0.6533 - val_loss: 0.6592 - val_accuracy: 0.2990\n",
      "Epoch 135/200\n",
      "156/156 [==============================] - 0s 2ms/step - loss: 0.6041 - accuracy: 0.6486 - val_loss: 0.6774 - val_accuracy: 0.2896\n",
      "Epoch 136/200\n",
      "156/156 [==============================] - 0s 2ms/step - loss: 0.6049 - accuracy: 0.6549 - val_loss: 0.6738 - val_accuracy: 0.2896\n",
      "Epoch 137/200\n",
      "156/156 [==============================] - 0s 3ms/step - loss: 0.6056 - accuracy: 0.6550 - val_loss: 0.6665 - val_accuracy: 0.2896\n",
      "Epoch 138/200\n",
      "156/156 [==============================] - 1s 3ms/step - loss: 0.6047 - accuracy: 0.6501 - val_loss: 0.6817 - val_accuracy: 0.2885\n",
      "Epoch 139/200\n",
      "156/156 [==============================] - 0s 2ms/step - loss: 0.6078 - accuracy: 0.6521 - val_loss: 0.6682 - val_accuracy: 0.2896\n",
      "Epoch 140/200\n",
      "156/156 [==============================] - 0s 2ms/step - loss: 0.6035 - accuracy: 0.6532 - val_loss: 0.6673 - val_accuracy: 0.2896\n",
      "Epoch 141/200\n",
      "156/156 [==============================] - 0s 2ms/step - loss: 0.6044 - accuracy: 0.6525 - val_loss: 0.6631 - val_accuracy: 0.2958\n",
      "Epoch 142/200\n",
      "156/156 [==============================] - 0s 2ms/step - loss: 0.6055 - accuracy: 0.6516 - val_loss: 0.6806 - val_accuracy: 0.2896\n",
      "Epoch 143/200\n",
      "156/156 [==============================] - 0s 2ms/step - loss: 0.6052 - accuracy: 0.6488 - val_loss: 0.6721 - val_accuracy: 0.2896\n",
      "Epoch 144/200\n",
      "156/156 [==============================] - 0s 2ms/step - loss: 0.6051 - accuracy: 0.6524 - val_loss: 0.6734 - val_accuracy: 0.2896\n",
      "Epoch 145/200\n",
      "156/156 [==============================] - 0s 2ms/step - loss: 0.6017 - accuracy: 0.6537 - val_loss: 0.6709 - val_accuracy: 0.2896\n",
      "Epoch 146/200\n",
      "156/156 [==============================] - 0s 2ms/step - loss: 0.6026 - accuracy: 0.6527 - val_loss: 0.6668 - val_accuracy: 0.2990\n",
      "Epoch 147/200\n",
      "156/156 [==============================] - 1s 3ms/step - loss: 0.6052 - accuracy: 0.6528 - val_loss: 0.6674 - val_accuracy: 0.2958\n",
      "Epoch 148/200\n",
      "156/156 [==============================] - 0s 3ms/step - loss: 0.6053 - accuracy: 0.6534 - val_loss: 0.6738 - val_accuracy: 0.2896\n",
      "Epoch 149/200\n",
      "156/156 [==============================] - 0s 2ms/step - loss: 0.6058 - accuracy: 0.6507 - val_loss: 0.6630 - val_accuracy: 0.2896\n",
      "Epoch 150/200\n",
      "156/156 [==============================] - 0s 3ms/step - loss: 0.6049 - accuracy: 0.6517 - val_loss: 0.6705 - val_accuracy: 0.2896\n",
      "Epoch 151/200\n",
      "156/156 [==============================] - 0s 2ms/step - loss: 0.6045 - accuracy: 0.6491 - val_loss: 0.6849 - val_accuracy: 0.2896\n",
      "Epoch 152/200\n",
      "156/156 [==============================] - 0s 2ms/step - loss: 0.6044 - accuracy: 0.6544 - val_loss: 0.6727 - val_accuracy: 0.2896\n",
      "Epoch 153/200\n",
      "156/156 [==============================] - 0s 2ms/step - loss: 0.6043 - accuracy: 0.6534 - val_loss: 0.6633 - val_accuracy: 0.2896\n",
      "Epoch 154/200\n",
      "156/156 [==============================] - 1s 3ms/step - loss: 0.6023 - accuracy: 0.6552 - val_loss: 0.6636 - val_accuracy: 0.2896\n",
      "Epoch 155/200\n",
      "156/156 [==============================] - 0s 3ms/step - loss: 0.6035 - accuracy: 0.6526 - val_loss: 0.6621 - val_accuracy: 0.2896\n",
      "Epoch 156/200\n",
      "156/156 [==============================] - 0s 2ms/step - loss: 0.6044 - accuracy: 0.6557 - val_loss: 0.6642 - val_accuracy: 0.2896\n",
      "Epoch 157/200\n",
      "156/156 [==============================] - 0s 3ms/step - loss: 0.6044 - accuracy: 0.6555 - val_loss: 0.6685 - val_accuracy: 0.2896\n",
      "Epoch 158/200\n",
      "156/156 [==============================] - 0s 2ms/step - loss: 0.6057 - accuracy: 0.6517 - val_loss: 0.6703 - val_accuracy: 0.2896\n",
      "Epoch 159/200\n",
      "156/156 [==============================] - 1s 3ms/step - loss: 0.6053 - accuracy: 0.6543 - val_loss: 0.6576 - val_accuracy: 0.2896\n",
      "Epoch 160/200\n",
      "156/156 [==============================] - 0s 3ms/step - loss: 0.6070 - accuracy: 0.6534 - val_loss: 0.6608 - val_accuracy: 0.2896\n",
      "Epoch 161/200\n",
      "156/156 [==============================] - 1s 3ms/step - loss: 0.6049 - accuracy: 0.6544 - val_loss: 0.6583 - val_accuracy: 0.2896\n",
      "Epoch 162/200\n",
      "156/156 [==============================] - 1s 3ms/step - loss: 0.6039 - accuracy: 0.6530 - val_loss: 0.6700 - val_accuracy: 0.2896\n",
      "Epoch 163/200\n",
      "156/156 [==============================] - 0s 3ms/step - loss: 0.6049 - accuracy: 0.6498 - val_loss: 0.6727 - val_accuracy: 0.2896\n",
      "Epoch 164/200\n",
      "156/156 [==============================] - 0s 3ms/step - loss: 0.6009 - accuracy: 0.6581 - val_loss: 0.6589 - val_accuracy: 0.2896\n",
      "Epoch 165/200\n",
      "156/156 [==============================] - 0s 3ms/step - loss: 0.6036 - accuracy: 0.6530 - val_loss: 0.6625 - val_accuracy: 0.2896\n",
      "Epoch 166/200\n",
      "156/156 [==============================] - 1s 3ms/step - loss: 0.6030 - accuracy: 0.6522 - val_loss: 0.6548 - val_accuracy: 0.2958\n",
      "Epoch 167/200\n",
      "156/156 [==============================] - 0s 3ms/step - loss: 0.6059 - accuracy: 0.6510 - val_loss: 0.6566 - val_accuracy: 0.2958\n",
      "Epoch 168/200\n",
      "156/156 [==============================] - 1s 3ms/step - loss: 0.6071 - accuracy: 0.6517 - val_loss: 0.6552 - val_accuracy: 0.2990\n",
      "Epoch 169/200\n",
      "156/156 [==============================] - 1s 3ms/step - loss: 0.6029 - accuracy: 0.6533 - val_loss: 0.6622 - val_accuracy: 0.2896\n",
      "Epoch 170/200\n",
      "156/156 [==============================] - 0s 3ms/step - loss: 0.6057 - accuracy: 0.6515 - val_loss: 0.6574 - val_accuracy: 0.2958\n",
      "Epoch 171/200\n",
      "156/156 [==============================] - 0s 3ms/step - loss: 0.6063 - accuracy: 0.6540 - val_loss: 0.6661 - val_accuracy: 0.2896\n",
      "Epoch 172/200\n",
      "156/156 [==============================] - 1s 3ms/step - loss: 0.6041 - accuracy: 0.6533 - val_loss: 0.6564 - val_accuracy: 0.2958\n",
      "Epoch 173/200\n",
      "156/156 [==============================] - 1s 4ms/step - loss: 0.6054 - accuracy: 0.6545 - val_loss: 0.6586 - val_accuracy: 0.2896\n",
      "Epoch 174/200\n",
      "156/156 [==============================] - 1s 4ms/step - loss: 0.6026 - accuracy: 0.6510 - val_loss: 0.6648 - val_accuracy: 0.2990\n",
      "Epoch 175/200\n",
      "156/156 [==============================] - 1s 3ms/step - loss: 0.6077 - accuracy: 0.6530 - val_loss: 0.6635 - val_accuracy: 0.2958\n",
      "Epoch 176/200\n",
      "156/156 [==============================] - 0s 3ms/step - loss: 0.6025 - accuracy: 0.6537 - val_loss: 0.6569 - val_accuracy: 0.2958\n",
      "Epoch 177/200\n",
      "156/156 [==============================] - 1s 4ms/step - loss: 0.6044 - accuracy: 0.6523 - val_loss: 0.6702 - val_accuracy: 0.2896\n",
      "Epoch 178/200\n",
      "156/156 [==============================] - 1s 4ms/step - loss: 0.6059 - accuracy: 0.6538 - val_loss: 0.6608 - val_accuracy: 0.2990\n",
      "Epoch 179/200\n",
      "156/156 [==============================] - 1s 3ms/step - loss: 0.6034 - accuracy: 0.6538 - val_loss: 0.6638 - val_accuracy: 0.2958\n",
      "Epoch 180/200\n",
      "156/156 [==============================] - 0s 2ms/step - loss: 0.6008 - accuracy: 0.6516 - val_loss: 0.6526 - val_accuracy: 0.2990\n",
      "Epoch 181/200\n",
      "156/156 [==============================] - 0s 2ms/step - loss: 0.6038 - accuracy: 0.6556 - val_loss: 0.6713 - val_accuracy: 0.2896\n",
      "Epoch 182/200\n",
      "156/156 [==============================] - 0s 3ms/step - loss: 0.6053 - accuracy: 0.6551 - val_loss: 0.6647 - val_accuracy: 0.2896\n",
      "Epoch 183/200\n",
      "156/156 [==============================] - 0s 2ms/step - loss: 0.6013 - accuracy: 0.6567 - val_loss: 0.6569 - val_accuracy: 0.2958\n",
      "Epoch 184/200\n",
      "156/156 [==============================] - 0s 2ms/step - loss: 0.6042 - accuracy: 0.6534 - val_loss: 0.6559 - val_accuracy: 0.2958\n",
      "Epoch 185/200\n",
      "156/156 [==============================] - 0s 2ms/step - loss: 0.6049 - accuracy: 0.6544 - val_loss: 0.6604 - val_accuracy: 0.2958\n",
      "Epoch 186/200\n",
      "156/156 [==============================] - 0s 2ms/step - loss: 0.6046 - accuracy: 0.6511 - val_loss: 0.6650 - val_accuracy: 0.2896\n",
      "Epoch 187/200\n",
      "156/156 [==============================] - 0s 2ms/step - loss: 0.6063 - accuracy: 0.6513 - val_loss: 0.6726 - val_accuracy: 0.2885\n",
      "Epoch 188/200\n",
      "156/156 [==============================] - 0s 2ms/step - loss: 0.6033 - accuracy: 0.6530 - val_loss: 0.6531 - val_accuracy: 0.2990\n",
      "Epoch 189/200\n",
      "156/156 [==============================] - 0s 2ms/step - loss: 0.6026 - accuracy: 0.6523 - val_loss: 0.6645 - val_accuracy: 0.2958\n",
      "Epoch 190/200\n",
      "156/156 [==============================] - 0s 3ms/step - loss: 0.6074 - accuracy: 0.6514 - val_loss: 0.6685 - val_accuracy: 0.2896\n",
      "Epoch 191/200\n",
      "156/156 [==============================] - 0s 2ms/step - loss: 0.6006 - accuracy: 0.6558 - val_loss: 0.6579 - val_accuracy: 0.2990\n",
      "Epoch 192/200\n",
      "156/156 [==============================] - 0s 2ms/step - loss: 0.6041 - accuracy: 0.6529 - val_loss: 0.6506 - val_accuracy: 0.2990\n",
      "Epoch 193/200\n",
      "155/156 [============================>.] - ETA: 0s - loss: 0.6047 - accuracy: 0.6564INFO:tensorflow:Assets written to: /home/paul_d/Sources/sem_math_repo/classification_formulas_binary/wandb/run-20230307_114112-2rwgqg7q/files/model-best/assets\n"
     ]
    },
    {
     "name": "stderr",
     "output_type": "stream",
     "text": [
      "INFO:tensorflow:Assets written to: /home/paul_d/Sources/sem_math_repo/classification_formulas_binary/wandb/run-20230307_114112-2rwgqg7q/files/model-best/assets\n"
     ]
    },
    {
     "name": "stdout",
     "output_type": "stream",
     "text": [
      "156/156 [==============================] - 2s 9ms/step - loss: 0.6050 - accuracy: 0.6550 - val_loss: 0.6493 - val_accuracy: 0.2990\n",
      "Epoch 194/200\n",
      "156/156 [==============================] - 0s 2ms/step - loss: 0.6014 - accuracy: 0.6561 - val_loss: 0.6621 - val_accuracy: 0.2896\n",
      "Epoch 195/200\n",
      "156/156 [==============================] - 0s 2ms/step - loss: 0.6038 - accuracy: 0.6555 - val_loss: 0.6568 - val_accuracy: 0.2896\n",
      "Epoch 196/200\n",
      "156/156 [==============================] - 0s 2ms/step - loss: 0.6035 - accuracy: 0.6556 - val_loss: 0.6653 - val_accuracy: 0.2885\n",
      "Epoch 197/200\n",
      "156/156 [==============================] - 0s 2ms/step - loss: 0.6039 - accuracy: 0.6552 - val_loss: 0.6570 - val_accuracy: 0.2990\n",
      "Epoch 198/200\n",
      "156/156 [==============================] - 0s 2ms/step - loss: 0.6020 - accuracy: 0.6547 - val_loss: 0.6578 - val_accuracy: 0.2990\n",
      "Epoch 199/200\n",
      "156/156 [==============================] - 1s 3ms/step - loss: 0.6061 - accuracy: 0.6523 - val_loss: 0.6495 - val_accuracy: 0.2990\n",
      "Epoch 200/200\n",
      "156/156 [==============================] - 0s 2ms/step - loss: 0.6033 - accuracy: 0.6524 - val_loss: 0.6555 - val_accuracy: 0.2990\n"
     ]
    }
   ],
   "source": [
    "configs_dict = {\n",
    "    \"learning_rate\": LEARNING_RATE,\n",
    "    \"algorithm\": \"LogReg\",\n",
    "    \"configuration\": \"2-types\",\n",
    "    \"optimizer\": \"adam\",\n",
    "    \"loss\": \"binary_crossentropy\",\n",
    "    \"epochs\": NUM_EPOCHS,\n",
    "    \"batch_size\": 64,\n",
    "    \"vectorizer\": \"tf_idf\",\n",
    "    \"dataset\": \"TOKENIZED_SET_V1\"\n",
    "}\n",
    "run = wandb.init(project=wandb_project_name, reinit=True, config=configs_dict)\n",
    "\n",
    "\n",
    "history = model.fit(train_dataset, epochs=NUM_EPOCHS,\n",
    "                    validation_data=test_dataset,\n",
    "                    validation_steps=VAL_STEPS_PER_EPOCH, steps_per_epoch=STEPS_PER_EPOCH,callbacks= [WandbCallback()])#[tensorboard_callback])\n",
    "\n",
    "run.finish()"
   ]
  },
  {
   "cell_type": "code",
   "execution_count": 65,
   "metadata": {},
   "outputs": [
    {
     "name": "stdout",
     "output_type": "stream",
     "text": [
      "15/15 [==============================] - 0s 2ms/step - loss: 0.6555 - accuracy: 0.2990\n",
      "Test Loss: 0.6555359959602356\n",
      "Test Accuracy: 0.29895833134651184\n"
     ]
    }
   ],
   "source": [
    "test_loss, test_acc = model.evaluate(test_dataset)\n",
    "\n",
    "print(\"Test Loss:\", test_loss)\n",
    "print(\"Test Accuracy:\", test_acc)"
   ]
  },
  {
   "cell_type": "code",
   "execution_count": 66,
   "metadata": {},
   "outputs": [
    {
     "data": {
      "text/plain": [
       "(0.0, 0.7445351868867874)"
      ]
     },
     "execution_count": 66,
     "metadata": {},
     "output_type": "execute_result"
    },
    {
     "data": {
      "image/png": "[encoded data removed]",
      "text/plain": [
       "<Figure size 1600x800 with 2 Axes>"
      ]
     },
     "metadata": {},
     "output_type": "display_data"
    }
   ],
   "source": [
    "plt.figure(figsize=(16,8))\n",
    "plt.subplot(1,2,1)\n",
    "plot_graphs(history, \"accuracy\")\n",
    "plt.ylim(None, 1)\n",
    "plt.subplot(1,2,2)\n",
    "plot_graphs(history, \"loss\")\n",
    "plt.ylim(0, None)"
   ]
  },
  {
   "cell_type": "code",
   "execution_count": 67,
   "metadata": {},
   "outputs": [
    {
     "name": "stdout",
     "output_type": "stream",
     "text": [
      "1/1 [==============================] - 0s 74ms/step\n",
      "[-1.1291047]\n"
     ]
    }
   ],
   "source": [
    "# predict on a sample text without padding\n",
    "sample_text = \"set_constant SET_BASIC\"\n",
    "predictions = model.predict(np.array([sample_text]))\n",
    "print(predictions[0])"
   ]
  }
 ],
 "metadata": {
  "kernelspec": {
   "display_name": "sem_math_env",
   "language": "python",
   "name": "python3"
  },
  "language_info": {
   "codemirror_mode": {
    "name": "ipython",
    "version": 3
   },
   "file_extension": ".py",
   "mimetype": "text/x-python",
   "name": "python",
   "nbconvert_exporter": "python",
   "pygments_lexer": "ipython3",
   "version": "3.10.9"
  },
  "orig_nbformat": 4,
  "vscode": {
   "interpreter": {
    "hash": "71a9a05a8d236729134f51de1f1fd612c9215f2a378954bc400639bac96e00eb"
   }
  }
 },
 "nbformat": 4,
 "nbformat_minor": 2
}
