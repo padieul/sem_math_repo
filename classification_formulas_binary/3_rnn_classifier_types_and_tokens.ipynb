{
 "cells": [
  {
   "cell_type": "code",
   "execution_count": 1,
   "metadata": {},
   "outputs": [],
   "source": [
    "import os\n",
    "\n",
    "# takes care of annoying TF-GPU warnings\n",
    "os.environ[\"CUDA_VISIBLE_DEVICES\"] = \"-1\"\n",
    "os.environ[\"TF_CPP_MIN_LOG_LEVEL\"] = \"3\"\n",
    "\n",
    "# remove useless Tensorflow warning:\n",
    "# WARNING:absl:Found untraced functions such as _update_step_xla, lstm_cell_1_layer_call_fn, \n",
    "# lstm_cell_1_layer_call_and_return_conditional_losses, lstm_cell_2_layer_call_fn, \n",
    "# lstm_cell_2_layer_call_and_return_conditional_losses while saving (showing 5 of 5). \n",
    "# These functions will not be directly callable after loading.\n",
    "import absl.logging\n",
    "absl.logging.set_verbosity(absl.logging.ERROR)"
   ]
  },
  {
   "cell_type": "code",
   "execution_count": 2,
   "metadata": {},
   "outputs": [],
   "source": [
    "# very useful for managing wandb runs: https://stackoverflow.com/questions/71106179/log-two-model-runs-with-keras-wandb\n",
    "import wandb\n",
    "from wandb.keras import WandbCallback\n",
    "os.environ[\"WANDB_SILENT\"] = \"true\""
   ]
  },
  {
   "attachments": {},
   "cell_type": "markdown",
   "metadata": {},
   "source": [
    "#### RNN: Formula Label Prediction (Variant 3: Stream of math types and tokens)"
   ]
  },
  {
   "cell_type": "code",
   "execution_count": 3,
   "metadata": {},
   "outputs": [],
   "source": [
    "import numpy as np \n",
    "import pandas as pd\n",
    "from pathlib import Path \n",
    "\n",
    "import tensorflow as tf\n",
    "\n",
    "import tensorflow_datasets as tfds\n",
    "import tensorflow_text as tf_text\n",
    "\n",
    "import datetime\n",
    "\n",
    "tfds.disable_progress_bar()\n",
    "wandb_project_name = \"binary_formula_classification\""
   ]
  },
  {
   "cell_type": "code",
   "execution_count": 4,
   "metadata": {},
   "outputs": [],
   "source": [
    "import matplotlib.pyplot as plt\n",
    "\n",
    "def plot_graphs(history, metric):\n",
    "    plt.plot(history.history[metric])\n",
    "    plt.plot(history.history[\"val_\"+metric], \"\")\n",
    "    plt.xlabel(\"Epochs\")\n",
    "    plt.ylabel(metric)\n",
    "    plt.legend([metric, \"val_\"+metric])"
   ]
  },
  {
   "attachments": {},
   "cell_type": "markdown",
   "metadata": {},
   "source": [
    "#### Import Data and Preprocess Dataframe"
   ]
  },
  {
   "cell_type": "code",
   "execution_count": 5,
   "metadata": {},
   "outputs": [],
   "source": [
    "def preprocess_data(corpus,\n",
    "                    irrelevant_features=[\"mtype\",]):\n",
    "    # drop irrelevant columns\n",
    "    corpus.drop(irrelevant_features, inplace=True, axis=1)\n",
    "\n",
    "    # filter strings\n",
    "    def process_cell(cell_str):\n",
    "        stripped_f_str = cell_str[1:-1].replace(\"\\\\\\\\\", \"\\\\\")\n",
    "        f_list = stripped_f_str.split(\",\")\n",
    "        f_list = [token.replace(\"'\", \"\").replace(\" \", \"\") for token in f_list]\n",
    "        f_list = [\"{\" if token == \"\\\\{\" else token for token in f_list]\n",
    "        f_list = [\"}\" if token == \"\\\\}\" else token for token in f_list]\n",
    "        cell_str = \" \".join(f_list)\n",
    "        return cell_str\n",
    "\n",
    "    corpus[\"type_tokens\"] = corpus[\"type_tokens\"].map(process_cell)\n",
    "    corpus[\"tokens\"] = corpus[\"tokens\"].map(process_cell)"
   ]
  },
  {
   "cell_type": "code",
   "execution_count": 6,
   "metadata": {},
   "outputs": [
    {
     "data": {
      "text/html": [
       "<div>\n",
       "<style scoped>\n",
       "    .dataframe tbody tr th:only-of-type {\n",
       "        vertical-align: middle;\n",
       "    }\n",
       "\n",
       "    .dataframe tbody tr th {\n",
       "        vertical-align: top;\n",
       "    }\n",
       "\n",
       "    .dataframe thead th {\n",
       "        text-align: right;\n",
       "    }\n",
       "</style>\n",
       "<table border=\"1\" class=\"dataframe\">\n",
       "  <thead>\n",
       "    <tr style=\"text-align: right;\">\n",
       "      <th></th>\n",
       "      <th>tokens</th>\n",
       "      <th>type_tokens</th>\n",
       "      <th>label</th>\n",
       "    </tr>\n",
       "  </thead>\n",
       "  <tbody>\n",
       "    <tr>\n",
       "      <th>0</th>\n",
       "      <td>f : A \\to B</td>\n",
       "      <td>func_def func_name __ANON_1 COLON mapping __AN...</td>\n",
       "      <td>1</td>\n",
       "    </tr>\n",
       "    <tr>\n",
       "      <th>1</th>\n",
       "      <td>f</td>\n",
       "      <td>func_name __ANON_1</td>\n",
       "      <td>1</td>\n",
       "    </tr>\n",
       "    <tr>\n",
       "      <th>2</th>\n",
       "      <td>g \\colon B \\to I</td>\n",
       "      <td>func_def func_name __ANON_1 COLON mapping __AN...</td>\n",
       "      <td>1</td>\n",
       "    </tr>\n",
       "    <tr>\n",
       "      <th>3</th>\n",
       "      <td>\\frac { 8 ! } { ( 8 - 4 ) ! }</td>\n",
       "      <td>expr_atom CMD_FRAC L_BRACE postfix expr_atom _...</td>\n",
       "      <td>1</td>\n",
       "    </tr>\n",
       "    <tr>\n",
       "      <th>4</th>\n",
       "      <td>f</td>\n",
       "      <td>func_name __ANON_1</td>\n",
       "      <td>1</td>\n",
       "    </tr>\n",
       "  </tbody>\n",
       "</table>\n",
       "</div>"
      ],
      "text/plain": [
       "                          tokens  \\\n",
       "0                    f : A \\to B   \n",
       "1                              f   \n",
       "2               g \\colon B \\to I   \n",
       "3  \\frac { 8 ! } { ( 8 - 4 ) ! }   \n",
       "4                              f   \n",
       "\n",
       "                                         type_tokens  label  \n",
       "0  func_def func_name __ANON_1 COLON mapping __AN...      1  \n",
       "1                                 func_name __ANON_1      1  \n",
       "2  func_def func_name __ANON_1 COLON mapping __AN...      1  \n",
       "3  expr_atom CMD_FRAC L_BRACE postfix expr_atom _...      1  \n",
       "4                                 func_name __ANON_1      1  "
      ]
     },
     "execution_count": 6,
     "metadata": {},
     "output_type": "execute_result"
    }
   ],
   "source": [
    "#print(os.getcwd())\n",
    "data_p = Path(\"../data/\") / \"bin_class_data_TOKENIZED_SET_V1.csv\"\n",
    "data = pd.read_csv(data_p)\n",
    "preprocess_data(data)\n",
    "data.head()"
   ]
  },
  {
   "cell_type": "code",
   "execution_count": 7,
   "metadata": {},
   "outputs": [
    {
     "name": "stdout",
     "output_type": "stream",
     "text": [
      "126\n",
      "104\n"
     ]
    }
   ],
   "source": [
    "print(data[\"type_tokens\"].map(lambda x: len((x.split(\" \")))).max())\n",
    "print(data[\"tokens\"].map(lambda x: len((x.split(\" \")))).max())"
   ]
  },
  {
   "cell_type": "code",
   "execution_count": 8,
   "metadata": {},
   "outputs": [],
   "source": [
    "SIZE_TRAIN_DS = 10000\n",
    "SIZE_TEST_DS = 1000\n",
    "data_as_ds = tf.data.Dataset.from_tensor_slices((data[\"tokens\"],data[\"type_tokens\"]))\n",
    "labels_ds = tf.data.Dataset.from_tensor_slices(data[\"label\"])\n",
    "data_as_ds = tf.data.Dataset.zip((data_as_ds, labels_ds))\n",
    "test_dataset = data_as_ds.take(SIZE_TEST_DS)\n",
    "train_dataset = data_as_ds.skip(SIZE_TEST_DS)"
   ]
  },
  {
   "cell_type": "code",
   "execution_count": 9,
   "metadata": {},
   "outputs": [
    {
     "data": {
      "text/plain": [
       "((TensorSpec(shape=(), dtype=tf.string, name=None),\n",
       "  TensorSpec(shape=(), dtype=tf.string, name=None)),\n",
       " TensorSpec(shape=(), dtype=tf.int64, name=None))"
      ]
     },
     "execution_count": 9,
     "metadata": {},
     "output_type": "execute_result"
    }
   ],
   "source": [
    "data_as_ds.element_spec"
   ]
  },
  {
   "attachments": {},
   "cell_type": "markdown",
   "metadata": {},
   "source": [
    "##### Setup and Data Preparation"
   ]
  },
  {
   "cell_type": "code",
   "execution_count": 10,
   "metadata": {},
   "outputs": [
    {
     "name": "stdout",
     "output_type": "stream",
     "text": [
      "text:  b'f'\n",
      "type:  b'func_name __ANON_1'\n",
      "label:  1\n",
      "text:  b'f'\n",
      "type:  b'func_name __ANON_1'\n",
      "label:  1\n",
      "text:  b'f : X \\\\rightarrow Y'\n",
      "type:  b'func_def func_name __ANON_1 COLON mapping __ANON_0 TO __ANON_0'\n",
      "label:  1\n",
      "text:  b'mathbb{R'\n",
      "type:  b'set_constant SET_BASIC'\n",
      "label:  1\n",
      "text:  b'g : \\\\mathbb{N} \\\\to X'\n",
      "type:  b'func_def func_name __ANON_1 COLON mapping set_constant SET_BASIC TO __ANON_0'\n",
      "label:  1\n"
     ]
    }
   ],
   "source": [
    "for (example_token, example_type), label in train_dataset.take(5):\n",
    "    print(\"text: \", example_token.numpy())\n",
    "    print(\"type: \", example_type.numpy())\n",
    "    print(\"label: \", label.numpy())"
   ]
  },
  {
   "cell_type": "code",
   "execution_count": 11,
   "metadata": {},
   "outputs": [],
   "source": [
    "BUFFER_SIZE = SIZE_TRAIN_DS\n",
    "BATCH_SIZE = 64\n",
    "STEPS_PER_EPOCH = np.floor(SIZE_TRAIN_DS/BATCH_SIZE)\n",
    "VAL_STEPS_PER_EPOCH = np.floor(SIZE_TEST_DS/BATCH_SIZE)\n",
    "train_dataset = train_dataset.shuffle(BUFFER_SIZE).batch(BATCH_SIZE, drop_remainder=True).prefetch(tf.data.AUTOTUNE)\n",
    "test_dataset = test_dataset.batch(BATCH_SIZE, drop_remainder=True).prefetch(tf.data.AUTOTUNE)"
   ]
  },
  {
   "attachments": {},
   "cell_type": "markdown",
   "metadata": {},
   "source": [
    "##### Text Encoding"
   ]
  },
  {
   "cell_type": "code",
   "execution_count": 12,
   "metadata": {},
   "outputs": [],
   "source": [
    "# for int encoder\n",
    "TYPE_TOKENS_MAX_SEQ_LEN = 130 \n",
    "TOKENS_MAX_SEQ_LEN = 110\n",
    "\n",
    "# for other encoders \n",
    "TYPE_TOKENS_PAD_TO_MAX_TOKENS = 100 \n",
    "TOKENS_PAD_TO_MAX_TOKENS = 150\n",
    "BIGRAM_PAD_TO_MAX_TOKENS = 350"
   ]
  },
  {
   "cell_type": "code",
   "execution_count": 13,
   "metadata": {},
   "outputs": [],
   "source": [
    "def create_encoder(output_mode_str, n_grams, mode):\n",
    "    if output_mode_str == \"int\":\n",
    "        VOCAB_SIZE = 200\n",
    "        if mode == \"token\":\n",
    "            max_seq_len = TOKENS_MAX_SEQ_LEN\n",
    "        elif mode == \"type\":\n",
    "            max_seq_len = TYPE_TOKENS_MAX_SEQ_LEN\n",
    "\n",
    "        encoder = tf.keras.layers.TextVectorization(\n",
    "            standardize=None,\n",
    "            output_mode=output_mode_str,\n",
    "            ngrams = n_grams,\n",
    "            output_sequence_length = max_seq_len,\n",
    "            split=\"whitespace\",\n",
    "            max_tokens=VOCAB_SIZE)\n",
    "        #TODO: adapt for different inputs\n",
    "        if mode == \"token\": \n",
    "            encoder.adapt(train_dataset.map(lambda inputs, label: inputs[0])) # removes the label column through transformation: text, label -> text\n",
    "        elif mode == \"type\":\n",
    "            encoder.adapt(train_dataset.map(lambda inputs, label: inputs[1])) # removes the label column through transformation: text, label -> text\n",
    "        return encoder\n",
    "    \n",
    "    if output_mode_str == \"count\" and n_grams == 2:\n",
    "        max_seq_len = BIGRAM_PAD_TO_MAX_TOKENS\n",
    "        encoder = tf.keras.layers.TextVectorization(\n",
    "            standardize=None,\n",
    "            output_mode=output_mode_str,\n",
    "            ngrams = n_grams,\n",
    "            pad_to_max_tokens = max_seq_len,\n",
    "            split=\"whitespace\",\n",
    "            max_tokens=max_seq_len)\n",
    "        \n",
    "        #TODO: adapt for different inputs\n",
    "        if mode == \"token\": \n",
    "            encoder.adapt(train_dataset.map(lambda inputs, label: inputs[0])) # removes the label column through transformation: text, label -> text\n",
    "        elif mode == \"type\":\n",
    "            encoder.adapt(train_dataset.map(lambda inputs, label: inputs[1])) # removes the label column through transformation: text, label -> text\n",
    "        return encoder\n",
    "    \n",
    "    if mode == \"token\":\n",
    "        max_seq_len = TOKENS_PAD_TO_MAX_TOKENS\n",
    "    elif mode == \"type\":\n",
    "        max_seq_len = TYPE_TOKENS_PAD_TO_MAX_TOKENS\n",
    "\n",
    "    encoder = tf.keras.layers.TextVectorization(\n",
    "        standardize=None,\n",
    "        output_mode=output_mode_str,\n",
    "        ngrams = n_grams,\n",
    "        pad_to_max_tokens = max_seq_len,\n",
    "        split=\"whitespace\",\n",
    "        max_tokens=max_seq_len)\n",
    "    #TODO: adapt for different inputs\n",
    "    if mode == \"token\": \n",
    "        encoder.adapt(train_dataset.map(lambda inputs, label: inputs[0])) # removes the label column through transformation: text, label -> text\n",
    "    elif mode == \"type\":\n",
    "        encoder.adapt(train_dataset.map(lambda inputs, label: inputs[1])) # removes the label column through transformation: text, label -> text\n",
    "    \n",
    "    return encoder\n",
    "\n",
    "\n",
    "    "
   ]
  },
  {
   "attachments": {},
   "cell_type": "markdown",
   "metadata": {},
   "source": [
    "##### Representation 1: Use integer indices encoding"
   ]
  },
  {
   "cell_type": "code",
   "execution_count": 14,
   "metadata": {},
   "outputs": [
    {
     "name": "stdout",
     "output_type": "stream",
     "text": [
      "WARNING:tensorflow:From /home/paul_d/Sources/sem_math_repo/sem_math_env/lib/python3.10/site-packages/tensorflow/python/autograph/pyct/static_analysis/liveness.py:83: Analyzer.lamba_check (from tensorflow.python.autograph.pyct.static_analysis.liveness) is deprecated and will be removed after 2023-09-23.\n",
      "Instructions for updating:\n",
      "Lambda fuctions will be no more assumed to be used in the statement where they are used, or at least in the same block. https://github.com/tensorflow/tensorflow/issues/56089\n",
      "tokens (voc size):  123\n",
      "types (voc size):  59\n"
     ]
    }
   ],
   "source": [
    "encoder_int_tokens = create_encoder(\"int\", None, \"token\")\n",
    "encoder_int_types = create_encoder(\"int\", None, \"type\")\n",
    "\n",
    "vocab_tokens = np.array(encoder_int_tokens.get_vocabulary())\n",
    "vocab_size_tokens = len(encoder_int_tokens.get_vocabulary())\n",
    "vocab_types = np.array(encoder_int_types.get_vocabulary())\n",
    "vocab_size_types = len(encoder_int_types.get_vocabulary())\n",
    "\n",
    "print(\"tokens (voc size): \", vocab_size_tokens)\n",
    "print(\"types (voc size): \", vocab_size_types)"
   ]
  },
  {
   "cell_type": "code",
   "execution_count": 15,
   "metadata": {},
   "outputs": [
    {
     "name": "stdout",
     "output_type": "stream",
     "text": [
      "tokens: \n",
      "tf.Tensor(b'g : \\\\mathbb{N} \\\\to X', shape=(), dtype=string)\n",
      "[18  8 34 13 23  0  0  0  0  0  0  0  0  0  0  0  0  0  0  0  0  0  0  0\n",
      "  0  0  0  0  0  0  0  0  0  0  0  0  0  0  0  0  0  0  0  0  0  0  0  0\n",
      "  0  0  0  0  0  0  0  0  0  0  0  0  0  0  0  0  0  0  0  0  0  0  0  0\n",
      "  0  0  0  0  0  0  0  0  0  0  0  0  0  0  0  0  0  0  0  0  0  0  0  0\n",
      "  0  0  0  0  0  0  0  0  0  0  0  0  0  0]\n",
      "(110,)\n",
      "types: \n",
      "tf.Tensor(b'func_def func_name __ANON_1 COLON mapping set_constant SET_BASIC TO __ANON_0', shape=(), dtype=string)\n",
      "[ 9  5  2  7  8 21 22 10  6  0  0  0  0  0  0  0  0  0  0  0  0  0  0  0\n",
      "  0  0  0  0  0  0  0  0  0  0  0  0  0  0  0  0  0  0  0  0  0  0  0  0\n",
      "  0  0  0  0  0  0  0  0  0  0  0  0  0  0  0  0  0  0  0  0  0  0  0  0\n",
      "  0  0  0  0  0  0  0  0  0  0  0  0  0  0  0  0  0  0  0  0  0  0  0  0\n",
      "  0  0  0  0  0  0  0  0  0  0  0  0  0  0  0  0  0  0  0  0  0  0  0  0\n",
      "  0  0  0  0  0  0  0  0  0  0]\n",
      "(130,)\n"
     ]
    }
   ],
   "source": [
    "encoded_example_token = encoder_int_tokens(example_token).numpy()\n",
    "encoded_example_types = encoder_int_types(example_type).numpy()\n",
    "\n",
    "print(\"tokens: \")\n",
    "print(example_token)\n",
    "print(encoded_example_token)\n",
    "print(encoded_example_token.shape)\n",
    "\n",
    "print(\"types: \")\n",
    "print(example_type)\n",
    "print(encoded_example_types)\n",
    "print(encoded_example_types.shape)"
   ]
  },
  {
   "attachments": {},
   "cell_type": "markdown",
   "metadata": {},
   "source": [
    "##### Representation 2: Binary Count Vectorizer"
   ]
  },
  {
   "cell_type": "code",
   "execution_count": 16,
   "metadata": {},
   "outputs": [
    {
     "name": "stdout",
     "output_type": "stream",
     "text": [
      "tokens (voc size):  122\n",
      "types (voc size):  58\n"
     ]
    }
   ],
   "source": [
    "encoder_multi_hot_tokens = create_encoder(\"multi_hot\", None, \"token\")\n",
    "encoder_multi_hot_types = create_encoder(\"multi_hot\", None, \"type\")\n",
    "\n",
    "vocab_tokens = np.array(encoder_multi_hot_tokens.get_vocabulary())\n",
    "vocab_size_tokens = len(encoder_multi_hot_tokens.get_vocabulary())\n",
    "vocab_types = np.array(encoder_multi_hot_types.get_vocabulary())\n",
    "vocab_size_types = len(encoder_multi_hot_types.get_vocabulary())\n",
    "\n",
    "print(\"tokens (voc size): \", vocab_size_tokens)\n",
    "print(\"types (voc size): \", vocab_size_types)"
   ]
  },
  {
   "cell_type": "code",
   "execution_count": 17,
   "metadata": {},
   "outputs": [
    {
     "name": "stdout",
     "output_type": "stream",
     "text": [
      "tokens: \n",
      "tf.Tensor(b'g : \\\\mathbb{N} \\\\to X', shape=(), dtype=string)\n",
      "[0. 0. 0. 0. 0. 0. 0. 1. 0. 0. 0. 0. 1. 0. 0. 0. 0. 1. 0. 0. 0. 0. 1. 0.\n",
      " 0. 0. 0. 0. 0. 0. 0. 0. 0. 1. 0. 0. 0. 0. 0. 0. 0. 0. 0. 0. 0. 0. 0. 0.\n",
      " 0. 0. 0. 0. 0. 0. 0. 0. 0. 0. 0. 0. 0. 0. 0. 0. 0. 0. 0. 0. 0. 0. 0. 0.\n",
      " 0. 0. 0. 0. 0. 0. 0. 0. 0. 0. 0. 0. 0. 0. 0. 0. 0. 0. 0. 0. 0. 0. 0. 0.\n",
      " 0. 0. 0. 0. 0. 0. 0. 0. 0. 0. 0. 0. 0. 0. 0. 0. 0. 0. 0. 0. 0. 0. 0. 0.\n",
      " 0. 0. 0. 0. 0. 0. 0. 0. 0. 0. 0. 0. 0. 0. 0. 0. 0. 0. 0. 0. 0. 0. 0. 0.\n",
      " 0. 0. 0. 0. 0. 0.]\n",
      "(150,)\n",
      "types: \n",
      "tf.Tensor(b'func_def func_name __ANON_1 COLON mapping set_constant SET_BASIC TO __ANON_0', shape=(), dtype=string)\n",
      "[0. 1. 0. 0. 1. 1. 1. 1. 1. 1. 0. 0. 0. 0. 0. 0. 0. 0. 0. 0. 1. 1. 0. 0.\n",
      " 0. 0. 0. 0. 0. 0. 0. 0. 0. 0. 0. 0. 0. 0. 0. 0. 0. 0. 0. 0. 0. 0. 0. 0.\n",
      " 0. 0. 0. 0. 0. 0. 0. 0. 0. 0. 0. 0. 0. 0. 0. 0. 0. 0. 0. 0. 0. 0. 0. 0.\n",
      " 0. 0. 0. 0. 0. 0. 0. 0. 0. 0. 0. 0. 0. 0. 0. 0. 0. 0. 0. 0. 0. 0. 0. 0.\n",
      " 0. 0. 0. 0.]\n",
      "(100,)\n"
     ]
    }
   ],
   "source": [
    "encoded_example_token = encoder_multi_hot_tokens(example_token).numpy()\n",
    "encoded_example_types = encoder_multi_hot_types(example_type).numpy()\n",
    "\n",
    "print(\"tokens: \")\n",
    "print(example_token)\n",
    "print(encoded_example_token)\n",
    "print(encoded_example_token.shape)\n",
    "\n",
    "print(\"types: \")\n",
    "print(example_type)\n",
    "print(encoded_example_types)\n",
    "print(encoded_example_types.shape)"
   ]
  },
  {
   "attachments": {},
   "cell_type": "markdown",
   "metadata": {},
   "source": [
    "##### Representation 3: Frequency Count Vectorizer"
   ]
  },
  {
   "cell_type": "code",
   "execution_count": 18,
   "metadata": {},
   "outputs": [
    {
     "name": "stdout",
     "output_type": "stream",
     "text": [
      "tokens (voc size):  122\n",
      "types (voc size):  58\n"
     ]
    }
   ],
   "source": [
    "encoder_count_tokens = create_encoder(\"count\", None, \"token\")\n",
    "encoder_count_types = create_encoder(\"count\", None, \"type\")\n",
    "\n",
    "vocab_tokens = np.array(encoder_count_tokens.get_vocabulary())\n",
    "vocab_size_tokens = len(encoder_count_tokens.get_vocabulary())\n",
    "vocab_types = np.array(encoder_count_types.get_vocabulary())\n",
    "vocab_size_types = len(encoder_count_types.get_vocabulary())\n",
    "\n",
    "print(\"tokens (voc size): \", vocab_size_tokens)\n",
    "print(\"types (voc size): \", vocab_size_types)"
   ]
  },
  {
   "cell_type": "code",
   "execution_count": 19,
   "metadata": {},
   "outputs": [
    {
     "name": "stdout",
     "output_type": "stream",
     "text": [
      "tokens: \n",
      "tf.Tensor(b'g : \\\\mathbb{N} \\\\to X', shape=(), dtype=string)\n",
      "[0. 0. 0. 0. 0. 0. 0. 1. 0. 0. 0. 0. 1. 0. 0. 0. 0. 1. 0. 0. 0. 0. 1. 0.\n",
      " 0. 0. 0. 0. 0. 0. 0. 0. 0. 1. 0. 0. 0. 0. 0. 0. 0. 0. 0. 0. 0. 0. 0. 0.\n",
      " 0. 0. 0. 0. 0. 0. 0. 0. 0. 0. 0. 0. 0. 0. 0. 0. 0. 0. 0. 0. 0. 0. 0. 0.\n",
      " 0. 0. 0. 0. 0. 0. 0. 0. 0. 0. 0. 0. 0. 0. 0. 0. 0. 0. 0. 0. 0. 0. 0. 0.\n",
      " 0. 0. 0. 0. 0. 0. 0. 0. 0. 0. 0. 0. 0. 0. 0. 0. 0. 0. 0. 0. 0. 0. 0. 0.\n",
      " 0. 0. 0. 0. 0. 0. 0. 0. 0. 0. 0. 0. 0. 0. 0. 0. 0. 0. 0. 0. 0. 0. 0. 0.\n",
      " 0. 0. 0. 0. 0. 0.]\n",
      "(150,)\n",
      "types: \n",
      "tf.Tensor(b'func_def func_name __ANON_1 COLON mapping set_constant SET_BASIC TO __ANON_0', shape=(), dtype=string)\n",
      "[0. 1. 0. 0. 1. 1. 1. 1. 1. 1. 0. 0. 0. 0. 0. 0. 0. 0. 0. 0. 1. 1. 0. 0.\n",
      " 0. 0. 0. 0. 0. 0. 0. 0. 0. 0. 0. 0. 0. 0. 0. 0. 0. 0. 0. 0. 0. 0. 0. 0.\n",
      " 0. 0. 0. 0. 0. 0. 0. 0. 0. 0. 0. 0. 0. 0. 0. 0. 0. 0. 0. 0. 0. 0. 0. 0.\n",
      " 0. 0. 0. 0. 0. 0. 0. 0. 0. 0. 0. 0. 0. 0. 0. 0. 0. 0. 0. 0. 0. 0. 0. 0.\n",
      " 0. 0. 0. 0.]\n",
      "(100,)\n"
     ]
    }
   ],
   "source": [
    "encoded_example_token = encoder_count_tokens(example_token).numpy()\n",
    "encoded_example_types = encoder_count_types(example_type).numpy()\n",
    "\n",
    "print(\"tokens: \")\n",
    "print(example_token)\n",
    "print(encoded_example_token)\n",
    "print(encoded_example_token.shape)\n",
    "\n",
    "print(\"types: \")\n",
    "print(example_type)\n",
    "print(encoded_example_types)\n",
    "print(encoded_example_types.shape)"
   ]
  },
  {
   "attachments": {},
   "cell_type": "markdown",
   "metadata": {},
   "source": [
    "##### Representation 4: Bigrams Frequency Count Vectorizer"
   ]
  },
  {
   "cell_type": "code",
   "execution_count": 20,
   "metadata": {},
   "outputs": [
    {
     "name": "stdout",
     "output_type": "stream",
     "text": [
      "tokens (voc size):  350\n",
      "types (voc size):  350\n"
     ]
    }
   ],
   "source": [
    "encoder_bigrams_tokens = create_encoder(\"count\", (2), \"token\")\n",
    "encoder_bigrams_types = create_encoder(\"count\", (2), \"type\")\n",
    "\n",
    "vocab_tokens = np.array(encoder_bigrams_tokens.get_vocabulary())\n",
    "vocab_size_tokens = len(encoder_bigrams_tokens.get_vocabulary())\n",
    "vocab_types = np.array(encoder_bigrams_types.get_vocabulary())\n",
    "vocab_size_types = len(encoder_bigrams_types.get_vocabulary())\n",
    "\n",
    "print(\"tokens (voc size): \", vocab_size_tokens)\n",
    "print(\"types (voc size): \", vocab_size_types)"
   ]
  },
  {
   "cell_type": "code",
   "execution_count": 21,
   "metadata": {},
   "outputs": [
    {
     "name": "stdout",
     "output_type": "stream",
     "text": [
      "tokens: \n",
      "tf.Tensor(b'g : \\\\mathbb{N} \\\\to X', shape=(), dtype=string)\n",
      "[0. 0. 0. 0. 0. 0. 0. 1. 0. 0. 0. 0. 1. 0. 0. 0. 0. 0. 1. 0. 0. 0. 0. 0.\n",
      " 0. 0. 1. 0. 0. 0. 0. 0. 0. 0. 0. 0. 0. 0. 0. 0. 0. 0. 0. 0. 0. 1. 0. 0.\n",
      " 0. 0. 0. 0. 0. 0. 0. 0. 0. 0. 0. 0. 0. 1. 0. 0. 0. 0. 0. 0. 0. 0. 0. 0.\n",
      " 0. 0. 0. 0. 0. 0. 0. 0. 0. 0. 0. 0. 0. 0. 0. 0. 1. 0. 0. 0. 0. 0. 0. 0.\n",
      " 0. 0. 0. 0. 0. 0. 0. 0. 0. 0. 0. 1. 0. 0. 0. 0. 0. 0. 0. 0. 0. 0. 0. 0.\n",
      " 0. 0. 0. 0. 0. 0. 1. 0. 0. 0. 0. 0. 0. 0. 0. 0. 0. 0. 0. 0. 0. 0. 0. 0.\n",
      " 0. 0. 0. 0. 0. 0. 0. 0. 0. 0. 0. 0. 0. 0. 0. 0. 0. 0. 0. 0. 0. 0. 0. 0.\n",
      " 0. 0. 0. 0. 0. 0. 0. 0. 0. 0. 0. 0. 0. 0. 0. 0. 0. 0. 0. 0. 0. 0. 0. 0.\n",
      " 0. 0. 0. 0. 0. 0. 0. 0. 0. 0. 0. 0. 0. 0. 0. 0. 0. 0. 0. 0. 0. 0. 0. 0.\n",
      " 0. 0. 0. 0. 0. 0. 0. 0. 0. 0. 0. 0. 0. 0. 0. 0. 0. 0. 0. 0. 0. 0. 0. 0.\n",
      " 0. 0. 0. 0. 0. 0. 0. 0. 0. 0. 0. 0. 0. 0. 0. 0. 0. 0. 0. 0. 0. 0. 0. 0.\n",
      " 0. 0. 0. 0. 0. 0. 0. 0. 0. 0. 0. 0. 0. 0. 0. 0. 0. 0. 0. 0. 0. 0. 0. 0.\n",
      " 0. 0. 0. 0. 0. 0. 0. 0. 0. 0. 0. 0. 0. 0. 0. 0. 0. 0. 0. 0. 0. 0. 0. 0.\n",
      " 0. 0. 0. 0. 0. 0. 0. 0. 0. 0. 0. 0. 0. 0. 0. 0. 0. 0. 0. 0. 0. 0. 0. 0.\n",
      " 0. 0. 0. 0. 0. 0. 0. 0. 0. 0. 0. 0. 0. 0.]\n",
      "(350,)\n",
      "types: \n",
      "tf.Tensor(b'func_def func_name __ANON_1 COLON mapping set_constant SET_BASIC TO __ANON_0', shape=(), dtype=string)\n",
      "[0. 1. 0. 0. 1. 1. 0. 1. 0. 1. 1. 1. 1. 1. 1. 1. 0. 0. 0. 0. 0. 0. 0. 0.\n",
      " 0. 0. 0. 0. 1. 0. 0. 0. 1. 1. 1. 0. 0. 0. 0. 0. 0. 0. 0. 0. 0. 0. 0. 0.\n",
      " 0. 0. 0. 0. 0. 0. 0. 0. 0. 0. 0. 0. 0. 0. 0. 0. 0. 0. 0. 0. 0. 0. 0. 0.\n",
      " 0. 0. 0. 0. 0. 0. 0. 0. 0. 0. 0. 1. 0. 0. 0. 1. 0. 0. 0. 0. 0. 0. 0. 0.\n",
      " 0. 0. 0. 0. 0. 0. 0. 0. 0. 0. 0. 0. 0. 0. 0. 0. 0. 0. 0. 0. 0. 0. 0. 0.\n",
      " 0. 0. 0. 0. 0. 0. 0. 0. 0. 0. 0. 0. 0. 0. 0. 0. 0. 0. 0. 0. 0. 0. 0. 0.\n",
      " 0. 0. 0. 0. 0. 0. 0. 0. 0. 0. 0. 0. 0. 0. 0. 0. 0. 0. 0. 0. 0. 0. 0. 0.\n",
      " 0. 0. 0. 0. 0. 0. 0. 0. 0. 0. 0. 0. 0. 0. 0. 0. 0. 0. 0. 0. 0. 0. 0. 0.\n",
      " 0. 0. 0. 0. 0. 0. 0. 0. 0. 0. 0. 0. 0. 0. 0. 0. 0. 0. 0. 0. 0. 0. 0. 0.\n",
      " 0. 0. 0. 0. 0. 0. 0. 0. 0. 0. 0. 0. 0. 0. 0. 0. 0. 0. 0. 0. 0. 0. 0. 0.\n",
      " 0. 0. 0. 0. 0. 0. 0. 0. 0. 0. 0. 0. 0. 0. 0. 0. 0. 0. 0. 0. 0. 0. 0. 0.\n",
      " 0. 0. 0. 0. 0. 0. 0. 0. 0. 0. 0. 0. 0. 0. 0. 0. 0. 0. 0. 0. 0. 0. 0. 0.\n",
      " 0. 0. 0. 0. 0. 0. 0. 0. 0. 0. 0. 0. 0. 0. 0. 0. 0. 0. 0. 0. 0. 0. 0. 0.\n",
      " 0. 0. 0. 0. 0. 0. 0. 0. 0. 0. 0. 0. 0. 0. 0. 0. 0. 0. 0. 0. 0. 0. 0. 0.\n",
      " 0. 0. 0. 0. 0. 0. 0. 0. 0. 0. 0. 0. 0. 0.]\n",
      "(350,)\n"
     ]
    }
   ],
   "source": [
    "encoded_example_token = encoder_bigrams_tokens(example_token).numpy()\n",
    "encoded_example_types = encoder_bigrams_types(example_type).numpy()\n",
    "\n",
    "print(\"tokens: \")\n",
    "print(example_token)\n",
    "print(encoded_example_token)\n",
    "print(encoded_example_token.shape)\n",
    "\n",
    "print(\"types: \")\n",
    "print(example_type)\n",
    "print(encoded_example_types)\n",
    "print(encoded_example_types.shape)"
   ]
  },
  {
   "attachments": {},
   "cell_type": "markdown",
   "metadata": {},
   "source": [
    "##### Representation 5: Tf-Idf Vectorizer"
   ]
  },
  {
   "cell_type": "code",
   "execution_count": 22,
   "metadata": {},
   "outputs": [
    {
     "name": "stdout",
     "output_type": "stream",
     "text": [
      "tokens (voc size):  122\n",
      "types (voc size):  58\n"
     ]
    }
   ],
   "source": [
    "encoder_tf_idf_tokens = create_encoder(\"tf_idf\", None, \"token\")\n",
    "encoder_tf_idf_types = create_encoder(\"tf_idf\", None, \"type\")\n",
    "\n",
    "vocab_tokens = np.array(encoder_tf_idf_tokens.get_vocabulary())\n",
    "vocab_size_tokens = len(encoder_tf_idf_tokens.get_vocabulary())\n",
    "vocab_types = np.array(encoder_tf_idf_types.get_vocabulary())\n",
    "vocab_size_types = len(encoder_tf_idf_types.get_vocabulary())\n",
    "\n",
    "print(\"tokens (voc size): \", vocab_size_tokens)\n",
    "print(\"types (voc size): \", vocab_size_types)"
   ]
  },
  {
   "cell_type": "code",
   "execution_count": 23,
   "metadata": {},
   "outputs": [
    {
     "name": "stdout",
     "output_type": "stream",
     "text": [
      "tokens: \n",
      "tf.Tensor(b'g : \\\\mathbb{N} \\\\to X', shape=(), dtype=string)\n",
      "[0.        0.        0.        0.        0.        0.        0.\n",
      " 2.0524838 0.        0.        0.        0.        2.229934  0.\n",
      " 0.        0.        0.        2.7030165 0.        0.        0.\n",
      " 0.        3.0622458 0.        0.        0.        0.        0.\n",
      " 0.        0.        0.        0.        0.        3.8503437 0.\n",
      " 0.        0.        0.        0.        0.        0.        0.\n",
      " 0.        0.        0.        0.        0.        0.        0.\n",
      " 0.        0.        0.        0.        0.        0.        0.\n",
      " 0.        0.        0.        0.        0.        0.        0.\n",
      " 0.        0.        0.        0.        0.        0.        0.\n",
      " 0.        0.        0.        0.        0.        0.        0.\n",
      " 0.        0.        0.        0.        0.        0.        0.\n",
      " 0.        0.        0.        0.        0.        0.        0.\n",
      " 0.        0.        0.        0.        0.        0.        0.\n",
      " 0.        0.        0.        0.        0.        0.        0.\n",
      " 0.        0.        0.        0.        0.        0.        0.\n",
      " 0.        0.        0.        0.        0.        0.        0.\n",
      " 0.        0.        0.        0.        0.        0.        0.\n",
      " 0.        0.        0.        0.        0.        0.        0.\n",
      " 0.        0.        0.        0.        0.        0.        0.\n",
      " 0.        0.        0.        0.        0.        0.        0.\n",
      " 0.        0.        0.       ]\n",
      "(150,)\n",
      "types: \n",
      "tf.Tensor(b'func_def func_name __ANON_1 COLON mapping set_constant SET_BASIC TO __ANON_0', shape=(), dtype=string)\n",
      "[0.        0.9782699 0.        0.        1.0938276 1.7035199 1.9341553\n",
      " 1.9346626 1.9346626 1.9346626 0.        0.        0.        0.\n",
      " 0.        0.        0.        0.        0.        0.        2.8908448\n",
      " 2.9286373 0.        0.        0.        0.        0.        0.\n",
      " 0.        0.        0.        0.        0.        0.        0.\n",
      " 0.        0.        0.        0.        0.        0.        0.\n",
      " 0.        0.        0.        0.        0.        0.        0.\n",
      " 0.        0.        0.        0.        0.        0.        0.\n",
      " 0.        0.        0.        0.        0.        0.        0.\n",
      " 0.        0.        0.        0.        0.        0.        0.\n",
      " 0.        0.        0.        0.        0.        0.        0.\n",
      " 0.        0.        0.        0.        0.        0.        0.\n",
      " 0.        0.        0.        0.        0.        0.        0.\n",
      " 0.        0.        0.        0.        0.        0.        0.\n",
      " 0.        0.       ]\n",
      "(100,)\n"
     ]
    }
   ],
   "source": [
    "encoded_example_token = encoder_tf_idf_tokens(example_token).numpy()\n",
    "encoded_example_types = encoder_tf_idf_types(example_type).numpy()\n",
    "\n",
    "print(\"tokens: \")\n",
    "print(example_token)\n",
    "print(encoded_example_token)\n",
    "print(encoded_example_token.shape)\n",
    "\n",
    "print(\"types: \")\n",
    "print(example_type)\n",
    "print(encoded_example_types)\n",
    "print(encoded_example_types.shape)"
   ]
  },
  {
   "attachments": {},
   "cell_type": "markdown",
   "metadata": {},
   "source": [
    "##### Model (Logistic Regression)"
   ]
  },
  {
   "attachments": {},
   "cell_type": "markdown",
   "metadata": {},
   "source": [
    " **Define and compile model**"
   ]
  },
  {
   "cell_type": "code",
   "execution_count": 24,
   "metadata": {},
   "outputs": [],
   "source": [
    "def create_model(tokens_encoder, types_encoder, tokens_size, types_size, add_inp_emb_dim=1):\n",
    "    embedding_input_dim = tokens_size + types_size + add_inp_emb_dim\n",
    "\n",
    "    tokens_model_input = tf.keras.layers.Input(dtype=tf.string, shape=(1,))\n",
    "    tokens_vectorized = tokens_encoder(tokens_model_input)\n",
    "\n",
    "    types_model_input = tf.keras.layers.Input(dtype=tf.string, shape=(1,))\n",
    "    types_vectorized = types_encoder(types_model_input)\n",
    "    merged = tf.keras.layers.Concatenate(axis=1)([tokens_vectorized, types_vectorized])\n",
    "\n",
    "    embedded = tf.keras.layers.Embedding(input_dim= embedding_input_dim,\n",
    "                                         output_dim=64,\n",
    "                                         # user masking to handle the variable sequence lengths\n",
    "                                         mask_zero=True)(merged)\n",
    "    bilstmed = tf.keras.layers.Bidirectional(tf.keras.layers.LSTM(64))(embedded)\n",
    "    densed1 = tf.keras.layers.Dense(64, activation=\"relu\")(bilstmed)\n",
    "    model_output = tf.keras.layers.Dense(1)(densed1)\n",
    "\n",
    "    model = tf.keras.models.Model(inputs=[tokens_model_input, types_model_input], outputs=model_output)\n",
    "    return model\n"
   ]
  },
  {
   "attachments": {},
   "cell_type": "markdown",
   "metadata": {},
   "source": [
    " **Train the model**"
   ]
  },
  {
   "attachments": {},
   "cell_type": "markdown",
   "metadata": {},
   "source": [
    "##### Experiment 1: Use integer indices for encoding tokens"
   ]
  },
  {
   "cell_type": "code",
   "execution_count": 25,
   "metadata": {},
   "outputs": [],
   "source": [
    "### TENSORBOARD USAGE\n",
    "#log_dir = \"4_nlp_rnns/logs/fit/\" + datetime.datetime.now().strftime(\"%Y%m%d-%H%M%S\")\n",
    "#tensorboard_callback = tf.keras.callbacks.TensorBoard(log_dir=log_dir)"
   ]
  },
  {
   "cell_type": "code",
   "execution_count": 52,
   "metadata": {},
   "outputs": [
    {
     "data": {
      "text/plain": [
       "'\\nsample_text = \"( A \\\\cup B ) \\\\cap (C \\\\cup D )\"\\n# predict on a sample formula using untrained model\\npredictions = model.predict(np.array([sample_text]))\\nprint(predictions[0])\\n'"
      ]
     },
     "execution_count": 52,
     "metadata": {},
     "output_type": "execute_result"
    }
   ],
   "source": [
    "tokens_input_len = TOKENS_MAX_SEQ_LEN \n",
    "type_input_len = TYPE_TOKENS_MAX_SEQ_LEN\n",
    "\n",
    "model = create_model(encoder_int_tokens, encoder_int_types,tokens_input_len, type_input_len)\n",
    "\"\"\"\n",
    "sample_text = \"( A \\cup B ) \\cap (C \\cup D )\"\n",
    "# predict on a sample formula using untrained model\n",
    "predictions = model.predict(np.array([sample_text]))\n",
    "print(predictions[0])\n",
    "\"\"\""
   ]
  },
  {
   "cell_type": "code",
   "execution_count": 53,
   "metadata": {},
   "outputs": [
    {
     "name": "stdout",
     "output_type": "stream",
     "text": [
      "Model: \"model_4\"\n",
      "__________________________________________________________________________________________________\n",
      " Layer (type)                   Output Shape         Param #     Connected to                     \n",
      "==================================================================================================\n",
      " input_9 (InputLayer)           [(None, 1)]          0           []                               \n",
      "                                                                                                  \n",
      " input_10 (InputLayer)          [(None, 1)]          0           []                               \n",
      "                                                                                                  \n",
      " text_vectorization (TextVector  (None, 110)         0           ['input_9[0][0]']                \n",
      " ization)                                                                                         \n",
      "                                                                                                  \n",
      " text_vectorization_1 (TextVect  (None, 130)         0           ['input_10[0][0]']               \n",
      " orization)                                                                                       \n",
      "                                                                                                  \n",
      " concatenate_4 (Concatenate)    (None, 240)          0           ['text_vectorization[0][0]',     \n",
      "                                                                  'text_vectorization_1[0][0]']   \n",
      "                                                                                                  \n",
      " embedding_4 (Embedding)        (None, 240, 64)      15424       ['concatenate_4[0][0]']          \n",
      "                                                                                                  \n",
      " bidirectional_4 (Bidirectional  (None, 128)         66048       ['embedding_4[0][0]']            \n",
      " )                                                                                                \n",
      "                                                                                                  \n",
      " dense_8 (Dense)                (None, 64)           8256        ['bidirectional_4[0][0]']        \n",
      "                                                                                                  \n",
      " dense_9 (Dense)                (None, 1)            65          ['dense_8[0][0]']                \n",
      "                                                                                                  \n",
      "==================================================================================================\n",
      "Total params: 89,793\n",
      "Trainable params: 89,793\n",
      "Non-trainable params: 0\n",
      "__________________________________________________________________________________________________\n"
     ]
    }
   ],
   "source": [
    "model.summary()"
   ]
  },
  {
   "cell_type": "code",
   "execution_count": 54,
   "metadata": {},
   "outputs": [],
   "source": [
    "LEARNING_RATE = 1e-4\n",
    "NUM_EPOCHS = 15\n",
    "\n",
    "model.compile(loss=tf.keras.losses.BinaryCrossentropy(from_logits=True),\n",
    "              optimizer=tf.keras.optimizers.Adam(LEARNING_RATE),\n",
    "              metrics=[\"accuracy\"])"
   ]
  },
  {
   "cell_type": "code",
   "execution_count": 55,
   "metadata": {},
   "outputs": [
    {
     "name": "stdout",
     "output_type": "stream",
     "text": [
      "Epoch 1/15\n",
      "156/156 [==============================] - ETA: 0s - loss: 0.6495 - accuracy: 0.5511INFO:tensorflow:Assets written to: /home/paul_d/Sources/sem_math_repo/classification_formulas_binary/wandb/run-20230307_200511-gv4gkr23/files/model-best/assets\n"
     ]
    },
    {
     "name": "stderr",
     "output_type": "stream",
     "text": [
      "INFO:tensorflow:Assets written to: /home/paul_d/Sources/sem_math_repo/classification_formulas_binary/wandb/run-20230307_200511-gv4gkr23/files/model-best/assets\n"
     ]
    },
    {
     "name": "stdout",
     "output_type": "stream",
     "text": [
      "156/156 [==============================] - 46s 261ms/step - loss: 0.6495 - accuracy: 0.5511 - val_loss: 0.6501 - val_accuracy: 0.2281\n",
      "Epoch 2/15\n",
      "156/156 [==============================] - ETA: 0s - loss: 0.5073 - accuracy: 0.7032INFO:tensorflow:Assets written to: /home/paul_d/Sources/sem_math_repo/classification_formulas_binary/wandb/run-20230307_200511-gv4gkr23/files/model-best/assets\n"
     ]
    },
    {
     "name": "stderr",
     "output_type": "stream",
     "text": [
      "INFO:tensorflow:Assets written to: /home/paul_d/Sources/sem_math_repo/classification_formulas_binary/wandb/run-20230307_200511-gv4gkr23/files/model-best/assets\n"
     ]
    },
    {
     "name": "stdout",
     "output_type": "stream",
     "text": [
      "156/156 [==============================] - 37s 240ms/step - loss: 0.5073 - accuracy: 0.7032 - val_loss: 0.4771 - val_accuracy: 0.5292\n",
      "Epoch 3/15\n",
      "156/156 [==============================] - 20s 130ms/step - loss: 0.4756 - accuracy: 0.7279 - val_loss: 0.4919 - val_accuracy: 0.5469\n",
      "Epoch 4/15\n",
      "156/156 [==============================] - 21s 132ms/step - loss: 0.4654 - accuracy: 0.7333 - val_loss: 0.4799 - val_accuracy: 0.5583\n",
      "Epoch 5/15\n",
      "156/156 [==============================] - ETA: 0s - loss: 0.4569 - accuracy: 0.7451INFO:tensorflow:Assets written to: /home/paul_d/Sources/sem_math_repo/classification_formulas_binary/wandb/run-20230307_200511-gv4gkr23/files/model-best/assets\n"
     ]
    },
    {
     "name": "stderr",
     "output_type": "stream",
     "text": [
      "INFO:tensorflow:Assets written to: /home/paul_d/Sources/sem_math_repo/classification_formulas_binary/wandb/run-20230307_200511-gv4gkr23/files/model-best/assets\n"
     ]
    },
    {
     "name": "stdout",
     "output_type": "stream",
     "text": [
      "156/156 [==============================] - 37s 235ms/step - loss: 0.4569 - accuracy: 0.7451 - val_loss: 0.4729 - val_accuracy: 0.5688\n",
      "Epoch 6/15\n",
      "156/156 [==============================] - 20s 125ms/step - loss: 0.4505 - accuracy: 0.7563 - val_loss: 0.4737 - val_accuracy: 0.6229\n",
      "Epoch 7/15\n",
      "156/156 [==============================] - ETA: 0s - loss: 0.4457 - accuracy: 0.7566INFO:tensorflow:Assets written to: /home/paul_d/Sources/sem_math_repo/classification_formulas_binary/wandb/run-20230307_200511-gv4gkr23/files/model-best/assets\n"
     ]
    },
    {
     "name": "stderr",
     "output_type": "stream",
     "text": [
      "INFO:tensorflow:Assets written to: /home/paul_d/Sources/sem_math_repo/classification_formulas_binary/wandb/run-20230307_200511-gv4gkr23/files/model-best/assets\n"
     ]
    },
    {
     "name": "stdout",
     "output_type": "stream",
     "text": [
      "156/156 [==============================] - 35s 226ms/step - loss: 0.4457 - accuracy: 0.7566 - val_loss: 0.4683 - val_accuracy: 0.6219\n",
      "Epoch 8/15\n",
      "156/156 [==============================] - 20s 125ms/step - loss: 0.4412 - accuracy: 0.7604 - val_loss: 0.4758 - val_accuracy: 0.6219\n",
      "Epoch 9/15\n",
      "156/156 [==============================] - ETA: 0s - loss: 0.4377 - accuracy: 0.7637INFO:tensorflow:Assets written to: /home/paul_d/Sources/sem_math_repo/classification_formulas_binary/wandb/run-20230307_200511-gv4gkr23/files/model-best/assets\n"
     ]
    },
    {
     "name": "stderr",
     "output_type": "stream",
     "text": [
      "INFO:tensorflow:Assets written to: /home/paul_d/Sources/sem_math_repo/classification_formulas_binary/wandb/run-20230307_200511-gv4gkr23/files/model-best/assets\n"
     ]
    },
    {
     "name": "stdout",
     "output_type": "stream",
     "text": [
      "156/156 [==============================] - 36s 232ms/step - loss: 0.4377 - accuracy: 0.7637 - val_loss: 0.4574 - val_accuracy: 0.6396\n",
      "Epoch 10/15\n",
      "156/156 [==============================] - 21s 134ms/step - loss: 0.4342 - accuracy: 0.7669 - val_loss: 0.4887 - val_accuracy: 0.6313\n",
      "Epoch 11/15\n",
      "156/156 [==============================] - 20s 130ms/step - loss: 0.4309 - accuracy: 0.7687 - val_loss: 0.4630 - val_accuracy: 0.6354\n",
      "Epoch 12/15\n",
      "156/156 [==============================] - ETA: 0s - loss: 0.4284 - accuracy: 0.7687INFO:tensorflow:Assets written to: /home/paul_d/Sources/sem_math_repo/classification_formulas_binary/wandb/run-20230307_200511-gv4gkr23/files/model-best/assets\n"
     ]
    },
    {
     "name": "stderr",
     "output_type": "stream",
     "text": [
      "INFO:tensorflow:Assets written to: /home/paul_d/Sources/sem_math_repo/classification_formulas_binary/wandb/run-20230307_200511-gv4gkr23/files/model-best/assets\n"
     ]
    },
    {
     "name": "stdout",
     "output_type": "stream",
     "text": [
      "156/156 [==============================] - 36s 228ms/step - loss: 0.4284 - accuracy: 0.7687 - val_loss: 0.4410 - val_accuracy: 0.6365\n",
      "Epoch 13/15\n",
      "156/156 [==============================] - 20s 129ms/step - loss: 0.4260 - accuracy: 0.7689 - val_loss: 0.4637 - val_accuracy: 0.6271\n",
      "Epoch 14/15\n",
      "156/156 [==============================] - 20s 127ms/step - loss: 0.4242 - accuracy: 0.7697 - val_loss: 0.4831 - val_accuracy: 0.6177\n",
      "Epoch 15/15\n",
      "156/156 [==============================] - 20s 128ms/step - loss: 0.4229 - accuracy: 0.7754 - val_loss: 0.4498 - val_accuracy: 0.6260\n"
     ]
    }
   ],
   "source": [
    "configs_dict = {\n",
    "    \"learning_rate\": LEARNING_RATE,\n",
    "    \"algorithm\": \"BiLstm\",\n",
    "    \"configuration\": \"3-tokens-types\",\n",
    "    \"optimizer\": \"adam\",\n",
    "    \"loss\": \"binary_crossentropy\",\n",
    "    \"epochs\": NUM_EPOCHS,\n",
    "    \"batch_size\": 64,\n",
    "    \"vectorizer\": \"int\",\n",
    "    \"dataset\": \"TOKENIZED_SET_V1\"\n",
    "}\n",
    "run = wandb.init(project=wandb_project_name, reinit=True, config=configs_dict)\n",
    "\n",
    "history = model.fit(train_dataset, \n",
    "                    epochs=NUM_EPOCHS,\n",
    "                    validation_data=test_dataset,\n",
    "                    steps_per_epoch = STEPS_PER_EPOCH,\n",
    "                    validation_steps = VAL_STEPS_PER_EPOCH,\n",
    "                    callbacks= [WandbCallback()])#[tensorboard_callback])\n",
    "run.finish()"
   ]
  },
  {
   "cell_type": "code",
   "execution_count": null,
   "metadata": {},
   "outputs": [],
   "source": [
    "test_loss, test_acc = model.evaluate(test_dataset)\n",
    "\n",
    "print(\"Test Loss:\", test_loss)\n",
    "print(\"Test Accuracy:\", test_acc)"
   ]
  },
  {
   "cell_type": "code",
   "execution_count": null,
   "metadata": {},
   "outputs": [],
   "source": [
    "plt.figure(figsize=(16,8))\n",
    "plt.subplot(1,2,1)\n",
    "plot_graphs(history, \"accuracy\")\n",
    "plt.ylim(None, 1)\n",
    "plt.subplot(1,2,2)\n",
    "plot_graphs(history, \"loss\")\n",
    "plt.ylim(0, None)"
   ]
  },
  {
   "cell_type": "code",
   "execution_count": null,
   "metadata": {},
   "outputs": [],
   "source": [
    "\n",
    "# predict on a sample text without padding\n",
    "\"\"\"\n",
    "predictions = model.predict((np.array([example_token]), np.array([example_type])))\n",
    "print(predictions[0])\n",
    "\"\"\""
   ]
  },
  {
   "attachments": {},
   "cell_type": "markdown",
   "metadata": {},
   "source": [
    "##### Experiment 2: Use binary count vectorizer for encoding"
   ]
  },
  {
   "cell_type": "code",
   "execution_count": 26,
   "metadata": {},
   "outputs": [],
   "source": [
    "tokens_input_len = TOKENS_PAD_TO_MAX_TOKENS \n",
    "type_input_len = TYPE_TOKENS_PAD_TO_MAX_TOKENS\n",
    "\n",
    "model = create_model(encoder_multi_hot_tokens, encoder_multi_hot_types,tokens_input_len, type_input_len) # maybe add 30\n",
    "# predict on a sample formula using untrained model\n",
    "#predictions = model.predict(np.array([sample_text]))\n",
    "#print(predictions[0])"
   ]
  },
  {
   "cell_type": "code",
   "execution_count": 27,
   "metadata": {},
   "outputs": [],
   "source": [
    "LEARNING_RATE = 1e-4\n",
    "NUM_EPOCHS = 15\n",
    "\n",
    "sample_text = \"( A \\cup B ) \\cap (C \\cup D )\"\n",
    "model.compile(loss=tf.keras.losses.BinaryCrossentropy(from_logits=True),\n",
    "              optimizer=tf.keras.optimizers.Adam(LEARNING_RATE),\n",
    "              metrics=[\"accuracy\"])"
   ]
  },
  {
   "cell_type": "code",
   "execution_count": 28,
   "metadata": {},
   "outputs": [
    {
     "name": "stdout",
     "output_type": "stream",
     "text": [
      "Epoch 1/15\n",
      "156/156 [==============================] - ETA: 0s - loss: 0.6900 - accuracy: 0.5498INFO:tensorflow:Assets written to: /home/paul_d/Sources/sem_math_repo/classification_formulas_binary/wandb/run-20230307_192716-ogzon30v/files/model-best/assets\n"
     ]
    },
    {
     "name": "stderr",
     "output_type": "stream",
     "text": [
      "INFO:tensorflow:Assets written to: /home/paul_d/Sources/sem_math_repo/classification_formulas_binary/wandb/run-20230307_192716-ogzon30v/files/model-best/assets\n"
     ]
    },
    {
     "name": "stdout",
     "output_type": "stream",
     "text": [
      "156/156 [==============================] - 43s 245ms/step - loss: 0.6900 - accuracy: 0.5498 - val_loss: 0.7735 - val_accuracy: 0.0000e+00\n",
      "Epoch 2/15\n",
      "156/156 [==============================] - ETA: 0s - loss: 0.6861 - accuracy: 0.5499INFO:tensorflow:Assets written to: /home/paul_d/Sources/sem_math_repo/classification_formulas_binary/wandb/run-20230307_192716-ogzon30v/files/model-best/assets\n"
     ]
    },
    {
     "name": "stderr",
     "output_type": "stream",
     "text": [
      "INFO:tensorflow:Assets written to: /home/paul_d/Sources/sem_math_repo/classification_formulas_binary/wandb/run-20230307_192716-ogzon30v/files/model-best/assets\n"
     ]
    },
    {
     "name": "stdout",
     "output_type": "stream",
     "text": [
      "156/156 [==============================] - 38s 241ms/step - loss: 0.6861 - accuracy: 0.5499 - val_loss: 0.7651 - val_accuracy: 0.0000e+00\n",
      "Epoch 3/15\n",
      "156/156 [==============================] - ETA: 0s - loss: 0.6684 - accuracy: 0.5500INFO:tensorflow:Assets written to: /home/paul_d/Sources/sem_math_repo/classification_formulas_binary/wandb/run-20230307_192716-ogzon30v/files/model-best/assets\n"
     ]
    },
    {
     "name": "stderr",
     "output_type": "stream",
     "text": [
      "INFO:tensorflow:Assets written to: /home/paul_d/Sources/sem_math_repo/classification_formulas_binary/wandb/run-20230307_192716-ogzon30v/files/model-best/assets\n"
     ]
    },
    {
     "name": "stdout",
     "output_type": "stream",
     "text": [
      "156/156 [==============================] - 38s 241ms/step - loss: 0.6684 - accuracy: 0.5500 - val_loss: 0.7493 - val_accuracy: 0.0000e+00\n",
      "Epoch 4/15\n",
      "156/156 [==============================] - 20s 127ms/step - loss: 0.6577 - accuracy: 0.5863 - val_loss: 0.7778 - val_accuracy: 0.2740\n",
      "Epoch 5/15\n",
      "156/156 [==============================] - 20s 130ms/step - loss: 0.6529 - accuracy: 0.6146 - val_loss: 0.7712 - val_accuracy: 0.2792\n",
      "Epoch 6/15\n",
      "156/156 [==============================] - 20s 130ms/step - loss: 0.6515 - accuracy: 0.6127 - val_loss: 0.7811 - val_accuracy: 0.2323\n",
      "Epoch 7/15\n",
      "156/156 [==============================] - 20s 129ms/step - loss: 0.6500 - accuracy: 0.6134 - val_loss: 0.7785 - val_accuracy: 0.2740\n",
      "Epoch 8/15\n",
      "156/156 [==============================] - 20s 129ms/step - loss: 0.6474 - accuracy: 0.6115 - val_loss: 0.7498 - val_accuracy: 0.2740\n",
      "Epoch 9/15\n",
      "156/156 [==============================] - ETA: 0s - loss: 0.6463 - accuracy: 0.6081INFO:tensorflow:Assets written to: /home/paul_d/Sources/sem_math_repo/classification_formulas_binary/wandb/run-20230307_192716-ogzon30v/files/model-best/assets\n"
     ]
    },
    {
     "name": "stderr",
     "output_type": "stream",
     "text": [
      "INFO:tensorflow:Assets written to: /home/paul_d/Sources/sem_math_repo/classification_formulas_binary/wandb/run-20230307_192716-ogzon30v/files/model-best/assets\n"
     ]
    },
    {
     "name": "stdout",
     "output_type": "stream",
     "text": [
      "156/156 [==============================] - 36s 229ms/step - loss: 0.6463 - accuracy: 0.6081 - val_loss: 0.7311 - val_accuracy: 0.2740\n",
      "Epoch 10/15\n",
      "156/156 [==============================] - 20s 130ms/step - loss: 0.6465 - accuracy: 0.6124 - val_loss: 0.7424 - val_accuracy: 0.2740\n",
      "Epoch 11/15\n",
      "156/156 [==============================] - 21s 133ms/step - loss: 0.6456 - accuracy: 0.6135 - val_loss: 0.7667 - val_accuracy: 0.2740\n",
      "Epoch 12/15\n",
      "156/156 [==============================] - 20s 128ms/step - loss: 0.6455 - accuracy: 0.6091 - val_loss: 0.7424 - val_accuracy: 0.2740\n",
      "Epoch 13/15\n",
      "156/156 [==============================] - 20s 129ms/step - loss: 0.6456 - accuracy: 0.6126 - val_loss: 0.7329 - val_accuracy: 0.2740\n",
      "Epoch 14/15\n",
      "156/156 [==============================] - 20s 131ms/step - loss: 0.6452 - accuracy: 0.6155 - val_loss: 0.7663 - val_accuracy: 0.2552\n",
      "Epoch 15/15\n",
      "156/156 [==============================] - 21s 131ms/step - loss: 0.6451 - accuracy: 0.6127 - val_loss: 0.7548 - val_accuracy: 0.2552\n"
     ]
    }
   ],
   "source": [
    "configs_dict = {\n",
    "    \"learning_rate\": LEARNING_RATE,\n",
    "    \"algorithm\": \"BiLstm\",\n",
    "    \"configuration\": \"3-tokens-types\",\n",
    "    \"optimizer\": \"adam\",\n",
    "    \"loss\": \"binary_crossentropy\",\n",
    "    \"epochs\": NUM_EPOCHS,\n",
    "    \"batch_size\": 64,\n",
    "    \"vectorizer\": \"multi_hot\",\n",
    "    \"dataset\": \"TOKENIZED_SET_V1\"\n",
    "}\n",
    "run = wandb.init(project=wandb_project_name, reinit=True, config=configs_dict)\n",
    "\n",
    "history = model.fit(train_dataset, \n",
    "                    epochs=NUM_EPOCHS,\n",
    "                    validation_data=test_dataset,\n",
    "                    steps_per_epoch = STEPS_PER_EPOCH,\n",
    "                    validation_steps = VAL_STEPS_PER_EPOCH,\n",
    "                    callbacks= [WandbCallback()])#[tensorboard_callback])\n",
    "run.finish()"
   ]
  },
  {
   "cell_type": "code",
   "execution_count": 29,
   "metadata": {},
   "outputs": [
    {
     "name": "stdout",
     "output_type": "stream",
     "text": [
      "15/15 [==============================] - 1s 37ms/step - loss: 0.7548 - accuracy: 0.2552\n",
      "Test Loss: 0.7547961473464966\n",
      "Test Accuracy: 0.2552083432674408\n"
     ]
    }
   ],
   "source": [
    "test_loss, test_acc = model.evaluate(test_dataset)\n",
    "\n",
    "print(\"Test Loss:\", test_loss)\n",
    "print(\"Test Accuracy:\", test_acc)"
   ]
  },
  {
   "cell_type": "code",
   "execution_count": 30,
   "metadata": {},
   "outputs": [
    {
     "data": {
      "text/plain": [
       "(0.0, 0.7879026353359222)"
      ]
     },
     "execution_count": 30,
     "metadata": {},
     "output_type": "execute_result"
    },
    {
     "data": {
      "image/png": "[encoded data removed]",
      "text/plain": [
       "<Figure size 1600x800 with 2 Axes>"
      ]
     },
     "metadata": {},
     "output_type": "display_data"
    }
   ],
   "source": [
    "plt.figure(figsize=(16,8))\n",
    "plt.subplot(1,2,1)\n",
    "plot_graphs(history, \"accuracy\")\n",
    "plt.ylim(None, 1)\n",
    "plt.subplot(1,2,2)\n",
    "plot_graphs(history, \"loss\")\n",
    "plt.ylim(0, None)"
   ]
  },
  {
   "cell_type": "code",
   "execution_count": 31,
   "metadata": {},
   "outputs": [
    {
     "data": {
      "text/plain": [
       "'\\n# predict on a sample text without padding\\npredictions = model.predict(np.array([sample_text]))\\nprint(predictions[0])\\n'"
      ]
     },
     "execution_count": 31,
     "metadata": {},
     "output_type": "execute_result"
    }
   ],
   "source": [
    "\"\"\"\n",
    "# predict on a sample text without padding\n",
    "predictions = model.predict(np.array([sample_text]))\n",
    "print(predictions[0])\n",
    "\"\"\""
   ]
  },
  {
   "attachments": {},
   "cell_type": "markdown",
   "metadata": {},
   "source": [
    "##### Experiment 3:"
   ]
  },
  {
   "cell_type": "code",
   "execution_count": 32,
   "metadata": {},
   "outputs": [],
   "source": [
    "tokens_input_len = TOKENS_PAD_TO_MAX_TOKENS \n",
    "type_input_len = TYPE_TOKENS_PAD_TO_MAX_TOKENS\n",
    "\n",
    "model = create_model(encoder_count_tokens, encoder_count_types,tokens_input_len, type_input_len) # maybe add 30\n",
    "# predict on a sample formula using untrained model\n",
    "#predictions = model.predict(np.array([sample_text]))\n",
    "#print(predictions[0])"
   ]
  },
  {
   "cell_type": "code",
   "execution_count": 33,
   "metadata": {},
   "outputs": [],
   "source": [
    "LEARNING_RATE = 1e-4\n",
    "NUM_EPOCHS = 15\n",
    "\n",
    "sample_text = \"( A \\cup B ) \\cap (C \\cup D )\"\n",
    "model.compile(loss=tf.keras.losses.BinaryCrossentropy(from_logits=True),\n",
    "              optimizer=tf.keras.optimizers.Adam(LEARNING_RATE),\n",
    "              metrics=[\"accuracy\"])"
   ]
  },
  {
   "cell_type": "code",
   "execution_count": 34,
   "metadata": {},
   "outputs": [
    {
     "name": "stdout",
     "output_type": "stream",
     "text": [
      "Epoch 1/15\n",
      "156/156 [==============================] - ETA: 0s - loss: 0.6877 - accuracy: 0.5497INFO:tensorflow:Assets written to: /home/paul_d/Sources/sem_math_repo/classification_formulas_binary/wandb/run-20230307_193343-y4u3mf42/files/model-best/assets\n"
     ]
    },
    {
     "name": "stderr",
     "output_type": "stream",
     "text": [
      "INFO:tensorflow:Assets written to: /home/paul_d/Sources/sem_math_repo/classification_formulas_binary/wandb/run-20230307_193343-y4u3mf42/files/model-best/assets\n"
     ]
    },
    {
     "name": "stdout",
     "output_type": "stream",
     "text": [
      "156/156 [==============================] - 40s 229ms/step - loss: 0.6877 - accuracy: 0.5497 - val_loss: 0.7499 - val_accuracy: 0.0000e+00\n",
      "Epoch 2/15\n",
      "156/156 [==============================] - ETA: 0s - loss: 0.6561 - accuracy: 0.5730INFO:tensorflow:Assets written to: /home/paul_d/Sources/sem_math_repo/classification_formulas_binary/wandb/run-20230307_193343-y4u3mf42/files/model-best/assets\n"
     ]
    },
    {
     "name": "stderr",
     "output_type": "stream",
     "text": [
      "INFO:tensorflow:Assets written to: /home/paul_d/Sources/sem_math_repo/classification_formulas_binary/wandb/run-20230307_193343-y4u3mf42/files/model-best/assets\n"
     ]
    },
    {
     "name": "stdout",
     "output_type": "stream",
     "text": [
      "156/156 [==============================] - 35s 224ms/step - loss: 0.6561 - accuracy: 0.5730 - val_loss: 0.7115 - val_accuracy: 0.2604\n",
      "Epoch 3/15\n",
      "156/156 [==============================] - 19s 124ms/step - loss: 0.6331 - accuracy: 0.6316 - val_loss: 0.7407 - val_accuracy: 0.2625\n",
      "Epoch 4/15\n",
      "156/156 [==============================] - ETA: 0s - loss: 0.6284 - accuracy: 0.6290INFO:tensorflow:Assets written to: /home/paul_d/Sources/sem_math_repo/classification_formulas_binary/wandb/run-20230307_193343-y4u3mf42/files/model-best/assets\n"
     ]
    },
    {
     "name": "stderr",
     "output_type": "stream",
     "text": [
      "INFO:tensorflow:Assets written to: /home/paul_d/Sources/sem_math_repo/classification_formulas_binary/wandb/run-20230307_193343-y4u3mf42/files/model-best/assets\n"
     ]
    },
    {
     "name": "stdout",
     "output_type": "stream",
     "text": [
      "156/156 [==============================] - 34s 218ms/step - loss: 0.6284 - accuracy: 0.6290 - val_loss: 0.6945 - val_accuracy: 0.2792\n",
      "Epoch 5/15\n",
      "156/156 [==============================] - 19s 122ms/step - loss: 0.6247 - accuracy: 0.6280 - val_loss: 0.7258 - val_accuracy: 0.2729\n",
      "Epoch 6/15\n",
      "156/156 [==============================] - 19s 122ms/step - loss: 0.6216 - accuracy: 0.6296 - val_loss: 0.7152 - val_accuracy: 0.2740\n",
      "Epoch 7/15\n",
      "156/156 [==============================] - ETA: 0s - loss: 0.6185 - accuracy: 0.6270INFO:tensorflow:Assets written to: /home/paul_d/Sources/sem_math_repo/classification_formulas_binary/wandb/run-20230307_193343-y4u3mf42/files/model-best/assets\n"
     ]
    },
    {
     "name": "stderr",
     "output_type": "stream",
     "text": [
      "INFO:tensorflow:Assets written to: /home/paul_d/Sources/sem_math_repo/classification_formulas_binary/wandb/run-20230307_193343-y4u3mf42/files/model-best/assets\n"
     ]
    },
    {
     "name": "stdout",
     "output_type": "stream",
     "text": [
      "156/156 [==============================] - 34s 217ms/step - loss: 0.6185 - accuracy: 0.6270 - val_loss: 0.6923 - val_accuracy: 0.2833\n",
      "Epoch 8/15\n",
      "156/156 [==============================] - 19s 120ms/step - loss: 0.6161 - accuracy: 0.6265 - val_loss: 0.7206 - val_accuracy: 0.2646\n",
      "Epoch 9/15\n",
      "156/156 [==============================] - ETA: 0s - loss: 0.6132 - accuracy: 0.6253INFO:tensorflow:Assets written to: /home/paul_d/Sources/sem_math_repo/classification_formulas_binary/wandb/run-20230307_193343-y4u3mf42/files/model-best/assets\n"
     ]
    },
    {
     "name": "stderr",
     "output_type": "stream",
     "text": [
      "INFO:tensorflow:Assets written to: /home/paul_d/Sources/sem_math_repo/classification_formulas_binary/wandb/run-20230307_193343-y4u3mf42/files/model-best/assets\n"
     ]
    },
    {
     "name": "stdout",
     "output_type": "stream",
     "text": [
      "156/156 [==============================] - 34s 221ms/step - loss: 0.6132 - accuracy: 0.6253 - val_loss: 0.6796 - val_accuracy: 0.2781\n",
      "Epoch 10/15\n",
      "156/156 [==============================] - 22s 139ms/step - loss: 0.6104 - accuracy: 0.6238 - val_loss: 0.6911 - val_accuracy: 0.2698\n",
      "Epoch 11/15\n",
      "156/156 [==============================] - ETA: 0s - loss: 0.6075 - accuracy: 0.6272INFO:tensorflow:Assets written to: /home/paul_d/Sources/sem_math_repo/classification_formulas_binary/wandb/run-20230307_193343-y4u3mf42/files/model-best/assets\n"
     ]
    },
    {
     "name": "stderr",
     "output_type": "stream",
     "text": [
      "INFO:tensorflow:Assets written to: /home/paul_d/Sources/sem_math_repo/classification_formulas_binary/wandb/run-20230307_193343-y4u3mf42/files/model-best/assets\n"
     ]
    },
    {
     "name": "stdout",
     "output_type": "stream",
     "text": [
      "156/156 [==============================] - 35s 226ms/step - loss: 0.6075 - accuracy: 0.6272 - val_loss: 0.6764 - val_accuracy: 0.2740\n",
      "Epoch 12/15\n",
      "156/156 [==============================] - ETA: 0s - loss: 0.6054 - accuracy: 0.6305INFO:tensorflow:Assets written to: /home/paul_d/Sources/sem_math_repo/classification_formulas_binary/wandb/run-20230307_193343-y4u3mf42/files/model-best/assets\n"
     ]
    },
    {
     "name": "stderr",
     "output_type": "stream",
     "text": [
      "INFO:tensorflow:Assets written to: /home/paul_d/Sources/sem_math_repo/classification_formulas_binary/wandb/run-20230307_193343-y4u3mf42/files/model-best/assets\n"
     ]
    },
    {
     "name": "stdout",
     "output_type": "stream",
     "text": [
      "156/156 [==============================] - 33s 214ms/step - loss: 0.6054 - accuracy: 0.6305 - val_loss: 0.6474 - val_accuracy: 0.2990\n",
      "Epoch 13/15\n",
      "156/156 [==============================] - 20s 129ms/step - loss: 0.6039 - accuracy: 0.6319 - val_loss: 0.7168 - val_accuracy: 0.2531\n",
      "Epoch 14/15\n",
      "156/156 [==============================] - 19s 119ms/step - loss: 0.6026 - accuracy: 0.6322 - val_loss: 0.6490 - val_accuracy: 0.3125\n",
      "Epoch 15/15\n",
      "156/156 [==============================] - 18s 118ms/step - loss: 0.6008 - accuracy: 0.6353 - val_loss: 0.6606 - val_accuracy: 0.3010\n"
     ]
    }
   ],
   "source": [
    "configs_dict = {\n",
    "    \"learning_rate\": LEARNING_RATE,\n",
    "    \"algorithm\": \"BiLstm\",\n",
    "    \"configuration\": \"3-tokens-types\",\n",
    "    \"optimizer\": \"adam\",\n",
    "    \"loss\": \"binary_crossentropy\",\n",
    "    \"epochs\": NUM_EPOCHS,\n",
    "    \"batch_size\": 64,\n",
    "    \"vectorizer\": \"count\",\n",
    "    \"dataset\": \"TOKENIZED_SET_V1\"\n",
    "}\n",
    "run = wandb.init(project=wandb_project_name, reinit=True, config=configs_dict)\n",
    "\n",
    "history = model.fit(train_dataset, \n",
    "                    epochs=NUM_EPOCHS,\n",
    "                    validation_data=test_dataset,\n",
    "                    steps_per_epoch = STEPS_PER_EPOCH,\n",
    "                    validation_steps = VAL_STEPS_PER_EPOCH,\n",
    "                    callbacks= [WandbCallback()])#[tensorboard_callback])\n",
    "run.finish()"
   ]
  },
  {
   "cell_type": "code",
   "execution_count": 35,
   "metadata": {},
   "outputs": [
    {
     "name": "stdout",
     "output_type": "stream",
     "text": [
      "15/15 [==============================] - 1s 37ms/step - loss: 0.6606 - accuracy: 0.3010\n",
      "Test Loss: 0.6605526804924011\n",
      "Test Accuracy: 0.3010416626930237\n"
     ]
    }
   ],
   "source": [
    "test_loss, test_acc = model.evaluate(test_dataset)\n",
    "\n",
    "print(\"Test Loss:\", test_loss)\n",
    "print(\"Test Accuracy:\", test_acc)"
   ]
  },
  {
   "cell_type": "code",
   "execution_count": 36,
   "metadata": {},
   "outputs": [
    {
     "data": {
      "text/plain": [
       "(0.0, 0.7573715806007385)"
      ]
     },
     "execution_count": 36,
     "metadata": {},
     "output_type": "execute_result"
    },
    {
     "data": {
      "image/png": "[encoded data removed]",
      "text/plain": [
       "<Figure size 1600x800 with 2 Axes>"
      ]
     },
     "metadata": {},
     "output_type": "display_data"
    }
   ],
   "source": [
    "plt.figure(figsize=(16,8))\n",
    "plt.subplot(1,2,1)\n",
    "plot_graphs(history, \"accuracy\")\n",
    "plt.ylim(None, 1)\n",
    "plt.subplot(1,2,2)\n",
    "plot_graphs(history, \"loss\")\n",
    "plt.ylim(0, None)"
   ]
  },
  {
   "cell_type": "code",
   "execution_count": 37,
   "metadata": {},
   "outputs": [
    {
     "data": {
      "text/plain": [
       "'\\n# predict on a sample text without padding\\npredictions = model.predict(np.array([sample_text]))\\nprint(predictions[0])\\n'"
      ]
     },
     "execution_count": 37,
     "metadata": {},
     "output_type": "execute_result"
    }
   ],
   "source": [
    "\"\"\"\n",
    "# predict on a sample text without padding\n",
    "predictions = model.predict(np.array([sample_text]))\n",
    "print(predictions[0])\n",
    "\"\"\""
   ]
  },
  {
   "attachments": {},
   "cell_type": "markdown",
   "metadata": {},
   "source": [
    "##### Experiment 4:"
   ]
  },
  {
   "cell_type": "code",
   "execution_count": 38,
   "metadata": {},
   "outputs": [],
   "source": [
    "tokens_input_len = BIGRAM_PAD_TO_MAX_TOKENS\n",
    "type_input_len = BIGRAM_PAD_TO_MAX_TOKENS\n",
    "\n",
    "model = create_model(encoder_bigrams_tokens, encoder_bigrams_types,tokens_input_len, type_input_len) # maybe add 30\n",
    "\n",
    "# predict on a sample formula using untrained model\n",
    "#predictions = model.predict(np.array([sample_text]))\n",
    "#print(predictions[0])"
   ]
  },
  {
   "cell_type": "code",
   "execution_count": 39,
   "metadata": {},
   "outputs": [],
   "source": [
    "LEARNING_RATE = 1e-4\n",
    "NUM_EPOCHS = 15\n",
    "\n",
    "sample_text = \"( A \\cup B ) \\cap (C \\cup D )\"\n",
    "model.compile(loss=tf.keras.losses.BinaryCrossentropy(from_logits=True),\n",
    "              optimizer=tf.keras.optimizers.Adam(LEARNING_RATE),\n",
    "              metrics=[\"accuracy\"])"
   ]
  },
  {
   "cell_type": "code",
   "execution_count": 40,
   "metadata": {},
   "outputs": [
    {
     "name": "stdout",
     "output_type": "stream",
     "text": [
      "Model: \"model_2\"\n",
      "__________________________________________________________________________________________________\n",
      " Layer (type)                   Output Shape         Param #     Connected to                     \n",
      "==================================================================================================\n",
      " input_5 (InputLayer)           [(None, 1)]          0           []                               \n",
      "                                                                                                  \n",
      " input_6 (InputLayer)           [(None, 1)]          0           []                               \n",
      "                                                                                                  \n",
      " text_vectorization_6 (TextVect  (None, 350)         0           ['input_5[0][0]']                \n",
      " orization)                                                                                       \n",
      "                                                                                                  \n",
      " text_vectorization_7 (TextVect  (None, 350)         0           ['input_6[0][0]']                \n",
      " orization)                                                                                       \n",
      "                                                                                                  \n",
      " concatenate_2 (Concatenate)    (None, 700)          0           ['text_vectorization_6[0][0]',   \n",
      "                                                                  'text_vectorization_7[0][0]']   \n",
      "                                                                                                  \n",
      " embedding_2 (Embedding)        (None, 700, 64)      44864       ['concatenate_2[0][0]']          \n",
      "                                                                                                  \n",
      " bidirectional_2 (Bidirectional  (None, 128)         66048       ['embedding_2[0][0]']            \n",
      " )                                                                                                \n",
      "                                                                                                  \n",
      " dense_4 (Dense)                (None, 64)           8256        ['bidirectional_2[0][0]']        \n",
      "                                                                                                  \n",
      " dense_5 (Dense)                (None, 1)            65          ['dense_4[0][0]']                \n",
      "                                                                                                  \n",
      "==================================================================================================\n",
      "Total params: 119,233\n",
      "Trainable params: 119,233\n",
      "Non-trainable params: 0\n",
      "__________________________________________________________________________________________________\n"
     ]
    }
   ],
   "source": [
    "model.summary()"
   ]
  },
  {
   "cell_type": "code",
   "execution_count": 41,
   "metadata": {},
   "outputs": [
    {
     "name": "stdout",
     "output_type": "stream",
     "text": [
      "Epoch 1/15\n",
      "156/156 [==============================] - ETA: 0s - loss: 0.6842 - accuracy: 0.5501INFO:tensorflow:Assets written to: /home/paul_d/Sources/sem_math_repo/classification_formulas_binary/wandb/run-20230307_194034-4b9p3za1/files/model-best/assets\n"
     ]
    },
    {
     "name": "stderr",
     "output_type": "stream",
     "text": [
      "INFO:tensorflow:Assets written to: /home/paul_d/Sources/sem_math_repo/classification_formulas_binary/wandb/run-20230307_194034-4b9p3za1/files/model-best/assets\n"
     ]
    },
    {
     "name": "stdout",
     "output_type": "stream",
     "text": [
      "156/156 [==============================] - 72s 425ms/step - loss: 0.6842 - accuracy: 0.5501 - val_loss: 0.7624 - val_accuracy: 0.0000e+00\n",
      "Epoch 2/15\n",
      "156/156 [==============================] - ETA: 0s - loss: 0.6574 - accuracy: 0.5566INFO:tensorflow:Assets written to: /home/paul_d/Sources/sem_math_repo/classification_formulas_binary/wandb/run-20230307_194034-4b9p3za1/files/model-best/assets\n"
     ]
    },
    {
     "name": "stderr",
     "output_type": "stream",
     "text": [
      "INFO:tensorflow:Assets written to: /home/paul_d/Sources/sem_math_repo/classification_formulas_binary/wandb/run-20230307_194034-4b9p3za1/files/model-best/assets\n"
     ]
    },
    {
     "name": "stdout",
     "output_type": "stream",
     "text": [
      "156/156 [==============================] - 67s 430ms/step - loss: 0.6574 - accuracy: 0.5566 - val_loss: 0.7409 - val_accuracy: 0.2375\n",
      "Epoch 3/15\n",
      "156/156 [==============================] - 53s 339ms/step - loss: 0.6238 - accuracy: 0.6333 - val_loss: 0.7561 - val_accuracy: 0.2812\n",
      "Epoch 4/15\n",
      "156/156 [==============================] - ETA: 0s - loss: 0.6167 - accuracy: 0.6340INFO:tensorflow:Assets written to: /home/paul_d/Sources/sem_math_repo/classification_formulas_binary/wandb/run-20230307_194034-4b9p3za1/files/model-best/assets\n"
     ]
    },
    {
     "name": "stderr",
     "output_type": "stream",
     "text": [
      "INFO:tensorflow:Assets written to: /home/paul_d/Sources/sem_math_repo/classification_formulas_binary/wandb/run-20230307_194034-4b9p3za1/files/model-best/assets\n"
     ]
    },
    {
     "name": "stdout",
     "output_type": "stream",
     "text": [
      "156/156 [==============================] - 70s 450ms/step - loss: 0.6167 - accuracy: 0.6340 - val_loss: 0.7286 - val_accuracy: 0.2771\n",
      "Epoch 5/15\n",
      "156/156 [==============================] - ETA: 0s - loss: 0.6133 - accuracy: 0.6386INFO:tensorflow:Assets written to: /home/paul_d/Sources/sem_math_repo/classification_formulas_binary/wandb/run-20230307_194034-4b9p3za1/files/model-best/assets\n"
     ]
    },
    {
     "name": "stderr",
     "output_type": "stream",
     "text": [
      "INFO:tensorflow:Assets written to: /home/paul_d/Sources/sem_math_repo/classification_formulas_binary/wandb/run-20230307_194034-4b9p3za1/files/model-best/assets\n"
     ]
    },
    {
     "name": "stdout",
     "output_type": "stream",
     "text": [
      "156/156 [==============================] - 71s 454ms/step - loss: 0.6133 - accuracy: 0.6386 - val_loss: 0.6795 - val_accuracy: 0.2958\n",
      "Epoch 6/15\n",
      "156/156 [==============================] - ETA: 0s - loss: 0.6105 - accuracy: 0.6400INFO:tensorflow:Assets written to: /home/paul_d/Sources/sem_math_repo/classification_formulas_binary/wandb/run-20230307_194034-4b9p3za1/files/model-best/assets\n"
     ]
    },
    {
     "name": "stderr",
     "output_type": "stream",
     "text": [
      "INFO:tensorflow:Assets written to: /home/paul_d/Sources/sem_math_repo/classification_formulas_binary/wandb/run-20230307_194034-4b9p3za1/files/model-best/assets\n"
     ]
    },
    {
     "name": "stdout",
     "output_type": "stream",
     "text": [
      "156/156 [==============================] - 70s 445ms/step - loss: 0.6105 - accuracy: 0.6400 - val_loss: 0.6728 - val_accuracy: 0.3031\n",
      "Epoch 7/15\n",
      "156/156 [==============================] - 52s 335ms/step - loss: 0.6085 - accuracy: 0.6400 - val_loss: 0.6889 - val_accuracy: 0.2937\n",
      "Epoch 8/15\n",
      "156/156 [==============================] - ETA: 0s - loss: 0.6076 - accuracy: 0.6410INFO:tensorflow:Assets written to: /home/paul_d/Sources/sem_math_repo/classification_formulas_binary/wandb/run-20230307_194034-4b9p3za1/files/model-best/assets\n"
     ]
    },
    {
     "name": "stderr",
     "output_type": "stream",
     "text": [
      "INFO:tensorflow:Assets written to: /home/paul_d/Sources/sem_math_repo/classification_formulas_binary/wandb/run-20230307_194034-4b9p3za1/files/model-best/assets\n"
     ]
    },
    {
     "name": "stdout",
     "output_type": "stream",
     "text": [
      "156/156 [==============================] - 68s 433ms/step - loss: 0.6076 - accuracy: 0.6410 - val_loss: 0.6688 - val_accuracy: 0.2937\n",
      "Epoch 9/15\n",
      "156/156 [==============================] - 52s 334ms/step - loss: 0.6050 - accuracy: 0.6409 - val_loss: 0.6709 - val_accuracy: 0.2937\n",
      "Epoch 10/15\n",
      "156/156 [==============================] - 52s 335ms/step - loss: 0.6041 - accuracy: 0.6425 - val_loss: 0.7066 - val_accuracy: 0.2615\n",
      "Epoch 11/15\n",
      "156/156 [==============================] - ETA: 0s - loss: 0.6014 - accuracy: 0.6422INFO:tensorflow:Assets written to: /home/paul_d/Sources/sem_math_repo/classification_formulas_binary/wandb/run-20230307_194034-4b9p3za1/files/model-best/assets\n"
     ]
    },
    {
     "name": "stderr",
     "output_type": "stream",
     "text": [
      "INFO:tensorflow:Assets written to: /home/paul_d/Sources/sem_math_repo/classification_formulas_binary/wandb/run-20230307_194034-4b9p3za1/files/model-best/assets\n"
     ]
    },
    {
     "name": "stdout",
     "output_type": "stream",
     "text": [
      "156/156 [==============================] - 67s 430ms/step - loss: 0.6014 - accuracy: 0.6422 - val_loss: 0.6587 - val_accuracy: 0.2875\n",
      "Epoch 12/15\n",
      "156/156 [==============================] - 52s 334ms/step - loss: 0.6007 - accuracy: 0.6437 - val_loss: 0.6928 - val_accuracy: 0.2781\n",
      "Epoch 13/15\n",
      "156/156 [==============================] - 52s 335ms/step - loss: 0.6005 - accuracy: 0.6416 - val_loss: 0.6730 - val_accuracy: 0.2792\n",
      "Epoch 14/15\n",
      "156/156 [==============================] - 52s 336ms/step - loss: 0.5976 - accuracy: 0.6426 - val_loss: 0.6618 - val_accuracy: 0.2865\n",
      "Epoch 15/15\n",
      "156/156 [==============================] - 52s 336ms/step - loss: 0.5962 - accuracy: 0.6436 - val_loss: 0.6763 - val_accuracy: 0.2792\n"
     ]
    }
   ],
   "source": [
    "configs_dict = {\n",
    "    \"learning_rate\": LEARNING_RATE,\n",
    "    \"algorithm\": \"BiLstm\",\n",
    "    \"configuration\": \"3-tokens-types\",\n",
    "    \"optimizer\": \"adam\",\n",
    "    \"loss\": \"binary_crossentropy\",\n",
    "    \"epochs\": NUM_EPOCHS,\n",
    "    \"batch_size\": 64,\n",
    "    \"vectorizer\": \"bigram_count\",\n",
    "    \"dataset\": \"TOKENIZED_SET_V1\"\n",
    "}\n",
    "run = wandb.init(project=wandb_project_name, reinit=True, config=configs_dict)\n",
    "\n",
    "history = model.fit(train_dataset, \n",
    "                    epochs=NUM_EPOCHS,\n",
    "                    validation_data=test_dataset,\n",
    "                    steps_per_epoch = STEPS_PER_EPOCH,\n",
    "                    validation_steps = VAL_STEPS_PER_EPOCH,\n",
    "                    callbacks= [WandbCallback()])#[tensorboard_callback])\n",
    "run.finish()"
   ]
  },
  {
   "cell_type": "code",
   "execution_count": 42,
   "metadata": {},
   "outputs": [
    {
     "name": "stdout",
     "output_type": "stream",
     "text": [
      "15/15 [==============================] - 2s 103ms/step - loss: 0.6763 - accuracy: 0.2792\n",
      "Test Loss: 0.6763313412666321\n",
      "Test Accuracy: 0.27916666865348816\n"
     ]
    }
   ],
   "source": [
    "test_loss, test_acc = model.evaluate(test_dataset)\n",
    "\n",
    "print(\"Test Loss:\", test_loss)\n",
    "print(\"Test Accuracy:\", test_acc)"
   ]
  },
  {
   "cell_type": "code",
   "execution_count": 43,
   "metadata": {},
   "outputs": [
    {
     "data": {
      "text/plain": [
       "(0.0, 0.7707581430673599)"
      ]
     },
     "execution_count": 43,
     "metadata": {},
     "output_type": "execute_result"
    },
    {
     "data": {
      "image/png": "[encoded data removed]",
      "text/plain": [
       "<Figure size 1600x800 with 2 Axes>"
      ]
     },
     "metadata": {},
     "output_type": "display_data"
    }
   ],
   "source": [
    "plt.figure(figsize=(16,8))\n",
    "plt.subplot(1,2,1)\n",
    "plot_graphs(history, \"accuracy\")\n",
    "plt.ylim(None, 1)\n",
    "plt.subplot(1,2,2)\n",
    "plot_graphs(history, \"loss\")\n",
    "plt.ylim(0, None)"
   ]
  },
  {
   "cell_type": "code",
   "execution_count": 44,
   "metadata": {},
   "outputs": [
    {
     "data": {
      "text/plain": [
       "'\\n# predict on a sample text without padding\\npredictions = model.predict(np.array([sample_text]))\\nprint(predictions[0])\\n'"
      ]
     },
     "execution_count": 44,
     "metadata": {},
     "output_type": "execute_result"
    }
   ],
   "source": [
    "\"\"\"\n",
    "# predict on a sample text without padding\n",
    "predictions = model.predict(np.array([sample_text]))\n",
    "print(predictions[0])\n",
    "\"\"\""
   ]
  },
  {
   "attachments": {},
   "cell_type": "markdown",
   "metadata": {},
   "source": [
    "##### Experiment 5:"
   ]
  },
  {
   "cell_type": "code",
   "execution_count": 45,
   "metadata": {},
   "outputs": [],
   "source": [
    "tokens_input_len = TOKENS_PAD_TO_MAX_TOKENS \n",
    "type_input_len = TYPE_TOKENS_PAD_TO_MAX_TOKENS\n",
    "\n",
    "model_tf_idf = create_model(encoder_tf_idf_tokens, encoder_tf_idf_types,tokens_input_len, type_input_len) # maybe add 30\n",
    "\n",
    "# predict on a sample formula using untrained model\n",
    "#predictions = model_tf_idf.predict(np.array([sample_text]))\n",
    "#print(predictions[0])"
   ]
  },
  {
   "cell_type": "code",
   "execution_count": 46,
   "metadata": {},
   "outputs": [],
   "source": [
    "LEARNING_RATE = 1e-4\n",
    "NUM_EPOCHS = 15\n",
    "sample_text = \"set_constant SET_BASIC\"\n",
    "\n",
    "model_tf_idf.compile(loss=tf.keras.losses.BinaryCrossentropy(from_logits=True),\n",
    "              optimizer=tf.keras.optimizers.Adam(LEARNING_RATE),\n",
    "              metrics=[\"accuracy\"])"
   ]
  },
  {
   "cell_type": "code",
   "execution_count": 47,
   "metadata": {},
   "outputs": [
    {
     "name": "stdout",
     "output_type": "stream",
     "text": [
      "Model: \"model_3\"\n",
      "__________________________________________________________________________________________________\n",
      " Layer (type)                   Output Shape         Param #     Connected to                     \n",
      "==================================================================================================\n",
      " input_7 (InputLayer)           [(None, 1)]          0           []                               \n",
      "                                                                                                  \n",
      " input_8 (InputLayer)           [(None, 1)]          0           []                               \n",
      "                                                                                                  \n",
      " text_vectorization_8 (TextVect  (None, 150)         1           ['input_7[0][0]']                \n",
      " orization)                                                                                       \n",
      "                                                                                                  \n",
      " text_vectorization_9 (TextVect  (None, 100)         1           ['input_8[0][0]']                \n",
      " orization)                                                                                       \n",
      "                                                                                                  \n",
      " concatenate_3 (Concatenate)    (None, 250)          0           ['text_vectorization_8[0][0]',   \n",
      "                                                                  'text_vectorization_9[0][0]']   \n",
      "                                                                                                  \n",
      " embedding_3 (Embedding)        (None, 250, 64)      16064       ['concatenate_3[0][0]']          \n",
      "                                                                                                  \n",
      " bidirectional_3 (Bidirectional  (None, 128)         66048       ['embedding_3[0][0]']            \n",
      " )                                                                                                \n",
      "                                                                                                  \n",
      " dense_6 (Dense)                (None, 64)           8256        ['bidirectional_3[0][0]']        \n",
      "                                                                                                  \n",
      " dense_7 (Dense)                (None, 1)            65          ['dense_6[0][0]']                \n",
      "                                                                                                  \n",
      "==================================================================================================\n",
      "Total params: 90,435\n",
      "Trainable params: 90,433\n",
      "Non-trainable params: 2\n",
      "__________________________________________________________________________________________________\n"
     ]
    }
   ],
   "source": [
    "model_tf_idf.summary()"
   ]
  },
  {
   "cell_type": "code",
   "execution_count": 48,
   "metadata": {},
   "outputs": [
    {
     "name": "stdout",
     "output_type": "stream",
     "text": [
      "Epoch 1/15\n",
      "156/156 [==============================] - ETA: 0s - loss: 0.6712 - accuracy: 0.5500INFO:tensorflow:Assets written to: /home/paul_d/Sources/sem_math_repo/classification_formulas_binary/wandb/run-20230307_195554-zs2hsdbs/files/model-best/assets\n"
     ]
    },
    {
     "name": "stderr",
     "output_type": "stream",
     "text": [
      "INFO:tensorflow:Assets written to: /home/paul_d/Sources/sem_math_repo/classification_formulas_binary/wandb/run-20230307_195554-zs2hsdbs/files/model-best/assets\n"
     ]
    },
    {
     "name": "stdout",
     "output_type": "stream",
     "text": [
      "156/156 [==============================] - 40s 231ms/step - loss: 0.6712 - accuracy: 0.5500 - val_loss: 0.6864 - val_accuracy: 0.0010\n",
      "Epoch 2/15\n",
      "156/156 [==============================] - ETA: 0s - loss: 0.5836 - accuracy: 0.6627INFO:tensorflow:Assets written to: /home/paul_d/Sources/sem_math_repo/classification_formulas_binary/wandb/run-20230307_195554-zs2hsdbs/files/model-best/assets\n"
     ]
    },
    {
     "name": "stderr",
     "output_type": "stream",
     "text": [
      "INFO:tensorflow:Assets written to: /home/paul_d/Sources/sem_math_repo/classification_formulas_binary/wandb/run-20230307_195554-zs2hsdbs/files/model-best/assets\n"
     ]
    },
    {
     "name": "stdout",
     "output_type": "stream",
     "text": [
      "156/156 [==============================] - 35s 225ms/step - loss: 0.5836 - accuracy: 0.6627 - val_loss: 0.6514 - val_accuracy: 0.3333\n",
      "Epoch 3/15\n",
      "156/156 [==============================] - ETA: 0s - loss: 0.5490 - accuracy: 0.6841INFO:tensorflow:Assets written to: /home/paul_d/Sources/sem_math_repo/classification_formulas_binary/wandb/run-20230307_195554-zs2hsdbs/files/model-best/assets\n"
     ]
    },
    {
     "name": "stderr",
     "output_type": "stream",
     "text": [
      "INFO:tensorflow:Assets written to: /home/paul_d/Sources/sem_math_repo/classification_formulas_binary/wandb/run-20230307_195554-zs2hsdbs/files/model-best/assets\n"
     ]
    },
    {
     "name": "stdout",
     "output_type": "stream",
     "text": [
      "156/156 [==============================] - 34s 218ms/step - loss: 0.5490 - accuracy: 0.6841 - val_loss: 0.6267 - val_accuracy: 0.3656\n",
      "Epoch 4/15\n",
      "156/156 [==============================] - ETA: 0s - loss: 0.5315 - accuracy: 0.6841INFO:tensorflow:Assets written to: /home/paul_d/Sources/sem_math_repo/classification_formulas_binary/wandb/run-20230307_195554-zs2hsdbs/files/model-best/assets\n"
     ]
    },
    {
     "name": "stderr",
     "output_type": "stream",
     "text": [
      "INFO:tensorflow:Assets written to: /home/paul_d/Sources/sem_math_repo/classification_formulas_binary/wandb/run-20230307_195554-zs2hsdbs/files/model-best/assets\n"
     ]
    },
    {
     "name": "stdout",
     "output_type": "stream",
     "text": [
      "156/156 [==============================] - 34s 221ms/step - loss: 0.5315 - accuracy: 0.6841 - val_loss: 0.5650 - val_accuracy: 0.3823\n",
      "Epoch 5/15\n",
      "156/156 [==============================] - 19s 122ms/step - loss: 0.5222 - accuracy: 0.6849 - val_loss: 0.5735 - val_accuracy: 0.3865\n",
      "Epoch 6/15\n",
      "156/156 [==============================] - 19s 123ms/step - loss: 0.5161 - accuracy: 0.6906 - val_loss: 0.5738 - val_accuracy: 0.4667\n",
      "Epoch 7/15\n",
      "156/156 [==============================] - 20s 127ms/step - loss: 0.5111 - accuracy: 0.7078 - val_loss: 0.5678 - val_accuracy: 0.4750\n",
      "Epoch 8/15\n",
      "156/156 [==============================] - ETA: 0s - loss: 0.5078 - accuracy: 0.7124INFO:tensorflow:Assets written to: /home/paul_d/Sources/sem_math_repo/classification_formulas_binary/wandb/run-20230307_195554-zs2hsdbs/files/model-best/assets\n"
     ]
    },
    {
     "name": "stderr",
     "output_type": "stream",
     "text": [
      "INFO:tensorflow:Assets written to: /home/paul_d/Sources/sem_math_repo/classification_formulas_binary/wandb/run-20230307_195554-zs2hsdbs/files/model-best/assets\n"
     ]
    },
    {
     "name": "stdout",
     "output_type": "stream",
     "text": [
      "156/156 [==============================] - 35s 226ms/step - loss: 0.5078 - accuracy: 0.7124 - val_loss: 0.5513 - val_accuracy: 0.4865\n",
      "Epoch 9/15\n",
      "156/156 [==============================] - 29s 186ms/step - loss: 0.5055 - accuracy: 0.7156 - val_loss: 0.5824 - val_accuracy: 0.4729\n",
      "Epoch 10/15\n",
      "156/156 [==============================] - ETA: 0s - loss: 0.5033 - accuracy: 0.7168INFO:tensorflow:Assets written to: /home/paul_d/Sources/sem_math_repo/classification_formulas_binary/wandb/run-20230307_195554-zs2hsdbs/files/model-best/assets\n"
     ]
    },
    {
     "name": "stderr",
     "output_type": "stream",
     "text": [
      "INFO:tensorflow:Assets written to: /home/paul_d/Sources/sem_math_repo/classification_formulas_binary/wandb/run-20230307_195554-zs2hsdbs/files/model-best/assets\n"
     ]
    },
    {
     "name": "stdout",
     "output_type": "stream",
     "text": [
      "156/156 [==============================] - 52s 333ms/step - loss: 0.5033 - accuracy: 0.7168 - val_loss: 0.5363 - val_accuracy: 0.4917\n",
      "Epoch 11/15\n",
      "156/156 [==============================] - 23s 144ms/step - loss: 0.5012 - accuracy: 0.7186 - val_loss: 0.5383 - val_accuracy: 0.4958\n",
      "Epoch 12/15\n",
      "156/156 [==============================] - ETA: 0s - loss: 0.4990 - accuracy: 0.7194INFO:tensorflow:Assets written to: /home/paul_d/Sources/sem_math_repo/classification_formulas_binary/wandb/run-20230307_195554-zs2hsdbs/files/model-best/assets\n"
     ]
    },
    {
     "name": "stderr",
     "output_type": "stream",
     "text": [
      "INFO:tensorflow:Assets written to: /home/paul_d/Sources/sem_math_repo/classification_formulas_binary/wandb/run-20230307_195554-zs2hsdbs/files/model-best/assets\n"
     ]
    },
    {
     "name": "stdout",
     "output_type": "stream",
     "text": [
      "156/156 [==============================] - 36s 229ms/step - loss: 0.4990 - accuracy: 0.7194 - val_loss: 0.5286 - val_accuracy: 0.5042\n",
      "Epoch 13/15\n",
      "156/156 [==============================] - ETA: 0s - loss: 0.4966 - accuracy: 0.7223INFO:tensorflow:Assets written to: /home/paul_d/Sources/sem_math_repo/classification_formulas_binary/wandb/run-20230307_195554-zs2hsdbs/files/model-best/assets\n"
     ]
    },
    {
     "name": "stderr",
     "output_type": "stream",
     "text": [
      "INFO:tensorflow:Assets written to: /home/paul_d/Sources/sem_math_repo/classification_formulas_binary/wandb/run-20230307_195554-zs2hsdbs/files/model-best/assets\n"
     ]
    },
    {
     "name": "stdout",
     "output_type": "stream",
     "text": [
      "156/156 [==============================] - 37s 237ms/step - loss: 0.4966 - accuracy: 0.7223 - val_loss: 0.5118 - val_accuracy: 0.5156\n",
      "Epoch 14/15\n",
      "156/156 [==============================] - 21s 132ms/step - loss: 0.4959 - accuracy: 0.7225 - val_loss: 0.5440 - val_accuracy: 0.5073\n",
      "Epoch 15/15\n",
      "156/156 [==============================] - 21s 131ms/step - loss: 0.4941 - accuracy: 0.7268 - val_loss: 0.5221 - val_accuracy: 0.5188\n"
     ]
    }
   ],
   "source": [
    "configs_dict = {\n",
    "    \"learning_rate\": LEARNING_RATE,\n",
    "    \"algorithm\": \"BiLstm\",\n",
    "    \"configuration\": \"3-tokens-types\",\n",
    "    \"optimizer\": \"adam\",\n",
    "    \"loss\": \"binary_crossentropy\",\n",
    "    \"epochs\": NUM_EPOCHS,\n",
    "    \"batch_size\": 64,\n",
    "    \"vectorizer\": \"tf_idf\",\n",
    "    \"dataset\": \"TOKENIZED_SET_V1\"\n",
    "}\n",
    "run = wandb.init(project=wandb_project_name, reinit=True, config=configs_dict)\n",
    "\n",
    "history = model_tf_idf.fit(train_dataset, \n",
    "                    epochs=NUM_EPOCHS,\n",
    "                    validation_data=test_dataset,\n",
    "                    steps_per_epoch = STEPS_PER_EPOCH,\n",
    "                    validation_steps = VAL_STEPS_PER_EPOCH,\n",
    "                    callbacks= [WandbCallback()])#[tensorboard_callback])\n",
    "run.finish()"
   ]
  },
  {
   "cell_type": "code",
   "execution_count": 49,
   "metadata": {},
   "outputs": [
    {
     "name": "stdout",
     "output_type": "stream",
     "text": [
      "15/15 [==============================] - 1s 50ms/step - loss: 0.5221 - accuracy: 0.5188\n",
      "Test Loss: 0.5221454501152039\n",
      "Test Accuracy: 0.518750011920929\n"
     ]
    }
   ],
   "source": [
    "test_loss, test_acc = model_tf_idf.evaluate(test_dataset)\n",
    "\n",
    "print(\"Test Loss:\", test_loss)\n",
    "print(\"Test Accuracy:\", test_acc)"
   ]
  },
  {
   "cell_type": "code",
   "execution_count": 50,
   "metadata": {},
   "outputs": [
    {
     "data": {
      "text/plain": [
       "(0.0, 0.695995420217514)"
      ]
     },
     "execution_count": 50,
     "metadata": {},
     "output_type": "execute_result"
    },
    {
     "data": {
      "image/png": "[encoded data removed]",
      "text/plain": [
       "<Figure size 1600x800 with 2 Axes>"
      ]
     },
     "metadata": {},
     "output_type": "display_data"
    }
   ],
   "source": [
    "plt.figure(figsize=(16,8))\n",
    "plt.subplot(1,2,1)\n",
    "plot_graphs(history, \"accuracy\")\n",
    "plt.ylim(None, 1)\n",
    "plt.subplot(1,2,2)\n",
    "plot_graphs(history, \"loss\")\n",
    "plt.ylim(0, None)"
   ]
  },
  {
   "cell_type": "code",
   "execution_count": 51,
   "metadata": {},
   "outputs": [
    {
     "data": {
      "text/plain": [
       "'\\n# predict on a sample text without padding\\nsample_text = \"set_constant SET_BASIC\"\\npredictions = model_tf_idf.predict(np.array([sample_text]))\\nprint(predictions[0])\\n'"
      ]
     },
     "execution_count": 51,
     "metadata": {},
     "output_type": "execute_result"
    }
   ],
   "source": [
    "\"\"\"\n",
    "# predict on a sample text without padding\n",
    "sample_text = \"set_constant SET_BASIC\"\n",
    "predictions = model_tf_idf.predict(np.array([sample_text]))\n",
    "print(predictions[0])\n",
    "\"\"\""
   ]
  }
 ],
 "metadata": {
  "kernelspec": {
   "display_name": "sem_math_env",
   "language": "python",
   "name": "python3"
  },
  "language_info": {
   "codemirror_mode": {
    "name": "ipython",
    "version": 3
   },
   "file_extension": ".py",
   "mimetype": "text/x-python",
   "name": "python",
   "nbconvert_exporter": "python",
   "pygments_lexer": "ipython3",
   "version": "3.10.9"
  },
  "orig_nbformat": 4,
  "vscode": {
   "interpreter": {
    "hash": "71a9a05a8d236729134f51de1f1fd612c9215f2a378954bc400639bac96e00eb"
   }
  }
 },
 "nbformat": 4,
 "nbformat_minor": 2
}
