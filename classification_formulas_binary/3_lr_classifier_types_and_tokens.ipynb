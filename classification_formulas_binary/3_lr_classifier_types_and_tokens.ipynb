{
 "cells": [
  {
   "cell_type": "code",
   "execution_count": 1,
   "metadata": {},
   "outputs": [],
   "source": [
    "import os\n",
    "\n",
    "# takes care of annoying TF-GPU warnings\n",
    "os.environ[\"CUDA_VISIBLE_DEVICES\"] = \"-1\"\n",
    "os.environ[\"TF_CPP_MIN_LOG_LEVEL\"] = \"3\"\n",
    "\n",
    "# remove useless Tensorflow warning:\n",
    "# WARNING:absl:Found untraced functions such as _update_step_xla, lstm_cell_1_layer_call_fn, \n",
    "# lstm_cell_1_layer_call_and_return_conditional_losses, lstm_cell_2_layer_call_fn, \n",
    "# lstm_cell_2_layer_call_and_return_conditional_losses while saving (showing 5 of 5). \n",
    "# These functions will not be directly callable after loading.\n",
    "import absl.logging\n",
    "absl.logging.set_verbosity(absl.logging.ERROR)"
   ]
  },
  {
   "cell_type": "code",
   "execution_count": 2,
   "metadata": {},
   "outputs": [],
   "source": [
    "# very useful for managing wandb runs: https://stackoverflow.com/questions/71106179/log-two-model-runs-with-keras-wandb\n",
    "import wandb\n",
    "from wandb.keras import WandbCallback\n",
    "os.environ[\"WANDB_SILENT\"] = \"true\""
   ]
  },
  {
   "attachments": {},
   "cell_type": "markdown",
   "metadata": {},
   "source": [
    "#### Logistic Regression: Formula Label Prediction (Variant 3: Stream of math types and tokens)"
   ]
  },
  {
   "cell_type": "code",
   "execution_count": 3,
   "metadata": {},
   "outputs": [],
   "source": [
    "import numpy as np \n",
    "import pandas as pd\n",
    "from pathlib import Path \n",
    "\n",
    "import tensorflow as tf\n",
    "\n",
    "import tensorflow_datasets as tfds\n",
    "import tensorflow_text as tf_text\n",
    "\n",
    "import datetime\n",
    "\n",
    "tfds.disable_progress_bar()\n",
    "wandb_project_name = \"binary_formula_classification\""
   ]
  },
  {
   "cell_type": "code",
   "execution_count": 4,
   "metadata": {},
   "outputs": [],
   "source": [
    "import matplotlib.pyplot as plt\n",
    "\n",
    "def plot_graphs(history, metric):\n",
    "    plt.plot(history.history[metric])\n",
    "    plt.plot(history.history[\"val_\"+metric], \"\")\n",
    "    plt.xlabel(\"Epochs\")\n",
    "    plt.ylabel(metric)\n",
    "    plt.legend([metric, \"val_\"+metric])"
   ]
  },
  {
   "attachments": {},
   "cell_type": "markdown",
   "metadata": {},
   "source": [
    "#### Import Data and Preprocess Dataframe"
   ]
  },
  {
   "cell_type": "code",
   "execution_count": 5,
   "metadata": {},
   "outputs": [],
   "source": [
    "def preprocess_data(corpus,\n",
    "                    irrelevant_features=[\"mtype\",]):\n",
    "    # drop irrelevant columns\n",
    "    corpus.drop(irrelevant_features, inplace=True, axis=1)\n",
    "\n",
    "    # filter strings\n",
    "    def process_cell(cell_str):\n",
    "        stripped_f_str = cell_str[1:-1].replace(\"\\\\\\\\\", \"\\\\\")\n",
    "        f_list = stripped_f_str.split(\",\")\n",
    "        f_list = [token.replace(\"'\", \"\").replace(\" \", \"\") for token in f_list]\n",
    "        f_list = [\"{\" if token == \"\\\\{\" else token for token in f_list]\n",
    "        f_list = [\"}\" if token == \"\\\\}\" else token for token in f_list]\n",
    "        cell_str = \" \".join(f_list)\n",
    "        return cell_str\n",
    "\n",
    "    corpus[\"type_tokens\"] = corpus[\"type_tokens\"].map(process_cell)\n",
    "    corpus[\"tokens\"] = corpus[\"tokens\"].map(process_cell)"
   ]
  },
  {
   "cell_type": "code",
   "execution_count": 6,
   "metadata": {},
   "outputs": [
    {
     "data": {
      "text/html": [
       "<div>\n",
       "<style scoped>\n",
       "    .dataframe tbody tr th:only-of-type {\n",
       "        vertical-align: middle;\n",
       "    }\n",
       "\n",
       "    .dataframe tbody tr th {\n",
       "        vertical-align: top;\n",
       "    }\n",
       "\n",
       "    .dataframe thead th {\n",
       "        text-align: right;\n",
       "    }\n",
       "</style>\n",
       "<table border=\"1\" class=\"dataframe\">\n",
       "  <thead>\n",
       "    <tr style=\"text-align: right;\">\n",
       "      <th></th>\n",
       "      <th>tokens</th>\n",
       "      <th>type_tokens</th>\n",
       "      <th>label</th>\n",
       "    </tr>\n",
       "  </thead>\n",
       "  <tbody>\n",
       "    <tr>\n",
       "      <th>0</th>\n",
       "      <td>f : A \\to B</td>\n",
       "      <td>func_def func_name __ANON_1 COLON mapping __AN...</td>\n",
       "      <td>1</td>\n",
       "    </tr>\n",
       "    <tr>\n",
       "      <th>1</th>\n",
       "      <td>f</td>\n",
       "      <td>func_name __ANON_1</td>\n",
       "      <td>1</td>\n",
       "    </tr>\n",
       "    <tr>\n",
       "      <th>2</th>\n",
       "      <td>g \\colon B \\to I</td>\n",
       "      <td>func_def func_name __ANON_1 COLON mapping __AN...</td>\n",
       "      <td>1</td>\n",
       "    </tr>\n",
       "    <tr>\n",
       "      <th>3</th>\n",
       "      <td>\\frac { 8 ! } { ( 8 - 4 ) ! }</td>\n",
       "      <td>expr_atom CMD_FRAC L_BRACE postfix expr_atom _...</td>\n",
       "      <td>1</td>\n",
       "    </tr>\n",
       "    <tr>\n",
       "      <th>4</th>\n",
       "      <td>f</td>\n",
       "      <td>func_name __ANON_1</td>\n",
       "      <td>1</td>\n",
       "    </tr>\n",
       "  </tbody>\n",
       "</table>\n",
       "</div>"
      ],
      "text/plain": [
       "                          tokens  \\\n",
       "0                    f : A \\to B   \n",
       "1                              f   \n",
       "2               g \\colon B \\to I   \n",
       "3  \\frac { 8 ! } { ( 8 - 4 ) ! }   \n",
       "4                              f   \n",
       "\n",
       "                                         type_tokens  label  \n",
       "0  func_def func_name __ANON_1 COLON mapping __AN...      1  \n",
       "1                                 func_name __ANON_1      1  \n",
       "2  func_def func_name __ANON_1 COLON mapping __AN...      1  \n",
       "3  expr_atom CMD_FRAC L_BRACE postfix expr_atom _...      1  \n",
       "4                                 func_name __ANON_1      1  "
      ]
     },
     "execution_count": 6,
     "metadata": {},
     "output_type": "execute_result"
    }
   ],
   "source": [
    "#print(os.getcwd())\n",
    "data_p = Path(\"../data/\") / \"bin_class_data_TOKENIZED_SET_V1.csv\"\n",
    "data = pd.read_csv(data_p)\n",
    "preprocess_data(data)\n",
    "data.head()"
   ]
  },
  {
   "cell_type": "code",
   "execution_count": 7,
   "metadata": {},
   "outputs": [
    {
     "name": "stdout",
     "output_type": "stream",
     "text": [
      "126\n",
      "104\n"
     ]
    }
   ],
   "source": [
    "print(data[\"type_tokens\"].map(lambda x: len((x.split(\" \")))).max())\n",
    "print(data[\"tokens\"].map(lambda x: len((x.split(\" \")))).max())"
   ]
  },
  {
   "cell_type": "code",
   "execution_count": 8,
   "metadata": {},
   "outputs": [],
   "source": [
    "SIZE_TRAIN_DS = 10000\n",
    "SIZE_TEST_DS = 1000\n",
    "data_as_ds = tf.data.Dataset.from_tensor_slices((data[\"tokens\"],data[\"type_tokens\"]))\n",
    "labels_ds = tf.data.Dataset.from_tensor_slices(data[\"label\"])\n",
    "data_as_ds = tf.data.Dataset.zip((data_as_ds, labels_ds))\n",
    "test_dataset = data_as_ds.take(SIZE_TEST_DS)\n",
    "train_dataset = data_as_ds.skip(SIZE_TEST_DS)"
   ]
  },
  {
   "cell_type": "code",
   "execution_count": 9,
   "metadata": {},
   "outputs": [
    {
     "data": {
      "text/plain": [
       "((TensorSpec(shape=(), dtype=tf.string, name=None),\n",
       "  TensorSpec(shape=(), dtype=tf.string, name=None)),\n",
       " TensorSpec(shape=(), dtype=tf.int64, name=None))"
      ]
     },
     "execution_count": 9,
     "metadata": {},
     "output_type": "execute_result"
    }
   ],
   "source": [
    "data_as_ds.element_spec"
   ]
  },
  {
   "attachments": {},
   "cell_type": "markdown",
   "metadata": {},
   "source": [
    "##### Setup and Data Preparation"
   ]
  },
  {
   "cell_type": "code",
   "execution_count": 10,
   "metadata": {},
   "outputs": [
    {
     "name": "stdout",
     "output_type": "stream",
     "text": [
      "text:  b'f'\n",
      "type:  b'func_name __ANON_1'\n",
      "label:  1\n",
      "text:  b'f'\n",
      "type:  b'func_name __ANON_1'\n",
      "label:  1\n",
      "text:  b'f : X \\\\rightarrow Y'\n",
      "type:  b'func_def func_name __ANON_1 COLON mapping __ANON_0 TO __ANON_0'\n",
      "label:  1\n",
      "text:  b'mathbb{R'\n",
      "type:  b'set_constant SET_BASIC'\n",
      "label:  1\n",
      "text:  b'g : \\\\mathbb{N} \\\\to X'\n",
      "type:  b'func_def func_name __ANON_1 COLON mapping set_constant SET_BASIC TO __ANON_0'\n",
      "label:  1\n"
     ]
    }
   ],
   "source": [
    "for (example_token, example_type), label in train_dataset.take(5):\n",
    "    print(\"text: \", example_token.numpy())\n",
    "    print(\"type: \", example_type.numpy())\n",
    "    print(\"label: \", label.numpy())"
   ]
  },
  {
   "cell_type": "code",
   "execution_count": 11,
   "metadata": {},
   "outputs": [],
   "source": [
    "BUFFER_SIZE = SIZE_TRAIN_DS\n",
    "BATCH_SIZE = 64\n",
    "STEPS_PER_EPOCH = np.floor(SIZE_TRAIN_DS/BATCH_SIZE)\n",
    "VAL_STEPS_PER_EPOCH = np.floor(SIZE_TEST_DS/BATCH_SIZE)\n",
    "train_dataset = train_dataset.shuffle(BUFFER_SIZE).batch(BATCH_SIZE, drop_remainder=True).prefetch(tf.data.AUTOTUNE)\n",
    "test_dataset = test_dataset.batch(BATCH_SIZE, drop_remainder=True).prefetch(tf.data.AUTOTUNE)"
   ]
  },
  {
   "attachments": {},
   "cell_type": "markdown",
   "metadata": {},
   "source": [
    "##### Text Encoding"
   ]
  },
  {
   "cell_type": "code",
   "execution_count": 12,
   "metadata": {},
   "outputs": [],
   "source": [
    "# for int encoder\n",
    "TYPE_TOKENS_MAX_SEQ_LEN = 130 \n",
    "TOKENS_MAX_SEQ_LEN = 110\n",
    "\n",
    "# for other encoders \n",
    "TYPE_TOKENS_PAD_TO_MAX_TOKENS = 100 \n",
    "TOKENS_PAD_TO_MAX_TOKENS = 150\n",
    "BIGRAM_PAD_TO_MAX_TOKENS = 350"
   ]
  },
  {
   "cell_type": "code",
   "execution_count": 13,
   "metadata": {},
   "outputs": [],
   "source": [
    "def create_encoder(output_mode_str, n_grams, mode):\n",
    "    if output_mode_str == \"int\":\n",
    "        VOCAB_SIZE = 200\n",
    "        if mode == \"token\":\n",
    "            max_seq_len = TOKENS_MAX_SEQ_LEN\n",
    "        elif mode == \"type\":\n",
    "            max_seq_len = TYPE_TOKENS_MAX_SEQ_LEN\n",
    "\n",
    "        encoder = tf.keras.layers.TextVectorization(\n",
    "            standardize=None,\n",
    "            output_mode=output_mode_str,\n",
    "            ngrams = n_grams,\n",
    "            output_sequence_length = max_seq_len,\n",
    "            split=\"whitespace\",\n",
    "            max_tokens=VOCAB_SIZE)\n",
    "        #TODO: adapt for different inputs\n",
    "        if mode == \"token\": \n",
    "            encoder.adapt(train_dataset.map(lambda inputs, label: inputs[0])) # removes the label column through transformation: text, label -> text\n",
    "        elif mode == \"type\":\n",
    "            encoder.adapt(train_dataset.map(lambda inputs, label: inputs[1])) # removes the label column through transformation: text, label -> text\n",
    "        return encoder\n",
    "    \n",
    "    if output_mode_str == \"count\" and n_grams == 2:\n",
    "        max_seq_len = BIGRAM_PAD_TO_MAX_TOKENS\n",
    "        encoder = tf.keras.layers.TextVectorization(\n",
    "            standardize=None,\n",
    "            output_mode=output_mode_str,\n",
    "            ngrams = n_grams,\n",
    "            pad_to_max_tokens = max_seq_len,\n",
    "            split=\"whitespace\",\n",
    "            max_tokens=max_seq_len)\n",
    "        \n",
    "        #TODO: adapt for different inputs\n",
    "        if mode == \"token\": \n",
    "            encoder.adapt(train_dataset.map(lambda inputs, label: inputs[0])) # removes the label column through transformation: text, label -> text\n",
    "        elif mode == \"type\":\n",
    "            encoder.adapt(train_dataset.map(lambda inputs, label: inputs[1])) # removes the label column through transformation: text, label -> text\n",
    "        return encoder\n",
    "    \n",
    "    if mode == \"token\":\n",
    "        max_seq_len = TOKENS_PAD_TO_MAX_TOKENS\n",
    "    elif mode == \"type\":\n",
    "        max_seq_len = TYPE_TOKENS_PAD_TO_MAX_TOKENS\n",
    "\n",
    "    encoder = tf.keras.layers.TextVectorization(\n",
    "        standardize=None,\n",
    "        output_mode=output_mode_str,\n",
    "        ngrams = n_grams,\n",
    "        pad_to_max_tokens = max_seq_len,\n",
    "        split=\"whitespace\",\n",
    "        max_tokens=max_seq_len)\n",
    "    #TODO: adapt for different inputs\n",
    "    if mode == \"token\": \n",
    "        encoder.adapt(train_dataset.map(lambda inputs, label: inputs[0])) # removes the label column through transformation: text, label -> text\n",
    "    elif mode == \"type\":\n",
    "        encoder.adapt(train_dataset.map(lambda inputs, label: inputs[1])) # removes the label column through transformation: text, label -> text\n",
    "    \n",
    "    return encoder\n",
    "\n",
    "\n",
    "    "
   ]
  },
  {
   "attachments": {},
   "cell_type": "markdown",
   "metadata": {},
   "source": [
    "##### Representation 1: Use integer indices encoding"
   ]
  },
  {
   "cell_type": "code",
   "execution_count": 14,
   "metadata": {},
   "outputs": [
    {
     "name": "stdout",
     "output_type": "stream",
     "text": [
      "WARNING:tensorflow:From /home/paul_d/Sources/sem_math_repo/sem_math_env/lib/python3.10/site-packages/tensorflow/python/autograph/pyct/static_analysis/liveness.py:83: Analyzer.lamba_check (from tensorflow.python.autograph.pyct.static_analysis.liveness) is deprecated and will be removed after 2023-09-23.\n",
      "Instructions for updating:\n",
      "Lambda fuctions will be no more assumed to be used in the statement where they are used, or at least in the same block. https://github.com/tensorflow/tensorflow/issues/56089\n",
      "tokens (voc size):  123\n",
      "types (voc size):  59\n"
     ]
    }
   ],
   "source": [
    "encoder_int_tokens = create_encoder(\"int\", None, \"token\")\n",
    "encoder_int_types = create_encoder(\"int\", None, \"type\")\n",
    "\n",
    "vocab_tokens = np.array(encoder_int_tokens.get_vocabulary())\n",
    "vocab_size_tokens = len(encoder_int_tokens.get_vocabulary())\n",
    "vocab_types = np.array(encoder_int_types.get_vocabulary())\n",
    "vocab_size_types = len(encoder_int_types.get_vocabulary())\n",
    "\n",
    "print(\"tokens (voc size): \", vocab_size_tokens)\n",
    "print(\"types (voc size): \", vocab_size_types)"
   ]
  },
  {
   "cell_type": "code",
   "execution_count": 15,
   "metadata": {},
   "outputs": [
    {
     "name": "stdout",
     "output_type": "stream",
     "text": [
      "tokens: \n",
      "tf.Tensor(b'g : \\\\mathbb{N} \\\\to X', shape=(), dtype=string)\n",
      "[18  8 34 13 23  0  0  0  0  0  0  0  0  0  0  0  0  0  0  0  0  0  0  0\n",
      "  0  0  0  0  0  0  0  0  0  0  0  0  0  0  0  0  0  0  0  0  0  0  0  0\n",
      "  0  0  0  0  0  0  0  0  0  0  0  0  0  0  0  0  0  0  0  0  0  0  0  0\n",
      "  0  0  0  0  0  0  0  0  0  0  0  0  0  0  0  0  0  0  0  0  0  0  0  0\n",
      "  0  0  0  0  0  0  0  0  0  0  0  0  0  0]\n",
      "(110,)\n",
      "types: \n",
      "tf.Tensor(b'func_def func_name __ANON_1 COLON mapping set_constant SET_BASIC TO __ANON_0', shape=(), dtype=string)\n",
      "[ 9  5  2  7  8 21 22 10  6  0  0  0  0  0  0  0  0  0  0  0  0  0  0  0\n",
      "  0  0  0  0  0  0  0  0  0  0  0  0  0  0  0  0  0  0  0  0  0  0  0  0\n",
      "  0  0  0  0  0  0  0  0  0  0  0  0  0  0  0  0  0  0  0  0  0  0  0  0\n",
      "  0  0  0  0  0  0  0  0  0  0  0  0  0  0  0  0  0  0  0  0  0  0  0  0\n",
      "  0  0  0  0  0  0  0  0  0  0  0  0  0  0  0  0  0  0  0  0  0  0  0  0\n",
      "  0  0  0  0  0  0  0  0  0  0]\n",
      "(130,)\n"
     ]
    }
   ],
   "source": [
    "encoded_example_token = encoder_int_tokens(example_token).numpy()\n",
    "encoded_example_types = encoder_int_types(example_type).numpy()\n",
    "\n",
    "print(\"tokens: \")\n",
    "print(example_token)\n",
    "print(encoded_example_token)\n",
    "print(encoded_example_token.shape)\n",
    "\n",
    "print(\"types: \")\n",
    "print(example_type)\n",
    "print(encoded_example_types)\n",
    "print(encoded_example_types.shape)"
   ]
  },
  {
   "attachments": {},
   "cell_type": "markdown",
   "metadata": {},
   "source": [
    "##### Representation 2: Binary Count Vectorizer"
   ]
  },
  {
   "cell_type": "code",
   "execution_count": 16,
   "metadata": {},
   "outputs": [
    {
     "name": "stdout",
     "output_type": "stream",
     "text": [
      "tokens (voc size):  122\n",
      "types (voc size):  58\n"
     ]
    }
   ],
   "source": [
    "encoder_multi_hot_tokens = create_encoder(\"multi_hot\", None, \"token\")\n",
    "encoder_multi_hot_types = create_encoder(\"multi_hot\", None, \"type\")\n",
    "\n",
    "vocab_tokens = np.array(encoder_multi_hot_tokens.get_vocabulary())\n",
    "vocab_size_tokens = len(encoder_multi_hot_tokens.get_vocabulary())\n",
    "vocab_types = np.array(encoder_multi_hot_types.get_vocabulary())\n",
    "vocab_size_types = len(encoder_multi_hot_types.get_vocabulary())\n",
    "\n",
    "print(\"tokens (voc size): \", vocab_size_tokens)\n",
    "print(\"types (voc size): \", vocab_size_types)"
   ]
  },
  {
   "cell_type": "code",
   "execution_count": 17,
   "metadata": {},
   "outputs": [
    {
     "name": "stdout",
     "output_type": "stream",
     "text": [
      "tokens: \n",
      "tf.Tensor(b'g : \\\\mathbb{N} \\\\to X', shape=(), dtype=string)\n",
      "[0. 0. 0. 0. 0. 0. 0. 1. 0. 0. 0. 0. 1. 0. 0. 0. 0. 1. 0. 0. 0. 0. 1. 0.\n",
      " 0. 0. 0. 0. 0. 0. 0. 0. 0. 1. 0. 0. 0. 0. 0. 0. 0. 0. 0. 0. 0. 0. 0. 0.\n",
      " 0. 0. 0. 0. 0. 0. 0. 0. 0. 0. 0. 0. 0. 0. 0. 0. 0. 0. 0. 0. 0. 0. 0. 0.\n",
      " 0. 0. 0. 0. 0. 0. 0. 0. 0. 0. 0. 0. 0. 0. 0. 0. 0. 0. 0. 0. 0. 0. 0. 0.\n",
      " 0. 0. 0. 0. 0. 0. 0. 0. 0. 0. 0. 0. 0. 0. 0. 0. 0. 0. 0. 0. 0. 0. 0. 0.\n",
      " 0. 0. 0. 0. 0. 0. 0. 0. 0. 0. 0. 0. 0. 0. 0. 0. 0. 0. 0. 0. 0. 0. 0. 0.\n",
      " 0. 0. 0. 0. 0. 0.]\n",
      "(150,)\n",
      "types: \n",
      "tf.Tensor(b'func_def func_name __ANON_1 COLON mapping set_constant SET_BASIC TO __ANON_0', shape=(), dtype=string)\n",
      "[0. 1. 0. 0. 1. 1. 1. 1. 1. 1. 0. 0. 0. 0. 0. 0. 0. 0. 0. 0. 1. 1. 0. 0.\n",
      " 0. 0. 0. 0. 0. 0. 0. 0. 0. 0. 0. 0. 0. 0. 0. 0. 0. 0. 0. 0. 0. 0. 0. 0.\n",
      " 0. 0. 0. 0. 0. 0. 0. 0. 0. 0. 0. 0. 0. 0. 0. 0. 0. 0. 0. 0. 0. 0. 0. 0.\n",
      " 0. 0. 0. 0. 0. 0. 0. 0. 0. 0. 0. 0. 0. 0. 0. 0. 0. 0. 0. 0. 0. 0. 0. 0.\n",
      " 0. 0. 0. 0.]\n",
      "(100,)\n"
     ]
    }
   ],
   "source": [
    "encoded_example_token = encoder_multi_hot_tokens(example_token).numpy()\n",
    "encoded_example_types = encoder_multi_hot_types(example_type).numpy()\n",
    "\n",
    "print(\"tokens: \")\n",
    "print(example_token)\n",
    "print(encoded_example_token)\n",
    "print(encoded_example_token.shape)\n",
    "\n",
    "print(\"types: \")\n",
    "print(example_type)\n",
    "print(encoded_example_types)\n",
    "print(encoded_example_types.shape)"
   ]
  },
  {
   "attachments": {},
   "cell_type": "markdown",
   "metadata": {},
   "source": [
    "##### Representation 3: Frequency Count Vectorizer"
   ]
  },
  {
   "cell_type": "code",
   "execution_count": 18,
   "metadata": {},
   "outputs": [
    {
     "name": "stdout",
     "output_type": "stream",
     "text": [
      "tokens (voc size):  122\n",
      "types (voc size):  58\n"
     ]
    }
   ],
   "source": [
    "encoder_count_tokens = create_encoder(\"count\", None, \"token\")\n",
    "encoder_count_types = create_encoder(\"count\", None, \"type\")\n",
    "\n",
    "vocab_tokens = np.array(encoder_count_tokens.get_vocabulary())\n",
    "vocab_size_tokens = len(encoder_count_tokens.get_vocabulary())\n",
    "vocab_types = np.array(encoder_count_types.get_vocabulary())\n",
    "vocab_size_types = len(encoder_count_types.get_vocabulary())\n",
    "\n",
    "print(\"tokens (voc size): \", vocab_size_tokens)\n",
    "print(\"types (voc size): \", vocab_size_types)"
   ]
  },
  {
   "cell_type": "code",
   "execution_count": 19,
   "metadata": {},
   "outputs": [
    {
     "name": "stdout",
     "output_type": "stream",
     "text": [
      "tokens: \n",
      "tf.Tensor(b'g : \\\\mathbb{N} \\\\to X', shape=(), dtype=string)\n",
      "[0. 0. 0. 0. 0. 0. 0. 1. 0. 0. 0. 0. 1. 0. 0. 0. 0. 1. 0. 0. 0. 0. 1. 0.\n",
      " 0. 0. 0. 0. 0. 0. 0. 0. 0. 1. 0. 0. 0. 0. 0. 0. 0. 0. 0. 0. 0. 0. 0. 0.\n",
      " 0. 0. 0. 0. 0. 0. 0. 0. 0. 0. 0. 0. 0. 0. 0. 0. 0. 0. 0. 0. 0. 0. 0. 0.\n",
      " 0. 0. 0. 0. 0. 0. 0. 0. 0. 0. 0. 0. 0. 0. 0. 0. 0. 0. 0. 0. 0. 0. 0. 0.\n",
      " 0. 0. 0. 0. 0. 0. 0. 0. 0. 0. 0. 0. 0. 0. 0. 0. 0. 0. 0. 0. 0. 0. 0. 0.\n",
      " 0. 0. 0. 0. 0. 0. 0. 0. 0. 0. 0. 0. 0. 0. 0. 0. 0. 0. 0. 0. 0. 0. 0. 0.\n",
      " 0. 0. 0. 0. 0. 0.]\n",
      "(150,)\n",
      "types: \n",
      "tf.Tensor(b'func_def func_name __ANON_1 COLON mapping set_constant SET_BASIC TO __ANON_0', shape=(), dtype=string)\n",
      "[0. 1. 0. 0. 1. 1. 1. 1. 1. 1. 0. 0. 0. 0. 0. 0. 0. 0. 0. 0. 1. 1. 0. 0.\n",
      " 0. 0. 0. 0. 0. 0. 0. 0. 0. 0. 0. 0. 0. 0. 0. 0. 0. 0. 0. 0. 0. 0. 0. 0.\n",
      " 0. 0. 0. 0. 0. 0. 0. 0. 0. 0. 0. 0. 0. 0. 0. 0. 0. 0. 0. 0. 0. 0. 0. 0.\n",
      " 0. 0. 0. 0. 0. 0. 0. 0. 0. 0. 0. 0. 0. 0. 0. 0. 0. 0. 0. 0. 0. 0. 0. 0.\n",
      " 0. 0. 0. 0.]\n",
      "(100,)\n"
     ]
    }
   ],
   "source": [
    "encoded_example_token = encoder_count_tokens(example_token).numpy()\n",
    "encoded_example_types = encoder_count_types(example_type).numpy()\n",
    "\n",
    "print(\"tokens: \")\n",
    "print(example_token)\n",
    "print(encoded_example_token)\n",
    "print(encoded_example_token.shape)\n",
    "\n",
    "print(\"types: \")\n",
    "print(example_type)\n",
    "print(encoded_example_types)\n",
    "print(encoded_example_types.shape)"
   ]
  },
  {
   "attachments": {},
   "cell_type": "markdown",
   "metadata": {},
   "source": [
    "##### Representation 4: Bigrams Frequency Count Vectorizer"
   ]
  },
  {
   "cell_type": "code",
   "execution_count": 20,
   "metadata": {},
   "outputs": [
    {
     "name": "stdout",
     "output_type": "stream",
     "text": [
      "tokens (voc size):  350\n",
      "types (voc size):  350\n"
     ]
    }
   ],
   "source": [
    "encoder_bigrams_tokens = create_encoder(\"count\", (2), \"token\")\n",
    "encoder_bigrams_types = create_encoder(\"count\", (2), \"type\")\n",
    "\n",
    "vocab_tokens = np.array(encoder_bigrams_tokens.get_vocabulary())\n",
    "vocab_size_tokens = len(encoder_bigrams_tokens.get_vocabulary())\n",
    "vocab_types = np.array(encoder_bigrams_types.get_vocabulary())\n",
    "vocab_size_types = len(encoder_bigrams_types.get_vocabulary())\n",
    "\n",
    "print(\"tokens (voc size): \", vocab_size_tokens)\n",
    "print(\"types (voc size): \", vocab_size_types)"
   ]
  },
  {
   "cell_type": "code",
   "execution_count": 21,
   "metadata": {},
   "outputs": [
    {
     "name": "stdout",
     "output_type": "stream",
     "text": [
      "tokens: \n",
      "tf.Tensor(b'g : \\\\mathbb{N} \\\\to X', shape=(), dtype=string)\n",
      "[0. 0. 0. 0. 0. 0. 0. 1. 0. 0. 0. 0. 1. 0. 0. 0. 0. 0. 1. 0. 0. 0. 0. 0.\n",
      " 0. 0. 1. 0. 0. 0. 0. 0. 0. 0. 0. 0. 0. 0. 0. 0. 0. 0. 0. 0. 0. 1. 0. 0.\n",
      " 0. 0. 0. 0. 0. 0. 0. 0. 0. 0. 0. 0. 0. 1. 0. 0. 0. 0. 0. 0. 0. 0. 0. 0.\n",
      " 0. 0. 0. 0. 0. 0. 0. 0. 0. 0. 0. 0. 0. 0. 0. 0. 1. 0. 0. 0. 0. 0. 0. 0.\n",
      " 0. 0. 0. 0. 0. 0. 0. 0. 0. 0. 1. 0. 0. 0. 0. 0. 0. 0. 0. 0. 0. 0. 0. 0.\n",
      " 0. 0. 0. 0. 0. 0. 1. 0. 0. 0. 0. 0. 0. 0. 0. 0. 0. 0. 0. 0. 0. 0. 0. 0.\n",
      " 0. 0. 0. 0. 0. 0. 0. 0. 0. 0. 0. 0. 0. 0. 0. 0. 0. 0. 0. 0. 0. 0. 0. 0.\n",
      " 0. 0. 0. 0. 0. 0. 0. 0. 0. 0. 0. 0. 0. 0. 0. 0. 0. 0. 0. 0. 0. 0. 0. 0.\n",
      " 0. 0. 0. 0. 0. 0. 0. 0. 0. 0. 0. 0. 0. 0. 0. 0. 0. 0. 0. 0. 0. 0. 0. 0.\n",
      " 0. 0. 0. 0. 0. 0. 0. 0. 0. 0. 0. 0. 0. 0. 0. 0. 0. 0. 0. 0. 0. 0. 0. 0.\n",
      " 0. 0. 0. 0. 0. 0. 0. 0. 0. 0. 0. 0. 0. 0. 0. 0. 0. 0. 0. 0. 0. 0. 0. 0.\n",
      " 0. 0. 0. 0. 0. 0. 0. 0. 0. 0. 0. 0. 0. 0. 0. 0. 0. 0. 0. 0. 0. 0. 0. 0.\n",
      " 0. 0. 0. 0. 0. 0. 0. 0. 0. 0. 0. 0. 0. 0. 0. 0. 0. 0. 0. 0. 0. 0. 0. 0.\n",
      " 0. 0. 0. 0. 0. 0. 0. 0. 0. 0. 0. 0. 0. 0. 0. 0. 0. 0. 0. 0. 0. 0. 0. 0.\n",
      " 0. 0. 0. 0. 0. 0. 0. 0. 0. 0. 0. 0. 0. 0.]\n",
      "(350,)\n",
      "types: \n",
      "tf.Tensor(b'func_def func_name __ANON_1 COLON mapping set_constant SET_BASIC TO __ANON_0', shape=(), dtype=string)\n",
      "[0. 1. 0. 0. 1. 1. 0. 1. 0. 1. 1. 1. 1. 1. 1. 1. 0. 0. 0. 0. 0. 0. 0. 0.\n",
      " 0. 0. 0. 0. 1. 0. 0. 0. 1. 1. 1. 0. 0. 0. 0. 0. 0. 0. 0. 0. 0. 0. 0. 0.\n",
      " 0. 0. 0. 0. 0. 0. 0. 0. 0. 0. 0. 0. 0. 0. 0. 0. 0. 0. 0. 0. 0. 0. 0. 0.\n",
      " 0. 0. 0. 0. 0. 0. 0. 0. 0. 0. 0. 1. 0. 0. 0. 1. 0. 0. 0. 0. 0. 0. 0. 0.\n",
      " 0. 0. 0. 0. 0. 0. 0. 0. 0. 0. 0. 0. 0. 0. 0. 0. 0. 0. 0. 0. 0. 0. 0. 0.\n",
      " 0. 0. 0. 0. 0. 0. 0. 0. 0. 0. 0. 0. 0. 0. 0. 0. 0. 0. 0. 0. 0. 0. 0. 0.\n",
      " 0. 0. 0. 0. 0. 0. 0. 0. 0. 0. 0. 0. 0. 0. 0. 0. 0. 0. 0. 0. 0. 0. 0. 0.\n",
      " 0. 0. 0. 0. 0. 0. 0. 0. 0. 0. 0. 0. 0. 0. 0. 0. 0. 0. 0. 0. 0. 0. 0. 0.\n",
      " 0. 0. 0. 0. 0. 0. 0. 0. 0. 0. 0. 0. 0. 0. 0. 0. 0. 0. 0. 0. 0. 0. 0. 0.\n",
      " 0. 0. 0. 0. 0. 0. 0. 0. 0. 0. 0. 0. 0. 0. 0. 0. 0. 0. 0. 0. 0. 0. 0. 0.\n",
      " 0. 0. 0. 0. 0. 0. 0. 0. 0. 0. 0. 0. 0. 0. 0. 0. 0. 0. 0. 0. 0. 0. 0. 0.\n",
      " 0. 0. 0. 0. 0. 0. 0. 0. 0. 0. 0. 0. 0. 0. 0. 0. 0. 0. 0. 0. 0. 0. 0. 0.\n",
      " 0. 0. 0. 0. 0. 0. 0. 0. 0. 0. 0. 0. 0. 0. 0. 0. 0. 0. 0. 0. 0. 0. 0. 0.\n",
      " 0. 0. 0. 0. 0. 0. 0. 0. 0. 0. 0. 0. 0. 0. 0. 0. 0. 0. 0. 0. 0. 0. 0. 0.\n",
      " 0. 0. 0. 0. 0. 0. 0. 0. 0. 0. 0. 0. 0. 0.]\n",
      "(350,)\n"
     ]
    }
   ],
   "source": [
    "encoded_example_token = encoder_bigrams_tokens(example_token).numpy()\n",
    "encoded_example_types = encoder_bigrams_types(example_type).numpy()\n",
    "\n",
    "print(\"tokens: \")\n",
    "print(example_token)\n",
    "print(encoded_example_token)\n",
    "print(encoded_example_token.shape)\n",
    "\n",
    "print(\"types: \")\n",
    "print(example_type)\n",
    "print(encoded_example_types)\n",
    "print(encoded_example_types.shape)"
   ]
  },
  {
   "attachments": {},
   "cell_type": "markdown",
   "metadata": {},
   "source": [
    "##### Representation 5: Tf-Idf Vectorizer"
   ]
  },
  {
   "cell_type": "code",
   "execution_count": 22,
   "metadata": {},
   "outputs": [
    {
     "name": "stdout",
     "output_type": "stream",
     "text": [
      "tokens (voc size):  122\n",
      "types (voc size):  58\n"
     ]
    }
   ],
   "source": [
    "encoder_tf_idf_tokens = create_encoder(\"tf_idf\", None, \"token\")\n",
    "encoder_tf_idf_types = create_encoder(\"tf_idf\", None, \"type\")\n",
    "\n",
    "vocab_tokens = np.array(encoder_tf_idf_tokens.get_vocabulary())\n",
    "vocab_size_tokens = len(encoder_tf_idf_tokens.get_vocabulary())\n",
    "vocab_types = np.array(encoder_tf_idf_types.get_vocabulary())\n",
    "vocab_size_types = len(encoder_tf_idf_types.get_vocabulary())\n",
    "\n",
    "print(\"tokens (voc size): \", vocab_size_tokens)\n",
    "print(\"types (voc size): \", vocab_size_types)"
   ]
  },
  {
   "cell_type": "code",
   "execution_count": 23,
   "metadata": {},
   "outputs": [
    {
     "name": "stdout",
     "output_type": "stream",
     "text": [
      "tokens: \n",
      "tf.Tensor(b'g : \\\\mathbb{N} \\\\to X', shape=(), dtype=string)\n",
      "[0.        0.        0.        0.        0.        0.        0.\n",
      " 2.0530765 0.        0.        0.        0.        2.2306762 0.\n",
      " 0.        0.        0.        2.7030165 0.        0.        0.\n",
      " 0.        3.0641932 0.        0.        0.        0.        0.\n",
      " 0.        0.        0.        0.        0.        3.845844  0.\n",
      " 0.        0.        0.        0.        0.        0.        0.\n",
      " 0.        0.        0.        0.        0.        0.        0.\n",
      " 0.        0.        0.        0.        0.        0.        0.\n",
      " 0.        0.        0.        0.        0.        0.        0.\n",
      " 0.        0.        0.        0.        0.        0.        0.\n",
      " 0.        0.        0.        0.        0.        0.        0.\n",
      " 0.        0.        0.        0.        0.        0.        0.\n",
      " 0.        0.        0.        0.        0.        0.        0.\n",
      " 0.        0.        0.        0.        0.        0.        0.\n",
      " 0.        0.        0.        0.        0.        0.        0.\n",
      " 0.        0.        0.        0.        0.        0.        0.\n",
      " 0.        0.        0.        0.        0.        0.        0.\n",
      " 0.        0.        0.        0.        0.        0.        0.\n",
      " 0.        0.        0.        0.        0.        0.        0.\n",
      " 0.        0.        0.        0.        0.        0.        0.\n",
      " 0.        0.        0.        0.        0.        0.        0.\n",
      " 0.        0.        0.       ]\n",
      "(150,)\n",
      "types: \n",
      "tf.Tensor(b'func_def func_name __ANON_1 COLON mapping set_constant SET_BASIC TO __ANON_0', shape=(), dtype=string)\n",
      "[0.         0.97816616 0.         0.         1.0940922  1.7038882\n",
      " 1.9356781  1.9361864  1.9361864  1.9361864  0.         0.\n",
      " 0.         0.         0.         0.         0.         0.\n",
      " 0.         0.         2.8940687  2.9320002  0.         0.\n",
      " 0.         0.         0.         0.         0.         0.\n",
      " 0.         0.         0.         0.         0.         0.\n",
      " 0.         0.         0.         0.         0.         0.\n",
      " 0.         0.         0.         0.         0.         0.\n",
      " 0.         0.         0.         0.         0.         0.\n",
      " 0.         0.         0.         0.         0.         0.\n",
      " 0.         0.         0.         0.         0.         0.\n",
      " 0.         0.         0.         0.         0.         0.\n",
      " 0.         0.         0.         0.         0.         0.\n",
      " 0.         0.         0.         0.         0.         0.\n",
      " 0.         0.         0.         0.         0.         0.\n",
      " 0.         0.         0.         0.         0.         0.\n",
      " 0.         0.         0.         0.        ]\n",
      "(100,)\n"
     ]
    }
   ],
   "source": [
    "encoded_example_token = encoder_tf_idf_tokens(example_token).numpy()\n",
    "encoded_example_types = encoder_tf_idf_types(example_type).numpy()\n",
    "\n",
    "print(\"tokens: \")\n",
    "print(example_token)\n",
    "print(encoded_example_token)\n",
    "print(encoded_example_token.shape)\n",
    "\n",
    "print(\"types: \")\n",
    "print(example_type)\n",
    "print(encoded_example_types)\n",
    "print(encoded_example_types.shape)"
   ]
  },
  {
   "attachments": {},
   "cell_type": "markdown",
   "metadata": {},
   "source": [
    "##### Model (Bidirectional LSTM with one layer)"
   ]
  },
  {
   "attachments": {},
   "cell_type": "markdown",
   "metadata": {},
   "source": [
    " **Define and compile model**"
   ]
  },
  {
   "cell_type": "code",
   "execution_count": 24,
   "metadata": {},
   "outputs": [],
   "source": [
    "def create_model(tokens_encoder, types_encoder, tokens_size, types_size, add_inp_emb_dim=1):\n",
    "    embedding_input_dim = tokens_size + types_size + add_inp_emb_dim\n",
    "\n",
    "    tokens_model_input = tf.keras.layers.Input(dtype=tf.string, shape=(1,))\n",
    "    tokens_vectorized = tokens_encoder(tokens_model_input)\n",
    "\n",
    "    types_model_input = tf.keras.layers.Input(dtype=tf.string, shape=(1,))\n",
    "    types_vectorized = types_encoder(types_model_input)\n",
    "    merged = tf.keras.layers.Concatenate(axis=1)([tokens_vectorized, types_vectorized])\n",
    "\n",
    "    embedded = tf.keras.layers.Embedding(input_dim= embedding_input_dim,\n",
    "                                         output_dim=64,\n",
    "                                         # user masking to handle the variable sequence lengths\n",
    "                                         mask_zero=True)(merged)\n",
    "    \n",
    "    dropout1 = tf.keras.layers.Dropout(0.2)(embedded)\n",
    "    globalmaxpooling = tf.keras.layers.GlobalMaxPooling1D()(dropout1)\n",
    "    dropout2 = tf.keras.layers.Dropout(0.2)(globalmaxpooling)\n",
    "    model_output = tf.keras.layers.Dense(1)(dropout2)\n",
    "\n",
    "    model = tf.keras.models.Model(inputs=[tokens_model_input, types_model_input], outputs=model_output)\n",
    "    return model\n"
   ]
  },
  {
   "attachments": {},
   "cell_type": "markdown",
   "metadata": {},
   "source": [
    " **Train the model**"
   ]
  },
  {
   "attachments": {},
   "cell_type": "markdown",
   "metadata": {},
   "source": [
    "##### Experiment 1: Use integer indices for encoding tokens"
   ]
  },
  {
   "cell_type": "code",
   "execution_count": 25,
   "metadata": {},
   "outputs": [],
   "source": [
    "### TENSORBOARD USAGE\n",
    "#log_dir = \"4_nlp_rnns/logs/fit/\" + datetime.datetime.now().strftime(\"%Y%m%d-%H%M%S\")\n",
    "#tensorboard_callback = tf.keras.callbacks.TensorBoard(log_dir=log_dir)"
   ]
  },
  {
   "cell_type": "code",
   "execution_count": 26,
   "metadata": {},
   "outputs": [
    {
     "data": {
      "text/plain": [
       "'\\nsample_text = \"( A \\\\cup B ) \\\\cap (C \\\\cup D )\"\\n# predict on a sample formula using untrained model\\npredictions = model.predict(np.array([sample_text]))\\nprint(predictions[0])\\n'"
      ]
     },
     "execution_count": 26,
     "metadata": {},
     "output_type": "execute_result"
    }
   ],
   "source": [
    "tokens_input_len = TOKENS_MAX_SEQ_LEN \n",
    "type_input_len = TYPE_TOKENS_MAX_SEQ_LEN\n",
    "\n",
    "model = create_model(encoder_int_tokens, encoder_int_types,tokens_input_len, type_input_len)\n",
    "\"\"\"\n",
    "sample_text = \"( A \\cup B ) \\cap (C \\cup D )\"\n",
    "# predict on a sample formula using untrained model\n",
    "predictions = model.predict(np.array([sample_text]))\n",
    "print(predictions[0])\n",
    "\"\"\""
   ]
  },
  {
   "cell_type": "code",
   "execution_count": 27,
   "metadata": {},
   "outputs": [
    {
     "name": "stdout",
     "output_type": "stream",
     "text": [
      "Model: \"model\"\n",
      "__________________________________________________________________________________________________\n",
      " Layer (type)                   Output Shape         Param #     Connected to                     \n",
      "==================================================================================================\n",
      " input_1 (InputLayer)           [(None, 1)]          0           []                               \n",
      "                                                                                                  \n",
      " input_2 (InputLayer)           [(None, 1)]          0           []                               \n",
      "                                                                                                  \n",
      " text_vectorization (TextVector  (None, 110)         0           ['input_1[0][0]']                \n",
      " ization)                                                                                         \n",
      "                                                                                                  \n",
      " text_vectorization_1 (TextVect  (None, 130)         0           ['input_2[0][0]']                \n",
      " orization)                                                                                       \n",
      "                                                                                                  \n",
      " concatenate (Concatenate)      (None, 240)          0           ['text_vectorization[0][0]',     \n",
      "                                                                  'text_vectorization_1[0][0]']   \n",
      "                                                                                                  \n",
      " embedding (Embedding)          (None, 240, 64)      15424       ['concatenate[0][0]']            \n",
      "                                                                                                  \n",
      " dropout (Dropout)              (None, 240, 64)      0           ['embedding[0][0]']              \n",
      "                                                                                                  \n",
      " global_max_pooling1d (GlobalMa  (None, 64)          0           ['dropout[0][0]']                \n",
      " xPooling1D)                                                                                      \n",
      "                                                                                                  \n",
      " dropout_1 (Dropout)            (None, 64)           0           ['global_max_pooling1d[0][0]']   \n",
      "                                                                                                  \n",
      " dense (Dense)                  (None, 1)            65          ['dropout_1[0][0]']              \n",
      "                                                                                                  \n",
      "==================================================================================================\n",
      "Total params: 15,489\n",
      "Trainable params: 15,489\n",
      "Non-trainable params: 0\n",
      "__________________________________________________________________________________________________\n"
     ]
    }
   ],
   "source": [
    "model.summary()"
   ]
  },
  {
   "cell_type": "code",
   "execution_count": 28,
   "metadata": {},
   "outputs": [],
   "source": [
    "LEARNING_RATE = 1e-3\n",
    "NUM_EPOCHS = 200\n",
    "\n",
    "model.compile(loss=tf.keras.losses.BinaryCrossentropy(from_logits=True),\n",
    "              optimizer=tf.keras.optimizers.Adam(LEARNING_RATE),\n",
    "              metrics=[\"accuracy\"])"
   ]
  },
  {
   "cell_type": "code",
   "execution_count": 29,
   "metadata": {},
   "outputs": [
    {
     "name": "stdout",
     "output_type": "stream",
     "text": [
      "Epoch 1/200\n",
      "153/156 [============================>.] - ETA: 0s - loss: 0.5904 - accuracy: 0.5946INFO:tensorflow:Assets written to: /home/paul_d/Sources/sem_math_repo/classification_formulas_binary/wandb/run-20230307_230544-edrm1l4a/files/model-best/assets\n"
     ]
    },
    {
     "name": "stderr",
     "output_type": "stream",
     "text": [
      "INFO:tensorflow:Assets written to: /home/paul_d/Sources/sem_math_repo/classification_formulas_binary/wandb/run-20230307_230544-edrm1l4a/files/model-best/assets\n"
     ]
    },
    {
     "name": "stdout",
     "output_type": "stream",
     "text": [
      "156/156 [==============================] - 4s 20ms/step - loss: 0.5896 - accuracy: 0.5968 - val_loss: 0.5814 - val_accuracy: 0.4344\n",
      "Epoch 2/200\n",
      "151/156 [============================>.] - ETA: 0s - loss: 0.4935 - accuracy: 0.7421INFO:tensorflow:Assets written to: /home/paul_d/Sources/sem_math_repo/classification_formulas_binary/wandb/run-20230307_230544-edrm1l4a/files/model-best/assets\n"
     ]
    },
    {
     "name": "stderr",
     "output_type": "stream",
     "text": [
      "INFO:tensorflow:Assets written to: /home/paul_d/Sources/sem_math_repo/classification_formulas_binary/wandb/run-20230307_230544-edrm1l4a/files/model-best/assets\n"
     ]
    },
    {
     "name": "stdout",
     "output_type": "stream",
     "text": [
      "156/156 [==============================] - 3s 16ms/step - loss: 0.4918 - accuracy: 0.7431 - val_loss: 0.4975 - val_accuracy: 0.7990\n",
      "Epoch 3/200\n",
      "154/156 [============================>.] - ETA: 0s - loss: 0.4694 - accuracy: 0.7513INFO:tensorflow:Assets written to: /home/paul_d/Sources/sem_math_repo/classification_formulas_binary/wandb/run-20230307_230544-edrm1l4a/files/model-best/assets\n"
     ]
    },
    {
     "name": "stderr",
     "output_type": "stream",
     "text": [
      "INFO:tensorflow:Assets written to: /home/paul_d/Sources/sem_math_repo/classification_formulas_binary/wandb/run-20230307_230544-edrm1l4a/files/model-best/assets\n"
     ]
    },
    {
     "name": "stdout",
     "output_type": "stream",
     "text": [
      "156/156 [==============================] - 3s 15ms/step - loss: 0.4696 - accuracy: 0.7506 - val_loss: 0.4733 - val_accuracy: 0.8260\n",
      "Epoch 4/200\n",
      "156/156 [==============================] - 1s 9ms/step - loss: 0.4592 - accuracy: 0.7590 - val_loss: 0.4817 - val_accuracy: 0.6104\n",
      "Epoch 5/200\n",
      "154/156 [============================>.] - ETA: 0s - loss: 0.4550 - accuracy: 0.7590INFO:tensorflow:Assets written to: /home/paul_d/Sources/sem_math_repo/classification_formulas_binary/wandb/run-20230307_230544-edrm1l4a/files/model-best/assets\n"
     ]
    },
    {
     "name": "stderr",
     "output_type": "stream",
     "text": [
      "INFO:tensorflow:Assets written to: /home/paul_d/Sources/sem_math_repo/classification_formulas_binary/wandb/run-20230307_230544-edrm1l4a/files/model-best/assets\n"
     ]
    },
    {
     "name": "stdout",
     "output_type": "stream",
     "text": [
      "156/156 [==============================] - 3s 16ms/step - loss: 0.4548 - accuracy: 0.7591 - val_loss: 0.4696 - val_accuracy: 0.6115\n",
      "Epoch 6/200\n",
      "156/156 [==============================] - 1s 8ms/step - loss: 0.4525 - accuracy: 0.7598 - val_loss: 0.4739 - val_accuracy: 0.6135\n",
      "Epoch 7/200\n",
      "156/156 [==============================] - 1s 8ms/step - loss: 0.4487 - accuracy: 0.7592 - val_loss: 0.4735 - val_accuracy: 0.6135\n",
      "Epoch 8/200\n",
      "155/156 [============================>.] - ETA: 0s - loss: 0.4467 - accuracy: 0.7652INFO:tensorflow:Assets written to: /home/paul_d/Sources/sem_math_repo/classification_formulas_binary/wandb/run-20230307_230544-edrm1l4a/files/model-best/assets\n"
     ]
    },
    {
     "name": "stderr",
     "output_type": "stream",
     "text": [
      "INFO:tensorflow:Assets written to: /home/paul_d/Sources/sem_math_repo/classification_formulas_binary/wandb/run-20230307_230544-edrm1l4a/files/model-best/assets\n"
     ]
    },
    {
     "name": "stdout",
     "output_type": "stream",
     "text": [
      "156/156 [==============================] - 3s 18ms/step - loss: 0.4475 - accuracy: 0.7647 - val_loss: 0.4682 - val_accuracy: 0.6177\n",
      "Epoch 9/200\n",
      "156/156 [==============================] - 1s 7ms/step - loss: 0.4471 - accuracy: 0.7569 - val_loss: 0.4695 - val_accuracy: 0.6156\n",
      "Epoch 10/200\n",
      "156/156 [==============================] - 1s 8ms/step - loss: 0.4455 - accuracy: 0.7664 - val_loss: 0.4715 - val_accuracy: 0.6146\n",
      "Epoch 11/200\n",
      "156/156 [==============================] - 1s 8ms/step - loss: 0.4436 - accuracy: 0.7623 - val_loss: 0.4707 - val_accuracy: 0.6115\n",
      "Epoch 12/200\n",
      "150/156 [===========================>..] - ETA: 0s - loss: 0.4422 - accuracy: 0.7628INFO:tensorflow:Assets written to: /home/paul_d/Sources/sem_math_repo/classification_formulas_binary/wandb/run-20230307_230544-edrm1l4a/files/model-best/assets\n"
     ]
    },
    {
     "name": "stderr",
     "output_type": "stream",
     "text": [
      "INFO:tensorflow:Assets written to: /home/paul_d/Sources/sem_math_repo/classification_formulas_binary/wandb/run-20230307_230544-edrm1l4a/files/model-best/assets\n"
     ]
    },
    {
     "name": "stdout",
     "output_type": "stream",
     "text": [
      "156/156 [==============================] - 3s 17ms/step - loss: 0.4436 - accuracy: 0.7621 - val_loss: 0.4660 - val_accuracy: 0.8313\n",
      "Epoch 13/200\n",
      "154/156 [============================>.] - ETA: 0s - loss: 0.4417 - accuracy: 0.7646INFO:tensorflow:Assets written to: /home/paul_d/Sources/sem_math_repo/classification_formulas_binary/wandb/run-20230307_230544-edrm1l4a/files/model-best/assets\n"
     ]
    },
    {
     "name": "stderr",
     "output_type": "stream",
     "text": [
      "INFO:tensorflow:Assets written to: /home/paul_d/Sources/sem_math_repo/classification_formulas_binary/wandb/run-20230307_230544-edrm1l4a/files/model-best/assets\n"
     ]
    },
    {
     "name": "stdout",
     "output_type": "stream",
     "text": [
      "156/156 [==============================] - 3s 16ms/step - loss: 0.4415 - accuracy: 0.7638 - val_loss: 0.4624 - val_accuracy: 0.6135\n",
      "Epoch 14/200\n",
      "156/156 [==============================] - 1s 8ms/step - loss: 0.4407 - accuracy: 0.7634 - val_loss: 0.4772 - val_accuracy: 0.6062\n",
      "Epoch 15/200\n",
      "156/156 [==============================] - 1s 8ms/step - loss: 0.4438 - accuracy: 0.7605 - val_loss: 0.4821 - val_accuracy: 0.6021\n",
      "Epoch 16/200\n",
      "156/156 [==============================] - 1s 8ms/step - loss: 0.4397 - accuracy: 0.7698 - val_loss: 0.4822 - val_accuracy: 0.6021\n",
      "Epoch 17/200\n",
      "156/156 [==============================] - 1s 9ms/step - loss: 0.4411 - accuracy: 0.7699 - val_loss: 0.4710 - val_accuracy: 0.6073\n",
      "Epoch 18/200\n",
      "156/156 [==============================] - 2s 10ms/step - loss: 0.4405 - accuracy: 0.7717 - val_loss: 0.4724 - val_accuracy: 0.6042\n",
      "Epoch 19/200\n",
      "156/156 [==============================] - 2s 9ms/step - loss: 0.4412 - accuracy: 0.7696 - val_loss: 0.4809 - val_accuracy: 0.6042\n",
      "Epoch 20/200\n",
      "156/156 [==============================] - 2s 12ms/step - loss: 0.4413 - accuracy: 0.7675 - val_loss: 0.4803 - val_accuracy: 0.6031\n",
      "Epoch 21/200\n",
      "156/156 [==============================] - 2s 9ms/step - loss: 0.4389 - accuracy: 0.7717 - val_loss: 0.4769 - val_accuracy: 0.6031\n",
      "Epoch 22/200\n",
      "156/156 [==============================] - 2s 10ms/step - loss: 0.4381 - accuracy: 0.7757 - val_loss: 0.4801 - val_accuracy: 0.6031\n",
      "Epoch 23/200\n",
      "156/156 [==============================] - 2s 10ms/step - loss: 0.4423 - accuracy: 0.7670 - val_loss: 0.4630 - val_accuracy: 0.6052\n",
      "Epoch 24/200\n",
      "156/156 [==============================] - 2s 10ms/step - loss: 0.4407 - accuracy: 0.7657 - val_loss: 0.4732 - val_accuracy: 0.6031\n",
      "Epoch 25/200\n",
      "151/156 [============================>.] - ETA: 0s - loss: 0.4369 - accuracy: 0.7679INFO:tensorflow:Assets written to: /home/paul_d/Sources/sem_math_repo/classification_formulas_binary/wandb/run-20230307_230544-edrm1l4a/files/model-best/assets\n"
     ]
    },
    {
     "name": "stderr",
     "output_type": "stream",
     "text": [
      "INFO:tensorflow:Assets written to: /home/paul_d/Sources/sem_math_repo/classification_formulas_binary/wandb/run-20230307_230544-edrm1l4a/files/model-best/assets\n"
     ]
    },
    {
     "name": "stdout",
     "output_type": "stream",
     "text": [
      "156/156 [==============================] - 3s 18ms/step - loss: 0.4381 - accuracy: 0.7675 - val_loss: 0.4523 - val_accuracy: 0.8240\n",
      "Epoch 26/200\n",
      "156/156 [==============================] - 2s 9ms/step - loss: 0.4392 - accuracy: 0.7696 - val_loss: 0.4790 - val_accuracy: 0.6042\n",
      "Epoch 27/200\n",
      "156/156 [==============================] - 2s 9ms/step - loss: 0.4372 - accuracy: 0.7702 - val_loss: 0.4729 - val_accuracy: 0.8177\n",
      "Epoch 28/200\n",
      "154/156 [============================>.] - ETA: 0s - loss: 0.4365 - accuracy: 0.7742INFO:tensorflow:Assets written to: /home/paul_d/Sources/sem_math_repo/classification_formulas_binary/wandb/run-20230307_230544-edrm1l4a/files/model-best/assets\n"
     ]
    },
    {
     "name": "stderr",
     "output_type": "stream",
     "text": [
      "INFO:tensorflow:Assets written to: /home/paul_d/Sources/sem_math_repo/classification_formulas_binary/wandb/run-20230307_230544-edrm1l4a/files/model-best/assets\n"
     ]
    },
    {
     "name": "stdout",
     "output_type": "stream",
     "text": [
      "156/156 [==============================] - 3s 17ms/step - loss: 0.4366 - accuracy: 0.7739 - val_loss: 0.4479 - val_accuracy: 0.8229\n",
      "Epoch 29/200\n",
      "156/156 [==============================] - 2s 11ms/step - loss: 0.4374 - accuracy: 0.7720 - val_loss: 0.4734 - val_accuracy: 0.6042\n",
      "Epoch 30/200\n",
      "156/156 [==============================] - 2s 10ms/step - loss: 0.4371 - accuracy: 0.7683 - val_loss: 0.4641 - val_accuracy: 0.6042\n",
      "Epoch 31/200\n",
      "156/156 [==============================] - 2s 9ms/step - loss: 0.4383 - accuracy: 0.7733 - val_loss: 0.4684 - val_accuracy: 0.6042\n",
      "Epoch 32/200\n",
      "156/156 [==============================] - 1s 8ms/step - loss: 0.4371 - accuracy: 0.7710 - val_loss: 0.4851 - val_accuracy: 0.6010\n",
      "Epoch 33/200\n",
      "156/156 [==============================] - 1s 8ms/step - loss: 0.4374 - accuracy: 0.7645 - val_loss: 0.4610 - val_accuracy: 0.8219\n",
      "Epoch 34/200\n",
      "156/156 [==============================] - 1s 9ms/step - loss: 0.4377 - accuracy: 0.7736 - val_loss: 0.4726 - val_accuracy: 0.6042\n",
      "Epoch 35/200\n",
      "156/156 [==============================] - 1s 8ms/step - loss: 0.4382 - accuracy: 0.7660 - val_loss: 0.4785 - val_accuracy: 0.6042\n",
      "Epoch 36/200\n",
      "156/156 [==============================] - 1s 8ms/step - loss: 0.4371 - accuracy: 0.7631 - val_loss: 0.4792 - val_accuracy: 0.6042\n",
      "Epoch 37/200\n",
      "156/156 [==============================] - 2s 9ms/step - loss: 0.4378 - accuracy: 0.7684 - val_loss: 0.4686 - val_accuracy: 0.6052\n",
      "Epoch 38/200\n",
      "156/156 [==============================] - 2s 10ms/step - loss: 0.4381 - accuracy: 0.7644 - val_loss: 0.4644 - val_accuracy: 0.6042\n",
      "Epoch 39/200\n",
      "156/156 [==============================] - 2s 10ms/step - loss: 0.4348 - accuracy: 0.7681 - val_loss: 0.4686 - val_accuracy: 0.6042\n",
      "Epoch 40/200\n",
      "156/156 [==============================] - 1s 9ms/step - loss: 0.4369 - accuracy: 0.7727 - val_loss: 0.4639 - val_accuracy: 0.6052\n",
      "Epoch 41/200\n",
      "156/156 [==============================] - 1s 8ms/step - loss: 0.4369 - accuracy: 0.7676 - val_loss: 0.4670 - val_accuracy: 0.6052\n",
      "Epoch 42/200\n",
      "156/156 [==============================] - 1s 8ms/step - loss: 0.4371 - accuracy: 0.7698 - val_loss: 0.4774 - val_accuracy: 0.6042\n",
      "Epoch 43/200\n",
      "156/156 [==============================] - 1s 9ms/step - loss: 0.4359 - accuracy: 0.7697 - val_loss: 0.4765 - val_accuracy: 0.6021\n",
      "Epoch 44/200\n",
      "156/156 [==============================] - 1s 9ms/step - loss: 0.4350 - accuracy: 0.7696 - val_loss: 0.4704 - val_accuracy: 0.6042\n",
      "Epoch 45/200\n",
      "156/156 [==============================] - 2s 10ms/step - loss: 0.4365 - accuracy: 0.7745 - val_loss: 0.4737 - val_accuracy: 0.6031\n",
      "Epoch 46/200\n",
      "156/156 [==============================] - 2s 9ms/step - loss: 0.4374 - accuracy: 0.7676 - val_loss: 0.4691 - val_accuracy: 0.6042\n",
      "Epoch 47/200\n",
      "156/156 [==============================] - 2s 9ms/step - loss: 0.4369 - accuracy: 0.7735 - val_loss: 0.4685 - val_accuracy: 0.6042\n",
      "Epoch 48/200\n",
      "156/156 [==============================] - 2s 9ms/step - loss: 0.4365 - accuracy: 0.7707 - val_loss: 0.4717 - val_accuracy: 0.6031\n",
      "Epoch 49/200\n",
      "156/156 [==============================] - 2s 9ms/step - loss: 0.4354 - accuracy: 0.7723 - val_loss: 0.4725 - val_accuracy: 0.6021\n",
      "Epoch 50/200\n",
      "156/156 [==============================] - 1s 8ms/step - loss: 0.4362 - accuracy: 0.7705 - val_loss: 0.4628 - val_accuracy: 0.6052\n",
      "Epoch 51/200\n",
      "156/156 [==============================] - 1s 8ms/step - loss: 0.4368 - accuracy: 0.7712 - val_loss: 0.4762 - val_accuracy: 0.5979\n",
      "Epoch 52/200\n",
      "156/156 [==============================] - 1s 9ms/step - loss: 0.4359 - accuracy: 0.7756 - val_loss: 0.4644 - val_accuracy: 0.6031\n",
      "Epoch 53/200\n",
      "156/156 [==============================] - 1s 8ms/step - loss: 0.4372 - accuracy: 0.7659 - val_loss: 0.4701 - val_accuracy: 0.6031\n",
      "Epoch 54/200\n",
      "156/156 [==============================] - 1s 8ms/step - loss: 0.4352 - accuracy: 0.7676 - val_loss: 0.4518 - val_accuracy: 0.6094\n",
      "Epoch 55/200\n",
      "156/156 [==============================] - 1s 8ms/step - loss: 0.4365 - accuracy: 0.7710 - val_loss: 0.4684 - val_accuracy: 0.6031\n",
      "Epoch 56/200\n",
      "156/156 [==============================] - 1s 8ms/step - loss: 0.4344 - accuracy: 0.7661 - val_loss: 0.4562 - val_accuracy: 0.6052\n",
      "Epoch 57/200\n",
      "156/156 [==============================] - 1s 8ms/step - loss: 0.4358 - accuracy: 0.7663 - val_loss: 0.4781 - val_accuracy: 0.6031\n",
      "Epoch 58/200\n",
      "156/156 [==============================] - 1s 8ms/step - loss: 0.4360 - accuracy: 0.7661 - val_loss: 0.4675 - val_accuracy: 0.6021\n",
      "Epoch 59/200\n",
      "156/156 [==============================] - 1s 8ms/step - loss: 0.4338 - accuracy: 0.7742 - val_loss: 0.4650 - val_accuracy: 0.6031\n",
      "Epoch 60/200\n",
      "156/156 [==============================] - 1s 9ms/step - loss: 0.4367 - accuracy: 0.7622 - val_loss: 0.4749 - val_accuracy: 0.6031\n",
      "Epoch 61/200\n",
      "156/156 [==============================] - 1s 8ms/step - loss: 0.4385 - accuracy: 0.7706 - val_loss: 0.4756 - val_accuracy: 0.6031\n",
      "Epoch 62/200\n",
      "156/156 [==============================] - 1s 8ms/step - loss: 0.4371 - accuracy: 0.7680 - val_loss: 0.4671 - val_accuracy: 0.6021\n",
      "Epoch 63/200\n",
      "156/156 [==============================] - 1s 8ms/step - loss: 0.4357 - accuracy: 0.7652 - val_loss: 0.4602 - val_accuracy: 0.6031\n",
      "Epoch 64/200\n",
      "156/156 [==============================] - 2s 10ms/step - loss: 0.4335 - accuracy: 0.7761 - val_loss: 0.4618 - val_accuracy: 0.6031\n",
      "Epoch 65/200\n",
      "156/156 [==============================] - 2s 10ms/step - loss: 0.4355 - accuracy: 0.7694 - val_loss: 0.4634 - val_accuracy: 0.8198\n",
      "Epoch 66/200\n",
      "156/156 [==============================] - 2s 10ms/step - loss: 0.4381 - accuracy: 0.7720 - val_loss: 0.4559 - val_accuracy: 0.6052\n",
      "Epoch 67/200\n",
      "156/156 [==============================] - 2s 9ms/step - loss: 0.4382 - accuracy: 0.7651 - val_loss: 0.4802 - val_accuracy: 0.5990\n",
      "Epoch 68/200\n",
      "156/156 [==============================] - 2s 9ms/step - loss: 0.4338 - accuracy: 0.7696 - val_loss: 0.4651 - val_accuracy: 0.6052\n",
      "Epoch 69/200\n",
      "156/156 [==============================] - 1s 8ms/step - loss: 0.4382 - accuracy: 0.7636 - val_loss: 0.4735 - val_accuracy: 0.6021\n",
      "Epoch 70/200\n",
      "156/156 [==============================] - 1s 9ms/step - loss: 0.4339 - accuracy: 0.7673 - val_loss: 0.4557 - val_accuracy: 0.6083\n",
      "Epoch 71/200\n",
      "156/156 [==============================] - 1s 8ms/step - loss: 0.4355 - accuracy: 0.7714 - val_loss: 0.4576 - val_accuracy: 0.8177\n",
      "Epoch 72/200\n",
      "156/156 [==============================] - 1s 9ms/step - loss: 0.4369 - accuracy: 0.7714 - val_loss: 0.4681 - val_accuracy: 0.8177\n",
      "Epoch 73/200\n",
      "156/156 [==============================] - 1s 8ms/step - loss: 0.4355 - accuracy: 0.7735 - val_loss: 0.4739 - val_accuracy: 0.6010\n",
      "Epoch 74/200\n",
      "156/156 [==============================] - 2s 9ms/step - loss: 0.4353 - accuracy: 0.7698 - val_loss: 0.4747 - val_accuracy: 0.6031\n",
      "Epoch 75/200\n",
      "156/156 [==============================] - 2s 9ms/step - loss: 0.4354 - accuracy: 0.7634 - val_loss: 0.4724 - val_accuracy: 0.6021\n",
      "Epoch 76/200\n",
      "156/156 [==============================] - 2s 9ms/step - loss: 0.4358 - accuracy: 0.7685 - val_loss: 0.4724 - val_accuracy: 0.6021\n",
      "Epoch 77/200\n",
      "156/156 [==============================] - 1s 8ms/step - loss: 0.4349 - accuracy: 0.7699 - val_loss: 0.4644 - val_accuracy: 0.6031\n",
      "Epoch 78/200\n",
      "156/156 [==============================] - 1s 9ms/step - loss: 0.4368 - accuracy: 0.7648 - val_loss: 0.4840 - val_accuracy: 0.5958\n",
      "Epoch 79/200\n",
      "156/156 [==============================] - 1s 8ms/step - loss: 0.4383 - accuracy: 0.7670 - val_loss: 0.4670 - val_accuracy: 0.6021\n",
      "Epoch 80/200\n",
      "156/156 [==============================] - 1s 8ms/step - loss: 0.4360 - accuracy: 0.7701 - val_loss: 0.4690 - val_accuracy: 0.8167\n",
      "Epoch 81/200\n",
      "156/156 [==============================] - 1s 8ms/step - loss: 0.4372 - accuracy: 0.7726 - val_loss: 0.4637 - val_accuracy: 0.8188\n",
      "Epoch 82/200\n",
      "156/156 [==============================] - 1s 9ms/step - loss: 0.4357 - accuracy: 0.7721 - val_loss: 0.4713 - val_accuracy: 0.6031\n",
      "Epoch 83/200\n",
      "156/156 [==============================] - 2s 9ms/step - loss: 0.4356 - accuracy: 0.7697 - val_loss: 0.4799 - val_accuracy: 0.6031\n",
      "Epoch 84/200\n",
      "156/156 [==============================] - 1s 9ms/step - loss: 0.4363 - accuracy: 0.7733 - val_loss: 0.4569 - val_accuracy: 0.8208\n",
      "Epoch 85/200\n",
      "156/156 [==============================] - 1s 8ms/step - loss: 0.4324 - accuracy: 0.7756 - val_loss: 0.4782 - val_accuracy: 0.6021\n",
      "Epoch 86/200\n",
      "156/156 [==============================] - 1s 9ms/step - loss: 0.4348 - accuracy: 0.7676 - val_loss: 0.4557 - val_accuracy: 0.6094\n",
      "Epoch 87/200\n",
      "156/156 [==============================] - 1s 8ms/step - loss: 0.4384 - accuracy: 0.7679 - val_loss: 0.4813 - val_accuracy: 0.6010\n",
      "Epoch 88/200\n",
      "156/156 [==============================] - 1s 8ms/step - loss: 0.4352 - accuracy: 0.7689 - val_loss: 0.4696 - val_accuracy: 0.6031\n",
      "Epoch 89/200\n",
      "156/156 [==============================] - 1s 8ms/step - loss: 0.4375 - accuracy: 0.7688 - val_loss: 0.4783 - val_accuracy: 0.5990\n",
      "Epoch 90/200\n",
      "156/156 [==============================] - 1s 9ms/step - loss: 0.4357 - accuracy: 0.7751 - val_loss: 0.4688 - val_accuracy: 0.6031\n",
      "Epoch 91/200\n",
      "156/156 [==============================] - 1s 9ms/step - loss: 0.4340 - accuracy: 0.7744 - val_loss: 0.4693 - val_accuracy: 0.6031\n",
      "Epoch 92/200\n",
      "156/156 [==============================] - 1s 9ms/step - loss: 0.4368 - accuracy: 0.7732 - val_loss: 0.4709 - val_accuracy: 0.6031\n",
      "Epoch 93/200\n",
      "156/156 [==============================] - 1s 9ms/step - loss: 0.4344 - accuracy: 0.7705 - val_loss: 0.4738 - val_accuracy: 0.6031\n",
      "Epoch 94/200\n",
      "156/156 [==============================] - 1s 9ms/step - loss: 0.4342 - accuracy: 0.7730 - val_loss: 0.4789 - val_accuracy: 0.6021\n",
      "Epoch 95/200\n",
      "156/156 [==============================] - 2s 10ms/step - loss: 0.4351 - accuracy: 0.7654 - val_loss: 0.4749 - val_accuracy: 0.6031\n",
      "Epoch 96/200\n",
      "156/156 [==============================] - 2s 10ms/step - loss: 0.4367 - accuracy: 0.7676 - val_loss: 0.4759 - val_accuracy: 0.6021\n",
      "Epoch 97/200\n",
      "156/156 [==============================] - 1s 8ms/step - loss: 0.4361 - accuracy: 0.7690 - val_loss: 0.4682 - val_accuracy: 0.6042\n",
      "Epoch 98/200\n",
      "156/156 [==============================] - 2s 10ms/step - loss: 0.4333 - accuracy: 0.7752 - val_loss: 0.4869 - val_accuracy: 0.5969\n",
      "Epoch 99/200\n",
      "156/156 [==============================] - 2s 9ms/step - loss: 0.4369 - accuracy: 0.7663 - val_loss: 0.4647 - val_accuracy: 0.6042\n",
      "Epoch 100/200\n",
      "156/156 [==============================] - 2s 10ms/step - loss: 0.4352 - accuracy: 0.7676 - val_loss: 0.4612 - val_accuracy: 0.6052\n",
      "Epoch 101/200\n",
      "156/156 [==============================] - 1s 8ms/step - loss: 0.4342 - accuracy: 0.7711 - val_loss: 0.4735 - val_accuracy: 0.6042\n",
      "Epoch 102/200\n",
      "156/156 [==============================] - 1s 9ms/step - loss: 0.4334 - accuracy: 0.7710 - val_loss: 0.4789 - val_accuracy: 0.6021\n",
      "Epoch 103/200\n",
      "156/156 [==============================] - 2s 9ms/step - loss: 0.4341 - accuracy: 0.7684 - val_loss: 0.4663 - val_accuracy: 0.6042\n",
      "Epoch 104/200\n",
      "156/156 [==============================] - 1s 8ms/step - loss: 0.4354 - accuracy: 0.7703 - val_loss: 0.4744 - val_accuracy: 0.6021\n",
      "Epoch 105/200\n",
      "156/156 [==============================] - 1s 8ms/step - loss: 0.4347 - accuracy: 0.7716 - val_loss: 0.4728 - val_accuracy: 0.6010\n",
      "Epoch 106/200\n",
      "156/156 [==============================] - 1s 8ms/step - loss: 0.4352 - accuracy: 0.7676 - val_loss: 0.4585 - val_accuracy: 0.6062\n",
      "Epoch 107/200\n",
      "156/156 [==============================] - 2s 9ms/step - loss: 0.4350 - accuracy: 0.7757 - val_loss: 0.4778 - val_accuracy: 0.6021\n",
      "Epoch 108/200\n",
      "156/156 [==============================] - 2s 10ms/step - loss: 0.4341 - accuracy: 0.7724 - val_loss: 0.4648 - val_accuracy: 0.6052\n",
      "Epoch 109/200\n",
      "156/156 [==============================] - 2s 10ms/step - loss: 0.4355 - accuracy: 0.7745 - val_loss: 0.4813 - val_accuracy: 0.6031\n",
      "Epoch 110/200\n",
      "156/156 [==============================] - 2s 9ms/step - loss: 0.4345 - accuracy: 0.7621 - val_loss: 0.4625 - val_accuracy: 0.6052\n",
      "Epoch 111/200\n",
      "156/156 [==============================] - 2s 9ms/step - loss: 0.4333 - accuracy: 0.7694 - val_loss: 0.4653 - val_accuracy: 0.6052\n",
      "Epoch 112/200\n",
      "156/156 [==============================] - 2s 9ms/step - loss: 0.4355 - accuracy: 0.7741 - val_loss: 0.4744 - val_accuracy: 0.6031\n",
      "Epoch 113/200\n",
      "156/156 [==============================] - 1s 9ms/step - loss: 0.4357 - accuracy: 0.7670 - val_loss: 0.4649 - val_accuracy: 0.6052\n",
      "Epoch 114/200\n",
      "156/156 [==============================] - 1s 8ms/step - loss: 0.4350 - accuracy: 0.7720 - val_loss: 0.4753 - val_accuracy: 0.6031\n",
      "Epoch 115/200\n",
      "156/156 [==============================] - 1s 8ms/step - loss: 0.4362 - accuracy: 0.7704 - val_loss: 0.4689 - val_accuracy: 0.6052\n",
      "Epoch 116/200\n",
      "156/156 [==============================] - 1s 9ms/step - loss: 0.4352 - accuracy: 0.7720 - val_loss: 0.4764 - val_accuracy: 0.6021\n",
      "Epoch 117/200\n",
      "156/156 [==============================] - 1s 8ms/step - loss: 0.4355 - accuracy: 0.7676 - val_loss: 0.4666 - val_accuracy: 0.6042\n",
      "Epoch 118/200\n",
      "156/156 [==============================] - 1s 8ms/step - loss: 0.4339 - accuracy: 0.7688 - val_loss: 0.4766 - val_accuracy: 0.6021\n",
      "Epoch 119/200\n",
      "156/156 [==============================] - 1s 8ms/step - loss: 0.4347 - accuracy: 0.7706 - val_loss: 0.4736 - val_accuracy: 0.5990\n",
      "Epoch 120/200\n",
      "156/156 [==============================] - 1s 9ms/step - loss: 0.4343 - accuracy: 0.7679 - val_loss: 0.4536 - val_accuracy: 0.6062\n",
      "Epoch 121/200\n",
      "156/156 [==============================] - 2s 9ms/step - loss: 0.4369 - accuracy: 0.7684 - val_loss: 0.4616 - val_accuracy: 0.6000\n",
      "Epoch 122/200\n",
      "156/156 [==============================] - 1s 9ms/step - loss: 0.4345 - accuracy: 0.7658 - val_loss: 0.4561 - val_accuracy: 0.6062\n",
      "Epoch 123/200\n",
      "156/156 [==============================] - 1s 8ms/step - loss: 0.4371 - accuracy: 0.7710 - val_loss: 0.4706 - val_accuracy: 0.6052\n",
      "Epoch 124/200\n",
      "156/156 [==============================] - 1s 8ms/step - loss: 0.4356 - accuracy: 0.7701 - val_loss: 0.4758 - val_accuracy: 0.6021\n",
      "Epoch 125/200\n",
      "156/156 [==============================] - 2s 10ms/step - loss: 0.4341 - accuracy: 0.7734 - val_loss: 0.4705 - val_accuracy: 0.6031\n",
      "Epoch 126/200\n",
      "156/156 [==============================] - 2s 9ms/step - loss: 0.4364 - accuracy: 0.7682 - val_loss: 0.4763 - val_accuracy: 0.6031\n",
      "Epoch 127/200\n",
      "156/156 [==============================] - 2s 10ms/step - loss: 0.4341 - accuracy: 0.7709 - val_loss: 0.4632 - val_accuracy: 0.6042\n",
      "Epoch 128/200\n",
      "156/156 [==============================] - 1s 9ms/step - loss: 0.4377 - accuracy: 0.7663 - val_loss: 0.4659 - val_accuracy: 0.6031\n",
      "Epoch 129/200\n",
      "156/156 [==============================] - 1s 9ms/step - loss: 0.4348 - accuracy: 0.7713 - val_loss: 0.4648 - val_accuracy: 0.6031\n",
      "Epoch 130/200\n",
      "156/156 [==============================] - 1s 8ms/step - loss: 0.4361 - accuracy: 0.7691 - val_loss: 0.4825 - val_accuracy: 0.5979\n",
      "Epoch 131/200\n",
      "156/156 [==============================] - 1s 8ms/step - loss: 0.4370 - accuracy: 0.7684 - val_loss: 0.4611 - val_accuracy: 0.6000\n",
      "Epoch 132/200\n",
      "156/156 [==============================] - 1s 8ms/step - loss: 0.4345 - accuracy: 0.7730 - val_loss: 0.4545 - val_accuracy: 0.6073\n",
      "Epoch 133/200\n",
      "156/156 [==============================] - 1s 8ms/step - loss: 0.4349 - accuracy: 0.7771 - val_loss: 0.4852 - val_accuracy: 0.5969\n",
      "Epoch 134/200\n",
      "156/156 [==============================] - 1s 8ms/step - loss: 0.4354 - accuracy: 0.7685 - val_loss: 0.4826 - val_accuracy: 0.5969\n",
      "Epoch 135/200\n",
      "156/156 [==============================] - 1s 8ms/step - loss: 0.4333 - accuracy: 0.7673 - val_loss: 0.4486 - val_accuracy: 0.8240\n",
      "Epoch 136/200\n",
      "156/156 [==============================] - 2s 9ms/step - loss: 0.4345 - accuracy: 0.7768 - val_loss: 0.4674 - val_accuracy: 0.6021\n",
      "Epoch 137/200\n",
      "156/156 [==============================] - 2s 9ms/step - loss: 0.4354 - accuracy: 0.7623 - val_loss: 0.4571 - val_accuracy: 0.6042\n",
      "Epoch 138/200\n",
      "156/156 [==============================] - 1s 8ms/step - loss: 0.4333 - accuracy: 0.7699 - val_loss: 0.4682 - val_accuracy: 0.6031\n",
      "Epoch 139/200\n",
      "156/156 [==============================] - 1s 8ms/step - loss: 0.4348 - accuracy: 0.7693 - val_loss: 0.4681 - val_accuracy: 0.6031\n",
      "Epoch 140/200\n",
      "156/156 [==============================] - 1s 8ms/step - loss: 0.4385 - accuracy: 0.7697 - val_loss: 0.4765 - val_accuracy: 0.6000\n",
      "Epoch 141/200\n",
      "156/156 [==============================] - 1s 8ms/step - loss: 0.4350 - accuracy: 0.7697 - val_loss: 0.4776 - val_accuracy: 0.6000\n",
      "Epoch 142/200\n",
      "156/156 [==============================] - 1s 8ms/step - loss: 0.4347 - accuracy: 0.7753 - val_loss: 0.4782 - val_accuracy: 0.6021\n",
      "Epoch 143/200\n",
      "156/156 [==============================] - 1s 8ms/step - loss: 0.4368 - accuracy: 0.7652 - val_loss: 0.4742 - val_accuracy: 0.6000\n",
      "Epoch 144/200\n",
      "156/156 [==============================] - 1s 8ms/step - loss: 0.4336 - accuracy: 0.7692 - val_loss: 0.4553 - val_accuracy: 0.8198\n",
      "Epoch 145/200\n",
      "156/156 [==============================] - 1s 8ms/step - loss: 0.4362 - accuracy: 0.7710 - val_loss: 0.4763 - val_accuracy: 0.5990\n",
      "Epoch 146/200\n",
      "156/156 [==============================] - 1s 9ms/step - loss: 0.4337 - accuracy: 0.7695 - val_loss: 0.4683 - val_accuracy: 0.6042\n",
      "Epoch 147/200\n",
      "156/156 [==============================] - 1s 8ms/step - loss: 0.4352 - accuracy: 0.7723 - val_loss: 0.4603 - val_accuracy: 0.8198\n",
      "Epoch 148/200\n",
      "156/156 [==============================] - 1s 9ms/step - loss: 0.4364 - accuracy: 0.7705 - val_loss: 0.4627 - val_accuracy: 0.6042\n",
      "Epoch 149/200\n",
      "156/156 [==============================] - 2s 10ms/step - loss: 0.4360 - accuracy: 0.7699 - val_loss: 0.4645 - val_accuracy: 0.6031\n",
      "Epoch 150/200\n",
      "156/156 [==============================] - 2s 9ms/step - loss: 0.4353 - accuracy: 0.7685 - val_loss: 0.4816 - val_accuracy: 0.5958\n",
      "Epoch 151/200\n",
      "156/156 [==============================] - 2s 9ms/step - loss: 0.4367 - accuracy: 0.7639 - val_loss: 0.4813 - val_accuracy: 0.6010\n",
      "Epoch 152/200\n",
      "156/156 [==============================] - 2s 9ms/step - loss: 0.4377 - accuracy: 0.7660 - val_loss: 0.4814 - val_accuracy: 0.5969\n",
      "Epoch 153/200\n",
      "156/156 [==============================] - 1s 9ms/step - loss: 0.4334 - accuracy: 0.7676 - val_loss: 0.4753 - val_accuracy: 0.6042\n",
      "Epoch 154/200\n",
      "156/156 [==============================] - 1s 8ms/step - loss: 0.4344 - accuracy: 0.7724 - val_loss: 0.4758 - val_accuracy: 0.5990\n",
      "Epoch 155/200\n",
      "156/156 [==============================] - 1s 8ms/step - loss: 0.4352 - accuracy: 0.7673 - val_loss: 0.4649 - val_accuracy: 0.6031\n",
      "Epoch 156/200\n",
      "156/156 [==============================] - 1s 8ms/step - loss: 0.4354 - accuracy: 0.7713 - val_loss: 0.4746 - val_accuracy: 0.6010\n",
      "Epoch 157/200\n",
      "156/156 [==============================] - 2s 9ms/step - loss: 0.4340 - accuracy: 0.7669 - val_loss: 0.4737 - val_accuracy: 0.6010\n",
      "Epoch 158/200\n",
      "156/156 [==============================] - 1s 9ms/step - loss: 0.4342 - accuracy: 0.7766 - val_loss: 0.4722 - val_accuracy: 0.6010\n",
      "Epoch 159/200\n",
      "156/156 [==============================] - 1s 9ms/step - loss: 0.4348 - accuracy: 0.7725 - val_loss: 0.4697 - val_accuracy: 0.6021\n",
      "Epoch 160/200\n",
      "156/156 [==============================] - 2s 9ms/step - loss: 0.4367 - accuracy: 0.7668 - val_loss: 0.4840 - val_accuracy: 0.5979\n",
      "Epoch 161/200\n",
      "156/156 [==============================] - 1s 8ms/step - loss: 0.4345 - accuracy: 0.7703 - val_loss: 0.4725 - val_accuracy: 0.6031\n",
      "Epoch 162/200\n",
      "156/156 [==============================] - 1s 9ms/step - loss: 0.4334 - accuracy: 0.7704 - val_loss: 0.4559 - val_accuracy: 0.6042\n",
      "Epoch 163/200\n",
      "156/156 [==============================] - 1s 8ms/step - loss: 0.4367 - accuracy: 0.7673 - val_loss: 0.4740 - val_accuracy: 0.6000\n",
      "Epoch 164/200\n",
      "156/156 [==============================] - 1s 8ms/step - loss: 0.4335 - accuracy: 0.7711 - val_loss: 0.4649 - val_accuracy: 0.6042\n",
      "Epoch 165/200\n",
      "156/156 [==============================] - 1s 9ms/step - loss: 0.4366 - accuracy: 0.7684 - val_loss: 0.4660 - val_accuracy: 0.6042\n",
      "Epoch 166/200\n",
      "156/156 [==============================] - 1s 8ms/step - loss: 0.4349 - accuracy: 0.7705 - val_loss: 0.4722 - val_accuracy: 0.6031\n",
      "Epoch 167/200\n",
      "156/156 [==============================] - 2s 9ms/step - loss: 0.4350 - accuracy: 0.7663 - val_loss: 0.4756 - val_accuracy: 0.5979\n",
      "Epoch 168/200\n",
      "156/156 [==============================] - 2s 9ms/step - loss: 0.4367 - accuracy: 0.7675 - val_loss: 0.4676 - val_accuracy: 0.6031\n",
      "Epoch 169/200\n",
      "156/156 [==============================] - 1s 8ms/step - loss: 0.4349 - accuracy: 0.7680 - val_loss: 0.4849 - val_accuracy: 0.6000\n",
      "Epoch 170/200\n",
      "156/156 [==============================] - 1s 8ms/step - loss: 0.4342 - accuracy: 0.7654 - val_loss: 0.4684 - val_accuracy: 0.6010\n",
      "Epoch 171/200\n",
      "156/156 [==============================] - 1s 8ms/step - loss: 0.4350 - accuracy: 0.7705 - val_loss: 0.4797 - val_accuracy: 0.6021\n",
      "Epoch 172/200\n",
      "156/156 [==============================] - 1s 8ms/step - loss: 0.4364 - accuracy: 0.7638 - val_loss: 0.4667 - val_accuracy: 0.6042\n",
      "Epoch 173/200\n",
      "156/156 [==============================] - 1s 8ms/step - loss: 0.4346 - accuracy: 0.7712 - val_loss: 0.4822 - val_accuracy: 0.6010\n",
      "Epoch 174/200\n",
      "156/156 [==============================] - 1s 8ms/step - loss: 0.4346 - accuracy: 0.7661 - val_loss: 0.4864 - val_accuracy: 0.5938\n",
      "Epoch 175/200\n",
      "156/156 [==============================] - 2s 9ms/step - loss: 0.4360 - accuracy: 0.7659 - val_loss: 0.4589 - val_accuracy: 0.6052\n",
      "Epoch 176/200\n",
      "156/156 [==============================] - 2s 9ms/step - loss: 0.4363 - accuracy: 0.7694 - val_loss: 0.4697 - val_accuracy: 0.5979\n",
      "Epoch 177/200\n",
      "156/156 [==============================] - 1s 8ms/step - loss: 0.4345 - accuracy: 0.7742 - val_loss: 0.4611 - val_accuracy: 0.6010\n",
      "Epoch 178/200\n",
      "156/156 [==============================] - 1s 8ms/step - loss: 0.4340 - accuracy: 0.7645 - val_loss: 0.4741 - val_accuracy: 0.5979\n",
      "Epoch 179/200\n",
      "156/156 [==============================] - 1s 9ms/step - loss: 0.4339 - accuracy: 0.7719 - val_loss: 0.4690 - val_accuracy: 0.6031\n",
      "Epoch 180/200\n",
      "156/156 [==============================] - 1s 8ms/step - loss: 0.4334 - accuracy: 0.7782 - val_loss: 0.4885 - val_accuracy: 0.5927\n",
      "Epoch 181/200\n",
      "156/156 [==============================] - 1s 8ms/step - loss: 0.4348 - accuracy: 0.7694 - val_loss: 0.4764 - val_accuracy: 0.6000\n",
      "Epoch 182/200\n",
      "156/156 [==============================] - 1s 8ms/step - loss: 0.4330 - accuracy: 0.7718 - val_loss: 0.4743 - val_accuracy: 0.6021\n",
      "Epoch 183/200\n",
      "156/156 [==============================] - 2s 9ms/step - loss: 0.4345 - accuracy: 0.7741 - val_loss: 0.4629 - val_accuracy: 0.6042\n",
      "Epoch 184/200\n",
      "156/156 [==============================] - 1s 9ms/step - loss: 0.4372 - accuracy: 0.7663 - val_loss: 0.4770 - val_accuracy: 0.5917\n",
      "Epoch 185/200\n",
      "156/156 [==============================] - 1s 8ms/step - loss: 0.4346 - accuracy: 0.7698 - val_loss: 0.4552 - val_accuracy: 0.6052\n",
      "Epoch 186/200\n",
      "156/156 [==============================] - 1s 8ms/step - loss: 0.4362 - accuracy: 0.7744 - val_loss: 0.4855 - val_accuracy: 0.5917\n",
      "Epoch 187/200\n",
      "156/156 [==============================] - 1s 9ms/step - loss: 0.4363 - accuracy: 0.7663 - val_loss: 0.4774 - val_accuracy: 0.5979\n",
      "Epoch 188/200\n",
      "156/156 [==============================] - 1s 8ms/step - loss: 0.4357 - accuracy: 0.7652 - val_loss: 0.4746 - val_accuracy: 0.6021\n",
      "Epoch 189/200\n",
      "156/156 [==============================] - 1s 8ms/step - loss: 0.4327 - accuracy: 0.7725 - val_loss: 0.4670 - val_accuracy: 0.6021\n",
      "Epoch 190/200\n",
      "156/156 [==============================] - 1s 8ms/step - loss: 0.4342 - accuracy: 0.7714 - val_loss: 0.4707 - val_accuracy: 0.6010\n",
      "Epoch 191/200\n",
      "156/156 [==============================] - 2s 9ms/step - loss: 0.4340 - accuracy: 0.7705 - val_loss: 0.4706 - val_accuracy: 0.6010\n",
      "Epoch 192/200\n",
      "156/156 [==============================] - 1s 9ms/step - loss: 0.4318 - accuracy: 0.7751 - val_loss: 0.4769 - val_accuracy: 0.5979\n",
      "Epoch 193/200\n",
      "156/156 [==============================] - 1s 8ms/step - loss: 0.4365 - accuracy: 0.7717 - val_loss: 0.4663 - val_accuracy: 0.6031\n",
      "Epoch 194/200\n",
      "156/156 [==============================] - 1s 8ms/step - loss: 0.4358 - accuracy: 0.7710 - val_loss: 0.4764 - val_accuracy: 0.6000\n",
      "Epoch 195/200\n",
      "156/156 [==============================] - 1s 8ms/step - loss: 0.4351 - accuracy: 0.7658 - val_loss: 0.4829 - val_accuracy: 0.5948\n",
      "Epoch 196/200\n",
      "156/156 [==============================] - 1s 8ms/step - loss: 0.4330 - accuracy: 0.7702 - val_loss: 0.4680 - val_accuracy: 0.6021\n",
      "Epoch 197/200\n",
      "156/156 [==============================] - 1s 8ms/step - loss: 0.4358 - accuracy: 0.7675 - val_loss: 0.4694 - val_accuracy: 0.6031\n",
      "Epoch 198/200\n",
      "156/156 [==============================] - 2s 9ms/step - loss: 0.4386 - accuracy: 0.7667 - val_loss: 0.4821 - val_accuracy: 0.6000\n",
      "Epoch 199/200\n",
      "156/156 [==============================] - 2s 9ms/step - loss: 0.4348 - accuracy: 0.7653 - val_loss: 0.4704 - val_accuracy: 0.6042\n",
      "Epoch 200/200\n",
      "156/156 [==============================] - 1s 8ms/step - loss: 0.4347 - accuracy: 0.7695 - val_loss: 0.4694 - val_accuracy: 0.6042\n"
     ]
    }
   ],
   "source": [
    "configs_dict = {\n",
    "    \"learning_rate\": LEARNING_RATE,\n",
    "    \"algorithm\": \"LogReg\",\n",
    "    \"configuration\": \"3-tokens-types\",\n",
    "    \"optimizer\": \"adam\",\n",
    "    \"loss\": \"binary_crossentropy\",\n",
    "    \"epochs\": NUM_EPOCHS,\n",
    "    \"batch_size\": 64,\n",
    "    \"vectorizer\": \"int\",\n",
    "    \"dataset\": \"TOKENIZED_SET_V1\"\n",
    "}\n",
    "run = wandb.init(project=wandb_project_name, reinit=True, config=configs_dict)\n",
    "\n",
    "history = model.fit(train_dataset, \n",
    "                    epochs=NUM_EPOCHS,\n",
    "                    validation_data=test_dataset,\n",
    "                    steps_per_epoch = STEPS_PER_EPOCH,\n",
    "                    validation_steps = VAL_STEPS_PER_EPOCH,\n",
    "                    callbacks= [WandbCallback()])#[tensorboard_callback])\n",
    "run.finish()"
   ]
  },
  {
   "cell_type": "code",
   "execution_count": 30,
   "metadata": {},
   "outputs": [
    {
     "name": "stdout",
     "output_type": "stream",
     "text": [
      "15/15 [==============================] - 0s 2ms/step - loss: 0.4694 - accuracy: 0.6042\n",
      "Test Loss: 0.46943292021751404\n",
      "Test Accuracy: 0.6041666865348816\n"
     ]
    }
   ],
   "source": [
    "test_loss, test_acc = model.evaluate(test_dataset)\n",
    "\n",
    "print(\"Test Loss:\", test_loss)\n",
    "print(\"Test Accuracy:\", test_acc)"
   ]
  },
  {
   "cell_type": "code",
   "execution_count": 31,
   "metadata": {},
   "outputs": [
    {
     "data": {
      "text/plain": [
       "(0.0, 0.5974564850330353)"
      ]
     },
     "execution_count": 31,
     "metadata": {},
     "output_type": "execute_result"
    },
    {
     "data": {
      "image/png": "[encoded data removed]",
      "text/plain": [
       "<Figure size 1600x800 with 2 Axes>"
      ]
     },
     "metadata": {},
     "output_type": "display_data"
    }
   ],
   "source": [
    "plt.figure(figsize=(16,8))\n",
    "plt.subplot(1,2,1)\n",
    "plot_graphs(history, \"accuracy\")\n",
    "plt.ylim(None, 1)\n",
    "plt.subplot(1,2,2)\n",
    "plot_graphs(history, \"loss\")\n",
    "plt.ylim(0, None)"
   ]
  },
  {
   "cell_type": "code",
   "execution_count": 32,
   "metadata": {},
   "outputs": [
    {
     "data": {
      "text/plain": [
       "'\\npredictions = model.predict((np.array([example_token]), np.array([example_type])))\\nprint(predictions[0])\\n'"
      ]
     },
     "execution_count": 32,
     "metadata": {},
     "output_type": "execute_result"
    }
   ],
   "source": [
    "\n",
    "# predict on a sample text without padding\n",
    "\"\"\"\n",
    "predictions = model.predict((np.array([example_token]), np.array([example_type])))\n",
    "print(predictions[0])\n",
    "\"\"\""
   ]
  },
  {
   "attachments": {},
   "cell_type": "markdown",
   "metadata": {},
   "source": [
    "##### Experiment 2: Use binary count vectorizer for encoding"
   ]
  },
  {
   "cell_type": "code",
   "execution_count": 33,
   "metadata": {},
   "outputs": [],
   "source": [
    "tokens_input_len = TOKENS_PAD_TO_MAX_TOKENS \n",
    "type_input_len = TYPE_TOKENS_PAD_TO_MAX_TOKENS\n",
    "\n",
    "model = create_model(encoder_multi_hot_tokens, encoder_multi_hot_types,tokens_input_len, type_input_len) # maybe add 30\n",
    "# predict on a sample formula using untrained model\n",
    "#predictions = model.predict(np.array([sample_text]))\n",
    "#print(predictions[0])"
   ]
  },
  {
   "cell_type": "code",
   "execution_count": 34,
   "metadata": {},
   "outputs": [],
   "source": [
    "LEARNING_RATE = 1e-2\n",
    "NUM_EPOCHS = 200\n",
    "\n",
    "sample_text = \"( A \\cup B ) \\cap (C \\cup D )\"\n",
    "model.compile(loss=tf.keras.losses.BinaryCrossentropy(from_logits=True),\n",
    "              optimizer=tf.keras.optimizers.Adam(LEARNING_RATE),\n",
    "              metrics=[\"accuracy\"])"
   ]
  },
  {
   "cell_type": "code",
   "execution_count": 35,
   "metadata": {},
   "outputs": [
    {
     "name": "stdout",
     "output_type": "stream",
     "text": [
      "Epoch 1/200\n",
      "150/156 [===========================>..] - ETA: 0s - loss: 0.6892 - accuracy: 0.5497INFO:tensorflow:Assets written to: /home/paul_d/Sources/sem_math_repo/classification_formulas_binary/wandb/run-20230307_231105-ywgmuu9x/files/model-best/assets\n"
     ]
    },
    {
     "name": "stderr",
     "output_type": "stream",
     "text": [
      "INFO:tensorflow:Assets written to: /home/paul_d/Sources/sem_math_repo/classification_formulas_binary/wandb/run-20230307_231105-ywgmuu9x/files/model-best/assets\n"
     ]
    },
    {
     "name": "stdout",
     "output_type": "stream",
     "text": [
      "156/156 [==============================] - 3s 18ms/step - loss: 0.6891 - accuracy: 0.5501 - val_loss: 0.8017 - val_accuracy: 0.0000e+00\n",
      "Epoch 2/200\n",
      "155/156 [============================>.] - ETA: 0s - loss: 0.6883 - accuracy: 0.5500INFO:tensorflow:Assets written to: /home/paul_d/Sources/sem_math_repo/classification_formulas_binary/wandb/run-20230307_231105-ywgmuu9x/files/model-best/assets\n"
     ]
    },
    {
     "name": "stderr",
     "output_type": "stream",
     "text": [
      "INFO:tensorflow:Assets written to: /home/paul_d/Sources/sem_math_repo/classification_formulas_binary/wandb/run-20230307_231105-ywgmuu9x/files/model-best/assets\n"
     ]
    },
    {
     "name": "stdout",
     "output_type": "stream",
     "text": [
      "156/156 [==============================] - 3s 17ms/step - loss: 0.6882 - accuracy: 0.5505 - val_loss: 0.7990 - val_accuracy: 0.0000e+00\n",
      "Epoch 3/200\n",
      "153/156 [============================>.] - ETA: 0s - loss: 0.6885 - accuracy: 0.5495INFO:tensorflow:Assets written to: /home/paul_d/Sources/sem_math_repo/classification_formulas_binary/wandb/run-20230307_231105-ywgmuu9x/files/model-best/assets\n"
     ]
    },
    {
     "name": "stderr",
     "output_type": "stream",
     "text": [
      "INFO:tensorflow:Assets written to: /home/paul_d/Sources/sem_math_repo/classification_formulas_binary/wandb/run-20230307_231105-ywgmuu9x/files/model-best/assets\n"
     ]
    },
    {
     "name": "stdout",
     "output_type": "stream",
     "text": [
      "156/156 [==============================] - 3s 16ms/step - loss: 0.6885 - accuracy: 0.5497 - val_loss: 0.7563 - val_accuracy: 0.0000e+00\n",
      "Epoch 4/200\n",
      "156/156 [==============================] - 1s 8ms/step - loss: 0.6890 - accuracy: 0.5498 - val_loss: 0.8128 - val_accuracy: 0.0000e+00\n",
      "Epoch 5/200\n",
      "156/156 [==============================] - 1s 8ms/step - loss: 0.6885 - accuracy: 0.5500 - val_loss: 0.8230 - val_accuracy: 0.0000e+00\n",
      "Epoch 6/200\n",
      "156/156 [==============================] - 1s 8ms/step - loss: 0.6887 - accuracy: 0.5497 - val_loss: 0.8289 - val_accuracy: 0.0000e+00\n",
      "Epoch 7/200\n",
      "156/156 [==============================] - 1s 8ms/step - loss: 0.6883 - accuracy: 0.5502 - val_loss: 0.8011 - val_accuracy: 0.0000e+00\n",
      "Epoch 8/200\n",
      "156/156 [==============================] - 1s 8ms/step - loss: 0.6883 - accuracy: 0.5502 - val_loss: 0.8513 - val_accuracy: 0.0000e+00\n",
      "Epoch 9/200\n",
      "156/156 [==============================] - 1s 8ms/step - loss: 0.6884 - accuracy: 0.5495 - val_loss: 0.8284 - val_accuracy: 0.0000e+00\n",
      "Epoch 10/200\n",
      "156/156 [==============================] - 1s 8ms/step - loss: 0.6884 - accuracy: 0.5498 - val_loss: 0.8164 - val_accuracy: 0.0000e+00\n",
      "Epoch 11/200\n",
      "156/156 [==============================] - 1s 8ms/step - loss: 0.6883 - accuracy: 0.5498 - val_loss: 0.8027 - val_accuracy: 0.0000e+00\n",
      "Epoch 12/200\n",
      "156/156 [==============================] - 1s 8ms/step - loss: 0.6883 - accuracy: 0.5499 - val_loss: 0.8479 - val_accuracy: 0.0000e+00\n",
      "Epoch 13/200\n",
      "156/156 [==============================] - 1s 8ms/step - loss: 0.6882 - accuracy: 0.5501 - val_loss: 0.8158 - val_accuracy: 0.0000e+00\n",
      "Epoch 14/200\n",
      "156/156 [==============================] - 1s 8ms/step - loss: 0.6884 - accuracy: 0.5499 - val_loss: 0.7909 - val_accuracy: 0.0000e+00\n",
      "Epoch 15/200\n",
      "156/156 [==============================] - 1s 8ms/step - loss: 0.6883 - accuracy: 0.5501 - val_loss: 0.7995 - val_accuracy: 0.0000e+00\n",
      "Epoch 16/200\n",
      "156/156 [==============================] - 1s 8ms/step - loss: 0.6883 - accuracy: 0.5502 - val_loss: 0.8151 - val_accuracy: 0.0000e+00\n",
      "Epoch 17/200\n",
      "156/156 [==============================] - 1s 8ms/step - loss: 0.6883 - accuracy: 0.5499 - val_loss: 0.7990 - val_accuracy: 0.0000e+00\n",
      "Epoch 18/200\n",
      "156/156 [==============================] - 1s 8ms/step - loss: 0.6883 - accuracy: 0.5499 - val_loss: 0.7966 - val_accuracy: 0.0000e+00\n",
      "Epoch 19/200\n",
      "156/156 [==============================] - 1s 8ms/step - loss: 0.6883 - accuracy: 0.5503 - val_loss: 0.8163 - val_accuracy: 0.0000e+00\n",
      "Epoch 20/200\n",
      "156/156 [==============================] - 1s 8ms/step - loss: 0.6883 - accuracy: 0.5503 - val_loss: 0.8173 - val_accuracy: 0.0000e+00\n",
      "Epoch 21/200\n",
      "156/156 [==============================] - 1s 8ms/step - loss: 0.6883 - accuracy: 0.5500 - val_loss: 0.8154 - val_accuracy: 0.0000e+00\n",
      "Epoch 22/200\n",
      "156/156 [==============================] - 1s 8ms/step - loss: 0.6884 - accuracy: 0.5499 - val_loss: 0.8324 - val_accuracy: 0.0000e+00\n",
      "Epoch 23/200\n",
      "156/156 [==============================] - 1s 8ms/step - loss: 0.6883 - accuracy: 0.5500 - val_loss: 0.8362 - val_accuracy: 0.0000e+00\n",
      "Epoch 24/200\n",
      "156/156 [==============================] - 1s 8ms/step - loss: 0.6883 - accuracy: 0.5498 - val_loss: 0.8006 - val_accuracy: 0.0000e+00\n",
      "Epoch 25/200\n",
      "156/156 [==============================] - 1s 8ms/step - loss: 0.6884 - accuracy: 0.5500 - val_loss: 0.8333 - val_accuracy: 0.0000e+00\n",
      "Epoch 26/200\n",
      "156/156 [==============================] - 1s 8ms/step - loss: 0.6883 - accuracy: 0.5503 - val_loss: 0.8193 - val_accuracy: 0.0000e+00\n",
      "Epoch 27/200\n",
      "156/156 [==============================] - 1s 8ms/step - loss: 0.6884 - accuracy: 0.5497 - val_loss: 0.8323 - val_accuracy: 0.0000e+00\n",
      "Epoch 28/200\n",
      "156/156 [==============================] - 1s 8ms/step - loss: 0.6883 - accuracy: 0.5502 - val_loss: 0.8340 - val_accuracy: 0.0000e+00\n",
      "Epoch 29/200\n",
      "156/156 [==============================] - 1s 8ms/step - loss: 0.6883 - accuracy: 0.5502 - val_loss: 0.8144 - val_accuracy: 0.0000e+00\n",
      "Epoch 30/200\n",
      "156/156 [==============================] - 1s 8ms/step - loss: 0.6883 - accuracy: 0.5503 - val_loss: 0.8448 - val_accuracy: 0.0000e+00\n",
      "Epoch 31/200\n",
      "156/156 [==============================] - 1s 8ms/step - loss: 0.6885 - accuracy: 0.5497 - val_loss: 0.8226 - val_accuracy: 0.0000e+00\n",
      "Epoch 32/200\n",
      "156/156 [==============================] - 1s 8ms/step - loss: 0.6883 - accuracy: 0.5500 - val_loss: 0.8212 - val_accuracy: 0.0000e+00\n",
      "Epoch 33/200\n",
      "156/156 [==============================] - 1s 8ms/step - loss: 0.6883 - accuracy: 0.5497 - val_loss: 0.8178 - val_accuracy: 0.0000e+00\n",
      "Epoch 34/200\n",
      "156/156 [==============================] - 1s 8ms/step - loss: 0.6882 - accuracy: 0.5499 - val_loss: 0.7802 - val_accuracy: 0.0000e+00\n",
      "Epoch 35/200\n",
      "156/156 [==============================] - 1s 8ms/step - loss: 0.6884 - accuracy: 0.5500 - val_loss: 0.8219 - val_accuracy: 0.0000e+00\n",
      "Epoch 36/200\n",
      "156/156 [==============================] - 1s 8ms/step - loss: 0.6883 - accuracy: 0.5501 - val_loss: 0.8651 - val_accuracy: 0.0000e+00\n",
      "Epoch 37/200\n",
      "156/156 [==============================] - 1s 8ms/step - loss: 0.6884 - accuracy: 0.5501 - val_loss: 0.8262 - val_accuracy: 0.0000e+00\n",
      "Epoch 38/200\n",
      "156/156 [==============================] - 1s 8ms/step - loss: 0.6885 - accuracy: 0.5499 - val_loss: 0.8143 - val_accuracy: 0.0000e+00\n",
      "Epoch 39/200\n",
      "156/156 [==============================] - 1s 8ms/step - loss: 0.6882 - accuracy: 0.5502 - val_loss: 0.8333 - val_accuracy: 0.0000e+00\n",
      "Epoch 40/200\n",
      "156/156 [==============================] - 1s 8ms/step - loss: 0.6883 - accuracy: 0.5502 - val_loss: 0.8487 - val_accuracy: 0.0000e+00\n",
      "Epoch 41/200\n",
      "156/156 [==============================] - 1s 8ms/step - loss: 0.6884 - accuracy: 0.5498 - val_loss: 0.8011 - val_accuracy: 0.0000e+00\n",
      "Epoch 42/200\n",
      "156/156 [==============================] - 1s 8ms/step - loss: 0.6884 - accuracy: 0.5500 - val_loss: 0.8326 - val_accuracy: 0.0000e+00\n",
      "Epoch 43/200\n",
      "156/156 [==============================] - 1s 8ms/step - loss: 0.6886 - accuracy: 0.5499 - val_loss: 0.8349 - val_accuracy: 0.0000e+00\n",
      "Epoch 44/200\n",
      "156/156 [==============================] - 1s 8ms/step - loss: 0.6885 - accuracy: 0.5504 - val_loss: 0.8156 - val_accuracy: 0.0000e+00\n",
      "Epoch 45/200\n",
      "156/156 [==============================] - 1s 8ms/step - loss: 0.6884 - accuracy: 0.5499 - val_loss: 0.8082 - val_accuracy: 0.0000e+00\n",
      "Epoch 46/200\n",
      "156/156 [==============================] - 1s 8ms/step - loss: 0.6883 - accuracy: 0.5502 - val_loss: 0.7943 - val_accuracy: 0.0000e+00\n",
      "Epoch 47/200\n",
      "156/156 [==============================] - 1s 8ms/step - loss: 0.6884 - accuracy: 0.5499 - val_loss: 0.8181 - val_accuracy: 0.0000e+00\n",
      "Epoch 48/200\n",
      "156/156 [==============================] - 1s 8ms/step - loss: 0.6884 - accuracy: 0.5503 - val_loss: 0.8280 - val_accuracy: 0.0000e+00\n",
      "Epoch 49/200\n",
      "156/156 [==============================] - 1s 8ms/step - loss: 0.6883 - accuracy: 0.5498 - val_loss: 0.8325 - val_accuracy: 0.0000e+00\n",
      "Epoch 50/200\n",
      "156/156 [==============================] - 1s 8ms/step - loss: 0.6885 - accuracy: 0.5499 - val_loss: 0.8155 - val_accuracy: 0.0000e+00\n",
      "Epoch 51/200\n",
      "156/156 [==============================] - 1s 8ms/step - loss: 0.6882 - accuracy: 0.5501 - val_loss: 0.8014 - val_accuracy: 0.0000e+00\n",
      "Epoch 52/200\n",
      "156/156 [==============================] - 1s 8ms/step - loss: 0.6883 - accuracy: 0.5500 - val_loss: 0.8006 - val_accuracy: 0.0000e+00\n",
      "Epoch 53/200\n",
      "156/156 [==============================] - 1s 8ms/step - loss: 0.6884 - accuracy: 0.5502 - val_loss: 0.8061 - val_accuracy: 0.0000e+00\n",
      "Epoch 54/200\n",
      "156/156 [==============================] - 1s 8ms/step - loss: 0.6882 - accuracy: 0.5503 - val_loss: 0.8080 - val_accuracy: 0.0000e+00\n",
      "Epoch 55/200\n",
      "156/156 [==============================] - 1s 8ms/step - loss: 0.6883 - accuracy: 0.5500 - val_loss: 0.8478 - val_accuracy: 0.0000e+00\n",
      "Epoch 56/200\n",
      "156/156 [==============================] - 1s 8ms/step - loss: 0.6883 - accuracy: 0.5497 - val_loss: 0.7982 - val_accuracy: 0.0000e+00\n",
      "Epoch 57/200\n",
      "156/156 [==============================] - 1s 8ms/step - loss: 0.6883 - accuracy: 0.5499 - val_loss: 0.8241 - val_accuracy: 0.0000e+00\n",
      "Epoch 58/200\n",
      "156/156 [==============================] - 1s 8ms/step - loss: 0.6886 - accuracy: 0.5499 - val_loss: 0.8252 - val_accuracy: 0.0000e+00\n",
      "Epoch 59/200\n",
      "156/156 [==============================] - 1s 8ms/step - loss: 0.6884 - accuracy: 0.5499 - val_loss: 0.8276 - val_accuracy: 0.0000e+00\n",
      "Epoch 60/200\n",
      "156/156 [==============================] - 1s 8ms/step - loss: 0.6880 - accuracy: 0.5501 - val_loss: 0.7816 - val_accuracy: 0.0000e+00\n",
      "Epoch 61/200\n",
      "156/156 [==============================] - 1s 8ms/step - loss: 0.6885 - accuracy: 0.5501 - val_loss: 0.8109 - val_accuracy: 0.0000e+00\n",
      "Epoch 62/200\n",
      "156/156 [==============================] - 1s 8ms/step - loss: 0.6885 - accuracy: 0.5497 - val_loss: 0.8223 - val_accuracy: 0.0000e+00\n",
      "Epoch 63/200\n",
      "156/156 [==============================] - 1s 8ms/step - loss: 0.6883 - accuracy: 0.5501 - val_loss: 0.8119 - val_accuracy: 0.0000e+00\n",
      "Epoch 64/200\n",
      "156/156 [==============================] - 1s 8ms/step - loss: 0.6883 - accuracy: 0.5503 - val_loss: 0.8051 - val_accuracy: 0.0000e+00\n",
      "Epoch 65/200\n",
      "156/156 [==============================] - 1s 8ms/step - loss: 0.6884 - accuracy: 0.5497 - val_loss: 0.8011 - val_accuracy: 0.0000e+00\n",
      "Epoch 66/200\n",
      "156/156 [==============================] - 1s 8ms/step - loss: 0.6884 - accuracy: 0.5499 - val_loss: 0.8136 - val_accuracy: 0.0000e+00\n",
      "Epoch 67/200\n",
      "156/156 [==============================] - 1s 8ms/step - loss: 0.6881 - accuracy: 0.5503 - val_loss: 0.8508 - val_accuracy: 0.0000e+00\n",
      "Epoch 68/200\n",
      "156/156 [==============================] - 1s 8ms/step - loss: 0.6885 - accuracy: 0.5499 - val_loss: 0.8184 - val_accuracy: 0.0000e+00\n",
      "Epoch 69/200\n",
      "156/156 [==============================] - 1s 8ms/step - loss: 0.6883 - accuracy: 0.5503 - val_loss: 0.8236 - val_accuracy: 0.0000e+00\n",
      "Epoch 70/200\n",
      "156/156 [==============================] - 1s 8ms/step - loss: 0.6882 - accuracy: 0.5501 - val_loss: 0.8688 - val_accuracy: 0.0000e+00\n",
      "Epoch 71/200\n",
      "156/156 [==============================] - 1s 8ms/step - loss: 0.6885 - accuracy: 0.5501 - val_loss: 0.8146 - val_accuracy: 0.0000e+00\n",
      "Epoch 72/200\n",
      "156/156 [==============================] - 1s 8ms/step - loss: 0.6883 - accuracy: 0.5503 - val_loss: 0.8432 - val_accuracy: 0.0000e+00\n",
      "Epoch 73/200\n",
      "156/156 [==============================] - 1s 8ms/step - loss: 0.6884 - accuracy: 0.5500 - val_loss: 0.8264 - val_accuracy: 0.0000e+00\n",
      "Epoch 74/200\n",
      "156/156 [==============================] - 1s 8ms/step - loss: 0.6882 - accuracy: 0.5501 - val_loss: 0.8410 - val_accuracy: 0.0000e+00\n",
      "Epoch 75/200\n",
      "156/156 [==============================] - 1s 8ms/step - loss: 0.6884 - accuracy: 0.5495 - val_loss: 0.7994 - val_accuracy: 0.0000e+00\n",
      "Epoch 76/200\n",
      "156/156 [==============================] - 1s 8ms/step - loss: 0.6884 - accuracy: 0.5499 - val_loss: 0.8216 - val_accuracy: 0.0000e+00\n",
      "Epoch 77/200\n",
      "156/156 [==============================] - 1s 8ms/step - loss: 0.6884 - accuracy: 0.5501 - val_loss: 0.8333 - val_accuracy: 0.0000e+00\n",
      "Epoch 78/200\n",
      "156/156 [==============================] - 1s 8ms/step - loss: 0.6883 - accuracy: 0.5501 - val_loss: 0.8252 - val_accuracy: 0.0000e+00\n",
      "Epoch 79/200\n",
      "156/156 [==============================] - 1s 8ms/step - loss: 0.6882 - accuracy: 0.5504 - val_loss: 0.7997 - val_accuracy: 0.0000e+00\n",
      "Epoch 80/200\n",
      "156/156 [==============================] - 1s 8ms/step - loss: 0.6883 - accuracy: 0.5499 - val_loss: 0.8331 - val_accuracy: 0.0000e+00\n",
      "Epoch 81/200\n",
      "156/156 [==============================] - 1s 8ms/step - loss: 0.6884 - accuracy: 0.5500 - val_loss: 0.8177 - val_accuracy: 0.0000e+00\n",
      "Epoch 82/200\n",
      "156/156 [==============================] - 1s 8ms/step - loss: 0.6884 - accuracy: 0.5499 - val_loss: 0.8373 - val_accuracy: 0.0000e+00\n",
      "Epoch 83/200\n",
      "156/156 [==============================] - 1s 8ms/step - loss: 0.6883 - accuracy: 0.5501 - val_loss: 0.7995 - val_accuracy: 0.0000e+00\n",
      "Epoch 84/200\n",
      "156/156 [==============================] - 1s 8ms/step - loss: 0.6883 - accuracy: 0.5503 - val_loss: 0.8176 - val_accuracy: 0.0000e+00\n",
      "Epoch 85/200\n",
      "156/156 [==============================] - 1s 8ms/step - loss: 0.6883 - accuracy: 0.5500 - val_loss: 0.8330 - val_accuracy: 0.0000e+00\n",
      "Epoch 86/200\n",
      "156/156 [==============================] - 1s 8ms/step - loss: 0.6884 - accuracy: 0.5501 - val_loss: 0.8118 - val_accuracy: 0.0000e+00\n",
      "Epoch 87/200\n",
      "156/156 [==============================] - 1s 8ms/step - loss: 0.6883 - accuracy: 0.5501 - val_loss: 0.7881 - val_accuracy: 0.0000e+00\n",
      "Epoch 88/200\n",
      "156/156 [==============================] - 1s 8ms/step - loss: 0.6884 - accuracy: 0.5499 - val_loss: 0.8158 - val_accuracy: 0.0000e+00\n",
      "Epoch 89/200\n",
      "156/156 [==============================] - 1s 8ms/step - loss: 0.6884 - accuracy: 0.5500 - val_loss: 0.8153 - val_accuracy: 0.0000e+00\n",
      "Epoch 90/200\n",
      "156/156 [==============================] - 1s 8ms/step - loss: 0.6884 - accuracy: 0.5501 - val_loss: 0.8196 - val_accuracy: 0.0000e+00\n",
      "Epoch 91/200\n",
      "156/156 [==============================] - 1s 8ms/step - loss: 0.6883 - accuracy: 0.5500 - val_loss: 0.8059 - val_accuracy: 0.0000e+00\n",
      "Epoch 92/200\n",
      "156/156 [==============================] - 1s 8ms/step - loss: 0.6882 - accuracy: 0.5503 - val_loss: 0.8284 - val_accuracy: 0.0000e+00\n",
      "Epoch 93/200\n",
      "156/156 [==============================] - 1s 8ms/step - loss: 0.6883 - accuracy: 0.5503 - val_loss: 0.8141 - val_accuracy: 0.0000e+00\n",
      "Epoch 94/200\n",
      "156/156 [==============================] - 1s 8ms/step - loss: 0.6882 - accuracy: 0.5501 - val_loss: 0.8066 - val_accuracy: 0.0000e+00\n",
      "Epoch 95/200\n",
      "156/156 [==============================] - 1s 8ms/step - loss: 0.6884 - accuracy: 0.5501 - val_loss: 0.8261 - val_accuracy: 0.0000e+00\n",
      "Epoch 96/200\n",
      "156/156 [==============================] - 1s 8ms/step - loss: 0.6883 - accuracy: 0.5502 - val_loss: 0.8018 - val_accuracy: 0.0000e+00\n",
      "Epoch 97/200\n",
      "156/156 [==============================] - 1s 8ms/step - loss: 0.6882 - accuracy: 0.5501 - val_loss: 0.8340 - val_accuracy: 0.0000e+00\n",
      "Epoch 98/200\n",
      "156/156 [==============================] - 1s 8ms/step - loss: 0.6883 - accuracy: 0.5500 - val_loss: 0.8238 - val_accuracy: 0.0000e+00\n",
      "Epoch 99/200\n",
      "156/156 [==============================] - 1s 8ms/step - loss: 0.6885 - accuracy: 0.5500 - val_loss: 0.8289 - val_accuracy: 0.0000e+00\n",
      "Epoch 100/200\n",
      "156/156 [==============================] - 1s 8ms/step - loss: 0.6883 - accuracy: 0.5502 - val_loss: 0.8209 - val_accuracy: 0.0000e+00\n",
      "Epoch 101/200\n",
      "156/156 [==============================] - 1s 8ms/step - loss: 0.6883 - accuracy: 0.5498 - val_loss: 0.8351 - val_accuracy: 0.0000e+00\n",
      "Epoch 102/200\n",
      "156/156 [==============================] - 1s 8ms/step - loss: 0.6884 - accuracy: 0.5500 - val_loss: 0.8135 - val_accuracy: 0.0000e+00\n",
      "Epoch 103/200\n",
      "156/156 [==============================] - 1s 8ms/step - loss: 0.6883 - accuracy: 0.5502 - val_loss: 0.8175 - val_accuracy: 0.0000e+00\n",
      "Epoch 104/200\n",
      "156/156 [==============================] - 1s 8ms/step - loss: 0.6883 - accuracy: 0.5499 - val_loss: 0.8129 - val_accuracy: 0.0000e+00\n",
      "Epoch 105/200\n",
      "156/156 [==============================] - 1s 8ms/step - loss: 0.6884 - accuracy: 0.5499 - val_loss: 0.8077 - val_accuracy: 0.0000e+00\n",
      "Epoch 106/200\n",
      "156/156 [==============================] - 1s 8ms/step - loss: 0.6884 - accuracy: 0.5502 - val_loss: 0.8229 - val_accuracy: 0.0000e+00\n",
      "Epoch 107/200\n",
      "156/156 [==============================] - 1s 8ms/step - loss: 0.6883 - accuracy: 0.5501 - val_loss: 0.7970 - val_accuracy: 0.0000e+00\n",
      "Epoch 108/200\n",
      "156/156 [==============================] - 1s 8ms/step - loss: 0.6883 - accuracy: 0.5502 - val_loss: 0.8144 - val_accuracy: 0.0000e+00\n",
      "Epoch 109/200\n",
      "156/156 [==============================] - 1s 8ms/step - loss: 0.6883 - accuracy: 0.5497 - val_loss: 0.8186 - val_accuracy: 0.0000e+00\n",
      "Epoch 110/200\n",
      "156/156 [==============================] - 1s 8ms/step - loss: 0.6884 - accuracy: 0.5497 - val_loss: 0.8192 - val_accuracy: 0.0000e+00\n",
      "Epoch 111/200\n",
      "156/156 [==============================] - 1s 8ms/step - loss: 0.6884 - accuracy: 0.5500 - val_loss: 0.8166 - val_accuracy: 0.0000e+00\n",
      "Epoch 112/200\n",
      "156/156 [==============================] - 1s 8ms/step - loss: 0.6885 - accuracy: 0.5501 - val_loss: 0.8161 - val_accuracy: 0.0000e+00\n",
      "Epoch 113/200\n",
      "156/156 [==============================] - 1s 8ms/step - loss: 0.6883 - accuracy: 0.5503 - val_loss: 0.8190 - val_accuracy: 0.0000e+00\n",
      "Epoch 114/200\n",
      "156/156 [==============================] - 1s 8ms/step - loss: 0.6884 - accuracy: 0.5498 - val_loss: 0.8219 - val_accuracy: 0.0000e+00\n",
      "Epoch 115/200\n",
      "156/156 [==============================] - 1s 8ms/step - loss: 0.6884 - accuracy: 0.5501 - val_loss: 0.8288 - val_accuracy: 0.0000e+00\n",
      "Epoch 116/200\n",
      "156/156 [==============================] - 1s 8ms/step - loss: 0.6882 - accuracy: 0.5499 - val_loss: 0.8500 - val_accuracy: 0.0000e+00\n",
      "Epoch 117/200\n",
      "156/156 [==============================] - 1s 8ms/step - loss: 0.6884 - accuracy: 0.5498 - val_loss: 0.8113 - val_accuracy: 0.0000e+00\n",
      "Epoch 118/200\n",
      "156/156 [==============================] - 1s 8ms/step - loss: 0.6884 - accuracy: 0.5496 - val_loss: 0.8270 - val_accuracy: 0.0000e+00\n",
      "Epoch 119/200\n",
      "156/156 [==============================] - 1s 8ms/step - loss: 0.6883 - accuracy: 0.5499 - val_loss: 0.8582 - val_accuracy: 0.0000e+00\n",
      "Epoch 120/200\n",
      "156/156 [==============================] - 1s 8ms/step - loss: 0.6886 - accuracy: 0.5499 - val_loss: 0.8005 - val_accuracy: 0.0000e+00\n",
      "Epoch 121/200\n",
      "156/156 [==============================] - 1s 8ms/step - loss: 0.6883 - accuracy: 0.5502 - val_loss: 0.8169 - val_accuracy: 0.0000e+00\n",
      "Epoch 122/200\n",
      "156/156 [==============================] - 1s 8ms/step - loss: 0.6883 - accuracy: 0.5500 - val_loss: 0.8365 - val_accuracy: 0.0000e+00\n",
      "Epoch 123/200\n",
      "156/156 [==============================] - 1s 8ms/step - loss: 0.6883 - accuracy: 0.5497 - val_loss: 0.8216 - val_accuracy: 0.0000e+00\n",
      "Epoch 124/200\n",
      "156/156 [==============================] - 1s 8ms/step - loss: 0.6884 - accuracy: 0.5499 - val_loss: 0.8118 - val_accuracy: 0.0000e+00\n",
      "Epoch 125/200\n",
      "156/156 [==============================] - 1s 8ms/step - loss: 0.6882 - accuracy: 0.5503 - val_loss: 0.7987 - val_accuracy: 0.0000e+00\n",
      "Epoch 126/200\n",
      "156/156 [==============================] - 1s 8ms/step - loss: 0.6883 - accuracy: 0.5502 - val_loss: 0.8076 - val_accuracy: 0.0000e+00\n",
      "Epoch 127/200\n",
      "156/156 [==============================] - 1s 8ms/step - loss: 0.6884 - accuracy: 0.5498 - val_loss: 0.8065 - val_accuracy: 0.0000e+00\n",
      "Epoch 128/200\n",
      "156/156 [==============================] - 1s 8ms/step - loss: 0.6884 - accuracy: 0.5501 - val_loss: 0.8587 - val_accuracy: 0.0000e+00\n",
      "Epoch 129/200\n",
      "156/156 [==============================] - 1s 8ms/step - loss: 0.6884 - accuracy: 0.5500 - val_loss: 0.8146 - val_accuracy: 0.0000e+00\n",
      "Epoch 130/200\n",
      "156/156 [==============================] - 1s 8ms/step - loss: 0.6883 - accuracy: 0.5503 - val_loss: 0.8224 - val_accuracy: 0.0000e+00\n",
      "Epoch 131/200\n",
      "156/156 [==============================] - 1s 8ms/step - loss: 0.6884 - accuracy: 0.5499 - val_loss: 0.8190 - val_accuracy: 0.0000e+00\n",
      "Epoch 132/200\n",
      "156/156 [==============================] - 1s 8ms/step - loss: 0.6883 - accuracy: 0.5502 - val_loss: 0.7825 - val_accuracy: 0.0000e+00\n",
      "Epoch 133/200\n",
      "156/156 [==============================] - 1s 8ms/step - loss: 0.6882 - accuracy: 0.5504 - val_loss: 0.8133 - val_accuracy: 0.0000e+00\n",
      "Epoch 134/200\n",
      "156/156 [==============================] - 1s 8ms/step - loss: 0.6882 - accuracy: 0.5501 - val_loss: 0.8357 - val_accuracy: 0.0000e+00\n",
      "Epoch 135/200\n",
      "156/156 [==============================] - 1s 8ms/step - loss: 0.6884 - accuracy: 0.5501 - val_loss: 0.8179 - val_accuracy: 0.0000e+00\n",
      "Epoch 136/200\n",
      "156/156 [==============================] - 1s 8ms/step - loss: 0.6884 - accuracy: 0.5502 - val_loss: 0.8413 - val_accuracy: 0.0000e+00\n",
      "Epoch 137/200\n",
      "156/156 [==============================] - 1s 8ms/step - loss: 0.6881 - accuracy: 0.5503 - val_loss: 0.8030 - val_accuracy: 0.0000e+00\n",
      "Epoch 138/200\n",
      "156/156 [==============================] - 1s 8ms/step - loss: 0.6884 - accuracy: 0.5498 - val_loss: 0.8148 - val_accuracy: 0.0000e+00\n",
      "Epoch 139/200\n",
      "156/156 [==============================] - 1s 8ms/step - loss: 0.6883 - accuracy: 0.5500 - val_loss: 0.8455 - val_accuracy: 0.0000e+00\n",
      "Epoch 140/200\n",
      "156/156 [==============================] - 1s 8ms/step - loss: 0.6883 - accuracy: 0.5500 - val_loss: 0.7960 - val_accuracy: 0.0000e+00\n",
      "Epoch 141/200\n",
      "156/156 [==============================] - 1s 8ms/step - loss: 0.6883 - accuracy: 0.5499 - val_loss: 0.8176 - val_accuracy: 0.0000e+00\n",
      "Epoch 142/200\n",
      "156/156 [==============================] - 1s 8ms/step - loss: 0.6883 - accuracy: 0.5499 - val_loss: 0.8105 - val_accuracy: 0.0000e+00\n",
      "Epoch 143/200\n",
      "156/156 [==============================] - 1s 8ms/step - loss: 0.6882 - accuracy: 0.5501 - val_loss: 0.8504 - val_accuracy: 0.0000e+00\n",
      "Epoch 144/200\n",
      "156/156 [==============================] - 1s 8ms/step - loss: 0.6888 - accuracy: 0.5497 - val_loss: 0.8141 - val_accuracy: 0.0000e+00\n",
      "Epoch 145/200\n",
      "156/156 [==============================] - 1s 8ms/step - loss: 0.6883 - accuracy: 0.5500 - val_loss: 0.8349 - val_accuracy: 0.0000e+00\n",
      "Epoch 146/200\n",
      "156/156 [==============================] - 1s 8ms/step - loss: 0.6882 - accuracy: 0.5502 - val_loss: 0.8136 - val_accuracy: 0.0000e+00\n",
      "Epoch 147/200\n",
      "156/156 [==============================] - 1s 8ms/step - loss: 0.6882 - accuracy: 0.5502 - val_loss: 0.8287 - val_accuracy: 0.0000e+00\n",
      "Epoch 148/200\n",
      "156/156 [==============================] - 1s 8ms/step - loss: 0.6884 - accuracy: 0.5498 - val_loss: 0.8190 - val_accuracy: 0.0000e+00\n",
      "Epoch 149/200\n",
      "156/156 [==============================] - 1s 8ms/step - loss: 0.6884 - accuracy: 0.5497 - val_loss: 0.8046 - val_accuracy: 0.0000e+00\n",
      "Epoch 150/200\n",
      "156/156 [==============================] - 1s 8ms/step - loss: 0.6885 - accuracy: 0.5498 - val_loss: 0.8114 - val_accuracy: 0.0000e+00\n",
      "Epoch 151/200\n",
      "156/156 [==============================] - 1s 8ms/step - loss: 0.6881 - accuracy: 0.5495 - val_loss: 0.7688 - val_accuracy: 0.0000e+00\n",
      "Epoch 152/200\n",
      "156/156 [==============================] - 1s 8ms/step - loss: 0.6886 - accuracy: 0.5501 - val_loss: 0.8515 - val_accuracy: 0.0000e+00\n",
      "Epoch 153/200\n",
      "156/156 [==============================] - 1s 8ms/step - loss: 0.6883 - accuracy: 0.5500 - val_loss: 0.8200 - val_accuracy: 0.0000e+00\n",
      "Epoch 154/200\n",
      "156/156 [==============================] - 1s 8ms/step - loss: 0.6884 - accuracy: 0.5498 - val_loss: 0.8122 - val_accuracy: 0.0000e+00\n",
      "Epoch 155/200\n",
      "156/156 [==============================] - 1s 8ms/step - loss: 0.6883 - accuracy: 0.5499 - val_loss: 0.8160 - val_accuracy: 0.0000e+00\n",
      "Epoch 156/200\n",
      "156/156 [==============================] - 1s 8ms/step - loss: 0.6884 - accuracy: 0.5498 - val_loss: 0.8090 - val_accuracy: 0.0000e+00\n",
      "Epoch 157/200\n",
      "156/156 [==============================] - 1s 8ms/step - loss: 0.6883 - accuracy: 0.5498 - val_loss: 0.8353 - val_accuracy: 0.0000e+00\n",
      "Epoch 158/200\n",
      "156/156 [==============================] - 1s 8ms/step - loss: 0.6883 - accuracy: 0.5503 - val_loss: 0.8201 - val_accuracy: 0.0000e+00\n",
      "Epoch 159/200\n",
      "156/156 [==============================] - 1s 8ms/step - loss: 0.6884 - accuracy: 0.5500 - val_loss: 0.8236 - val_accuracy: 0.0000e+00\n",
      "Epoch 160/200\n",
      "156/156 [==============================] - 1s 8ms/step - loss: 0.6883 - accuracy: 0.5500 - val_loss: 0.8479 - val_accuracy: 0.0000e+00\n",
      "Epoch 161/200\n",
      "156/156 [==============================] - 1s 8ms/step - loss: 0.6882 - accuracy: 0.5500 - val_loss: 0.7978 - val_accuracy: 0.0000e+00\n",
      "Epoch 162/200\n",
      "156/156 [==============================] - 1s 8ms/step - loss: 0.6882 - accuracy: 0.5501 - val_loss: 0.8343 - val_accuracy: 0.0000e+00\n",
      "Epoch 163/200\n",
      "156/156 [==============================] - 1s 8ms/step - loss: 0.6883 - accuracy: 0.5503 - val_loss: 0.8196 - val_accuracy: 0.0000e+00\n",
      "Epoch 164/200\n",
      "156/156 [==============================] - 1s 8ms/step - loss: 0.6884 - accuracy: 0.5501 - val_loss: 0.8239 - val_accuracy: 0.0000e+00\n",
      "Epoch 165/200\n",
      "156/156 [==============================] - 1s 8ms/step - loss: 0.6885 - accuracy: 0.5499 - val_loss: 0.8241 - val_accuracy: 0.0000e+00\n",
      "Epoch 166/200\n",
      "156/156 [==============================] - 1s 8ms/step - loss: 0.6883 - accuracy: 0.5502 - val_loss: 0.8403 - val_accuracy: 0.0000e+00\n",
      "Epoch 167/200\n",
      "156/156 [==============================] - 1s 8ms/step - loss: 0.6884 - accuracy: 0.5500 - val_loss: 0.8275 - val_accuracy: 0.0000e+00\n",
      "Epoch 168/200\n",
      "156/156 [==============================] - 1s 8ms/step - loss: 0.6882 - accuracy: 0.5501 - val_loss: 0.8076 - val_accuracy: 0.0000e+00\n",
      "Epoch 169/200\n",
      "156/156 [==============================] - 1s 8ms/step - loss: 0.6884 - accuracy: 0.5500 - val_loss: 0.8345 - val_accuracy: 0.0000e+00\n",
      "Epoch 170/200\n",
      "156/156 [==============================] - 1s 8ms/step - loss: 0.6883 - accuracy: 0.5500 - val_loss: 0.8013 - val_accuracy: 0.0000e+00\n",
      "Epoch 171/200\n",
      "156/156 [==============================] - 1s 8ms/step - loss: 0.6883 - accuracy: 0.5499 - val_loss: 0.8437 - val_accuracy: 0.0000e+00\n",
      "Epoch 172/200\n",
      "156/156 [==============================] - 1s 8ms/step - loss: 0.6884 - accuracy: 0.5497 - val_loss: 0.7852 - val_accuracy: 0.0000e+00\n",
      "Epoch 173/200\n",
      "156/156 [==============================] - 1s 8ms/step - loss: 0.6884 - accuracy: 0.5500 - val_loss: 0.8119 - val_accuracy: 0.0000e+00\n",
      "Epoch 174/200\n",
      "156/156 [==============================] - 1s 8ms/step - loss: 0.6884 - accuracy: 0.5501 - val_loss: 0.8123 - val_accuracy: 0.0000e+00\n",
      "Epoch 175/200\n",
      "156/156 [==============================] - 1s 8ms/step - loss: 0.6882 - accuracy: 0.5501 - val_loss: 0.7974 - val_accuracy: 0.0000e+00\n",
      "Epoch 176/200\n",
      "156/156 [==============================] - 1s 8ms/step - loss: 0.6884 - accuracy: 0.5500 - val_loss: 0.8169 - val_accuracy: 0.0000e+00\n",
      "Epoch 177/200\n",
      "156/156 [==============================] - 1s 8ms/step - loss: 0.6885 - accuracy: 0.5501 - val_loss: 0.8103 - val_accuracy: 0.0000e+00\n",
      "Epoch 178/200\n",
      "156/156 [==============================] - 1s 8ms/step - loss: 0.6883 - accuracy: 0.5502 - val_loss: 0.8421 - val_accuracy: 0.0000e+00\n",
      "Epoch 179/200\n",
      "156/156 [==============================] - 1s 8ms/step - loss: 0.6884 - accuracy: 0.5503 - val_loss: 0.8231 - val_accuracy: 0.0000e+00\n",
      "Epoch 180/200\n",
      "156/156 [==============================] - 1s 8ms/step - loss: 0.6882 - accuracy: 0.5502 - val_loss: 0.8158 - val_accuracy: 0.0000e+00\n",
      "Epoch 181/200\n",
      "156/156 [==============================] - 1s 8ms/step - loss: 0.6883 - accuracy: 0.5498 - val_loss: 0.8285 - val_accuracy: 0.0000e+00\n",
      "Epoch 182/200\n",
      "156/156 [==============================] - 1s 8ms/step - loss: 0.6883 - accuracy: 0.5503 - val_loss: 0.8349 - val_accuracy: 0.0000e+00\n",
      "Epoch 183/200\n",
      "156/156 [==============================] - 1s 8ms/step - loss: 0.6883 - accuracy: 0.5500 - val_loss: 0.8222 - val_accuracy: 0.0000e+00\n",
      "Epoch 184/200\n",
      "156/156 [==============================] - 1s 8ms/step - loss: 0.6884 - accuracy: 0.5502 - val_loss: 0.8166 - val_accuracy: 0.0000e+00\n",
      "Epoch 185/200\n",
      "156/156 [==============================] - 1s 8ms/step - loss: 0.6882 - accuracy: 0.5502 - val_loss: 0.8376 - val_accuracy: 0.0000e+00\n",
      "Epoch 186/200\n",
      "156/156 [==============================] - 1s 8ms/step - loss: 0.6884 - accuracy: 0.5501 - val_loss: 0.8162 - val_accuracy: 0.0000e+00\n",
      "Epoch 187/200\n",
      "156/156 [==============================] - 1s 8ms/step - loss: 0.6883 - accuracy: 0.5498 - val_loss: 0.8251 - val_accuracy: 0.0000e+00\n",
      "Epoch 188/200\n",
      "156/156 [==============================] - 1s 8ms/step - loss: 0.6884 - accuracy: 0.5498 - val_loss: 0.8215 - val_accuracy: 0.0000e+00\n",
      "Epoch 189/200\n",
      "156/156 [==============================] - 1s 8ms/step - loss: 0.6883 - accuracy: 0.5498 - val_loss: 0.8324 - val_accuracy: 0.0000e+00\n",
      "Epoch 190/200\n",
      "156/156 [==============================] - 1s 8ms/step - loss: 0.6884 - accuracy: 0.5500 - val_loss: 0.8271 - val_accuracy: 0.0000e+00\n",
      "Epoch 191/200\n",
      "156/156 [==============================] - 1s 8ms/step - loss: 0.6883 - accuracy: 0.5500 - val_loss: 0.8169 - val_accuracy: 0.0000e+00\n",
      "Epoch 192/200\n",
      "156/156 [==============================] - 1s 8ms/step - loss: 0.6884 - accuracy: 0.5497 - val_loss: 0.8282 - val_accuracy: 0.0000e+00\n",
      "Epoch 193/200\n",
      "156/156 [==============================] - 1s 8ms/step - loss: 0.6882 - accuracy: 0.5503 - val_loss: 0.7974 - val_accuracy: 0.0000e+00\n",
      "Epoch 194/200\n",
      "156/156 [==============================] - 1s 8ms/step - loss: 0.6882 - accuracy: 0.5501 - val_loss: 0.8347 - val_accuracy: 0.0000e+00\n",
      "Epoch 195/200\n",
      "156/156 [==============================] - 1s 8ms/step - loss: 0.6883 - accuracy: 0.5497 - val_loss: 0.7922 - val_accuracy: 0.0000e+00\n",
      "Epoch 196/200\n",
      "156/156 [==============================] - 1s 8ms/step - loss: 0.6884 - accuracy: 0.5502 - val_loss: 0.8092 - val_accuracy: 0.0000e+00\n",
      "Epoch 197/200\n",
      "156/156 [==============================] - 1s 8ms/step - loss: 0.6883 - accuracy: 0.5500 - val_loss: 0.7972 - val_accuracy: 0.0000e+00\n",
      "Epoch 198/200\n",
      "156/156 [==============================] - 1s 8ms/step - loss: 0.6883 - accuracy: 0.5503 - val_loss: 0.8238 - val_accuracy: 0.0000e+00\n",
      "Epoch 199/200\n",
      "156/156 [==============================] - 1s 8ms/step - loss: 0.6883 - accuracy: 0.5502 - val_loss: 0.8138 - val_accuracy: 0.0000e+00\n",
      "Epoch 200/200\n",
      "156/156 [==============================] - 1s 8ms/step - loss: 0.6883 - accuracy: 0.5500 - val_loss: 0.7991 - val_accuracy: 0.0000e+00\n"
     ]
    }
   ],
   "source": [
    "configs_dict = {\n",
    "    \"learning_rate\": LEARNING_RATE,\n",
    "    \"algorithm\": \"LogReg\",\n",
    "    \"configuration\": \"3-tokens-types\",\n",
    "    \"optimizer\": \"adam\",\n",
    "    \"loss\": \"binary_crossentropy\",\n",
    "    \"epochs\": NUM_EPOCHS,\n",
    "    \"batch_size\": 64,\n",
    "    \"vectorizer\": \"multi_hot\",\n",
    "    \"dataset\": \"TOKENIZED_SET_V1\"\n",
    "}\n",
    "run = wandb.init(project=wandb_project_name, reinit=True, config=configs_dict)\n",
    "\n",
    "history = model.fit(train_dataset, \n",
    "                    epochs=NUM_EPOCHS,\n",
    "                    validation_data=test_dataset,\n",
    "                    steps_per_epoch = STEPS_PER_EPOCH,\n",
    "                    validation_steps = VAL_STEPS_PER_EPOCH,\n",
    "                    callbacks= [WandbCallback()])#[tensorboard_callback])\n",
    "run.finish()"
   ]
  },
  {
   "cell_type": "code",
   "execution_count": 36,
   "metadata": {},
   "outputs": [
    {
     "name": "stdout",
     "output_type": "stream",
     "text": [
      "15/15 [==============================] - 0s 2ms/step - loss: 0.7991 - accuracy: 0.0000e+00\n",
      "Test Loss: 0.7991421222686768\n",
      "Test Accuracy: 0.0\n"
     ]
    }
   ],
   "source": [
    "test_loss, test_acc = model.evaluate(test_dataset)\n",
    "\n",
    "print(\"Test Loss:\", test_loss)\n",
    "print(\"Test Accuracy:\", test_acc)"
   ]
  },
  {
   "cell_type": "code",
   "execution_count": 37,
   "metadata": {},
   "outputs": [
    {
     "data": {
      "text/plain": [
       "(0.0, 0.8778083920478821)"
      ]
     },
     "execution_count": 37,
     "metadata": {},
     "output_type": "execute_result"
    },
    {
     "data": {
      "image/png": "[encoded data removed]",
      "text/plain": [
       "<Figure size 1600x800 with 2 Axes>"
      ]
     },
     "metadata": {},
     "output_type": "display_data"
    }
   ],
   "source": [
    "plt.figure(figsize=(16,8))\n",
    "plt.subplot(1,2,1)\n",
    "plot_graphs(history, \"accuracy\")\n",
    "plt.ylim(None, 1)\n",
    "plt.subplot(1,2,2)\n",
    "plot_graphs(history, \"loss\")\n",
    "plt.ylim(0, None)"
   ]
  },
  {
   "cell_type": "code",
   "execution_count": 38,
   "metadata": {},
   "outputs": [
    {
     "data": {
      "text/plain": [
       "'\\n# predict on a sample text without padding\\npredictions = model.predict(np.array([sample_text]))\\nprint(predictions[0])\\n'"
      ]
     },
     "execution_count": 38,
     "metadata": {},
     "output_type": "execute_result"
    }
   ],
   "source": [
    "\"\"\"\n",
    "# predict on a sample text without padding\n",
    "predictions = model.predict(np.array([sample_text]))\n",
    "print(predictions[0])\n",
    "\"\"\""
   ]
  },
  {
   "attachments": {},
   "cell_type": "markdown",
   "metadata": {},
   "source": [
    "##### Experiment 3:"
   ]
  },
  {
   "cell_type": "code",
   "execution_count": 39,
   "metadata": {},
   "outputs": [],
   "source": [
    "tokens_input_len = TOKENS_PAD_TO_MAX_TOKENS \n",
    "type_input_len = TYPE_TOKENS_PAD_TO_MAX_TOKENS\n",
    "\n",
    "model = create_model(encoder_count_tokens, encoder_count_types,tokens_input_len, type_input_len) # maybe add 30\n",
    "# predict on a sample formula using untrained model\n",
    "#predictions = model.predict(np.array([sample_text]))\n",
    "#print(predictions[0])"
   ]
  },
  {
   "cell_type": "code",
   "execution_count": 40,
   "metadata": {},
   "outputs": [],
   "source": [
    "LEARNING_RATE = 1e-2\n",
    "NUM_EPOCHS = 200\n",
    "\n",
    "sample_text = \"( A \\cup B ) \\cap (C \\cup D )\"\n",
    "model.compile(loss=tf.keras.losses.BinaryCrossentropy(from_logits=True),\n",
    "              optimizer=tf.keras.optimizers.Adam(LEARNING_RATE),\n",
    "              metrics=[\"accuracy\"])"
   ]
  },
  {
   "cell_type": "code",
   "execution_count": 41,
   "metadata": {},
   "outputs": [
    {
     "name": "stdout",
     "output_type": "stream",
     "text": [
      "Epoch 1/200\n",
      "151/156 [============================>.] - ETA: 0s - loss: 0.6654 - accuracy: 0.5504INFO:tensorflow:Assets written to: /home/paul_d/Sources/sem_math_repo/classification_formulas_binary/wandb/run-20230307_231547-gxilwgkp/files/model-best/assets\n"
     ]
    },
    {
     "name": "stderr",
     "output_type": "stream",
     "text": [
      "INFO:tensorflow:Assets written to: /home/paul_d/Sources/sem_math_repo/classification_formulas_binary/wandb/run-20230307_231547-gxilwgkp/files/model-best/assets\n"
     ]
    },
    {
     "name": "stdout",
     "output_type": "stream",
     "text": [
      "156/156 [==============================] - 3s 17ms/step - loss: 0.6655 - accuracy: 0.5499 - val_loss: 0.6716 - val_accuracy: 0.0000e+00\n",
      "Epoch 2/200\n",
      "156/156 [==============================] - 1s 8ms/step - loss: 0.6595 - accuracy: 0.5501 - val_loss: 0.6871 - val_accuracy: 0.0000e+00\n",
      "Epoch 3/200\n",
      "155/156 [============================>.] - ETA: 0s - loss: 0.6595 - accuracy: 0.5499INFO:tensorflow:Assets written to: /home/paul_d/Sources/sem_math_repo/classification_formulas_binary/wandb/run-20230307_231547-gxilwgkp/files/model-best/assets\n"
     ]
    },
    {
     "name": "stderr",
     "output_type": "stream",
     "text": [
      "INFO:tensorflow:Assets written to: /home/paul_d/Sources/sem_math_repo/classification_formulas_binary/wandb/run-20230307_231547-gxilwgkp/files/model-best/assets\n"
     ]
    },
    {
     "name": "stdout",
     "output_type": "stream",
     "text": [
      "156/156 [==============================] - 3s 15ms/step - loss: 0.6598 - accuracy: 0.5497 - val_loss: 0.6592 - val_accuracy: 0.0000e+00\n",
      "Epoch 4/200\n",
      "155/156 [============================>.] - ETA: 0s - loss: 0.6589 - accuracy: 0.5499INFO:tensorflow:Assets written to: /home/paul_d/Sources/sem_math_repo/classification_formulas_binary/wandb/run-20230307_231547-gxilwgkp/files/model-best/assets\n"
     ]
    },
    {
     "name": "stderr",
     "output_type": "stream",
     "text": [
      "INFO:tensorflow:Assets written to: /home/paul_d/Sources/sem_math_repo/classification_formulas_binary/wandb/run-20230307_231547-gxilwgkp/files/model-best/assets\n"
     ]
    },
    {
     "name": "stdout",
     "output_type": "stream",
     "text": [
      "156/156 [==============================] - 3s 18ms/step - loss: 0.6589 - accuracy: 0.5502 - val_loss: 0.6527 - val_accuracy: 0.0000e+00\n",
      "Epoch 5/200\n",
      "152/156 [============================>.] - ETA: 0s - loss: 0.6583 - accuracy: 0.5494INFO:tensorflow:Assets written to: /home/paul_d/Sources/sem_math_repo/classification_formulas_binary/wandb/run-20230307_231547-gxilwgkp/files/model-best/assets\n"
     ]
    },
    {
     "name": "stderr",
     "output_type": "stream",
     "text": [
      "INFO:tensorflow:Assets written to: /home/paul_d/Sources/sem_math_repo/classification_formulas_binary/wandb/run-20230307_231547-gxilwgkp/files/model-best/assets\n"
     ]
    },
    {
     "name": "stdout",
     "output_type": "stream",
     "text": [
      "156/156 [==============================] - 3s 16ms/step - loss: 0.6583 - accuracy: 0.5497 - val_loss: 0.6426 - val_accuracy: 0.0000e+00\n",
      "Epoch 6/200\n",
      "156/156 [==============================] - 1s 8ms/step - loss: 0.6585 - accuracy: 0.5498 - val_loss: 0.6788 - val_accuracy: 0.0000e+00\n",
      "Epoch 7/200\n",
      "155/156 [============================>.] - ETA: 0s - loss: 0.6597 - accuracy: 0.5495INFO:tensorflow:Assets written to: /home/paul_d/Sources/sem_math_repo/classification_formulas_binary/wandb/run-20230307_231547-gxilwgkp/files/model-best/assets\n"
     ]
    },
    {
     "name": "stderr",
     "output_type": "stream",
     "text": [
      "INFO:tensorflow:Assets written to: /home/paul_d/Sources/sem_math_repo/classification_formulas_binary/wandb/run-20230307_231547-gxilwgkp/files/model-best/assets\n"
     ]
    },
    {
     "name": "stdout",
     "output_type": "stream",
     "text": [
      "156/156 [==============================] - 3s 15ms/step - loss: 0.6598 - accuracy: 0.5499 - val_loss: 0.6388 - val_accuracy: 0.0000e+00\n",
      "Epoch 8/200\n",
      "156/156 [==============================] - 1s 8ms/step - loss: 0.6587 - accuracy: 0.5499 - val_loss: 0.6703 - val_accuracy: 0.0000e+00\n",
      "Epoch 9/200\n",
      "156/156 [==============================] - 1s 8ms/step - loss: 0.6573 - accuracy: 0.5503 - val_loss: 0.6646 - val_accuracy: 0.0000e+00\n",
      "Epoch 10/200\n",
      "155/156 [============================>.] - ETA: 0s - loss: 0.6580 - accuracy: 0.5497INFO:tensorflow:Assets written to: /home/paul_d/Sources/sem_math_repo/classification_formulas_binary/wandb/run-20230307_231547-gxilwgkp/files/model-best/assets\n"
     ]
    },
    {
     "name": "stderr",
     "output_type": "stream",
     "text": [
      "INFO:tensorflow:Assets written to: /home/paul_d/Sources/sem_math_repo/classification_formulas_binary/wandb/run-20230307_231547-gxilwgkp/files/model-best/assets\n"
     ]
    },
    {
     "name": "stdout",
     "output_type": "stream",
     "text": [
      "156/156 [==============================] - 3s 18ms/step - loss: 0.6581 - accuracy: 0.5499 - val_loss: 0.6198 - val_accuracy: 0.0000e+00\n",
      "Epoch 11/200\n",
      "156/156 [==============================] - 1s 8ms/step - loss: 0.6578 - accuracy: 0.5499 - val_loss: 0.6634 - val_accuracy: 0.0000e+00\n",
      "Epoch 12/200\n",
      "156/156 [==============================] - 1s 8ms/step - loss: 0.6582 - accuracy: 0.5501 - val_loss: 0.6590 - val_accuracy: 0.0000e+00\n",
      "Epoch 13/200\n",
      "156/156 [==============================] - 1s 8ms/step - loss: 0.6590 - accuracy: 0.5499 - val_loss: 0.6606 - val_accuracy: 0.0000e+00\n",
      "Epoch 14/200\n",
      "156/156 [==============================] - 1s 8ms/step - loss: 0.6579 - accuracy: 0.5500 - val_loss: 0.6731 - val_accuracy: 0.0000e+00\n",
      "Epoch 15/200\n",
      "156/156 [==============================] - 1s 8ms/step - loss: 0.6582 - accuracy: 0.5503 - val_loss: 0.6637 - val_accuracy: 0.0000e+00\n",
      "Epoch 16/200\n",
      "156/156 [==============================] - 1s 8ms/step - loss: 0.6596 - accuracy: 0.5499 - val_loss: 0.6290 - val_accuracy: 0.0000e+00\n",
      "Epoch 17/200\n",
      "156/156 [==============================] - 1s 8ms/step - loss: 0.6581 - accuracy: 0.5501 - val_loss: 0.6597 - val_accuracy: 0.0000e+00\n",
      "Epoch 18/200\n",
      "156/156 [==============================] - 1s 8ms/step - loss: 0.6588 - accuracy: 0.5499 - val_loss: 0.6642 - val_accuracy: 0.0000e+00\n",
      "Epoch 19/200\n",
      "156/156 [==============================] - 1s 8ms/step - loss: 0.6593 - accuracy: 0.5498 - val_loss: 0.6483 - val_accuracy: 0.0000e+00\n",
      "Epoch 20/200\n",
      "156/156 [==============================] - 1s 8ms/step - loss: 0.6585 - accuracy: 0.5500 - val_loss: 0.6583 - val_accuracy: 0.0000e+00\n",
      "Epoch 21/200\n",
      "156/156 [==============================] - 1s 8ms/step - loss: 0.6583 - accuracy: 0.5501 - val_loss: 0.6510 - val_accuracy: 0.0000e+00\n",
      "Epoch 22/200\n",
      "156/156 [==============================] - 1s 8ms/step - loss: 0.6581 - accuracy: 0.5501 - val_loss: 0.6580 - val_accuracy: 0.0000e+00\n",
      "Epoch 23/200\n",
      "156/156 [==============================] - 1s 8ms/step - loss: 0.6584 - accuracy: 0.5500 - val_loss: 0.6522 - val_accuracy: 0.0000e+00\n",
      "Epoch 24/200\n",
      "156/156 [==============================] - 1s 8ms/step - loss: 0.6586 - accuracy: 0.5499 - val_loss: 0.6516 - val_accuracy: 0.0000e+00\n",
      "Epoch 25/200\n",
      "156/156 [==============================] - 1s 8ms/step - loss: 0.6585 - accuracy: 0.5500 - val_loss: 0.6751 - val_accuracy: 0.0000e+00\n",
      "Epoch 26/200\n",
      "156/156 [==============================] - 1s 8ms/step - loss: 0.6587 - accuracy: 0.5502 - val_loss: 0.6528 - val_accuracy: 0.0000e+00\n",
      "Epoch 27/200\n",
      "156/156 [==============================] - 1s 8ms/step - loss: 0.6573 - accuracy: 0.5500 - val_loss: 0.6869 - val_accuracy: 0.0000e+00\n",
      "Epoch 28/200\n",
      "156/156 [==============================] - 1s 8ms/step - loss: 0.6589 - accuracy: 0.5495 - val_loss: 0.6471 - val_accuracy: 0.0000e+00\n",
      "Epoch 29/200\n",
      "156/156 [==============================] - 1s 8ms/step - loss: 0.6581 - accuracy: 0.5497 - val_loss: 0.6504 - val_accuracy: 0.0000e+00\n",
      "Epoch 30/200\n",
      "156/156 [==============================] - 1s 8ms/step - loss: 0.6575 - accuracy: 0.5499 - val_loss: 0.6518 - val_accuracy: 0.0000e+00\n",
      "Epoch 31/200\n",
      "156/156 [==============================] - 1s 8ms/step - loss: 0.6590 - accuracy: 0.5498 - val_loss: 0.6654 - val_accuracy: 0.0000e+00\n",
      "Epoch 32/200\n",
      "156/156 [==============================] - 1s 8ms/step - loss: 0.6584 - accuracy: 0.5500 - val_loss: 0.6703 - val_accuracy: 0.0000e+00\n",
      "Epoch 33/200\n",
      "156/156 [==============================] - ETA: 0s - loss: 0.6591 - accuracy: 0.5499INFO:tensorflow:Assets written to: /home/paul_d/Sources/sem_math_repo/classification_formulas_binary/wandb/run-20230307_231547-gxilwgkp/files/model-best/assets\n"
     ]
    },
    {
     "name": "stderr",
     "output_type": "stream",
     "text": [
      "INFO:tensorflow:Assets written to: /home/paul_d/Sources/sem_math_repo/classification_formulas_binary/wandb/run-20230307_231547-gxilwgkp/files/model-best/assets\n"
     ]
    },
    {
     "name": "stdout",
     "output_type": "stream",
     "text": [
      "156/156 [==============================] - 3s 21ms/step - loss: 0.6591 - accuracy: 0.5499 - val_loss: 0.6026 - val_accuracy: 0.0000e+00\n",
      "Epoch 34/200\n",
      "156/156 [==============================] - 1s 8ms/step - loss: 0.6579 - accuracy: 0.5503 - val_loss: 0.6623 - val_accuracy: 0.0000e+00\n",
      "Epoch 35/200\n",
      "156/156 [==============================] - 1s 8ms/step - loss: 0.6593 - accuracy: 0.5499 - val_loss: 0.6509 - val_accuracy: 0.0000e+00\n",
      "Epoch 36/200\n",
      "156/156 [==============================] - 1s 8ms/step - loss: 0.6578 - accuracy: 0.5502 - val_loss: 0.6235 - val_accuracy: 0.0000e+00\n",
      "Epoch 37/200\n",
      "156/156 [==============================] - 1s 8ms/step - loss: 0.6590 - accuracy: 0.5502 - val_loss: 0.6484 - val_accuracy: 0.0000e+00\n",
      "Epoch 38/200\n",
      "156/156 [==============================] - 1s 8ms/step - loss: 0.6580 - accuracy: 0.5500 - val_loss: 0.6538 - val_accuracy: 0.0000e+00\n",
      "Epoch 39/200\n",
      "156/156 [==============================] - 1s 8ms/step - loss: 0.6588 - accuracy: 0.5500 - val_loss: 0.6572 - val_accuracy: 0.0000e+00\n",
      "Epoch 40/200\n",
      "156/156 [==============================] - 1s 8ms/step - loss: 0.6573 - accuracy: 0.5500 - val_loss: 0.6253 - val_accuracy: 0.0000e+00\n",
      "Epoch 41/200\n",
      "156/156 [==============================] - 1s 8ms/step - loss: 0.6584 - accuracy: 0.5500 - val_loss: 0.6477 - val_accuracy: 0.0000e+00\n",
      "Epoch 42/200\n",
      "156/156 [==============================] - 1s 8ms/step - loss: 0.6578 - accuracy: 0.5499 - val_loss: 0.6579 - val_accuracy: 0.0000e+00\n",
      "Epoch 43/200\n",
      "156/156 [==============================] - 1s 8ms/step - loss: 0.6588 - accuracy: 0.5498 - val_loss: 0.6646 - val_accuracy: 0.0000e+00\n",
      "Epoch 44/200\n",
      "156/156 [==============================] - 1s 8ms/step - loss: 0.6586 - accuracy: 0.5500 - val_loss: 0.6413 - val_accuracy: 0.0000e+00\n",
      "Epoch 45/200\n",
      "156/156 [==============================] - 1s 8ms/step - loss: 0.6575 - accuracy: 0.5498 - val_loss: 0.6359 - val_accuracy: 0.0000e+00\n",
      "Epoch 46/200\n",
      "156/156 [==============================] - 1s 8ms/step - loss: 0.6583 - accuracy: 0.5498 - val_loss: 0.6142 - val_accuracy: 0.0000e+00\n",
      "Epoch 47/200\n",
      "156/156 [==============================] - 1s 8ms/step - loss: 0.6584 - accuracy: 0.5498 - val_loss: 0.6287 - val_accuracy: 0.0000e+00\n",
      "Epoch 48/200\n",
      "156/156 [==============================] - 1s 8ms/step - loss: 0.6582 - accuracy: 0.5497 - val_loss: 0.6357 - val_accuracy: 0.0000e+00\n",
      "Epoch 49/200\n",
      "156/156 [==============================] - 1s 8ms/step - loss: 0.6585 - accuracy: 0.5503 - val_loss: 0.6340 - val_accuracy: 0.0000e+00\n",
      "Epoch 50/200\n",
      "156/156 [==============================] - 1s 8ms/step - loss: 0.6588 - accuracy: 0.5501 - val_loss: 0.6482 - val_accuracy: 0.0000e+00\n",
      "Epoch 51/200\n",
      "156/156 [==============================] - 1s 8ms/step - loss: 0.6586 - accuracy: 0.5496 - val_loss: 0.6311 - val_accuracy: 0.0000e+00\n",
      "Epoch 52/200\n",
      "156/156 [==============================] - 1s 8ms/step - loss: 0.6576 - accuracy: 0.5498 - val_loss: 0.6116 - val_accuracy: 0.0000e+00\n",
      "Epoch 53/200\n",
      "156/156 [==============================] - 1s 8ms/step - loss: 0.6584 - accuracy: 0.5501 - val_loss: 0.6287 - val_accuracy: 0.0000e+00\n",
      "Epoch 54/200\n",
      "156/156 [==============================] - 1s 8ms/step - loss: 0.6583 - accuracy: 0.5498 - val_loss: 0.6073 - val_accuracy: 0.0000e+00\n",
      "Epoch 55/200\n",
      "156/156 [==============================] - 1s 8ms/step - loss: 0.6582 - accuracy: 0.5499 - val_loss: 0.6394 - val_accuracy: 0.0000e+00\n",
      "Epoch 56/200\n",
      "156/156 [==============================] - 1s 8ms/step - loss: 0.6584 - accuracy: 0.5501 - val_loss: 0.6567 - val_accuracy: 0.0000e+00\n",
      "Epoch 57/200\n",
      "156/156 [==============================] - 1s 8ms/step - loss: 0.6584 - accuracy: 0.5502 - val_loss: 0.6391 - val_accuracy: 0.0000e+00\n",
      "Epoch 58/200\n",
      "156/156 [==============================] - 1s 8ms/step - loss: 0.6577 - accuracy: 0.5499 - val_loss: 0.6041 - val_accuracy: 0.0000e+00\n",
      "Epoch 59/200\n",
      "156/156 [==============================] - 1s 8ms/step - loss: 0.6580 - accuracy: 0.5498 - val_loss: 0.6561 - val_accuracy: 0.0000e+00\n",
      "Epoch 60/200\n",
      "156/156 [==============================] - 1s 8ms/step - loss: 0.6580 - accuracy: 0.5498 - val_loss: 0.6558 - val_accuracy: 0.0000e+00\n",
      "Epoch 61/200\n",
      "156/156 [==============================] - 1s 8ms/step - loss: 0.6587 - accuracy: 0.5498 - val_loss: 0.6319 - val_accuracy: 0.0000e+00\n",
      "Epoch 62/200\n",
      "156/156 [==============================] - 1s 8ms/step - loss: 0.6578 - accuracy: 0.5503 - val_loss: 0.6560 - val_accuracy: 0.0000e+00\n",
      "Epoch 63/200\n",
      "156/156 [==============================] - 1s 8ms/step - loss: 0.6571 - accuracy: 0.5503 - val_loss: 0.6662 - val_accuracy: 0.0000e+00\n",
      "Epoch 64/200\n",
      "156/156 [==============================] - 2s 9ms/step - loss: 0.6599 - accuracy: 0.5498 - val_loss: 0.6536 - val_accuracy: 0.0000e+00\n",
      "Epoch 65/200\n",
      "156/156 [==============================] - 2s 9ms/step - loss: 0.6581 - accuracy: 0.5499 - val_loss: 0.6325 - val_accuracy: 0.0000e+00\n",
      "Epoch 66/200\n",
      "156/156 [==============================] - 1s 8ms/step - loss: 0.6581 - accuracy: 0.5502 - val_loss: 0.6535 - val_accuracy: 0.0000e+00\n",
      "Epoch 67/200\n",
      "156/156 [==============================] - 1s 8ms/step - loss: 0.6583 - accuracy: 0.5496 - val_loss: 0.6438 - val_accuracy: 0.0000e+00\n",
      "Epoch 68/200\n",
      "156/156 [==============================] - 2s 9ms/step - loss: 0.6587 - accuracy: 0.5498 - val_loss: 0.6281 - val_accuracy: 0.0000e+00\n",
      "Epoch 69/200\n",
      "156/156 [==============================] - 2s 9ms/step - loss: 0.6588 - accuracy: 0.5499 - val_loss: 0.6262 - val_accuracy: 0.0000e+00\n",
      "Epoch 70/200\n",
      "156/156 [==============================] - 1s 8ms/step - loss: 0.6573 - accuracy: 0.5502 - val_loss: 0.6200 - val_accuracy: 0.0000e+00\n",
      "Epoch 71/200\n",
      "156/156 [==============================] - 1s 8ms/step - loss: 0.6579 - accuracy: 0.5500 - val_loss: 0.6291 - val_accuracy: 0.0000e+00\n",
      "Epoch 72/200\n",
      "156/156 [==============================] - 1s 9ms/step - loss: 0.6576 - accuracy: 0.5498 - val_loss: 0.6590 - val_accuracy: 0.0000e+00\n",
      "Epoch 73/200\n",
      "156/156 [==============================] - 1s 9ms/step - loss: 0.6579 - accuracy: 0.5501 - val_loss: 0.6260 - val_accuracy: 0.0000e+00\n",
      "Epoch 74/200\n",
      "156/156 [==============================] - 1s 9ms/step - loss: 0.6572 - accuracy: 0.5503 - val_loss: 0.6294 - val_accuracy: 0.0000e+00\n",
      "Epoch 75/200\n",
      "156/156 [==============================] - 1s 8ms/step - loss: 0.6579 - accuracy: 0.5499 - val_loss: 0.6298 - val_accuracy: 0.0000e+00\n",
      "Epoch 76/200\n",
      "156/156 [==============================] - 2s 9ms/step - loss: 0.6574 - accuracy: 0.5500 - val_loss: 0.6358 - val_accuracy: 0.0000e+00\n",
      "Epoch 77/200\n",
      "156/156 [==============================] - 2s 9ms/step - loss: 0.6591 - accuracy: 0.5500 - val_loss: 0.6620 - val_accuracy: 0.0000e+00\n",
      "Epoch 78/200\n",
      "156/156 [==============================] - 1s 9ms/step - loss: 0.6575 - accuracy: 0.5502 - val_loss: 0.6370 - val_accuracy: 0.0000e+00\n",
      "Epoch 79/200\n",
      "156/156 [==============================] - 1s 8ms/step - loss: 0.6587 - accuracy: 0.5499 - val_loss: 0.6327 - val_accuracy: 0.0000e+00\n",
      "Epoch 80/200\n",
      "156/156 [==============================] - 1s 8ms/step - loss: 0.6588 - accuracy: 0.5501 - val_loss: 0.6383 - val_accuracy: 0.0000e+00\n",
      "Epoch 81/200\n",
      "156/156 [==============================] - 2s 9ms/step - loss: 0.6581 - accuracy: 0.5500 - val_loss: 0.6513 - val_accuracy: 0.0000e+00\n",
      "Epoch 82/200\n",
      "156/156 [==============================] - 1s 9ms/step - loss: 0.6588 - accuracy: 0.5500 - val_loss: 0.6377 - val_accuracy: 0.0000e+00\n",
      "Epoch 83/200\n",
      "156/156 [==============================] - 2s 9ms/step - loss: 0.6584 - accuracy: 0.5502 - val_loss: 0.6273 - val_accuracy: 0.0000e+00\n",
      "Epoch 84/200\n",
      "156/156 [==============================] - 1s 9ms/step - loss: 0.6577 - accuracy: 0.5502 - val_loss: 0.6147 - val_accuracy: 0.0000e+00\n",
      "Epoch 85/200\n",
      "156/156 [==============================] - 2s 11ms/step - loss: 0.6593 - accuracy: 0.5503 - val_loss: 0.6493 - val_accuracy: 0.0000e+00\n",
      "Epoch 86/200\n",
      "156/156 [==============================] - 2s 11ms/step - loss: 0.6582 - accuracy: 0.5500 - val_loss: 0.6348 - val_accuracy: 0.0000e+00\n",
      "Epoch 87/200\n",
      "156/156 [==============================] - 2s 10ms/step - loss: 0.6584 - accuracy: 0.5501 - val_loss: 0.6256 - val_accuracy: 0.0000e+00\n",
      "Epoch 88/200\n",
      "156/156 [==============================] - 1s 8ms/step - loss: 0.6592 - accuracy: 0.5498 - val_loss: 0.6608 - val_accuracy: 0.0000e+00\n",
      "Epoch 89/200\n",
      "156/156 [==============================] - 1s 8ms/step - loss: 0.6577 - accuracy: 0.5498 - val_loss: 0.6425 - val_accuracy: 0.0000e+00\n",
      "Epoch 90/200\n",
      "156/156 [==============================] - 1s 8ms/step - loss: 0.6578 - accuracy: 0.5500 - val_loss: 0.6396 - val_accuracy: 0.0000e+00\n",
      "Epoch 91/200\n",
      "156/156 [==============================] - 1s 9ms/step - loss: 0.6579 - accuracy: 0.5500 - val_loss: 0.6174 - val_accuracy: 0.0000e+00\n",
      "Epoch 92/200\n",
      "156/156 [==============================] - 1s 9ms/step - loss: 0.6584 - accuracy: 0.5503 - val_loss: 0.6255 - val_accuracy: 0.0000e+00\n",
      "Epoch 93/200\n",
      "156/156 [==============================] - 1s 9ms/step - loss: 0.6595 - accuracy: 0.5496 - val_loss: 0.6444 - val_accuracy: 0.0000e+00\n",
      "Epoch 94/200\n",
      "156/156 [==============================] - 1s 9ms/step - loss: 0.6577 - accuracy: 0.5500 - val_loss: 0.6156 - val_accuracy: 0.0000e+00\n",
      "Epoch 95/200\n",
      "156/156 [==============================] - 1s 8ms/step - loss: 0.6586 - accuracy: 0.5497 - val_loss: 0.6255 - val_accuracy: 0.0000e+00\n",
      "Epoch 96/200\n",
      "156/156 [==============================] - 1s 9ms/step - loss: 0.6572 - accuracy: 0.5500 - val_loss: 0.6535 - val_accuracy: 0.0000e+00\n",
      "Epoch 97/200\n",
      "156/156 [==============================] - 1s 8ms/step - loss: 0.6584 - accuracy: 0.5496 - val_loss: 0.6281 - val_accuracy: 0.0000e+00\n",
      "Epoch 98/200\n",
      "156/156 [==============================] - 1s 8ms/step - loss: 0.6596 - accuracy: 0.5501 - val_loss: 0.6335 - val_accuracy: 0.0000e+00\n",
      "Epoch 99/200\n",
      "156/156 [==============================] - 1s 9ms/step - loss: 0.6584 - accuracy: 0.5501 - val_loss: 0.6065 - val_accuracy: 0.0000e+00\n",
      "Epoch 100/200\n",
      "156/156 [==============================] - 2s 9ms/step - loss: 0.6584 - accuracy: 0.5496 - val_loss: 0.6104 - val_accuracy: 0.0000e+00\n",
      "Epoch 101/200\n",
      "156/156 [==============================] - 1s 9ms/step - loss: 0.6588 - accuracy: 0.5502 - val_loss: 0.6194 - val_accuracy: 0.0000e+00\n",
      "Epoch 102/200\n",
      "156/156 [==============================] - 1s 9ms/step - loss: 0.6595 - accuracy: 0.5501 - val_loss: 0.6045 - val_accuracy: 0.0000e+00\n",
      "Epoch 103/200\n",
      "156/156 [==============================] - 1s 8ms/step - loss: 0.6582 - accuracy: 0.5504 - val_loss: 0.6139 - val_accuracy: 0.0000e+00\n",
      "Epoch 104/200\n",
      "156/156 [==============================] - 1s 9ms/step - loss: 0.6569 - accuracy: 0.5500 - val_loss: 0.6183 - val_accuracy: 0.0000e+00\n",
      "Epoch 105/200\n",
      "156/156 [==============================] - 1s 9ms/step - loss: 0.6573 - accuracy: 0.5502 - val_loss: 0.6154 - val_accuracy: 0.0000e+00\n",
      "Epoch 106/200\n",
      "150/156 [===========================>..] - ETA: 0s - loss: 0.6577 - accuracy: 0.5497INFO:tensorflow:Assets written to: /home/paul_d/Sources/sem_math_repo/classification_formulas_binary/wandb/run-20230307_231547-gxilwgkp/files/model-best/assets\n"
     ]
    },
    {
     "name": "stderr",
     "output_type": "stream",
     "text": [
      "INFO:tensorflow:Assets written to: /home/paul_d/Sources/sem_math_repo/classification_formulas_binary/wandb/run-20230307_231547-gxilwgkp/files/model-best/assets\n"
     ]
    },
    {
     "name": "stdout",
     "output_type": "stream",
     "text": [
      "156/156 [==============================] - 3s 16ms/step - loss: 0.6579 - accuracy: 0.5498 - val_loss: 0.5966 - val_accuracy: 0.3781\n",
      "Epoch 107/200\n",
      "156/156 [==============================] - 1s 9ms/step - loss: 0.6572 - accuracy: 0.5496 - val_loss: 0.6473 - val_accuracy: 0.0000e+00\n",
      "Epoch 108/200\n",
      "156/156 [==============================] - 1s 8ms/step - loss: 0.6583 - accuracy: 0.5499 - val_loss: 0.6307 - val_accuracy: 0.0000e+00\n",
      "Epoch 109/200\n",
      "156/156 [==============================] - 1s 9ms/step - loss: 0.6582 - accuracy: 0.5498 - val_loss: 0.6161 - val_accuracy: 0.0000e+00\n",
      "Epoch 110/200\n",
      "156/156 [==============================] - 1s 8ms/step - loss: 0.6576 - accuracy: 0.5500 - val_loss: 0.6149 - val_accuracy: 0.0000e+00\n",
      "Epoch 111/200\n",
      "156/156 [==============================] - 1s 8ms/step - loss: 0.6584 - accuracy: 0.5504 - val_loss: 0.6130 - val_accuracy: 0.0000e+00\n",
      "Epoch 112/200\n",
      "156/156 [==============================] - 1s 8ms/step - loss: 0.6585 - accuracy: 0.5499 - val_loss: 0.6157 - val_accuracy: 0.0000e+00\n",
      "Epoch 113/200\n",
      "155/156 [============================>.] - ETA: 0s - loss: 0.6588 - accuracy: 0.5498INFO:tensorflow:Assets written to: /home/paul_d/Sources/sem_math_repo/classification_formulas_binary/wandb/run-20230307_231547-gxilwgkp/files/model-best/assets\n"
     ]
    },
    {
     "name": "stderr",
     "output_type": "stream",
     "text": [
      "INFO:tensorflow:Assets written to: /home/paul_d/Sources/sem_math_repo/classification_formulas_binary/wandb/run-20230307_231547-gxilwgkp/files/model-best/assets\n"
     ]
    },
    {
     "name": "stdout",
     "output_type": "stream",
     "text": [
      "156/156 [==============================] - 3s 16ms/step - loss: 0.6587 - accuracy: 0.5504 - val_loss: 0.5840 - val_accuracy: 0.3781\n",
      "Epoch 114/200\n",
      "156/156 [==============================] - 1s 8ms/step - loss: 0.6580 - accuracy: 0.5497 - val_loss: 0.6062 - val_accuracy: 0.0000e+00\n",
      "Epoch 115/200\n",
      "156/156 [==============================] - 1s 8ms/step - loss: 0.6584 - accuracy: 0.5500 - val_loss: 0.6228 - val_accuracy: 0.0000e+00\n",
      "Epoch 116/200\n",
      "156/156 [==============================] - 1s 8ms/step - loss: 0.6588 - accuracy: 0.5501 - val_loss: 0.5980 - val_accuracy: 0.0000e+00\n",
      "Epoch 117/200\n",
      "156/156 [==============================] - 1s 8ms/step - loss: 0.6588 - accuracy: 0.5499 - val_loss: 0.6143 - val_accuracy: 0.0000e+00\n",
      "Epoch 118/200\n",
      "156/156 [==============================] - 1s 8ms/step - loss: 0.6585 - accuracy: 0.5500 - val_loss: 0.5993 - val_accuracy: 0.0000e+00\n",
      "Epoch 119/200\n",
      "156/156 [==============================] - 1s 8ms/step - loss: 0.6585 - accuracy: 0.5500 - val_loss: 0.6073 - val_accuracy: 0.0000e+00\n",
      "Epoch 120/200\n",
      "156/156 [==============================] - 1s 8ms/step - loss: 0.6584 - accuracy: 0.5500 - val_loss: 0.6058 - val_accuracy: 0.0000e+00\n",
      "Epoch 121/200\n",
      "150/156 [===========================>..] - ETA: 0s - loss: 0.6593 - accuracy: 0.5506INFO:tensorflow:Assets written to: /home/paul_d/Sources/sem_math_repo/classification_formulas_binary/wandb/run-20230307_231547-gxilwgkp/files/model-best/assets\n"
     ]
    },
    {
     "name": "stderr",
     "output_type": "stream",
     "text": [
      "INFO:tensorflow:Assets written to: /home/paul_d/Sources/sem_math_repo/classification_formulas_binary/wandb/run-20230307_231547-gxilwgkp/files/model-best/assets\n"
     ]
    },
    {
     "name": "stdout",
     "output_type": "stream",
     "text": [
      "156/156 [==============================] - 3s 19ms/step - loss: 0.6591 - accuracy: 0.5501 - val_loss: 0.5765 - val_accuracy: 0.3781\n",
      "Epoch 122/200\n",
      "156/156 [==============================] - 1s 8ms/step - loss: 0.6585 - accuracy: 0.5499 - val_loss: 0.6030 - val_accuracy: 0.0000e+00\n",
      "Epoch 123/200\n",
      "156/156 [==============================] - 1s 8ms/step - loss: 0.6578 - accuracy: 0.5505 - val_loss: 0.6201 - val_accuracy: 0.0000e+00\n",
      "Epoch 124/200\n",
      "156/156 [==============================] - 1s 8ms/step - loss: 0.6574 - accuracy: 0.5498 - val_loss: 0.6097 - val_accuracy: 0.3781\n",
      "Epoch 125/200\n",
      "156/156 [==============================] - 1s 8ms/step - loss: 0.6584 - accuracy: 0.5498 - val_loss: 0.5919 - val_accuracy: 0.3781\n",
      "Epoch 126/200\n",
      "156/156 [==============================] - 1s 8ms/step - loss: 0.6582 - accuracy: 0.5497 - val_loss: 0.6058 - val_accuracy: 0.0000e+00\n",
      "Epoch 127/200\n",
      "156/156 [==============================] - 1s 8ms/step - loss: 0.6595 - accuracy: 0.5499 - val_loss: 0.5900 - val_accuracy: 0.3781\n",
      "Epoch 128/200\n",
      "156/156 [==============================] - 1s 9ms/step - loss: 0.6570 - accuracy: 0.5501 - val_loss: 0.6077 - val_accuracy: 0.3781\n",
      "Epoch 129/200\n",
      "156/156 [==============================] - 1s 8ms/step - loss: 0.6579 - accuracy: 0.5501 - val_loss: 0.5889 - val_accuracy: 0.3781\n",
      "Epoch 130/200\n",
      "156/156 [==============================] - 1s 8ms/step - loss: 0.6585 - accuracy: 0.5498 - val_loss: 0.5975 - val_accuracy: 0.0000e+00\n",
      "Epoch 131/200\n",
      "151/156 [============================>.] - ETA: 0s - loss: 0.6597 - accuracy: 0.5513INFO:tensorflow:Assets written to: /home/paul_d/Sources/sem_math_repo/classification_formulas_binary/wandb/run-20230307_231547-gxilwgkp/files/model-best/assets\n"
     ]
    },
    {
     "name": "stderr",
     "output_type": "stream",
     "text": [
      "INFO:tensorflow:Assets written to: /home/paul_d/Sources/sem_math_repo/classification_formulas_binary/wandb/run-20230307_231547-gxilwgkp/files/model-best/assets\n"
     ]
    },
    {
     "name": "stdout",
     "output_type": "stream",
     "text": [
      "156/156 [==============================] - 3s 16ms/step - loss: 0.6594 - accuracy: 0.5501 - val_loss: 0.5677 - val_accuracy: 0.3781\n",
      "Epoch 132/200\n",
      "152/156 [============================>.] - ETA: 0s - loss: 0.6594 - accuracy: 0.5494INFO:tensorflow:Assets written to: /home/paul_d/Sources/sem_math_repo/classification_formulas_binary/wandb/run-20230307_231547-gxilwgkp/files/model-best/assets\n"
     ]
    },
    {
     "name": "stderr",
     "output_type": "stream",
     "text": [
      "INFO:tensorflow:Assets written to: /home/paul_d/Sources/sem_math_repo/classification_formulas_binary/wandb/run-20230307_231547-gxilwgkp/files/model-best/assets\n"
     ]
    },
    {
     "name": "stdout",
     "output_type": "stream",
     "text": [
      "156/156 [==============================] - 3s 16ms/step - loss: 0.6594 - accuracy: 0.5498 - val_loss: 0.5655 - val_accuracy: 0.9271\n",
      "Epoch 133/200\n",
      "156/156 [==============================] - 1s 8ms/step - loss: 0.6572 - accuracy: 0.5499 - val_loss: 0.5894 - val_accuracy: 0.9271\n",
      "Epoch 134/200\n",
      "156/156 [==============================] - 1s 8ms/step - loss: 0.6586 - accuracy: 0.5498 - val_loss: 0.5674 - val_accuracy: 0.9271\n",
      "Epoch 135/200\n",
      "156/156 [==============================] - 1s 8ms/step - loss: 0.6584 - accuracy: 0.5499 - val_loss: 0.5782 - val_accuracy: 0.9271\n",
      "Epoch 136/200\n",
      "156/156 [==============================] - 1s 8ms/step - loss: 0.6582 - accuracy: 0.5498 - val_loss: 0.5898 - val_accuracy: 0.9271\n",
      "Epoch 137/200\n",
      "156/156 [==============================] - 1s 8ms/step - loss: 0.6582 - accuracy: 0.5497 - val_loss: 0.5749 - val_accuracy: 0.9271\n",
      "Epoch 138/200\n",
      "156/156 [==============================] - 1s 8ms/step - loss: 0.6590 - accuracy: 0.5503 - val_loss: 0.5962 - val_accuracy: 0.9271\n",
      "Epoch 139/200\n",
      "156/156 [==============================] - 1s 8ms/step - loss: 0.6587 - accuracy: 0.5496 - val_loss: 0.5965 - val_accuracy: 0.3781\n",
      "Epoch 140/200\n",
      "156/156 [==============================] - 1s 8ms/step - loss: 0.6592 - accuracy: 0.5502 - val_loss: 0.5877 - val_accuracy: 0.9271\n",
      "Epoch 141/200\n",
      "156/156 [==============================] - 1s 8ms/step - loss: 0.6579 - accuracy: 0.5503 - val_loss: 0.5831 - val_accuracy: 0.9271\n",
      "Epoch 142/200\n",
      "156/156 [==============================] - 1s 8ms/step - loss: 0.6587 - accuracy: 0.5499 - val_loss: 0.6017 - val_accuracy: 0.3781\n",
      "Epoch 143/200\n",
      "156/156 [==============================] - 1s 8ms/step - loss: 0.6589 - accuracy: 0.5501 - val_loss: 0.5743 - val_accuracy: 0.9271\n",
      "Epoch 144/200\n",
      "156/156 [==============================] - 1s 8ms/step - loss: 0.6582 - accuracy: 0.5503 - val_loss: 0.5970 - val_accuracy: 0.3781\n",
      "Epoch 145/200\n",
      "156/156 [==============================] - 1s 8ms/step - loss: 0.6583 - accuracy: 0.5502 - val_loss: 0.5754 - val_accuracy: 0.9271\n",
      "Epoch 146/200\n",
      "156/156 [==============================] - 1s 8ms/step - loss: 0.6581 - accuracy: 0.5499 - val_loss: 0.6064 - val_accuracy: 0.9271\n",
      "Epoch 147/200\n",
      "156/156 [==============================] - 1s 8ms/step - loss: 0.6581 - accuracy: 0.5501 - val_loss: 0.6034 - val_accuracy: 0.9271\n",
      "Epoch 148/200\n",
      "156/156 [==============================] - 1s 8ms/step - loss: 0.6573 - accuracy: 0.5499 - val_loss: 0.5781 - val_accuracy: 0.9271\n",
      "Epoch 149/200\n",
      "155/156 [============================>.] - ETA: 0s - loss: 0.6585 - accuracy: 0.5500INFO:tensorflow:Assets written to: /home/paul_d/Sources/sem_math_repo/classification_formulas_binary/wandb/run-20230307_231547-gxilwgkp/files/model-best/assets\n"
     ]
    },
    {
     "name": "stderr",
     "output_type": "stream",
     "text": [
      "INFO:tensorflow:Assets written to: /home/paul_d/Sources/sem_math_repo/classification_formulas_binary/wandb/run-20230307_231547-gxilwgkp/files/model-best/assets\n"
     ]
    },
    {
     "name": "stdout",
     "output_type": "stream",
     "text": [
      "156/156 [==============================] - 3s 16ms/step - loss: 0.6580 - accuracy: 0.5498 - val_loss: 0.5652 - val_accuracy: 0.9271\n",
      "Epoch 150/200\n",
      "156/156 [==============================] - 1s 8ms/step - loss: 0.6574 - accuracy: 0.5498 - val_loss: 0.5814 - val_accuracy: 0.9271\n",
      "Epoch 151/200\n",
      "156/156 [==============================] - 1s 8ms/step - loss: 0.6575 - accuracy: 0.5499 - val_loss: 0.5921 - val_accuracy: 0.9271\n",
      "Epoch 152/200\n",
      "156/156 [==============================] - 1s 8ms/step - loss: 0.6583 - accuracy: 0.5496 - val_loss: 0.5905 - val_accuracy: 0.9271\n",
      "Epoch 153/200\n",
      "156/156 [==============================] - 1s 8ms/step - loss: 0.6583 - accuracy: 0.5503 - val_loss: 0.6035 - val_accuracy: 0.5490\n",
      "Epoch 154/200\n",
      "156/156 [==============================] - 1s 8ms/step - loss: 0.6583 - accuracy: 0.5502 - val_loss: 0.5832 - val_accuracy: 0.9271\n",
      "Epoch 155/200\n",
      "156/156 [==============================] - 1s 8ms/step - loss: 0.6593 - accuracy: 0.5501 - val_loss: 0.5955 - val_accuracy: 0.9271\n",
      "Epoch 156/200\n",
      "156/156 [==============================] - 1s 8ms/step - loss: 0.6588 - accuracy: 0.5500 - val_loss: 0.5816 - val_accuracy: 0.9271\n",
      "Epoch 157/200\n",
      "156/156 [==============================] - 1s 8ms/step - loss: 0.6584 - accuracy: 0.5502 - val_loss: 0.5801 - val_accuracy: 0.9271\n",
      "Epoch 158/200\n",
      "156/156 [==============================] - 1s 9ms/step - loss: 0.6578 - accuracy: 0.5503 - val_loss: 0.5984 - val_accuracy: 0.9271\n",
      "Epoch 159/200\n",
      "156/156 [==============================] - 1s 8ms/step - loss: 0.6586 - accuracy: 0.5500 - val_loss: 0.5713 - val_accuracy: 0.9271\n",
      "Epoch 160/200\n",
      "156/156 [==============================] - 1s 8ms/step - loss: 0.6578 - accuracy: 0.5502 - val_loss: 0.5702 - val_accuracy: 0.9271\n",
      "Epoch 161/200\n",
      "156/156 [==============================] - 1s 8ms/step - loss: 0.6572 - accuracy: 0.5500 - val_loss: 0.5897 - val_accuracy: 0.9271\n",
      "Epoch 162/200\n",
      "156/156 [==============================] - 1s 8ms/step - loss: 0.6583 - accuracy: 0.5500 - val_loss: 0.5853 - val_accuracy: 0.9271\n",
      "Epoch 163/200\n",
      "156/156 [==============================] - 1s 8ms/step - loss: 0.6589 - accuracy: 0.5501 - val_loss: 0.5854 - val_accuracy: 0.9271\n",
      "Epoch 164/200\n",
      "156/156 [==============================] - 1s 8ms/step - loss: 0.6587 - accuracy: 0.5502 - val_loss: 0.5913 - val_accuracy: 0.9271\n",
      "Epoch 165/200\n",
      "156/156 [==============================] - 1s 8ms/step - loss: 0.6584 - accuracy: 0.5497 - val_loss: 0.5996 - val_accuracy: 0.5490\n",
      "Epoch 166/200\n",
      "156/156 [==============================] - 1s 8ms/step - loss: 0.6581 - accuracy: 0.5501 - val_loss: 0.5969 - val_accuracy: 0.9271\n",
      "Epoch 167/200\n",
      "156/156 [==============================] - 1s 8ms/step - loss: 0.6575 - accuracy: 0.5497 - val_loss: 0.5904 - val_accuracy: 0.9271\n",
      "Epoch 168/200\n",
      "156/156 [==============================] - 1s 8ms/step - loss: 0.6580 - accuracy: 0.5499 - val_loss: 0.5802 - val_accuracy: 0.9271\n",
      "Epoch 169/200\n",
      "156/156 [==============================] - 1s 8ms/step - loss: 0.6581 - accuracy: 0.5497 - val_loss: 0.5863 - val_accuracy: 0.9271\n",
      "Epoch 170/200\n",
      "156/156 [==============================] - 1s 8ms/step - loss: 0.6578 - accuracy: 0.5500 - val_loss: 0.5965 - val_accuracy: 0.3781\n",
      "Epoch 171/200\n",
      "156/156 [==============================] - 1s 8ms/step - loss: 0.6582 - accuracy: 0.5497 - val_loss: 0.5805 - val_accuracy: 0.9271\n",
      "Epoch 172/200\n",
      "156/156 [==============================] - 1s 8ms/step - loss: 0.6592 - accuracy: 0.5502 - val_loss: 0.5822 - val_accuracy: 0.9271\n",
      "Epoch 173/200\n",
      "156/156 [==============================] - 1s 8ms/step - loss: 0.6593 - accuracy: 0.5501 - val_loss: 0.5856 - val_accuracy: 0.9271\n",
      "Epoch 174/200\n",
      "156/156 [==============================] - 1s 9ms/step - loss: 0.6576 - accuracy: 0.5501 - val_loss: 0.5885 - val_accuracy: 0.9271\n",
      "Epoch 175/200\n",
      "156/156 [==============================] - 1s 8ms/step - loss: 0.6575 - accuracy: 0.5497 - val_loss: 0.6078 - val_accuracy: 0.5490\n",
      "Epoch 176/200\n",
      "156/156 [==============================] - 1s 8ms/step - loss: 0.6586 - accuracy: 0.5500 - val_loss: 0.5711 - val_accuracy: 0.9271\n",
      "Epoch 177/200\n",
      "151/156 [============================>.] - ETA: 0s - loss: 0.6570 - accuracy: 0.5502INFO:tensorflow:Assets written to: /home/paul_d/Sources/sem_math_repo/classification_formulas_binary/wandb/run-20230307_231547-gxilwgkp/files/model-best/assets\n"
     ]
    },
    {
     "name": "stderr",
     "output_type": "stream",
     "text": [
      "INFO:tensorflow:Assets written to: /home/paul_d/Sources/sem_math_repo/classification_formulas_binary/wandb/run-20230307_231547-gxilwgkp/files/model-best/assets\n"
     ]
    },
    {
     "name": "stdout",
     "output_type": "stream",
     "text": [
      "156/156 [==============================] - 3s 19ms/step - loss: 0.6570 - accuracy: 0.5502 - val_loss: 0.5578 - val_accuracy: 0.9271\n",
      "Epoch 178/200\n",
      "156/156 [==============================] - 1s 8ms/step - loss: 0.6597 - accuracy: 0.5502 - val_loss: 0.6060 - val_accuracy: 0.9271\n",
      "Epoch 179/200\n",
      "156/156 [==============================] - 1s 8ms/step - loss: 0.6593 - accuracy: 0.5500 - val_loss: 0.6130 - val_accuracy: 0.0000e+00\n",
      "Epoch 180/200\n",
      "156/156 [==============================] - 1s 8ms/step - loss: 0.6589 - accuracy: 0.5503 - val_loss: 0.5689 - val_accuracy: 0.9271\n",
      "Epoch 181/200\n",
      "156/156 [==============================] - 1s 8ms/step - loss: 0.6583 - accuracy: 0.5499 - val_loss: 0.5665 - val_accuracy: 0.9271\n",
      "Epoch 182/200\n",
      "156/156 [==============================] - 1s 9ms/step - loss: 0.6589 - accuracy: 0.5499 - val_loss: 0.5630 - val_accuracy: 0.9271\n",
      "Epoch 183/200\n",
      "156/156 [==============================] - 1s 8ms/step - loss: 0.6580 - accuracy: 0.5499 - val_loss: 0.5964 - val_accuracy: 0.9271\n",
      "Epoch 184/200\n",
      "156/156 [==============================] - 1s 8ms/step - loss: 0.6594 - accuracy: 0.5502 - val_loss: 0.5634 - val_accuracy: 0.9271\n",
      "Epoch 185/200\n",
      "156/156 [==============================] - 1s 8ms/step - loss: 0.6592 - accuracy: 0.5497 - val_loss: 0.5813 - val_accuracy: 0.9271\n",
      "Epoch 186/200\n",
      "156/156 [==============================] - 1s 8ms/step - loss: 0.6580 - accuracy: 0.5499 - val_loss: 0.5783 - val_accuracy: 0.9271\n",
      "Epoch 187/200\n",
      "156/156 [==============================] - 1s 8ms/step - loss: 0.6590 - accuracy: 0.5503 - val_loss: 0.5658 - val_accuracy: 0.9271\n",
      "Epoch 188/200\n",
      "156/156 [==============================] - 1s 8ms/step - loss: 0.6588 - accuracy: 0.5497 - val_loss: 0.5703 - val_accuracy: 0.9271\n",
      "Epoch 189/200\n",
      "156/156 [==============================] - 1s 8ms/step - loss: 0.6579 - accuracy: 0.5499 - val_loss: 0.5839 - val_accuracy: 0.9271\n",
      "Epoch 190/200\n",
      "156/156 [==============================] - 1s 8ms/step - loss: 0.6585 - accuracy: 0.5502 - val_loss: 0.5621 - val_accuracy: 0.9271\n",
      "Epoch 191/200\n",
      "156/156 [==============================] - 1s 8ms/step - loss: 0.6581 - accuracy: 0.5500 - val_loss: 0.5668 - val_accuracy: 0.9271\n",
      "Epoch 192/200\n",
      "156/156 [==============================] - 1s 8ms/step - loss: 0.6582 - accuracy: 0.5501 - val_loss: 0.5885 - val_accuracy: 0.9271\n",
      "Epoch 193/200\n",
      "156/156 [==============================] - 1s 8ms/step - loss: 0.6578 - accuracy: 0.5498 - val_loss: 0.5799 - val_accuracy: 0.9271\n",
      "Epoch 194/200\n",
      "156/156 [==============================] - 1s 8ms/step - loss: 0.6592 - accuracy: 0.5504 - val_loss: 0.5976 - val_accuracy: 0.9271\n",
      "Epoch 195/200\n",
      "156/156 [==============================] - 1s 8ms/step - loss: 0.6582 - accuracy: 0.5498 - val_loss: 0.6063 - val_accuracy: 0.9271\n",
      "Epoch 196/200\n",
      "156/156 [==============================] - 1s 8ms/step - loss: 0.6576 - accuracy: 0.5503 - val_loss: 0.5850 - val_accuracy: 0.9271\n",
      "Epoch 197/200\n",
      "156/156 [==============================] - 1s 8ms/step - loss: 0.6585 - accuracy: 0.5497 - val_loss: 0.5877 - val_accuracy: 0.9271\n",
      "Epoch 198/200\n",
      "156/156 [==============================] - 1s 8ms/step - loss: 0.6588 - accuracy: 0.5503 - val_loss: 0.5952 - val_accuracy: 0.9271\n",
      "Epoch 199/200\n",
      "156/156 [==============================] - 1s 8ms/step - loss: 0.6585 - accuracy: 0.5499 - val_loss: 0.5822 - val_accuracy: 0.9271\n",
      "Epoch 200/200\n",
      "156/156 [==============================] - 1s 8ms/step - loss: 0.6583 - accuracy: 0.5502 - val_loss: 0.5579 - val_accuracy: 0.9271\n"
     ]
    }
   ],
   "source": [
    "configs_dict = {\n",
    "    \"learning_rate\": LEARNING_RATE,\n",
    "    \"algorithm\": \"LogReg\",\n",
    "    \"configuration\": \"3-tokens-types\",\n",
    "    \"optimizer\": \"adam\",\n",
    "    \"loss\": \"binary_crossentropy\",\n",
    "    \"epochs\": NUM_EPOCHS,\n",
    "    \"batch_size\": 64,\n",
    "    \"vectorizer\": \"count\",\n",
    "    \"dataset\": \"TOKENIZED_SET_V1\"\n",
    "}\n",
    "run = wandb.init(project=wandb_project_name, reinit=True, config=configs_dict)\n",
    "\n",
    "history = model.fit(train_dataset, \n",
    "                    epochs=NUM_EPOCHS,\n",
    "                    validation_data=test_dataset,\n",
    "                    steps_per_epoch = STEPS_PER_EPOCH,\n",
    "                    validation_steps = VAL_STEPS_PER_EPOCH,\n",
    "                    callbacks= [WandbCallback()])#[tensorboard_callback])\n",
    "run.finish()"
   ]
  },
  {
   "cell_type": "code",
   "execution_count": 42,
   "metadata": {},
   "outputs": [
    {
     "name": "stdout",
     "output_type": "stream",
     "text": [
      "15/15 [==============================] - 0s 2ms/step - loss: 0.5579 - accuracy: 0.9271\n",
      "Test Loss: 0.5579007863998413\n",
      "Test Accuracy: 0.9270833134651184\n"
     ]
    }
   ],
   "source": [
    "test_loss, test_acc = model.evaluate(test_dataset)\n",
    "\n",
    "print(\"Test Loss:\", test_loss)\n",
    "print(\"Test Accuracy:\", test_acc)"
   ]
  },
  {
   "cell_type": "code",
   "execution_count": 43,
   "metadata": {},
   "outputs": [
    {
     "data": {
      "text/plain": [
       "(0.0, 0.6935673922300338)"
      ]
     },
     "execution_count": 43,
     "metadata": {},
     "output_type": "execute_result"
    },
    {
     "data": {
      "image/png": "[encoded data removed]",
      "text/plain": [
       "<Figure size 1600x800 with 2 Axes>"
      ]
     },
     "metadata": {},
     "output_type": "display_data"
    }
   ],
   "source": [
    "plt.figure(figsize=(16,8))\n",
    "plt.subplot(1,2,1)\n",
    "plot_graphs(history, \"accuracy\")\n",
    "plt.ylim(None, 1)\n",
    "plt.subplot(1,2,2)\n",
    "plot_graphs(history, \"loss\")\n",
    "plt.ylim(0, None)"
   ]
  },
  {
   "cell_type": "code",
   "execution_count": 44,
   "metadata": {},
   "outputs": [
    {
     "data": {
      "text/plain": [
       "'\\n# predict on a sample text without padding\\npredictions = model.predict(np.array([sample_text]))\\nprint(predictions[0])\\n'"
      ]
     },
     "execution_count": 44,
     "metadata": {},
     "output_type": "execute_result"
    }
   ],
   "source": [
    "\"\"\"\n",
    "# predict on a sample text without padding\n",
    "predictions = model.predict(np.array([sample_text]))\n",
    "print(predictions[0])\n",
    "\"\"\""
   ]
  },
  {
   "attachments": {},
   "cell_type": "markdown",
   "metadata": {},
   "source": [
    "##### Experiment 4:"
   ]
  },
  {
   "cell_type": "code",
   "execution_count": 45,
   "metadata": {},
   "outputs": [],
   "source": [
    "tokens_input_len = BIGRAM_PAD_TO_MAX_TOKENS\n",
    "type_input_len = BIGRAM_PAD_TO_MAX_TOKENS\n",
    "\n",
    "model = create_model(encoder_bigrams_tokens, encoder_bigrams_types,tokens_input_len, type_input_len) # maybe add 30\n",
    "\n",
    "# predict on a sample formula using untrained model\n",
    "#predictions = model.predict(np.array([sample_text]))\n",
    "#print(predictions[0])"
   ]
  },
  {
   "cell_type": "code",
   "execution_count": 46,
   "metadata": {},
   "outputs": [],
   "source": [
    "LEARNING_RATE = 1e-2\n",
    "NUM_EPOCHS = 200\n",
    "\n",
    "sample_text = \"( A \\cup B ) \\cap (C \\cup D )\"\n",
    "model.compile(loss=tf.keras.losses.BinaryCrossentropy(from_logits=True),\n",
    "              optimizer=tf.keras.optimizers.Adam(LEARNING_RATE),\n",
    "              metrics=[\"accuracy\"])"
   ]
  },
  {
   "cell_type": "code",
   "execution_count": 47,
   "metadata": {},
   "outputs": [
    {
     "name": "stdout",
     "output_type": "stream",
     "text": [
      "Model: \"model_3\"\n",
      "__________________________________________________________________________________________________\n",
      " Layer (type)                   Output Shape         Param #     Connected to                     \n",
      "==================================================================================================\n",
      " input_7 (InputLayer)           [(None, 1)]          0           []                               \n",
      "                                                                                                  \n",
      " input_8 (InputLayer)           [(None, 1)]          0           []                               \n",
      "                                                                                                  \n",
      " text_vectorization_6 (TextVect  (None, 350)         0           ['input_7[0][0]']                \n",
      " orization)                                                                                       \n",
      "                                                                                                  \n",
      " text_vectorization_7 (TextVect  (None, 350)         0           ['input_8[0][0]']                \n",
      " orization)                                                                                       \n",
      "                                                                                                  \n",
      " concatenate_3 (Concatenate)    (None, 700)          0           ['text_vectorization_6[0][0]',   \n",
      "                                                                  'text_vectorization_7[0][0]']   \n",
      "                                                                                                  \n",
      " embedding_3 (Embedding)        (None, 700, 64)      44864       ['concatenate_3[0][0]']          \n",
      "                                                                                                  \n",
      " dropout_6 (Dropout)            (None, 700, 64)      0           ['embedding_3[0][0]']            \n",
      "                                                                                                  \n",
      " global_max_pooling1d_3 (Global  (None, 64)          0           ['dropout_6[0][0]']              \n",
      " MaxPooling1D)                                                                                    \n",
      "                                                                                                  \n",
      " dropout_7 (Dropout)            (None, 64)           0           ['global_max_pooling1d_3[0][0]'] \n",
      "                                                                                                  \n",
      " dense_3 (Dense)                (None, 1)            65          ['dropout_7[0][0]']              \n",
      "                                                                                                  \n",
      "==================================================================================================\n",
      "Total params: 44,929\n",
      "Trainable params: 44,929\n",
      "Non-trainable params: 0\n",
      "__________________________________________________________________________________________________\n"
     ]
    }
   ],
   "source": [
    "model.summary()"
   ]
  },
  {
   "cell_type": "code",
   "execution_count": 48,
   "metadata": {},
   "outputs": [
    {
     "name": "stdout",
     "output_type": "stream",
     "text": [
      "Epoch 1/200\n",
      "155/156 [============================>.] - ETA: 0s - loss: 0.6655 - accuracy: 0.5498INFO:tensorflow:Assets written to: /home/paul_d/Sources/sem_math_repo/classification_formulas_binary/wandb/run-20230307_232102-7205up9o/files/model-best/assets\n"
     ]
    },
    {
     "name": "stderr",
     "output_type": "stream",
     "text": [
      "INFO:tensorflow:Assets written to: /home/paul_d/Sources/sem_math_repo/classification_formulas_binary/wandb/run-20230307_232102-7205up9o/files/model-best/assets\n"
     ]
    },
    {
     "name": "stdout",
     "output_type": "stream",
     "text": [
      "156/156 [==============================] - 6s 32ms/step - loss: 0.6655 - accuracy: 0.5498 - val_loss: 0.6881 - val_accuracy: 0.0000e+00\n",
      "Epoch 2/200\n",
      "154/156 [============================>.] - ETA: 0s - loss: 0.6613 - accuracy: 0.5501INFO:tensorflow:Assets written to: /home/paul_d/Sources/sem_math_repo/classification_formulas_binary/wandb/run-20230307_232102-7205up9o/files/model-best/assets\n"
     ]
    },
    {
     "name": "stderr",
     "output_type": "stream",
     "text": [
      "INFO:tensorflow:Assets written to: /home/paul_d/Sources/sem_math_repo/classification_formulas_binary/wandb/run-20230307_232102-7205up9o/files/model-best/assets\n"
     ]
    },
    {
     "name": "stdout",
     "output_type": "stream",
     "text": [
      "156/156 [==============================] - 5s 29ms/step - loss: 0.6613 - accuracy: 0.5499 - val_loss: 0.6778 - val_accuracy: 0.0000e+00\n",
      "Epoch 3/200\n",
      "156/156 [==============================] - 3s 21ms/step - loss: 0.6609 - accuracy: 0.5500 - val_loss: 0.6796 - val_accuracy: 0.0000e+00\n",
      "Epoch 4/200\n",
      "156/156 [==============================] - 4s 22ms/step - loss: 0.6609 - accuracy: 0.5497 - val_loss: 0.6850 - val_accuracy: 0.0000e+00\n",
      "Epoch 5/200\n",
      "155/156 [============================>.] - ETA: 0s - loss: 0.6611 - accuracy: 0.5504INFO:tensorflow:Assets written to: /home/paul_d/Sources/sem_math_repo/classification_formulas_binary/wandb/run-20230307_232102-7205up9o/files/model-best/assets\n"
     ]
    },
    {
     "name": "stderr",
     "output_type": "stream",
     "text": [
      "INFO:tensorflow:Assets written to: /home/paul_d/Sources/sem_math_repo/classification_formulas_binary/wandb/run-20230307_232102-7205up9o/files/model-best/assets\n"
     ]
    },
    {
     "name": "stdout",
     "output_type": "stream",
     "text": [
      "156/156 [==============================] - 5s 32ms/step - loss: 0.6609 - accuracy: 0.5500 - val_loss: 0.6641 - val_accuracy: 0.0000e+00\n",
      "Epoch 6/200\n",
      "156/156 [==============================] - 3s 21ms/step - loss: 0.6605 - accuracy: 0.5497 - val_loss: 0.6713 - val_accuracy: 0.0000e+00\n",
      "Epoch 7/200\n",
      "155/156 [============================>.] - ETA: 0s - loss: 0.6611 - accuracy: 0.5505INFO:tensorflow:Assets written to: /home/paul_d/Sources/sem_math_repo/classification_formulas_binary/wandb/run-20230307_232102-7205up9o/files/model-best/assets\n"
     ]
    },
    {
     "name": "stderr",
     "output_type": "stream",
     "text": [
      "INFO:tensorflow:Assets written to: /home/paul_d/Sources/sem_math_repo/classification_formulas_binary/wandb/run-20230307_232102-7205up9o/files/model-best/assets\n"
     ]
    },
    {
     "name": "stdout",
     "output_type": "stream",
     "text": [
      "156/156 [==============================] - 5s 30ms/step - loss: 0.6611 - accuracy: 0.5500 - val_loss: 0.6620 - val_accuracy: 0.0000e+00\n",
      "Epoch 8/200\n",
      "156/156 [==============================] - ETA: 0s - loss: 0.6603 - accuracy: 0.5500INFO:tensorflow:Assets written to: /home/paul_d/Sources/sem_math_repo/classification_formulas_binary/wandb/run-20230307_232102-7205up9o/files/model-best/assets\n"
     ]
    },
    {
     "name": "stderr",
     "output_type": "stream",
     "text": [
      "INFO:tensorflow:Assets written to: /home/paul_d/Sources/sem_math_repo/classification_formulas_binary/wandb/run-20230307_232102-7205up9o/files/model-best/assets\n"
     ]
    },
    {
     "name": "stdout",
     "output_type": "stream",
     "text": [
      "156/156 [==============================] - 5s 29ms/step - loss: 0.6603 - accuracy: 0.5500 - val_loss: 0.6513 - val_accuracy: 0.0000e+00\n",
      "Epoch 9/200\n",
      "156/156 [==============================] - 4s 22ms/step - loss: 0.6606 - accuracy: 0.5499 - val_loss: 0.6739 - val_accuracy: 0.0000e+00\n",
      "Epoch 10/200\n",
      "156/156 [==============================] - 3s 21ms/step - loss: 0.6606 - accuracy: 0.5499 - val_loss: 0.6650 - val_accuracy: 0.0000e+00\n",
      "Epoch 11/200\n",
      "156/156 [==============================] - 3s 21ms/step - loss: 0.6596 - accuracy: 0.5499 - val_loss: 0.6949 - val_accuracy: 0.0000e+00\n",
      "Epoch 12/200\n",
      "156/156 [==============================] - 3s 21ms/step - loss: 0.6616 - accuracy: 0.5504 - val_loss: 0.6668 - val_accuracy: 0.0000e+00\n",
      "Epoch 13/200\n",
      "156/156 [==============================] - 4s 22ms/step - loss: 0.6616 - accuracy: 0.5499 - val_loss: 0.6579 - val_accuracy: 0.0000e+00\n",
      "Epoch 14/200\n",
      "156/156 [==============================] - 3s 21ms/step - loss: 0.6611 - accuracy: 0.5496 - val_loss: 0.6887 - val_accuracy: 0.0000e+00\n",
      "Epoch 15/200\n",
      "156/156 [==============================] - ETA: 0s - loss: 0.6605 - accuracy: 0.5501INFO:tensorflow:Assets written to: /home/paul_d/Sources/sem_math_repo/classification_formulas_binary/wandb/run-20230307_232102-7205up9o/files/model-best/assets\n"
     ]
    },
    {
     "name": "stderr",
     "output_type": "stream",
     "text": [
      "INFO:tensorflow:Assets written to: /home/paul_d/Sources/sem_math_repo/classification_formulas_binary/wandb/run-20230307_232102-7205up9o/files/model-best/assets\n"
     ]
    },
    {
     "name": "stdout",
     "output_type": "stream",
     "text": [
      "156/156 [==============================] - 5s 29ms/step - loss: 0.6605 - accuracy: 0.5501 - val_loss: 0.6498 - val_accuracy: 0.0000e+00\n",
      "Epoch 16/200\n",
      "156/156 [==============================] - ETA: 0s - loss: 0.6605 - accuracy: 0.5503INFO:tensorflow:Assets written to: /home/paul_d/Sources/sem_math_repo/classification_formulas_binary/wandb/run-20230307_232102-7205up9o/files/model-best/assets\n"
     ]
    },
    {
     "name": "stderr",
     "output_type": "stream",
     "text": [
      "INFO:tensorflow:Assets written to: /home/paul_d/Sources/sem_math_repo/classification_formulas_binary/wandb/run-20230307_232102-7205up9o/files/model-best/assets\n"
     ]
    },
    {
     "name": "stdout",
     "output_type": "stream",
     "text": [
      "156/156 [==============================] - 5s 32ms/step - loss: 0.6605 - accuracy: 0.5503 - val_loss: 0.6274 - val_accuracy: 0.0000e+00\n",
      "Epoch 17/200\n",
      "156/156 [==============================] - 3s 21ms/step - loss: 0.6603 - accuracy: 0.5500 - val_loss: 0.6369 - val_accuracy: 0.0000e+00\n",
      "Epoch 18/200\n",
      "156/156 [==============================] - 4s 22ms/step - loss: 0.6606 - accuracy: 0.5498 - val_loss: 0.6714 - val_accuracy: 0.0000e+00\n",
      "Epoch 19/200\n",
      "156/156 [==============================] - 3s 21ms/step - loss: 0.6605 - accuracy: 0.5500 - val_loss: 0.6464 - val_accuracy: 0.0000e+00\n",
      "Epoch 20/200\n",
      "156/156 [==============================] - 3s 21ms/step - loss: 0.6607 - accuracy: 0.5501 - val_loss: 0.6464 - val_accuracy: 0.0000e+00\n",
      "Epoch 21/200\n",
      "156/156 [==============================] - 3s 22ms/step - loss: 0.6604 - accuracy: 0.5499 - val_loss: 0.6670 - val_accuracy: 0.0000e+00\n",
      "Epoch 22/200\n",
      "156/156 [==============================] - 4s 22ms/step - loss: 0.6607 - accuracy: 0.5500 - val_loss: 0.6776 - val_accuracy: 0.0000e+00\n",
      "Epoch 23/200\n",
      "156/156 [==============================] - 3s 21ms/step - loss: 0.6598 - accuracy: 0.5501 - val_loss: 0.6354 - val_accuracy: 0.0000e+00\n",
      "Epoch 24/200\n",
      "156/156 [==============================] - 3s 21ms/step - loss: 0.6612 - accuracy: 0.5498 - val_loss: 0.6283 - val_accuracy: 0.0000e+00\n",
      "Epoch 25/200\n",
      "156/156 [==============================] - 4s 22ms/step - loss: 0.6610 - accuracy: 0.5501 - val_loss: 0.6401 - val_accuracy: 0.0000e+00\n",
      "Epoch 26/200\n",
      "156/156 [==============================] - 3s 21ms/step - loss: 0.6599 - accuracy: 0.5500 - val_loss: 0.6554 - val_accuracy: 0.0000e+00\n",
      "Epoch 27/200\n",
      "156/156 [==============================] - 3s 21ms/step - loss: 0.6612 - accuracy: 0.5501 - val_loss: 0.6316 - val_accuracy: 0.0000e+00\n",
      "Epoch 28/200\n",
      "156/156 [==============================] - 3s 22ms/step - loss: 0.6601 - accuracy: 0.5502 - val_loss: 0.6567 - val_accuracy: 0.0000e+00\n",
      "Epoch 29/200\n",
      "156/156 [==============================] - 4s 22ms/step - loss: 0.6607 - accuracy: 0.5500 - val_loss: 0.6845 - val_accuracy: 0.0000e+00\n",
      "Epoch 30/200\n",
      "156/156 [==============================] - 3s 21ms/step - loss: 0.6596 - accuracy: 0.5499 - val_loss: 0.6488 - val_accuracy: 0.0000e+00\n",
      "Epoch 31/200\n",
      "156/156 [==============================] - 3s 21ms/step - loss: 0.6606 - accuracy: 0.5505 - val_loss: 0.6454 - val_accuracy: 0.0000e+00\n",
      "Epoch 32/200\n",
      "156/156 [==============================] - 4s 22ms/step - loss: 0.6611 - accuracy: 0.5502 - val_loss: 0.6527 - val_accuracy: 0.0000e+00\n",
      "Epoch 33/200\n",
      "156/156 [==============================] - 3s 21ms/step - loss: 0.6606 - accuracy: 0.5501 - val_loss: 0.6800 - val_accuracy: 0.0000e+00\n",
      "Epoch 34/200\n",
      "156/156 [==============================] - 3s 21ms/step - loss: 0.6596 - accuracy: 0.5499 - val_loss: 0.6474 - val_accuracy: 0.0000e+00\n",
      "Epoch 35/200\n",
      "156/156 [==============================] - 4s 22ms/step - loss: 0.6601 - accuracy: 0.5502 - val_loss: 0.6771 - val_accuracy: 0.0000e+00\n",
      "Epoch 36/200\n",
      "156/156 [==============================] - 3s 21ms/step - loss: 0.6604 - accuracy: 0.5501 - val_loss: 0.6651 - val_accuracy: 0.0000e+00\n",
      "Epoch 37/200\n",
      "156/156 [==============================] - 3s 21ms/step - loss: 0.6610 - accuracy: 0.5500 - val_loss: 0.6397 - val_accuracy: 0.0000e+00\n",
      "Epoch 38/200\n",
      "156/156 [==============================] - 3s 21ms/step - loss: 0.6604 - accuracy: 0.5500 - val_loss: 0.6641 - val_accuracy: 0.0000e+00\n",
      "Epoch 39/200\n",
      "156/156 [==============================] - 4s 22ms/step - loss: 0.6602 - accuracy: 0.5500 - val_loss: 0.6697 - val_accuracy: 0.0000e+00\n",
      "Epoch 40/200\n",
      "156/156 [==============================] - 3s 21ms/step - loss: 0.6616 - accuracy: 0.5498 - val_loss: 0.6335 - val_accuracy: 0.0000e+00\n",
      "Epoch 41/200\n",
      "156/156 [==============================] - 3s 21ms/step - loss: 0.6593 - accuracy: 0.5500 - val_loss: 0.6825 - val_accuracy: 0.0000e+00\n",
      "Epoch 42/200\n",
      "156/156 [==============================] - ETA: 0s - loss: 0.6599 - accuracy: 0.5500INFO:tensorflow:Assets written to: /home/paul_d/Sources/sem_math_repo/classification_formulas_binary/wandb/run-20230307_232102-7205up9o/files/model-best/assets\n"
     ]
    },
    {
     "name": "stderr",
     "output_type": "stream",
     "text": [
      "INFO:tensorflow:Assets written to: /home/paul_d/Sources/sem_math_repo/classification_formulas_binary/wandb/run-20230307_232102-7205up9o/files/model-best/assets\n"
     ]
    },
    {
     "name": "stdout",
     "output_type": "stream",
     "text": [
      "156/156 [==============================] - 5s 29ms/step - loss: 0.6599 - accuracy: 0.5500 - val_loss: 0.6239 - val_accuracy: 0.0000e+00\n",
      "Epoch 43/200\n",
      "156/156 [==============================] - 3s 21ms/step - loss: 0.6601 - accuracy: 0.5500 - val_loss: 0.6345 - val_accuracy: 0.0000e+00\n",
      "Epoch 44/200\n",
      "156/156 [==============================] - 3s 21ms/step - loss: 0.6603 - accuracy: 0.5503 - val_loss: 0.6661 - val_accuracy: 0.0000e+00\n",
      "Epoch 45/200\n",
      "156/156 [==============================] - ETA: 0s - loss: 0.6600 - accuracy: 0.5498INFO:tensorflow:Assets written to: /home/paul_d/Sources/sem_math_repo/classification_formulas_binary/wandb/run-20230307_232102-7205up9o/files/model-best/assets\n"
     ]
    },
    {
     "name": "stderr",
     "output_type": "stream",
     "text": [
      "INFO:tensorflow:Assets written to: /home/paul_d/Sources/sem_math_repo/classification_formulas_binary/wandb/run-20230307_232102-7205up9o/files/model-best/assets\n"
     ]
    },
    {
     "name": "stdout",
     "output_type": "stream",
     "text": [
      "156/156 [==============================] - 5s 29ms/step - loss: 0.6600 - accuracy: 0.5498 - val_loss: 0.6226 - val_accuracy: 0.0000e+00\n",
      "Epoch 46/200\n",
      "156/156 [==============================] - 4s 22ms/step - loss: 0.6606 - accuracy: 0.5500 - val_loss: 0.6686 - val_accuracy: 0.0000e+00\n",
      "Epoch 47/200\n",
      "156/156 [==============================] - 3s 21ms/step - loss: 0.6611 - accuracy: 0.5495 - val_loss: 0.6498 - val_accuracy: 0.0000e+00\n",
      "Epoch 48/200\n",
      "156/156 [==============================] - 3s 21ms/step - loss: 0.6604 - accuracy: 0.5501 - val_loss: 0.6698 - val_accuracy: 0.0000e+00\n",
      "Epoch 49/200\n",
      "156/156 [==============================] - 4s 22ms/step - loss: 0.6607 - accuracy: 0.5500 - val_loss: 0.6500 - val_accuracy: 0.0000e+00\n",
      "Epoch 50/200\n",
      "156/156 [==============================] - 3s 21ms/step - loss: 0.6607 - accuracy: 0.5501 - val_loss: 0.6377 - val_accuracy: 0.0000e+00\n",
      "Epoch 51/200\n",
      "156/156 [==============================] - 3s 21ms/step - loss: 0.6604 - accuracy: 0.5500 - val_loss: 0.6422 - val_accuracy: 0.0000e+00\n",
      "Epoch 52/200\n",
      "156/156 [==============================] - 3s 21ms/step - loss: 0.6593 - accuracy: 0.5500 - val_loss: 0.6485 - val_accuracy: 0.0000e+00\n",
      "Epoch 53/200\n",
      "156/156 [==============================] - 4s 22ms/step - loss: 0.6605 - accuracy: 0.5500 - val_loss: 0.6617 - val_accuracy: 0.0000e+00\n",
      "Epoch 54/200\n",
      "156/156 [==============================] - 3s 21ms/step - loss: 0.6608 - accuracy: 0.5499 - val_loss: 0.6407 - val_accuracy: 0.0000e+00\n",
      "Epoch 55/200\n",
      "156/156 [==============================] - 3s 21ms/step - loss: 0.6611 - accuracy: 0.5501 - val_loss: 0.6725 - val_accuracy: 0.0000e+00\n",
      "Epoch 56/200\n",
      "156/156 [==============================] - 4s 22ms/step - loss: 0.6607 - accuracy: 0.5498 - val_loss: 0.6589 - val_accuracy: 0.0000e+00\n",
      "Epoch 57/200\n",
      "156/156 [==============================] - 3s 21ms/step - loss: 0.6600 - accuracy: 0.5498 - val_loss: 0.6699 - val_accuracy: 0.0000e+00\n",
      "Epoch 58/200\n",
      "156/156 [==============================] - 3s 21ms/step - loss: 0.6597 - accuracy: 0.5503 - val_loss: 0.6765 - val_accuracy: 0.0000e+00\n",
      "Epoch 59/200\n",
      "156/156 [==============================] - 4s 22ms/step - loss: 0.6603 - accuracy: 0.5502 - val_loss: 0.6323 - val_accuracy: 0.0000e+00\n",
      "Epoch 60/200\n",
      "156/156 [==============================] - 3s 21ms/step - loss: 0.6599 - accuracy: 0.5500 - val_loss: 0.6402 - val_accuracy: 0.0000e+00\n",
      "Epoch 61/200\n",
      "156/156 [==============================] - 3s 21ms/step - loss: 0.6597 - accuracy: 0.5498 - val_loss: 0.6421 - val_accuracy: 0.0000e+00\n",
      "Epoch 62/200\n",
      "156/156 [==============================] - 3s 21ms/step - loss: 0.6608 - accuracy: 0.5499 - val_loss: 0.6834 - val_accuracy: 0.0000e+00\n",
      "Epoch 63/200\n",
      "156/156 [==============================] - 4s 22ms/step - loss: 0.6597 - accuracy: 0.5504 - val_loss: 0.6376 - val_accuracy: 0.0000e+00\n",
      "Epoch 64/200\n",
      "156/156 [==============================] - 3s 21ms/step - loss: 0.6605 - accuracy: 0.5503 - val_loss: 0.6793 - val_accuracy: 0.0000e+00\n",
      "Epoch 65/200\n",
      "156/156 [==============================] - 3s 21ms/step - loss: 0.6606 - accuracy: 0.5501 - val_loss: 0.6513 - val_accuracy: 0.0000e+00\n",
      "Epoch 66/200\n",
      "156/156 [==============================] - 3s 21ms/step - loss: 0.6597 - accuracy: 0.5498 - val_loss: 0.6854 - val_accuracy: 0.0000e+00\n",
      "Epoch 67/200\n",
      "156/156 [==============================] - 3s 21ms/step - loss: 0.6599 - accuracy: 0.5501 - val_loss: 0.6595 - val_accuracy: 0.0000e+00\n",
      "Epoch 68/200\n",
      "156/156 [==============================] - 3s 21ms/step - loss: 0.6606 - accuracy: 0.5498 - val_loss: 0.6455 - val_accuracy: 0.0000e+00\n",
      "Epoch 69/200\n",
      "156/156 [==============================] - 4s 22ms/step - loss: 0.6608 - accuracy: 0.5500 - val_loss: 0.6465 - val_accuracy: 0.0000e+00\n",
      "Epoch 70/200\n",
      "156/156 [==============================] - 3s 21ms/step - loss: 0.6600 - accuracy: 0.5496 - val_loss: 0.6316 - val_accuracy: 0.0000e+00\n",
      "Epoch 71/200\n",
      "156/156 [==============================] - 3s 21ms/step - loss: 0.6603 - accuracy: 0.5500 - val_loss: 0.6401 - val_accuracy: 0.0000e+00\n",
      "Epoch 72/200\n",
      "156/156 [==============================] - 3s 22ms/step - loss: 0.6610 - accuracy: 0.5504 - val_loss: 0.6375 - val_accuracy: 0.0000e+00\n",
      "Epoch 73/200\n",
      "156/156 [==============================] - 3s 21ms/step - loss: 0.6600 - accuracy: 0.5502 - val_loss: 0.6500 - val_accuracy: 0.0000e+00\n",
      "Epoch 74/200\n",
      "156/156 [==============================] - 3s 21ms/step - loss: 0.6603 - accuracy: 0.5501 - val_loss: 0.6459 - val_accuracy: 0.0000e+00\n",
      "Epoch 75/200\n",
      "156/156 [==============================] - 3s 21ms/step - loss: 0.6608 - accuracy: 0.5502 - val_loss: 0.6762 - val_accuracy: 0.0000e+00\n",
      "Epoch 76/200\n",
      "156/156 [==============================] - 4s 22ms/step - loss: 0.6602 - accuracy: 0.5496 - val_loss: 0.6574 - val_accuracy: 0.0000e+00\n",
      "Epoch 77/200\n",
      "156/156 [==============================] - 3s 21ms/step - loss: 0.6600 - accuracy: 0.5504 - val_loss: 0.6415 - val_accuracy: 0.0000e+00\n",
      "Epoch 78/200\n",
      "156/156 [==============================] - 3s 21ms/step - loss: 0.6600 - accuracy: 0.5501 - val_loss: 0.6533 - val_accuracy: 0.0000e+00\n",
      "Epoch 79/200\n",
      "156/156 [==============================] - 4s 22ms/step - loss: 0.6600 - accuracy: 0.5497 - val_loss: 0.6658 - val_accuracy: 0.0000e+00\n",
      "Epoch 80/200\n",
      "156/156 [==============================] - 3s 21ms/step - loss: 0.6601 - accuracy: 0.5497 - val_loss: 0.6361 - val_accuracy: 0.0000e+00\n",
      "Epoch 81/200\n",
      "156/156 [==============================] - 3s 21ms/step - loss: 0.6612 - accuracy: 0.5502 - val_loss: 0.6397 - val_accuracy: 0.0000e+00\n",
      "Epoch 82/200\n",
      "156/156 [==============================] - 3s 22ms/step - loss: 0.6608 - accuracy: 0.5501 - val_loss: 0.6282 - val_accuracy: 0.0000e+00\n",
      "Epoch 83/200\n",
      "156/156 [==============================] - 4s 22ms/step - loss: 0.6604 - accuracy: 0.5503 - val_loss: 0.6424 - val_accuracy: 0.0000e+00\n",
      "Epoch 84/200\n",
      "156/156 [==============================] - 3s 21ms/step - loss: 0.6597 - accuracy: 0.5500 - val_loss: 0.6585 - val_accuracy: 0.0000e+00\n",
      "Epoch 85/200\n",
      "156/156 [==============================] - 3s 21ms/step - loss: 0.6610 - accuracy: 0.5500 - val_loss: 0.6661 - val_accuracy: 0.0000e+00\n",
      "Epoch 86/200\n",
      "156/156 [==============================] - 3s 21ms/step - loss: 0.6604 - accuracy: 0.5502 - val_loss: 0.6488 - val_accuracy: 0.0000e+00\n",
      "Epoch 87/200\n",
      "156/156 [==============================] - 3s 21ms/step - loss: 0.6602 - accuracy: 0.5502 - val_loss: 0.6291 - val_accuracy: 0.0000e+00\n",
      "Epoch 88/200\n",
      "156/156 [==============================] - 3s 21ms/step - loss: 0.6617 - accuracy: 0.5499 - val_loss: 0.6562 - val_accuracy: 0.0000e+00\n",
      "Epoch 89/200\n",
      "156/156 [==============================] - 3s 21ms/step - loss: 0.6614 - accuracy: 0.5497 - val_loss: 0.6574 - val_accuracy: 0.0000e+00\n",
      "Epoch 90/200\n",
      "156/156 [==============================] - 3s 21ms/step - loss: 0.6598 - accuracy: 0.5503 - val_loss: 0.6450 - val_accuracy: 0.0000e+00\n",
      "Epoch 91/200\n",
      "156/156 [==============================] - 3s 21ms/step - loss: 0.6607 - accuracy: 0.5500 - val_loss: 0.6527 - val_accuracy: 0.0000e+00\n",
      "Epoch 92/200\n",
      "156/156 [==============================] - 3s 21ms/step - loss: 0.6604 - accuracy: 0.5501 - val_loss: 0.6616 - val_accuracy: 0.0000e+00\n",
      "Epoch 93/200\n",
      "156/156 [==============================] - 4s 23ms/step - loss: 0.6604 - accuracy: 0.5501 - val_loss: 0.6347 - val_accuracy: 0.0000e+00\n",
      "Epoch 94/200\n",
      "156/156 [==============================] - 3s 21ms/step - loss: 0.6604 - accuracy: 0.5500 - val_loss: 0.6570 - val_accuracy: 0.0000e+00\n",
      "Epoch 95/200\n",
      "156/156 [==============================] - 3s 21ms/step - loss: 0.6604 - accuracy: 0.5505 - val_loss: 0.6459 - val_accuracy: 0.0000e+00\n",
      "Epoch 96/200\n",
      "156/156 [==============================] - 4s 22ms/step - loss: 0.6592 - accuracy: 0.5498 - val_loss: 0.6779 - val_accuracy: 0.0000e+00\n",
      "Epoch 97/200\n",
      "156/156 [==============================] - 3s 21ms/step - loss: 0.6608 - accuracy: 0.5502 - val_loss: 0.6617 - val_accuracy: 0.0000e+00\n",
      "Epoch 98/200\n",
      "156/156 [==============================] - 3s 21ms/step - loss: 0.6609 - accuracy: 0.5496 - val_loss: 0.6667 - val_accuracy: 0.0000e+00\n",
      "Epoch 99/200\n",
      "156/156 [==============================] - 3s 22ms/step - loss: 0.6604 - accuracy: 0.5499 - val_loss: 0.6639 - val_accuracy: 0.0000e+00\n",
      "Epoch 100/200\n",
      "156/156 [==============================] - 3s 21ms/step - loss: 0.6596 - accuracy: 0.5500 - val_loss: 0.6984 - val_accuracy: 0.0000e+00\n",
      "Epoch 101/200\n",
      "156/156 [==============================] - 3s 21ms/step - loss: 0.6615 - accuracy: 0.5501 - val_loss: 0.6861 - val_accuracy: 0.0000e+00\n",
      "Epoch 102/200\n",
      "156/156 [==============================] - 3s 21ms/step - loss: 0.6598 - accuracy: 0.5498 - val_loss: 0.6330 - val_accuracy: 0.0000e+00\n",
      "Epoch 103/200\n",
      "156/156 [==============================] - 4s 22ms/step - loss: 0.6600 - accuracy: 0.5499 - val_loss: 0.6335 - val_accuracy: 0.0000e+00\n",
      "Epoch 104/200\n",
      "156/156 [==============================] - 3s 21ms/step - loss: 0.6606 - accuracy: 0.5502 - val_loss: 0.6565 - val_accuracy: 0.0000e+00\n",
      "Epoch 105/200\n",
      "156/156 [==============================] - 3s 21ms/step - loss: 0.6606 - accuracy: 0.5501 - val_loss: 0.6342 - val_accuracy: 0.0000e+00\n",
      "Epoch 106/200\n",
      "156/156 [==============================] - 3s 21ms/step - loss: 0.6602 - accuracy: 0.5501 - val_loss: 0.6633 - val_accuracy: 0.0000e+00\n",
      "Epoch 107/200\n",
      "156/156 [==============================] - 3s 21ms/step - loss: 0.6599 - accuracy: 0.5505 - val_loss: 0.6536 - val_accuracy: 0.0000e+00\n",
      "Epoch 108/200\n",
      "156/156 [==============================] - 3s 21ms/step - loss: 0.6605 - accuracy: 0.5503 - val_loss: 0.6616 - val_accuracy: 0.0000e+00\n",
      "Epoch 109/200\n",
      "156/156 [==============================] - 3s 21ms/step - loss: 0.6598 - accuracy: 0.5500 - val_loss: 0.6475 - val_accuracy: 0.0000e+00\n",
      "Epoch 110/200\n",
      "156/156 [==============================] - 4s 22ms/step - loss: 0.6601 - accuracy: 0.5503 - val_loss: 0.6313 - val_accuracy: 0.0000e+00\n",
      "Epoch 111/200\n",
      "156/156 [==============================] - 3s 21ms/step - loss: 0.6601 - accuracy: 0.5499 - val_loss: 0.6462 - val_accuracy: 0.0000e+00\n",
      "Epoch 112/200\n",
      "156/156 [==============================] - 3s 21ms/step - loss: 0.6606 - accuracy: 0.5499 - val_loss: 0.6769 - val_accuracy: 0.0000e+00\n",
      "Epoch 113/200\n",
      "156/156 [==============================] - 4s 22ms/step - loss: 0.6608 - accuracy: 0.5500 - val_loss: 0.6400 - val_accuracy: 0.0000e+00\n",
      "Epoch 114/200\n",
      "156/156 [==============================] - 3s 21ms/step - loss: 0.6597 - accuracy: 0.5500 - val_loss: 0.6371 - val_accuracy: 0.0000e+00\n",
      "Epoch 115/200\n",
      "156/156 [==============================] - 3s 21ms/step - loss: 0.6595 - accuracy: 0.5498 - val_loss: 0.6321 - val_accuracy: 0.0000e+00\n",
      "Epoch 116/200\n",
      "156/156 [==============================] - 3s 21ms/step - loss: 0.6605 - accuracy: 0.5501 - val_loss: 0.6276 - val_accuracy: 0.0000e+00\n",
      "Epoch 117/200\n",
      "156/156 [==============================] - 3s 21ms/step - loss: 0.6596 - accuracy: 0.5500 - val_loss: 0.6285 - val_accuracy: 0.0000e+00\n",
      "Epoch 118/200\n",
      "156/156 [==============================] - 3s 21ms/step - loss: 0.6585 - accuracy: 0.5503 - val_loss: 0.6625 - val_accuracy: 0.0000e+00\n",
      "Epoch 119/200\n",
      "156/156 [==============================] - 3s 21ms/step - loss: 0.6606 - accuracy: 0.5499 - val_loss: 0.6501 - val_accuracy: 0.0000e+00\n",
      "Epoch 120/200\n",
      "156/156 [==============================] - 4s 22ms/step - loss: 0.6597 - accuracy: 0.5503 - val_loss: 0.6471 - val_accuracy: 0.0000e+00\n",
      "Epoch 121/200\n",
      "156/156 [==============================] - 3s 21ms/step - loss: 0.6593 - accuracy: 0.5499 - val_loss: 0.6480 - val_accuracy: 0.0000e+00\n",
      "Epoch 122/200\n",
      "156/156 [==============================] - 3s 21ms/step - loss: 0.6594 - accuracy: 0.5499 - val_loss: 0.6499 - val_accuracy: 0.0000e+00\n",
      "Epoch 123/200\n",
      "156/156 [==============================] - ETA: 0s - loss: 0.6603 - accuracy: 0.5503INFO:tensorflow:Assets written to: /home/paul_d/Sources/sem_math_repo/classification_formulas_binary/wandb/run-20230307_232102-7205up9o/files/model-best/assets\n"
     ]
    },
    {
     "name": "stderr",
     "output_type": "stream",
     "text": [
      "INFO:tensorflow:Assets written to: /home/paul_d/Sources/sem_math_repo/classification_formulas_binary/wandb/run-20230307_232102-7205up9o/files/model-best/assets\n"
     ]
    },
    {
     "name": "stdout",
     "output_type": "stream",
     "text": [
      "156/156 [==============================] - 5s 29ms/step - loss: 0.6603 - accuracy: 0.5503 - val_loss: 0.6210 - val_accuracy: 0.0000e+00\n",
      "Epoch 124/200\n",
      "156/156 [==============================] - 3s 21ms/step - loss: 0.6618 - accuracy: 0.5503 - val_loss: 0.6458 - val_accuracy: 0.0000e+00\n",
      "Epoch 125/200\n",
      "156/156 [==============================] - 3s 21ms/step - loss: 0.6603 - accuracy: 0.5501 - val_loss: 0.6479 - val_accuracy: 0.0000e+00\n",
      "Epoch 126/200\n",
      "156/156 [==============================] - 4s 22ms/step - loss: 0.6612 - accuracy: 0.5495 - val_loss: 0.6589 - val_accuracy: 0.0000e+00\n",
      "Epoch 127/200\n",
      "156/156 [==============================] - 3s 21ms/step - loss: 0.6601 - accuracy: 0.5500 - val_loss: 0.6495 - val_accuracy: 0.0000e+00\n",
      "Epoch 128/200\n",
      "156/156 [==============================] - 3s 21ms/step - loss: 0.6609 - accuracy: 0.5495 - val_loss: 0.6451 - val_accuracy: 0.0000e+00\n",
      "Epoch 129/200\n",
      "156/156 [==============================] - 3s 21ms/step - loss: 0.6605 - accuracy: 0.5499 - val_loss: 0.6801 - val_accuracy: 0.0000e+00\n",
      "Epoch 130/200\n",
      "156/156 [==============================] - 3s 21ms/step - loss: 0.6608 - accuracy: 0.5502 - val_loss: 0.6459 - val_accuracy: 0.0000e+00\n",
      "Epoch 131/200\n",
      "156/156 [==============================] - 3s 21ms/step - loss: 0.6602 - accuracy: 0.5502 - val_loss: 0.6497 - val_accuracy: 0.0000e+00\n",
      "Epoch 132/200\n",
      "156/156 [==============================] - 3s 21ms/step - loss: 0.6596 - accuracy: 0.5499 - val_loss: 0.6686 - val_accuracy: 0.0000e+00\n",
      "Epoch 133/200\n",
      "156/156 [==============================] - 3s 22ms/step - loss: 0.6600 - accuracy: 0.5498 - val_loss: 0.6225 - val_accuracy: 0.0000e+00\n",
      "Epoch 134/200\n",
      "156/156 [==============================] - 3s 21ms/step - loss: 0.6605 - accuracy: 0.5501 - val_loss: 0.6328 - val_accuracy: 0.0000e+00\n",
      "Epoch 135/200\n",
      "156/156 [==============================] - 3s 21ms/step - loss: 0.6602 - accuracy: 0.5497 - val_loss: 0.6565 - val_accuracy: 0.0000e+00\n",
      "Epoch 136/200\n",
      "156/156 [==============================] - 3s 21ms/step - loss: 0.6598 - accuracy: 0.5497 - val_loss: 0.6458 - val_accuracy: 0.0000e+00\n",
      "Epoch 137/200\n",
      "156/156 [==============================] - 4s 22ms/step - loss: 0.6604 - accuracy: 0.5502 - val_loss: 0.6535 - val_accuracy: 0.0000e+00\n",
      "Epoch 138/200\n",
      "155/156 [============================>.] - ETA: 0s - loss: 0.6604 - accuracy: 0.5501INFO:tensorflow:Assets written to: /home/paul_d/Sources/sem_math_repo/classification_formulas_binary/wandb/run-20230307_232102-7205up9o/files/model-best/assets\n"
     ]
    },
    {
     "name": "stderr",
     "output_type": "stream",
     "text": [
      "INFO:tensorflow:Assets written to: /home/paul_d/Sources/sem_math_repo/classification_formulas_binary/wandb/run-20230307_232102-7205up9o/files/model-best/assets\n"
     ]
    },
    {
     "name": "stdout",
     "output_type": "stream",
     "text": [
      "156/156 [==============================] - 5s 31ms/step - loss: 0.6602 - accuracy: 0.5503 - val_loss: 0.6120 - val_accuracy: 0.0000e+00\n",
      "Epoch 139/200\n",
      "156/156 [==============================] - 3s 21ms/step - loss: 0.6598 - accuracy: 0.5500 - val_loss: 0.6448 - val_accuracy: 0.0000e+00\n",
      "Epoch 140/200\n",
      "156/156 [==============================] - 3s 21ms/step - loss: 0.6593 - accuracy: 0.5500 - val_loss: 0.6375 - val_accuracy: 0.0000e+00\n",
      "Epoch 141/200\n",
      "156/156 [==============================] - 3s 21ms/step - loss: 0.6597 - accuracy: 0.5503 - val_loss: 0.6204 - val_accuracy: 0.0000e+00\n",
      "Epoch 142/200\n",
      "156/156 [==============================] - 3s 21ms/step - loss: 0.6608 - accuracy: 0.5503 - val_loss: 0.6468 - val_accuracy: 0.0000e+00\n",
      "Epoch 143/200\n",
      "156/156 [==============================] - 4s 22ms/step - loss: 0.6606 - accuracy: 0.5500 - val_loss: 0.6201 - val_accuracy: 0.0000e+00\n",
      "Epoch 144/200\n",
      "156/156 [==============================] - 3s 21ms/step - loss: 0.6594 - accuracy: 0.5499 - val_loss: 0.6568 - val_accuracy: 0.0000e+00\n",
      "Epoch 145/200\n",
      "156/156 [==============================] - 3s 21ms/step - loss: 0.6609 - accuracy: 0.5498 - val_loss: 0.6390 - val_accuracy: 0.0000e+00\n",
      "Epoch 146/200\n",
      "156/156 [==============================] - 3s 21ms/step - loss: 0.6602 - accuracy: 0.5498 - val_loss: 0.6483 - val_accuracy: 0.0000e+00\n",
      "Epoch 147/200\n",
      "156/156 [==============================] - 3s 21ms/step - loss: 0.6606 - accuracy: 0.5497 - val_loss: 0.6368 - val_accuracy: 0.0000e+00\n",
      "Epoch 148/200\n",
      "156/156 [==============================] - ETA: 0s - loss: 0.6608 - accuracy: 0.5502INFO:tensorflow:Assets written to: /home/paul_d/Sources/sem_math_repo/classification_formulas_binary/wandb/run-20230307_232102-7205up9o/files/model-best/assets\n"
     ]
    },
    {
     "name": "stderr",
     "output_type": "stream",
     "text": [
      "INFO:tensorflow:Assets written to: /home/paul_d/Sources/sem_math_repo/classification_formulas_binary/wandb/run-20230307_232102-7205up9o/files/model-best/assets\n"
     ]
    },
    {
     "name": "stdout",
     "output_type": "stream",
     "text": [
      "156/156 [==============================] - 5s 29ms/step - loss: 0.6608 - accuracy: 0.5502 - val_loss: 0.6116 - val_accuracy: 0.0000e+00\n",
      "Epoch 149/200\n",
      "156/156 [==============================] - 4s 22ms/step - loss: 0.6595 - accuracy: 0.5498 - val_loss: 0.6396 - val_accuracy: 0.0000e+00\n",
      "Epoch 150/200\n",
      "156/156 [==============================] - 3s 21ms/step - loss: 0.6601 - accuracy: 0.5500 - val_loss: 0.6491 - val_accuracy: 0.0000e+00\n",
      "Epoch 151/200\n",
      "156/156 [==============================] - 3s 21ms/step - loss: 0.6602 - accuracy: 0.5499 - val_loss: 0.6516 - val_accuracy: 0.0000e+00\n",
      "Epoch 152/200\n",
      "154/156 [============================>.] - ETA: 0s - loss: 0.6609 - accuracy: 0.5509INFO:tensorflow:Assets written to: /home/paul_d/Sources/sem_math_repo/classification_formulas_binary/wandb/run-20230307_232102-7205up9o/files/model-best/assets\n"
     ]
    },
    {
     "name": "stderr",
     "output_type": "stream",
     "text": [
      "INFO:tensorflow:Assets written to: /home/paul_d/Sources/sem_math_repo/classification_formulas_binary/wandb/run-20230307_232102-7205up9o/files/model-best/assets\n"
     ]
    },
    {
     "name": "stdout",
     "output_type": "stream",
     "text": [
      "156/156 [==============================] - 5s 29ms/step - loss: 0.6609 - accuracy: 0.5499 - val_loss: 0.6072 - val_accuracy: 0.0000e+00\n",
      "Epoch 153/200\n",
      "156/156 [==============================] - 4s 22ms/step - loss: 0.6607 - accuracy: 0.5499 - val_loss: 0.6398 - val_accuracy: 0.0000e+00\n",
      "Epoch 154/200\n",
      "156/156 [==============================] - 3s 21ms/step - loss: 0.6600 - accuracy: 0.5500 - val_loss: 0.6157 - val_accuracy: 0.0000e+00\n",
      "Epoch 155/200\n",
      "156/156 [==============================] - 3s 21ms/step - loss: 0.6611 - accuracy: 0.5499 - val_loss: 0.6210 - val_accuracy: 0.0000e+00\n",
      "Epoch 156/200\n",
      "156/156 [==============================] - 3s 21ms/step - loss: 0.6595 - accuracy: 0.5498 - val_loss: 0.6318 - val_accuracy: 0.0000e+00\n",
      "Epoch 157/200\n",
      "156/156 [==============================] - 3s 21ms/step - loss: 0.6613 - accuracy: 0.5496 - val_loss: 0.6428 - val_accuracy: 0.0000e+00\n",
      "Epoch 158/200\n",
      "156/156 [==============================] - 3s 21ms/step - loss: 0.6606 - accuracy: 0.5498 - val_loss: 0.6267 - val_accuracy: 0.0000e+00\n",
      "Epoch 159/200\n",
      "154/156 [============================>.] - ETA: 0s - loss: 0.6596 - accuracy: 0.5508INFO:tensorflow:Assets written to: /home/paul_d/Sources/sem_math_repo/classification_formulas_binary/wandb/run-20230307_232102-7205up9o/files/model-best/assets\n"
     ]
    },
    {
     "name": "stderr",
     "output_type": "stream",
     "text": [
      "INFO:tensorflow:Assets written to: /home/paul_d/Sources/sem_math_repo/classification_formulas_binary/wandb/run-20230307_232102-7205up9o/files/model-best/assets\n"
     ]
    },
    {
     "name": "stdout",
     "output_type": "stream",
     "text": [
      "156/156 [==============================] - 5s 30ms/step - loss: 0.6599 - accuracy: 0.5503 - val_loss: 0.6031 - val_accuracy: 0.0000e+00\n",
      "Epoch 160/200\n",
      "156/156 [==============================] - 3s 21ms/step - loss: 0.6604 - accuracy: 0.5502 - val_loss: 0.6196 - val_accuracy: 0.0000e+00\n",
      "Epoch 161/200\n",
      "156/156 [==============================] - 3s 21ms/step - loss: 0.6605 - accuracy: 0.5501 - val_loss: 0.6105 - val_accuracy: 0.3688\n",
      "Epoch 162/200\n",
      "156/156 [==============================] - 4s 22ms/step - loss: 0.6601 - accuracy: 0.5498 - val_loss: 0.6588 - val_accuracy: 0.0000e+00\n",
      "Epoch 163/200\n",
      "156/156 [==============================] - 3s 21ms/step - loss: 0.6595 - accuracy: 0.5500 - val_loss: 0.6376 - val_accuracy: 0.0000e+00\n",
      "Epoch 164/200\n",
      "156/156 [==============================] - 3s 21ms/step - loss: 0.6604 - accuracy: 0.5496 - val_loss: 0.6389 - val_accuracy: 0.0000e+00\n",
      "Epoch 165/200\n",
      "156/156 [==============================] - 3s 21ms/step - loss: 0.6610 - accuracy: 0.5496 - val_loss: 0.6339 - val_accuracy: 0.0000e+00\n",
      "Epoch 166/200\n",
      "156/156 [==============================] - 3s 21ms/step - loss: 0.6605 - accuracy: 0.5503 - val_loss: 0.6306 - val_accuracy: 0.0000e+00\n",
      "Epoch 167/200\n",
      "156/156 [==============================] - 3s 21ms/step - loss: 0.6604 - accuracy: 0.5503 - val_loss: 0.6491 - val_accuracy: 0.0000e+00\n",
      "Epoch 168/200\n",
      "156/156 [==============================] - 3s 21ms/step - loss: 0.6608 - accuracy: 0.5503 - val_loss: 0.6142 - val_accuracy: 0.0000e+00\n",
      "Epoch 169/200\n",
      "154/156 [============================>.] - ETA: 0s - loss: 0.6587 - accuracy: 0.5507INFO:tensorflow:Assets written to: /home/paul_d/Sources/sem_math_repo/classification_formulas_binary/wandb/run-20230307_232102-7205up9o/files/model-best/assets\n"
     ]
    },
    {
     "name": "stderr",
     "output_type": "stream",
     "text": [
      "INFO:tensorflow:Assets written to: /home/paul_d/Sources/sem_math_repo/classification_formulas_binary/wandb/run-20230307_232102-7205up9o/files/model-best/assets\n"
     ]
    },
    {
     "name": "stdout",
     "output_type": "stream",
     "text": [
      "156/156 [==============================] - 5s 33ms/step - loss: 0.6588 - accuracy: 0.5501 - val_loss: 0.5882 - val_accuracy: 0.3688\n",
      "Epoch 170/200\n",
      "156/156 [==============================] - 3s 21ms/step - loss: 0.6613 - accuracy: 0.5497 - val_loss: 0.6109 - val_accuracy: 0.0000e+00\n",
      "Epoch 171/200\n",
      "156/156 [==============================] - 3s 21ms/step - loss: 0.6610 - accuracy: 0.5499 - val_loss: 0.6474 - val_accuracy: 0.0000e+00\n",
      "Epoch 172/200\n",
      "156/156 [==============================] - 3s 21ms/step - loss: 0.6606 - accuracy: 0.5502 - val_loss: 0.6406 - val_accuracy: 0.0000e+00\n",
      "Epoch 173/200\n",
      "156/156 [==============================] - 3s 21ms/step - loss: 0.6597 - accuracy: 0.5499 - val_loss: 0.5995 - val_accuracy: 0.3688\n",
      "Epoch 174/200\n",
      "156/156 [==============================] - 3s 21ms/step - loss: 0.6593 - accuracy: 0.5501 - val_loss: 0.6157 - val_accuracy: 0.0000e+00\n",
      "Epoch 175/200\n",
      "156/156 [==============================] - 3s 21ms/step - loss: 0.6599 - accuracy: 0.5499 - val_loss: 0.6416 - val_accuracy: 0.0000e+00\n",
      "Epoch 176/200\n",
      "156/156 [==============================] - 3s 21ms/step - loss: 0.6599 - accuracy: 0.5505 - val_loss: 0.6200 - val_accuracy: 0.0000e+00\n",
      "Epoch 177/200\n",
      "156/156 [==============================] - 3s 21ms/step - loss: 0.6594 - accuracy: 0.5501 - val_loss: 0.6443 - val_accuracy: 0.0000e+00\n",
      "Epoch 178/200\n",
      "156/156 [==============================] - 3s 21ms/step - loss: 0.6603 - accuracy: 0.5499 - val_loss: 0.6367 - val_accuracy: 0.0000e+00\n",
      "Epoch 179/200\n",
      "156/156 [==============================] - 4s 22ms/step - loss: 0.6601 - accuracy: 0.5498 - val_loss: 0.6356 - val_accuracy: 0.0000e+00\n",
      "Epoch 180/200\n",
      "156/156 [==============================] - 3s 21ms/step - loss: 0.6606 - accuracy: 0.5503 - val_loss: 0.6260 - val_accuracy: 0.0000e+00\n",
      "Epoch 181/200\n",
      "156/156 [==============================] - 3s 21ms/step - loss: 0.6602 - accuracy: 0.5497 - val_loss: 0.6175 - val_accuracy: 0.0000e+00\n",
      "Epoch 182/200\n",
      "156/156 [==============================] - 3s 21ms/step - loss: 0.6599 - accuracy: 0.5500 - val_loss: 0.6071 - val_accuracy: 0.0000e+00\n",
      "Epoch 183/200\n",
      "156/156 [==============================] - 3s 21ms/step - loss: 0.6597 - accuracy: 0.5498 - val_loss: 0.6197 - val_accuracy: 0.0000e+00\n",
      "Epoch 184/200\n",
      "156/156 [==============================] - 3s 21ms/step - loss: 0.6603 - accuracy: 0.5502 - val_loss: 0.6637 - val_accuracy: 0.0000e+00\n",
      "Epoch 185/200\n",
      "156/156 [==============================] - 3s 21ms/step - loss: 0.6610 - accuracy: 0.5503 - val_loss: 0.6182 - val_accuracy: 0.0000e+00\n",
      "Epoch 186/200\n",
      "156/156 [==============================] - 4s 22ms/step - loss: 0.6599 - accuracy: 0.5503 - val_loss: 0.5974 - val_accuracy: 0.3688\n",
      "Epoch 187/200\n",
      "156/156 [==============================] - 3s 21ms/step - loss: 0.6611 - accuracy: 0.5502 - val_loss: 0.6039 - val_accuracy: 0.0000e+00\n",
      "Epoch 188/200\n",
      "156/156 [==============================] - 3s 21ms/step - loss: 0.6614 - accuracy: 0.5501 - val_loss: 0.6141 - val_accuracy: 0.0000e+00\n",
      "Epoch 189/200\n",
      "156/156 [==============================] - 3s 21ms/step - loss: 0.6601 - accuracy: 0.5501 - val_loss: 0.6425 - val_accuracy: 0.0000e+00\n",
      "Epoch 190/200\n",
      "156/156 [==============================] - 3s 21ms/step - loss: 0.6606 - accuracy: 0.5502 - val_loss: 0.6264 - val_accuracy: 0.0000e+00\n",
      "Epoch 191/200\n",
      "156/156 [==============================] - 3s 21ms/step - loss: 0.6600 - accuracy: 0.5503 - val_loss: 0.6036 - val_accuracy: 0.3688\n",
      "Epoch 192/200\n",
      "156/156 [==============================] - 3s 22ms/step - loss: 0.6597 - accuracy: 0.5505 - val_loss: 0.6416 - val_accuracy: 0.0000e+00\n",
      "Epoch 193/200\n",
      "156/156 [==============================] - 3s 21ms/step - loss: 0.6607 - accuracy: 0.5498 - val_loss: 0.6010 - val_accuracy: 0.3688\n",
      "Epoch 194/200\n",
      "156/156 [==============================] - 3s 21ms/step - loss: 0.6606 - accuracy: 0.5504 - val_loss: 0.6180 - val_accuracy: 0.0000e+00\n",
      "Epoch 195/200\n",
      "156/156 [==============================] - 3s 21ms/step - loss: 0.6603 - accuracy: 0.5499 - val_loss: 0.5894 - val_accuracy: 0.3688\n",
      "Epoch 196/200\n",
      "156/156 [==============================] - 4s 22ms/step - loss: 0.6603 - accuracy: 0.5500 - val_loss: 0.6267 - val_accuracy: 0.0000e+00\n",
      "Epoch 197/200\n",
      "156/156 [==============================] - 3s 21ms/step - loss: 0.6610 - accuracy: 0.5500 - val_loss: 0.6047 - val_accuracy: 0.0000e+00\n",
      "Epoch 198/200\n",
      "156/156 [==============================] - 3s 21ms/step - loss: 0.6595 - accuracy: 0.5500 - val_loss: 0.6326 - val_accuracy: 0.0000e+00\n",
      "Epoch 199/200\n",
      "156/156 [==============================] - 3s 21ms/step - loss: 0.6605 - accuracy: 0.5500 - val_loss: 0.6203 - val_accuracy: 0.0000e+00\n",
      "Epoch 200/200\n",
      "156/156 [==============================] - 3s 21ms/step - loss: 0.6607 - accuracy: 0.5500 - val_loss: 0.6093 - val_accuracy: 0.0000e+00\n"
     ]
    }
   ],
   "source": [
    "configs_dict = {\n",
    "    \"learning_rate\": LEARNING_RATE,\n",
    "    \"algorithm\": \"LogReg\",\n",
    "    \"configuration\": \"3-tokens-types\",\n",
    "    \"optimizer\": \"adam\",\n",
    "    \"loss\": \"binary_crossentropy\",\n",
    "    \"epochs\": NUM_EPOCHS,\n",
    "    \"batch_size\": 64,\n",
    "    \"vectorizer\": \"bigram_count\",\n",
    "    \"dataset\": \"TOKENIZED_SET_V1\"\n",
    "}\n",
    "run = wandb.init(project=wandb_project_name, reinit=True, config=configs_dict)\n",
    "\n",
    "history = model.fit(train_dataset, \n",
    "                    epochs=NUM_EPOCHS,\n",
    "                    validation_data=test_dataset,\n",
    "                    steps_per_epoch = STEPS_PER_EPOCH,\n",
    "                    validation_steps = VAL_STEPS_PER_EPOCH,\n",
    "                    callbacks= [WandbCallback()])#[tensorboard_callback])\n",
    "run.finish()"
   ]
  },
  {
   "cell_type": "code",
   "execution_count": 49,
   "metadata": {},
   "outputs": [
    {
     "name": "stdout",
     "output_type": "stream",
     "text": [
      "15/15 [==============================] - 0s 4ms/step - loss: 0.6093 - accuracy: 0.0000e+00\n",
      "Test Loss: 0.6092714667320251\n",
      "Test Accuracy: 0.0\n"
     ]
    }
   ],
   "source": [
    "test_loss, test_acc = model.evaluate(test_dataset)\n",
    "\n",
    "print(\"Test Loss:\", test_loss)\n",
    "print(\"Test Accuracy:\", test_acc)"
   ]
  },
  {
   "cell_type": "code",
   "execution_count": 50,
   "metadata": {},
   "outputs": [
    {
     "data": {
      "text/plain": [
       "(0.0, 0.703944393992424)"
      ]
     },
     "execution_count": 50,
     "metadata": {},
     "output_type": "execute_result"
    },
    {
     "data": {
      "image/png": "[encoded data removed]",
      "text/plain": [
       "<Figure size 1600x800 with 2 Axes>"
      ]
     },
     "metadata": {},
     "output_type": "display_data"
    }
   ],
   "source": [
    "plt.figure(figsize=(16,8))\n",
    "plt.subplot(1,2,1)\n",
    "plot_graphs(history, \"accuracy\")\n",
    "plt.ylim(None, 1)\n",
    "plt.subplot(1,2,2)\n",
    "plot_graphs(history, \"loss\")\n",
    "plt.ylim(0, None)"
   ]
  },
  {
   "cell_type": "code",
   "execution_count": 51,
   "metadata": {},
   "outputs": [
    {
     "data": {
      "text/plain": [
       "'\\n# predict on a sample text without padding\\npredictions = model.predict(np.array([sample_text]))\\nprint(predictions[0])\\n'"
      ]
     },
     "execution_count": 51,
     "metadata": {},
     "output_type": "execute_result"
    }
   ],
   "source": [
    "\"\"\"\n",
    "# predict on a sample text without padding\n",
    "predictions = model.predict(np.array([sample_text]))\n",
    "print(predictions[0])\n",
    "\"\"\""
   ]
  },
  {
   "attachments": {},
   "cell_type": "markdown",
   "metadata": {},
   "source": [
    "##### Experiment 5:"
   ]
  },
  {
   "cell_type": "code",
   "execution_count": 52,
   "metadata": {},
   "outputs": [],
   "source": [
    "tokens_input_len = TOKENS_PAD_TO_MAX_TOKENS \n",
    "type_input_len = TYPE_TOKENS_PAD_TO_MAX_TOKENS\n",
    "\n",
    "model_tf_idf = create_model(encoder_tf_idf_tokens, encoder_tf_idf_types,tokens_input_len, type_input_len) # maybe add 30\n",
    "\n",
    "# predict on a sample formula using untrained model\n",
    "#predictions = model_tf_idf.predict(np.array([sample_text]))\n",
    "#print(predictions[0])"
   ]
  },
  {
   "cell_type": "code",
   "execution_count": 53,
   "metadata": {},
   "outputs": [],
   "source": [
    "LEARNING_RATE = 1e-3\n",
    "NUM_EPOCHS = 200\n",
    "sample_text = \"set_constant SET_BASIC\"\n",
    "\n",
    "model_tf_idf.compile(loss=tf.keras.losses.BinaryCrossentropy(from_logits=True),\n",
    "              optimizer=tf.keras.optimizers.Adam(LEARNING_RATE),\n",
    "              metrics=[\"accuracy\"])"
   ]
  },
  {
   "cell_type": "code",
   "execution_count": 54,
   "metadata": {},
   "outputs": [
    {
     "name": "stdout",
     "output_type": "stream",
     "text": [
      "Model: \"model_4\"\n",
      "__________________________________________________________________________________________________\n",
      " Layer (type)                   Output Shape         Param #     Connected to                     \n",
      "==================================================================================================\n",
      " input_9 (InputLayer)           [(None, 1)]          0           []                               \n",
      "                                                                                                  \n",
      " input_10 (InputLayer)          [(None, 1)]          0           []                               \n",
      "                                                                                                  \n",
      " text_vectorization_8 (TextVect  (None, 150)         1           ['input_9[0][0]']                \n",
      " orization)                                                                                       \n",
      "                                                                                                  \n",
      " text_vectorization_9 (TextVect  (None, 100)         1           ['input_10[0][0]']               \n",
      " orization)                                                                                       \n",
      "                                                                                                  \n",
      " concatenate_4 (Concatenate)    (None, 250)          0           ['text_vectorization_8[0][0]',   \n",
      "                                                                  'text_vectorization_9[0][0]']   \n",
      "                                                                                                  \n",
      " embedding_4 (Embedding)        (None, 250, 64)      16064       ['concatenate_4[0][0]']          \n",
      "                                                                                                  \n",
      " dropout_8 (Dropout)            (None, 250, 64)      0           ['embedding_4[0][0]']            \n",
      "                                                                                                  \n",
      " global_max_pooling1d_4 (Global  (None, 64)          0           ['dropout_8[0][0]']              \n",
      " MaxPooling1D)                                                                                    \n",
      "                                                                                                  \n",
      " dropout_9 (Dropout)            (None, 64)           0           ['global_max_pooling1d_4[0][0]'] \n",
      "                                                                                                  \n",
      " dense_4 (Dense)                (None, 1)            65          ['dropout_9[0][0]']              \n",
      "                                                                                                  \n",
      "==================================================================================================\n",
      "Total params: 16,131\n",
      "Trainable params: 16,129\n",
      "Non-trainable params: 2\n",
      "__________________________________________________________________________________________________\n"
     ]
    }
   ],
   "source": [
    "model_tf_idf.summary()"
   ]
  },
  {
   "cell_type": "code",
   "execution_count": 55,
   "metadata": {},
   "outputs": [
    {
     "name": "stdout",
     "output_type": "stream",
     "text": [
      "Epoch 1/200\n",
      "152/156 [============================>.] - ETA: 0s - loss: 0.6848 - accuracy: 0.5505INFO:tensorflow:Assets written to: /home/paul_d/Sources/sem_math_repo/classification_formulas_binary/wandb/run-20230307_233303-ywgmyeyh/files/model-best/assets\n"
     ]
    },
    {
     "name": "stderr",
     "output_type": "stream",
     "text": [
      "INFO:tensorflow:Assets written to: /home/paul_d/Sources/sem_math_repo/classification_formulas_binary/wandb/run-20230307_233303-ywgmyeyh/files/model-best/assets\n"
     ]
    },
    {
     "name": "stdout",
     "output_type": "stream",
     "text": [
      "156/156 [==============================] - 3s 18ms/step - loss: 0.6847 - accuracy: 0.5499 - val_loss: 0.7679 - val_accuracy: 0.0000e+00\n",
      "Epoch 2/200\n",
      "156/156 [==============================] - 1s 8ms/step - loss: 0.6751 - accuracy: 0.5500 - val_loss: 0.7750 - val_accuracy: 0.0000e+00\n",
      "Epoch 3/200\n",
      "153/156 [============================>.] - ETA: 0s - loss: 0.6701 - accuracy: 0.5512INFO:tensorflow:Assets written to: /home/paul_d/Sources/sem_math_repo/classification_formulas_binary/wandb/run-20230307_233303-ywgmyeyh/files/model-best/assets\n"
     ]
    },
    {
     "name": "stderr",
     "output_type": "stream",
     "text": [
      "INFO:tensorflow:Assets written to: /home/paul_d/Sources/sem_math_repo/classification_formulas_binary/wandb/run-20230307_233303-ywgmyeyh/files/model-best/assets\n"
     ]
    },
    {
     "name": "stdout",
     "output_type": "stream",
     "text": [
      "156/156 [==============================] - 3s 16ms/step - loss: 0.6703 - accuracy: 0.5501 - val_loss: 0.7558 - val_accuracy: 0.0000e+00\n",
      "Epoch 4/200\n",
      "151/156 [============================>.] - ETA: 0s - loss: 0.6672 - accuracy: 0.5502INFO:tensorflow:Assets written to: /home/paul_d/Sources/sem_math_repo/classification_formulas_binary/wandb/run-20230307_233303-ywgmyeyh/files/model-best/assets\n"
     ]
    },
    {
     "name": "stderr",
     "output_type": "stream",
     "text": [
      "INFO:tensorflow:Assets written to: /home/paul_d/Sources/sem_math_repo/classification_formulas_binary/wandb/run-20230307_233303-ywgmyeyh/files/model-best/assets\n"
     ]
    },
    {
     "name": "stdout",
     "output_type": "stream",
     "text": [
      "156/156 [==============================] - 3s 19ms/step - loss: 0.6669 - accuracy: 0.5502 - val_loss: 0.7523 - val_accuracy: 0.0000e+00\n",
      "Epoch 5/200\n",
      "153/156 [============================>.] - ETA: 0s - loss: 0.6666 - accuracy: 0.5516INFO:tensorflow:Assets written to: /home/paul_d/Sources/sem_math_repo/classification_formulas_binary/wandb/run-20230307_233303-ywgmyeyh/files/model-best/assets\n"
     ]
    },
    {
     "name": "stderr",
     "output_type": "stream",
     "text": [
      "INFO:tensorflow:Assets written to: /home/paul_d/Sources/sem_math_repo/classification_formulas_binary/wandb/run-20230307_233303-ywgmyeyh/files/model-best/assets\n"
     ]
    },
    {
     "name": "stdout",
     "output_type": "stream",
     "text": [
      "156/156 [==============================] - 3s 17ms/step - loss: 0.6664 - accuracy: 0.5513 - val_loss: 0.7463 - val_accuracy: 0.0000e+00\n",
      "Epoch 6/200\n",
      "156/156 [==============================] - 1s 8ms/step - loss: 0.6630 - accuracy: 0.5534 - val_loss: 0.7622 - val_accuracy: 0.0000e+00\n",
      "Epoch 7/200\n",
      "156/156 [==============================] - 1s 8ms/step - loss: 0.6641 - accuracy: 0.5550 - val_loss: 0.7780 - val_accuracy: 0.0000e+00\n",
      "Epoch 8/200\n",
      "156/156 [==============================] - 1s 8ms/step - loss: 0.6629 - accuracy: 0.5579 - val_loss: 0.7612 - val_accuracy: 0.0000e+00\n",
      "Epoch 9/200\n",
      "154/156 [============================>.] - ETA: 0s - loss: 0.6623 - accuracy: 0.5582INFO:tensorflow:Assets written to: /home/paul_d/Sources/sem_math_repo/classification_formulas_binary/wandb/run-20230307_233303-ywgmyeyh/files/model-best/assets\n"
     ]
    },
    {
     "name": "stderr",
     "output_type": "stream",
     "text": [
      "INFO:tensorflow:Assets written to: /home/paul_d/Sources/sem_math_repo/classification_formulas_binary/wandb/run-20230307_233303-ywgmyeyh/files/model-best/assets\n"
     ]
    },
    {
     "name": "stdout",
     "output_type": "stream",
     "text": [
      "156/156 [==============================] - 3s 16ms/step - loss: 0.6623 - accuracy: 0.5575 - val_loss: 0.7337 - val_accuracy: 0.0063\n",
      "Epoch 10/200\n",
      "156/156 [==============================] - 1s 8ms/step - loss: 0.6633 - accuracy: 0.5592 - val_loss: 0.7579 - val_accuracy: 0.0052\n",
      "Epoch 11/200\n",
      "156/156 [==============================] - 1s 8ms/step - loss: 0.6626 - accuracy: 0.5594 - val_loss: 0.7345 - val_accuracy: 0.0063\n",
      "Epoch 12/200\n",
      "150/156 [===========================>..] - ETA: 0s - loss: 0.6611 - accuracy: 0.5610INFO:tensorflow:Assets written to: /home/paul_d/Sources/sem_math_repo/classification_formulas_binary/wandb/run-20230307_233303-ywgmyeyh/files/model-best/assets\n"
     ]
    },
    {
     "name": "stderr",
     "output_type": "stream",
     "text": [
      "INFO:tensorflow:Assets written to: /home/paul_d/Sources/sem_math_repo/classification_formulas_binary/wandb/run-20230307_233303-ywgmyeyh/files/model-best/assets\n"
     ]
    },
    {
     "name": "stdout",
     "output_type": "stream",
     "text": [
      "156/156 [==============================] - 3s 17ms/step - loss: 0.6607 - accuracy: 0.5606 - val_loss: 0.7179 - val_accuracy: 0.0406\n",
      "Epoch 13/200\n",
      "156/156 [==============================] - 1s 8ms/step - loss: 0.6624 - accuracy: 0.5612 - val_loss: 0.7264 - val_accuracy: 0.0115\n",
      "Epoch 14/200\n",
      "156/156 [==============================] - 1s 8ms/step - loss: 0.6617 - accuracy: 0.5618 - val_loss: 0.7295 - val_accuracy: 0.0115\n",
      "Epoch 15/200\n",
      "156/156 [==============================] - 1s 8ms/step - loss: 0.6611 - accuracy: 0.5637 - val_loss: 0.7676 - val_accuracy: 0.0052\n",
      "Epoch 16/200\n",
      "156/156 [==============================] - 1s 8ms/step - loss: 0.6610 - accuracy: 0.5619 - val_loss: 0.7501 - val_accuracy: 0.0073\n",
      "Epoch 17/200\n",
      "156/156 [==============================] - 1s 8ms/step - loss: 0.6612 - accuracy: 0.5620 - val_loss: 0.7796 - val_accuracy: 0.0052\n",
      "Epoch 18/200\n",
      "156/156 [==============================] - 1s 8ms/step - loss: 0.6636 - accuracy: 0.5620 - val_loss: 0.7413 - val_accuracy: 0.0167\n",
      "Epoch 19/200\n",
      "156/156 [==============================] - 1s 8ms/step - loss: 0.6630 - accuracy: 0.5625 - val_loss: 0.7450 - val_accuracy: 0.0125\n",
      "Epoch 20/200\n",
      "156/156 [==============================] - 1s 8ms/step - loss: 0.6614 - accuracy: 0.5631 - val_loss: 0.7518 - val_accuracy: 0.0125\n",
      "Epoch 21/200\n",
      "156/156 [==============================] - 1s 8ms/step - loss: 0.6626 - accuracy: 0.5614 - val_loss: 0.7632 - val_accuracy: 0.0073\n",
      "Epoch 22/200\n",
      "156/156 [==============================] - 1s 8ms/step - loss: 0.6594 - accuracy: 0.5622 - val_loss: 0.7479 - val_accuracy: 0.0167\n",
      "Epoch 23/200\n",
      "156/156 [==============================] - 1s 8ms/step - loss: 0.6614 - accuracy: 0.5625 - val_loss: 0.7398 - val_accuracy: 0.0167\n",
      "Epoch 24/200\n",
      "156/156 [==============================] - 1s 8ms/step - loss: 0.6596 - accuracy: 0.5641 - val_loss: 0.7339 - val_accuracy: 0.0448\n",
      "Epoch 25/200\n",
      "156/156 [==============================] - 1s 8ms/step - loss: 0.6606 - accuracy: 0.5655 - val_loss: 0.7611 - val_accuracy: 0.0083\n",
      "Epoch 26/200\n",
      "156/156 [==============================] - 1s 8ms/step - loss: 0.6608 - accuracy: 0.5640 - val_loss: 0.7297 - val_accuracy: 0.0448\n",
      "Epoch 27/200\n",
      "156/156 [==============================] - 1s 8ms/step - loss: 0.6606 - accuracy: 0.5675 - val_loss: 0.7575 - val_accuracy: 0.0083\n",
      "Epoch 28/200\n",
      "156/156 [==============================] - 1s 8ms/step - loss: 0.6603 - accuracy: 0.5643 - val_loss: 0.7366 - val_accuracy: 0.0448\n",
      "Epoch 29/200\n",
      "151/156 [============================>.] - ETA: 0s - loss: 0.6587 - accuracy: 0.5667INFO:tensorflow:Assets written to: /home/paul_d/Sources/sem_math_repo/classification_formulas_binary/wandb/run-20230307_233303-ywgmyeyh/files/model-best/assets\n"
     ]
    },
    {
     "name": "stderr",
     "output_type": "stream",
     "text": [
      "INFO:tensorflow:Assets written to: /home/paul_d/Sources/sem_math_repo/classification_formulas_binary/wandb/run-20230307_233303-ywgmyeyh/files/model-best/assets\n"
     ]
    },
    {
     "name": "stdout",
     "output_type": "stream",
     "text": [
      "156/156 [==============================] - 3s 19ms/step - loss: 0.6593 - accuracy: 0.5666 - val_loss: 0.7173 - val_accuracy: 0.0458\n",
      "Epoch 30/200\n",
      "156/156 [==============================] - 1s 8ms/step - loss: 0.6611 - accuracy: 0.5665 - val_loss: 0.7532 - val_accuracy: 0.0167\n",
      "Epoch 31/200\n",
      "156/156 [==============================] - 1s 8ms/step - loss: 0.6599 - accuracy: 0.5651 - val_loss: 0.7610 - val_accuracy: 0.0125\n",
      "Epoch 32/200\n",
      "156/156 [==============================] - 1s 8ms/step - loss: 0.6601 - accuracy: 0.5627 - val_loss: 0.7515 - val_accuracy: 0.0167\n",
      "Epoch 33/200\n",
      "156/156 [==============================] - 1s 8ms/step - loss: 0.6602 - accuracy: 0.5640 - val_loss: 0.7427 - val_accuracy: 0.0167\n",
      "Epoch 34/200\n",
      "150/156 [===========================>..] - ETA: 0s - loss: 0.6600 - accuracy: 0.5669INFO:tensorflow:Assets written to: /home/paul_d/Sources/sem_math_repo/classification_formulas_binary/wandb/run-20230307_233303-ywgmyeyh/files/model-best/assets\n"
     ]
    },
    {
     "name": "stderr",
     "output_type": "stream",
     "text": [
      "INFO:tensorflow:Assets written to: /home/paul_d/Sources/sem_math_repo/classification_formulas_binary/wandb/run-20230307_233303-ywgmyeyh/files/model-best/assets\n"
     ]
    },
    {
     "name": "stdout",
     "output_type": "stream",
     "text": [
      "156/156 [==============================] - 3s 17ms/step - loss: 0.6595 - accuracy: 0.5677 - val_loss: 0.7161 - val_accuracy: 0.0458\n",
      "Epoch 35/200\n",
      "156/156 [==============================] - 1s 8ms/step - loss: 0.6622 - accuracy: 0.5650 - val_loss: 0.7523 - val_accuracy: 0.0167\n",
      "Epoch 36/200\n",
      "156/156 [==============================] - 1s 8ms/step - loss: 0.6614 - accuracy: 0.5625 - val_loss: 0.7551 - val_accuracy: 0.0125\n",
      "Epoch 37/200\n",
      "156/156 [==============================] - 1s 8ms/step - loss: 0.6606 - accuracy: 0.5642 - val_loss: 0.7379 - val_accuracy: 0.0167\n",
      "Epoch 38/200\n",
      "156/156 [==============================] - 1s 8ms/step - loss: 0.6601 - accuracy: 0.5655 - val_loss: 0.7415 - val_accuracy: 0.0167\n",
      "Epoch 39/200\n",
      "155/156 [============================>.] - ETA: 0s - loss: 0.6599 - accuracy: 0.5644INFO:tensorflow:Assets written to: /home/paul_d/Sources/sem_math_repo/classification_formulas_binary/wandb/run-20230307_233303-ywgmyeyh/files/model-best/assets\n"
     ]
    },
    {
     "name": "stderr",
     "output_type": "stream",
     "text": [
      "INFO:tensorflow:Assets written to: /home/paul_d/Sources/sem_math_repo/classification_formulas_binary/wandb/run-20230307_233303-ywgmyeyh/files/model-best/assets\n"
     ]
    },
    {
     "name": "stdout",
     "output_type": "stream",
     "text": [
      "156/156 [==============================] - 3s 17ms/step - loss: 0.6597 - accuracy: 0.5649 - val_loss: 0.7146 - val_accuracy: 0.0458\n",
      "Epoch 40/200\n",
      "156/156 [==============================] - 1s 8ms/step - loss: 0.6586 - accuracy: 0.5660 - val_loss: 0.7342 - val_accuracy: 0.0448\n",
      "Epoch 41/200\n",
      "156/156 [==============================] - 1s 8ms/step - loss: 0.6615 - accuracy: 0.5676 - val_loss: 0.7386 - val_accuracy: 0.0448\n",
      "Epoch 42/200\n",
      "156/156 [==============================] - 1s 8ms/step - loss: 0.6600 - accuracy: 0.5660 - val_loss: 0.7381 - val_accuracy: 0.0167\n",
      "Epoch 43/200\n",
      "156/156 [==============================] - 1s 8ms/step - loss: 0.6579 - accuracy: 0.5672 - val_loss: 0.7227 - val_accuracy: 0.0458\n",
      "Epoch 44/200\n",
      "153/156 [============================>.] - ETA: 0s - loss: 0.6590 - accuracy: 0.5653INFO:tensorflow:Assets written to: /home/paul_d/Sources/sem_math_repo/classification_formulas_binary/wandb/run-20230307_233303-ywgmyeyh/files/model-best/assets\n"
     ]
    },
    {
     "name": "stderr",
     "output_type": "stream",
     "text": [
      "INFO:tensorflow:Assets written to: /home/paul_d/Sources/sem_math_repo/classification_formulas_binary/wandb/run-20230307_233303-ywgmyeyh/files/model-best/assets\n"
     ]
    },
    {
     "name": "stdout",
     "output_type": "stream",
     "text": [
      "156/156 [==============================] - 3s 19ms/step - loss: 0.6597 - accuracy: 0.5642 - val_loss: 0.7143 - val_accuracy: 0.0458\n",
      "Epoch 45/200\n",
      "156/156 [==============================] - 1s 8ms/step - loss: 0.6599 - accuracy: 0.5677 - val_loss: 0.7243 - val_accuracy: 0.0458\n",
      "Epoch 46/200\n",
      "156/156 [==============================] - 1s 8ms/step - loss: 0.6595 - accuracy: 0.5658 - val_loss: 0.7230 - val_accuracy: 0.0458\n",
      "Epoch 47/200\n",
      "156/156 [==============================] - 1s 8ms/step - loss: 0.6609 - accuracy: 0.5673 - val_loss: 0.7344 - val_accuracy: 0.0448\n",
      "Epoch 48/200\n",
      "155/156 [============================>.] - ETA: 0s - loss: 0.6609 - accuracy: 0.5667INFO:tensorflow:Assets written to: /home/paul_d/Sources/sem_math_repo/classification_formulas_binary/wandb/run-20230307_233303-ywgmyeyh/files/model-best/assets\n"
     ]
    },
    {
     "name": "stderr",
     "output_type": "stream",
     "text": [
      "INFO:tensorflow:Assets written to: /home/paul_d/Sources/sem_math_repo/classification_formulas_binary/wandb/run-20230307_233303-ywgmyeyh/files/model-best/assets\n"
     ]
    },
    {
     "name": "stdout",
     "output_type": "stream",
     "text": [
      "156/156 [==============================] - 3s 17ms/step - loss: 0.6607 - accuracy: 0.5670 - val_loss: 0.7119 - val_accuracy: 0.0458\n",
      "Epoch 49/200\n",
      "156/156 [==============================] - 1s 8ms/step - loss: 0.6610 - accuracy: 0.5667 - val_loss: 0.7518 - val_accuracy: 0.0167\n",
      "Epoch 50/200\n",
      "156/156 [==============================] - 1s 8ms/step - loss: 0.6608 - accuracy: 0.5664 - val_loss: 0.7437 - val_accuracy: 0.0448\n",
      "Epoch 51/200\n",
      "156/156 [==============================] - 1s 8ms/step - loss: 0.6608 - accuracy: 0.5655 - val_loss: 0.7293 - val_accuracy: 0.0448\n",
      "Epoch 52/200\n",
      "156/156 [==============================] - 1s 8ms/step - loss: 0.6598 - accuracy: 0.5661 - val_loss: 0.7325 - val_accuracy: 0.0448\n",
      "Epoch 53/200\n",
      "156/156 [==============================] - 1s 8ms/step - loss: 0.6610 - accuracy: 0.5649 - val_loss: 0.7353 - val_accuracy: 0.0448\n",
      "Epoch 54/200\n",
      "156/156 [==============================] - 1s 8ms/step - loss: 0.6589 - accuracy: 0.5670 - val_loss: 0.7180 - val_accuracy: 0.0448\n",
      "Epoch 55/200\n",
      "156/156 [==============================] - 1s 8ms/step - loss: 0.6605 - accuracy: 0.5655 - val_loss: 0.7283 - val_accuracy: 0.0448\n",
      "Epoch 56/200\n",
      "156/156 [==============================] - 1s 8ms/step - loss: 0.6581 - accuracy: 0.5663 - val_loss: 0.7457 - val_accuracy: 0.0167\n",
      "Epoch 57/200\n",
      "156/156 [==============================] - 1s 8ms/step - loss: 0.6613 - accuracy: 0.5654 - val_loss: 0.7263 - val_accuracy: 0.0448\n",
      "Epoch 58/200\n",
      "156/156 [==============================] - 1s 8ms/step - loss: 0.6594 - accuracy: 0.5662 - val_loss: 0.7217 - val_accuracy: 0.0458\n",
      "Epoch 59/200\n",
      "156/156 [==============================] - 1s 8ms/step - loss: 0.6593 - accuracy: 0.5638 - val_loss: 0.7211 - val_accuracy: 0.0458\n",
      "Epoch 60/200\n",
      "156/156 [==============================] - 1s 8ms/step - loss: 0.6596 - accuracy: 0.5650 - val_loss: 0.7306 - val_accuracy: 0.0448\n",
      "Epoch 61/200\n",
      "151/156 [============================>.] - ETA: 0s - loss: 0.6602 - accuracy: 0.5653INFO:tensorflow:Assets written to: /home/paul_d/Sources/sem_math_repo/classification_formulas_binary/wandb/run-20230307_233303-ywgmyeyh/files/model-best/assets\n"
     ]
    },
    {
     "name": "stderr",
     "output_type": "stream",
     "text": [
      "INFO:tensorflow:Assets written to: /home/paul_d/Sources/sem_math_repo/classification_formulas_binary/wandb/run-20230307_233303-ywgmyeyh/files/model-best/assets\n"
     ]
    },
    {
     "name": "stdout",
     "output_type": "stream",
     "text": [
      "156/156 [==============================] - 3s 16ms/step - loss: 0.6603 - accuracy: 0.5652 - val_loss: 0.7113 - val_accuracy: 0.0458\n",
      "Epoch 62/200\n",
      "156/156 [==============================] - 1s 8ms/step - loss: 0.6615 - accuracy: 0.5636 - val_loss: 0.7275 - val_accuracy: 0.0448\n",
      "Epoch 63/200\n",
      "156/156 [==============================] - 1s 8ms/step - loss: 0.6592 - accuracy: 0.5671 - val_loss: 0.7277 - val_accuracy: 0.0167\n",
      "Epoch 64/200\n",
      "156/156 [==============================] - 1s 8ms/step - loss: 0.6599 - accuracy: 0.5658 - val_loss: 0.7382 - val_accuracy: 0.0167\n",
      "Epoch 65/200\n",
      "156/156 [==============================] - 1s 8ms/step - loss: 0.6599 - accuracy: 0.5658 - val_loss: 0.7349 - val_accuracy: 0.0448\n",
      "Epoch 66/200\n",
      "156/156 [==============================] - 1s 8ms/step - loss: 0.6598 - accuracy: 0.5680 - val_loss: 0.7397 - val_accuracy: 0.0448\n",
      "Epoch 67/200\n",
      "156/156 [==============================] - 1s 8ms/step - loss: 0.6604 - accuracy: 0.5666 - val_loss: 0.7245 - val_accuracy: 0.0458\n",
      "Epoch 68/200\n",
      "156/156 [==============================] - 1s 8ms/step - loss: 0.6615 - accuracy: 0.5651 - val_loss: 0.7501 - val_accuracy: 0.0167\n",
      "Epoch 69/200\n",
      "156/156 [==============================] - 1s 8ms/step - loss: 0.6595 - accuracy: 0.5644 - val_loss: 0.7385 - val_accuracy: 0.0167\n",
      "Epoch 70/200\n",
      "156/156 [==============================] - 1s 8ms/step - loss: 0.6596 - accuracy: 0.5688 - val_loss: 0.7443 - val_accuracy: 0.0167\n",
      "Epoch 71/200\n",
      "156/156 [==============================] - 1s 8ms/step - loss: 0.6591 - accuracy: 0.5667 - val_loss: 0.7224 - val_accuracy: 0.0458\n",
      "Epoch 72/200\n",
      "156/156 [==============================] - 1s 8ms/step - loss: 0.6599 - accuracy: 0.5665 - val_loss: 0.7262 - val_accuracy: 0.0458\n",
      "Epoch 73/200\n",
      "156/156 [==============================] - 1s 8ms/step - loss: 0.6614 - accuracy: 0.5645 - val_loss: 0.7281 - val_accuracy: 0.0458\n",
      "Epoch 74/200\n",
      "156/156 [==============================] - 1s 8ms/step - loss: 0.6584 - accuracy: 0.5692 - val_loss: 0.7209 - val_accuracy: 0.0458\n",
      "Epoch 75/200\n",
      "156/156 [==============================] - 1s 8ms/step - loss: 0.6579 - accuracy: 0.5688 - val_loss: 0.7349 - val_accuracy: 0.0448\n",
      "Epoch 76/200\n",
      "156/156 [==============================] - 1s 8ms/step - loss: 0.6586 - accuracy: 0.5694 - val_loss: 0.7506 - val_accuracy: 0.0167\n",
      "Epoch 77/200\n",
      "156/156 [==============================] - 1s 8ms/step - loss: 0.6617 - accuracy: 0.5636 - val_loss: 0.7254 - val_accuracy: 0.0458\n",
      "Epoch 78/200\n",
      "156/156 [==============================] - 1s 8ms/step - loss: 0.6586 - accuracy: 0.5709 - val_loss: 0.7607 - val_accuracy: 0.0167\n",
      "Epoch 79/200\n",
      "156/156 [==============================] - 1s 8ms/step - loss: 0.6593 - accuracy: 0.5669 - val_loss: 0.7268 - val_accuracy: 0.0458\n",
      "Epoch 80/200\n",
      "156/156 [==============================] - 1s 8ms/step - loss: 0.6606 - accuracy: 0.5682 - val_loss: 0.7180 - val_accuracy: 0.0458\n",
      "Epoch 81/200\n",
      "156/156 [==============================] - 1s 8ms/step - loss: 0.6595 - accuracy: 0.5684 - val_loss: 0.7300 - val_accuracy: 0.0448\n",
      "Epoch 82/200\n",
      "156/156 [==============================] - 1s 8ms/step - loss: 0.6600 - accuracy: 0.5670 - val_loss: 0.7380 - val_accuracy: 0.0448\n",
      "Epoch 83/200\n",
      "156/156 [==============================] - 1s 8ms/step - loss: 0.6597 - accuracy: 0.5642 - val_loss: 0.7292 - val_accuracy: 0.0458\n",
      "Epoch 84/200\n",
      "156/156 [==============================] - 1s 8ms/step - loss: 0.6592 - accuracy: 0.5657 - val_loss: 0.7348 - val_accuracy: 0.0448\n",
      "Epoch 85/200\n",
      "156/156 [==============================] - 1s 8ms/step - loss: 0.6593 - accuracy: 0.5663 - val_loss: 0.7339 - val_accuracy: 0.0177\n",
      "Epoch 86/200\n",
      "151/156 [============================>.] - ETA: 0s - loss: 0.6594 - accuracy: 0.5667INFO:tensorflow:Assets written to: /home/paul_d/Sources/sem_math_repo/classification_formulas_binary/wandb/run-20230307_233303-ywgmyeyh/files/model-best/assets\n"
     ]
    },
    {
     "name": "stderr",
     "output_type": "stream",
     "text": [
      "INFO:tensorflow:Assets written to: /home/paul_d/Sources/sem_math_repo/classification_formulas_binary/wandb/run-20230307_233303-ywgmyeyh/files/model-best/assets\n"
     ]
    },
    {
     "name": "stdout",
     "output_type": "stream",
     "text": [
      "156/156 [==============================] - 3s 16ms/step - loss: 0.6592 - accuracy: 0.5673 - val_loss: 0.7085 - val_accuracy: 0.0490\n",
      "Epoch 87/200\n",
      "156/156 [==============================] - 1s 8ms/step - loss: 0.6601 - accuracy: 0.5653 - val_loss: 0.7355 - val_accuracy: 0.0177\n",
      "Epoch 88/200\n",
      "156/156 [==============================] - 1s 8ms/step - loss: 0.6588 - accuracy: 0.5673 - val_loss: 0.7320 - val_accuracy: 0.0177\n",
      "Epoch 89/200\n",
      "156/156 [==============================] - 1s 8ms/step - loss: 0.6588 - accuracy: 0.5672 - val_loss: 0.7173 - val_accuracy: 0.0500\n",
      "Epoch 90/200\n",
      "156/156 [==============================] - 1s 8ms/step - loss: 0.6594 - accuracy: 0.5702 - val_loss: 0.7342 - val_accuracy: 0.0219\n",
      "Epoch 91/200\n",
      "156/156 [==============================] - 1s 8ms/step - loss: 0.6599 - accuracy: 0.5645 - val_loss: 0.7098 - val_accuracy: 0.0500\n",
      "Epoch 92/200\n",
      "156/156 [==============================] - 1s 8ms/step - loss: 0.6601 - accuracy: 0.5670 - val_loss: 0.7361 - val_accuracy: 0.0458\n",
      "Epoch 93/200\n",
      "156/156 [==============================] - 1s 8ms/step - loss: 0.6592 - accuracy: 0.5673 - val_loss: 0.7459 - val_accuracy: 0.0177\n",
      "Epoch 94/200\n",
      "156/156 [==============================] - 1s 8ms/step - loss: 0.6610 - accuracy: 0.5627 - val_loss: 0.7213 - val_accuracy: 0.0500\n",
      "Epoch 95/200\n",
      "156/156 [==============================] - 1s 8ms/step - loss: 0.6602 - accuracy: 0.5667 - val_loss: 0.7310 - val_accuracy: 0.0458\n",
      "Epoch 96/200\n",
      "155/156 [============================>.] - ETA: 0s - loss: 0.6581 - accuracy: 0.5665INFO:tensorflow:Assets written to: /home/paul_d/Sources/sem_math_repo/classification_formulas_binary/wandb/run-20230307_233303-ywgmyeyh/files/model-best/assets\n"
     ]
    },
    {
     "name": "stderr",
     "output_type": "stream",
     "text": [
      "INFO:tensorflow:Assets written to: /home/paul_d/Sources/sem_math_repo/classification_formulas_binary/wandb/run-20230307_233303-ywgmyeyh/files/model-best/assets\n"
     ]
    },
    {
     "name": "stdout",
     "output_type": "stream",
     "text": [
      "156/156 [==============================] - 3s 19ms/step - loss: 0.6584 - accuracy: 0.5656 - val_loss: 0.6957 - val_accuracy: 0.0583\n",
      "Epoch 97/200\n",
      "156/156 [==============================] - 1s 8ms/step - loss: 0.6593 - accuracy: 0.5674 - val_loss: 0.7018 - val_accuracy: 0.0531\n",
      "Epoch 98/200\n",
      "156/156 [==============================] - 1s 8ms/step - loss: 0.6584 - accuracy: 0.5662 - val_loss: 0.7542 - val_accuracy: 0.0167\n",
      "Epoch 99/200\n",
      "156/156 [==============================] - 1s 8ms/step - loss: 0.6592 - accuracy: 0.5654 - val_loss: 0.7497 - val_accuracy: 0.0167\n",
      "Epoch 100/200\n",
      "156/156 [==============================] - 1s 8ms/step - loss: 0.6600 - accuracy: 0.5648 - val_loss: 0.7477 - val_accuracy: 0.0167\n",
      "Epoch 101/200\n",
      "156/156 [==============================] - 1s 8ms/step - loss: 0.6589 - accuracy: 0.5650 - val_loss: 0.7117 - val_accuracy: 0.0562\n",
      "Epoch 102/200\n",
      "156/156 [==============================] - 1s 8ms/step - loss: 0.6610 - accuracy: 0.5656 - val_loss: 0.7462 - val_accuracy: 0.0167\n",
      "Epoch 103/200\n",
      "156/156 [==============================] - 1s 8ms/step - loss: 0.6587 - accuracy: 0.5672 - val_loss: 0.7584 - val_accuracy: 0.0167\n",
      "Epoch 104/200\n",
      "156/156 [==============================] - 1s 8ms/step - loss: 0.6589 - accuracy: 0.5680 - val_loss: 0.7350 - val_accuracy: 0.0458\n",
      "Epoch 105/200\n",
      "156/156 [==============================] - 1s 8ms/step - loss: 0.6605 - accuracy: 0.5632 - val_loss: 0.7237 - val_accuracy: 0.0458\n",
      "Epoch 106/200\n",
      "156/156 [==============================] - 1s 8ms/step - loss: 0.6587 - accuracy: 0.5666 - val_loss: 0.7099 - val_accuracy: 0.0510\n",
      "Epoch 107/200\n",
      "156/156 [==============================] - 1s 8ms/step - loss: 0.6604 - accuracy: 0.5695 - val_loss: 0.7218 - val_accuracy: 0.0458\n",
      "Epoch 108/200\n",
      "156/156 [==============================] - 1s 8ms/step - loss: 0.6583 - accuracy: 0.5664 - val_loss: 0.7455 - val_accuracy: 0.0167\n",
      "Epoch 109/200\n",
      "156/156 [==============================] - 1s 8ms/step - loss: 0.6611 - accuracy: 0.5663 - val_loss: 0.7229 - val_accuracy: 0.0458\n",
      "Epoch 110/200\n",
      "156/156 [==============================] - 1s 8ms/step - loss: 0.6608 - accuracy: 0.5640 - val_loss: 0.7438 - val_accuracy: 0.0167\n",
      "Epoch 111/200\n",
      "156/156 [==============================] - 1s 8ms/step - loss: 0.6606 - accuracy: 0.5673 - val_loss: 0.7125 - val_accuracy: 0.0500\n",
      "Epoch 112/200\n",
      "156/156 [==============================] - 1s 8ms/step - loss: 0.6592 - accuracy: 0.5639 - val_loss: 0.7166 - val_accuracy: 0.0490\n",
      "Epoch 113/200\n",
      "156/156 [==============================] - 1s 8ms/step - loss: 0.6605 - accuracy: 0.5669 - val_loss: 0.7201 - val_accuracy: 0.0500\n",
      "Epoch 114/200\n",
      "156/156 [==============================] - 1s 8ms/step - loss: 0.6594 - accuracy: 0.5648 - val_loss: 0.7236 - val_accuracy: 0.0458\n",
      "Epoch 115/200\n",
      "156/156 [==============================] - 1s 8ms/step - loss: 0.6580 - accuracy: 0.5654 - val_loss: 0.7241 - val_accuracy: 0.0458\n",
      "Epoch 116/200\n",
      "156/156 [==============================] - 1s 8ms/step - loss: 0.6601 - accuracy: 0.5663 - val_loss: 0.7200 - val_accuracy: 0.0458\n",
      "Epoch 117/200\n",
      "156/156 [==============================] - 1s 8ms/step - loss: 0.6588 - accuracy: 0.5700 - val_loss: 0.7518 - val_accuracy: 0.0167\n",
      "Epoch 118/200\n",
      "156/156 [==============================] - 1s 8ms/step - loss: 0.6578 - accuracy: 0.5698 - val_loss: 0.7337 - val_accuracy: 0.0458\n",
      "Epoch 119/200\n",
      "156/156 [==============================] - 1s 8ms/step - loss: 0.6588 - accuracy: 0.5671 - val_loss: 0.7099 - val_accuracy: 0.0552\n",
      "Epoch 120/200\n",
      "156/156 [==============================] - 1s 8ms/step - loss: 0.6584 - accuracy: 0.5661 - val_loss: 0.7369 - val_accuracy: 0.0458\n",
      "Epoch 121/200\n",
      "156/156 [==============================] - 1s 8ms/step - loss: 0.6603 - accuracy: 0.5663 - val_loss: 0.7276 - val_accuracy: 0.0458\n",
      "Epoch 122/200\n",
      "156/156 [==============================] - 1s 8ms/step - loss: 0.6589 - accuracy: 0.5681 - val_loss: 0.7203 - val_accuracy: 0.0500\n",
      "Epoch 123/200\n",
      "156/156 [==============================] - 1s 8ms/step - loss: 0.6593 - accuracy: 0.5656 - val_loss: 0.7355 - val_accuracy: 0.0177\n",
      "Epoch 124/200\n",
      "156/156 [==============================] - 1s 8ms/step - loss: 0.6601 - accuracy: 0.5662 - val_loss: 0.7332 - val_accuracy: 0.0458\n",
      "Epoch 125/200\n",
      "156/156 [==============================] - 1s 8ms/step - loss: 0.6592 - accuracy: 0.5648 - val_loss: 0.7346 - val_accuracy: 0.0448\n",
      "Epoch 126/200\n",
      "156/156 [==============================] - 1s 8ms/step - loss: 0.6597 - accuracy: 0.5677 - val_loss: 0.7330 - val_accuracy: 0.0448\n",
      "Epoch 127/200\n",
      "156/156 [==============================] - 1s 8ms/step - loss: 0.6598 - accuracy: 0.5666 - val_loss: 0.7565 - val_accuracy: 0.0167\n",
      "Epoch 128/200\n",
      "156/156 [==============================] - 1s 8ms/step - loss: 0.6591 - accuracy: 0.5649 - val_loss: 0.7247 - val_accuracy: 0.0458\n",
      "Epoch 129/200\n",
      "156/156 [==============================] - 1s 8ms/step - loss: 0.6595 - accuracy: 0.5687 - val_loss: 0.7296 - val_accuracy: 0.0500\n",
      "Epoch 130/200\n",
      "156/156 [==============================] - 1s 8ms/step - loss: 0.6599 - accuracy: 0.5669 - val_loss: 0.7269 - val_accuracy: 0.0458\n",
      "Epoch 131/200\n",
      "156/156 [==============================] - 1s 8ms/step - loss: 0.6596 - accuracy: 0.5694 - val_loss: 0.7567 - val_accuracy: 0.0167\n",
      "Epoch 132/200\n",
      "156/156 [==============================] - 1s 8ms/step - loss: 0.6584 - accuracy: 0.5660 - val_loss: 0.7077 - val_accuracy: 0.0552\n",
      "Epoch 133/200\n",
      "156/156 [==============================] - 1s 8ms/step - loss: 0.6595 - accuracy: 0.5672 - val_loss: 0.7288 - val_accuracy: 0.0500\n",
      "Epoch 134/200\n",
      "156/156 [==============================] - 1s 8ms/step - loss: 0.6576 - accuracy: 0.5697 - val_loss: 0.7360 - val_accuracy: 0.0458\n",
      "Epoch 135/200\n",
      "156/156 [==============================] - 1s 8ms/step - loss: 0.6577 - accuracy: 0.5679 - val_loss: 0.7385 - val_accuracy: 0.0458\n",
      "Epoch 136/200\n",
      "156/156 [==============================] - 1s 8ms/step - loss: 0.6590 - accuracy: 0.5683 - val_loss: 0.7317 - val_accuracy: 0.0458\n",
      "Epoch 137/200\n",
      "156/156 [==============================] - 1s 8ms/step - loss: 0.6599 - accuracy: 0.5685 - val_loss: 0.7148 - val_accuracy: 0.0500\n",
      "Epoch 138/200\n",
      "156/156 [==============================] - 1s 8ms/step - loss: 0.6585 - accuracy: 0.5652 - val_loss: 0.7079 - val_accuracy: 0.0542\n",
      "Epoch 139/200\n",
      "156/156 [==============================] - 1s 8ms/step - loss: 0.6587 - accuracy: 0.5706 - val_loss: 0.7237 - val_accuracy: 0.0490\n",
      "Epoch 140/200\n",
      "156/156 [==============================] - 1s 8ms/step - loss: 0.6593 - accuracy: 0.5654 - val_loss: 0.7181 - val_accuracy: 0.0458\n",
      "Epoch 141/200\n",
      "156/156 [==============================] - 1s 8ms/step - loss: 0.6607 - accuracy: 0.5656 - val_loss: 0.7127 - val_accuracy: 0.0490\n",
      "Epoch 142/200\n",
      "156/156 [==============================] - 1s 8ms/step - loss: 0.6585 - accuracy: 0.5682 - val_loss: 0.7278 - val_accuracy: 0.0458\n",
      "Epoch 143/200\n",
      "156/156 [==============================] - 1s 8ms/step - loss: 0.6606 - accuracy: 0.5662 - val_loss: 0.7428 - val_accuracy: 0.0167\n",
      "Epoch 144/200\n",
      "156/156 [==============================] - 1s 8ms/step - loss: 0.6587 - accuracy: 0.5691 - val_loss: 0.7348 - val_accuracy: 0.0177\n",
      "Epoch 145/200\n",
      "156/156 [==============================] - 1s 8ms/step - loss: 0.6590 - accuracy: 0.5657 - val_loss: 0.7379 - val_accuracy: 0.0177\n",
      "Epoch 146/200\n",
      "156/156 [==============================] - 1s 8ms/step - loss: 0.6592 - accuracy: 0.5690 - val_loss: 0.7335 - val_accuracy: 0.0458\n",
      "Epoch 147/200\n",
      "156/156 [==============================] - 1s 8ms/step - loss: 0.6567 - accuracy: 0.5713 - val_loss: 0.7360 - val_accuracy: 0.0458\n",
      "Epoch 148/200\n",
      "156/156 [==============================] - 1s 8ms/step - loss: 0.6596 - accuracy: 0.5664 - val_loss: 0.7425 - val_accuracy: 0.0177\n",
      "Epoch 149/200\n",
      "156/156 [==============================] - 1s 8ms/step - loss: 0.6585 - accuracy: 0.5663 - val_loss: 0.7212 - val_accuracy: 0.0490\n",
      "Epoch 150/200\n",
      "156/156 [==============================] - 1s 8ms/step - loss: 0.6602 - accuracy: 0.5672 - val_loss: 0.7164 - val_accuracy: 0.0490\n",
      "Epoch 151/200\n",
      "156/156 [==============================] - 1s 8ms/step - loss: 0.6601 - accuracy: 0.5672 - val_loss: 0.7329 - val_accuracy: 0.0458\n",
      "Epoch 152/200\n",
      "156/156 [==============================] - 1s 8ms/step - loss: 0.6568 - accuracy: 0.5704 - val_loss: 0.7268 - val_accuracy: 0.0458\n",
      "Epoch 153/200\n",
      "156/156 [==============================] - 1s 8ms/step - loss: 0.6592 - accuracy: 0.5657 - val_loss: 0.7233 - val_accuracy: 0.0458\n",
      "Epoch 154/200\n",
      "156/156 [==============================] - 1s 8ms/step - loss: 0.6600 - accuracy: 0.5681 - val_loss: 0.7121 - val_accuracy: 0.0490\n",
      "Epoch 155/200\n",
      "156/156 [==============================] - 1s 8ms/step - loss: 0.6579 - accuracy: 0.5676 - val_loss: 0.7245 - val_accuracy: 0.0458\n",
      "Epoch 156/200\n",
      "156/156 [==============================] - 1s 8ms/step - loss: 0.6598 - accuracy: 0.5688 - val_loss: 0.7165 - val_accuracy: 0.0490\n",
      "Epoch 157/200\n",
      "156/156 [==============================] - 1s 8ms/step - loss: 0.6608 - accuracy: 0.5686 - val_loss: 0.7298 - val_accuracy: 0.0458\n",
      "Epoch 158/200\n",
      "156/156 [==============================] - 1s 8ms/step - loss: 0.6595 - accuracy: 0.5690 - val_loss: 0.7438 - val_accuracy: 0.0167\n",
      "Epoch 159/200\n",
      "156/156 [==============================] - 1s 8ms/step - loss: 0.6586 - accuracy: 0.5663 - val_loss: 0.7216 - val_accuracy: 0.0490\n",
      "Epoch 160/200\n",
      "156/156 [==============================] - 1s 8ms/step - loss: 0.6591 - accuracy: 0.5676 - val_loss: 0.7594 - val_accuracy: 0.0167\n",
      "Epoch 161/200\n",
      "156/156 [==============================] - 1s 8ms/step - loss: 0.6600 - accuracy: 0.5627 - val_loss: 0.7444 - val_accuracy: 0.0177\n",
      "Epoch 162/200\n",
      "156/156 [==============================] - 1s 8ms/step - loss: 0.6587 - accuracy: 0.5655 - val_loss: 0.7396 - val_accuracy: 0.0177\n",
      "Epoch 163/200\n",
      "156/156 [==============================] - 1s 8ms/step - loss: 0.6618 - accuracy: 0.5642 - val_loss: 0.7188 - val_accuracy: 0.0500\n",
      "Epoch 164/200\n",
      "156/156 [==============================] - 1s 8ms/step - loss: 0.6580 - accuracy: 0.5692 - val_loss: 0.7159 - val_accuracy: 0.0531\n",
      "Epoch 165/200\n",
      "156/156 [==============================] - 1s 8ms/step - loss: 0.6613 - accuracy: 0.5664 - val_loss: 0.7290 - val_accuracy: 0.0219\n",
      "Epoch 166/200\n",
      "156/156 [==============================] - 1s 8ms/step - loss: 0.6573 - accuracy: 0.5689 - val_loss: 0.7364 - val_accuracy: 0.0177\n",
      "Epoch 167/200\n",
      "156/156 [==============================] - 1s 8ms/step - loss: 0.6579 - accuracy: 0.5663 - val_loss: 0.7154 - val_accuracy: 0.0531\n",
      "Epoch 168/200\n",
      "156/156 [==============================] - 1s 8ms/step - loss: 0.6618 - accuracy: 0.5660 - val_loss: 0.7248 - val_accuracy: 0.0458\n",
      "Epoch 169/200\n",
      "156/156 [==============================] - 1s 8ms/step - loss: 0.6584 - accuracy: 0.5669 - val_loss: 0.7201 - val_accuracy: 0.0490\n",
      "Epoch 170/200\n",
      "156/156 [==============================] - 1s 8ms/step - loss: 0.6587 - accuracy: 0.5672 - val_loss: 0.7109 - val_accuracy: 0.0531\n",
      "Epoch 171/200\n",
      "156/156 [==============================] - 1s 8ms/step - loss: 0.6608 - accuracy: 0.5671 - val_loss: 0.7331 - val_accuracy: 0.0458\n",
      "Epoch 172/200\n",
      "156/156 [==============================] - 1s 8ms/step - loss: 0.6575 - accuracy: 0.5691 - val_loss: 0.7522 - val_accuracy: 0.0167\n",
      "Epoch 173/200\n",
      "156/156 [==============================] - 1s 8ms/step - loss: 0.6582 - accuracy: 0.5670 - val_loss: 0.7161 - val_accuracy: 0.0490\n",
      "Epoch 174/200\n",
      "156/156 [==============================] - 1s 8ms/step - loss: 0.6585 - accuracy: 0.5655 - val_loss: 0.7110 - val_accuracy: 0.0542\n",
      "Epoch 175/200\n",
      "156/156 [==============================] - 1s 8ms/step - loss: 0.6580 - accuracy: 0.5682 - val_loss: 0.7272 - val_accuracy: 0.0490\n",
      "Epoch 176/200\n",
      "156/156 [==============================] - 1s 8ms/step - loss: 0.6603 - accuracy: 0.5682 - val_loss: 0.7161 - val_accuracy: 0.0552\n",
      "Epoch 177/200\n",
      "156/156 [==============================] - 1s 8ms/step - loss: 0.6609 - accuracy: 0.5687 - val_loss: 0.7501 - val_accuracy: 0.0167\n",
      "Epoch 178/200\n",
      "156/156 [==============================] - 1s 8ms/step - loss: 0.6577 - accuracy: 0.5694 - val_loss: 0.7396 - val_accuracy: 0.0448\n",
      "Epoch 179/200\n",
      "156/156 [==============================] - 1s 8ms/step - loss: 0.6590 - accuracy: 0.5718 - val_loss: 0.7424 - val_accuracy: 0.0448\n",
      "Epoch 180/200\n",
      "156/156 [==============================] - 1s 8ms/step - loss: 0.6603 - accuracy: 0.5687 - val_loss: 0.6997 - val_accuracy: 0.0542\n",
      "Epoch 181/200\n",
      "156/156 [==============================] - 1s 8ms/step - loss: 0.6586 - accuracy: 0.5671 - val_loss: 0.7393 - val_accuracy: 0.0167\n",
      "Epoch 182/200\n",
      "156/156 [==============================] - 1s 8ms/step - loss: 0.6588 - accuracy: 0.5661 - val_loss: 0.7094 - val_accuracy: 0.0531\n",
      "Epoch 183/200\n",
      "156/156 [==============================] - 1s 8ms/step - loss: 0.6594 - accuracy: 0.5668 - val_loss: 0.7275 - val_accuracy: 0.0458\n",
      "Epoch 184/200\n",
      "156/156 [==============================] - 1s 8ms/step - loss: 0.6600 - accuracy: 0.5643 - val_loss: 0.7437 - val_accuracy: 0.0167\n",
      "Epoch 185/200\n",
      "156/156 [==============================] - 1s 8ms/step - loss: 0.6600 - accuracy: 0.5627 - val_loss: 0.7283 - val_accuracy: 0.0458\n",
      "Epoch 186/200\n",
      "156/156 [==============================] - 1s 8ms/step - loss: 0.6583 - accuracy: 0.5667 - val_loss: 0.7399 - val_accuracy: 0.0167\n",
      "Epoch 187/200\n",
      "156/156 [==============================] - 1s 8ms/step - loss: 0.6601 - accuracy: 0.5643 - val_loss: 0.7335 - val_accuracy: 0.0448\n",
      "Epoch 188/200\n",
      "156/156 [==============================] - 1s 8ms/step - loss: 0.6577 - accuracy: 0.5680 - val_loss: 0.7639 - val_accuracy: 0.0125\n",
      "Epoch 189/200\n",
      "156/156 [==============================] - 1s 8ms/step - loss: 0.6602 - accuracy: 0.5663 - val_loss: 0.7210 - val_accuracy: 0.0490\n",
      "Epoch 190/200\n",
      "156/156 [==============================] - 1s 8ms/step - loss: 0.6595 - accuracy: 0.5672 - val_loss: 0.7182 - val_accuracy: 0.0490\n",
      "Epoch 191/200\n",
      "156/156 [==============================] - 1s 8ms/step - loss: 0.6619 - accuracy: 0.5638 - val_loss: 0.7214 - val_accuracy: 0.0458\n",
      "Epoch 192/200\n",
      "156/156 [==============================] - 1s 8ms/step - loss: 0.6603 - accuracy: 0.5668 - val_loss: 0.7590 - val_accuracy: 0.0167\n",
      "Epoch 193/200\n",
      "156/156 [==============================] - 1s 8ms/step - loss: 0.6617 - accuracy: 0.5646 - val_loss: 0.7476 - val_accuracy: 0.0167\n",
      "Epoch 194/200\n",
      "156/156 [==============================] - 1s 8ms/step - loss: 0.6596 - accuracy: 0.5660 - val_loss: 0.7326 - val_accuracy: 0.0177\n",
      "Epoch 195/200\n",
      "156/156 [==============================] - 1s 8ms/step - loss: 0.6598 - accuracy: 0.5667 - val_loss: 0.7280 - val_accuracy: 0.0458\n",
      "Epoch 196/200\n",
      "156/156 [==============================] - 1s 8ms/step - loss: 0.6604 - accuracy: 0.5661 - val_loss: 0.7362 - val_accuracy: 0.0458\n",
      "Epoch 197/200\n",
      "156/156 [==============================] - 1s 8ms/step - loss: 0.6603 - accuracy: 0.5672 - val_loss: 0.7318 - val_accuracy: 0.0458\n",
      "Epoch 198/200\n",
      "156/156 [==============================] - 1s 8ms/step - loss: 0.6590 - accuracy: 0.5673 - val_loss: 0.7236 - val_accuracy: 0.0490\n",
      "Epoch 199/200\n",
      "156/156 [==============================] - 1s 8ms/step - loss: 0.6582 - accuracy: 0.5673 - val_loss: 0.7337 - val_accuracy: 0.0458\n",
      "Epoch 200/200\n",
      "156/156 [==============================] - 1s 8ms/step - loss: 0.6615 - accuracy: 0.5658 - val_loss: 0.7226 - val_accuracy: 0.0490\n"
     ]
    }
   ],
   "source": [
    "configs_dict = {\n",
    "    \"learning_rate\": LEARNING_RATE,\n",
    "    \"algorithm\": \"LogReg\",\n",
    "    \"configuration\": \"3-tokens-types\",\n",
    "    \"optimizer\": \"adam\",\n",
    "    \"loss\": \"binary_crossentropy\",\n",
    "    \"epochs\": NUM_EPOCHS,\n",
    "    \"batch_size\": 64,\n",
    "    \"vectorizer\": \"tf_idf\",\n",
    "    \"dataset\": \"TOKENIZED_SET_V1\"\n",
    "}\n",
    "run = wandb.init(project=wandb_project_name, reinit=True, config=configs_dict)\n",
    "\n",
    "history = model_tf_idf.fit(train_dataset, \n",
    "                    epochs=NUM_EPOCHS,\n",
    "                    validation_data=test_dataset,\n",
    "                    steps_per_epoch = STEPS_PER_EPOCH,\n",
    "                    validation_steps = VAL_STEPS_PER_EPOCH,\n",
    "                    callbacks= [WandbCallback()])#[tensorboard_callback])\n",
    "run.finish()"
   ]
  },
  {
   "cell_type": "code",
   "execution_count": 56,
   "metadata": {},
   "outputs": [
    {
     "name": "stdout",
     "output_type": "stream",
     "text": [
      "15/15 [==============================] - 0s 2ms/step - loss: 0.7226 - accuracy: 0.0490\n",
      "Test Loss: 0.7226345539093018\n",
      "Test Accuracy: 0.04895833507180214\n"
     ]
    }
   ],
   "source": [
    "test_loss, test_acc = model_tf_idf.evaluate(test_dataset)\n",
    "\n",
    "print(\"Test Loss:\", test_loss)\n",
    "print(\"Test Accuracy:\", test_acc)"
   ]
  },
  {
   "cell_type": "code",
   "execution_count": 57,
   "metadata": {},
   "outputs": [
    {
     "data": {
      "text/plain": [
       "(0.0, 0.7857233583927155)"
      ]
     },
     "execution_count": 57,
     "metadata": {},
     "output_type": "execute_result"
    },
    {
     "data": {
      "image/png": "[encoded data removed]",
      "text/plain": [
       "<Figure size 1600x800 with 2 Axes>"
      ]
     },
     "metadata": {},
     "output_type": "display_data"
    }
   ],
   "source": [
    "plt.figure(figsize=(16,8))\n",
    "plt.subplot(1,2,1)\n",
    "plot_graphs(history, \"accuracy\")\n",
    "plt.ylim(None, 1)\n",
    "plt.subplot(1,2,2)\n",
    "plot_graphs(history, \"loss\")\n",
    "plt.ylim(0, None)"
   ]
  },
  {
   "cell_type": "code",
   "execution_count": 58,
   "metadata": {},
   "outputs": [
    {
     "data": {
      "text/plain": [
       "'\\n# predict on a sample text without padding\\nsample_text = \"set_constant SET_BASIC\"\\npredictions = model_tf_idf.predict(np.array([sample_text]))\\nprint(predictions[0])\\n'"
      ]
     },
     "execution_count": 58,
     "metadata": {},
     "output_type": "execute_result"
    }
   ],
   "source": [
    "\"\"\"\n",
    "# predict on a sample text without padding\n",
    "sample_text = \"set_constant SET_BASIC\"\n",
    "predictions = model_tf_idf.predict(np.array([sample_text]))\n",
    "print(predictions[0])\n",
    "\"\"\""
   ]
  }
 ],
 "metadata": {
  "kernelspec": {
   "display_name": "sem_math_env",
   "language": "python",
   "name": "python3"
  },
  "language_info": {
   "codemirror_mode": {
    "name": "ipython",
    "version": 3
   },
   "file_extension": ".py",
   "mimetype": "text/x-python",
   "name": "python",
   "nbconvert_exporter": "python",
   "pygments_lexer": "ipython3",
   "version": "3.10.9"
  },
  "orig_nbformat": 4,
  "vscode": {
   "interpreter": {
    "hash": "71a9a05a8d236729134f51de1f1fd612c9215f2a378954bc400639bac96e00eb"
   }
  }
 },
 "nbformat": 4,
 "nbformat_minor": 2
}
