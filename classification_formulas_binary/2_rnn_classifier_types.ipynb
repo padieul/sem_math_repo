{
 "cells": [
  {
   "cell_type": "code",
   "execution_count": 1,
   "metadata": {},
   "outputs": [],
   "source": [
    "import os\n",
    "\n",
    "# takes care of annoying TF-GPU warnings\n",
    "os.environ[\"CUDA_VISIBLE_DEVICES\"] = \"-1\"\n",
    "os.environ[\"TF_CPP_MIN_LOG_LEVEL\"] = \"3\"\n",
    "\n",
    "# remove useless Tensorflow warning:\n",
    "# WARNING:absl:Found untraced functions such as _update_step_xla, lstm_cell_1_layer_call_fn, \n",
    "# lstm_cell_1_layer_call_and_return_conditional_losses, lstm_cell_2_layer_call_fn, \n",
    "# lstm_cell_2_layer_call_and_return_conditional_losses while saving (showing 5 of 5). \n",
    "# These functions will not be directly callable after loading.\n",
    "import absl.logging\n",
    "absl.logging.set_verbosity(absl.logging.ERROR)"
   ]
  },
  {
   "cell_type": "code",
   "execution_count": 2,
   "metadata": {},
   "outputs": [],
   "source": [
    "# very useful for managing wandb runs: https://stackoverflow.com/questions/71106179/log-two-model-runs-with-keras-wandb\n",
    "import wandb\n",
    "from wandb.keras import WandbCallback\n",
    "os.environ[\"WANDB_SILENT\"] = \"true\""
   ]
  },
  {
   "attachments": {},
   "cell_type": "markdown",
   "metadata": {},
   "source": [
    "#### RNN: Formula Label Prediction (Variant 2: Stream of math type tokens)"
   ]
  },
  {
   "cell_type": "code",
   "execution_count": 3,
   "metadata": {},
   "outputs": [],
   "source": [
    "import numpy as np \n",
    "import pandas as pd\n",
    "from pathlib import Path \n",
    "\n",
    "import tensorflow as tf\n",
    "\n",
    "import tensorflow_datasets as tfds\n",
    "import tensorflow_text as tf_text\n",
    "\n",
    "import datetime\n",
    "\n",
    "tfds.disable_progress_bar()\n",
    "wandb_project_name = \"binary_formula_classification\""
   ]
  },
  {
   "cell_type": "code",
   "execution_count": 4,
   "metadata": {},
   "outputs": [],
   "source": [
    "import matplotlib.pyplot as plt\n",
    "\n",
    "def plot_graphs(history, metric):\n",
    "    plt.plot(history.history[metric])\n",
    "    plt.plot(history.history[\"val_\"+metric], \"\")\n",
    "    plt.xlabel(\"Epochs\")\n",
    "    plt.ylabel(metric)\n",
    "    plt.legend([metric, \"val_\"+metric])"
   ]
  },
  {
   "attachments": {},
   "cell_type": "markdown",
   "metadata": {},
   "source": [
    "#### Import Data and Preprocess Dataframe"
   ]
  },
  {
   "cell_type": "code",
   "execution_count": 5,
   "metadata": {},
   "outputs": [],
   "source": [
    "def preprocess_data(corpus,\n",
    "                    irrelevant_features=[\"mtype\",]):\n",
    "    # drop irrelevant columns\n",
    "    corpus.drop(irrelevant_features, inplace=True, axis=1)\n",
    "\n",
    "    # filter strings\n",
    "    def process_cell(cell_str):\n",
    "        stripped_f_str = cell_str[1:-1].replace(\"\\\\\\\\\", \"\\\\\")\n",
    "        f_list = stripped_f_str.split(\",\")\n",
    "        f_list = [token.replace(\"'\", \"\").replace(\" \", \"\") for token in f_list]\n",
    "        f_list = [\"{\" if token == \"\\\\{\" else token for token in f_list]\n",
    "        f_list = [\"}\" if token == \"\\\\}\" else token for token in f_list]\n",
    "        cell_str = \" \".join(f_list)\n",
    "        return cell_str\n",
    "\n",
    "    corpus[\"type_tokens\"] = corpus[\"type_tokens\"].map(process_cell)"
   ]
  },
  {
   "cell_type": "code",
   "execution_count": 6,
   "metadata": {},
   "outputs": [
    {
     "data": {
      "text/html": [
       "<div>\n",
       "<style scoped>\n",
       "    .dataframe tbody tr th:only-of-type {\n",
       "        vertical-align: middle;\n",
       "    }\n",
       "\n",
       "    .dataframe tbody tr th {\n",
       "        vertical-align: top;\n",
       "    }\n",
       "\n",
       "    .dataframe thead th {\n",
       "        text-align: right;\n",
       "    }\n",
       "</style>\n",
       "<table border=\"1\" class=\"dataframe\">\n",
       "  <thead>\n",
       "    <tr style=\"text-align: right;\">\n",
       "      <th></th>\n",
       "      <th>tokens</th>\n",
       "      <th>type_tokens</th>\n",
       "      <th>label</th>\n",
       "    </tr>\n",
       "  </thead>\n",
       "  <tbody>\n",
       "    <tr>\n",
       "      <th>0</th>\n",
       "      <td>['f', ':', 'A', '\\\\to', 'B']</td>\n",
       "      <td>func_def func_name __ANON_1 COLON mapping __AN...</td>\n",
       "      <td>1</td>\n",
       "    </tr>\n",
       "    <tr>\n",
       "      <th>1</th>\n",
       "      <td>['f']</td>\n",
       "      <td>func_name __ANON_1</td>\n",
       "      <td>1</td>\n",
       "    </tr>\n",
       "    <tr>\n",
       "      <th>2</th>\n",
       "      <td>['g', '\\\\colon', 'B', '\\\\to', 'I']</td>\n",
       "      <td>func_def func_name __ANON_1 COLON mapping __AN...</td>\n",
       "      <td>1</td>\n",
       "    </tr>\n",
       "    <tr>\n",
       "      <th>3</th>\n",
       "      <td>['\\\\frac', '{', '8', '!', '}', '{', '(', '8', ...</td>\n",
       "      <td>expr_atom CMD_FRAC L_BRACE postfix expr_atom _...</td>\n",
       "      <td>1</td>\n",
       "    </tr>\n",
       "    <tr>\n",
       "      <th>4</th>\n",
       "      <td>['f']</td>\n",
       "      <td>func_name __ANON_1</td>\n",
       "      <td>1</td>\n",
       "    </tr>\n",
       "  </tbody>\n",
       "</table>\n",
       "</div>"
      ],
      "text/plain": [
       "                                              tokens  \\\n",
       "0                       ['f', ':', 'A', '\\\\to', 'B']   \n",
       "1                                              ['f']   \n",
       "2                 ['g', '\\\\colon', 'B', '\\\\to', 'I']   \n",
       "3  ['\\\\frac', '{', '8', '!', '}', '{', '(', '8', ...   \n",
       "4                                              ['f']   \n",
       "\n",
       "                                         type_tokens  label  \n",
       "0  func_def func_name __ANON_1 COLON mapping __AN...      1  \n",
       "1                                 func_name __ANON_1      1  \n",
       "2  func_def func_name __ANON_1 COLON mapping __AN...      1  \n",
       "3  expr_atom CMD_FRAC L_BRACE postfix expr_atom _...      1  \n",
       "4                                 func_name __ANON_1      1  "
      ]
     },
     "execution_count": 6,
     "metadata": {},
     "output_type": "execute_result"
    }
   ],
   "source": [
    "#print(os.getcwd())\n",
    "data_p = Path(\"../data/\") / \"bin_class_data_TOKENIZED_SET_V1.csv\"\n",
    "data = pd.read_csv(data_p)\n",
    "preprocess_data(data)\n",
    "data.head()\n"
   ]
  },
  {
   "cell_type": "code",
   "execution_count": 7,
   "metadata": {},
   "outputs": [],
   "source": [
    "SIZE_TRAIN_DS = 10000\n",
    "SIZE_TEST_DS = 1000\n",
    "data_as_ds = tf.data.Dataset.from_tensor_slices((data[\"type_tokens\"], data[\"label\"])) \n",
    "test_dataset = data_as_ds.take(SIZE_TEST_DS)\n",
    "train_dataset = data_as_ds.skip(SIZE_TEST_DS)"
   ]
  },
  {
   "attachments": {},
   "cell_type": "markdown",
   "metadata": {},
   "source": [
    "##### Setup and Data Preparation"
   ]
  },
  {
   "cell_type": "code",
   "execution_count": 8,
   "metadata": {},
   "outputs": [
    {
     "name": "stdout",
     "output_type": "stream",
     "text": [
      "text:  b'func_name __ANON_1'\n",
      "label:  1\n"
     ]
    }
   ],
   "source": [
    "for example, label in train_dataset.take(1):\n",
    "    print(\"text: \", example.numpy())\n",
    "    print(\"label: \", label.numpy())"
   ]
  },
  {
   "cell_type": "code",
   "execution_count": 9,
   "metadata": {},
   "outputs": [],
   "source": [
    "BUFFER_SIZE = SIZE_TRAIN_DS\n",
    "BATCH_SIZE = 64\n",
    "STEPS_PER_EPOCH = np.floor(SIZE_TRAIN_DS/BATCH_SIZE)\n",
    "VAL_STEPS_PER_EPOCH = np.floor(SIZE_TEST_DS/BATCH_SIZE)\n",
    "train_dataset = train_dataset.shuffle(BUFFER_SIZE).batch(BATCH_SIZE, drop_remainder=True).prefetch(tf.data.AUTOTUNE)\n",
    "test_dataset = test_dataset.batch(BATCH_SIZE, drop_remainder=True).prefetch(tf.data.AUTOTUNE)"
   ]
  },
  {
   "attachments": {},
   "cell_type": "markdown",
   "metadata": {},
   "source": [
    "##### Text Encoding"
   ]
  },
  {
   "cell_type": "code",
   "execution_count": 10,
   "metadata": {},
   "outputs": [],
   "source": [
    "def create_encoder(output_mode_str, n_grams):\n",
    "    VOCAB_SIZE = 1000\n",
    "    encoder = tf.keras.layers.TextVectorization(\n",
    "        standardize=None,\n",
    "        output_mode=output_mode_str,\n",
    "        ngrams = n_grams,\n",
    "        split=\"whitespace\",\n",
    "        max_tokens=VOCAB_SIZE)\n",
    "    encoder.adapt(train_dataset.map(lambda tokens, label: tokens)) # removes the label column through transformation: text, label -> text\n",
    "    return encoder"
   ]
  },
  {
   "attachments": {},
   "cell_type": "markdown",
   "metadata": {},
   "source": [
    "##### Representation 1: Use integer indices encoding"
   ]
  },
  {
   "cell_type": "code",
   "execution_count": 11,
   "metadata": {},
   "outputs": [
    {
     "name": "stdout",
     "output_type": "stream",
     "text": [
      "WARNING:tensorflow:From /home/paul_d/Sources/sem_math_repo/sem_math_env/lib/python3.10/site-packages/tensorflow/python/autograph/pyct/static_analysis/liveness.py:83: Analyzer.lamba_check (from tensorflow.python.autograph.pyct.static_analysis.liveness) is deprecated and will be removed after 2023-09-23.\n",
      "Instructions for updating:\n",
      "Lambda fuctions will be no more assumed to be used in the statement where they are used, or at least in the same block. https://github.com/tensorflow/tensorflow/issues/56089\n",
      "vocabulary size:  59\n"
     ]
    },
    {
     "data": {
      "text/plain": [
       "array(['', '[UNK]', '__ANON_1', '__ANON_3', 'expr_atom', 'func_name',\n",
       "       '__ANON_0', 'COLON', 'mapping', 'func_def', 'TO', 'additive',\n",
       "       'CARET', 'unary', 'L_PAREN', 'R_PAREN', 'integer', 'R_BRACE',\n",
       "       'L_BRACE', 'exp', 'ADD', 'set_constant', 'SET_BASIC', 'SUB',\n",
       "       'item', 'group', 'COMMA', 'func_name_arg', 'func_expr', 'EQUAL',\n",
       "       'set_expr', 'CMD_FRAC', 'R_BRACE_LITERAL', 'L_BRACE_LITERAL',\n",
       "       'explset', 'SET_FAT', 'mp', 'set_enumeration', 'interval',\n",
       "       'sets__OP_CART', 'DIV', 'UNC_NORMA', 'number', 'R_BRACKET',\n",
       "       'L_BRACKET', 'sets__OP_UNION', 'sets__OP_INTERSEC', 'CMD_CDOT',\n",
       "       'func_arg', 'postfix', 'BANG', 'OP_FUNC_COMP', 'func_composed',\n",
       "       'et_constan', 'MUL', 'func_enumeration', 'CMD_TIMES',\n",
       "       'FUNC_NORMAL', 'CMD_BINOM'], dtype='<U17')"
      ]
     },
     "execution_count": 11,
     "metadata": {},
     "output_type": "execute_result"
    }
   ],
   "source": [
    "encoder_int = create_encoder(\"int\", None)\n",
    "vocab = np.array(encoder_int.get_vocabulary())\n",
    "vocab_size = len(encoder_int.get_vocabulary())\n",
    "print(\"vocabulary size: \", vocab_size)\n",
    "vocab[:200]"
   ]
  },
  {
   "cell_type": "code",
   "execution_count": 12,
   "metadata": {},
   "outputs": [
    {
     "name": "stdout",
     "output_type": "stream",
     "text": [
      "tf.Tensor(b'func_name __ANON_1', shape=(), dtype=string)\n",
      "[5 2]\n"
     ]
    }
   ],
   "source": [
    "encoded_example = encoder_int(example).numpy()\n",
    "print(example)\n",
    "print(encoded_example)"
   ]
  },
  {
   "cell_type": "code",
   "execution_count": 13,
   "metadata": {},
   "outputs": [
    {
     "name": "stdout",
     "output_type": "stream",
     "text": [
      "Original:  b'func_name __ANON_1'\n",
      "After reverse lookup:  func_name __ANON_1\n"
     ]
    }
   ],
   "source": [
    "print(\"Original: \", example.numpy())\n",
    "print(\"After reverse lookup: \", \" \".join(vocab[encoded_example]))"
   ]
  },
  {
   "attachments": {},
   "cell_type": "markdown",
   "metadata": {},
   "source": [
    "##### Representation 2: Binary Count Vectorizer"
   ]
  },
  {
   "cell_type": "code",
   "execution_count": 14,
   "metadata": {},
   "outputs": [
    {
     "name": "stdout",
     "output_type": "stream",
     "text": [
      "vocabulary size:  58\n"
     ]
    },
    {
     "data": {
      "text/plain": [
       "array(['[UNK]', '__ANON_1', '__ANON_3', 'expr_atom', 'func_name',\n",
       "       '__ANON_0', 'COLON', 'mapping', 'func_def', 'TO', 'additive',\n",
       "       'CARET', 'unary', 'L_PAREN', 'R_PAREN', 'integer', 'exp',\n",
       "       'R_BRACE', 'L_BRACE', 'ADD', 'set_constant', 'SET_BASIC', 'SUB',\n",
       "       'item', 'group', 'COMMA', 'func_name_arg', 'func_expr', 'EQUAL',\n",
       "       'set_expr', 'CMD_FRAC', 'R_BRACE_LITERAL', 'L_BRACE_LITERAL',\n",
       "       'explset', 'SET_FAT', 'mp', 'set_enumeration', 'sets__OP_CART',\n",
       "       'interval', 'DIV', 'UNC_NORMA', 'number', 'R_BRACKET', 'L_BRACKET',\n",
       "       'sets__OP_UNION', 'sets__OP_INTERSEC', 'CMD_CDOT', 'func_arg',\n",
       "       'postfix', 'BANG', 'OP_FUNC_COMP', 'func_composed', 'et_constan',\n",
       "       'MUL', 'func_enumeration', 'CMD_TIMES', 'FUNC_NORMAL', 'CMD_BINOM'],\n",
       "      dtype='<U17')"
      ]
     },
     "execution_count": 14,
     "metadata": {},
     "output_type": "execute_result"
    }
   ],
   "source": [
    "encoder_multi_hot = create_encoder(\"multi_hot\", None)\n",
    "vocab = np.array(encoder_multi_hot.get_vocabulary())\n",
    "vocab_size = len(encoder_multi_hot.get_vocabulary())\n",
    "print(\"vocabulary size: \", vocab_size)\n",
    "vocab[:200]"
   ]
  },
  {
   "cell_type": "code",
   "execution_count": 15,
   "metadata": {},
   "outputs": [
    {
     "name": "stdout",
     "output_type": "stream",
     "text": [
      "tf.Tensor(b'func_name __ANON_1', shape=(), dtype=string)\n",
      "[0. 1. 0. 0. 1. 0. 0. 0. 0. 0. 0. 0. 0. 0. 0. 0. 0. 0. 0. 0. 0. 0. 0. 0.\n",
      " 0. 0. 0. 0. 0. 0. 0. 0. 0. 0. 0. 0. 0. 0. 0. 0. 0. 0. 0. 0. 0. 0. 0. 0.\n",
      " 0. 0. 0. 0. 0. 0. 0. 0. 0. 0.]\n"
     ]
    }
   ],
   "source": [
    "encoded_example = encoder_multi_hot(example).numpy()\n",
    "print(example)\n",
    "print(encoded_example)"
   ]
  },
  {
   "attachments": {},
   "cell_type": "markdown",
   "metadata": {},
   "source": [
    "##### Representation 3: Frequency Count Vectorizer"
   ]
  },
  {
   "cell_type": "code",
   "execution_count": 16,
   "metadata": {},
   "outputs": [
    {
     "name": "stdout",
     "output_type": "stream",
     "text": [
      "vocabulary size:  58\n"
     ]
    },
    {
     "data": {
      "text/plain": [
       "array(['[UNK]', '__ANON_1', '__ANON_3', 'expr_atom', 'func_name',\n",
       "       '__ANON_0', 'COLON', 'mapping', 'func_def', 'TO', 'additive',\n",
       "       'CARET', 'unary', 'L_PAREN', 'R_PAREN', 'integer', 'R_BRACE',\n",
       "       'L_BRACE', 'exp', 'ADD', 'set_constant', 'SET_BASIC', 'SUB',\n",
       "       'item', 'group', 'COMMA', 'func_name_arg', 'func_expr', 'EQUAL',\n",
       "       'set_expr', 'CMD_FRAC', 'R_BRACE_LITERAL', 'L_BRACE_LITERAL',\n",
       "       'explset', 'SET_FAT', 'mp', 'set_enumeration', 'sets__OP_CART',\n",
       "       'interval', 'DIV', 'UNC_NORMA', 'number', 'R_BRACKET', 'L_BRACKET',\n",
       "       'sets__OP_UNION', 'sets__OP_INTERSEC', 'CMD_CDOT', 'func_arg',\n",
       "       'postfix', 'BANG', 'OP_FUNC_COMP', 'func_composed', 'et_constan',\n",
       "       'MUL', 'func_enumeration', 'CMD_TIMES', 'FUNC_NORMAL', 'CMD_BINOM'],\n",
       "      dtype='<U17')"
      ]
     },
     "execution_count": 16,
     "metadata": {},
     "output_type": "execute_result"
    }
   ],
   "source": [
    "encoder_count = create_encoder(\"count\", None)\n",
    "vocab = np.array(encoder_count.get_vocabulary())\n",
    "vocab_size = len(encoder_count.get_vocabulary())\n",
    "print(\"vocabulary size: \", vocab_size)\n",
    "vocab[:200]"
   ]
  },
  {
   "cell_type": "code",
   "execution_count": 17,
   "metadata": {},
   "outputs": [
    {
     "name": "stdout",
     "output_type": "stream",
     "text": [
      "tf.Tensor(b'func_name __ANON_1', shape=(), dtype=string)\n",
      "[0. 1. 0. 0. 1. 0. 0. 0. 0. 0. 0. 0. 0. 0. 0. 0. 0. 0. 0. 0. 0. 0. 0. 0.\n",
      " 0. 0. 0. 0. 0. 0. 0. 0. 0. 0. 0. 0. 0. 0. 0. 0. 0. 0. 0. 0. 0. 0. 0. 0.\n",
      " 0. 0. 0. 0. 0. 0. 0. 0. 0. 0.]\n"
     ]
    }
   ],
   "source": [
    "encoded_example = encoder_count(example).numpy()\n",
    "print(example)\n",
    "print(encoded_example)"
   ]
  },
  {
   "attachments": {},
   "cell_type": "markdown",
   "metadata": {},
   "source": [
    "##### Representation 4: Bigrams Frequency Count Vectorizer"
   ]
  },
  {
   "cell_type": "code",
   "execution_count": 18,
   "metadata": {},
   "outputs": [
    {
     "name": "stdout",
     "output_type": "stream",
     "text": [
      "vocabulary size:  355\n"
     ]
    },
    {
     "data": {
      "text/plain": [
       "array(['[UNK]', '__ANON_1', '__ANON_3', 'expr_atom', 'func_name',\n",
       "       'func_name __ANON_1', 'expr_atom __ANON_3', '__ANON_0',\n",
       "       '__ANON_3 __ANON_3', 'COLON', 'mapping', 'func_def', 'TO',\n",
       "       'COLON mapping', 'func_def func_name', '__ANON_1 COLON',\n",
       "       'additive', 'CARET', 'unary', 'L_PAREN', 'R_PAREN', '__ANON_0 TO',\n",
       "       'integer __ANON_3', 'integer', 'expr_atom integer', 'exp',\n",
       "       'R_BRACE', 'L_BRACE', 'TO __ANON_0', 'mapping __ANON_0',\n",
       "       '__ANON_1 R_PAREN', 'ADD', 'set_constant',\n",
       "       'set_constant SET_BASIC', 'SET_BASIC', 'SUB', 'L_PAREN __ANON_1',\n",
       "       'item', 'exp __ANON_1', '__ANON_1 CARET', 'group', 'COMMA',\n",
       "       'group L_PAREN', '__ANON_3 R_BRACE', 'CARET expr_atom',\n",
       "       '__ANON_1 ADD', 'func_name __ANON_0', 'unary __ANON_1',\n",
       "       'func_name_arg', 'func_expr func_name_arg', 'func_expr',\n",
       "       'R_PAREN EQUAL', 'EQUAL', 'func_name_arg func_name',\n",
       "       'additive __ANON_1', '__ANON_1 L_PAREN', 'unary expr_atom',\n",
       "       'set_expr', 'SUB expr_atom', 'item __ANON_3', 'COMMA item',\n",
       "       'ADD expr_atom', 'R_BRACE L_BRACE', '__ANON_3 COMMA',\n",
       "       'expr_atom CMD_FRAC', 'CMD_FRAC L_BRACE', 'CMD_FRAC',\n",
       "       'L_BRACE expr_atom', '__ANON_3 CARET', '__ANON_3 __ANON_1',\n",
       "       '__ANON_1 R_BRACE', 'R_BRACE_LITERAL', 'L_BRACE_LITERAL',\n",
       "       'explset L_BRACE_LITERAL', 'explset', '__ANON_1 __ANON_1',\n",
       "       'exp expr_atom', 'SET_FAT __ANON_0', 'SET_FAT', 'additive exp',\n",
       "       '__ANON_1 SUB', 'additive unary', 'CARET __ANON_1',\n",
       "       '__ANON_1 group', 'SET_BASIC TO', 'set_expr __ANON_0',\n",
       "       '__ANON_3 R_PAREN', 'mapping set_constant', 'L_PAREN additive',\n",
       "       'TO set_constant', 'CARET L_BRACE', '__ANON_3 ADD',\n",
       "       'L_BRACE additive', 'mp', 'item __ANON_1', 'set_enumeration item',\n",
       "       'set_enumeration', 'L_BRACE_LITERAL set_enumeration',\n",
       "       '__ANON_1 COMMA', 'L_BRACE __ANON_1', 'EQUAL additive',\n",
       "       'ADD __ANON_1', '__ANON_3 R_BRACE_LITERAL', 'unary SUB',\n",
       "       '__ANON_3 SUB', 'interval', 'sets__OP_CART', 'additive expr_atom',\n",
       "       '__ANON_0 CARET', 'DIV', 'SUB __ANON_1', 'additive additive',\n",
       "       '__ANON_1 R_BRACE_LITERAL', 'L_BRACE unary', 'COMMA expr_atom',\n",
       "       '__ANON_0 sets__OP_CART', 'ADD unary', 'TO SET_FAT', 'UNC_NORMA',\n",
       "       'ADD additive', 'EQUAL expr_atom', 'mapping set_expr',\n",
       "       'mapping SET_FAT', 'L_BRACE_LITERAL item',\n",
       "       'sets__OP_CART __ANON_0', 'mp expr_atom', 'L_PAREN expr_atom',\n",
       "       'number', 'expr_atom number', '__ANON_3 exp', 'SUB unary',\n",
       "       'TO set_expr', 'R_BRACKET', 'interval L_PAREN', 'L_BRACKET',\n",
       "       'exp group', 'R_PAREN CARET', 'EQUAL exp', 'COMMA __ANON_1',\n",
       "       'CARET __ANON_3', 'set_expr set_constant', 'interval L_BRACKET',\n",
       "       'mp __ANON_1', 'EQUAL unary', 'sets__OP_UNION', '__ANON_3 DIV',\n",
       "       'CARET __ANON_0', '__ANON_0 COLON', '__ANON_3 R_BRACKET',\n",
       "       'DIV __ANON_1', '__ANON_0 sets__OP_UNION', 'L_BRACKET expr_atom',\n",
       "       'sets__OP_INTERSEC', 'sets__OP_UNION __ANON_0',\n",
       "       'sets__OP_INTERSEC __ANON_0', 'DIV expr_atom',\n",
       "       '__ANON_0 sets__OP_INTERSEC', 'L_BRACE exp', 'CMD_CDOT',\n",
       "       'R_BRACE ADD', 'ADD exp', '__ANON_1 DIV', 'R_BRACE SUB',\n",
       "       '__ANON_1 exp', 'SUB exp', 'mapping interval', 'func_arg',\n",
       "       'L_PAREN func_arg', 'postfix', 'BANG', 'OP_FUNC_COMP',\n",
       "       'func_composed', 'func_composed func_name', 'R_PAREN group',\n",
       "       'item __ANON_0', 'SET_BASIC CARET', 'R_PAREN R_BRACE',\n",
       "       'OP_FUNC_COMP func_name', 'unary exp', '__ANON_1 OP_FUNC_COMP',\n",
       "       'func_arg __ANON_1', 'et_constan', 'TO interval', 'unary group',\n",
       "       'item integer', 'EQUAL __ANON_1', 'R_BRACE R_BRACE',\n",
       "       'L_PAREN unary', 'TO explset', 'set_expr SET_FAT',\n",
       "       'sets__OP_CART set_constant', '__ANON_3 TO', '__ANON_0 group',\n",
       "       'SET_BASIC sets__OP_CART', '__ANON_3 CMD_CDOT', 'R_BRACKET TO',\n",
       "       'L_BRACE mp', '__ANON_3 group', 'R_PAREN TO', 'set_expr __ANON_3'],\n",
       "      dtype='<U31')"
      ]
     },
     "execution_count": 18,
     "metadata": {},
     "output_type": "execute_result"
    }
   ],
   "source": [
    "encoder_bigrams = create_encoder(\"count\", (2))\n",
    "vocab = np.array(encoder_bigrams.get_vocabulary())\n",
    "vocab_size = len(encoder_bigrams.get_vocabulary())\n",
    "print(\"vocabulary size: \", vocab_size)\n",
    "vocab[:200]"
   ]
  },
  {
   "cell_type": "code",
   "execution_count": 19,
   "metadata": {},
   "outputs": [
    {
     "name": "stdout",
     "output_type": "stream",
     "text": [
      "tf.Tensor(b'func_name __ANON_1', shape=(), dtype=string)\n",
      "[0. 1. 0. 0. 1. 1. 0. 0. 0. 0. 0. 0. 0. 0. 0. 0. 0. 0. 0. 0. 0. 0. 0. 0.\n",
      " 0. 0. 0. 0. 0. 0. 0. 0. 0. 0. 0. 0. 0. 0. 0. 0. 0. 0. 0. 0. 0. 0. 0. 0.\n",
      " 0. 0. 0. 0. 0. 0. 0. 0. 0. 0. 0. 0. 0. 0. 0. 0. 0. 0. 0. 0. 0. 0. 0. 0.\n",
      " 0. 0. 0. 0. 0. 0. 0. 0. 0. 0. 0. 0. 0. 0. 0. 0. 0. 0. 0. 0. 0. 0. 0. 0.\n",
      " 0. 0. 0. 0. 0. 0. 0. 0. 0. 0. 0. 0. 0. 0. 0. 0. 0. 0. 0. 0. 0. 0. 0. 0.\n",
      " 0. 0. 0. 0. 0. 0. 0. 0. 0. 0. 0. 0. 0. 0. 0. 0. 0. 0. 0. 0. 0. 0. 0. 0.\n",
      " 0. 0. 0. 0. 0. 0. 0. 0. 0. 0. 0. 0. 0. 0. 0. 0. 0. 0. 0. 0. 0. 0. 0. 0.\n",
      " 0. 0. 0. 0. 0. 0. 0. 0. 0. 0. 0. 0. 0. 0. 0. 0. 0. 0. 0. 0. 0. 0. 0. 0.\n",
      " 0. 0. 0. 0. 0. 0. 0. 0. 0. 0. 0. 0. 0. 0. 0. 0. 0. 0. 0. 0. 0. 0. 0. 0.\n",
      " 0. 0. 0. 0. 0. 0. 0. 0. 0. 0. 0. 0. 0. 0. 0. 0. 0. 0. 0. 0. 0. 0. 0. 0.\n",
      " 0. 0. 0. 0. 0. 0. 0. 0. 0. 0. 0. 0. 0. 0. 0. 0. 0. 0. 0. 0. 0. 0. 0. 0.\n",
      " 0. 0. 0. 0. 0. 0. 0. 0. 0. 0. 0. 0. 0. 0. 0. 0. 0. 0. 0. 0. 0. 0. 0. 0.\n",
      " 0. 0. 0. 0. 0. 0. 0. 0. 0. 0. 0. 0. 0. 0. 0. 0. 0. 0. 0. 0. 0. 0. 0. 0.\n",
      " 0. 0. 0. 0. 0. 0. 0. 0. 0. 0. 0. 0. 0. 0. 0. 0. 0. 0. 0. 0. 0. 0. 0. 0.\n",
      " 0. 0. 0. 0. 0. 0. 0. 0. 0. 0. 0. 0. 0. 0. 0. 0. 0. 0. 0.]\n"
     ]
    }
   ],
   "source": [
    "encoded_example = encoder_bigrams(example).numpy()\n",
    "print(example)\n",
    "print(encoded_example)"
   ]
  },
  {
   "attachments": {},
   "cell_type": "markdown",
   "metadata": {},
   "source": [
    "##### Representation 5: Tf-Idf Vectorizer"
   ]
  },
  {
   "cell_type": "code",
   "execution_count": 20,
   "metadata": {},
   "outputs": [
    {
     "name": "stdout",
     "output_type": "stream",
     "text": [
      "vocabulary size:  58\n"
     ]
    },
    {
     "data": {
      "text/plain": [
       "array(['[UNK]', '__ANON_1', '__ANON_3', 'expr_atom', 'func_name',\n",
       "       '__ANON_0', 'COLON', 'mapping', 'func_def', 'TO', 'additive',\n",
       "       'CARET', 'unary', 'L_PAREN', 'R_PAREN', 'integer', 'exp',\n",
       "       'R_BRACE', 'L_BRACE', 'ADD', 'set_constant', 'SET_BASIC', 'SUB',\n",
       "       'item', 'group', 'COMMA', 'func_name_arg', 'func_expr', 'EQUAL',\n",
       "       'set_expr', 'CMD_FRAC', 'R_BRACE_LITERAL', 'L_BRACE_LITERAL',\n",
       "       'explset', 'SET_FAT', 'mp', 'set_enumeration', 'interval',\n",
       "       'sets__OP_CART', 'DIV', 'UNC_NORMA', 'number', 'R_BRACKET',\n",
       "       'L_BRACKET', 'sets__OP_UNION', 'sets__OP_INTERSEC', 'CMD_CDOT',\n",
       "       'func_arg', 'postfix', 'BANG', 'OP_FUNC_COMP', 'func_composed',\n",
       "       'et_constan', 'MUL', 'func_enumeration', 'CMD_TIMES',\n",
       "       'FUNC_NORMAL', 'CMD_BINOM'], dtype='<U17')"
      ]
     },
     "execution_count": 20,
     "metadata": {},
     "output_type": "execute_result"
    }
   ],
   "source": [
    "encoder_tf_idf = create_encoder(\"tf_idf\", None)\n",
    "vocab = np.array(encoder_tf_idf.get_vocabulary())\n",
    "vocab_size = len(encoder_tf_idf.get_vocabulary())\n",
    "print(\"vocabulary size: \", vocab_size)\n",
    "vocab[:200]"
   ]
  },
  {
   "cell_type": "code",
   "execution_count": 21,
   "metadata": {},
   "outputs": [
    {
     "name": "stdout",
     "output_type": "stream",
     "text": [
      "tf.Tensor(b'func_name __ANON_1', shape=(), dtype=string)\n",
      "[0.         0.97837365 0.         0.         1.0944893  0.\n",
      " 0.         0.         0.         0.         0.         0.\n",
      " 0.         0.         0.         0.         0.         0.\n",
      " 0.         0.         0.         0.         0.         0.\n",
      " 0.         0.         0.         0.         0.         0.\n",
      " 0.         0.         0.         0.         0.         0.\n",
      " 0.         0.         0.         0.         0.         0.\n",
      " 0.         0.         0.         0.         0.         0.\n",
      " 0.         0.         0.         0.         0.         0.\n",
      " 0.         0.         0.         0.        ]\n"
     ]
    }
   ],
   "source": [
    "encoded_example = encoder_tf_idf(example).numpy()\n",
    "print(example)\n",
    "print(encoded_example)"
   ]
  },
  {
   "attachments": {},
   "cell_type": "markdown",
   "metadata": {},
   "source": [
    "##### Model (Bidirectional LSTM with one layer)"
   ]
  },
  {
   "attachments": {},
   "cell_type": "markdown",
   "metadata": {},
   "source": [
    " **Define and compile model**"
   ]
  },
  {
   "cell_type": "code",
   "execution_count": 22,
   "metadata": {},
   "outputs": [],
   "source": [
    "def create_model(vec_encoder, add_inp_emb_dim=1):\n",
    "    embedding_input_dim = len(vec_encoder.get_vocabulary())+add_inp_emb_dim\n",
    "    model = tf.keras.Sequential([\n",
    "        vec_encoder,\n",
    "        tf.keras.layers.Embedding(\n",
    "            input_dim= embedding_input_dim,\n",
    "            output_dim=64,\n",
    "            # user masking to handle the variable sequence lengths\n",
    "            mask_zero=True),\n",
    "        tf.keras.layers.Bidirectional(tf.keras.layers.LSTM(64)),\n",
    "        tf.keras.layers.Dense(64, activation=\"relu\"),\n",
    "        tf.keras.layers.Dense(1)\n",
    "    ])\n",
    "    return model"
   ]
  },
  {
   "attachments": {},
   "cell_type": "markdown",
   "metadata": {},
   "source": [
    " **Train the model**"
   ]
  },
  {
   "attachments": {},
   "cell_type": "markdown",
   "metadata": {},
   "source": [
    "##### Experiment 1: Use integer indices for encoding tokens"
   ]
  },
  {
   "cell_type": "code",
   "execution_count": 23,
   "metadata": {},
   "outputs": [],
   "source": [
    "### TENSORBOARD USAGE\n",
    "#log_dir = \"4_nlp_rnns/logs/fit/\" + datetime.datetime.now().strftime(\"%Y%m%d-%H%M%S\")\n",
    "#tensorboard_callback = tf.keras.callbacks.TensorBoard(log_dir=log_dir)"
   ]
  },
  {
   "cell_type": "code",
   "execution_count": 24,
   "metadata": {},
   "outputs": [
    {
     "name": "stdout",
     "output_type": "stream",
     "text": [
      "1/1 [==============================] - 2s 2s/step\n",
      "[-0.01784826]\n"
     ]
    }
   ],
   "source": [
    "model = create_model(encoder_int)\n",
    "sample_text = \"( A \\cup B ) \\cap (C \\cup D )\"\n",
    "# predict on a sample formula using untrained model\n",
    "predictions = model.predict(np.array([sample_text]))\n",
    "print(predictions[0])"
   ]
  },
  {
   "cell_type": "code",
   "execution_count": 25,
   "metadata": {},
   "outputs": [
    {
     "name": "stdout",
     "output_type": "stream",
     "text": [
      "Model: \"sequential\"\n",
      "_________________________________________________________________\n",
      " Layer (type)                Output Shape              Param #   \n",
      "=================================================================\n",
      " text_vectorization (TextVec  (None, None)             0         \n",
      " torization)                                                     \n",
      "                                                                 \n",
      " embedding (Embedding)       (None, None, 64)          3840      \n",
      "                                                                 \n",
      " bidirectional (Bidirectiona  (None, 128)              66048     \n",
      " l)                                                              \n",
      "                                                                 \n",
      " dense (Dense)               (None, 64)                8256      \n",
      "                                                                 \n",
      " dense_1 (Dense)             (None, 1)                 65        \n",
      "                                                                 \n",
      "=================================================================\n",
      "Total params: 78,209\n",
      "Trainable params: 78,209\n",
      "Non-trainable params: 0\n",
      "_________________________________________________________________\n"
     ]
    }
   ],
   "source": [
    "model.summary()"
   ]
  },
  {
   "cell_type": "code",
   "execution_count": 26,
   "metadata": {},
   "outputs": [],
   "source": [
    "LEARNING_RATE = 1e-4\n",
    "NUM_EPOCHS = 15\n",
    "\n",
    "model.compile(loss=tf.keras.losses.BinaryCrossentropy(from_logits=True),\n",
    "              optimizer=tf.keras.optimizers.Adam(LEARNING_RATE),\n",
    "              metrics=[\"accuracy\"])"
   ]
  },
  {
   "cell_type": "code",
   "execution_count": 27,
   "metadata": {},
   "outputs": [
    {
     "name": "stdout",
     "output_type": "stream",
     "text": [
      "Epoch 1/15\n",
      "155/156 [============================>.] - ETA: 0s - loss: 0.6431 - accuracy: 0.5509INFO:tensorflow:Assets written to: /home/paul_d/Sources/sem_math_repo/classification_formulas_binary/wandb/run-20230306_192105-299c1dsy/files/model-best/assets\n"
     ]
    },
    {
     "name": "stderr",
     "output_type": "stream",
     "text": [
      "INFO:tensorflow:Assets written to: /home/paul_d/Sources/sem_math_repo/classification_formulas_binary/wandb/run-20230306_192105-299c1dsy/files/model-best/assets\n"
     ]
    },
    {
     "name": "stdout",
     "output_type": "stream",
     "text": [
      "156/156 [==============================] - 23s 118ms/step - loss: 0.6427 - accuracy: 0.5503 - val_loss: 0.6735 - val_accuracy: 0.0073\n",
      "Epoch 2/15\n",
      "154/156 [============================>.] - ETA: 0s - loss: 0.5014 - accuracy: 0.6927INFO:tensorflow:Assets written to: /home/paul_d/Sources/sem_math_repo/classification_formulas_binary/wandb/run-20230306_192105-299c1dsy/files/model-best/assets\n"
     ]
    },
    {
     "name": "stderr",
     "output_type": "stream",
     "text": [
      "INFO:tensorflow:Assets written to: /home/paul_d/Sources/sem_math_repo/classification_formulas_binary/wandb/run-20230306_192105-299c1dsy/files/model-best/assets\n"
     ]
    },
    {
     "name": "stdout",
     "output_type": "stream",
     "text": [
      "156/156 [==============================] - 19s 122ms/step - loss: 0.5017 - accuracy: 0.6929 - val_loss: 0.5010 - val_accuracy: 0.5302\n",
      "Epoch 3/15\n",
      "156/156 [==============================] - ETA: 0s - loss: 0.4677 - accuracy: 0.7268INFO:tensorflow:Assets written to: /home/paul_d/Sources/sem_math_repo/classification_formulas_binary/wandb/run-20230306_192105-299c1dsy/files/model-best/assets\n"
     ]
    },
    {
     "name": "stderr",
     "output_type": "stream",
     "text": [
      "INFO:tensorflow:Assets written to: /home/paul_d/Sources/sem_math_repo/classification_formulas_binary/wandb/run-20230306_192105-299c1dsy/files/model-best/assets\n"
     ]
    },
    {
     "name": "stdout",
     "output_type": "stream",
     "text": [
      "156/156 [==============================] - 18s 118ms/step - loss: 0.4677 - accuracy: 0.7268 - val_loss: 0.4874 - val_accuracy: 0.5406\n",
      "Epoch 4/15\n",
      "155/156 [============================>.] - ETA: 0s - loss: 0.4572 - accuracy: 0.7322INFO:tensorflow:Assets written to: /home/paul_d/Sources/sem_math_repo/classification_formulas_binary/wandb/run-20230306_192105-299c1dsy/files/model-best/assets\n"
     ]
    },
    {
     "name": "stderr",
     "output_type": "stream",
     "text": [
      "INFO:tensorflow:Assets written to: /home/paul_d/Sources/sem_math_repo/classification_formulas_binary/wandb/run-20230306_192105-299c1dsy/files/model-best/assets\n"
     ]
    },
    {
     "name": "stdout",
     "output_type": "stream",
     "text": [
      "156/156 [==============================] - 22s 144ms/step - loss: 0.4576 - accuracy: 0.7321 - val_loss: 0.4687 - val_accuracy: 0.5521\n",
      "Epoch 5/15\n",
      "156/156 [==============================] - 3s 21ms/step - loss: 0.4513 - accuracy: 0.7355 - val_loss: 0.4747 - val_accuracy: 0.5531\n",
      "Epoch 6/15\n",
      "156/156 [==============================] - 3s 21ms/step - loss: 0.4473 - accuracy: 0.7372 - val_loss: 0.4825 - val_accuracy: 0.5562\n",
      "Epoch 7/15\n",
      "156/156 [==============================] - ETA: 0s - loss: 0.4448 - accuracy: 0.7392INFO:tensorflow:Assets written to: /home/paul_d/Sources/sem_math_repo/classification_formulas_binary/wandb/run-20230306_192105-299c1dsy/files/model-best/assets\n"
     ]
    },
    {
     "name": "stderr",
     "output_type": "stream",
     "text": [
      "INFO:tensorflow:Assets written to: /home/paul_d/Sources/sem_math_repo/classification_formulas_binary/wandb/run-20230306_192105-299c1dsy/files/model-best/assets\n"
     ]
    },
    {
     "name": "stdout",
     "output_type": "stream",
     "text": [
      "156/156 [==============================] - 18s 118ms/step - loss: 0.4448 - accuracy: 0.7392 - val_loss: 0.4603 - val_accuracy: 0.5594\n",
      "Epoch 8/15\n",
      "156/156 [==============================] - 4s 26ms/step - loss: 0.4428 - accuracy: 0.7387 - val_loss: 0.4643 - val_accuracy: 0.5594\n",
      "Epoch 9/15\n",
      "156/156 [==============================] - 4s 24ms/step - loss: 0.4411 - accuracy: 0.7396 - val_loss: 0.4652 - val_accuracy: 0.5594\n",
      "Epoch 10/15\n",
      "156/156 [==============================] - ETA: 0s - loss: 0.4394 - accuracy: 0.7397INFO:tensorflow:Assets written to: /home/paul_d/Sources/sem_math_repo/classification_formulas_binary/wandb/run-20230306_192105-299c1dsy/files/model-best/assets\n"
     ]
    },
    {
     "name": "stderr",
     "output_type": "stream",
     "text": [
      "INFO:tensorflow:Assets written to: /home/paul_d/Sources/sem_math_repo/classification_formulas_binary/wandb/run-20230306_192105-299c1dsy/files/model-best/assets\n"
     ]
    },
    {
     "name": "stdout",
     "output_type": "stream",
     "text": [
      "156/156 [==============================] - 19s 119ms/step - loss: 0.4394 - accuracy: 0.7397 - val_loss: 0.4494 - val_accuracy: 0.5583\n",
      "Epoch 11/15\n",
      "156/156 [==============================] - 3s 20ms/step - loss: 0.4388 - accuracy: 0.7384 - val_loss: 0.4618 - val_accuracy: 0.5500\n",
      "Epoch 12/15\n",
      "155/156 [============================>.] - ETA: 0s - loss: 0.4382 - accuracy: 0.7430INFO:tensorflow:Assets written to: /home/paul_d/Sources/sem_math_repo/classification_formulas_binary/wandb/run-20230306_192105-299c1dsy/files/model-best/assets\n"
     ]
    },
    {
     "name": "stderr",
     "output_type": "stream",
     "text": [
      "INFO:tensorflow:Assets written to: /home/paul_d/Sources/sem_math_repo/classification_formulas_binary/wandb/run-20230306_192105-299c1dsy/files/model-best/assets\n"
     ]
    },
    {
     "name": "stdout",
     "output_type": "stream",
     "text": [
      "156/156 [==============================] - 17s 110ms/step - loss: 0.4374 - accuracy: 0.7433 - val_loss: 0.4482 - val_accuracy: 0.5510\n",
      "Epoch 13/15\n",
      "156/156 [==============================] - 3s 19ms/step - loss: 0.4366 - accuracy: 0.7387 - val_loss: 0.4629 - val_accuracy: 0.5490\n",
      "Epoch 14/15\n",
      "156/156 [==============================] - 3s 20ms/step - loss: 0.4358 - accuracy: 0.7408 - val_loss: 0.4717 - val_accuracy: 0.5458\n",
      "Epoch 15/15\n",
      "156/156 [==============================] - ETA: 0s - loss: 0.4346 - accuracy: 0.7462INFO:tensorflow:Assets written to: /home/paul_d/Sources/sem_math_repo/classification_formulas_binary/wandb/run-20230306_192105-299c1dsy/files/model-best/assets\n"
     ]
    },
    {
     "name": "stderr",
     "output_type": "stream",
     "text": [
      "INFO:tensorflow:Assets written to: /home/paul_d/Sources/sem_math_repo/classification_formulas_binary/wandb/run-20230306_192105-299c1dsy/files/model-best/assets\n"
     ]
    },
    {
     "name": "stdout",
     "output_type": "stream",
     "text": [
      "156/156 [==============================] - 17s 110ms/step - loss: 0.4346 - accuracy: 0.7462 - val_loss: 0.4478 - val_accuracy: 0.5750\n"
     ]
    }
   ],
   "source": [
    "configs_dict = {\n",
    "    \"learning_rate\": LEARNING_RATE,\n",
    "    \"algorithm\": \"BiLstm\",\n",
    "    \"configuration\": \"2-types\",\n",
    "    \"optimizer\": \"adam\",\n",
    "    \"loss\": \"binary_crossentropy\",\n",
    "    \"epochs\": NUM_EPOCHS,\n",
    "    \"batch_size\": 64,\n",
    "    \"vectorizer\": \"int\",\n",
    "    \"dataset\": \"TOKENIZED_SET_V1\"\n",
    "}\n",
    "run = wandb.init(project=wandb_project_name, reinit=True, config=configs_dict)\n",
    "\n",
    "history = model.fit(train_dataset, \n",
    "                    epochs=NUM_EPOCHS,\n",
    "                    validation_data=test_dataset,\n",
    "                    steps_per_epoch = STEPS_PER_EPOCH,\n",
    "                    validation_steps = VAL_STEPS_PER_EPOCH,\n",
    "                    callbacks= [WandbCallback()])#[tensorboard_callback])\n",
    "run.finish()"
   ]
  },
  {
   "cell_type": "code",
   "execution_count": 28,
   "metadata": {},
   "outputs": [
    {
     "name": "stdout",
     "output_type": "stream",
     "text": [
      "15/15 [==============================] - 0s 5ms/step - loss: 0.4478 - accuracy: 0.5750\n",
      "Test Loss: 0.4477997124195099\n",
      "Test Accuracy: 0.574999988079071\n"
     ]
    }
   ],
   "source": [
    "test_loss, test_acc = model.evaluate(test_dataset)\n",
    "\n",
    "print(\"Test Loss:\", test_loss)\n",
    "print(\"Test Accuracy:\", test_acc)"
   ]
  },
  {
   "cell_type": "code",
   "execution_count": 29,
   "metadata": {},
   "outputs": [
    {
     "data": {
      "text/plain": [
       "(0.0, 0.6854679137468338)"
      ]
     },
     "execution_count": 29,
     "metadata": {},
     "output_type": "execute_result"
    },
    {
     "data": {
      "image/png": "[encoded data removed]",
      "text/plain": [
       "<Figure size 1600x800 with 2 Axes>"
      ]
     },
     "metadata": {},
     "output_type": "display_data"
    }
   ],
   "source": [
    "plt.figure(figsize=(16,8))\n",
    "plt.subplot(1,2,1)\n",
    "plot_graphs(history, \"accuracy\")\n",
    "plt.ylim(None, 1)\n",
    "plt.subplot(1,2,2)\n",
    "plot_graphs(history, \"loss\")\n",
    "plt.ylim(0, None)"
   ]
  },
  {
   "cell_type": "code",
   "execution_count": 30,
   "metadata": {},
   "outputs": [
    {
     "name": "stdout",
     "output_type": "stream",
     "text": [
      "1/1 [==============================] - 1s 1s/step\n",
      "[0.7807458]\n"
     ]
    }
   ],
   "source": [
    "# predict on a sample text without padding\n",
    "predictions = model.predict(np.array([sample_text]))\n",
    "print(predictions[0])"
   ]
  },
  {
   "attachments": {},
   "cell_type": "markdown",
   "metadata": {},
   "source": [
    "##### Experiment 2: Use binary count vectorizer for encoding"
   ]
  },
  {
   "cell_type": "code",
   "execution_count": 31,
   "metadata": {},
   "outputs": [
    {
     "name": "stdout",
     "output_type": "stream",
     "text": [
      "1/1 [==============================] - 1s 1s/step\n",
      "[0.00495063]\n"
     ]
    }
   ],
   "source": [
    "model = create_model(encoder_multi_hot, 30)\n",
    "# predict on a sample formula using untrained model\n",
    "predictions = model.predict(np.array([sample_text]))\n",
    "print(predictions[0])"
   ]
  },
  {
   "cell_type": "code",
   "execution_count": 32,
   "metadata": {},
   "outputs": [],
   "source": [
    "LEARNING_RATE = 1e-4\n",
    "NUM_EPOCHS = 15\n",
    "\n",
    "sample_text = \"( A \\cup B ) \\cap (C \\cup D )\"\n",
    "model.compile(loss=tf.keras.losses.BinaryCrossentropy(from_logits=True),\n",
    "              optimizer=tf.keras.optimizers.Adam(LEARNING_RATE),\n",
    "              metrics=[\"accuracy\"])"
   ]
  },
  {
   "cell_type": "code",
   "execution_count": 33,
   "metadata": {},
   "outputs": [
    {
     "name": "stdout",
     "output_type": "stream",
     "text": [
      "Epoch 1/15\n",
      "155/156 [============================>.] - ETA: 0s - loss: 0.6914 - accuracy: 0.5503INFO:tensorflow:Assets written to: /home/paul_d/Sources/sem_math_repo/classification_formulas_binary/wandb/run-20230306_192420-wvv1dogd/files/model-best/assets\n"
     ]
    },
    {
     "name": "stderr",
     "output_type": "stream",
     "text": [
      "INFO:tensorflow:Assets written to: /home/paul_d/Sources/sem_math_repo/classification_formulas_binary/wandb/run-20230306_192420-wvv1dogd/files/model-best/assets\n"
     ]
    },
    {
     "name": "stdout",
     "output_type": "stream",
     "text": [
      "156/156 [==============================] - 24s 121ms/step - loss: 0.6914 - accuracy: 0.5499 - val_loss: 0.7387 - val_accuracy: 0.0000e+00\n",
      "Epoch 2/15\n",
      "156/156 [==============================] - 5s 31ms/step - loss: 0.6892 - accuracy: 0.5500 - val_loss: 0.7646 - val_accuracy: 0.0000e+00\n",
      "Epoch 3/15\n",
      "156/156 [==============================] - 5s 34ms/step - loss: 0.6831 - accuracy: 0.5499 - val_loss: 0.7450 - val_accuracy: 0.0000e+00\n",
      "Epoch 4/15\n",
      "156/156 [==============================] - 5s 32ms/step - loss: 0.6682 - accuracy: 0.5494 - val_loss: 0.7572 - val_accuracy: 0.0510\n",
      "Epoch 5/15\n",
      "156/156 [==============================] - 5s 31ms/step - loss: 0.6583 - accuracy: 0.6174 - val_loss: 0.8157 - val_accuracy: 0.2385\n",
      "Epoch 6/15\n",
      "156/156 [==============================] - 5s 34ms/step - loss: 0.6537 - accuracy: 0.6214 - val_loss: 0.8067 - val_accuracy: 0.2896\n",
      "Epoch 7/15\n",
      "156/156 [==============================] - 6s 39ms/step - loss: 0.6510 - accuracy: 0.6210 - val_loss: 0.7773 - val_accuracy: 0.2896\n",
      "Epoch 8/15\n",
      "156/156 [==============================] - 6s 37ms/step - loss: 0.6493 - accuracy: 0.6207 - val_loss: 0.7606 - val_accuracy: 0.2896\n",
      "Epoch 9/15\n",
      "156/156 [==============================] - 5s 34ms/step - loss: 0.6482 - accuracy: 0.6212 - val_loss: 0.7613 - val_accuracy: 0.2896\n",
      "Epoch 10/15\n",
      "156/156 [==============================] - 5s 31ms/step - loss: 0.6479 - accuracy: 0.6199 - val_loss: 0.7890 - val_accuracy: 0.2385\n",
      "Epoch 11/15\n",
      "156/156 [==============================] - 5s 32ms/step - loss: 0.6468 - accuracy: 0.6211 - val_loss: 0.7812 - val_accuracy: 0.2385\n",
      "Epoch 12/15\n",
      "155/156 [============================>.] - ETA: 0s - loss: 0.6463 - accuracy: 0.6216INFO:tensorflow:Assets written to: /home/paul_d/Sources/sem_math_repo/classification_formulas_binary/wandb/run-20230306_192420-wvv1dogd/files/model-best/assets\n"
     ]
    },
    {
     "name": "stderr",
     "output_type": "stream",
     "text": [
      "INFO:tensorflow:Assets written to: /home/paul_d/Sources/sem_math_repo/classification_formulas_binary/wandb/run-20230306_192420-wvv1dogd/files/model-best/assets\n"
     ]
    },
    {
     "name": "stdout",
     "output_type": "stream",
     "text": [
      "156/156 [==============================] - 19s 122ms/step - loss: 0.6462 - accuracy: 0.6219 - val_loss: 0.7298 - val_accuracy: 0.2896\n",
      "Epoch 13/15\n",
      "156/156 [==============================] - 5s 31ms/step - loss: 0.6462 - accuracy: 0.6193 - val_loss: 0.7678 - val_accuracy: 0.2385\n",
      "Epoch 14/15\n",
      "156/156 [==============================] - 5s 30ms/step - loss: 0.6455 - accuracy: 0.6225 - val_loss: 0.7346 - val_accuracy: 0.2896\n",
      "Epoch 15/15\n",
      "156/156 [==============================] - 5s 30ms/step - loss: 0.6449 - accuracy: 0.6216 - val_loss: 0.7584 - val_accuracy: 0.2385\n"
     ]
    }
   ],
   "source": [
    "configs_dict = {\n",
    "    \"learning_rate\": LEARNING_RATE,\n",
    "    \"algorithm\": \"BiLstm\",\n",
    "    \"configuration\": \"2-types\",\n",
    "    \"optimizer\": \"adam\",\n",
    "    \"loss\": \"binary_crossentropy\",\n",
    "    \"epochs\": NUM_EPOCHS,\n",
    "    \"batch_size\": 64,\n",
    "    \"vectorizer\": \"multi_hot\",\n",
    "    \"dataset\": \"TOKENIZED_SET_V1\"\n",
    "}\n",
    "run = wandb.init(project=wandb_project_name, reinit=True, config=configs_dict)\n",
    "\n",
    "history = model.fit(train_dataset, \n",
    "                    epochs=NUM_EPOCHS,\n",
    "                    validation_data=test_dataset,\n",
    "                    steps_per_epoch = STEPS_PER_EPOCH,\n",
    "                    validation_steps = VAL_STEPS_PER_EPOCH,\n",
    "                    callbacks= [WandbCallback()])#[tensorboard_callback])\n",
    "run.finish()"
   ]
  },
  {
   "cell_type": "code",
   "execution_count": 34,
   "metadata": {},
   "outputs": [
    {
     "name": "stdout",
     "output_type": "stream",
     "text": [
      "15/15 [==============================] - 0s 11ms/step - loss: 0.7584 - accuracy: 0.2385\n",
      "Test Loss: 0.7584447264671326\n",
      "Test Accuracy: 0.23854166269302368\n"
     ]
    }
   ],
   "source": [
    "test_loss, test_acc = model.evaluate(test_dataset)\n",
    "\n",
    "print(\"Test Loss:\", test_loss)\n",
    "print(\"Test Accuracy:\", test_acc)"
   ]
  },
  {
   "cell_type": "code",
   "execution_count": 35,
   "metadata": {},
   "outputs": [
    {
     "data": {
      "text/plain": [
       "(0.0, 0.8242839336395263)"
      ]
     },
     "execution_count": 35,
     "metadata": {},
     "output_type": "execute_result"
    },
    {
     "data": {
      "image/png": "[encoded data removed]",
      "text/plain": [
       "<Figure size 1600x800 with 2 Axes>"
      ]
     },
     "metadata": {},
     "output_type": "display_data"
    }
   ],
   "source": [
    "plt.figure(figsize=(16,8))\n",
    "plt.subplot(1,2,1)\n",
    "plot_graphs(history, \"accuracy\")\n",
    "plt.ylim(None, 1)\n",
    "plt.subplot(1,2,2)\n",
    "plot_graphs(history, \"loss\")\n",
    "plt.ylim(0, None)"
   ]
  },
  {
   "cell_type": "code",
   "execution_count": 36,
   "metadata": {},
   "outputs": [
    {
     "name": "stdout",
     "output_type": "stream",
     "text": [
      "1/1 [==============================] - 3s 3s/step\n",
      "[-0.09123264]\n"
     ]
    }
   ],
   "source": [
    "# predict on a sample text without padding\n",
    "predictions = model.predict(np.array([sample_text]))\n",
    "print(predictions[0])"
   ]
  },
  {
   "attachments": {},
   "cell_type": "markdown",
   "metadata": {},
   "source": [
    "##### Experiment 3:"
   ]
  },
  {
   "cell_type": "code",
   "execution_count": 37,
   "metadata": {},
   "outputs": [
    {
     "name": "stdout",
     "output_type": "stream",
     "text": [
      "WARNING:tensorflow:5 out of the last 5 calls to <function Model.make_predict_function.<locals>.predict_function at 0x7f4bf038b9a0> triggered tf.function retracing. Tracing is expensive and the excessive number of tracings could be due to (1) creating @tf.function repeatedly in a loop, (2) passing tensors with different shapes, (3) passing Python objects instead of tensors. For (1), please define your @tf.function outside of the loop. For (2), @tf.function has reduce_retracing=True option that can avoid unnecessary retracing. For (3), please refer to https://www.tensorflow.org/guide/function#controlling_retracing and https://www.tensorflow.org/api_docs/python/tf/function for  more details.\n"
     ]
    },
    {
     "name": "stderr",
     "output_type": "stream",
     "text": [
      "WARNING:tensorflow:5 out of the last 5 calls to <function Model.make_predict_function.<locals>.predict_function at 0x7f4bf038b9a0> triggered tf.function retracing. Tracing is expensive and the excessive number of tracings could be due to (1) creating @tf.function repeatedly in a loop, (2) passing tensors with different shapes, (3) passing Python objects instead of tensors. For (1), please define your @tf.function outside of the loop. For (2), @tf.function has reduce_retracing=True option that can avoid unnecessary retracing. For (3), please refer to https://www.tensorflow.org/guide/function#controlling_retracing and https://www.tensorflow.org/api_docs/python/tf/function for  more details.\n"
     ]
    },
    {
     "name": "stdout",
     "output_type": "stream",
     "text": [
      "1/1 [==============================] - 1s 1s/step\n",
      "[-0.01303172]\n"
     ]
    }
   ],
   "source": [
    "model = create_model(encoder_count, 30)\n",
    "# predict on a sample formula using untrained model\n",
    "predictions = model.predict(np.array([sample_text]))\n",
    "print(predictions[0])"
   ]
  },
  {
   "cell_type": "code",
   "execution_count": 38,
   "metadata": {},
   "outputs": [],
   "source": [
    "LEARNING_RATE = 1e-4\n",
    "NUM_EPOCHS = 15\n",
    "\n",
    "sample_text = \"( A \\cup B ) \\cap (C \\cup D )\"\n",
    "model.compile(loss=tf.keras.losses.BinaryCrossentropy(from_logits=True),\n",
    "              optimizer=tf.keras.optimizers.Adam(LEARNING_RATE),\n",
    "              metrics=[\"accuracy\"])"
   ]
  },
  {
   "cell_type": "code",
   "execution_count": 39,
   "metadata": {},
   "outputs": [
    {
     "name": "stdout",
     "output_type": "stream",
     "text": [
      "Epoch 1/15\n",
      "156/156 [==============================] - ETA: 0s - loss: 0.6880 - accuracy: 0.5498INFO:tensorflow:Assets written to: /home/paul_d/Sources/sem_math_repo/classification_formulas_binary/wandb/run-20230306_192622-sujpx6p7/files/model-best/assets\n"
     ]
    },
    {
     "name": "stderr",
     "output_type": "stream",
     "text": [
      "INFO:tensorflow:Assets written to: /home/paul_d/Sources/sem_math_repo/classification_formulas_binary/wandb/run-20230306_192622-sujpx6p7/files/model-best/assets\n"
     ]
    },
    {
     "name": "stdout",
     "output_type": "stream",
     "text": [
      "156/156 [==============================] - 25s 129ms/step - loss: 0.6880 - accuracy: 0.5498 - val_loss: 0.7288 - val_accuracy: 0.0000e+00\n",
      "Epoch 2/15\n",
      "155/156 [============================>.] - ETA: 0s - loss: 0.6650 - accuracy: 0.5492INFO:tensorflow:Assets written to: /home/paul_d/Sources/sem_math_repo/classification_formulas_binary/wandb/run-20230306_192622-sujpx6p7/files/model-best/assets\n"
     ]
    },
    {
     "name": "stderr",
     "output_type": "stream",
     "text": [
      "INFO:tensorflow:Assets written to: /home/paul_d/Sources/sem_math_repo/classification_formulas_binary/wandb/run-20230306_192622-sujpx6p7/files/model-best/assets\n"
     ]
    },
    {
     "name": "stdout",
     "output_type": "stream",
     "text": [
      "156/156 [==============================] - 19s 124ms/step - loss: 0.6650 - accuracy: 0.5496 - val_loss: 0.7172 - val_accuracy: 0.0000e+00\n",
      "Epoch 3/15\n",
      "155/156 [============================>.] - ETA: 0s - loss: 0.6451 - accuracy: 0.5557INFO:tensorflow:Assets written to: /home/paul_d/Sources/sem_math_repo/classification_formulas_binary/wandb/run-20230306_192622-sujpx6p7/files/model-best/assets\n"
     ]
    },
    {
     "name": "stderr",
     "output_type": "stream",
     "text": [
      "INFO:tensorflow:Assets written to: /home/paul_d/Sources/sem_math_repo/classification_formulas_binary/wandb/run-20230306_192622-sujpx6p7/files/model-best/assets\n"
     ]
    },
    {
     "name": "stdout",
     "output_type": "stream",
     "text": [
      "156/156 [==============================] - 20s 128ms/step - loss: 0.6451 - accuracy: 0.5558 - val_loss: 0.6964 - val_accuracy: 0.0885\n",
      "Epoch 4/15\n",
      "156/156 [==============================] - 5s 35ms/step - loss: 0.6366 - accuracy: 0.6015 - val_loss: 0.7033 - val_accuracy: 0.3156\n",
      "Epoch 5/15\n",
      "156/156 [==============================] - ETA: 0s - loss: 0.6283 - accuracy: 0.6445INFO:tensorflow:Assets written to: /home/paul_d/Sources/sem_math_repo/classification_formulas_binary/wandb/run-20230306_192622-sujpx6p7/files/model-best/assets\n"
     ]
    },
    {
     "name": "stderr",
     "output_type": "stream",
     "text": [
      "INFO:tensorflow:Assets written to: /home/paul_d/Sources/sem_math_repo/classification_formulas_binary/wandb/run-20230306_192622-sujpx6p7/files/model-best/assets\n"
     ]
    },
    {
     "name": "stdout",
     "output_type": "stream",
     "text": [
      "156/156 [==============================] - 20s 126ms/step - loss: 0.6283 - accuracy: 0.6445 - val_loss: 0.6886 - val_accuracy: 0.3521\n",
      "Epoch 6/15\n",
      "156/156 [==============================] - 5s 30ms/step - loss: 0.6220 - accuracy: 0.6436 - val_loss: 0.7140 - val_accuracy: 0.3521\n",
      "Epoch 7/15\n",
      "156/156 [==============================] - 5s 31ms/step - loss: 0.6178 - accuracy: 0.6458 - val_loss: 0.7267 - val_accuracy: 0.3146\n",
      "Epoch 8/15\n",
      "156/156 [==============================] - ETA: 0s - loss: 0.6149 - accuracy: 0.6448INFO:tensorflow:Assets written to: /home/paul_d/Sources/sem_math_repo/classification_formulas_binary/wandb/run-20230306_192622-sujpx6p7/files/model-best/assets\n"
     ]
    },
    {
     "name": "stderr",
     "output_type": "stream",
     "text": [
      "INFO:tensorflow:Assets written to: /home/paul_d/Sources/sem_math_repo/classification_formulas_binary/wandb/run-20230306_192622-sujpx6p7/files/model-best/assets\n"
     ]
    },
    {
     "name": "stdout",
     "output_type": "stream",
     "text": [
      "156/156 [==============================] - 19s 120ms/step - loss: 0.6149 - accuracy: 0.6448 - val_loss: 0.6777 - val_accuracy: 0.3562\n",
      "Epoch 9/15\n",
      "156/156 [==============================] - 5s 31ms/step - loss: 0.6104 - accuracy: 0.6432 - val_loss: 0.6924 - val_accuracy: 0.3135\n",
      "Epoch 10/15\n",
      "156/156 [==============================] - 5s 31ms/step - loss: 0.6052 - accuracy: 0.6441 - val_loss: 0.6792 - val_accuracy: 0.3167\n",
      "Epoch 11/15\n",
      "156/156 [==============================] - 5s 32ms/step - loss: 0.6004 - accuracy: 0.6445 - val_loss: 0.7205 - val_accuracy: 0.2885\n",
      "Epoch 12/15\n",
      "156/156 [==============================] - 5s 31ms/step - loss: 0.5964 - accuracy: 0.6451 - val_loss: 0.7046 - val_accuracy: 0.2917\n",
      "Epoch 13/15\n",
      "156/156 [==============================] - 5s 31ms/step - loss: 0.5933 - accuracy: 0.6459 - val_loss: 0.6826 - val_accuracy: 0.2969\n",
      "Epoch 14/15\n",
      "155/156 [============================>.] - ETA: 0s - loss: 0.5904 - accuracy: 0.6493INFO:tensorflow:Assets written to: /home/paul_d/Sources/sem_math_repo/classification_formulas_binary/wandb/run-20230306_192622-sujpx6p7/files/model-best/assets\n"
     ]
    },
    {
     "name": "stderr",
     "output_type": "stream",
     "text": [
      "INFO:tensorflow:Assets written to: /home/paul_d/Sources/sem_math_repo/classification_formulas_binary/wandb/run-20230306_192622-sujpx6p7/files/model-best/assets\n"
     ]
    },
    {
     "name": "stdout",
     "output_type": "stream",
     "text": [
      "156/156 [==============================] - 19s 124ms/step - loss: 0.5903 - accuracy: 0.6492 - val_loss: 0.6511 - val_accuracy: 0.3229\n",
      "Epoch 15/15\n",
      "156/156 [==============================] - 5s 30ms/step - loss: 0.5883 - accuracy: 0.6510 - val_loss: 0.6632 - val_accuracy: 0.3187\n"
     ]
    }
   ],
   "source": [
    "configs_dict = {\n",
    "    \"learning_rate\": LEARNING_RATE,\n",
    "    \"algorithm\": \"BiLstm\",\n",
    "    \"configuration\": \"2-types\",\n",
    "    \"optimizer\": \"adam\",\n",
    "    \"loss\": \"binary_crossentropy\",\n",
    "    \"epochs\": NUM_EPOCHS,\n",
    "    \"batch_size\": 64,\n",
    "    \"vectorizer\": \"count\",\n",
    "    \"dataset\": \"TOKENIZED_SET_V1\"\n",
    "}\n",
    "run = wandb.init(project=wandb_project_name, reinit=True, config=configs_dict)\n",
    "\n",
    "history = model.fit(train_dataset, \n",
    "                    epochs=NUM_EPOCHS,\n",
    "                    validation_data=test_dataset,\n",
    "                    steps_per_epoch = STEPS_PER_EPOCH,\n",
    "                    validation_steps = VAL_STEPS_PER_EPOCH,\n",
    "                    callbacks= [WandbCallback()])#[tensorboard_callback])\n",
    "run.finish()"
   ]
  },
  {
   "cell_type": "code",
   "execution_count": 40,
   "metadata": {},
   "outputs": [
    {
     "name": "stdout",
     "output_type": "stream",
     "text": [
      "15/15 [==============================] - 0s 11ms/step - loss: 0.6632 - accuracy: 0.3187\n",
      "Test Loss: 0.6632261872291565\n",
      "Test Accuracy: 0.3187499940395355\n"
     ]
    }
   ],
   "source": [
    "test_loss, test_acc = model.evaluate(test_dataset)\n",
    "\n",
    "print(\"Test Loss:\", test_loss)\n",
    "print(\"Test Accuracy:\", test_acc)"
   ]
  },
  {
   "cell_type": "code",
   "execution_count": 41,
   "metadata": {},
   "outputs": [
    {
     "data": {
      "text/plain": [
       "(0.0, 0.7357930809259414)"
      ]
     },
     "execution_count": 41,
     "metadata": {},
     "output_type": "execute_result"
    },
    {
     "data": {
      "image/png": "[encoded data removed]",
      "text/plain": [
       "<Figure size 1600x800 with 2 Axes>"
      ]
     },
     "metadata": {},
     "output_type": "display_data"
    }
   ],
   "source": [
    "plt.figure(figsize=(16,8))\n",
    "plt.subplot(1,2,1)\n",
    "plot_graphs(history, \"accuracy\")\n",
    "plt.ylim(None, 1)\n",
    "plt.subplot(1,2,2)\n",
    "plot_graphs(history, \"loss\")\n",
    "plt.ylim(0, None)"
   ]
  },
  {
   "cell_type": "code",
   "execution_count": 42,
   "metadata": {},
   "outputs": [
    {
     "name": "stdout",
     "output_type": "stream",
     "text": [
      "WARNING:tensorflow:6 out of the last 6 calls to <function Model.make_predict_function.<locals>.predict_function at 0x7f4c584f3d00> triggered tf.function retracing. Tracing is expensive and the excessive number of tracings could be due to (1) creating @tf.function repeatedly in a loop, (2) passing tensors with different shapes, (3) passing Python objects instead of tensors. For (1), please define your @tf.function outside of the loop. For (2), @tf.function has reduce_retracing=True option that can avoid unnecessary retracing. For (3), please refer to https://www.tensorflow.org/guide/function#controlling_retracing and https://www.tensorflow.org/api_docs/python/tf/function for  more details.\n"
     ]
    },
    {
     "name": "stderr",
     "output_type": "stream",
     "text": [
      "WARNING:tensorflow:6 out of the last 6 calls to <function Model.make_predict_function.<locals>.predict_function at 0x7f4c584f3d00> triggered tf.function retracing. Tracing is expensive and the excessive number of tracings could be due to (1) creating @tf.function repeatedly in a loop, (2) passing tensors with different shapes, (3) passing Python objects instead of tensors. For (1), please define your @tf.function outside of the loop. For (2), @tf.function has reduce_retracing=True option that can avoid unnecessary retracing. For (3), please refer to https://www.tensorflow.org/guide/function#controlling_retracing and https://www.tensorflow.org/api_docs/python/tf/function for  more details.\n"
     ]
    },
    {
     "name": "stdout",
     "output_type": "stream",
     "text": [
      "1/1 [==============================] - 1s 1s/step\n",
      "[-0.8138238]\n"
     ]
    }
   ],
   "source": [
    "# predict on a sample text without padding\n",
    "predictions = model.predict(np.array([sample_text]))\n",
    "print(predictions[0])"
   ]
  },
  {
   "attachments": {},
   "cell_type": "markdown",
   "metadata": {},
   "source": [
    "##### Experiment 4:"
   ]
  },
  {
   "cell_type": "code",
   "execution_count": 43,
   "metadata": {},
   "outputs": [
    {
     "name": "stdout",
     "output_type": "stream",
     "text": [
      "1/1 [==============================] - 1s 1s/step\n",
      "[0.00264617]\n"
     ]
    }
   ],
   "source": [
    "model = create_model(encoder_bigrams, 30)\n",
    "# predict on a sample formula using untrained model\n",
    "predictions = model.predict(np.array([sample_text]))\n",
    "print(predictions[0])"
   ]
  },
  {
   "cell_type": "code",
   "execution_count": 44,
   "metadata": {},
   "outputs": [],
   "source": [
    "LEARNING_RATE = 1e-4\n",
    "NUM_EPOCHS = 15\n",
    "\n",
    "sample_text = \"( A \\cup B ) \\cap (C \\cup D )\"\n",
    "model.compile(loss=tf.keras.losses.BinaryCrossentropy(from_logits=True),\n",
    "              optimizer=tf.keras.optimizers.Adam(LEARNING_RATE),\n",
    "              metrics=[\"accuracy\"])"
   ]
  },
  {
   "cell_type": "code",
   "execution_count": 45,
   "metadata": {},
   "outputs": [
    {
     "name": "stdout",
     "output_type": "stream",
     "text": [
      "Model: \"sequential_3\"\n",
      "_________________________________________________________________\n",
      " Layer (type)                Output Shape              Param #   \n",
      "=================================================================\n",
      " text_vectorization_3 (TextV  (None, 355)              0         \n",
      " ectorization)                                                   \n",
      "                                                                 \n",
      " embedding_3 (Embedding)     (None, 355, 64)           24640     \n",
      "                                                                 \n",
      " bidirectional_3 (Bidirectio  (None, 128)              66048     \n",
      " nal)                                                            \n",
      "                                                                 \n",
      " dense_6 (Dense)             (None, 64)                8256      \n",
      "                                                                 \n",
      " dense_7 (Dense)             (None, 1)                 65        \n",
      "                                                                 \n",
      "=================================================================\n",
      "Total params: 99,009\n",
      "Trainable params: 99,009\n",
      "Non-trainable params: 0\n",
      "_________________________________________________________________\n"
     ]
    }
   ],
   "source": [
    "model.summary()"
   ]
  },
  {
   "cell_type": "code",
   "execution_count": 46,
   "metadata": {},
   "outputs": [
    {
     "name": "stdout",
     "output_type": "stream",
     "text": [
      "Epoch 1/15\n",
      "156/156 [==============================] - ETA: 0s - loss: 0.6879 - accuracy: 0.5503INFO:tensorflow:Assets written to: /home/paul_d/Sources/sem_math_repo/classification_formulas_binary/wandb/run-20230306_193031-7fl0vyqb/files/model-best/assets\n"
     ]
    },
    {
     "name": "stderr",
     "output_type": "stream",
     "text": [
      "INFO:tensorflow:Assets written to: /home/paul_d/Sources/sem_math_repo/classification_formulas_binary/wandb/run-20230306_193031-7fl0vyqb/files/model-best/assets\n"
     ]
    },
    {
     "name": "stdout",
     "output_type": "stream",
     "text": [
      "156/156 [==============================] - 47s 274ms/step - loss: 0.6879 - accuracy: 0.5503 - val_loss: 0.7179 - val_accuracy: 0.0000e+00\n",
      "Epoch 2/15\n",
      "156/156 [==============================] - ETA: 0s - loss: 0.6642 - accuracy: 0.5531INFO:tensorflow:Assets written to: /home/paul_d/Sources/sem_math_repo/classification_formulas_binary/wandb/run-20230306_193031-7fl0vyqb/files/model-best/assets\n"
     ]
    },
    {
     "name": "stderr",
     "output_type": "stream",
     "text": [
      "INFO:tensorflow:Assets written to: /home/paul_d/Sources/sem_math_repo/classification_formulas_binary/wandb/run-20230306_193031-7fl0vyqb/files/model-best/assets\n"
     ]
    },
    {
     "name": "stdout",
     "output_type": "stream",
     "text": [
      "156/156 [==============================] - 45s 287ms/step - loss: 0.6642 - accuracy: 0.5531 - val_loss: 0.7086 - val_accuracy: 0.2677\n",
      "Epoch 3/15\n",
      "156/156 [==============================] - 28s 177ms/step - loss: 0.6308 - accuracy: 0.6400 - val_loss: 0.7580 - val_accuracy: 0.3052\n",
      "Epoch 4/15\n",
      "156/156 [==============================] - ETA: 0s - loss: 0.6241 - accuracy: 0.6425INFO:tensorflow:Assets written to: /home/paul_d/Sources/sem_math_repo/classification_formulas_binary/wandb/run-20230306_193031-7fl0vyqb/files/model-best/assets\n"
     ]
    },
    {
     "name": "stderr",
     "output_type": "stream",
     "text": [
      "INFO:tensorflow:Assets written to: /home/paul_d/Sources/sem_math_repo/classification_formulas_binary/wandb/run-20230306_193031-7fl0vyqb/files/model-best/assets\n"
     ]
    },
    {
     "name": "stdout",
     "output_type": "stream",
     "text": [
      "156/156 [==============================] - 42s 267ms/step - loss: 0.6241 - accuracy: 0.6425 - val_loss: 0.6718 - val_accuracy: 0.3198\n",
      "Epoch 5/15\n",
      "156/156 [==============================] - 28s 182ms/step - loss: 0.6191 - accuracy: 0.6453 - val_loss: 0.7086 - val_accuracy: 0.3198\n",
      "Epoch 6/15\n",
      "156/156 [==============================] - 32s 203ms/step - loss: 0.6137 - accuracy: 0.6438 - val_loss: 0.7050 - val_accuracy: 0.3083\n",
      "Epoch 7/15\n",
      "156/156 [==============================] - ETA: 0s - loss: 0.6090 - accuracy: 0.6431INFO:tensorflow:Assets written to: /home/paul_d/Sources/sem_math_repo/classification_formulas_binary/wandb/run-20230306_193031-7fl0vyqb/files/model-best/assets\n"
     ]
    },
    {
     "name": "stderr",
     "output_type": "stream",
     "text": [
      "INFO:tensorflow:Assets written to: /home/paul_d/Sources/sem_math_repo/classification_formulas_binary/wandb/run-20230306_193031-7fl0vyqb/files/model-best/assets\n"
     ]
    },
    {
     "name": "stdout",
     "output_type": "stream",
     "text": [
      "156/156 [==============================] - 46s 297ms/step - loss: 0.6090 - accuracy: 0.6431 - val_loss: 0.6689 - val_accuracy: 0.3208\n",
      "Epoch 8/15\n",
      "156/156 [==============================] - 28s 177ms/step - loss: 0.6040 - accuracy: 0.6424 - val_loss: 0.7046 - val_accuracy: 0.2906\n",
      "Epoch 9/15\n",
      "156/156 [==============================] - 29s 188ms/step - loss: 0.6002 - accuracy: 0.6469 - val_loss: 0.7446 - val_accuracy: 0.2833\n",
      "Epoch 10/15\n",
      "156/156 [==============================] - ETA: 0s - loss: 0.5978 - accuracy: 0.6438INFO:tensorflow:Assets written to: /home/paul_d/Sources/sem_math_repo/classification_formulas_binary/wandb/run-20230306_193031-7fl0vyqb/files/model-best/assets\n"
     ]
    },
    {
     "name": "stderr",
     "output_type": "stream",
     "text": [
      "INFO:tensorflow:Assets written to: /home/paul_d/Sources/sem_math_repo/classification_formulas_binary/wandb/run-20230306_193031-7fl0vyqb/files/model-best/assets\n"
     ]
    },
    {
     "name": "stdout",
     "output_type": "stream",
     "text": [
      "156/156 [==============================] - 44s 284ms/step - loss: 0.5978 - accuracy: 0.6438 - val_loss: 0.6679 - val_accuracy: 0.2969\n",
      "Epoch 11/15\n",
      "156/156 [==============================] - 31s 202ms/step - loss: 0.5960 - accuracy: 0.6457 - val_loss: 0.6771 - val_accuracy: 0.2958\n",
      "Epoch 12/15\n",
      "156/156 [==============================] - ETA: 0s - loss: 0.5956 - accuracy: 0.6448INFO:tensorflow:Assets written to: /home/paul_d/Sources/sem_math_repo/classification_formulas_binary/wandb/run-20230306_193031-7fl0vyqb/files/model-best/assets\n"
     ]
    },
    {
     "name": "stderr",
     "output_type": "stream",
     "text": [
      "INFO:tensorflow:Assets written to: /home/paul_d/Sources/sem_math_repo/classification_formulas_binary/wandb/run-20230306_193031-7fl0vyqb/files/model-best/assets\n"
     ]
    },
    {
     "name": "stdout",
     "output_type": "stream",
     "text": [
      "156/156 [==============================] - 44s 284ms/step - loss: 0.5956 - accuracy: 0.6448 - val_loss: 0.6442 - val_accuracy: 0.2979\n",
      "Epoch 13/15\n",
      "156/156 [==============================] - 26s 164ms/step - loss: 0.5924 - accuracy: 0.6468 - val_loss: 0.6665 - val_accuracy: 0.2969\n",
      "Epoch 14/15\n",
      "156/156 [==============================] - ETA: 0s - loss: 0.5920 - accuracy: 0.6452INFO:tensorflow:Assets written to: /home/paul_d/Sources/sem_math_repo/classification_formulas_binary/wandb/run-20230306_193031-7fl0vyqb/files/model-best/assets\n"
     ]
    },
    {
     "name": "stderr",
     "output_type": "stream",
     "text": [
      "INFO:tensorflow:Assets written to: /home/paul_d/Sources/sem_math_repo/classification_formulas_binary/wandb/run-20230306_193031-7fl0vyqb/files/model-best/assets\n"
     ]
    },
    {
     "name": "stdout",
     "output_type": "stream",
     "text": [
      "156/156 [==============================] - 44s 282ms/step - loss: 0.5920 - accuracy: 0.6452 - val_loss: 0.6020 - val_accuracy: 0.3000\n",
      "Epoch 15/15\n",
      "156/156 [==============================] - 29s 184ms/step - loss: 0.5910 - accuracy: 0.6456 - val_loss: 0.6609 - val_accuracy: 0.2969\n"
     ]
    }
   ],
   "source": [
    "configs_dict = {\n",
    "    \"learning_rate\": LEARNING_RATE,\n",
    "    \"algorithm\": \"BiLstm\",\n",
    "    \"configuration\": \"2-types\",\n",
    "    \"optimizer\": \"adam\",\n",
    "    \"loss\": \"binary_crossentropy\",\n",
    "    \"epochs\": NUM_EPOCHS,\n",
    "    \"batch_size\": 64,\n",
    "    \"vectorizer\": \"bigram_count\",\n",
    "    \"dataset\": \"TOKENIZED_SET_V1\"\n",
    "}\n",
    "run = wandb.init(project=wandb_project_name, reinit=True, config=configs_dict)\n",
    "\n",
    "history = model.fit(train_dataset, \n",
    "                    epochs=NUM_EPOCHS,\n",
    "                    validation_data=test_dataset,\n",
    "                    steps_per_epoch = STEPS_PER_EPOCH,\n",
    "                    validation_steps = VAL_STEPS_PER_EPOCH,\n",
    "                    callbacks= [WandbCallback()])#[tensorboard_callback])\n",
    "run.finish()"
   ]
  },
  {
   "cell_type": "code",
   "execution_count": 47,
   "metadata": {},
   "outputs": [
    {
     "name": "stdout",
     "output_type": "stream",
     "text": [
      "15/15 [==============================] - 1s 69ms/step - loss: 0.6609 - accuracy: 0.2969\n",
      "Test Loss: 0.6609039902687073\n",
      "Test Accuracy: 0.296875\n"
     ]
    }
   ],
   "source": [
    "test_loss, test_acc = model.evaluate(test_dataset)\n",
    "\n",
    "print(\"Test Loss:\", test_loss)\n",
    "print(\"Test Accuracy:\", test_acc)"
   ]
  },
  {
   "cell_type": "code",
   "execution_count": 48,
   "metadata": {},
   "outputs": [
    {
     "data": {
      "text/plain": [
       "(0.0, 0.7663837283849716)"
      ]
     },
     "execution_count": 48,
     "metadata": {},
     "output_type": "execute_result"
    },
    {
     "data": {
      "image/png": "[encoded data removed]",
      "text/plain": [
       "<Figure size 1600x800 with 2 Axes>"
      ]
     },
     "metadata": {},
     "output_type": "display_data"
    }
   ],
   "source": [
    "plt.figure(figsize=(16,8))\n",
    "plt.subplot(1,2,1)\n",
    "plot_graphs(history, \"accuracy\")\n",
    "plt.ylim(None, 1)\n",
    "plt.subplot(1,2,2)\n",
    "plot_graphs(history, \"loss\")\n",
    "plt.ylim(0, None)"
   ]
  },
  {
   "cell_type": "code",
   "execution_count": 49,
   "metadata": {},
   "outputs": [
    {
     "name": "stdout",
     "output_type": "stream",
     "text": [
      "1/1 [==============================] - 3s 3s/step\n",
      "[-0.30307266]\n"
     ]
    }
   ],
   "source": [
    "# predict on a sample text without padding\n",
    "predictions = model.predict(np.array([sample_text]))\n",
    "print(predictions[0])"
   ]
  },
  {
   "attachments": {},
   "cell_type": "markdown",
   "metadata": {},
   "source": [
    "##### Experiment 5:"
   ]
  },
  {
   "cell_type": "code",
   "execution_count": 50,
   "metadata": {},
   "outputs": [
    {
     "name": "stdout",
     "output_type": "stream",
     "text": [
      "1/1 [==============================] - 1s 1s/step\n",
      "[-0.00110074]\n"
     ]
    }
   ],
   "source": [
    "model_tf_idf = create_model(encoder_tf_idf,30)\n",
    "# predict on a sample formula using untrained model\n",
    "predictions = model_tf_idf.predict(np.array([sample_text]))\n",
    "print(predictions[0])"
   ]
  },
  {
   "cell_type": "code",
   "execution_count": 51,
   "metadata": {},
   "outputs": [],
   "source": [
    "LEARNING_RATE = 1e-4\n",
    "NUM_EPOCHS = 15\n",
    "sample_text = \"set_constant SET_BASIC\"\n",
    "\n",
    "model_tf_idf.compile(loss=tf.keras.losses.BinaryCrossentropy(from_logits=True),\n",
    "              optimizer=tf.keras.optimizers.Adam(LEARNING_RATE),\n",
    "              metrics=[\"accuracy\"])"
   ]
  },
  {
   "cell_type": "code",
   "execution_count": 52,
   "metadata": {},
   "outputs": [
    {
     "name": "stdout",
     "output_type": "stream",
     "text": [
      "Model: \"sequential_4\"\n",
      "_________________________________________________________________\n",
      " Layer (type)                Output Shape              Param #   \n",
      "=================================================================\n",
      " text_vectorization_4 (TextV  (None, 58)               1         \n",
      " ectorization)                                                   \n",
      "                                                                 \n",
      " embedding_4 (Embedding)     (None, 58, 64)            5632      \n",
      "                                                                 \n",
      " bidirectional_4 (Bidirectio  (None, 128)              66048     \n",
      " nal)                                                            \n",
      "                                                                 \n",
      " dense_8 (Dense)             (None, 64)                8256      \n",
      "                                                                 \n",
      " dense_9 (Dense)             (None, 1)                 65        \n",
      "                                                                 \n",
      "=================================================================\n",
      "Total params: 80,002\n",
      "Trainable params: 80,001\n",
      "Non-trainable params: 1\n",
      "_________________________________________________________________\n"
     ]
    }
   ],
   "source": [
    "model_tf_idf.summary()"
   ]
  },
  {
   "cell_type": "code",
   "execution_count": 53,
   "metadata": {},
   "outputs": [
    {
     "name": "stdout",
     "output_type": "stream",
     "text": [
      "Epoch 1/15\n",
      "156/156 [==============================] - ETA: 0s - loss: 0.6699 - accuracy: 0.5501INFO:tensorflow:Assets written to: /home/paul_d/Sources/sem_math_repo/classification_formulas_binary/wandb/run-20230306_194025-yrf91qoz/files/model-best/assets\n"
     ]
    },
    {
     "name": "stderr",
     "output_type": "stream",
     "text": [
      "INFO:tensorflow:Assets written to: /home/paul_d/Sources/sem_math_repo/classification_formulas_binary/wandb/run-20230306_194025-yrf91qoz/files/model-best/assets\n"
     ]
    },
    {
     "name": "stdout",
     "output_type": "stream",
     "text": [
      "156/156 [==============================] - 25s 131ms/step - loss: 0.6699 - accuracy: 0.5501 - val_loss: 0.6852 - val_accuracy: 0.0000e+00\n",
      "Epoch 2/15\n",
      "155/156 [============================>.] - ETA: 0s - loss: 0.5830 - accuracy: 0.6546INFO:tensorflow:Assets written to: /home/paul_d/Sources/sem_math_repo/classification_formulas_binary/wandb/run-20230306_194025-yrf91qoz/files/model-best/assets\n"
     ]
    },
    {
     "name": "stderr",
     "output_type": "stream",
     "text": [
      "INFO:tensorflow:Assets written to: /home/paul_d/Sources/sem_math_repo/classification_formulas_binary/wandb/run-20230306_194025-yrf91qoz/files/model-best/assets\n"
     ]
    },
    {
     "name": "stdout",
     "output_type": "stream",
     "text": [
      "156/156 [==============================] - 20s 129ms/step - loss: 0.5827 - accuracy: 0.6553 - val_loss: 0.5784 - val_accuracy: 0.3875\n",
      "Epoch 3/15\n",
      "156/156 [==============================] - 5s 34ms/step - loss: 0.5453 - accuracy: 0.6839 - val_loss: 0.5842 - val_accuracy: 0.3677\n",
      "Epoch 4/15\n",
      "156/156 [==============================] - 6s 36ms/step - loss: 0.5355 - accuracy: 0.6835 - val_loss: 0.5905 - val_accuracy: 0.3667\n",
      "Epoch 5/15\n",
      "156/156 [==============================] - 5s 34ms/step - loss: 0.5314 - accuracy: 0.6841 - val_loss: 0.5833 - val_accuracy: 0.3677\n",
      "Epoch 6/15\n",
      "156/156 [==============================] - ETA: 0s - loss: 0.5286 - accuracy: 0.6856INFO:tensorflow:Assets written to: /home/paul_d/Sources/sem_math_repo/classification_formulas_binary/wandb/run-20230306_194025-yrf91qoz/files/model-best/assets\n"
     ]
    },
    {
     "name": "stderr",
     "output_type": "stream",
     "text": [
      "INFO:tensorflow:Assets written to: /home/paul_d/Sources/sem_math_repo/classification_formulas_binary/wandb/run-20230306_194025-yrf91qoz/files/model-best/assets\n"
     ]
    },
    {
     "name": "stdout",
     "output_type": "stream",
     "text": [
      "156/156 [==============================] - 20s 130ms/step - loss: 0.5286 - accuracy: 0.6856 - val_loss: 0.5714 - val_accuracy: 0.3688\n",
      "Epoch 7/15\n",
      "156/156 [==============================] - 5s 33ms/step - loss: 0.5260 - accuracy: 0.6909 - val_loss: 0.5923 - val_accuracy: 0.3677\n",
      "Epoch 8/15\n",
      "156/156 [==============================] - 5s 34ms/step - loss: 0.5239 - accuracy: 0.6925 - val_loss: 0.5883 - val_accuracy: 0.3938\n",
      "Epoch 9/15\n",
      "156/156 [==============================] - 6s 36ms/step - loss: 0.5211 - accuracy: 0.6953 - val_loss: 0.6052 - val_accuracy: 0.3906\n",
      "Epoch 10/15\n",
      "156/156 [==============================] - 5s 32ms/step - loss: 0.5189 - accuracy: 0.6993 - val_loss: 0.5781 - val_accuracy: 0.3938\n",
      "Epoch 11/15\n",
      "156/156 [==============================] - 6s 36ms/step - loss: 0.5152 - accuracy: 0.7024 - val_loss: 0.5957 - val_accuracy: 0.3896\n",
      "Epoch 12/15\n",
      "155/156 [============================>.] - ETA: 0s - loss: 0.5118 - accuracy: 0.7065INFO:tensorflow:Assets written to: /home/paul_d/Sources/sem_math_repo/classification_formulas_binary/wandb/run-20230306_194025-yrf91qoz/files/model-best/assets\n"
     ]
    },
    {
     "name": "stderr",
     "output_type": "stream",
     "text": [
      "INFO:tensorflow:Assets written to: /home/paul_d/Sources/sem_math_repo/classification_formulas_binary/wandb/run-20230306_194025-yrf91qoz/files/model-best/assets\n"
     ]
    },
    {
     "name": "stdout",
     "output_type": "stream",
     "text": [
      "156/156 [==============================] - 21s 137ms/step - loss: 0.5122 - accuracy: 0.7066 - val_loss: 0.5674 - val_accuracy: 0.4167\n",
      "Epoch 13/15\n",
      "156/156 [==============================] - 6s 38ms/step - loss: 0.5092 - accuracy: 0.7209 - val_loss: 0.5775 - val_accuracy: 0.4156\n",
      "Epoch 14/15\n",
      "156/156 [==============================] - 5s 33ms/step - loss: 0.5071 - accuracy: 0.7143 - val_loss: 0.5713 - val_accuracy: 0.4115\n",
      "Epoch 15/15\n",
      "156/156 [==============================] - ETA: 0s - loss: 0.5052 - accuracy: 0.7186INFO:tensorflow:Assets written to: /home/paul_d/Sources/sem_math_repo/classification_formulas_binary/wandb/run-20230306_194025-yrf91qoz/files/model-best/assets\n"
     ]
    },
    {
     "name": "stderr",
     "output_type": "stream",
     "text": [
      "INFO:tensorflow:Assets written to: /home/paul_d/Sources/sem_math_repo/classification_formulas_binary/wandb/run-20230306_194025-yrf91qoz/files/model-best/assets\n"
     ]
    },
    {
     "name": "stdout",
     "output_type": "stream",
     "text": [
      "156/156 [==============================] - 19s 123ms/step - loss: 0.5052 - accuracy: 0.7186 - val_loss: 0.5329 - val_accuracy: 0.7344\n"
     ]
    }
   ],
   "source": [
    "configs_dict = {\n",
    "    \"learning_rate\": LEARNING_RATE,\n",
    "    \"algorithm\": \"BiLstm\",\n",
    "    \"configuration\": \"2-types\",\n",
    "    \"optimizer\": \"adam\",\n",
    "    \"loss\": \"binary_crossentropy\",\n",
    "    \"epochs\": NUM_EPOCHS,\n",
    "    \"batch_size\": 64,\n",
    "    \"vectorizer\": \"tf_idf\",\n",
    "    \"dataset\": \"TOKENIZED_SET_V1\"\n",
    "}\n",
    "run = wandb.init(project=wandb_project_name, reinit=True, config=configs_dict)\n",
    "\n",
    "history = model_tf_idf.fit(train_dataset, \n",
    "                    epochs=NUM_EPOCHS,\n",
    "                    validation_data=test_dataset,\n",
    "                    steps_per_epoch = STEPS_PER_EPOCH,\n",
    "                    validation_steps = VAL_STEPS_PER_EPOCH,\n",
    "                    callbacks= [WandbCallback()])#[tensorboard_callback])\n",
    "run.finish()"
   ]
  },
  {
   "cell_type": "code",
   "execution_count": 54,
   "metadata": {},
   "outputs": [
    {
     "name": "stdout",
     "output_type": "stream",
     "text": [
      "15/15 [==============================] - 0s 12ms/step - loss: 0.5329 - accuracy: 0.7344\n",
      "Test Loss: 0.5328635573387146\n",
      "Test Accuracy: 0.734375\n"
     ]
    }
   ],
   "source": [
    "test_loss, test_acc = model_tf_idf.evaluate(test_dataset)\n",
    "\n",
    "print(\"Test Loss:\", test_loss)\n",
    "print(\"Test Accuracy:\", test_acc)"
   ]
  },
  {
   "cell_type": "code",
   "execution_count": 55,
   "metadata": {},
   "outputs": [
    {
     "data": {
      "text/plain": [
       "(0.0, 0.6941743165254592)"
      ]
     },
     "execution_count": 55,
     "metadata": {},
     "output_type": "execute_result"
    },
    {
     "data": {
      "image/png": "[encoded data removed]",
      "text/plain": [
       "<Figure size 1600x800 with 2 Axes>"
      ]
     },
     "metadata": {},
     "output_type": "display_data"
    }
   ],
   "source": [
    "plt.figure(figsize=(16,8))\n",
    "plt.subplot(1,2,1)\n",
    "plot_graphs(history, \"accuracy\")\n",
    "plt.ylim(None, 1)\n",
    "plt.subplot(1,2,2)\n",
    "plot_graphs(history, \"loss\")\n",
    "plt.ylim(0, None)"
   ]
  },
  {
   "cell_type": "code",
   "execution_count": 61,
   "metadata": {},
   "outputs": [
    {
     "name": "stdout",
     "output_type": "stream",
     "text": [
      "1/1 [==============================] - 0s 17ms/step\n",
      "[-1.0408258]\n"
     ]
    }
   ],
   "source": [
    "# predict on a sample text without padding\n",
    "sample_text = \"set_constant SET_BASIC\"\n",
    "predictions = model_tf_idf.predict(np.array([sample_text]))\n",
    "print(predictions[0])"
   ]
  }
 ],
 "metadata": {
  "kernelspec": {
   "display_name": "sem_math_env",
   "language": "python",
   "name": "python3"
  },
  "language_info": {
   "codemirror_mode": {
    "name": "ipython",
    "version": 3
   },
   "file_extension": ".py",
   "mimetype": "text/x-python",
   "name": "python",
   "nbconvert_exporter": "python",
   "pygments_lexer": "ipython3",
   "version": "3.10.9"
  },
  "orig_nbformat": 4,
  "vscode": {
   "interpreter": {
    "hash": "71a9a05a8d236729134f51de1f1fd612c9215f2a378954bc400639bac96e00eb"
   }
  }
 },
 "nbformat": 4,
 "nbformat_minor": 2
}
