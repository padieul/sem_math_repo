{
 "cells": [
  {
   "cell_type": "code",
   "execution_count": 61,
   "metadata": {},
   "outputs": [],
   "source": [
    "import matplotlib.pyplot as plt \n",
    "import matplotlib.colors as colors\n",
    "\n",
    "import pandas as pd\n",
    "import json\n",
    "import ast\n",
    "from pathlib import Path\n",
    "import os\n"
   ]
  },
  {
   "cell_type": "code",
   "execution_count": 62,
   "metadata": {},
   "outputs": [
    {
     "data": {
      "text/html": [
       "<div>\n",
       "<style scoped>\n",
       "    .dataframe tbody tr th:only-of-type {\n",
       "        vertical-align: middle;\n",
       "    }\n",
       "\n",
       "    .dataframe tbody tr th {\n",
       "        vertical-align: top;\n",
       "    }\n",
       "\n",
       "    .dataframe thead th {\n",
       "        text-align: right;\n",
       "    }\n",
       "</style>\n",
       "<table border=\"1\" class=\"dataframe\">\n",
       "  <thead>\n",
       "    <tr style=\"text-align: right;\">\n",
       "      <th></th>\n",
       "      <th>mtype</th>\n",
       "      <th>tokens</th>\n",
       "      <th>type_tokens</th>\n",
       "      <th>label</th>\n",
       "    </tr>\n",
       "  </thead>\n",
       "  <tbody>\n",
       "    <tr>\n",
       "      <th>0</th>\n",
       "      <td>FUNC</td>\n",
       "      <td>['f', ':', 'A', '\\\\to', 'B']</td>\n",
       "      <td>['func_def', 'func_name', '__ANON_1', 'COLON',...</td>\n",
       "      <td>1</td>\n",
       "    </tr>\n",
       "    <tr>\n",
       "      <th>1</th>\n",
       "      <td>FUNC</td>\n",
       "      <td>['f']</td>\n",
       "      <td>['func_name', '__ANON_1']</td>\n",
       "      <td>1</td>\n",
       "    </tr>\n",
       "    <tr>\n",
       "      <th>2</th>\n",
       "      <td>FUNC</td>\n",
       "      <td>['g', '\\\\colon', 'B', '\\\\to', 'I']</td>\n",
       "      <td>['func_def', 'func_name', '__ANON_1', 'COLON',...</td>\n",
       "      <td>1</td>\n",
       "    </tr>\n",
       "    <tr>\n",
       "      <th>3</th>\n",
       "      <td>SCAL</td>\n",
       "      <td>['\\\\frac', '{', '8', '!', '}', '{', '(', '8', ...</td>\n",
       "      <td>['expr_atom', 'CMD_FRAC', 'L_BRACE', 'postfix'...</td>\n",
       "      <td>1</td>\n",
       "    </tr>\n",
       "    <tr>\n",
       "      <th>4</th>\n",
       "      <td>FUNC</td>\n",
       "      <td>['f']</td>\n",
       "      <td>['func_name', '__ANON_1']</td>\n",
       "      <td>1</td>\n",
       "    </tr>\n",
       "  </tbody>\n",
       "</table>\n",
       "</div>"
      ],
      "text/plain": [
       "  mtype                                             tokens  \\\n",
       "0  FUNC                       ['f', ':', 'A', '\\\\to', 'B']   \n",
       "1  FUNC                                              ['f']   \n",
       "2  FUNC                 ['g', '\\\\colon', 'B', '\\\\to', 'I']   \n",
       "3  SCAL  ['\\\\frac', '{', '8', '!', '}', '{', '(', '8', ...   \n",
       "4  FUNC                                              ['f']   \n",
       "\n",
       "                                         type_tokens  label  \n",
       "0  ['func_def', 'func_name', '__ANON_1', 'COLON',...      1  \n",
       "1                          ['func_name', '__ANON_1']      1  \n",
       "2  ['func_def', 'func_name', '__ANON_1', 'COLON',...      1  \n",
       "3  ['expr_atom', 'CMD_FRAC', 'L_BRACE', 'postfix'...      1  \n",
       "4                          ['func_name', '__ANON_1']      1  "
      ]
     },
     "execution_count": 62,
     "metadata": {},
     "output_type": "execute_result"
    }
   ],
   "source": [
    "data_path = Path(\"..\") / \"data\" / \"bin_class_data_TOKENIZED_SET_V1.csv\"\n",
    "data = pd.read_csv(data_path)\n",
    "data.head()"
   ]
  },
  {
   "cell_type": "code",
   "execution_count": 63,
   "metadata": {},
   "outputs": [],
   "source": [
    "### reformat strings to lists of strings\n",
    "def preprocess_data(corpus,\n",
    "                    irrelevant_features=[\"mtype\",]):\n",
    "    # drop irrelevant columns\n",
    "    corpus.drop(irrelevant_features, inplace=True, axis=1)\n",
    "\n",
    "    # filter strings\n",
    "    def process_cell(cell_str):\n",
    "        stripped_f_str = cell_str[1:-1].replace(\"\\\\\\\\\", \"\\\\\")\n",
    "        f_list = stripped_f_str.split(\",\")\n",
    "        f_list = [token.replace(\"'\", \"\").replace(\" \", \"\") for token in f_list]\n",
    "        f_list = [\"{\" if token == \"\\\\{\" else token for token in f_list]\n",
    "        f_list = [\"}\" if token == \"\\\\}\" else token for token in f_list]\n",
    "        return f_list\n",
    "\n",
    "    \n",
    "    corpus[\"type_tokens\"] = corpus[\"type_tokens\"].map(process_cell)\n",
    "    corpus[\"type_tokens_len\"] = corpus[\"type_tokens\"].apply(lambda x: len(x))\n",
    "    corpus[\"tokens\"] = corpus[\"tokens\"].map(process_cell)\n",
    "    corpus[\"tokens_len\"] = corpus[\"tokens\"].apply(lambda x: len(x))"
   ]
  },
  {
   "cell_type": "code",
   "execution_count": 64,
   "metadata": {},
   "outputs": [
    {
     "data": {
      "text/html": [
       "<div>\n",
       "<style scoped>\n",
       "    .dataframe tbody tr th:only-of-type {\n",
       "        vertical-align: middle;\n",
       "    }\n",
       "\n",
       "    .dataframe tbody tr th {\n",
       "        vertical-align: top;\n",
       "    }\n",
       "\n",
       "    .dataframe thead th {\n",
       "        text-align: right;\n",
       "    }\n",
       "</style>\n",
       "<table border=\"1\" class=\"dataframe\">\n",
       "  <thead>\n",
       "    <tr style=\"text-align: right;\">\n",
       "      <th></th>\n",
       "      <th>tokens</th>\n",
       "      <th>type_tokens</th>\n",
       "      <th>label</th>\n",
       "      <th>tokens_len</th>\n",
       "    </tr>\n",
       "  </thead>\n",
       "  <tbody>\n",
       "    <tr>\n",
       "      <th>0</th>\n",
       "      <td>[f, :, A, \\to, B]</td>\n",
       "      <td>[func_def, func_name, __ANON_1, COLON, mapping...</td>\n",
       "      <td>1</td>\n",
       "      <td>5</td>\n",
       "    </tr>\n",
       "    <tr>\n",
       "      <th>1</th>\n",
       "      <td>[f]</td>\n",
       "      <td>[func_name, __ANON_1]</td>\n",
       "      <td>1</td>\n",
       "      <td>1</td>\n",
       "    </tr>\n",
       "    <tr>\n",
       "      <th>2</th>\n",
       "      <td>[g, \\colon, B, \\to, I]</td>\n",
       "      <td>[func_def, func_name, __ANON_1, COLON, mapping...</td>\n",
       "      <td>1</td>\n",
       "      <td>5</td>\n",
       "    </tr>\n",
       "    <tr>\n",
       "      <th>3</th>\n",
       "      <td>[\\frac, {, 8, !, }, {, (, 8, -, 4, ), !, }]</td>\n",
       "      <td>[expr_atom, CMD_FRAC, L_BRACE, postfix, expr_a...</td>\n",
       "      <td>1</td>\n",
       "      <td>13</td>\n",
       "    </tr>\n",
       "    <tr>\n",
       "      <th>4</th>\n",
       "      <td>[f]</td>\n",
       "      <td>[func_name, __ANON_1]</td>\n",
       "      <td>1</td>\n",
       "      <td>1</td>\n",
       "    </tr>\n",
       "  </tbody>\n",
       "</table>\n",
       "</div>"
      ],
      "text/plain": [
       "                                        tokens  \\\n",
       "0                            [f, :, A, \\to, B]   \n",
       "1                                          [f]   \n",
       "2                       [g, \\colon, B, \\to, I]   \n",
       "3  [\\frac, {, 8, !, }, {, (, 8, -, 4, ), !, }]   \n",
       "4                                          [f]   \n",
       "\n",
       "                                         type_tokens  label  tokens_len  \n",
       "0  [func_def, func_name, __ANON_1, COLON, mapping...      1           5  \n",
       "1                              [func_name, __ANON_1]      1           1  \n",
       "2  [func_def, func_name, __ANON_1, COLON, mapping...      1           5  \n",
       "3  [expr_atom, CMD_FRAC, L_BRACE, postfix, expr_a...      1          13  \n",
       "4                              [func_name, __ANON_1]      1           1  "
      ]
     },
     "execution_count": 64,
     "metadata": {},
     "output_type": "execute_result"
    }
   ],
   "source": [
    "preprocess_data(data) \n",
    "data.head()"
   ]
  },
  {
   "cell_type": "code",
   "execution_count": 65,
   "metadata": {},
   "outputs": [],
   "source": [
    "### create statistics\n",
    "def plot_classes(data):\n",
    "    print(f\"Data types:\\n{data.dtypes}\\n\")\n",
    "    print(f\"There are {len(data['label'].unique())} comment types: {data['label'].unique()}\")\n",
    "\n",
    "    data.groupby(\"label\").label.count().plot.bar(ylim=0)\n",
    "    plt.xticks([0,1],['NOT elementary-set-theory', 'elementary-set-theory'], rotation=0)\n",
    "    plt.xlabel(\"category\")\n",
    "    plt.ylabel(\"number of formulas\")\n",
    "    #plt.yscale(\"log\")\n",
    "    #plt.yticks(ticks=[0, 7000])\n",
    "    #plt.title(\"Dataset distribution\", pad=20)\n",
    "    plt.show()\n",
    "\n",
    "\n",
    "def plot_input_lengths(df):\n",
    "    \n",
    "    counts = df['tokens_len'].value_counts()\n",
    "\n",
    "    # Create bar chart\n",
    "    fig, ax = plt.subplots()\n",
    "    ax.bar(counts.index, counts.values, color=\"green\")\n",
    "    ax.set_yscale(\"log\")\n",
    "    ax.set_xlabel('Tokens list lengths')\n",
    "    ax.set_ylabel('Frequency')\n",
    "    #ax.set_title(\"Distribution of Tokens Lengths\")\n",
    "    plt.show()\n",
    "\n"
   ]
  },
  {
   "cell_type": "code",
   "execution_count": 66,
   "metadata": {},
   "outputs": [
    {
     "data": {
      "image/png": "[encoded data removed]",
      "text/plain": [
       "<Figure size 640x480 with 1 Axes>"
      ]
     },
     "metadata": {},
     "output_type": "display_data"
    }
   ],
   "source": [
    "plot_input_lengths(data)"
   ]
  },
  {
   "cell_type": "code",
   "execution_count": 67,
   "metadata": {},
   "outputs": [
    {
     "name": "stdout",
     "output_type": "stream",
     "text": [
      "Data types:\n",
      "tokens         object\n",
      "type_tokens    object\n",
      "label           int64\n",
      "tokens_len      int64\n",
      "dtype: object\n",
      "\n",
      "There are 2 comment types: [1 0]\n"
     ]
    },
    {
     "data": {
      "image/png": "[encoded data removed]",
      "text/plain": [
       "<Figure size 640x480 with 1 Axes>"
      ]
     },
     "metadata": {},
     "output_type": "display_data"
    }
   ],
   "source": [
    "plot_classes(data)"
   ]
  }
 ],
 "metadata": {
  "kernelspec": {
   "display_name": "sem_math_env",
   "language": "python",
   "name": "python3"
  },
  "language_info": {
   "codemirror_mode": {
    "name": "ipython",
    "version": 3
   },
   "file_extension": ".py",
   "mimetype": "text/x-python",
   "name": "python",
   "nbconvert_exporter": "python",
   "pygments_lexer": "ipython3",
   "version": "3.10.9"
  },
  "orig_nbformat": 4
 },
 "nbformat": 4,
 "nbformat_minor": 2
}
