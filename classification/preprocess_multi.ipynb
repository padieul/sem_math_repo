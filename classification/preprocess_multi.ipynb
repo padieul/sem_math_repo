{
 "cells": [
  {
   "cell_type": "code",
   "execution_count": 14,
   "metadata": {},
   "outputs": [],
   "source": [
    "import pandas as pd\n",
    "import json\n",
    "import ast\n",
    "from pathlib import Path\n",
    "import os"
   ]
  },
  {
   "attachments": {},
   "cell_type": "markdown",
   "metadata": {},
   "source": [
    "### Read data from individual csv files"
   ]
  },
  {
   "cell_type": "code",
   "execution_count": 15,
   "metadata": {},
   "outputs": [
    {
     "name": "stdout",
     "output_type": "stream",
     "text": [
      "c:\\Users\\prdie\\OneDrive\\Sources\\sem_math_repo\\classification\n"
     ]
    }
   ],
   "source": [
    "print(os.getcwd())"
   ]
  },
  {
   "cell_type": "code",
   "execution_count": 16,
   "metadata": {},
   "outputs": [
    {
     "name": "stdout",
     "output_type": "stream",
     "text": [
      "[10000, 5917, 234, 182, 6253, 330, 1705]\n"
     ]
    }
   ],
   "source": [
    "elem_set_th_df = Path(\"..\") / \"data_intermediate1\" / \"formula_data_elementary-set-theory.csv\"\n",
    "algebra_precalc_df = Path(\"..\") / \"data_intermediate1\" / \"formula_data_algebra-precalculus.csv\"\n",
    "a_geometry_df = Path(\"..\") / \"data_intermediate1\" / \"formula_data_analytic-geometry.csv\"\n",
    "elem_func_df = Path(\"..\") / \"data_intermediate1\" / \"formula_data_elementary-functions.csv\"\n",
    "elem_num_th_df = Path(\"..\") / \"data_intermediate1\" / \"formula_data_elementary-number-theory.csv\" \n",
    "euc_geom_df = Path(\"..\") / \"data_intermediate1\" / \"formula_data_euclidean-geometry.csv\" \n",
    "trig_df = Path(\"..\") / \"data_intermediate1\" / \"formula_data_trigonometry.csv\"\n",
    "\n",
    "elem_set_th_df = pd.read_csv(elem_set_th_df)\n",
    "algebra_precalc_df = pd.read_csv(algebra_precalc_df)\n",
    "a_geometry_df = pd.read_csv(a_geometry_df)\n",
    "elem_func_df = pd.read_csv(elem_func_df)\n",
    "elem_num_th_df = pd.read_csv(elem_num_th_df)\n",
    "euc_geom_df = pd.read_csv(euc_geom_df)\n",
    "trig_df = pd.read_csv(trig_df)\n",
    "\n",
    "all_dfs = [elem_set_th_df, algebra_precalc_df, a_geometry_df, elem_func_df, elem_num_th_df, euc_geom_df, trig_df]\n",
    "all_dfs_lengths = [d_frame.shape[0] for d_frame in all_dfs]\n",
    "print(all_dfs_lengths)"
   ]
  },
  {
   "cell_type": "code",
   "execution_count": 17,
   "metadata": {},
   "outputs": [
    {
     "data": {
      "text/html": [
       "<div>\n",
       "<style scoped>\n",
       "    .dataframe tbody tr th:only-of-type {\n",
       "        vertical-align: middle;\n",
       "    }\n",
       "\n",
       "    .dataframe tbody tr th {\n",
       "        vertical-align: top;\n",
       "    }\n",
       "\n",
       "    .dataframe thead th {\n",
       "        text-align: right;\n",
       "    }\n",
       "</style>\n",
       "<table border=\"1\" class=\"dataframe\">\n",
       "  <thead>\n",
       "    <tr style=\"text-align: right;\">\n",
       "      <th></th>\n",
       "      <th>fid</th>\n",
       "      <th>mtype</th>\n",
       "      <th>exprstr</th>\n",
       "      <th>mention</th>\n",
       "      <th>tokens</th>\n",
       "      <th>type_tokens</th>\n",
       "      <th>tags</th>\n",
       "    </tr>\n",
       "  </thead>\n",
       "  <tbody>\n",
       "    <tr>\n",
       "      <th>0</th>\n",
       "      <td>6327106206a69a3f488d7164_f_4_9_0</td>\n",
       "      <td>FUNC</td>\n",
       "      <td>f</td>\n",
       "      <td>function</td>\n",
       "      <td>['f']</td>\n",
       "      <td>['func_name', '__ANON_1']</td>\n",
       "      <td>['calculus', 'trigonometry', 'fourier-series',...</td>\n",
       "    </tr>\n",
       "    <tr>\n",
       "      <th>1</th>\n",
       "      <td>6327106206a69a3f488d78b7_f_3_8_0</td>\n",
       "      <td>FUNC</td>\n",
       "      <td>\\exp</td>\n",
       "      <td>the function</td>\n",
       "      <td>\\exp</td>\n",
       "      <td>FUNC_NORMAL</td>\n",
       "      <td>['trigonometry', 'complex-numbers', 'logarithms']</td>\n",
       "    </tr>\n",
       "    <tr>\n",
       "      <th>2</th>\n",
       "      <td>6327106206a69a3f488d7c1a_f_2_0_0</td>\n",
       "      <td>SCAL</td>\n",
       "      <td>0</td>\n",
       "      <td>two real numbers</td>\n",
       "      <td>0</td>\n",
       "      <td>['expr_atom', '__ANON_3']</td>\n",
       "      <td>['trigonometry']</td>\n",
       "    </tr>\n",
       "    <tr>\n",
       "      <th>3</th>\n",
       "      <td>6327106306a69a3f488d7e1b_f_1_2_0</td>\n",
       "      <td>FUNC</td>\n",
       "      <td>f</td>\n",
       "      <td>a function</td>\n",
       "      <td>['f']</td>\n",
       "      <td>['func_name', '__ANON_1']</td>\n",
       "      <td>['real-analysis', 'sequences-and-series', 'tri...</td>\n",
       "    </tr>\n",
       "    <tr>\n",
       "      <th>4</th>\n",
       "      <td>6327106306a69a3f488d8721_f_2_1_0</td>\n",
       "      <td>FUNC</td>\n",
       "      <td>\\sin</td>\n",
       "      <td>the function name   f_2_1_0</td>\n",
       "      <td>\\sin</td>\n",
       "      <td>FUNC_NORMAL</td>\n",
       "      <td>['calculus', 'integration', 'trigonometry', 'd...</td>\n",
       "    </tr>\n",
       "  </tbody>\n",
       "</table>\n",
       "</div>"
      ],
      "text/plain": [
       "                                fid mtype exprstr  \\\n",
       "0  6327106206a69a3f488d7164_f_4_9_0  FUNC       f   \n",
       "1  6327106206a69a3f488d78b7_f_3_8_0  FUNC    \\exp   \n",
       "2  6327106206a69a3f488d7c1a_f_2_0_0  SCAL       0   \n",
       "3  6327106306a69a3f488d7e1b_f_1_2_0  FUNC       f   \n",
       "4  6327106306a69a3f488d8721_f_2_1_0  FUNC    \\sin   \n",
       "\n",
       "                       mention tokens                type_tokens  \\\n",
       "0                     function  ['f']  ['func_name', '__ANON_1']   \n",
       "1                 the function   \\exp                FUNC_NORMAL   \n",
       "2             two real numbers      0  ['expr_atom', '__ANON_3']   \n",
       "3                   a function  ['f']  ['func_name', '__ANON_1']   \n",
       "4  the function name   f_2_1_0   \\sin                FUNC_NORMAL   \n",
       "\n",
       "                                                tags  \n",
       "0  ['calculus', 'trigonometry', 'fourier-series',...  \n",
       "1  ['trigonometry', 'complex-numbers', 'logarithms']  \n",
       "2                                   ['trigonometry']  \n",
       "3  ['real-analysis', 'sequences-and-series', 'tri...  \n",
       "4  ['calculus', 'integration', 'trigonometry', 'd...  "
      ]
     },
     "execution_count": 17,
     "metadata": {},
     "output_type": "execute_result"
    }
   ],
   "source": [
    "trig_df.head() "
   ]
  },
  {
   "attachments": {},
   "cell_type": "markdown",
   "metadata": {},
   "source": [
    "#### Merge all datasets to create a multiclass training dataset"
   ]
  },
  {
   "cell_type": "code",
   "execution_count": 18,
   "metadata": {},
   "outputs": [],
   "source": [
    "def merge_dfs(df_list, intended_size_per_c):\n",
    "    if intended_size_per_c == -1:\n",
    "        sel_dfs = df_list\n",
    "    elif intended_size_per_c > 0:\n",
    "        sel_dfs = [df_list[i].sample(n=intended_size_per_c) for i in range(len(df_list))]\n",
    "    else:\n",
    "        print(\"False value\")\n",
    "    merged_df = pd.concat(sel_dfs, axis=0)\n",
    "    return merged_df"
   ]
  },
  {
   "cell_type": "code",
   "execution_count": 19,
   "metadata": {},
   "outputs": [
    {
     "name": "stdout",
     "output_type": "stream",
     "text": [
      "merged df size:  24621\n"
     ]
    }
   ],
   "source": [
    "intended_num_samples_per_class = -1 # set to -1 to get all available -> set arbitrary number to get more balanced dataset\n",
    "all_samples_df = merge_dfs(all_dfs, intended_num_samples_per_class)\n",
    "all_samples_df.head()\n",
    "print(\"merged df size: \", all_samples_df.shape[0])\n"
   ]
  },
  {
   "attachments": {},
   "cell_type": "markdown",
   "metadata": {},
   "source": [
    "#### Extract class labels and assign values"
   ]
  },
  {
   "cell_type": "code",
   "execution_count": 20,
   "metadata": {},
   "outputs": [
    {
     "name": "stdout",
     "output_type": "stream",
     "text": [
      "4\n"
     ]
    }
   ],
   "source": [
    "print(len(ast.literal_eval(all_samples_df.iloc[0,6])))"
   ]
  },
  {
   "cell_type": "code",
   "execution_count": 21,
   "metadata": {},
   "outputs": [
    {
     "data": {
      "text/html": [
       "<div>\n",
       "<style scoped>\n",
       "    .dataframe tbody tr th:only-of-type {\n",
       "        vertical-align: middle;\n",
       "    }\n",
       "\n",
       "    .dataframe tbody tr th {\n",
       "        vertical-align: top;\n",
       "    }\n",
       "\n",
       "    .dataframe thead th {\n",
       "        text-align: right;\n",
       "    }\n",
       "</style>\n",
       "<table border=\"1\" class=\"dataframe\">\n",
       "  <thead>\n",
       "    <tr style=\"text-align: right;\">\n",
       "      <th></th>\n",
       "      <th>fid</th>\n",
       "      <th>mtype</th>\n",
       "      <th>exprstr</th>\n",
       "      <th>mention</th>\n",
       "      <th>tokens</th>\n",
       "      <th>type_tokens</th>\n",
       "      <th>tags</th>\n",
       "      <th>labels</th>\n",
       "    </tr>\n",
       "  </thead>\n",
       "  <tbody>\n",
       "    <tr>\n",
       "      <th>0</th>\n",
       "      <td>6327106106a69a3f488d6e3e_f_8_2_0</td>\n",
       "      <td>FUNC</td>\n",
       "      <td>f</td>\n",
       "      <td>any function</td>\n",
       "      <td>['f']</td>\n",
       "      <td>['func_name', '__ANON_1']</td>\n",
       "      <td>['elementary-set-theory', 'intuition', 'infini...</td>\n",
       "      <td>[elementary-set-theory, intuition, infinity, faq]</td>\n",
       "    </tr>\n",
       "    <tr>\n",
       "      <th>1</th>\n",
       "      <td>6327106106a69a3f488d6e96_f_3_22_0</td>\n",
       "      <td>FUNC</td>\n",
       "      <td>j: \\mathbb{N} \\rightarrow [0, 1]</td>\n",
       "      <td>any injection   f_3_22_0</td>\n",
       "      <td>['j', ':', '\\\\mathbb{N}', '\\\\rightarrow', '[',...</td>\n",
       "      <td>['func_def', 'func_name', '__ANON_1', 'COLON',...</td>\n",
       "      <td>['elementary-set-theory']</td>\n",
       "      <td>[elementary-set-theory]</td>\n",
       "    </tr>\n",
       "    <tr>\n",
       "      <th>2</th>\n",
       "      <td>6327106106a69a3f488d6e96_f_3_38_0</td>\n",
       "      <td>FUNC</td>\n",
       "      <td>b</td>\n",
       "      <td>together the identity map</td>\n",
       "      <td>['b']</td>\n",
       "      <td>['func_name', '__ANON_1']</td>\n",
       "      <td>['elementary-set-theory']</td>\n",
       "      <td>[elementary-set-theory]</td>\n",
       "    </tr>\n",
       "    <tr>\n",
       "      <th>3</th>\n",
       "      <td>6327106106a69a3f488d6ef4_f_0_0_0</td>\n",
       "      <td>SET</td>\n",
       "      <td>\\mathbb{Q}</td>\n",
       "      <td>the set   f_0_0_0</td>\n",
       "      <td>\\mathbb{Q}</td>\n",
       "      <td>['set_constant', 'SET_BASIC']</td>\n",
       "      <td>['elementary-set-theory', 'irrational-numbers']</td>\n",
       "      <td>[elementary-set-theory, irrational-numbers]</td>\n",
       "    </tr>\n",
       "    <tr>\n",
       "      <th>4</th>\n",
       "      <td>6327106106a69a3f488d6f48_f_0_0_0</td>\n",
       "      <td>FUNC</td>\n",
       "      <td>f</td>\n",
       "      <td>a given function</td>\n",
       "      <td>['f']</td>\n",
       "      <td>['func_name', '__ANON_1']</td>\n",
       "      <td>['functions', 'elementary-set-theory', 'functi...</td>\n",
       "      <td>[functions, elementary-set-theory, function-an...</td>\n",
       "    </tr>\n",
       "  </tbody>\n",
       "</table>\n",
       "</div>"
      ],
      "text/plain": [
       "                                 fid mtype                           exprstr  \\\n",
       "0   6327106106a69a3f488d6e3e_f_8_2_0  FUNC                                 f   \n",
       "1  6327106106a69a3f488d6e96_f_3_22_0  FUNC  j: \\mathbb{N} \\rightarrow [0, 1]   \n",
       "2  6327106106a69a3f488d6e96_f_3_38_0  FUNC                                 b   \n",
       "3   6327106106a69a3f488d6ef4_f_0_0_0   SET                        \\mathbb{Q}   \n",
       "4   6327106106a69a3f488d6f48_f_0_0_0  FUNC                                 f   \n",
       "\n",
       "                     mention  \\\n",
       "0               any function   \n",
       "1   any injection   f_3_22_0   \n",
       "2  together the identity map   \n",
       "3          the set   f_0_0_0   \n",
       "4           a given function   \n",
       "\n",
       "                                              tokens  \\\n",
       "0                                              ['f']   \n",
       "1  ['j', ':', '\\\\mathbb{N}', '\\\\rightarrow', '[',...   \n",
       "2                                              ['b']   \n",
       "3                                         \\mathbb{Q}   \n",
       "4                                              ['f']   \n",
       "\n",
       "                                         type_tokens  \\\n",
       "0                          ['func_name', '__ANON_1']   \n",
       "1  ['func_def', 'func_name', '__ANON_1', 'COLON',...   \n",
       "2                          ['func_name', '__ANON_1']   \n",
       "3                      ['set_constant', 'SET_BASIC']   \n",
       "4                          ['func_name', '__ANON_1']   \n",
       "\n",
       "                                                tags  \\\n",
       "0  ['elementary-set-theory', 'intuition', 'infini...   \n",
       "1                          ['elementary-set-theory']   \n",
       "2                          ['elementary-set-theory']   \n",
       "3    ['elementary-set-theory', 'irrational-numbers']   \n",
       "4  ['functions', 'elementary-set-theory', 'functi...   \n",
       "\n",
       "                                              labels  \n",
       "0  [elementary-set-theory, intuition, infinity, faq]  \n",
       "1                            [elementary-set-theory]  \n",
       "2                            [elementary-set-theory]  \n",
       "3        [elementary-set-theory, irrational-numbers]  \n",
       "4  [functions, elementary-set-theory, function-an...  "
      ]
     },
     "execution_count": 21,
     "metadata": {},
     "output_type": "execute_result"
    }
   ],
   "source": [
    "# analyze labels frequency and distribution\n",
    "labels_ids_dict = {}\n",
    "labels_count = 0\n",
    "labels_frequencies_dict = {}\n",
    "\n",
    "def cell_to_label_lists(cell_val):\n",
    "    global labels_count\n",
    "    labels_list = ast.literal_eval(cell_val)\n",
    "    for elem in labels_list:\n",
    "        if elem in labels_ids_dict.keys():\n",
    "            labels_frequencies_dict[elem] += 1\n",
    "        else:\n",
    "            labels_frequencies_dict[elem] = 1\n",
    "            labels_ids_dict[elem] = labels_count\n",
    "            labels_count += 1\n",
    "\n",
    "    return labels_list\n",
    "\n",
    "all_samples_df[\"labels\"] = all_samples_df[\"tags\"].map(cell_to_label_lists)\n",
    "all_samples_df.head()\n"
   ]
  },
  {
   "cell_type": "code",
   "execution_count": 22,
   "metadata": {},
   "outputs": [
    {
     "name": "stdout",
     "output_type": "stream",
     "text": [
      "Total number of classes:  708\n",
      "elementary-set-theory: 10215\n",
      "elementary-number-theory: 6604\n",
      "algebra-precalculus: 6454\n",
      "functions: 3713\n",
      "trigonometry: 1933\n",
      "number-theory: 1368\n",
      "calculus: 1080\n",
      "real-analysis: 1019\n",
      "discrete-mathematics: 880\n",
      "combinatorics: 800\n",
      "proof-verification: 758\n",
      "prime-numbers: 721\n",
      "cardinals: 698\n",
      "proof-writing: 594\n",
      "contest-math: 562\n",
      "divisibility: 554\n",
      "solution-verification: 522\n",
      "modular-arithmetic: 522\n",
      "inequality: 486\n",
      "notation: 481\n",
      "geometry: 425\n",
      "general-topology: 396\n",
      "sequences-and-series: 388\n",
      "polynomials: 378\n",
      "logic: 373\n",
      "euclidean-geometry: 364\n",
      "abstract-algebra: 335\n",
      "arithmetic: 324\n",
      "relations: 311\n",
      "definition: 288\n",
      "analytic-geometry: 276\n",
      "decimal-expansion: 275\n",
      "recreational-mathematics: 261\n",
      "proof-explanation: 260\n",
      "functional-equations: 256\n",
      "elementary-functions: 251\n",
      "limits: 234\n",
      "induction: 230\n",
      "complex-numbers: 214\n",
      "terminology: 208\n"
     ]
    }
   ],
   "source": [
    "print(\"Total number of classes: \", len(labels_frequencies_dict))\n",
    "selected_labels = []\n",
    "for k in sorted(labels_frequencies_dict, key=lambda k: labels_frequencies_dict[k], reverse=True)[:40]:\n",
    "    print(str(k) + \": \" + str(labels_frequencies_dict[k]) )\n",
    "    selected_labels.append(k)"
   ]
  },
  {
   "attachments": {},
   "cell_type": "markdown",
   "metadata": {},
   "source": [
    "the top 40 classes by frequency are kept, other classes are discarded"
   ]
  },
  {
   "cell_type": "code",
   "execution_count": 23,
   "metadata": {},
   "outputs": [
    {
     "data": {
      "text/html": [
       "<div>\n",
       "<style scoped>\n",
       "    .dataframe tbody tr th:only-of-type {\n",
       "        vertical-align: middle;\n",
       "    }\n",
       "\n",
       "    .dataframe tbody tr th {\n",
       "        vertical-align: top;\n",
       "    }\n",
       "\n",
       "    .dataframe thead th {\n",
       "        text-align: right;\n",
       "    }\n",
       "</style>\n",
       "<table border=\"1\" class=\"dataframe\">\n",
       "  <thead>\n",
       "    <tr style=\"text-align: right;\">\n",
       "      <th></th>\n",
       "      <th>mtype</th>\n",
       "      <th>tokens</th>\n",
       "      <th>type_tokens</th>\n",
       "      <th>labels</th>\n",
       "    </tr>\n",
       "  </thead>\n",
       "  <tbody>\n",
       "    <tr>\n",
       "      <th>0</th>\n",
       "      <td>FUNC</td>\n",
       "      <td>['f']</td>\n",
       "      <td>['func_name', '__ANON_1']</td>\n",
       "      <td>[0]</td>\n",
       "    </tr>\n",
       "    <tr>\n",
       "      <th>1</th>\n",
       "      <td>FUNC</td>\n",
       "      <td>['j', ':', '\\\\mathbb{N}', '\\\\rightarrow', '[',...</td>\n",
       "      <td>['func_def', 'func_name', '__ANON_1', 'COLON',...</td>\n",
       "      <td>[0]</td>\n",
       "    </tr>\n",
       "    <tr>\n",
       "      <th>2</th>\n",
       "      <td>FUNC</td>\n",
       "      <td>['b']</td>\n",
       "      <td>['func_name', '__ANON_1']</td>\n",
       "      <td>[0]</td>\n",
       "    </tr>\n",
       "    <tr>\n",
       "      <th>3</th>\n",
       "      <td>SET</td>\n",
       "      <td>\\mathbb{Q}</td>\n",
       "      <td>['set_constant', 'SET_BASIC']</td>\n",
       "      <td>[0]</td>\n",
       "    </tr>\n",
       "    <tr>\n",
       "      <th>4</th>\n",
       "      <td>FUNC</td>\n",
       "      <td>['f']</td>\n",
       "      <td>['func_name', '__ANON_1']</td>\n",
       "      <td>[5, 0]</td>\n",
       "    </tr>\n",
       "  </tbody>\n",
       "</table>\n",
       "</div>"
      ],
      "text/plain": [
       "  mtype                                             tokens  \\\n",
       "0  FUNC                                              ['f']   \n",
       "1  FUNC  ['j', ':', '\\\\mathbb{N}', '\\\\rightarrow', '[',...   \n",
       "2  FUNC                                              ['b']   \n",
       "3   SET                                         \\mathbb{Q}   \n",
       "4  FUNC                                              ['f']   \n",
       "\n",
       "                                         type_tokens  labels  \n",
       "0                          ['func_name', '__ANON_1']     [0]  \n",
       "1  ['func_def', 'func_name', '__ANON_1', 'COLON',...     [0]  \n",
       "2                          ['func_name', '__ANON_1']     [0]  \n",
       "3                      ['set_constant', 'SET_BASIC']     [0]  \n",
       "4                          ['func_name', '__ANON_1']  [5, 0]  "
      ]
     },
     "execution_count": 23,
     "metadata": {},
     "output_type": "execute_result"
    }
   ],
   "source": [
    "# transform labels to lists of label ids\n",
    "\n",
    "def cell_to_label_lists(cell_val):\n",
    "    new_labels_ls = []\n",
    "    for elem in cell_val:\n",
    "        if elem in selected_labels:\n",
    "            new_labels_ls.append(labels_ids_dict[elem])\n",
    "    if new_labels_ls == []:\n",
    "        new_labels_ls.append(10000) # 10000 is the \"other\" label id\n",
    "    return new_labels_ls\n",
    "\n",
    "\n",
    "all_samples_df = all_samples_df.drop([\"fid\", \"exprstr\", \"mention\", \"tags\"], axis=1)\n",
    "all_samples_df[\"labels\"] = all_samples_df[\"labels\"].map(cell_to_label_lists)\n",
    "all_samples_df.head()"
   ]
  },
  {
   "cell_type": "code",
   "execution_count": 24,
   "metadata": {},
   "outputs": [],
   "source": [
    "ids_to_label_str_dict = {}\n",
    "ids_to_pos_index_dict = {}\n",
    "count = 0\n",
    "for label in selected_labels:\n",
    "    ids_to_label_str_dict[labels_ids_dict[label]] = label\n",
    "    ids_to_pos_index_dict[labels_ids_dict[label]] = count \n",
    "    count += 1"
   ]
  },
  {
   "cell_type": "code",
   "execution_count": 25,
   "metadata": {},
   "outputs": [
    {
     "data": {
      "text/html": [
       "<div>\n",
       "<style scoped>\n",
       "    .dataframe tbody tr th:only-of-type {\n",
       "        vertical-align: middle;\n",
       "    }\n",
       "\n",
       "    .dataframe tbody tr th {\n",
       "        vertical-align: top;\n",
       "    }\n",
       "\n",
       "    .dataframe thead th {\n",
       "        text-align: right;\n",
       "    }\n",
       "</style>\n",
       "<table border=\"1\" class=\"dataframe\">\n",
       "  <thead>\n",
       "    <tr style=\"text-align: right;\">\n",
       "      <th></th>\n",
       "      <th>mtype</th>\n",
       "      <th>tokens</th>\n",
       "      <th>type_tokens</th>\n",
       "      <th>labels</th>\n",
       "      <th>labels_str</th>\n",
       "    </tr>\n",
       "  </thead>\n",
       "  <tbody>\n",
       "    <tr>\n",
       "      <th>0</th>\n",
       "      <td>FUNC</td>\n",
       "      <td>['f']</td>\n",
       "      <td>['func_name', '__ANON_1']</td>\n",
       "      <td>[1, 0, 0, 0, 0, 0, 0, 0, 0, 0, 0, 0, 0, 0, 0, ...</td>\n",
       "      <td>[elementary-set-theory]</td>\n",
       "    </tr>\n",
       "    <tr>\n",
       "      <th>1</th>\n",
       "      <td>FUNC</td>\n",
       "      <td>['j', ':', '\\\\mathbb{N}', '\\\\rightarrow', '[',...</td>\n",
       "      <td>['func_def', 'func_name', '__ANON_1', 'COLON',...</td>\n",
       "      <td>[1, 0, 0, 0, 0, 0, 0, 0, 0, 0, 0, 0, 0, 0, 0, ...</td>\n",
       "      <td>[elementary-set-theory]</td>\n",
       "    </tr>\n",
       "    <tr>\n",
       "      <th>2</th>\n",
       "      <td>FUNC</td>\n",
       "      <td>['b']</td>\n",
       "      <td>['func_name', '__ANON_1']</td>\n",
       "      <td>[1, 0, 0, 0, 0, 0, 0, 0, 0, 0, 0, 0, 0, 0, 0, ...</td>\n",
       "      <td>[elementary-set-theory]</td>\n",
       "    </tr>\n",
       "    <tr>\n",
       "      <th>3</th>\n",
       "      <td>SET</td>\n",
       "      <td>\\mathbb{Q}</td>\n",
       "      <td>['set_constant', 'SET_BASIC']</td>\n",
       "      <td>[1, 0, 0, 0, 0, 0, 0, 0, 0, 0, 0, 0, 0, 0, 0, ...</td>\n",
       "      <td>[elementary-set-theory]</td>\n",
       "    </tr>\n",
       "    <tr>\n",
       "      <th>4</th>\n",
       "      <td>FUNC</td>\n",
       "      <td>['f']</td>\n",
       "      <td>['func_name', '__ANON_1']</td>\n",
       "      <td>[1, 0, 0, 1, 0, 0, 0, 0, 0, 0, 0, 0, 0, 0, 0, ...</td>\n",
       "      <td>[functions, elementary-set-theory]</td>\n",
       "    </tr>\n",
       "  </tbody>\n",
       "</table>\n",
       "</div>"
      ],
      "text/plain": [
       "  mtype                                             tokens  \\\n",
       "0  FUNC                                              ['f']   \n",
       "1  FUNC  ['j', ':', '\\\\mathbb{N}', '\\\\rightarrow', '[',...   \n",
       "2  FUNC                                              ['b']   \n",
       "3   SET                                         \\mathbb{Q}   \n",
       "4  FUNC                                              ['f']   \n",
       "\n",
       "                                         type_tokens  \\\n",
       "0                          ['func_name', '__ANON_1']   \n",
       "1  ['func_def', 'func_name', '__ANON_1', 'COLON',...   \n",
       "2                          ['func_name', '__ANON_1']   \n",
       "3                      ['set_constant', 'SET_BASIC']   \n",
       "4                          ['func_name', '__ANON_1']   \n",
       "\n",
       "                                              labels  \\\n",
       "0  [1, 0, 0, 0, 0, 0, 0, 0, 0, 0, 0, 0, 0, 0, 0, ...   \n",
       "1  [1, 0, 0, 0, 0, 0, 0, 0, 0, 0, 0, 0, 0, 0, 0, ...   \n",
       "2  [1, 0, 0, 0, 0, 0, 0, 0, 0, 0, 0, 0, 0, 0, 0, ...   \n",
       "3  [1, 0, 0, 0, 0, 0, 0, 0, 0, 0, 0, 0, 0, 0, 0, ...   \n",
       "4  [1, 0, 0, 1, 0, 0, 0, 0, 0, 0, 0, 0, 0, 0, 0, ...   \n",
       "\n",
       "                           labels_str  \n",
       "0             [elementary-set-theory]  \n",
       "1             [elementary-set-theory]  \n",
       "2             [elementary-set-theory]  \n",
       "3             [elementary-set-theory]  \n",
       "4  [functions, elementary-set-theory]  "
      ]
     },
     "execution_count": 25,
     "metadata": {},
     "output_type": "execute_result"
    }
   ],
   "source": [
    "def label_to_label_str(cell_val):\n",
    "    new_list = [ids_to_label_str_dict[elem] for elem in cell_val]\n",
    "    return new_list\n",
    "\n",
    "def label_ids_to_one_hot(cell_val):\n",
    "    new_list = [0 for i in range (40)]\n",
    "    for label_id in cell_val:\n",
    "        new_list[ids_to_pos_index_dict[label_id]] = 1\n",
    "    return new_list\n",
    "\n",
    "all_samples_df[\"labels_str\"] = all_samples_df[\"labels\"].map(label_to_label_str)\n",
    "all_samples_df[\"labels\"] = all_samples_df[\"labels\"].map(label_ids_to_one_hot)\n",
    "all_samples_df.head()"
   ]
  },
  {
   "cell_type": "code",
   "execution_count": 26,
   "metadata": {},
   "outputs": [
    {
     "name": "stdout",
     "output_type": "stream",
     "text": [
      "24621\n"
     ]
    }
   ],
   "source": [
    "output_path = Path(\"..\") / \"data\" / \"multi_class_data_TOKENIZED_V1.csv\"\n",
    "all_samples_df.to_csv(output_path, index=False)\n",
    "print(all_samples_df.shape[0])"
   ]
  },
  {
   "cell_type": "code",
   "execution_count": 29,
   "metadata": {},
   "outputs": [
    {
     "ename": "SyntaxError",
     "evalue": "incomplete input (974819890.py, line 1)",
     "output_type": "error",
     "traceback": [
      "\u001b[1;36m  Cell \u001b[1;32mIn [29], line 1\u001b[1;36m\u001b[0m\n\u001b[1;33m    for label in selected_labels:\u001b[0m\n\u001b[1;37m                                 ^\u001b[0m\n\u001b[1;31mSyntaxError\u001b[0m\u001b[1;31m:\u001b[0m incomplete input\n"
     ]
    }
   ],
   "source": [
    "for label in selected_labels:\n",
    "    one_hot_index = ids_to_pos_index_dict[labels_ids_dict[label]]\n",
    "    print(\"label: \" + str(label) + \", one hot index: \" + str(one_hot_index))"
   ]
  },
  {
   "attachments": {},
   "cell_type": "markdown",
   "metadata": {},
   "source": [
    "#### Remove single - token formulas from dataset"
   ]
  },
  {
   "cell_type": "code",
   "execution_count": 27,
   "metadata": {},
   "outputs": [
    {
     "data": {
      "text/html": [
       "<div>\n",
       "<style scoped>\n",
       "    .dataframe tbody tr th:only-of-type {\n",
       "        vertical-align: middle;\n",
       "    }\n",
       "\n",
       "    .dataframe tbody tr th {\n",
       "        vertical-align: top;\n",
       "    }\n",
       "\n",
       "    .dataframe thead th {\n",
       "        text-align: right;\n",
       "    }\n",
       "</style>\n",
       "<table border=\"1\" class=\"dataframe\">\n",
       "  <thead>\n",
       "    <tr style=\"text-align: right;\">\n",
       "      <th></th>\n",
       "      <th>mtype</th>\n",
       "      <th>tokens</th>\n",
       "      <th>type_tokens</th>\n",
       "      <th>labels</th>\n",
       "      <th>labels_str</th>\n",
       "    </tr>\n",
       "  </thead>\n",
       "  <tbody>\n",
       "    <tr>\n",
       "      <th>1</th>\n",
       "      <td>FUNC</td>\n",
       "      <td>['j', ':', '\\\\mathbb{N}', '\\\\rightarrow', '[',...</td>\n",
       "      <td>['func_def', 'func_name', '__ANON_1', 'COLON',...</td>\n",
       "      <td>[1, 0, 0, 0, 0, 0, 0, 0, 0, 0, 0, 0, 0, 0, 0, ...</td>\n",
       "      <td>[elementary-set-theory]</td>\n",
       "    </tr>\n",
       "    <tr>\n",
       "      <th>3</th>\n",
       "      <td>SET</td>\n",
       "      <td>\\mathbb{Q}</td>\n",
       "      <td>['set_constant', 'SET_BASIC']</td>\n",
       "      <td>[1, 0, 0, 0, 0, 0, 0, 0, 0, 0, 0, 0, 0, 0, 0, ...</td>\n",
       "      <td>[elementary-set-theory]</td>\n",
       "    </tr>\n",
       "    <tr>\n",
       "      <th>5</th>\n",
       "      <td>FUNC</td>\n",
       "      <td>['f', '(', 'x', ')', '=', 'x', '+', '1', '0']</td>\n",
       "      <td>['func_expr', 'func_name_arg', 'func_name', '_...</td>\n",
       "      <td>[1, 0, 0, 1, 0, 0, 0, 0, 0, 0, 0, 0, 0, 0, 0, ...</td>\n",
       "      <td>[functions, elementary-set-theory]</td>\n",
       "    </tr>\n",
       "    <tr>\n",
       "      <th>6</th>\n",
       "      <td>FUNC</td>\n",
       "      <td>['f', '(', 'x', ')', '=', '9', 'x']</td>\n",
       "      <td>['func_expr', 'func_name_arg', 'func_name', '_...</td>\n",
       "      <td>[1, 0, 0, 1, 0, 0, 0, 0, 0, 0, 0, 0, 0, 0, 0, ...</td>\n",
       "      <td>[functions, elementary-set-theory]</td>\n",
       "    </tr>\n",
       "    <tr>\n",
       "      <th>7</th>\n",
       "      <td>FUNC</td>\n",
       "      <td>['f', '(', 'x', ')', '=', 'x', '^', '2', '+', ...</td>\n",
       "      <td>['func_expr', 'func_name_arg', 'func_name', '_...</td>\n",
       "      <td>[1, 0, 0, 1, 0, 0, 0, 0, 0, 0, 0, 0, 0, 0, 0, ...</td>\n",
       "      <td>[functions, elementary-set-theory]</td>\n",
       "    </tr>\n",
       "  </tbody>\n",
       "</table>\n",
       "</div>"
      ],
      "text/plain": [
       "  mtype                                             tokens  \\\n",
       "1  FUNC  ['j', ':', '\\\\mathbb{N}', '\\\\rightarrow', '[',...   \n",
       "3   SET                                         \\mathbb{Q}   \n",
       "5  FUNC      ['f', '(', 'x', ')', '=', 'x', '+', '1', '0']   \n",
       "6  FUNC                ['f', '(', 'x', ')', '=', '9', 'x']   \n",
       "7  FUNC  ['f', '(', 'x', ')', '=', 'x', '^', '2', '+', ...   \n",
       "\n",
       "                                         type_tokens  \\\n",
       "1  ['func_def', 'func_name', '__ANON_1', 'COLON',...   \n",
       "3                      ['set_constant', 'SET_BASIC']   \n",
       "5  ['func_expr', 'func_name_arg', 'func_name', '_...   \n",
       "6  ['func_expr', 'func_name_arg', 'func_name', '_...   \n",
       "7  ['func_expr', 'func_name_arg', 'func_name', '_...   \n",
       "\n",
       "                                              labels  \\\n",
       "1  [1, 0, 0, 0, 0, 0, 0, 0, 0, 0, 0, 0, 0, 0, 0, ...   \n",
       "3  [1, 0, 0, 0, 0, 0, 0, 0, 0, 0, 0, 0, 0, 0, 0, ...   \n",
       "5  [1, 0, 0, 1, 0, 0, 0, 0, 0, 0, 0, 0, 0, 0, 0, ...   \n",
       "6  [1, 0, 0, 1, 0, 0, 0, 0, 0, 0, 0, 0, 0, 0, 0, ...   \n",
       "7  [1, 0, 0, 1, 0, 0, 0, 0, 0, 0, 0, 0, 0, 0, 0, ...   \n",
       "\n",
       "                           labels_str  \n",
       "1             [elementary-set-theory]  \n",
       "3             [elementary-set-theory]  \n",
       "5  [functions, elementary-set-theory]  \n",
       "6  [functions, elementary-set-theory]  \n",
       "7  [functions, elementary-set-theory]  "
      ]
     },
     "execution_count": 27,
     "metadata": {},
     "output_type": "execute_result"
    }
   ],
   "source": [
    "\n",
    "clean_data_df = all_samples_df.loc[all_samples_df[\"tokens\"].str.len() > 5]\n",
    "clean_data_df.head()"
   ]
  },
  {
   "cell_type": "code",
   "execution_count": 28,
   "metadata": {},
   "outputs": [
    {
     "name": "stdout",
     "output_type": "stream",
     "text": [
      "13772\n"
     ]
    }
   ],
   "source": [
    "output_path = Path(\"..\") / \"data\" / \"multi_class_data_TOKENIZED_V1_compact.csv\"\n",
    "clean_data_df.to_csv(output_path, index=False)\n",
    "print(clean_data_df.shape[0])"
   ]
  }
 ],
 "metadata": {
  "kernelspec": {
   "display_name": "sem_math_env",
   "language": "python",
   "name": "python3"
  },
  "language_info": {
   "codemirror_mode": {
    "name": "ipython",
    "version": 3
   },
   "file_extension": ".py",
   "mimetype": "text/x-python",
   "name": "python",
   "nbconvert_exporter": "python",
   "pygments_lexer": "ipython3",
   "version": "3.10.9 (main, Dec  7 2022, 01:12:00) [GCC 9.4.0]"
  },
  "orig_nbformat": 4,
  "vscode": {
   "interpreter": {
    "hash": "e475bf32faa723a86579ec24c4297aa7888421b748796abf349c5564eb9c10ae"
   }
  }
 },
 "nbformat": 4,
 "nbformat_minor": 2
}
