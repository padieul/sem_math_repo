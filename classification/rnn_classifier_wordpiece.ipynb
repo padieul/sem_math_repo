{
 "cells": [
  {
   "cell_type": "code",
   "execution_count": 51,
   "metadata": {},
   "outputs": [],
   "source": [
    "import os\n",
    "\n",
    "# takes care of annoying TF-GPU warnings\n",
    "os.environ[\"CUDA_VISIBLE_DEVICES\"] = \"-1\"\n",
    "os.environ[\"TF_CPP_MIN_LOG_LEVEL\"] = \"3\""
   ]
  },
  {
   "cell_type": "code",
   "execution_count": 52,
   "metadata": {},
   "outputs": [],
   "source": [
    "# very useful for managing wandb runs: https://stackoverflow.com/questions/71106179/log-two-model-runs-with-keras-wandb\n",
    "import wandb\n",
    "from wandb.keras import WandbCallback\n",
    "os.environ[\"WANDB_SILENT\"] = \"true\""
   ]
  },
  {
   "attachments": {},
   "cell_type": "markdown",
   "metadata": {},
   "source": [
    "#### RNN: Formula Label Prediction "
   ]
  },
  {
   "cell_type": "code",
   "execution_count": 53,
   "metadata": {},
   "outputs": [],
   "source": [
    "import numpy as np \n",
    "import pandas as pd\n",
    "from pathlib import Path \n",
    "\n",
    "import tensorflow as tf\n",
    "\n",
    "from tensorflow.keras import layers \n",
    "from tensorflow.keras import utils\n",
    "\n",
    "import tensorflow_datasets as tfds\n",
    "import tensorflow_text as tf_text\n",
    "\n",
    "import datetime\n",
    "\n",
    "tfds.disable_progress_bar()"
   ]
  },
  {
   "cell_type": "code",
   "execution_count": 54,
   "metadata": {},
   "outputs": [],
   "source": [
    "import matplotlib.pyplot as plt\n",
    "\n",
    "def plot_graphs(history, metric):\n",
    "    plt.plot(history.history[metric])\n",
    "    plt.plot(history.history[\"val_\"+metric], \"\")\n",
    "    plt.xlabel(\"Epochs\")\n",
    "    plt.ylabel(metric)\n",
    "    plt.legend([metric, \"val_\"+metric])"
   ]
  },
  {
   "attachments": {},
   "cell_type": "markdown",
   "metadata": {},
   "source": [
    "#### Import Data and Preprocess Dataframe"
   ]
  },
  {
   "cell_type": "code",
   "execution_count": 55,
   "metadata": {},
   "outputs": [],
   "source": [
    "def preprocess_data(wp_tokenizer, corpus,\n",
    "                    irrelevant_features=[\"mtype\",]):\n",
    "    # drop irrelevant columns\n",
    "    corpus.drop(irrelevant_features, inplace=True, axis=1)\n",
    "\n",
    "    # filter strings\n",
    "    def process_cell(cell_str):\n",
    "        stripped_f_str = cell_str[1:-1].replace(\"\\\\\\\\\", \"\\\\\")\n",
    "        f_list = stripped_f_str.split(\",\")\n",
    "        f_list = [token.replace(\"'\", \"\").replace(\" \", \"\") for token in f_list]\n",
    "        f_list = [\"{\" if token == \"\\\\{\" else token for token in f_list]\n",
    "        f_list = [\"}\" if token == \"\\\\}\" else token for token in f_list]\n",
    "        # put in tokenization\n",
    "        result = wp_tokenizer.tokenize(f_list)\n",
    "        #print(result.to_list())\n",
    "        try:\n",
    "            token_list = [n_tk[0].decode(\"ASCII\") for n_tk in result.to_list() if not n_tk == []]\n",
    "            token_list = [n_tk for n_tk in token_list if not n_tk == \"[UNK]\"]\n",
    "            token_list = wp_tokenizer.tokenize(f_list)\n",
    "        except Exception as e:\n",
    "            print(e)\n",
    "        cell_str = \" \".join(f_list)\n",
    "        return cell_str\n",
    "\n",
    "    corpus[\"tokens\"] = corpus[\"tokens\"].map(process_cell)"
   ]
  },
  {
   "cell_type": "code",
   "execution_count": 56,
   "metadata": {},
   "outputs": [],
   "source": [
    "# wordpiece subword tokenization with a lookuptable interface\n",
    "\n",
    "def _CreateTable(vocab, num_oov=1):\n",
    "  init = tf.lookup.KeyValueTensorInitializer(\n",
    "      vocab,\n",
    "      tf.range(tf.size(vocab, out_type=tf.int64), dtype=tf.int64),\n",
    "      key_dtype=tf.string,\n",
    "      value_dtype=tf.int64)\n",
    "  return tf.lookup.StaticVocabularyTable(\n",
    "      init, num_oov, lookup_key_dtype=tf.string)\n",
    "\n",
    "vocab_list = [  '', 'f', 'x', '1', '2', '}', '{', '(', ')', '^', '+', ':', \\\n",
    "                '-', '\\\\to', '=', '3', 'g', 'n', 'a', 'A', '0', '4', '\\\\frac', 'b', \\\n",
    "                'B', '\\\\rightarrow', 'X', '5', 'y', '\\\\mathbb{R}', '\\\\mathbb{N}',   \\\n",
    "                '\\\\mathbb', 'Y', '6', 'h', 'R', 'c', '/', '7', '\\\\colon', '9', 'p', \\\n",
    "                'k', 't', 'F', '8', 'm', 'i', 'S', 'd', 'e', 'N', '\\\\times', 'z', \\\n",
    "                's', 'C', 'q', 'r', ']', '\\\\circ', '[', '\\\\mathbb{Z}', '\\\\dfrac', \\\n",
    "                '\\\\mathbb{Q}', '\\\\cdot', '\\\\sin', '\\\\cup', 'T', 'u', 'Z', 'P', '!', \\\n",
    "                'M', '\\\\cap', 'G', 'E', 'D', 'U', 'Q', 'I', 'v', 'w', 'j', 'H', \\\n",
    "                '*', '\\\\varnothing', 'V', '\\\\cos', 'W', '\\\\exp', 'o', '\\\\arcsin', \\\n",
    "                '\\\\binom', 'l', '\\\\mathbb{C}', 'K', '\\\\ln', 'J', '\\\\arctan', 'L', \\\n",
    "                '\\\\cot', '\\\\cosh', 'O', '\\\\tanh', '\\\\arccos', '\\\\tfrac', '\\\\log', \\\n",
    "                '\\\\div', '\\\\sinh', '\\\\dbinom']\n",
    "vocab_table = _CreateTable(vocab_list)\n",
    "wp_tokenizer = tf_text.WordpieceTokenizer(\n",
    "        vocab_table, token_out_type=str)"
   ]
  },
  {
   "cell_type": "code",
   "execution_count": 57,
   "metadata": {},
   "outputs": [
    {
     "name": "stdout",
     "output_type": "stream",
     "text": [
      "[[b'['], [b'a'], [b'[UNK]']]\n"
     ]
    }
   ],
   "source": [
    "tokens =[\"[\", \"a\", \"ab}\"]\n",
    "result = wp_tokenizer.tokenize(tokens)\n",
    "print(result.to_list())"
   ]
  },
  {
   "cell_type": "code",
   "execution_count": 58,
   "metadata": {},
   "outputs": [
    {
     "data": {
      "text/html": [
       "<div>\n",
       "<style scoped>\n",
       "    .dataframe tbody tr th:only-of-type {\n",
       "        vertical-align: middle;\n",
       "    }\n",
       "\n",
       "    .dataframe tbody tr th {\n",
       "        vertical-align: top;\n",
       "    }\n",
       "\n",
       "    .dataframe thead th {\n",
       "        text-align: right;\n",
       "    }\n",
       "</style>\n",
       "<table border=\"1\" class=\"dataframe\">\n",
       "  <thead>\n",
       "    <tr style=\"text-align: right;\">\n",
       "      <th></th>\n",
       "      <th>tokens</th>\n",
       "      <th>label</th>\n",
       "    </tr>\n",
       "  </thead>\n",
       "  <tbody>\n",
       "    <tr>\n",
       "      <th>0</th>\n",
       "      <td>{ a }</td>\n",
       "      <td>1</td>\n",
       "    </tr>\n",
       "    <tr>\n",
       "      <th>1</th>\n",
       "      <td>3 r</td>\n",
       "      <td>1</td>\n",
       "    </tr>\n",
       "    <tr>\n",
       "      <th>2</th>\n",
       "      <td>f</td>\n",
       "      <td>1</td>\n",
       "    </tr>\n",
       "    <tr>\n",
       "      <th>3</th>\n",
       "      <td>\\binom { 4 } { 4 }</td>\n",
       "      <td>1</td>\n",
       "    </tr>\n",
       "    <tr>\n",
       "      <th>4</th>\n",
       "      <td>1</td>\n",
       "      <td>1</td>\n",
       "    </tr>\n",
       "  </tbody>\n",
       "</table>\n",
       "</div>"
      ],
      "text/plain": [
       "               tokens  label\n",
       "0               { a }      1\n",
       "1                 3 r      1\n",
       "2                   f      1\n",
       "3  \\binom { 4 } { 4 }      1\n",
       "4                   1      1"
      ]
     },
     "execution_count": 58,
     "metadata": {},
     "output_type": "execute_result"
    }
   ],
   "source": [
    "data_p = Path(\"data/\") / \"bin_class_data_TOKENIZED_V1.csv\"\n",
    "data = pd.read_csv(data_p)\n",
    "preprocess_data(wp_tokenizer, data)\n",
    "data.head()\n"
   ]
  },
  {
   "cell_type": "code",
   "execution_count": 59,
   "metadata": {},
   "outputs": [],
   "source": [
    "DATASET_SIZE = 11000\n",
    "data_as_ds = tf.data.Dataset.from_tensor_slices((data[\"tokens\"], data[\"label\"])) \n",
    "test_dataset = data_as_ds.take(1000)\n",
    "train_dataset = data_as_ds.skip(1000)"
   ]
  },
  {
   "attachments": {},
   "cell_type": "markdown",
   "metadata": {},
   "source": [
    "##### Setup and Data Preparation"
   ]
  },
  {
   "cell_type": "code",
   "execution_count": 60,
   "metadata": {},
   "outputs": [
    {
     "name": "stdout",
     "output_type": "stream",
     "text": [
      "text:  b'g ( x ) = x ^ 2 + 2 x'\n",
      "label:  1\n"
     ]
    }
   ],
   "source": [
    "for example, label in train_dataset.take(1):\n",
    "    print(\"text: \", example.numpy())\n",
    "    print(\"label: \", label.numpy())"
   ]
  },
  {
   "cell_type": "code",
   "execution_count": 61,
   "metadata": {},
   "outputs": [],
   "source": [
    "BUFFER_SIZE = 10000\n",
    "BATCH_SIZE = 64\n",
    "train_dataset = train_dataset.shuffle(BUFFER_SIZE).batch(BATCH_SIZE).prefetch(tf.data.AUTOTUNE)\n",
    "test_dataset = test_dataset.batch(BATCH_SIZE).prefetch(tf.data.AUTOTUNE)"
   ]
  },
  {
   "attachments": {},
   "cell_type": "markdown",
   "metadata": {},
   "source": [
    "##### Text Encoding"
   ]
  },
  {
   "cell_type": "code",
   "execution_count": 62,
   "metadata": {},
   "outputs": [],
   "source": [
    "def create_encoder(output_mode_str, n_grams):\n",
    "    VOCAB_SIZE = 1000\n",
    "    encoder = tf.keras.layers.TextVectorization(\n",
    "        standardize=None,\n",
    "        output_mode=output_mode_str,\n",
    "        ngrams = n_grams,\n",
    "        split=\"whitespace\",\n",
    "        max_tokens=VOCAB_SIZE)\n",
    "    encoder.adapt(train_dataset.map(lambda tokens, label: tokens)) # removes the label column through transformation: text, label -> text\n",
    "    return encoder"
   ]
  },
  {
   "attachments": {},
   "cell_type": "markdown",
   "metadata": {},
   "source": [
    "##### Representation 1: Use integer indices encoding"
   ]
  },
  {
   "cell_type": "code",
   "execution_count": 63,
   "metadata": {},
   "outputs": [
    {
     "name": "stdout",
     "output_type": "stream",
     "text": [
      "WARNING:tensorflow:From /home/paul_d/Sources/sem_math_bin_classifiers/sem_mcl_env/lib/python3.10/site-packages/tensorflow/python/autograph/pyct/static_analysis/liveness.py:83: Analyzer.lamba_check (from tensorflow.python.autograph.pyct.static_analysis.liveness) is deprecated and will be removed after 2023-09-23.\n",
      "Instructions for updating:\n",
      "Lambda fuctions will be no more assumed to be used in the statement where they are used, or at least in the same block. https://github.com/tensorflow/tensorflow/issues/56089\n"
     ]
    },
    {
     "data": {
      "text/plain": [
       "array(['', '[UNK]', 'f', 'x', '1', '2', '}', '{', '(', ')', '^', '+', ':',\n",
       "       '-', '\\\\to', '=', '3', 'g', 'n', 'a', 'A', '0', '4', '\\\\frac', 'b',\n",
       "       'B', '\\\\rightarrow', 'X', '5', 'y', '\\\\mathbb{R}', '\\\\mathbb{N}',\n",
       "       '\\\\mathbb', 'Y', '6', 'h', 'R', 'c', '/', '7', '\\\\colon', '9', 'p',\n",
       "       'k', 't', 'F', '8', 'm', 'i', 'S', 'd', 'e', 'N', '\\\\times', 'z',\n",
       "       's', 'C', 'q', 'r', ']', '\\\\circ', '[', '\\\\mathbb{Z}', '\\\\dfrac',\n",
       "       '\\\\mathbb{Q}', '\\\\cdot', '\\\\sin', '\\\\cup', 'T', 'u', 'Z', 'P', '!',\n",
       "       'M', '\\\\cap', 'G', 'E', 'D', 'U', 'Q', 'I', 'v', 'w', 'j', 'H',\n",
       "       '*', '\\\\varnothing', 'V', '\\\\cos', 'W', '\\\\exp', 'o', '\\\\arcsin',\n",
       "       '\\\\binom', 'l', '\\\\mathbb{C}', 'K', '\\\\ln', 'J', '\\\\arctan', 'L',\n",
       "       '\\\\cot', '\\\\cosh', 'O', '\\\\tanh', '\\\\arccos', '\\\\tfrac', '\\\\log',\n",
       "       '\\\\div', '\\\\sinh', '\\\\dbinom'], dtype='<U11')"
      ]
     },
     "execution_count": 63,
     "metadata": {},
     "output_type": "execute_result"
    }
   ],
   "source": [
    "encoder_int = create_encoder(\"int\", None)\n",
    "vocab = np.array(encoder_int.get_vocabulary())\n",
    "vocab[:200]"
   ]
  },
  {
   "cell_type": "code",
   "execution_count": 64,
   "metadata": {},
   "outputs": [
    {
     "name": "stdout",
     "output_type": "stream",
     "text": [
      "tf.Tensor(b'g ( x ) = x ^ 2 + 2 x', shape=(), dtype=string)\n",
      "[17  8  3  9 15  3 10  5 11  5  3]\n"
     ]
    }
   ],
   "source": [
    "encoded_example = encoder_int(example).numpy()\n",
    "print(example)\n",
    "print(encoded_example)"
   ]
  },
  {
   "cell_type": "code",
   "execution_count": 65,
   "metadata": {},
   "outputs": [
    {
     "name": "stdout",
     "output_type": "stream",
     "text": [
      "Original:  b'g ( x ) = x ^ 2 + 2 x'\n",
      "After reverse lookup:  g ( x ) = x ^ 2 + 2 x\n"
     ]
    }
   ],
   "source": [
    "print(\"Original: \", example.numpy())\n",
    "print(\"After reverse lookup: \", \" \".join(vocab[encoded_example]))"
   ]
  },
  {
   "attachments": {},
   "cell_type": "markdown",
   "metadata": {},
   "source": [
    "##### Representation 2: Binary Count Vectorizer"
   ]
  },
  {
   "cell_type": "code",
   "execution_count": 66,
   "metadata": {},
   "outputs": [
    {
     "data": {
      "text/plain": [
       "array(['[UNK]', 'f', 'x', '1', '2', '}', '{', '(', ')', '^', '+', ':',\n",
       "       '-', '\\\\to', '=', '3', 'g', 'n', 'a', 'A', '0', '4', '\\\\frac', 'b',\n",
       "       'B', '\\\\rightarrow', 'X', '5', 'y', '\\\\mathbb{R}', '\\\\mathbb{N}',\n",
       "       '\\\\mathbb', 'Y', '6', 'h', 'R', 'c', '/', '7', '\\\\colon', '9', 'p',\n",
       "       'k', 't', 'F', '8', 'm', 'i', 'S', 'd', 'e', 'N', '\\\\times', 'z',\n",
       "       's', 'C', 'q', 'r', ']', '\\\\circ', '[', '\\\\mathbb{Z}', '\\\\dfrac',\n",
       "       '\\\\mathbb{Q}', '\\\\cdot', '\\\\sin', '\\\\cup', 'T', 'u', 'Z', 'P', '!',\n",
       "       'M', '\\\\cap', 'G', 'E', 'D', 'U', 'Q', 'I', 'v', 'w', 'j', 'H',\n",
       "       '*', '\\\\varnothing', 'V', '\\\\cos', 'W', '\\\\exp', 'o', '\\\\arcsin',\n",
       "       '\\\\binom', 'l', '\\\\mathbb{C}', 'K', '\\\\ln', 'J', '\\\\arctan', 'L',\n",
       "       '\\\\cot', '\\\\cosh', 'O', '\\\\tanh', '\\\\arccos', '\\\\tfrac', '\\\\log',\n",
       "       '\\\\div', '\\\\sinh', '\\\\dbinom'], dtype='<U11')"
      ]
     },
     "execution_count": 66,
     "metadata": {},
     "output_type": "execute_result"
    }
   ],
   "source": [
    "encoder_multi_hot = create_encoder(\"multi_hot\", None)\n",
    "vocab = np.array(encoder_multi_hot.get_vocabulary())\n",
    "vocab[:200]"
   ]
  },
  {
   "cell_type": "code",
   "execution_count": 67,
   "metadata": {},
   "outputs": [
    {
     "name": "stdout",
     "output_type": "stream",
     "text": [
      "tf.Tensor(b'g ( x ) = x ^ 2 + 2 x', shape=(), dtype=string)\n",
      "[0. 0. 1. 0. 1. 0. 0. 1. 1. 1. 1. 0. 0. 0. 1. 0. 1. 0. 0. 0. 0. 0. 0. 0.\n",
      " 0. 0. 0. 0. 0. 0. 0. 0. 0. 0. 0. 0. 0. 0. 0. 0. 0. 0. 0. 0. 0. 0. 0. 0.\n",
      " 0. 0. 0. 0. 0. 0. 0. 0. 0. 0. 0. 0. 0. 0. 0. 0. 0. 0. 0. 0. 0. 0. 0. 0.\n",
      " 0. 0. 0. 0. 0. 0. 0. 0. 0. 0. 0. 0. 0. 0. 0. 0. 0. 0. 0. 0. 0. 0. 0. 0.\n",
      " 0. 0. 0. 0. 0. 0. 0. 0. 0. 0. 0. 0. 0. 0.]\n"
     ]
    }
   ],
   "source": [
    "encoded_example = encoder_multi_hot(example).numpy()\n",
    "print(example)\n",
    "print(encoded_example)"
   ]
  },
  {
   "attachments": {},
   "cell_type": "markdown",
   "metadata": {},
   "source": [
    "##### Representation 3: Frequency Count Vectorizer"
   ]
  },
  {
   "cell_type": "code",
   "execution_count": 68,
   "metadata": {},
   "outputs": [
    {
     "data": {
      "text/plain": [
       "array(['[UNK]', 'f', 'x', '1', '2', '}', '{', '(', ')', '^', '+', ':',\n",
       "       '-', '\\\\to', '=', '3', 'g', 'n', 'a', 'A', '0', '4', '\\\\frac', 'b',\n",
       "       'B', '\\\\rightarrow', 'X', '5', 'y', '\\\\mathbb{R}', '\\\\mathbb{N}',\n",
       "       '\\\\mathbb', 'Y', '6', 'h', 'R', 'c', '/', '7', '\\\\colon', '9', 'p',\n",
       "       'k', 't', 'F', '8', 'm', 'i', 'S', 'd', 'e', 'N', '\\\\times', 'z',\n",
       "       's', 'C', 'q', 'r', ']', '\\\\circ', '[', '\\\\mathbb{Z}', '\\\\dfrac',\n",
       "       '\\\\mathbb{Q}', '\\\\cdot', '\\\\sin', '\\\\cup', 'T', 'u', 'Z', 'P', '!',\n",
       "       'M', '\\\\cap', 'G', 'E', 'D', 'U', 'Q', 'I', 'v', 'w', 'j', 'H',\n",
       "       '*', '\\\\varnothing', 'V', '\\\\cos', 'W', '\\\\exp', 'o', '\\\\arcsin',\n",
       "       '\\\\binom', 'l', '\\\\mathbb{C}', 'K', '\\\\ln', 'J', '\\\\arctan', 'L',\n",
       "       '\\\\cot', '\\\\cosh', 'O', '\\\\tanh', '\\\\arccos', '\\\\tfrac', '\\\\log',\n",
       "       '\\\\div', '\\\\sinh', '\\\\dbinom'], dtype='<U11')"
      ]
     },
     "execution_count": 68,
     "metadata": {},
     "output_type": "execute_result"
    }
   ],
   "source": [
    "encoder_count = create_encoder(\"count\", None)\n",
    "vocab = np.array(encoder_count.get_vocabulary())\n",
    "vocab[:200]"
   ]
  },
  {
   "cell_type": "code",
   "execution_count": 69,
   "metadata": {},
   "outputs": [
    {
     "name": "stdout",
     "output_type": "stream",
     "text": [
      "tf.Tensor(b'g ( x ) = x ^ 2 + 2 x', shape=(), dtype=string)\n",
      "[0. 0. 3. 0. 2. 0. 0. 1. 1. 1. 1. 0. 0. 0. 1. 0. 1. 0. 0. 0. 0. 0. 0. 0.\n",
      " 0. 0. 0. 0. 0. 0. 0. 0. 0. 0. 0. 0. 0. 0. 0. 0. 0. 0. 0. 0. 0. 0. 0. 0.\n",
      " 0. 0. 0. 0. 0. 0. 0. 0. 0. 0. 0. 0. 0. 0. 0. 0. 0. 0. 0. 0. 0. 0. 0. 0.\n",
      " 0. 0. 0. 0. 0. 0. 0. 0. 0. 0. 0. 0. 0. 0. 0. 0. 0. 0. 0. 0. 0. 0. 0. 0.\n",
      " 0. 0. 0. 0. 0. 0. 0. 0. 0. 0. 0. 0. 0. 0.]\n"
     ]
    }
   ],
   "source": [
    "encoded_example = encoder_count(example).numpy()\n",
    "print(example)\n",
    "print(encoded_example)"
   ]
  },
  {
   "attachments": {},
   "cell_type": "markdown",
   "metadata": {},
   "source": [
    "##### Representation 4: Bigrams Frequency Count Vectorizer"
   ]
  },
  {
   "cell_type": "code",
   "execution_count": 70,
   "metadata": {},
   "outputs": [
    {
     "data": {
      "text/plain": [
       "array(['[UNK]', 'f', 'x', '1', '2', '}', '{', '(', ')', '^', '+', ':',\n",
       "       '-', '( x', '\\\\to', '=', ') =', 'x )', 'f (', 'f :', '3', '^ 2',\n",
       "       'g', 'n', 'a', 'A', '} {', '0', '4', 'x ^', '\\\\frac {', '\\\\frac',\n",
       "       'b', 'B', '1 }', '\\\\rightarrow', 'X', '5', '^ {', 'y', '+ 1',\n",
       "       '- 1', '{ 1', '\\\\mathbb{R}', 'x +', '\\\\mathbb{N}', '\\\\mathbb',\n",
       "       ': A', '2 }', '2 +', '{ x', 'Y', '6', '= x', 'h', 'x -', '{ 2',\n",
       "       'R', 'c', '/', 'A \\\\to', '1 )', ': X', '7', '\\\\colon', '9', 'p',\n",
       "       '\\\\to B', 'k', '( n', '2 ^', 'X \\\\to', 'g :', 'x }', 't',\n",
       "       '\\\\mathbb R', '^ 3', 'n +', 'F', '8', '{ a', 'a b', '= \\\\frac',\n",
       "       '- 2', 'm', '3 }', 'i', '2 -', '\\\\to Y', '+ b', '- x', 'S', '+ 2',\n",
       "       ') ^', '2 x', 'd', 'f \\\\colon', 'e', 'N', '\\\\times',\n",
       "       ': \\\\mathbb{R}', 'n )', 'g (', '\\\\to \\\\mathbb{R}', ': \\\\mathbb{N}',\n",
       "       '^ x', '0 1', 'z', 'a ^', '^ n', 'A \\\\rightarrow', 's', '1 /',\n",
       "       ') (', 'C', 'x y', 'b }', '\\\\mathbb{N} \\\\to', 'a +', ': \\\\mathbb',\n",
       "       '( a', '\\\\to \\\\mathbb', '\\\\mathbb N', 'e ^', '\\\\mathbb{R} \\\\to',\n",
       "       '( 1', '{ 3', 'q', 'n -', '{ n', '\\\\rightarrow B', '+ x', '} +',\n",
       "       '2 )', '- 3', '\\\\to A', ') }', '4 }', 'y )', 'X \\\\rightarrow',\n",
       "       '+ 4', '+ 3', 'n ^', '} -', '= 2', '1 +', 'r', 'a }', ']',\n",
       "       '\\\\to \\\\mathbb{N}', '\\\\circ', '^ 4', '{ (', '[', '{ b', '{ -',\n",
       "       '3 +', 'n }', '{ 4', '{ 0', '\\\\mathbb{Z}', '\\\\dfrac {', '\\\\dfrac',\n",
       "       '\\\\mathbb{Q}', '- 4', 'b )', 'h :', 'b ^', '\\\\cdot', '= a', '2 n',\n",
       "       'y ^', 't )', '\\\\to X', '\\\\sin', '+ y', 'b c', '\\\\rightarrow Y',\n",
       "       '\\\\cup', 'T', 'u', 'a x', '+ c', 'Z', '3 x', '} }', '\\\\colon A',\n",
       "       'P', '1 2', '1 -', '!', 'M', '- a', '( t', '( 2', '( 0', 'B \\\\to',\n",
       "       'A \\\\times', ': B', '1 ^'], dtype='<U22')"
      ]
     },
     "execution_count": 70,
     "metadata": {},
     "output_type": "execute_result"
    }
   ],
   "source": [
    "encoder_bigrams = create_encoder(\"count\", (2))\n",
    "vocab = np.array(encoder_bigrams.get_vocabulary())\n",
    "vocab[:200]"
   ]
  },
  {
   "cell_type": "code",
   "execution_count": 71,
   "metadata": {},
   "outputs": [
    {
     "name": "stdout",
     "output_type": "stream",
     "text": [
      "tf.Tensor(b'g ( x ) = x ^ 2 + 2 x', shape=(), dtype=string)\n",
      "[0. 0. 3. 0. 2. 0. 0. 1. 1. 1. 1. 0. 0. 1. 0. 1. 1. 1. 0. 0. 0. 1. 1. 0.\n",
      " 0. 0. 0. 0. 0. 1. 0. 0. 0. 0. 0. 0. 0. 0. 0. 0. 0. 0. 0. 0. 0. 0. 0. 0.\n",
      " 0. 1. 0. 0. 0. 1. 0. 0. 0. 0. 0. 0. 0. 0. 0. 0. 0. 0. 0. 0. 0. 0. 0. 0.\n",
      " 0. 0. 0. 0. 0. 0. 0. 0. 0. 0. 0. 0. 0. 0. 0. 0. 0. 0. 0. 0. 1. 0. 1. 0.\n",
      " 0. 0. 0. 0. 0. 0. 1. 0. 0. 0. 0. 0. 0. 0. 0. 0. 0. 0. 0. 0. 0. 0. 0. 0.\n",
      " 0. 0. 0. 0. 0. 0. 0. 0. 0. 0. 0. 0. 0. 0. 0. 0. 0. 0. 0. 0. 0. 0. 0. 0.\n",
      " 0. 0. 0. 0. 0. 0. 0. 0. 0. 0. 0. 0. 0. 0. 0. 0. 0. 0. 0. 0. 0. 0. 0. 0.\n",
      " 0. 0. 0. 0. 0. 0. 0. 0. 0. 0. 0. 0. 0. 0. 0. 0. 0. 0. 0. 0. 0. 0. 0. 0.\n",
      " 0. 0. 0. 0. 0. 0. 0. 0. 0. 0. 0. 0. 0. 0. 0. 0. 0. 0. 0. 0. 0. 0. 0. 0.\n",
      " 0. 0. 0. 0. 0. 0. 0. 0. 0. 0. 0. 0. 0. 0. 0. 0. 0. 0. 0. 0. 0. 0. 0. 0.\n",
      " 0. 0. 0. 0. 0. 0. 0. 0. 0. 0. 0. 0. 0. 0. 0. 0. 0. 0. 0. 0. 0. 0. 0. 0.\n",
      " 0. 0. 0. 0. 0. 0. 0. 0. 0. 0. 0. 0. 0. 0. 0. 0. 0. 0. 0. 0. 0. 0. 0. 0.\n",
      " 0. 0. 0. 0. 0. 0. 0. 0. 0. 0. 0. 0. 0. 0. 0. 0. 0. 0. 0. 0. 0. 0. 0. 0.\n",
      " 0. 0. 0. 0. 0. 0. 0. 0. 0. 0. 0. 0. 0. 0. 0. 0. 0. 0. 0. 0. 0. 0. 0. 0.\n",
      " 0. 0. 0. 0. 0. 0. 0. 0. 0. 0. 0. 0. 0. 0. 0. 0. 0. 0. 0. 0. 0. 0. 0. 0.\n",
      " 0. 0. 0. 0. 0. 0. 0. 0. 0. 0. 0. 0. 0. 0. 0. 0. 0. 0. 0. 0. 0. 0. 0. 0.\n",
      " 0. 0. 0. 0. 0. 0. 0. 0. 0. 0. 0. 0. 0. 0. 0. 0. 0. 0. 0. 0. 0. 0. 0. 0.\n",
      " 0. 0. 0. 0. 0. 0. 0. 0. 0. 0. 0. 0. 0. 0. 0. 0. 0. 0. 0. 0. 0. 0. 0. 0.\n",
      " 0. 0. 0. 0. 0. 0. 0. 0. 0. 0. 0. 0. 0. 0. 0. 0. 0. 0. 0. 0. 0. 0. 0. 0.\n",
      " 0. 0. 0. 0. 0. 0. 0. 0. 0. 0. 0. 0. 0. 0. 0. 0. 0. 0. 0. 0. 0. 0. 0. 0.\n",
      " 0. 0. 0. 0. 0. 0. 0. 0. 0. 0. 0. 0. 0. 0. 0. 0. 0. 0. 0. 0. 0. 0. 0. 0.\n",
      " 0. 0. 0. 0. 0. 0. 0. 0. 0. 0. 0. 0. 0. 0. 0. 0. 0. 0. 0. 0. 0. 0. 0. 0.\n",
      " 0. 0. 0. 0. 0. 0. 0. 0. 0. 0. 0. 0. 0. 0. 0. 0. 0. 0. 0. 0. 0. 0. 0. 0.\n",
      " 0. 0. 0. 0. 0. 0. 0. 0. 0. 0. 0. 0. 0. 0. 0. 0. 0. 0. 0. 0. 0. 0. 0. 0.\n",
      " 0. 0. 0. 0. 0. 0. 0. 0. 0. 0. 0. 0. 0. 0. 0. 0. 0. 0. 0. 0. 0. 0. 0. 0.\n",
      " 0. 0. 0. 0. 0. 0. 0. 0. 0. 0. 0. 0. 0. 0. 0. 0. 0. 0. 0. 0. 0. 0. 0. 0.\n",
      " 0. 0. 0. 0. 0. 0. 0. 0. 0. 0. 0. 0. 0. 0. 0. 0. 0. 0. 0. 0. 0. 0. 0. 0.\n",
      " 0. 0. 0. 0. 0. 0. 0. 0. 0. 0. 0. 0. 0. 0. 0. 0. 0. 0. 0. 0. 0. 0. 0. 0.\n",
      " 0. 0. 0. 0. 0. 0. 0. 0. 0. 0. 0. 0. 0. 0. 0. 0. 0. 0. 0. 0. 0. 0. 0. 0.\n",
      " 0. 0. 0. 0. 0. 0. 0. 0. 0. 0. 0. 0. 0. 0. 0. 0. 0. 0. 0. 0. 0. 0. 0. 0.\n",
      " 0. 0. 0. 0. 0. 0. 0. 0. 0. 0. 0. 0. 0. 0. 0. 0. 0. 0. 0. 0. 0. 0. 0. 0.\n",
      " 0. 0. 0. 0. 0. 0. 0. 0. 0. 0. 0. 0. 0. 0. 0. 0. 0. 0. 0. 0. 0. 0. 0. 0.\n",
      " 0. 0. 0. 0. 0. 0. 0. 0. 0. 0. 0. 0. 0. 0. 0. 0. 0. 0. 0. 0. 0. 0. 0. 0.\n",
      " 0. 0. 0. 0. 0. 0. 0. 0. 0. 0. 0. 0. 0. 0. 0. 0. 0. 0. 0. 0. 0. 0. 0. 0.\n",
      " 0. 0. 0. 0. 0. 0. 0. 0. 0. 0. 0. 0. 0. 0. 0. 0. 0. 0. 0. 0. 0. 0. 0. 0.\n",
      " 0. 0. 0. 0. 0. 0. 0. 0. 0. 0. 0. 0. 0. 0. 0. 0. 0. 0. 0. 0. 0. 0. 0. 0.\n",
      " 0. 0. 0. 0. 0. 0. 0. 0. 0. 0. 0. 0. 0. 0. 0. 0. 0. 0. 0. 0. 0. 0. 0. 0.\n",
      " 0. 0. 0. 0. 0. 0. 0. 0. 0. 0. 0. 0. 0. 0. 0. 0. 0. 0. 0. 0. 0. 0. 0. 0.\n",
      " 0. 0. 0. 0. 0. 0. 0. 0. 0. 0. 0. 0. 0. 0. 0. 0. 0. 0. 0. 0. 0. 0. 0. 0.\n",
      " 0. 0. 0. 0. 0. 0. 0. 0. 0. 0. 0. 0. 0. 0. 0. 0. 0. 0. 0. 0. 0. 0. 0. 0.\n",
      " 0. 0. 0. 0. 0. 0. 0. 0. 0. 0. 0. 0. 0. 0. 0. 0. 0. 0. 0. 0. 0. 0. 0. 0.\n",
      " 0. 0. 0. 0. 0. 0. 0. 0. 0. 0. 0. 0. 0. 0. 0. 0.]\n"
     ]
    }
   ],
   "source": [
    "encoded_example = encoder_bigrams(example).numpy()\n",
    "print(example)\n",
    "print(encoded_example)"
   ]
  },
  {
   "attachments": {},
   "cell_type": "markdown",
   "metadata": {},
   "source": [
    "##### Representation 5: Tf-Idf Vectorizer"
   ]
  },
  {
   "cell_type": "code",
   "execution_count": 72,
   "metadata": {},
   "outputs": [
    {
     "data": {
      "text/plain": [
       "array(['[UNK]', 'f', 'x', '1', '2', '}', '{', '(', ')', '^', '+', ':',\n",
       "       '-', '\\\\to', '=', '3', 'g', 'n', 'a', 'A', '0', '4', '\\\\frac', 'b',\n",
       "       'B', '\\\\rightarrow', 'X', '5', 'y', '\\\\mathbb{R}', '\\\\mathbb{N}',\n",
       "       '\\\\mathbb', 'Y', '6', 'h', 'R', 'c', '/', '7', '\\\\colon', '9', 'p',\n",
       "       'k', 't', 'F', '8', 'm', 'i', 'S', 'd', 'e', 'N', '\\\\times', 'z',\n",
       "       's', 'C', 'q', 'r', ']', '\\\\circ', '[', '\\\\mathbb{Z}', '\\\\dfrac',\n",
       "       '\\\\mathbb{Q}', '\\\\cdot', '\\\\sin', '\\\\cup', 'T', 'u', 'Z', 'P', '!',\n",
       "       'M', '\\\\cap', 'G', 'E', 'D', 'U', 'Q', 'I', 'v', 'w', 'j', 'H',\n",
       "       '*', '\\\\varnothing', 'V', '\\\\cos', 'W', '\\\\exp', 'o', '\\\\arcsin',\n",
       "       '\\\\binom', 'l', '\\\\mathbb{C}', 'K', '\\\\ln', 'J', '\\\\arctan', 'L',\n",
       "       '\\\\cot', '\\\\cosh', 'O', '\\\\tanh', '\\\\arccos', '\\\\tfrac', '\\\\log',\n",
       "       '\\\\div', '\\\\sinh', '\\\\dbinom'], dtype='<U11')"
      ]
     },
     "execution_count": 72,
     "metadata": {},
     "output_type": "execute_result"
    }
   ],
   "source": [
    "encoder_tf_idf = create_encoder(\"tf_idf\", None)\n",
    "vocab = np.array(encoder_tf_idf.get_vocabulary())\n",
    "vocab[:200]"
   ]
  },
  {
   "cell_type": "code",
   "execution_count": 73,
   "metadata": {},
   "outputs": [
    {
     "name": "stdout",
     "output_type": "stream",
     "text": [
      "tf.Tensor(b'g ( x ) = x ^ 2 + 2 x', shape=(), dtype=string)\n",
      "[0.        0.        6.629644  0.        4.0315437 0.        0.\n",
      " 2.1011312 2.1011312 2.2178829 2.4974902 0.        0.        0.\n",
      " 2.5330882 0.        2.7413087 0.        0.        0.        0.\n",
      " 0.        0.        0.        0.        0.        0.        0.\n",
      " 0.        0.        0.        0.        0.        0.        0.\n",
      " 0.        0.        0.        0.        0.        0.        0.\n",
      " 0.        0.        0.        0.        0.        0.        0.\n",
      " 0.        0.        0.        0.        0.        0.        0.\n",
      " 0.        0.        0.        0.        0.        0.        0.\n",
      " 0.        0.        0.        0.        0.        0.        0.\n",
      " 0.        0.        0.        0.        0.        0.        0.\n",
      " 0.        0.        0.        0.        0.        0.        0.\n",
      " 0.        0.        0.        0.        0.        0.        0.\n",
      " 0.        0.        0.        0.        0.        0.        0.\n",
      " 0.        0.        0.        0.        0.        0.        0.\n",
      " 0.        0.        0.        0.        0.       ]\n"
     ]
    }
   ],
   "source": [
    "encoded_example = encoder_tf_idf(example).numpy()\n",
    "print(example)\n",
    "print(encoded_example)"
   ]
  },
  {
   "attachments": {},
   "cell_type": "markdown",
   "metadata": {},
   "source": [
    "##### Model (Bidirectional LSTM with one layer)"
   ]
  },
  {
   "attachments": {},
   "cell_type": "markdown",
   "metadata": {},
   "source": [
    " **Define and compile model**"
   ]
  },
  {
   "cell_type": "code",
   "execution_count": 74,
   "metadata": {},
   "outputs": [],
   "source": [
    "def create_model(vec_encoder):\n",
    "    model = tf.keras.Sequential([\n",
    "        vec_encoder,\n",
    "        tf.keras.layers.Embedding(\n",
    "            input_dim=len(vec_encoder.get_vocabulary()),\n",
    "            output_dim=64,\n",
    "            # user masking to handle the variable sequence lengths\n",
    "            mask_zero=True),\n",
    "        tf.keras.layers.Bidirectional(tf.keras.layers.LSTM(64)),\n",
    "        tf.keras.layers.Dense(64, activation=\"relu\"),\n",
    "        tf.keras.layers.Dense(1)\n",
    "    ])\n",
    "    return model"
   ]
  },
  {
   "attachments": {},
   "cell_type": "markdown",
   "metadata": {},
   "source": [
    " **Train the model**"
   ]
  },
  {
   "attachments": {},
   "cell_type": "markdown",
   "metadata": {},
   "source": [
    "##### Experiment 1: Use integer indices for encoding tokens"
   ]
  },
  {
   "cell_type": "code",
   "execution_count": 75,
   "metadata": {},
   "outputs": [],
   "source": [
    "### TENSORBOARD USAGE\n",
    "#log_dir = \"4_nlp_rnns/logs/fit/\" + datetime.datetime.now().strftime(\"%Y%m%d-%H%M%S\")\n",
    "#tensorboard_callback = tf.keras.callbacks.TensorBoard(log_dir=log_dir)"
   ]
  },
  {
   "cell_type": "code",
   "execution_count": 76,
   "metadata": {},
   "outputs": [
    {
     "name": "stdout",
     "output_type": "stream",
     "text": [
      "1/1 [==============================] - 2s 2s/step\n",
      "[-0.00520797]\n"
     ]
    }
   ],
   "source": [
    "model = create_model(encoder_int)\n",
    "# predict on a sample formula using untrained model\n",
    "sample_text = (\"g ( x ) = x ^ 3\")\n",
    "predictions = model.predict(np.array([sample_text]))\n",
    "print(predictions[0])"
   ]
  },
  {
   "cell_type": "code",
   "execution_count": 77,
   "metadata": {},
   "outputs": [],
   "source": [
    "model.compile(loss=tf.keras.losses.BinaryCrossentropy(from_logits=True),\n",
    "              optimizer=tf.keras.optimizers.Adam(1e-2),\n",
    "              metrics=[\"accuracy\"])"
   ]
  },
  {
   "cell_type": "code",
   "execution_count": 78,
   "metadata": {},
   "outputs": [
    {
     "name": "stdout",
     "output_type": "stream",
     "text": [
      "Epoch 1/50\n",
      "154/156 [============================>.] - ETA: 0s - loss: 0.6255 - accuracy: 0.6131WARNING:tensorflow:Your input ran out of data; interrupting training. Make sure that your dataset or generator can generate at least `steps_per_epoch * epochs` batches (in this case, 30 batches). You may need to use the repeat() function when building your dataset.\n"
     ]
    },
    {
     "name": "stderr",
     "output_type": "stream",
     "text": [
      "WARNING:absl:Found untraced functions such as _update_step_xla, lstm_cell_1_layer_call_fn, lstm_cell_1_layer_call_and_return_conditional_losses, lstm_cell_2_layer_call_fn, lstm_cell_2_layer_call_and_return_conditional_losses while saving (showing 5 of 5). These functions will not be directly callable after loading.\n"
     ]
    },
    {
     "name": "stdout",
     "output_type": "stream",
     "text": [
      "INFO:tensorflow:Assets written to: /home/paul_d/Sources/sem_math_bin_classifiers/wandb/run-20221224_013040-2dkt7ca1/files/model-best/assets\n"
     ]
    },
    {
     "name": "stderr",
     "output_type": "stream",
     "text": [
      "INFO:tensorflow:Assets written to: /home/paul_d/Sources/sem_math_bin_classifiers/wandb/run-20221224_013040-2dkt7ca1/files/model-best/assets\n"
     ]
    },
    {
     "name": "stdout",
     "output_type": "stream",
     "text": [
      "156/156 [==============================] - 38s 198ms/step - loss: 0.6259 - accuracy: 0.6126 - val_loss: 0.7417 - val_accuracy: 0.1860\n",
      "Epoch 2/50\n",
      "156/156 [==============================] - 3s 18ms/step - loss: 0.6039 - accuracy: 0.6254\n",
      "Epoch 3/50\n",
      "156/156 [==============================] - 3s 17ms/step - loss: 0.5981 - accuracy: 0.6395\n",
      "Epoch 4/50\n",
      "156/156 [==============================] - 3s 17ms/step - loss: 0.5911 - accuracy: 0.6407\n",
      "Epoch 5/50\n",
      "156/156 [==============================] - 3s 17ms/step - loss: 0.5873 - accuracy: 0.6420\n",
      "Epoch 6/50\n",
      "156/156 [==============================] - 3s 17ms/step - loss: 0.5797 - accuracy: 0.6491\n",
      "Epoch 7/50\n",
      "156/156 [==============================] - 3s 19ms/step - loss: 0.5723 - accuracy: 0.6534\n",
      "Epoch 8/50\n",
      "156/156 [==============================] - 3s 18ms/step - loss: 0.5683 - accuracy: 0.6596\n",
      "Epoch 9/50\n",
      "156/156 [==============================] - 3s 21ms/step - loss: 0.5638 - accuracy: 0.6588\n",
      "Epoch 10/50\n",
      "156/156 [==============================] - 3s 22ms/step - loss: 0.5573 - accuracy: 0.6651\n",
      "Epoch 11/50\n",
      "156/156 [==============================] - 3s 19ms/step - loss: 0.5489 - accuracy: 0.6633\n",
      "Epoch 12/50\n",
      "156/156 [==============================] - 3s 19ms/step - loss: 0.5438 - accuracy: 0.6703\n",
      "Epoch 13/50\n",
      "156/156 [==============================] - 3s 18ms/step - loss: 0.5411 - accuracy: 0.6702\n",
      "Epoch 14/50\n",
      "156/156 [==============================] - 3s 17ms/step - loss: 0.5352 - accuracy: 0.6720\n",
      "Epoch 15/50\n",
      "156/156 [==============================] - 3s 16ms/step - loss: 0.5266 - accuracy: 0.6769\n",
      "Epoch 16/50\n",
      "156/156 [==============================] - 3s 18ms/step - loss: 0.5259 - accuracy: 0.6781\n",
      "Epoch 17/50\n",
      "156/156 [==============================] - 3s 17ms/step - loss: 0.5243 - accuracy: 0.6797\n",
      "Epoch 18/50\n",
      "156/156 [==============================] - 3s 18ms/step - loss: 0.5258 - accuracy: 0.6777\n",
      "Epoch 19/50\n",
      "156/156 [==============================] - 3s 17ms/step - loss: 0.5199 - accuracy: 0.6824\n",
      "Epoch 20/50\n",
      "156/156 [==============================] - 3s 17ms/step - loss: 0.5189 - accuracy: 0.6803\n",
      "Epoch 21/50\n",
      "156/156 [==============================] - 3s 17ms/step - loss: 0.5164 - accuracy: 0.6821\n",
      "Epoch 22/50\n",
      "156/156 [==============================] - 3s 19ms/step - loss: 0.5203 - accuracy: 0.6808\n",
      "Epoch 23/50\n",
      "156/156 [==============================] - 4s 25ms/step - loss: 0.5136 - accuracy: 0.6853\n",
      "Epoch 24/50\n",
      "156/156 [==============================] - 3s 20ms/step - loss: 0.5134 - accuracy: 0.6843\n",
      "Epoch 25/50\n",
      "156/156 [==============================] - 3s 18ms/step - loss: 0.5193 - accuracy: 0.6812\n",
      "Epoch 26/50\n",
      "156/156 [==============================] - 3s 20ms/step - loss: 0.5290 - accuracy: 0.6784\n",
      "Epoch 27/50\n",
      "156/156 [==============================] - 3s 18ms/step - loss: 0.5212 - accuracy: 0.6796\n",
      "Epoch 28/50\n",
      "156/156 [==============================] - 3s 19ms/step - loss: 0.5083 - accuracy: 0.6881\n",
      "Epoch 29/50\n",
      "156/156 [==============================] - 3s 19ms/step - loss: 0.5056 - accuracy: 0.6932\n",
      "Epoch 30/50\n",
      "156/156 [==============================] - 4s 23ms/step - loss: 0.5038 - accuracy: 0.6858\n",
      "Epoch 31/50\n",
      "156/156 [==============================] - 3s 19ms/step - loss: 0.5017 - accuracy: 0.6913\n",
      "Epoch 32/50\n",
      "156/156 [==============================] - 3s 21ms/step - loss: 0.5059 - accuracy: 0.6853\n",
      "Epoch 33/50\n",
      "156/156 [==============================] - 3s 20ms/step - loss: 0.5036 - accuracy: 0.6868\n",
      "Epoch 34/50\n",
      "156/156 [==============================] - 3s 19ms/step - loss: 0.5076 - accuracy: 0.6865\n",
      "Epoch 35/50\n",
      "156/156 [==============================] - 3s 21ms/step - loss: 0.5061 - accuracy: 0.6880\n",
      "Epoch 36/50\n",
      "156/156 [==============================] - 3s 18ms/step - loss: 0.5032 - accuracy: 0.6890\n",
      "Epoch 37/50\n",
      "156/156 [==============================] - 3s 20ms/step - loss: 0.5032 - accuracy: 0.6898\n",
      "Epoch 38/50\n",
      "156/156 [==============================] - 3s 21ms/step - loss: 0.5018 - accuracy: 0.6879\n",
      "Epoch 39/50\n",
      "156/156 [==============================] - 3s 19ms/step - loss: 0.5034 - accuracy: 0.6912\n",
      "Epoch 40/50\n",
      "156/156 [==============================] - 3s 18ms/step - loss: 0.5015 - accuracy: 0.6899\n",
      "Epoch 41/50\n",
      "156/156 [==============================] - 3s 19ms/step - loss: 0.5052 - accuracy: 0.6899\n",
      "Epoch 42/50\n",
      "156/156 [==============================] - 3s 20ms/step - loss: 0.4998 - accuracy: 0.6916\n",
      "Epoch 43/50\n",
      "156/156 [==============================] - 3s 18ms/step - loss: 0.4954 - accuracy: 0.6933\n",
      "Epoch 44/50\n",
      "156/156 [==============================] - 3s 18ms/step - loss: 0.4976 - accuracy: 0.6914\n",
      "Epoch 45/50\n",
      "156/156 [==============================] - 3s 19ms/step - loss: 0.5054 - accuracy: 0.6904\n",
      "Epoch 46/50\n",
      "156/156 [==============================] - 3s 17ms/step - loss: 0.5070 - accuracy: 0.6874\n",
      "Epoch 47/50\n",
      "156/156 [==============================] - 3s 17ms/step - loss: 0.5132 - accuracy: 0.6859\n",
      "Epoch 48/50\n",
      "156/156 [==============================] - 3s 19ms/step - loss: 0.5198 - accuracy: 0.6778\n",
      "Epoch 49/50\n",
      "156/156 [==============================] - 3s 18ms/step - loss: 0.5085 - accuracy: 0.6881\n",
      "Epoch 50/50\n",
      "156/156 [==============================] - 3s 17ms/step - loss: 0.5008 - accuracy: 0.6917\n"
     ]
    }
   ],
   "source": [
    "configs_dict = {\n",
    "    \"learning_rate\": 1e-2,\n",
    "    \"optimizer\": \"adam\",\n",
    "    \"epochs\": 50,\n",
    "    \"batch_size\": 64,\n",
    "    \"vectorizer\": \"int\", \n",
    "    \"tokenizer\": \"wordpiece\"\n",
    "}\n",
    "run = wandb.init(project=\"binary_precalculus_simple\", reinit=True, config=configs_dict)\n",
    "\n",
    "history = model.fit(train_dataset, epochs=50,\n",
    "                    validation_data=test_dataset,\n",
    "                    validation_steps=30,callbacks= [WandbCallback()])#[tensorboard_callback])\n",
    "run.finish()"
   ]
  },
  {
   "cell_type": "code",
   "execution_count": 79,
   "metadata": {},
   "outputs": [
    {
     "name": "stdout",
     "output_type": "stream",
     "text": [
      "16/16 [==============================] - 0s 8ms/step - loss: 0.7629 - accuracy: 0.2720\n",
      "Test Loss: 0.7629175186157227\n",
      "Test Accuracy: 0.2720000147819519\n"
     ]
    }
   ],
   "source": [
    "test_loss, test_acc = model.evaluate(test_dataset)\n",
    "\n",
    "print(\"Test Loss:\", test_loss)\n",
    "print(\"Test Accuracy:\", test_acc)"
   ]
  },
  {
   "cell_type": "code",
   "execution_count": 80,
   "metadata": {},
   "outputs": [
    {
     "data": {
      "text/plain": [
       "(0.0, 0.7539688408374786)"
      ]
     },
     "execution_count": 80,
     "metadata": {},
     "output_type": "execute_result"
    },
    {
     "data": {
      "image/png": "[encoded data removed]",
      "text/plain": [
       "<Figure size 1600x800 with 2 Axes>"
      ]
     },
     "metadata": {},
     "output_type": "display_data"
    }
   ],
   "source": [
    "plt.figure(figsize=(16,8))\n",
    "plt.subplot(1,2,1)\n",
    "plot_graphs(history, \"accuracy\")\n",
    "plt.ylim(None, 1)\n",
    "plt.subplot(1,2,2)\n",
    "plot_graphs(history, \"loss\")\n",
    "plt.ylim(0, None)"
   ]
  },
  {
   "cell_type": "code",
   "execution_count": 81,
   "metadata": {},
   "outputs": [
    {
     "name": "stdout",
     "output_type": "stream",
     "text": [
      "1/1 [==============================] - 2s 2s/step\n",
      "[0.18928307]\n"
     ]
    }
   ],
   "source": [
    "# predict on a sample text without padding\n",
    "sample_text = (\"g ( x ) = x ^ 3\")\n",
    "predictions = model.predict(np.array([sample_text]))\n",
    "print(predictions[0])"
   ]
  },
  {
   "attachments": {},
   "cell_type": "markdown",
   "metadata": {},
   "source": [
    "##### Experiment 2: Use binary count vectorizer for encoding"
   ]
  },
  {
   "cell_type": "code",
   "execution_count": 82,
   "metadata": {},
   "outputs": [
    {
     "name": "stdout",
     "output_type": "stream",
     "text": [
      "1/1 [==============================] - 2s 2s/step\n",
      "[0.01824062]\n"
     ]
    }
   ],
   "source": [
    "model = create_model(encoder_multi_hot)\n",
    "# predict on a sample formula using untrained model\n",
    "sample_text = (\"g ( x ) = x ^ 3\")\n",
    "predictions = model.predict(np.array([sample_text]))\n",
    "print(predictions[0])"
   ]
  },
  {
   "cell_type": "code",
   "execution_count": 83,
   "metadata": {},
   "outputs": [],
   "source": [
    "model.compile(loss=tf.keras.losses.BinaryCrossentropy(from_logits=True),\n",
    "              optimizer=tf.keras.optimizers.Adam(1e-4),\n",
    "              metrics=[\"accuracy\"])"
   ]
  },
  {
   "cell_type": "code",
   "execution_count": 84,
   "metadata": {},
   "outputs": [
    {
     "name": "stdout",
     "output_type": "stream",
     "text": [
      "Epoch 1/15\n",
      "156/156 [==============================] - ETA: 0s - loss: 0.6906 - accuracy: 0.5501WARNING:tensorflow:Your input ran out of data; interrupting training. Make sure that your dataset or generator can generate at least `steps_per_epoch * epochs` batches (in this case, 30 batches). You may need to use the repeat() function when building your dataset.\n"
     ]
    },
    {
     "name": "stderr",
     "output_type": "stream",
     "text": [
      "WARNING:tensorflow:Your input ran out of data; interrupting training. Make sure that your dataset or generator can generate at least `steps_per_epoch * epochs` batches (in this case, 30 batches). You may need to use the repeat() function when building your dataset.\n",
      "WARNING:absl:Found untraced functions such as _update_step_xla, lstm_cell_4_layer_call_fn, lstm_cell_4_layer_call_and_return_conditional_losses, lstm_cell_5_layer_call_fn, lstm_cell_5_layer_call_and_return_conditional_losses while saving (showing 5 of 5). These functions will not be directly callable after loading.\n"
     ]
    },
    {
     "name": "stdout",
     "output_type": "stream",
     "text": [
      "INFO:tensorflow:Assets written to: /home/paul_d/Sources/sem_math_bin_classifiers/wandb/run-20221224_013402-1ws7e77f/files/model-best/assets\n"
     ]
    },
    {
     "name": "stderr",
     "output_type": "stream",
     "text": [
      "INFO:tensorflow:Assets written to: /home/paul_d/Sources/sem_math_bin_classifiers/wandb/run-20221224_013402-1ws7e77f/files/model-best/assets\n"
     ]
    },
    {
     "name": "stdout",
     "output_type": "stream",
     "text": [
      "156/156 [==============================] - 44s 237ms/step - loss: 0.6906 - accuracy: 0.5501 - val_loss: 0.7223 - val_accuracy: 0.0000e+00\n",
      "Epoch 2/15\n",
      "156/156 [==============================] - 12s 76ms/step - loss: 0.6721 - accuracy: 0.5734\n",
      "Epoch 3/15\n",
      "156/156 [==============================] - 10s 67ms/step - loss: 0.6630 - accuracy: 0.5905\n",
      "Epoch 4/15\n",
      "156/156 [==============================] - 11s 70ms/step - loss: 0.6628 - accuracy: 0.5910\n",
      "Epoch 5/15\n",
      "156/156 [==============================] - 11s 67ms/step - loss: 0.6622 - accuracy: 0.5909\n",
      "Epoch 6/15\n",
      "156/156 [==============================] - 10s 66ms/step - loss: 0.6622 - accuracy: 0.5907\n",
      "Epoch 7/15\n",
      "156/156 [==============================] - 11s 68ms/step - loss: 0.6622 - accuracy: 0.5915\n",
      "Epoch 8/15\n",
      "156/156 [==============================] - 10s 67ms/step - loss: 0.6618 - accuracy: 0.5919\n",
      "Epoch 9/15\n",
      "156/156 [==============================] - 10s 62ms/step - loss: 0.6620 - accuracy: 0.5906\n",
      "Epoch 10/15\n",
      "156/156 [==============================] - 10s 63ms/step - loss: 0.6619 - accuracy: 0.5910\n",
      "Epoch 11/15\n",
      "156/156 [==============================] - 10s 62ms/step - loss: 0.6616 - accuracy: 0.5904\n",
      "Epoch 12/15\n",
      "156/156 [==============================] - 10s 61ms/step - loss: 0.6615 - accuracy: 0.5912\n",
      "Epoch 13/15\n",
      "156/156 [==============================] - 9s 61ms/step - loss: 0.6616 - accuracy: 0.5919\n",
      "Epoch 14/15\n",
      "156/156 [==============================] - 10s 62ms/step - loss: 0.6615 - accuracy: 0.5915\n",
      "Epoch 15/15\n",
      "156/156 [==============================] - 10s 64ms/step - loss: 0.6615 - accuracy: 0.5914\n"
     ]
    }
   ],
   "source": [
    "run = wandb.init(project=\"binary_precalculus_simple\", reinit=True)\n",
    "wandb.config = {\n",
    "    \"learning_rate\": 1e-4,\n",
    "    \"optimizer\": \"adam\",\n",
    "    \"epochs\": 15,\n",
    "    \"batch_size\": 64,\n",
    "    \"vectorizer\": \"multi_hot\",\n",
    "    \"tokenizer\": \"wordpiece\"\n",
    "}\n",
    "\n",
    "history = model.fit(train_dataset, epochs=15,\n",
    "                    validation_data=test_dataset,\n",
    "                    validation_steps=30,callbacks= [WandbCallback()])#[tensorboard_callback])\n",
    "run.finish()"
   ]
  },
  {
   "cell_type": "code",
   "execution_count": 85,
   "metadata": {},
   "outputs": [
    {
     "name": "stdout",
     "output_type": "stream",
     "text": [
      "16/16 [==============================] - 0s 22ms/step - loss: 0.7639 - accuracy: 0.1430\n",
      "Test Loss: 0.7639299035072327\n",
      "Test Accuracy: 0.14300000667572021\n"
     ]
    }
   ],
   "source": [
    "test_loss, test_acc = model.evaluate(test_dataset)\n",
    "\n",
    "print(\"Test Loss:\", test_loss)\n",
    "print(\"Test Accuracy:\", test_acc)"
   ]
  },
  {
   "cell_type": "code",
   "execution_count": 86,
   "metadata": {},
   "outputs": [
    {
     "data": {
      "text/plain": [
       "(0.0, 0.7253907144069671)"
      ]
     },
     "execution_count": 86,
     "metadata": {},
     "output_type": "execute_result"
    },
    {
     "data": {
      "image/png": "[encoded data removed]",
      "text/plain": [
       "<Figure size 1600x800 with 2 Axes>"
      ]
     },
     "metadata": {},
     "output_type": "display_data"
    }
   ],
   "source": [
    "plt.figure(figsize=(16,8))\n",
    "plt.subplot(1,2,1)\n",
    "plot_graphs(history, \"accuracy\")\n",
    "plt.ylim(None, 1)\n",
    "plt.subplot(1,2,2)\n",
    "plot_graphs(history, \"loss\")\n",
    "plt.ylim(0, None)"
   ]
  },
  {
   "cell_type": "code",
   "execution_count": 87,
   "metadata": {},
   "outputs": [
    {
     "name": "stdout",
     "output_type": "stream",
     "text": [
      "1/1 [==============================] - 2s 2s/step\n",
      "[0.11082496]\n"
     ]
    }
   ],
   "source": [
    "# predict on a sample text without padding\n",
    "sample_text = (\"g ( x ) = x ^ 3\")\n",
    "predictions = model.predict(np.array([sample_text]))\n",
    "print(predictions[0])"
   ]
  },
  {
   "attachments": {},
   "cell_type": "markdown",
   "metadata": {},
   "source": [
    "##### Experiment 3:"
   ]
  },
  {
   "cell_type": "code",
   "execution_count": 88,
   "metadata": {},
   "outputs": [
    {
     "name": "stdout",
     "output_type": "stream",
     "text": [
      "WARNING:tensorflow:5 out of the last 5 calls to <function Model.make_predict_function.<locals>.predict_function at 0x7ff513dda290> triggered tf.function retracing. Tracing is expensive and the excessive number of tracings could be due to (1) creating @tf.function repeatedly in a loop, (2) passing tensors with different shapes, (3) passing Python objects instead of tensors. For (1), please define your @tf.function outside of the loop. For (2), @tf.function has reduce_retracing=True option that can avoid unnecessary retracing. For (3), please refer to https://www.tensorflow.org/guide/function#controlling_retracing and https://www.tensorflow.org/api_docs/python/tf/function for  more details.\n"
     ]
    },
    {
     "name": "stderr",
     "output_type": "stream",
     "text": [
      "WARNING:tensorflow:5 out of the last 5 calls to <function Model.make_predict_function.<locals>.predict_function at 0x7ff513dda290> triggered tf.function retracing. Tracing is expensive and the excessive number of tracings could be due to (1) creating @tf.function repeatedly in a loop, (2) passing tensors with different shapes, (3) passing Python objects instead of tensors. For (1), please define your @tf.function outside of the loop. For (2), @tf.function has reduce_retracing=True option that can avoid unnecessary retracing. For (3), please refer to https://www.tensorflow.org/guide/function#controlling_retracing and https://www.tensorflow.org/api_docs/python/tf/function for  more details.\n"
     ]
    },
    {
     "name": "stdout",
     "output_type": "stream",
     "text": [
      "1/1 [==============================] - 2s 2s/step\n",
      "[0.01931924]\n"
     ]
    }
   ],
   "source": [
    "model = create_model(encoder_count)\n",
    "# predict on a sample formula using untrained model\n",
    "sample_text = (\"g ( x ) = x ^ 3\")\n",
    "predictions = model.predict(np.array([sample_text]))\n",
    "print(predictions[0])"
   ]
  },
  {
   "cell_type": "code",
   "execution_count": 89,
   "metadata": {},
   "outputs": [],
   "source": [
    "model.compile(loss=tf.keras.losses.BinaryCrossentropy(from_logits=True),\n",
    "              optimizer=tf.keras.optimizers.Adam(1e-4),\n",
    "              metrics=[\"accuracy\"])"
   ]
  },
  {
   "cell_type": "code",
   "execution_count": 90,
   "metadata": {},
   "outputs": [
    {
     "name": "stdout",
     "output_type": "stream",
     "text": [
      "Epoch 1/15\n",
      "156/156 [==============================] - ETA: 0s - loss: 0.6884 - accuracy: 0.5501WARNING:tensorflow:Your input ran out of data; interrupting training. Make sure that your dataset or generator can generate at least `steps_per_epoch * epochs` batches (in this case, 30 batches). You may need to use the repeat() function when building your dataset.\n"
     ]
    },
    {
     "name": "stderr",
     "output_type": "stream",
     "text": [
      "WARNING:tensorflow:Your input ran out of data; interrupting training. Make sure that your dataset or generator can generate at least `steps_per_epoch * epochs` batches (in this case, 30 batches). You may need to use the repeat() function when building your dataset.\n",
      "WARNING:absl:Found untraced functions such as _update_step_xla, lstm_cell_7_layer_call_fn, lstm_cell_7_layer_call_and_return_conditional_losses, lstm_cell_8_layer_call_fn, lstm_cell_8_layer_call_and_return_conditional_losses while saving (showing 5 of 5). These functions will not be directly callable after loading.\n"
     ]
    },
    {
     "name": "stdout",
     "output_type": "stream",
     "text": [
      "INFO:tensorflow:Assets written to: /home/paul_d/Sources/sem_math_bin_classifiers/wandb/run-20221224_013723-12f45fff/files/model-best/assets\n"
     ]
    },
    {
     "name": "stderr",
     "output_type": "stream",
     "text": [
      "INFO:tensorflow:Assets written to: /home/paul_d/Sources/sem_math_bin_classifiers/wandb/run-20221224_013723-12f45fff/files/model-best/assets\n"
     ]
    },
    {
     "name": "stdout",
     "output_type": "stream",
     "text": [
      "156/156 [==============================] - 45s 234ms/step - loss: 0.6884 - accuracy: 0.5501 - val_loss: 0.7166 - val_accuracy: 0.0010\n",
      "Epoch 2/15\n",
      "156/156 [==============================] - 10s 63ms/step - loss: 0.6673 - accuracy: 0.5783\n",
      "Epoch 3/15\n",
      "156/156 [==============================] - 10s 62ms/step - loss: 0.6555 - accuracy: 0.5954\n",
      "Epoch 4/15\n",
      "156/156 [==============================] - 10s 62ms/step - loss: 0.6543 - accuracy: 0.5970\n",
      "Epoch 5/15\n",
      "156/156 [==============================] - 9s 59ms/step - loss: 0.6537 - accuracy: 0.5989\n",
      "Epoch 6/15\n",
      "156/156 [==============================] - 10s 63ms/step - loss: 0.6530 - accuracy: 0.5978\n",
      "Epoch 7/15\n",
      "156/156 [==============================] - 9s 60ms/step - loss: 0.6529 - accuracy: 0.5981\n",
      "Epoch 8/15\n",
      "156/156 [==============================] - 9s 57ms/step - loss: 0.6528 - accuracy: 0.5975\n",
      "Epoch 9/15\n",
      "156/156 [==============================] - 9s 61ms/step - loss: 0.6524 - accuracy: 0.5990\n",
      "Epoch 10/15\n",
      "156/156 [==============================] - 9s 59ms/step - loss: 0.6523 - accuracy: 0.5986\n",
      "Epoch 11/15\n",
      "156/156 [==============================] - 9s 57ms/step - loss: 0.6519 - accuracy: 0.5992\n",
      "Epoch 12/15\n",
      "156/156 [==============================] - 9s 57ms/step - loss: 0.6519 - accuracy: 0.5992\n",
      "Epoch 13/15\n",
      "156/156 [==============================] - 9s 59ms/step - loss: 0.6515 - accuracy: 0.6000\n",
      "Epoch 14/15\n",
      "156/156 [==============================] - 9s 55ms/step - loss: 0.6514 - accuracy: 0.5997\n",
      "Epoch 15/15\n",
      "156/156 [==============================] - 9s 58ms/step - loss: 0.6513 - accuracy: 0.5989\n"
     ]
    }
   ],
   "source": [
    "run = wandb.init(project=\"binary_precalculus_simple\", reinit=True)\n",
    "wandb.config = {\n",
    "    \"learning_rate\": 1e-4,\n",
    "    \"optimizer\": \"adam\",\n",
    "    \"epochs\": 15,\n",
    "    \"batch_size\": 64,\n",
    "    \"vectorizer\": \"count\", \n",
    "    \"tokenizer\": \"wordpiece\"\n",
    "}\n",
    "\n",
    "history = model.fit(train_dataset, epochs=15,\n",
    "                    validation_data=test_dataset,\n",
    "                    validation_steps=30,callbacks= [WandbCallback()])#[tensorboard_callback])\n",
    "run.finish()"
   ]
  },
  {
   "cell_type": "code",
   "execution_count": 91,
   "metadata": {},
   "outputs": [
    {
     "name": "stdout",
     "output_type": "stream",
     "text": [
      "16/16 [==============================] - 0s 20ms/step - loss: 0.7596 - accuracy: 0.1410\n",
      "Test Loss: 0.7596216797828674\n",
      "Test Accuracy: 0.14100000262260437\n"
     ]
    }
   ],
   "source": [
    "test_loss, test_acc = model.evaluate(test_dataset)\n",
    "\n",
    "print(\"Test Loss:\", test_loss)\n",
    "print(\"Test Accuracy:\", test_acc)"
   ]
  },
  {
   "cell_type": "code",
   "execution_count": 92,
   "metadata": {},
   "outputs": [
    {
     "data": {
      "text/plain": [
       "(0.0, 0.7199010074138641)"
      ]
     },
     "execution_count": 92,
     "metadata": {},
     "output_type": "execute_result"
    },
    {
     "data": {
      "image/png": "[encoded data removed]",
      "text/plain": [
       "<Figure size 1600x800 with 2 Axes>"
      ]
     },
     "metadata": {},
     "output_type": "display_data"
    }
   ],
   "source": [
    "plt.figure(figsize=(16,8))\n",
    "plt.subplot(1,2,1)\n",
    "plot_graphs(history, \"accuracy\")\n",
    "plt.ylim(None, 1)\n",
    "plt.subplot(1,2,2)\n",
    "plot_graphs(history, \"loss\")\n",
    "plt.ylim(0, None)"
   ]
  },
  {
   "cell_type": "code",
   "execution_count": 93,
   "metadata": {},
   "outputs": [
    {
     "name": "stdout",
     "output_type": "stream",
     "text": [
      "WARNING:tensorflow:6 out of the last 6 calls to <function Model.make_predict_function.<locals>.predict_function at 0x7ff57492f250> triggered tf.function retracing. Tracing is expensive and the excessive number of tracings could be due to (1) creating @tf.function repeatedly in a loop, (2) passing tensors with different shapes, (3) passing Python objects instead of tensors. For (1), please define your @tf.function outside of the loop. For (2), @tf.function has reduce_retracing=True option that can avoid unnecessary retracing. For (3), please refer to https://www.tensorflow.org/guide/function#controlling_retracing and https://www.tensorflow.org/api_docs/python/tf/function for  more details.\n"
     ]
    },
    {
     "name": "stderr",
     "output_type": "stream",
     "text": [
      "WARNING:tensorflow:6 out of the last 6 calls to <function Model.make_predict_function.<locals>.predict_function at 0x7ff57492f250> triggered tf.function retracing. Tracing is expensive and the excessive number of tracings could be due to (1) creating @tf.function repeatedly in a loop, (2) passing tensors with different shapes, (3) passing Python objects instead of tensors. For (1), please define your @tf.function outside of the loop. For (2), @tf.function has reduce_retracing=True option that can avoid unnecessary retracing. For (3), please refer to https://www.tensorflow.org/guide/function#controlling_retracing and https://www.tensorflow.org/api_docs/python/tf/function for  more details.\n"
     ]
    },
    {
     "name": "stdout",
     "output_type": "stream",
     "text": [
      "1/1 [==============================] - 2s 2s/step\n",
      "[0.10056058]\n"
     ]
    }
   ],
   "source": [
    "# predict on a sample text without padding\n",
    "sample_text = (\"g ( x ) = x ^ 3\")\n",
    "predictions = model.predict(np.array([sample_text]))\n",
    "print(predictions[0])"
   ]
  },
  {
   "attachments": {},
   "cell_type": "markdown",
   "metadata": {},
   "source": [
    "##### Experiment 4:"
   ]
  },
  {
   "cell_type": "code",
   "execution_count": 94,
   "metadata": {},
   "outputs": [
    {
     "name": "stdout",
     "output_type": "stream",
     "text": [
      "1/1 [==============================] - 2s 2s/step\n",
      "[0.00897886]\n"
     ]
    }
   ],
   "source": [
    "model = create_model(encoder_bigrams)\n",
    "# predict on a sample formula using untrained model\n",
    "sample_text = (\"g ( x ) = x ^ 3\")\n",
    "predictions = model.predict(np.array([sample_text]))\n",
    "print(predictions[0])"
   ]
  },
  {
   "cell_type": "code",
   "execution_count": 95,
   "metadata": {},
   "outputs": [],
   "source": [
    "model.compile(loss=tf.keras.losses.BinaryCrossentropy(from_logits=True),\n",
    "              optimizer=tf.keras.optimizers.Adam(1e-4),\n",
    "              metrics=[\"accuracy\"])"
   ]
  },
  {
   "cell_type": "code",
   "execution_count": null,
   "metadata": {},
   "outputs": [],
   "source": [
    "run = wandb.init(project=\"binary_precalculus_simple\", reinit=True)\n",
    "wandb.config = {\n",
    "    \"learning_rate\": 1e-4,\n",
    "    \"optimizer\": \"adam\",\n",
    "    \"epochs\": 15,\n",
    "    \"batch_size\": 64,\n",
    "    \"vectorizer\": \"bigram_count\",\n",
    "    \"tokenizer\": \"wordpiece\"\n",
    "}\n",
    "\n",
    "history = model.fit(train_dataset, epochs=15,\n",
    "                    validation_data=test_dataset,\n",
    "                    validation_steps=30,callbacks= [WandbCallback()])#[tensorboard_callback])\n",
    "run.finish()"
   ]
  },
  {
   "cell_type": "code",
   "execution_count": null,
   "metadata": {},
   "outputs": [],
   "source": [
    "test_loss, test_acc = model.evaluate(test_dataset)\n",
    "\n",
    "print(\"Test Loss:\", test_loss)\n",
    "print(\"Test Accuracy:\", test_acc)"
   ]
  },
  {
   "cell_type": "code",
   "execution_count": null,
   "metadata": {},
   "outputs": [],
   "source": [
    "plt.figure(figsize=(16,8))\n",
    "plt.subplot(1,2,1)\n",
    "plot_graphs(history, \"accuracy\")\n",
    "plt.ylim(None, 1)\n",
    "plt.subplot(1,2,2)\n",
    "plot_graphs(history, \"loss\")\n",
    "plt.ylim(0, None)"
   ]
  },
  {
   "cell_type": "code",
   "execution_count": null,
   "metadata": {},
   "outputs": [],
   "source": [
    "# predict on a sample text without padding\n",
    "sample_text = (\"g ( x ) = x ^ 3\")\n",
    "predictions = model.predict(np.array([sample_text]))\n",
    "print(predictions[0])"
   ]
  },
  {
   "attachments": {},
   "cell_type": "markdown",
   "metadata": {},
   "source": [
    "##### Experiment 5:"
   ]
  },
  {
   "cell_type": "code",
   "execution_count": null,
   "metadata": {},
   "outputs": [],
   "source": [
    "model = create_model(encoder_tf_idf)\n",
    "# predict on a sample formula using untrained model\n",
    "sample_text = (\"g ( x ) = x ^ 3\")\n",
    "predictions = model.predict(np.array([sample_text]))\n",
    "print(predictions[0])"
   ]
  },
  {
   "cell_type": "code",
   "execution_count": null,
   "metadata": {},
   "outputs": [],
   "source": [
    "model.compile(loss=tf.keras.losses.BinaryCrossentropy(from_logits=True),\n",
    "              optimizer=tf.keras.optimizers.Adam(1e-4),\n",
    "              metrics=[\"accuracy\"])"
   ]
  },
  {
   "cell_type": "code",
   "execution_count": null,
   "metadata": {},
   "outputs": [],
   "source": [
    "run = wandb.init(project=\"binary_precalculus_simple\", reinit=True)\n",
    "wandb.config = {\n",
    "    \"learning_rate\": 1e-4,\n",
    "    \"optimizer\": \"adam\",\n",
    "    \"epochs\": 15,\n",
    "    \"batch_size\": 64,\n",
    "    \"vectorizer\": \"tf_idf\",\n",
    "    \"tokenizer\": \"wordpiece\"\n",
    "}\n",
    "\n",
    "history = model.fit(train_dataset, epochs=15,\n",
    "                    validation_data=test_dataset,\n",
    "                    validation_steps=30,callbacks= [WandbCallback()])#[tensorboard_callback])\n",
    "run.finish()"
   ]
  },
  {
   "cell_type": "code",
   "execution_count": null,
   "metadata": {},
   "outputs": [],
   "source": [
    "test_loss, test_acc = model.evaluate(test_dataset)\n",
    "\n",
    "print(\"Test Loss:\", test_loss)\n",
    "print(\"Test Accuracy:\", test_acc)"
   ]
  },
  {
   "cell_type": "code",
   "execution_count": null,
   "metadata": {},
   "outputs": [],
   "source": [
    "plt.figure(figsize=(16,8))\n",
    "plt.subplot(1,2,1)\n",
    "plot_graphs(history, \"accuracy\")\n",
    "plt.ylim(None, 1)\n",
    "plt.subplot(1,2,2)\n",
    "plot_graphs(history, \"loss\")\n",
    "plt.ylim(0, None)"
   ]
  },
  {
   "cell_type": "code",
   "execution_count": null,
   "metadata": {},
   "outputs": [],
   "source": [
    "# predict on a sample text without padding\n",
    "sample_text = (\"g ( x ) = x ^ 3\")\n",
    "predictions = model.predict(np.array([sample_text]))\n",
    "print(predictions[0])"
   ]
  }
 ],
 "metadata": {
  "kernelspec": {
   "display_name": "sem_mcl_env",
   "language": "python",
   "name": "python3"
  },
  "language_info": {
   "codemirror_mode": {
    "name": "ipython",
    "version": 3
   },
   "file_extension": ".py",
   "mimetype": "text/x-python",
   "name": "python",
   "nbconvert_exporter": "python",
   "pygments_lexer": "ipython3",
   "version": "3.10.9"
  },
  "orig_nbformat": 4,
  "vscode": {
   "interpreter": {
    "hash": "49c979912008fc9cee6a8a0fe8e496b4e7f16ac3431feab7a86d9ffbfac4b4cd"
   }
  }
 },
 "nbformat": 4,
 "nbformat_minor": 2
}
