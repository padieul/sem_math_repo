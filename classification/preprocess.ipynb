{
 "cells": [
  {
   "cell_type": "code",
   "execution_count": 9,
   "metadata": {},
   "outputs": [],
   "source": [
    "import pandas as pd\n",
    "import json\n",
    "import ast\n",
    "from pathlib import Path\n",
    "import os"
   ]
  },
  {
   "attachments": {},
   "cell_type": "markdown",
   "metadata": {},
   "source": [
    "### Read data from individual csv files"
   ]
  },
  {
   "cell_type": "code",
   "execution_count": 10,
   "metadata": {},
   "outputs": [
    {
     "name": "stdout",
     "output_type": "stream",
     "text": [
      "/home/paul_d/Sources/sem_math_repo/classification\n"
     ]
    }
   ],
   "source": [
    "print(os.getcwd())"
   ]
  },
  {
   "cell_type": "code",
   "execution_count": 11,
   "metadata": {},
   "outputs": [
    {
     "data": {
      "text/html": [
       "<div>\n",
       "<style scoped>\n",
       "    .dataframe tbody tr th:only-of-type {\n",
       "        vertical-align: middle;\n",
       "    }\n",
       "\n",
       "    .dataframe tbody tr th {\n",
       "        vertical-align: top;\n",
       "    }\n",
       "\n",
       "    .dataframe thead th {\n",
       "        text-align: right;\n",
       "    }\n",
       "</style>\n",
       "<table border=\"1\" class=\"dataframe\">\n",
       "  <thead>\n",
       "    <tr style=\"text-align: right;\">\n",
       "      <th></th>\n",
       "      <th>fid</th>\n",
       "      <th>mtype</th>\n",
       "      <th>exprstr</th>\n",
       "      <th>mention</th>\n",
       "      <th>tokens</th>\n",
       "      <th>type_tokens</th>\n",
       "      <th>tags</th>\n",
       "    </tr>\n",
       "  </thead>\n",
       "  <tbody>\n",
       "    <tr>\n",
       "      <th>0</th>\n",
       "      <td>6327106106a69a3f488d6e3e_f_8_2_0</td>\n",
       "      <td>FUNC</td>\n",
       "      <td>f</td>\n",
       "      <td>any function</td>\n",
       "      <td>['f']</td>\n",
       "      <td>['func_name', '__ANON_1']</td>\n",
       "      <td>['elementary-set-theory', 'intuition', 'infini...</td>\n",
       "    </tr>\n",
       "    <tr>\n",
       "      <th>1</th>\n",
       "      <td>6327106106a69a3f488d6e96_f_3_22_0</td>\n",
       "      <td>FUNC</td>\n",
       "      <td>j: \\mathbb{N} \\rightarrow [0, 1]</td>\n",
       "      <td>any injection   f_3_22_0</td>\n",
       "      <td>['j', ':', '\\\\mathbb{N}', '\\\\rightarrow', '[',...</td>\n",
       "      <td>['func_def', 'func_name', '__ANON_1', 'COLON',...</td>\n",
       "      <td>['elementary-set-theory']</td>\n",
       "    </tr>\n",
       "    <tr>\n",
       "      <th>2</th>\n",
       "      <td>6327106106a69a3f488d6e96_f_3_38_0</td>\n",
       "      <td>FUNC</td>\n",
       "      <td>b</td>\n",
       "      <td>together the identity map</td>\n",
       "      <td>['b']</td>\n",
       "      <td>['func_name', '__ANON_1']</td>\n",
       "      <td>['elementary-set-theory']</td>\n",
       "    </tr>\n",
       "    <tr>\n",
       "      <th>3</th>\n",
       "      <td>6327106106a69a3f488d6ef4_f_0_0_0</td>\n",
       "      <td>SET</td>\n",
       "      <td>\\mathbb{Q}</td>\n",
       "      <td>the set   f_0_0_0</td>\n",
       "      <td>\\mathbb{Q}</td>\n",
       "      <td>['set_constant', 'SET_BASIC']</td>\n",
       "      <td>['elementary-set-theory', 'irrational-numbers']</td>\n",
       "    </tr>\n",
       "    <tr>\n",
       "      <th>4</th>\n",
       "      <td>6327106106a69a3f488d6f48_f_0_0_0</td>\n",
       "      <td>FUNC</td>\n",
       "      <td>f</td>\n",
       "      <td>a given function</td>\n",
       "      <td>['f']</td>\n",
       "      <td>['func_name', '__ANON_1']</td>\n",
       "      <td>['functions', 'elementary-set-theory', 'functi...</td>\n",
       "    </tr>\n",
       "  </tbody>\n",
       "</table>\n",
       "</div>"
      ],
      "text/plain": [
       "                                 fid mtype                           exprstr  \\\n",
       "0   6327106106a69a3f488d6e3e_f_8_2_0  FUNC                                 f   \n",
       "1  6327106106a69a3f488d6e96_f_3_22_0  FUNC  j: \\mathbb{N} \\rightarrow [0, 1]   \n",
       "2  6327106106a69a3f488d6e96_f_3_38_0  FUNC                                 b   \n",
       "3   6327106106a69a3f488d6ef4_f_0_0_0   SET                        \\mathbb{Q}   \n",
       "4   6327106106a69a3f488d6f48_f_0_0_0  FUNC                                 f   \n",
       "\n",
       "                     mention  \\\n",
       "0               any function   \n",
       "1   any injection   f_3_22_0   \n",
       "2  together the identity map   \n",
       "3          the set   f_0_0_0   \n",
       "4           a given function   \n",
       "\n",
       "                                              tokens  \\\n",
       "0                                              ['f']   \n",
       "1  ['j', ':', '\\\\mathbb{N}', '\\\\rightarrow', '[',...   \n",
       "2                                              ['b']   \n",
       "3                                         \\mathbb{Q}   \n",
       "4                                              ['f']   \n",
       "\n",
       "                                         type_tokens  \\\n",
       "0                          ['func_name', '__ANON_1']   \n",
       "1  ['func_def', 'func_name', '__ANON_1', 'COLON',...   \n",
       "2                          ['func_name', '__ANON_1']   \n",
       "3                      ['set_constant', 'SET_BASIC']   \n",
       "4                          ['func_name', '__ANON_1']   \n",
       "\n",
       "                                                tags  \n",
       "0  ['elementary-set-theory', 'intuition', 'infini...  \n",
       "1                          ['elementary-set-theory']  \n",
       "2                          ['elementary-set-theory']  \n",
       "3    ['elementary-set-theory', 'irrational-numbers']  \n",
       "4  ['functions', 'elementary-set-theory', 'functi...  "
      ]
     },
     "execution_count": 11,
     "metadata": {},
     "output_type": "execute_result"
    }
   ],
   "source": [
    "# positive examples for classification\n",
    "#  binary dataset: algebra-precalculus\n",
    "#  pos_sample_path = Path(\".\") / \"data\" / \"formula_data_algebra-precalculus.csv\" \n",
    "\n",
    "pos_sample_path = Path(\"..\") / \"data_intermediate1\" / \"formula_data_elementary-set-theory.csv\"\n",
    "elem_set_th_df = pd.read_csv(pos_sample_path)\n",
    "elem_set_th_df.head()"
   ]
  },
  {
   "cell_type": "code",
   "execution_count": 12,
   "metadata": {},
   "outputs": [
    {
     "name": "stdout",
     "output_type": "stream",
     "text": [
      "[5917, 234, 182, 6253, 330, 1705]\n"
     ]
    }
   ],
   "source": [
    "# negative examples for classification \n",
    "\n",
    "# binary dataset: algebra-precalculus\n",
    "# elem_set_th_df = pd.read_csv(\"data/formula_data_elementary-set-theory.csv\")\n",
    "\n",
    "# binary dataset: elemenary-set-theory\n",
    "algebra_precalc_df = Path(\"..\") / \"data_intermediate1\" / \"formula_data_algebra-precalculus.csv\"\n",
    "\n",
    "a_geometry_df = Path(\"..\") / \"data_intermediate1\" / \"formula_data_analytic-geometry.csv\"\n",
    "elem_func_df = Path(\"..\") / \"data_intermediate1\" / \"formula_data_elementary-functions.csv\"\n",
    "elem_num_th_df = Path(\"..\") / \"data_intermediate1\" / \"formula_data_elementary-number-theory.csv\" \n",
    "euc_geom_df = Path(\"..\") / \"data_intermediate1\" / \"formula_data_euclidean-geometry.csv\" \n",
    "trig_df = Path(\"..\") / \"data_intermediate1\" / \"formula_data_trigonometry.csv\"\n",
    "\n",
    "algebra_precalc_df = pd.read_csv(algebra_precalc_df)\n",
    "a_geometry_df = pd.read_csv(a_geometry_df)\n",
    "elem_func_df = pd.read_csv(elem_func_df)\n",
    "elem_num_th_df = pd.read_csv(elem_num_th_df)\n",
    "euc_geom_df = pd.read_csv(euc_geom_df)\n",
    "trig_df = pd.read_csv(trig_df)\n",
    "\n",
    "neg_df_list = [algebra_precalc_df, a_geometry_df, elem_func_df, elem_num_th_df, euc_geom_df, trig_df]\n",
    "lengths_list = [d_frame.shape[0] for d_frame in neg_df_list]\n",
    "print(lengths_list)"
   ]
  },
  {
   "attachments": {},
   "cell_type": "markdown",
   "metadata": {},
   "source": [
    "#### Merge negative examples datasets while keeping the occurence frequencies and filter"
   ]
  },
  {
   "cell_type": "code",
   "execution_count": 13,
   "metadata": {},
   "outputs": [],
   "source": [
    "def merge_dfs(df_list, return_size):\n",
    "    r_nums = [d_frame.shape[0] for d_frame in df_list]\n",
    "    r_nums_sum = sum(r_nums)\n",
    "\n",
    "    sel_neg_dfs = [df_list[i].sample(n=int((r_nums[i]/r_nums_sum)*return_size)) for i in range(len(r_nums))]\n",
    "    neg_samples = pd.concat(sel_neg_dfs, axis=0)\n",
    "    if neg_samples.shape[0] < return_size:\n",
    "        neg_samples = pd.concat([neg_samples,df_list[-1].sample(n=return_size-neg_samples.shape[0])])\n",
    "    return neg_samples"
   ]
  },
  {
   "cell_type": "code",
   "execution_count": 14,
   "metadata": {},
   "outputs": [],
   "source": [
    "def filter_data(train_df, is_pos):\n",
    "    def cell_to_str(cell_val):\n",
    "        if isinstance(cell_val,int):\n",
    "            return \"['\" + str(cell_val) + \"']\"\n",
    "        elif isinstance(cell_val,float):\n",
    "            return \"['\" + str(cell_val) + \"']\"\n",
    "        elif isinstance(cell_val,str):\n",
    "            if len(cell_val) == 1:\n",
    "                return \"['\" + cell_val + \"']\"\n",
    "            else:\n",
    "                return cell_val\n",
    "        else:\n",
    "            return cell_val\n",
    "\n",
    "    train_df = train_df.drop([\"fid\", \"exprstr\", \"mention\", \"tags\"], axis=1)\n",
    "    train_df[\"tokens\"] = train_df[\"tokens\"].map(cell_to_str)\n",
    "\n",
    "    if is_pos:\n",
    "        train_df[\"label\"] = 1\n",
    "    else:\n",
    "        train_df[\"label\"] = 0\n",
    "    return train_df"
   ]
  },
  {
   "cell_type": "code",
   "execution_count": 15,
   "metadata": {},
   "outputs": [
    {
     "name": "stdout",
     "output_type": "stream",
     "text": [
      "negative examples size:  5500\n",
      "positive examples size:  5500\n"
     ]
    }
   ],
   "source": [
    "intended_train_size = 11000 \n",
    "neg_samples_df = merge_dfs(neg_df_list, int(intended_train_size/2))\n",
    "neg_samples_df.head()\n",
    "print(\"negative examples size: \", neg_samples_df.shape[0])\n",
    "pos_samples_df = elem_set_th_df.sample(n=int(intended_train_size/2))\n",
    "print(\"positive examples size: \", pos_samples_df.shape[0])\n"
   ]
  },
  {
   "cell_type": "code",
   "execution_count": 16,
   "metadata": {},
   "outputs": [
    {
     "name": "stdout",
     "output_type": "stream",
     "text": [
      "total size:  11000\n"
     ]
    },
    {
     "data": {
      "text/html": [
       "<div>\n",
       "<style scoped>\n",
       "    .dataframe tbody tr th:only-of-type {\n",
       "        vertical-align: middle;\n",
       "    }\n",
       "\n",
       "    .dataframe tbody tr th {\n",
       "        vertical-align: top;\n",
       "    }\n",
       "\n",
       "    .dataframe thead th {\n",
       "        text-align: right;\n",
       "    }\n",
       "</style>\n",
       "<table border=\"1\" class=\"dataframe\">\n",
       "  <thead>\n",
       "    <tr style=\"text-align: right;\">\n",
       "      <th></th>\n",
       "      <th>mtype</th>\n",
       "      <th>tokens</th>\n",
       "      <th>type_tokens</th>\n",
       "      <th>label</th>\n",
       "    </tr>\n",
       "  </thead>\n",
       "  <tbody>\n",
       "    <tr>\n",
       "      <th>1117</th>\n",
       "      <td>FUNC</td>\n",
       "      <td>['f', ':', 'A', '\\\\to', 'B']</td>\n",
       "      <td>['func_def', 'func_name', '__ANON_1', 'COLON',...</td>\n",
       "      <td>1</td>\n",
       "    </tr>\n",
       "    <tr>\n",
       "      <th>2408</th>\n",
       "      <td>FUNC</td>\n",
       "      <td>['f']</td>\n",
       "      <td>['func_name', '__ANON_1']</td>\n",
       "      <td>1</td>\n",
       "    </tr>\n",
       "    <tr>\n",
       "      <th>3965</th>\n",
       "      <td>FUNC</td>\n",
       "      <td>['g', '\\\\colon', 'B', '\\\\to', 'I']</td>\n",
       "      <td>['func_def', 'func_name', '__ANON_1', 'COLON',...</td>\n",
       "      <td>1</td>\n",
       "    </tr>\n",
       "    <tr>\n",
       "      <th>5954</th>\n",
       "      <td>SCAL</td>\n",
       "      <td>['\\\\frac', '{', '8', '!', '}', '{', '(', '8', ...</td>\n",
       "      <td>['expr_atom', 'CMD_FRAC', 'L_BRACE', 'postfix'...</td>\n",
       "      <td>1</td>\n",
       "    </tr>\n",
       "    <tr>\n",
       "      <th>3127</th>\n",
       "      <td>FUNC</td>\n",
       "      <td>['f']</td>\n",
       "      <td>['func_name', '__ANON_1']</td>\n",
       "      <td>1</td>\n",
       "    </tr>\n",
       "  </tbody>\n",
       "</table>\n",
       "</div>"
      ],
      "text/plain": [
       "     mtype                                             tokens  \\\n",
       "1117  FUNC                       ['f', ':', 'A', '\\\\to', 'B']   \n",
       "2408  FUNC                                              ['f']   \n",
       "3965  FUNC                 ['g', '\\\\colon', 'B', '\\\\to', 'I']   \n",
       "5954  SCAL  ['\\\\frac', '{', '8', '!', '}', '{', '(', '8', ...   \n",
       "3127  FUNC                                              ['f']   \n",
       "\n",
       "                                            type_tokens  label  \n",
       "1117  ['func_def', 'func_name', '__ANON_1', 'COLON',...      1  \n",
       "2408                          ['func_name', '__ANON_1']      1  \n",
       "3965  ['func_def', 'func_name', '__ANON_1', 'COLON',...      1  \n",
       "5954  ['expr_atom', 'CMD_FRAC', 'L_BRACE', 'postfix'...      1  \n",
       "3127                          ['func_name', '__ANON_1']      1  "
      ]
     },
     "execution_count": 16,
     "metadata": {},
     "output_type": "execute_result"
    }
   ],
   "source": [
    "pos_samples_df = filter_data(pos_samples_df, True)\n",
    "neg_samples_df = filter_data(neg_samples_df, False)\n",
    "\n",
    "data_df = pd.concat([pos_samples_df, neg_samples_df], axis=0)\n",
    "print(\"total size: \", data_df.shape[0])\n",
    "data_df.head()"
   ]
  },
  {
   "cell_type": "code",
   "execution_count": 17,
   "metadata": {},
   "outputs": [],
   "source": [
    "output_path = Path(\"..\") / \"data\" / \"bin_class_data_TOKENIZED_SET_V1.csv\"\n",
    "data_df.to_csv(output_path, index=False)"
   ]
  },
  {
   "attachments": {},
   "cell_type": "markdown",
   "metadata": {},
   "source": [
    "#### Remove single - token formulas from dataset"
   ]
  },
  {
   "cell_type": "code",
   "execution_count": 30,
   "metadata": {},
   "outputs": [
    {
     "name": "stdout",
     "output_type": "stream",
     "text": [
      "hey\n"
     ]
    }
   ],
   "source": [
    "if isinstance(data_df.iloc[0,1], str):\n",
    "    print(\"hey\")\n",
    "elif isinstance(data_df.iloc[0,1], list):\n",
    "    print(\"list\")\n",
    "else:\n",
    "    print(\"not hey\")\n",
    "    print(data_df.iloc[0,1])"
   ]
  },
  {
   "cell_type": "code",
   "execution_count": 33,
   "metadata": {},
   "outputs": [
    {
     "data": {
      "text/html": [
       "<div>\n",
       "<style scoped>\n",
       "    .dataframe tbody tr th:only-of-type {\n",
       "        vertical-align: middle;\n",
       "    }\n",
       "\n",
       "    .dataframe tbody tr th {\n",
       "        vertical-align: top;\n",
       "    }\n",
       "\n",
       "    .dataframe thead th {\n",
       "        text-align: right;\n",
       "    }\n",
       "</style>\n",
       "<table border=\"1\" class=\"dataframe\">\n",
       "  <thead>\n",
       "    <tr style=\"text-align: right;\">\n",
       "      <th></th>\n",
       "      <th>mtype</th>\n",
       "      <th>tokens</th>\n",
       "      <th>type_tokens</th>\n",
       "      <th>label</th>\n",
       "    </tr>\n",
       "  </thead>\n",
       "  <tbody>\n",
       "    <tr>\n",
       "      <th>2408</th>\n",
       "      <td>FUNC</td>\n",
       "      <td>['f']</td>\n",
       "      <td>['func_name', '__ANON_1']</td>\n",
       "      <td>1</td>\n",
       "    </tr>\n",
       "    <tr>\n",
       "      <th>3127</th>\n",
       "      <td>FUNC</td>\n",
       "      <td>['f']</td>\n",
       "      <td>['func_name', '__ANON_1']</td>\n",
       "      <td>1</td>\n",
       "    </tr>\n",
       "    <tr>\n",
       "      <th>8476</th>\n",
       "      <td>FUNC</td>\n",
       "      <td>['f']</td>\n",
       "      <td>['func_name', '__ANON_1']</td>\n",
       "      <td>1</td>\n",
       "    </tr>\n",
       "    <tr>\n",
       "      <th>8860</th>\n",
       "      <td>FUNC</td>\n",
       "      <td>['f']</td>\n",
       "      <td>['func_name', '__ANON_1']</td>\n",
       "      <td>1</td>\n",
       "    </tr>\n",
       "    <tr>\n",
       "      <th>6714</th>\n",
       "      <td>FUNC</td>\n",
       "      <td>['f']</td>\n",
       "      <td>['func_name', '__ANON_1']</td>\n",
       "      <td>1</td>\n",
       "    </tr>\n",
       "  </tbody>\n",
       "</table>\n",
       "</div>"
      ],
      "text/plain": [
       "     mtype tokens                type_tokens  label\n",
       "2408  FUNC  ['f']  ['func_name', '__ANON_1']      1\n",
       "3127  FUNC  ['f']  ['func_name', '__ANON_1']      1\n",
       "8476  FUNC  ['f']  ['func_name', '__ANON_1']      1\n",
       "8860  FUNC  ['f']  ['func_name', '__ANON_1']      1\n",
       "6714  FUNC  ['f']  ['func_name', '__ANON_1']      1"
      ]
     },
     "execution_count": 33,
     "metadata": {},
     "output_type": "execute_result"
    }
   ],
   "source": [
    "some_df = data_df.loc[data_df[\"tokens\"] == \"['f']\"]\n",
    "some_df.head()"
   ]
  },
  {
   "cell_type": "code",
   "execution_count": 36,
   "metadata": {},
   "outputs": [
    {
     "data": {
      "text/html": [
       "<div>\n",
       "<style scoped>\n",
       "    .dataframe tbody tr th:only-of-type {\n",
       "        vertical-align: middle;\n",
       "    }\n",
       "\n",
       "    .dataframe tbody tr th {\n",
       "        vertical-align: top;\n",
       "    }\n",
       "\n",
       "    .dataframe thead th {\n",
       "        text-align: right;\n",
       "    }\n",
       "</style>\n",
       "<table border=\"1\" class=\"dataframe\">\n",
       "  <thead>\n",
       "    <tr style=\"text-align: right;\">\n",
       "      <th></th>\n",
       "      <th>mtype</th>\n",
       "      <th>tokens</th>\n",
       "      <th>type_tokens</th>\n",
       "      <th>label</th>\n",
       "    </tr>\n",
       "  </thead>\n",
       "  <tbody>\n",
       "    <tr>\n",
       "      <th>1117</th>\n",
       "      <td>FUNC</td>\n",
       "      <td>['f', ':', 'A', '\\\\to', 'B']</td>\n",
       "      <td>['func_def', 'func_name', '__ANON_1', 'COLON',...</td>\n",
       "      <td>1</td>\n",
       "    </tr>\n",
       "    <tr>\n",
       "      <th>3965</th>\n",
       "      <td>FUNC</td>\n",
       "      <td>['g', '\\\\colon', 'B', '\\\\to', 'I']</td>\n",
       "      <td>['func_def', 'func_name', '__ANON_1', 'COLON',...</td>\n",
       "      <td>1</td>\n",
       "    </tr>\n",
       "    <tr>\n",
       "      <th>5954</th>\n",
       "      <td>SCAL</td>\n",
       "      <td>['\\\\frac', '{', '8', '!', '}', '{', '(', '8', ...</td>\n",
       "      <td>['expr_atom', 'CMD_FRAC', 'L_BRACE', 'postfix'...</td>\n",
       "      <td>1</td>\n",
       "    </tr>\n",
       "    <tr>\n",
       "      <th>4674</th>\n",
       "      <td>FUNC</td>\n",
       "      <td>['g', ':', 'A', '\\\\rightarrow', 'B']</td>\n",
       "      <td>['func_def', 'func_name', '__ANON_1', 'COLON',...</td>\n",
       "      <td>1</td>\n",
       "    </tr>\n",
       "    <tr>\n",
       "      <th>8485</th>\n",
       "      <td>FUNC</td>\n",
       "      <td>['f', ':', 'X', '\\\\to', 'Y']</td>\n",
       "      <td>['func_def', 'func_name', '__ANON_1', 'COLON',...</td>\n",
       "      <td>1</td>\n",
       "    </tr>\n",
       "  </tbody>\n",
       "</table>\n",
       "</div>"
      ],
      "text/plain": [
       "     mtype                                             tokens  \\\n",
       "1117  FUNC                       ['f', ':', 'A', '\\\\to', 'B']   \n",
       "3965  FUNC                 ['g', '\\\\colon', 'B', '\\\\to', 'I']   \n",
       "5954  SCAL  ['\\\\frac', '{', '8', '!', '}', '{', '(', '8', ...   \n",
       "4674  FUNC               ['g', ':', 'A', '\\\\rightarrow', 'B']   \n",
       "8485  FUNC                       ['f', ':', 'X', '\\\\to', 'Y']   \n",
       "\n",
       "                                            type_tokens  label  \n",
       "1117  ['func_def', 'func_name', '__ANON_1', 'COLON',...      1  \n",
       "3965  ['func_def', 'func_name', '__ANON_1', 'COLON',...      1  \n",
       "5954  ['expr_atom', 'CMD_FRAC', 'L_BRACE', 'postfix'...      1  \n",
       "4674  ['func_def', 'func_name', '__ANON_1', 'COLON',...      1  \n",
       "8485  ['func_def', 'func_name', '__ANON_1', 'COLON',...      1  "
      ]
     },
     "execution_count": 36,
     "metadata": {},
     "output_type": "execute_result"
    }
   ],
   "source": [
    "\n",
    "clean_data_df = data_df.loc[data_df[\"tokens\"].str.len() > 5]\n",
    "clean_data_df.head()"
   ]
  },
  {
   "cell_type": "code",
   "execution_count": 37,
   "metadata": {},
   "outputs": [],
   "source": [
    "output_path = Path(\"..\") / \"data\" / \"bin_class_data_TOKENIZED_SET_V1_compact.csv\"\n",
    "clean_data_df.to_csv(output_path, index=False)"
   ]
  }
 ],
 "metadata": {
  "kernelspec": {
   "display_name": "sem_math_env",
   "language": "python",
   "name": "python3"
  },
  "language_info": {
   "codemirror_mode": {
    "name": "ipython",
    "version": 3
   },
   "file_extension": ".py",
   "mimetype": "text/x-python",
   "name": "python",
   "nbconvert_exporter": "python",
   "pygments_lexer": "ipython3",
   "version": "3.10.9"
  },
  "orig_nbformat": 4,
  "vscode": {
   "interpreter": {
    "hash": "e475bf32faa723a86579ec24c4297aa7888421b748796abf349c5564eb9c10ae"
   }
  }
 },
 "nbformat": 4,
 "nbformat_minor": 2
}
