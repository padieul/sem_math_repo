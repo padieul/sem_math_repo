{
 "cells": [
  {
   "cell_type": "code",
   "execution_count": 26,
   "metadata": {},
   "outputs": [],
   "source": [
    "import pandas as pd\n",
    "import json\n",
    "import ast\n",
    "from pathlib import Path\n",
    "import os"
   ]
  },
  {
   "attachments": {},
   "cell_type": "markdown",
   "metadata": {},
   "source": [
    "### Read data from individual csv files"
   ]
  },
  {
   "cell_type": "code",
   "execution_count": 27,
   "metadata": {},
   "outputs": [
    {
     "name": "stdout",
     "output_type": "stream",
     "text": [
      "c:\\Users\\prdie\\OneDrive\\Sources\\sem_math_repo\\classification\n"
     ]
    }
   ],
   "source": [
    "print(os.getcwd())"
   ]
  },
  {
   "cell_type": "code",
   "execution_count": 28,
   "metadata": {},
   "outputs": [
    {
     "data": {
      "text/html": [
       "<div>\n",
       "<style scoped>\n",
       "    .dataframe tbody tr th:only-of-type {\n",
       "        vertical-align: middle;\n",
       "    }\n",
       "\n",
       "    .dataframe tbody tr th {\n",
       "        vertical-align: top;\n",
       "    }\n",
       "\n",
       "    .dataframe thead th {\n",
       "        text-align: right;\n",
       "    }\n",
       "</style>\n",
       "<table border=\"1\" class=\"dataframe\">\n",
       "  <thead>\n",
       "    <tr style=\"text-align: right;\">\n",
       "      <th></th>\n",
       "      <th>fid</th>\n",
       "      <th>mtype</th>\n",
       "      <th>exprstr</th>\n",
       "      <th>mention</th>\n",
       "      <th>tokens</th>\n",
       "      <th>type_tokens</th>\n",
       "      <th>tags</th>\n",
       "    </tr>\n",
       "  </thead>\n",
       "  <tbody>\n",
       "    <tr>\n",
       "      <th>0</th>\n",
       "      <td>6327106106a69a3f488d6e3e_f_8_2_0</td>\n",
       "      <td>FUNC</td>\n",
       "      <td>f</td>\n",
       "      <td>any function</td>\n",
       "      <td>['f']</td>\n",
       "      <td>['func_name', '__ANON_1']</td>\n",
       "      <td>['elementary-set-theory', 'intuition', 'infini...</td>\n",
       "    </tr>\n",
       "    <tr>\n",
       "      <th>1</th>\n",
       "      <td>6327106106a69a3f488d6e96_f_3_22_0</td>\n",
       "      <td>FUNC</td>\n",
       "      <td>j: \\mathbb{N} \\rightarrow [0, 1]</td>\n",
       "      <td>any injection   f_3_22_0</td>\n",
       "      <td>['j', ':', '\\\\mathbb{N}', '\\\\rightarrow', '[',...</td>\n",
       "      <td>['func_def', 'func_name', '__ANON_1', 'COLON',...</td>\n",
       "      <td>['elementary-set-theory']</td>\n",
       "    </tr>\n",
       "    <tr>\n",
       "      <th>2</th>\n",
       "      <td>6327106106a69a3f488d6e96_f_3_38_0</td>\n",
       "      <td>FUNC</td>\n",
       "      <td>b</td>\n",
       "      <td>together the identity map</td>\n",
       "      <td>['b']</td>\n",
       "      <td>['func_name', '__ANON_1']</td>\n",
       "      <td>['elementary-set-theory']</td>\n",
       "    </tr>\n",
       "    <tr>\n",
       "      <th>3</th>\n",
       "      <td>6327106106a69a3f488d6ef4_f_0_0_0</td>\n",
       "      <td>SET</td>\n",
       "      <td>\\mathbb{Q}</td>\n",
       "      <td>the set   f_0_0_0</td>\n",
       "      <td>\\mathbb{Q}</td>\n",
       "      <td>['set_constant', 'SET_BASIC']</td>\n",
       "      <td>['elementary-set-theory', 'irrational-numbers']</td>\n",
       "    </tr>\n",
       "    <tr>\n",
       "      <th>4</th>\n",
       "      <td>6327106106a69a3f488d6f48_f_0_0_0</td>\n",
       "      <td>FUNC</td>\n",
       "      <td>f</td>\n",
       "      <td>a given function</td>\n",
       "      <td>['f']</td>\n",
       "      <td>['func_name', '__ANON_1']</td>\n",
       "      <td>['functions', 'elementary-set-theory', 'functi...</td>\n",
       "    </tr>\n",
       "  </tbody>\n",
       "</table>\n",
       "</div>"
      ],
      "text/plain": [
       "                                 fid mtype                           exprstr  \\\n",
       "0   6327106106a69a3f488d6e3e_f_8_2_0  FUNC                                 f   \n",
       "1  6327106106a69a3f488d6e96_f_3_22_0  FUNC  j: \\mathbb{N} \\rightarrow [0, 1]   \n",
       "2  6327106106a69a3f488d6e96_f_3_38_0  FUNC                                 b   \n",
       "3   6327106106a69a3f488d6ef4_f_0_0_0   SET                        \\mathbb{Q}   \n",
       "4   6327106106a69a3f488d6f48_f_0_0_0  FUNC                                 f   \n",
       "\n",
       "                     mention  \\\n",
       "0               any function   \n",
       "1   any injection   f_3_22_0   \n",
       "2  together the identity map   \n",
       "3          the set   f_0_0_0   \n",
       "4           a given function   \n",
       "\n",
       "                                              tokens  \\\n",
       "0                                              ['f']   \n",
       "1  ['j', ':', '\\\\mathbb{N}', '\\\\rightarrow', '[',...   \n",
       "2                                              ['b']   \n",
       "3                                         \\mathbb{Q}   \n",
       "4                                              ['f']   \n",
       "\n",
       "                                         type_tokens  \\\n",
       "0                          ['func_name', '__ANON_1']   \n",
       "1  ['func_def', 'func_name', '__ANON_1', 'COLON',...   \n",
       "2                          ['func_name', '__ANON_1']   \n",
       "3                      ['set_constant', 'SET_BASIC']   \n",
       "4                          ['func_name', '__ANON_1']   \n",
       "\n",
       "                                                tags  \n",
       "0  ['elementary-set-theory', 'intuition', 'infini...  \n",
       "1                          ['elementary-set-theory']  \n",
       "2                          ['elementary-set-theory']  \n",
       "3    ['elementary-set-theory', 'irrational-numbers']  \n",
       "4  ['functions', 'elementary-set-theory', 'functi...  "
      ]
     },
     "execution_count": 28,
     "metadata": {},
     "output_type": "execute_result"
    }
   ],
   "source": [
    "# positive examples for classification\n",
    "#  binary dataset: algebra-precalculus\n",
    "#  pos_sample_path = Path(\".\") / \"data\" / \"formula_data_algebra-precalculus.csv\" \n",
    "\n",
    "pos_sample_path = Path(\"..\") / \"data_intermediate1\" / \"formula_data_elementary-set-theory.csv\"\n",
    "elem_set_th_df = pd.read_csv(pos_sample_path)\n",
    "elem_set_th_df.head()"
   ]
  },
  {
   "cell_type": "code",
   "execution_count": 29,
   "metadata": {},
   "outputs": [
    {
     "name": "stdout",
     "output_type": "stream",
     "text": [
      "[5917, 234, 182, 6253, 330, 1705]\n"
     ]
    }
   ],
   "source": [
    "# negative examples for classification \n",
    "\n",
    "# binary dataset: algebra-precalculus\n",
    "# elem_set_th_df = pd.read_csv(\"data/formula_data_elementary-set-theory.csv\")\n",
    "\n",
    "# binary dataset: elemenary-set-theory\n",
    "algebra_precalc_df = Path(\"..\") / \"data_intermediate1\" / \"formula_data_algebra-precalculus.csv\"\n",
    "\n",
    "a_geometry_df = Path(\"..\") / \"data_intermediate1\" / \"formula_data_analytic-geometry.csv\"\n",
    "elem_func_df = Path(\"..\") / \"data_intermediate1\" / \"formula_data_elementary-functions.csv\"\n",
    "elem_num_th_df = Path(\"..\") / \"data_intermediate1\" / \"formula_data_elementary-number-theory.csv\" \n",
    "euc_geom_df = Path(\"..\") / \"data_intermediate1\" / \"formula_data_euclidean-geometry.csv\" \n",
    "trig_df = Path(\"..\") / \"data_intermediate1\" / \"formula_data_trigonometry.csv\"\n",
    "\n",
    "algebra_precalc_df = pd.read_csv(algebra_precalc_df)\n",
    "a_geometry_df = pd.read_csv(a_geometry_df)\n",
    "elem_func_df = pd.read_csv(elem_func_df)\n",
    "elem_num_th_df = pd.read_csv(elem_num_th_df)\n",
    "euc_geom_df = pd.read_csv(euc_geom_df)\n",
    "trig_df = pd.read_csv(trig_df)\n",
    "\n",
    "neg_df_list = [algebra_precalc_df, a_geometry_df, elem_func_df, elem_num_th_df, euc_geom_df, trig_df]\n",
    "lengths_list = [d_frame.shape[0] for d_frame in neg_df_list]\n",
    "print(lengths_list)"
   ]
  },
  {
   "attachments": {},
   "cell_type": "markdown",
   "metadata": {},
   "source": [
    "#### Merge negative examples datasets while keeping the occurence frequencies and filter"
   ]
  },
  {
   "cell_type": "code",
   "execution_count": 30,
   "metadata": {},
   "outputs": [],
   "source": [
    "def merge_dfs(df_list, return_size):\n",
    "    r_nums = [d_frame.shape[0] for d_frame in df_list]\n",
    "    r_nums_sum = sum(r_nums)\n",
    "\n",
    "    sel_neg_dfs = [df_list[i].sample(n=int((r_nums[i]/r_nums_sum)*return_size)) for i in range(len(r_nums))]\n",
    "    neg_samples = pd.concat(sel_neg_dfs, axis=0)\n",
    "    if neg_samples.shape[0] < return_size:\n",
    "        neg_samples = pd.concat([neg_samples,df_list[-1].sample(n=return_size-neg_samples.shape[0])])\n",
    "    return neg_samples"
   ]
  },
  {
   "cell_type": "code",
   "execution_count": 31,
   "metadata": {},
   "outputs": [],
   "source": [
    "def filter_data(train_df, is_pos):\n",
    "    def cell_to_str(cell_val):\n",
    "        if isinstance(cell_val,int):\n",
    "            return \"['\" + str(cell_val) + \"']\"\n",
    "        elif isinstance(cell_val,float):\n",
    "            return \"['\" + str(cell_val) + \"']\"\n",
    "        elif isinstance(cell_val,str):\n",
    "            if len(cell_val) == 1:\n",
    "                return \"['\" + cell_val + \"']\"\n",
    "            else:\n",
    "                return cell_val\n",
    "        else:\n",
    "            return cell_val\n",
    "\n",
    "    train_df = train_df.drop([\"fid\", \"exprstr\", \"mention\", \"tags\"], axis=1)\n",
    "    train_df[\"tokens\"] = train_df[\"tokens\"].map(cell_to_str)\n",
    "\n",
    "    if is_pos:\n",
    "        train_df[\"label\"] = 1\n",
    "    else:\n",
    "        train_df[\"label\"] = 0\n",
    "    return train_df"
   ]
  },
  {
   "cell_type": "code",
   "execution_count": 32,
   "metadata": {},
   "outputs": [
    {
     "name": "stdout",
     "output_type": "stream",
     "text": [
      "negative examples size:  5500\n",
      "positive examples size:  5500\n"
     ]
    }
   ],
   "source": [
    "intended_train_size = 11000 \n",
    "neg_samples_df = merge_dfs(neg_df_list, int(intended_train_size/2))\n",
    "neg_samples_df.head()\n",
    "print(\"negative examples size: \", neg_samples_df.shape[0])\n",
    "pos_samples_df = elem_set_th_df.sample(n=int(intended_train_size/2))\n",
    "print(\"positive examples size: \", pos_samples_df.shape[0])\n"
   ]
  },
  {
   "cell_type": "code",
   "execution_count": 33,
   "metadata": {},
   "outputs": [
    {
     "name": "stdout",
     "output_type": "stream",
     "text": [
      "total size:  11000\n"
     ]
    },
    {
     "data": {
      "text/html": [
       "<div>\n",
       "<style scoped>\n",
       "    .dataframe tbody tr th:only-of-type {\n",
       "        vertical-align: middle;\n",
       "    }\n",
       "\n",
       "    .dataframe tbody tr th {\n",
       "        vertical-align: top;\n",
       "    }\n",
       "\n",
       "    .dataframe thead th {\n",
       "        text-align: right;\n",
       "    }\n",
       "</style>\n",
       "<table border=\"1\" class=\"dataframe\">\n",
       "  <thead>\n",
       "    <tr style=\"text-align: right;\">\n",
       "      <th></th>\n",
       "      <th>mtype</th>\n",
       "      <th>tokens</th>\n",
       "      <th>type_tokens</th>\n",
       "      <th>label</th>\n",
       "    </tr>\n",
       "  </thead>\n",
       "  <tbody>\n",
       "    <tr>\n",
       "      <th>5946</th>\n",
       "      <td>FUNC</td>\n",
       "      <td>['f', ':', 'G', '\\\\rightarrow', 'H']</td>\n",
       "      <td>['func_def', 'func_name', '__ANON_1', 'COLON',...</td>\n",
       "      <td>1</td>\n",
       "    </tr>\n",
       "    <tr>\n",
       "      <th>1671</th>\n",
       "      <td>FUNC</td>\n",
       "      <td>['f', ':', 'A', '\\\\cup', 'B', '\\\\rightarrow', ...</td>\n",
       "      <td>['func_def', 'func_name', '__ANON_1', 'COLON',...</td>\n",
       "      <td>1</td>\n",
       "    </tr>\n",
       "    <tr>\n",
       "      <th>1974</th>\n",
       "      <td>FUNC</td>\n",
       "      <td>['f']</td>\n",
       "      <td>['func_name', '__ANON_1']</td>\n",
       "      <td>1</td>\n",
       "    </tr>\n",
       "    <tr>\n",
       "      <th>6540</th>\n",
       "      <td>FUNC</td>\n",
       "      <td>['T']</td>\n",
       "      <td>['func_name', '__ANON_0']</td>\n",
       "      <td>1</td>\n",
       "    </tr>\n",
       "    <tr>\n",
       "      <th>4007</th>\n",
       "      <td>FUNC</td>\n",
       "      <td>['f', ':', '\\\\mathbb{N}', '\\\\to', 'A']</td>\n",
       "      <td>['func_def', 'func_name', '__ANON_1', 'COLON',...</td>\n",
       "      <td>1</td>\n",
       "    </tr>\n",
       "  </tbody>\n",
       "</table>\n",
       "</div>"
      ],
      "text/plain": [
       "     mtype                                             tokens  \\\n",
       "5946  FUNC               ['f', ':', 'G', '\\\\rightarrow', 'H']   \n",
       "1671  FUNC  ['f', ':', 'A', '\\\\cup', 'B', '\\\\rightarrow', ...   \n",
       "1974  FUNC                                              ['f']   \n",
       "6540  FUNC                                              ['T']   \n",
       "4007  FUNC             ['f', ':', '\\\\mathbb{N}', '\\\\to', 'A']   \n",
       "\n",
       "                                            type_tokens  label  \n",
       "5946  ['func_def', 'func_name', '__ANON_1', 'COLON',...      1  \n",
       "1671  ['func_def', 'func_name', '__ANON_1', 'COLON',...      1  \n",
       "1974                          ['func_name', '__ANON_1']      1  \n",
       "6540                          ['func_name', '__ANON_0']      1  \n",
       "4007  ['func_def', 'func_name', '__ANON_1', 'COLON',...      1  "
      ]
     },
     "execution_count": 33,
     "metadata": {},
     "output_type": "execute_result"
    }
   ],
   "source": [
    "pos_samples_df = filter_data(pos_samples_df, True)\n",
    "neg_samples_df = filter_data(neg_samples_df, False)\n",
    "\n",
    "data_df = pd.concat([pos_samples_df, neg_samples_df], axis=0)\n",
    "print(\"total size: \", data_df.shape[0])\n",
    "data_df.head()"
   ]
  },
  {
   "cell_type": "code",
   "execution_count": 34,
   "metadata": {},
   "outputs": [],
   "source": [
    "output_path = Path(\"..\") / \"data\" / \"bin_class_data_TOKENIZED_SET_V1.csv\"\n",
    "data_df.to_csv(output_path, index=False)"
   ]
  }
 ],
 "metadata": {
  "kernelspec": {
   "display_name": "sem_math_env",
   "language": "python",
   "name": "python3"
  },
  "language_info": {
   "codemirror_mode": {
    "name": "ipython",
    "version": 3
   },
   "file_extension": ".py",
   "mimetype": "text/x-python",
   "name": "python",
   "nbconvert_exporter": "python",
   "pygments_lexer": "ipython3",
   "version": "3.10.9"
  },
  "orig_nbformat": 4,
  "vscode": {
   "interpreter": {
    "hash": "71a9a05a8d236729134f51de1f1fd612c9215f2a378954bc400639bac96e00eb"
   }
  }
 },
 "nbformat": 4,
 "nbformat_minor": 2
}
