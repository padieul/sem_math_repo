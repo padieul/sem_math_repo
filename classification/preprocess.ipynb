{
 "cells": [
  {
   "cell_type": "code",
   "execution_count": 1,
   "metadata": {},
   "outputs": [],
   "source": [
    "import pandas as pd\n",
    "import json\n",
    "import ast"
   ]
  },
  {
   "attachments": {},
   "cell_type": "markdown",
   "metadata": {},
   "source": [
    "### Read data from individual csv files"
   ]
  },
  {
   "cell_type": "code",
   "execution_count": 2,
   "metadata": {},
   "outputs": [
    {
     "data": {
      "text/html": [
       "<div>\n",
       "<style scoped>\n",
       "    .dataframe tbody tr th:only-of-type {\n",
       "        vertical-align: middle;\n",
       "    }\n",
       "\n",
       "    .dataframe tbody tr th {\n",
       "        vertical-align: top;\n",
       "    }\n",
       "\n",
       "    .dataframe thead th {\n",
       "        text-align: right;\n",
       "    }\n",
       "</style>\n",
       "<table border=\"1\" class=\"dataframe\">\n",
       "  <thead>\n",
       "    <tr style=\"text-align: right;\">\n",
       "      <th></th>\n",
       "      <th>fid</th>\n",
       "      <th>mtype</th>\n",
       "      <th>exprstr</th>\n",
       "      <th>mention</th>\n",
       "      <th>tokens</th>\n",
       "      <th>tags</th>\n",
       "    </tr>\n",
       "  </thead>\n",
       "  <tbody>\n",
       "    <tr>\n",
       "      <th>0</th>\n",
       "      <td>6327106106a69a3f488d6eb8_f_1_0_0</td>\n",
       "      <td>FUNC</td>\n",
       "      <td>f(x,y)=x/y</td>\n",
       "      <td>the function</td>\n",
       "      <td>['f', '(', 'x', ',', 'y', ')', '=', 'x', '/', ...</td>\n",
       "      <td>['algebra-precalculus']</td>\n",
       "    </tr>\n",
       "    <tr>\n",
       "      <th>1</th>\n",
       "      <td>6327106106a69a3f488d6f55_f_3_0_0</td>\n",
       "      <td>SCAL</td>\n",
       "      <td>\\frac{a+bi}{c+di}</td>\n",
       "      <td>two complex numbers</td>\n",
       "      <td>['\\\\frac', '{', 'a', '+', 'b', 'i', '}', '{', ...</td>\n",
       "      <td>['algebra-precalculus']</td>\n",
       "    </tr>\n",
       "    <tr>\n",
       "      <th>2</th>\n",
       "      <td>6327106106a69a3f488d6f5c_f_5_0_0</td>\n",
       "      <td>FUNC</td>\n",
       "      <td>g</td>\n",
       "      <td>the functions</td>\n",
       "      <td>['g']</td>\n",
       "      <td>['algebra-precalculus', 'functional-equations']</td>\n",
       "    </tr>\n",
       "    <tr>\n",
       "      <th>3</th>\n",
       "      <td>6327106106a69a3f488d6f5c_f_5_4_0</td>\n",
       "      <td>FUNC</td>\n",
       "      <td>g</td>\n",
       "      <td>the function</td>\n",
       "      <td>['g']</td>\n",
       "      <td>['algebra-precalculus', 'functional-equations']</td>\n",
       "    </tr>\n",
       "    <tr>\n",
       "      <th>4</th>\n",
       "      <td>6327106106a69a3f488d6f5c_f_5_7_0</td>\n",
       "      <td>FUNC</td>\n",
       "      <td>g</td>\n",
       "      <td>every function   f_5_7_0</td>\n",
       "      <td>['g']</td>\n",
       "      <td>['algebra-precalculus', 'functional-equations']</td>\n",
       "    </tr>\n",
       "  </tbody>\n",
       "</table>\n",
       "</div>"
      ],
      "text/plain": [
       "                                fid mtype            exprstr  \\\n",
       "0  6327106106a69a3f488d6eb8_f_1_0_0  FUNC         f(x,y)=x/y   \n",
       "1  6327106106a69a3f488d6f55_f_3_0_0  SCAL  \\frac{a+bi}{c+di}   \n",
       "2  6327106106a69a3f488d6f5c_f_5_0_0  FUNC                  g   \n",
       "3  6327106106a69a3f488d6f5c_f_5_4_0  FUNC                  g   \n",
       "4  6327106106a69a3f488d6f5c_f_5_7_0  FUNC                  g   \n",
       "\n",
       "                    mention  \\\n",
       "0              the function   \n",
       "1       two complex numbers   \n",
       "2             the functions   \n",
       "3              the function   \n",
       "4  every function   f_5_7_0   \n",
       "\n",
       "                                              tokens  \\\n",
       "0  ['f', '(', 'x', ',', 'y', ')', '=', 'x', '/', ...   \n",
       "1  ['\\\\frac', '{', 'a', '+', 'b', 'i', '}', '{', ...   \n",
       "2                                              ['g']   \n",
       "3                                              ['g']   \n",
       "4                                              ['g']   \n",
       "\n",
       "                                              tags  \n",
       "0                          ['algebra-precalculus']  \n",
       "1                          ['algebra-precalculus']  \n",
       "2  ['algebra-precalculus', 'functional-equations']  \n",
       "3  ['algebra-precalculus', 'functional-equations']  \n",
       "4  ['algebra-precalculus', 'functional-equations']  "
      ]
     },
     "execution_count": 2,
     "metadata": {},
     "output_type": "execute_result"
    }
   ],
   "source": [
    "# positive examples for classification\n",
    "algebra_precalc_df = pd.read_csv(\"data/formula_data_algebra-precalculus.csv\")\n",
    "algebra_precalc_df.head()"
   ]
  },
  {
   "cell_type": "code",
   "execution_count": 3,
   "metadata": {},
   "outputs": [
    {
     "name": "stdout",
     "output_type": "stream",
     "text": [
      "[234, 182, 6253, 10000, 330, 1705]\n"
     ]
    }
   ],
   "source": [
    "# negative examples for classification \n",
    "a_geometry_df = pd.read_csv(\"data/formula_data_analytic-geometry.csv\")\n",
    "elem_func_df = pd.read_csv(\"data/formula_data_elementary-functions.csv\")\n",
    "elem_num_th_df = pd.read_csv(\"data/formula_data_elementary-number-theory.csv\")\n",
    "elem_set_th_df = pd.read_csv(\"data/formula_data_elementary-set-theory.csv\")\n",
    "euc_geom_df = pd.read_csv(\"data/formula_data_euclidean-geometry.csv\")\n",
    "trig_df = pd.read_csv(\"data/formula_data_trigonometry.csv\")\n",
    "\n",
    "neg_df_list = [a_geometry_df, elem_func_df, elem_num_th_df, elem_set_th_df, euc_geom_df, trig_df]\n",
    "lengths_list = [d_frame.shape[0] for d_frame in neg_df_list]\n",
    "print(lengths_list)"
   ]
  },
  {
   "attachments": {},
   "cell_type": "markdown",
   "metadata": {},
   "source": [
    "#### Merge negative examples datasets while keeping the occurence frequencies and filter"
   ]
  },
  {
   "cell_type": "code",
   "execution_count": 4,
   "metadata": {},
   "outputs": [],
   "source": [
    "def merge_dfs(df_list, return_size):\n",
    "    r_nums = [d_frame.shape[0] for d_frame in df_list]\n",
    "    r_nums_sum = sum(r_nums)\n",
    "\n",
    "    sel_neg_dfs = [df_list[i].sample(n=int((r_nums[i]/r_nums_sum)*return_size)) for i in range(len(r_nums))]\n",
    "    neg_samples = pd.concat(sel_neg_dfs, axis=0)\n",
    "    if neg_samples.shape[0] < return_size:\n",
    "        neg_samples = pd.concat([neg_samples,df_list[-1].sample(n=return_size-neg_samples.shape[0])])\n",
    "    return neg_samples"
   ]
  },
  {
   "cell_type": "code",
   "execution_count": 5,
   "metadata": {},
   "outputs": [],
   "source": [
    "def filter_data(train_df, is_pos):\n",
    "    def cell_to_str(cell_val):\n",
    "        if isinstance(cell_val,int):\n",
    "            return \"['\" + str(cell_val) + \"']\"\n",
    "        elif isinstance(cell_val,float):\n",
    "            return \"['\" + str(cell_val) + \"']\"\n",
    "        elif isinstance(cell_val,str):\n",
    "            if len(cell_val) == 1:\n",
    "                return \"['\" + cell_val + \"']\"\n",
    "            else:\n",
    "                return cell_val\n",
    "        else:\n",
    "            return cell_val\n",
    "\n",
    "    train_df = train_df.drop([\"fid\", \"exprstr\", \"mention\", \"tags\"], axis=1)\n",
    "    train_df[\"tokens\"] = train_df[\"tokens\"].map(cell_to_str)\n",
    "\n",
    "    if is_pos:\n",
    "        train_df[\"label\"] = 1\n",
    "    else:\n",
    "        train_df[\"label\"] = 0\n",
    "    return train_df"
   ]
  },
  {
   "cell_type": "code",
   "execution_count": 6,
   "metadata": {},
   "outputs": [
    {
     "name": "stdout",
     "output_type": "stream",
     "text": [
      "negative examples size:  5500\n",
      "positive examples size:  5500\n"
     ]
    }
   ],
   "source": [
    "intended_train_size = 11000 \n",
    "neg_samples_df = merge_dfs(neg_df_list, int(intended_train_size/2))\n",
    "neg_samples_df.head()\n",
    "print(\"negative examples size: \", neg_samples_df.shape[0])\n",
    "pos_samples_df = algebra_precalc_df.sample(n=int(intended_train_size/2))\n",
    "print(\"positive examples size: \", pos_samples_df.shape[0])\n"
   ]
  },
  {
   "cell_type": "code",
   "execution_count": 7,
   "metadata": {},
   "outputs": [
    {
     "name": "stdout",
     "output_type": "stream",
     "text": [
      "total size:  11000\n"
     ]
    },
    {
     "data": {
      "text/html": [
       "<div>\n",
       "<style scoped>\n",
       "    .dataframe tbody tr th:only-of-type {\n",
       "        vertical-align: middle;\n",
       "    }\n",
       "\n",
       "    .dataframe tbody tr th {\n",
       "        vertical-align: top;\n",
       "    }\n",
       "\n",
       "    .dataframe thead th {\n",
       "        text-align: right;\n",
       "    }\n",
       "</style>\n",
       "<table border=\"1\" class=\"dataframe\">\n",
       "  <thead>\n",
       "    <tr style=\"text-align: right;\">\n",
       "      <th></th>\n",
       "      <th>mtype</th>\n",
       "      <th>tokens</th>\n",
       "      <th>label</th>\n",
       "    </tr>\n",
       "  </thead>\n",
       "  <tbody>\n",
       "    <tr>\n",
       "      <th>870</th>\n",
       "      <td>SET</td>\n",
       "      <td>['\\\\{', 'a', '\\\\}']</td>\n",
       "      <td>1</td>\n",
       "    </tr>\n",
       "    <tr>\n",
       "      <th>5187</th>\n",
       "      <td>SCAL</td>\n",
       "      <td>['3', 'r']</td>\n",
       "      <td>1</td>\n",
       "    </tr>\n",
       "    <tr>\n",
       "      <th>5222</th>\n",
       "      <td>FUNC</td>\n",
       "      <td>['f']</td>\n",
       "      <td>1</td>\n",
       "    </tr>\n",
       "    <tr>\n",
       "      <th>4940</th>\n",
       "      <td>SCAL</td>\n",
       "      <td>['\\\\binom', '{', '4', '}', '{', '4', '}']</td>\n",
       "      <td>1</td>\n",
       "    </tr>\n",
       "    <tr>\n",
       "      <th>1740</th>\n",
       "      <td>SCAL</td>\n",
       "      <td>['1']</td>\n",
       "      <td>1</td>\n",
       "    </tr>\n",
       "  </tbody>\n",
       "</table>\n",
       "</div>"
      ],
      "text/plain": [
       "     mtype                                     tokens  label\n",
       "870    SET                        ['\\\\{', 'a', '\\\\}']      1\n",
       "5187  SCAL                                 ['3', 'r']      1\n",
       "5222  FUNC                                      ['f']      1\n",
       "4940  SCAL  ['\\\\binom', '{', '4', '}', '{', '4', '}']      1\n",
       "1740  SCAL                                      ['1']      1"
      ]
     },
     "execution_count": 7,
     "metadata": {},
     "output_type": "execute_result"
    }
   ],
   "source": [
    "pos_samples_df = filter_data(pos_samples_df, True)\n",
    "neg_samples_df = filter_data(neg_samples_df, False)\n",
    "\n",
    "data_df = pd.concat([pos_samples_df, neg_samples_df], axis=0)\n",
    "print(\"total size: \", data_df.shape[0])\n",
    "data_df.head()"
   ]
  },
  {
   "cell_type": "code",
   "execution_count": 8,
   "metadata": {},
   "outputs": [],
   "source": [
    "data_df.to_csv(\"data/bin_class_data.csv\", index=False)"
   ]
  },
  {
   "cell_type": "code",
   "execution_count": null,
   "metadata": {},
   "outputs": [],
   "source": []
  }
 ],
 "metadata": {
  "kernelspec": {
   "display_name": "sem_mcl_env",
   "language": "python",
   "name": "python3"
  },
  "language_info": {
   "codemirror_mode": {
    "name": "ipython",
    "version": 3
   },
   "file_extension": ".py",
   "mimetype": "text/x-python",
   "name": "python",
   "nbconvert_exporter": "python",
   "pygments_lexer": "ipython3",
   "version": "3.10.9 (main, Dec  7 2022, 01:12:00) [GCC 9.4.0]"
  },
  "orig_nbformat": 4,
  "vscode": {
   "interpreter": {
    "hash": "49c979912008fc9cee6a8a0fe8e496b4e7f16ac3431feab7a86d9ffbfac4b4cd"
   }
  }
 },
 "nbformat": 4,
 "nbformat_minor": 2
}
