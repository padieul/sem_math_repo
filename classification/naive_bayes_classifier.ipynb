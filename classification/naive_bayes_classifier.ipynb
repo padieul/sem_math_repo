{
 "cells": [
  {
   "attachments": {},
   "cell_type": "markdown",
   "metadata": {},
   "source": [
    "#### Naive Bayes: Classifying mathematical formulas"
   ]
  },
  {
   "cell_type": "code",
   "execution_count": 1,
   "metadata": {},
   "outputs": [],
   "source": [
    "import pandas as pd\n",
    "import numpy as np\n",
    "\n",
    "import matplotlib.pyplot as plt \n",
    "import matplotlib.colors as colors\n",
    "\n",
    "from pathlib import Path\n",
    "\n",
    "import sklearn\n",
    "from sklearn.utils import resample # downsample dataset\n",
    "from sklearn.model_selection import train_test_split # split to training and testing datasets\n",
    "from sklearn.model_selection import GridSearchCV, cross_validate # cross validation\n",
    "#from sklearn.preprocessing import scale # scale and center data\n",
    "from sklearn.naive_bayes import MultinomialNB\n",
    "from sklearn.metrics import confusion_matrix, classification_report, ConfusionMatrixDisplay, accuracy_score\n",
    "from sklearn.decomposition import PCA\n",
    "from sklearn.preprocessing import LabelEncoder\n",
    "from sklearn.feature_extraction.text import CountVectorizer, TfidfVectorizer, HashingVectorizer\n",
    "from sklearn.pipeline import make_pipeline\n",
    "\n",
    "import nltk\n",
    "from nltk import pos_tag\n",
    "from nltk.tokenize import word_tokenize\n",
    "from nltk.stem import WordNetLemmatizer\n",
    "from nltk.corpus import stopwords\n",
    "from nltk.corpus import wordnet as wn"
   ]
  },
  {
   "attachments": {},
   "cell_type": "markdown",
   "metadata": {},
   "source": [
    "#### Import Data"
   ]
  },
  {
   "cell_type": "code",
   "execution_count": 2,
   "metadata": {},
   "outputs": [
    {
     "name": "stdout",
     "output_type": "stream",
     "text": [
      "Number of data rows: 10981\n"
     ]
    },
    {
     "data": {
      "text/html": [
       "<div>\n",
       "<style scoped>\n",
       "    .dataframe tbody tr th:only-of-type {\n",
       "        vertical-align: middle;\n",
       "    }\n",
       "\n",
       "    .dataframe tbody tr th {\n",
       "        vertical-align: top;\n",
       "    }\n",
       "\n",
       "    .dataframe thead th {\n",
       "        text-align: right;\n",
       "    }\n",
       "</style>\n",
       "<table border=\"1\" class=\"dataframe\">\n",
       "  <thead>\n",
       "    <tr style=\"text-align: right;\">\n",
       "      <th></th>\n",
       "      <th>mtype</th>\n",
       "      <th>tokens</th>\n",
       "      <th>label</th>\n",
       "    </tr>\n",
       "  </thead>\n",
       "  <tbody>\n",
       "    <tr>\n",
       "      <th>0</th>\n",
       "      <td>SET</td>\n",
       "      <td>['\\\\{', 'a', '\\\\}']</td>\n",
       "      <td>1</td>\n",
       "    </tr>\n",
       "    <tr>\n",
       "      <th>1</th>\n",
       "      <td>SCAL</td>\n",
       "      <td>['3', 'r']</td>\n",
       "      <td>1</td>\n",
       "    </tr>\n",
       "    <tr>\n",
       "      <th>2</th>\n",
       "      <td>FUNC</td>\n",
       "      <td>['f']</td>\n",
       "      <td>1</td>\n",
       "    </tr>\n",
       "    <tr>\n",
       "      <th>3</th>\n",
       "      <td>SCAL</td>\n",
       "      <td>['\\\\binom', '{', '4', '}', '{', '4', '}']</td>\n",
       "      <td>1</td>\n",
       "    </tr>\n",
       "    <tr>\n",
       "      <th>4</th>\n",
       "      <td>SCAL</td>\n",
       "      <td>['1']</td>\n",
       "      <td>1</td>\n",
       "    </tr>\n",
       "  </tbody>\n",
       "</table>\n",
       "</div>"
      ],
      "text/plain": [
       "  mtype                                     tokens  label\n",
       "0   SET                        ['\\\\{', 'a', '\\\\}']      1\n",
       "1  SCAL                                 ['3', 'r']      1\n",
       "2  FUNC                                      ['f']      1\n",
       "3  SCAL  ['\\\\binom', '{', '4', '}', '{', '4', '}']      1\n",
       "4  SCAL                                      ['1']      1"
      ]
     },
     "execution_count": 2,
     "metadata": {},
     "output_type": "execute_result"
    }
   ],
   "source": [
    "data_p = Path(\"data/\") / \"bin_class_data_TOKENIZED_V1.csv\"\n",
    "data = pd.read_csv(data_p)\n",
    "print(\"Number of data rows: {}\".format(data.shape[0]))\n",
    "data.head()\n"
   ]
  },
  {
   "attachments": {},
   "cell_type": "markdown",
   "metadata": {},
   "source": [
    "#### Dataset Statistics"
   ]
  },
  {
   "cell_type": "code",
   "execution_count": 3,
   "metadata": {},
   "outputs": [
    {
     "name": "stdout",
     "output_type": "stream",
     "text": [
      "Data types:\n",
      "mtype     object\n",
      "tokens    object\n",
      "label      int64\n",
      "dtype: object\n",
      "\n",
      "There are 2 comment types: [1 0]\n"
     ]
    },
    {
     "data": {
      "image/png": "[encoded data removed]",
      "text/plain": [
       "<Figure size 640x480 with 1 Axes>"
      ]
     },
     "metadata": {},
     "output_type": "display_data"
    }
   ],
   "source": [
    "print(f\"Data types:\\n{data.dtypes}\\n\")\n",
    "print(f\"There are {len(data['label'].unique())} comment types: {data['label'].unique()}\")\n",
    "\n",
    "data.groupby(\"label\").label.count().plot.bar(ylim=0)\n",
    "plt.xticks([0,1],['not algebra-precalculus', 'algebra-precalculus'], rotation=0)\n",
    "plt.xlabel(\"category\")\n",
    "plt.ylabel(\"number of formulas\")\n",
    "plt.title(\"Dataset distribution\", pad=20)\n",
    "plt.show()"
   ]
  },
  {
   "attachments": {},
   "cell_type": "markdown",
   "metadata": {},
   "source": [
    "#### Preprocessing\n"
   ]
  },
  {
   "cell_type": "code",
   "execution_count": 4,
   "metadata": {},
   "outputs": [],
   "source": [
    "def preprocess_data(corpus,\n",
    "                    irrelevant_features=[\"mtype\",]):\n",
    "    # drop irrelevant columns\n",
    "    corpus.drop(irrelevant_features, inplace=True, axis=1)\n",
    "\n",
    "    # filter strings\n",
    "    def process_cell(cell_str):\n",
    "        stripped_f_str = cell_str[1:-1].replace(\"\\\\\\\\\", \"\\\\\")\n",
    "        f_list = stripped_f_str.split(\",\")\n",
    "        f_list = [token.replace(\"'\", \"\").replace(\" \", \"\") for token in f_list]\n",
    "        f_list = [\"{\" if token == \"\\\\{\" else token for token in f_list]\n",
    "        f_list = [\"}\" if token == \"\\\\}\" else token for token in f_list]\n",
    "        cell_str = \" \".join(f_list)\n",
    "        return cell_str\n",
    "\n",
    "    corpus[\"tokens\"] = corpus[\"tokens\"].map(process_cell)"
   ]
  },
  {
   "cell_type": "code",
   "execution_count": 5,
   "metadata": {},
   "outputs": [
    {
     "data": {
      "text/html": [
       "<div>\n",
       "<style scoped>\n",
       "    .dataframe tbody tr th:only-of-type {\n",
       "        vertical-align: middle;\n",
       "    }\n",
       "\n",
       "    .dataframe tbody tr th {\n",
       "        vertical-align: top;\n",
       "    }\n",
       "\n",
       "    .dataframe thead th {\n",
       "        text-align: right;\n",
       "    }\n",
       "</style>\n",
       "<table border=\"1\" class=\"dataframe\">\n",
       "  <thead>\n",
       "    <tr style=\"text-align: right;\">\n",
       "      <th></th>\n",
       "      <th>tokens</th>\n",
       "      <th>label</th>\n",
       "    </tr>\n",
       "  </thead>\n",
       "  <tbody>\n",
       "    <tr>\n",
       "      <th>0</th>\n",
       "      <td>{ a }</td>\n",
       "      <td>1</td>\n",
       "    </tr>\n",
       "    <tr>\n",
       "      <th>1</th>\n",
       "      <td>3 r</td>\n",
       "      <td>1</td>\n",
       "    </tr>\n",
       "    <tr>\n",
       "      <th>2</th>\n",
       "      <td>f</td>\n",
       "      <td>1</td>\n",
       "    </tr>\n",
       "    <tr>\n",
       "      <th>3</th>\n",
       "      <td>\\binom { 4 } { 4 }</td>\n",
       "      <td>1</td>\n",
       "    </tr>\n",
       "    <tr>\n",
       "      <th>4</th>\n",
       "      <td>1</td>\n",
       "      <td>1</td>\n",
       "    </tr>\n",
       "  </tbody>\n",
       "</table>\n",
       "</div>"
      ],
      "text/plain": [
       "               tokens  label\n",
       "0               { a }      1\n",
       "1                 3 r      1\n",
       "2                   f      1\n",
       "3  \\binom { 4 } { 4 }      1\n",
       "4                   1      1"
      ]
     },
     "execution_count": 5,
     "metadata": {},
     "output_type": "execute_result"
    }
   ],
   "source": [
    "preprocess_data(data)\n",
    "data.head()"
   ]
  },
  {
   "attachments": {},
   "cell_type": "markdown",
   "metadata": {},
   "source": [
    "#### Representation 1"
   ]
  },
  {
   "cell_type": "code",
   "execution_count": 6,
   "metadata": {},
   "outputs": [
    {
     "name": "stdout",
     "output_type": "stream",
     "text": [
      "['!' '(' ')' '*' '+' '-' '/' '0' '1' '2' '3' '4' '5' '6' '7' '8' '9' ':'\n",
      " '=' '[' '\\\\arccos' '\\\\arcsin' '\\\\arctan' '\\\\binom' '\\\\cap' '\\\\cdot'\n",
      " '\\\\circ' '\\\\colon' '\\\\cos' '\\\\cosh' '\\\\cot' '\\\\cup' '\\\\dbinom' '\\\\dfrac'\n",
      " '\\\\div' '\\\\exp' '\\\\frac' '\\\\ln' '\\\\log' '\\\\mathbb' '\\\\mathbb{c}'\n",
      " '\\\\mathbb{n}' '\\\\mathbb{q}' '\\\\mathbb{r}' '\\\\mathbb{z}' '\\\\rightarrow'\n",
      " '\\\\sin' '\\\\sinh' '\\\\tanh' '\\\\tfrac' '\\\\times' '\\\\to' '\\\\varnothing' ']'\n",
      " '^' 'a' 'b' 'c' 'd' 'e' 'f' 'g' 'h' 'i' 'j' 'k' 'l' 'm' 'n' 'o' 'p' 'q'\n",
      " 'r' 's' 't' 'u' 'v' 'w' 'x' 'y' 'z' '{' '}']\n",
      "83\n"
     ]
    }
   ],
   "source": [
    "# binary based vectorizer\n",
    "vectorizer = CountVectorizer(binary=True, token_pattern = r\"[^\\s]+\", max_df=0.95) #max_features=10000, tokenizer=lambda doc: doc)\n",
    "bow1 = vectorizer.fit_transform(data[\"tokens\"])\n",
    "feature_names = vectorizer.get_feature_names_out() \n",
    "print(feature_names)\n",
    "print(len(feature_names))"
   ]
  },
  {
   "cell_type": "code",
   "execution_count": 7,
   "metadata": {},
   "outputs": [
    {
     "name": "stdout",
     "output_type": "stream",
     "text": [
      "Formula String:  { a }\n",
      "Vector Representation:  [[0 0 0 0 0 0 0 0 0 0 0 0 0 0 0 0 0 0 0 0 0 0 0 0 0 0 0 0 0 0 0 0 0 0 0 0\n",
      "  0 0 0 0 0 0 0 0 0 0 0 0 0 0 0 0 0 0 0 1 0 0 0 0 0 0 0 0 0 0 0 0 0 0 0 0\n",
      "  0 0 0 0 0 0 0 0 0 1 1]]\n",
      "Formula String:  \\binom { 4 } { 4 }\n",
      "Vector Representation:  [[0 0 0 0 0 0 0 0 0 0 0 1 0 0 0 0 0 0 0 0 0 0 0 1 0 0 0 0 0 0 0 0 0 0 0 0\n",
      "  0 0 0 0 0 0 0 0 0 0 0 0 0 0 0 0 0 0 0 0 0 0 0 0 0 0 0 0 0 0 0 0 0 0 0 0\n",
      "  0 0 0 0 0 0 0 0 0 1 1]]\n"
     ]
    }
   ],
   "source": [
    "print(\"Formula String: \",data[\"tokens\"][0])\n",
    "print(\"Vector Representation: \",bow1[0].toarray())\n",
    "print(\"Formula String: \",data[\"tokens\"][3])\n",
    "print(\"Vector Representation: \",bow1[3].toarray())"
   ]
  },
  {
   "attachments": {},
   "cell_type": "markdown",
   "metadata": {},
   "source": [
    "#### Representation 2"
   ]
  },
  {
   "cell_type": "code",
   "execution_count": 8,
   "metadata": {},
   "outputs": [
    {
     "name": "stdout",
     "output_type": "stream",
     "text": [
      "['!' '(' ')' '*' '+' '-' '/' '0' '1' '2' '3' '4' '5' '6' '7' '8' '9' ':'\n",
      " '=' '[' '\\\\arccos' '\\\\arcsin' '\\\\arctan' '\\\\binom' '\\\\cap' '\\\\cdot'\n",
      " '\\\\circ' '\\\\colon' '\\\\cos' '\\\\cosh' '\\\\cot' '\\\\cup' '\\\\dbinom' '\\\\dfrac'\n",
      " '\\\\div' '\\\\exp' '\\\\frac' '\\\\ln' '\\\\log' '\\\\mathbb' '\\\\mathbb{c}'\n",
      " '\\\\mathbb{n}' '\\\\mathbb{q}' '\\\\mathbb{r}' '\\\\mathbb{z}' '\\\\rightarrow'\n",
      " '\\\\sin' '\\\\sinh' '\\\\tanh' '\\\\tfrac' '\\\\times' '\\\\to' '\\\\varnothing' ']'\n",
      " '^' 'a' 'b' 'c' 'd' 'e' 'f' 'g' 'h' 'i' 'j' 'k' 'l' 'm' 'n' 'o' 'p' 'q'\n",
      " 'r' 's' 't' 'u' 'v' 'w' 'x' 'y' 'z' '{' '}']\n",
      "83\n"
     ]
    }
   ],
   "source": [
    "# count based vectorizer\n",
    "vectorizer2 = CountVectorizer(binary=False, token_pattern = r\"[^\\s]+\", max_df=0.95) # max_df=0.95\n",
    "bow2 = vectorizer2.fit_transform(data[\"tokens\"])\n",
    "feature_names = vectorizer2.get_feature_names_out()\n",
    "print(feature_names)\n",
    "print(len(feature_names))"
   ]
  },
  {
   "cell_type": "code",
   "execution_count": 9,
   "metadata": {},
   "outputs": [
    {
     "name": "stdout",
     "output_type": "stream",
     "text": [
      "Formula String:  { a }\n",
      "Vector Representation:  [[0 0 0 0 0 0 0 0 0 0 0 0 0 0 0 0 0 0 0 0 0 0 0 0 0 0 0 0 0 0 0 0 0 0 0 0\n",
      "  0 0 0 0 0 0 0 0 0 0 0 0 0 0 0 0 0 0 0 1 0 0 0 0 0 0 0 0 0 0 0 0 0 0 0 0\n",
      "  0 0 0 0 0 0 0 0 0 1 1]]\n",
      "Formula String:  \\binom { 4 } { 4 }\n",
      "Vector Representation:  [[0 0 0 0 0 0 0 0 0 0 0 2 0 0 0 0 0 0 0 0 0 0 0 1 0 0 0 0 0 0 0 0 0 0 0 0\n",
      "  0 0 0 0 0 0 0 0 0 0 0 0 0 0 0 0 0 0 0 0 0 0 0 0 0 0 0 0 0 0 0 0 0 0 0 0\n",
      "  0 0 0 0 0 0 0 0 0 2 2]]\n"
     ]
    }
   ],
   "source": [
    "print(\"Formula String: \",data[\"tokens\"][0])\n",
    "print(\"Vector Representation: \",bow2[0].toarray())\n",
    "print(\"Formula String: \",data[\"tokens\"][3])\n",
    "print(\"Vector Representation: \",bow2[3].toarray())"
   ]
  },
  {
   "attachments": {},
   "cell_type": "markdown",
   "metadata": {},
   "source": [
    "#### Representation 3"
   ]
  },
  {
   "cell_type": "code",
   "execution_count": 10,
   "metadata": {},
   "outputs": [
    {
     "name": "stdout",
     "output_type": "stream",
     "text": [
      "['   ' '  !' '  (' '  )' '  *' '  +' '  -' '  /' '  0' '  1' '  2' '  3'\n",
      " '  4' '  5' '  6' '  7' '  8' '  9' '  :' '  =' '  [' '  \\\\' '  ]' '  ^'\n",
      " '  a' '  b' '  c' '  d' '  e' '  f' '  g' '  h' '  i' '  j' '  k' '  l'\n",
      " '  m' '  n' '  o' '  p' '  q' '  r' '  s' '  t' '  u' '  v' '  w' '  x'\n",
      " '  y' '  z' '  {' '  }' '!  ' '(  ' ')  ' '*  ' '+  ' '-  ' '/  ' '0  '\n",
      " '1  ' '2  ' '3  ' '4  ' '5  ' '6  ' '7  ' '8  ' '9  ' ':  ' '=  ' '[  '\n",
      " '\\\\ a' '\\\\ b' '\\\\ c' '\\\\ d' '\\\\ e' '\\\\ f' '\\\\ l' '\\\\ m' '\\\\ r' '\\\\ s'\n",
      " '\\\\ t' '\\\\ v' ']  ' '^  ' 'a  ' 'a c' 'a n' 'a p' 'a r' 'a t' 'b  ' 'b b'\n",
      " 'b i' 'b {' 'c  ' 'c a' 'c c' 'c d' 'c i' 'c o' 'c s' 'c t' 'c u' 'c }'\n",
      " 'd  ' 'd b' 'd f' 'd i' 'd o' 'e  ' 'e s' 'e x' 'f  ' 'f r' 'g  ' 'g h'\n",
      " 'h  ' 'h b' 'h i' 'h t' 'i  ' 'i g' 'i m' 'i n' 'i r' 'i v' 'j  ' 'k  '\n",
      " 'l  ' 'l n' 'l o' 'm  ' 'm a' 'm e' 'n  ' 'n g' 'n h' 'n o' 'n }' 'o  '\n",
      " 'o g' 'o l' 'o m' 'o n' 'o s' 'o t' 'o w' 'p  ' 'q  ' 'q }' 'r  ' 'r a'\n",
      " 'r c' 'r i' 'r n' 'r o' 'r r' 'r }' 's  ' 's h' 's i' 't  ' 't a' 't f'\n",
      " 't h' 't i' 't o' 'u  ' 'u p' 'v  ' 'v a' 'w  ' 'x  ' 'x p' 'y  ' 'z  '\n",
      " 'z }' '{  ' '{ c' '{ n' '{ q' '{ r' '{ z' '}  ']\n",
      "186\n"
     ]
    },
    {
     "name": "stderr",
     "output_type": "stream",
     "text": [
      "/home/paul_d/Sources/sem_math_bin_classifiers/sem_mcl_env/lib/python3.10/site-packages/sklearn/feature_extraction/text.py:528: UserWarning: The parameter 'token_pattern' will not be used since 'tokenizer' is not None'\n",
      "  warnings.warn(\n"
     ]
    }
   ],
   "source": [
    "# count based vectorizer\n",
    "vectorizer3 = CountVectorizer(token_pattern = r\"[^\\s]+\", tokenizer=lambda doc: doc, ngram_range=(2,2), max_df=0.95) # max_df=0.95\n",
    "bow3 = vectorizer3.fit_transform(data[\"tokens\"])\n",
    "feature_names = vectorizer3.get_feature_names_out()\n",
    "print(feature_names)\n",
    "print(len(feature_names))"
   ]
  },
  {
   "cell_type": "code",
   "execution_count": 11,
   "metadata": {},
   "outputs": [
    {
     "name": "stdout",
     "output_type": "stream",
     "text": [
      "Formula String:  { a }\n",
      "Vector Representation:  [[0 0 0 0 0 0 0 0 0 0 0 0 0 0 0 0 0 0 0 0 0 0 0 0 1 0 0 0 0 0 0 0 0 0 0 0\n",
      "  0 0 0 0 0 0 0 0 0 0 0 0 0 0 0 1 0 0 0 0 0 0 0 0 0 0 0 0 0 0 0 0 0 0 0 0\n",
      "  0 0 0 0 0 0 0 0 0 0 0 0 0 0 1 0 0 0 0 0 0 0 0 0 0 0 0 0 0 0 0 0 0 0 0 0\n",
      "  0 0 0 0 0 0 0 0 0 0 0 0 0 0 0 0 0 0 0 0 0 0 0 0 0 0 0 0 0 0 0 0 0 0 0 0\n",
      "  0 0 0 0 0 0 0 0 0 0 0 0 0 0 0 0 0 0 0 0 0 0 0 0 0 0 0 0 0 0 0 0 0 0 0 1\n",
      "  0 0 0 0 0 0]]\n",
      "Formula String:  \\binom { 4 } { 4 }\n",
      "Vector Representation:  [[0 0 0 0 0 0 0 0 0 0 0 0 2 0 0 0 0 0 0 0 0 0 0 0 0 0 0 0 0 0 0 0 0 0 0 0\n",
      "  0 0 0 0 0 0 0 0 0 0 0 0 0 0 2 2 0 0 0 0 0 0 0 0 0 0 0 2 0 0 0 0 0 0 0 0\n",
      "  0 1 0 0 0 0 0 0 0 0 0 0 0 0 0 0 0 0 0 0 0 0 1 0 0 0 0 0 0 0 0 0 0 0 0 0\n",
      "  0 0 0 0 0 0 0 0 0 0 0 0 0 0 0 0 0 1 0 0 0 0 0 0 0 1 0 0 0 0 0 1 0 0 0 0\n",
      "  1 0 0 0 0 0 0 0 0 0 0 0 0 0 0 0 0 0 0 0 0 0 0 0 0 0 0 0 0 0 0 0 0 0 0 2\n",
      "  0 0 0 0 0 1]]\n"
     ]
    }
   ],
   "source": [
    "print(\"Formula String: \",data[\"tokens\"][0])\n",
    "print(\"Vector Representation: \",bow3[0].toarray())\n",
    "print(\"Formula String: \",data[\"tokens\"][3])\n",
    "print(\"Vector Representation: \",bow3[3].toarray())"
   ]
  },
  {
   "attachments": {},
   "cell_type": "markdown",
   "metadata": {},
   "source": [
    "#### Representation 4"
   ]
  },
  {
   "cell_type": "code",
   "execution_count": 12,
   "metadata": {},
   "outputs": [
    {
     "name": "stdout",
     "output_type": "stream",
     "text": [
      "['!' '(' ')' '*' '+' '-' '/' '0' '1' '2' '3' '4' '5' '6' '7' '8' '9' ':'\n",
      " '=' '[' '\\\\arccos' '\\\\arcsin' '\\\\arctan' '\\\\binom' '\\\\cap' '\\\\cdot'\n",
      " '\\\\circ' '\\\\colon' '\\\\cos' '\\\\cosh' '\\\\cot' '\\\\cup' '\\\\dbinom' '\\\\dfrac'\n",
      " '\\\\div' '\\\\exp' '\\\\frac' '\\\\ln' '\\\\log' '\\\\mathbb' '\\\\mathbb{c}'\n",
      " '\\\\mathbb{n}' '\\\\mathbb{q}' '\\\\mathbb{r}' '\\\\mathbb{z}' '\\\\rightarrow'\n",
      " '\\\\sin' '\\\\sinh' '\\\\tanh' '\\\\tfrac' '\\\\times' '\\\\to' '\\\\varnothing' ']'\n",
      " '^' 'a' 'b' 'c' 'd' 'e' 'f' 'g' 'h' 'i' 'j' 'k' 'l' 'm' 'n' 'o' 'p' 'q'\n",
      " 'r' 's' 't' 'u' 'v' 'w' 'x' 'y' 'z' '{' '}']\n",
      "83\n"
     ]
    }
   ],
   "source": [
    "# count based vectorizer\n",
    "vectorizer4 = TfidfVectorizer(use_idf=True, token_pattern = r\"[^\\s]+\", max_df=0.95) # max_df=0.95\n",
    "bow4 = vectorizer4.fit_transform(data[\"tokens\"])\n",
    "feature_names = vectorizer4.get_feature_names_out()\n",
    "print(feature_names)\n",
    "print(len(feature_names))"
   ]
  },
  {
   "cell_type": "code",
   "execution_count": 13,
   "metadata": {},
   "outputs": [
    {
     "name": "stdout",
     "output_type": "stream",
     "text": [
      "Formula String:  { a }\n",
      "Vector Representation:  [[0.         0.         0.         0.         0.         0.\n",
      "  0.         0.         0.         0.         0.         0.\n",
      "  0.         0.         0.         0.         0.         0.\n",
      "  0.         0.         0.         0.         0.         0.\n",
      "  0.         0.         0.         0.         0.         0.\n",
      "  0.         0.         0.         0.         0.         0.\n",
      "  0.         0.         0.         0.         0.         0.\n",
      "  0.         0.         0.         0.         0.         0.\n",
      "  0.         0.         0.         0.         0.         0.\n",
      "  0.         0.57624899 0.         0.         0.         0.\n",
      "  0.         0.         0.         0.         0.         0.\n",
      "  0.         0.         0.         0.         0.         0.\n",
      "  0.         0.         0.         0.         0.         0.\n",
      "  0.         0.         0.         0.57790012 0.57790012]]\n",
      "Formula String:  \\binom { 4 } { 4 }\n",
      "Vector Representation:  [[0.         0.         0.         0.         0.         0.\n",
      "  0.         0.         0.         0.         0.         0.5626066\n",
      "  0.         0.         0.         0.         0.         0.\n",
      "  0.         0.         0.         0.         0.         0.52654476\n",
      "  0.         0.         0.         0.         0.         0.\n",
      "  0.         0.         0.         0.         0.         0.\n",
      "  0.         0.         0.         0.         0.         0.\n",
      "  0.         0.         0.         0.         0.         0.\n",
      "  0.         0.         0.         0.         0.         0.\n",
      "  0.         0.         0.         0.         0.         0.\n",
      "  0.         0.         0.         0.         0.         0.\n",
      "  0.         0.         0.         0.         0.         0.\n",
      "  0.         0.         0.         0.         0.         0.\n",
      "  0.         0.         0.         0.45067973 0.45067973]]\n"
     ]
    }
   ],
   "source": [
    "print(\"Formula String: \",data[\"tokens\"][0])\n",
    "print(\"Vector Representation: \",bow4[0].toarray())\n",
    "print(\"Formula String: \",data[\"tokens\"][3])\n",
    "print(\"Vector Representation: \",bow4[3].toarray())"
   ]
  },
  {
   "attachments": {},
   "cell_type": "markdown",
   "metadata": {},
   "source": [
    "#### Model"
   ]
  },
  {
   "cell_type": "code",
   "execution_count": 16,
   "metadata": {},
   "outputs": [],
   "source": [
    "def split_data(features, labels):\n",
    "    return train_test_split(features,labels, test_size=0.3,random_state=42,shuffle=True)\n",
    "\n",
    "\"\"\"\n",
    "def save_model(model):\n",
    "    now = datetime.datetime.now()\n",
    "    model_output_path = \"saved_models/\"+model.__class__.__name__.lower()+\"_\"+str(now.minute)+\"-\"+str(now.second)+\".joblib\"\n",
    "    joblib.dump(model, open(model_output_path, 'wb+'))\n",
    "\"\"\"\n",
    "\n",
    "    \n",
    "def report(model, best_model, X_test, y_test, labels):\n",
    "    print(f\"Best parameters set {model.best_params_} with accuracy {model.best_score_}\")\n",
    "    y_predict = best_model.predict(X_test)\n",
    "    \n",
    "    labels = sorted(list(set(labels)))\n",
    "    print(\"\\nConfusion matrix:\")\n",
    "    cm = confusion_matrix(y_test, y_predict, labels=labels) # lables=clf.classes_\n",
    "    disp = ConfusionMatrixDisplay(confusion_matrix=cm, display_labels=labels)\n",
    "    disp.plot()\n",
    "    plt.show()\n",
    "    \n",
    "    print(\"\\nClassification report:\")\n",
    "    print(classification_report(y_test, y_predict))\n",
    "    \n",
    "    print(\"\\nAccuracy: {}%\".format(accuracy_score(y_test, y_predict)*100))\n",
    "    print(\"Precision: {}%\".format(sklearn.metrics.precision_score(y_test, y_predict)*100))\n",
    "    print(\"Recall: {}%\".format(sklearn.metrics.recall_score(y_test, y_predict)*100))\n",
    "\n",
    "    \n",
    "def train_nb_classifier(features, labels):\n",
    "    # split data\n",
    "    X_train, X_test, y_train, y_test = split_data(features, labels)\n",
    "\n",
    "    param = {'alpha': [0.01, 0.1, 0.5, 1.0, 10.0, ],\n",
    "             'fit_prior': [True, False]\n",
    "            }\n",
    "\n",
    "    clf = GridSearchCV(MultinomialNB(), param, cv=5, n_jobs=2, verbose=0)\n",
    "    \n",
    "    clf.fit(X_train, y_train)\n",
    "    nb_clf = clf.best_estimator_\n",
    "    \n",
    "    # save model to disk\n",
    "    #save_model(nb_clf)\n",
    "    \n",
    "    # show test report\n",
    "    report(clf, nb_clf, X_test, y_test, labels)"
   ]
  },
  {
   "attachments": {},
   "cell_type": "markdown",
   "metadata": {},
   "source": [
    "#### 1. Using binary BOW representation"
   ]
  },
  {
   "cell_type": "code",
   "execution_count": 17,
   "metadata": {},
   "outputs": [
    {
     "name": "stdout",
     "output_type": "stream",
     "text": [
      "Best parameters set {'alpha': 0.5, 'fit_prior': False} with accuracy 0.609678388226943\n",
      "\n",
      "Confusion matrix:\n"
     ]
    },
    {
     "data": {
      "image/png": "[encoded data removed]",
      "text/plain": [
       "<Figure size 640x480 with 2 Axes>"
      ]
     },
     "metadata": {},
     "output_type": "display_data"
    },
    {
     "name": "stdout",
     "output_type": "stream",
     "text": [
      "\n",
      "Classification report:\n",
      "              precision    recall  f1-score   support\n",
      "\n",
      "           0       0.60      0.61      0.61      1617\n",
      "           1       0.62      0.60      0.61      1678\n",
      "\n",
      "    accuracy                           0.61      3295\n",
      "   macro avg       0.61      0.61      0.61      3295\n",
      "weighted avg       0.61      0.61      0.61      3295\n",
      "\n",
      "\n",
      "Accuracy: 60.849772382397575%\n",
      "Precision: 61.858190709046454%\n",
      "Recall: 60.30989272943981%\n"
     ]
    }
   ],
   "source": [
    "train_nb_classifier(bow1, np.asarray(data[\"label\"]))"
   ]
  },
  {
   "attachments": {},
   "cell_type": "markdown",
   "metadata": {},
   "source": [
    "#### 2. Using non-binary BOW representation"
   ]
  },
  {
   "cell_type": "code",
   "execution_count": 18,
   "metadata": {},
   "outputs": [
    {
     "name": "stdout",
     "output_type": "stream",
     "text": [
      "Best parameters set {'alpha': 0.5, 'fit_prior': True} with accuracy 0.6072062087071144\n",
      "\n",
      "Confusion matrix:\n"
     ]
    },
    {
     "data": {
      "image/png": "[encoded data removed]",
      "text/plain": [
       "<Figure size 640x480 with 2 Axes>"
      ]
     },
     "metadata": {},
     "output_type": "display_data"
    },
    {
     "name": "stdout",
     "output_type": "stream",
     "text": [
      "\n",
      "Classification report:\n",
      "              precision    recall  f1-score   support\n",
      "\n",
      "           0       0.57      0.70      0.63      1617\n",
      "           1       0.63      0.49      0.56      1678\n",
      "\n",
      "    accuracy                           0.60      3295\n",
      "   macro avg       0.60      0.60      0.59      3295\n",
      "weighted avg       0.60      0.60      0.59      3295\n",
      "\n",
      "\n",
      "Accuracy: 59.7268588770865%\n",
      "Precision: 63.40718105423988%\n",
      "Recall: 49.463647199046484%\n"
     ]
    }
   ],
   "source": [
    "train_nb_classifier(bow2, np.asarray(data[\"label\"]))"
   ]
  },
  {
   "attachments": {},
   "cell_type": "markdown",
   "metadata": {},
   "source": [
    "#### 3. Using B-of-2Grams representation"
   ]
  },
  {
   "cell_type": "code",
   "execution_count": 19,
   "metadata": {},
   "outputs": [
    {
     "name": "stdout",
     "output_type": "stream",
     "text": [
      "Best parameters set {'alpha': 0.5, 'fit_prior': False} with accuracy 0.5922452077197654\n",
      "\n",
      "Confusion matrix:\n"
     ]
    },
    {
     "data": {
      "image/png": "[encoded data removed]",
      "text/plain": [
       "<Figure size 640x480 with 2 Axes>"
      ]
     },
     "metadata": {},
     "output_type": "display_data"
    },
    {
     "name": "stdout",
     "output_type": "stream",
     "text": [
      "\n",
      "Classification report:\n",
      "              precision    recall  f1-score   support\n",
      "\n",
      "           0       0.56      0.79      0.65      1617\n",
      "           1       0.66      0.39      0.49      1678\n",
      "\n",
      "    accuracy                           0.59      3295\n",
      "   macro avg       0.61      0.59      0.57      3295\n",
      "weighted avg       0.61      0.59      0.57      3295\n",
      "\n",
      "\n",
      "Accuracy: 58.907435508345976%\n",
      "Precision: 66.2%\n",
      "Recall: 39.45172824791419%\n"
     ]
    }
   ],
   "source": [
    "train_nb_classifier(bow3, np.asarray(data[\"label\"]))"
   ]
  },
  {
   "attachments": {},
   "cell_type": "markdown",
   "metadata": {},
   "source": [
    "#### 4. Using TF-IDF representation"
   ]
  },
  {
   "cell_type": "code",
   "execution_count": 20,
   "metadata": {},
   "outputs": [
    {
     "name": "stdout",
     "output_type": "stream",
     "text": [
      "Best parameters set {'alpha': 0.5, 'fit_prior': True} with accuracy 0.6098091040845111\n",
      "\n",
      "Confusion matrix:\n"
     ]
    },
    {
     "data": {
      "image/png": "[encoded data removed]",
      "text/plain": [
       "<Figure size 640x480 with 2 Axes>"
      ]
     },
     "metadata": {},
     "output_type": "display_data"
    },
    {
     "name": "stdout",
     "output_type": "stream",
     "text": [
      "\n",
      "Classification report:\n",
      "              precision    recall  f1-score   support\n",
      "\n",
      "           0       0.60      0.62      0.61      1617\n",
      "           1       0.62      0.59      0.61      1678\n",
      "\n",
      "    accuracy                           0.61      3295\n",
      "   macro avg       0.61      0.61      0.61      3295\n",
      "weighted avg       0.61      0.61      0.61      3295\n",
      "\n",
      "\n",
      "Accuracy: 60.91047040971168%\n",
      "Precision: 62.14196762141968%\n",
      "Recall: 59.475566150178786%\n"
     ]
    }
   ],
   "source": [
    "train_nb_classifier(bow4, np.asarray(data[\"label\"]))"
   ]
  },
  {
   "cell_type": "code",
   "execution_count": null,
   "metadata": {},
   "outputs": [],
   "source": []
  }
 ],
 "metadata": {
  "kernelspec": {
   "display_name": "sem_math_env",
   "language": "python",
   "name": "python3"
  },
  "language_info": {
   "codemirror_mode": {
    "name": "ipython",
    "version": 3
   },
   "file_extension": ".py",
   "mimetype": "text/x-python",
   "name": "python",
   "nbconvert_exporter": "python",
   "pygments_lexer": "ipython3",
   "version": "3.10.9 (main, Dec  7 2022, 01:12:00) [GCC 9.4.0]"
  },
  "orig_nbformat": 4,
  "vscode": {
   "interpreter": {
    "hash": "e475bf32faa723a86579ec24c4297aa7888421b748796abf349c5564eb9c10ae"
   }
  }
 },
 "nbformat": 4,
 "nbformat_minor": 2
}
