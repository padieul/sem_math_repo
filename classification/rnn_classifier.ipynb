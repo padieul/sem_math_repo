{
 "cells": [
  {
   "cell_type": "code",
   "execution_count": 1,
   "metadata": {},
   "outputs": [],
   "source": [
    "import os\n",
    "\n",
    "# takes care of annoying TF-GPU warnings\n",
    "os.environ[\"CUDA_VISIBLE_DEVICES\"] = \"-1\"\n",
    "os.environ[\"TF_CPP_MIN_LOG_LEVEL\"] = \"3\""
   ]
  },
  {
   "cell_type": "code",
   "execution_count": 2,
   "metadata": {},
   "outputs": [],
   "source": [
    "# very useful for managing wandb runs: https://stackoverflow.com/questions/71106179/log-two-model-runs-with-keras-wandb\n",
    "import wandb\n",
    "from wandb.keras import WandbCallback\n",
    "os.environ[\"WANDB_SILENT\"] = \"true\""
   ]
  },
  {
   "attachments": {},
   "cell_type": "markdown",
   "metadata": {},
   "source": [
    "#### RNN: Formula Label Prediction "
   ]
  },
  {
   "cell_type": "code",
   "execution_count": 3,
   "metadata": {},
   "outputs": [],
   "source": [
    "import numpy as np \n",
    "import pandas as pd\n",
    "from pathlib import Path \n",
    "\n",
    "import tensorflow as tf\n",
    "\n",
    "from tensorflow.keras import layers \n",
    "from tensorflow.keras import utils\n",
    "\n",
    "import tensorflow_datasets as tfds\n",
    "import tensorflow_text as tf_text\n",
    "\n",
    "import datetime\n",
    "\n",
    "tfds.disable_progress_bar()"
   ]
  },
  {
   "cell_type": "code",
   "execution_count": 4,
   "metadata": {},
   "outputs": [],
   "source": [
    "import matplotlib.pyplot as plt\n",
    "\n",
    "def plot_graphs(history, metric):\n",
    "    plt.plot(history.history[metric])\n",
    "    plt.plot(history.history[\"val_\"+metric], \"\")\n",
    "    plt.xlabel(\"Epochs\")\n",
    "    plt.ylabel(metric)\n",
    "    plt.legend([metric, \"val_\"+metric])"
   ]
  },
  {
   "attachments": {},
   "cell_type": "markdown",
   "metadata": {},
   "source": [
    "#### Import Data and Preprocess Dataframe"
   ]
  },
  {
   "cell_type": "code",
   "execution_count": 5,
   "metadata": {},
   "outputs": [],
   "source": [
    "def preprocess_data(corpus,\n",
    "                    irrelevant_features=[\"mtype\",]):\n",
    "    # drop irrelevant columns\n",
    "    corpus.drop(irrelevant_features, inplace=True, axis=1)\n",
    "\n",
    "    # filter strings\n",
    "    def process_cell(cell_str):\n",
    "        stripped_f_str = cell_str[1:-1].replace(\"\\\\\\\\\", \"\\\\\")\n",
    "        f_list = stripped_f_str.split(\",\")\n",
    "        f_list = [token.replace(\"'\", \"\").replace(\" \", \"\") for token in f_list]\n",
    "        f_list = [\"{\" if token == \"\\\\{\" else token for token in f_list]\n",
    "        f_list = [\"}\" if token == \"\\\\}\" else token for token in f_list]\n",
    "        cell_str = \" \".join(f_list)\n",
    "        return cell_str\n",
    "\n",
    "    corpus[\"tokens\"] = corpus[\"tokens\"].map(process_cell)"
   ]
  },
  {
   "cell_type": "code",
   "execution_count": 6,
   "metadata": {},
   "outputs": [
    {
     "data": {
      "text/html": [
       "<div>\n",
       "<style scoped>\n",
       "    .dataframe tbody tr th:only-of-type {\n",
       "        vertical-align: middle;\n",
       "    }\n",
       "\n",
       "    .dataframe tbody tr th {\n",
       "        vertical-align: top;\n",
       "    }\n",
       "\n",
       "    .dataframe thead th {\n",
       "        text-align: right;\n",
       "    }\n",
       "</style>\n",
       "<table border=\"1\" class=\"dataframe\">\n",
       "  <thead>\n",
       "    <tr style=\"text-align: right;\">\n",
       "      <th></th>\n",
       "      <th>tokens</th>\n",
       "      <th>label</th>\n",
       "    </tr>\n",
       "  </thead>\n",
       "  <tbody>\n",
       "    <tr>\n",
       "      <th>0</th>\n",
       "      <td>{ a }</td>\n",
       "      <td>1</td>\n",
       "    </tr>\n",
       "    <tr>\n",
       "      <th>1</th>\n",
       "      <td>3 r</td>\n",
       "      <td>1</td>\n",
       "    </tr>\n",
       "    <tr>\n",
       "      <th>2</th>\n",
       "      <td>f</td>\n",
       "      <td>1</td>\n",
       "    </tr>\n",
       "    <tr>\n",
       "      <th>3</th>\n",
       "      <td>\\binom { 4 } { 4 }</td>\n",
       "      <td>1</td>\n",
       "    </tr>\n",
       "    <tr>\n",
       "      <th>4</th>\n",
       "      <td>1</td>\n",
       "      <td>1</td>\n",
       "    </tr>\n",
       "  </tbody>\n",
       "</table>\n",
       "</div>"
      ],
      "text/plain": [
       "               tokens  label\n",
       "0               { a }      1\n",
       "1                 3 r      1\n",
       "2                   f      1\n",
       "3  \\binom { 4 } { 4 }      1\n",
       "4                   1      1"
      ]
     },
     "execution_count": 6,
     "metadata": {},
     "output_type": "execute_result"
    }
   ],
   "source": [
    "data_p = Path(\"data/\") / \"bin_class_data_TOKENIZED_V1.csv\"\n",
    "data = pd.read_csv(data_p)\n",
    "preprocess_data(data)\n",
    "data.head()\n"
   ]
  },
  {
   "cell_type": "code",
   "execution_count": 7,
   "metadata": {},
   "outputs": [],
   "source": [
    "DATASET_SIZE = 11000\n",
    "data_as_ds = tf.data.Dataset.from_tensor_slices((data[\"tokens\"], data[\"label\"])) \n",
    "test_dataset = data_as_ds.take(1000)\n",
    "train_dataset = data_as_ds.skip(1000)"
   ]
  },
  {
   "attachments": {},
   "cell_type": "markdown",
   "metadata": {},
   "source": [
    "##### Setup and Data Preparation"
   ]
  },
  {
   "cell_type": "code",
   "execution_count": 8,
   "metadata": {},
   "outputs": [
    {
     "name": "stdout",
     "output_type": "stream",
     "text": [
      "text:  b'g ( x ) = x ^ 2 + 2 x'\n",
      "label:  1\n"
     ]
    }
   ],
   "source": [
    "for example, label in train_dataset.take(1):\n",
    "    print(\"text: \", example.numpy())\n",
    "    print(\"label: \", label.numpy())"
   ]
  },
  {
   "cell_type": "code",
   "execution_count": 9,
   "metadata": {},
   "outputs": [],
   "source": [
    "BUFFER_SIZE = 10000\n",
    "BATCH_SIZE = 64\n",
    "train_dataset = train_dataset.shuffle(BUFFER_SIZE).batch(BATCH_SIZE).prefetch(tf.data.AUTOTUNE)\n",
    "test_dataset = test_dataset.batch(BATCH_SIZE).prefetch(tf.data.AUTOTUNE)"
   ]
  },
  {
   "attachments": {},
   "cell_type": "markdown",
   "metadata": {},
   "source": [
    "##### Text Encoding"
   ]
  },
  {
   "cell_type": "code",
   "execution_count": 10,
   "metadata": {},
   "outputs": [],
   "source": [
    "def create_encoder(output_mode_str, n_grams):\n",
    "    VOCAB_SIZE = 1000\n",
    "    encoder = tf.keras.layers.TextVectorization(\n",
    "        standardize=None,\n",
    "        output_mode=output_mode_str,\n",
    "        ngrams = n_grams,\n",
    "        split=\"whitespace\",\n",
    "        max_tokens=VOCAB_SIZE)\n",
    "    encoder.adapt(train_dataset.map(lambda tokens, label: tokens)) # removes the label column through transformation: text, label -> text\n",
    "    return encoder"
   ]
  },
  {
   "attachments": {},
   "cell_type": "markdown",
   "metadata": {},
   "source": [
    "##### Representation 1: Use integer indices encoding"
   ]
  },
  {
   "cell_type": "code",
   "execution_count": 11,
   "metadata": {},
   "outputs": [
    {
     "name": "stdout",
     "output_type": "stream",
     "text": [
      "WARNING:tensorflow:From /home/paul_d/Sources/sem_math_bin_classifiers/sem_mcl_env/lib/python3.10/site-packages/tensorflow/python/autograph/pyct/static_analysis/liveness.py:83: Analyzer.lamba_check (from tensorflow.python.autograph.pyct.static_analysis.liveness) is deprecated and will be removed after 2023-09-23.\n",
      "Instructions for updating:\n",
      "Lambda fuctions will be no more assumed to be used in the statement where they are used, or at least in the same block. https://github.com/tensorflow/tensorflow/issues/56089\n"
     ]
    },
    {
     "data": {
      "text/plain": [
       "array(['', '[UNK]', 'f', 'x', '1', '2', '}', '{', '(', ')', '^', '+', ':',\n",
       "       '-', '\\\\to', '=', '3', 'g', 'n', 'a', 'A', '0', '4', '\\\\frac', 'b',\n",
       "       'B', '\\\\rightarrow', 'X', '5', 'y', '\\\\mathbb{R}', '\\\\mathbb{N}',\n",
       "       '\\\\mathbb', 'Y', '6', 'h', 'R', 'c', '/', '7', '\\\\colon', '9', 'p',\n",
       "       'k', 't', 'F', '8', 'm', 'i', 'S', 'd', 'e', 'N', '\\\\times', 'z',\n",
       "       's', 'C', 'q', 'r', ']', '\\\\circ', '[', '\\\\mathbb{Z}', '\\\\dfrac',\n",
       "       '\\\\mathbb{Q}', '\\\\cdot', '\\\\sin', '\\\\cup', 'T', 'u', 'Z', 'P', '!',\n",
       "       'M', '\\\\cap', 'G', 'E', 'D', 'U', 'Q', 'I', 'v', 'w', 'j', 'H',\n",
       "       '*', '\\\\varnothing', 'V', '\\\\cos', 'W', '\\\\exp', 'o', '\\\\arcsin',\n",
       "       '\\\\binom', 'l', '\\\\mathbb{C}', 'K', '\\\\ln', 'J', '\\\\arctan', 'L',\n",
       "       '\\\\cot', '\\\\cosh', 'O', '\\\\tanh', '\\\\arccos', '\\\\tfrac', '\\\\log',\n",
       "       '\\\\div', '\\\\sinh', '\\\\dbinom'], dtype='<U11')"
      ]
     },
     "execution_count": 11,
     "metadata": {},
     "output_type": "execute_result"
    }
   ],
   "source": [
    "encoder_int = create_encoder(\"int\", None)\n",
    "vocab = np.array(encoder_int.get_vocabulary())\n",
    "vocab[:200]"
   ]
  },
  {
   "cell_type": "code",
   "execution_count": 12,
   "metadata": {},
   "outputs": [
    {
     "name": "stdout",
     "output_type": "stream",
     "text": [
      "tf.Tensor(b'g ( x ) = x ^ 2 + 2 x', shape=(), dtype=string)\n",
      "[17  8  3  9 15  3 10  5 11  5  3]\n"
     ]
    }
   ],
   "source": [
    "encoded_example = encoder_int(example).numpy()\n",
    "print(example)\n",
    "print(encoded_example)"
   ]
  },
  {
   "cell_type": "code",
   "execution_count": 13,
   "metadata": {},
   "outputs": [
    {
     "name": "stdout",
     "output_type": "stream",
     "text": [
      "Original:  b'g ( x ) = x ^ 2 + 2 x'\n",
      "After reverse lookup:  g ( x ) = x ^ 2 + 2 x\n"
     ]
    }
   ],
   "source": [
    "print(\"Original: \", example.numpy())\n",
    "print(\"After reverse lookup: \", \" \".join(vocab[encoded_example]))"
   ]
  },
  {
   "attachments": {},
   "cell_type": "markdown",
   "metadata": {},
   "source": [
    "##### Representation 2: Binary Count Vectorizer"
   ]
  },
  {
   "cell_type": "code",
   "execution_count": 14,
   "metadata": {},
   "outputs": [
    {
     "data": {
      "text/plain": [
       "array(['[UNK]', 'f', 'x', '1', '2', '}', '{', '(', ')', '^', '+', ':',\n",
       "       '-', '\\\\to', '=', '3', 'g', 'n', 'a', 'A', '0', '4', '\\\\frac', 'b',\n",
       "       'B', '\\\\rightarrow', 'X', '5', 'y', '\\\\mathbb{R}', '\\\\mathbb{N}',\n",
       "       '\\\\mathbb', 'Y', '6', 'h', 'R', 'c', '/', '7', '\\\\colon', '9', 'p',\n",
       "       'k', 't', 'F', '8', 'm', 'i', 'S', 'd', 'e', 'N', '\\\\times', 'z',\n",
       "       's', 'C', 'q', 'r', ']', '\\\\circ', '[', '\\\\mathbb{Z}', '\\\\dfrac',\n",
       "       '\\\\mathbb{Q}', '\\\\cdot', '\\\\sin', '\\\\cup', 'T', 'u', 'Z', 'P', '!',\n",
       "       'M', '\\\\cap', 'G', 'E', 'D', 'U', 'Q', 'I', 'v', 'w', 'j', 'H',\n",
       "       '*', '\\\\varnothing', 'V', '\\\\cos', 'W', '\\\\exp', 'o', '\\\\arcsin',\n",
       "       '\\\\binom', 'l', '\\\\mathbb{C}', 'K', '\\\\ln', 'J', '\\\\arctan', 'L',\n",
       "       '\\\\cot', '\\\\cosh', 'O', '\\\\tanh', '\\\\arccos', '\\\\tfrac', '\\\\log',\n",
       "       '\\\\div', '\\\\sinh', '\\\\dbinom'], dtype='<U11')"
      ]
     },
     "execution_count": 14,
     "metadata": {},
     "output_type": "execute_result"
    }
   ],
   "source": [
    "encoder_multi_hot = create_encoder(\"multi_hot\", None)\n",
    "vocab = np.array(encoder_multi_hot.get_vocabulary())\n",
    "vocab[:200]"
   ]
  },
  {
   "cell_type": "code",
   "execution_count": 15,
   "metadata": {},
   "outputs": [
    {
     "name": "stdout",
     "output_type": "stream",
     "text": [
      "tf.Tensor(b'g ( x ) = x ^ 2 + 2 x', shape=(), dtype=string)\n",
      "[0. 0. 1. 0. 1. 0. 0. 1. 1. 1. 1. 0. 0. 0. 1. 0. 1. 0. 0. 0. 0. 0. 0. 0.\n",
      " 0. 0. 0. 0. 0. 0. 0. 0. 0. 0. 0. 0. 0. 0. 0. 0. 0. 0. 0. 0. 0. 0. 0. 0.\n",
      " 0. 0. 0. 0. 0. 0. 0. 0. 0. 0. 0. 0. 0. 0. 0. 0. 0. 0. 0. 0. 0. 0. 0. 0.\n",
      " 0. 0. 0. 0. 0. 0. 0. 0. 0. 0. 0. 0. 0. 0. 0. 0. 0. 0. 0. 0. 0. 0. 0. 0.\n",
      " 0. 0. 0. 0. 0. 0. 0. 0. 0. 0. 0. 0. 0. 0.]\n"
     ]
    }
   ],
   "source": [
    "encoded_example = encoder_multi_hot(example).numpy()\n",
    "print(example)\n",
    "print(encoded_example)"
   ]
  },
  {
   "attachments": {},
   "cell_type": "markdown",
   "metadata": {},
   "source": [
    "##### Representation 3: Frequency Count Vectorizer"
   ]
  },
  {
   "cell_type": "code",
   "execution_count": 16,
   "metadata": {},
   "outputs": [
    {
     "data": {
      "text/plain": [
       "array(['[UNK]', 'f', 'x', '1', '2', '}', '{', '(', ')', '^', '+', ':',\n",
       "       '-', '\\\\to', '=', '3', 'g', 'n', 'a', 'A', '0', '4', '\\\\frac', 'b',\n",
       "       'B', '\\\\rightarrow', 'X', '5', 'y', '\\\\mathbb{R}', '\\\\mathbb{N}',\n",
       "       '\\\\mathbb', 'Y', '6', 'h', 'R', 'c', '/', '7', '\\\\colon', '9', 'p',\n",
       "       'k', 't', 'F', '8', 'm', 'i', 'S', 'd', 'e', 'N', '\\\\times', 'z',\n",
       "       's', 'C', 'q', 'r', ']', '\\\\circ', '[', '\\\\mathbb{Z}', '\\\\dfrac',\n",
       "       '\\\\mathbb{Q}', '\\\\cdot', '\\\\sin', '\\\\cup', 'T', 'u', 'Z', 'P', '!',\n",
       "       'M', '\\\\cap', 'G', 'E', 'D', 'U', 'Q', 'I', 'v', 'w', 'j', 'H',\n",
       "       '*', '\\\\varnothing', 'V', '\\\\cos', 'W', '\\\\exp', 'o', '\\\\arcsin',\n",
       "       '\\\\binom', 'l', '\\\\mathbb{C}', 'K', '\\\\ln', 'J', '\\\\arctan', 'L',\n",
       "       '\\\\cot', '\\\\cosh', 'O', '\\\\tanh', '\\\\arccos', '\\\\tfrac', '\\\\log',\n",
       "       '\\\\div', '\\\\sinh', '\\\\dbinom'], dtype='<U11')"
      ]
     },
     "execution_count": 16,
     "metadata": {},
     "output_type": "execute_result"
    }
   ],
   "source": [
    "encoder_count = create_encoder(\"count\", None)\n",
    "vocab = np.array(encoder_count.get_vocabulary())\n",
    "vocab[:200]"
   ]
  },
  {
   "cell_type": "code",
   "execution_count": 17,
   "metadata": {},
   "outputs": [
    {
     "name": "stdout",
     "output_type": "stream",
     "text": [
      "tf.Tensor(b'g ( x ) = x ^ 2 + 2 x', shape=(), dtype=string)\n",
      "[0. 0. 3. 0. 2. 0. 0. 1. 1. 1. 1. 0. 0. 0. 1. 0. 1. 0. 0. 0. 0. 0. 0. 0.\n",
      " 0. 0. 0. 0. 0. 0. 0. 0. 0. 0. 0. 0. 0. 0. 0. 0. 0. 0. 0. 0. 0. 0. 0. 0.\n",
      " 0. 0. 0. 0. 0. 0. 0. 0. 0. 0. 0. 0. 0. 0. 0. 0. 0. 0. 0. 0. 0. 0. 0. 0.\n",
      " 0. 0. 0. 0. 0. 0. 0. 0. 0. 0. 0. 0. 0. 0. 0. 0. 0. 0. 0. 0. 0. 0. 0. 0.\n",
      " 0. 0. 0. 0. 0. 0. 0. 0. 0. 0. 0. 0. 0. 0.]\n"
     ]
    }
   ],
   "source": [
    "encoded_example = encoder_count(example).numpy()\n",
    "print(example)\n",
    "print(encoded_example)"
   ]
  },
  {
   "attachments": {},
   "cell_type": "markdown",
   "metadata": {},
   "source": [
    "##### Representation 4: Bigrams Frequency Count Vectorizer"
   ]
  },
  {
   "cell_type": "code",
   "execution_count": 18,
   "metadata": {},
   "outputs": [
    {
     "data": {
      "text/plain": [
       "array(['[UNK]', 'f', 'x', '1', '2', '}', '{', '(', ')', '^', '+', ':',\n",
       "       '-', '( x', '\\\\to', '=', ') =', 'x )', 'f (', 'f :', '3', '^ 2',\n",
       "       'g', 'n', 'a', 'A', '} {', '0', '4', 'x ^', '\\\\frac {', '\\\\frac',\n",
       "       'b', 'B', '1 }', '\\\\rightarrow', 'X', '5', '^ {', 'y', '+ 1',\n",
       "       '- 1', '{ 1', '\\\\mathbb{R}', 'x +', '\\\\mathbb{N}', '\\\\mathbb',\n",
       "       ': A', '2 }', '2 +', '{ x', 'Y', '6', '= x', 'h', 'x -', '{ 2',\n",
       "       'R', 'c', '/', 'A \\\\to', '1 )', ': X', '7', '\\\\colon', '9', 'p',\n",
       "       '\\\\to B', 'k', '( n', '2 ^', 'X \\\\to', 'g :', 'x }', 't',\n",
       "       '\\\\mathbb R', '^ 3', 'n +', 'F', '8', '{ a', 'a b', '= \\\\frac',\n",
       "       '- 2', 'm', '3 }', 'i', '2 -', '\\\\to Y', '+ b', '- x', 'S', '+ 2',\n",
       "       ') ^', '2 x', 'd', 'f \\\\colon', 'e', 'N', '\\\\times',\n",
       "       ': \\\\mathbb{R}', 'n )', 'g (', '\\\\to \\\\mathbb{R}', ': \\\\mathbb{N}',\n",
       "       '^ x', '0 1', 'z', 'a ^', '^ n', 'A \\\\rightarrow', 's', '1 /',\n",
       "       ') (', 'C', 'x y', 'b }', '\\\\mathbb{N} \\\\to', 'a +', ': \\\\mathbb',\n",
       "       '( a', '\\\\to \\\\mathbb', '\\\\mathbb N', 'e ^', '\\\\mathbb{R} \\\\to',\n",
       "       '( 1', '{ 3', 'q', 'n -', '{ n', '\\\\rightarrow B', '+ x', '} +',\n",
       "       '2 )', '- 3', '\\\\to A', ') }', '4 }', 'y )', 'X \\\\rightarrow',\n",
       "       '+ 4', '+ 3', 'n ^', '} -', '= 2', '1 +', 'r', 'a }', ']',\n",
       "       '\\\\to \\\\mathbb{N}', '\\\\circ', '^ 4', '{ (', '[', '{ b', '{ -',\n",
       "       '3 +', 'n }', '{ 4', '{ 0', '\\\\mathbb{Z}', '\\\\dfrac {', '\\\\dfrac',\n",
       "       '\\\\mathbb{Q}', '- 4', 'b )', 'h :', 'b ^', '\\\\cdot', '= a', '2 n',\n",
       "       'y ^', 't )', '\\\\to X', '\\\\sin', '+ y', 'b c', '\\\\rightarrow Y',\n",
       "       '\\\\cup', 'T', 'u', 'a x', '+ c', 'Z', '3 x', '} }', '\\\\colon A',\n",
       "       'P', '1 2', '1 -', '!', 'M', '- a', '( t', '( 2', '( 0', 'B \\\\to',\n",
       "       'A \\\\times', ': B', '1 ^'], dtype='<U22')"
      ]
     },
     "execution_count": 18,
     "metadata": {},
     "output_type": "execute_result"
    }
   ],
   "source": [
    "encoder_bigrams = create_encoder(\"count\", (2))\n",
    "vocab = np.array(encoder_bigrams.get_vocabulary())\n",
    "vocab[:200]"
   ]
  },
  {
   "cell_type": "code",
   "execution_count": 19,
   "metadata": {},
   "outputs": [
    {
     "name": "stdout",
     "output_type": "stream",
     "text": [
      "tf.Tensor(b'g ( x ) = x ^ 2 + 2 x', shape=(), dtype=string)\n",
      "[0. 0. 3. 0. 2. 0. 0. 1. 1. 1. 1. 0. 0. 1. 0. 1. 1. 1. 0. 0. 0. 1. 1. 0.\n",
      " 0. 0. 0. 0. 0. 1. 0. 0. 0. 0. 0. 0. 0. 0. 0. 0. 0. 0. 0. 0. 0. 0. 0. 0.\n",
      " 0. 1. 0. 0. 0. 1. 0. 0. 0. 0. 0. 0. 0. 0. 0. 0. 0. 0. 0. 0. 0. 0. 0. 0.\n",
      " 0. 0. 0. 0. 0. 0. 0. 0. 0. 0. 0. 0. 0. 0. 0. 0. 0. 0. 0. 0. 1. 0. 1. 0.\n",
      " 0. 0. 0. 0. 0. 0. 1. 0. 0. 0. 0. 0. 0. 0. 0. 0. 0. 0. 0. 0. 0. 0. 0. 0.\n",
      " 0. 0. 0. 0. 0. 0. 0. 0. 0. 0. 0. 0. 0. 0. 0. 0. 0. 0. 0. 0. 0. 0. 0. 0.\n",
      " 0. 0. 0. 0. 0. 0. 0. 0. 0. 0. 0. 0. 0. 0. 0. 0. 0. 0. 0. 0. 0. 0. 0. 0.\n",
      " 0. 0. 0. 0. 0. 0. 0. 0. 0. 0. 0. 0. 0. 0. 0. 0. 0. 0. 0. 0. 0. 0. 0. 0.\n",
      " 0. 0. 0. 0. 0. 0. 0. 0. 0. 0. 0. 0. 0. 0. 0. 0. 0. 0. 0. 0. 0. 0. 0. 0.\n",
      " 0. 0. 0. 0. 0. 0. 0. 0. 0. 0. 0. 0. 0. 0. 0. 0. 0. 0. 0. 0. 0. 0. 0. 0.\n",
      " 0. 0. 0. 0. 0. 0. 0. 0. 0. 0. 0. 0. 0. 0. 0. 0. 0. 0. 0. 0. 0. 0. 0. 0.\n",
      " 0. 0. 0. 0. 0. 0. 0. 0. 0. 0. 0. 0. 0. 0. 0. 0. 0. 0. 0. 0. 0. 0. 0. 0.\n",
      " 0. 0. 0. 0. 0. 0. 0. 0. 0. 0. 0. 0. 0. 0. 0. 0. 0. 0. 0. 0. 0. 0. 0. 0.\n",
      " 0. 0. 0. 0. 0. 0. 0. 0. 0. 0. 0. 0. 0. 0. 0. 0. 0. 0. 0. 0. 0. 0. 0. 0.\n",
      " 0. 0. 0. 0. 0. 0. 0. 0. 0. 0. 0. 0. 0. 0. 0. 0. 0. 0. 0. 0. 0. 0. 0. 0.\n",
      " 0. 0. 0. 0. 0. 0. 0. 0. 0. 0. 0. 0. 0. 0. 0. 0. 0. 0. 0. 0. 0. 0. 0. 0.\n",
      " 0. 0. 0. 0. 0. 0. 0. 0. 0. 0. 0. 0. 0. 0. 0. 0. 0. 0. 0. 0. 0. 0. 0. 0.\n",
      " 0. 0. 0. 0. 0. 0. 0. 0. 0. 0. 0. 0. 0. 0. 0. 0. 0. 0. 0. 0. 0. 0. 0. 0.\n",
      " 0. 0. 0. 0. 0. 0. 0. 0. 0. 0. 0. 0. 0. 0. 0. 0. 0. 0. 0. 0. 0. 0. 0. 0.\n",
      " 0. 0. 0. 0. 0. 0. 0. 0. 0. 0. 0. 0. 0. 0. 0. 0. 0. 0. 0. 0. 0. 0. 0. 0.\n",
      " 0. 0. 0. 0. 0. 0. 0. 0. 0. 0. 0. 0. 0. 0. 0. 0. 0. 0. 0. 0. 0. 0. 0. 0.\n",
      " 0. 0. 0. 0. 0. 0. 0. 0. 0. 0. 0. 0. 0. 0. 0. 0. 0. 0. 0. 0. 0. 0. 0. 0.\n",
      " 0. 0. 0. 0. 0. 0. 0. 0. 0. 0. 0. 0. 0. 0. 0. 0. 0. 0. 0. 0. 0. 0. 0. 0.\n",
      " 0. 0. 0. 0. 0. 0. 0. 0. 0. 0. 0. 0. 0. 0. 0. 0. 0. 0. 0. 0. 0. 0. 0. 0.\n",
      " 0. 0. 0. 0. 0. 0. 0. 0. 0. 0. 0. 0. 0. 0. 0. 0. 0. 0. 0. 0. 0. 0. 0. 0.\n",
      " 0. 0. 0. 0. 0. 0. 0. 0. 0. 0. 0. 0. 0. 0. 0. 0. 0. 0. 0. 0. 0. 0. 0. 0.\n",
      " 0. 0. 0. 0. 0. 0. 0. 0. 0. 0. 0. 0. 0. 0. 0. 0. 0. 0. 0. 0. 0. 0. 0. 0.\n",
      " 0. 0. 0. 0. 0. 0. 0. 0. 0. 0. 0. 0. 0. 0. 0. 0. 0. 0. 0. 0. 0. 0. 0. 0.\n",
      " 0. 0. 0. 0. 0. 0. 0. 0. 0. 0. 0. 0. 0. 0. 0. 0. 0. 0. 0. 0. 0. 0. 0. 0.\n",
      " 0. 0. 0. 0. 0. 0. 0. 0. 0. 0. 0. 0. 0. 0. 0. 0. 0. 0. 0. 0. 0. 0. 0. 0.\n",
      " 0. 0. 0. 0. 0. 0. 0. 0. 0. 0. 0. 0. 0. 0. 0. 0. 0. 0. 0. 0. 0. 0. 0. 0.\n",
      " 0. 0. 0. 0. 0. 0. 0. 0. 0. 0. 0. 0. 0. 0. 0. 0. 0. 0. 0. 0. 0. 0. 0. 0.\n",
      " 0. 0. 0. 0. 0. 0. 0. 0. 0. 0. 0. 0. 0. 0. 0. 0. 0. 0. 0. 0. 0. 0. 0. 0.\n",
      " 0. 0. 0. 0. 0. 0. 0. 0. 0. 0. 0. 0. 0. 0. 0. 0. 0. 0. 0. 0. 0. 0. 0. 0.\n",
      " 0. 0. 0. 0. 0. 0. 0. 0. 0. 0. 0. 0. 0. 0. 0. 0. 0. 0. 0. 0. 0. 0. 0. 0.\n",
      " 0. 0. 0. 0. 0. 0. 0. 0. 0. 0. 0. 0. 0. 0. 0. 0. 0. 0. 0. 0. 0. 0. 0. 0.\n",
      " 0. 0. 0. 0. 0. 0. 0. 0. 0. 0. 0. 0. 0. 0. 0. 0. 0. 0. 0. 0. 0. 0. 0. 0.\n",
      " 0. 0. 0. 0. 0. 0. 0. 0. 0. 0. 0. 0. 0. 0. 0. 0. 0. 0. 0. 0. 0. 0. 0. 0.\n",
      " 0. 0. 0. 0. 0. 0. 0. 0. 0. 0. 0. 0. 0. 0. 0. 0. 0. 0. 0. 0. 0. 0. 0. 0.\n",
      " 0. 0. 0. 0. 0. 0. 0. 0. 0. 0. 0. 0. 0. 0. 0. 0. 0. 0. 0. 0. 0. 0. 0. 0.\n",
      " 0. 0. 0. 0. 0. 0. 0. 0. 0. 0. 0. 0. 0. 0. 0. 0. 0. 0. 0. 0. 0. 0. 0. 0.\n",
      " 0. 0. 0. 0. 0. 0. 0. 0. 0. 0. 0. 0. 0. 0. 0. 0.]\n"
     ]
    }
   ],
   "source": [
    "encoded_example = encoder_bigrams(example).numpy()\n",
    "print(example)\n",
    "print(encoded_example)"
   ]
  },
  {
   "attachments": {},
   "cell_type": "markdown",
   "metadata": {},
   "source": [
    "##### Representation 5: Tf-Idf Vectorizer"
   ]
  },
  {
   "cell_type": "code",
   "execution_count": 20,
   "metadata": {},
   "outputs": [
    {
     "data": {
      "text/plain": [
       "array(['[UNK]', 'f', 'x', '1', '2', '}', '{', '(', ')', '^', '+', ':',\n",
       "       '-', '\\\\to', '=', '3', 'g', 'n', 'a', 'A', '0', '4', '\\\\frac', 'b',\n",
       "       'B', '\\\\rightarrow', 'X', '5', 'y', '\\\\mathbb{R}', '\\\\mathbb{N}',\n",
       "       '\\\\mathbb', 'Y', '6', 'h', 'R', 'c', '/', '7', '\\\\colon', '9', 'p',\n",
       "       'k', 't', 'F', '8', 'm', 'i', 'S', 'd', 'e', 'N', '\\\\times', 'z',\n",
       "       's', 'C', 'q', 'r', ']', '\\\\circ', '[', '\\\\mathbb{Z}', '\\\\dfrac',\n",
       "       '\\\\mathbb{Q}', '\\\\cdot', '\\\\sin', '\\\\cup', 'T', 'u', 'Z', 'P', '!',\n",
       "       'M', '\\\\cap', 'G', 'E', 'D', 'U', 'Q', 'I', 'v', 'w', 'j', 'H',\n",
       "       '*', '\\\\varnothing', 'V', '\\\\cos', 'W', '\\\\exp', 'o', '\\\\arcsin',\n",
       "       '\\\\binom', 'l', '\\\\mathbb{C}', 'K', '\\\\ln', 'J', '\\\\arctan', 'L',\n",
       "       '\\\\cot', '\\\\cosh', 'O', '\\\\tanh', '\\\\arccos', '\\\\tfrac', '\\\\log',\n",
       "       '\\\\div', '\\\\sinh', '\\\\dbinom'], dtype='<U11')"
      ]
     },
     "execution_count": 20,
     "metadata": {},
     "output_type": "execute_result"
    }
   ],
   "source": [
    "encoder_tf_idf = create_encoder(\"tf_idf\", None)\n",
    "vocab = np.array(encoder_tf_idf.get_vocabulary())\n",
    "vocab[:200]"
   ]
  },
  {
   "cell_type": "code",
   "execution_count": 21,
   "metadata": {},
   "outputs": [
    {
     "name": "stdout",
     "output_type": "stream",
     "text": [
      "tf.Tensor(b'g ( x ) = x ^ 2 + 2 x', shape=(), dtype=string)\n",
      "[0.        0.        6.629644  0.        4.0315437 0.        0.\n",
      " 2.1011312 2.1011312 2.2178829 2.4974902 0.        0.        0.\n",
      " 2.5330882 0.        2.7413087 0.        0.        0.        0.\n",
      " 0.        0.        0.        0.        0.        0.        0.\n",
      " 0.        0.        0.        0.        0.        0.        0.\n",
      " 0.        0.        0.        0.        0.        0.        0.\n",
      " 0.        0.        0.        0.        0.        0.        0.\n",
      " 0.        0.        0.        0.        0.        0.        0.\n",
      " 0.        0.        0.        0.        0.        0.        0.\n",
      " 0.        0.        0.        0.        0.        0.        0.\n",
      " 0.        0.        0.        0.        0.        0.        0.\n",
      " 0.        0.        0.        0.        0.        0.        0.\n",
      " 0.        0.        0.        0.        0.        0.        0.\n",
      " 0.        0.        0.        0.        0.        0.        0.\n",
      " 0.        0.        0.        0.        0.        0.        0.\n",
      " 0.        0.        0.        0.        0.       ]\n"
     ]
    }
   ],
   "source": [
    "encoded_example = encoder_tf_idf(example).numpy()\n",
    "print(example)\n",
    "print(encoded_example)"
   ]
  },
  {
   "attachments": {},
   "cell_type": "markdown",
   "metadata": {},
   "source": [
    "##### Model (Bidirectional LSTM with one layer)"
   ]
  },
  {
   "attachments": {},
   "cell_type": "markdown",
   "metadata": {},
   "source": [
    " **Define and compile model**"
   ]
  },
  {
   "cell_type": "code",
   "execution_count": 22,
   "metadata": {},
   "outputs": [],
   "source": [
    "def create_model(vec_encoder):\n",
    "    model = tf.keras.Sequential([\n",
    "        vec_encoder,\n",
    "        tf.keras.layers.Embedding(\n",
    "            input_dim=len(vec_encoder.get_vocabulary()),\n",
    "            output_dim=64,\n",
    "            # user masking to handle the variable sequence lengths\n",
    "            mask_zero=True),\n",
    "        tf.keras.layers.Bidirectional(tf.keras.layers.LSTM(64)),\n",
    "        tf.keras.layers.Dense(64, activation=\"relu\"),\n",
    "        tf.keras.layers.Dense(1)\n",
    "    ])\n",
    "    return model"
   ]
  },
  {
   "attachments": {},
   "cell_type": "markdown",
   "metadata": {},
   "source": [
    " **Train the model**"
   ]
  },
  {
   "attachments": {},
   "cell_type": "markdown",
   "metadata": {},
   "source": [
    "##### Experiment 1: Use integer indices for encoding tokens"
   ]
  },
  {
   "cell_type": "code",
   "execution_count": 23,
   "metadata": {},
   "outputs": [],
   "source": [
    "### TENSORBOARD USAGE\n",
    "#log_dir = \"4_nlp_rnns/logs/fit/\" + datetime.datetime.now().strftime(\"%Y%m%d-%H%M%S\")\n",
    "#tensorboard_callback = tf.keras.callbacks.TensorBoard(log_dir=log_dir)"
   ]
  },
  {
   "cell_type": "code",
   "execution_count": 24,
   "metadata": {},
   "outputs": [
    {
     "name": "stdout",
     "output_type": "stream",
     "text": [
      "1/1 [==============================] - 2s 2s/step\n",
      "[0.00580833]\n"
     ]
    }
   ],
   "source": [
    "model = create_model(encoder_int)\n",
    "# predict on a sample formula using untrained model\n",
    "sample_text = (\"g ( x ) = x ^ 3\")\n",
    "predictions = model.predict(np.array([sample_text]))\n",
    "print(predictions[0])"
   ]
  },
  {
   "cell_type": "code",
   "execution_count": 25,
   "metadata": {},
   "outputs": [],
   "source": [
    "model.compile(loss=tf.keras.losses.BinaryCrossentropy(from_logits=True),\n",
    "              optimizer=tf.keras.optimizers.Adam(1e-4),\n",
    "              metrics=[\"accuracy\"])"
   ]
  },
  {
   "cell_type": "code",
   "execution_count": 26,
   "metadata": {},
   "outputs": [
    {
     "name": "stdout",
     "output_type": "stream",
     "text": [
      "Epoch 1/15\n",
      "154/156 [============================>.] - ETA: 0s - loss: 0.6851 - accuracy: 0.5552WARNING:tensorflow:Your input ran out of data; interrupting training. Make sure that your dataset or generator can generate at least `steps_per_epoch * epochs` batches (in this case, 30 batches). You may need to use the repeat() function when building your dataset.\n"
     ]
    },
    {
     "name": "stderr",
     "output_type": "stream",
     "text": [
      "WARNING:absl:Found untraced functions such as _update_step_xla, lstm_cell_1_layer_call_fn, lstm_cell_1_layer_call_and_return_conditional_losses, lstm_cell_2_layer_call_fn, lstm_cell_2_layer_call_and_return_conditional_losses while saving (showing 5 of 5). These functions will not be directly callable after loading.\n"
     ]
    },
    {
     "name": "stdout",
     "output_type": "stream",
     "text": [
      "INFO:tensorflow:Assets written to: /home/paul_d/Sources/sem_math_bin_classifiers/wandb/run-20221223_224347-1wdppmu6/files/model-best/assets\n"
     ]
    },
    {
     "name": "stderr",
     "output_type": "stream",
     "text": [
      "INFO:tensorflow:Assets written to: /home/paul_d/Sources/sem_math_bin_classifiers/wandb/run-20221223_224347-1wdppmu6/files/model-best/assets\n"
     ]
    },
    {
     "name": "stdout",
     "output_type": "stream",
     "text": [
      "156/156 [==============================] - 27s 138ms/step - loss: 0.6849 - accuracy: 0.5551 - val_loss: 0.6656 - val_accuracy: 0.1110\n",
      "Epoch 2/15\n",
      "156/156 [==============================] - 3s 17ms/step - loss: 0.6443 - accuracy: 0.6058\n",
      "Epoch 3/15\n",
      "156/156 [==============================] - 3s 17ms/step - loss: 0.6208 - accuracy: 0.6100\n",
      "Epoch 4/15\n",
      "156/156 [==============================] - 3s 18ms/step - loss: 0.6129 - accuracy: 0.6133\n",
      "Epoch 5/15\n",
      "156/156 [==============================] - 3s 16ms/step - loss: 0.6089 - accuracy: 0.6152\n",
      "Epoch 6/15\n",
      "156/156 [==============================] - 3s 16ms/step - loss: 0.6064 - accuracy: 0.6187\n",
      "Epoch 7/15\n",
      "156/156 [==============================] - 3s 20ms/step - loss: 0.6048 - accuracy: 0.6211\n",
      "Epoch 8/15\n",
      "156/156 [==============================] - 3s 19ms/step - loss: 0.6033 - accuracy: 0.6210\n",
      "Epoch 9/15\n",
      "156/156 [==============================] - 3s 19ms/step - loss: 0.6021 - accuracy: 0.6221\n",
      "Epoch 10/15\n",
      "156/156 [==============================] - 3s 17ms/step - loss: 0.6011 - accuracy: 0.6235\n",
      "Epoch 11/15\n",
      "156/156 [==============================] - 3s 19ms/step - loss: 0.6001 - accuracy: 0.6238\n",
      "Epoch 12/15\n",
      "156/156 [==============================] - 3s 19ms/step - loss: 0.5989 - accuracy: 0.6247\n",
      "Epoch 13/15\n",
      "156/156 [==============================] - 3s 19ms/step - loss: 0.5981 - accuracy: 0.6259\n",
      "Epoch 14/15\n",
      "156/156 [==============================] - 3s 18ms/step - loss: 0.5975 - accuracy: 0.6247\n",
      "Epoch 15/15\n",
      "156/156 [==============================] - 3s 17ms/step - loss: 0.5968 - accuracy: 0.6256\n"
     ]
    }
   ],
   "source": [
    "run = wandb.init(project=\"binary_precalculus_simple\", reinit=True)\n",
    "wandb.config = {\n",
    "    \"learning_rate\": 1e-4,\n",
    "    \"optimizer\": \"adam\",\n",
    "    \"epochs\": 15,\n",
    "    \"batch_size\": 64,\n",
    "    \"vectorizer\": \"int\"\n",
    "}\n",
    "\n",
    "history = model.fit(train_dataset, epochs=15,\n",
    "                    validation_data=test_dataset,\n",
    "                    validation_steps=30,callbacks= [WandbCallback()])#[tensorboard_callback])\n",
    "run.finish()"
   ]
  },
  {
   "cell_type": "code",
   "execution_count": 27,
   "metadata": {},
   "outputs": [
    {
     "name": "stdout",
     "output_type": "stream",
     "text": [
      "16/16 [==============================] - 0s 7ms/step - loss: 0.7041 - accuracy: 0.2290\n",
      "Test Loss: 0.7040644884109497\n",
      "Test Accuracy: 0.2290000021457672\n"
     ]
    }
   ],
   "source": [
    "test_loss, test_acc = model.evaluate(test_dataset)\n",
    "\n",
    "print(\"Test Loss:\", test_loss)\n",
    "print(\"Test Accuracy:\", test_acc)"
   ]
  },
  {
   "cell_type": "code",
   "execution_count": 28,
   "metadata": {},
   "outputs": [
    {
     "data": {
      "text/plain": [
       "(0.0, 0.6893563807010651)"
      ]
     },
     "execution_count": 28,
     "metadata": {},
     "output_type": "execute_result"
    },
    {
     "data": {
      "image/png": "[encoded data removed]",
      "text/plain": [
       "<Figure size 1600x800 with 2 Axes>"
      ]
     },
     "metadata": {},
     "output_type": "display_data"
    }
   ],
   "source": [
    "plt.figure(figsize=(16,8))\n",
    "plt.subplot(1,2,1)\n",
    "plot_graphs(history, \"accuracy\")\n",
    "plt.ylim(None, 1)\n",
    "plt.subplot(1,2,2)\n",
    "plot_graphs(history, \"loss\")\n",
    "plt.ylim(0, None)"
   ]
  },
  {
   "cell_type": "code",
   "execution_count": 29,
   "metadata": {},
   "outputs": [
    {
     "name": "stdout",
     "output_type": "stream",
     "text": [
      "1/1 [==============================] - 2s 2s/step\n",
      "[1.0821596]\n"
     ]
    }
   ],
   "source": [
    "# predict on a sample text without padding\n",
    "sample_text = (\"g ( x ) = x ^ 3\")\n",
    "predictions = model.predict(np.array([sample_text]))\n",
    "print(predictions[0])"
   ]
  },
  {
   "attachments": {},
   "cell_type": "markdown",
   "metadata": {},
   "source": [
    "##### Experiment 2: Use binary count vectorizer for encoding"
   ]
  },
  {
   "cell_type": "code",
   "execution_count": 30,
   "metadata": {},
   "outputs": [
    {
     "name": "stdout",
     "output_type": "stream",
     "text": [
      "1/1 [==============================] - 3s 3s/step\n",
      "[0.02218796]\n"
     ]
    }
   ],
   "source": [
    "model = create_model(encoder_multi_hot)\n",
    "# predict on a sample formula using untrained model\n",
    "sample_text = (\"g ( x ) = x ^ 3\")\n",
    "predictions = model.predict(np.array([sample_text]))\n",
    "print(predictions[0])"
   ]
  },
  {
   "cell_type": "code",
   "execution_count": 31,
   "metadata": {},
   "outputs": [],
   "source": [
    "model.compile(loss=tf.keras.losses.BinaryCrossentropy(from_logits=True),\n",
    "              optimizer=tf.keras.optimizers.Adam(1e-4),\n",
    "              metrics=[\"accuracy\"])"
   ]
  },
  {
   "cell_type": "code",
   "execution_count": 32,
   "metadata": {},
   "outputs": [
    {
     "name": "stdout",
     "output_type": "stream",
     "text": [
      "Epoch 1/15\n",
      "156/156 [==============================] - ETA: 0s - loss: 0.6896 - accuracy: 0.5501WARNING:tensorflow:Your input ran out of data; interrupting training. Make sure that your dataset or generator can generate at least `steps_per_epoch * epochs` batches (in this case, 30 batches). You may need to use the repeat() function when building your dataset.\n"
     ]
    },
    {
     "name": "stderr",
     "output_type": "stream",
     "text": [
      "WARNING:tensorflow:Your input ran out of data; interrupting training. Make sure that your dataset or generator can generate at least `steps_per_epoch * epochs` batches (in this case, 30 batches). You may need to use the repeat() function when building your dataset.\n",
      "WARNING:absl:Found untraced functions such as _update_step_xla, lstm_cell_4_layer_call_fn, lstm_cell_4_layer_call_and_return_conditional_losses, lstm_cell_5_layer_call_fn, lstm_cell_5_layer_call_and_return_conditional_losses while saving (showing 5 of 5). These functions will not be directly callable after loading.\n"
     ]
    },
    {
     "name": "stdout",
     "output_type": "stream",
     "text": [
      "INFO:tensorflow:Assets written to: /home/paul_d/Sources/sem_math_bin_classifiers/wandb/run-20221223_224510-2edi9v6g/files/model-best/assets\n"
     ]
    },
    {
     "name": "stderr",
     "output_type": "stream",
     "text": [
      "INFO:tensorflow:Assets written to: /home/paul_d/Sources/sem_math_bin_classifiers/wandb/run-20221223_224510-2edi9v6g/files/model-best/assets\n"
     ]
    },
    {
     "name": "stdout",
     "output_type": "stream",
     "text": [
      "156/156 [==============================] - 35s 194ms/step - loss: 0.6896 - accuracy: 0.5501 - val_loss: 0.7502 - val_accuracy: 0.0000e+00\n",
      "Epoch 2/15\n",
      "156/156 [==============================] - 11s 72ms/step - loss: 0.6721 - accuracy: 0.5744\n",
      "Epoch 3/15\n",
      "156/156 [==============================] - 10s 66ms/step - loss: 0.6636 - accuracy: 0.5909\n",
      "Epoch 4/15\n",
      "156/156 [==============================] - 11s 69ms/step - loss: 0.6630 - accuracy: 0.5900\n",
      "Epoch 5/15\n",
      "156/156 [==============================] - 9s 57ms/step - loss: 0.6626 - accuracy: 0.5921\n",
      "Epoch 6/15\n",
      "156/156 [==============================] - 9s 60ms/step - loss: 0.6627 - accuracy: 0.5909\n",
      "Epoch 7/15\n",
      "156/156 [==============================] - 10s 61ms/step - loss: 0.6624 - accuracy: 0.5909\n",
      "Epoch 8/15\n",
      "156/156 [==============================] - 11s 68ms/step - loss: 0.6621 - accuracy: 0.5910\n",
      "Epoch 9/15\n",
      "156/156 [==============================] - 9s 59ms/step - loss: 0.6622 - accuracy: 0.5915\n",
      "Epoch 10/15\n",
      "156/156 [==============================] - 10s 62ms/step - loss: 0.6619 - accuracy: 0.5920\n",
      "Epoch 11/15\n",
      "156/156 [==============================] - 10s 61ms/step - loss: 0.6618 - accuracy: 0.5911\n",
      "Epoch 12/15\n",
      "156/156 [==============================] - 9s 59ms/step - loss: 0.6620 - accuracy: 0.5904\n",
      "Epoch 13/15\n",
      "156/156 [==============================] - 10s 61ms/step - loss: 0.6616 - accuracy: 0.5929\n",
      "Epoch 14/15\n",
      "156/156 [==============================] - 11s 72ms/step - loss: 0.6618 - accuracy: 0.5921\n",
      "Epoch 15/15\n",
      "156/156 [==============================] - 11s 68ms/step - loss: 0.6614 - accuracy: 0.5912\n"
     ]
    }
   ],
   "source": [
    "run = wandb.init(project=\"binary_precalculus_simple\", reinit=True)\n",
    "wandb.config = {\n",
    "    \"learning_rate\": 1e-4,\n",
    "    \"optimizer\": \"adam\",\n",
    "    \"epochs\": 15,\n",
    "    \"batch_size\": 64,\n",
    "    \"vectorizer\": \"multi_hot\"\n",
    "}\n",
    "\n",
    "history = model.fit(train_dataset, epochs=15,\n",
    "                    validation_data=test_dataset,\n",
    "                    validation_steps=30,callbacks= [WandbCallback()])#[tensorboard_callback])\n",
    "run.finish()"
   ]
  },
  {
   "cell_type": "code",
   "execution_count": 33,
   "metadata": {},
   "outputs": [
    {
     "name": "stdout",
     "output_type": "stream",
     "text": [
      "16/16 [==============================] - 0s 18ms/step - loss: 0.8106 - accuracy: 0.1200\n",
      "Test Loss: 0.8106212019920349\n",
      "Test Accuracy: 0.11999999731779099\n"
     ]
    }
   ],
   "source": [
    "test_loss, test_acc = model.evaluate(test_dataset)\n",
    "\n",
    "print(\"Test Loss:\", test_loss)\n",
    "print(\"Test Accuracy:\", test_acc)"
   ]
  },
  {
   "cell_type": "code",
   "execution_count": 34,
   "metadata": {},
   "outputs": [
    {
     "data": {
      "text/plain": [
       "(0.0, 0.7546414762735367)"
      ]
     },
     "execution_count": 34,
     "metadata": {},
     "output_type": "execute_result"
    },
    {
     "data": {
      "image/png": "[encoded data removed]",
      "text/plain": [
       "<Figure size 1600x800 with 2 Axes>"
      ]
     },
     "metadata": {},
     "output_type": "display_data"
    }
   ],
   "source": [
    "plt.figure(figsize=(16,8))\n",
    "plt.subplot(1,2,1)\n",
    "plot_graphs(history, \"accuracy\")\n",
    "plt.ylim(None, 1)\n",
    "plt.subplot(1,2,2)\n",
    "plot_graphs(history, \"loss\")\n",
    "plt.ylim(0, None)"
   ]
  },
  {
   "cell_type": "code",
   "execution_count": 35,
   "metadata": {},
   "outputs": [
    {
     "name": "stdout",
     "output_type": "stream",
     "text": [
      "1/1 [==============================] - 2s 2s/step\n",
      "[-0.28779832]\n"
     ]
    }
   ],
   "source": [
    "# predict on a sample text without padding\n",
    "sample_text = (\"g ( x ) = x ^ 3\")\n",
    "predictions = model.predict(np.array([sample_text]))\n",
    "print(predictions[0])"
   ]
  },
  {
   "attachments": {},
   "cell_type": "markdown",
   "metadata": {},
   "source": [
    "##### Experiment 3:"
   ]
  },
  {
   "cell_type": "code",
   "execution_count": 36,
   "metadata": {},
   "outputs": [
    {
     "name": "stdout",
     "output_type": "stream",
     "text": [
      "WARNING:tensorflow:5 out of the last 5 calls to <function Model.make_predict_function.<locals>.predict_function at 0x7f9f7b54f1c0> triggered tf.function retracing. Tracing is expensive and the excessive number of tracings could be due to (1) creating @tf.function repeatedly in a loop, (2) passing tensors with different shapes, (3) passing Python objects instead of tensors. For (1), please define your @tf.function outside of the loop. For (2), @tf.function has reduce_retracing=True option that can avoid unnecessary retracing. For (3), please refer to https://www.tensorflow.org/guide/function#controlling_retracing and https://www.tensorflow.org/api_docs/python/tf/function for  more details.\n"
     ]
    },
    {
     "name": "stderr",
     "output_type": "stream",
     "text": [
      "WARNING:tensorflow:5 out of the last 5 calls to <function Model.make_predict_function.<locals>.predict_function at 0x7f9f7b54f1c0> triggered tf.function retracing. Tracing is expensive and the excessive number of tracings could be due to (1) creating @tf.function repeatedly in a loop, (2) passing tensors with different shapes, (3) passing Python objects instead of tensors. For (1), please define your @tf.function outside of the loop. For (2), @tf.function has reduce_retracing=True option that can avoid unnecessary retracing. For (3), please refer to https://www.tensorflow.org/guide/function#controlling_retracing and https://www.tensorflow.org/api_docs/python/tf/function for  more details.\n"
     ]
    },
    {
     "name": "stdout",
     "output_type": "stream",
     "text": [
      "1/1 [==============================] - 1s 1s/step\n",
      "[0.01245196]\n"
     ]
    }
   ],
   "source": [
    "model = create_model(encoder_count)\n",
    "# predict on a sample formula using untrained model\n",
    "sample_text = (\"g ( x ) = x ^ 3\")\n",
    "predictions = model.predict(np.array([sample_text]))\n",
    "print(predictions[0])"
   ]
  },
  {
   "cell_type": "code",
   "execution_count": 37,
   "metadata": {},
   "outputs": [],
   "source": [
    "model.compile(loss=tf.keras.losses.BinaryCrossentropy(from_logits=True),\n",
    "              optimizer=tf.keras.optimizers.Adam(1e-4),\n",
    "              metrics=[\"accuracy\"])"
   ]
  },
  {
   "cell_type": "code",
   "execution_count": 38,
   "metadata": {},
   "outputs": [
    {
     "name": "stdout",
     "output_type": "stream",
     "text": [
      "Epoch 1/15\n",
      "156/156 [==============================] - ETA: 0s - loss: 0.6874 - accuracy: 0.5501WARNING:tensorflow:Your input ran out of data; interrupting training. Make sure that your dataset or generator can generate at least `steps_per_epoch * epochs` batches (in this case, 30 batches). You may need to use the repeat() function when building your dataset.\n"
     ]
    },
    {
     "name": "stderr",
     "output_type": "stream",
     "text": [
      "WARNING:tensorflow:Your input ran out of data; interrupting training. Make sure that your dataset or generator can generate at least `steps_per_epoch * epochs` batches (in this case, 30 batches). You may need to use the repeat() function when building your dataset.\n",
      "WARNING:absl:Found untraced functions such as _update_step_xla, lstm_cell_7_layer_call_fn, lstm_cell_7_layer_call_and_return_conditional_losses, lstm_cell_8_layer_call_fn, lstm_cell_8_layer_call_and_return_conditional_losses while saving (showing 5 of 5). These functions will not be directly callable after loading.\n"
     ]
    },
    {
     "name": "stdout",
     "output_type": "stream",
     "text": [
      "INFO:tensorflow:Assets written to: /home/paul_d/Sources/sem_math_bin_classifiers/wandb/run-20221223_224836-1y580vwc/files/model-best/assets\n"
     ]
    },
    {
     "name": "stderr",
     "output_type": "stream",
     "text": [
      "INFO:tensorflow:Assets written to: /home/paul_d/Sources/sem_math_bin_classifiers/wandb/run-20221223_224836-1y580vwc/files/model-best/assets\n"
     ]
    },
    {
     "name": "stdout",
     "output_type": "stream",
     "text": [
      "156/156 [==============================] - 36s 186ms/step - loss: 0.6874 - accuracy: 0.5501 - val_loss: 0.7428 - val_accuracy: 0.0000e+00\n",
      "Epoch 2/15\n",
      "156/156 [==============================] - 11s 67ms/step - loss: 0.6644 - accuracy: 0.5799\n",
      "Epoch 3/15\n",
      "156/156 [==============================] - 11s 70ms/step - loss: 0.6558 - accuracy: 0.5962\n",
      "Epoch 4/15\n",
      "156/156 [==============================] - 12s 74ms/step - loss: 0.6548 - accuracy: 0.5962\n",
      "Epoch 5/15\n",
      "156/156 [==============================] - 11s 73ms/step - loss: 0.6541 - accuracy: 0.5970\n",
      "Epoch 6/15\n",
      "156/156 [==============================] - 11s 72ms/step - loss: 0.6538 - accuracy: 0.5975\n",
      "Epoch 7/15\n",
      "156/156 [==============================] - 13s 85ms/step - loss: 0.6534 - accuracy: 0.5987\n",
      "Epoch 8/15\n",
      "156/156 [==============================] - 11s 69ms/step - loss: 0.6534 - accuracy: 0.5977\n",
      "Epoch 9/15\n",
      "156/156 [==============================] - 12s 74ms/step - loss: 0.6529 - accuracy: 0.5985\n",
      "Epoch 10/15\n",
      "156/156 [==============================] - 11s 68ms/step - loss: 0.6527 - accuracy: 0.5993\n",
      "Epoch 11/15\n",
      "156/156 [==============================] - 11s 68ms/step - loss: 0.6525 - accuracy: 0.5994\n",
      "Epoch 12/15\n",
      "156/156 [==============================] - 9s 59ms/step - loss: 0.6522 - accuracy: 0.5994\n",
      "Epoch 13/15\n",
      "156/156 [==============================] - 9s 60ms/step - loss: 0.6521 - accuracy: 0.5994\n",
      "Epoch 14/15\n",
      "156/156 [==============================] - 9s 60ms/step - loss: 0.6518 - accuracy: 0.5991\n",
      "Epoch 15/15\n",
      "156/156 [==============================] - 9s 60ms/step - loss: 0.6518 - accuracy: 0.5996\n"
     ]
    }
   ],
   "source": [
    "run = wandb.init(project=\"binary_precalculus_simple\", reinit=True)\n",
    "wandb.config = {\n",
    "    \"learning_rate\": 1e-4,\n",
    "    \"optimizer\": \"adam\",\n",
    "    \"epochs\": 15,\n",
    "    \"batch_size\": 64,\n",
    "    \"vectorizer\": \"count\"\n",
    "}\n",
    "\n",
    "history = model.fit(train_dataset, epochs=15,\n",
    "                    validation_data=test_dataset,\n",
    "                    validation_steps=30,callbacks= [WandbCallback()])#[tensorboard_callback])\n",
    "run.finish()"
   ]
  },
  {
   "cell_type": "code",
   "execution_count": 39,
   "metadata": {},
   "outputs": [
    {
     "name": "stdout",
     "output_type": "stream",
     "text": [
      "16/16 [==============================] - 0s 18ms/step - loss: 0.7705 - accuracy: 0.1440\n",
      "Test Loss: 0.7704628705978394\n",
      "Test Accuracy: 0.14399999380111694\n"
     ]
    }
   ],
   "source": [
    "test_loss, test_acc = model.evaluate(test_dataset)\n",
    "\n",
    "print(\"Test Loss:\", test_loss)\n",
    "print(\"Test Accuracy:\", test_acc)"
   ]
  },
  {
   "cell_type": "code",
   "execution_count": 40,
   "metadata": {},
   "outputs": [
    {
     "data": {
      "text/plain": [
       "(0.0, 0.7473376840353012)"
      ]
     },
     "execution_count": 40,
     "metadata": {},
     "output_type": "execute_result"
    },
    {
     "data": {
      "image/png": "[encoded data removed]",
      "text/plain": [
       "<Figure size 1600x800 with 2 Axes>"
      ]
     },
     "metadata": {},
     "output_type": "display_data"
    }
   ],
   "source": [
    "plt.figure(figsize=(16,8))\n",
    "plt.subplot(1,2,1)\n",
    "plot_graphs(history, \"accuracy\")\n",
    "plt.ylim(None, 1)\n",
    "plt.subplot(1,2,2)\n",
    "plot_graphs(history, \"loss\")\n",
    "plt.ylim(0, None)"
   ]
  },
  {
   "cell_type": "code",
   "execution_count": 41,
   "metadata": {},
   "outputs": [
    {
     "name": "stdout",
     "output_type": "stream",
     "text": [
      "WARNING:tensorflow:6 out of the last 6 calls to <function Model.make_predict_function.<locals>.predict_function at 0x7f9fba244e50> triggered tf.function retracing. Tracing is expensive and the excessive number of tracings could be due to (1) creating @tf.function repeatedly in a loop, (2) passing tensors with different shapes, (3) passing Python objects instead of tensors. For (1), please define your @tf.function outside of the loop. For (2), @tf.function has reduce_retracing=True option that can avoid unnecessary retracing. For (3), please refer to https://www.tensorflow.org/guide/function#controlling_retracing and https://www.tensorflow.org/api_docs/python/tf/function for  more details.\n"
     ]
    },
    {
     "name": "stderr",
     "output_type": "stream",
     "text": [
      "WARNING:tensorflow:6 out of the last 6 calls to <function Model.make_predict_function.<locals>.predict_function at 0x7f9fba244e50> triggered tf.function retracing. Tracing is expensive and the excessive number of tracings could be due to (1) creating @tf.function repeatedly in a loop, (2) passing tensors with different shapes, (3) passing Python objects instead of tensors. For (1), please define your @tf.function outside of the loop. For (2), @tf.function has reduce_retracing=True option that can avoid unnecessary retracing. For (3), please refer to https://www.tensorflow.org/guide/function#controlling_retracing and https://www.tensorflow.org/api_docs/python/tf/function for  more details.\n"
     ]
    },
    {
     "name": "stdout",
     "output_type": "stream",
     "text": [
      "1/1 [==============================] - 2s 2s/step\n",
      "[0.05676212]\n"
     ]
    }
   ],
   "source": [
    "# predict on a sample text without padding\n",
    "sample_text = (\"g ( x ) = x ^ 3\")\n",
    "predictions = model.predict(np.array([sample_text]))\n",
    "print(predictions[0])"
   ]
  },
  {
   "attachments": {},
   "cell_type": "markdown",
   "metadata": {},
   "source": [
    "##### Experiment 4:"
   ]
  },
  {
   "cell_type": "code",
   "execution_count": 42,
   "metadata": {},
   "outputs": [
    {
     "name": "stdout",
     "output_type": "stream",
     "text": [
      "1/1 [==============================] - 1s 1s/step\n",
      "[-0.0374152]\n"
     ]
    }
   ],
   "source": [
    "model = create_model(encoder_bigrams)\n",
    "# predict on a sample formula using untrained model\n",
    "sample_text = (\"g ( x ) = x ^ 3\")\n",
    "predictions = model.predict(np.array([sample_text]))\n",
    "print(predictions[0])"
   ]
  },
  {
   "cell_type": "code",
   "execution_count": 43,
   "metadata": {},
   "outputs": [],
   "source": [
    "model.compile(loss=tf.keras.losses.BinaryCrossentropy(from_logits=True),\n",
    "              optimizer=tf.keras.optimizers.Adam(1e-4),\n",
    "              metrics=[\"accuracy\"])"
   ]
  },
  {
   "cell_type": "code",
   "execution_count": 44,
   "metadata": {},
   "outputs": [
    {
     "name": "stdout",
     "output_type": "stream",
     "text": [
      "Epoch 1/15\n",
      "156/156 [==============================] - ETA: 0s - loss: 0.6845 - accuracy: 0.5506WARNING:tensorflow:Your input ran out of data; interrupting training. Make sure that your dataset or generator can generate at least `steps_per_epoch * epochs` batches (in this case, 30 batches). You may need to use the repeat() function when building your dataset.\n"
     ]
    },
    {
     "name": "stderr",
     "output_type": "stream",
     "text": [
      "WARNING:tensorflow:Your input ran out of data; interrupting training. Make sure that your dataset or generator can generate at least `steps_per_epoch * epochs` batches (in this case, 30 batches). You may need to use the repeat() function when building your dataset.\n",
      "WARNING:absl:Found untraced functions such as _update_step_xla, lstm_cell_10_layer_call_fn, lstm_cell_10_layer_call_and_return_conditional_losses, lstm_cell_11_layer_call_fn, lstm_cell_11_layer_call_and_return_conditional_losses while saving (showing 5 of 5). These functions will not be directly callable after loading.\n"
     ]
    },
    {
     "name": "stdout",
     "output_type": "stream",
     "text": [
      "INFO:tensorflow:Assets written to: /home/paul_d/Sources/sem_math_bin_classifiers/wandb/run-20221223_225204-qy61cliy/files/model-best/assets\n"
     ]
    },
    {
     "name": "stderr",
     "output_type": "stream",
     "text": [
      "INFO:tensorflow:Assets written to: /home/paul_d/Sources/sem_math_bin_classifiers/wandb/run-20221223_225204-qy61cliy/files/model-best/assets\n"
     ]
    },
    {
     "name": "stdout",
     "output_type": "stream",
     "text": [
      "156/156 [==============================] - 113s 697ms/step - loss: 0.6845 - accuracy: 0.5506 - val_loss: 0.7368 - val_accuracy: 0.0700\n",
      "Epoch 2/15\n",
      "156/156 [==============================] - 94s 604ms/step - loss: 0.6582 - accuracy: 0.5921\n",
      "Epoch 3/15\n",
      "156/156 [==============================] - 97s 622ms/step - loss: 0.6557 - accuracy: 0.5959\n",
      "Epoch 4/15\n",
      "156/156 [==============================] - 99s 638ms/step - loss: 0.6550 - accuracy: 0.5983\n",
      "Epoch 5/15\n",
      "156/156 [==============================] - 94s 603ms/step - loss: 0.6544 - accuracy: 0.5987\n",
      "Epoch 6/15\n",
      "156/156 [==============================] - 91s 584ms/step - loss: 0.6540 - accuracy: 0.6000\n",
      "Epoch 7/15\n",
      "156/156 [==============================] - 94s 602ms/step - loss: 0.6535 - accuracy: 0.6004\n",
      "Epoch 8/15\n",
      "156/156 [==============================] - 90s 577ms/step - loss: 0.6533 - accuracy: 0.6004\n",
      "Epoch 9/15\n",
      "156/156 [==============================] - 95s 611ms/step - loss: 0.6532 - accuracy: 0.6005\n",
      "Epoch 10/15\n",
      "156/156 [==============================] - 86s 549ms/step - loss: 0.6525 - accuracy: 0.6004\n",
      "Epoch 11/15\n",
      "156/156 [==============================] - 84s 537ms/step - loss: 0.6525 - accuracy: 0.5998\n",
      "Epoch 12/15\n",
      "156/156 [==============================] - 91s 581ms/step - loss: 0.6521 - accuracy: 0.6009\n",
      "Epoch 13/15\n",
      "156/156 [==============================] - 90s 577ms/step - loss: 0.6517 - accuracy: 0.6014\n",
      "Epoch 14/15\n",
      "156/156 [==============================] - 88s 566ms/step - loss: 0.6518 - accuracy: 0.6011\n",
      "Epoch 15/15\n",
      "156/156 [==============================] - 89s 572ms/step - loss: 0.6516 - accuracy: 0.6010\n"
     ]
    }
   ],
   "source": [
    "run = wandb.init(project=\"binary_precalculus_simple\", reinit=True)\n",
    "wandb.config = {\n",
    "    \"learning_rate\": 1e-4,\n",
    "    \"optimizer\": \"adam\",\n",
    "    \"epochs\": 15,\n",
    "    \"batch_size\": 64,\n",
    "    \"vectorizer\": \"bigram_count\"\n",
    "}\n",
    "\n",
    "history = model.fit(train_dataset, epochs=15,\n",
    "                    validation_data=test_dataset,\n",
    "                    validation_steps=30,callbacks= [WandbCallback()])#[tensorboard_callback])\n",
    "run.finish()"
   ]
  },
  {
   "cell_type": "code",
   "execution_count": 45,
   "metadata": {},
   "outputs": [
    {
     "name": "stdout",
     "output_type": "stream",
     "text": [
      "16/16 [==============================] - 3s 169ms/step - loss: 0.7377 - accuracy: 0.1600\n",
      "Test Loss: 0.7376753687858582\n",
      "Test Accuracy: 0.1599999964237213\n"
     ]
    }
   ],
   "source": [
    "test_loss, test_acc = model.evaluate(test_dataset)\n",
    "\n",
    "print(\"Test Loss:\", test_loss)\n",
    "print(\"Test Accuracy:\", test_acc)"
   ]
  },
  {
   "cell_type": "code",
   "execution_count": 46,
   "metadata": {},
   "outputs": [
    {
     "data": {
      "text/plain": [
       "(0.0, 0.7410760968923569)"
      ]
     },
     "execution_count": 46,
     "metadata": {},
     "output_type": "execute_result"
    },
    {
     "data": {
      "image/png": "[encoded data removed]",
      "text/plain": [
       "<Figure size 1600x800 with 2 Axes>"
      ]
     },
     "metadata": {},
     "output_type": "display_data"
    }
   ],
   "source": [
    "plt.figure(figsize=(16,8))\n",
    "plt.subplot(1,2,1)\n",
    "plot_graphs(history, \"accuracy\")\n",
    "plt.ylim(None, 1)\n",
    "plt.subplot(1,2,2)\n",
    "plot_graphs(history, \"loss\")\n",
    "plt.ylim(0, None)"
   ]
  },
  {
   "cell_type": "code",
   "execution_count": 47,
   "metadata": {},
   "outputs": [
    {
     "name": "stdout",
     "output_type": "stream",
     "text": [
      "1/1 [==============================] - 2s 2s/step\n",
      "[0.4348815]\n"
     ]
    }
   ],
   "source": [
    "# predict on a sample text without padding\n",
    "sample_text = (\"g ( x ) = x ^ 3\")\n",
    "predictions = model.predict(np.array([sample_text]))\n",
    "print(predictions[0])"
   ]
  },
  {
   "attachments": {},
   "cell_type": "markdown",
   "metadata": {},
   "source": [
    "##### Experiment 5:"
   ]
  },
  {
   "cell_type": "code",
   "execution_count": 48,
   "metadata": {},
   "outputs": [
    {
     "name": "stdout",
     "output_type": "stream",
     "text": [
      "1/1 [==============================] - 4s 4s/step\n",
      "[0.0140735]\n"
     ]
    }
   ],
   "source": [
    "model = create_model(encoder_tf_idf)\n",
    "# predict on a sample formula using untrained model\n",
    "sample_text = (\"g ( x ) = x ^ 3\")\n",
    "predictions = model.predict(np.array([sample_text]))\n",
    "print(predictions[0])"
   ]
  },
  {
   "cell_type": "code",
   "execution_count": 49,
   "metadata": {},
   "outputs": [],
   "source": [
    "model.compile(loss=tf.keras.losses.BinaryCrossentropy(from_logits=True),\n",
    "              optimizer=tf.keras.optimizers.Adam(1e-4),\n",
    "              metrics=[\"accuracy\"])"
   ]
  },
  {
   "cell_type": "code",
   "execution_count": 50,
   "metadata": {},
   "outputs": [
    {
     "name": "stdout",
     "output_type": "stream",
     "text": [
      "Epoch 1/15\n",
      "156/156 [==============================] - ETA: 0s - loss: 0.6888 - accuracy: 0.5501WARNING:tensorflow:Your input ran out of data; interrupting training. Make sure that your dataset or generator can generate at least `steps_per_epoch * epochs` batches (in this case, 30 batches). You may need to use the repeat() function when building your dataset.\n"
     ]
    },
    {
     "name": "stderr",
     "output_type": "stream",
     "text": [
      "WARNING:tensorflow:Your input ran out of data; interrupting training. Make sure that your dataset or generator can generate at least `steps_per_epoch * epochs` batches (in this case, 30 batches). You may need to use the repeat() function when building your dataset.\n",
      "WARNING:absl:Found untraced functions such as _update_step_xla, lstm_cell_13_layer_call_fn, lstm_cell_13_layer_call_and_return_conditional_losses, lstm_cell_14_layer_call_fn, lstm_cell_14_layer_call_and_return_conditional_losses while saving (showing 5 of 5). These functions will not be directly callable after loading.\n"
     ]
    },
    {
     "name": "stdout",
     "output_type": "stream",
     "text": [
      "INFO:tensorflow:Assets written to: /home/paul_d/Sources/sem_math_bin_classifiers/wandb/run-20221223_231635-ailayjt5/files/model-best/assets\n"
     ]
    },
    {
     "name": "stderr",
     "output_type": "stream",
     "text": [
      "INFO:tensorflow:Assets written to: /home/paul_d/Sources/sem_math_bin_classifiers/wandb/run-20221223_231635-ailayjt5/files/model-best/assets\n"
     ]
    },
    {
     "name": "stdout",
     "output_type": "stream",
     "text": [
      "156/156 [==============================] - 36s 193ms/step - loss: 0.6888 - accuracy: 0.5501 - val_loss: 0.7261 - val_accuracy: 0.0000e+00\n",
      "Epoch 2/15\n",
      "156/156 [==============================] - 10s 61ms/step - loss: 0.6659 - accuracy: 0.5785\n",
      "Epoch 3/15\n",
      "156/156 [==============================] - 10s 61ms/step - loss: 0.6545 - accuracy: 0.5964\n",
      "Epoch 4/15\n",
      "156/156 [==============================] - 10s 61ms/step - loss: 0.6518 - accuracy: 0.5990\n",
      "Epoch 5/15\n",
      "156/156 [==============================] - 10s 63ms/step - loss: 0.6501 - accuracy: 0.5981\n",
      "Epoch 6/15\n",
      "156/156 [==============================] - 10s 63ms/step - loss: 0.6489 - accuracy: 0.6009\n",
      "Epoch 7/15\n",
      "156/156 [==============================] - 10s 63ms/step - loss: 0.6474 - accuracy: 0.6013\n",
      "Epoch 8/15\n",
      "156/156 [==============================] - 9s 60ms/step - loss: 0.6462 - accuracy: 0.6027\n",
      "Epoch 9/15\n",
      "156/156 [==============================] - 9s 59ms/step - loss: 0.6452 - accuracy: 0.6042\n",
      "Epoch 10/15\n",
      "156/156 [==============================] - 10s 61ms/step - loss: 0.6449 - accuracy: 0.6029\n",
      "Epoch 11/15\n",
      "156/156 [==============================] - 9s 60ms/step - loss: 0.6443 - accuracy: 0.6035\n",
      "Epoch 12/15\n",
      "156/156 [==============================] - 10s 64ms/step - loss: 0.6438 - accuracy: 0.6042\n",
      "Epoch 13/15\n",
      "156/156 [==============================] - 11s 68ms/step - loss: 0.6433 - accuracy: 0.6035\n",
      "Epoch 14/15\n",
      "156/156 [==============================] - 13s 86ms/step - loss: 0.6430 - accuracy: 0.6054\n",
      "Epoch 15/15\n",
      "156/156 [==============================] - 12s 78ms/step - loss: 0.6427 - accuracy: 0.6034\n"
     ]
    }
   ],
   "source": [
    "run = wandb.init(project=\"binary_precalculus_simple\", reinit=True)\n",
    "wandb.config = {\n",
    "    \"learning_rate\": 1e-4,\n",
    "    \"optimizer\": \"adam\",\n",
    "    \"epochs\": 15,\n",
    "    \"batch_size\": 64,\n",
    "    \"vectorizer\": \"tf_idf\"\n",
    "}\n",
    "\n",
    "history = model.fit(train_dataset, epochs=15,\n",
    "                    validation_data=test_dataset,\n",
    "                    validation_steps=30,callbacks= [WandbCallback()])#[tensorboard_callback])\n",
    "run.finish()"
   ]
  },
  {
   "cell_type": "code",
   "execution_count": 51,
   "metadata": {},
   "outputs": [
    {
     "name": "stdout",
     "output_type": "stream",
     "text": [
      "16/16 [==============================] - 0s 19ms/step - loss: 0.7419 - accuracy: 0.1720\n",
      "Test Loss: 0.7419498562812805\n",
      "Test Accuracy: 0.1720000058412552\n"
     ]
    }
   ],
   "source": [
    "test_loss, test_acc = model.evaluate(test_dataset)\n",
    "\n",
    "print(\"Test Loss:\", test_loss)\n",
    "print(\"Test Accuracy:\", test_acc)"
   ]
  },
  {
   "cell_type": "code",
   "execution_count": 52,
   "metadata": {},
   "outputs": [
    {
     "data": {
      "text/plain": [
       "(0.0, 0.7302557349205017)"
      ]
     },
     "execution_count": 52,
     "metadata": {},
     "output_type": "execute_result"
    },
    {
     "data": {
      "image/png": "[encoded data removed]",
      "text/plain": [
       "<Figure size 1600x800 with 2 Axes>"
      ]
     },
     "metadata": {},
     "output_type": "display_data"
    }
   ],
   "source": [
    "plt.figure(figsize=(16,8))\n",
    "plt.subplot(1,2,1)\n",
    "plot_graphs(history, \"accuracy\")\n",
    "plt.ylim(None, 1)\n",
    "plt.subplot(1,2,2)\n",
    "plot_graphs(history, \"loss\")\n",
    "plt.ylim(0, None)"
   ]
  },
  {
   "cell_type": "code",
   "execution_count": 53,
   "metadata": {},
   "outputs": [
    {
     "name": "stdout",
     "output_type": "stream",
     "text": [
      "1/1 [==============================] - 2s 2s/step\n",
      "[1.1033678]\n"
     ]
    }
   ],
   "source": [
    "# predict on a sample text without padding\n",
    "sample_text = (\"g ( x ) = x ^ 3\")\n",
    "predictions = model.predict(np.array([sample_text]))\n",
    "print(predictions[0])"
   ]
  }
 ],
 "metadata": {
  "kernelspec": {
   "display_name": "sem_mcl_env",
   "language": "python",
   "name": "python3"
  },
  "language_info": {
   "codemirror_mode": {
    "name": "ipython",
    "version": 3
   },
   "file_extension": ".py",
   "mimetype": "text/x-python",
   "name": "python",
   "nbconvert_exporter": "python",
   "pygments_lexer": "ipython3",
   "version": "3.10.9 (main, Dec  7 2022, 01:12:00) [GCC 9.4.0]"
  },
  "orig_nbformat": 4,
  "vscode": {
   "interpreter": {
    "hash": "49c979912008fc9cee6a8a0fe8e496b4e7f16ac3431feab7a86d9ffbfac4b4cd"
   }
  }
 },
 "nbformat": 4,
 "nbformat_minor": 2
}
